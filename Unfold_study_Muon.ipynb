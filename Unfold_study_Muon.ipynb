{
 "cells": [
  {
   "cell_type": "code",
   "execution_count": 1,
   "metadata": {},
   "outputs": [
    {
     "name": "stdout",
     "output_type": "stream",
     "text": [
      "Welcome to JupyROOT 6.14/04\n"
     ]
    }
   ],
   "source": [
    "import ROOT as rt\n",
    "import os\n",
    "import sys"
   ]
  },
  {
   "cell_type": "code",
   "execution_count": 2,
   "metadata": {},
   "outputs": [
    {
     "data": {
      "text/html": [
       "<style>.container { width:100% !important; }</style>"
      ],
      "text/plain": [
       "<IPython.core.display.HTML object>"
      ]
     },
     "metadata": {},
     "output_type": "display_data"
    }
   ],
   "source": [
    "from IPython.core.display import display, HTML\n",
    "display(HTML(\"<style>.container { width:100% !important; }</style>\"))"
   ]
  },
  {
   "cell_type": "code",
   "execution_count": 3,
   "metadata": {},
   "outputs": [],
   "source": [
    "def setUnfoldBkgs(unfold_class, hfile_path, isSys, syst_name, nthSys, nTotSys, year):\n",
    "    \n",
    "    #bkgList = {\"WJets_MG\": \"WJets\", \\\n",
    "    #           \"WW_pythia\": \"EWK\", \"WZ_pythia\": \"EWK\", \"ZZ_pythia\": \"EWK\", \\\n",
    "    #           \"DYJets10to50ToTauTau\":\"EWK\", \"DYJetsToTauTau\":\"EWK\", \\\n",
    "    #           \"TTLL_powheg\": \"Top\", \"SingleTop_tW_top_Incl\": \"Top\", \"SingleTop_tW_antitop_Incl\": \"Top\"}\n",
    "    \n",
    "    bkgList = {\"WJets_MG\": \"WJets\", \\\n",
    "               \"WW_pythia\": \"EWK\", \"WZ_pythia\": \"EWK\", \"ZZ_pythia\": \"EWK\", \\\n",
    "               \"DYJets10to50ToTauTau\":\"EWK\", \"DYJetsToTauTau\":\"EWK\", \\\n",
    "               \"TTLL_powheg\": \"Top\"}\n",
    "    \n",
    "    for bkg in bkgList.items():\n",
    "        unfold_class.subBkgs(hfile_path, bkg, isSys, syst_name, nTotSys, nthSys, \"Detector\")"
   ]
  },
  {
   "cell_type": "code",
   "execution_count": 4,
   "metadata": {},
   "outputs": [
    {
     "name": "stdout",
     "output_type": "stream",
     "text": [
      "{'matrix': 'inFiles/2018/muon/DY_new.root', 'fsr_matrix': 'inFiles/2018/muon/DY_FSR_new.root', 'hist': 'inFiles/2018/muon/unfold_input_Muon_new.root'}\n"
     ]
    }
   ],
   "source": [
    "year    = '2018'\n",
    "channel = 'muon'\n",
    "doSys   = True\n",
    "\n",
    "dy10to50Name = \"DYJets10to50_MG\"\n",
    "if year == \"2016\":\n",
    "    dy10to50Name = \"DYJets10to50\"\n",
    "    \n",
    "# N_rec == N_gen or N_rec == 2 * N_gen\n",
    "# Detector_Dressed_DRp1_Fiducial\n",
    "# Dressed_DRp1_Dressed_DR4PI_Fiducial\n",
    "# Dressed_DRp1_Dressed_DR4PI_FullPhase\n",
    "# Detector_Dressed_DR4PI_Fiducial\n",
    "# Detector_Dressed_DR4PI_FullPhase\n",
    "\n",
    "matrix_detector = 'Detector_Dressed_DRp1_Fiducial' \n",
    "matrix_detector_ = 'Detector_Dressed_DRp1' \n",
    "matrix_fsr = 'Dressed_DRp1_Dressed_DR4PI_FullPhase'\n",
    "matrix_fsr_ = 'Dressed_DRp1_Dressed_DR4PI'\n",
    "\n",
    "matrix_det_fsr = 'Detector_Dressed_DR4PI_FullPhase'\n",
    "matrix_det_fsr_ = 'Detector_Dressed_DR4PI'\n",
    "\n",
    "# Set output directory\n",
    "outDir = 'output/'+year+'/new_'+channel+'/'\n",
    "inFhistTxt = 'inFiles/'+year+'/'+channel+'/fhist.txt'\n",
    "\n",
    "# Make output directory\n",
    "if not os.path.exists(outDir):\n",
    "    os.makedirs(outDir)\n",
    "\n",
    "# Read text file including root file path and for unfolding\n",
    "filePaths = open(inFhistTxt, 'r')\n",
    "unfoldInputDic = {}\n",
    "\n",
    "for path in filePaths:\n",
    "    modifiedPath = path.lstrip(' ').rstrip(' ').rstrip('\\n')\n",
    "    unfoldInputDic[modifiedPath.split()[1]] = modifiedPath.split()[2]\n",
    "    \n",
    "print(unfoldInputDic)"
   ]
  },
  {
   "cell_type": "code",
   "execution_count": 5,
   "metadata": {},
   "outputs": [],
   "source": [
    "import pyScripts.unfoldUtil as unfoldutil\n",
    "\n",
    "# Simple unfolding tests\n",
    "# Unfolding without systematics\n",
    "# Closure tests"
   ]
  },
  {
   "cell_type": "code",
   "execution_count": 6,
   "metadata": {},
   "outputs": [
    {
     "name": "stdout",
     "output_type": "stream",
     "text": [
      "ISRUnfold set!\n",
      "ISRUnfold set!\n",
      "ISRUnfold set!\n",
      "ISRUnfold set!\n"
     ]
    }
   ],
   "source": [
    "bias = 1.0\n",
    "\n",
    "# Create ISRUnfold class\n",
    "#                                             # unfold mode  \n",
    "unfold_det = rt.ISRUnfold(channel, int(year), int(0))\n",
    "unfold_det.setOutputBaseDir(outDir)\n",
    "unfold_det.setBias(bias)\n",
    "\n",
    "unfold_fsr = rt.ISRUnfold(channel, int(year), int(0))\n",
    "unfold_fsr.setOutputBaseDir(outDir)\n",
    "unfold_fsr.setBias(bias)\n",
    "\n",
    "# To test one-step unfolding result\n",
    "unfold_oneStep = rt.ISRUnfold(channel, int(year), int(0))\n",
    "unfold_oneStep.setOutputBaseDir(outDir)\n",
    "unfold_oneStep.setBias(bias)\n",
    "\n",
    "# Closure\n",
    "unfold_closure = rt.ISRUnfold(channel, int(year), int(0))\n",
    "unfold_closure.setOutputBaseDir(outDir)\n",
    "unfold_closure.setBias(bias)"
   ]
  },
  {
   "cell_type": "code",
   "execution_count": 7,
   "metadata": {
    "scrolled": false
   },
   "outputs": [
    {
     "name": "stdout",
     "output_type": "stream",
     "text": [
      "ISRUnfold::setNomResMatrix set response matrix...\n",
      "0 th mass bin edge: 15\n",
      "1 th mass bin edge: 40\n",
      "2 th mass bin edge: 60\n",
      "3 th mass bin edge: 81\n",
      "4 th mass bin edge: 101\n",
      "5 th mass bin edge: 200\n",
      "6 th mass bin edge: 320\n"
     ]
    },
    {
     "name": "stderr",
     "output_type": "stream",
     "text": [
      "Info in <TUnfoldV17::SetConstraint>: fConstraint=1\n",
      "Warning in <TUnfoldV17::TUnfold>: 6 output bins do not depend on the input data  0-4 81\n",
      "Info in <TUnfoldV17::TUnfold>: 80 input bins and 76 output bins\n",
      "Info in <TUnfoldDensityV17::TUnfold>: *NOT* unfolding bin #0\n",
      "Info in <TUnfoldDensityV17::TUnfold>: *NOT* unfolding bin #1 (Gen_Pt:mass[ufl]:pt[0,4])\n",
      "Info in <TUnfoldDensityV17::TUnfold>: *NOT* unfolding bin #2 (Gen_Pt:mass[ufl]:pt[4,8])\n",
      "Info in <TUnfoldDensityV17::TUnfold>: *NOT* unfolding bin #3 (Gen_Pt:mass[ufl]:pt[8,12])\n",
      "Info in <TUnfoldDensityV17::TUnfold>: *NOT* unfolding bin #4 (Gen_Pt:mass[ufl]:pt[12,18])\n",
      "Info in <TUnfoldDensityV17::TUnfold>: *NOT* unfolding bin #81\n"
     ]
    }
   ],
   "source": [
    "# Set response matrix: detector unfolding\n",
    "unfold_det.setNomResMatrix(\"Pt\", unfoldInputDic['matrix'], matrix_detector, matrix_detector_)"
   ]
  },
  {
   "cell_type": "code",
   "execution_count": 8,
   "metadata": {
    "scrolled": true
   },
   "outputs": [
    {
     "name": "stdout",
     "output_type": "stream",
     "text": [
      "ISRUnfold::setNomResMatrix set response matrix...\n",
      "ISRUnfold::setMassBindEdges massBinEdges already set.\n"
     ]
    },
    {
     "name": "stderr",
     "output_type": "stream",
     "text": [
      "Info in <TUnfoldV17::SetConstraint>: fConstraint=1\n",
      "Info in <TUnfoldV17::TUnfold>: underflow and overflow bin do not depend on the input data\n",
      "Info in <TUnfoldV17::TUnfold>: 86 input bins and 86 output bins\n",
      "Warning in <TUnfoldV17::TUnfold>: too few (ny=86) input bins for nx=86 output bins\n",
      "Info in <TUnfoldDensityV17::TUnfold>: *NOT* unfolding bin #0\n",
      "Info in <TUnfoldDensityV17::TUnfold>: *NOT* unfolding bin #87\n"
     ]
    }
   ],
   "source": [
    "unfold_det.setNomResMatrix(\"Mass\", unfoldInputDic['matrix'], matrix_detector, matrix_detector_)"
   ]
  },
  {
   "cell_type": "code",
   "execution_count": 9,
   "metadata": {
    "scrolled": false
   },
   "outputs": [
    {
     "name": "stdout",
     "output_type": "stream",
     "text": [
      "ISRUnfold::setNomResMatrix set response matrix...\n",
      "0 th mass bin edge: 15\n",
      "1 th mass bin edge: 40\n",
      "2 th mass bin edge: 60\n",
      "3 th mass bin edge: 81\n",
      "4 th mass bin edge: 101\n",
      "5 th mass bin edge: 200\n",
      "6 th mass bin edge: 320\n",
      "ISRUnfold::setNomResMatrix set response matrix...\n",
      "ISRUnfold::setMassBindEdges massBinEdges already set.\n"
     ]
    },
    {
     "name": "stderr",
     "output_type": "stream",
     "text": [
      "Info in <TUnfoldV17::SetConstraint>: fConstraint=1\n",
      "Info in <TUnfoldV17::TUnfold>: underflow and overflow bin do not depend on the input data\n",
      "Info in <TUnfoldV17::TUnfold>: 80 input bins and 80 output bins\n",
      "Warning in <TUnfoldV17::TUnfold>: too few (ny=80) input bins for nx=80 output bins\n",
      "Info in <TUnfoldDensityV17::TUnfold>: *NOT* unfolding bin #0\n",
      "Info in <TUnfoldDensityV17::TUnfold>: *NOT* unfolding bin #81\n",
      "Info in <TUnfoldV17::SetConstraint>: fConstraint=1\n",
      "Info in <TUnfoldV17::TUnfold>: underflow and overflow bin do not depend on the input data\n",
      "Info in <TUnfoldV17::TUnfold>: 86 input bins and 86 output bins\n",
      "Warning in <TUnfoldV17::TUnfold>: too few (ny=86) input bins for nx=86 output bins\n",
      "Info in <TUnfoldDensityV17::TUnfold>: *NOT* unfolding bin #0\n",
      "Info in <TUnfoldDensityV17::TUnfold>: *NOT* unfolding bin #87\n"
     ]
    }
   ],
   "source": [
    "# One step unfolding\n",
    "unfold_oneStep.setNomResMatrix(\"Pt\", unfoldInputDic['matrix'], matrix_det_fsr, matrix_det_fsr_)\n",
    "unfold_oneStep.setNomResMatrix(\"Mass\", unfoldInputDic['matrix'], matrix_det_fsr, matrix_det_fsr_)"
   ]
  },
  {
   "cell_type": "code",
   "execution_count": 10,
   "metadata": {},
   "outputs": [
    {
     "name": "stdout",
     "output_type": "stream",
     "text": [
      "ISRUnfold::setNomResMatrix set response matrix...\n",
      "0 th mass bin edge: 15\n",
      "1 th mass bin edge: 40\n",
      "2 th mass bin edge: 60\n",
      "3 th mass bin edge: 81\n",
      "4 th mass bin edge: 101\n",
      "5 th mass bin edge: 200\n",
      "6 th mass bin edge: 320\n",
      "ISRUnfold::setNomResMatrix set response matrix...\n",
      "ISRUnfold::setMassBindEdges massBinEdges already set.\n"
     ]
    },
    {
     "name": "stderr",
     "output_type": "stream",
     "text": [
      "Info in <TUnfoldV17::SetConstraint>: fConstraint=1\n",
      "Warning in <TUnfoldV17::TUnfold>: 6 output bins do not depend on the input data  0-4 81\n",
      "Info in <TUnfoldV17::TUnfold>: 80 input bins and 76 output bins\n",
      "Info in <TUnfoldDensityV17::TUnfold>: *NOT* unfolding bin #0\n",
      "Info in <TUnfoldDensityV17::TUnfold>: *NOT* unfolding bin #1 (Gen_Pt:mass[ufl]:pt[0,4])\n",
      "Info in <TUnfoldDensityV17::TUnfold>: *NOT* unfolding bin #2 (Gen_Pt:mass[ufl]:pt[4,8])\n",
      "Info in <TUnfoldDensityV17::TUnfold>: *NOT* unfolding bin #3 (Gen_Pt:mass[ufl]:pt[8,12])\n",
      "Info in <TUnfoldDensityV17::TUnfold>: *NOT* unfolding bin #4 (Gen_Pt:mass[ufl]:pt[12,18])\n",
      "Info in <TUnfoldDensityV17::TUnfold>: *NOT* unfolding bin #81\n",
      "Info in <TUnfoldV17::SetConstraint>: fConstraint=1\n",
      "Info in <TUnfoldV17::TUnfold>: underflow and overflow bin do not depend on the input data\n",
      "Info in <TUnfoldV17::TUnfold>: 86 input bins and 86 output bins\n",
      "Warning in <TUnfoldV17::TUnfold>: too few (ny=86) input bins for nx=86 output bins\n",
      "Info in <TUnfoldDensityV17::TUnfold>: *NOT* unfolding bin #0\n",
      "Info in <TUnfoldDensityV17::TUnfold>: *NOT* unfolding bin #87\n"
     ]
    }
   ],
   "source": [
    "unfold_closure.setNomResMatrix(\"Pt\", unfoldInputDic['matrix'], matrix_detector, matrix_detector_)\n",
    "unfold_closure.setNomResMatrix(\"Mass\", unfoldInputDic['matrix'], matrix_detector, matrix_detector_)"
   ]
  },
  {
   "cell_type": "code",
   "execution_count": 11,
   "metadata": {},
   "outputs": [
    {
     "name": "stdout",
     "output_type": "stream",
     "text": [
      "ISRUnfold::setNomResMatrix set response matrix...\n",
      "0 th mass bin edge: 15\n",
      "1 th mass bin edge: 40\n",
      "2 th mass bin edge: 60\n",
      "3 th mass bin edge: 81\n",
      "4 th mass bin edge: 101\n",
      "5 th mass bin edge: 200\n",
      "6 th mass bin edge: 320\n",
      "ISRUnfold::setNomResMatrix set response matrix...\n",
      "ISRUnfold::setMassBindEdges massBinEdges already set.\n"
     ]
    },
    {
     "name": "stderr",
     "output_type": "stream",
     "text": [
      "Info in <TUnfoldV17::SetConstraint>: fConstraint=1\n",
      "Warning in <TUnfoldV17::TUnfold>: 6 output bins do not depend on the input data  0-4 81\n",
      "Info in <TUnfoldV17::TUnfold>: 80 input bins and 76 output bins\n",
      "Info in <TUnfoldDensityV17::TUnfold>: *NOT* unfolding bin #0\n",
      "Info in <TUnfoldDensityV17::TUnfold>: *NOT* unfolding bin #1 (Gen_Pt:mass[ufl]:pt[0,4])\n",
      "Info in <TUnfoldDensityV17::TUnfold>: *NOT* unfolding bin #2 (Gen_Pt:mass[ufl]:pt[4,8])\n",
      "Info in <TUnfoldDensityV17::TUnfold>: *NOT* unfolding bin #3 (Gen_Pt:mass[ufl]:pt[8,12])\n",
      "Info in <TUnfoldDensityV17::TUnfold>: *NOT* unfolding bin #4 (Gen_Pt:mass[ufl]:pt[12,18])\n",
      "Info in <TUnfoldDensityV17::TUnfold>: *NOT* unfolding bin #81\n",
      "Info in <TUnfoldV17::SetConstraint>: fConstraint=1\n",
      "Info in <TUnfoldV17::TUnfold>: underflow and overflow bin do not depend on the input data\n",
      "Info in <TUnfoldV17::TUnfold>: 86 input bins and 86 output bins\n",
      "Warning in <TUnfoldV17::TUnfold>: too few (ny=86) input bins for nx=86 output bins\n",
      "Info in <TUnfoldDensityV17::TUnfold>: *NOT* unfolding bin #0\n",
      "Info in <TUnfoldDensityV17::TUnfold>: *NOT* unfolding bin #87\n"
     ]
    }
   ],
   "source": [
    "# Set FSR unfolding\n",
    "unfold_fsr.setNomResMatrix(\"Pt\", unfoldInputDic['fsr_matrix'], matrix_fsr, matrix_fsr_, True)\n",
    "unfold_fsr.setNomResMatrix(\"Mass\", unfoldInputDic['fsr_matrix'], matrix_fsr, matrix_fsr_, True)"
   ]
  },
  {
   "cell_type": "code",
   "execution_count": 12,
   "metadata": {},
   "outputs": [],
   "source": [
    "%jsroot on"
   ]
  },
  {
   "cell_type": "code",
   "execution_count": 13,
   "metadata": {
    "scrolled": true
   },
   "outputs": [
    {
     "name": "stderr",
     "output_type": "stream",
     "text": [
      "Warning in <TUnfoldDensityV17::SetInput>: 4/80 input bins have zero error, and are ignored.\n",
      "Warning in <TUnfoldDensityV17::SetInput>: 4/80 input bins have zero error, and are ignored.\n",
      "Warning in <TUnfoldDensityV17::SetInput>: 4/80 input bins have zero error, and are ignored.\n"
     ]
    }
   ],
   "source": [
    "dataHistName = \"histo_DoubleMuonnominal\"\n",
    "dyHistName = \"histo_DYJetsToMuMunominal\"\n",
    "\n",
    "unfold_det.setUnfInput(\"Pt\",   unfoldInputDic['hist'], \"Detector\", dataHistName, False, \"nominal\", 0)\n",
    "unfold_det.setUnfInput(\"Mass\", unfoldInputDic['hist'], \"Detector\", dataHistName, False, \"nominal\", 0)\n",
    "setUnfoldBkgs(unfold_det, unfoldInputDic['hist'], False, \"nominal\", 0, -1, year)\n",
    "\n",
    "unfold_oneStep.setUnfInput(\"Pt\",   unfoldInputDic['hist'], \"Detector\", dataHistName, False, \"nominal\", 0)\n",
    "unfold_oneStep.setUnfInput(\"Mass\", unfoldInputDic['hist'], \"Detector\", dataHistName, False, \"nominal\", 0)\n",
    "setUnfoldBkgs(unfold_oneStep, unfoldInputDic['hist'], False, \"nominal\", 0, -1, year)\n",
    "\n",
    "unfold_closure.setUnfInput(\"Pt\",   unfoldInputDic['hist'], \"Detector\", dyHistName, False, \"nominal\", 0)\n",
    "unfold_closure.setUnfInput(\"Mass\", unfoldInputDic['hist'], \"Detector\", dyHistName, False, \"nominal\", 0)"
   ]
  },
  {
   "cell_type": "code",
   "execution_count": 14,
   "metadata": {},
   "outputs": [],
   "source": [
    "fakeList = {\"DYJets\": \"DY\", dy10to50Name:\"DY\"}"
   ]
  },
  {
   "cell_type": "code",
   "execution_count": 15,
   "metadata": {},
   "outputs": [],
   "source": [
    "for fake in fakeList.items():\n",
    "    unfold_closure.subBkgs(unfoldInputDic['matrix'], fake, False, \"\", 0, -1, \"detector_level_DY_Fake\")\n",
    "    unfold_det.subBkgs(unfoldInputDic['matrix'], fake, False, \"\", 0, -1, \"detector_level_DY_Fake\")"
   ]
  },
  {
   "cell_type": "markdown",
   "metadata": {},
   "source": [
    "## Check Fake DY events"
   ]
  },
  {
   "cell_type": "code",
   "execution_count": 16,
   "metadata": {},
   "outputs": [
    {
     "data": {
      "text/plain": [
       "True"
      ]
     },
     "execution_count": 16,
     "metadata": {},
     "output_type": "execute_result"
    }
   ],
   "source": [
    "mass_steering = \"mass[UO];pt[UOC0]\"\n",
    "mass_useAxis = True\n",
    "\n",
    "hDYMC_detector_ = unfold_det.getRawHist(\"Mass\", unfoldInputDic['hist'], \"Detector\", dyHistName, \\\n",
    "                                        \"hDYMC_detector_\", mass_steering, mass_useAxis)\n",
    "\n",
    "hFakeDYMC_detector_ = unfold_det.getRawHist(\"Mass\", unfoldInputDic['matrix'], \"detector_level_DY_Fake\", \"histo_DYJetsnominal\", \\\n",
    "                                        \"hFakeDYMC_detector_\", mass_steering, mass_useAxis)\n",
    "hFakeDY10to50MC_detector_ = unfold_det.getRawHist(\"Mass\", unfoldInputDic['matrix'], \"detector_level_DY_Fake\", \"histo_\"+dy10to50Name+\"nominal\", \\\n",
    "                                        \"hFakeDY10to50MC_detector_\", mass_steering, mass_useAxis)\n",
    "hFakeDYMC_detector_.Add(hFakeDY10to50MC_detector_)"
   ]
  },
  {
   "cell_type": "code",
   "execution_count": 17,
   "metadata": {},
   "outputs": [],
   "source": [
    "# Draw plot!\n",
    "c_ = rt.TCanvas(\"c_\",\"c_\", 800, 600)\n",
    "\n",
    "pad_mass_ = rt.TPad(\"pad_mass_\", \"pad_mass_\", 0, 0.3, 1, 1.0)\n",
    "ratio_mass_ = rt.TPad(\"ratio_mass_\", \"raio_mass_\", 0, 0.0, 1, 0.3)\n",
    "c_.cd()\n",
    "pad_mass_.Draw()\n",
    "c_.cd()\n",
    "ratio_mass_.Draw()\n"
   ]
  },
  {
   "cell_type": "code",
   "execution_count": 18,
   "metadata": {},
   "outputs": [
    {
     "data": {
      "text/html": [
       "\n",
       "<div id=\"root_plot_1\"\n",
       "     style=\"width: 796px; height: 572px\">\n",
       "</div>\n",
       "\n",
       "<script>\n",
       " requirejs.config({\n",
       "     paths: {\n",
       "       'JSRootCore' : 'https://root.cern.ch/js/notebook//scripts/JSRootCore',\n",
       "     }\n",
       "   });\n",
       " require(['JSRootCore'],\n",
       "     function(Core) {\n",
       "       var obj = Core.JSONR_unref({\"_typename\":\"TCanvas\",\"fUniqueID\":0,\"fBits\":53673992,\"fLineColor\":1,\"fLineStyle\":1,\"fLineWidth\":1,\"fFillColor\":0,\"fFillStyle\":1001,\"fLeftMargin\":0.1,\"fRightMargin\":0.1,\"fBottomMargin\":0.1,\"fTopMargin\":0.1,\"fXfile\":2,\"fYfile\":2,\"fAfile\":1,\"fXstat\":0.99,\"fYstat\":0.99,\"fAstat\":2,\"fFrameFillColor\":0,\"fFrameLineColor\":1,\"fFrameFillStyle\":1001,\"fFrameLineStyle\":1,\"fFrameLineWidth\":1,\"fFrameBorderSize\":1,\"fFrameBorderMode\":0,\"fX1\":0,\"fY1\":0,\"fX2\":1,\"fY2\":1,\"fXtoAbsPixelk\":5e-5,\"fXtoPixelk\":5e-5,\"fXtoPixel\":796,\"fYtoAbsPixelk\":572.00005,\"fYtoPixelk\":572.00005,\"fYtoPixel\":-572,\"fUtoAbsPixelk\":5e-5,\"fUtoPixelk\":5e-5,\"fUtoPixel\":796,\"fVtoAbsPixelk\":572.00005,\"fVtoPixelk\":572,\"fVtoPixel\":-572,\"fAbsPixeltoXk\":0,\"fPixeltoXk\":0,\"fPixeltoX\":0.00125628140703518,\"fAbsPixeltoYk\":1,\"fPixeltoYk\":0,\"fPixeltoY\":-0.00174825174825175,\"fXlowNDC\":0,\"fYlowNDC\":0,\"fXUpNDC\":0,\"fYUpNDC\":0,\"fWNDC\":1,\"fHNDC\":1,\"fAbsXlowNDC\":0,\"fAbsYlowNDC\":0,\"fAbsWNDC\":1,\"fAbsHNDC\":1,\"fUxmin\":0,\"fUymin\":0,\"fUxmax\":1,\"fUymax\":1,\"fTheta\":30,\"fPhi\":30,\"fAspectRatio\":0,\"fNumber\":0,\"fTickx\":0,\"fTicky\":0,\"fLogx\":0,\"fLogy\":0,\"fLogz\":0,\"fPadPaint\":0,\"fCrosshair\":0,\"fCrosshairPos\":0,\"fBorderSize\":2,\"fBorderMode\":0,\"fModified\":false,\"fGridx\":false,\"fGridy\":false,\"fAbsCoord\":false,\"fEditable\":true,\"fFixedAspectRatio\":false,\"fPrimitives\":{\"_typename\":\"TList\",\"name\":\"TList\",\"arr\":[{\"_typename\":\"TPad\",\"fUniqueID\":0,\"fBits\":50331657,\"fLineColor\":1,\"fLineStyle\":1,\"fLineWidth\":1,\"fFillColor\":0,\"fFillStyle\":1001,\"fLeftMargin\":0.1,\"fRightMargin\":0.1,\"fBottomMargin\":0.1,\"fTopMargin\":0.1,\"fXfile\":2,\"fYfile\":2,\"fAfile\":1,\"fXstat\":0.99,\"fYstat\":0.99,\"fAstat\":2,\"fFrameFillColor\":0,\"fFrameLineColor\":1,\"fFrameFillStyle\":1001,\"fFrameLineStyle\":1,\"fFrameLineWidth\":1,\"fFrameBorderSize\":1,\"fFrameBorderMode\":0,\"fX1\":0.948102649451167,\"fY1\":-3.1822854365553,\"fX2\":3.22798860960451,\"fY2\":8.64056822430071,\"fXtoAbsPixelk\":-331.020765143038,\"fXtoPixelk\":-331.020765143038,\"fXtoPixel\":349.140270132836,\"fYtoAbsPixelk\":292.626823218431,\"fYtoPixelk\":292.626823218431,\"fYtoPixel\":-33.8666121974997,\"fUtoAbsPixelk\":5e-5,\"fUtoPixelk\":5e-5,\"fUtoPixel\":796,\"fVtoAbsPixelk\":400.40005,\"fVtoPixelk\":400.4,\"fVtoPixel\":-400.4,\"fAbsPixeltoXk\":0.948102649451167,\"fPixeltoXk\":0.948102649451167,\"fPixeltoX\":0.00286417834190119,\"fAbsPixeltoYk\":8.64056822430071,\"fPixeltoYk\":-3.1822854365553,\"fPixeltoY\":-0.0295276065455944,\"fXlowNDC\":0,\"fYlowNDC\":0.3,\"fXUpNDC\":0,\"fYUpNDC\":0,\"fWNDC\":1,\"fHNDC\":0.7,\"fAbsXlowNDC\":0,\"fAbsYlowNDC\":0.3,\"fAbsWNDC\":1,\"fAbsHNDC\":0.7,\"fUxmin\":1.17609125905568,\"fUymin\":-2,\"fUxmax\":3,\"fUymax\":7.45828278774541,\"fTheta\":30,\"fPhi\":30,\"fAspectRatio\":0,\"fNumber\":0,\"fTickx\":0,\"fTicky\":0,\"fLogx\":1,\"fLogy\":1,\"fLogz\":0,\"fPadPaint\":0,\"fCrosshair\":0,\"fCrosshairPos\":0,\"fBorderSize\":2,\"fBorderMode\":0,\"fModified\":false,\"fGridx\":false,\"fGridy\":false,\"fAbsCoord\":false,\"fEditable\":true,\"fFixedAspectRatio\":false,\"fPrimitives\":{\"_typename\":\"TList\",\"name\":\"TList\",\"arr\":[{\"_typename\":\"TFrame\",\"fUniqueID\":0,\"fBits\":50331656,\"fLineColor\":1,\"fLineStyle\":1,\"fLineWidth\":1,\"fFillColor\":0,\"fFillStyle\":1001,\"fX1\":1.17609125905568,\"fY1\":-2,\"fX2\":3,\"fY2\":7.45828278774541,\"fBorderSize\":1,\"fBorderMode\":0},{\"_typename\":\"TH1D\",\"fUniqueID\":0,\"fBits\":50331656,\"fName\":\"hDYMC_detector_\",\"fTitle\":\"hDYMC_detector_\",\"fLineColor\":602,\"fLineStyle\":1,\"fLineWidth\":1,\"fFillColor\":402,\"fFillStyle\":1001,\"fMarkerColor\":1,\"fMarkerStyle\":1,\"fMarkerSize\":1,\"fNcells\":43,\"fXaxis\":{\"_typename\":\"TAxis\",\"fUniqueID\":0,\"fBits\":50331648,\"fName\":\"xaxis\",\"fTitle\":\"mass\",\"fNdivisions\":510,\"fAxisColor\":1,\"fLabelColor\":1,\"fLabelFont\":42,\"fLabelOffset\":0.005,\"fLabelSize\":0.035,\"fTickLength\":0.03,\"fTitleOffset\":1,\"fTitleSize\":0.035,\"fTitleColor\":1,\"fTitleFont\":42,\"fNbins\":41,\"fXmin\":15,\"fXmax\":1000,\"fXbins\":[15,20,25,30,35,40,45,50,55,60,64,68,72,76,81,86,91,96,101,106,110,115,120,126,133,141,150,160,171,185,200,220,243,273,320,380,440,510,600,700,830,1000],\"fFirst\":0,\"fLast\":0,\"fBits2\":0,\"fTimeDisplay\":false,\"fTimeFormat\":\"\",\"fLabels\":null,\"fModLabs\":null},\"fYaxis\":{\"_typename\":\"TAxis\",\"fUniqueID\":0,\"fBits\":50331648,\"fName\":\"yaxis\",\"fTitle\":\"\",\"fNdivisions\":510,\"fAxisColor\":1,\"fLabelColor\":1,\"fLabelFont\":42,\"fLabelOffset\":0.005,\"fLabelSize\":0.035,\"fTickLength\":0.03,\"fTitleOffset\":0,\"fTitleSize\":0.035,\"fTitleColor\":1,\"fTitleFont\":42,\"fNbins\":1,\"fXmin\":0,\"fXmax\":1,\"fXbins\":[],\"fFirst\":0,\"fLast\":0,\"fBits2\":0,\"fTimeDisplay\":false,\"fTimeFormat\":\"\",\"fLabels\":null,\"fModLabs\":null},\"fZaxis\":{\"_typename\":\"TAxis\",\"fUniqueID\":0,\"fBits\":50331648,\"fName\":\"zaxis\",\"fTitle\":\"\",\"fNdivisions\":510,\"fAxisColor\":1,\"fLabelColor\":1,\"fLabelFont\":42,\"fLabelOffset\":0.005,\"fLabelSize\":0.035,\"fTickLength\":0.03,\"fTitleOffset\":1,\"fTitleSize\":0.035,\"fTitleColor\":1,\"fTitleFont\":42,\"fNbins\":1,\"fXmin\":0,\"fXmax\":1,\"fXbins\":[],\"fFirst\":0,\"fLast\":0,\"fBits2\":0,\"fTimeDisplay\":false,\"fTimeFormat\":\"\",\"fLabels\":null,\"fModLabs\":null},\"fBarOffset\":0,\"fBarWidth\":1000,\"fEntries\":41,\"fTsumw\":0,\"fTsumw2\":0,\"fTsumwx\":0,\"fTsumwx2\":0,\"fMaximum\":-1111,\"fMinimum\":0.01,\"fNormFactor\":0,\"fContour\":[],\"fSumw2\":[0,4467628.30190598,3813578.39360275,3909379.59033616,6380960.86535173,10101890.2622957,12378472.1728871,10230082.0225509,1950085.17924936,1444298.9625824,1157182.81532239,1281224.99156192,1586498.83393147,2031339.27739151,4233289.82544843,10751111.641836,63087024.3981963,62477323.4021163,7085069.46007267,2174935.2898378,922426.590915484,730546.552862687,487796.602257212,404397.121728298,336627.921124953,271828.743235966,220930.498456301,176118.264350306,141840.001112453,126053.985028794,94657.1068312359,85915.6394303034,63620.5308818425,53911.0796806152,49806.2117782723,29410.2678221305,14460.9698249147,9292.50139448705,6114.44138380883,2902.96546138657,1841.07241659377,898.637268585752,0],\"fOption\":\"\",\"fFunctions\":{\"_typename\":\"TList\",\"name\":\"TList\",\"arr\":[{\"_typename\":\"TPaveStats\",\"fUniqueID\":0,\"fBits\":50331657,\"fLineColor\":1,\"fLineStyle\":1,\"fLineWidth\":1,\"fFillColor\":0,\"fFillStyle\":1001,\"fX1\":2.72641373506156,\"fY1\":5.98042622107781,\"fX2\":3.18239093388682,\"fY2\":7.87208276453295,\"fX1NDC\":0.780000016093254,\"fY1NDC\":0.775000005960464,\"fX2NDC\":0.980000019073486,\"fY2NDC\":0.935000002384186,\"fBorderSize\":1,\"fInit\":1,\"fShadowColor\":1,\"fCornerRadius\":0,\"fOption\":\"brNDC\",\"fName\":\"stats\",\"fTextAngle\":0,\"fTextSize\":0,\"fTextAlign\":12,\"fTextColor\":1,\"fTextFont\":42,\"fLabel\":\"\",\"fLongest\":18,\"fMargin\":0.05,\"fLines\":{\"_typename\":\"TList\",\"name\":\"TList\",\"arr\":[{\"_typename\":\"TLatex\",\"fUniqueID\":0,\"fBits\":50331648,\"fName\":\"\",\"fTitle\":\"hDYMC_detector_\",\"fTextAngle\":0,\"fTextSize\":0.0368,\"fTextAlign\":0,\"fTextColor\":0,\"fTextFont\":0,\"fX\":0,\"fY\":0,\"fLineColor\":1,\"fLineStyle\":1,\"fLineWidth\":2,\"fLimitFactorSize\":3,\"fOriginSize\":0.0368000008165836},{\"_typename\":\"TLatex\",\"fUniqueID\":0,\"fBits\":50331648,\"fName\":\"\",\"fTitle\":\"Entries = 41     \",\"fTextAngle\":0,\"fTextSize\":0,\"fTextAlign\":0,\"fTextColor\":0,\"fTextFont\":0,\"fX\":0,\"fY\":0,\"fLineColor\":1,\"fLineStyle\":1,\"fLineWidth\":2,\"fLimitFactorSize\":3,\"fOriginSize\":0.04},{\"_typename\":\"TLatex\",\"fUniqueID\":0,\"fBits\":50331648,\"fName\":\"\",\"fTitle\":\"Mean  =  87.61\",\"fTextAngle\":0,\"fTextSize\":0,\"fTextAlign\":0,\"fTextColor\":0,\"fTextFont\":0,\"fX\":0,\"fY\":0,\"fLineColor\":1,\"fLineStyle\":1,\"fLineWidth\":2,\"fLimitFactorSize\":3,\"fOriginSize\":0.04},{\"_typename\":\"TLatex\",\"fUniqueID\":0,\"fBits\":50331648,\"fName\":\"\",\"fTitle\":\"Std Dev   =   17.7\",\"fTextAngle\":0,\"fTextSize\":0,\"fTextAlign\":0,\"fTextColor\":0,\"fTextFont\":0,\"fX\":0,\"fY\":0,\"fLineColor\":1,\"fLineStyle\":1,\"fLineWidth\":2,\"fLimitFactorSize\":3,\"fOriginSize\":0.04}],\"opt\":[\"\",\"\",\"\",\"\"]},\"fOptFit\":0,\"fOptStat\":1111,\"fFitFormat\":\"5.4g\",\"fStatFormat\":\"6.4g\",\"fParent\":{\"$ref\":5}}],\"opt\":[\"brNDC\"]},\"fBufferSize\":0,\"fBuffer\":[],\"fBinStatErrOpt\":0,\"fStatOverflows\":2,\"fArray\":[0,175408.009619465,149986.105285036,155573.651341983,253972.226978071,398464.213839484,500876.653902864,454233.892012655,373714.396769545,346331.220099568,279895.845291885,309501.769172504,372454.61250334,490753.347767415,1020783.40633969,2579398.49171219,15161210.8613102,15009247.5810112,1688373.4594167,515807.245128986,215399.28507951,170708.775859376,114098.984936072,94925.7644563154,78159.5261655635,61998.5926836007,50580.9672654051,39637.2689866482,31549.0473388696,28353.6076321669,21034.0508403104,18313.0864771547,14116.1939377521,11768.2248036483,10508.4099122938,6602.28282157003,3226.43645110248,2020.4746180386,1344.7592900346,670.012029233748,434.253719003706,226.894162483558,0]},{\"_typename\":\"TH1D\",\"fUniqueID\":0,\"fBits\":50331656,\"fName\":\"hFakeDYMC_detector_\",\"fTitle\":\"hFakeDYMC_detector_\",\"fLineColor\":602,\"fLineStyle\":1,\"fLineWidth\":1,\"fFillColor\":406,\"fFillStyle\":1001,\"fMarkerColor\":1,\"fMarkerStyle\":1,\"fMarkerSize\":1,\"fNcells\":43,\"fXaxis\":{\"_typename\":\"TAxis\",\"fUniqueID\":0,\"fBits\":50331648,\"fName\":\"xaxis\",\"fTitle\":\"mass\",\"fNdivisions\":510,\"fAxisColor\":1,\"fLabelColor\":1,\"fLabelFont\":42,\"fLabelOffset\":0.005,\"fLabelSize\":0.035,\"fTickLength\":0.03,\"fTitleOffset\":1,\"fTitleSize\":0.035,\"fTitleColor\":1,\"fTitleFont\":42,\"fNbins\":41,\"fXmin\":15,\"fXmax\":1000,\"fXbins\":[15,20,25,30,35,40,45,50,55,60,64,68,72,76,81,86,91,96,101,106,110,115,120,126,133,141,150,160,171,185,200,220,243,273,320,380,440,510,600,700,830,1000],\"fFirst\":0,\"fLast\":0,\"fBits2\":0,\"fTimeDisplay\":false,\"fTimeFormat\":\"\",\"fLabels\":null,\"fModLabs\":null},\"fYaxis\":{\"_typename\":\"TAxis\",\"fUniqueID\":0,\"fBits\":50331648,\"fName\":\"yaxis\",\"fTitle\":\"\",\"fNdivisions\":510,\"fAxisColor\":1,\"fLabelColor\":1,\"fLabelFont\":42,\"fLabelOffset\":0.005,\"fLabelSize\":0.035,\"fTickLength\":0.03,\"fTitleOffset\":0,\"fTitleSize\":0.035,\"fTitleColor\":1,\"fTitleFont\":42,\"fNbins\":1,\"fXmin\":0,\"fXmax\":1,\"fXbins\":[],\"fFirst\":0,\"fLast\":0,\"fBits2\":0,\"fTimeDisplay\":false,\"fTimeFormat\":\"\",\"fLabels\":null,\"fModLabs\":null},\"fZaxis\":{\"_typename\":\"TAxis\",\"fUniqueID\":0,\"fBits\":50331648,\"fName\":\"zaxis\",\"fTitle\":\"\",\"fNdivisions\":510,\"fAxisColor\":1,\"fLabelColor\":1,\"fLabelFont\":42,\"fLabelOffset\":0.005,\"fLabelSize\":0.035,\"fTickLength\":0.03,\"fTitleOffset\":1,\"fTitleSize\":0.035,\"fTitleColor\":1,\"fTitleFont\":42,\"fNbins\":1,\"fXmin\":0,\"fXmax\":1,\"fXbins\":[],\"fFirst\":0,\"fLast\":0,\"fBits2\":0,\"fTimeDisplay\":false,\"fTimeFormat\":\"\",\"fLabels\":null,\"fModLabs\":null},\"fBarOffset\":0,\"fBarWidth\":1000,\"fEntries\":82,\"fTsumw\":96061.0013850376,\"fTsumw2\":1523204.9650399,\"fTsumwx\":5644600.77413242,\"fTsumwx2\":405867129.81492,\"fMaximum\":-1111,\"fMinimum\":-1111,\"fNormFactor\":0,\"fContour\":[],\"fSumw2\":[0,87051.0927610882,87959.1661725494,148018.762915346,263513.727175716,414342.96210861,233614.421009734,86436.3266902847,16431.4298208944,5438.44263973336,3449.02612634123,3360.08702641532,4209.07436076445,4875.81038954547,10034.1221521789,18156.7204222485,45315.1602559668,75140.1291187333,10713.8763591042,2176.29203977119,956.698078888187,563.836237797711,333.436550637445,223.165495695236,144.148913843786,217.005921731027,107.191305142443,78.1919094363172,82.1133230458445,37.1655923472669,84.5314485756352,51.4623172104832,35.9680328847142,21.8108136197321,28.3779028568796,0,3.23165116496651,0,0,0,0,0,0],\"fOption\":\"\",\"fFunctions\":{\"_typename\":\"TList\",\"name\":\"TList\",\"arr\":[],\"opt\":[]},\"fBufferSize\":0,\"fBuffer\":[],\"fBinStatErrOpt\":0,\"fStatOverflows\":2,\"fArray\":[0,3262.96626704578,3405.25299141202,5844.83143818593,10183.1296153176,15887.6832655151,9311.77417645793,3555.79936758731,1919.19282695956,1262.58548246176,833.442096204889,818.793240733956,908.554561392517,1221.33468849937,2272.84134359527,4208.77908680228,10491.0240076312,17059.0409138759,2462.5954709537,543.896951936575,191.88807217566,142.174090398927,75.1583042568517,56.7122328950956,42.9523223292002,32.9066440244436,16.265966507614,12.8588417423675,13.8381948960716,4.21731490531753,12.3986901026109,-0.55121430256192,5.17084932676497,4.67020487984543,-1.37924228608344,0,-1.79767938325123,0,0,0,0,0,0]},{\"_typename\":\"TPaveText\",\"fUniqueID\":0,\"fBits\":50331657,\"fLineColor\":1,\"fLineStyle\":1,\"fLineWidth\":1,\"fFillColor\":0,\"fFillStyle\":0,\"fX1\":1.8046065408133,\"fY1\":7.83735832742321,\"fX2\":2.37148471824238,\"fY2\":8.58145401237219,\"fX1NDC\":0.375678391959799,\"fY1NDC\":0.932062941831309,\"fX2NDC\":0.624321608040201,\"fY2NDC\":0.995000004768372,\"fBorderSize\":0,\"fInit\":1,\"fShadowColor\":1,\"fCornerRadius\":0,\"fOption\":\"blNDC\",\"fName\":\"title\",\"fTextAngle\":0,\"fTextSize\":0,\"fTextAlign\":22,\"fTextColor\":1,\"fTextFont\":42,\"fLabel\":\"\",\"fLongest\":15,\"fMargin\":0.05,\"fLines\":{\"_typename\":\"TList\",\"name\":\"TList\",\"arr\":[{\"_typename\":\"TLatex\",\"fUniqueID\":0,\"fBits\":50331648,\"fName\":\"\",\"fTitle\":\"hDYMC_detector_\",\"fTextAngle\":0,\"fTextSize\":0,\"fTextAlign\":0,\"fTextColor\":0,\"fTextFont\":0,\"fX\":0,\"fY\":0,\"fLineColor\":1,\"fLineStyle\":1,\"fLineWidth\":2,\"fLimitFactorSize\":3,\"fOriginSize\":0.0534965023398399}],\"opt\":[\"\"]}}],\"opt\":[\"\",\"hist\",\"hist same\",\"blNDC\"]},\"fExecs\":{\"_typename\":\"TList\",\"name\":\"TList\",\"arr\":[],\"opt\":[]},\"fName\":\"pad_mass_\",\"fTitle\":\"pad_mass_\",\"fNumPaletteColor\":0,\"fNextPaletteColor\":0},{\"_typename\":\"TPad\",\"fUniqueID\":0,\"fBits\":50331657,\"fLineColor\":1,\"fLineStyle\":1,\"fLineWidth\":1,\"fFillColor\":0,\"fFillStyle\":1001,\"fLeftMargin\":0.1,\"fRightMargin\":0.1,\"fBottomMargin\":0.1,\"fTopMargin\":0.1,\"fXfile\":2,\"fYfile\":2,\"fAfile\":1,\"fXstat\":0.99,\"fYstat\":0.99,\"fAstat\":2,\"fFrameFillColor\":0,\"fFrameLineColor\":1,\"fFrameFillStyle\":1001,\"fFrameLineStyle\":1,\"fFrameLineWidth\":1,\"fFrameBorderSize\":1,\"fFrameBorderMode\":0,\"fX1\":0.948102649451167,\"fY1\":-4.69515852289381,\"fX2\":3.22798860960451,\"fY2\":-0.697866145443562,\"fXtoAbsPixelk\":-331.020765143038,\"fXtoPixelk\":-331.020765143038,\"fXtoPixel\":349.140270132836,\"fYtoAbsPixelk\":370.441313122588,\"fYtoPixelk\":-29.9586868774117,\"fYtoPixel\":-42.9290589219942,\"fUtoAbsPixelk\":5e-5,\"fUtoPixelk\":5e-5,\"fUtoPixel\":796,\"fVtoAbsPixelk\":572.00005,\"fVtoPixelk\":171.6,\"fVtoPixel\":-171.6,\"fAbsPixeltoXk\":0.948102649451167,\"fPixeltoXk\":0.948102649451167,\"fPixeltoX\":0.00286417834190119,\"fAbsPixeltoYk\":8.62914940194036,\"fPixeltoYk\":-4.69515852289381,\"fPixeltoY\":-0.023294244623836,\"fXlowNDC\":0,\"fYlowNDC\":0,\"fXUpNDC\":0,\"fYUpNDC\":0,\"fWNDC\":1,\"fHNDC\":0.3,\"fAbsXlowNDC\":0,\"fAbsYlowNDC\":0,\"fAbsWNDC\":1,\"fAbsHNDC\":0.3,\"fUxmin\":1.17609125905568,\"fUymin\":-4.29542926132307,\"fUxmax\":3,\"fUymax\":-1.09759540701431,\"fTheta\":30,\"fPhi\":30,\"fAspectRatio\":0,\"fNumber\":0,\"fTickx\":0,\"fTicky\":0,\"fLogx\":1,\"fLogy\":1,\"fLogz\":0,\"fPadPaint\":0,\"fCrosshair\":0,\"fCrosshairPos\":0,\"fBorderSize\":2,\"fBorderMode\":0,\"fModified\":false,\"fGridx\":false,\"fGridy\":false,\"fAbsCoord\":false,\"fEditable\":true,\"fFixedAspectRatio\":false,\"fPrimitives\":{\"_typename\":\"TList\",\"name\":\"TList\",\"arr\":[{\"_typename\":\"TFrame\",\"fUniqueID\":0,\"fBits\":50331656,\"fLineColor\":1,\"fLineStyle\":1,\"fLineWidth\":1,\"fFillColor\":0,\"fFillStyle\":1001,\"fX1\":1.17609125905568,\"fY1\":-4.29542926132307,\"fX2\":3,\"fY2\":-1.09759540701431,\"fBorderSize\":1,\"fBorderMode\":0},{\"_typename\":\"TH1D\",\"fUniqueID\":0,\"fBits\":50331656,\"fName\":\"ratio\",\"fTitle\":\"hFakeDYMC_detector_\",\"fLineColor\":602,\"fLineStyle\":1,\"fLineWidth\":1,\"fFillColor\":406,\"fFillStyle\":1001,\"fMarkerColor\":1,\"fMarkerStyle\":20,\"fMarkerSize\":1,\"fNcells\":43,\"fXaxis\":{\"_typename\":\"TAxis\",\"fUniqueID\":0,\"fBits\":50331648,\"fName\":\"xaxis\",\"fTitle\":\"mass\",\"fNdivisions\":510,\"fAxisColor\":1,\"fLabelColor\":1,\"fLabelFont\":42,\"fLabelOffset\":0.005,\"fLabelSize\":0.035,\"fTickLength\":0.03,\"fTitleOffset\":1,\"fTitleSize\":0.035,\"fTitleColor\":1,\"fTitleFont\":42,\"fNbins\":41,\"fXmin\":15,\"fXmax\":1000,\"fXbins\":[15,20,25,30,35,40,45,50,55,60,64,68,72,76,81,86,91,96,101,106,110,115,120,126,133,141,150,160,171,185,200,220,243,273,320,380,440,510,600,700,830,1000],\"fFirst\":0,\"fLast\":0,\"fBits2\":0,\"fTimeDisplay\":false,\"fTimeFormat\":\"\",\"fLabels\":null,\"fModLabs\":null},\"fYaxis\":{\"_typename\":\"TAxis\",\"fUniqueID\":0,\"fBits\":50331648,\"fName\":\"yaxis\",\"fTitle\":\"\",\"fNdivisions\":510,\"fAxisColor\":1,\"fLabelColor\":1,\"fLabelFont\":42,\"fLabelOffset\":0.005,\"fLabelSize\":0.035,\"fTickLength\":0.03,\"fTitleOffset\":0,\"fTitleSize\":0.035,\"fTitleColor\":1,\"fTitleFont\":42,\"fNbins\":1,\"fXmin\":0,\"fXmax\":1,\"fXbins\":[],\"fFirst\":0,\"fLast\":0,\"fBits2\":0,\"fTimeDisplay\":false,\"fTimeFormat\":\"\",\"fLabels\":null,\"fModLabs\":null},\"fZaxis\":{\"_typename\":\"TAxis\",\"fUniqueID\":0,\"fBits\":50331648,\"fName\":\"zaxis\",\"fTitle\":\"\",\"fNdivisions\":510,\"fAxisColor\":1,\"fLabelColor\":1,\"fLabelFont\":42,\"fLabelOffset\":0.005,\"fLabelSize\":0.035,\"fTickLength\":0.03,\"fTitleOffset\":1,\"fTitleSize\":0.035,\"fTitleColor\":1,\"fTitleFont\":42,\"fNbins\":1,\"fXmin\":0,\"fXmax\":1,\"fXbins\":[],\"fFirst\":0,\"fLast\":0,\"fBits2\":0,\"fTimeDisplay\":false,\"fTimeFormat\":\"\",\"fLabels\":null,\"fModLabs\":null},\"fBarOffset\":0,\"fBarWidth\":1000,\"fEntries\":2035.20467596125,\"fTsumw\":0.218722043610324,\"fTsumw2\":2.35059072564686e-5,\"fTsumwx\":8.46231145800922,\"fTsumwx2\":386.859708269152,\"fMaximum\":-1111,\"fMinimum\":-1111,\"fNormFactor\":0,\"fContour\":[],\"fSumw2\":[0,2.87952280917541e-6,3.99740369936467e-6,6.34366469856283e-6,4.24440332923693e-6,2.71079446385462e-6,9.48242810608158e-7,4.21964253192531e-7,1.18019261029444e-7,4.55010519275479e-8,4.41563958989393e-8,3.51707561013017e-8,3.04097513838752e-8,2.02973553355889e-8,9.64982824227331e-9,2.73328328333396e-9,1.97271863938781e-10,3.33902996422873e-10,3.76374466692509e-9,8.18888198686953e-9,2.06356699829293e-8,1.93656207295481e-8,2.56286206240315e-8,2.47821881418472e-8,2.36131388296859e-8,5.64756384297525e-8,4.19061591257857e-8,4.97802768895333e-8,8.25249812318799e-8,4.62335237807226e-8,1.91135525920856e-7,1.53450003220139e-7,1.80544605517966e-7,1.57550208270521e-7,2.56991889551293e-7,0,3.10871657510532e-7,0,0,0,0,0,0],\"fOption\":\"\",\"fFunctions\":{\"_typename\":\"TList\",\"name\":\"TList\",\"arr\":[{\"_typename\":\"TPaveStats\",\"fUniqueID\":0,\"fBits\":50331657,\"fLineColor\":1,\"fLineStyle\":1,\"fLineWidth\":1,\"fFillColor\":0,\"fFillStyle\":1001,\"fX1\":2.72641373506156,\"fY1\":-1.59725690654415,\"fX2\":3.18239093388682,\"fY2\":-0.957690140447541,\"fX1NDC\":0.780000016093254,\"fY1NDC\":0.775000005960464,\"fX2NDC\":0.980000019073486,\"fY2NDC\":0.935000002384186,\"fBorderSize\":1,\"fInit\":1,\"fShadowColor\":1,\"fCornerRadius\":0,\"fOption\":\"brNDC\",\"fName\":\"stats\",\"fTextAngle\":0,\"fTextSize\":0,\"fTextAlign\":12,\"fTextColor\":1,\"fTextFont\":42,\"fLabel\":\"\",\"fLongest\":18,\"fMargin\":0.05,\"fLines\":{\"_typename\":\"TList\",\"name\":\"TList\",\"arr\":[{\"_typename\":\"TLatex\",\"fUniqueID\":0,\"fBits\":50331648,\"fName\":\"\",\"fTitle\":\"ratio\",\"fTextAngle\":0,\"fTextSize\":0.0368,\"fTextAlign\":0,\"fTextColor\":0,\"fTextFont\":0,\"fX\":0,\"fY\":0,\"fLineColor\":1,\"fLineStyle\":1,\"fLineWidth\":2,\"fLimitFactorSize\":3,\"fOriginSize\":0.0368000008165836},{\"_typename\":\"TLatex\",\"fUniqueID\":0,\"fBits\":50331648,\"fName\":\"\",\"fTitle\":\"Entries = 2035   \",\"fTextAngle\":0,\"fTextSize\":0,\"fTextAlign\":0,\"fTextColor\":0,\"fTextFont\":0,\"fX\":0,\"fY\":0,\"fLineColor\":1,\"fLineStyle\":1,\"fLineWidth\":2,\"fLimitFactorSize\":3,\"fOriginSize\":0.04},{\"_typename\":\"TLatex\",\"fUniqueID\":0,\"fBits\":50331648,\"fName\":\"\",\"fTitle\":\"Mean  =  38.69\",\"fTextAngle\":0,\"fTextSize\":0,\"fTextAlign\":0,\"fTextColor\":0,\"fTextFont\":0,\"fX\":0,\"fY\":0,\"fLineColor\":1,\"fLineStyle\":1,\"fLineWidth\":2,\"fLimitFactorSize\":3,\"fOriginSize\":0.04},{\"_typename\":\"TLatex\",\"fUniqueID\":0,\"fBits\":50331648,\"fName\":\"\",\"fTitle\":\"Std Dev   =  16.49\",\"fTextAngle\":0,\"fTextSize\":0,\"fTextAlign\":0,\"fTextColor\":0,\"fTextFont\":0,\"fX\":0,\"fY\":0,\"fLineColor\":1,\"fLineStyle\":1,\"fLineWidth\":2,\"fLimitFactorSize\":3,\"fOriginSize\":0.04}],\"opt\":[\"\",\"\",\"\",\"\"]},\"fOptFit\":0,\"fOptStat\":1111,\"fFitFormat\":\"5.4g\",\"fStatFormat\":\"6.4g\",\"fParent\":{\"$ref\":28}}],\"opt\":[\"brNDC\"]},\"fBufferSize\":0,\"fBuffer\":[],\"fBinStatErrOpt\":0,\"fStatOverflows\":2,\"fArray\":[0,0.0186021509173074,0.0227037896939894,0.0375695459209722,0.0400954456181417,0.0398722964665409,0.0185909526904478,0.0078281242992063,0.00513545328611746,0.00364560111588777,0.00297768655814003,0.00264552038885953,0.0024393698745894,0.00248869354443652,0.00222656572342333,0.00163169014028868,6.91964784580844e-4,0.00113656869352052,0.00145856087539097,0.00105445775931388,8.90848231482424e-4,8.32845819924604e-4,6.5871141885234e-4,5.97437726416146e-4,5.4954686186576e-4,5.30764370610428e-4,3.21582749144837e-4,3.24412909141117e-4,4.38624810043708e-4,1.48739975527242e-4,5.89458026736798e-4,-3.00994757628405e-5,3.66306197659707e-4,3.96848714038638e-4,-1.31251283266925e-4,0,-5.57171793244821e-4,0,0,0,0,0,0]},{\"_typename\":\"TPaveText\",\"fUniqueID\":0,\"fBits\":50331657,\"fLineColor\":1,\"fLineStyle\":1,\"fLineWidth\":1,\"fFillColor\":0,\"fFillStyle\":0,\"fX1\":1.9234699420022,\"fY1\":-0.969430430207666,\"fX2\":2.25262131705348,\"fY2\":-0.717852588270238,\"fX1NDC\":0.427814070351759,\"fY1NDC\":0.932062941831309,\"fX2NDC\":0.572185929648241,\"fY2NDC\":0.995000004768372,\"fBorderSize\":0,\"fInit\":1,\"fShadowColor\":1,\"fCornerRadius\":0,\"fOption\":\"blNDC\",\"fName\":\"title\",\"fTextAngle\":0,\"fTextSize\":0,\"fTextAlign\":22,\"fTextColor\":1,\"fTextFont\":42,\"fLabel\":\"\",\"fLongest\":19,\"fMargin\":0.05,\"fLines\":{\"_typename\":\"TList\",\"name\":\"TList\",\"arr\":[{\"_typename\":\"TLatex\",\"fUniqueID\":0,\"fBits\":50331648,\"fName\":\"\",\"fTitle\":\"hFakeDYMC_detector_\",\"fTextAngle\":0,\"fTextSize\":0,\"fTextAlign\":0,\"fTextColor\":0,\"fTextFont\":0,\"fX\":0,\"fY\":0,\"fLineColor\":1,\"fLineStyle\":1,\"fLineWidth\":2,\"fLimitFactorSize\":3,\"fOriginSize\":0.0534965023398399}],\"opt\":[\"\"]}}],\"opt\":[\"\",\"\",\"blNDC\"]},\"fExecs\":{\"_typename\":\"TList\",\"name\":\"TList\",\"arr\":[],\"opt\":[]},\"fName\":\"ratio_mass_\",\"fTitle\":\"raio_mass_\",\"fNumPaletteColor\":0,\"fNextPaletteColor\":0}],\"opt\":[\"\",\"\"]},\"fExecs\":null,\"fName\":\"c_\",\"fTitle\":\"c_\",\"fNumPaletteColor\":0,\"fNextPaletteColor\":0,\"fDISPLAY\":\"$DISPLAY\",\"fDoubleBuffer\":0,\"fRetained\":true,\"fXsizeUser\":0,\"fYsizeUser\":0,\"fXsizeReal\":20,\"fYsizeReal\":15,\"fWindowTopX\":0,\"fWindowTopY\":0,\"fWindowWidth\":0,\"fWindowHeight\":0,\"fCw\":796,\"fCh\":572,\"fCatt\":{\"_typename\":\"TAttCanvas\",\"fXBetween\":2,\"fYBetween\":2,\"fTitleFromTop\":1.2,\"fXdate\":0.2,\"fYdate\":0.3,\"fAdate\":1},\"kMoveOpaque\":true,\"kResizeOpaque\":true,\"fHighLightColor\":2,\"fBatch\":true,\"kShowEventStatus\":false,\"kAutoExec\":true,\"kMenuBar\":true});\n",
       "       Core.draw(\"root_plot_1\", obj, \"\");\n",
       "     }\n",
       " );\n",
       "</script>\n"
      ],
      "text/plain": [
       "<IPython.core.display.HTML object>"
      ]
     },
     "metadata": {},
     "output_type": "display_data"
    }
   ],
   "source": [
    "pad_mass_.SetLogy()\n",
    "pad_mass_.SetLogx()\n",
    "\n",
    "pad_mass_.cd()\n",
    "\n",
    "hDYMC_detector_.SetFillColor(rt.kYellow+2)\n",
    "hFakeDYMC_detector_.SetFillColor(rt.kYellow+6)\n",
    "hDYMC_detector_.SetMinimum(1e-2)\n",
    "hDYMC_detector_.Draw(\"hist\")\n",
    "hFakeDYMC_detector_.Draw(\"hist same\")\n",
    "\n",
    "ratio = hFakeDYMC_detector_.Clone(\"ratio\")\n",
    "ratio.Divide(hDYMC_detector_)\n",
    "\n",
    "ratio_mass_.cd()\n",
    "ratio_mass_.SetLogy()\n",
    "ratio_mass_.SetLogx()\n",
    "\n",
    "ratio.SetMarkerStyle(20)\n",
    "ratio.Draw()\n",
    "\n",
    "c_.Draw()"
   ]
  },
  {
   "cell_type": "markdown",
   "metadata": {},
   "source": [
    "## Draw folded histograms\n",
    "drawFoldedHistograms()\n",
    "- 데이터와 stacked MC 비교\n",
    "- 백그라운드를 뺀 데이터와 시그널 MC 비교\n",
    "- return canvas?"
   ]
  },
  {
   "cell_type": "code",
   "execution_count": 19,
   "metadata": {
    "scrolled": false
   },
   "outputs": [
    {
     "name": "stderr",
     "output_type": "stream",
     "text": [
      "Warning in <TUnfoldDensityV17::GetInputInverseEmatrix>: number of parameters 76 = input rank 76. Problem is ill posed\n",
      "Warning in <TUnfoldDensityV17::GetInputInverseEmatrix>: number of parameters 86 = input rank 86. Problem is ill posed\n"
     ]
    }
   ],
   "source": [
    "# Do unfold Need to understand the error meassages below!\n",
    "unfold_det.doISRUnfold(False)"
   ]
  },
  {
   "cell_type": "code",
   "execution_count": 20,
   "metadata": {},
   "outputs": [
    {
     "name": "stderr",
     "output_type": "stream",
     "text": [
      "Warning in <TUnfoldDensityV17::SetInput>: 4/80 input bins have zero error, and are ignored.\n"
     ]
    }
   ],
   "source": [
    "# Set input for FSR unfolding using detector unfold output\n",
    "unfold_fsr.setUnfInput(unfold_det, \"Pt\", False, \"\", 0)\n",
    "unfold_fsr.setUnfInput(unfold_det, \"Mass\", False, \"\", 0)"
   ]
  },
  {
   "cell_type": "code",
   "execution_count": 21,
   "metadata": {},
   "outputs": [
    {
     "name": "stderr",
     "output_type": "stream",
     "text": [
      "Warning in <TUnfoldDensityV17::GetInputInverseEmatrix>: number of parameters 76 = input rank 76. Problem is ill posed\n",
      "Warning in <TUnfoldDensityV17::GetInputInverseEmatrix>: number of parameters 86 = input rank 86. Problem is ill posed\n"
     ]
    }
   ],
   "source": [
    "unfold_fsr.doISRUnfold(False)"
   ]
  },
  {
   "cell_type": "code",
   "execution_count": 22,
   "metadata": {},
   "outputs": [
    {
     "name": "stderr",
     "output_type": "stream",
     "text": [
      "Error in <TUnfoldDensityV17::GetInputInverseEmatrix>: number of parameters 80 > 76 (rank of input covariance). Problem can not be solved\n",
      "Info in <TUnfoldDensityV17::InvertMSparseSymmPos>: cholesky-decomposition failed, try eigenvalue analysis\n",
      "Warning in <TUnfoldDensityV17::DoUnfold>: rank of matrix E 76 expect 80\n",
      "Info in <TUnfoldDensityV17::InvertMSparseSymmPos>: cholesky-decomposition failed, try eigenvalue analysis\n",
      "Warning in <TUnfoldDensityV17::DoUnfold>: rank of output covariance is 76 expect 80\n",
      "Warning in <TUnfoldDensityV17::GetInputInverseEmatrix>: number of parameters 86 = input rank 86. Problem is ill posed\n"
     ]
    }
   ],
   "source": [
    "unfold_oneStep.doISRUnfold(False)"
   ]
  },
  {
   "cell_type": "code",
   "execution_count": 23,
   "metadata": {},
   "outputs": [
    {
     "name": "stderr",
     "output_type": "stream",
     "text": [
      "Warning in <TUnfoldDensityV17::GetInputInverseEmatrix>: number of parameters 76 = input rank 76. Problem is ill posed\n",
      "Warning in <TUnfoldDensityV17::GetInputInverseEmatrix>: number of parameters 86 = input rank 86. Problem is ill posed\n"
     ]
    }
   ],
   "source": [
    "unfold_closure.doISRUnfold(False)"
   ]
  },
  {
   "cell_type": "markdown",
   "metadata": {},
   "source": [
    "## Draw unfolded histograms"
   ]
  },
  {
   "cell_type": "code",
   "execution_count": 24,
   "metadata": {},
   "outputs": [],
   "source": [
    "# For mass distribution\n",
    "mass_steering = \"mass[UO];pt[UOC0]\"\n",
    "mass_useAxis = True\n",
    "\n",
    "# Get detector level DY MC hist\n",
    "hDYMC_detector = unfold_det.getRawHist(\"Mass\", unfoldInputDic['hist'], \"Detector\", dyHistName, \\\n",
    "                                        \"hDYMC_detctor\", mass_steering, mass_useAxis)\n",
    "hFakeDYMC_detector = unfold_det.getRawHist(\"Mass\", unfoldInputDic['matrix'], \"detector_level_DY_Fake\", \"histo_DYJetsnominal\", \\\n",
    "                                        \"hFakeDYMC_detctor\", mass_steering, mass_useAxis)\n",
    "hFakeDY10to50MC_detector = unfold_det.getRawHist(\"Mass\", unfoldInputDic['matrix'], \"detector_level_DY_Fake\", \"histo_\"+dy10to50Name+\"nominal\", \\\n",
    "                                        \"hFakeDY10to50MC_detctor\", mass_steering, mass_useAxis)\n",
    "hFakeDYMC_detector.Add(hFakeDY10to50MC_detector)\n",
    "hDYMC_detector.Add(hFakeDYMC_detector, -1)\n",
    "\n",
    "# Two-step from detector to pre-FSR\n",
    "hMassUnfoldedData = unfold_det.getDetUnfoldedHists(\"Mass\", \"hMassUnfoldedData\", mass_steering, mass_useAxis)\n",
    "hMassMCTruth = unfold_det.getMCHists(\"Mass\", \"hMassMCTruth\", mass_steering, mass_useAxis)\n",
    "hMassFSRUnfoldedData = unfold_fsr.getDetUnfoldedHists(\"Mass\", \"hMassFSRUnfoldedData\", mass_steering, mass_useAxis)\n",
    "hMassData = unfold_det.getDetHists(\"Mass\", \"hMassData\", mass_steering, mass_useAxis)\n",
    "hMassMCTruth_preFSR = unfold_fsr.getMCHists(\"Mass\", \"hMassMCTruth_preFSR\", mass_steering, mass_useAxis)\n",
    "\n",
    "# One-step \n",
    "hMassUnfoldedData_ = unfold_oneStep.getDetUnfoldedHists(\"Mass\", \"hMassUnfoldedData_\", mass_steering, mass_useAxis)\n",
    "hMassUnfoldedMC_ = unfold_oneStep.getMCHists(\"Mass\", \"hMassUnfoldedMC_\", mass_steering, mass_useAxis)\n",
    "\n",
    "# Closure (One-step)\n",
    "hMassUnfoldedMC_closure = unfold_closure.getDetUnfoldedHists(\"Mass\", \"hMassUnfoldedMC_closure\", mass_steering, mass_useAxis)\n",
    "hMassMCTruth_closure = unfold_closure.getMCHists(\"Mass\", \"hMassMCTruth_closure\", mass_steering, mass_useAxis)\n",
    "\n",
    "# For pt distribution\n",
    "pt_steering = \"pt[UO];mass[UO]\"\n",
    "pt_useAxis = False\n",
    "\n",
    "hDYMCPt_detector = unfold_det.getRawHist(\"Pt\", unfoldInputDic['hist'], \"Detector\", dyHistName, \\\n",
    "                                        \"hDYMCPt_detctor\", pt_steering, pt_useAxis)\n",
    "hFakeDYMCPt_detector = unfold_det.getRawHist(\"Pt\", unfoldInputDic['matrix'], \"detector_level_DY_Fake\", \"histo_DYJetsnominal\", \\\n",
    "                                        \"hFakeDYMCPt_detctor\", pt_steering, pt_useAxis)\n",
    "hFakeDY10to50MCPt_detector = unfold_det.getRawHist(\"Pt\", unfoldInputDic['matrix'], \"detector_level_DY_Fake\", \"histo_\"+dy10to50Name+\"nominal\", \\\n",
    "                                        \"hFakeDY10to50MCPt_detctor\", pt_steering, pt_useAxis)\n",
    "hFakeDYMCPt_detector.Add(hFakeDY10to50MCPt_detector)\n",
    "hDYMCPt_detector.Add(hFakeDYMCPt_detector, -1)\n",
    "\n",
    "# Two-step from detector to pre-FSR\n",
    "hPtUnfoldedData = unfold_det.getDetUnfoldedHists(\"Pt\", \"hPtUnfoldedData\", pt_steering, pt_useAxis)\n",
    "hPtMCTruth = unfold_det.getMCHists(\"Pt\", \"hPtMCTruth\", pt_steering, pt_useAxis)\n",
    "hPtFSRUnfoldedData = unfold_fsr.getDetUnfoldedHists(\"Pt\", \"hPtFSRUnfoldedData\", pt_steering, pt_useAxis)\n",
    "hPtData = unfold_det.getDetHists(\"Pt\", \"hPtData\", pt_steering, pt_useAxis)\n",
    "hPtMCTruth_preFSR = unfold_fsr.getMCHists(\"Pt\", \"hPtMCTruth_preFSR\", pt_steering, pt_useAxis)\n",
    "\n",
    "# One-step\n",
    "hPtUnfoldedData_ = unfold_oneStep.getDetUnfoldedHists(\"Pt\", \"hPtUnfoldedData_\", pt_steering, pt_useAxis)\n",
    "hPtUnfoldedMC_ = unfold_oneStep.getMCHists(\"Pt\", \"hPtUnfoldedMC_\", pt_steering, pt_useAxis)\n",
    "\n",
    "# Closure (One-step)\n",
    "hPtUnfoldedMC_closure = unfold_closure.getDetUnfoldedHists(\"Pt\", \"hPtUnfoldedMC_closure\", pt_steering, pt_useAxis)\n",
    "hPtMCTruth_closure = unfold_closure.getMCHists(\"Pt\", \"hPtMCTruth_closure\", pt_steering, pt_useAxis)"
   ]
  },
  {
   "cell_type": "code",
   "execution_count": 25,
   "metadata": {},
   "outputs": [],
   "source": [
    "# Draw plot!\n",
    "c = rt.TCanvas(\"c\",\"c\", 2400, 1200)\n",
    "c.Divide(2,1);\n",
    "\n",
    "pad_mass = rt.TPad(\"pad_mass\", \"pad_mass\", 0, 0.3, 1, 1.0)\n",
    "ratio_mass = rt.TPad(\"ratio_mass\", \"raio_mass\", 0, 0.0, 1, 0.3)\n",
    "c.cd(1)\n",
    "pad_mass.Draw()\n",
    "c.cd(1)\n",
    "ratio_mass.Draw()\n",
    "\n",
    "pad_pt = rt.TPad(\"pad_pt\", \"pad_pt\", 0, 0.3, 1, 1.0)\n",
    "ratio_pt = rt.TPad(\"ratio_pt\", \"ratio_pt\", 0, 0.0, 1, 0.3)\n",
    "c.cd(2)\n",
    "pad_pt.SetLeftMargin(2.)\n",
    "pad_pt.Draw()\n",
    "c.cd(2)\n",
    "ratio_pt.Draw()"
   ]
  },
  {
   "cell_type": "code",
   "execution_count": 26,
   "metadata": {
    "scrolled": false
   },
   "outputs": [
    {
     "name": "stderr",
     "output_type": "stream",
     "text": [
      "Info in <TCanvas::Print>: pdf file Mass_Pt.pdf has been created\n"
     ]
    },
    {
     "data": {
      "text/html": [
       "\n",
       "<div id=\"root_plot_2\"\n",
       "     style=\"width: 2396px; height: 1172px\">\n",
       "</div>\n",
       "\n",
       "<script>\n",
       " requirejs.config({\n",
       "     paths: {\n",
       "       'JSRootCore' : 'https://root.cern.ch/js/notebook//scripts/JSRootCore',\n",
       "     }\n",
       "   });\n",
       " require(['JSRootCore'],\n",
       "     function(Core) {\n",
       "       var obj = Core.JSONR_unref({\"_typename\":\"TCanvas\",\"fUniqueID\":0,\"fBits\":53673992,\"fLineColor\":1,\"fLineStyle\":1,\"fLineWidth\":1,\"fFillColor\":0,\"fFillStyle\":1001,\"fLeftMargin\":0.1,\"fRightMargin\":0.1,\"fBottomMargin\":0.1,\"fTopMargin\":0.1,\"fXfile\":2,\"fYfile\":2,\"fAfile\":1,\"fXstat\":0.99,\"fYstat\":0.99,\"fAstat\":2,\"fFrameFillColor\":0,\"fFrameLineColor\":1,\"fFrameFillStyle\":1001,\"fFrameLineStyle\":1,\"fFrameLineWidth\":1,\"fFrameBorderSize\":1,\"fFrameBorderMode\":0,\"fX1\":0,\"fY1\":0,\"fX2\":1,\"fY2\":1,\"fXtoAbsPixelk\":5e-5,\"fXtoPixelk\":5e-5,\"fXtoPixel\":2396,\"fYtoAbsPixelk\":1172.00005,\"fYtoPixelk\":1172.00005,\"fYtoPixel\":-1172,\"fUtoAbsPixelk\":5e-5,\"fUtoPixelk\":5e-5,\"fUtoPixel\":2396,\"fVtoAbsPixelk\":1172.00005,\"fVtoPixelk\":1172,\"fVtoPixel\":-1172,\"fAbsPixeltoXk\":0,\"fPixeltoXk\":0,\"fPixeltoX\":4.17362270450751e-4,\"fAbsPixeltoYk\":1,\"fPixeltoYk\":0,\"fPixeltoY\":-8.53242320819113e-4,\"fXlowNDC\":0,\"fYlowNDC\":0,\"fXUpNDC\":0,\"fYUpNDC\":0,\"fWNDC\":1,\"fHNDC\":1,\"fAbsXlowNDC\":0,\"fAbsYlowNDC\":0,\"fAbsWNDC\":1,\"fAbsHNDC\":1,\"fUxmin\":0,\"fUymin\":0,\"fUxmax\":1,\"fUymax\":1,\"fTheta\":30,\"fPhi\":30,\"fAspectRatio\":0,\"fNumber\":0,\"fTickx\":0,\"fTicky\":0,\"fLogx\":0,\"fLogy\":0,\"fLogz\":0,\"fPadPaint\":0,\"fCrosshair\":0,\"fCrosshairPos\":0,\"fBorderSize\":2,\"fBorderMode\":0,\"fModified\":false,\"fGridx\":false,\"fGridy\":false,\"fAbsCoord\":false,\"fEditable\":true,\"fFixedAspectRatio\":false,\"fPrimitives\":{\"_typename\":\"TList\",\"name\":\"TList\",\"arr\":[{\"_typename\":\"TPad\",\"fUniqueID\":0,\"fBits\":50331657,\"fLineColor\":1,\"fLineStyle\":1,\"fLineWidth\":1,\"fFillColor\":0,\"fFillStyle\":1001,\"fLeftMargin\":0.1,\"fRightMargin\":0.1,\"fBottomMargin\":0.1,\"fTopMargin\":0.1,\"fXfile\":2,\"fYfile\":2,\"fAfile\":1,\"fXstat\":0.99,\"fYstat\":0.99,\"fAstat\":2,\"fFrameFillColor\":0,\"fFrameLineColor\":1,\"fFrameFillStyle\":1001,\"fFrameLineStyle\":1,\"fFrameLineWidth\":1,\"fFrameBorderSize\":1,\"fFrameBorderMode\":0,\"fX1\":0,\"fY1\":0,\"fX2\":1,\"fY2\":1,\"fXtoAbsPixelk\":23.9600494644523,\"fXtoPixelk\":5e-5,\"fXtoPixel\":1150.0800010711,\"fYtoAbsPixelk\":1160.28005026196,\"fYtoPixelk\":1148.56005052392,\"fYtoPixel\":-1148.56000052392,\"fUtoAbsPixelk\":23.9600494644523,\"fUtoPixelk\":5e-5,\"fUtoPixel\":1150.0800010711,\"fVtoAbsPixelk\":1160.28005026196,\"fVtoPixelk\":1148.56000052392,\"fVtoPixel\":-1148.56000052392,\"fAbsPixeltoXk\":-0.0208333328482695,\"fPixeltoXk\":0,\"fPixeltoX\":8.69504729295942e-4,\"fAbsPixeltoYk\":1.01020408139992,\"fPixeltoYk\":0,\"fPixeltoY\":-8.70655429010101e-4,\"fXlowNDC\":0.00999999977648258,\"fYlowNDC\":0.00999999977648258,\"fXUpNDC\":0,\"fYUpNDC\":0,\"fWNDC\":0.480000000447035,\"fHNDC\":0.980000000447035,\"fAbsXlowNDC\":0.00999999977648258,\"fAbsYlowNDC\":0.00999999977648258,\"fAbsWNDC\":0.480000000447035,\"fAbsHNDC\":0.980000000447035,\"fUxmin\":0,\"fUymin\":0,\"fUxmax\":1,\"fUymax\":1,\"fTheta\":30,\"fPhi\":30,\"fAspectRatio\":0,\"fNumber\":1,\"fTickx\":0,\"fTicky\":0,\"fLogx\":0,\"fLogy\":0,\"fLogz\":0,\"fPadPaint\":0,\"fCrosshair\":0,\"fCrosshairPos\":0,\"fBorderSize\":2,\"fBorderMode\":0,\"fModified\":false,\"fGridx\":false,\"fGridy\":false,\"fAbsCoord\":false,\"fEditable\":true,\"fFixedAspectRatio\":false,\"fPrimitives\":{\"_typename\":\"TList\",\"name\":\"TList\",\"arr\":[{\"_typename\":\"TPad\",\"fUniqueID\":0,\"fBits\":50331657,\"fLineColor\":1,\"fLineStyle\":1,\"fLineWidth\":1,\"fFillColor\":0,\"fFillStyle\":1001,\"fLeftMargin\":0.1,\"fRightMargin\":0.1,\"fBottomMargin\":0.1,\"fTopMargin\":0.1,\"fXfile\":2,\"fYfile\":2,\"fAfile\":1,\"fXstat\":0.99,\"fYstat\":0.99,\"fAstat\":2,\"fFrameFillColor\":0,\"fFrameLineColor\":1,\"fFrameFillStyle\":1001,\"fFrameLineStyle\":1,\"fFrameLineWidth\":1,\"fFrameBorderSize\":1,\"fFrameBorderMode\":0,\"fX1\":0.948102649451167,\"fY1\":-1.08737133155748,\"fX2\":3.22798860960451,\"fY2\":9.7863413358935,\"fXtoAbsPixelk\":-454.306809121301,\"fXtoPixelk\":-478.266808585754,\"fXtoPixel\":504.446284231576,\"fYtoAbsPixelk\":735.312845275944,\"fYtoPixelk\":723.592845537907,\"fYtoPixel\":-73.9390514495928,\"fUtoAbsPixelk\":23.9600494644523,\"fUtoPixelk\":5e-5,\"fUtoPixel\":1150.0800010711,\"fVtoAbsPixelk\":815.712050104785,\"fVtoPixelk\":803.992000366747,\"fVtoPixel\":-803.992000366747,\"fAbsPixeltoXk\":0.900605026387195,\"fPixeltoXk\":0.948102649451167,\"fPixeltoX\":0.00198237162460876,\"fAbsPixeltoYk\":9.94485026329065,\"fPixeltoYk\":-1.08737133155748,\"fPixeltoY\":-0.0135246528105887,\"fXlowNDC\":0,\"fYlowNDC\":0.3,\"fXUpNDC\":0,\"fYUpNDC\":0,\"fWNDC\":1,\"fHNDC\":0.7,\"fAbsXlowNDC\":0.00999999977648258,\"fAbsYlowNDC\":0.303999999910593,\"fAbsWNDC\":0.480000000447035,\"fAbsHNDC\":0.686000000312924,\"fUxmin\":1.17609125905568,\"fUymin\":0,\"fUxmax\":3,\"fUymax\":8.69897000433602,\"fTheta\":30,\"fPhi\":30,\"fAspectRatio\":0,\"fNumber\":0,\"fTickx\":0,\"fTicky\":0,\"fLogx\":1,\"fLogy\":1,\"fLogz\":0,\"fPadPaint\":0,\"fCrosshair\":0,\"fCrosshairPos\":0,\"fBorderSize\":2,\"fBorderMode\":0,\"fModified\":false,\"fGridx\":true,\"fGridy\":true,\"fAbsCoord\":false,\"fEditable\":true,\"fFixedAspectRatio\":false,\"fPrimitives\":{\"_typename\":\"TList\",\"name\":\"TList\",\"arr\":[{\"_typename\":\"TFrame\",\"fUniqueID\":0,\"fBits\":50331656,\"fLineColor\":1,\"fLineStyle\":1,\"fLineWidth\":1,\"fFillColor\":0,\"fFillStyle\":1001,\"fX1\":1.17609125905568,\"fY1\":0,\"fX2\":3,\"fY2\":8.69897000433602,\"fBorderSize\":1,\"fBorderMode\":0},{\"_typename\":\"TH1D\",\"fUniqueID\":0,\"fBits\":50332168,\"fName\":\"hMassUnfoldedData\",\"fTitle\":\"hMassUnfoldedData\",\"fLineColor\":632,\"fLineStyle\":1,\"fLineWidth\":1,\"fFillColor\":0,\"fFillStyle\":1001,\"fMarkerColor\":632,\"fMarkerStyle\":20,\"fMarkerSize\":1,\"fNcells\":43,\"fXaxis\":{\"_typename\":\"TAxis\",\"fUniqueID\":0,\"fBits\":50331656,\"fName\":\"xaxis\",\"fTitle\":\"mass\",\"fNdivisions\":520,\"fAxisColor\":1,\"fLabelColor\":1,\"fLabelFont\":42,\"fLabelOffset\":0.005,\"fLabelSize\":0.035,\"fTickLength\":0.03,\"fTitleOffset\":1,\"fTitleSize\":0.035,\"fTitleColor\":1,\"fTitleFont\":42,\"fNbins\":41,\"fXmin\":15,\"fXmax\":1000,\"fXbins\":[15,20,25,30,35,40,45,50,55,60,64,68,72,76,81,86,91,96,101,106,110,115,120,126,133,141,150,160,171,185,200,220,243,273,320,380,440,510,600,700,830,1000],\"fFirst\":0,\"fLast\":0,\"fBits2\":0,\"fTimeDisplay\":false,\"fTimeFormat\":\"\",\"fLabels\":null,\"fModLabs\":null},\"fYaxis\":{\"_typename\":\"TAxis\",\"fUniqueID\":0,\"fBits\":50331656,\"fName\":\"yaxis\",\"fTitle\":\"Events\\/ bin\",\"fNdivisions\":10,\"fAxisColor\":1,\"fLabelColor\":1,\"fLabelFont\":42,\"fLabelOffset\":0.005,\"fLabelSize\":0.035,\"fTickLength\":0.03,\"fTitleOffset\":0,\"fTitleSize\":0.035,\"fTitleColor\":1,\"fTitleFont\":42,\"fNbins\":1,\"fXmin\":0,\"fXmax\":1,\"fXbins\":[],\"fFirst\":0,\"fLast\":0,\"fBits2\":0,\"fTimeDisplay\":false,\"fTimeFormat\":\"\",\"fLabels\":null,\"fModLabs\":null},\"fZaxis\":{\"_typename\":\"TAxis\",\"fUniqueID\":0,\"fBits\":50331648,\"fName\":\"zaxis\",\"fTitle\":\"\",\"fNdivisions\":510,\"fAxisColor\":1,\"fLabelColor\":1,\"fLabelFont\":42,\"fLabelOffset\":0.005,\"fLabelSize\":0.035,\"fTickLength\":0.03,\"fTitleOffset\":1,\"fTitleSize\":0.035,\"fTitleColor\":1,\"fTitleFont\":42,\"fNbins\":1,\"fXmin\":0,\"fXmax\":1,\"fXbins\":[],\"fFirst\":0,\"fLast\":0,\"fBits2\":0,\"fTimeDisplay\":false,\"fTimeFormat\":\"\",\"fLabels\":null,\"fModLabs\":null},\"fBarOffset\":0,\"fBarWidth\":1000,\"fEntries\":84,\"fTsumw\":0,\"fTsumw2\":0,\"fTsumwx\":0,\"fTsumwx2\":0,\"fMaximum\":500000000,\"fMinimum\":1,\"fNormFactor\":0,\"fContour\":[],\"fSumw2\":[0,1228350.42550525,1249646.76966682,1806413.19739586,3294799.94397043,4559272.08194906,3800703.99515529,2993822.67362884,2453572.92174252,2317897.62497262,1946124.37404876,1996003.07317157,2229456.58600636,2876134.87813555,4554280.99179212,9845086.69299322,69370441.6703915,70677256.2369158,6488457.34714925,2152724.99630351,1162987.40534752,845348.919018885,574935.875808592,435058.042952684,347425.918654983,253517.411283369,207254.036678091,167627.242583297,128867.60220252,112552.978673257,86203.5139484374,84075.1464234668,68507.9738935346,39567.0528631537,30010.6401971372,19826.4062692457,11995.4810983248,6848.56435403013,4024.2631120343,2338.58185629517,1149.42660267666,877.898892653858,0],\"fOption\":\"\",\"fFunctions\":{\"_typename\":\"TList\",\"name\":\"TList\",\"arr\":[],\"opt\":[]},\"fBufferSize\":0,\"fBuffer\":[],\"fBinStatErrOpt\":0,\"fStatOverflows\":2,\"fArray\":[0,410324.449054341,342703.984454189,379991.703527636,629955.552076765,808655.06728785,849913.11854763,734325.935311764,643296.561981893,577304.140136792,452572.864868319,471411.921788027,529576.578279661,665605.505630781,1240928.75812789,2772515.11091763,19999182.9148852,22163996.5687021,1963723.11975185,670949.240823254,289156.569304521,229624.446148572,153848.346296295,129516.842372425,105552.802738428,86508.6022080007,67568.9124503991,53938.9149256363,43268.7300843356,39212.2398847591,28188.5268020951,26963.1944201458,19861.4293273798,16269.5567313136,13629.8111694225,8985.75679323065,4613.51229601706,2714.40371731602,1661.13066681268,1020.19902451244,516.214217020318,360.010607916905,0]},{\"_typename\":\"TH1D\",\"fUniqueID\":0,\"fBits\":50331656,\"fName\":\"hMassFSRUnfoldedData\",\"fTitle\":\"hMassFSRUnfoldedData\",\"fLineColor\":600,\"fLineStyle\":1,\"fLineWidth\":1,\"fFillColor\":0,\"fFillStyle\":1001,\"fMarkerColor\":600,\"fMarkerStyle\":20,\"fMarkerSize\":1,\"fNcells\":43,\"fXaxis\":{\"_typename\":\"TAxis\",\"fUniqueID\":0,\"fBits\":50331648,\"fName\":\"xaxis\",\"fTitle\":\"mass\",\"fNdivisions\":510,\"fAxisColor\":1,\"fLabelColor\":1,\"fLabelFont\":42,\"fLabelOffset\":0.005,\"fLabelSize\":0.035,\"fTickLength\":0.03,\"fTitleOffset\":1,\"fTitleSize\":0.035,\"fTitleColor\":1,\"fTitleFont\":42,\"fNbins\":41,\"fXmin\":15,\"fXmax\":1000,\"fXbins\":[15,20,25,30,35,40,45,50,55,60,64,68,72,76,81,86,91,96,101,106,110,115,120,126,133,141,150,160,171,185,200,220,243,273,320,380,440,510,600,700,830,1000],\"fFirst\":0,\"fLast\":0,\"fBits2\":0,\"fTimeDisplay\":false,\"fTimeFormat\":\"\",\"fLabels\":null,\"fModLabs\":null},\"fYaxis\":{\"_typename\":\"TAxis\",\"fUniqueID\":0,\"fBits\":50331648,\"fName\":\"yaxis\",\"fTitle\":\"\",\"fNdivisions\":510,\"fAxisColor\":1,\"fLabelColor\":1,\"fLabelFont\":42,\"fLabelOffset\":0.005,\"fLabelSize\":0.035,\"fTickLength\":0.03,\"fTitleOffset\":0,\"fTitleSize\":0.035,\"fTitleColor\":1,\"fTitleFont\":42,\"fNbins\":1,\"fXmin\":0,\"fXmax\":1,\"fXbins\":[],\"fFirst\":0,\"fLast\":0,\"fBits2\":0,\"fTimeDisplay\":false,\"fTimeFormat\":\"\",\"fLabels\":null,\"fModLabs\":null},\"fZaxis\":{\"_typename\":\"TAxis\",\"fUniqueID\":0,\"fBits\":50331648,\"fName\":\"zaxis\",\"fTitle\":\"\",\"fNdivisions\":510,\"fAxisColor\":1,\"fLabelColor\":1,\"fLabelFont\":42,\"fLabelOffset\":0.005,\"fLabelSize\":0.035,\"fTickLength\":0.03,\"fTitleOffset\":1,\"fTitleSize\":0.035,\"fTitleColor\":1,\"fTitleFont\":42,\"fNbins\":1,\"fXmin\":0,\"fXmax\":1,\"fXbins\":[],\"fFirst\":0,\"fLast\":0,\"fBits2\":0,\"fTimeDisplay\":false,\"fTimeFormat\":\"\",\"fLabels\":null,\"fModLabs\":null},\"fBarOffset\":0,\"fBarWidth\":1000,\"fEntries\":84,\"fTsumw\":0,\"fTsumw2\":0,\"fTsumwx\":0,\"fTsumwx2\":0,\"fMaximum\":-1111,\"fMinimum\":-1111,\"fNormFactor\":0,\"fContour\":[],\"fSumw2\":[0,76819034032.2368,19740536189.8523,6556556895.50032,1366022806.60256,317469450.502707,77867082.1561482,39336755.6719059,26021870.3457143,20971746.153667,16050866.50454,15051511.3795054,15532358.9917094,18858561.2995762,27532459.2509692,55849285.3319706,369014601.420952,399431375.56359,34993535.7221467,11302460.1082391,6130834.83739033,4343876.21330547,2919338.24761488,2153425.59312358,1684945.97752647,1199836.3137872,949645.837269077,765895.195602733,573719.907865249,480149.069029014,365652.394530059,337273.715303468,264969.562758803,138004.665580615,92501.4956757521,56332.5375978157,31463.9406318887,15277.1340072983,9363.31128664391,4461.59893950488,2141.44741252433,1542.30115418297,0],\"fOption\":\"\",\"fFunctions\":{\"_typename\":\"TList\",\"name\":\"TList\",\"arr\":[],\"opt\":[]},\"fBufferSize\":0,\"fBuffer\":[],\"fBinStatErrOpt\":0,\"fStatOverflows\":2,\"fArray\":[0,100478480.521751,41701054.2711801,21885559.6800067,12186758.9245721,6349486.36033883,3548377.5588154,2342935.86620533,1744658.82649724,1333202.93532143,923970.443876407,850090.810676084,865493.024265764,1022827.60340327,1874529.07901006,4596715.00356781,43041845.796327,52429130.2448801,4474145.39571438,1490700.56536368,636074.696171411,498176.601627843,330508.156371337,275140.10901178,221958.210154228,179791.130669798,138323.548771884,110233.027284506,87202.4554552753,77719.6810989434,55736.3920335251,52050.1288059107,37624.5016474616,29467.3748781547,23345.0223600234,14777.2429431693,7272.99114942825,3937.31978374644,2468.86851172239,1405.83595934423,679.932795239709,466.316096880083,0]},{\"_typename\":\"TH1D\",\"fUniqueID\":0,\"fBits\":50331656,\"fName\":\"hMassUnfoldedData_\",\"fTitle\":\"hMassUnfoldedData_\",\"fLineColor\":616,\"fLineStyle\":1,\"fLineWidth\":1,\"fFillColor\":0,\"fFillStyle\":1001,\"fMarkerColor\":616,\"fMarkerStyle\":22,\"fMarkerSize\":0.5,\"fNcells\":43,\"fXaxis\":{\"_typename\":\"TAxis\",\"fUniqueID\":0,\"fBits\":50331648,\"fName\":\"xaxis\",\"fTitle\":\"mass\",\"fNdivisions\":510,\"fAxisColor\":1,\"fLabelColor\":1,\"fLabelFont\":42,\"fLabelOffset\":0.005,\"fLabelSize\":0.035,\"fTickLength\":0.03,\"fTitleOffset\":1,\"fTitleSize\":0.035,\"fTitleColor\":1,\"fTitleFont\":42,\"fNbins\":41,\"fXmin\":15,\"fXmax\":1000,\"fXbins\":[15,20,25,30,35,40,45,50,55,60,64,68,72,76,81,86,91,96,101,106,110,115,120,126,133,141,150,160,171,185,200,220,243,273,320,380,440,510,600,700,830,1000],\"fFirst\":0,\"fLast\":0,\"fBits2\":0,\"fTimeDisplay\":false,\"fTimeFormat\":\"\",\"fLabels\":null,\"fModLabs\":null},\"fYaxis\":{\"_typename\":\"TAxis\",\"fUniqueID\":0,\"fBits\":50331648,\"fName\":\"yaxis\",\"fTitle\":\"\",\"fNdivisions\":510,\"fAxisColor\":1,\"fLabelColor\":1,\"fLabelFont\":42,\"fLabelOffset\":0.005,\"fLabelSize\":0.035,\"fTickLength\":0.03,\"fTitleOffset\":0,\"fTitleSize\":0.035,\"fTitleColor\":1,\"fTitleFont\":42,\"fNbins\":1,\"fXmin\":0,\"fXmax\":1,\"fXbins\":[],\"fFirst\":0,\"fLast\":0,\"fBits2\":0,\"fTimeDisplay\":false,\"fTimeFormat\":\"\",\"fLabels\":null,\"fModLabs\":null},\"fZaxis\":{\"_typename\":\"TAxis\",\"fUniqueID\":0,\"fBits\":50331648,\"fName\":\"zaxis\",\"fTitle\":\"\",\"fNdivisions\":510,\"fAxisColor\":1,\"fLabelColor\":1,\"fLabelFont\":42,\"fLabelOffset\":0.005,\"fLabelSize\":0.035,\"fTickLength\":0.03,\"fTitleOffset\":1,\"fTitleSize\":0.035,\"fTitleColor\":1,\"fTitleFont\":42,\"fNbins\":1,\"fXmin\":0,\"fXmax\":1,\"fXbins\":[],\"fFirst\":0,\"fLast\":0,\"fBits2\":0,\"fTimeDisplay\":false,\"fTimeFormat\":\"\",\"fLabels\":null,\"fModLabs\":null},\"fBarOffset\":0,\"fBarWidth\":1000,\"fEntries\":84,\"fTsumw\":0,\"fTsumw2\":0,\"fTsumwx\":0,\"fTsumwx2\":0,\"fMaximum\":-1111,\"fMinimum\":-1111,\"fNormFactor\":0,\"fContour\":[],\"fSumw2\":[0,55513850607.7135,13974808057.3824,3996567012.84507,811976822.31439,182119794.969734,56977342.4859076,32587531.0663214,22441625.9917751,17368771.6293456,12753764.2267054,11524189.1967545,11719027.4043344,14018652.8728173,21792972.0400379,51083916.3078029,386614172.78247,398730054.536196,34337687.1318111,11202478.3833924,6064812.52286771,4336634.68410825,2895334.365284,2159558.40054587,1678751.72617732,1183952.32695614,938405.318729105,759778.988869991,562959.842439113,473197.755135101,360444.443457247,335071.802790008,260154.524387444,135677.130141505,91151.48722519,55487.3189936374,30878.3843715087,14846.2765488007,9054.97420642766,4428.64374457324,2209.62774092142,1512.02788545636,0],\"fOption\":\"\",\"fFunctions\":{\"_typename\":\"TList\",\"name\":\"TList\",\"arr\":[],\"opt\":[]},\"fBufferSize\":0,\"fBuffer\":[],\"fBinStatErrOpt\":0,\"fStatOverflows\":2,\"fArray\":[0,99994720.421113,41514405.1581368,21656401.2623503,12024503.2015739,6294869.54574315,3545489.09661221,2343660.36896723,1733862.42244438,1323381.07760509,915328.025454239,842612.026378264,860038.762164432,1015679.29554662,1868214.31916341,4586126.13914939,43035202.8165859,52430582.4808166,4472549.04907047,1490803.51124953,636008.918800005,498197.333274088,330493.590216689,275164.712532532,221970.164702965,179746.996242633,138385.935547444,110241.534799212,87219.6339096687,77724.4161199964,55746.1538541108,52024.5383299458,37622.3141194587,29453.104625396,23360.4063942576,14769.1307145518,7267.70495657422,3935.16571417345,2474.93657247983,1404.67683457186,678.806385953056,466.060445751178,0]},{\"_typename\":\"TH1D\",\"fUniqueID\":0,\"fBits\":50331656,\"fName\":\"hMassUnfoldedMC_closure\",\"fTitle\":\"hMassUnfoldedMC_closure\",\"fLineColor\":616,\"fLineStyle\":1,\"fLineWidth\":1,\"fFillColor\":0,\"fFillStyle\":1001,\"fMarkerColor\":1,\"fMarkerStyle\":25,\"fMarkerSize\":1,\"fNcells\":43,\"fXaxis\":{\"_typename\":\"TAxis\",\"fUniqueID\":0,\"fBits\":50331648,\"fName\":\"xaxis\",\"fTitle\":\"mass\",\"fNdivisions\":510,\"fAxisColor\":1,\"fLabelColor\":1,\"fLabelFont\":42,\"fLabelOffset\":0.005,\"fLabelSize\":0.035,\"fTickLength\":0.03,\"fTitleOffset\":1,\"fTitleSize\":0.035,\"fTitleColor\":1,\"fTitleFont\":42,\"fNbins\":41,\"fXmin\":15,\"fXmax\":1000,\"fXbins\":[15,20,25,30,35,40,45,50,55,60,64,68,72,76,81,86,91,96,101,106,110,115,120,126,133,141,150,160,171,185,200,220,243,273,320,380,440,510,600,700,830,1000],\"fFirst\":0,\"fLast\":0,\"fBits2\":0,\"fTimeDisplay\":false,\"fTimeFormat\":\"\",\"fLabels\":null,\"fModLabs\":null},\"fYaxis\":{\"_typename\":\"TAxis\",\"fUniqueID\":0,\"fBits\":50331648,\"fName\":\"yaxis\",\"fTitle\":\"\",\"fNdivisions\":510,\"fAxisColor\":1,\"fLabelColor\":1,\"fLabelFont\":42,\"fLabelOffset\":0.005,\"fLabelSize\":0.035,\"fTickLength\":0.03,\"fTitleOffset\":0,\"fTitleSize\":0.035,\"fTitleColor\":1,\"fTitleFont\":42,\"fNbins\":1,\"fXmin\":0,\"fXmax\":1,\"fXbins\":[],\"fFirst\":0,\"fLast\":0,\"fBits2\":0,\"fTimeDisplay\":false,\"fTimeFormat\":\"\",\"fLabels\":null,\"fModLabs\":null},\"fZaxis\":{\"_typename\":\"TAxis\",\"fUniqueID\":0,\"fBits\":50331648,\"fName\":\"zaxis\",\"fTitle\":\"\",\"fNdivisions\":510,\"fAxisColor\":1,\"fLabelColor\":1,\"fLabelFont\":42,\"fLabelOffset\":0.005,\"fLabelSize\":0.035,\"fTickLength\":0.03,\"fTitleOffset\":1,\"fTitleSize\":0.035,\"fTitleColor\":1,\"fTitleFont\":42,\"fNbins\":1,\"fXmin\":0,\"fXmax\":1,\"fXbins\":[],\"fFirst\":0,\"fLast\":0,\"fBits2\":0,\"fTimeDisplay\":false,\"fTimeFormat\":\"\",\"fLabels\":null,\"fModLabs\":null},\"fBarOffset\":0,\"fBarWidth\":1000,\"fEntries\":84,\"fTsumw\":0,\"fTsumw2\":0,\"fTsumwx\":0,\"fTsumwx2\":0,\"fMaximum\":-1111,\"fMinimum\":-1111,\"fNormFactor\":0,\"fContour\":[],\"fSumw2\":[0,15793620.4800379,14085210.6303383,16232415.5830194,28357085.1313113,41879212.2101643,44374500.1171459,35810544.7220645,7273173.35070589,5569024.75954222,5161751.14509577,6040486.9941572,7771564.35179502,10177730.9398836,17948074.5998506,40360754.1132685,292368890.611719,298194326.320507,26824043.3914119,8800073.81670114,4695978.02083691,3350604.4655254,2250738.44775467,1654045.79513072,1236193.26637635,962002.694693873,737975.189976016,574872.526673649,449594.460219018,354263.943619673,268270.209445356,238418.246498393,174136.935462487,142311.847591834,117042.479995325,70743.7831848101,42737.6505929864,26266.5914919241,16046.3415095453,8405.45767482318,4814.81941337667,3046.85669342423,0],\"fOption\":\"\",\"fFunctions\":{\"_typename\":\"TList\",\"name\":\"TList\",\"arr\":[],\"opt\":[]},\"fBufferSize\":0,\"fBuffer\":[],\"fBinStatErrOpt\":0,\"fStatOverflows\":2,\"fArray\":[0,306879.170855846,262701.823940207,277406.340913918,462058.272897596,686114.2736762,824283.439425085,732504.398919782,591931.11335455,544414.085267064,430510.854155083,456602.986881734,524459.060880476,659771.569980611,1251756.79497933,2778323.53967995,20353089.4079818,22685503.324023,1953422.89663899,667914.276786922,285156.404847106,227629.12792451,151068.219637808,126473.018423868,103221.873115876,82217.8358406494,66335.6160055404,51783.1157565904,41345.9489741811,36748.1042324193,26484.5707490515,24148.4075550692,18419.5296604459,15264.1016359785,13733.2879287157,8567.09695475947,4346.98793872114,2700.31843017784,1729.41710888003,943.318462340124,593.02183757165,339.263656307064,0]},{\"_typename\":\"TH1D\",\"fUniqueID\":0,\"fBits\":50331656,\"fName\":\"hMassMCTruth_closure\",\"fTitle\":\"hMassMCTruth_closure\",\"fLineColor\":616,\"fLineStyle\":1,\"fLineWidth\":1,\"fFillColor\":0,\"fFillStyle\":1001,\"fMarkerColor\":1,\"fMarkerStyle\":26,\"fMarkerSize\":1,\"fNcells\":43,\"fXaxis\":{\"_typename\":\"TAxis\",\"fUniqueID\":0,\"fBits\":50331648,\"fName\":\"xaxis\",\"fTitle\":\"mass\",\"fNdivisions\":510,\"fAxisColor\":1,\"fLabelColor\":1,\"fLabelFont\":42,\"fLabelOffset\":0.005,\"fLabelSize\":0.035,\"fTickLength\":0.03,\"fTitleOffset\":1,\"fTitleSize\":0.035,\"fTitleColor\":1,\"fTitleFont\":42,\"fNbins\":41,\"fXmin\":15,\"fXmax\":1000,\"fXbins\":[15,20,25,30,35,40,45,50,55,60,64,68,72,76,81,86,91,96,101,106,110,115,120,126,133,141,150,160,171,185,200,220,243,273,320,380,440,510,600,700,830,1000],\"fFirst\":0,\"fLast\":0,\"fBits2\":0,\"fTimeDisplay\":false,\"fTimeFormat\":\"\",\"fLabels\":null,\"fModLabs\":null},\"fYaxis\":{\"_typename\":\"TAxis\",\"fUniqueID\":0,\"fBits\":50331648,\"fName\":\"yaxis\",\"fTitle\":\"\",\"fNdivisions\":510,\"fAxisColor\":1,\"fLabelColor\":1,\"fLabelFont\":42,\"fLabelOffset\":0.005,\"fLabelSize\":0.035,\"fTickLength\":0.03,\"fTitleOffset\":0,\"fTitleSize\":0.035,\"fTitleColor\":1,\"fTitleFont\":42,\"fNbins\":1,\"fXmin\":0,\"fXmax\":1,\"fXbins\":[],\"fFirst\":0,\"fLast\":0,\"fBits2\":0,\"fTimeDisplay\":false,\"fTimeFormat\":\"\",\"fLabels\":null,\"fModLabs\":null},\"fZaxis\":{\"_typename\":\"TAxis\",\"fUniqueID\":0,\"fBits\":50331648,\"fName\":\"zaxis\",\"fTitle\":\"\",\"fNdivisions\":510,\"fAxisColor\":1,\"fLabelColor\":1,\"fLabelFont\":42,\"fLabelOffset\":0.005,\"fLabelSize\":0.035,\"fTickLength\":0.03,\"fTitleOffset\":1,\"fTitleSize\":0.035,\"fTitleColor\":1,\"fTitleFont\":42,\"fNbins\":1,\"fXmin\":0,\"fXmax\":1,\"fXbins\":[],\"fFirst\":0,\"fLast\":0,\"fBits2\":0,\"fTimeDisplay\":false,\"fTimeFormat\":\"\",\"fLabels\":null,\"fModLabs\":null},\"fBarOffset\":0,\"fBarWidth\":1000,\"fEntries\":84,\"fTsumw\":0,\"fTsumw2\":0,\"fTsumwx\":0,\"fTsumwx2\":0,\"fMaximum\":-1111,\"fMinimum\":-1111,\"fNormFactor\":0,\"fContour\":[],\"fSumw2\":[0,0,0,0,0,0,0,0,0,0,0,0,0,0,0,0,0,0,0,0,0,0,0,0,0,0,0,0,0,0,0,0,0,0,0,0,0,0,0,0,0,0,0],\"fOption\":\"\",\"fFunctions\":{\"_typename\":\"TList\",\"name\":\"TList\",\"arr\":[],\"opt\":[]},\"fBufferSize\":0,\"fBuffer\":[],\"fBinStatErrOpt\":0,\"fStatOverflows\":2,\"fArray\":[0,306725.131226161,262632.106849093,277328.664977157,461939.401595216,685937.330874799,823819.055314967,731825.838743942,591154.98474496,542943.212233601,428902.592704397,454486.896192796,521310.327240672,655446.350457694,1242222.38933576,2757292.27087732,20293789.2767098,22663769.3315094,1949784.08825594,666735.831303808,284625.657950444,227237.693502799,150801.315978376,126294.343753185,103207.86569749,82220.4091233225,66335.6985949179,51783.2185206232,41346.0341762087,36748.0462528104,26484.6310980624,24148.4008814348,18419.5341046512,15264.1062795957,13733.2824658668,8567.09687467006,4346.98798276884,2700.31804259562,1729.41717334775,943.318458189684,593.021837750825,339.263656015588,0]},{\"_typename\":\"TH1D\",\"fUniqueID\":0,\"fBits\":50331656,\"fName\":\"hMassData\",\"fTitle\":\"hMassData\",\"fLineColor\":1,\"fLineStyle\":1,\"fLineWidth\":1,\"fFillColor\":0,\"fFillStyle\":1001,\"fMarkerColor\":1,\"fMarkerStyle\":20,\"fMarkerSize\":1,\"fNcells\":43,\"fXaxis\":{\"_typename\":\"TAxis\",\"fUniqueID\":0,\"fBits\":50331648,\"fName\":\"xaxis\",\"fTitle\":\"mass\",\"fNdivisions\":510,\"fAxisColor\":1,\"fLabelColor\":1,\"fLabelFont\":42,\"fLabelOffset\":0.005,\"fLabelSize\":0.035,\"fTickLength\":0.03,\"fTitleOffset\":1,\"fTitleSize\":0.035,\"fTitleColor\":1,\"fTitleFont\":42,\"fNbins\":41,\"fXmin\":15,\"fXmax\":1000,\"fXbins\":[15,20,25,30,35,40,45,50,55,60,64,68,72,76,81,86,91,96,101,106,110,115,120,126,133,141,150,160,171,185,200,220,243,273,320,380,440,510,600,700,830,1000],\"fFirst\":0,\"fLast\":0,\"fBits2\":0,\"fTimeDisplay\":false,\"fTimeFormat\":\"\",\"fLabels\":null,\"fModLabs\":null},\"fYaxis\":{\"_typename\":\"TAxis\",\"fUniqueID\":0,\"fBits\":50331648,\"fName\":\"yaxis\",\"fTitle\":\"\",\"fNdivisions\":510,\"fAxisColor\":1,\"fLabelColor\":1,\"fLabelFont\":42,\"fLabelOffset\":0.005,\"fLabelSize\":0.035,\"fTickLength\":0.03,\"fTitleOffset\":0,\"fTitleSize\":0.035,\"fTitleColor\":1,\"fTitleFont\":42,\"fNbins\":1,\"fXmin\":0,\"fXmax\":1,\"fXbins\":[],\"fFirst\":0,\"fLast\":0,\"fBits2\":0,\"fTimeDisplay\":false,\"fTimeFormat\":\"\",\"fLabels\":null,\"fModLabs\":null},\"fZaxis\":{\"_typename\":\"TAxis\",\"fUniqueID\":0,\"fBits\":50331648,\"fName\":\"zaxis\",\"fTitle\":\"\",\"fNdivisions\":510,\"fAxisColor\":1,\"fLabelColor\":1,\"fLabelFont\":42,\"fLabelOffset\":0.005,\"fLabelSize\":0.035,\"fTickLength\":0.03,\"fTitleOffset\":1,\"fTitleSize\":0.035,\"fTitleColor\":1,\"fTitleFont\":42,\"fNbins\":1,\"fXmin\":0,\"fXmax\":1,\"fXbins\":[],\"fFirst\":0,\"fLast\":0,\"fBits2\":0,\"fTimeDisplay\":false,\"fTimeFormat\":\"\",\"fLabels\":null,\"fModLabs\":null},\"fBarOffset\":0,\"fBarWidth\":1000,\"fEntries\":84,\"fTsumw\":0,\"fTsumw2\":0,\"fTsumwx\":0,\"fTsumwx2\":0,\"fMaximum\":-1111,\"fMinimum\":-1111,\"fNormFactor\":0,\"fContour\":[],\"fSumw2\":[0,354190.080403025,346057.618287304,451540.76788405,772158.546733911,1145638.6175712,1079638.17636216,858788.220419847,669618.704102083,604675.947518209,438350.201581421,425226.94514409,455800.656095433,576675.161994265,1076692.06077893,2628426.88719628,14979613.2986172,14822737.1977762,1716776.69890836,532519.168905497,228592.322014627,184529.209914,124613.148297961,106318.401015885,94989.4174228956,71465.7165792749,62095.826863256,51433.2163848596,40589.3417290412,40113.4463342847,30390.671644782,30289.5002957535,25184.5294057503,14950.7821623304,12766.9864280402,8245.47496549798,4065.33768581871,2422.51087524277,1531.35372588379,809.209885085399,438.363923545161,259.149941511725,0],\"fOption\":\"\",\"fFunctions\":{\"_typename\":\"TList\",\"name\":\"TList\",\"arr\":[],\"opt\":[]},\"fBufferSize\":0,\"fBuffer\":[],\"fBinStatErrOpt\":0,\"fStatOverflows\":2,\"fArray\":[0,231601.545077637,191589.485356229,204773.465516177,329747.38321275,448891.727350233,508937.184369203,454700.858425248,400697.182046845,365071.846606553,291702.440290716,316717.787961402,374226.576304988,490558.24373548,1009439.47829103,2552790.43538365,14868702.5682286,14670740.4245728,1679587.38194138,517726.243152872,217619.509422188,172365.050430081,116011.206079168,97046.35306654,80152.1977090478,64733.2623360599,51836.0978532667,41201.953991809,33057.3894584809,30187.6055349349,22492.1292352909,20301.0019936252,15238.5947751601,12473.9022376976,10516.9953785237,6898.93206627363,3398.62052122965,2035.57539389692,1315.17963535561,707.003415849517,387.405374564264,234.934981930282,0]},{\"_typename\":\"TLegend\",\"fUniqueID\":0,\"fBits\":50331656,\"fLineColor\":1,\"fLineStyle\":1,\"fLineWidth\":1,\"fFillColor\":0,\"fFillStyle\":1001,\"fX1\":2.54402282155851,\"fY1\":6.52422753565821,\"fX2\":3.00000001358918,\"fY2\":8.6989700691484,\"fX1NDC\":0.7,\"fY1NDC\":0.7,\"fX2NDC\":0.9,\"fY2NDC\":0.9,\"fBorderSize\":1,\"fInit\":1,\"fShadowColor\":1,\"fCornerRadius\":0,\"fOption\":\"brNDC\",\"fName\":\"TPave\",\"fTextAngle\":0,\"fTextSize\":0,\"fTextAlign\":12,\"fTextColor\":1,\"fTextFont\":42,\"fPrimitives\":{\"_typename\":\"TList\",\"name\":\"TList\",\"arr\":[{\"_typename\":\"TLegendEntry\",\"fUniqueID\":0,\"fBits\":50331656,\"fTextAngle\":0,\"fTextSize\":0,\"fTextAlign\":0,\"fTextColor\":0,\"fTextFont\":42,\"fLineColor\":1,\"fLineStyle\":1,\"fLineWidth\":1,\"fFillColor\":0,\"fFillStyle\":0,\"fMarkerColor\":1,\"fMarkerStyle\":20,\"fMarkerSize\":1,\"fObject\":{\"$ref\":32},\"fLabel\":\"Detector  data\",\"fOption\":\"ple\"},{\"_typename\":\"TLegendEntry\",\"fUniqueID\":0,\"fBits\":50331656,\"fTextAngle\":0,\"fTextSize\":0,\"fTextAlign\":0,\"fTextColor\":0,\"fTextFont\":42,\"fLineColor\":632,\"fLineStyle\":1,\"fLineWidth\":1,\"fFillColor\":0,\"fFillStyle\":0,\"fMarkerColor\":632,\"fMarkerStyle\":20,\"fMarkerSize\":1,\"fObject\":{\"$ref\":7},\"fLabel\":\"Det unfolded data\",\"fOption\":\"ple\"},{\"_typename\":\"TLegendEntry\",\"fUniqueID\":0,\"fBits\":50331656,\"fTextAngle\":0,\"fTextSize\":0,\"fTextAlign\":0,\"fTextColor\":0,\"fTextFont\":42,\"fLineColor\":600,\"fLineStyle\":1,\"fLineWidth\":1,\"fFillColor\":0,\"fFillStyle\":0,\"fMarkerColor\":600,\"fMarkerStyle\":20,\"fMarkerSize\":1,\"fObject\":{\"$ref\":12},\"fLabel\":\"Pre-FSR unfolded data\",\"fOption\":\"ple\"}],\"opt\":[\"ple\",\"ple\",\"ple\"]},\"fEntrySeparation\":0.1,\"fMargin\":0.25,\"fNColumns\":1,\"fColumnSeparation\":0},{\"_typename\":\"TPaveText\",\"fUniqueID\":0,\"fBits\":50331657,\"fLineColor\":1,\"fLineStyle\":1,\"fLineWidth\":1,\"fFillColor\":0,\"fFillStyle\":0,\"fX1\":1.67471955987838,\"fY1\":9.13391861878464,\"fX2\":2.5013716991773,\"fY2\":9.73197282440615,\"fX1NDC\":0.318707568328699,\"fY1NDC\":0.940000003948808,\"fX2NDC\":0.681292431671301,\"fY2NDC\":0.995000004768372,\"fBorderSize\":0,\"fInit\":1,\"fShadowColor\":1,\"fCornerRadius\":0,\"fOption\":\"blNDC\",\"fName\":\"title\",\"fTextAngle\":0,\"fTextSize\":0,\"fTextAlign\":22,\"fTextColor\":1,\"fTextFont\":42,\"fLabel\":\"\",\"fLongest\":17,\"fMargin\":0.05,\"fLines\":{\"_typename\":\"TList\",\"name\":\"TList\",\"arr\":[{\"_typename\":\"TLatex\",\"fUniqueID\":0,\"fBits\":50331648,\"fName\":\"\",\"fTitle\":\"hMassUnfoldedData\",\"fTextAngle\":0,\"fTextSize\":0,\"fTextAlign\":0,\"fTextColor\":0,\"fTextFont\":0,\"fX\":0,\"fY\":0,\"fLineColor\":1,\"fLineStyle\":1,\"fLineWidth\":2,\"fLimitFactorSize\":3,\"fOriginSize\":0.0467500016093254}],\"opt\":[\"\"]}}],\"opt\":[\"\",\"hist pe\",\"pe same\",\"pe same\",\"pe same\",\"pe same\",\"pe same\",\"\",\"blNDC\"]},\"fExecs\":{\"_typename\":\"TList\",\"name\":\"TList\",\"arr\":[],\"opt\":[]},\"fName\":\"pad_mass\",\"fTitle\":\"pad_mass\",\"fNumPaletteColor\":0,\"fNextPaletteColor\":0},{\"_typename\":\"TPad\",\"fUniqueID\":0,\"fBits\":50331657,\"fLineColor\":1,\"fLineStyle\":1,\"fLineWidth\":1,\"fFillColor\":0,\"fFillStyle\":1001,\"fLeftMargin\":0.1,\"fRightMargin\":0.1,\"fBottomMargin\":0.1,\"fTopMargin\":0.1,\"fXfile\":2,\"fYfile\":2,\"fAfile\":1,\"fXstat\":0.99,\"fYstat\":0.99,\"fAstat\":2,\"fFrameFillColor\":0,\"fFrameLineColor\":1,\"fFrameFillStyle\":1001,\"fFrameLineStyle\":1,\"fFrameLineWidth\":1,\"fFrameBorderSize\":1,\"fFrameBorderMode\":0,\"fX1\":0.948102649451167,\"fY1\":0.374999990686774,\"fX2\":3.22798860960451,\"fY2\":1.62500000931323,\"fXtoAbsPixelk\":-454.306809121301,\"fXtoPixelk\":-478.266808585754,\"fXtoPixel\":504.446284231576,\"fYtoAbsPixelk\":1263.65044620155,\"fYtoPixelk\":447.93844609676,\"fYtoPixel\":-275.654396018171,\"fUtoAbsPixelk\":23.9600494644523,\"fUtoPixelk\":5e-5,\"fUtoPixel\":1150.0800010711,\"fVtoAbsPixelk\":1160.28005026196,\"fVtoPixelk\":344.568000157177,\"fVtoPixel\":-344.568000157177,\"fAbsPixeltoXk\":0.900605026387195,\"fPixeltoXk\":0.948102649451167,\"fPixeltoX\":0.00198237162460876,\"fAbsPixeltoYk\":4.58418372590817,\"fPixeltoYk\":0.374999990686774,\"fPixeltoY\":-0.00362773100826616,\"fXlowNDC\":0,\"fYlowNDC\":0,\"fXUpNDC\":0,\"fYUpNDC\":0,\"fWNDC\":1,\"fHNDC\":0.3,\"fAbsXlowNDC\":0.00999999977648258,\"fAbsYlowNDC\":0.00999999977648258,\"fAbsWNDC\":0.480000000447035,\"fAbsHNDC\":0.29400000013411,\"fUxmin\":1.17609125905568,\"fUymin\":0.5,\"fUxmax\":3,\"fUymax\":1.5,\"fTheta\":30,\"fPhi\":30,\"fAspectRatio\":0,\"fNumber\":0,\"fTickx\":0,\"fTicky\":0,\"fLogx\":1,\"fLogy\":0,\"fLogz\":0,\"fPadPaint\":0,\"fCrosshair\":0,\"fCrosshairPos\":0,\"fBorderSize\":2,\"fBorderMode\":0,\"fModified\":false,\"fGridx\":true,\"fGridy\":true,\"fAbsCoord\":false,\"fEditable\":true,\"fFixedAspectRatio\":false,\"fPrimitives\":{\"_typename\":\"TList\",\"name\":\"TList\",\"arr\":[{\"_typename\":\"TFrame\",\"fUniqueID\":0,\"fBits\":50331656,\"fLineColor\":1,\"fLineStyle\":1,\"fLineWidth\":1,\"fFillColor\":0,\"fFillStyle\":1001,\"fX1\":1.17609125905568,\"fY1\":0.5,\"fX2\":3,\"fY2\":1.5,\"fBorderSize\":1,\"fBorderMode\":0},{\"_typename\":\"TH1D\",\"fUniqueID\":0,\"fBits\":50332168,\"fName\":\"ratioMass_detector\",\"fTitle\":\"hMassData\",\"fLineColor\":1,\"fLineStyle\":1,\"fLineWidth\":1,\"fFillColor\":0,\"fFillStyle\":1001,\"fMarkerColor\":1,\"fMarkerStyle\":20,\"fMarkerSize\":1,\"fNcells\":43,\"fXaxis\":{\"_typename\":\"TAxis\",\"fUniqueID\":0,\"fBits\":50331648,\"fName\":\"xaxis\",\"fTitle\":\"mass\",\"fNdivisions\":510,\"fAxisColor\":1,\"fLabelColor\":1,\"fLabelFont\":42,\"fLabelOffset\":0.005,\"fLabelSize\":0.035,\"fTickLength\":0.03,\"fTitleOffset\":1,\"fTitleSize\":0.035,\"fTitleColor\":1,\"fTitleFont\":42,\"fNbins\":41,\"fXmin\":15,\"fXmax\":1000,\"fXbins\":[15,20,25,30,35,40,45,50,55,60,64,68,72,76,81,86,91,96,101,106,110,115,120,126,133,141,150,160,171,185,200,220,243,273,320,380,440,510,600,700,830,1000],\"fFirst\":0,\"fLast\":0,\"fBits2\":0,\"fTimeDisplay\":false,\"fTimeFormat\":\"\",\"fLabels\":null,\"fModLabs\":null},\"fYaxis\":{\"_typename\":\"TAxis\",\"fUniqueID\":0,\"fBits\":50331656,\"fName\":\"yaxis\",\"fTitle\":\"Data\\/ MC\",\"fNdivisions\":510,\"fAxisColor\":1,\"fLabelColor\":1,\"fLabelFont\":42,\"fLabelOffset\":0.005,\"fLabelSize\":0.035,\"fTickLength\":0.03,\"fTitleOffset\":0,\"fTitleSize\":0.035,\"fTitleColor\":1,\"fTitleFont\":42,\"fNbins\":1,\"fXmin\":0,\"fXmax\":1,\"fXbins\":[],\"fFirst\":0,\"fLast\":0,\"fBits2\":0,\"fTimeDisplay\":false,\"fTimeFormat\":\"\",\"fLabels\":null,\"fModLabs\":null},\"fZaxis\":{\"_typename\":\"TAxis\",\"fUniqueID\":0,\"fBits\":50331648,\"fName\":\"zaxis\",\"fTitle\":\"\",\"fNdivisions\":510,\"fAxisColor\":1,\"fLabelColor\":1,\"fLabelFont\":42,\"fLabelOffset\":0.005,\"fLabelSize\":0.035,\"fTickLength\":0.03,\"fTitleOffset\":1,\"fTitleSize\":0.035,\"fTitleColor\":1,\"fTitleFont\":42,\"fNbins\":1,\"fXmin\":0,\"fXmax\":1,\"fXbins\":[],\"fFirst\":0,\"fLast\":0,\"fBits2\":0,\"fTimeDisplay\":false,\"fTimeFormat\":\"\",\"fLabels\":null,\"fModLabs\":null},\"fBarOffset\":0,\"fBarWidth\":1000,\"fEntries\":32776.1185913703,\"fTsumw\":43.4463029549297,\"fTsumw2\":0.0575901394544172,\"fTsumwx\":8017.24381251129,\"fTsumwx2\":3257771.23090236,\"fMaximum\":1.5,\"fMinimum\":0.5,\"fNormFactor\":0,\"fContour\":[],\"fSumw2\":[0,2.90155710511816e-4,3.26326495561397e-4,3.58652718660128e-4,2.17526401652224e-4,1.06744095222479e-4,6.041698239059e-5,5.59315545595562e-5,2.13681723584759e-5,1.87059702765384e-5,2.19131425984587e-5,1.86551167421521e-5,1.49916446991847e-5,1.09389877572078e-5,5.05586248828259e-6,1.99215293664957e-6,3.30147679438619e-7,3.3244205745406e-7,3.08181559153436e-6,1.0284485901321e-5,2.53224746192153e-5,3.20056229373832e-5,4.84490600463867e-5,5.88573662052777e-5,7.36688393046825e-5,9.59321005413965e-5,1.15140037758121e-4,1.54091783084457e-4,1.97636109136319e-4,2.27808073082565e-4,3.14205157555399e-4,4.05281150378687e-4,4.9929800344911e-4,5.46272537138412e-4,5.67376401570636e-4,9.25851633376801e-4,0.00192838688413552,0.00290384880818206,0.00408087569795543,0.00900295062131457,0.0100947215475365,0.0237487556454634,0],\"fOption\":\"\",\"fFunctions\":{\"_typename\":\"TList\",\"name\":\"TList\",\"arr\":[],\"opt\":[]},\"fBufferSize\":0,\"fBuffer\":[],\"fBinStatErrOpt\":0,\"fStatOverflows\":2,\"fArray\":[0,1.34538608005981,1.30705670187021,1.36762892840368,1.352592822156,1.1733383819357,1.03534081737586,1.00892602912329,1.07773628545441,1.05796879224228,1.0452946615176,1.02602933318684,1.00721449819139,1.00209635045134,0.991093772596162,0.991301892387996,0.98138588317239,0.978558959910036,0.996249219256131,1.00477987612458,1.01120831555233,1.01054396723891,1.01742951018273,1.02295059128442,1.02605879604882,1.04466304616907,1.02514395461082,1.03981242474359,1.04826923162481,1.06484143740312,1.06995059544207,1.10851827122773,1.07990715341254,1.06038545857589,1.00068566779388,1.04493131432274,1.05278005988936,1.00747387555553,0.97800375509715,1.05521003355428,0.892117574613006,1.03543863517118,0]},{\"_typename\":\"TH1D\",\"fUniqueID\":0,\"fBits\":50332168,\"fName\":\"ratioMass_dressed\",\"fTitle\":\"hMassUnfoldedData\",\"fLineColor\":632,\"fLineStyle\":1,\"fLineWidth\":1,\"fFillColor\":0,\"fFillStyle\":1001,\"fMarkerColor\":632,\"fMarkerStyle\":20,\"fMarkerSize\":1,\"fNcells\":43,\"fXaxis\":{\"_typename\":\"TAxis\",\"fUniqueID\":0,\"fBits\":50331656,\"fName\":\"xaxis\",\"fTitle\":\"mass\",\"fNdivisions\":520,\"fAxisColor\":1,\"fLabelColor\":1,\"fLabelFont\":42,\"fLabelOffset\":0.005,\"fLabelSize\":0.035,\"fTickLength\":0.03,\"fTitleOffset\":1,\"fTitleSize\":0.035,\"fTitleColor\":1,\"fTitleFont\":42,\"fNbins\":41,\"fXmin\":15,\"fXmax\":1000,\"fXbins\":[15,20,25,30,35,40,45,50,55,60,64,68,72,76,81,86,91,96,101,106,110,115,120,126,133,141,150,160,171,185,200,220,243,273,320,380,440,510,600,700,830,1000],\"fFirst\":0,\"fLast\":0,\"fBits2\":0,\"fTimeDisplay\":false,\"fTimeFormat\":\"\",\"fLabels\":null,\"fModLabs\":null},\"fYaxis\":{\"_typename\":\"TAxis\",\"fUniqueID\":0,\"fBits\":50331656,\"fName\":\"yaxis\",\"fTitle\":\"Events\\/ bin\",\"fNdivisions\":10,\"fAxisColor\":1,\"fLabelColor\":1,\"fLabelFont\":42,\"fLabelOffset\":0.005,\"fLabelSize\":0.035,\"fTickLength\":0.03,\"fTitleOffset\":0,\"fTitleSize\":0.035,\"fTitleColor\":1,\"fTitleFont\":42,\"fNbins\":1,\"fXmin\":0,\"fXmax\":1,\"fXbins\":[],\"fFirst\":0,\"fLast\":0,\"fBits2\":0,\"fTimeDisplay\":false,\"fTimeFormat\":\"\",\"fLabels\":null,\"fModLabs\":null},\"fZaxis\":{\"_typename\":\"TAxis\",\"fUniqueID\":0,\"fBits\":50331648,\"fName\":\"zaxis\",\"fTitle\":\"\",\"fNdivisions\":510,\"fAxisColor\":1,\"fLabelColor\":1,\"fLabelFont\":42,\"fLabelOffset\":0.005,\"fLabelSize\":0.035,\"fTickLength\":0.03,\"fTitleOffset\":1,\"fTitleSize\":0.035,\"fTitleColor\":1,\"fTitleFont\":42,\"fNbins\":1,\"fXmin\":0,\"fXmax\":1,\"fXbins\":[],\"fFirst\":0,\"fLast\":0,\"fBits2\":0,\"fTimeDisplay\":false,\"fTimeFormat\":\"\",\"fLabels\":null,\"fModLabs\":null},\"fBarOffset\":0,\"fBarWidth\":1000,\"fEntries\":104988.465751742,\"fTsumw\":43.5745526069665,\"fTsumw2\":0.0180852403290386,\"fTsumwx\":8042.97513613398,\"fTsumwx2\":3274154.77314865,\"fMaximum\":500000000,\"fMinimum\":1,\"fNormFactor\":0,\"fContour\":[],\"fSumw2\":[0,1.30564033652696e-5,1.81172232360802e-5,2.34870014955172e-5,1.54404173526414e-5,9.6900636965344e-6,5.60015930108414e-6,5.58998438668771e-6,7.02095610790964e-6,7.86294855861925e-6,1.05792102631019e-5,9.66314448819364e-6,8.20363563453607e-6,6.69475902541334e-6,2.95135273089705e-6,1.29495279668013e-6,1.68441137882013e-7,1.37599038346306e-7,1.70674410029096e-6,4.84262637407169e-6,1.43557840394806e-5,1.63710018168195e-5,2.52818672392249e-5,2.7275919544548e-5,3.26164447460859e-5,3.7501490107477e-5,4.70986418374582e-5,6.25124501360117e-5,7.53834534295724e-5,8.33467144083863e-5,1.22895820480133e-4,1.44175304938221e-4,2.01922093946938e-4,1.69820822792877e-4,1.59120653821804e-4,2.70132380371204e-4,6.34805661823737e-4,9.3922513108289e-4,0.00134550970070038,0.00262806384118019,0.00326843514426339,0.00762728238324197,0],\"fOption\":\"\",\"fFunctions\":{\"_typename\":\"TList\",\"name\":\"TList\",\"arr\":[],\"opt\":[]},\"fBufferSize\":0,\"fBuffer\":[],\"fBinStatErrOpt\":0,\"fStatOverflows\":2,\"fArray\":[0,1.33775947022676,1.30488228787315,1.37018545687996,1.36371902873264,1.17890517236691,1.03167450796909,1.00341624528059,1.08820288855287,1.0632864121495,1.05518799038885,1.0372398538594,1.01585667999854,1.01549959835155,0.998958615446823,1.00552093813234,0.985482929885217,0.977948382923559,1.00714901284705,1.00631945865457,1.01591884367243,1.010503330715,1.02020559501189,1.02551577943615,1.02272052643557,1.05215484975569,1.01859050076508,1.04162924720785,1.04650254725599,1.06705645287905,1.06433526288223,1.11656231617701,1.07828076511254,1.06587024705547,0.992465654390969,1.04886835350239,1.0613124108704,1.00521630211635,0.960514728552808,1.0815001187089,0.870480957291863,1.06115288665156,0]},{\"_typename\":\"TH1D\",\"fUniqueID\":0,\"fBits\":50331656,\"fName\":\"ratioMass_preFSR\",\"fTitle\":\"hMassUnfoldedData_\",\"fLineColor\":616,\"fLineStyle\":1,\"fLineWidth\":1,\"fFillColor\":0,\"fFillStyle\":1001,\"fMarkerColor\":616,\"fMarkerStyle\":22,\"fMarkerSize\":0.5,\"fNcells\":43,\"fXaxis\":{\"_typename\":\"TAxis\",\"fUniqueID\":0,\"fBits\":50331648,\"fName\":\"xaxis\",\"fTitle\":\"mass\",\"fNdivisions\":510,\"fAxisColor\":1,\"fLabelColor\":1,\"fLabelFont\":42,\"fLabelOffset\":0.005,\"fLabelSize\":0.035,\"fTickLength\":0.03,\"fTitleOffset\":1,\"fTitleSize\":0.035,\"fTitleColor\":1,\"fTitleFont\":42,\"fNbins\":41,\"fXmin\":15,\"fXmax\":1000,\"fXbins\":[15,20,25,30,35,40,45,50,55,60,64,68,72,76,81,86,91,96,101,106,110,115,120,126,133,141,150,160,171,185,200,220,243,273,320,380,440,510,600,700,830,1000],\"fFirst\":0,\"fLast\":0,\"fBits2\":0,\"fTimeDisplay\":false,\"fTimeFormat\":\"\",\"fLabels\":null,\"fModLabs\":null},\"fYaxis\":{\"_typename\":\"TAxis\",\"fUniqueID\":0,\"fBits\":50331648,\"fName\":\"yaxis\",\"fTitle\":\"\",\"fNdivisions\":510,\"fAxisColor\":1,\"fLabelColor\":1,\"fLabelFont\":42,\"fLabelOffset\":0.005,\"fLabelSize\":0.035,\"fTickLength\":0.03,\"fTitleOffset\":0,\"fTitleSize\":0.035,\"fTitleColor\":1,\"fTitleFont\":42,\"fNbins\":1,\"fXmin\":0,\"fXmax\":1,\"fXbins\":[],\"fFirst\":0,\"fLast\":0,\"fBits2\":0,\"fTimeDisplay\":false,\"fTimeFormat\":\"\",\"fLabels\":null,\"fModLabs\":null},\"fZaxis\":{\"_typename\":\"TAxis\",\"fUniqueID\":0,\"fBits\":50331648,\"fName\":\"zaxis\",\"fTitle\":\"\",\"fNdivisions\":510,\"fAxisColor\":1,\"fLabelColor\":1,\"fLabelFont\":42,\"fLabelOffset\":0.005,\"fLabelSize\":0.035,\"fTickLength\":0.03,\"fTitleOffset\":1,\"fTitleSize\":0.035,\"fTitleColor\":1,\"fTitleFont\":42,\"fNbins\":1,\"fXmin\":0,\"fXmax\":1,\"fXbins\":[],\"fFirst\":0,\"fLast\":0,\"fBits2\":0,\"fTimeDisplay\":false,\"fTimeFormat\":\"\",\"fLabels\":null,\"fModLabs\":null},\"fBarOffset\":0,\"fBarWidth\":1000,\"fEntries\":101374.349444353,\"fTsumw\":43.6583718177781,\"fTsumw2\":0.0188021273648286,\"fTsumwx\":8045.43065822875,\"fTsumwx2\":3271915.50887934,\"fMaximum\":-1111,\"fMinimum\":-1111,\"fNormFactor\":0,\"fContour\":[],\"fSumw2\":[0,9.90610820017604e-6,1.37933063328175e-5,1.59239320200828e-5,1.04502099256953e-5,6.40551557457386e-6,4.83759748424322e-6,5.95456511276962e-6,9.02969380073075e-6,1.14991634245018e-5,1.74984193242037e-5,1.80375945053848e-5,1.66906961453738e-5,1.43656090831269e-5,6.28605366685131e-6,2.49363846783351e-6,2.02874361862822e-7,1.3868927650741e-7,1.73987582534279e-6,5.10213310066088e-6,1.54731146732338e-5,1.78239016010835e-5,2.75673805239417e-5,2.99909952021788e-5,3.55685771426263e-5,4.06322527564462e-5,5.07639616119853e-5,6.7779714711617e-5,8.09294964534839e-5,8.91543955789062e-5,1.31019381399102e-4,1.54644470543914e-4,2.14076961454549e-4,1.78230349319272e-4,1.64356545742754e-4,2.79529412195756e-4,6.59913107257907e-4,9.70511378548444e-4,0.00136264873827515,0.0026240039134586,0.00357573183250502,0.00786142180823993,0],\"fOption\":\"\",\"fFunctions\":{\"_typename\":\"TList\",\"name\":\"TList\",\"arr\":[],\"opt\":[]},\"fBufferSize\":0,\"fBuffer\":[],\"fBinStatErrOpt\":0,\"fStatOverflows\":2,\"fArray\":[0,1.3357584430339,1.30424771468794,1.36699805745344,1.36413651242021,1.1805522238856,1.03309420256328,1.00182985890318,1.09982600954583,1.07679614277502,1.07215352425884,1.05417272012131,1.02638303725541,1.02817130875666,1.00336167366776,1.0132594147899,0.985822105071461,0.977837386052607,1.00676641496913,1.00609558143527,1.01588228635841,1.0100116124135,1.01979159657471,1.025429248636,1.02172639824292,1.05300391190403,1.01782819534727,1.04124152494153,1.04575264168076,1.06686019182604,1.06282928878696,1.11765172253454,1.07923191428893,1.06750172353997,0.991955105185002,1.04826677076094,1.06246193851068,1.00613108832211,0.960091055700591,1.08124294483572,0.863512906030587,1.06270541971019,0]},{\"_typename\":\"TH1D\",\"fUniqueID\":0,\"fBits\":50331656,\"fName\":\"ratioMassMC_preFSR\",\"fTitle\":\"hMassUnfoldedMC_closure\",\"fLineColor\":616,\"fLineStyle\":1,\"fLineWidth\":1,\"fFillColor\":0,\"fFillStyle\":1001,\"fMarkerColor\":1,\"fMarkerStyle\":25,\"fMarkerSize\":1,\"fNcells\":43,\"fXaxis\":{\"_typename\":\"TAxis\",\"fUniqueID\":0,\"fBits\":50331648,\"fName\":\"xaxis\",\"fTitle\":\"mass\",\"fNdivisions\":510,\"fAxisColor\":1,\"fLabelColor\":1,\"fLabelFont\":42,\"fLabelOffset\":0.005,\"fLabelSize\":0.035,\"fTickLength\":0.03,\"fTitleOffset\":1,\"fTitleSize\":0.035,\"fTitleColor\":1,\"fTitleFont\":42,\"fNbins\":41,\"fXmin\":15,\"fXmax\":1000,\"fXbins\":[15,20,25,30,35,40,45,50,55,60,64,68,72,76,81,86,91,96,101,106,110,115,120,126,133,141,150,160,171,185,200,220,243,273,320,380,440,510,600,700,830,1000],\"fFirst\":0,\"fLast\":0,\"fBits2\":0,\"fTimeDisplay\":false,\"fTimeFormat\":\"\",\"fLabels\":null,\"fModLabs\":null},\"fYaxis\":{\"_typename\":\"TAxis\",\"fUniqueID\":0,\"fBits\":50331648,\"fName\":\"yaxis\",\"fTitle\":\"\",\"fNdivisions\":510,\"fAxisColor\":1,\"fLabelColor\":1,\"fLabelFont\":42,\"fLabelOffset\":0.005,\"fLabelSize\":0.035,\"fTickLength\":0.03,\"fTitleOffset\":0,\"fTitleSize\":0.035,\"fTitleColor\":1,\"fTitleFont\":42,\"fNbins\":1,\"fXmin\":0,\"fXmax\":1,\"fXbins\":[],\"fFirst\":0,\"fLast\":0,\"fBits2\":0,\"fTimeDisplay\":false,\"fTimeFormat\":\"\",\"fLabels\":null,\"fModLabs\":null},\"fZaxis\":{\"_typename\":\"TAxis\",\"fUniqueID\":0,\"fBits\":50331648,\"fName\":\"zaxis\",\"fTitle\":\"\",\"fNdivisions\":510,\"fAxisColor\":1,\"fLabelColor\":1,\"fLabelFont\":42,\"fLabelOffset\":0.005,\"fLabelSize\":0.035,\"fTickLength\":0.03,\"fTitleOffset\":1,\"fTitleSize\":0.035,\"fTitleColor\":1,\"fTitleFont\":42,\"fNbins\":1,\"fXmin\":0,\"fXmax\":1,\"fXbins\":[],\"fFirst\":0,\"fLast\":0,\"fBits2\":0,\"fTimeDisplay\":false,\"fTimeFormat\":\"\",\"fLabels\":null,\"fModLabs\":null},\"fBarOffset\":0,\"fBarWidth\":1000,\"fEntries\":25175.2808097889,\"fTsumw\":41.0578087774495,\"fTsumw2\":0.0669602724331932,\"fTsumwx\":7840.02808379105,\"fTsumwx2\":3234721.73745855,\"fMaximum\":-1111,\"fMinimum\":-1111,\"fNormFactor\":0,\"fContour\":[],\"fSumw2\":[0,1.67873821104868e-4,2.04205629551689e-4,2.11054021097636e-4,1.32889776853705e-4,8.90081194065722e-5,6.53837472949113e-5,6.68644765230808e-5,2.08123550794073e-5,1.88916692153195e-5,2.80594865456461e-5,2.92434913493633e-5,2.85966915223412e-5,2.36906330735729e-5,1.16310563797182e-5,5.30876700682518e-6,7.09912571263897e-7,5.80543936290993e-7,7.05588021232127e-6,1.97960583129339e-5,5.79666177048042e-5,6.48877056070789e-5,9.89725515846864e-5,1.03700232099582e-4,1.16054177893067e-4,1.42303971769829e-4,1.67705438768348e-4,2.14384545163605e-4,2.62998476536032e-4,2.62336333361501e-4,3.82458741993797e-4,4.0884880792961e-4,5.13255503610896e-4,6.10798967888896e-4,6.20575763110782e-4,9.63875464300379e-4,0.00226169357836436,0.00360225027637881,0.00536508363413898,0.00944592951677513,0.0136911090689179,0.0264714269222576,0],\"fOption\":\"\",\"fFunctions\":{\"_typename\":\"TList\",\"name\":\"TList\",\"arr\":[],\"opt\":[]},\"fBufferSize\":0,\"fBuffer\":[],\"fBinStatErrOpt\":0,\"fStatOverflows\":2,\"fArray\":[0,1.0005022073968,1.00026545532437,1.00028008621744,1.00025733094421,1.0002579576784,1.00056369673306,1.00092721538366,1.00131290208087,1.0027090734359,1.00374971258753,1.0046559993405,1.00604003695164,1.00659889176268,1.00767528079145,1.00762750798121,1.00292208273494,1.00095897519057,1.00186626222102,1.0017674848535,1.00186471908571,1.00172257698834,1.00176990272068,1.00141474800354,1.00013572045397,0.999968702628696,0.999998754978402,0.99999801549545,0.999997939293834,1.00000157776031,0.999997721357315,1.00000027635927,0.999999758723252,0.999999695781917,1.00000039778174,1.00000000934849,0.999999989867076,1.00000014353206,0.999999962722863,1.00000000439983,0.999999999697861,1.00000000085914,0]},{\"_typename\":\"TH1D\",\"fUniqueID\":0,\"fBits\":50331656,\"fName\":\"ratioMass_preFSR_twoStep\",\"fTitle\":\"hMassFSRUnfoldedData\",\"fLineColor\":600,\"fLineStyle\":1,\"fLineWidth\":1,\"fFillColor\":0,\"fFillStyle\":1001,\"fMarkerColor\":600,\"fMarkerStyle\":20,\"fMarkerSize\":1,\"fNcells\":43,\"fXaxis\":{\"_typename\":\"TAxis\",\"fUniqueID\":0,\"fBits\":50331648,\"fName\":\"xaxis\",\"fTitle\":\"mass\",\"fNdivisions\":510,\"fAxisColor\":1,\"fLabelColor\":1,\"fLabelFont\":42,\"fLabelOffset\":0.005,\"fLabelSize\":0.035,\"fTickLength\":0.03,\"fTitleOffset\":1,\"fTitleSize\":0.035,\"fTitleColor\":1,\"fTitleFont\":42,\"fNbins\":41,\"fXmin\":15,\"fXmax\":1000,\"fXbins\":[15,20,25,30,35,40,45,50,55,60,64,68,72,76,81,86,91,96,101,106,110,115,120,126,133,141,150,160,171,185,200,220,243,273,320,380,440,510,600,700,830,1000],\"fFirst\":0,\"fLast\":0,\"fBits2\":0,\"fTimeDisplay\":false,\"fTimeFormat\":\"\",\"fLabels\":null,\"fModLabs\":null},\"fYaxis\":{\"_typename\":\"TAxis\",\"fUniqueID\":0,\"fBits\":50331648,\"fName\":\"yaxis\",\"fTitle\":\"\",\"fNdivisions\":510,\"fAxisColor\":1,\"fLabelColor\":1,\"fLabelFont\":42,\"fLabelOffset\":0.005,\"fLabelSize\":0.035,\"fTickLength\":0.03,\"fTitleOffset\":0,\"fTitleSize\":0.035,\"fTitleColor\":1,\"fTitleFont\":42,\"fNbins\":1,\"fXmin\":0,\"fXmax\":1,\"fXbins\":[],\"fFirst\":0,\"fLast\":0,\"fBits2\":0,\"fTimeDisplay\":false,\"fTimeFormat\":\"\",\"fLabels\":null,\"fModLabs\":null},\"fZaxis\":{\"_typename\":\"TAxis\",\"fUniqueID\":0,\"fBits\":50331648,\"fName\":\"zaxis\",\"fTitle\":\"\",\"fNdivisions\":510,\"fAxisColor\":1,\"fLabelColor\":1,\"fLabelFont\":42,\"fLabelOffset\":0.005,\"fLabelSize\":0.035,\"fTickLength\":0.03,\"fTitleOffset\":1,\"fTitleSize\":0.035,\"fTitleColor\":1,\"fTitleFont\":42,\"fNbins\":1,\"fXmin\":0,\"fXmax\":1,\"fXbins\":[],\"fFirst\":0,\"fLast\":0,\"fBits2\":0,\"fTimeDisplay\":false,\"fTimeFormat\":\"\",\"fLabels\":null,\"fModLabs\":null},\"fBarOffset\":0,\"fBarWidth\":1000,\"fEntries\":100632.901466221,\"fTsumw\":43.7707117992489,\"fTsumw2\":0.0190382586957009,\"fTsumwx\":8052.2539900803,\"fTsumwx2\":3273488.89595028,\"fMaximum\":-1111,\"fMinimum\":-1111,\"fNormFactor\":0,\"fContour\":[],\"fSumw2\":[0,1.37078882950086e-5,1.94841504600748e-5,2.61240404864987e-5,1.75808282945754e-5,1.11660322810294e-5,6.61121744730568e-6,7.18781893899136e-6,1.04702538679789e-5,1.38845475929187e-5,2.20221095216065e-5,2.35585388543567e-5,2.21217918012205e-5,1.93253033624374e-5,7.94157474776879e-6,2.72625781989138e-6,1.93639051673799e-7,1.38933215244193e-7,1.7731073910867e-6,5.1476694588082e-6,1.56415569523228e-5,1.78536648422259e-5,2.77959289659456e-5,2.99058254758441e-5,3.56998179351253e-5,4.11773778877585e-5,5.13720285530752e-5,6.83253401547205e-5,8.24763326771315e-5,9.04640809735764e-5,1.32912440205535e-4,1.55660711218279e-4,2.18039178856897e-4,1.81287883436724e-4,1.66790765220816e-4,2.83787384357466e-4,6.72427241631409e-4,9.98676828964908e-4,0.00140904921648103,0.00264353010826155,0.00346539896236353,0.00801882031739657,0],\"fOption\":\"\",\"fFunctions\":{\"_typename\":\"TList\",\"name\":\"TList\",\"arr\":[],\"opt\":[]},\"fBufferSize\":0,\"fBuffer\":[],\"fBinStatErrOpt\":0,\"fStatOverflows\":2,\"fArray\":[0,1.34222065059954,1.310111623329,1.38146508882647,1.38254383889189,1.19079516878921,1.03393585049256,1.00152016023296,1.10667439949488,1.08478789865155,1.08227667040073,1.06352925686612,1.03289223468677,1.03540753487312,1.00675314109395,1.01559892012372,0.985974278079086,0.977810301657275,1.00712575103684,1.00602610655138,1.01598735102727,1.00996958247464,1.01983654280829,1.02533756111704,1.02167137157732,1.05326246267497,1.0173693407756,1.04116117067576,1.04554667413358,1.06679519802202,1.06264317462278,1.11820148694304,1.07929466561323,1.06801893622804,0.991301851511266,1.04884255141187,1.06323472424436,1.00668183421725,0.95773710007868,1.08213517531284,0.86494581676423,1.06328835233775,0]},{\"_typename\":\"TLine\",\"fUniqueID\":0,\"fBits\":50331656,\"fLineColor\":632,\"fLineStyle\":1,\"fLineWidth\":1,\"fX1\":15,\"fY1\":1,\"fX2\":1000,\"fY2\":1},{\"_typename\":\"TPaveText\",\"fUniqueID\":0,\"fBits\":50331657,\"fLineColor\":1,\"fLineStyle\":1,\"fLineWidth\":1,\"fFillColor\":0,\"fFillStyle\":0,\"fX1\":1.97108411775739,\"fY1\":1.55000001313165,\"fX2\":2.20500714129829,\"fY2\":1.61875001518056,\"fX1NDC\":0.448698525358443,\"fY1NDC\":0.940000003948808,\"fX2NDC\":0.551301474641557,\"fY2NDC\":0.995000004768372,\"fBorderSize\":0,\"fInit\":1,\"fShadowColor\":1,\"fCornerRadius\":0,\"fOption\":\"blNDC\",\"fName\":\"title\",\"fTextAngle\":0,\"fTextSize\":0,\"fTextAlign\":22,\"fTextColor\":1,\"fTextFont\":42,\"fLabel\":\"\",\"fLongest\":9,\"fMargin\":0.05,\"fLines\":{\"_typename\":\"TList\",\"name\":\"TList\",\"arr\":[{\"_typename\":\"TLatex\",\"fUniqueID\":0,\"fBits\":50331648,\"fName\":\"\",\"fTitle\":\"hMassData\",\"fTextAngle\":0,\"fTextSize\":0,\"fTextAlign\":0,\"fTextColor\":0,\"fTextFont\":0,\"fX\":0,\"fY\":0,\"fLineColor\":1,\"fLineStyle\":1,\"fLineWidth\":2,\"fLimitFactorSize\":3,\"fOriginSize\":0.0467500016093254}],\"opt\":[\"\"]}}],\"opt\":[\"\",\"pe\",\"pe same\",\"pe same\",\"pe same\",\"pe same\",\"same\",\"blNDC\"]},\"fExecs\":{\"_typename\":\"TList\",\"name\":\"TList\",\"arr\":[],\"opt\":[]},\"fName\":\"ratio_mass\",\"fTitle\":\"raio_mass\",\"fNumPaletteColor\":0,\"fNextPaletteColor\":0}],\"opt\":[\"\",\"\"]},\"fExecs\":{\"_typename\":\"TList\",\"name\":\"TList\",\"arr\":[],\"opt\":[]},\"fName\":\"c_1\",\"fTitle\":\"c_1\",\"fNumPaletteColor\":0,\"fNextPaletteColor\":0},{\"_typename\":\"TPad\",\"fUniqueID\":0,\"fBits\":50331657,\"fLineColor\":1,\"fLineStyle\":1,\"fLineWidth\":1,\"fFillColor\":0,\"fFillStyle\":1001,\"fLeftMargin\":0.1,\"fRightMargin\":0.1,\"fBottomMargin\":0.1,\"fTopMargin\":0.1,\"fXfile\":2,\"fYfile\":2,\"fAfile\":1,\"fXstat\":0.99,\"fYstat\":0.99,\"fAstat\":2,\"fFrameFillColor\":0,\"fFrameLineColor\":1,\"fFrameFillStyle\":1001,\"fFrameLineStyle\":1,\"fFrameLineWidth\":1,\"fFrameBorderSize\":1,\"fFrameBorderMode\":0,\"fX1\":0,\"fY1\":0,\"fX2\":1,\"fY2\":1,\"fXtoAbsPixelk\":1221.96004946445,\"fXtoPixelk\":5e-5,\"fXtoPixel\":1150.0800010711,\"fYtoAbsPixelk\":1160.28005026196,\"fYtoPixelk\":1148.56005052392,\"fYtoPixel\":-1148.56000052392,\"fUtoAbsPixelk\":1221.96004946445,\"fUtoPixelk\":5e-5,\"fUtoPixel\":1150.0800010711,\"fVtoAbsPixelk\":1160.28005026196,\"fVtoPixelk\":1148.56000052392,\"fVtoPixel\":-1148.56000052392,\"fAbsPixeltoXk\":-1.06249999854481,\"fPixeltoXk\":0,\"fPixeltoX\":8.69504729295942e-4,\"fAbsPixeltoYk\":1.01020408139992,\"fPixeltoYk\":0,\"fPixeltoY\":-8.70655429010101e-4,\"fXlowNDC\":0.509999999776483,\"fYlowNDC\":0.00999999977648258,\"fXUpNDC\":0,\"fYUpNDC\":0,\"fWNDC\":0.480000000447035,\"fHNDC\":0.980000000447035,\"fAbsXlowNDC\":0.509999999776483,\"fAbsYlowNDC\":0.00999999977648258,\"fAbsWNDC\":0.480000000447035,\"fAbsHNDC\":0.980000000447035,\"fUxmin\":0,\"fUymin\":0,\"fUxmax\":1,\"fUymax\":1,\"fTheta\":30,\"fPhi\":30,\"fAspectRatio\":0,\"fNumber\":2,\"fTickx\":0,\"fTicky\":0,\"fLogx\":0,\"fLogy\":0,\"fLogz\":0,\"fPadPaint\":0,\"fCrosshair\":0,\"fCrosshairPos\":0,\"fBorderSize\":2,\"fBorderMode\":0,\"fModified\":false,\"fGridx\":false,\"fGridy\":false,\"fAbsCoord\":false,\"fEditable\":true,\"fFixedAspectRatio\":false,\"fPrimitives\":{\"_typename\":\"TList\",\"name\":\"TList\",\"arr\":[{\"_typename\":\"TPad\",\"fUniqueID\":0,\"fBits\":50331657,\"fLineColor\":1,\"fLineStyle\":1,\"fLineWidth\":1,\"fFillColor\":0,\"fFillStyle\":1001,\"fLeftMargin\":0.1,\"fRightMargin\":0.1,\"fBottomMargin\":0.1,\"fTopMargin\":0.1,\"fXfile\":2,\"fYfile\":2,\"fAfile\":1,\"fXstat\":0.99,\"fYstat\":0.99,\"fAstat\":2,\"fFrameFillColor\":0,\"fFrameLineColor\":1,\"fFrameFillStyle\":1001,\"fFrameLineStyle\":1,\"fFrameLineWidth\":1,\"fFrameBorderSize\":1,\"fFrameBorderMode\":0,\"fX1\":-6.25000050291422,\"fY1\":-1.08737133155748,\"fX2\":61.2500005029142,\"fY2\":9.7863413358935,\"fXtoAbsPixelk\":1328.44894543447,\"fXtoPixelk\":106.48894597002,\"fXtoPixel\":17.038221984201,\"fYtoAbsPixelk\":735.312845275944,\"fYtoPixelk\":723.592845537907,\"fYtoPixel\":-73.9390514495928,\"fUtoAbsPixelk\":1221.96004946445,\"fUtoPixelk\":5e-5,\"fUtoPixel\":1150.0800010711,\"fVtoAbsPixelk\":815.712050104785,\"fVtoPixelk\":803.992000366747,\"fVtoPixel\":-803.992000366747,\"fAbsPixeltoXk\":-77.9687514733815,\"fPixeltoXk\":-6.25000050291422,\"fPixeltoX\":0.0586915701020487,\"fAbsPixeltoYk\":9.94485026329065,\"fPixeltoYk\":-1.08737133155748,\"fPixeltoY\":-0.0135246528105887,\"fXlowNDC\":0,\"fYlowNDC\":0.3,\"fXUpNDC\":0,\"fYUpNDC\":0,\"fWNDC\":1,\"fHNDC\":0.7,\"fAbsXlowNDC\":0.509999999776483,\"fAbsYlowNDC\":0.303999999910593,\"fAbsWNDC\":0.480000000447035,\"fAbsHNDC\":0.686000000312924,\"fUxmin\":0.5,\"fUymin\":0,\"fUxmax\":54.5,\"fUymax\":8.69897000433602,\"fTheta\":30,\"fPhi\":30,\"fAspectRatio\":0,\"fNumber\":0,\"fTickx\":0,\"fTicky\":0,\"fLogx\":0,\"fLogy\":1,\"fLogz\":0,\"fPadPaint\":0,\"fCrosshair\":0,\"fCrosshairPos\":0,\"fBorderSize\":2,\"fBorderMode\":0,\"fModified\":false,\"fGridx\":false,\"fGridy\":true,\"fAbsCoord\":false,\"fEditable\":true,\"fFixedAspectRatio\":false,\"fPrimitives\":{\"_typename\":\"TList\",\"name\":\"TList\",\"arr\":[{\"_typename\":\"TFrame\",\"fUniqueID\":0,\"fBits\":50331656,\"fLineColor\":1,\"fLineStyle\":1,\"fLineWidth\":1,\"fFillColor\":0,\"fFillStyle\":1001,\"fX1\":0.5,\"fY1\":0,\"fX2\":54.5,\"fY2\":8.69897000433602,\"fBorderSize\":1,\"fBorderMode\":0},{\"_typename\":\"TH1D\",\"fUniqueID\":0,\"fBits\":50332168,\"fName\":\"hPtUnfoldedData\",\"fTitle\":\"hPtUnfoldedData\",\"fLineColor\":632,\"fLineStyle\":1,\"fLineWidth\":1,\"fFillColor\":0,\"fFillStyle\":1001,\"fMarkerColor\":632,\"fMarkerStyle\":20,\"fMarkerSize\":1,\"fNcells\":56,\"fXaxis\":{\"_typename\":\"TAxis\",\"fUniqueID\":0,\"fBits\":50331656,\"fName\":\"xaxis\",\"fTitle\":\"Gen_Pt\",\"fNdivisions\":520,\"fAxisColor\":1,\"fLabelColor\":1,\"fLabelFont\":42,\"fLabelOffset\":0.005,\"fLabelSize\":0.035,\"fTickLength\":0.03,\"fTitleOffset\":1,\"fTitleSize\":0.035,\"fTitleColor\":1,\"fTitleFont\":42,\"fNbins\":54,\"fXmin\":0.5,\"fXmax\":54.5,\"fXbins\":[],\"fFirst\":0,\"fLast\":0,\"fBits2\":0,\"fTimeDisplay\":false,\"fTimeFormat\":\"\",\"fLabels\":null,\"fModLabs\":null},\"fYaxis\":{\"_typename\":\"TAxis\",\"fUniqueID\":0,\"fBits\":50331656,\"fName\":\"yaxis\",\"fTitle\":\"Events\\/ bin\",\"fNdivisions\":10,\"fAxisColor\":1,\"fLabelColor\":1,\"fLabelFont\":42,\"fLabelOffset\":0.005,\"fLabelSize\":0.035,\"fTickLength\":0.03,\"fTitleOffset\":0,\"fTitleSize\":0.035,\"fTitleColor\":1,\"fTitleFont\":42,\"fNbins\":1,\"fXmin\":0,\"fXmax\":1,\"fXbins\":[],\"fFirst\":0,\"fLast\":0,\"fBits2\":0,\"fTimeDisplay\":false,\"fTimeFormat\":\"\",\"fLabels\":null,\"fModLabs\":null},\"fZaxis\":{\"_typename\":\"TAxis\",\"fUniqueID\":0,\"fBits\":50331648,\"fName\":\"zaxis\",\"fTitle\":\"\",\"fNdivisions\":510,\"fAxisColor\":1,\"fLabelColor\":1,\"fLabelFont\":42,\"fLabelOffset\":0.005,\"fLabelSize\":0.035,\"fTickLength\":0.03,\"fTitleOffset\":1,\"fTitleSize\":0.035,\"fTitleColor\":1,\"fTitleFont\":42,\"fNbins\":1,\"fXmin\":0,\"fXmax\":1,\"fXbins\":[],\"fFirst\":0,\"fLast\":0,\"fBits2\":0,\"fTimeDisplay\":false,\"fTimeFormat\":\"\",\"fLabels\":null,\"fModLabs\":null},\"fBarOffset\":0,\"fBarWidth\":1000,\"fEntries\":110,\"fTsumw\":0,\"fTsumw2\":0,\"fTsumwx\":0,\"fTsumwx2\":0,\"fMaximum\":500000000,\"fMinimum\":1,\"fNormFactor\":0,\"fContour\":[],\"fSumw2\":[0,859138.933975804,1612945.8545526,2141616.12406283,2007954.32272915,2100886.50132766,2241537.58205174,1171394.57986659,488499.76655657,204032.282770642,1324075.83731226,1793091.31551598,1586801.88625065,1716256.775555,2067591.76107783,1489704.04692685,820674.398465743,290094.311159145,117288.365931067,833427.587270036,1545471.48662285,1695947.05829621,2039847.03423322,2046809.14009127,1341370.58242158,895220.492397185,491991.557627366,234856.72325819,11044624.8889029,17468862.0609208,13829636.8450623,12965731.5333261,12017360.0058137,8091977.64737966,5648422.60875131,3811375.67599118,2209957.56211634,501494.15299886,845646.557206501,679770.733645591,632195.62564339,641684.197173135,450694.676724745,368225.626773867,266335.297874265,185878.02637329,29278.8526944727,63864.1602677398,60033.2384602418,51609.9573375927,37629.3950471954,27697.9955469117,35349.9207356518,45830.9326994096,21244.010835192,0],\"fOption\":\"\",\"fFunctions\":{\"_typename\":\"TList\",\"name\":\"TList\",\"arr\":[],\"opt\":[]},\"fBufferSize\":0,\"fBuffer\":[],\"fBinStatErrOpt\":0,\"fStatOverflows\":2,\"fArray\":[0,23699.7595833292,148226.511868027,308343.962101705,372163.551985348,447497.487617622,585093.579918664,394286.323327717,197939.825880699,88743.354745446,382752.254404241,529671.741309887,438896.370966327,461792.066956222,476466.397703375,300036.472041198,142472.509036687,71156.0339637312,32998.577245702,365984.003700562,550594.826803892,510175.249631915,609072.063790564,609608.675829343,345325.705395514,206063.781911727,123050.450268939,64473.7839416516,6164266.89787289,8772796.48228662,6854763.53174696,7104391.93037384,7041969.0547859,4623486.16483069,3119311.54418293,2093460.93016923,1191958.93299012,225516.46923205,330017.649735184,263161.237477582,282837.703000519,294985.53839588,200042.703693989,142475.779324113,101477.893123056,63296.9248944792,6956.72750625658,10712.1191976125,9783.47365508463,9786.44492739792,12528.4886382013,9124.02424142487,7971.6831238937,6295.78136318348,3559.62424415492,0]},{\"_typename\":\"TH1D\",\"fUniqueID\":0,\"fBits\":50331656,\"fName\":\"hPtFSRUnfoldedData\",\"fTitle\":\"hPtFSRUnfoldedData\",\"fLineColor\":600,\"fLineStyle\":1,\"fLineWidth\":1,\"fFillColor\":0,\"fFillStyle\":1001,\"fMarkerColor\":600,\"fMarkerStyle\":20,\"fMarkerSize\":1,\"fNcells\":56,\"fXaxis\":{\"_typename\":\"TAxis\",\"fUniqueID\":0,\"fBits\":50331648,\"fName\":\"xaxis\",\"fTitle\":\"Gen_Pt\",\"fNdivisions\":510,\"fAxisColor\":1,\"fLabelColor\":1,\"fLabelFont\":42,\"fLabelOffset\":0.005,\"fLabelSize\":0.035,\"fTickLength\":0.03,\"fTitleOffset\":1,\"fTitleSize\":0.035,\"fTitleColor\":1,\"fTitleFont\":42,\"fNbins\":54,\"fXmin\":0.5,\"fXmax\":54.5,\"fXbins\":[],\"fFirst\":0,\"fLast\":0,\"fBits2\":0,\"fTimeDisplay\":false,\"fTimeFormat\":\"\",\"fLabels\":null,\"fModLabs\":null},\"fYaxis\":{\"_typename\":\"TAxis\",\"fUniqueID\":0,\"fBits\":50331648,\"fName\":\"yaxis\",\"fTitle\":\"\",\"fNdivisions\":510,\"fAxisColor\":1,\"fLabelColor\":1,\"fLabelFont\":42,\"fLabelOffset\":0.005,\"fLabelSize\":0.035,\"fTickLength\":0.03,\"fTitleOffset\":0,\"fTitleSize\":0.035,\"fTitleColor\":1,\"fTitleFont\":42,\"fNbins\":1,\"fXmin\":0,\"fXmax\":1,\"fXbins\":[],\"fFirst\":0,\"fLast\":0,\"fBits2\":0,\"fTimeDisplay\":false,\"fTimeFormat\":\"\",\"fLabels\":null,\"fModLabs\":null},\"fZaxis\":{\"_typename\":\"TAxis\",\"fUniqueID\":0,\"fBits\":50331648,\"fName\":\"zaxis\",\"fTitle\":\"\",\"fNdivisions\":510,\"fAxisColor\":1,\"fLabelColor\":1,\"fLabelFont\":42,\"fLabelOffset\":0.005,\"fLabelSize\":0.035,\"fTickLength\":0.03,\"fTitleOffset\":1,\"fTitleSize\":0.035,\"fTitleColor\":1,\"fTitleFont\":42,\"fNbins\":1,\"fXmin\":0,\"fXmax\":1,\"fXbins\":[],\"fFirst\":0,\"fLast\":0,\"fBits2\":0,\"fTimeDisplay\":false,\"fTimeFormat\":\"\",\"fLabels\":null,\"fModLabs\":null},\"fBarOffset\":0,\"fBarWidth\":1000,\"fEntries\":110,\"fTsumw\":0,\"fTsumw2\":0,\"fTsumwx\":0,\"fTsumwx2\":0,\"fMaximum\":-1111,\"fMinimum\":-1111,\"fNormFactor\":0,\"fContour\":[],\"fSumw2\":[0,2660370385886.73,89148056321.8036,8548190285.67912,2671214407.62064,767299735.236876,68394884.0797672,12135324.9102835,3290877.913972,934657.365929916,36651133.7207379,29824240.4387255,18349272.1612883,16140341.8933201,15751141.5667787,9868794.77541278,4778114.13197599,1481717.08552441,492888.538184554,7979924.43493136,12004617.5533279,11211181.674631,12209178.9080606,10967881.2117579,6223697.81311838,3676237.3936601,1795327.96747041,752410.51921342,78093869.120529,106316765.294111,75418846.1087272,65176009.372515,55380981.129585,33685641.9113722,20871441.4773648,12426083.528157,6356493.43777226,3256559.86953482,4815708.55185355,3519375.20924783,3074040.76522859,2885342.5625381,1898262.27126124,1390765.75831138,891253.835864069,564821.601342679,130575.924435749,283941.164195427,248475.934865144,196283.647098021,135114.463496222,99571.6885289303,115242.73431471,142735.380475865,54053.1565769798,0],\"fOption\":\"\",\"fFunctions\":{\"_typename\":\"TList\",\"name\":\"TList\",\"arr\":[],\"opt\":[]},\"fBufferSize\":0,\"fBuffer\":[],\"fBinStatErrOpt\":0,\"fStatOverflows\":2,\"fArray\":[0,39103636.7777428,33171639.332033,18640587.285137,12976840.2530193,8218496.55892618,3092500.89489149,1220370.85776093,500856.600518254,185790.803178965,1966025.18663257,2065794.9984172,1393806.54625574,1258269.57846197,1003482.82608088,522565.288224406,273341.750688951,135056.030063621,58697.2688282796,999506.856805394,1195038.07469083,851905.447592356,821544.794743329,738892.828327408,433249.04097687,261566.426285818,151534.996555328,77196.6266859889,16076141.34835,21003744.5489742,15462152.6980058,15518565.059279,14869232.786717,9304670.47479905,5927853.27997652,3745701.2332641,2006270.61031016,564936.362618238,768443.254422231,580374.702959548,605850.057992917,611169.657634988,401865.0419763,271291.301754842,182730.940643208,109183.67298902,14382.2743324633,21838.2526460369,18968.8454043226,18092.1397135161,22613.8774737812,16515.6881715214,13748.743748898,10524.3880784406,5443.2453961074,0]},{\"_typename\":\"TH1D\",\"fUniqueID\":0,\"fBits\":50331656,\"fName\":\"hPtUnfoldedData_\",\"fTitle\":\"hPtUnfoldedData_\",\"fLineColor\":616,\"fLineStyle\":1,\"fLineWidth\":1,\"fFillColor\":0,\"fFillStyle\":1001,\"fMarkerColor\":616,\"fMarkerStyle\":22,\"fMarkerSize\":0.8,\"fNcells\":56,\"fXaxis\":{\"_typename\":\"TAxis\",\"fUniqueID\":0,\"fBits\":50331648,\"fName\":\"xaxis\",\"fTitle\":\"Gen_Pt\",\"fNdivisions\":510,\"fAxisColor\":1,\"fLabelColor\":1,\"fLabelFont\":42,\"fLabelOffset\":0.005,\"fLabelSize\":0.035,\"fTickLength\":0.03,\"fTitleOffset\":1,\"fTitleSize\":0.035,\"fTitleColor\":1,\"fTitleFont\":42,\"fNbins\":54,\"fXmin\":0.5,\"fXmax\":54.5,\"fXbins\":[],\"fFirst\":0,\"fLast\":0,\"fBits2\":0,\"fTimeDisplay\":false,\"fTimeFormat\":\"\",\"fLabels\":null,\"fModLabs\":null},\"fYaxis\":{\"_typename\":\"TAxis\",\"fUniqueID\":0,\"fBits\":50331648,\"fName\":\"yaxis\",\"fTitle\":\"\",\"fNdivisions\":510,\"fAxisColor\":1,\"fLabelColor\":1,\"fLabelFont\":42,\"fLabelOffset\":0.005,\"fLabelSize\":0.035,\"fTickLength\":0.03,\"fTitleOffset\":0,\"fTitleSize\":0.035,\"fTitleColor\":1,\"fTitleFont\":42,\"fNbins\":1,\"fXmin\":0,\"fXmax\":1,\"fXbins\":[],\"fFirst\":0,\"fLast\":0,\"fBits2\":0,\"fTimeDisplay\":false,\"fTimeFormat\":\"\",\"fLabels\":null,\"fModLabs\":null},\"fZaxis\":{\"_typename\":\"TAxis\",\"fUniqueID\":0,\"fBits\":50331648,\"fName\":\"zaxis\",\"fTitle\":\"\",\"fNdivisions\":510,\"fAxisColor\":1,\"fLabelColor\":1,\"fLabelFont\":42,\"fLabelOffset\":0.005,\"fLabelSize\":0.035,\"fTickLength\":0.03,\"fTitleOffset\":1,\"fTitleSize\":0.035,\"fTitleColor\":1,\"fTitleFont\":42,\"fNbins\":1,\"fXmin\":0,\"fXmax\":1,\"fXbins\":[],\"fFirst\":0,\"fLast\":0,\"fBits2\":0,\"fTimeDisplay\":false,\"fTimeFormat\":\"\",\"fLabels\":null,\"fModLabs\":null},\"fBarOffset\":0,\"fBarWidth\":1000,\"fEntries\":110,\"fTsumw\":0,\"fTsumw2\":0,\"fTsumwx\":0,\"fTsumwx2\":0,\"fMaximum\":-1111,\"fMinimum\":-1111,\"fNormFactor\":0,\"fContour\":[],\"fSumw2\":[0,255398310944.757,24177129692.4605,3967693186.44334,1611429713.29129,491354400.081336,49710412.2598619,11516418.4188396,3168775.13459701,898328.086055662,23802302.5964609,23353498.4589803,15703281.0225106,14290530.4849621,12508795.3433155,7534922.4832491,3952779.83441969,1286471.75893507,443513.150107422,7446573.23924838,10329638.2166885,8385263.0235703,8485757.43086889,7571958.28016811,4576729.21038854,2778921.71254734,1363569.22156149,578509.078004205,76943197.7238474,104651646.391314,73738493.9455896,64016301.623532,54572352.5713886,33131434.921489,20580427.8204607,12274718.9797089,6280700.28706108,3205220.67397946,4742307.52722245,3441784.10221098,3003542.59771668,2816574.38631294,1851665.25055435,1362933.25115923,875361.539375735,556231.891776221,128246.234267911,282950.097340742,248267.828268075,197494.744355372,135789.964710768,98321.8224419057,112184.760771196,135426.645811641,52605.7784005281,0],\"fOption\":\"\",\"fFunctions\":{\"_typename\":\"TList\",\"name\":\"TList\",\"arr\":[],\"opt\":[]},\"fBufferSize\":0,\"fBuffer\":[],\"fBinStatErrOpt\":0,\"fStatOverflows\":2,\"fArray\":[0,45649596.9857354,33411479.4560133,18285582.3616134,12806251.1185901,8125934.84610126,3075033.99190599,1219706.54600836,500150.454394366,185567.328938132,1981918.66822098,2067257.9459287,1386568.36978337,1249026.90978959,984973.70623106,512649.302625759,270116.945910575,133643.466699352,58211.3318831915,1006178.63558347,1193399.66297798,832981.830047057,797166.4131739,723873.661357653,431892.732676869,260530.644068429,150730.475024817,76536.8864283661,16105527.3942827,20993900.2723937,15437939.3392638,15507372.0015088,14863856.8169431,9305423.71439143,5928340.69907667,3745528.30192531,2006167.29291643,565815.067497111,768183.60506003,579871.265739523,605311.443770046,610770.636199362,401823.812629192,271308.701618666,182721.893605021,109183.261116646,14415.8621265318,21852.0259417225,18921.2212520358,18101.1431493816,22605.443526598,16500.9172518876,13719.3002061432,10508.3599606047,5466.64040270982,0]},{\"_typename\":\"TH1D\",\"fUniqueID\":0,\"fBits\":50331656,\"fName\":\"hPtData\",\"fTitle\":\"hPtData\",\"fLineColor\":1,\"fLineStyle\":1,\"fLineWidth\":1,\"fFillColor\":0,\"fFillStyle\":1001,\"fMarkerColor\":1,\"fMarkerStyle\":20,\"fMarkerSize\":1,\"fNcells\":56,\"fXaxis\":{\"_typename\":\"TAxis\",\"fUniqueID\":0,\"fBits\":50331648,\"fName\":\"xaxis\",\"fTitle\":\"Rec_Pt\",\"fNdivisions\":510,\"fAxisColor\":1,\"fLabelColor\":1,\"fLabelFont\":42,\"fLabelOffset\":0.005,\"fLabelSize\":0.035,\"fTickLength\":0.03,\"fTitleOffset\":1,\"fTitleSize\":0.035,\"fTitleColor\":1,\"fTitleFont\":42,\"fNbins\":54,\"fXmin\":0.5,\"fXmax\":54.5,\"fXbins\":[],\"fFirst\":0,\"fLast\":0,\"fBits2\":0,\"fTimeDisplay\":false,\"fTimeFormat\":\"\",\"fLabels\":null,\"fModLabs\":null},\"fYaxis\":{\"_typename\":\"TAxis\",\"fUniqueID\":0,\"fBits\":50331648,\"fName\":\"yaxis\",\"fTitle\":\"\",\"fNdivisions\":510,\"fAxisColor\":1,\"fLabelColor\":1,\"fLabelFont\":42,\"fLabelOffset\":0.005,\"fLabelSize\":0.035,\"fTickLength\":0.03,\"fTitleOffset\":0,\"fTitleSize\":0.035,\"fTitleColor\":1,\"fTitleFont\":42,\"fNbins\":1,\"fXmin\":0,\"fXmax\":1,\"fXbins\":[],\"fFirst\":0,\"fLast\":0,\"fBits2\":0,\"fTimeDisplay\":false,\"fTimeFormat\":\"\",\"fLabels\":null,\"fModLabs\":null},\"fZaxis\":{\"_typename\":\"TAxis\",\"fUniqueID\":0,\"fBits\":50331648,\"fName\":\"zaxis\",\"fTitle\":\"\",\"fNdivisions\":510,\"fAxisColor\":1,\"fLabelColor\":1,\"fLabelFont\":42,\"fLabelOffset\":0.005,\"fLabelSize\":0.035,\"fTickLength\":0.03,\"fTitleOffset\":1,\"fTitleSize\":0.035,\"fTitleColor\":1,\"fTitleFont\":42,\"fNbins\":1,\"fXmin\":0,\"fXmax\":1,\"fXbins\":[],\"fFirst\":0,\"fLast\":0,\"fBits2\":0,\"fTimeDisplay\":false,\"fTimeFormat\":\"\",\"fLabels\":null,\"fModLabs\":null},\"fBarOffset\":0,\"fBarWidth\":1000,\"fEntries\":110,\"fTsumw\":0,\"fTsumw2\":0,\"fTsumwx\":0,\"fTsumwx2\":0,\"fMaximum\":-1111,\"fMinimum\":-1111,\"fNormFactor\":0,\"fContour\":[],\"fSumw2\":[0,129766.696780854,344206.340849981,417301.065166279,454671.871363233,515800.549306469,617777.143268852,357096.841215782,164457.83191594,68507.2910120975,454995.701346712,573598.215213501,460344.3491816,484297.409789171,530681.750417076,361180.204848059,222939.381767365,86758.229261075,37925.806577745,302955.044260729,473829.928875061,435847.654212759,504221.628145788,511509.810754802,338299.466704656,224914.358493468,124424.574050028,56742.5600968444,4588657.90574477,6621714.75090164,5103440.74636502,5212038.0208771,5065642.77858298,3232642.33129503,2144509.03658964,1391069.04606207,787839.466079885,170063.605347876,258871.73309112,210269.125309708,225951.163885961,246177.414174003,167541.356612448,132025.533160046,94794.0977632834,61955.8577619198,4485.71889597225,7903.39605514663,7776.41037378193,10113.037772569,11206.3585974704,8963.50488667051,10835.2974430593,13660.851710656,8247.22255654839,0],\"fOption\":\"\",\"fFunctions\":{\"_typename\":\"TList\",\"name\":\"TList\",\"arr\":[],\"opt\":[]},\"fBufferSize\":0,\"fBuffer\":[],\"fBinStatErrOpt\":0,\"fStatOverflows\":2,\"fArray\":[0,13139.4219022362,80495.3597632321,152439.850274441,194153.074055211,234953.721964882,322911.957790793,231518.473579577,122098.080074609,54893.6671080431,249230.70415508,344026.7691308,270953.829194552,277700.829831827,272725.21979325,167552.396476977,82841.1071158406,43451.3817982705,20924.8339512521,276969.060612636,426787.990959443,387080.728511936,448182.948037547,433311.667155601,239831.382920356,141803.103616706,84691.8441536662,43985.8006157245,4552967.97186332,6574827.31747313,5068705.60273081,5184196.13383299,5001984.51423896,3180156.76358715,2081709.75817885,1359651.52647811,767621.221743164,168838.177389884,256434.492083439,207499.823310915,221849.582003207,223899.293610914,148440.303330603,102287.970807327,71655.087826439,43524.2679070112,4424.96724566517,7729.23265975764,7504.30840160595,8538.931164779,9985.29996487912,7291.656120617,5668.30297381682,4392.50733246439,2995.28852142151,0]},{\"_typename\":\"TLegend\",\"fUniqueID\":0,\"fBits\":50331656,\"fLineColor\":1,\"fLineStyle\":1,\"fLineWidth\":1,\"fFillColor\":0,\"fFillStyle\":1001,\"fX1\":41.0000002011657,\"fY1\":6.52422753565821,\"fX2\":54.5000004023314,\"fY2\":8.6989700691484,\"fX1NDC\":0.7,\"fY1NDC\":0.7,\"fX2NDC\":0.9,\"fY2NDC\":0.9,\"fBorderSize\":1,\"fInit\":1,\"fShadowColor\":1,\"fCornerRadius\":0,\"fOption\":\"brNDC\",\"fName\":\"TPave\",\"fTextAngle\":0,\"fTextSize\":0,\"fTextAlign\":12,\"fTextColor\":1,\"fTextFont\":42,\"fPrimitives\":{\"_typename\":\"TList\",\"name\":\"TList\",\"arr\":[{\"_typename\":\"TLegendEntry\",\"fUniqueID\":0,\"fBits\":50331656,\"fTextAngle\":0,\"fTextSize\":0,\"fTextAlign\":0,\"fTextColor\":0,\"fTextFont\":42,\"fLineColor\":1,\"fLineStyle\":1,\"fLineWidth\":1,\"fFillColor\":0,\"fFillStyle\":0,\"fMarkerColor\":1,\"fMarkerStyle\":20,\"fMarkerSize\":1,\"fObject\":{\"$ref\":100},\"fLabel\":\"Detector  data\",\"fOption\":\"ple\"},{\"_typename\":\"TLegendEntry\",\"fUniqueID\":0,\"fBits\":50331656,\"fTextAngle\":0,\"fTextSize\":0,\"fTextAlign\":0,\"fTextColor\":0,\"fTextFont\":42,\"fLineColor\":632,\"fLineStyle\":1,\"fLineWidth\":1,\"fFillColor\":0,\"fFillStyle\":0,\"fMarkerColor\":632,\"fMarkerStyle\":20,\"fMarkerSize\":1,\"fObject\":{\"$ref\":85},\"fLabel\":\"Det unfolded data\",\"fOption\":\"ple\"},{\"_typename\":\"TLegendEntry\",\"fUniqueID\":0,\"fBits\":50331656,\"fTextAngle\":0,\"fTextSize\":0,\"fTextAlign\":0,\"fTextColor\":0,\"fTextFont\":42,\"fLineColor\":600,\"fLineStyle\":1,\"fLineWidth\":1,\"fFillColor\":0,\"fFillStyle\":0,\"fMarkerColor\":600,\"fMarkerStyle\":20,\"fMarkerSize\":1,\"fObject\":{\"$ref\":90},\"fLabel\":\"Pre-FSR unfolded data\",\"fOption\":\"ple\"}],\"opt\":[\"ple\",\"ple\",\"ple\"]},\"fEntrySeparation\":0.1,\"fMargin\":0.25,\"fNColumns\":1,\"fColumnSeparation\":0},{\"_typename\":\"TPaveText\",\"fUniqueID\":0,\"fBits\":50331657,\"fLineColor\":1,\"fLineStyle\":1,\"fLineWidth\":1,\"fFillColor\":0,\"fFillStyle\":0,\"fX1\":17.0821993530016,\"fY1\":9.13391861878464,\"fX2\":37.9178006469984,\"fY2\":9.73197282440615,\"fX1NDC\":0.345662214936874,\"fY1NDC\":0.940000003948808,\"fX2NDC\":0.654337785063126,\"fY2NDC\":0.995000004768372,\"fBorderSize\":0,\"fInit\":1,\"fShadowColor\":1,\"fCornerRadius\":0,\"fOption\":\"blNDC\",\"fName\":\"title\",\"fTextAngle\":0,\"fTextSize\":0,\"fTextAlign\":22,\"fTextColor\":1,\"fTextFont\":42,\"fLabel\":\"\",\"fLongest\":15,\"fMargin\":0.05,\"fLines\":{\"_typename\":\"TList\",\"name\":\"TList\",\"arr\":[{\"_typename\":\"TLatex\",\"fUniqueID\":0,\"fBits\":50331648,\"fName\":\"\",\"fTitle\":\"hPtUnfoldedData\",\"fTextAngle\":0,\"fTextSize\":0,\"fTextAlign\":0,\"fTextColor\":0,\"fTextFont\":0,\"fX\":0,\"fY\":0,\"fLineColor\":1,\"fLineStyle\":1,\"fLineWidth\":2,\"fLimitFactorSize\":3,\"fOriginSize\":0.0467500016093254}],\"opt\":[\"\"]}}],\"opt\":[\"\",\"hist pe\",\"pe same\",\"pe same\",\"pe same\",\"\",\"blNDC\"]},\"fExecs\":{\"_typename\":\"TList\",\"name\":\"TList\",\"arr\":[],\"opt\":[]},\"fName\":\"pad_pt\",\"fTitle\":\"pad_pt\",\"fNumPaletteColor\":0,\"fNextPaletteColor\":0},{\"_typename\":\"TPad\",\"fUniqueID\":0,\"fBits\":50331657,\"fLineColor\":1,\"fLineStyle\":1,\"fLineWidth\":1,\"fFillColor\":0,\"fFillStyle\":1001,\"fLeftMargin\":0.1,\"fRightMargin\":0.1,\"fBottomMargin\":0.1,\"fTopMargin\":0.1,\"fXfile\":2,\"fYfile\":2,\"fAfile\":1,\"fXstat\":0.99,\"fYstat\":0.99,\"fAstat\":2,\"fFrameFillColor\":0,\"fFrameLineColor\":1,\"fFrameFillStyle\":1001,\"fFrameLineStyle\":1,\"fFrameLineWidth\":1,\"fFrameBorderSize\":1,\"fFrameBorderMode\":0,\"fX1\":-6.25000050291422,\"fY1\":0.374999990686774,\"fX2\":61.2500005029142,\"fY2\":1.62500000931323,\"fXtoAbsPixelk\":1328.44894543447,\"fXtoPixelk\":106.48894597002,\"fXtoPixel\":17.038221984201,\"fYtoAbsPixelk\":1263.65044620155,\"fYtoPixelk\":447.93844609676,\"fYtoPixel\":-275.654396018171,\"fUtoAbsPixelk\":1221.96004946445,\"fUtoPixelk\":5e-5,\"fUtoPixel\":1150.0800010711,\"fVtoAbsPixelk\":1160.28005026196,\"fVtoPixelk\":344.568000157177,\"fVtoPixel\":-344.568000157177,\"fAbsPixeltoXk\":-77.9687514733815,\"fPixeltoXk\":-6.25000050291422,\"fPixeltoX\":0.0586915701020487,\"fAbsPixeltoYk\":4.58418372590817,\"fPixeltoYk\":0.374999990686774,\"fPixeltoY\":-0.00362773100826616,\"fXlowNDC\":0,\"fYlowNDC\":0,\"fXUpNDC\":0,\"fYUpNDC\":0,\"fWNDC\":1,\"fHNDC\":0.3,\"fAbsXlowNDC\":0.509999999776483,\"fAbsYlowNDC\":0.00999999977648258,\"fAbsWNDC\":0.480000000447035,\"fAbsHNDC\":0.29400000013411,\"fUxmin\":0.5,\"fUymin\":0.5,\"fUxmax\":54.5,\"fUymax\":1.5,\"fTheta\":30,\"fPhi\":30,\"fAspectRatio\":0,\"fNumber\":0,\"fTickx\":0,\"fTicky\":0,\"fLogx\":0,\"fLogy\":0,\"fLogz\":0,\"fPadPaint\":0,\"fCrosshair\":0,\"fCrosshairPos\":0,\"fBorderSize\":2,\"fBorderMode\":0,\"fModified\":false,\"fGridx\":true,\"fGridy\":true,\"fAbsCoord\":false,\"fEditable\":true,\"fFixedAspectRatio\":false,\"fPrimitives\":{\"_typename\":\"TList\",\"name\":\"TList\",\"arr\":[{\"_typename\":\"TFrame\",\"fUniqueID\":0,\"fBits\":50331656,\"fLineColor\":1,\"fLineStyle\":1,\"fLineWidth\":1,\"fFillColor\":0,\"fFillStyle\":1001,\"fX1\":0.5,\"fY1\":0.5,\"fX2\":54.5,\"fY2\":1.5,\"fBorderSize\":1,\"fBorderMode\":0},{\"_typename\":\"TH1D\",\"fUniqueID\":0,\"fBits\":50332168,\"fName\":\"ratioPt_detector\",\"fTitle\":\"hPtData\",\"fLineColor\":1,\"fLineStyle\":1,\"fLineWidth\":1,\"fFillColor\":0,\"fFillStyle\":1001,\"fMarkerColor\":1,\"fMarkerStyle\":20,\"fMarkerSize\":1,\"fNcells\":56,\"fXaxis\":{\"_typename\":\"TAxis\",\"fUniqueID\":0,\"fBits\":50331648,\"fName\":\"xaxis\",\"fTitle\":\"Rec_Pt\",\"fNdivisions\":510,\"fAxisColor\":1,\"fLabelColor\":1,\"fLabelFont\":42,\"fLabelOffset\":0.005,\"fLabelSize\":0.035,\"fTickLength\":0.03,\"fTitleOffset\":1,\"fTitleSize\":0.035,\"fTitleColor\":1,\"fTitleFont\":42,\"fNbins\":54,\"fXmin\":0.5,\"fXmax\":54.5,\"fXbins\":[],\"fFirst\":0,\"fLast\":0,\"fBits2\":0,\"fTimeDisplay\":false,\"fTimeFormat\":\"\",\"fLabels\":null,\"fModLabs\":null},\"fYaxis\":{\"_typename\":\"TAxis\",\"fUniqueID\":0,\"fBits\":50331648,\"fName\":\"yaxis\",\"fTitle\":\"\",\"fNdivisions\":510,\"fAxisColor\":1,\"fLabelColor\":1,\"fLabelFont\":42,\"fLabelOffset\":0.005,\"fLabelSize\":0.035,\"fTickLength\":0.03,\"fTitleOffset\":0,\"fTitleSize\":0.035,\"fTitleColor\":1,\"fTitleFont\":42,\"fNbins\":1,\"fXmin\":0,\"fXmax\":1,\"fXbins\":[],\"fFirst\":0,\"fLast\":0,\"fBits2\":0,\"fTimeDisplay\":false,\"fTimeFormat\":\"\",\"fLabels\":null,\"fModLabs\":null},\"fZaxis\":{\"_typename\":\"TAxis\",\"fUniqueID\":0,\"fBits\":50331648,\"fName\":\"zaxis\",\"fTitle\":\"\",\"fNdivisions\":510,\"fAxisColor\":1,\"fLabelColor\":1,\"fLabelFont\":42,\"fLabelOffset\":0.005,\"fLabelSize\":0.035,\"fTickLength\":0.03,\"fTitleOffset\":1,\"fTitleSize\":0.035,\"fTitleColor\":1,\"fTitleFont\":42,\"fNbins\":1,\"fXmin\":0,\"fXmax\":1,\"fXbins\":[],\"fFirst\":0,\"fLast\":0,\"fBits2\":0,\"fTimeDisplay\":false,\"fTimeFormat\":\"\",\"fLabels\":null,\"fModLabs\":null},\"fBarOffset\":0,\"fBarWidth\":1000,\"fEntries\":157351.016243282,\"fTsumw\":57.1208795164599,\"fTsumw2\":0.0207357725080675,\"fTsumwx\":1538.18070270475,\"fTsumwx2\":55672.8220568951,\"fMaximum\":1.5,\"fMinimum\":0.5,\"fNormFactor\":0,\"fContour\":[],\"fSumw2\":[0,0.00100809328393407,3.87661382759696e-4,4.54468176922463e-4,3.81260794359749e-4,3.14975674281742e-4,1.94663619556667e-4,2.48837168640293e-4,4.8963362791402e-4,0.00100094992253517,3.48247868907026e-5,4.75555225520484e-5,1.08612791540153e-4,1.15506588506079e-4,8.97846837786881e-5,1.18940244813402e-4,2.84938323592268e-4,5.30214545423541e-4,0.00131408949989576,1.00167389979305e-5,1.02848323797616e-5,1.45661467557975e-5,1.31102159366303e-5,1.49782983454258e-5,3.01712436852104e-5,5.23424810723754e-5,8.72276831822369e-5,1.71898269899987e-4,4.60150754812688e-7,5.60844062230492e-7,1.14011528353334e-6,1.27392513916717e-6,1.35194488826083e-6,2.0480678162383e-6,3.13382087269851e-6,4.94964336654285e-6,8.71736627336706e-6,1.42709210102783e-5,1.51331892806733e-5,2.76566410828715e-5,3.02888636084692e-5,3.33361024308314e-5,5.21648272622289e-5,7.51171363102666e-5,1.12600845803534e-4,1.85275659787194e-4,7.3924124065504e-4,5.70551257043593e-4,8.10423421175992e-4,6.64031752674885e-4,7.38624403990012e-4,0.00133760204270861,0.00239033192310539,0.00323591707000464,0.00214996278352426,0],\"fOption\":\"\",\"fFunctions\":{\"_typename\":\"TList\",\"name\":\"TList\",\"arr\":[],\"opt\":[]},\"fBufferSize\":0,\"fBuffer\":[],\"fBinStatErrOpt\":0,\"fStatOverflows\":2,\"fArray\":[0,0.634812962882977,0.954366024992675,1.30551271810921,1.34984196640777,1.36945492377735,1.31540823265562,1.30797418767936,1.32060768486321,1.28662634361281,0.756536770461743,0.945536265086438,1.17391487723557,1.23036936517738,1.18074273561279,1.12988474929374,1.14011762068596,1.12536537996331,1.11481843080403,0.833918224081377,0.975608789536441,1.05915519180368,1.06885907630373,1.07422537400262,1.02896216529066,0.984079677394805,0.970548542034614,0.973922742396955,0.767994310217006,0.934502593816491,1.08569159809475,1.1228384273879,1.09475966939324,1.00205564123193,0.958322337619195,0.953329480371733,0.943981162344187,0.811348838895748,0.959582503062091,1.08912881184105,1.13594131365815,1.12528443779934,1.0490113906693,0.994919938991372,0.990604185717778,0.981687336471703,0.924533971495626,1.02050654985005,1.12507409730356,1.0758998711452,1.13299682323305,1.12041487883271,1.14592083589003,1.10288917095512,0.860488318024751,0]},{\"_typename\":\"TH1D\",\"fUniqueID\":0,\"fBits\":50332168,\"fName\":\"ratioPt_dressed\",\"fTitle\":\"hPtUnfoldedData\",\"fLineColor\":632,\"fLineStyle\":1,\"fLineWidth\":1,\"fFillColor\":0,\"fFillStyle\":1001,\"fMarkerColor\":632,\"fMarkerStyle\":20,\"fMarkerSize\":1,\"fNcells\":56,\"fXaxis\":{\"_typename\":\"TAxis\",\"fUniqueID\":0,\"fBits\":50331656,\"fName\":\"xaxis\",\"fTitle\":\"Gen_Pt\",\"fNdivisions\":520,\"fAxisColor\":1,\"fLabelColor\":1,\"fLabelFont\":42,\"fLabelOffset\":0.005,\"fLabelSize\":0.035,\"fTickLength\":0.03,\"fTitleOffset\":1,\"fTitleSize\":0.035,\"fTitleColor\":1,\"fTitleFont\":42,\"fNbins\":54,\"fXmin\":0.5,\"fXmax\":54.5,\"fXbins\":[],\"fFirst\":0,\"fLast\":0,\"fBits2\":0,\"fTimeDisplay\":false,\"fTimeFormat\":\"\",\"fLabels\":null,\"fModLabs\":null},\"fYaxis\":{\"_typename\":\"TAxis\",\"fUniqueID\":0,\"fBits\":50331656,\"fName\":\"yaxis\",\"fTitle\":\"Events\\/ bin\",\"fNdivisions\":10,\"fAxisColor\":1,\"fLabelColor\":1,\"fLabelFont\":42,\"fLabelOffset\":0.005,\"fLabelSize\":0.035,\"fTickLength\":0.03,\"fTitleOffset\":0,\"fTitleSize\":0.035,\"fTitleColor\":1,\"fTitleFont\":42,\"fNbins\":1,\"fXmin\":0,\"fXmax\":1,\"fXbins\":[],\"fFirst\":0,\"fLast\":0,\"fBits2\":0,\"fTimeDisplay\":false,\"fTimeFormat\":\"\",\"fLabels\":null,\"fModLabs\":null},\"fZaxis\":{\"_typename\":\"TAxis\",\"fUniqueID\":0,\"fBits\":50331648,\"fName\":\"zaxis\",\"fTitle\":\"\",\"fNdivisions\":510,\"fAxisColor\":1,\"fLabelColor\":1,\"fLabelFont\":42,\"fLabelOffset\":0.005,\"fLabelSize\":0.035,\"fTickLength\":0.03,\"fTitleOffset\":1,\"fTitleSize\":0.035,\"fTitleColor\":1,\"fTitleFont\":42,\"fNbins\":1,\"fXmin\":0,\"fXmax\":1,\"fXbins\":[],\"fFirst\":0,\"fLast\":0,\"fBits2\":0,\"fTimeDisplay\":false,\"fTimeFormat\":\"\",\"fLabels\":null,\"fModLabs\":null},\"fBarOffset\":0,\"fBarWidth\":1000,\"fEntries\":411726.55174536,\"fTsumw\":57.4403752842159,\"fTsumw2\":0.00801356312534377,\"fTsumwx\":1547.63809842815,\"fTsumwx2\":55965.0576227395,\"fMaximum\":500000000,\"fMinimum\":1,\"fNormFactor\":0,\"fContour\":[],\"fSumw2\":[0,5.13235491674863e-4,6.6502765415705e-5,3.9762754780505e-5,2.66189872222614e-5,1.98538255338951e-5,1.12892493121897e-5,1.28564195247391e-5,2.18225818113994e-5,4.30722347560522e-5,5.02962418645457e-6,5.77997063082979e-6,1.16341774987473e-5,1.23955860353311e-5,1.2984271081774e-5,2.15138947612557e-5,5.34930052245028e-5,7.35924409187286e-5,1.35370639673537e-4,4.20133636878586e-6,5.06284777580851e-6,7.91111827002084e-6,6.65479287000684e-6,6.57714794346622e-6,1.21372029030792e-5,2.08767702051888e-5,3.12563098584729e-5,5.56003311117376e-5,1.64336031743797e-7,2.04578011686735e-7,3.59430172525372e-7,3.27643516733231e-7,2.9245994322482e-7,3.79635213277343e-7,5.33324417632884e-7,7.9353501650296e-7,1.39347451492349e-6,6.20806139305246e-6,7.45871222154865e-6,1.21645437916796e-5,1.04147945668109e-5,9.46503237379862e-6,1.24313147830384e-5,1.7957551048399e-5,2.55786848953735e-5,4.52445324819487e-5,4.76141331882599e-4,5.9566792701601e-4,9.35694539074279e-4,5.73927853947523e-4,3.19753193550741e-4,4.15809069616756e-4,7.50022338025566e-4,0.00146184782835001,0.00109624162213704,0],\"fOption\":\"\",\"fFunctions\":{\"_typename\":\"TList\",\"name\":\"TList\",\"arr\":[],\"opt\":[]},\"fBufferSize\":0,\"fBuffer\":[],\"fBinStatErrOpt\":0,\"fStatOverflows\":2,\"fArray\":[0,0.579256053205706,0.951778405294631,1.32862636754923,1.35504178410124,1.37566094131815,1.31306084926355,1.30623141880767,1.3229824064247,1.28939238369312,0.745983282609019,0.950973501456925,1.1884159680986,1.24104882466445,1.1940119364285,1.1402066545873,1.15025499641837,1.13333612360923,1.12106291977933,0.821716286146813,0.996549930035918,1.10187461725447,1.10011263042713,1.09277630811082,1.03875666879862,0.995103638376764,0.980783686965151,0.992019821486526,0.751921230023547,0.949369386536576,1.1050816188261,1.12935164612094,1.09855744621478,1.00144123456755,0.958497302650068,0.955227966663182,0.9464961264275,0.793456876052053,0.980109615911165,1.11323948465227,1.14798684716026,1.13292485598572,1.05060637863609,0.994964512491418,0.994480298402466,0.987533046718556,0.887147649726803,1.03454384652008,1.22141779054579,1.03201701517891,1.15489502528863,1.11791617223224,1.161162238732,1.12440138866233,0.808609878376939,0]},{\"_typename\":\"TH1D\",\"fUniqueID\":0,\"fBits\":50331656,\"fName\":\"ratioPt_preFSR\",\"fTitle\":\"hPtUnfoldedData_\",\"fLineColor\":616,\"fLineStyle\":1,\"fLineWidth\":1,\"fFillColor\":0,\"fFillStyle\":1001,\"fMarkerColor\":616,\"fMarkerStyle\":22,\"fMarkerSize\":0.8,\"fNcells\":56,\"fXaxis\":{\"_typename\":\"TAxis\",\"fUniqueID\":0,\"fBits\":50331648,\"fName\":\"xaxis\",\"fTitle\":\"Gen_Pt\",\"fNdivisions\":510,\"fAxisColor\":1,\"fLabelColor\":1,\"fLabelFont\":42,\"fLabelOffset\":0.005,\"fLabelSize\":0.035,\"fTickLength\":0.03,\"fTitleOffset\":1,\"fTitleSize\":0.035,\"fTitleColor\":1,\"fTitleFont\":42,\"fNbins\":54,\"fXmin\":0.5,\"fXmax\":54.5,\"fXbins\":[],\"fFirst\":0,\"fLast\":0,\"fBits2\":0,\"fTimeDisplay\":false,\"fTimeFormat\":\"\",\"fLabels\":null,\"fModLabs\":null},\"fYaxis\":{\"_typename\":\"TAxis\",\"fUniqueID\":0,\"fBits\":50331648,\"fName\":\"yaxis\",\"fTitle\":\"\",\"fNdivisions\":510,\"fAxisColor\":1,\"fLabelColor\":1,\"fLabelFont\":42,\"fLabelOffset\":0.005,\"fLabelSize\":0.035,\"fTickLength\":0.03,\"fTitleOffset\":0,\"fTitleSize\":0.035,\"fTitleColor\":1,\"fTitleFont\":42,\"fNbins\":1,\"fXmin\":0,\"fXmax\":1,\"fXbins\":[],\"fFirst\":0,\"fLast\":0,\"fBits2\":0,\"fTimeDisplay\":false,\"fTimeFormat\":\"\",\"fLabels\":null,\"fModLabs\":null},\"fZaxis\":{\"_typename\":\"TAxis\",\"fUniqueID\":0,\"fBits\":50331648,\"fName\":\"zaxis\",\"fTitle\":\"\",\"fNdivisions\":510,\"fAxisColor\":1,\"fLabelColor\":1,\"fLabelFont\":42,\"fLabelOffset\":0.005,\"fLabelSize\":0.035,\"fTickLength\":0.03,\"fTitleOffset\":1,\"fTitleSize\":0.035,\"fTitleColor\":1,\"fTitleFont\":42,\"fNbins\":1,\"fXmin\":0,\"fXmax\":1,\"fXbins\":[],\"fFirst\":0,\"fLast\":0,\"fBits2\":0,\"fTimeDisplay\":false,\"fTimeFormat\":\"\",\"fLabels\":null,\"fModLabs\":null},\"fBarOffset\":0,\"fBarWidth\":1000,\"fEntries\":409759.7764585,\"fTsumw\":58.0342797358447,\"fTsumw2\":0.00821939540666305,\"fTsumwx\":1557.51930457923,\"fTsumwx2\":56171.9962937353,\"fMaximum\":-1111,\"fMinimum\":-1111,\"fNormFactor\":0,\"fContour\":[],\"fSumw2\":[0,5.40060864355216e-5,1.98938064712382e-5,2.06781218877425e-5,1.7841096441506e-5,1.4021007874931e-5,9.16440887681522e-6,1.343403161392e-5,2.24044452882037e-5,4.38268225442575e-5,3.39081186284319e-6,4.95347029935589e-6,1.16932022926764e-5,1.46197361091066e-5,2.02672962995055e-5,4.1316281621934e-5,7.4964191347833e-5,9.6839588408338e-5,1.70994784478333e-4,4.84835089454314e-6,7.39456404333754e-6,1.67580361014613e-5,1.87562071810741e-5,1.86758161347383e-5,2.64964499787665e-5,4.13175358796663e-5,5.88980935259188e-5,1.00938294129134e-4,1.66939131951289e-7,2.14954039853377e-7,3.79858941032878e-7,3.39792580509728e-7,2.98139224256679e-7,3.83591251728489e-7,5.3785714786454e-7,7.98252601683689e-7,1.39814414593346e-6,6.2789929888686e-6,7.73911493945258e-6,1.27487624752147e-5,1.0834353136144e-5,9.70547303093542e-6,1.26455716950915e-5,1.8301011802862e-5,2.59114749286086e-5,4.54948935664631e-5,4.84914554067942e-4,6.35178036018227e-4,0.00104919135478139,6.3643421020543e-4,3.5728118068647e-4,4.50678164220112e-4,8.06103696707253e-4,0.00155813925373849,0.00113890524058657,0],\"fOption\":\"\",\"fFunctions\":{\"_typename\":\"TList\",\"name\":\"TList\",\"arr\":[],\"opt\":[]},\"fBufferSize\":0,\"fBuffer\":[],\"fBinStatErrOpt\":0,\"fStatOverflows\":2,\"fArray\":[0,0.663818407259231,0.958412084110551,1.32006495321423,1.3474948077504,1.37266805774158,1.32031776600635,1.31734588718731,1.32990939726992,1.29614628731439,0.748045800795238,0.952080076439331,1.19650031981665,1.26333167913111,1.25376113184708,1.20044313137487,1.17632532860043,1.15950886051124,1.14299865046445,0.811883809689113,1.00971694035485,1.17757545313353,1.18515784737166,1.13683768978155,1.03918323798829,1.00458771644029,0.990633685380379,1.01098260253297,0.750185923220127,0.951465188181552,1.10803473525168,1.12979555269056,1.09863829622453,1.00126809403169,0.958383719214899,0.955162965737193,0.946540247721855,0.79193682814432,0.981331694402043,1.1160246613645,1.14964427297424,1.13377242542022,1.0500830925807,0.99417761441577,0.99412941454815,0.987437111637497,0.886443212099301,1.03534363906485,1.2300316690639,1.02755479359618,1.15953607612448,1.1171625915391,1.16294849972491,1.12716115727073,0.804354650092683,0]},{\"_typename\":\"TH1D\",\"fUniqueID\":0,\"fBits\":50331656,\"fName\":\"ratioPt_preFSR_twoStep\",\"fTitle\":\"hPtFSRUnfoldedData\",\"fLineColor\":600,\"fLineStyle\":1,\"fLineWidth\":1,\"fFillColor\":0,\"fFillStyle\":1001,\"fMarkerColor\":600,\"fMarkerStyle\":20,\"fMarkerSize\":1,\"fNcells\":56,\"fXaxis\":{\"_typename\":\"TAxis\",\"fUniqueID\":0,\"fBits\":50331648,\"fName\":\"xaxis\",\"fTitle\":\"Gen_Pt\",\"fNdivisions\":510,\"fAxisColor\":1,\"fLabelColor\":1,\"fLabelFont\":42,\"fLabelOffset\":0.005,\"fLabelSize\":0.035,\"fTickLength\":0.03,\"fTitleOffset\":1,\"fTitleSize\":0.035,\"fTitleColor\":1,\"fTitleFont\":42,\"fNbins\":54,\"fXmin\":0.5,\"fXmax\":54.5,\"fXbins\":[],\"fFirst\":0,\"fLast\":0,\"fBits2\":0,\"fTimeDisplay\":false,\"fTimeFormat\":\"\",\"fLabels\":null,\"fModLabs\":null},\"fYaxis\":{\"_typename\":\"TAxis\",\"fUniqueID\":0,\"fBits\":50331648,\"fName\":\"yaxis\",\"fTitle\":\"\",\"fNdivisions\":510,\"fAxisColor\":1,\"fLabelColor\":1,\"fLabelFont\":42,\"fLabelOffset\":0.005,\"fLabelSize\":0.035,\"fTickLength\":0.03,\"fTitleOffset\":0,\"fTitleSize\":0.035,\"fTitleColor\":1,\"fTitleFont\":42,\"fNbins\":1,\"fXmin\":0,\"fXmax\":1,\"fXbins\":[],\"fFirst\":0,\"fLast\":0,\"fBits2\":0,\"fTimeDisplay\":false,\"fTimeFormat\":\"\",\"fLabels\":null,\"fModLabs\":null},\"fZaxis\":{\"_typename\":\"TAxis\",\"fUniqueID\":0,\"fBits\":50331648,\"fName\":\"zaxis\",\"fTitle\":\"\",\"fNdivisions\":510,\"fAxisColor\":1,\"fLabelColor\":1,\"fLabelFont\":42,\"fLabelOffset\":0.005,\"fLabelSize\":0.035,\"fTickLength\":0.03,\"fTitleOffset\":1,\"fTitleSize\":0.035,\"fTitleColor\":1,\"fTitleFont\":42,\"fNbins\":1,\"fXmin\":0,\"fXmax\":1,\"fXbins\":[],\"fFirst\":0,\"fLast\":0,\"fBits2\":0,\"fTimeDisplay\":false,\"fTimeFormat\":\"\",\"fLabels\":null,\"fModLabs\":null},\"fBarOffset\":0,\"fBarWidth\":1000,\"fEntries\":370078.722730839,\"fTsumw\":58.2044337131588,\"fTsumw2\":0.00915414990321785,\"fTsumwx\":1561.75488009614,\"fTsumwx2\":56260.5718626666,\"fMaximum\":-1111,\"fMinimum\":-1111,\"fNormFactor\":0,\"fContour\":[],\"fSumw2\":[0,5.62557721861573e-4,7.33542071499933e-5,4.45499468685829e-5,2.95746028940733e-5,2.18952259884268e-5,1.26090019031178e-5,1.41559929972019e-5,2.32677583741265e-5,4.5599222769659e-5,5.22122170757578e-6,6.32596822585549e-6,1.36634981567065e-5,1.6512160933382e-5,2.55206871987037e-5,5.41136163134362e-5,9.0616598210768e-5,1.11536745135054e-4,1.90031274920021e-4,5.19560776876098e-6,8.59361300480439e-6,2.24056641652618e-5,2.69861460188984e-5,2.70516721460183e-5,3.6031386216586e-5,5.46589958719946e-5,7.75475075747753e-5,1.3128062666921e-4,1.6943567602272e-7,2.18374187049494e-7,3.8851516330006e-7,3.45948201479089e-7,3.02556917093538e-7,3.9000778495354e-7,5.4546261539238e-7,8.08096178942113e-7,1.41501642850163e-6,6.37956592338231e-6,7.85890028931296e-6,1.30361688215817e-5,1.10886535222463e-5,9.94243736711009e-6,1.2963796582635e-5,1.86747373990796e-5,2.63819009451651e-5,4.61974565231555e-5,4.93723394930232e-4,6.37402823725451e-4,0.0010500708229108,6.32531403935928e-4,3.55503848524979e-4,4.56407180827326e-4,8.28076768280558e-4,0.00164222925173879,0.00117024070677283,0],\"fOption\":\"\",\"fFunctions\":{\"_typename\":\"TList\",\"name\":\"TList\",\"arr\":[],\"opt\":[]},\"fBufferSize\":0,\"fBuffer\":[],\"fBinStatErrOpt\":0,\"fStatOverflows\":2,\"fArray\":[0,0.568629835474045,0.951532242905676,1.34569331705271,1.36544447707778,1.38830398258851,1.32781747572975,1.31806337809357,1.33178705299881,1.29770720490275,0.742047041939556,0.951406312828295,1.20274630137285,1.27268020160248,1.2773211669075,1.22366285827538,1.19036894784768,1.17176445202914,1.15254018223289,0.806500362873424,1.01110317508665,1.20432752226878,1.22140150960548,1.16042516918825,1.04244667065167,1.00858161933112,0.995921177034652,1.01969717081204,0.748817138612076,0.951911340937337,1.1097726124353,1.13061102722002,1.09903565246538,1.00118704508715,0.958304922372351,0.955207065687122,0.946588994439972,0.790706958537401,0.981663388735119,1.11699358047842,1.15066724183272,1.13451312818824,1.05019083691776,0.99411385473904,0.994178636491935,0.987440836549759,0.884377871032626,1.0346910636874,1.23312762226612,1.02704369197093,1.15996869165851,1.11816262799803,1.16544435034111,1.12888038576277,0.800912338002742,0]},{\"_typename\":\"TH1D\",\"fUniqueID\":0,\"fBits\":50331656,\"fName\":\"ratioPtMC_preFSR\",\"fTitle\":\"hPtUnfoldedMC_closure\",\"fLineColor\":602,\"fLineStyle\":1,\"fLineWidth\":1,\"fFillColor\":0,\"fFillStyle\":1001,\"fMarkerColor\":1,\"fMarkerStyle\":25,\"fMarkerSize\":1,\"fNcells\":56,\"fXaxis\":{\"_typename\":\"TAxis\",\"fUniqueID\":0,\"fBits\":50331648,\"fName\":\"xaxis\",\"fTitle\":\"Gen_Pt\",\"fNdivisions\":510,\"fAxisColor\":1,\"fLabelColor\":1,\"fLabelFont\":42,\"fLabelOffset\":0.005,\"fLabelSize\":0.035,\"fTickLength\":0.03,\"fTitleOffset\":1,\"fTitleSize\":0.035,\"fTitleColor\":1,\"fTitleFont\":42,\"fNbins\":54,\"fXmin\":0.5,\"fXmax\":54.5,\"fXbins\":[],\"fFirst\":0,\"fLast\":0,\"fBits2\":0,\"fTimeDisplay\":false,\"fTimeFormat\":\"\",\"fLabels\":null,\"fModLabs\":null},\"fYaxis\":{\"_typename\":\"TAxis\",\"fUniqueID\":0,\"fBits\":50331648,\"fName\":\"yaxis\",\"fTitle\":\"\",\"fNdivisions\":510,\"fAxisColor\":1,\"fLabelColor\":1,\"fLabelFont\":42,\"fLabelOffset\":0.005,\"fLabelSize\":0.035,\"fTickLength\":0.03,\"fTitleOffset\":0,\"fTitleSize\":0.035,\"fTitleColor\":1,\"fTitleFont\":42,\"fNbins\":1,\"fXmin\":0,\"fXmax\":1,\"fXbins\":[],\"fFirst\":0,\"fLast\":0,\"fBits2\":0,\"fTimeDisplay\":false,\"fTimeFormat\":\"\",\"fLabels\":null,\"fModLabs\":null},\"fZaxis\":{\"_typename\":\"TAxis\",\"fUniqueID\":0,\"fBits\":50331648,\"fName\":\"zaxis\",\"fTitle\":\"\",\"fNdivisions\":510,\"fAxisColor\":1,\"fLabelColor\":1,\"fLabelFont\":42,\"fLabelOffset\":0.005,\"fLabelSize\":0.035,\"fTickLength\":0.03,\"fTitleOffset\":1,\"fTitleSize\":0.035,\"fTitleColor\":1,\"fTitleFont\":42,\"fNbins\":1,\"fXmin\":0,\"fXmax\":1,\"fXbins\":[],\"fFirst\":0,\"fLast\":0,\"fBits2\":0,\"fTimeDisplay\":false,\"fTimeFormat\":\"\",\"fLabels\":null,\"fModLabs\":null},\"fBarOffset\":0,\"fBarWidth\":1000,\"fEntries\":102150.902290748,\"fTsumw\":54.1091292710096,\"fTsumw2\":0.0286614978899899,\"fTsumwx\":1487.76641451483,\"fTsumwx2\":54031.6544884015,\"fMaximum\":-1111,\"fMinimum\":-1111,\"fNormFactor\":0,\"fContour\":[],\"fSumw2\":[0,0.0029673261669014,5.11171827145726e-4,3.23070559168563e-4,2.38767183008087e-4,1.79672523252222e-4,1.17358326302614e-4,1.56549369579139e-4,3.05924011100014e-4,6.65943875508237e-4,6.38345572101949e-5,6.44469564760076e-5,9.76973983584872e-5,9.13060482131063e-5,7.47531111729528e-5,1.05184597043586e-4,2.36605568283492e-4,4.71440139155289e-4,0.0012202711943554,1.59841761897134e-5,1.67916808014736e-5,2.44430701506829e-5,2.08103512475067e-5,2.14650586477959e-5,4.41018395416378e-5,8.26717482585865e-5,1.44047867397519e-4,3.0375647992677e-4,7.02243011837946e-7,7.4903789571382e-7,1.18113583486976e-6,1.09435170970563e-6,1.11569252778001e-6,2.03408787183175e-6,3.42279796934872e-6,5.44555064233272e-6,9.87665009133461e-6,2.4778708885108e-5,2.57877728613197e-5,3.87626502554486e-5,3.32054373746948e-5,3.26072900002003e-5,5.90947836841194e-5,9.09512437461443e-5,1.35895999781157e-4,2.29071165216525e-4,0.0015373405429265,0.00180512852635618,0.00269402511739894,0.00156778220534188,0.00102195378024179,0.00174795099378166,0.00251027745819564,0.00332815207322143,0.00318771490877023,0],\"fOption\":\"\",\"fFunctions\":{\"_typename\":\"TList\",\"name\":\"TList\",\"arr\":[],\"opt\":[]},\"fBufferSize\":0,\"fBuffer\":[],\"fBinStatErrOpt\":0,\"fStatOverflows\":2,\"fArray\":[0,0.999940335036566,0.999972964797615,1.00002961028026,0.999988554232775,1.00019143475015,1.00044488251472,1.00059095288013,1.0006933512885,0.999925412459341,1.00031526253025,1.00027888847642,1.00055137095517,1.00121823941913,1.00278994455446,1.00353538144212,1.00226157684613,1.00226716876372,1.00097552274254,1.00274186822054,1.00481662700142,1.00823852148724,1.00955124415412,1.00852300244673,1.00711658478613,1.00774028452674,1.00653233467173,1.00689869454613,1.00196462419912,1.00221508087713,1.00233105449826,1.00227656051168,1.00220646158344,1.00219349528623,1.00200337807374,1.00205154996206,1.00238253977738,1.00096961463501,1.00166233637728,1.00120186792039,1.00124973182468,1.0013297435329,1.00148309071581,1.00107342347536,1.00109430647601,1.00163301771495,0.999982606512961,0.999941152475789,0.999977712655102,0.999958772627789,0.999959124008058,0.999967714508293,0.999960624421422,0.999959260400534,0.999970410147487,0]},{\"_typename\":\"TLine\",\"fUniqueID\":0,\"fBits\":50331656,\"fLineColor\":632,\"fLineStyle\":1,\"fLineWidth\":1,\"fX1\":0.5,\"fY1\":1,\"fX2\":45.5,\"fY2\":1},{\"_typename\":\"TPaveText\",\"fUniqueID\":0,\"fBits\":50331657,\"fLineColor\":1,\"fLineStyle\":1,\"fLineWidth\":1,\"fFillColor\":0,\"fFillStyle\":0,\"fX1\":24.8294866064721,\"fY1\":1.55000001313165,\"fX2\":30.1705133935279,\"fY2\":1.61875001518056,\"fX1NDC\":0.460436839203938,\"fY1NDC\":0.940000003948808,\"fX2NDC\":0.539563160796062,\"fY2NDC\":0.995000004768372,\"fBorderSize\":0,\"fInit\":1,\"fShadowColor\":1,\"fCornerRadius\":0,\"fOption\":\"blNDC\",\"fName\":\"title\",\"fTextAngle\":0,\"fTextSize\":0,\"fTextAlign\":22,\"fTextColor\":1,\"fTextFont\":42,\"fLabel\":\"\",\"fLongest\":7,\"fMargin\":0.05,\"fLines\":{\"_typename\":\"TList\",\"name\":\"TList\",\"arr\":[{\"_typename\":\"TLatex\",\"fUniqueID\":0,\"fBits\":50331648,\"fName\":\"\",\"fTitle\":\"hPtData\",\"fTextAngle\":0,\"fTextSize\":0,\"fTextAlign\":0,\"fTextColor\":0,\"fTextFont\":0,\"fX\":0,\"fY\":0,\"fLineColor\":1,\"fLineStyle\":1,\"fLineWidth\":2,\"fLimitFactorSize\":3,\"fOriginSize\":0.0467500016093254}],\"opt\":[\"\"]}}],\"opt\":[\"\",\"pe\",\"pe same\",\"pe same\",\"pe same\",\"pe same\",\"same\",\"blNDC\"]},\"fExecs\":{\"_typename\":\"TList\",\"name\":\"TList\",\"arr\":[],\"opt\":[]},\"fName\":\"ratio_pt\",\"fTitle\":\"ratio_pt\",\"fNumPaletteColor\":0,\"fNextPaletteColor\":0}],\"opt\":[\"\",\"\"]},\"fExecs\":{\"_typename\":\"TList\",\"name\":\"TList\",\"arr\":[],\"opt\":[]},\"fName\":\"c_2\",\"fTitle\":\"c_2\",\"fNumPaletteColor\":0,\"fNextPaletteColor\":0}],\"opt\":[\"\",\"\"]},\"fExecs\":null,\"fName\":\"c\",\"fTitle\":\"c\",\"fNumPaletteColor\":0,\"fNextPaletteColor\":0,\"fDISPLAY\":\"$DISPLAY\",\"fDoubleBuffer\":0,\"fRetained\":true,\"fXsizeUser\":0,\"fYsizeUser\":0,\"fXsizeReal\":20,\"fYsizeReal\":10,\"fWindowTopX\":0,\"fWindowTopY\":0,\"fWindowWidth\":0,\"fWindowHeight\":0,\"fCw\":2396,\"fCh\":1172,\"fCatt\":{\"_typename\":\"TAttCanvas\",\"fXBetween\":2,\"fYBetween\":2,\"fTitleFromTop\":1.2,\"fXdate\":0.2,\"fYdate\":0.3,\"fAdate\":1},\"kMoveOpaque\":true,\"kResizeOpaque\":true,\"fHighLightColor\":2,\"fBatch\":true,\"kShowEventStatus\":false,\"kAutoExec\":true,\"kMenuBar\":true});\n",
       "       Core.draw(\"root_plot_2\", obj, \"\");\n",
       "     }\n",
       " );\n",
       "</script>\n"
      ],
      "text/plain": [
       "<IPython.core.display.HTML object>"
      ]
     },
     "metadata": {},
     "output_type": "display_data"
    }
   ],
   "source": [
    "# Canvas for mass distribution\n",
    "colorDetector = rt.kBlack\n",
    "colorDressed  = rt.kRed\n",
    "colorPreFSR   = rt.kBlue\n",
    "\n",
    "c.cd(1)\n",
    "\n",
    "pad_mass.cd()\n",
    "pad_mass.SetLogy()\n",
    "pad_mass.SetLogx()\n",
    "pad_mass.SetGridy()\n",
    "pad_mass.SetGridx()\n",
    "\n",
    "hMassData.SetMarkerStyle(20)\n",
    "hMassData.SetLineColor(colorDetector)\n",
    "hMassData.SetMarkerColor(colorDetector)\n",
    "\n",
    "hMassUnfoldedData.SetMarkerStyle(20)\n",
    "hMassUnfoldedData.SetLineColor(colorDressed)\n",
    "hMassUnfoldedData.SetMarkerColor(colorDressed)\n",
    "\n",
    "hMassFSRUnfoldedData.SetMarkerStyle(20)\n",
    "hMassFSRUnfoldedData.SetMarkerColor(colorPreFSR)\n",
    "hMassFSRUnfoldedData.SetLineColor(colorPreFSR)\n",
    "\n",
    "hMassUnfoldedData_.SetMarkerStyle(22)\n",
    "hMassUnfoldedData_.SetMarkerSize(0.5)\n",
    "hMassUnfoldedData_.SetLineColor(rt.kMagenta)\n",
    "hMassUnfoldedData_.SetMarkerColor(rt.kMagenta)\n",
    "\n",
    "hMassUnfoldedMC_closure.SetMarkerStyle(25)\n",
    "hMassUnfoldedMC_closure.SetLineColor(rt.kMagenta)\n",
    "hMassMCTruth_closure.SetMarkerStyle(26)\n",
    "hMassMCTruth_closure.SetLineColor(rt.kMagenta)\n",
    "\n",
    "hMassUnfoldedData.GetYaxis().SetTitle(\"Events/ bin\")\n",
    "\n",
    "hMassUnfoldedData.SetStats(rt.kFALSE)\n",
    "hMassUnfoldedData.Draw(\"hist pe\")\n",
    "\n",
    "hMassFSRUnfoldedData.Draw(\"pe same\")\n",
    "hMassUnfoldedData_.Draw(\"pe same\")\n",
    "hMassUnfoldedMC_closure.Draw(\"pe same\")\n",
    "hMassMCTruth_closure.Draw(\"pe same\")\n",
    "hMassData.Draw(\"pe same\")\n",
    "\n",
    "hMassUnfoldedData.GetYaxis().SetNdivisions(10)\n",
    "hMassUnfoldedData.GetXaxis().SetNdivisions(520)\n",
    "\n",
    "hMassUnfoldedData.SetMaximum(5e8)\n",
    "hMassUnfoldedData.SetMinimum(1)\n",
    "\n",
    "legend_mass = rt.TLegend(0.7, 0.7, 0.9, 0.9)\n",
    "legend_mass.AddEntry(hMassData, \"Detector  data\", \"ple\")\n",
    "legend_mass.AddEntry(hMassUnfoldedData, \"Det unfolded data\", \"ple\")\n",
    "legend_mass.AddEntry(hMassFSRUnfoldedData, \"Pre-FSR unfolded data\", \"ple\")\n",
    "legend_mass.Draw()\n",
    "\n",
    "c.cd(1)\n",
    "\n",
    "ratio_mass.cd()\n",
    "ratio_mass.SetLogx()\n",
    "ratio_mass.SetGridx()\n",
    "ratio_mass.SetGridy()\n",
    "\n",
    "ratioMass_detector = hMassData.Clone(\"ratioMass_detector\")\n",
    "ratioMass_dressed = hMassUnfoldedData.Clone(\"ratioMass_dressed\")\n",
    "ratioMass_preFSR = hMassUnfoldedData_.Clone(\"ratioMass_preFSR\")\n",
    "ratioMass_preFSR_twoStep = hMassFSRUnfoldedData.Clone(\"ratioMass_preFSR_twoStep\")\n",
    "ratioMassMC_preFSR = hMassUnfoldedMC_closure.Clone(\"ratioMassMC_preFSR\")\n",
    "ratioMass_detector.Divide(hDYMC_detector)\n",
    "ratioMass_dressed.Divide(hMassMCTruth)\n",
    "ratioMass_preFSR.Divide(hMassUnfoldedMC_)\n",
    "ratioMass_preFSR_twoStep.Divide(hMassMCTruth_preFSR)\n",
    "ratioMassMC_preFSR.Divide(hMassMCTruth)\n",
    "ratioMass_detector.SetStats(rt.kFALSE)\n",
    "ratioMass_detector.Draw(\"pe\")\n",
    "ratioMass_dressed.Draw(\"pe same\")\n",
    "ratioMass_preFSR.Draw(\"pe same\")\n",
    "ratioMassMC_preFSR.Draw(\"pe same\")\n",
    "ratioMass_preFSR_twoStep.Draw(\"pe same\")\n",
    "ratioMass_detector.SetMinimum(0.5)\n",
    "ratioMass_detector.SetMaximum(1.5)\n",
    "\n",
    "line_mass = rt.TLine(15, 1, 1000, 1)\n",
    "line_mass.SetLineColor(rt.kRed)\n",
    "line_mass.Draw(\"same\")\n",
    "\n",
    "ratioMass_detector.GetYaxis().SetTitle(\"Data/ MC\")\n",
    "\n",
    "# Canavs for pt distributions\n",
    "c.cd(2)\n",
    "pad_pt.cd()\n",
    "pad_pt.SetLogy()\n",
    "#c.SetLogx()\n",
    "pad_pt.SetGridy()\n",
    "#pad_pt.SetGridx()\n",
    "\n",
    "hPtData.SetMarkerStyle(20)\n",
    "hPtData.SetLineColor(colorDetector)\n",
    "hPtData.SetMarkerColor(colorDetector)\n",
    "\n",
    "hPtUnfoldedData.SetMarkerStyle(20)\n",
    "hPtUnfoldedData.SetLineColor(colorDressed)\n",
    "hPtUnfoldedData.SetMarkerColor(colorDressed)\n",
    "\n",
    "hPtFSRUnfoldedData.SetMarkerStyle(20)\n",
    "hPtFSRUnfoldedData.SetMarkerColor(colorPreFSR)\n",
    "hPtFSRUnfoldedData.SetLineColor(colorPreFSR)\n",
    "\n",
    "hPtUnfoldedData_.SetMarkerStyle(22)\n",
    "hPtUnfoldedData_.SetMarkerSize(0.8)\n",
    "hPtUnfoldedData_.SetLineColor(rt.kMagenta)\n",
    "hPtUnfoldedData_.SetMarkerColor(rt.kMagenta)\n",
    "\n",
    "hPtUnfoldedData.SetStats(rt.kFALSE)\n",
    "hPtUnfoldedData.Draw(\"hist pe\")\n",
    "\n",
    "hPtFSRUnfoldedData.Draw(\"pe same\")\n",
    "hPtUnfoldedData_.Draw(\"pe same\")\n",
    "#hPtUnfoldedMC_closure.Draw(\"pe same\")\n",
    "hPtData.Draw(\"pe same\")\n",
    "\n",
    "hPtUnfoldedData.GetYaxis().SetTitle(\"Events/ bin\")\n",
    "\n",
    "hPtUnfoldedData.GetYaxis().SetNdivisions(10)\n",
    "hPtUnfoldedData.GetXaxis().SetNdivisions(520)\n",
    "\n",
    "hPtUnfoldedData.SetMaximum(5e8)\n",
    "hPtUnfoldedData.SetMinimum(1)\n",
    "\n",
    "legend_pt = rt.TLegend(0.7, 0.7, 0.9, 0.9)\n",
    "legend_pt.AddEntry(hPtData, \"Detector  data\", \"ple\")\n",
    "legend_pt.AddEntry(hPtUnfoldedData, \"Det unfolded data\", \"ple\")\n",
    "legend_pt.AddEntry(hPtFSRUnfoldedData, \"Pre-FSR unfolded data\", \"ple\")\n",
    "legend_pt.Draw()\n",
    "\n",
    "c.cd(2)\n",
    "\n",
    "ratio_pt.cd()\n",
    "#ratio_pt.SetLogx()\n",
    "ratio_pt.SetGridx()\n",
    "ratio_pt.SetGridy()\n",
    "\n",
    "ratioPt_detector = hPtData.Clone(\"ratioPt_detector\")\n",
    "ratioPt_dressed = hPtUnfoldedData.Clone(\"ratioPt_dressed\")\n",
    "ratioPt_preFSR = hPtUnfoldedData_.Clone(\"ratioPt_preFSR\")\n",
    "ratioPt_preFSR_twoStep = hPtFSRUnfoldedData.Clone(\"ratioPt_preFSR_twoStep\")\n",
    "ratioPtMC_preFSR = hPtUnfoldedMC_closure.Clone(\"ratioPtMC_preFSR\")\n",
    "ratioPt_detector.Divide(hDYMCPt_detector)\n",
    "ratioPt_dressed.Divide(hPtMCTruth)\n",
    "ratioPt_preFSR.Divide(hPtUnfoldedMC_)\n",
    "ratioPt_preFSR_twoStep.Divide(hPtMCTruth_preFSR)\n",
    "ratioPtMC_preFSR.Divide(hPtMCTruth)\n",
    "ratioPt_detector.SetStats(rt.kFALSE)\n",
    "ratioPt_detector.Draw(\"pe\")\n",
    "ratioPt_dressed.Draw(\"pe same\")\n",
    "ratioPt_preFSR.Draw(\"pe same\")\n",
    "ratioPt_preFSR_twoStep.Draw(\"pe same\")\n",
    "\n",
    "ratioPtMC_preFSR.SetMarkerStyle(25)\n",
    "ratioPtMC_preFSR.Draw(\"pe same\")\n",
    "ratioPt_detector.SetMinimum(0.5)\n",
    "ratioPt_detector.SetMaximum(1.5)\n",
    "\n",
    "line_pt = rt.TLine(0.5, 1, 45.5, 1)\n",
    "line_pt.SetLineColor(rt.kRed)\n",
    "line_pt.Draw(\"same\")\n",
    "\n",
    "ratioMass_detector.GetYaxis().SetTitle(\"Data/ MC\")\n",
    "\n",
    "c.Draw()\n",
    "c.SaveAs(\"Mass_Pt.pdf\")"
   ]
  },
  {
   "cell_type": "code",
   "execution_count": 27,
   "metadata": {},
   "outputs": [
    {
     "data": {
      "text/plain": [
       "306725.13122616056"
      ]
     },
     "execution_count": 27,
     "metadata": {},
     "output_type": "execute_result"
    }
   ],
   "source": [
    "hMassMCTruth.GetBinContent(1)"
   ]
  },
  {
   "cell_type": "markdown",
   "metadata": {},
   "source": [
    "- Understand how the response matrix handled (Underflow/Overflow, 0 bin...)\n",
    "    - If underflow and overflow bins are explicitly defined, they are \"unfolded from the data\"\n",
    "    - Implicit underflow and overflow bins not unfolded and have different meaning \n",
    "- Input correlation matrix\n",
    "- How to handle systematics within TUfold"
   ]
  },
  {
   "cell_type": "code",
   "execution_count": null,
   "metadata": {},
   "outputs": [],
   "source": []
  },
  {
   "cell_type": "code",
   "execution_count": 28,
   "metadata": {},
   "outputs": [
    {
     "name": "stdout",
     "output_type": "stream",
     "text": [
      "ISRUnfold::setMeanMass()   Save mean of dilepton...\n",
      "Detector, 0 th mass bin, mean: 29.5359 +/- 0.00911052\n",
      "Unfolded, 0 th mass bin, mean: 29.6074 +/- 0.00980851\n",
      "MC, 0 th mass bin, mean: 29.9009 +/- 0.00515901\n",
      "Detector, 1 th mass bin, mean: 49.298 +/- 0.00577303\n",
      "Unfolded, 1 th mass bin, mean: 49.1899 +/- 0.00675484\n",
      "MC, 1 th mass bin, mean: 49.0861 +/- 0.00338511\n",
      "Detector, 2 th mass bin, mean: 72.7962 +/- 0.00406619\n",
      "Unfolded, 2 th mass bin, mean: 72.2928 +/- 0.00653613\n",
      "MC, 2 th mass bin, mean: 72.4018 +/- 0.00326013\n",
      "Detector, 3 th mass bin, mean: 90.7914 +/- 0.000611089\n",
      "Unfolded, 3 th mass bin, mean: 90.9861 +/- 0.000896289\n",
      "MC, 3 th mass bin, mean: 90.9972 +/- 0.000484476\n",
      "Detector, 4 th mass bin, mean: 117.969 +/- 0.0173091\n",
      "Unfolded, 4 th mass bin, mean: 117.951 +/- 0.0265848\n",
      "MC, 4 th mass bin, mean: 117.691 +/- 0.0143516\n",
      "Detector, 5 th mass bin, mean: 241.37 +/- 0.153615\n",
      "Unfolded, 5 th mass bin, mean: 241.111 +/- 0.191289\n",
      "MC, 5 th mass bin, mean: 242.371 +/- 0.118111\n"
     ]
    }
   ],
   "source": [
    "nBins = unfold_det.setMeanMass()"
   ]
  },
  {
   "cell_type": "code",
   "execution_count": 29,
   "metadata": {
    "scrolled": false
   },
   "outputs": [
    {
     "data": {
      "text/plain": [
       "6"
      ]
     },
     "execution_count": 29,
     "metadata": {},
     "output_type": "execute_result"
    },
    {
     "name": "stdout",
     "output_type": "stream",
     "text": [
      "ISRUnfold::setMeanMass()   Save mean of dilepton...\n",
      "Detector, 0 th mass bin, mean: 29.5923 +/- 0.00726504\n",
      "Unfolded, 0 th mass bin, mean: 21.5246 +/- 0.00826876\n",
      "MC, 0 th mass bin, mean: 21.5711 +/- 0.000475894\n",
      "Detector, 1 th mass bin, mean: 49.2675 +/- 0.00540935\n",
      "Unfolded, 1 th mass bin, mean: 47.9667 +/- 0.00688515\n",
      "MC, 1 th mass bin, mean: 47.8513 +/- 0.00183261\n",
      "Detector, 2 th mass bin, mean: 72.7951 +/- 0.00403881\n",
      "Unfolded, 2 th mass bin, mean: 71.6811 +/- 0.00946422\n",
      "MC, 2 th mass bin, mean: 71.8258 +/- 0.00264767\n",
      "Detector, 3 th mass bin, mean: 90.7917 +/- 0.000609223\n",
      "Unfolded, 3 th mass bin, mean: 91.2166 +/- 0.000916386\n",
      "MC, 3 th mass bin, mean: 91.2286 +/- 0.000313154\n",
      "Detector, 4 th mass bin, mean: 117.964 +/- 0.0172654\n",
      "Unfolded, 4 th mass bin, mean: 117.343 +/- 0.0269191\n",
      "MC, 4 th mass bin, mean: 117.097 +/- 0.00951634\n",
      "Detector, 5 th mass bin, mean: 241.369 +/- 0.153453\n",
      "Unfolded, 5 th mass bin, mean: 239.786 +/- 0.194936\n",
      "MC, 5 th mass bin, mean: 241.014 +/- 0.0854856\n"
     ]
    }
   ],
   "source": [
    "unfold_oneStep.setMeanMass()"
   ]
  },
  {
   "cell_type": "code",
   "execution_count": 30,
   "metadata": {},
   "outputs": [
    {
     "data": {
      "text/plain": [
       "6"
      ]
     },
     "execution_count": 30,
     "metadata": {},
     "output_type": "execute_result"
    },
    {
     "name": "stdout",
     "output_type": "stream",
     "text": [
      "ISRUnfold::setMeanPt()   Save mean of dilepton momentum...\n",
      "Detector, 0 th mass bin, mean: 32.0386 +/- 0.0251644\n",
      "Unfolded, 0 th mass bin, mean: 30.845 +/- 0.0275151\n",
      "Detector, 1 th mass bin, mean: 17.3455 +/- 0.0167427\n",
      "Unfolded, 1 th mass bin, mean: 17.8755 +/- 0.0190092\n",
      "Detector, 2 th mass bin, mean: 19.3012 +/- 0.0120881\n",
      "Unfolded, 2 th mass bin, mean: 19.9339 +/- 0.0174801\n",
      "Detector, 3 th mass bin, mean: 19.3831 +/- 0.00324543\n",
      "Unfolded, 3 th mass bin, mean: 20.18 +/- 0.00384388\n",
      "Detector, 4 th mass bin, mean: 21.3235 +/- 0.0173788\n",
      "Unfolded, 4 th mass bin, mean: 21.9526 +/- 0.0231288\n",
      "Detector, 5 th mass bin, mean: 26.5293 +/- 0.111127\n",
      "Unfolded, 5 th mass bin, mean: 26.3371 +/- 0.180279\n"
     ]
    }
   ],
   "source": [
    "unfold_det.setMeanPt()"
   ]
  },
  {
   "cell_type": "code",
   "execution_count": 31,
   "metadata": {},
   "outputs": [
    {
     "data": {
      "text/plain": [
       "6"
      ]
     },
     "execution_count": 31,
     "metadata": {},
     "output_type": "execute_result"
    },
    {
     "name": "stdout",
     "output_type": "stream",
     "text": [
      "ISRUnfold::setMeanPt()   Save mean of dilepton momentum...\n",
      "Detector, 0 th mass bin, mean: 31.6013 +/- 0.0201064\n",
      "Unfolded, 0 th mass bin, mean: 8.63909 +/- 0.0410323\n",
      "Detector, 1 th mass bin, mean: 17.2727 +/- 0.0156629\n",
      "Unfolded, 1 th mass bin, mean: 13.3803 +/- 0.0163956\n",
      "Detector, 2 th mass bin, mean: 19.2944 +/- 0.012003\n",
      "Unfolded, 2 th mass bin, mean: 16.382 +/- 0.0219514\n",
      "Detector, 3 th mass bin, mean: 19.3784 +/- 0.00323475\n",
      "Unfolded, 3 th mass bin, mean: 18.3265 +/- 0.00368556\n",
      "Detector, 4 th mass bin, mean: 21.3225 +/- 0.0173376\n",
      "Unfolded, 4 th mass bin, mean: 20.1823 +/- 0.0223095\n",
      "Detector, 5 th mass bin, mean: 26.5378 +/- 0.11107\n",
      "Unfolded, 5 th mass bin, mean: 24.7354 +/- 0.181748\n"
     ]
    }
   ],
   "source": [
    "unfold_oneStep.setMeanPt()"
   ]
  },
  {
   "cell_type": "code",
   "execution_count": 32,
   "metadata": {},
   "outputs": [
    {
     "data": {
      "text/plain": [
       "6"
      ]
     },
     "execution_count": 32,
     "metadata": {},
     "output_type": "execute_result"
    },
    {
     "name": "stdout",
     "output_type": "stream",
     "text": [
      "ISRUnfold::setMeanPt()   Save mean of dilepton momentum...\n",
      "Detector, 0 th mass bin, mean: 30.845 +/- 0.0275151\n",
      "Unfolded, 0 th mass bin, mean: 9.04483 +/- 0.136069\n",
      "Detector, 1 th mass bin, mean: 17.8755 +/- 0.0190092\n",
      "Unfolded, 1 th mass bin, mean: 13.4706 +/- 0.0186374\n",
      "Detector, 2 th mass bin, mean: 19.9339 +/- 0.0174801\n",
      "Unfolded, 2 th mass bin, mean: 16.412 +/- 0.0246692\n",
      "Detector, 3 th mass bin, mean: 20.18 +/- 0.00384388\n",
      "Unfolded, 3 th mass bin, mean: 18.3278 +/- 0.00371525\n",
      "Detector, 4 th mass bin, mean: 21.9526 +/- 0.0231288\n",
      "Unfolded, 4 th mass bin, mean: 20.1838 +/- 0.0225251\n",
      "Detector, 5 th mass bin, mean: 26.3371 +/- 0.180279\n",
      "Unfolded, 5 th mass bin, mean: 24.738 +/- 0.182552\n"
     ]
    }
   ],
   "source": [
    "unfold_fsr.setMeanPt()"
   ]
  },
  {
   "cell_type": "code",
   "execution_count": 33,
   "metadata": {},
   "outputs": [
    {
     "data": {
      "text/plain": [
       "6"
      ]
     },
     "execution_count": 33,
     "metadata": {},
     "output_type": "execute_result"
    },
    {
     "name": "stdout",
     "output_type": "stream",
     "text": [
      "ISRUnfold::setMeanMass()   Save mean of dilepton...\n",
      "Detector, 0 th mass bin, mean: 29.6074 +/- 0.00980851\n",
      "Unfolded, 0 th mass bin, mean: 21.5369 +/- 0.00976255\n",
      "MC, 0 th mass bin, mean: 21.5711 +/- 0.000475894\n",
      "Detector, 1 th mass bin, mean: 49.1899 +/- 0.00675484\n",
      "Unfolded, 1 th mass bin, mean: 47.9809 +/- 0.00774469\n",
      "MC, 1 th mass bin, mean: 47.8513 +/- 0.00183261\n",
      "Detector, 2 th mass bin, mean: 72.2928 +/- 0.00653613\n",
      "Unfolded, 2 th mass bin, mean: 71.6675 +/- 0.0107058\n",
      "MC, 2 th mass bin, mean: 71.8258 +/- 0.00264767\n",
      "Detector, 3 th mass bin, mean: 90.9861 +/- 0.000896289\n",
      "Unfolded, 3 th mass bin, mean: 91.2157 +/- 0.000910412\n",
      "MC, 3 th mass bin, mean: 91.2286 +/- 0.000313154\n",
      "Detector, 4 th mass bin, mean: 117.951 +/- 0.0265848\n",
      "Unfolded, 4 th mass bin, mean: 117.343 +/- 0.0270233\n",
      "MC, 4 th mass bin, mean: 117.097 +/- 0.00951634\n",
      "Detector, 5 th mass bin, mean: 241.111 +/- 0.191289\n",
      "Unfolded, 5 th mass bin, mean: 239.776 +/- 0.196129\n",
      "MC, 5 th mass bin, mean: 241.014 +/- 0.0854856\n"
     ]
    }
   ],
   "source": [
    "unfold_fsr.setMeanMass()"
   ]
  },
  {
   "cell_type": "code",
   "execution_count": 34,
   "metadata": {},
   "outputs": [
    {
     "data": {
      "text/plain": [
       "6"
      ]
     },
     "execution_count": 34,
     "metadata": {},
     "output_type": "execute_result"
    },
    {
     "name": "stdout",
     "output_type": "stream",
     "text": [
      "ISRUnfold::setMeanPt()   Save mean of dilepton momentum...\n",
      "Detector, 0 th mass bin, mean: 31.3437 +/- 0.102295\n",
      "Unfolded, 0 th mass bin, mean: 30.1724 +/- 0.10985\n",
      "Detector, 1 th mass bin, mean: 15.9685 +/- 0.0497821\n",
      "Unfolded, 1 th mass bin, mean: 16.4859 +/- 0.0562892\n",
      "Detector, 2 th mass bin, mean: 19.01 +/- 0.0231258\n",
      "Unfolded, 2 th mass bin, mean: 19.6811 +/- 0.033907\n",
      "Detector, 3 th mass bin, mean: 18.8944 +/- 0.00670125\n",
      "Unfolded, 3 th mass bin, mean: 19.7184 +/- 0.00797532\n",
      "Detector, 4 th mass bin, mean: 20.9037 +/- 0.0356413\n",
      "Unfolded, 4 th mass bin, mean: 21.544 +/- 0.0475498\n",
      "Detector, 5 th mass bin, mean: 26.7497 +/- 0.217062\n",
      "Unfolded, 5 th mass bin, mean: 26.5826 +/- 0.353547\n",
      "ISRUnfold::setMeanMass()   Save mean of dilepton...\n",
      "Detector, 0 th mass bin, mean: 29.866 +/- 0.0365577\n",
      "Unfolded, 0 th mass bin, mean: 29.9004 +/- 0.0393919\n",
      "MC, 0 th mass bin, mean: 29.9009 +/- 0.00515901\n",
      "Detector, 1 th mass bin, mean: 49.2189 +/- 0.017184\n",
      "Unfolded, 1 th mass bin, mean: 49.0901 +/- 0.0198863\n",
      "MC, 1 th mass bin, mean: 49.0861 +/- 0.00338511\n",
      "Detector, 2 th mass bin, mean: 72.8971 +/- 0.00757303\n",
      "Unfolded, 2 th mass bin, mean: 72.41 +/- 0.0122309\n",
      "MC, 2 th mass bin, mean: 72.4018 +/- 0.00326013\n",
      "Detector, 3 th mass bin, mean: 90.7946 +/- 0.00122635\n",
      "Unfolded, 3 th mass bin, mean: 90.9926 +/- 0.00179692\n",
      "MC, 3 th mass bin, mean: 90.9972 +/- 0.000484476\n",
      "Detector, 4 th mass bin, mean: 117.686 +/- 0.0342441\n",
      "Unfolded, 4 th mass bin, mean: 117.678 +/- 0.0528146\n",
      "MC, 4 th mass bin, mean: 117.691 +/- 0.0143516\n",
      "Detector, 5 th mass bin, mean: 242.49 +/- 0.290557\n",
      "Unfolded, 5 th mass bin, mean: 242.371 +/- 0.361906\n",
      "MC, 5 th mass bin, mean: 242.371 +/- 0.118111\n"
     ]
    }
   ],
   "source": [
    "unfold_closure.setMeanPt()\n",
    "unfold_closure.setMeanMass()"
   ]
  },
  {
   "cell_type": "code",
   "execution_count": 35,
   "metadata": {},
   "outputs": [],
   "source": [
    "c_PtVsMass = rt.TCanvas(\"PtVsMass\",\"PtVsMass\", 1000, 600)\n",
    "c_PtVsMass.SetGridx()\n",
    "c_PtVsMass.SetGridy()\n",
    "c_PtVsMass.SetLogx()"
   ]
  },
  {
   "cell_type": "code",
   "execution_count": 36,
   "metadata": {},
   "outputs": [],
   "source": [
    "from array import array\n",
    "meanMass, meanPt = array('d'), array('d')\n",
    "meanMassUnf, meanPtUnf = array('d'), array('d')\n",
    "meanMassUnfStatErr, meanPtUnfStatErr = array('d'), array('d')\n",
    "meanMassFSRUnf, meanPtFSRUnf = array('d'), array('d')\n",
    "meanMassFSRUnfStatErr, meanPtFSRUnfStatErr = array('d'), array('d')\n",
    "\n",
    "meanMassFSRUnf_twoStep, meanPtFSRUnf_twoStep = array('d'), array('d')\n",
    "meanMassFSRUnf_twoStepStatErr, meanPtFSRUnf_twoStepStatErr = array('d'), array('d')\n",
    "\n",
    "meanMassFSRUnfMC, meanPtFSRUnfMC = array('d'), array('d')\n",
    "meanMassFSRUnfMCStatErr, meanPtFSRUnfMCStatErr = array('d'), array('d')\n",
    "\n",
    "meanMassFSRMC, meanPtFSRMC = array('d'), array('d')\n",
    "\n",
    "for ibin in range(nBins):\n",
    "    meanMass.append(unfold_det.getDetMeanMass(ibin))\n",
    "    meanPt.append(unfold_det.getDetMeanPt(ibin))\n",
    "    \n",
    "    meanMassUnf.append(unfold_det.getUnfMeanMass(ibin))\n",
    "    meanPtUnf.append(unfold_det.getUnfMeanPt(ibin))\n",
    "    meanMassUnfStatErr.append(unfold_det.getUnfMeanMassError(ibin))\n",
    "    meanPtUnfStatErr.append(unfold_det.getUnfMeanPtError(ibin))\n",
    "    \n",
    "    meanMassFSRUnf.append(unfold_oneStep.getUnfMeanMass(ibin))\n",
    "    meanPtFSRUnf.append(unfold_oneStep.getUnfMeanPt(ibin))\n",
    "    meanMassFSRUnfStatErr.append(unfold_oneStep.getUnfMeanMassError(ibin))\n",
    "    meanPtFSRUnfStatErr.append(unfold_oneStep.getUnfMeanPtError(ibin))\n",
    "    \n",
    "    meanMassFSRUnf_twoStep.append(unfold_fsr.getUnfMeanMass(ibin))\n",
    "    meanPtFSRUnf_twoStep.append(unfold_fsr.getUnfMeanPt(ibin))\n",
    "    meanMassFSRUnf_twoStepStatErr.append(unfold_fsr.getUnfMeanMassError(ibin))\n",
    "    meanPtFSRUnf_twoStepStatErr.append(unfold_fsr.getUnfMeanPtError(ibin))\n",
    "    \n",
    "    meanMassFSRUnfMC.append(unfold_closure.getUnfMeanMass(ibin))\n",
    "    meanPtFSRUnfMC.append(unfold_closure.getUnfMeanPt(ibin))"
   ]
  },
  {
   "cell_type": "code",
   "execution_count": 37,
   "metadata": {
    "scrolled": false
   },
   "outputs": [
    {
     "name": "stdout",
     "output_type": "stream",
     "text": [
      " FCN=41.4252 FROM MIGRAD    STATUS=CONVERGED      59 CALLS          60 TOTAL\n",
      "                     EDM=5.53778e-14    STRATEGY= 1      ERROR MATRIX ACCURATE \n",
      "  EXT PARAMETER                                   STEP         FIRST   \n",
      "  NO.   NAME      VALUE            ERROR          SIZE      DERIVATIVE \n",
      "   1  p0          -1.57370e+01   1.20381e-01   1.13215e-05   9.23234e-05\n",
      "   2  p1           7.54693e+00   2.67902e-02   3.59866e-06   4.12715e-04\n"
     ]
    },
    {
     "data": {
      "text/html": [
       "\n",
       "<div id=\"root_plot_3\"\n",
       "     style=\"width: 996px; height: 572px\">\n",
       "</div>\n",
       "\n",
       "<script>\n",
       " requirejs.config({\n",
       "     paths: {\n",
       "       'JSRootCore' : 'https://root.cern.ch/js/notebook//scripts/JSRootCore',\n",
       "     }\n",
       "   });\n",
       " require(['JSRootCore'],\n",
       "     function(Core) {\n",
       "       var obj = Core.JSONR_unref({\"_typename\":\"TCanvas\",\"fUniqueID\":0,\"fBits\":53673992,\"fLineColor\":1,\"fLineStyle\":1,\"fLineWidth\":1,\"fFillColor\":0,\"fFillStyle\":1001,\"fLeftMargin\":0.1,\"fRightMargin\":0.1,\"fBottomMargin\":0.1,\"fTopMargin\":0.1,\"fXfile\":2,\"fYfile\":2,\"fAfile\":1,\"fXstat\":0.99,\"fYstat\":0.99,\"fAstat\":2,\"fFrameFillColor\":0,\"fFrameLineColor\":1,\"fFrameFillStyle\":1001,\"fFrameLineStyle\":1,\"fFrameLineWidth\":1,\"fFrameBorderSize\":1,\"fFrameBorderMode\":0,\"fX1\":0.749999981373547,\"fY1\":-3.72529052050652e-7,\"fX2\":3.25000001862645,\"fY2\":50.0000003725291,\"fXtoAbsPixelk\":-298.799938126754,\"fXtoPixelk\":-298.799938126754,\"fXtoPixel\":398.399994063377,\"fYtoAbsPixelk\":572.000045738268,\"fYtoPixelk\":572.000045738268,\"fYtoPixel\":-11.4399998295307,\"fUtoAbsPixelk\":5e-5,\"fUtoPixelk\":5e-5,\"fUtoPixel\":996,\"fVtoAbsPixelk\":572.00005,\"fVtoPixelk\":572,\"fVtoPixel\":-572,\"fAbsPixeltoXk\":0.749999981373547,\"fPixeltoXk\":0.749999981373547,\"fPixeltoX\":0.00251004019804508,\"fAbsPixeltoYk\":50.0000003725291,\"fPixeltoYk\":-3.72529052050652e-7,\"fPixeltoY\":-0.0874125887151365,\"fXlowNDC\":0,\"fYlowNDC\":0,\"fXUpNDC\":0,\"fYUpNDC\":0,\"fWNDC\":1,\"fHNDC\":1,\"fAbsXlowNDC\":0,\"fAbsYlowNDC\":0,\"fAbsWNDC\":1,\"fAbsHNDC\":1,\"fUxmin\":1,\"fUymin\":5,\"fUxmax\":3,\"fUymax\":45,\"fTheta\":30,\"fPhi\":30,\"fAspectRatio\":0,\"fNumber\":0,\"fTickx\":0,\"fTicky\":0,\"fLogx\":1,\"fLogy\":0,\"fLogz\":0,\"fPadPaint\":0,\"fCrosshair\":0,\"fCrosshairPos\":0,\"fBorderSize\":2,\"fBorderMode\":0,\"fModified\":false,\"fGridx\":true,\"fGridy\":true,\"fAbsCoord\":false,\"fEditable\":true,\"fFixedAspectRatio\":false,\"fPrimitives\":{\"_typename\":\"TList\",\"name\":\"TList\",\"arr\":[{\"_typename\":\"TFrame\",\"fUniqueID\":0,\"fBits\":50331656,\"fLineColor\":1,\"fLineStyle\":1,\"fLineWidth\":1,\"fFillColor\":0,\"fFillStyle\":1001,\"fX1\":1,\"fY1\":5,\"fX2\":3,\"fY2\":45,\"fBorderSize\":1,\"fBorderMode\":0},{\"_typename\":\"TGraph\",\"fUniqueID\":0,\"fBits\":50332680,\"fName\":\"Graph\",\"fTitle\":\"Dilepton p_{T} vs. Mass\",\"fLineColor\":1,\"fLineStyle\":1,\"fLineWidth\":1,\"fFillColor\":0,\"fFillStyle\":1000,\"fMarkerColor\":1,\"fMarkerStyle\":26,\"fMarkerSize\":1,\"fNpoints\":6,\"fX\":[29.5358907788582,49.2980257544862,72.7962029166524,90.7914258665661,117.968697645256,241.36992459418],\"fY\":[32.0385829733415,17.3454533457475,19.3012037241326,19.3830618428973,21.3235210159547,26.5293454127982],\"fFunctions\":{\"_typename\":\"TList\",\"name\":\"TList\",\"arr\":[],\"opt\":[]},\"fHistogram\":{\"_typename\":\"TH1F\",\"fUniqueID\":0,\"fBits\":50332160,\"fName\":\"Graph\",\"fTitle\":\"Dilepton p_{T} vs. Mass\",\"fLineColor\":602,\"fLineStyle\":1,\"fLineWidth\":1,\"fFillColor\":0,\"fFillStyle\":1001,\"fMarkerColor\":1,\"fMarkerStyle\":1,\"fMarkerSize\":1,\"fNcells\":102,\"fXaxis\":{\"_typename\":\"TAxis\",\"fUniqueID\":0,\"fBits\":50331656,\"fName\":\"xaxis\",\"fTitle\":\"\",\"fNdivisions\":510,\"fAxisColor\":1,\"fLabelColor\":1,\"fLabelFont\":42,\"fLabelOffset\":0.005,\"fLabelSize\":0.035,\"fTickLength\":0.03,\"fTitleOffset\":1,\"fTitleSize\":0.035,\"fTitleColor\":1,\"fTitleFont\":42,\"fNbins\":100,\"fXmin\":10,\"fXmax\":1000,\"fXbins\":[],\"fFirst\":0,\"fLast\":0,\"fBits2\":0,\"fTimeDisplay\":false,\"fTimeFormat\":\"\",\"fLabels\":null,\"fModLabs\":null},\"fYaxis\":{\"_typename\":\"TAxis\",\"fUniqueID\":0,\"fBits\":50331656,\"fName\":\"yaxis\",\"fTitle\":\"\",\"fNdivisions\":510,\"fAxisColor\":1,\"fLabelColor\":1,\"fLabelFont\":42,\"fLabelOffset\":0.005,\"fLabelSize\":0.035,\"fTickLength\":0.03,\"fTitleOffset\":0,\"fTitleSize\":0.035,\"fTitleColor\":1,\"fTitleFont\":42,\"fNbins\":1,\"fXmin\":15.8761403829881,\"fXmax\":33.5078959361009,\"fXbins\":[],\"fFirst\":0,\"fLast\":0,\"fBits2\":0,\"fTimeDisplay\":false,\"fTimeFormat\":\"\",\"fLabels\":null,\"fModLabs\":null},\"fZaxis\":{\"_typename\":\"TAxis\",\"fUniqueID\":0,\"fBits\":50331648,\"fName\":\"zaxis\",\"fTitle\":\"\",\"fNdivisions\":510,\"fAxisColor\":1,\"fLabelColor\":1,\"fLabelFont\":42,\"fLabelOffset\":0.005,\"fLabelSize\":0.035,\"fTickLength\":0.03,\"fTitleOffset\":1,\"fTitleSize\":0.035,\"fTitleColor\":1,\"fTitleFont\":42,\"fNbins\":1,\"fXmin\":0,\"fXmax\":1,\"fXbins\":[],\"fFirst\":0,\"fLast\":0,\"fBits2\":0,\"fTimeDisplay\":false,\"fTimeFormat\":\"\",\"fLabels\":null,\"fModLabs\":null},\"fBarOffset\":0,\"fBarWidth\":1000,\"fEntries\":0,\"fTsumw\":0,\"fTsumw2\":0,\"fTsumwx\":0,\"fTsumwx2\":0,\"fMaximum\":45,\"fMinimum\":5,\"fNormFactor\":0,\"fContour\":[],\"fSumw2\":[],\"fOption\":\"\",\"fFunctions\":{\"_typename\":\"TList\",\"name\":\"TList\",\"arr\":[],\"opt\":[]},\"fBufferSize\":0,\"fBuffer\":[],\"fBinStatErrOpt\":0,\"fStatOverflows\":2,\"fArray\":[0,0,0,0,0,0,0,0,0,0,0,0,0,0,0,0,0,0,0,0,0,0,0,0,0,0,0,0,0,0,0,0,0,0,0,0,0,0,0,0,0,0,0,0,0,0,0,0,0,0,0,0,0,0,0,0,0,0,0,0,0,0,0,0,0,0,0,0,0,0,0,0,0,0,0,0,0,0,0,0,0,0,0,0,0,0,0,0,0,0,0,0,0,0,0,0,0,0,0,0,0,0]},\"fMinimum\":-1111,\"fMaximum\":-1111},{\"_typename\":\"TGraphErrors\",\"fUniqueID\":0,\"fBits\":50332680,\"fName\":\"Graph\",\"fTitle\":\"Graph\",\"fLineColor\":632,\"fLineStyle\":1,\"fLineWidth\":1,\"fFillColor\":0,\"fFillStyle\":1000,\"fMarkerColor\":632,\"fMarkerStyle\":26,\"fMarkerSize\":1,\"fNpoints\":6,\"fX\":[29.6074425272597,49.1899213612602,72.2928174408847,90.9860572725405,117.950902606175,241.110713461567],\"fY\":[30.8449657293107,17.875520209692,19.9338833247681,20.1799839865101,21.9525781875702,26.337076551821],\"fFunctions\":{\"_typename\":\"TList\",\"name\":\"TList\",\"arr\":[],\"opt\":[]},\"fHistogram\":{\"_typename\":\"TH1F\",\"fUniqueID\":0,\"fBits\":50332160,\"fName\":\"Graph\",\"fTitle\":\"Graph\",\"fLineColor\":602,\"fLineStyle\":1,\"fLineWidth\":1,\"fFillColor\":0,\"fFillStyle\":1001,\"fMarkerColor\":1,\"fMarkerStyle\":1,\"fMarkerSize\":1,\"fNcells\":102,\"fXaxis\":{\"_typename\":\"TAxis\",\"fUniqueID\":0,\"fBits\":50331648,\"fName\":\"xaxis\",\"fTitle\":\"\",\"fNdivisions\":510,\"fAxisColor\":1,\"fLabelColor\":1,\"fLabelFont\":42,\"fLabelOffset\":0.005,\"fLabelSize\":0.035,\"fTickLength\":0.03,\"fTitleOffset\":1,\"fTitleSize\":0.035,\"fTitleColor\":1,\"fTitleFont\":42,\"fNbins\":100,\"fXmin\":8.42719720520667,\"fXmax\":262.472438965244,\"fXbins\":[],\"fFirst\":0,\"fLast\":0,\"fBits2\":0,\"fTimeDisplay\":false,\"fTimeFormat\":\"\",\"fLabels\":null,\"fModLabs\":null},\"fYaxis\":{\"_typename\":\"TAxis\",\"fUniqueID\":0,\"fBits\":50331648,\"fName\":\"yaxis\",\"fTitle\":\"\",\"fNdivisions\":510,\"fAxisColor\":1,\"fLabelColor\":1,\"fLabelFont\":42,\"fLabelOffset\":0.005,\"fLabelSize\":0.035,\"fTickLength\":0.03,\"fTitleOffset\":0,\"fTitleSize\":0.035,\"fTitleColor\":1,\"fTitleFont\":42,\"fNbins\":1,\"fXmin\":16.5549139847725,\"fXmax\":32.174077789457,\"fXbins\":[],\"fFirst\":0,\"fLast\":0,\"fBits2\":0,\"fTimeDisplay\":false,\"fTimeFormat\":\"\",\"fLabels\":null,\"fModLabs\":null},\"fZaxis\":{\"_typename\":\"TAxis\",\"fUniqueID\":0,\"fBits\":50331648,\"fName\":\"zaxis\",\"fTitle\":\"\",\"fNdivisions\":510,\"fAxisColor\":1,\"fLabelColor\":1,\"fLabelFont\":42,\"fLabelOffset\":0.005,\"fLabelSize\":0.035,\"fTickLength\":0.03,\"fTitleOffset\":1,\"fTitleSize\":0.035,\"fTitleColor\":1,\"fTitleFont\":42,\"fNbins\":1,\"fXmin\":0,\"fXmax\":1,\"fXbins\":[],\"fFirst\":0,\"fLast\":0,\"fBits2\":0,\"fTimeDisplay\":false,\"fTimeFormat\":\"\",\"fLabels\":null,\"fModLabs\":null},\"fBarOffset\":0,\"fBarWidth\":1000,\"fEntries\":0,\"fTsumw\":0,\"fTsumw2\":0,\"fTsumwx\":0,\"fTsumwx2\":0,\"fMaximum\":32.174077789457,\"fMinimum\":16.5549139847725,\"fNormFactor\":0,\"fContour\":[],\"fSumw2\":[],\"fOption\":\"\",\"fFunctions\":{\"_typename\":\"TList\",\"name\":\"TList\",\"arr\":[],\"opt\":[]},\"fBufferSize\":0,\"fBuffer\":[],\"fBinStatErrOpt\":0,\"fStatOverflows\":2,\"fArray\":[0,0,0,0,0,0,0,0,0,0,0,0,0,0,0,0,0,0,0,0,0,0,0,0,0,0,0,0,0,0,0,0,0,0,0,0,0,0,0,0,0,0,0,0,0,0,0,0,0,0,0,0,0,0,0,0,0,0,0,0,0,0,0,0,0,0,0,0,0,0,0,0,0,0,0,0,0,0,0,0,0,0,0,0,0,0,0,0,0,0,0,0,0,0,0,0,0,0,0,0,0,0]},\"fMinimum\":-1111,\"fMaximum\":-1111,\"fEX\":[0.00980850871653193,0.00675484039228951,0.00653613357117308,8.96288885330682e-4,0.02658475996071,0.191288690340409],\"fEY\":[0.0275150764225975,0.0190092411958224,0.0174800675983909,0.00384387842660269,0.0231287578407324,0.180278952415757]},{\"_typename\":\"TGraphErrors\",\"fUniqueID\":0,\"fBits\":50332680,\"fName\":\"Graph\",\"fTitle\":\"Graph\",\"fLineColor\":600,\"fLineStyle\":1,\"fLineWidth\":1,\"fFillColor\":0,\"fFillStyle\":1000,\"fMarkerColor\":600,\"fMarkerStyle\":26,\"fMarkerSize\":1,\"fNpoints\":6,\"fX\":[21.5369472656054,47.9809177657665,71.667478645788,91.2156929687697,117.342518995839,239.776080548878],\"fY\":[9.04482555731123,13.4705668669575,16.4119738035945,18.3277720702999,20.1838114497065,24.7380192673553],\"fFunctions\":{\"_typename\":\"TList\",\"name\":\"TList\",\"arr\":[{\"_typename\":\"TF1\",\"fUniqueID\":0,\"fBits\":50333192,\"fName\":\"f_lepton\",\"fTitle\":\"[0]+[1]*log(x)\",\"fLineColor\":600,\"fLineStyle\":2,\"fLineWidth\":1,\"fFillColor\":19,\"fFillStyle\":0,\"fMarkerColor\":1,\"fMarkerStyle\":1,\"fMarkerSize\":1,\"fXmin\":30,\"fXmax\":900,\"fNpar\":2,\"fNdim\":1,\"fNpx\":100,\"fType\":0,\"fNpfits\":5,\"fNDF\":3,\"fChisquare\":41.425162366253,\"fMinimum\":-1111,\"fMaximum\":-1111,\"fParErrors\":[0.120380759562832,0.0267902092496956],\"fParMin\":[0,0],\"fParMax\":[0,0],\"fSave\":[9.93160408507264,11.853371641404,13.3837583904891,14.6555189817589,15.7435586178765,16.6943196481439,17.5385941668591,18.2978510097371,18.9876569395481,19.6196596025728,20.2028018520768,20.7440993813839,21.249157536174,21.7225257149912,22.1679469995715,22.5885381165669,22.9869218346002,23.3653261280829,23.7256596414057,24.0695699414583,24.3984890643927,24.7136695436649,25.0162132110439,25.3070944433389,25.5871790926236,25.8572400274158,26.1179699877944,26.3699922929864,26.6138698180507,26.8501125649352,27.0791840840284,27.3015069494829,27.5174674508446,27.7274196318582,27.9316887825077,28.1305744707816,28.3243531850953,28.513280645873,28.6975938347836,28.877512782029,29.0532421454987,29.224972610214,29.392882132059,29.5571370461364,29.7178930570562,29.8752961259331,30.0294832667591,30.1805832630392,30.3287173140834,30.4739996190809,30.6165379060091,30.7564339115133,30.893783817113,31.0286786464179,31.161204627464,31.2914435237801,31.41947293737,31.5453665864196,31.6691945602196,31.7910235535096,31.9109170822052,32.0289356822569,32.1451370931966,32.2595764277676,32.372306328884,32.4833771150385,32.5928369151655,32.7007317938614,32.8071058677804,32.9120014139406,33.0154589706048,33.1175174313413,33.2182141328073,33.3175849367541,33.4156643067024,33.5124853796989,33.6080800335287,33.7024789497227,33.7957116726737,33.8878066651453,33.9787913604342,34.0686922114256,34.1575347367608,34.2453435643197,34.3321424722013,34.4179544273754,34.502801622161,34.5867055086766,34.6696868313968,34.7517656579384,34.8329614081899,34.9132928818912,34.9927782847605,35.0714352532596,35.1492808780821,35.2263317264423,35.3026038632379,35.3781128711539,35.4528738697708,35.5269015337355,35.6002101100495,30,900],\"fNormalized\":false,\"fNormIntegral\":0,\"fFormula\":{\"_typename\":\"TFormula\",\"fUniqueID\":0,\"fBits\":50332672,\"fName\":\"f_lepton\",\"fTitle\":\"[0]+[1]*log(x)\",\"fClingParameters\":[-15.7370019399042,7.5469321961058],\"fAllParametersSetted\":true,\"fParams\":[{\"$pair\":\"pair<TString,int,TFormulaParamOrder>\",\"first\":\"p0\",\"second\":0},{\"$pair\":\"pair<TString,int,TFormulaParamOrder>\",\"first\":\"p1\",\"second\":1}],\"fFormula\":\"[p0]+[p1]*log(x)\",\"fNdim\":1,\"fLinearParts\":[],\"fVectorized\":false},\"fParams\":null,\"fComposition_ptr\":null}],\"opt\":[\"\"]},\"fHistogram\":{\"_typename\":\"TH1F\",\"fUniqueID\":0,\"fBits\":50332160,\"fName\":\"Graph\",\"fTitle\":\"Graph\",\"fLineColor\":602,\"fLineStyle\":1,\"fLineWidth\":1,\"fFillColor\":0,\"fFillStyle\":1001,\"fMarkerColor\":1,\"fMarkerStyle\":1,\"fMarkerSize\":1,\"fNcells\":102,\"fXaxis\":{\"_typename\":\"TAxis\",\"fUniqueID\":0,\"fBits\":50331648,\"fName\":\"xaxis\",\"fTitle\":\"\",\"fNdivisions\":510,\"fAxisColor\":1,\"fLabelColor\":1,\"fLabelFont\":42,\"fLabelOffset\":0.005,\"fLabelSize\":0.035,\"fTickLength\":0.03,\"fTitleOffset\":1,\"fTitleSize\":0.035,\"fTitleColor\":1,\"fTitleFont\":42,\"fNbins\":100,\"fXmin\":19.3744662436418,\"fXmax\":261.816711708033,\"fXbins\":[],\"fFirst\":0,\"fLast\":0,\"fBits2\":0,\"fTimeDisplay\":false,\"fTimeFormat\":\"\",\"fLabels\":null,\"fModLabs\":null},\"fYaxis\":{\"_typename\":\"TAxis\",\"fUniqueID\":0,\"fBits\":50331648,\"fName\":\"yaxis\",\"fTitle\":\"\",\"fNdivisions\":510,\"fAxisColor\":1,\"fLabelColor\":1,\"fLabelFont\":42,\"fLabelOffset\":0.005,\"fLabelSize\":0.035,\"fTickLength\":0.03,\"fTitleOffset\":0,\"fTitleSize\":0.035,\"fTitleColor\":1,\"fTitleFont\":42,\"fNbins\":1,\"fXmin\":7.30757537988095,\"fXmax\":26.5217530225534,\"fXbins\":[],\"fFirst\":0,\"fLast\":0,\"fBits2\":0,\"fTimeDisplay\":false,\"fTimeFormat\":\"\",\"fLabels\":null,\"fModLabs\":null},\"fZaxis\":{\"_typename\":\"TAxis\",\"fUniqueID\":0,\"fBits\":50331648,\"fName\":\"zaxis\",\"fTitle\":\"\",\"fNdivisions\":510,\"fAxisColor\":1,\"fLabelColor\":1,\"fLabelFont\":42,\"fLabelOffset\":0.005,\"fLabelSize\":0.035,\"fTickLength\":0.03,\"fTitleOffset\":1,\"fTitleSize\":0.035,\"fTitleColor\":1,\"fTitleFont\":42,\"fNbins\":1,\"fXmin\":0,\"fXmax\":1,\"fXbins\":[],\"fFirst\":0,\"fLast\":0,\"fBits2\":0,\"fTimeDisplay\":false,\"fTimeFormat\":\"\",\"fLabels\":null,\"fModLabs\":null},\"fBarOffset\":0,\"fBarWidth\":1000,\"fEntries\":0,\"fTsumw\":0,\"fTsumw2\":0,\"fTsumwx\":0,\"fTsumwx2\":0,\"fMaximum\":26.5217530225534,\"fMinimum\":7.30757537988095,\"fNormFactor\":0,\"fContour\":[],\"fSumw2\":[],\"fOption\":\"\",\"fFunctions\":{\"_typename\":\"TList\",\"name\":\"TList\",\"arr\":[],\"opt\":[]},\"fBufferSize\":0,\"fBuffer\":[],\"fBinStatErrOpt\":0,\"fStatOverflows\":2,\"fArray\":[0,0,0,0,0,0,0,0,0,0,0,0,0,0,0,0,0,0,0,0,0,0,0,0,0,0,0,0,0,0,0,0,0,0,0,0,0,0,0,0,0,0,0,0,0,0,0,0,0,0,0,0,0,0,0,0,0,0,0,0,0,0,0,0,0,0,0,0,0,0,0,0,0,0,0,0,0,0,0,0,0,0,0,0,0,0,0,0,0,0,0,0,0,0,0,0,0,0,0,0,0,0]},\"fMinimum\":-1111,\"fMaximum\":-1111,\"fEX\":[0.00976255044778388,0.00774468782944905,0.0107057991022855,9.10412391686609e-4,0.0270233000931519,0.196128705256357],\"fEY\":[0.136068707207576,0.0186373738875558,0.0246692037643922,0.00371524504502873,0.0225250724488662,0.182552284975448]},{\"_typename\":\"TLegend\",\"fUniqueID\":0,\"fBits\":50331656,\"fLineColor\":1,\"fLineStyle\":1,\"fLineWidth\":1,\"fFillColor\":0,\"fFillStyle\":1001,\"fX1\":2.45000000670552,\"fY1\":9.99999977648257,\"fX2\":2.9500000141561,\"fY2\":19.9999999254942,\"fX1NDC\":0.68,\"fY1NDC\":0.2,\"fX2NDC\":0.88,\"fY2NDC\":0.4,\"fBorderSize\":1,\"fInit\":1,\"fShadowColor\":1,\"fCornerRadius\":0,\"fOption\":\"brNDC\",\"fName\":\"TPave\",\"fTextAngle\":0,\"fTextSize\":0,\"fTextAlign\":12,\"fTextColor\":1,\"fTextFont\":42,\"fPrimitives\":{\"_typename\":\"TList\",\"name\":\"TList\",\"arr\":[{\"_typename\":\"TLegendEntry\",\"fUniqueID\":0,\"fBits\":50331656,\"fTextAngle\":0,\"fTextSize\":0,\"fTextAlign\":0,\"fTextColor\":0,\"fTextFont\":42,\"fLineColor\":1,\"fLineStyle\":1,\"fLineWidth\":1,\"fFillColor\":0,\"fFillStyle\":0,\"fMarkerColor\":1,\"fMarkerStyle\":26,\"fMarkerSize\":1,\"fObject\":{\"$ref\":3},\"fLabel\":\"Detector  data 2018\",\"fOption\":\"ple\"},{\"_typename\":\"TLegendEntry\",\"fUniqueID\":0,\"fBits\":50331656,\"fTextAngle\":0,\"fTextSize\":0,\"fTextAlign\":0,\"fTextColor\":0,\"fTextFont\":42,\"fLineColor\":632,\"fLineStyle\":1,\"fLineWidth\":1,\"fFillColor\":0,\"fFillStyle\":0,\"fMarkerColor\":632,\"fMarkerStyle\":26,\"fMarkerSize\":1,\"fObject\":{\"$ref\":10},\"fLabel\":\"Det unfolded data\",\"fOption\":\"ple\"},{\"_typename\":\"TLegendEntry\",\"fUniqueID\":0,\"fBits\":50331656,\"fTextAngle\":0,\"fTextSize\":0,\"fTextAlign\":0,\"fTextColor\":0,\"fTextFont\":42,\"fLineColor\":600,\"fLineStyle\":1,\"fLineWidth\":1,\"fFillColor\":0,\"fFillStyle\":0,\"fMarkerColor\":600,\"fMarkerStyle\":26,\"fMarkerSize\":1,\"fObject\":{\"$ref\":17},\"fLabel\":\"Pre-FSR unfolded data\",\"fOption\":\"ple\"}],\"opt\":[\"ple\",\"ple\",\"ple\"]},\"fEntrySeparation\":0.1,\"fMargin\":0.25,\"fNColumns\":1,\"fColumnSeparation\":0},{\"_typename\":\"TF1\",\"fUniqueID\":0,\"fBits\":50331656,\"fName\":\"f_lepton\",\"fTitle\":\"[0]+[1]*log(x)\",\"fLineColor\":600,\"fLineStyle\":2,\"fLineWidth\":1,\"fFillColor\":19,\"fFillStyle\":0,\"fMarkerColor\":1,\"fMarkerStyle\":1,\"fMarkerSize\":1,\"fXmin\":30,\"fXmax\":900,\"fNpar\":2,\"fNdim\":1,\"fNpx\":100,\"fType\":0,\"fNpfits\":5,\"fNDF\":3,\"fChisquare\":41.425162366253,\"fMinimum\":-1111,\"fMaximum\":-1111,\"fParErrors\":[0.120380759562832,0.0267902092496956],\"fParMin\":[0,0],\"fParMax\":[0,0],\"fSave\":[],\"fNormalized\":false,\"fNormIntegral\":0,\"fFormula\":{\"_typename\":\"TFormula\",\"fUniqueID\":0,\"fBits\":50332672,\"fName\":\"f_lepton\",\"fTitle\":\"[0]+[1]*log(x)\",\"fClingParameters\":[-15.7370019399042,7.5469321961058],\"fAllParametersSetted\":true,\"fParams\":[{\"$pair\":\"pair<TString,int,TFormulaParamOrder>\",\"first\":\"p0\",\"second\":0},{\"$pair\":\"pair<TString,int,TFormulaParamOrder>\",\"first\":\"p1\",\"second\":1}],\"fFormula\":\"[p0]+[p1]*log(x)\",\"fNdim\":1,\"fLinearParts\":[],\"fVectorized\":false},\"fParams\":null,\"fComposition_ptr\":null},{\"_typename\":\"TPaveText\",\"fUniqueID\":0,\"fBits\":50331657,\"fLineColor\":1,\"fLineStyle\":1,\"fLineWidth\":1,\"fFillColor\":0,\"fFillStyle\":0,\"fX1\":1.62233935180214,\"fY1\":45.7639865618121,\"fX2\":2.37766064819786,\"fY2\":49.7500006072223,\"fX1NDC\":0.348935742971888,\"fY1NDC\":0.915279725048092,\"fX2NDC\":0.651064257028112,\"fY2NDC\":0.995000004768372,\"fBorderSize\":0,\"fInit\":1,\"fShadowColor\":1,\"fCornerRadius\":0,\"fOption\":\"blNDC\",\"fName\":\"title\",\"fTextAngle\":0,\"fTextSize\":0,\"fTextAlign\":22,\"fTextColor\":1,\"fTextFont\":42,\"fLabel\":\"\",\"fLongest\":23,\"fMargin\":0.05,\"fLines\":{\"_typename\":\"TList\",\"name\":\"TList\",\"arr\":[{\"_typename\":\"TLatex\",\"fUniqueID\":0,\"fBits\":50331648,\"fName\":\"\",\"fTitle\":\"Dilepton p_{T} vs. Mass\",\"fTextAngle\":0,\"fTextSize\":0,\"fTextAlign\":0,\"fTextColor\":0,\"fTextFont\":0,\"fX\":0,\"fY\":0,\"fLineColor\":1,\"fLineStyle\":1,\"fLineWidth\":2,\"fLimitFactorSize\":3,\"fOriginSize\":0.0677622407674789}],\"opt\":[\"\"]}}],\"opt\":[\"\",\"ap\",\"p \",\"p \",\"\",\"same\",\"blNDC\"]},\"fExecs\":null,\"fName\":\"PtVsMass\",\"fTitle\":\"PtVsMass\",\"fNumPaletteColor\":0,\"fNextPaletteColor\":0,\"fDISPLAY\":\"$DISPLAY\",\"fDoubleBuffer\":0,\"fRetained\":true,\"fXsizeUser\":0,\"fYsizeUser\":0,\"fXsizeReal\":20,\"fYsizeReal\":12,\"fWindowTopX\":0,\"fWindowTopY\":0,\"fWindowWidth\":0,\"fWindowHeight\":0,\"fCw\":996,\"fCh\":572,\"fCatt\":{\"_typename\":\"TAttCanvas\",\"fXBetween\":2,\"fYBetween\":2,\"fTitleFromTop\":1.2,\"fXdate\":0.2,\"fYdate\":0.3,\"fAdate\":1},\"kMoveOpaque\":true,\"kResizeOpaque\":true,\"fHighLightColor\":2,\"fBatch\":true,\"kShowEventStatus\":false,\"kAutoExec\":true,\"kMenuBar\":true});\n",
       "       Core.draw(\"root_plot_3\", obj, \"\");\n",
       "     }\n",
       " );\n",
       "</script>\n"
      ],
      "text/plain": [
       "<IPython.core.display.HTML object>"
      ]
     },
     "metadata": {},
     "output_type": "display_data"
    }
   ],
   "source": [
    "gr = rt.TGraph(nBins, meanMass, meanPt)\n",
    "grUnf = rt.TGraphErrors(nBins, meanMassUnf, meanPtUnf, meanMassUnfStatErr, meanPtUnfStatErr)\n",
    "grFSRUnf = rt.TGraphErrors(nBins, meanMassFSRUnf, meanPtFSRUnf, meanMassFSRUnfStatErr, meanPtFSRUnfStatErr)\n",
    "grMC = rt.TGraph(nBins, meanMassFSRUnfMC, meanPtFSRUnfMC)\n",
    "grFSRUnf_twoStep = rt.TGraphErrors(nBins, meanMassFSRUnf_twoStep, meanPtFSRUnf_twoStep, meanMassFSRUnf_twoStepStatErr, meanPtFSRUnf_twoStepStatErr)\n",
    "\n",
    "gr.SetTitle(\"Dilepton p_{T} vs. Mass\")\n",
    "gr.Draw(\"AP\")\n",
    "grUnf.Draw(\"P SAME\")\n",
    "grFSRUnf_twoStep.Draw(\"P SAME\")\n",
    "#grMC.Draw(\"P SAME\")\n",
    "#grFSRUnf_twoStep.Draw(\"P SAME\")\n",
    "#grFSRUnf_twoStep.SetMarkerStyle(25)\n",
    "\n",
    "markerStyle = 20\n",
    "if year == \"2017\":\n",
    "    markerStyle = 25\n",
    "if year == \"2018\":\n",
    "    markerStyle = 26\n",
    "\n",
    "gr.SetMarkerStyle(markerStyle)\n",
    "gr.SetMarkerSize(1)\n",
    "grUnf.SetMarkerStyle(markerStyle)\n",
    "grUnf.SetMarkerSize(1)\n",
    "grUnf.SetLineColor(rt.kRed)\n",
    "grUnf.SetMarkerColor(rt.kRed)\n",
    "grFSRUnf_twoStep.SetMarkerStyle(markerStyle)\n",
    "grFSRUnf_twoStep.SetMarkerSize(1)\n",
    "grFSRUnf_twoStep.SetLineColor(rt.kBlue)\n",
    "grFSRUnf_twoStep.SetMarkerColor(rt.kBlue)\n",
    "grMC.SetMarkerStyle(24)\n",
    "grMC.SetMarkerSize(1)\n",
    "grMC.SetLineColor(rt.kBlue)\n",
    "grMC.SetMarkerColor(rt.kBlue)\n",
    "gr.GetYaxis().SetRangeUser(5., 45.)\n",
    "gr.GetXaxis().SetLimits(10., 1000.)\n",
    "\n",
    "legend = rt.TLegend(0.68, 0.2, 0.88, 0.4)\n",
    "legend.AddEntry(gr, \"Detector  data \" + year, \"ple\")\n",
    "legend.AddEntry(grUnf, \"Det unfolded data\", \"ple\")\n",
    "legend.AddEntry(grFSRUnf_twoStep, \"Pre-FSR unfolded data\", \"ple\")\n",
    "legend.Draw()\n",
    "\n",
    "fitLinear = rt.TF1(\"f_lepton\", \"[0]+[1]*log(x)\", 30., 900.);\n",
    "fitLinear.SetLineStyle(2)\n",
    "fitLinear.SetLineColor(rt.kBlue)\n",
    "fitLinear.SetLineWidth(1)\n",
    "grFSRUnf_twoStep.Fit(fitLinear, \"R0\")\n",
    "fitLinear.Draw(\"same\")\n",
    "c_PtVsMass.Draw()"
   ]
  },
  {
   "cell_type": "code",
   "execution_count": 38,
   "metadata": {},
   "outputs": [
    {
     "name": "stderr",
     "output_type": "stream",
     "text": [
      "Info in <TCanvas::Print>: pdf file Muon_PtVsMass_2018.pdf has been created\n"
     ]
    }
   ],
   "source": [
    "c_PtVsMass.SaveAs(\"Muon_PtVsMass_\"+year+\".pdf\")"
   ]
  },
  {
   "cell_type": "code",
   "execution_count": 39,
   "metadata": {},
   "outputs": [
    {
     "data": {
      "text/plain": [
       "3"
      ]
     },
     "execution_count": 39,
     "metadata": {},
     "output_type": "execute_result"
    }
   ],
   "source": [
    "fitLinear.GetNDF()"
   ]
  },
  {
   "cell_type": "markdown",
   "metadata": {},
   "source": [
    "#### Break down the current mass bin [81:101] into  [81:91] and [91:101]"
   ]
  }
 ],
 "metadata": {
  "kernelspec": {
   "display_name": "Python 3",
   "language": "python",
   "name": "python3"
  },
  "language_info": {
   "codemirror_mode": {
    "name": "ipython",
    "version": 3
   },
   "file_extension": ".py",
   "mimetype": "text/x-python",
   "name": "python",
   "nbconvert_exporter": "python",
   "pygments_lexer": "ipython3",
   "version": "3.6.8"
  }
 },
 "nbformat": 4,
 "nbformat_minor": 4
}
