{
 "cells": [
  {
   "cell_type": "code",
   "execution_count": 1,
   "metadata": {},
   "outputs": [
    {
     "name": "stdout",
     "output_type": "stream",
     "text": [
      "Welcome to JupyROOT 6.14/04\n"
     ]
    }
   ],
   "source": [
    "import ROOT as rt\n",
    "import os\n",
    "import sys"
   ]
  },
  {
   "cell_type": "code",
   "execution_count": 2,
   "metadata": {},
   "outputs": [
    {
     "data": {
      "text/html": [
       "<style>.container { width:100% !important; }</style>"
      ],
      "text/plain": [
       "<IPython.core.display.HTML object>"
      ]
     },
     "metadata": {},
     "output_type": "display_data"
    }
   ],
   "source": [
    "from IPython.core.display import display, HTML\n",
    "display(HTML(\"<style>.container { width:100% !important; }</style>\"))"
   ]
  },
  {
   "cell_type": "code",
   "execution_count": 3,
   "metadata": {},
   "outputs": [],
   "source": [
    "def setUnfoldBkgs(unfold_class, hfile_path, isSys, syst_name, nthSys, nTotSys, year):\n",
    "    \n",
    "    #bkgList = {\"WJets_MG\": \"WJets\", \\\n",
    "    #           \"WW_pythia\": \"EWK\", \"WZ_pythia\": \"EWK\", \"ZZ_pythia\": \"EWK\", \\\n",
    "    #           \"DYJets10to50ToTauTau\":\"EWK\", \"DYJetsToTauTau\":\"EWK\", \\\n",
    "    #           \"TTLL_powheg\": \"Top\", \"SingleTop_tW_top_Incl\": \"Top\", \"SingleTop_tW_antitop_Incl\": \"Top\"}\n",
    "    \n",
    "    bkgList = {\"WJets_MG\": \"WJets\", \\\n",
    "               \"WW_pythia\": \"EWK\", \"WZ_pythia\": \"EWK\", \"ZZ_pythia\": \"EWK\", \\\n",
    "               \"DYJets10to50ToTauTau\":\"EWK\", \"DYJetsToTauTau\":\"EWK\", \\\n",
    "               \"TTLL_powheg\": \"Top\"}\n",
    "    \n",
    "    for bkg in bkgList.items():\n",
    "        bkgScale = 1.\n",
    "        if bkg[1] == \"Top\":\n",
    "            bkGScale = 10.\n",
    "        unfold_class.subBkgs(hfile_path, bkg, isSys, syst_name, nTotSys, nthSys, \"Detector\", bkgScale)"
   ]
  },
  {
   "cell_type": "code",
   "execution_count": 4,
   "metadata": {},
   "outputs": [
    {
     "name": "stdout",
     "output_type": "stream",
     "text": [
      "{'matrix': 'inFiles/2017/muon/DY_new.root', 'fsr_matrix': 'inFiles/2017/muon/DY_FSR_new.root', 'hist': 'inFiles/2017/muon/unfold_input_Muon_new.root'}\n"
     ]
    }
   ],
   "source": [
    "year    = '2017'\n",
    "channel = 'muon'\n",
    "doSys   = True\n",
    "\n",
    "dy10to50Name = \"DYJets10to50_MG\"\n",
    "if year == \"2016\":\n",
    "    dy10to50Name = \"DYJets10to50\"\n",
    "    \n",
    "# N_rec == N_gen or N_rec == 2 * N_gen\n",
    "# Detector_Dressed_DRp1_Fiducial\n",
    "# Dressed_DRp1_Dressed_DR4PI_Fiducial\n",
    "# Dressed_DRp1_Dressed_DR4PI_FullPhase\n",
    "# Detector_Dressed_DR4PI_Fiducial\n",
    "# Detector_Dressed_DR4PI_FullPhase\n",
    "\n",
    "matrix_detector = 'Detector_Dressed_DRp1_Fiducial' \n",
    "matrix_detector_ = 'Detector_Dressed_DRp1' \n",
    "matrix_fsr = 'Dressed_DRp1_Dressed_DR4PI_FullPhase'\n",
    "matrix_fsr_ = 'Dressed_DRp1_Dressed_DR4PI'\n",
    "\n",
    "matrix_det_fsr = 'Detector_Dressed_DRp1_FullPhase'\n",
    "matrix_det_fsr_ = 'Detector_Dressed_DRp1'\n",
    "\n",
    "# Set output directory\n",
    "outDir = 'output/'+year+'/new_'+channel+'/'\n",
    "inFhistTxt = 'inFiles/'+year+'/'+channel+'/fhist.txt'\n",
    "\n",
    "# Make output directory\n",
    "if not os.path.exists(outDir):\n",
    "    os.makedirs(outDir)\n",
    "\n",
    "# Read text file including root file path and for unfolding\n",
    "filePaths = open(inFhistTxt, 'r')\n",
    "unfoldInputDic = {}\n",
    "\n",
    "for path in filePaths:\n",
    "    modifiedPath = path.lstrip(' ').rstrip(' ').rstrip('\\n')\n",
    "    unfoldInputDic[modifiedPath.split()[1]] = modifiedPath.split()[2]\n",
    "    \n",
    "print(unfoldInputDic)"
   ]
  },
  {
   "cell_type": "code",
   "execution_count": 5,
   "metadata": {},
   "outputs": [],
   "source": [
    "import pyScripts.unfoldUtil as unfoldutil\n",
    "\n",
    "# Simple unfolding tests\n",
    "# Unfolding without systematics\n",
    "# Closure tests"
   ]
  },
  {
   "cell_type": "code",
   "execution_count": 6,
   "metadata": {},
   "outputs": [
    {
     "name": "stdout",
     "output_type": "stream",
     "text": [
      "ISRUnfold set!\n",
      "ISRUnfold set!\n",
      "ISRUnfold set!\n",
      "ISRUnfold set!\n"
     ]
    }
   ],
   "source": [
    "bias = 1.0\n",
    "\n",
    "# Create ISRUnfold class\n",
    "#                                             # unfold mode  \n",
    "unfold_det = rt.ISRUnfold(channel, int(year), int(0), False)\n",
    "unfold_det.setOutputBaseDir(outDir)\n",
    "unfold_det.setBias(bias)\n",
    "\n",
    "unfold_fsr = rt.ISRUnfold(channel, int(year), int(0), False)\n",
    "unfold_fsr.setOutputBaseDir(outDir)\n",
    "unfold_fsr.setBias(bias)\n",
    "\n",
    "# To test one-step unfolding result\n",
    "unfold_oneStep = rt.ISRUnfold(channel, int(year), int(0), False)\n",
    "unfold_oneStep.setOutputBaseDir(outDir)\n",
    "unfold_oneStep.setBias(bias)\n",
    "\n",
    "# Closure\n",
    "unfold_closure = rt.ISRUnfold(channel, int(year), int(0), False)\n",
    "unfold_closure.setOutputBaseDir(outDir)\n",
    "unfold_closure.setBias(bias)"
   ]
  },
  {
   "cell_type": "code",
   "execution_count": 7,
   "metadata": {
    "scrolled": true
   },
   "outputs": [
    {
     "name": "stdout",
     "output_type": "stream",
     "text": [
      "ISRUnfold::setNomResMatrix set response matrix...\n",
      "0 th mass bin edge: 15\n",
      "1 th mass bin edge: 40\n",
      "2 th mass bin edge: 60\n",
      "3 th mass bin edge: 81\n",
      "4 th mass bin edge: 101\n",
      "5 th mass bin edge: 200\n",
      "6 th mass bin edge: 320\n"
     ]
    },
    {
     "name": "stderr",
     "output_type": "stream",
     "text": [
      "Info in <TUnfoldV17::SetConstraint>: fConstraint=1\n",
      "Warning in <TUnfoldV17::TUnfold>: 6 output bins do not depend on the input data  0-4 81\n",
      "Info in <TUnfoldV17::TUnfold>: 80 input bins and 76 output bins\n",
      "Info in <TUnfoldDensityV17::TUnfold>: *NOT* unfolding bin #0\n",
      "Info in <TUnfoldDensityV17::TUnfold>: *NOT* unfolding bin #1 (Gen_Pt:mass[ufl]:pt[0,4])\n",
      "Info in <TUnfoldDensityV17::TUnfold>: *NOT* unfolding bin #2 (Gen_Pt:mass[ufl]:pt[4,8])\n",
      "Info in <TUnfoldDensityV17::TUnfold>: *NOT* unfolding bin #3 (Gen_Pt:mass[ufl]:pt[8,12])\n",
      "Info in <TUnfoldDensityV17::TUnfold>: *NOT* unfolding bin #4 (Gen_Pt:mass[ufl]:pt[12,18])\n",
      "Info in <TUnfoldDensityV17::TUnfold>: *NOT* unfolding bin #81\n"
     ]
    }
   ],
   "source": [
    "# Set response matrix: detector unfolding\n",
    "unfold_det.setNomResMatrix(\"Pt\", unfoldInputDic['matrix'], matrix_detector, matrix_detector_)"
   ]
  },
  {
   "cell_type": "code",
   "execution_count": 8,
   "metadata": {
    "scrolled": true
   },
   "outputs": [
    {
     "name": "stdout",
     "output_type": "stream",
     "text": [
      "ISRUnfold::setNomResMatrix set response matrix...\n",
      "ISRUnfold::setMassBindEdges massBinEdges already set.\n"
     ]
    },
    {
     "name": "stderr",
     "output_type": "stream",
     "text": [
      "Info in <TUnfoldV17::SetConstraint>: fConstraint=1\n",
      "Info in <TUnfoldV17::TUnfold>: underflow and overflow bin do not depend on the input data\n",
      "Info in <TUnfoldV17::TUnfold>: 72 input bins and 72 output bins\n",
      "Warning in <TUnfoldV17::TUnfold>: too few (ny=72) input bins for nx=72 output bins\n",
      "Info in <TUnfoldDensityV17::TUnfold>: *NOT* unfolding bin #0\n",
      "Info in <TUnfoldDensityV17::TUnfold>: *NOT* unfolding bin #73\n"
     ]
    }
   ],
   "source": [
    "unfold_det.setNomResMatrix(\"Mass\", unfoldInputDic['matrix'], matrix_detector, matrix_detector_)"
   ]
  },
  {
   "cell_type": "code",
   "execution_count": 9,
   "metadata": {
    "scrolled": false
   },
   "outputs": [
    {
     "name": "stdout",
     "output_type": "stream",
     "text": [
      "ISRUnfold::setNomResMatrix set response matrix...\n",
      "0 th mass bin edge: 15\n",
      "1 th mass bin edge: 40\n",
      "2 th mass bin edge: 60\n",
      "3 th mass bin edge: 81\n",
      "4 th mass bin edge: 101\n",
      "5 th mass bin edge: 200\n",
      "6 th mass bin edge: 320\n",
      "ISRUnfold::setNomResMatrix set response matrix...\n",
      "ISRUnfold::setMassBindEdges massBinEdges already set.\n"
     ]
    },
    {
     "name": "stderr",
     "output_type": "stream",
     "text": [
      "Info in <TUnfoldV17::SetConstraint>: fConstraint=1\n",
      "Info in <TUnfoldV17::TUnfold>: underflow and overflow bin do not depend on the input data\n",
      "Info in <TUnfoldV17::TUnfold>: 80 input bins and 80 output bins\n",
      "Warning in <TUnfoldV17::TUnfold>: too few (ny=80) input bins for nx=80 output bins\n",
      "Info in <TUnfoldDensityV17::TUnfold>: *NOT* unfolding bin #0\n",
      "Info in <TUnfoldDensityV17::TUnfold>: *NOT* unfolding bin #81\n",
      "Info in <TUnfoldV17::SetConstraint>: fConstraint=1\n",
      "Info in <TUnfoldV17::TUnfold>: underflow and overflow bin do not depend on the input data\n",
      "Info in <TUnfoldV17::TUnfold>: 72 input bins and 72 output bins\n",
      "Warning in <TUnfoldV17::TUnfold>: too few (ny=72) input bins for nx=72 output bins\n",
      "Info in <TUnfoldDensityV17::TUnfold>: *NOT* unfolding bin #0\n",
      "Info in <TUnfoldDensityV17::TUnfold>: *NOT* unfolding bin #73\n"
     ]
    }
   ],
   "source": [
    "# One step unfolding\n",
    "unfold_oneStep.setNomResMatrix(\"Pt\", unfoldInputDic['matrix'], matrix_det_fsr, matrix_det_fsr_)\n",
    "unfold_oneStep.setNomResMatrix(\"Mass\", unfoldInputDic['matrix'], matrix_det_fsr, matrix_det_fsr_)"
   ]
  },
  {
   "cell_type": "code",
   "execution_count": 10,
   "metadata": {},
   "outputs": [
    {
     "name": "stdout",
     "output_type": "stream",
     "text": [
      "ISRUnfold::setNomResMatrix set response matrix...\n",
      "0 th mass bin edge: 15\n",
      "1 th mass bin edge: 40\n",
      "2 th mass bin edge: 60\n",
      "3 th mass bin edge: 81\n",
      "4 th mass bin edge: 101\n",
      "5 th mass bin edge: 200\n",
      "6 th mass bin edge: 320\n",
      "ISRUnfold::setNomResMatrix set response matrix...\n",
      "ISRUnfold::setMassBindEdges massBinEdges already set.\n"
     ]
    },
    {
     "name": "stderr",
     "output_type": "stream",
     "text": [
      "Info in <TUnfoldV17::SetConstraint>: fConstraint=1\n",
      "Warning in <TUnfoldV17::TUnfold>: 6 output bins do not depend on the input data  0-4 81\n",
      "Info in <TUnfoldV17::TUnfold>: 80 input bins and 76 output bins\n",
      "Info in <TUnfoldDensityV17::TUnfold>: *NOT* unfolding bin #0\n",
      "Info in <TUnfoldDensityV17::TUnfold>: *NOT* unfolding bin #1 (Gen_Pt:mass[ufl]:pt[0,4])\n",
      "Info in <TUnfoldDensityV17::TUnfold>: *NOT* unfolding bin #2 (Gen_Pt:mass[ufl]:pt[4,8])\n",
      "Info in <TUnfoldDensityV17::TUnfold>: *NOT* unfolding bin #3 (Gen_Pt:mass[ufl]:pt[8,12])\n",
      "Info in <TUnfoldDensityV17::TUnfold>: *NOT* unfolding bin #4 (Gen_Pt:mass[ufl]:pt[12,18])\n",
      "Info in <TUnfoldDensityV17::TUnfold>: *NOT* unfolding bin #81\n",
      "Info in <TUnfoldV17::SetConstraint>: fConstraint=1\n",
      "Info in <TUnfoldV17::TUnfold>: underflow and overflow bin do not depend on the input data\n",
      "Info in <TUnfoldV17::TUnfold>: 72 input bins and 72 output bins\n",
      "Warning in <TUnfoldV17::TUnfold>: too few (ny=72) input bins for nx=72 output bins\n",
      "Info in <TUnfoldDensityV17::TUnfold>: *NOT* unfolding bin #0\n",
      "Info in <TUnfoldDensityV17::TUnfold>: *NOT* unfolding bin #73\n"
     ]
    }
   ],
   "source": [
    "unfold_closure.setNomResMatrix(\"Pt\", unfoldInputDic['matrix'], matrix_detector, matrix_detector_)\n",
    "unfold_closure.setNomResMatrix(\"Mass\", unfoldInputDic['matrix'], matrix_detector, matrix_detector_)"
   ]
  },
  {
   "cell_type": "code",
   "execution_count": 11,
   "metadata": {},
   "outputs": [
    {
     "name": "stdout",
     "output_type": "stream",
     "text": [
      "ISRUnfold::setNomResMatrix set response matrix...\n",
      "0 th mass bin edge: 15\n",
      "1 th mass bin edge: 40\n",
      "2 th mass bin edge: 60\n",
      "3 th mass bin edge: 81\n",
      "4 th mass bin edge: 101\n",
      "5 th mass bin edge: 200\n",
      "6 th mass bin edge: 320\n",
      "ISRUnfold::setNomResMatrix set response matrix...\n",
      "ISRUnfold::setMassBindEdges massBinEdges already set.\n"
     ]
    },
    {
     "name": "stderr",
     "output_type": "stream",
     "text": [
      "Info in <TUnfoldV17::SetConstraint>: fConstraint=1\n",
      "Warning in <TUnfoldV17::TUnfold>: 6 output bins do not depend on the input data  0-4 81\n",
      "Info in <TUnfoldV17::TUnfold>: 80 input bins and 76 output bins\n",
      "Info in <TUnfoldDensityV17::TUnfold>: *NOT* unfolding bin #0\n",
      "Info in <TUnfoldDensityV17::TUnfold>: *NOT* unfolding bin #1 (Gen_Pt:mass[ufl]:pt[0,4])\n",
      "Info in <TUnfoldDensityV17::TUnfold>: *NOT* unfolding bin #2 (Gen_Pt:mass[ufl]:pt[4,8])\n",
      "Info in <TUnfoldDensityV17::TUnfold>: *NOT* unfolding bin #3 (Gen_Pt:mass[ufl]:pt[8,12])\n",
      "Info in <TUnfoldDensityV17::TUnfold>: *NOT* unfolding bin #4 (Gen_Pt:mass[ufl]:pt[12,18])\n",
      "Info in <TUnfoldDensityV17::TUnfold>: *NOT* unfolding bin #81\n",
      "Info in <TUnfoldV17::SetConstraint>: fConstraint=1\n",
      "Info in <TUnfoldV17::TUnfold>: underflow and overflow bin do not depend on the input data\n",
      "Info in <TUnfoldV17::TUnfold>: 72 input bins and 72 output bins\n",
      "Warning in <TUnfoldV17::TUnfold>: too few (ny=72) input bins for nx=72 output bins\n",
      "Info in <TUnfoldDensityV17::TUnfold>: *NOT* unfolding bin #0\n",
      "Info in <TUnfoldDensityV17::TUnfold>: *NOT* unfolding bin #73\n"
     ]
    }
   ],
   "source": [
    "# Set FSR unfolding\n",
    "unfold_fsr.setNomResMatrix(\"Pt\", unfoldInputDic['fsr_matrix'], matrix_fsr, matrix_fsr_, True)\n",
    "unfold_fsr.setNomResMatrix(\"Mass\", unfoldInputDic['fsr_matrix'], matrix_fsr, matrix_fsr_, True)"
   ]
  },
  {
   "cell_type": "code",
   "execution_count": 12,
   "metadata": {},
   "outputs": [],
   "source": [
    "%jsroot on"
   ]
  },
  {
   "cell_type": "code",
   "execution_count": 13,
   "metadata": {
    "scrolled": true
   },
   "outputs": [
    {
     "name": "stderr",
     "output_type": "stream",
     "text": [
      "Warning in <TUnfoldDensityV17::SetInput>: 4/80 input bins have zero error, and are ignored.\n",
      "Warning in <TUnfoldDensityV17::SetInput>: 4/80 input bins have zero error, and are ignored.\n",
      "Warning in <TUnfoldDensityV17::SetInput>: 13/80 input bins have zero error, and are ignored.\n",
      "Warning in <TUnfoldDensityV17::SetInput>: One input bin has zero error, and is ignored.\n"
     ]
    }
   ],
   "source": [
    "dataHistName = \"histo_DoubleMuonnominal\"\n",
    "dyHistName = \"histo_DYJetsToMuMunominal\"\n",
    "\n",
    "unfold_det.setUnfInput(\"Pt\",   unfoldInputDic['hist'], \"Detector\", dataHistName, False, \"nominal\", 0)\n",
    "unfold_det.setUnfInput(\"Mass\", unfoldInputDic['hist'], \"Detector\", dataHistName, False, \"nominal\", 0)\n",
    "setUnfoldBkgs(unfold_det, unfoldInputDic['hist'], False, \"nominal\", 0, -1, year)\n",
    "\n",
    "unfold_oneStep.setUnfInput(\"Pt\",   unfoldInputDic['hist'], \"Detector\", dataHistName, False, \"nominal\", 0)\n",
    "unfold_oneStep.setUnfInput(\"Mass\", unfoldInputDic['hist'], \"Detector\", dataHistName, False, \"nominal\", 0)\n",
    "setUnfoldBkgs(unfold_oneStep, unfoldInputDic['hist'], False, \"nominal\", 0, -1, year)\n",
    "\n",
    "unfold_closure.setUnfInput(\"Pt\",   unfoldInputDic['hist'], \"Detector\", dyHistName, False, \"nominal\", 0)\n",
    "unfold_closure.setUnfInput(\"Mass\", unfoldInputDic['hist'], \"Detector\", dyHistName, False, \"nominal\", 0)"
   ]
  },
  {
   "cell_type": "code",
   "execution_count": 14,
   "metadata": {},
   "outputs": [],
   "source": [
    "fakeList = {\"DYJets\": \"DY\", dy10to50Name:\"DY\"} # \"DYJets200to400\": \"DY\"}"
   ]
  },
  {
   "cell_type": "code",
   "execution_count": 15,
   "metadata": {},
   "outputs": [],
   "source": [
    "for fake in fakeList.items():\n",
    "    unfold_closure.subBkgs(unfoldInputDic['matrix'], fake, False, \"\", 0, -1, \"detector_level_DY_Fake\")\n",
    "    unfold_det.subBkgs(unfoldInputDic['matrix'], fake, False, \"\", 0, -1, \"detector_level_DY_Fake\")"
   ]
  },
  {
   "cell_type": "markdown",
   "metadata": {},
   "source": [
    "## Check Fake DY events"
   ]
  },
  {
   "cell_type": "code",
   "execution_count": 16,
   "metadata": {},
   "outputs": [
    {
     "data": {
      "text/plain": [
       "True"
      ]
     },
     "execution_count": 16,
     "metadata": {},
     "output_type": "execute_result"
    }
   ],
   "source": [
    "mass_steering = \"mass[UO];pt[UOC0]\"\n",
    "mass_useAxis = True\n",
    "\n",
    "hDYMC_detector_ = unfold_det.getRawHist(\"Mass\", unfoldInputDic['hist'], \"Detector\", dyHistName, \\\n",
    "                                        \"hDYMC_detector_\", mass_steering, mass_useAxis)\n",
    "\n",
    "hFakeDYMC_detector_ = unfold_det.getRawHist(\"Mass\", unfoldInputDic['matrix'], \"detector_level_DY_Fake\", \"histo_DYJetsnominal\", \\\n",
    "                                        \"hFakeDYMC_detector_\", mass_steering, mass_useAxis)\n",
    "hFakeDY10to50MC_detector_ = unfold_det.getRawHist(\"Mass\", unfoldInputDic['matrix'], \"detector_level_DY_Fake\", \"histo_\"+dy10to50Name+\"nominal\", \\\n",
    "                                        \"hFakeDY10to50MC_detector_\", mass_steering, mass_useAxis)\n",
    "hFakeDYMC_detector_.Add(hFakeDY10to50MC_detector_)"
   ]
  },
  {
   "cell_type": "code",
   "execution_count": 17,
   "metadata": {},
   "outputs": [],
   "source": [
    "# Draw plot!\n",
    "c_ = rt.TCanvas(\"c_\",\"c_\", 800, 600)\n",
    "\n",
    "pad_mass_ = rt.TPad(\"pad_mass_\", \"pad_mass_\", 0, 0.3, 1, 1.0)\n",
    "ratio_mass_ = rt.TPad(\"ratio_mass_\", \"raio_mass_\", 0, 0.0, 1, 0.3)\n",
    "c_.cd()\n",
    "pad_mass_.Draw()\n",
    "c_.cd()\n",
    "ratio_mass_.Draw()\n"
   ]
  },
  {
   "cell_type": "code",
   "execution_count": 18,
   "metadata": {},
   "outputs": [
    {
     "data": {
      "text/html": [
       "\n",
       "<div id=\"root_plot_1\"\n",
       "     style=\"width: 796px; height: 572px\">\n",
       "</div>\n",
       "\n",
       "<script>\n",
       " requirejs.config({\n",
       "     paths: {\n",
       "       'JSRootCore' : 'https://root.cern.ch/js/notebook//scripts/JSRootCore',\n",
       "     }\n",
       "   });\n",
       " require(['JSRootCore'],\n",
       "     function(Core) {\n",
       "       var obj = Core.JSONR_unref({\"_typename\":\"TCanvas\",\"fUniqueID\":0,\"fBits\":53673992,\"fLineColor\":1,\"fLineStyle\":1,\"fLineWidth\":1,\"fFillColor\":0,\"fFillStyle\":1001,\"fLeftMargin\":0.1,\"fRightMargin\":0.1,\"fBottomMargin\":0.1,\"fTopMargin\":0.1,\"fXfile\":2,\"fYfile\":2,\"fAfile\":1,\"fXstat\":0.99,\"fYstat\":0.99,\"fAstat\":2,\"fFrameFillColor\":0,\"fFrameLineColor\":1,\"fFrameFillStyle\":1001,\"fFrameLineStyle\":1,\"fFrameLineWidth\":1,\"fFrameBorderSize\":1,\"fFrameBorderMode\":0,\"fX1\":0,\"fY1\":0,\"fX2\":1,\"fY2\":1,\"fXtoAbsPixelk\":5e-5,\"fXtoPixelk\":5e-5,\"fXtoPixel\":796,\"fYtoAbsPixelk\":572.00005,\"fYtoPixelk\":572.00005,\"fYtoPixel\":-572,\"fUtoAbsPixelk\":5e-5,\"fUtoPixelk\":5e-5,\"fUtoPixel\":796,\"fVtoAbsPixelk\":572.00005,\"fVtoPixelk\":572,\"fVtoPixel\":-572,\"fAbsPixeltoXk\":0,\"fPixeltoXk\":0,\"fPixeltoX\":0.00125628140703518,\"fAbsPixeltoYk\":1,\"fPixeltoYk\":0,\"fPixeltoY\":-0.00174825174825175,\"fXlowNDC\":0,\"fYlowNDC\":0,\"fXUpNDC\":0,\"fYUpNDC\":0,\"fWNDC\":1,\"fHNDC\":1,\"fAbsXlowNDC\":0,\"fAbsYlowNDC\":0,\"fAbsWNDC\":1,\"fAbsHNDC\":1,\"fUxmin\":0,\"fUymin\":0,\"fUxmax\":1,\"fUymax\":1,\"fTheta\":30,\"fPhi\":30,\"fAspectRatio\":0,\"fNumber\":0,\"fTickx\":0,\"fTicky\":0,\"fLogx\":0,\"fLogy\":0,\"fLogz\":0,\"fPadPaint\":0,\"fCrosshair\":0,\"fCrosshairPos\":0,\"fBorderSize\":2,\"fBorderMode\":0,\"fModified\":false,\"fGridx\":false,\"fGridy\":false,\"fAbsCoord\":false,\"fEditable\":true,\"fFixedAspectRatio\":false,\"fPrimitives\":{\"_typename\":\"TList\",\"name\":\"TList\",\"arr\":[{\"_typename\":\"TPad\",\"fUniqueID\":0,\"fBits\":50331657,\"fLineColor\":1,\"fLineStyle\":1,\"fLineWidth\":1,\"fFillColor\":0,\"fFillStyle\":1001,\"fLeftMargin\":0.1,\"fRightMargin\":0.1,\"fBottomMargin\":0.1,\"fTopMargin\":0.1,\"fXfile\":2,\"fYfile\":2,\"fAfile\":1,\"fXstat\":0.99,\"fYstat\":0.99,\"fAstat\":2,\"fFrameFillColor\":0,\"fFrameLineColor\":1,\"fFrameFillStyle\":1001,\"fFrameLineStyle\":1,\"fFrameLineWidth\":1,\"fFrameBorderSize\":1,\"fFrameBorderMode\":0,\"fX1\":1.00995890676983,\"fY1\":-3.16339704876779,\"fX2\":2.67128233060576,\"fY2\":8.47057274547145,\"fXtoAbsPixelk\":-483.907705861618,\"fXtoPixelk\":-483.907705861618,\"fXtoPixel\":479.136084268328,\"fYtoAbsPixelk\":291.527137251523,\"fYtoPixelk\":291.527137251523,\"fYtoPixel\":-34.4164551809534,\"fUtoAbsPixelk\":5e-5,\"fUtoPixelk\":5e-5,\"fUtoPixel\":796,\"fVtoAbsPixelk\":400.40005,\"fVtoPixelk\":400.4,\"fVtoPixel\":-400.4,\"fAbsPixeltoXk\":1.00995890676983,\"fPixeltoXk\":1.00995890676983,\"fPixeltoX\":0.0020870897284371,\"fAbsPixeltoYk\":8.47057274547145,\"fPixeltoYk\":-3.16339704876779,\"fPixeltoY\":-0.0290558686169811,\"fXlowNDC\":0,\"fYlowNDC\":0.3,\"fXUpNDC\":0,\"fYUpNDC\":0,\"fWNDC\":1,\"fHNDC\":0.7,\"fAbsXlowNDC\":0,\"fAbsYlowNDC\":0.3,\"fAbsWNDC\":1,\"fAbsHNDC\":0.7,\"fUxmin\":1.17609125905568,\"fUymin\":-2,\"fUxmax\":2.50514997831991,\"fUymax\":7.30717569670366,\"fTheta\":30,\"fPhi\":30,\"fAspectRatio\":0,\"fNumber\":0,\"fTickx\":0,\"fTicky\":0,\"fLogx\":1,\"fLogy\":1,\"fLogz\":0,\"fPadPaint\":0,\"fCrosshair\":0,\"fCrosshairPos\":0,\"fBorderSize\":2,\"fBorderMode\":0,\"fModified\":false,\"fGridx\":false,\"fGridy\":false,\"fAbsCoord\":false,\"fEditable\":true,\"fFixedAspectRatio\":false,\"fPrimitives\":{\"_typename\":\"TList\",\"name\":\"TList\",\"arr\":[{\"_typename\":\"TFrame\",\"fUniqueID\":0,\"fBits\":50331656,\"fLineColor\":1,\"fLineStyle\":1,\"fLineWidth\":1,\"fFillColor\":0,\"fFillStyle\":1001,\"fX1\":1.17609125905568,\"fY1\":-2,\"fX2\":2.50514997831991,\"fY2\":7.30717569670366,\"fBorderSize\":1,\"fBorderMode\":0},{\"_typename\":\"TH1D\",\"fUniqueID\":0,\"fBits\":50331656,\"fName\":\"hDYMC_detector_\",\"fTitle\":\"hDYMC_detector_\",\"fLineColor\":602,\"fLineStyle\":1,\"fLineWidth\":1,\"fFillColor\":402,\"fFillStyle\":1001,\"fMarkerColor\":1,\"fMarkerStyle\":1,\"fMarkerSize\":1,\"fNcells\":36,\"fXaxis\":{\"_typename\":\"TAxis\",\"fUniqueID\":0,\"fBits\":50331648,\"fName\":\"xaxis\",\"fTitle\":\"mass\",\"fNdivisions\":510,\"fAxisColor\":1,\"fLabelColor\":1,\"fLabelFont\":42,\"fLabelOffset\":0.005,\"fLabelSize\":0.035,\"fTickLength\":0.03,\"fTitleOffset\":1,\"fTitleSize\":0.035,\"fTitleColor\":1,\"fTitleFont\":42,\"fNbins\":34,\"fXmin\":15,\"fXmax\":320,\"fXbins\":[15,20,25,30,35,40,45,50,55,60,64,68,72,76,81,86,91,96,101,106,110,115,120,126,133,141,150,160,171,185,200,220,243,273,320],\"fFirst\":0,\"fLast\":0,\"fBits2\":0,\"fTimeDisplay\":false,\"fTimeFormat\":\"\",\"fLabels\":null,\"fModLabs\":null},\"fYaxis\":{\"_typename\":\"TAxis\",\"fUniqueID\":0,\"fBits\":50331648,\"fName\":\"yaxis\",\"fTitle\":\"\",\"fNdivisions\":510,\"fAxisColor\":1,\"fLabelColor\":1,\"fLabelFont\":42,\"fLabelOffset\":0.005,\"fLabelSize\":0.035,\"fTickLength\":0.03,\"fTitleOffset\":0,\"fTitleSize\":0.035,\"fTitleColor\":1,\"fTitleFont\":42,\"fNbins\":1,\"fXmin\":0,\"fXmax\":1,\"fXbins\":[],\"fFirst\":0,\"fLast\":0,\"fBits2\":0,\"fTimeDisplay\":false,\"fTimeFormat\":\"\",\"fLabels\":null,\"fModLabs\":null},\"fZaxis\":{\"_typename\":\"TAxis\",\"fUniqueID\":0,\"fBits\":50331648,\"fName\":\"zaxis\",\"fTitle\":\"\",\"fNdivisions\":510,\"fAxisColor\":1,\"fLabelColor\":1,\"fLabelFont\":42,\"fLabelOffset\":0.005,\"fLabelSize\":0.035,\"fTickLength\":0.03,\"fTitleOffset\":1,\"fTitleSize\":0.035,\"fTitleColor\":1,\"fTitleFont\":42,\"fNbins\":1,\"fXmin\":0,\"fXmax\":1,\"fXbins\":[],\"fFirst\":0,\"fLast\":0,\"fBits2\":0,\"fTimeDisplay\":false,\"fTimeFormat\":\"\",\"fLabels\":null,\"fModLabs\":null},\"fBarOffset\":0,\"fBarWidth\":1000,\"fEntries\":34,\"fTsumw\":0,\"fTsumw2\":0,\"fTsumwx\":0,\"fTsumwx2\":0,\"fMaximum\":-1111,\"fMinimum\":0.01,\"fNormFactor\":0,\"fContour\":[],\"fSumw2\":[0,1258772.49078856,1060363.65627482,1119230.98992897,1785594.38533724,2752778.51682568,3476409.57883321,2880465.75968032,787998.428727178,649819.097948258,532423.419238588,598245.147279707,720335.543689699,957139.226027498,1981678.77921297,5045438.30468866,29695132.4679023,29386912.8737989,3324975.646582,1026639.71918778,431827.495447967,345656.387145714,230731.514471165,192296.098859868,160270.169401494,129579.714466852,105375.508571311,84367.4244347478,66309.2361932375,59804.6963740618,39222.55529036,3525.14443450444,41.4990974509611,19.2272476647106,22.9382925877752,0],\"fOption\":\"\",\"fFunctions\":{\"_typename\":\"TList\",\"name\":\"TList\",\"arr\":[{\"_typename\":\"TPaveStats\",\"fUniqueID\":0,\"fBits\":50331657,\"fLineColor\":1,\"fLineStyle\":1,\"fLineWidth\":1,\"fFillColor\":0,\"fFillStyle\":1001,\"fX1\":2.30579120409795,\"fY1\":5.85292961111148,\"fX2\":2.63805589381627,\"fY2\":7.71436473658344,\"fX1NDC\":0.780000016093254,\"fY1NDC\":0.775000005960464,\"fX2NDC\":0.980000019073486,\"fY2NDC\":0.935000002384186,\"fBorderSize\":1,\"fInit\":1,\"fShadowColor\":1,\"fCornerRadius\":0,\"fOption\":\"brNDC\",\"fName\":\"stats\",\"fTextAngle\":0,\"fTextSize\":0,\"fTextAlign\":12,\"fTextColor\":1,\"fTextFont\":42,\"fLabel\":\"\",\"fLongest\":18,\"fMargin\":0.05,\"fLines\":{\"_typename\":\"TList\",\"name\":\"TList\",\"arr\":[{\"_typename\":\"TLatex\",\"fUniqueID\":0,\"fBits\":50331648,\"fName\":\"\",\"fTitle\":\"hDYMC_detector_\",\"fTextAngle\":0,\"fTextSize\":0.0368,\"fTextAlign\":0,\"fTextColor\":0,\"fTextFont\":0,\"fX\":0,\"fY\":0,\"fLineColor\":1,\"fLineStyle\":1,\"fLineWidth\":2,\"fLimitFactorSize\":3,\"fOriginSize\":0.0368000008165836},{\"_typename\":\"TLatex\",\"fUniqueID\":0,\"fBits\":50331648,\"fName\":\"\",\"fTitle\":\"Entries = 34     \",\"fTextAngle\":0,\"fTextSize\":0,\"fTextAlign\":0,\"fTextColor\":0,\"fTextFont\":0,\"fX\":0,\"fY\":0,\"fLineColor\":1,\"fLineStyle\":1,\"fLineWidth\":2,\"fLimitFactorSize\":3,\"fOriginSize\":0.04},{\"_typename\":\"TLatex\",\"fUniqueID\":0,\"fBits\":50331648,\"fName\":\"\",\"fTitle\":\"Mean  =   87.4\",\"fTextAngle\":0,\"fTextSize\":0,\"fTextAlign\":0,\"fTextColor\":0,\"fTextFont\":0,\"fX\":0,\"fY\":0,\"fLineColor\":1,\"fLineStyle\":1,\"fLineWidth\":2,\"fLimitFactorSize\":3,\"fOriginSize\":0.04},{\"_typename\":\"TLatex\",\"fUniqueID\":0,\"fBits\":50331648,\"fName\":\"\",\"fTitle\":\"Std Dev   =  15.07\",\"fTextAngle\":0,\"fTextSize\":0,\"fTextAlign\":0,\"fTextColor\":0,\"fTextFont\":0,\"fX\":0,\"fY\":0,\"fLineColor\":1,\"fLineStyle\":1,\"fLineWidth\":2,\"fLimitFactorSize\":3,\"fOriginSize\":0.04}],\"opt\":[\"\",\"\",\"\",\"\"]},\"fOptFit\":0,\"fOptStat\":1111,\"fFitFormat\":\"5.4g\",\"fStatFormat\":\"6.4g\",\"fParent\":{\"$ref\":5}}],\"opt\":[\"brNDC\"]},\"fBufferSize\":0,\"fBuffer\":[],\"fBinStatErrOpt\":0,\"fStatOverflows\":2,\"fArray\":[0,118767.838342095,100519.670663775,106784.260249248,170890.009460033,264799.204680268,339097.339182252,305674.886931969,259428.951217692,240461.45891921,195822.705392851,217750.097234942,261668.728459018,348876.715971087,716266.144671964,1817251.13172142,10705989.100153,10574860.5382854,1184784.93865152,362591.716706041,152127.778636395,121089.545865481,80105.2784393383,66449.8629614711,54929.2291469473,44885.9479093256,35632.2026546665,28257.604964245,21940.4461729939,20018.692054669,12878.0232877772,1183.26934450227,2.36856878829349,-0.138099097034957,3.98803965694481,0]},{\"_typename\":\"TH1D\",\"fUniqueID\":0,\"fBits\":50331656,\"fName\":\"hFakeDYMC_detector_\",\"fTitle\":\"hFakeDYMC_detector_\",\"fLineColor\":602,\"fLineStyle\":1,\"fLineWidth\":1,\"fFillColor\":406,\"fFillStyle\":1001,\"fMarkerColor\":1,\"fMarkerStyle\":1,\"fMarkerSize\":1,\"fNcells\":36,\"fXaxis\":{\"_typename\":\"TAxis\",\"fUniqueID\":0,\"fBits\":50331648,\"fName\":\"xaxis\",\"fTitle\":\"mass\",\"fNdivisions\":510,\"fAxisColor\":1,\"fLabelColor\":1,\"fLabelFont\":42,\"fLabelOffset\":0.005,\"fLabelSize\":0.035,\"fTickLength\":0.03,\"fTitleOffset\":1,\"fTitleSize\":0.035,\"fTitleColor\":1,\"fTitleFont\":42,\"fNbins\":34,\"fXmin\":15,\"fXmax\":320,\"fXbins\":[15,20,25,30,35,40,45,50,55,60,64,68,72,76,81,86,91,96,101,106,110,115,120,126,133,141,150,160,171,185,200,220,243,273,320],\"fFirst\":0,\"fLast\":0,\"fBits2\":0,\"fTimeDisplay\":false,\"fTimeFormat\":\"\",\"fLabels\":null,\"fModLabs\":null},\"fYaxis\":{\"_typename\":\"TAxis\",\"fUniqueID\":0,\"fBits\":50331648,\"fName\":\"yaxis\",\"fTitle\":\"\",\"fNdivisions\":510,\"fAxisColor\":1,\"fLabelColor\":1,\"fLabelFont\":42,\"fLabelOffset\":0.005,\"fLabelSize\":0.035,\"fTickLength\":0.03,\"fTitleOffset\":0,\"fTitleSize\":0.035,\"fTitleColor\":1,\"fTitleFont\":42,\"fNbins\":1,\"fXmin\":0,\"fXmax\":1,\"fXbins\":[],\"fFirst\":0,\"fLast\":0,\"fBits2\":0,\"fTimeDisplay\":false,\"fTimeFormat\":\"\",\"fLabels\":null,\"fModLabs\":null},\"fZaxis\":{\"_typename\":\"TAxis\",\"fUniqueID\":0,\"fBits\":50331648,\"fName\":\"zaxis\",\"fTitle\":\"\",\"fNdivisions\":510,\"fAxisColor\":1,\"fLabelColor\":1,\"fLabelFont\":42,\"fLabelOffset\":0.005,\"fLabelSize\":0.035,\"fTickLength\":0.03,\"fTitleOffset\":1,\"fTitleSize\":0.035,\"fTitleColor\":1,\"fTitleFont\":42,\"fNbins\":1,\"fXmin\":0,\"fXmax\":1,\"fXbins\":[],\"fFirst\":0,\"fLast\":0,\"fBits2\":0,\"fTimeDisplay\":false,\"fTimeFormat\":\"\",\"fLabels\":null,\"fModLabs\":null},\"fBarOffset\":0,\"fBarWidth\":1000,\"fEntries\":68,\"fTsumw\":65640.7340986552,\"fTsumw2\":443821.579048273,\"fTsumwx\":3892249.74891226,\"fTsumwx2\":281906614.979869,\"fMaximum\":-1111,\"fMinimum\":-1111,\"fNormFactor\":0,\"fContour\":[],\"fSumw2\":[0,24239.368303822,21633.005344151,36821.9230433794,74309.8319252249,115218.54139971,63986.4308582712,22197.3624408104,5795.28754683059,2240.97151948006,1669.40596443468,1520.41264307161,1680.73004211203,2410.48522230124,4635.26736356967,8174.60162678338,20552.3708585934,29617.0007794495,4479.90468747431,1101.00190344764,303.666123914999,313.031651089132,136.599786274605,273.219526721177,175.484240588992,73.7260803379897,52.7779031085464,34.7668007155915,30.5556674450845,26.7591423352585,25.4139816793861,32.423144516595,19.9362129758451,19.1198614547887,20.1954521981729,0],\"fOption\":\"\",\"fFunctions\":{\"_typename\":\"TList\",\"name\":\"TList\",\"arr\":[],\"opt\":[]},\"fBufferSize\":0,\"fBuffer\":[],\"fBinStatErrOpt\":0,\"fStatOverflows\":2,\"fArray\":[0,2311.96439649049,2067.518350747,3486.90841547884,7139.95791940173,10978.4260781766,6231.0086035808,2309.00016847101,1372.55175418557,787.761781507732,592.559736182817,560.850616876262,612.112743408837,917.728128072371,1705.52468476999,3059.16325188872,7521.58902208033,11447.8169394496,1687.47181106642,400.282424978818,130.405867128503,114.969416159722,47.0870513868346,51.9116843212247,26.9133937935205,22.38860563121,18.3512383409547,2.8795459608885,2.20200342800229,6.67146225860445,3.96552834081945,12.7892093104452,4.82387128803975,-0.465797449062995,5.64419194148939,0]},{\"_typename\":\"TPaveText\",\"fUniqueID\":0,\"fBits\":50331657,\"fLineColor\":1,\"fLineStyle\":1,\"fLineWidth\":1,\"fFillColor\":0,\"fFillStyle\":0,\"fX1\":1.63408221916166,\"fY1\":7.68019506282742,\"fX2\":2.04715901821393,\"fY2\":8.41240295197534,\"fX1NDC\":0.375678391959799,\"fY1NDC\":0.932062941831309,\"fX2NDC\":0.624321608040201,\"fY2NDC\":0.995000004768372,\"fBorderSize\":0,\"fInit\":1,\"fShadowColor\":1,\"fCornerRadius\":0,\"fOption\":\"blNDC\",\"fName\":\"title\",\"fTextAngle\":0,\"fTextSize\":0,\"fTextAlign\":22,\"fTextColor\":1,\"fTextFont\":42,\"fLabel\":\"\",\"fLongest\":15,\"fMargin\":0.05,\"fLines\":{\"_typename\":\"TList\",\"name\":\"TList\",\"arr\":[{\"_typename\":\"TLatex\",\"fUniqueID\":0,\"fBits\":50331648,\"fName\":\"\",\"fTitle\":\"hDYMC_detector_\",\"fTextAngle\":0,\"fTextSize\":0,\"fTextAlign\":0,\"fTextColor\":0,\"fTextFont\":0,\"fX\":0,\"fY\":0,\"fLineColor\":1,\"fLineStyle\":1,\"fLineWidth\":2,\"fLimitFactorSize\":3,\"fOriginSize\":0.0534965023398399}],\"opt\":[\"\"]}}],\"opt\":[\"\",\"hist\",\"hist same\",\"blNDC\"]},\"fExecs\":{\"_typename\":\"TList\",\"name\":\"TList\",\"arr\":[],\"opt\":[]},\"fName\":\"pad_mass_\",\"fTitle\":\"pad_mass_\",\"fNumPaletteColor\":0,\"fNextPaletteColor\":0},{\"_typename\":\"TPad\",\"fUniqueID\":0,\"fBits\":50331657,\"fLineColor\":1,\"fLineStyle\":1,\"fLineWidth\":1,\"fFillColor\":0,\"fFillStyle\":1001,\"fLeftMargin\":0.1,\"fRightMargin\":0.1,\"fBottomMargin\":0.1,\"fTopMargin\":0.1,\"fXfile\":2,\"fYfile\":2,\"fAfile\":1,\"fXstat\":0.99,\"fYstat\":0.99,\"fAstat\":2,\"fFrameFillColor\":0,\"fFrameLineColor\":1,\"fFrameFillStyle\":1001,\"fFrameLineStyle\":1,\"fFrameLineWidth\":1,\"fFrameBorderSize\":1,\"fFrameBorderMode\":0,\"fX1\":1.00995890676983,\"fY1\":-5.27266220643336,\"fX2\":2.67128233060576,\"fY2\":3.18411996782225,\"fXtoAbsPixelk\":-483.907705861618,\"fXtoPixelk\":-483.907705861618,\"fXtoPixel\":479.136084268328,\"fYtoAbsPixelk\":465.010320812183,\"fYtoPixelk\":64.6103208121832,\"fYtoPixel\":-20.2914059347999,\"fUtoAbsPixelk\":5e-5,\"fUtoPixelk\":5e-5,\"fUtoPixel\":796,\"fVtoAbsPixelk\":572.00005,\"fVtoPixelk\":171.6,\"fVtoPixel\":-171.6,\"fAbsPixeltoXk\":1.00995890676983,\"fPixeltoXk\":1.00995890676983,\"fPixeltoX\":0.0020870897284371,\"fAbsPixeltoYk\":22.916611707752,\"fPixeltoYk\":-5.27266220643336,\"fPixeltoY\":-0.049281947402422,\"fXlowNDC\":0,\"fYlowNDC\":0,\"fXUpNDC\":0,\"fYUpNDC\":0,\"fWNDC\":1,\"fHNDC\":0.3,\"fAbsXlowNDC\":0,\"fAbsYlowNDC\":0,\"fAbsWNDC\":1,\"fAbsHNDC\":0.3,\"fUxmin\":1.17609125905568,\"fUymin\":-4.42698393860144,\"fUxmax\":2.50514997831991,\"fUymax\":2.33844169999034,\"fTheta\":30,\"fPhi\":30,\"fAspectRatio\":0,\"fNumber\":0,\"fTickx\":0,\"fTicky\":0,\"fLogx\":1,\"fLogy\":1,\"fLogz\":0,\"fPadPaint\":0,\"fCrosshair\":0,\"fCrosshairPos\":0,\"fBorderSize\":2,\"fBorderMode\":0,\"fModified\":false,\"fGridx\":false,\"fGridy\":false,\"fAbsCoord\":false,\"fEditable\":true,\"fFixedAspectRatio\":false,\"fPrimitives\":{\"_typename\":\"TList\",\"name\":\"TList\",\"arr\":[{\"_typename\":\"TFrame\",\"fUniqueID\":0,\"fBits\":50331656,\"fLineColor\":1,\"fLineStyle\":1,\"fLineWidth\":1,\"fFillColor\":0,\"fFillStyle\":1001,\"fX1\":1.17609125905568,\"fY1\":-4.42698393860144,\"fX2\":2.50514997831991,\"fY2\":2.33844169999034,\"fBorderSize\":1,\"fBorderMode\":0},{\"_typename\":\"TH1D\",\"fUniqueID\":0,\"fBits\":50331656,\"fName\":\"ratio\",\"fTitle\":\"hFakeDYMC_detector_\",\"fLineColor\":602,\"fLineStyle\":1,\"fLineWidth\":1,\"fFillColor\":406,\"fFillStyle\":1001,\"fMarkerColor\":1,\"fMarkerStyle\":20,\"fMarkerSize\":1,\"fNcells\":36,\"fXaxis\":{\"_typename\":\"TAxis\",\"fUniqueID\":0,\"fBits\":50331648,\"fName\":\"xaxis\",\"fTitle\":\"mass\",\"fNdivisions\":510,\"fAxisColor\":1,\"fLabelColor\":1,\"fLabelFont\":42,\"fLabelOffset\":0.005,\"fLabelSize\":0.035,\"fTickLength\":0.03,\"fTitleOffset\":1,\"fTitleSize\":0.035,\"fTitleColor\":1,\"fTitleFont\":42,\"fNbins\":34,\"fXmin\":15,\"fXmax\":320,\"fXbins\":[15,20,25,30,35,40,45,50,55,60,64,68,72,76,81,86,91,96,101,106,110,115,120,126,133,141,150,160,171,185,200,220,243,273,320],\"fFirst\":0,\"fLast\":0,\"fBits2\":0,\"fTimeDisplay\":false,\"fTimeFormat\":\"\",\"fLabels\":null,\"fModLabs\":null},\"fYaxis\":{\"_typename\":\"TAxis\",\"fUniqueID\":0,\"fBits\":50331648,\"fName\":\"yaxis\",\"fTitle\":\"\",\"fNdivisions\":510,\"fAxisColor\":1,\"fLabelColor\":1,\"fLabelFont\":42,\"fLabelOffset\":0.005,\"fLabelSize\":0.035,\"fTickLength\":0.03,\"fTitleOffset\":0,\"fTitleSize\":0.035,\"fTitleColor\":1,\"fTitleFont\":42,\"fNbins\":1,\"fXmin\":0,\"fXmax\":1,\"fXbins\":[],\"fFirst\":0,\"fLast\":0,\"fBits2\":0,\"fTimeDisplay\":false,\"fTimeFormat\":\"\",\"fLabels\":null,\"fModLabs\":null},\"fZaxis\":{\"_typename\":\"TAxis\",\"fUniqueID\":0,\"fBits\":50331648,\"fName\":\"zaxis\",\"fTitle\":\"\",\"fNdivisions\":510,\"fAxisColor\":1,\"fLabelColor\":1,\"fLabelFont\":42,\"fLabelOffset\":0.005,\"fLabelSize\":0.035,\"fTickLength\":0.03,\"fTitleOffset\":1,\"fTitleSize\":0.035,\"fTitleColor\":1,\"fTitleFont\":42,\"fNbins\":1,\"fXmin\":0,\"fXmax\":1,\"fXbins\":[],\"fFirst\":0,\"fLast\":0,\"fBits2\":0,\"fTimeDisplay\":false,\"fTimeFormat\":\"\",\"fLabels\":null,\"fModLabs\":null},\"fBarOffset\":0,\"fBarWidth\":1000,\"fEntries\":0.00397344542200859,\"fTsumw\":7.05052532300861,\"fTsumw2\":12510.5297923677,\"fTsumwx\":1771.99487572557,\"fTsumwx2\":458991.705708939,\"fMaximum\":-1111,\"fMinimum\":-1111,\"fNormFactor\":0,\"fContour\":[],\"fSumw2\":[0,1.75221271472273e-6,2.18538707924936e-6,3.33383581265906e-6,2.65129651902824e-6,1.71067618044878e-6,5.66674847323369e-7,2.39323692735319e-7,8.64346554017719e-8,3.88771889453531e-8,4.36618674996798e-8,3.21497005360449e-8,2.46043370517132e-8,1.98587604352053e-8,9.05685428217767e-9,2.47968006273293e-9,1.79439457128453e-10,2.65152965325169e-10,3.19626745750015e-9,8.38388978167286e-9,1.31350845611348e-8,2.1370124030877e-8,2.13000755836156e-8,6.19027668533739e-8,5.81736510608921e-8,3.66091971790079e-8,4.15907474729818e-8,4.35416590721043e-8,6.34761178541092e-8,6.67895593601601e-8,1.53263186540315e-7,2.34514227192338e-5,34.2357869082218,12472.1353089156,4.15865980283465,0],\"fOption\":\"\",\"fFunctions\":{\"_typename\":\"TList\",\"name\":\"TList\",\"arr\":[{\"_typename\":\"TPaveStats\",\"fUniqueID\":0,\"fBits\":50331657,\"fLineColor\":1,\"fLineStyle\":1,\"fLineWidth\":1,\"fFillColor\":0,\"fFillStyle\":1001,\"fX1\":2.30579120409795,\"fY1\":1.28134402902109,\"fX2\":2.63805589381627,\"fY2\":2.63442914665818,\"fX1NDC\":0.780000016093254,\"fY1NDC\":0.775000005960464,\"fX2NDC\":0.980000019073486,\"fY2NDC\":0.935000002384186,\"fBorderSize\":1,\"fInit\":1,\"fShadowColor\":1,\"fCornerRadius\":0,\"fOption\":\"brNDC\",\"fName\":\"stats\",\"fTextAngle\":0,\"fTextSize\":0,\"fTextAlign\":12,\"fTextColor\":1,\"fTextFont\":42,\"fLabel\":\"\",\"fLongest\":18,\"fMargin\":0.05,\"fLines\":{\"_typename\":\"TList\",\"name\":\"TList\",\"arr\":[{\"_typename\":\"TLatex\",\"fUniqueID\":0,\"fBits\":50331648,\"fName\":\"\",\"fTitle\":\"ratio\",\"fTextAngle\":0,\"fTextSize\":0.0368,\"fTextAlign\":0,\"fTextColor\":0,\"fTextFont\":0,\"fX\":0,\"fY\":0,\"fLineColor\":1,\"fLineStyle\":1,\"fLineWidth\":2,\"fLimitFactorSize\":3,\"fOriginSize\":0.0368000008165836},{\"_typename\":\"TLatex\",\"fUniqueID\":0,\"fBits\":50331648,\"fName\":\"\",\"fTitle\":\"Entries = 0      \",\"fTextAngle\":0,\"fTextSize\":0,\"fTextAlign\":0,\"fTextColor\":0,\"fTextFont\":0,\"fX\":0,\"fY\":0,\"fLineColor\":1,\"fLineStyle\":1,\"fLineWidth\":2,\"fLimitFactorSize\":3,\"fOriginSize\":0.04},{\"_typename\":\"TLatex\",\"fUniqueID\":0,\"fBits\":50331648,\"fName\":\"\",\"fTitle\":\"Mean  =  251.3\",\"fTextAngle\":0,\"fTextSize\":0,\"fTextAlign\":0,\"fTextColor\":0,\"fTextFont\":0,\"fX\":0,\"fY\":0,\"fLineColor\":1,\"fLineStyle\":1,\"fLineWidth\":2,\"fLimitFactorSize\":3,\"fOriginSize\":0.04},{\"_typename\":\"TLatex\",\"fUniqueID\":0,\"fBits\":50331648,\"fName\":\"\",\"fTitle\":\"Std Dev   =  43.98\",\"fTextAngle\":0,\"fTextSize\":0,\"fTextAlign\":0,\"fTextColor\":0,\"fTextFont\":0,\"fX\":0,\"fY\":0,\"fLineColor\":1,\"fLineStyle\":1,\"fLineWidth\":2,\"fLimitFactorSize\":3,\"fOriginSize\":0.04}],\"opt\":[\"\",\"\",\"\",\"\"]},\"fOptFit\":0,\"fOptStat\":1111,\"fFitFormat\":\"5.4g\",\"fStatFormat\":\"6.4g\",\"fParent\":{\"$ref\":28}}],\"opt\":[\"brNDC\"]},\"fBufferSize\":0,\"fBuffer\":[],\"fBinStatErrOpt\":0,\"fStatOverflows\":2,\"fArray\":[0,0.01946624969153,0.0205682961065658,0.0326537675809145,0.0417810142439696,0.0414594375063647,0.0183752801440647,0.00755377777888865,0.00529066531604576,0.0032760417617378,0.00302600117281624,0.00257566184354504,0.00233926593756007,0.00263052272066339,0.00238113262431395,0.0016834014839715,7.02559002416024e-4,0.00108255015732867,0.00142428533315678,0.00110394806758184,8.57212721420129e-4,9.49457819318619e-4,5.87814589802499e-4,7.81215822090169e-4,4.89964891397283e-4,4.98788745119906e-4,5.15018353448643e-4,1.01903397847484e-4,1.00362746073628e-4,3.33261645685211e-4,3.07929893602787e-4,0.0108083669790541,2.03661861622151,3.37292175737462,1.41527979333419,0]},{\"_typename\":\"TPaveText\",\"fUniqueID\":0,\"fBits\":50331657,\"fLineColor\":1,\"fLineStyle\":1,\"fLineWidth\":1,\"fFillColor\":0,\"fFillStyle\":0,\"fX1\":1.7206964428918,\"fY1\":2.6095910653299,\"fX2\":1.96054479448379,\"fY2\":3.14183609727605,\"fX1NDC\":0.427814070351759,\"fY1NDC\":0.932062941831309,\"fX2NDC\":0.572185929648241,\"fY2NDC\":0.995000004768372,\"fBorderSize\":0,\"fInit\":1,\"fShadowColor\":1,\"fCornerRadius\":0,\"fOption\":\"blNDC\",\"fName\":\"title\",\"fTextAngle\":0,\"fTextSize\":0,\"fTextAlign\":22,\"fTextColor\":1,\"fTextFont\":42,\"fLabel\":\"\",\"fLongest\":19,\"fMargin\":0.05,\"fLines\":{\"_typename\":\"TList\",\"name\":\"TList\",\"arr\":[{\"_typename\":\"TLatex\",\"fUniqueID\":0,\"fBits\":50331648,\"fName\":\"\",\"fTitle\":\"hFakeDYMC_detector_\",\"fTextAngle\":0,\"fTextSize\":0,\"fTextAlign\":0,\"fTextColor\":0,\"fTextFont\":0,\"fX\":0,\"fY\":0,\"fLineColor\":1,\"fLineStyle\":1,\"fLineWidth\":2,\"fLimitFactorSize\":3,\"fOriginSize\":0.0534965023398399}],\"opt\":[\"\"]}}],\"opt\":[\"\",\"\",\"blNDC\"]},\"fExecs\":{\"_typename\":\"TList\",\"name\":\"TList\",\"arr\":[],\"opt\":[]},\"fName\":\"ratio_mass_\",\"fTitle\":\"raio_mass_\",\"fNumPaletteColor\":0,\"fNextPaletteColor\":0}],\"opt\":[\"\",\"\"]},\"fExecs\":null,\"fName\":\"c_\",\"fTitle\":\"c_\",\"fNumPaletteColor\":0,\"fNextPaletteColor\":0,\"fDISPLAY\":\"$DISPLAY\",\"fDoubleBuffer\":0,\"fRetained\":true,\"fXsizeUser\":0,\"fYsizeUser\":0,\"fXsizeReal\":20,\"fYsizeReal\":15,\"fWindowTopX\":0,\"fWindowTopY\":0,\"fWindowWidth\":0,\"fWindowHeight\":0,\"fCw\":796,\"fCh\":572,\"fCatt\":{\"_typename\":\"TAttCanvas\",\"fXBetween\":2,\"fYBetween\":2,\"fTitleFromTop\":1.2,\"fXdate\":0.2,\"fYdate\":0.3,\"fAdate\":1},\"kMoveOpaque\":true,\"kResizeOpaque\":true,\"fHighLightColor\":2,\"fBatch\":true,\"kShowEventStatus\":false,\"kAutoExec\":true,\"kMenuBar\":true});\n",
       "       Core.draw(\"root_plot_1\", obj, \"\");\n",
       "     }\n",
       " );\n",
       "</script>\n"
      ],
      "text/plain": [
       "<IPython.core.display.HTML object>"
      ]
     },
     "metadata": {},
     "output_type": "display_data"
    }
   ],
   "source": [
    "pad_mass_.SetLogy()\n",
    "pad_mass_.SetLogx()\n",
    "\n",
    "pad_mass_.cd()\n",
    "\n",
    "hDYMC_detector_.SetFillColor(rt.kYellow+2)\n",
    "hFakeDYMC_detector_.SetFillColor(rt.kYellow+6)\n",
    "hDYMC_detector_.SetMinimum(1e-2)\n",
    "hDYMC_detector_.Draw(\"hist\")\n",
    "hFakeDYMC_detector_.Draw(\"hist same\")\n",
    "\n",
    "ratio = hFakeDYMC_detector_.Clone(\"ratio\")\n",
    "ratio.Divide(hDYMC_detector_)\n",
    "\n",
    "ratio_mass_.cd()\n",
    "ratio_mass_.SetLogy()\n",
    "ratio_mass_.SetLogx()\n",
    "\n",
    "ratio.SetMarkerStyle(20)\n",
    "ratio.Draw()\n",
    "\n",
    "c_.Draw()"
   ]
  },
  {
   "cell_type": "markdown",
   "metadata": {},
   "source": [
    "## Draw folded histograms\n",
    "drawFoldedHistograms()\n",
    "- 데이터와 stacked MC 비교\n",
    "- 백그라운드를 뺀 데이터와 시그널 MC 비교\n",
    "- return canvas?"
   ]
  },
  {
   "cell_type": "code",
   "execution_count": 19,
   "metadata": {
    "scrolled": false
   },
   "outputs": [
    {
     "name": "stderr",
     "output_type": "stream",
     "text": [
      "Warning in <TUnfoldDensityV17::GetInputInverseEmatrix>: number of parameters 76 = input rank 76. Problem is ill posed\n",
      "Warning in <TUnfoldDensityV17::GetInputInverseEmatrix>: number of parameters 72 = input rank 72. Problem is ill posed\n"
     ]
    }
   ],
   "source": [
    "# Do unfold Need to understand the error meassages below!\n",
    "unfold_det.doISRUnfold(False)"
   ]
  },
  {
   "cell_type": "code",
   "execution_count": 20,
   "metadata": {},
   "outputs": [
    {
     "name": "stderr",
     "output_type": "stream",
     "text": [
      "Warning in <TUnfoldDensityV17::SetInput>: 4/80 input bins have zero error, and are ignored.\n"
     ]
    }
   ],
   "source": [
    "# Set input for FSR unfolding using detector unfold output\n",
    "unfold_fsr.setUnfInput(unfold_det, \"Pt\", False, \"\", 0)\n",
    "unfold_fsr.setUnfInput(unfold_det, \"Mass\", False, \"\", 0)"
   ]
  },
  {
   "cell_type": "code",
   "execution_count": 21,
   "metadata": {},
   "outputs": [
    {
     "name": "stderr",
     "output_type": "stream",
     "text": [
      "Warning in <TUnfoldDensityV17::GetInputInverseEmatrix>: number of parameters 76 = input rank 76. Problem is ill posed\n",
      "Warning in <TUnfoldDensityV17::GetInputInverseEmatrix>: number of parameters 72 = input rank 72. Problem is ill posed\n"
     ]
    }
   ],
   "source": [
    "unfold_fsr.doISRUnfold(False)"
   ]
  },
  {
   "cell_type": "code",
   "execution_count": 22,
   "metadata": {},
   "outputs": [
    {
     "name": "stderr",
     "output_type": "stream",
     "text": [
      "Error in <TUnfoldDensityV17::GetInputInverseEmatrix>: number of parameters 80 > 76 (rank of input covariance). Problem can not be solved\n",
      "Info in <TUnfoldDensityV17::InvertMSparseSymmPos>: cholesky-decomposition failed, try eigenvalue analysis\n",
      "Warning in <TUnfoldDensityV17::DoUnfold>: rank of matrix E 76 expect 80\n",
      "Info in <TUnfoldDensityV17::InvertMSparseSymmPos>: cholesky-decomposition failed, try eigenvalue analysis\n",
      "Warning in <TUnfoldDensityV17::DoUnfold>: rank of output covariance is 76 expect 80\n",
      "Warning in <TUnfoldDensityV17::GetInputInverseEmatrix>: number of parameters 72 = input rank 72. Problem is ill posed\n"
     ]
    }
   ],
   "source": [
    "unfold_oneStep.doISRUnfold(False)"
   ]
  },
  {
   "cell_type": "code",
   "execution_count": 23,
   "metadata": {},
   "outputs": [
    {
     "name": "stderr",
     "output_type": "stream",
     "text": [
      "Error in <TUnfoldDensityV17::GetInputInverseEmatrix>: number of parameters 76 > 67 (rank of input covariance). Problem can not be solved\n",
      "Info in <TUnfoldDensityV17::InvertMSparseSymmPos>: cholesky-decomposition failed, try eigenvalue analysis\n",
      "Warning in <TUnfoldDensityV17::DoUnfold>: rank of matrix E 67 expect 76\n",
      "Info in <TUnfoldDensityV17::InvertMSparseSymmPos>: cholesky-decomposition failed, try eigenvalue analysis\n",
      "Warning in <TUnfoldDensityV17::DoUnfold>: rank of output covariance is 67 expect 76\n",
      "Error in <TUnfoldDensityV17::GetInputInverseEmatrix>: number of parameters 72 > 71 (rank of input covariance). Problem can not be solved\n"
     ]
    }
   ],
   "source": [
    "unfold_closure.doISRUnfold(False)"
   ]
  },
  {
   "cell_type": "markdown",
   "metadata": {},
   "source": [
    "## Draw unfolded histograms"
   ]
  },
  {
   "cell_type": "code",
   "execution_count": 24,
   "metadata": {},
   "outputs": [],
   "source": [
    "# For mass distribution\n",
    "mass_steering = \"mass[UO];pt[UOC0]\"\n",
    "mass_useAxis = True\n",
    "\n",
    "# Get detector level DY MC hist\n",
    "hDYMC_detector = unfold_det.getRawHist(\"Mass\", unfoldInputDic['hist'], \"Detector\", dyHistName, \\\n",
    "                                        \"hDYMC_detctor\", mass_steering, mass_useAxis)\n",
    "hFakeDYMC_detector = unfold_det.getRawHist(\"Mass\", unfoldInputDic['matrix'], \"detector_level_DY_Fake\", \"histo_DYJetsnominal\", \\\n",
    "                                        \"hFakeDYMC_detctor\", mass_steering, mass_useAxis)\n",
    "hFakeDY10to50MC_detector = unfold_det.getRawHist(\"Mass\", unfoldInputDic['matrix'], \"detector_level_DY_Fake\", \"histo_\"+dy10to50Name+\"nominal\", \\\n",
    "                                        \"hFakeDY10to50MC_detctor\", mass_steering, mass_useAxis)\n",
    "hFakeDYMC_detector.Add(hFakeDY10to50MC_detector)\n",
    "hDYMC_detector.Add(hFakeDYMC_detector, -1)\n",
    "\n",
    "# Two-step from detector to pre-FSR\n",
    "hMassUnfoldedData = unfold_det.getDetUnfoldedHists(\"Mass\", \"hMassUnfoldedData\", mass_steering, mass_useAxis)\n",
    "hMassMCTruth = unfold_det.getMCHists(\"Mass\", \"hMassMCTruth\", mass_steering, mass_useAxis)\n",
    "hMassFSRUnfoldedData = unfold_fsr.getDetUnfoldedHists(\"Mass\", \"hMassFSRUnfoldedData\", mass_steering, mass_useAxis)\n",
    "hMassData = unfold_det.getDetHists(\"Mass\", \"hMassData\", mass_steering, mass_useAxis)\n",
    "hMassMCTruth_preFSR = unfold_fsr.getMCHists(\"Mass\", \"hMassMCTruth_preFSR\", mass_steering, mass_useAxis)\n",
    "\n",
    "# One-step \n",
    "hMassUnfoldedData_ = unfold_oneStep.getDetUnfoldedHists(\"Mass\", \"hMassUnfoldedData_\", mass_steering, mass_useAxis)\n",
    "hMassUnfoldedMC_ = unfold_oneStep.getMCHists(\"Mass\", \"hMassUnfoldedMC_\", mass_steering, mass_useAxis)\n",
    "\n",
    "# Closure (One-step)\n",
    "hMassUnfoldedMC_closure = unfold_closure.getDetUnfoldedHists(\"Mass\", \"hMassUnfoldedMC_closure\", mass_steering, mass_useAxis)\n",
    "hMassMCTruth_closure = unfold_closure.getMCHists(\"Mass\", \"hMassMCTruth_closure\", mass_steering, mass_useAxis)\n",
    "\n",
    "# For pt distribution\n",
    "pt_steering = \"pt[UO];mass[UO]\"\n",
    "pt_useAxis = False\n",
    "\n",
    "hDYMCPt_detector = unfold_det.getRawHist(\"Pt\", unfoldInputDic['hist'], \"Detector\", dyHistName, \\\n",
    "                                        \"hDYMCPt_detctor\", pt_steering, pt_useAxis)\n",
    "hFakeDYMCPt_detector = unfold_det.getRawHist(\"Pt\", unfoldInputDic['matrix'], \"detector_level_DY_Fake\", \"histo_DYJetsnominal\", \\\n",
    "                                        \"hFakeDYMCPt_detctor\", pt_steering, pt_useAxis)\n",
    "hFakeDY10to50MCPt_detector = unfold_det.getRawHist(\"Pt\", unfoldInputDic['matrix'], \"detector_level_DY_Fake\", \"histo_\"+dy10to50Name+\"nominal\", \\\n",
    "                                        \"hFakeDY10to50MCPt_detctor\", pt_steering, pt_useAxis)\n",
    "hFakeDYMCPt_detector.Add(hFakeDY10to50MCPt_detector)\n",
    "hDYMCPt_detector.Add(hFakeDYMCPt_detector, -1)\n",
    "\n",
    "# Two-step from detector to pre-FSR\n",
    "hPtUnfoldedData = unfold_det.getDetUnfoldedHists(\"Pt\", \"hPtUnfoldedData\", pt_steering, pt_useAxis)\n",
    "hPtMCTruth = unfold_det.getMCHists(\"Pt\", \"hPtMCTruth\", pt_steering, pt_useAxis)\n",
    "hPtFSRUnfoldedData = unfold_fsr.getDetUnfoldedHists(\"Pt\", \"hPtFSRUnfoldedData\", pt_steering, pt_useAxis)\n",
    "hPtData = unfold_det.getDetHists(\"Pt\", \"hPtData\", pt_steering, pt_useAxis)\n",
    "hPtMCTruth_preFSR = unfold_fsr.getMCHists(\"Pt\", \"hPtMCTruth_preFSR\", pt_steering, pt_useAxis)\n",
    "\n",
    "# One-step\n",
    "hPtUnfoldedData_ = unfold_oneStep.getDetUnfoldedHists(\"Pt\", \"hPtUnfoldedData_\", pt_steering, pt_useAxis)\n",
    "hPtUnfoldedMC_ = unfold_oneStep.getMCHists(\"Pt\", \"hPtUnfoldedMC_\", pt_steering, pt_useAxis)\n",
    "\n",
    "# Closure (One-step)\n",
    "hPtUnfoldedMC_closure = unfold_closure.getDetUnfoldedHists(\"Pt\", \"hPtUnfoldedMC_closure\", pt_steering, pt_useAxis)\n",
    "hPtMCTruth_closure = unfold_closure.getMCHists(\"Pt\", \"hPtMCTruth_closure\", pt_steering, pt_useAxis)"
   ]
  },
  {
   "cell_type": "code",
   "execution_count": 25,
   "metadata": {},
   "outputs": [],
   "source": [
    "# Draw plot!\n",
    "c = rt.TCanvas(\"c\",\"c\", 1200, 600)\n",
    "c.Divide(2,1);\n",
    "\n",
    "pad_mass = rt.TPad(\"pad_mass\", \"pad_mass\", 0, 0.3, 1, 1.0)\n",
    "ratio_mass = rt.TPad(\"ratio_mass\", \"raio_mass\", 0, 0.0, 1, 0.3)\n",
    "c.cd(1)\n",
    "pad_mass.Draw()\n",
    "c.cd(1)\n",
    "ratio_mass.Draw()\n",
    "\n",
    "pad_pt = rt.TPad(\"pad_pt\", \"pad_pt\", 0, 0.3, 1, 1.0)\n",
    "ratio_pt = rt.TPad(\"ratio_pt\", \"ratio_pt\", 0, 0.0, 1, 0.3)\n",
    "c.cd(2)\n",
    "pad_pt.SetLeftMargin(2.)\n",
    "pad_pt.Draw()\n",
    "c.cd(2)\n",
    "ratio_pt.Draw()"
   ]
  },
  {
   "cell_type": "code",
   "execution_count": 26,
   "metadata": {},
   "outputs": [],
   "source": [
    "import pyScripts.tdrStyle as tdrStyle\n",
    "import pyScripts.CMS_lumi as CMS_lumi\n",
    "tdrStyle.setTDRStyle()"
   ]
  },
  {
   "cell_type": "code",
   "execution_count": 27,
   "metadata": {
    "scrolled": false
   },
   "outputs": [
    {
     "name": "stdout",
     "output_type": "stream",
     "text": [
      "\n"
     ]
    },
    {
     "name": "stderr",
     "output_type": "stream",
     "text": [
      "Info in <TCanvas::Print>: pdf file Mass_Pt.pdf has been created\n"
     ]
    },
    {
     "data": {
      "text/html": [
       "\n",
       "<div id=\"root_plot_2\"\n",
       "     style=\"width: 1196px; height: 572px\">\n",
       "</div>\n",
       "\n",
       "<script>\n",
       " requirejs.config({\n",
       "     paths: {\n",
       "       'JSRootCore' : 'https://root.cern.ch/js/notebook//scripts/JSRootCore',\n",
       "     }\n",
       "   });\n",
       " require(['JSRootCore'],\n",
       "     function(Core) {\n",
       "       var obj = Core.JSONR_unref({\"_typename\":\"TCanvas\",\"fUniqueID\":0,\"fBits\":53673992,\"fLineColor\":1,\"fLineStyle\":1,\"fLineWidth\":1,\"fFillColor\":0,\"fFillStyle\":1001,\"fLeftMargin\":0.1,\"fRightMargin\":0.1,\"fBottomMargin\":0.1,\"fTopMargin\":0.1,\"fXfile\":2,\"fYfile\":2,\"fAfile\":1,\"fXstat\":0.99,\"fYstat\":0.99,\"fAstat\":2,\"fFrameFillColor\":0,\"fFrameLineColor\":1,\"fFrameFillStyle\":1001,\"fFrameLineStyle\":1,\"fFrameLineWidth\":1,\"fFrameBorderSize\":1,\"fFrameBorderMode\":0,\"fX1\":0,\"fY1\":0,\"fX2\":1,\"fY2\":1,\"fXtoAbsPixelk\":5e-5,\"fXtoPixelk\":5e-5,\"fXtoPixel\":1196,\"fYtoAbsPixelk\":572.00005,\"fYtoPixelk\":572.00005,\"fYtoPixel\":-572,\"fUtoAbsPixelk\":5e-5,\"fUtoPixelk\":5e-5,\"fUtoPixel\":1196,\"fVtoAbsPixelk\":572.00005,\"fVtoPixelk\":572,\"fVtoPixel\":-572,\"fAbsPixeltoXk\":0,\"fPixeltoXk\":0,\"fPixeltoX\":8.36120401337793e-4,\"fAbsPixeltoYk\":1,\"fPixeltoYk\":0,\"fPixeltoY\":-0.00174825174825175,\"fXlowNDC\":0,\"fYlowNDC\":0,\"fXUpNDC\":0,\"fYUpNDC\":0,\"fWNDC\":1,\"fHNDC\":1,\"fAbsXlowNDC\":0,\"fAbsYlowNDC\":0,\"fAbsWNDC\":1,\"fAbsHNDC\":1,\"fUxmin\":0,\"fUymin\":0,\"fUxmax\":1,\"fUymax\":1,\"fTheta\":30,\"fPhi\":30,\"fAspectRatio\":0,\"fNumber\":0,\"fTickx\":0,\"fTicky\":0,\"fLogx\":0,\"fLogy\":0,\"fLogz\":0,\"fPadPaint\":0,\"fCrosshair\":0,\"fCrosshairPos\":0,\"fBorderSize\":2,\"fBorderMode\":0,\"fModified\":false,\"fGridx\":false,\"fGridy\":false,\"fAbsCoord\":false,\"fEditable\":true,\"fFixedAspectRatio\":false,\"fPrimitives\":{\"_typename\":\"TList\",\"name\":\"TList\",\"arr\":[{\"_typename\":\"TPad\",\"fUniqueID\":0,\"fBits\":50331657,\"fLineColor\":1,\"fLineStyle\":1,\"fLineWidth\":1,\"fFillColor\":0,\"fFillStyle\":1001,\"fLeftMargin\":0.1,\"fRightMargin\":0.1,\"fBottomMargin\":0.1,\"fTopMargin\":0.1,\"fXfile\":2,\"fYfile\":2,\"fAfile\":1,\"fXstat\":0.99,\"fYstat\":0.99,\"fAstat\":2,\"fFrameFillColor\":0,\"fFrameLineColor\":1,\"fFrameFillStyle\":1001,\"fFrameLineStyle\":1,\"fFrameLineWidth\":1,\"fFrameBorderSize\":1,\"fFrameBorderMode\":0,\"fX1\":0,\"fY1\":0,\"fX2\":1,\"fY2\":1,\"fXtoAbsPixelk\":11.9600497326732,\"fXtoPixelk\":5e-5,\"fXtoPixel\":574.080000534654,\"fYtoAbsPixelk\":566.280050127852,\"fYtoPixelk\":560.560050255704,\"fYtoPixel\":-560.560000255704,\"fUtoAbsPixelk\":11.9600497326732,\"fUtoPixelk\":5e-5,\"fUtoPixel\":574.080000534654,\"fVtoAbsPixelk\":566.280050127852,\"fVtoPixelk\":560.560000255704,\"fVtoPixel\":-560.560000255704,\"fAbsPixeltoXk\":-0.0208333328482695,\"fPixeltoXk\":0,\"fPixeltoX\":0.00174191750116478,\"fAbsPixeltoYk\":1.01020408139992,\"fPixeltoYk\":0,\"fPixeltoY\":-0.00178393035454517,\"fXlowNDC\":0.00999999977648258,\"fYlowNDC\":0.00999999977648258,\"fXUpNDC\":0,\"fYUpNDC\":0,\"fWNDC\":0.480000000447035,\"fHNDC\":0.980000000447035,\"fAbsXlowNDC\":0.00999999977648258,\"fAbsYlowNDC\":0.00999999977648258,\"fAbsWNDC\":0.480000000447035,\"fAbsHNDC\":0.980000000447035,\"fUxmin\":0,\"fUymin\":0,\"fUxmax\":1,\"fUymax\":1,\"fTheta\":30,\"fPhi\":30,\"fAspectRatio\":0,\"fNumber\":1,\"fTickx\":0,\"fTicky\":0,\"fLogx\":0,\"fLogy\":0,\"fLogz\":0,\"fPadPaint\":0,\"fCrosshair\":0,\"fCrosshairPos\":0,\"fBorderSize\":2,\"fBorderMode\":0,\"fModified\":false,\"fGridx\":false,\"fGridy\":false,\"fAbsCoord\":false,\"fEditable\":true,\"fFixedAspectRatio\":false,\"fPrimitives\":{\"_typename\":\"TList\",\"name\":\"TList\",\"arr\":[{\"_typename\":\"TPad\",\"fUniqueID\":0,\"fBits\":50331657,\"fLineColor\":1,\"fLineStyle\":1,\"fLineWidth\":1,\"fFillColor\":0,\"fFillStyle\":1001,\"fLeftMargin\":0.1,\"fRightMargin\":0.1,\"fBottomMargin\":0.1,\"fTopMargin\":0.1,\"fXfile\":2,\"fYfile\":2,\"fAfile\":1,\"fXstat\":0.99,\"fYstat\":0.99,\"fAstat\":2,\"fFrameFillColor\":0,\"fFrameLineColor\":1,\"fFrameFillStyle\":1001,\"fFrameLineStyle\":1,\"fFrameLineWidth\":1,\"fFrameBorderSize\":1,\"fFrameBorderMode\":0,\"fX1\":1.00995890676983,\"fY1\":-1.08737133155748,\"fX2\":2.67128233060576,\"fY2\":9.7863413358935,\"fXtoAbsPixelk\":-337.037142156473,\"fXtoPixelk\":-348.997141889146,\"fXtoPixel\":345.555833558962,\"fYtoAbsPixelk\":358.872847694403,\"fYtoPixelk\":353.152847822255,\"fYtoPixel\":-36.0862947347842,\"fUtoAbsPixelk\":11.9600497326732,\"fUtoPixelk\":5e-5,\"fUtoPixel\":574.080000534654,\"fVtoAbsPixelk\":398.112050051141,\"fVtoPixelk\":392.392000178993,\"fVtoPixel\":-392.392000178993,\"fAbsPixeltoXk\":0.975348002912428,\"fPixeltoXk\":1.00995890676983,\"fPixeltoX\":0.0028938883470748,\"fAbsPixeltoYk\":9.94485026329065,\"fPixeltoYk\":-1.08737133155748,\"fPixeltoY\":-0.0277113515629545,\"fXlowNDC\":0,\"fYlowNDC\":0.3,\"fXUpNDC\":0,\"fYUpNDC\":0,\"fWNDC\":1,\"fHNDC\":0.7,\"fAbsXlowNDC\":0.00999999977648258,\"fAbsYlowNDC\":0.303999999910593,\"fAbsWNDC\":0.480000000447035,\"fAbsHNDC\":0.686000000312924,\"fUxmin\":1.17609125905568,\"fUymin\":0,\"fUxmax\":2.50514997831991,\"fUymax\":8.69897000433602,\"fTheta\":30,\"fPhi\":30,\"fAspectRatio\":0,\"fNumber\":0,\"fTickx\":0,\"fTicky\":0,\"fLogx\":1,\"fLogy\":1,\"fLogz\":0,\"fPadPaint\":0,\"fCrosshair\":0,\"fCrosshairPos\":0,\"fBorderSize\":2,\"fBorderMode\":0,\"fModified\":false,\"fGridx\":true,\"fGridy\":true,\"fAbsCoord\":false,\"fEditable\":true,\"fFixedAspectRatio\":false,\"fPrimitives\":{\"_typename\":\"TList\",\"name\":\"TList\",\"arr\":[{\"_typename\":\"TFrame\",\"fUniqueID\":0,\"fBits\":50331656,\"fLineColor\":1,\"fLineStyle\":1,\"fLineWidth\":1,\"fFillColor\":0,\"fFillStyle\":1001,\"fX1\":1.17609125905568,\"fY1\":0,\"fX2\":2.50514997831991,\"fY2\":8.69897000433602,\"fBorderSize\":1,\"fBorderMode\":0},{\"_typename\":\"TH1D\",\"fUniqueID\":0,\"fBits\":50332168,\"fName\":\"hMassUnfoldedData\",\"fTitle\":\"hMassUnfoldedData\",\"fLineColor\":632,\"fLineStyle\":1,\"fLineWidth\":1,\"fFillColor\":0,\"fFillStyle\":1001,\"fMarkerColor\":632,\"fMarkerStyle\":20,\"fMarkerSize\":1,\"fNcells\":36,\"fXaxis\":{\"_typename\":\"TAxis\",\"fUniqueID\":0,\"fBits\":50331656,\"fName\":\"xaxis\",\"fTitle\":\"mass\",\"fNdivisions\":520,\"fAxisColor\":1,\"fLabelColor\":1,\"fLabelFont\":42,\"fLabelOffset\":0.005,\"fLabelSize\":0.035,\"fTickLength\":0.03,\"fTitleOffset\":1,\"fTitleSize\":0.035,\"fTitleColor\":1,\"fTitleFont\":42,\"fNbins\":34,\"fXmin\":15,\"fXmax\":320,\"fXbins\":[15,20,25,30,35,40,45,50,55,60,64,68,72,76,81,86,91,96,101,106,110,115,120,126,133,141,150,160,171,185,200,220,243,273,320],\"fFirst\":0,\"fLast\":0,\"fBits2\":0,\"fTimeDisplay\":false,\"fTimeFormat\":\"\",\"fLabels\":null,\"fModLabs\":null},\"fYaxis\":{\"_typename\":\"TAxis\",\"fUniqueID\":0,\"fBits\":50331656,\"fName\":\"yaxis\",\"fTitle\":\"Events\\/ bin\",\"fNdivisions\":10,\"fAxisColor\":1,\"fLabelColor\":1,\"fLabelFont\":42,\"fLabelOffset\":0.005,\"fLabelSize\":0.035,\"fTickLength\":0.03,\"fTitleOffset\":0,\"fTitleSize\":0.035,\"fTitleColor\":1,\"fTitleFont\":42,\"fNbins\":1,\"fXmin\":0,\"fXmax\":1,\"fXbins\":[],\"fFirst\":0,\"fLast\":0,\"fBits2\":0,\"fTimeDisplay\":false,\"fTimeFormat\":\"\",\"fLabels\":null,\"fModLabs\":null},\"fZaxis\":{\"_typename\":\"TAxis\",\"fUniqueID\":0,\"fBits\":50331648,\"fName\":\"zaxis\",\"fTitle\":\"\",\"fNdivisions\":510,\"fAxisColor\":1,\"fLabelColor\":1,\"fLabelFont\":42,\"fLabelOffset\":0.005,\"fLabelSize\":0.035,\"fTickLength\":0.03,\"fTitleOffset\":1,\"fTitleSize\":0.035,\"fTitleColor\":1,\"fTitleFont\":42,\"fNbins\":1,\"fXmin\":0,\"fXmax\":1,\"fXbins\":[],\"fFirst\":0,\"fLast\":0,\"fBits2\":0,\"fTimeDisplay\":false,\"fTimeFormat\":\"\",\"fLabels\":null,\"fModLabs\":null},\"fBarOffset\":0,\"fBarWidth\":1000,\"fEntries\":70,\"fTsumw\":0,\"fTsumw2\":0,\"fTsumwx\":0,\"fTsumwx2\":0,\"fMaximum\":500000000,\"fMinimum\":1,\"fNormFactor\":0,\"fContour\":[],\"fSumw2\":[0,757246.651046306,798841.750272006,1117253.06057441,2050587.72552643,2615385.01052573,2435889.66904427,2027095.83378504,1580743.65218686,1410284.16565598,1280160.23362192,1493521.17248535,1399124.1752456,1949029.19073609,3123268.05626849,6616151.87128654,46076579.8038803,46755306.9158489,4405851.97609884,1501343.21533117,774302.534508704,530144.396393259,454399.064353043,280861.900774834,276547.513590906,220125.648103559,124580.190865083,114890.423884087,161612.960137997,63115.3900108227,50389.6299179093,42083.2625516588,31636.111996946,24892.7703394825,19796.7296138948,0],\"fOption\":\"\",\"fFunctions\":{\"_typename\":\"TList\",\"name\":\"TList\",\"arr\":[],\"opt\":[]},\"fBufferSize\":0,\"fBuffer\":[],\"fBinStatErrOpt\":0,\"fStatOverflows\":2,\"fArray\":[0,293275.5262124,239362.15184638,268508.974542415,448493.124827451,580009.106202036,603521.39702754,526475.24030695,442653.502580483,403189.562789634,310075.047026154,320590.838290518,366219.617584126,448606.38233418,844626.895411617,1887104.77594406,13500929.396243,15045537.6643289,1329691.66327125,454651.325443913,195191.810333443,153826.887645326,104113.652830567,89065.5408237371,70872.5621843494,56789.64735392,46751.7494028275,36854.6198027921,29410.4695374787,25679.375008797,20224.0306745159,17631.2217218457,13379.9952517049,10947.4129271655,9950.50159115717,0]},{\"_typename\":\"TH1D\",\"fUniqueID\":0,\"fBits\":50331656,\"fName\":\"hMassFSRUnfoldedData\",\"fTitle\":\"hMassFSRUnfoldedData\",\"fLineColor\":600,\"fLineStyle\":1,\"fLineWidth\":1,\"fFillColor\":0,\"fFillStyle\":1001,\"fMarkerColor\":600,\"fMarkerStyle\":20,\"fMarkerSize\":1,\"fNcells\":36,\"fXaxis\":{\"_typename\":\"TAxis\",\"fUniqueID\":0,\"fBits\":50331648,\"fName\":\"xaxis\",\"fTitle\":\"mass\",\"fNdivisions\":510,\"fAxisColor\":1,\"fLabelColor\":1,\"fLabelFont\":42,\"fLabelOffset\":0.005,\"fLabelSize\":0.035,\"fTickLength\":0.03,\"fTitleOffset\":1,\"fTitleSize\":0.035,\"fTitleColor\":1,\"fTitleFont\":42,\"fNbins\":34,\"fXmin\":15,\"fXmax\":320,\"fXbins\":[15,20,25,30,35,40,45,50,55,60,64,68,72,76,81,86,91,96,101,106,110,115,120,126,133,141,150,160,171,185,200,220,243,273,320],\"fFirst\":0,\"fLast\":0,\"fBits2\":0,\"fTimeDisplay\":false,\"fTimeFormat\":\"\",\"fLabels\":null,\"fModLabs\":null},\"fYaxis\":{\"_typename\":\"TAxis\",\"fUniqueID\":0,\"fBits\":50331648,\"fName\":\"yaxis\",\"fTitle\":\"\",\"fNdivisions\":510,\"fAxisColor\":1,\"fLabelColor\":1,\"fLabelFont\":42,\"fLabelOffset\":0.005,\"fLabelSize\":0.035,\"fTickLength\":0.03,\"fTitleOffset\":0,\"fTitleSize\":0.035,\"fTitleColor\":1,\"fTitleFont\":42,\"fNbins\":1,\"fXmin\":0,\"fXmax\":1,\"fXbins\":[],\"fFirst\":0,\"fLast\":0,\"fBits2\":0,\"fTimeDisplay\":false,\"fTimeFormat\":\"\",\"fLabels\":null,\"fModLabs\":null},\"fZaxis\":{\"_typename\":\"TAxis\",\"fUniqueID\":0,\"fBits\":50331648,\"fName\":\"zaxis\",\"fTitle\":\"\",\"fNdivisions\":510,\"fAxisColor\":1,\"fLabelColor\":1,\"fLabelFont\":42,\"fLabelOffset\":0.005,\"fLabelSize\":0.035,\"fTickLength\":0.03,\"fTitleOffset\":1,\"fTitleSize\":0.035,\"fTitleColor\":1,\"fTitleFont\":42,\"fNbins\":1,\"fXmin\":0,\"fXmax\":1,\"fXbins\":[],\"fFirst\":0,\"fLast\":0,\"fBits2\":0,\"fTimeDisplay\":false,\"fTimeFormat\":\"\",\"fLabels\":null,\"fModLabs\":null},\"fBarOffset\":0,\"fBarWidth\":1000,\"fEntries\":70,\"fTsumw\":0,\"fTsumw2\":0,\"fTsumwx\":0,\"fTsumwx2\":0,\"fMaximum\":-1111,\"fMinimum\":-1111,\"fNormFactor\":0,\"fContour\":[],\"fSumw2\":[0,45757911028.5799,13260573746.3892,3947961937.85147,841818101.351917,183504468.125325,49444107.8219175,26549995.2672806,16675886.146636,12925275.854443,10516363.9784011,11186109.2081259,9781142.57585442,12643538.5195042,18962889.034385,37590124.547877,245369179.771894,264748827.898549,23900045.6529637,7937187.08929423,4098344.30240418,2747930.33762447,2301559.05208046,1386699.37663805,1353206.22435794,1033868.63096415,574224.602759053,519219.850949299,704512.542580208,268787.376728259,206635.639586438,166713.543749897,119754.96389992,88713.1773170534,64187.5389154029,0],\"fOption\":\"\",\"fFunctions\":{\"_typename\":\"TList\",\"name\":\"TList\",\"arr\":[],\"opt\":[]},\"fBufferSize\":0,\"fBuffer\":[],\"fBinStatErrOpt\":0,\"fStatOverflows\":2,\"fArray\":[0,70710873.0799922,29887950.5410601,15252833.6977828,8640051.34671322,4586164.71262636,2509451.04637727,1689405.38460672,1198535.4397164,943677.621581922,632828.298388495,578361.245227687,603530.229322121,684361.656196842,1282448.35999008,3142494.3776556,29054093.0978803,35625921.5599356,3037188.79061347,1013632.91875355,430459.214197882,335173.764854176,223722.462877836,189100.698341013,150235.756696398,117658.908384442,95968.5137317572,74812.4825939521,58733.9115430519,51002.7840095478,39381.4440746316,33789.5710414787,25107.4825385211,20067.3641516258,17856.2052343522,0]},{\"_typename\":\"TH1D\",\"fUniqueID\":0,\"fBits\":50331656,\"fName\":\"hMassMCTruth_preFSR\",\"fTitle\":\"hMassMCTruth_preFSR\",\"fLineColor\":602,\"fLineStyle\":1,\"fLineWidth\":1,\"fFillColor\":0,\"fFillStyle\":1001,\"fMarkerColor\":1,\"fMarkerStyle\":1,\"fMarkerSize\":1,\"fNcells\":36,\"fXaxis\":{\"_typename\":\"TAxis\",\"fUniqueID\":0,\"fBits\":50331648,\"fName\":\"xaxis\",\"fTitle\":\"mass\",\"fNdivisions\":510,\"fAxisColor\":1,\"fLabelColor\":1,\"fLabelFont\":42,\"fLabelOffset\":0.005,\"fLabelSize\":0.035,\"fTickLength\":0.03,\"fTitleOffset\":1,\"fTitleSize\":0.035,\"fTitleColor\":1,\"fTitleFont\":42,\"fNbins\":34,\"fXmin\":15,\"fXmax\":320,\"fXbins\":[15,20,25,30,35,40,45,50,55,60,64,68,72,76,81,86,91,96,101,106,110,115,120,126,133,141,150,160,171,185,200,220,243,273,320],\"fFirst\":0,\"fLast\":0,\"fBits2\":0,\"fTimeDisplay\":false,\"fTimeFormat\":\"\",\"fLabels\":null,\"fModLabs\":null},\"fYaxis\":{\"_typename\":\"TAxis\",\"fUniqueID\":0,\"fBits\":50331648,\"fName\":\"yaxis\",\"fTitle\":\"\",\"fNdivisions\":510,\"fAxisColor\":1,\"fLabelColor\":1,\"fLabelFont\":42,\"fLabelOffset\":0.005,\"fLabelSize\":0.035,\"fTickLength\":0.03,\"fTitleOffset\":0,\"fTitleSize\":0.035,\"fTitleColor\":1,\"fTitleFont\":42,\"fNbins\":1,\"fXmin\":0,\"fXmax\":1,\"fXbins\":[],\"fFirst\":0,\"fLast\":0,\"fBits2\":0,\"fTimeDisplay\":false,\"fTimeFormat\":\"\",\"fLabels\":null,\"fModLabs\":null},\"fZaxis\":{\"_typename\":\"TAxis\",\"fUniqueID\":0,\"fBits\":50331648,\"fName\":\"zaxis\",\"fTitle\":\"\",\"fNdivisions\":510,\"fAxisColor\":1,\"fLabelColor\":1,\"fLabelFont\":42,\"fLabelOffset\":0.005,\"fLabelSize\":0.035,\"fTickLength\":0.03,\"fTitleOffset\":1,\"fTitleSize\":0.035,\"fTitleColor\":1,\"fTitleFont\":42,\"fNbins\":1,\"fXmin\":0,\"fXmax\":1,\"fXbins\":[],\"fFirst\":0,\"fLast\":0,\"fBits2\":0,\"fTimeDisplay\":false,\"fTimeFormat\":\"\",\"fLabels\":null,\"fModLabs\":null},\"fBarOffset\":0,\"fBarWidth\":1000,\"fEntries\":70,\"fTsumw\":0,\"fTsumw2\":0,\"fTsumwx\":0,\"fTsumwx2\":0,\"fMaximum\":-1111,\"fMinimum\":-1111,\"fNormFactor\":0,\"fContour\":[],\"fSumw2\":[0,0,0,0,0,0,0,0,0,0,0,0,0,0,0,0,0,0,0,0,0,0,0,0,0,0,0,0,0,0,0,0,0,0,0,0],\"fOption\":\"\",\"fFunctions\":{\"_typename\":\"TList\",\"name\":\"TList\",\"arr\":[],\"opt\":[]},\"fBufferSize\":0,\"fBuffer\":[],\"fBinStatErrOpt\":0,\"fStatOverflows\":2,\"fArray\":[0,51976856.4994024,22124553.9817967,11023251.2804842,6129310.91031237,3696654.78212707,2388757.02269589,1630175.87259237,1097269.41737341,858321.02007441,588085.098088745,560161.103184588,581404.781449007,685773.987038776,1289600.46297919,3146970.88828064,30379156.8502962,37310862.4846388,3083873.70163966,1028669.85798334,435355.159188012,342625.99722146,225293.975500598,185401.472244518,150388.907649918,119628.629678243,94694.6238837141,73079.8692501106,57568.3262888084,50473.4881488479,37287.9028996936,31055.163124564,22616.2007079812,18132.1321326902,15191.0704090514,0]},{\"_typename\":\"TH1D\",\"fUniqueID\":0,\"fBits\":50331656,\"fName\":\"hMassData\",\"fTitle\":\"hMassData\",\"fLineColor\":1,\"fLineStyle\":1,\"fLineWidth\":1,\"fFillColor\":0,\"fFillStyle\":1001,\"fMarkerColor\":1,\"fMarkerStyle\":20,\"fMarkerSize\":1,\"fNcells\":36,\"fXaxis\":{\"_typename\":\"TAxis\",\"fUniqueID\":0,\"fBits\":50331648,\"fName\":\"xaxis\",\"fTitle\":\"mass\",\"fNdivisions\":510,\"fAxisColor\":1,\"fLabelColor\":1,\"fLabelFont\":42,\"fLabelOffset\":0.005,\"fLabelSize\":0.035,\"fTickLength\":0.03,\"fTitleOffset\":1,\"fTitleSize\":0.035,\"fTitleColor\":1,\"fTitleFont\":42,\"fNbins\":34,\"fXmin\":15,\"fXmax\":320,\"fXbins\":[15,20,25,30,35,40,45,50,55,60,64,68,72,76,81,86,91,96,101,106,110,115,120,126,133,141,150,160,171,185,200,220,243,273,320],\"fFirst\":0,\"fLast\":0,\"fBits2\":0,\"fTimeDisplay\":false,\"fTimeFormat\":\"\",\"fLabels\":null,\"fModLabs\":null},\"fYaxis\":{\"_typename\":\"TAxis\",\"fUniqueID\":0,\"fBits\":50331648,\"fName\":\"yaxis\",\"fTitle\":\"\",\"fNdivisions\":510,\"fAxisColor\":1,\"fLabelColor\":1,\"fLabelFont\":42,\"fLabelOffset\":0.005,\"fLabelSize\":0.035,\"fTickLength\":0.03,\"fTitleOffset\":0,\"fTitleSize\":0.035,\"fTitleColor\":1,\"fTitleFont\":42,\"fNbins\":1,\"fXmin\":0,\"fXmax\":1,\"fXbins\":[],\"fFirst\":0,\"fLast\":0,\"fBits2\":0,\"fTimeDisplay\":false,\"fTimeFormat\":\"\",\"fLabels\":null,\"fModLabs\":null},\"fZaxis\":{\"_typename\":\"TAxis\",\"fUniqueID\":0,\"fBits\":50331648,\"fName\":\"zaxis\",\"fTitle\":\"\",\"fNdivisions\":510,\"fAxisColor\":1,\"fLabelColor\":1,\"fLabelFont\":42,\"fLabelOffset\":0.005,\"fLabelSize\":0.035,\"fTickLength\":0.03,\"fTitleOffset\":1,\"fTitleSize\":0.035,\"fTitleColor\":1,\"fTitleFont\":42,\"fNbins\":1,\"fXmin\":0,\"fXmax\":1,\"fXbins\":[],\"fFirst\":0,\"fLast\":0,\"fBits2\":0,\"fTimeDisplay\":false,\"fTimeFormat\":\"\",\"fLabels\":null,\"fModLabs\":null},\"fBarOffset\":0,\"fBarWidth\":1000,\"fEntries\":70,\"fTsumw\":0,\"fTsumw2\":0,\"fTsumwx\":0,\"fTsumwx2\":0,\"fMaximum\":-1111,\"fMinimum\":-1111,\"fNormFactor\":0,\"fContour\":[],\"fSumw2\":[0,200405.44002736,217997.15821414,267668.909773164,445468.491532007,604940.533160525,645616.299549415,541414.78561335,431709.210403046,366463.144666958,293842.589958829,330379.669101773,291738.615281638,408304.135860325,758804.970535681,1821427.35260542,10314090.7262488,10155812.4899802,1210668.14619476,382043.82996137,157305.630594691,122156.375570378,105892.240965528,70478.9153290455,79864.3596678471,67412.3601145492,39085.9852344302,36936.870084455,53355.5211863456,23278.4644849513,17837.6942736584,16427.7746172744,12455.733913637,10341.3798783104,8924.46269103209,0],\"fOption\":\"\",\"fFunctions\":{\"_typename\":\"TList\",\"name\":\"TList\",\"arr\":[],\"opt\":[]},\"fBufferSize\":0,\"fBuffer\":[],\"fBinStatErrOpt\":0,\"fStatOverflows\":2,\"fArray\":[0,158920.7934517,132358.838962064,141676.497452203,225901.900111267,309005.747684693,349974.670293359,313499.133259275,275091.656533188,253824.251109156,201403.560370423,217479.47440081,259074.277570358,338988.660137781,693836.807997975,1757219.70384443,10207054.6316167,10082219.7043032,1152145.93324833,356094.147077463,149642.680128161,118659.741535889,79522.0255643405,67174.6895787345,54906.8439520489,44463.3823000291,36088.1334211938,28981.3909967281,22521.046832765,20686.2686625441,15579.8094019097,14097.0603349303,10550.8635924091,8687.04925380704,7371.34099339678,0]},{\"_typename\":\"TLegend\",\"fUniqueID\":0,\"fBits\":50331656,\"fLineColor\":1,\"fLineStyle\":1,\"fLineWidth\":1,\"fFillColor\":0,\"fFillStyle\":1001,\"fX1\":2.17288530345498,\"fY1\":6.52422753565821,\"fX2\":2.50514998822217,\"fY2\":8.6989700691484,\"fX1NDC\":0.7,\"fY1NDC\":0.7,\"fX2NDC\":0.9,\"fY2NDC\":0.9,\"fBorderSize\":4,\"fInit\":1,\"fShadowColor\":1,\"fCornerRadius\":0,\"fOption\":\"brNDC\",\"fName\":\"TPave\",\"fTextAngle\":0,\"fTextSize\":0,\"fTextAlign\":12,\"fTextColor\":1,\"fTextFont\":62,\"fPrimitives\":{\"_typename\":\"TList\",\"name\":\"TList\",\"arr\":[{\"_typename\":\"TLegendEntry\",\"fUniqueID\":0,\"fBits\":50331656,\"fTextAngle\":0,\"fTextSize\":0,\"fTextAlign\":0,\"fTextColor\":0,\"fTextFont\":62,\"fLineColor\":1,\"fLineStyle\":1,\"fLineWidth\":1,\"fFillColor\":0,\"fFillStyle\":0,\"fMarkerColor\":1,\"fMarkerStyle\":20,\"fMarkerSize\":1,\"fObject\":{\"$ref\":22},\"fLabel\":\"Detector  data\",\"fOption\":\"ple\"},{\"_typename\":\"TLegendEntry\",\"fUniqueID\":0,\"fBits\":50331656,\"fTextAngle\":0,\"fTextSize\":0,\"fTextAlign\":0,\"fTextColor\":0,\"fTextFont\":62,\"fLineColor\":632,\"fLineStyle\":1,\"fLineWidth\":1,\"fFillColor\":0,\"fFillStyle\":0,\"fMarkerColor\":632,\"fMarkerStyle\":20,\"fMarkerSize\":1,\"fObject\":{\"$ref\":7},\"fLabel\":\"Det unfolded data\",\"fOption\":\"ple\"},{\"_typename\":\"TLegendEntry\",\"fUniqueID\":0,\"fBits\":50331656,\"fTextAngle\":0,\"fTextSize\":0,\"fTextAlign\":0,\"fTextColor\":0,\"fTextFont\":62,\"fLineColor\":600,\"fLineStyle\":1,\"fLineWidth\":1,\"fFillColor\":0,\"fFillStyle\":0,\"fMarkerColor\":600,\"fMarkerStyle\":20,\"fMarkerSize\":1,\"fObject\":{\"$ref\":12},\"fLabel\":\"Pre-FSR unfolded data\",\"fOption\":\"ple\"}],\"opt\":[\"ple\",\"ple\",\"ple\"]},\"fEntrySeparation\":0.1,\"fMargin\":0.25,\"fNColumns\":1,\"fColumnSeparation\":0}],\"opt\":[\"\",\"hist pe\",\"pe same\",\"pe same\",\"pe same\",\"\"]},\"fExecs\":{\"_typename\":\"TList\",\"name\":\"TList\",\"arr\":[],\"opt\":[]},\"fName\":\"pad_mass\",\"fTitle\":\"pad_mass\",\"fNumPaletteColor\":0,\"fNextPaletteColor\":0},{\"_typename\":\"TPad\",\"fUniqueID\":0,\"fBits\":50331657,\"fLineColor\":1,\"fLineStyle\":1,\"fLineWidth\":1,\"fFillColor\":0,\"fFillStyle\":1001,\"fLeftMargin\":0.1,\"fRightMargin\":0.1,\"fBottomMargin\":0.1,\"fTopMargin\":0.1,\"fXfile\":2,\"fYfile\":2,\"fAfile\":1,\"fXstat\":0.99,\"fYstat\":0.99,\"fAstat\":2,\"fFrameFillColor\":0,\"fFrameLineColor\":1,\"fFrameFillStyle\":1001,\"fFrameLineStyle\":1,\"fFrameLineWidth\":1,\"fFrameBorderSize\":1,\"fFrameBorderMode\":0,\"fX1\":1.00995890676983,\"fY1\":0.374999990686774,\"fX2\":2.67128233060576,\"fY2\":1.62500000931323,\"fXtoAbsPixelk\":-337.037142156473,\"fXtoPixelk\":-348.997141889146,\"fXtoPixel\":345.555833558962,\"fYtoAbsPixelk\":616.730448146146,\"fYtoPixelk\":218.618448095006,\"fYtoPixel\":-134.53439805665,\"fUtoAbsPixelk\":11.9600497326732,\"fUtoPixelk\":5e-5,\"fUtoPixel\":574.080000534654,\"fVtoAbsPixelk\":566.280050127852,\"fVtoPixelk\":168.168000076711,\"fVtoPixel\":-168.168000076711,\"fAbsPixeltoXk\":0.975348002912428,\"fPixeltoXk\":1.00995890676983,\"fPixeltoX\":0.0028938883470748,\"fAbsPixeltoYk\":4.58418372590817,\"fPixeltoYk\":0.374999990686774,\"fPixeltoY\":-0.0074330432546992,\"fXlowNDC\":0,\"fYlowNDC\":0,\"fXUpNDC\":0,\"fYUpNDC\":0,\"fWNDC\":1,\"fHNDC\":0.3,\"fAbsXlowNDC\":0.00999999977648258,\"fAbsYlowNDC\":0.00999999977648258,\"fAbsWNDC\":0.480000000447035,\"fAbsHNDC\":0.29400000013411,\"fUxmin\":1.17609125905568,\"fUymin\":0.5,\"fUxmax\":2.50514997831991,\"fUymax\":1.5,\"fTheta\":30,\"fPhi\":30,\"fAspectRatio\":0,\"fNumber\":0,\"fTickx\":0,\"fTicky\":0,\"fLogx\":1,\"fLogy\":0,\"fLogz\":0,\"fPadPaint\":0,\"fCrosshair\":0,\"fCrosshairPos\":0,\"fBorderSize\":2,\"fBorderMode\":0,\"fModified\":false,\"fGridx\":true,\"fGridy\":true,\"fAbsCoord\":false,\"fEditable\":true,\"fFixedAspectRatio\":false,\"fPrimitives\":{\"_typename\":\"TList\",\"name\":\"TList\",\"arr\":[{\"_typename\":\"TFrame\",\"fUniqueID\":0,\"fBits\":50331656,\"fLineColor\":1,\"fLineStyle\":1,\"fLineWidth\":1,\"fFillColor\":0,\"fFillStyle\":1001,\"fX1\":1.17609125905568,\"fY1\":0.5,\"fX2\":2.50514997831991,\"fY2\":1.5,\"fBorderSize\":1,\"fBorderMode\":0},{\"_typename\":\"TH1D\",\"fUniqueID\":0,\"fBits\":50332168,\"fName\":\"ratioMass_detector\",\"fTitle\":\"hMassData\",\"fLineColor\":1,\"fLineStyle\":1,\"fLineWidth\":1,\"fFillColor\":0,\"fFillStyle\":1001,\"fMarkerColor\":1,\"fMarkerStyle\":20,\"fMarkerSize\":1,\"fNcells\":36,\"fXaxis\":{\"_typename\":\"TAxis\",\"fUniqueID\":0,\"fBits\":50331648,\"fName\":\"xaxis\",\"fTitle\":\"mass\",\"fNdivisions\":510,\"fAxisColor\":1,\"fLabelColor\":1,\"fLabelFont\":42,\"fLabelOffset\":0.005,\"fLabelSize\":0.035,\"fTickLength\":0.03,\"fTitleOffset\":1,\"fTitleSize\":0.035,\"fTitleColor\":1,\"fTitleFont\":42,\"fNbins\":34,\"fXmin\":15,\"fXmax\":320,\"fXbins\":[15,20,25,30,35,40,45,50,55,60,64,68,72,76,81,86,91,96,101,106,110,115,120,126,133,141,150,160,171,185,200,220,243,273,320],\"fFirst\":0,\"fLast\":0,\"fBits2\":0,\"fTimeDisplay\":false,\"fTimeFormat\":\"\",\"fLabels\":null,\"fModLabs\":null},\"fYaxis\":{\"_typename\":\"TAxis\",\"fUniqueID\":0,\"fBits\":50331656,\"fName\":\"yaxis\",\"fTitle\":\"Data\\/ MC\",\"fNdivisions\":510,\"fAxisColor\":1,\"fLabelColor\":1,\"fLabelFont\":42,\"fLabelOffset\":0.005,\"fLabelSize\":0.035,\"fTickLength\":0.03,\"fTitleOffset\":0,\"fTitleSize\":0.035,\"fTitleColor\":1,\"fTitleFont\":42,\"fNbins\":1,\"fXmin\":0,\"fXmax\":1,\"fXbins\":[],\"fFirst\":0,\"fLast\":0,\"fBits2\":0,\"fTimeDisplay\":false,\"fTimeFormat\":\"\",\"fLabels\":null,\"fModLabs\":null},\"fZaxis\":{\"_typename\":\"TAxis\",\"fUniqueID\":0,\"fBits\":50331648,\"fName\":\"zaxis\",\"fTitle\":\"\",\"fNdivisions\":510,\"fAxisColor\":1,\"fLabelColor\":1,\"fLabelFont\":42,\"fLabelOffset\":0.005,\"fLabelSize\":0.035,\"fTickLength\":0.03,\"fTitleOffset\":1,\"fTitleSize\":0.035,\"fTitleColor\":1,\"fTitleFont\":42,\"fNbins\":1,\"fXmin\":0,\"fXmax\":1,\"fXbins\":[],\"fFirst\":0,\"fLast\":0,\"fBits2\":0,\"fTimeDisplay\":false,\"fTimeFormat\":\"\",\"fLabels\":null,\"fModLabs\":null},\"fBarOffset\":0,\"fBarWidth\":1000,\"fEntries\":0.00126081418729104,\"fTsumw\":17805.2344890002,\"fTsumw2\":251445754976.346,\"fTsumwx\":4530251.44891307,\"fTsumwx2\":1143835916.76532,\"fMaximum\":1.5,\"fMinimum\":0.5,\"fNormFactor\":0,\"fContour\":[],\"fSumw2\":[0,1.90952925220043e-4,2.24248657415578e-4,2.28891135673926e-4,1.48622542233287e-4,7.53684482023308e-5,4.11488873155177e-5,3.95653173494078e-5,2.0028569591078e-5,1.91108304607433e-5,2.26223557246061e-5,1.97525150221146e-5,1.47149382797933e-5,1.08941771900191e-5,5.15391889072397e-6,1.99393406016566e-6,3.26432994999732e-7,3.31165881241628e-7,3.12076482470848e-6,1.04851754717355e-5,2.49381731998251e-5,3.10910159479298e-5,5.20614794863848e-5,6.06938004526456e-5,7.97330488446991e-5,9.67652228661453e-5,1.16167805732453e-4,1.57499203858199e-4,2.56119441252046e-4,2.17762007299253e-4,4.54424127936928e-4,0.388654843967032,188182319.82422,250946032787.956,311539868.174561,0],\"fOption\":\"\",\"fFunctions\":{\"_typename\":\"TList\",\"name\":\"TList\",\"arr\":[],\"opt\":[]},\"fBufferSize\":0,\"fBuffer\":[],\"fBinStatErrOpt\":0,\"fStatOverflows\":2,\"fArray\":[0,1.36464386095227,1.3443976170397,1.3715404600129,1.37955315424871,1.21741706642983,1.05139702680336,1.03340272238215,1.06601369741304,1.05904091329356,1.03162121655439,1.001336289836,0.992406481866714,0.974220158068511,0.970997825223575,0.968596341723877,0.954066983985976,0.95444720094384,0.973838559831609,0.983165567634967,0.984508333280997,0.980865112477563,0.993302798697852,1.01169822692785,1.00008247737519,0.991080132520108,1.01331734665043,1.0257183733937,1.02656560200053,1.03369215352444,1.21017084846384,12.0438270681288,-4297.17462247501,26509.2857502798,-4450.88357042227,0]},{\"_typename\":\"TH1D\",\"fUniqueID\":0,\"fBits\":50332168,\"fName\":\"ratioMass_dressed\",\"fTitle\":\"hMassUnfoldedData\",\"fLineColor\":632,\"fLineStyle\":1,\"fLineWidth\":1,\"fFillColor\":0,\"fFillStyle\":1001,\"fMarkerColor\":632,\"fMarkerStyle\":20,\"fMarkerSize\":1,\"fNcells\":36,\"fXaxis\":{\"_typename\":\"TAxis\",\"fUniqueID\":0,\"fBits\":50331656,\"fName\":\"xaxis\",\"fTitle\":\"mass\",\"fNdivisions\":520,\"fAxisColor\":1,\"fLabelColor\":1,\"fLabelFont\":42,\"fLabelOffset\":0.005,\"fLabelSize\":0.035,\"fTickLength\":0.03,\"fTitleOffset\":1,\"fTitleSize\":0.035,\"fTitleColor\":1,\"fTitleFont\":42,\"fNbins\":34,\"fXmin\":15,\"fXmax\":320,\"fXbins\":[15,20,25,30,35,40,45,50,55,60,64,68,72,76,81,86,91,96,101,106,110,115,120,126,133,141,150,160,171,185,200,220,243,273,320],\"fFirst\":0,\"fLast\":0,\"fBits2\":0,\"fTimeDisplay\":false,\"fTimeFormat\":\"\",\"fLabels\":null,\"fModLabs\":null},\"fYaxis\":{\"_typename\":\"TAxis\",\"fUniqueID\":0,\"fBits\":50331656,\"fName\":\"yaxis\",\"fTitle\":\"Events\\/ bin\",\"fNdivisions\":10,\"fAxisColor\":1,\"fLabelColor\":1,\"fLabelFont\":42,\"fLabelOffset\":0.005,\"fLabelSize\":0.035,\"fTickLength\":0.03,\"fTitleOffset\":0,\"fTitleSize\":0.035,\"fTitleColor\":1,\"fTitleFont\":42,\"fNbins\":1,\"fXmin\":0,\"fXmax\":1,\"fXbins\":[],\"fFirst\":0,\"fLast\":0,\"fBits2\":0,\"fTimeDisplay\":false,\"fTimeFormat\":\"\",\"fLabels\":null,\"fModLabs\":null},\"fZaxis\":{\"_typename\":\"TAxis\",\"fUniqueID\":0,\"fBits\":50331648,\"fName\":\"zaxis\",\"fTitle\":\"\",\"fNdivisions\":510,\"fAxisColor\":1,\"fLabelColor\":1,\"fLabelFont\":42,\"fLabelOffset\":0.005,\"fLabelSize\":0.035,\"fTickLength\":0.03,\"fTitleOffset\":1,\"fTitleSize\":0.035,\"fTitleColor\":1,\"fTitleFont\":42,\"fNbins\":1,\"fXmin\":0,\"fXmax\":1,\"fXbins\":[],\"fFirst\":0,\"fLast\":0,\"fBits2\":0,\"fTimeDisplay\":false,\"fTimeFormat\":\"\",\"fLabels\":null,\"fModLabs\":null},\"fBarOffset\":0,\"fBarWidth\":1000,\"fEntries\":689335.382705954,\"fTsumw\":36.3497360186661,\"fTsumw2\":0.00191677859830725,\"fTsumwx\":3895.49760310851,\"fTsumwx2\":599534.594716083,\"fMaximum\":500000000,\"fMinimum\":1,\"fNormFactor\":0,\"fContour\":[],\"fSumw2\":[0,1.6186074691795e-5,2.51885235961908e-5,2.91759122828214e-5,1.96996472596269e-5,1.1674258331153e-5,7.32592513154759e-6,7.78622033522461e-6,9.28817703045922e-6,9.90974295016245e-6,1.44867789142731e-5,1.48051556685214e-5,1.06180981314568e-5,9.37113243707984e-6,4.2196161041861e-6,1.80474004580814e-6,2.31192077759507e-7,1.8836719495076e-7,2.41716469850057e-6,7.05380203748245e-6,1.98626560983609e-5,2.14781018599692e-5,4.14133790398775e-5,3.6770038710076e-5,5.49372734366687e-5,6.62224103257245e-5,5.85996735328069e-5,8.86517297302496e-5,1.94575817257019e-4,9.81130760616998e-5,1.37741284006574e-4,1.60400761733182e-4,2.17365908135604e-4,2.5371281284369e-4,2.65503146616751e-4,0],\"fOption\":\"\",\"fFunctions\":{\"_typename\":\"TList\",\"name\":\"TList\",\"arr\":[],\"opt\":[]},\"fBufferSize\":0,\"fBuffer\":[],\"fBinStatErrOpt\":0,\"fStatOverflows\":2,\"fArray\":[0,1.35590078481535,1.34408414901454,1.37212997468381,1.39009934305298,1.2254106389736,1.04663463754316,1.03182050831418,1.07299679301554,1.06877715195503,1.04308708504965,1.00937351333568,1.00887379542874,0.983676540204594,0.98174059035318,0.985599803984403,0.956334939341371,0.954981352550889,0.984893148736351,0.98548519051973,0.988609804498372,0.979113670590488,0.993938019794345,1.01908483187975,0.998911022258885,0.985000248331279,1.0139603407378,1.02374932005884,1.02048892821228,1.01246556296323,1.05737538110921,1.08850623073964,1.10907297303869,1.10521325176366,1.15234649181685,0]},{\"_typename\":\"TH1D\",\"fUniqueID\":0,\"fBits\":50331656,\"fName\":\"ratioMass_preFSR\",\"fTitle\":\"hMassUnfoldedData_\",\"fLineColor\":616,\"fLineStyle\":1,\"fLineWidth\":1,\"fFillColor\":0,\"fFillStyle\":1001,\"fMarkerColor\":616,\"fMarkerStyle\":22,\"fMarkerSize\":0.5,\"fNcells\":36,\"fXaxis\":{\"_typename\":\"TAxis\",\"fUniqueID\":0,\"fBits\":50331648,\"fName\":\"xaxis\",\"fTitle\":\"mass\",\"fNdivisions\":510,\"fAxisColor\":1,\"fLabelColor\":1,\"fLabelFont\":42,\"fLabelOffset\":0.005,\"fLabelSize\":0.035,\"fTickLength\":0.03,\"fTitleOffset\":1,\"fTitleSize\":0.035,\"fTitleColor\":1,\"fTitleFont\":42,\"fNbins\":34,\"fXmin\":15,\"fXmax\":320,\"fXbins\":[15,20,25,30,35,40,45,50,55,60,64,68,72,76,81,86,91,96,101,106,110,115,120,126,133,141,150,160,171,185,200,220,243,273,320],\"fFirst\":0,\"fLast\":0,\"fBits2\":0,\"fTimeDisplay\":false,\"fTimeFormat\":\"\",\"fLabels\":null,\"fModLabs\":null},\"fYaxis\":{\"_typename\":\"TAxis\",\"fUniqueID\":0,\"fBits\":50331648,\"fName\":\"yaxis\",\"fTitle\":\"\",\"fNdivisions\":510,\"fAxisColor\":1,\"fLabelColor\":1,\"fLabelFont\":42,\"fLabelOffset\":0.005,\"fLabelSize\":0.035,\"fTickLength\":0.03,\"fTitleOffset\":0,\"fTitleSize\":0.035,\"fTitleColor\":1,\"fTitleFont\":42,\"fNbins\":1,\"fXmin\":0,\"fXmax\":1,\"fXbins\":[],\"fFirst\":0,\"fLast\":0,\"fBits2\":0,\"fTimeDisplay\":false,\"fTimeFormat\":\"\",\"fLabels\":null,\"fModLabs\":null},\"fZaxis\":{\"_typename\":\"TAxis\",\"fUniqueID\":0,\"fBits\":50331648,\"fName\":\"zaxis\",\"fTitle\":\"\",\"fNdivisions\":510,\"fAxisColor\":1,\"fLabelColor\":1,\"fLabelFont\":42,\"fLabelOffset\":0.005,\"fLabelSize\":0.035,\"fTickLength\":0.03,\"fTitleOffset\":1,\"fTitleSize\":0.035,\"fTitleColor\":1,\"fTitleFont\":42,\"fNbins\":1,\"fXmin\":0,\"fXmax\":1,\"fXbins\":[],\"fFirst\":0,\"fLast\":0,\"fBits2\":0,\"fTimeDisplay\":false,\"fTimeFormat\":\"\",\"fLabels\":null,\"fModLabs\":null},\"fBarOffset\":0,\"fBarWidth\":1000,\"fEntries\":695910.444493685,\"fTsumw\":36.290585495214,\"fTsumw2\":0.00189249436620202,\"fTsumwx\":3893.49992805405,\"fTsumwx2\":599440.733188558,\"fMaximum\":-1111,\"fMinimum\":-1111,\"fNormFactor\":0,\"fContour\":[],\"fSumw2\":[0,1.36983599463387e-5,2.18138596914146e-5,2.35514259769036e-5,1.5110730381717e-5,8.68277079170691e-6,6.3964390718865e-6,7.36634782080306e-6,9.08918080727623e-6,9.79646922254857e-6,1.43377564577822e-5,1.46842482903309e-5,1.05287783976721e-5,9.29045027031759e-6,4.18447731203086e-6,1.793842736665e-6,2.30486286863019e-7,1.87595953538592e-7,2.40611483919206e-6,7.02939342671249e-6,1.98129106267247e-5,2.1407661994836e-5,4.13358287368694e-5,3.66202735821963e-5,5.47951415413944e-5,6.61521422832327e-5,5.85109085450879e-5,8.85735392696699e-5,1.94434475764298e-4,9.79728422682419e-5,1.37505294066864e-4,1.6009481223371e-4,2.16975683589716e-4,2.53230116789054e-4,2.64894007228421e-4,0],\"fOption\":\"\",\"fFunctions\":{\"_typename\":\"TList\",\"name\":\"TList\",\"arr\":[],\"opt\":[]},\"fBufferSize\":0,\"fBuffer\":[],\"fBinStatErrOpt\":0,\"fStatOverflows\":2,\"fArray\":[0,1.34843419310728,1.33719027110403,1.36020246708556,1.37358555481646,1.21517763608577,1.04534654218573,1.03154969532272,1.07247866095184,1.06840426227475,1.04278611249829,1.00901178782561,1.00858099264022,0.983142942121212,0.981205050517124,0.984937625332637,0.956163745514958,0.955025624379264,0.984874190057166,0.985427481268337,0.988545729908284,0.979009082705659,0.993888004808326,1.01875085278914,0.998958831350819,0.984995222838593,1.01398280703506,1.02374559976552,1.02048431225041,1.01246873231326,1.05735317169761,1.08843978490026,1.10904774913136,1.1051273017228,1.15226347690798,0]},{\"_typename\":\"TH1D\",\"fUniqueID\":0,\"fBits\":50331656,\"fName\":\"ratioMassMC_preFSR\",\"fTitle\":\"hMassUnfoldedMC_closure\",\"fLineColor\":616,\"fLineStyle\":1,\"fLineWidth\":1,\"fFillColor\":0,\"fFillStyle\":1001,\"fMarkerColor\":1,\"fMarkerStyle\":25,\"fMarkerSize\":1,\"fNcells\":36,\"fXaxis\":{\"_typename\":\"TAxis\",\"fUniqueID\":0,\"fBits\":50331648,\"fName\":\"xaxis\",\"fTitle\":\"mass\",\"fNdivisions\":510,\"fAxisColor\":1,\"fLabelColor\":1,\"fLabelFont\":42,\"fLabelOffset\":0.005,\"fLabelSize\":0.035,\"fTickLength\":0.03,\"fTitleOffset\":1,\"fTitleSize\":0.035,\"fTitleColor\":1,\"fTitleFont\":42,\"fNbins\":34,\"fXmin\":15,\"fXmax\":320,\"fXbins\":[15,20,25,30,35,40,45,50,55,60,64,68,72,76,81,86,91,96,101,106,110,115,120,126,133,141,150,160,171,185,200,220,243,273,320],\"fFirst\":0,\"fLast\":0,\"fBits2\":0,\"fTimeDisplay\":false,\"fTimeFormat\":\"\",\"fLabels\":null,\"fModLabs\":null},\"fYaxis\":{\"_typename\":\"TAxis\",\"fUniqueID\":0,\"fBits\":50331648,\"fName\":\"yaxis\",\"fTitle\":\"\",\"fNdivisions\":510,\"fAxisColor\":1,\"fLabelColor\":1,\"fLabelFont\":42,\"fLabelOffset\":0.005,\"fLabelSize\":0.035,\"fTickLength\":0.03,\"fTitleOffset\":0,\"fTitleSize\":0.035,\"fTitleColor\":1,\"fTitleFont\":42,\"fNbins\":1,\"fXmin\":0,\"fXmax\":1,\"fXbins\":[],\"fFirst\":0,\"fLast\":0,\"fBits2\":0,\"fTimeDisplay\":false,\"fTimeFormat\":\"\",\"fLabels\":null,\"fModLabs\":null},\"fZaxis\":{\"_typename\":\"TAxis\",\"fUniqueID\":0,\"fBits\":50331648,\"fName\":\"zaxis\",\"fTitle\":\"\",\"fNdivisions\":510,\"fAxisColor\":1,\"fLabelColor\":1,\"fLabelFont\":42,\"fLabelOffset\":0.005,\"fLabelSize\":0.035,\"fTickLength\":0.03,\"fTitleOffset\":1,\"fTitleSize\":0.035,\"fTitleColor\":1,\"fTitleFont\":42,\"fNbins\":1,\"fXmin\":0,\"fXmax\":1,\"fXbins\":[],\"fFirst\":0,\"fLast\":0,\"fBits2\":0,\"fTimeDisplay\":false,\"fTimeFormat\":\"\",\"fLabels\":null,\"fModLabs\":null},\"fBarOffset\":0,\"fBarWidth\":1000,\"fEntries\":362351.716902425,\"fTsumw\":30.0180488703176,\"fTsumw2\":0.0024867641464037,\"fTsumwx\":2715.97662311491,\"fTsumwx2\":311804.452664014,\"fMaximum\":-1111,\"fMinimum\":-1111,\"fNormFactor\":0,\"fContour\":[],\"fSumw2\":[0,1.03589887932564e-4,1.25012532175463e-4,1.26011397279026e-4,8.22721537723105e-5,5.53629125404613e-5,4.01563164013473e-5,4.15946113239462e-5,1.7179592323754e-5,1.7640393157675e-5,2.63286747669082e-5,2.70267640424507e-5,2.61588277905521e-5,2.20857788509192e-5,1.10507546152156e-5,5.01085944800499e-6,6.66311368405598e-7,5.4524142434589e-7,6.65134092972184e-6,1.89999057281506e-5,5.45811905396689e-5,6.01149896875859e-5,9.15714855694153e-5,9.87358918847771e-5,1.10938899382975e-4,1.2841869425606e-4,1.56355816037347e-4,1.99107265558744e-4,2.45571800860644e-4,2.47933807564412e-4,2.99189152027698e-4,3.79014292301198e-5,1.47666941339558e-6,9.48890663583895e-7,5.73907856056355e-7,0],\"fOption\":\"\",\"fFunctions\":{\"_typename\":\"TList\",\"name\":\"TList\",\"arr\":[],\"opt\":[]},\"fBufferSize\":0,\"fBuffer\":[],\"fBinStatErrOpt\":0,\"fStatOverflows\":2,\"fArray\":[0,1.00055327013942,1.00019242972159,1.00034125564243,1.00031539049801,1.00033981905969,1.00049336123455,1.00095744219681,1.00176347479958,1.00307482045443,1.00422631274557,1.00544474115768,1.00754086823573,1.00794688743066,1.00816799111944,1.00761158260186,1.00293501835843,1.00100589698055,1.00188320437988,1.00160851867319,1.0023952860141,1.00160420893591,1.00144853123087,1.00121001398071,0.999845402362752,0.999450184712903,0.999090918999555,0.998172922085218,0.997100149141226,0.994572205316306,0.969338919889989,-0.00299152132270021,2.85691164796526e-4,-2.37411747439458e-5,1.47413551209456e-4,0]},{\"_typename\":\"TH1D\",\"fUniqueID\":0,\"fBits\":50331656,\"fName\":\"ratioMass_preFSR_twoStep\",\"fTitle\":\"hMassFSRUnfoldedData\",\"fLineColor\":600,\"fLineStyle\":1,\"fLineWidth\":1,\"fFillColor\":0,\"fFillStyle\":1001,\"fMarkerColor\":600,\"fMarkerStyle\":20,\"fMarkerSize\":1,\"fNcells\":36,\"fXaxis\":{\"_typename\":\"TAxis\",\"fUniqueID\":0,\"fBits\":50331648,\"fName\":\"xaxis\",\"fTitle\":\"mass\",\"fNdivisions\":510,\"fAxisColor\":1,\"fLabelColor\":1,\"fLabelFont\":42,\"fLabelOffset\":0.005,\"fLabelSize\":0.035,\"fTickLength\":0.03,\"fTitleOffset\":1,\"fTitleSize\":0.035,\"fTitleColor\":1,\"fTitleFont\":42,\"fNbins\":34,\"fXmin\":15,\"fXmax\":320,\"fXbins\":[15,20,25,30,35,40,45,50,55,60,64,68,72,76,81,86,91,96,101,106,110,115,120,126,133,141,150,160,171,185,200,220,243,273,320],\"fFirst\":0,\"fLast\":0,\"fBits2\":0,\"fTimeDisplay\":false,\"fTimeFormat\":\"\",\"fLabels\":null,\"fModLabs\":null},\"fYaxis\":{\"_typename\":\"TAxis\",\"fUniqueID\":0,\"fBits\":50331648,\"fName\":\"yaxis\",\"fTitle\":\"\",\"fNdivisions\":510,\"fAxisColor\":1,\"fLabelColor\":1,\"fLabelFont\":42,\"fLabelOffset\":0.005,\"fLabelSize\":0.035,\"fTickLength\":0.03,\"fTitleOffset\":0,\"fTitleSize\":0.035,\"fTitleColor\":1,\"fTitleFont\":42,\"fNbins\":1,\"fXmin\":0,\"fXmax\":1,\"fXbins\":[],\"fFirst\":0,\"fLast\":0,\"fBits2\":0,\"fTimeDisplay\":false,\"fTimeFormat\":\"\",\"fLabels\":null,\"fModLabs\":null},\"fZaxis\":{\"_typename\":\"TAxis\",\"fUniqueID\":0,\"fBits\":50331648,\"fName\":\"zaxis\",\"fTitle\":\"\",\"fNdivisions\":510,\"fAxisColor\":1,\"fLabelColor\":1,\"fLabelFont\":42,\"fLabelOffset\":0.005,\"fLabelSize\":0.035,\"fTickLength\":0.03,\"fTitleOffset\":1,\"fTitleSize\":0.035,\"fTitleColor\":1,\"fTitleFont\":42,\"fNbins\":1,\"fXmin\":0,\"fXmax\":1,\"fXbins\":[],\"fFirst\":0,\"fLast\":0,\"fBits2\":0,\"fTimeDisplay\":false,\"fTimeFormat\":\"\",\"fLabels\":null,\"fModLabs\":null},\"fBarOffset\":0,\"fBarWidth\":1000,\"fEntries\":621746.153855224,\"fTsumw\":36.609849856052,\"fTsumw2\":0.00215567253319071,\"fTsumwx\":3915.5482589108,\"fTsumwx2\":602384.537262994,\"fMaximum\":-1111,\"fMinimum\":-1111,\"fNormFactor\":0,\"fContour\":[],\"fSumw2\":[0,1.69373775658903e-5,2.70902658168719e-5,3.24902865787499e-5,2.24075800642515e-5,1.34285417236702e-5,8.66504038418443e-6,9.99069097407726e-6,1.38504017711542e-5,1.75444728549628e-5,3.04078181691639e-5,3.56494765604714e-5,2.89355932813195e-5,2.68847883202365e-5,1.14023440979484e-5,3.79566883364221e-6,2.65869536691156e-7,1.90179398419722e-7,2.51307565843789e-6,7.5009209498791e-6,2.16232540003143e-5,2.34080423032542e-5,4.53443274811774e-5,4.03418642217768e-5,5.98318425095027e-5,7.22428885460681e-5,6.40370252461606e-5,9.72200331518682e-5,2.12579569377809e-4,1.05507232218473e-4,1.48617280771087e-4,1.72863480716813e-4,2.34128468806462e-4,2.69830093379701e-4,2.78146737920221e-4,0],\"fOption\":\"\",\"fFunctions\":{\"_typename\":\"TList\",\"name\":\"TList\",\"arr\":[],\"opt\":[]},\"fBufferSize\":0,\"fBuffer\":[],\"fBinStatErrOpt\":0,\"fStatOverflows\":2,\"fArray\":[0,1.3604299652251,1.3508950537783,1.38369645304075,1.40962850035501,1.24062564208051,1.05052586869851,1.03633320368076,1.0922891139948,1.09944601088776,1.07608286699521,1.03249090652605,1.03805515293144,0.997940530162083,0.994454016422586,0.99857751762442,0.95638247108221,0.954840472385305,0.984861600849165,0.985382152385346,0.988754135820369,0.978249658730749,0.993024613200288,1.019952517376,0.998981633978772,0.983534699853215,1.01345261004054,1.02370848992507,1.02024698874162,1.01048661148877,1.05614531824355,1.08805002588287,1.11015474538395,1.10672942402878,1.17544088425216,0]},{\"_typename\":\"TLine\",\"fUniqueID\":0,\"fBits\":50331656,\"fLineColor\":632,\"fLineStyle\":1,\"fLineWidth\":1,\"fX1\":15,\"fY1\":1,\"fX2\":320,\"fY2\":1}],\"opt\":[\"\",\"pe\",\"pe same\",\"pe same\",\"pe same\",\"pe same\",\"same\"]},\"fExecs\":{\"_typename\":\"TList\",\"name\":\"TList\",\"arr\":[],\"opt\":[]},\"fName\":\"ratio_mass\",\"fTitle\":\"raio_mass\",\"fNumPaletteColor\":0,\"fNextPaletteColor\":0},{\"_typename\":\"TLatex\",\"fUniqueID\":0,\"fBits\":50348041,\"fName\":\"\",\"fTitle\":\"\",\"fTextAngle\":0,\"fTextSize\":0.09,\"fTextAlign\":31,\"fTextColor\":1,\"fTextFont\":132,\"fX\":0.899999998509884,\"fY\":0.909999998658895,\"fLineColor\":1,\"fLineStyle\":1,\"fLineWidth\":2,\"fLimitFactorSize\":3,\"fOriginSize\":0.04},{\"_typename\":\"TLatex\",\"fUniqueID\":0,\"fBits\":50348041,\"fName\":\"\",\"fTitle\":\"CMS\",\"fTextAngle\":0,\"fTextSize\":0.095,\"fTextAlign\":13,\"fTextColor\":1,\"fTextFont\":131,\"fX\":0.136000001356006,\"fY\":0.86327999862805,\"fLineColor\":1,\"fLineStyle\":1,\"fLineWidth\":2,\"fLimitFactorSize\":3,\"fOriginSize\":0.04},{\"_typename\":\"TLatex\",\"fUniqueID\":0,\"fBits\":50348041,\"fName\":\"\",\"fTitle\":\"Work in progress\",\"fTextAngle\":0,\"fTextSize\":0.0722,\"fTextAlign\":13,\"fTextColor\":1,\"fTextFont\":52,\"fX\":0.136000001356006,\"fY\":0.749279996929318,\"fLineColor\":1,\"fLineStyle\":1,\"fLineWidth\":2,\"fLimitFactorSize\":3,\"fOriginSize\":0.0722000002861023}],\"opt\":[\"\",\"\",\"\",\"\",\"\"]},\"fExecs\":{\"_typename\":\"TList\",\"name\":\"TList\",\"arr\":[],\"opt\":[]},\"fName\":\"c_1\",\"fTitle\":\"c_1\",\"fNumPaletteColor\":0,\"fNextPaletteColor\":0},{\"_typename\":\"TPad\",\"fUniqueID\":0,\"fBits\":50331657,\"fLineColor\":1,\"fLineStyle\":1,\"fLineWidth\":1,\"fFillColor\":0,\"fFillStyle\":1001,\"fLeftMargin\":0.1,\"fRightMargin\":0.1,\"fBottomMargin\":0.1,\"fTopMargin\":0.1,\"fXfile\":2,\"fYfile\":2,\"fAfile\":1,\"fXstat\":0.99,\"fYstat\":0.99,\"fAstat\":2,\"fFrameFillColor\":0,\"fFrameLineColor\":1,\"fFrameFillStyle\":1001,\"fFrameLineStyle\":1,\"fFrameLineWidth\":1,\"fFrameBorderSize\":1,\"fFrameBorderMode\":0,\"fX1\":0,\"fY1\":0,\"fX2\":1,\"fY2\":1,\"fXtoAbsPixelk\":609.960049732673,\"fXtoPixelk\":5e-5,\"fXtoPixel\":574.080000534654,\"fYtoAbsPixelk\":566.280050127852,\"fYtoPixelk\":560.560050255704,\"fYtoPixel\":-560.560000255704,\"fUtoAbsPixelk\":609.960049732673,\"fUtoPixelk\":5e-5,\"fUtoPixel\":574.080000534654,\"fVtoAbsPixelk\":566.280050127852,\"fVtoPixelk\":560.560000255704,\"fVtoPixel\":-560.560000255704,\"fAbsPixeltoXk\":-1.06249999854481,\"fPixeltoXk\":0,\"fPixeltoX\":0.00174191750116478,\"fAbsPixeltoYk\":1.01020408139992,\"fPixeltoYk\":0,\"fPixeltoY\":-0.00178393035454517,\"fXlowNDC\":0.509999999776483,\"fYlowNDC\":0.00999999977648258,\"fXUpNDC\":0,\"fYUpNDC\":0,\"fWNDC\":0.480000000447035,\"fHNDC\":0.980000000447035,\"fAbsXlowNDC\":0.509999999776483,\"fAbsYlowNDC\":0.00999999977648258,\"fAbsWNDC\":0.480000000447035,\"fAbsHNDC\":0.980000000447035,\"fUxmin\":0,\"fUymin\":0,\"fUxmax\":1,\"fUymax\":1,\"fTheta\":30,\"fPhi\":30,\"fAspectRatio\":0,\"fNumber\":2,\"fTickx\":0,\"fTicky\":0,\"fLogx\":0,\"fLogy\":0,\"fLogz\":0,\"fPadPaint\":0,\"fCrosshair\":0,\"fCrosshairPos\":0,\"fBorderSize\":2,\"fBorderMode\":0,\"fModified\":false,\"fGridx\":false,\"fGridy\":false,\"fAbsCoord\":false,\"fEditable\":true,\"fFixedAspectRatio\":false,\"fPrimitives\":{\"_typename\":\"TList\",\"name\":\"TList\",\"arr\":[{\"_typename\":\"TPad\",\"fUniqueID\":0,\"fBits\":50331657,\"fLineColor\":1,\"fLineStyle\":1,\"fLineWidth\":1,\"fFillColor\":0,\"fFillStyle\":1001,\"fLeftMargin\":0.1,\"fRightMargin\":0.1,\"fBottomMargin\":0.1,\"fTopMargin\":0.1,\"fXfile\":2,\"fYfile\":2,\"fAfile\":1,\"fXstat\":0.99,\"fYstat\":0.99,\"fAstat\":2,\"fFrameFillColor\":0,\"fFrameLineColor\":1,\"fFrameFillStyle\":1001,\"fFrameLineStyle\":1,\"fFrameLineWidth\":1,\"fFrameBorderSize\":1,\"fFrameBorderMode\":0,\"fX1\":-6.25000050291422,\"fY1\":-1.08737133155748,\"fX2\":61.2500005029142,\"fY2\":9.7863413358935,\"fXtoAbsPixelk\":663.115608822884,\"fXtoPixelk\":53.1556090902105,\"fXtoPixel\":8.50488877007696,\"fYtoAbsPixelk\":358.872847694403,\"fYtoPixelk\":353.152847822255,\"fYtoPixel\":-36.0862947347842,\"fUtoAbsPixelk\":609.960049732673,\"fUtoPixelk\":5e-5,\"fUtoPixel\":574.080000534654,\"fVtoAbsPixelk\":398.112050051141,\"fVtoPixelk\":392.392000178993,\"fVtoPixel\":-392.392000178993,\"fAbsPixeltoXk\":-77.9687514733815,\"fPixeltoXk\":-6.25000050291422,\"fPixeltoX\":0.117579433080693,\"fAbsPixeltoYk\":9.94485026329065,\"fPixeltoYk\":-1.08737133155748,\"fPixeltoY\":-0.0277113515629545,\"fXlowNDC\":0,\"fYlowNDC\":0.3,\"fXUpNDC\":0,\"fYUpNDC\":0,\"fWNDC\":1,\"fHNDC\":0.7,\"fAbsXlowNDC\":0.509999999776483,\"fAbsYlowNDC\":0.303999999910593,\"fAbsWNDC\":0.480000000447035,\"fAbsHNDC\":0.686000000312924,\"fUxmin\":0.5,\"fUymin\":0,\"fUxmax\":54.5,\"fUymax\":8.69897000433602,\"fTheta\":30,\"fPhi\":30,\"fAspectRatio\":0,\"fNumber\":0,\"fTickx\":0,\"fTicky\":0,\"fLogx\":0,\"fLogy\":1,\"fLogz\":0,\"fPadPaint\":0,\"fCrosshair\":0,\"fCrosshairPos\":0,\"fBorderSize\":2,\"fBorderMode\":0,\"fModified\":false,\"fGridx\":false,\"fGridy\":true,\"fAbsCoord\":false,\"fEditable\":true,\"fFixedAspectRatio\":false,\"fPrimitives\":{\"_typename\":\"TList\",\"name\":\"TList\",\"arr\":[{\"_typename\":\"TFrame\",\"fUniqueID\":0,\"fBits\":50331656,\"fLineColor\":1,\"fLineStyle\":1,\"fLineWidth\":1,\"fFillColor\":0,\"fFillStyle\":1001,\"fX1\":0.5,\"fY1\":0,\"fX2\":54.5,\"fY2\":8.69897000433602,\"fBorderSize\":1,\"fBorderMode\":0},{\"_typename\":\"TH1D\",\"fUniqueID\":0,\"fBits\":50332168,\"fName\":\"hPtUnfoldedData\",\"fTitle\":\"hPtUnfoldedData\",\"fLineColor\":632,\"fLineStyle\":1,\"fLineWidth\":1,\"fFillColor\":0,\"fFillStyle\":1001,\"fMarkerColor\":632,\"fMarkerStyle\":20,\"fMarkerSize\":1,\"fNcells\":56,\"fXaxis\":{\"_typename\":\"TAxis\",\"fUniqueID\":0,\"fBits\":50331656,\"fName\":\"xaxis\",\"fTitle\":\"Gen_Pt\",\"fNdivisions\":520,\"fAxisColor\":1,\"fLabelColor\":1,\"fLabelFont\":42,\"fLabelOffset\":0.005,\"fLabelSize\":0.035,\"fTickLength\":0.03,\"fTitleOffset\":1,\"fTitleSize\":0.035,\"fTitleColor\":1,\"fTitleFont\":42,\"fNbins\":54,\"fXmin\":0.5,\"fXmax\":54.5,\"fXbins\":[],\"fFirst\":0,\"fLast\":0,\"fBits2\":0,\"fTimeDisplay\":false,\"fTimeFormat\":\"\",\"fLabels\":null,\"fModLabs\":null},\"fYaxis\":{\"_typename\":\"TAxis\",\"fUniqueID\":0,\"fBits\":50331656,\"fName\":\"yaxis\",\"fTitle\":\"Events\\/ bin\",\"fNdivisions\":10,\"fAxisColor\":1,\"fLabelColor\":1,\"fLabelFont\":42,\"fLabelOffset\":0.005,\"fLabelSize\":0.035,\"fTickLength\":0.03,\"fTitleOffset\":0,\"fTitleSize\":0.035,\"fTitleColor\":1,\"fTitleFont\":42,\"fNbins\":1,\"fXmin\":0,\"fXmax\":1,\"fXbins\":[],\"fFirst\":0,\"fLast\":0,\"fBits2\":0,\"fTimeDisplay\":false,\"fTimeFormat\":\"\",\"fLabels\":null,\"fModLabs\":null},\"fZaxis\":{\"_typename\":\"TAxis\",\"fUniqueID\":0,\"fBits\":50331648,\"fName\":\"zaxis\",\"fTitle\":\"\",\"fNdivisions\":510,\"fAxisColor\":1,\"fLabelColor\":1,\"fLabelFont\":42,\"fLabelOffset\":0.005,\"fLabelSize\":0.035,\"fTickLength\":0.03,\"fTitleOffset\":1,\"fTitleSize\":0.035,\"fTitleColor\":1,\"fTitleFont\":42,\"fNbins\":1,\"fXmin\":0,\"fXmax\":1,\"fXbins\":[],\"fFirst\":0,\"fLast\":0,\"fBits2\":0,\"fTimeDisplay\":false,\"fTimeFormat\":\"\",\"fLabels\":null,\"fModLabs\":null},\"fBarOffset\":0,\"fBarWidth\":1000,\"fEntries\":110,\"fTsumw\":0,\"fTsumw2\":0,\"fTsumwx\":0,\"fTsumwx2\":0,\"fMaximum\":500000000,\"fMinimum\":1,\"fNormFactor\":0,\"fContour\":[],\"fSumw2\":[0,307204.628319172,729655.590359053,1037676.66564439,1129256.68320556,1098362.94097949,1707172.18396945,1011169.58203017,312186.73383772,131722.940570506,710568.958859105,1076529.56189494,946740.490542089,1104362.39389447,1323481.0872018,1112615.75657504,674062.791167162,179080.138953402,69707.7359319478,551260.217408907,1038078.77822814,1114615.32865196,1310026.21946408,1410980.31608832,1078971.22775289,634439.759936499,324707.96385299,139066.988652948,7353235.54798871,11635750.5711725,9241377.04120195,8634020.29142267,7971447.17542093,5421837.86615427,3871418.45059656,2575215.24560822,1495082.03502135,333136.88139211,554236.299961466,455814.449615703,425266.093978029,452912.504907687,345567.32736982,286368.552616377,249853.077033408,134333.552418418,20067.205127769,43707.9076405783,38105.9354332592,29961.3979832412,24919.3728842025,18480.198016935,14578.1669907157,13003.0399124856,10402.893410215,0],\"fOption\":\"\",\"fFunctions\":{\"_typename\":\"TList\",\"name\":\"TList\",\"arr\":[],\"opt\":[]},\"fBufferSize\":0,\"fBuffer\":[],\"fBinStatErrOpt\":0,\"fStatOverflows\":2,\"fArray\":[0,16006.3514667433,106081.667745211,218001.477813518,271332.399155545,320488.224168475,415130.375924523,279035.734983737,137804.86477749,63249.6088118727,265836.324846517,379892.650315154,311011.038453388,326968.109981085,334445.885580859,204721.963032653,99166.1824495305,50288.8205552515,23995.7555618318,249377.781204011,377471.426110311,350108.137415256,412853.227367631,414752.986363736,233230.693693187,140325.819510504,84701.5975873772,43612.0071057012,4170378.50111352,5947801.32639742,4647553.31353091,4817139.73183678,4762488.55702271,3130412.36253193,2115253.22431339,1418895.46859072,809802.754873943,153123.953524741,220552.282620829,179718.029291052,192521.69247648,198782.698284503,136278.815191236,95626.392194376,69331.5203701062,42455.8340565133,4895.46511413533,7177.09569865659,5988.41312809802,6999.31733575783,8716.02297247909,6316.08170040811,4726.90177438399,4177.58801563362,3025.26978258088,0]},{\"_typename\":\"TH1D\",\"fUniqueID\":0,\"fBits\":50331656,\"fName\":\"hPtFSRUnfoldedData\",\"fTitle\":\"hPtFSRUnfoldedData\",\"fLineColor\":600,\"fLineStyle\":1,\"fLineWidth\":1,\"fFillColor\":0,\"fFillStyle\":1001,\"fMarkerColor\":600,\"fMarkerStyle\":20,\"fMarkerSize\":1,\"fNcells\":56,\"fXaxis\":{\"_typename\":\"TAxis\",\"fUniqueID\":0,\"fBits\":50331648,\"fName\":\"xaxis\",\"fTitle\":\"Gen_Pt\",\"fNdivisions\":510,\"fAxisColor\":1,\"fLabelColor\":1,\"fLabelFont\":42,\"fLabelOffset\":0.005,\"fLabelSize\":0.035,\"fTickLength\":0.03,\"fTitleOffset\":1,\"fTitleSize\":0.035,\"fTitleColor\":1,\"fTitleFont\":42,\"fNbins\":54,\"fXmin\":0.5,\"fXmax\":54.5,\"fXbins\":[],\"fFirst\":0,\"fLast\":0,\"fBits2\":0,\"fTimeDisplay\":false,\"fTimeFormat\":\"\",\"fLabels\":null,\"fModLabs\":null},\"fYaxis\":{\"_typename\":\"TAxis\",\"fUniqueID\":0,\"fBits\":50331648,\"fName\":\"yaxis\",\"fTitle\":\"\",\"fNdivisions\":510,\"fAxisColor\":1,\"fLabelColor\":1,\"fLabelFont\":42,\"fLabelOffset\":0.005,\"fLabelSize\":0.035,\"fTickLength\":0.03,\"fTitleOffset\":0,\"fTitleSize\":0.035,\"fTitleColor\":1,\"fTitleFont\":42,\"fNbins\":1,\"fXmin\":0,\"fXmax\":1,\"fXbins\":[],\"fFirst\":0,\"fLast\":0,\"fBits2\":0,\"fTimeDisplay\":false,\"fTimeFormat\":\"\",\"fLabels\":null,\"fModLabs\":null},\"fZaxis\":{\"_typename\":\"TAxis\",\"fUniqueID\":0,\"fBits\":50331648,\"fName\":\"zaxis\",\"fTitle\":\"\",\"fNdivisions\":510,\"fAxisColor\":1,\"fLabelColor\":1,\"fLabelFont\":42,\"fLabelOffset\":0.005,\"fLabelSize\":0.035,\"fTickLength\":0.03,\"fTitleOffset\":1,\"fTitleSize\":0.035,\"fTitleColor\":1,\"fTitleFont\":42,\"fNbins\":1,\"fXmin\":0,\"fXmax\":1,\"fXbins\":[],\"fFirst\":0,\"fLast\":0,\"fBits2\":0,\"fTimeDisplay\":false,\"fTimeFormat\":\"\",\"fLabels\":null,\"fModLabs\":null},\"fBarOffset\":0,\"fBarWidth\":1000,\"fEntries\":110,\"fTsumw\":0,\"fTsumw2\":0,\"fTsumwx\":0,\"fTsumwx2\":0,\"fMaximum\":-1111,\"fMinimum\":-1111,\"fNormFactor\":0,\"fContour\":[],\"fSumw2\":[0,1069949150642.19,40807400368.0614,4065823735.16632,1497220898.24599,412293256.630455,51701680.4870601,10538750.9561306,2000713.23731745,567766.710239009,19418019.9393747,17919521.3662732,10892222.3283844,10277643.3927134,10229798.5205421,7336601.82593769,3734082.12418032,930733.098241228,299176.802766358,5267367.30596037,8005012.52165182,7340363.10289704,7805987.15397591,7539769.20974585,5058345.9012212,2585813.15539541,1181187.74015474,445574.595607211,52015480.766964,70964856.7096867,50505148.3489157,43316425.9357043,36713749.3564684,22516081.9350465,14341443.8151859,8383756.99624549,4277155.67528934,2156028.99496408,3165887.43629968,2383724.77570721,2078968.39991805,2068160.76449674,1425144.77278657,1080399.2533679,835348.180777952,389723.58540257,94434.981168526,186331.342139285,152724.843289499,116518.399570522,94175.448680532,66013.592369092,47994.8596912612,38960.0218768896,28521.1812358541,0],\"fOption\":\"\",\"fFunctions\":{\"_typename\":\"TList\",\"name\":\"TList\",\"arr\":[],\"opt\":[]},\"fBufferSize\":0,\"fBuffer\":[],\"fBinStatErrOpt\":0,\"fStatOverflows\":2,\"fArray\":[0,27703926.8435939,23930941.9862124,13044221.2894374,9486669.19600645,5968518.53053151,2189996.47496081,867856.890830233,339977.467771724,128687.153788873,1356435.02626621,1484367.60666669,984900.226518133,890399.031444381,717011.533574049,358050.107704335,185677.169974946,97575.0048949234,43250.1149991726,681254.418057469,817528.196495526,586685.830088954,557957.939591672,500195.887787027,294483.274458437,177541.371686535,104948.237627775,52546.8274810731,10877668.0948037,14256263.9495031,10493212.7368198,10510147.9790795,10051816.6912805,6292415.3772739,4024400.70686442,2536594.72259037,1359448.94307238,383827.819070004,514271.084763981,398765.129726513,413744.149539388,415152.616010661,271110.282126259,182141.467535279,124940.91985404,71411.7729950179,10395.2956479755,14286.1908582195,11409.8252688334,13128.7719150775,16254.3340803569,11414.5097481715,8192.17289784428,7017.20083211756,4904.67798251682,0]},{\"_typename\":\"TH1D\",\"fUniqueID\":0,\"fBits\":50331656,\"fName\":\"hPtUnfoldedData_\",\"fTitle\":\"hPtUnfoldedData_\",\"fLineColor\":616,\"fLineStyle\":1,\"fLineWidth\":1,\"fFillColor\":0,\"fFillStyle\":1001,\"fMarkerColor\":616,\"fMarkerStyle\":22,\"fMarkerSize\":0.8,\"fNcells\":56,\"fXaxis\":{\"_typename\":\"TAxis\",\"fUniqueID\":0,\"fBits\":50331648,\"fName\":\"xaxis\",\"fTitle\":\"Gen_Pt\",\"fNdivisions\":510,\"fAxisColor\":1,\"fLabelColor\":1,\"fLabelFont\":42,\"fLabelOffset\":0.005,\"fLabelSize\":0.035,\"fTickLength\":0.03,\"fTitleOffset\":1,\"fTitleSize\":0.035,\"fTitleColor\":1,\"fTitleFont\":42,\"fNbins\":54,\"fXmin\":0.5,\"fXmax\":54.5,\"fXbins\":[],\"fFirst\":0,\"fLast\":0,\"fBits2\":0,\"fTimeDisplay\":false,\"fTimeFormat\":\"\",\"fLabels\":null,\"fModLabs\":null},\"fYaxis\":{\"_typename\":\"TAxis\",\"fUniqueID\":0,\"fBits\":50331648,\"fName\":\"yaxis\",\"fTitle\":\"\",\"fNdivisions\":510,\"fAxisColor\":1,\"fLabelColor\":1,\"fLabelFont\":42,\"fLabelOffset\":0.005,\"fLabelSize\":0.035,\"fTickLength\":0.03,\"fTitleOffset\":0,\"fTitleSize\":0.035,\"fTitleColor\":1,\"fTitleFont\":42,\"fNbins\":1,\"fXmin\":0,\"fXmax\":1,\"fXbins\":[],\"fFirst\":0,\"fLast\":0,\"fBits2\":0,\"fTimeDisplay\":false,\"fTimeFormat\":\"\",\"fLabels\":null,\"fModLabs\":null},\"fZaxis\":{\"_typename\":\"TAxis\",\"fUniqueID\":0,\"fBits\":50331648,\"fName\":\"zaxis\",\"fTitle\":\"\",\"fNdivisions\":510,\"fAxisColor\":1,\"fLabelColor\":1,\"fLabelFont\":42,\"fLabelOffset\":0.005,\"fLabelSize\":0.035,\"fTickLength\":0.03,\"fTitleOffset\":1,\"fTitleSize\":0.035,\"fTitleColor\":1,\"fTitleFont\":42,\"fNbins\":1,\"fXmin\":0,\"fXmax\":1,\"fXbins\":[],\"fFirst\":0,\"fLast\":0,\"fBits2\":0,\"fTimeDisplay\":false,\"fTimeFormat\":\"\",\"fLabels\":null,\"fModLabs\":null},\"fBarOffset\":0,\"fBarWidth\":1000,\"fEntries\":110,\"fTsumw\":0,\"fTsumw2\":0,\"fTsumwx\":0,\"fTsumwx2\":0,\"fMaximum\":-1111,\"fMinimum\":-1111,\"fNormFactor\":0,\"fContour\":[],\"fSumw2\":[0,163454930715.646,15402291861.9776,2298512204.68866,1031945126.44687,293555377.816599,45538824.2867455,10881780.0922408,1981023.35780381,564793.063149984,14187900.227716,14483685.3110513,9423663.0080233,9316661.11736,9221458.35753441,6696184.67635254,3614394.92079435,922797.456311143,306069.696700874,4794467.77124461,7477611.37737464,6713119.75440479,6954506.71309325,6582766.02610541,4480600.71888895,2312683.13433134,1057831.06925527,402658.528921098,45409527.7847849,61938516.4942766,43958630.5620617,38348140.4021336,32996437.6523024,20281058.3015815,12955416.9962748,7611849.01311592,3891105.42422114,1817564.58882044,2675176.03258192,2001135.85596373,1777878.81288842,1789297.71175457,1242571.16010933,948597.376961948,737077.933361313,347364.309931723,78339.6872824552,155694.162144374,127584.66143321,98866.1453089083,81565.7641999418,57430.6017359528,41725.2903305427,34650.2777368076,25626.7335555276,0],\"fOption\":\"\",\"fFunctions\":{\"_typename\":\"TList\",\"name\":\"TList\",\"arr\":[],\"opt\":[]},\"fBufferSize\":0,\"fBuffer\":[],\"fBinStatErrOpt\":0,\"fStatOverflows\":2,\"fArray\":[0,31577302.7607822,23572994.9996295,12560748.9648123,9201728.91990408,5850288.00990965,2278450.0295018,925222.390007732,350224.657191993,131936.484670397,1322656.49204237,1474003.45680675,1006976.20512704,964318.15410463,892747.320168997,507596.429555072,231644.039096646,114835.081366541,50527.0722431418,740192.27630871,1017726.82233784,862513.541834324,954387.504620169,898655.07189856,476902.625995692,268846.260556499,153281.806856557,74748.1698993968,10395744.2361077,13757654.9979915,10154265.4219994,10166896.0842394,9703627.7823935,6067760.03380935,3875929.80356061,2443418.84613609,1308761.42795139,358465.658872765,485400.050779237,377261.592345756,394016.527838301,395778.005105972,258721.06716474,174226.536738929,119197.371055661,68330.8573295015,9672.43104404595,13547.1694241788,10960.5447694953,12713.9809651941,15769.8085722991,11155.3174237727,8019.83975276442,6835.94447752023,4754.32674110197,0]},{\"_typename\":\"TH1D\",\"fUniqueID\":0,\"fBits\":50331656,\"fName\":\"hPtData\",\"fTitle\":\"hPtData\",\"fLineColor\":1,\"fLineStyle\":1,\"fLineWidth\":1,\"fFillColor\":0,\"fFillStyle\":1001,\"fMarkerColor\":1,\"fMarkerStyle\":20,\"fMarkerSize\":1,\"fNcells\":56,\"fXaxis\":{\"_typename\":\"TAxis\",\"fUniqueID\":0,\"fBits\":50331648,\"fName\":\"xaxis\",\"fTitle\":\"Rec_Pt\",\"fNdivisions\":510,\"fAxisColor\":1,\"fLabelColor\":1,\"fLabelFont\":42,\"fLabelOffset\":0.005,\"fLabelSize\":0.035,\"fTickLength\":0.03,\"fTitleOffset\":1,\"fTitleSize\":0.035,\"fTitleColor\":1,\"fTitleFont\":42,\"fNbins\":54,\"fXmin\":0.5,\"fXmax\":54.5,\"fXbins\":[],\"fFirst\":0,\"fLast\":0,\"fBits2\":0,\"fTimeDisplay\":false,\"fTimeFormat\":\"\",\"fLabels\":null,\"fModLabs\":null},\"fYaxis\":{\"_typename\":\"TAxis\",\"fUniqueID\":0,\"fBits\":50331648,\"fName\":\"yaxis\",\"fTitle\":\"\",\"fNdivisions\":510,\"fAxisColor\":1,\"fLabelColor\":1,\"fLabelFont\":42,\"fLabelOffset\":0.005,\"fLabelSize\":0.035,\"fTickLength\":0.03,\"fTitleOffset\":0,\"fTitleSize\":0.035,\"fTitleColor\":1,\"fTitleFont\":42,\"fNbins\":1,\"fXmin\":0,\"fXmax\":1,\"fXbins\":[],\"fFirst\":0,\"fLast\":0,\"fBits2\":0,\"fTimeDisplay\":false,\"fTimeFormat\":\"\",\"fLabels\":null,\"fModLabs\":null},\"fZaxis\":{\"_typename\":\"TAxis\",\"fUniqueID\":0,\"fBits\":50331648,\"fName\":\"zaxis\",\"fTitle\":\"\",\"fNdivisions\":510,\"fAxisColor\":1,\"fLabelColor\":1,\"fLabelFont\":42,\"fLabelOffset\":0.005,\"fLabelSize\":0.035,\"fTickLength\":0.03,\"fTitleOffset\":1,\"fTitleSize\":0.035,\"fTitleColor\":1,\"fTitleFont\":42,\"fNbins\":1,\"fXmin\":0,\"fXmax\":1,\"fXbins\":[],\"fFirst\":0,\"fLast\":0,\"fBits2\":0,\"fTimeDisplay\":false,\"fTimeFormat\":\"\",\"fLabels\":null,\"fModLabs\":null},\"fBarOffset\":0,\"fBarWidth\":1000,\"fEntries\":110,\"fTsumw\":0,\"fTsumw2\":0,\"fTsumwx\":0,\"fTsumwx2\":0,\"fMaximum\":-1111,\"fMinimum\":-1111,\"fNormFactor\":0,\"fContour\":[],\"fSumw2\":[0,45651.6347107502,136835.090879271,192109.860545672,233415.332729385,253467.477947571,436684.557073037,293074.007297069,102689.404926544,42553.1665978955,238690.80721789,323872.745876273,263632.057394675,295365.74564281,333196.346516417,272094.835542711,182665.492335913,54510.243225382,21175.1664806968,203632.321066629,323162.677596828,289694.740227176,335645.171669024,362441.183497533,282351.134345041,165625.640766748,84343.7692805864,36173.3422886796,3139572.58161292,4535816.91736803,3501614.30495196,3576084.68184231,3460856.29769519,2237811.92945296,1522821.04215386,975308.400351949,552112.559599947,116893.002580143,177117.806961152,143652.850667813,154996.528676224,180757.337831366,135005.199438307,108398.892845857,91009.6350601062,47816.9934062812,3141.88605091151,5531.80504779711,5168.19655830491,6306.87237763942,7791.81272262933,6288.43258531773,5296.22798727323,4890.08171170336,3734.03605867727,0],\"fOption\":\"\",\"fFunctions\":{\"_typename\":\"TList\",\"name\":\"TList\",\"arr\":[],\"opt\":[]},\"fBufferSize\":0,\"fBuffer\":[],\"fBinStatErrOpt\":0,\"fStatOverflows\":2,\"fArray\":[0,9013.80315329358,54199.2517260805,104934.985448573,133824.857400731,162586.365918124,221133.606580097,159319.75543306,84475.572841341,38375.5791606262,169950.505553833,236360.310528723,187366.033493949,190737.04456306,189376.191951422,115203.363829495,57785.2344263847,30875.9321883102,14735.0946598016,190378.694446155,294253.001499252,266447.137907097,308937.185711604,298749.599929898,164636.683346797,98009.2713577481,58871.7140412378,30499.4922375581,3122896.14156144,4513334.9361309,3479618.17813099,3561709.59027652,3432490.0445571,2185764.97816033,1433875.20987926,938402.411006705,530548.483309329,116125.040578718,175750.877710699,142104.361946912,152578.466298182,154205.858170204,103182.654799607,70853.2348922887,49316.735142101,30202.9299130966,3110.04513543988,5408.57588495652,5002.97291606087,5972.48050609239,7037.96098134281,5105.80414686592,3801.70356775774,3102.44482438193,2164.32621164519,0]},{\"_typename\":\"TLegend\",\"fUniqueID\":0,\"fBits\":50331656,\"fLineColor\":1,\"fLineStyle\":1,\"fLineWidth\":1,\"fFillColor\":0,\"fFillStyle\":1001,\"fX1\":41.0000002011657,\"fY1\":6.52422753565821,\"fX2\":54.5000004023314,\"fY2\":8.6989700691484,\"fX1NDC\":0.7,\"fY1NDC\":0.7,\"fX2NDC\":0.9,\"fY2NDC\":0.9,\"fBorderSize\":4,\"fInit\":1,\"fShadowColor\":1,\"fCornerRadius\":0,\"fOption\":\"brNDC\",\"fName\":\"TPave\",\"fTextAngle\":0,\"fTextSize\":0,\"fTextAlign\":12,\"fTextColor\":1,\"fTextFont\":62,\"fPrimitives\":{\"_typename\":\"TList\",\"name\":\"TList\",\"arr\":[{\"_typename\":\"TLegendEntry\",\"fUniqueID\":0,\"fBits\":50331656,\"fTextAngle\":0,\"fTextSize\":0,\"fTextAlign\":0,\"fTextColor\":0,\"fTextFont\":62,\"fLineColor\":1,\"fLineStyle\":1,\"fLineWidth\":1,\"fFillColor\":0,\"fFillStyle\":0,\"fMarkerColor\":1,\"fMarkerStyle\":20,\"fMarkerSize\":1,\"fObject\":{\"$ref\":87},\"fLabel\":\"Detector  data\",\"fOption\":\"ple\"},{\"_typename\":\"TLegendEntry\",\"fUniqueID\":0,\"fBits\":50331656,\"fTextAngle\":0,\"fTextSize\":0,\"fTextAlign\":0,\"fTextColor\":0,\"fTextFont\":62,\"fLineColor\":632,\"fLineStyle\":1,\"fLineWidth\":1,\"fFillColor\":0,\"fFillStyle\":0,\"fMarkerColor\":632,\"fMarkerStyle\":20,\"fMarkerSize\":1,\"fObject\":{\"$ref\":72},\"fLabel\":\"Det unfolded data\",\"fOption\":\"ple\"},{\"_typename\":\"TLegendEntry\",\"fUniqueID\":0,\"fBits\":50331656,\"fTextAngle\":0,\"fTextSize\":0,\"fTextAlign\":0,\"fTextColor\":0,\"fTextFont\":62,\"fLineColor\":600,\"fLineStyle\":1,\"fLineWidth\":1,\"fFillColor\":0,\"fFillStyle\":0,\"fMarkerColor\":600,\"fMarkerStyle\":20,\"fMarkerSize\":1,\"fObject\":{\"$ref\":77},\"fLabel\":\"Pre-FSR unfolded data\",\"fOption\":\"ple\"}],\"opt\":[\"ple\",\"ple\",\"ple\"]},\"fEntrySeparation\":0.1,\"fMargin\":0.25,\"fNColumns\":1,\"fColumnSeparation\":0}],\"opt\":[\"\",\"hist pe\",\"pe same\",\"pe same\",\"pe same\",\"\"]},\"fExecs\":{\"_typename\":\"TList\",\"name\":\"TList\",\"arr\":[],\"opt\":[]},\"fName\":\"pad_pt\",\"fTitle\":\"pad_pt\",\"fNumPaletteColor\":0,\"fNextPaletteColor\":0},{\"_typename\":\"TPad\",\"fUniqueID\":0,\"fBits\":50331657,\"fLineColor\":1,\"fLineStyle\":1,\"fLineWidth\":1,\"fFillColor\":0,\"fFillStyle\":1001,\"fLeftMargin\":0.1,\"fRightMargin\":0.1,\"fBottomMargin\":0.1,\"fTopMargin\":0.1,\"fXfile\":2,\"fYfile\":2,\"fAfile\":1,\"fXstat\":0.99,\"fYstat\":0.99,\"fAstat\":2,\"fFrameFillColor\":0,\"fFrameLineColor\":1,\"fFrameFillStyle\":1001,\"fFrameLineStyle\":1,\"fFrameLineWidth\":1,\"fFrameBorderSize\":1,\"fFrameBorderMode\":0,\"fX1\":-6.25000050291422,\"fY1\":0.374999990686774,\"fX2\":61.2500005029142,\"fY2\":1.62500000931323,\"fXtoAbsPixelk\":663.115608822884,\"fXtoPixelk\":53.1556090902105,\"fXtoPixel\":8.50488877007696,\"fYtoAbsPixelk\":616.730448146146,\"fYtoPixelk\":218.618448095006,\"fYtoPixel\":-134.53439805665,\"fUtoAbsPixelk\":609.960049732673,\"fUtoPixelk\":5e-5,\"fUtoPixel\":574.080000534654,\"fVtoAbsPixelk\":566.280050127852,\"fVtoPixelk\":168.168000076711,\"fVtoPixel\":-168.168000076711,\"fAbsPixeltoXk\":-77.9687514733815,\"fPixeltoXk\":-6.25000050291422,\"fPixeltoX\":0.117579433080693,\"fAbsPixeltoYk\":4.58418372590817,\"fPixeltoYk\":0.374999990686774,\"fPixeltoY\":-0.0074330432546992,\"fXlowNDC\":0,\"fYlowNDC\":0,\"fXUpNDC\":0,\"fYUpNDC\":0,\"fWNDC\":1,\"fHNDC\":0.3,\"fAbsXlowNDC\":0.509999999776483,\"fAbsYlowNDC\":0.00999999977648258,\"fAbsWNDC\":0.480000000447035,\"fAbsHNDC\":0.29400000013411,\"fUxmin\":0.5,\"fUymin\":0.5,\"fUxmax\":54.5,\"fUymax\":1.5,\"fTheta\":30,\"fPhi\":30,\"fAspectRatio\":0,\"fNumber\":0,\"fTickx\":0,\"fTicky\":0,\"fLogx\":0,\"fLogy\":0,\"fLogz\":0,\"fPadPaint\":0,\"fCrosshair\":0,\"fCrosshairPos\":0,\"fBorderSize\":2,\"fBorderMode\":0,\"fModified\":false,\"fGridx\":true,\"fGridy\":true,\"fAbsCoord\":false,\"fEditable\":true,\"fFixedAspectRatio\":false,\"fPrimitives\":{\"_typename\":\"TList\",\"name\":\"TList\",\"arr\":[{\"_typename\":\"TFrame\",\"fUniqueID\":0,\"fBits\":50331656,\"fLineColor\":1,\"fLineStyle\":1,\"fLineWidth\":1,\"fFillColor\":0,\"fFillStyle\":1001,\"fX1\":0.5,\"fY1\":0.5,\"fX2\":54.5,\"fY2\":1.5,\"fBorderSize\":1,\"fBorderMode\":0},{\"_typename\":\"TH1D\",\"fUniqueID\":0,\"fBits\":50332168,\"fName\":\"ratioPt_detector\",\"fTitle\":\"hPtData\",\"fLineColor\":1,\"fLineStyle\":1,\"fLineWidth\":1,\"fFillColor\":0,\"fFillStyle\":1001,\"fMarkerColor\":1,\"fMarkerStyle\":20,\"fMarkerSize\":1,\"fNcells\":56,\"fXaxis\":{\"_typename\":\"TAxis\",\"fUniqueID\":0,\"fBits\":50331648,\"fName\":\"xaxis\",\"fTitle\":\"Rec_Pt\",\"fNdivisions\":510,\"fAxisColor\":1,\"fLabelColor\":1,\"fLabelFont\":42,\"fLabelOffset\":0.005,\"fLabelSize\":0.035,\"fTickLength\":0.03,\"fTitleOffset\":1,\"fTitleSize\":0.035,\"fTitleColor\":1,\"fTitleFont\":42,\"fNbins\":54,\"fXmin\":0.5,\"fXmax\":54.5,\"fXbins\":[],\"fFirst\":0,\"fLast\":0,\"fBits2\":0,\"fTimeDisplay\":false,\"fTimeFormat\":\"\",\"fLabels\":null,\"fModLabs\":null},\"fYaxis\":{\"_typename\":\"TAxis\",\"fUniqueID\":0,\"fBits\":50331648,\"fName\":\"yaxis\",\"fTitle\":\"\",\"fNdivisions\":510,\"fAxisColor\":1,\"fLabelColor\":1,\"fLabelFont\":42,\"fLabelOffset\":0.005,\"fLabelSize\":0.035,\"fTickLength\":0.03,\"fTitleOffset\":0,\"fTitleSize\":0.035,\"fTitleColor\":1,\"fTitleFont\":42,\"fNbins\":1,\"fXmin\":0,\"fXmax\":1,\"fXbins\":[],\"fFirst\":0,\"fLast\":0,\"fBits2\":0,\"fTimeDisplay\":false,\"fTimeFormat\":\"\",\"fLabels\":null,\"fModLabs\":null},\"fZaxis\":{\"_typename\":\"TAxis\",\"fUniqueID\":0,\"fBits\":50331648,\"fName\":\"zaxis\",\"fTitle\":\"\",\"fNdivisions\":510,\"fAxisColor\":1,\"fLabelColor\":1,\"fLabelFont\":42,\"fLabelOffset\":0.005,\"fLabelSize\":0.035,\"fTickLength\":0.03,\"fTitleOffset\":1,\"fTitleSize\":0.035,\"fTitleColor\":1,\"fTitleFont\":42,\"fNbins\":1,\"fXmin\":0,\"fXmax\":1,\"fXbins\":[],\"fFirst\":0,\"fLast\":0,\"fBits2\":0,\"fTimeDisplay\":false,\"fTimeFormat\":\"\",\"fLabels\":null,\"fModLabs\":null},\"fBarOffset\":0,\"fBarWidth\":1000,\"fEntries\":151.507506866785,\"fTsumw\":385.603088139608,\"fTsumw2\":981.401810760046,\"fTsumwx\":18056.3242200685,\"fTsumwx2\":889166.26819529,\"fMaximum\":1.5,\"fMinimum\":0.5,\"fNormFactor\":0,\"fContour\":[],\"fSumw2\":[0,7.05563230842607e-4,2.78247692444035e-4,2.91740578935724e-4,2.67131419168199e-4,2.16823821996248e-4,1.33893450227472e-4,1.77962284859811e-4,2.97415618580628e-4,6.37639448230973e-4,2.33369630980663e-5,3.43237175398327e-5,7.62937105828167e-5,8.2441923130852e-5,6.60821835895987e-5,9.26591345359456e-5,2.35927263140023e-4,4.39697000778541e-4,9.62187715889892e-4,1.02639608765188e-5,1.02940075776088e-5,1.44317314460289e-5,1.28313980982422e-5,1.47966302217765e-5,3.28412562288822e-5,5.62889827645796e-5,9.68915096495702e-5,1.92252667868826e-4,4.70899354246983e-7,5.63113716690619e-7,1.12798993397568e-6,1.24127974068369e-6,1.30090312617808e-6,2.01701189504723e-6,3.20970535889343e-6,5.21641377683294e-6,9.53641132685132e-6,1.44132753644774e-5,1.51699208838716e-5,2.83151971138831e-5,3.07274211861915e-5,3.37740612342572e-5,5.2328282902638e-5,7.96870395313797e-5,1.31900452858095e-4,2.11135612025565e-4,37.8699047338235,18.1084434900786,10.2170421128621,12.6472592643958,25.5196209252763,20.7897917553358,28.0409721281078,482.661004234655,345.541689721218,0],\"fOption\":\"\",\"fFunctions\":{\"_typename\":\"TList\",\"name\":\"TList\",\"arr\":[],\"opt\":[]},\"fBufferSize\":0,\"fBuffer\":[],\"fBinStatErrOpt\":0,\"fStatOverflows\":2,\"fArray\":[0,0.650413968985458,0.990398595950949,1.32110883843239,1.41813297800472,1.42322939274334,1.34150739677149,1.33677906665013,1.29450640782248,1.2843029469968,0.749081018104989,0.970466713049669,1.19216677692737,1.24638878422277,1.189480043066,1.10531564956662,1.12995170235265,1.16718549198893,1.19742845607681,0.817417831203784,0.953622604965891,1.03606233757419,1.0387209373712,1.04150062686445,1.01293447595386,0.978821264081576,0.983850055230975,0.997095737669923,0.745139729818119,0.908126243972353,1.05446047826772,1.08818731337247,1.05766332600561,0.979945888777582,0.949091569412241,0.953737289121744,0.956494623893411,0.785985947160915,0.928132831684494,1.06941917336872,1.11193994259981,1.09950303565953,1.0239513527791,0.982331419264886,0.996916159053523,0.998129568913974,37.9032633956109,35.7938079253436,27.8941507652698,32.0424744467459,40.7313730410109,30.8942757073535,29.6071858787844,54.9929729830617,48.1865580046722,0]},{\"_typename\":\"TH1D\",\"fUniqueID\":0,\"fBits\":50332168,\"fName\":\"ratioPt_dressed\",\"fTitle\":\"hPtUnfoldedData\",\"fLineColor\":632,\"fLineStyle\":1,\"fLineWidth\":1,\"fFillColor\":0,\"fFillStyle\":1001,\"fMarkerColor\":632,\"fMarkerStyle\":20,\"fMarkerSize\":1,\"fNcells\":56,\"fXaxis\":{\"_typename\":\"TAxis\",\"fUniqueID\":0,\"fBits\":50331656,\"fName\":\"xaxis\",\"fTitle\":\"Gen_Pt\",\"fNdivisions\":520,\"fAxisColor\":1,\"fLabelColor\":1,\"fLabelFont\":42,\"fLabelOffset\":0.005,\"fLabelSize\":0.035,\"fTickLength\":0.03,\"fTitleOffset\":1,\"fTitleSize\":0.035,\"fTitleColor\":1,\"fTitleFont\":42,\"fNbins\":54,\"fXmin\":0.5,\"fXmax\":54.5,\"fXbins\":[],\"fFirst\":0,\"fLast\":0,\"fBits2\":0,\"fTimeDisplay\":false,\"fTimeFormat\":\"\",\"fLabels\":null,\"fModLabs\":null},\"fYaxis\":{\"_typename\":\"TAxis\",\"fUniqueID\":0,\"fBits\":50331656,\"fName\":\"yaxis\",\"fTitle\":\"Events\\/ bin\",\"fNdivisions\":10,\"fAxisColor\":1,\"fLabelColor\":1,\"fLabelFont\":42,\"fLabelOffset\":0.005,\"fLabelSize\":0.035,\"fTickLength\":0.03,\"fTitleOffset\":0,\"fTitleSize\":0.035,\"fTitleColor\":1,\"fTitleFont\":42,\"fNbins\":1,\"fXmin\":0,\"fXmax\":1,\"fXbins\":[],\"fFirst\":0,\"fLast\":0,\"fBits2\":0,\"fTimeDisplay\":false,\"fTimeFormat\":\"\",\"fLabels\":null,\"fModLabs\":null},\"fZaxis\":{\"_typename\":\"TAxis\",\"fUniqueID\":0,\"fBits\":50331648,\"fName\":\"zaxis\",\"fTitle\":\"\",\"fNdivisions\":510,\"fAxisColor\":1,\"fLabelColor\":1,\"fLabelFont\":42,\"fLabelOffset\":0.005,\"fLabelSize\":0.035,\"fTickLength\":0.03,\"fTitleOffset\":1,\"fTitleSize\":0.035,\"fTitleColor\":1,\"fTitleFont\":42,\"fNbins\":1,\"fXmin\":0,\"fXmax\":1,\"fXbins\":[],\"fFirst\":0,\"fLast\":0,\"fBits2\":0,\"fTimeDisplay\":false,\"fTimeFormat\":\"\",\"fLabels\":null,\"fModLabs\":null},\"fBarOffset\":0,\"fBarWidth\":1000,\"fEntries\":346202.367564068,\"fTsumw\":57.7929529806956,\"fTsumw2\":0.00964760997369777,\"fTsumwx\":1558.5356299324,\"fTsumwx2\":56650.5599906835,\"fMaximum\":500000000,\"fMinimum\":1,\"fNormFactor\":0,\"fContour\":[],\"fSumw2\":[0,4.19691589646679e-4,6.31515674045191e-5,3.91311637332681e-5,3.12570720807146e-5,2.18845202292648e-5,1.77596638222469e-5,2.317755612657e-5,2.75085561271831e-5,5.46687814076257e-5,5.46284856012571e-6,7.13024016992231e-6,1.42796825487293e-5,1.63712459268243e-5,1.72569750346451e-5,3.29870194757543e-5,8.85793873455442e-5,9.8546801809917e-5,1.783474457969e-4,5.75806927292093e-6,6.91834544503272e-6,1.06461857838847e-5,8.78462168014515e-6,9.22558781454354e-6,2.08807588021001e-5,3.16067990044895e-5,4.5179366353122e-5,7.55490141877663e-5,2.24947775556832e-7,2.80051084651166e-7,4.92858275816125e-7,4.45557166231728e-7,3.95490693026223e-7,5.30885395629673e-7,7.80467574359144e-7,1.16857039504208e-6,2.09638133181358e-6,8.39383389945675e-6,1.01535556900403e-5,1.69627951876027e-5,1.44293875069902e-5,1.3969808877277e-5,1.93879013026191e-5,2.99357267039365e-5,5.15757462217574e-5,7.3889332627727e-5,7.83967130357017e-4,9.53062650309031e-4,0.00133338226046043,8.08424059180006e-4,5.06728060288954e-4,6.1120356852982e-4,7.01177160481969e-4,9.26691921948021e-4,0.00140611899884255,0],\"fOption\":\"\",\"fFunctions\":{\"_typename\":\"TList\",\"name\":\"TList\",\"arr\":[],\"opt\":[]},\"fBufferSize\":0,\"fBuffer\":[],\"fBinStatErrOpt\":0,\"fStatOverflows\":2,\"fArray\":[0,0.591621032186242,0.986900681188001,1.33872013089649,1.42751101257888,1.43056519974336,1.33894648693072,1.33592367850479,1.29357384252829,1.28853681646274,0.737090458124529,0.977687337875085,1.20786835673596,1.25889775304319,1.20767290634702,1.11471378720624,1.13678871494911,1.17969300951756,1.21374481476453,0.805968137757447,0.974473531136258,1.08202356610232,1.06909727205985,1.06053759329866,1.02601547352051,0.990450210141867,0.99911435631369,1.01650249691302,0.729419023210835,0.922736885514181,1.07328994898451,1.09429503372105,1.06079995553396,0.9795546621485,0.949740023367643,0.955808908807077,0.958918903686868,0.76862049613704,0.944002514552129,1.09634265809902,1.12143276348929,1.10399385954766,1.02076885851007,0.977709896933653,0.99611879127189,0.995717177286328,0.967607981705549,1.05981351609427,1.12019279914183,1.14972576074523,1.24290315074588,1.14864908113722,1.03666634134467,1.11524644985285,1.11223888230003,0]},{\"_typename\":\"TH1D\",\"fUniqueID\":0,\"fBits\":50331656,\"fName\":\"ratioPt_preFSR\",\"fTitle\":\"hPtUnfoldedData_\",\"fLineColor\":616,\"fLineStyle\":1,\"fLineWidth\":1,\"fFillColor\":0,\"fFillStyle\":1001,\"fMarkerColor\":616,\"fMarkerStyle\":22,\"fMarkerSize\":0.8,\"fNcells\":56,\"fXaxis\":{\"_typename\":\"TAxis\",\"fUniqueID\":0,\"fBits\":50331648,\"fName\":\"xaxis\",\"fTitle\":\"Gen_Pt\",\"fNdivisions\":510,\"fAxisColor\":1,\"fLabelColor\":1,\"fLabelFont\":42,\"fLabelOffset\":0.005,\"fLabelSize\":0.035,\"fTickLength\":0.03,\"fTitleOffset\":1,\"fTitleSize\":0.035,\"fTitleColor\":1,\"fTitleFont\":42,\"fNbins\":54,\"fXmin\":0.5,\"fXmax\":54.5,\"fXbins\":[],\"fFirst\":0,\"fLast\":0,\"fBits2\":0,\"fTimeDisplay\":false,\"fTimeFormat\":\"\",\"fLabels\":null,\"fModLabs\":null},\"fYaxis\":{\"_typename\":\"TAxis\",\"fUniqueID\":0,\"fBits\":50331648,\"fName\":\"yaxis\",\"fTitle\":\"\",\"fNdivisions\":510,\"fAxisColor\":1,\"fLabelColor\":1,\"fLabelFont\":42,\"fLabelOffset\":0.005,\"fLabelSize\":0.035,\"fTickLength\":0.03,\"fTitleOffset\":0,\"fTitleSize\":0.035,\"fTitleColor\":1,\"fTitleFont\":42,\"fNbins\":1,\"fXmin\":0,\"fXmax\":1,\"fXbins\":[],\"fFirst\":0,\"fLast\":0,\"fBits2\":0,\"fTimeDisplay\":false,\"fTimeFormat\":\"\",\"fLabels\":null,\"fModLabs\":null},\"fZaxis\":{\"_typename\":\"TAxis\",\"fUniqueID\":0,\"fBits\":50331648,\"fName\":\"zaxis\",\"fTitle\":\"\",\"fNdivisions\":510,\"fAxisColor\":1,\"fLabelColor\":1,\"fLabelFont\":42,\"fLabelOffset\":0.005,\"fLabelSize\":0.035,\"fTickLength\":0.03,\"fTitleOffset\":1,\"fTitleSize\":0.035,\"fTitleColor\":1,\"fTitleFont\":42,\"fNbins\":1,\"fXmin\":0,\"fXmax\":1,\"fXbins\":[],\"fFirst\":0,\"fLast\":0,\"fBits2\":0,\"fTimeDisplay\":false,\"fTimeFormat\":\"\",\"fLabels\":null,\"fModLabs\":null},\"fBarOffset\":0,\"fBarWidth\":1000,\"fEntries\":362964.498654252,\"fTsumw\":57.8194823294488,\"fTsumw2\":0.00921052210130875,\"fTsumwx\":1558.15681395129,\"fTsumwx2\":56642.874227204,\"fMaximum\":-1111,\"fMinimum\":-1111,\"fNormFactor\":0,\"fContour\":[],\"fSumw2\":[0,7.59516388731657e-5,2.72588933072699e-5,2.53808995700322e-5,2.4282154679038e-5,1.71872112492555e-5,1.55441038201483e-5,2.26442799484257e-5,2.69980020476575e-5,5.38350029343541e-5,4.45789450793986e-6,6.3775052435075e-6,1.35289416041902e-5,1.58430704481992e-5,1.68523889737429e-5,3.22420990951017e-5,8.69741251759328e-5,9.72820547341205e-5,1.7652782966102e-4,5.68809573060534e-6,6.84877945726039e-6,1.05457673044076e-5,8.71381768549028e-6,9.15711999915659e-6,2.07246596269384e-5,3.13425585849237e-5,4.49178271199628e-5,7.44125019009123e-5,2.23672853310459e-7,2.78595417375391e-7,4.90923602909965e-7,4.44100263703977e-7,3.94217621053936e-7,5.28435860782262e-7,7.77772133763429e-7,1.16452458941673e-6,2.08863702883062e-6,8.35999751848367e-6,1.01188738193931e-5,1.68969585998711e-5,1.43997336809525e-5,1.39182579525277e-5,1.93387187939864e-5,2.98647003052585e-5,5.14591730927722e-5,7.37483024863717e-5,7.8397489700994e-4,9.52936688752839e-4,0.00133210093760132,8.0829814283242e-4,5.06728386896691e-4,6.08813696297998e-4,6.97191445831704e-4,9.21708152346714e-4,0.00140275493483561,0],\"fOption\":\"\",\"fFunctions\":{\"_typename\":\"TList\",\"name\":\"TList\",\"arr\":[],\"opt\":[]},\"fBufferSize\":0,\"fBuffer\":[],\"fBinStatErrOpt\":0,\"fStatOverflows\":2,\"fArray\":[0,0.68068251198001,0.991690606733608,1.31991399679534,1.41151254840429,1.41558168153105,1.33116363622976,1.33467467243527,1.29290833048335,1.28810896256359,0.741400540992899,0.978102511514963,1.20653866998518,1.25750543295118,1.20686720983391,1.11382382020064,1.13631401161044,1.17906502127999,1.21344629048741,0.806227849168513,0.973994189454015,1.08104262235146,1.06830636004009,1.05990825086362,1.02566443130343,0.989721846455646,0.998830560289249,1.01614355304914,0.729606563519797,0.922679770643924,1.07308318703772,1.09409931418781,1.06064150523558,0.979443145834603,0.949678037336324,0.955712284460249,0.958860602391822,0.768786421798627,0.944038541362956,1.09624740078194,1.12134846366307,1.10383152315869,1.02066919712992,0.977580262676692,0.995958801278924,0.995635301269636,0.967599875560264,1.05985004315745,1.11995732500096,1.14959150656131,1.24296838889245,1.14855674425631,1.03667358331052,1.11491531465037,1.11232910530284,0]},{\"_typename\":\"TH1D\",\"fUniqueID\":0,\"fBits\":50331656,\"fName\":\"ratioPt_preFSR_twoStep\",\"fTitle\":\"hPtFSRUnfoldedData\",\"fLineColor\":600,\"fLineStyle\":1,\"fLineWidth\":1,\"fFillColor\":0,\"fFillStyle\":1001,\"fMarkerColor\":600,\"fMarkerStyle\":20,\"fMarkerSize\":1,\"fNcells\":56,\"fXaxis\":{\"_typename\":\"TAxis\",\"fUniqueID\":0,\"fBits\":50331648,\"fName\":\"xaxis\",\"fTitle\":\"Gen_Pt\",\"fNdivisions\":510,\"fAxisColor\":1,\"fLabelColor\":1,\"fLabelFont\":42,\"fLabelOffset\":0.005,\"fLabelSize\":0.035,\"fTickLength\":0.03,\"fTitleOffset\":1,\"fTitleSize\":0.035,\"fTitleColor\":1,\"fTitleFont\":42,\"fNbins\":54,\"fXmin\":0.5,\"fXmax\":54.5,\"fXbins\":[],\"fFirst\":0,\"fLast\":0,\"fBits2\":0,\"fTimeDisplay\":false,\"fTimeFormat\":\"\",\"fLabels\":null,\"fModLabs\":null},\"fYaxis\":{\"_typename\":\"TAxis\",\"fUniqueID\":0,\"fBits\":50331648,\"fName\":\"yaxis\",\"fTitle\":\"\",\"fNdivisions\":510,\"fAxisColor\":1,\"fLabelColor\":1,\"fLabelFont\":42,\"fLabelOffset\":0.005,\"fLabelSize\":0.035,\"fTickLength\":0.03,\"fTitleOffset\":0,\"fTitleSize\":0.035,\"fTitleColor\":1,\"fTitleFont\":42,\"fNbins\":1,\"fXmin\":0,\"fXmax\":1,\"fXbins\":[],\"fFirst\":0,\"fLast\":0,\"fBits2\":0,\"fTimeDisplay\":false,\"fTimeFormat\":\"\",\"fLabels\":null,\"fModLabs\":null},\"fZaxis\":{\"_typename\":\"TAxis\",\"fUniqueID\":0,\"fBits\":50331648,\"fName\":\"zaxis\",\"fTitle\":\"\",\"fNdivisions\":510,\"fAxisColor\":1,\"fLabelColor\":1,\"fLabelFont\":42,\"fLabelOffset\":0.005,\"fLabelSize\":0.035,\"fTickLength\":0.03,\"fTitleOffset\":1,\"fTitleSize\":0.035,\"fTitleColor\":1,\"fTitleFont\":42,\"fNbins\":1,\"fXmin\":0,\"fXmax\":1,\"fXbins\":[],\"fFirst\":0,\"fLast\":0,\"fBits2\":0,\"fTimeDisplay\":false,\"fTimeFormat\":\"\",\"fLabels\":null,\"fModLabs\":null},\"fBarOffset\":0,\"fBarWidth\":1000,\"fEntries\":311508.033516267,\"fTsumw\":58.6947891347413,\"fTsumw2\":0.011059356102904,\"fTsumwx\":1576.79374703926,\"fTsumwx2\":57112.8441817522,\"fMaximum\":-1111,\"fMinimum\":-1111,\"fNormFactor\":0,\"fContour\":[],\"fSumw2\":[0,4.68335106265423e-4,6.97687460669524e-5,4.37846483048393e-5,3.44948787568716e-5,2.42205433737103e-5,1.98156783434229e-5,2.55204979733148e-5,2.93362323890788e-5,5.75608909374121e-5,5.67042931149608e-6,7.81493344331662e-6,1.68376111299657e-5,2.17812673579081e-5,3.40464549868555e-5,8.22075860419799e-5,1.50026484951286e-4,1.46973784365862e-4,2.54397757760424e-4,7.11852383988564e-6,1.17639128977054e-5,3.01863995046318e-5,3.53453157480438e-5,3.8244857993976e-5,6.27890488701548e-5,8.31309620387889e-5,1.12268382310089e-4,1.777664437242e-4,2.31942848863645e-7,2.9890248440181e-7,5.329185741281e-7,4.7060282916429e-7,4.09142028792633e-7,5.45367717947274e-7,7.9839399441996e-7,1.19017831762455e-6,2.12830705646133e-6,8.59452869771648e-6,1.06927934106867e-5,1.81512322315213e-5,1.53402688172177e-5,1.46632039013381e-5,2.0186717846172e-5,3.1068731330104e-5,5.3058019243412e-5,7.57272946942739e-5,8.15978878407147e-4,0.00102930615103679,0.00148310674816032,9.00686463261395e-4,5.61295194136492e-4,6.78968377670615e-4,7.75369994884176e-4,0.00100564627582477,0.00150370209481044,0],\"fOption\":\"\",\"fFunctions\":{\"_typename\":\"TList\",\"name\":\"TList\",\"arr\":[],\"opt\":[]},\"fBufferSize\":0,\"fBuffer\":[],\"fBinStatErrOpt\":0,\"fStatOverflows\":2,\"fArray\":[0,0.579613002354458,0.989511368697671,1.3536451052804,1.43995237357171,1.44662302020244,1.3557997767879,1.35051097380638,1.30184680234753,1.29572842667565,0.7330008779061,0.98025915563695,1.22454352484598,1.29622227245224,1.30806266715452,1.19853930740651,1.17692975444766,1.22615660231217,1.26118834254808,0.791967758931872,0.991054716500435,1.18974115570515,1.18728089257115,1.12654259475103,1.0375244111483,1.00665905365798,1.02316203511786,1.04956945194488,0.726373494568291,0.925228122725837,1.07788165569692,1.09549346170613,1.06112668902888,0.979299847933233,0.949540317111592,0.95573559447467,0.95896446650997,0.766337685199721,0.945126542564944,1.10037870101578,1.12389155200161,1.10542700099532,1.02035043331854,0.97673883033294,0.995741137999101,0.995445968832066,0.966295272919502,1.06180746862466,1.12437286239498,1.15428663150374,1.25486207652072,1.15761822027341,1.04125294274877,1.12739715616111,1.12617957681588,0]},{\"_typename\":\"TH1D\",\"fUniqueID\":0,\"fBits\":50331656,\"fName\":\"ratioPtMC_preFSR\",\"fTitle\":\"hPtUnfoldedMC_closure\",\"fLineColor\":602,\"fLineStyle\":1,\"fLineWidth\":1,\"fFillColor\":0,\"fFillStyle\":1001,\"fMarkerColor\":1,\"fMarkerStyle\":25,\"fMarkerSize\":1,\"fNcells\":56,\"fXaxis\":{\"_typename\":\"TAxis\",\"fUniqueID\":0,\"fBits\":50331648,\"fName\":\"xaxis\",\"fTitle\":\"Gen_Pt\",\"fNdivisions\":510,\"fAxisColor\":1,\"fLabelColor\":1,\"fLabelFont\":42,\"fLabelOffset\":0.005,\"fLabelSize\":0.035,\"fTickLength\":0.03,\"fTitleOffset\":1,\"fTitleSize\":0.035,\"fTitleColor\":1,\"fTitleFont\":42,\"fNbins\":54,\"fXmin\":0.5,\"fXmax\":54.5,\"fXbins\":[],\"fFirst\":0,\"fLast\":0,\"fBits2\":0,\"fTimeDisplay\":false,\"fTimeFormat\":\"\",\"fLabels\":null,\"fModLabs\":null},\"fYaxis\":{\"_typename\":\"TAxis\",\"fUniqueID\":0,\"fBits\":50331648,\"fName\":\"yaxis\",\"fTitle\":\"\",\"fNdivisions\":510,\"fAxisColor\":1,\"fLabelColor\":1,\"fLabelFont\":42,\"fLabelOffset\":0.005,\"fLabelSize\":0.035,\"fTickLength\":0.03,\"fTitleOffset\":0,\"fTitleSize\":0.035,\"fTitleColor\":1,\"fTitleFont\":42,\"fNbins\":1,\"fXmin\":0,\"fXmax\":1,\"fXbins\":[],\"fFirst\":0,\"fLast\":0,\"fBits2\":0,\"fTimeDisplay\":false,\"fTimeFormat\":\"\",\"fLabels\":null,\"fModLabs\":null},\"fZaxis\":{\"_typename\":\"TAxis\",\"fUniqueID\":0,\"fBits\":50331648,\"fName\":\"zaxis\",\"fTitle\":\"\",\"fNdivisions\":510,\"fAxisColor\":1,\"fLabelColor\":1,\"fLabelFont\":42,\"fLabelOffset\":0.005,\"fLabelSize\":0.035,\"fTickLength\":0.03,\"fTitleOffset\":1,\"fTitleSize\":0.035,\"fTitleColor\":1,\"fTitleFont\":42,\"fNbins\":1,\"fXmin\":0,\"fXmax\":1,\"fXbins\":[],\"fFirst\":0,\"fLast\":0,\"fBits2\":0,\"fTimeDisplay\":false,\"fTimeFormat\":\"\",\"fLabels\":null,\"fModLabs\":null},\"fBarOffset\":0,\"fBarWidth\":1000,\"fEntries\":288713.771465999,\"fTsumw\":44.9552840500589,\"fTsumw2\":0.00699993475808094,\"fTsumwx\":1030.13938056858,\"fTsumwx2\":31085.8768635506,\"fMaximum\":-1111,\"fMinimum\":-1111,\"fNormFactor\":0,\"fContour\":[],\"fSumw2\":[0,0.00195367025529219,3.27480743010016e-4,1.92392245154121e-4,1.42862249303444e-4,1.09786082196313e-4,7.23502468154123e-5,9.89204793982225e-5,1.86007905819034e-4,4.10228515641204e-4,3.91642979660405e-5,4.00290556379139e-5,6.17853961917187e-5,5.83550861598731e-5,4.91186813152055e-5,7.28809816055397e-5,1.65062120912101e-4,3.35962318935455e-4,7.31221476250859e-4,1.49324010377807e-5,1.54814764992997e-5,2.27716194351781e-5,1.9391604892562e-5,2.00677742036932e-5,4.22183426840315e-5,7.94695851081449e-5,1.45392475538516e-4,3.01915088656104e-4,6.61118970660066e-7,7.02829214158578e-7,1.11276115901406e-6,1.02303136104138e-6,1.04609090434055e-6,1.92547523439082e-6,3.30098391749503e-6,5.36579738845174e-6,9.88481057022924e-6,2.29343212209559e-5,2.44621514006164e-5,3.68589956712607e-5,3.18838193616658e-5,3.09333293269849e-5,5.42664512736175e-5,8.7595581263922e-5,1.32215281537829e-4,2.25618193664447e-4,4.38102184034634e-5,5.56102873058659e-5,1.03433422728911e-4,5.47309917299112e-5,2.97872140995108e-5,5.62227247564418e-5,6.8671460961847e-5,9.50838899424914e-5,1.11875019051445e-4,0],\"fOption\":\"\",\"fFunctions\":{\"_typename\":\"TList\",\"name\":\"TList\",\"arr\":[],\"opt\":[]},\"fBufferSize\":0,\"fBuffer\":[],\"fBinStatErrOpt\":0,\"fStatOverflows\":2,\"fArray\":[0,0.999103736107244,0.999608907579481,0.999524828939064,0.999536946283183,0.999721026564016,0.999969275658604,0.999972539064626,1.00000716589758,1.00004432013429,0.999930223714869,0.999802896814454,1.00013155029201,1.00106077557243,1.00349386289161,1.00366416710701,1.00165920966565,1.00223941382428,1.0016221333114,1.00251984818228,1.00506914571448,1.00964517704457,1.00981580366072,1.01057398973963,1.00815190280521,1.00799729948875,1.00849889003419,1.00586828140466,1.00191239635703,1.00213816108295,1.00219603877641,1.0020732046815,1.00211338073799,1.00206799330279,1.00201697563612,1.00205359562935,1.00195097019154,1.00090637632805,1.00094122702357,1.00130515569723,1.00070565969065,1.00005737564924,0.999957725689471,0.999224044547598,0.998129731249167,0.997339811643932,-0.00938169446176376,-0.00993596827077555,-0.0113028332330535,-0.0151690332788659,-0.0130711998089143,-0.0213934846865288,-0.0153499600227936,-0.0242792951327861,-0.0211556224564908,0]},{\"_typename\":\"TLine\",\"fUniqueID\":0,\"fBits\":50331656,\"fLineColor\":632,\"fLineStyle\":1,\"fLineWidth\":1,\"fX1\":0.5,\"fY1\":1,\"fX2\":45.5,\"fY2\":1}],\"opt\":[\"\",\"pe\",\"pe same\",\"pe same\",\"pe same\",\"pe same\",\"same\"]},\"fExecs\":{\"_typename\":\"TList\",\"name\":\"TList\",\"arr\":[],\"opt\":[]},\"fName\":\"ratio_pt\",\"fTitle\":\"ratio_pt\",\"fNumPaletteColor\":0,\"fNextPaletteColor\":0}],\"opt\":[\"\",\"\"]},\"fExecs\":{\"_typename\":\"TList\",\"name\":\"TList\",\"arr\":[],\"opt\":[]},\"fName\":\"c_2\",\"fTitle\":\"c_2\",\"fNumPaletteColor\":0,\"fNextPaletteColor\":0}],\"opt\":[\"\",\"\"]},\"fExecs\":null,\"fName\":\"c\",\"fTitle\":\"c\",\"fNumPaletteColor\":0,\"fNextPaletteColor\":0,\"fDISPLAY\":\"$DISPLAY\",\"fDoubleBuffer\":0,\"fRetained\":true,\"fXsizeUser\":0,\"fYsizeUser\":0,\"fXsizeReal\":20,\"fYsizeReal\":10,\"fWindowTopX\":0,\"fWindowTopY\":0,\"fWindowWidth\":0,\"fWindowHeight\":0,\"fCw\":1196,\"fCh\":572,\"fCatt\":{\"_typename\":\"TAttCanvas\",\"fXBetween\":2,\"fYBetween\":2,\"fTitleFromTop\":1.2,\"fXdate\":0.2,\"fYdate\":0.3,\"fAdate\":1},\"kMoveOpaque\":true,\"kResizeOpaque\":true,\"fHighLightColor\":2,\"fBatch\":true,\"kShowEventStatus\":false,\"kAutoExec\":true,\"kMenuBar\":true});\n",
       "       Core.draw(\"root_plot_2\", obj, \"\");\n",
       "     }\n",
       " );\n",
       "</script>\n"
      ],
      "text/plain": [
       "<IPython.core.display.HTML object>"
      ]
     },
     "metadata": {},
     "output_type": "display_data"
    }
   ],
   "source": [
    "# Canvas for mass distribution\n",
    "colorDetector = rt.kBlack\n",
    "colorDressed  = rt.kRed\n",
    "colorPreFSR   = rt.kBlue\n",
    "\n",
    "c.cd(1)\n",
    "\n",
    "pad_mass.cd()\n",
    "pad_mass.SetLogy()\n",
    "pad_mass.SetLogx()\n",
    "pad_mass.SetGridy()\n",
    "pad_mass.SetGridx()\n",
    "\n",
    "hMassData.SetMarkerStyle(20)\n",
    "hMassData.SetLineColor(colorDetector)\n",
    "hMassData.SetMarkerColor(colorDetector)\n",
    "\n",
    "hMassUnfoldedData.SetMarkerStyle(20)\n",
    "hMassUnfoldedData.SetLineColor(colorDressed)\n",
    "hMassUnfoldedData.SetMarkerColor(colorDressed)\n",
    "\n",
    "hMassFSRUnfoldedData.SetMarkerStyle(20)\n",
    "hMassFSRUnfoldedData.SetMarkerColor(colorPreFSR)\n",
    "hMassFSRUnfoldedData.SetLineColor(colorPreFSR)\n",
    "\n",
    "hMassUnfoldedData_.SetMarkerStyle(22)\n",
    "hMassUnfoldedData_.SetMarkerSize(0.5)\n",
    "hMassUnfoldedData_.SetLineColor(rt.kMagenta)\n",
    "hMassUnfoldedData_.SetMarkerColor(rt.kMagenta)\n",
    "\n",
    "hMassUnfoldedMC_closure.SetMarkerStyle(25)\n",
    "hMassUnfoldedMC_closure.SetLineColor(rt.kMagenta)\n",
    "hMassMCTruth_closure.SetMarkerStyle(26)\n",
    "hMassMCTruth_closure.SetLineColor(rt.kMagenta)\n",
    "\n",
    "hMassUnfoldedData.GetYaxis().SetTitle(\"Events/ bin\")\n",
    "\n",
    "hMassUnfoldedData.SetStats(rt.kFALSE)\n",
    "hMassUnfoldedData.Draw(\"hist pe\")\n",
    "\n",
    "hMassFSRUnfoldedData.Draw(\"pe same\")\n",
    "#hMassUnfoldedData_.Draw(\"pe same\")\n",
    "#hMassUnfoldedMC_closure.Draw(\"pe same\")\n",
    "hMassMCTruth_preFSR.Draw(\"pe same\")\n",
    "hMassData.Draw(\"pe same\")\n",
    "\n",
    "hMassUnfoldedData.GetYaxis().SetNdivisions(10)\n",
    "hMassUnfoldedData.GetXaxis().SetNdivisions(520)\n",
    "\n",
    "hMassUnfoldedData.SetMaximum(5e8)\n",
    "hMassUnfoldedData.SetMinimum(1)\n",
    "\n",
    "legend_mass = rt.TLegend(0.7, 0.7, 0.9, 0.9)\n",
    "legend_mass.AddEntry(hMassData, \"Detector  data\", \"ple\")\n",
    "legend_mass.AddEntry(hMassUnfoldedData, \"Det unfolded data\", \"ple\")\n",
    "legend_mass.AddEntry(hMassFSRUnfoldedData, \"Pre-FSR unfolded data\", \"ple\")\n",
    "legend_mass.Draw()\n",
    "\n",
    "c.cd(1)\n",
    "\n",
    "ratio_mass.cd()\n",
    "ratio_mass.SetLogx()\n",
    "ratio_mass.SetGridx()\n",
    "ratio_mass.SetGridy()\n",
    "\n",
    "ratioMass_detector = hMassData.Clone(\"ratioMass_detector\")\n",
    "ratioMass_dressed = hMassUnfoldedData.Clone(\"ratioMass_dressed\")\n",
    "ratioMass_preFSR = hMassUnfoldedData_.Clone(\"ratioMass_preFSR\")\n",
    "ratioMass_preFSR_twoStep = hMassFSRUnfoldedData.Clone(\"ratioMass_preFSR_twoStep\")\n",
    "ratioMassMC_preFSR = hMassUnfoldedMC_closure.Clone(\"ratioMassMC_preFSR\")\n",
    "ratioMass_detector.Divide(hDYMC_detector)\n",
    "ratioMass_dressed.Divide(hMassMCTruth)\n",
    "ratioMass_preFSR.Divide(hMassUnfoldedMC_)\n",
    "ratioMass_preFSR_twoStep.Divide(hMassMCTruth_preFSR)\n",
    "ratioMassMC_preFSR.Divide(hMassMCTruth)\n",
    "ratioMass_detector.SetStats(rt.kFALSE)\n",
    "ratioMass_detector.Draw(\"pe\")\n",
    "ratioMass_dressed.Draw(\"pe same\")\n",
    "ratioMass_preFSR.Draw(\"pe same\")\n",
    "ratioMassMC_preFSR.Draw(\"pe same\")\n",
    "ratioMass_preFSR_twoStep.Draw(\"pe same\")\n",
    "ratioMass_detector.SetMinimum(0.5)\n",
    "ratioMass_detector.SetMaximum(1.5)\n",
    "\n",
    "line_mass = rt.TLine(15, 1, 320, 1)\n",
    "line_mass.SetLineColor(rt.kRed)\n",
    "line_mass.Draw(\"same\")\n",
    "\n",
    "CMS_lumi.extraText = \"Work in progress\"\n",
    "CMS_lumi.CMS_lumi(c.cd(1), 0, 11)\n",
    "\n",
    "ratioMass_detector.GetYaxis().SetTitle(\"Data/ MC\")\n",
    "\n",
    "# Canavs for pt distributions\n",
    "c.cd(2)\n",
    "pad_pt.cd()\n",
    "pad_pt.SetLogy()\n",
    "#c.SetLogx()\n",
    "pad_pt.SetGridy()\n",
    "#pad_pt.SetGridx()\n",
    "\n",
    "hPtData.SetMarkerStyle(20)\n",
    "hPtData.SetLineColor(colorDetector)\n",
    "hPtData.SetMarkerColor(colorDetector)\n",
    "\n",
    "hPtUnfoldedData.SetMarkerStyle(20)\n",
    "hPtUnfoldedData.SetLineColor(colorDressed)\n",
    "hPtUnfoldedData.SetMarkerColor(colorDressed)\n",
    "\n",
    "hPtFSRUnfoldedData.SetMarkerStyle(20)\n",
    "hPtFSRUnfoldedData.SetMarkerColor(colorPreFSR)\n",
    "hPtFSRUnfoldedData.SetLineColor(colorPreFSR)\n",
    "\n",
    "hPtUnfoldedData_.SetMarkerStyle(22)\n",
    "hPtUnfoldedData_.SetMarkerSize(0.8)\n",
    "hPtUnfoldedData_.SetLineColor(rt.kMagenta)\n",
    "hPtUnfoldedData_.SetMarkerColor(rt.kMagenta)\n",
    "\n",
    "hPtUnfoldedData.SetStats(rt.kFALSE)\n",
    "hPtUnfoldedData.Draw(\"hist pe\")\n",
    "\n",
    "hPtFSRUnfoldedData.Draw(\"pe same\")\n",
    "hPtUnfoldedData_.Draw(\"pe same\")\n",
    "#hPtUnfoldedMC_closure.Draw(\"pe same\")\n",
    "hPtData.Draw(\"pe same\")\n",
    "\n",
    "hPtUnfoldedData.GetYaxis().SetTitle(\"Events/ bin\")\n",
    "\n",
    "hPtUnfoldedData.GetYaxis().SetNdivisions(10)\n",
    "hPtUnfoldedData.GetXaxis().SetNdivisions(520)\n",
    "\n",
    "hPtUnfoldedData.SetMaximum(5e8)\n",
    "hPtUnfoldedData.SetMinimum(1)\n",
    "\n",
    "legend_pt = rt.TLegend(0.7, 0.7, 0.9, 0.9)\n",
    "legend_pt.AddEntry(hPtData, \"Detector  data\", \"ple\")\n",
    "legend_pt.AddEntry(hPtUnfoldedData, \"Det unfolded data\", \"ple\")\n",
    "legend_pt.AddEntry(hPtFSRUnfoldedData, \"Pre-FSR unfolded data\", \"ple\")\n",
    "legend_pt.Draw()\n",
    "\n",
    "c.cd(2)\n",
    "\n",
    "ratio_pt.cd()\n",
    "#ratio_pt.SetLogx()\n",
    "ratio_pt.SetGridx()\n",
    "ratio_pt.SetGridy()\n",
    "\n",
    "ratioPt_detector = hPtData.Clone(\"ratioPt_detector\")\n",
    "ratioPt_dressed = hPtUnfoldedData.Clone(\"ratioPt_dressed\")\n",
    "ratioPt_preFSR = hPtUnfoldedData_.Clone(\"ratioPt_preFSR\")\n",
    "ratioPt_preFSR_twoStep = hPtFSRUnfoldedData.Clone(\"ratioPt_preFSR_twoStep\")\n",
    "ratioPtMC_preFSR = hPtUnfoldedMC_closure.Clone(\"ratioPtMC_preFSR\")\n",
    "ratioPt_detector.Divide(hDYMCPt_detector)\n",
    "ratioPt_dressed.Divide(hPtMCTruth)\n",
    "ratioPt_preFSR.Divide(hPtUnfoldedMC_)\n",
    "ratioPt_preFSR_twoStep.Divide(hPtMCTruth_preFSR)\n",
    "ratioPtMC_preFSR.Divide(hPtMCTruth)\n",
    "ratioPt_detector.SetStats(rt.kFALSE)\n",
    "ratioPt_detector.Draw(\"pe\")\n",
    "ratioPt_dressed.Draw(\"pe same\")\n",
    "ratioPt_preFSR.Draw(\"pe same\")\n",
    "ratioPt_preFSR_twoStep.Draw(\"pe same\")\n",
    "\n",
    "ratioPtMC_preFSR.SetMarkerStyle(25)\n",
    "ratioPtMC_preFSR.Draw(\"pe same\")\n",
    "ratioPt_detector.SetMinimum(0.5)\n",
    "ratioPt_detector.SetMaximum(1.5)\n",
    "\n",
    "line_pt = rt.TLine(0.5, 1, 45.5, 1)\n",
    "line_pt.SetLineColor(rt.kRed)\n",
    "line_pt.Draw(\"same\")\n",
    "\n",
    "ratioMass_detector.GetYaxis().SetTitle(\"Data/ MC\")\n",
    "\n",
    "c.Draw()\n",
    "c.SaveAs(\"Mass_Pt.pdf\")"
   ]
  },
  {
   "cell_type": "code",
   "execution_count": 28,
   "metadata": {},
   "outputs": [
    {
     "data": {
      "text/plain": [
       "216295.71241257008"
      ]
     },
     "execution_count": 28,
     "metadata": {},
     "output_type": "execute_result"
    }
   ],
   "source": [
    "hMassMCTruth.GetBinContent(1)"
   ]
  },
  {
   "cell_type": "markdown",
   "metadata": {},
   "source": [
    "- Understand how the response matrix handled (Underflow/Overflow, 0 bin...)\n",
    "    - If underflow and overflow bins are explicitly defined, they are \"unfolded from the data\"\n",
    "    - Implicit underflow and overflow bins not unfolded and have different meaning \n",
    "- Input correlation matrix\n",
    "- How to handle systematics within TUfold"
   ]
  },
  {
   "cell_type": "code",
   "execution_count": null,
   "metadata": {},
   "outputs": [],
   "source": []
  },
  {
   "cell_type": "code",
   "execution_count": 29,
   "metadata": {},
   "outputs": [
    {
     "name": "stdout",
     "output_type": "stream",
     "text": [
      "ISRUnfold::setMeanMass()   Save mean of dilepton...\n"
     ]
    }
   ],
   "source": [
    "nBins = unfold_det.setMeanMass()"
   ]
  },
  {
   "cell_type": "code",
   "execution_count": 30,
   "metadata": {
    "scrolled": false
   },
   "outputs": [
    {
     "data": {
      "text/plain": [
       "6"
      ]
     },
     "execution_count": 30,
     "metadata": {},
     "output_type": "execute_result"
    },
    {
     "name": "stdout",
     "output_type": "stream",
     "text": [
      "ISRUnfold::setMeanMass()   Save mean of dilepton...\n"
     ]
    }
   ],
   "source": [
    "unfold_oneStep.setMeanMass()"
   ]
  },
  {
   "cell_type": "code",
   "execution_count": 31,
   "metadata": {},
   "outputs": [
    {
     "data": {
      "text/plain": [
       "6"
      ]
     },
     "execution_count": 31,
     "metadata": {},
     "output_type": "execute_result"
    },
    {
     "name": "stdout",
     "output_type": "stream",
     "text": [
      "ISRUnfold::setMeanPt()   Save mean of dilepton momentum...\n"
     ]
    }
   ],
   "source": [
    "unfold_det.setMeanPt()"
   ]
  },
  {
   "cell_type": "code",
   "execution_count": 32,
   "metadata": {},
   "outputs": [
    {
     "data": {
      "text/plain": [
       "6"
      ]
     },
     "execution_count": 32,
     "metadata": {},
     "output_type": "execute_result"
    },
    {
     "name": "stdout",
     "output_type": "stream",
     "text": [
      "ISRUnfold::setMeanPt()   Save mean of dilepton momentum...\n"
     ]
    }
   ],
   "source": [
    "unfold_oneStep.setMeanPt()"
   ]
  },
  {
   "cell_type": "code",
   "execution_count": 33,
   "metadata": {},
   "outputs": [
    {
     "data": {
      "text/plain": [
       "6"
      ]
     },
     "execution_count": 33,
     "metadata": {},
     "output_type": "execute_result"
    },
    {
     "name": "stdout",
     "output_type": "stream",
     "text": [
      "ISRUnfold::setMeanPt()   Save mean of dilepton momentum...\n"
     ]
    }
   ],
   "source": [
    "unfold_fsr.setMeanPt()"
   ]
  },
  {
   "cell_type": "code",
   "execution_count": 34,
   "metadata": {},
   "outputs": [
    {
     "data": {
      "text/plain": [
       "6"
      ]
     },
     "execution_count": 34,
     "metadata": {},
     "output_type": "execute_result"
    },
    {
     "name": "stdout",
     "output_type": "stream",
     "text": [
      "ISRUnfold::setMeanMass()   Save mean of dilepton...\n"
     ]
    }
   ],
   "source": [
    "unfold_fsr.setMeanMass()"
   ]
  },
  {
   "cell_type": "code",
   "execution_count": 35,
   "metadata": {},
   "outputs": [
    {
     "data": {
      "text/plain": [
       "6"
      ]
     },
     "execution_count": 35,
     "metadata": {},
     "output_type": "execute_result"
    },
    {
     "name": "stdout",
     "output_type": "stream",
     "text": [
      "ISRUnfold::setMeanPt()   Save mean of dilepton momentum...\n",
      "ISRUnfold::setMeanMass()   Save mean of dilepton...\n"
     ]
    }
   ],
   "source": [
    "unfold_closure.setMeanPt()\n",
    "unfold_closure.setMeanMass()"
   ]
  },
  {
   "cell_type": "code",
   "execution_count": 36,
   "metadata": {},
   "outputs": [],
   "source": [
    "c_PtVsMass = rt.TCanvas(\"PtVsMass\",\"PtVsMass\", 1000, 600)\n",
    "c_PtVsMass.SetGridx()\n",
    "c_PtVsMass.SetGridy()\n",
    "c_PtVsMass.SetLogx()"
   ]
  },
  {
   "cell_type": "code",
   "execution_count": 37,
   "metadata": {},
   "outputs": [],
   "source": [
    "from array import array\n",
    "meanMass, meanPt = array('d'), array('d')\n",
    "meanMassUnf, meanPtUnf = array('d'), array('d')\n",
    "meanMassUnfStatErr, meanPtUnfStatErr = array('d'), array('d')\n",
    "meanMassFSRUnf, meanPtFSRUnf = array('d'), array('d')\n",
    "meanMassFSRUnfStatErr, meanPtFSRUnfStatErr = array('d'), array('d')\n",
    "\n",
    "meanMassFSRUnf_twoStep, meanPtFSRUnf_twoStep = array('d'), array('d')\n",
    "meanMassFSRUnf_twoStepStatErr, meanPtFSRUnf_twoStepStatErr = array('d'), array('d')\n",
    "\n",
    "meanMassFSRUnfMC, meanPtFSRUnfMC = array('d'), array('d')\n",
    "meanMassFSRUnfMCStatErr, meanPtFSRUnfMCStatErr = array('d'), array('d')\n",
    "\n",
    "meanMassFSRMC, meanPtFSRMC = array('d'), array('d')\n",
    "\n",
    "for ibin in range(nBins):\n",
    "    meanMass.append(unfold_det.getDetMeanMass(ibin))\n",
    "    meanPt.append(unfold_det.getDetMeanPt(ibin))\n",
    "    \n",
    "    meanMassUnf.append(unfold_det.getUnfMeanMass(ibin))\n",
    "    meanPtUnf.append(unfold_det.getUnfMeanPt(ibin))\n",
    "    meanMassUnfStatErr.append(unfold_det.getUnfMeanMassError(ibin))\n",
    "    meanPtUnfStatErr.append(unfold_det.getUnfMeanPtError(ibin))\n",
    "    \n",
    "    meanMassFSRUnf.append(unfold_oneStep.getUnfMeanMass(ibin))\n",
    "    meanPtFSRUnf.append(unfold_oneStep.getUnfMeanPt(ibin))\n",
    "    meanMassFSRUnfStatErr.append(unfold_oneStep.getUnfMeanMassError(ibin))\n",
    "    meanPtFSRUnfStatErr.append(unfold_oneStep.getUnfMeanPtError(ibin))\n",
    "    \n",
    "    meanMassFSRUnf_twoStep.append(unfold_fsr.getUnfMeanMass(ibin))\n",
    "    meanPtFSRUnf_twoStep.append(unfold_fsr.getUnfMeanPt(ibin))\n",
    "    meanMassFSRUnf_twoStepStatErr.append(unfold_fsr.getUnfMeanMassError(ibin))\n",
    "    meanPtFSRUnf_twoStepStatErr.append(unfold_fsr.getUnfMeanPtError(ibin))\n",
    "    \n",
    "    meanMassFSRUnfMC.append(unfold_closure.getUnfMeanMass(ibin))\n",
    "    meanPtFSRUnfMC.append(unfold_closure.getUnfMeanPt(ibin))"
   ]
  },
  {
   "cell_type": "code",
   "execution_count": 38,
   "metadata": {
    "scrolled": false
   },
   "outputs": [
    {
     "name": "stdout",
     "output_type": "stream",
     "text": [
      " FCN=27.5989 FROM MIGRAD    STATUS=CONVERGED      61 CALLS          62 TOTAL\n",
      "                     EDM=1.70413e-13    STRATEGY= 1      ERROR MATRIX ACCURATE \n",
      "  EXT PARAMETER                                   STEP         FIRST   \n",
      "  NO.   NAME      VALUE            ERROR          SIZE      DERIVATIVE \n",
      "   1  p0          -1.56293e+01   1.35159e-01   1.11802e-05   5.75389e-05\n",
      "   2  p1           7.52167e+00   3.01065e-02   3.58661e-06   2.75764e-04\n"
     ]
    },
    {
     "data": {
      "text/html": [
       "\n",
       "<div id=\"root_plot_3\"\n",
       "     style=\"width: 996px; height: 572px\">\n",
       "</div>\n",
       "\n",
       "<script>\n",
       " requirejs.config({\n",
       "     paths: {\n",
       "       'JSRootCore' : 'https://root.cern.ch/js/notebook//scripts/JSRootCore',\n",
       "     }\n",
       "   });\n",
       " require(['JSRootCore'],\n",
       "     function(Core) {\n",
       "       var obj = Core.JSONR_unref({\"_typename\":\"TCanvas\",\"fUniqueID\":0,\"fBits\":53673992,\"fLineColor\":1,\"fLineStyle\":1,\"fLineWidth\":1,\"fFillColor\":0,\"fFillStyle\":1001,\"fLeftMargin\":0.16,\"fRightMargin\":0.04,\"fBottomMargin\":0.13,\"fTopMargin\":0.05,\"fXfile\":2,\"fYfile\":2,\"fAfile\":1,\"fXstat\":0.99,\"fYstat\":0.99,\"fAstat\":2,\"fFrameFillColor\":0,\"fFrameLineColor\":1,\"fFrameFillStyle\":0,\"fFrameLineStyle\":1,\"fFrameLineWidth\":1,\"fFrameBorderSize\":1,\"fFrameBorderMode\":0,\"fX1\":0.600000014901161,\"fY1\":6.03658547665944,\"fX2\":3.09999999627471,\"fY2\":36.5243902799143,\"fXtoAbsPixelk\":-239.039957717609,\"fXtoPixelk\":-239.039957717609,\"fXtoPixel\":398.400002968311,\"fYtoAbsPixelk\":685.256052356738,\"fYtoPixelk\":685.256052356738,\"fYtoPixel\":-18.7616000460267,\"fUtoAbsPixelk\":5e-5,\"fUtoPixelk\":5e-5,\"fUtoPixel\":996,\"fVtoAbsPixelk\":572.00005,\"fVtoPixelk\":572,\"fVtoPixel\":-572,\"fAbsPixeltoXk\":0.600000014901161,\"fPixeltoXk\":0.600000014901161,\"fPixeltoX\":0.00251004014194131,\"fAbsPixeltoYk\":36.5243902799143,\"fPixeltoYk\":6.03658547665944,\"fPixeltoY\":-0.0533003580476484,\"fXlowNDC\":0,\"fYlowNDC\":0,\"fXUpNDC\":0,\"fYUpNDC\":0,\"fWNDC\":1,\"fHNDC\":1,\"fAbsXlowNDC\":0,\"fAbsYlowNDC\":0,\"fAbsWNDC\":1,\"fAbsHNDC\":1,\"fUxmin\":1,\"fUymin\":10,\"fUxmax\":3,\"fUymax\":35,\"fTheta\":30,\"fPhi\":30,\"fAspectRatio\":0,\"fNumber\":0,\"fTickx\":1,\"fTicky\":1,\"fLogx\":1,\"fLogy\":0,\"fLogz\":0,\"fPadPaint\":0,\"fCrosshair\":0,\"fCrosshairPos\":0,\"fBorderSize\":2,\"fBorderMode\":0,\"fModified\":false,\"fGridx\":true,\"fGridy\":true,\"fAbsCoord\":false,\"fEditable\":true,\"fFixedAspectRatio\":false,\"fPrimitives\":{\"_typename\":\"TList\",\"name\":\"TList\",\"arr\":[{\"_typename\":\"TFrame\",\"fUniqueID\":0,\"fBits\":50331656,\"fLineColor\":1,\"fLineStyle\":1,\"fLineWidth\":1,\"fFillColor\":0,\"fFillStyle\":0,\"fX1\":1,\"fY1\":10,\"fX2\":3,\"fY2\":35,\"fBorderSize\":1,\"fBorderMode\":0},{\"_typename\":\"TGraph\",\"fUniqueID\":0,\"fBits\":50332680,\"fName\":\"Graph\",\"fTitle\":\"Dilepton p_{T} vs. Mass\",\"fLineColor\":1,\"fLineStyle\":1,\"fLineWidth\":1,\"fFillColor\":0,\"fFillStyle\":1000,\"fMarkerColor\":1,\"fMarkerStyle\":25,\"fMarkerSize\":1,\"fNpoints\":6,\"fX\":[29.533927597571,49.3146981829642,72.7896125577297,90.7909299595409,117.996260432474,241.480200389888],\"fY\":[32.1062110014892,17.4493292567289,19.3271175891458,19.4123073514562,21.3867671990127,26.6636104122633],\"fFunctions\":{\"_typename\":\"TList\",\"name\":\"TList\",\"arr\":[],\"opt\":[]},\"fHistogram\":{\"_typename\":\"TH1F\",\"fUniqueID\":0,\"fBits\":50332160,\"fName\":\"Graph\",\"fTitle\":\"Dilepton p_{T} vs. Mass\",\"fLineColor\":1,\"fLineStyle\":0,\"fLineWidth\":1,\"fFillColor\":0,\"fFillStyle\":1001,\"fMarkerColor\":1,\"fMarkerStyle\":20,\"fMarkerSize\":1,\"fNcells\":102,\"fXaxis\":{\"_typename\":\"TAxis\",\"fUniqueID\":0,\"fBits\":50331656,\"fName\":\"xaxis\",\"fTitle\":\"\",\"fNdivisions\":510,\"fAxisColor\":1,\"fLabelColor\":1,\"fLabelFont\":133,\"fLabelOffset\":0.007,\"fLabelSize\":23,\"fTickLength\":0.03,\"fTitleOffset\":3,\"fTitleSize\":23,\"fTitleColor\":1,\"fTitleFont\":133,\"fNbins\":100,\"fXmin\":10,\"fXmax\":1000,\"fXbins\":[],\"fFirst\":0,\"fLast\":0,\"fBits2\":0,\"fTimeDisplay\":false,\"fTimeFormat\":\"\",\"fLabels\":null,\"fModLabs\":null},\"fYaxis\":{\"_typename\":\"TAxis\",\"fUniqueID\":0,\"fBits\":50331656,\"fName\":\"yaxis\",\"fTitle\":\"\",\"fNdivisions\":510,\"fAxisColor\":1,\"fLabelColor\":1,\"fLabelFont\":133,\"fLabelOffset\":0.007,\"fLabelSize\":23,\"fTickLength\":0.03,\"fTitleOffset\":2,\"fTitleSize\":23,\"fTitleColor\":1,\"fTitleFont\":133,\"fNbins\":1,\"fXmin\":15.9836410822528,\"fXmax\":33.5718991759652,\"fXbins\":[],\"fFirst\":0,\"fLast\":0,\"fBits2\":0,\"fTimeDisplay\":false,\"fTimeFormat\":\"\",\"fLabels\":null,\"fModLabs\":null},\"fZaxis\":{\"_typename\":\"TAxis\",\"fUniqueID\":0,\"fBits\":50331648,\"fName\":\"zaxis\",\"fTitle\":\"\",\"fNdivisions\":510,\"fAxisColor\":1,\"fLabelColor\":1,\"fLabelFont\":133,\"fLabelOffset\":0.007,\"fLabelSize\":23,\"fTickLength\":0.03,\"fTitleOffset\":1,\"fTitleSize\":23,\"fTitleColor\":1,\"fTitleFont\":133,\"fNbins\":1,\"fXmin\":0,\"fXmax\":1,\"fXbins\":[],\"fFirst\":0,\"fLast\":0,\"fBits2\":0,\"fTimeDisplay\":false,\"fTimeFormat\":\"\",\"fLabels\":null,\"fModLabs\":null},\"fBarOffset\":0,\"fBarWidth\":1000,\"fEntries\":0,\"fTsumw\":0,\"fTsumw2\":0,\"fTsumwx\":0,\"fTsumwx2\":0,\"fMaximum\":35,\"fMinimum\":10,\"fNormFactor\":0,\"fContour\":[],\"fSumw2\":[],\"fOption\":\"\",\"fFunctions\":{\"_typename\":\"TList\",\"name\":\"TList\",\"arr\":[],\"opt\":[]},\"fBufferSize\":0,\"fBuffer\":[],\"fBinStatErrOpt\":0,\"fStatOverflows\":2,\"fArray\":[0,0,0,0,0,0,0,0,0,0,0,0,0,0,0,0,0,0,0,0,0,0,0,0,0,0,0,0,0,0,0,0,0,0,0,0,0,0,0,0,0,0,0,0,0,0,0,0,0,0,0,0,0,0,0,0,0,0,0,0,0,0,0,0,0,0,0,0,0,0,0,0,0,0,0,0,0,0,0,0,0,0,0,0,0,0,0,0,0,0,0,0,0,0,0,0,0,0,0,0,0,0]},\"fMinimum\":-1111,\"fMaximum\":-1111},{\"_typename\":\"TGraphErrors\",\"fUniqueID\":0,\"fBits\":50332680,\"fName\":\"Graph\",\"fTitle\":\"Graph\",\"fLineColor\":632,\"fLineStyle\":1,\"fLineWidth\":1,\"fFillColor\":0,\"fFillStyle\":1000,\"fMarkerColor\":632,\"fMarkerStyle\":25,\"fMarkerSize\":1,\"fNpoints\":6,\"fX\":[29.638656602264,49.1335111351609,72.2753363078805,90.9899545059394,117.992709053475,242.246043382805],\"fY\":[30.7312551075449,17.8113420830577,19.9068187123659,20.1853385290755,21.9527551862718,26.7909864403971],\"fFunctions\":{\"_typename\":\"TList\",\"name\":\"TList\",\"arr\":[],\"opt\":[]},\"fHistogram\":{\"_typename\":\"TH1F\",\"fUniqueID\":0,\"fBits\":50332160,\"fName\":\"Graph\",\"fTitle\":\"Graph\",\"fLineColor\":1,\"fLineStyle\":0,\"fLineWidth\":1,\"fFillColor\":0,\"fFillStyle\":1001,\"fMarkerColor\":1,\"fMarkerStyle\":20,\"fMarkerSize\":1,\"fNcells\":102,\"fXaxis\":{\"_typename\":\"TAxis\",\"fUniqueID\":0,\"fBits\":50331648,\"fName\":\"xaxis\",\"fTitle\":\"\",\"fNdivisions\":510,\"fAxisColor\":1,\"fLabelColor\":1,\"fLabelFont\":133,\"fLabelOffset\":0.007,\"fLabelSize\":23,\"fTickLength\":0.03,\"fTitleOffset\":3,\"fTitleSize\":23,\"fTitleColor\":1,\"fTitleFont\":133,\"fNbins\":100,\"fXmin\":8.34515267343092,\"fXmax\":263.738390813168,\"fXbins\":[],\"fFirst\":0,\"fLast\":0,\"fBits2\":0,\"fTimeDisplay\":false,\"fTimeFormat\":\"\",\"fLabels\":null,\"fModLabs\":null},\"fYaxis\":{\"_typename\":\"TAxis\",\"fUniqueID\":0,\"fBits\":50331648,\"fName\":\"yaxis\",\"fTitle\":\"\",\"fNdivisions\":510,\"fAxisColor\":1,\"fLabelColor\":1,\"fLabelFont\":133,\"fLabelOffset\":0.007,\"fLabelSize\":23,\"fTickLength\":0.03,\"fTitleOffset\":2,\"fTitleSize\":23,\"fTitleColor\":1,\"fTitleFont\":133,\"fNbins\":1,\"fXmin\":16.4925617080547,\"fXmax\":32.0577618912096,\"fXbins\":[],\"fFirst\":0,\"fLast\":0,\"fBits2\":0,\"fTimeDisplay\":false,\"fTimeFormat\":\"\",\"fLabels\":null,\"fModLabs\":null},\"fZaxis\":{\"_typename\":\"TAxis\",\"fUniqueID\":0,\"fBits\":50331648,\"fName\":\"zaxis\",\"fTitle\":\"\",\"fNdivisions\":510,\"fAxisColor\":1,\"fLabelColor\":1,\"fLabelFont\":133,\"fLabelOffset\":0.007,\"fLabelSize\":23,\"fTickLength\":0.03,\"fTitleOffset\":1,\"fTitleSize\":23,\"fTitleColor\":1,\"fTitleFont\":133,\"fNbins\":1,\"fXmin\":0,\"fXmax\":1,\"fXbins\":[],\"fFirst\":0,\"fLast\":0,\"fBits2\":0,\"fTimeDisplay\":false,\"fTimeFormat\":\"\",\"fLabels\":null,\"fModLabs\":null},\"fBarOffset\":0,\"fBarWidth\":1000,\"fEntries\":0,\"fTsumw\":0,\"fTsumw2\":0,\"fTsumwx\":0,\"fTsumwx2\":0,\"fMaximum\":32.0577618912096,\"fMinimum\":16.4925617080547,\"fNormFactor\":0,\"fContour\":[],\"fSumw2\":[],\"fOption\":\"\",\"fFunctions\":{\"_typename\":\"TList\",\"name\":\"TList\",\"arr\":[],\"opt\":[]},\"fBufferSize\":0,\"fBuffer\":[],\"fBinStatErrOpt\":0,\"fStatOverflows\":2,\"fArray\":[0,0,0,0,0,0,0,0,0,0,0,0,0,0,0,0,0,0,0,0,0,0,0,0,0,0,0,0,0,0,0,0,0,0,0,0,0,0,0,0,0,0,0,0,0,0,0,0,0,0,0,0,0,0,0,0,0,0,0,0,0,0,0,0,0,0,0,0,0,0,0,0,0,0,0,0,0,0,0,0,0,0,0,0,0,0,0,0,0,0,0,0,0,0,0,0,0,0,0,0,0,0]},\"fMinimum\":-1111,\"fMaximum\":-1111,\"fEX\":[0.0107340838550307,0.00769036694966741,0.00791165634930127,0.00107916231702313,0.0330985943943955,0.209577585384148],\"fEY\":[0.0294067684018056,0.0216803597400749,0.0212076307441068,0.004640385021237,0.0287326840194916,0.207766968424669]},{\"_typename\":\"TGraphErrors\",\"fUniqueID\":0,\"fBits\":50332680,\"fName\":\"Graph\",\"fTitle\":\"Graph\",\"fLineColor\":600,\"fLineStyle\":1,\"fLineWidth\":1,\"fFillColor\":0,\"fFillStyle\":1000,\"fMarkerColor\":600,\"fMarkerStyle\":25,\"fMarkerSize\":1,\"fNpoints\":6,\"fX\":[21.5540810011891,47.9545287172807,71.6559928563019,91.2207147325227,117.331730458974,241.476828110253],\"fY\":[9.06103532624689,13.4749855117798,16.3984128984075,18.3233602890109,20.1179881645077,25.2970186359411],\"fFunctions\":{\"_typename\":\"TList\",\"name\":\"TList\",\"arr\":[{\"_typename\":\"TF1\",\"fUniqueID\":0,\"fBits\":50333192,\"fName\":\"f_lepton\",\"fTitle\":\"[0]+[1]*log(x)\",\"fLineColor\":600,\"fLineStyle\":2,\"fLineWidth\":1,\"fFillColor\":19,\"fFillStyle\":0,\"fMarkerColor\":1,\"fMarkerStyle\":20,\"fMarkerSize\":1,\"fXmin\":30,\"fXmax\":900,\"fNpar\":2,\"fNdim\":1,\"fNpx\":100,\"fType\":0,\"fNpfits\":5,\"fNDF\":3,\"fChisquare\":27.5988513566591,\"fMinimum\":-1111,\"fMaximum\":-1111,\"fParErrors\":[0.135159294384024,0.0301065165328459],\"fParMin\":[0,0],\"fParMax\":[0,0],\"fSave\":[9.95337837616921,11.8687124740574,13.3939759815102,14.6614791281757,15.7458763582382,16.6934545469818,17.5349027066958,18.2916178023526,18.9791144842169,19.6090014060038,20.1901914831879,20.729676922813,21.2330443056679,21.7048278003766,22.1487579580437,22.5679410715249,22.9649911292589,23.3421286471169,23.7012558799631,24.0440148791644,24.3718328868773,24.6859582434793,24.9874890921619,25.2773965478346,25.5565435639774,25.8257004217935,26.0855575422912,26.3367361580256,26.5797972597314,26.8152491420341,27.0435538035052,27.265132403655,27.4803699388566,27.6896192676302,27.8932045909939,28.0914244740791,28.2845544797071,28.4728494722326,28.656545639986,28.8358622765792,29.0110033547729,29.1821589212367,29.3495063361153,29.5132113776755,29.6734292292782,29.8303053634074,29.9839763353763,30.1345704975645,30.2822086435456,30.4270045902067,30.5690657048865,30.7084933836491,30.8453834860291,30.9798267309186,31.1119090576898,31.2417119561537,31.3693127685274,31.4947849662122,31.6181984038625,31.7396195529452,31.8591117167453,31.9767352285584,32.0925476346229,32.2066038631826,32.3189563809199,32.4296553378776,32.5387487018698,32.6462823832835,32.7523003510846,32.8568447407613,32.9599559548676,33.0616727567682,33.1620323581296,33.2610705006494,33.3588215324755,33.4553184797226,33.550593113459,33.6446760125039,33.7375966223449,33.8293833104616,33.9200634183127,34.0096633102276,34.0982084194196,34.1857232913223,34.2722316244333,34.3577563088364,34.4423194625579,34.5259424659015,34.608645993896,34.6904500469781,34.7713739800251,34.8514365298412,34.9306558411977,35.0090494915154,35.0866345142736,35.1634274212249,35.239444223487,35.3147004515791,35.3892111744662,35.4629910176692,35.5360541804951,30,900],\"fNormalized\":false,\"fNormIntegral\":0,\"fFormula\":{\"_typename\":\"TFormula\",\"fUniqueID\":0,\"fBits\":50332672,\"fName\":\"f_lepton\",\"fTitle\":\"[0]+[1]*log(x)\",\"fClingParameters\":[-15.6292974281566,7.52166749929217],\"fAllParametersSetted\":true,\"fParams\":[{\"$pair\":\"pair<TString,int,TFormulaParamOrder>\",\"first\":\"p0\",\"second\":0},{\"$pair\":\"pair<TString,int,TFormulaParamOrder>\",\"first\":\"p1\",\"second\":1}],\"fFormula\":\"[p0]+[p1]*log(x)\",\"fNdim\":1,\"fLinearParts\":[],\"fVectorized\":false},\"fParams\":null,\"fComposition_ptr\":null},{\"_typename\":\"TPaveStats\",\"fUniqueID\":0,\"fBits\":50331657,\"fLineColor\":1,\"fLineStyle\":1,\"fLineWidth\":1,\"fFillColor\":0,\"fFillStyle\":1001,\"fX1\":2.37500002253801,\"fY1\":33.3231708755194,\"fX2\":3.05000004433095,\"fY2\":36.3719514012752,\"fX1NDC\":0.71000000834465,\"fY1NDC\":0.895000003278255,\"fX2NDC\":0.980000019073486,\"fY2NDC\":0.995000004768372,\"fBorderSize\":1,\"fInit\":1,\"fShadowColor\":1,\"fCornerRadius\":0,\"fOption\":\"brNDC\",\"fName\":\"stats\",\"fTextAngle\":0,\"fTextSize\":0,\"fTextAlign\":12,\"fTextColor\":1,\"fTextFont\":42,\"fLabel\":\"\",\"fLongest\":29,\"fMargin\":0.05,\"fLines\":{\"_typename\":\"TList\",\"name\":\"TList\",\"arr\":[{\"_typename\":\"TLatex\",\"fUniqueID\":0,\"fBits\":50331648,\"fName\":\"\",\"fTitle\":\"#chi^{2} \\/ ndf =  27.6 \\/ 3\",\"fTextAngle\":0,\"fTextSize\":0,\"fTextAlign\":0,\"fTextColor\":0,\"fTextFont\":0,\"fX\":0,\"fY\":0,\"fLineColor\":1,\"fLineStyle\":1,\"fLineWidth\":2,\"fLimitFactorSize\":3,\"fOriginSize\":0.04},{\"_typename\":\"TLatex\",\"fUniqueID\":0,\"fBits\":50331648,\"fName\":\"\",\"fTitle\":\"p0       = -15.63 #pm 0.1352 \",\"fTextAngle\":0,\"fTextSize\":0,\"fTextAlign\":0,\"fTextColor\":0,\"fTextFont\":0,\"fX\":0,\"fY\":0,\"fLineColor\":1,\"fLineStyle\":1,\"fLineWidth\":2,\"fLimitFactorSize\":3,\"fOriginSize\":0.04},{\"_typename\":\"TLatex\",\"fUniqueID\":0,\"fBits\":50331648,\"fName\":\"\",\"fTitle\":\"p1       = 7.522 #pm 0.03011 \",\"fTextAngle\":0,\"fTextSize\":0,\"fTextAlign\":0,\"fTextColor\":0,\"fTextFont\":0,\"fX\":0,\"fY\":0,\"fLineColor\":1,\"fLineStyle\":1,\"fLineWidth\":2,\"fLimitFactorSize\":3,\"fOriginSize\":0.04}],\"opt\":[\"\",\"\",\"\"]},\"fOptFit\":111,\"fOptStat\":0,\"fFitFormat\":\"5.4g\",\"fStatFormat\":\"6.4g\",\"fParent\":{\"$ref\":18}}],\"opt\":[\"\",\"brNDC\"]},\"fHistogram\":{\"_typename\":\"TH1F\",\"fUniqueID\":0,\"fBits\":50332160,\"fName\":\"Graph\",\"fTitle\":\"Graph\",\"fLineColor\":1,\"fLineStyle\":0,\"fLineWidth\":1,\"fFillColor\":0,\"fFillStyle\":1001,\"fMarkerColor\":1,\"fMarkerStyle\":20,\"fMarkerSize\":1,\"fNcells\":102,\"fXaxis\":{\"_typename\":\"TAxis\",\"fUniqueID\":0,\"fBits\":50331648,\"fName\":\"xaxis\",\"fTitle\":\"\",\"fNdivisions\":510,\"fAxisColor\":1,\"fLabelColor\":1,\"fLabelFont\":133,\"fLabelOffset\":0.007,\"fLabelSize\":23,\"fTickLength\":0.03,\"fTitleOffset\":3,\"fTitleSize\":23,\"fTitleColor\":1,\"fTitleFont\":133,\"fNbins\":100,\"fXmin\":19.3889410600933,\"fXmax\":263.706719174434,\"fXbins\":[],\"fFirst\":0,\"fLast\":0,\"fBits2\":0,\"fTimeDisplay\":false,\"fTimeFormat\":\"\",\"fLabels\":null,\"fModLabs\":null},\"fYaxis\":{\"_typename\":\"TAxis\",\"fUniqueID\":0,\"fBits\":50331648,\"fName\":\"yaxis\",\"fTitle\":\"\",\"fNdivisions\":510,\"fAxisColor\":1,\"fLabelColor\":1,\"fLabelFont\":133,\"fLabelOffset\":0.007,\"fLabelSize\":23,\"fTickLength\":0.03,\"fTitleOffset\":2,\"fTitleSize\":23,\"fTitleColor\":1,\"fTitleFont\":133,\"fNbins\":1,\"fXmin\":7.28362556885374,\"fXmax\":27.1667253623974,\"fXbins\":[],\"fFirst\":0,\"fLast\":0,\"fBits2\":0,\"fTimeDisplay\":false,\"fTimeFormat\":\"\",\"fLabels\":null,\"fModLabs\":null},\"fZaxis\":{\"_typename\":\"TAxis\",\"fUniqueID\":0,\"fBits\":50331648,\"fName\":\"zaxis\",\"fTitle\":\"\",\"fNdivisions\":510,\"fAxisColor\":1,\"fLabelColor\":1,\"fLabelFont\":133,\"fLabelOffset\":0.007,\"fLabelSize\":23,\"fTickLength\":0.03,\"fTitleOffset\":1,\"fTitleSize\":23,\"fTitleColor\":1,\"fTitleFont\":133,\"fNbins\":1,\"fXmin\":0,\"fXmax\":1,\"fXbins\":[],\"fFirst\":0,\"fLast\":0,\"fBits2\":0,\"fTimeDisplay\":false,\"fTimeFormat\":\"\",\"fLabels\":null,\"fModLabs\":null},\"fBarOffset\":0,\"fBarWidth\":1000,\"fEntries\":0,\"fTsumw\":0,\"fTsumw2\":0,\"fTsumwx\":0,\"fTsumwx2\":0,\"fMaximum\":27.1667253623974,\"fMinimum\":7.28362556885374,\"fNormFactor\":0,\"fContour\":[],\"fSumw2\":[],\"fOption\":\"\",\"fFunctions\":{\"_typename\":\"TList\",\"name\":\"TList\",\"arr\":[],\"opt\":[]},\"fBufferSize\":0,\"fBuffer\":[],\"fBinStatErrOpt\":0,\"fStatOverflows\":2,\"fArray\":[0,0,0,0,0,0,0,0,0,0,0,0,0,0,0,0,0,0,0,0,0,0,0,0,0,0,0,0,0,0,0,0,0,0,0,0,0,0,0,0,0,0,0,0,0,0,0,0,0,0,0,0,0,0,0,0,0,0,0,0,0,0,0,0,0,0,0,0,0,0,0,0,0,0,0,0,0,0,0,0,0,0,0,0,0,0,0,0,0,0,0,0,0,0,0,0,0,0,0,0,0,0]},\"fMinimum\":-1111,\"fMaximum\":-1111,\"fEX\":[0.0108131566410004,0.00877104814200667,0.0129161769285535,0.00109652543899127,0.0334949014518028,0.215031852373393],\"fEY\":[0.120484774597846,0.0206295755595674,0.0297770859986403,0.00448189677137437,0.027643958669624,0.212781743661032]},{\"_typename\":\"TLegend\",\"fUniqueID\":0,\"fBits\":50331656,\"fLineColor\":1,\"fLineStyle\":1,\"fLineWidth\":1,\"fFillColor\":0,\"fFillStyle\":1001,\"fX1\":2.30000000223517,\"fY1\":12.1341464373104,\"fX2\":2.79999999850988,\"fY2\":18.2317073979614,\"fX1NDC\":0.68,\"fY1NDC\":0.2,\"fX2NDC\":0.88,\"fY2NDC\":0.4,\"fBorderSize\":4,\"fInit\":1,\"fShadowColor\":1,\"fCornerRadius\":0,\"fOption\":\"brNDC\",\"fName\":\"TPave\",\"fTextAngle\":0,\"fTextSize\":0,\"fTextAlign\":12,\"fTextColor\":1,\"fTextFont\":62,\"fPrimitives\":{\"_typename\":\"TList\",\"name\":\"TList\",\"arr\":[{\"_typename\":\"TLegendEntry\",\"fUniqueID\":0,\"fBits\":50331656,\"fTextAngle\":0,\"fTextSize\":0,\"fTextAlign\":0,\"fTextColor\":0,\"fTextFont\":62,\"fLineColor\":1,\"fLineStyle\":1,\"fLineWidth\":1,\"fFillColor\":0,\"fFillStyle\":0,\"fMarkerColor\":1,\"fMarkerStyle\":25,\"fMarkerSize\":1,\"fObject\":{\"$ref\":3},\"fLabel\":\"Detector  data 2017\",\"fOption\":\"ple\"},{\"_typename\":\"TLegendEntry\",\"fUniqueID\":0,\"fBits\":50331656,\"fTextAngle\":0,\"fTextSize\":0,\"fTextAlign\":0,\"fTextColor\":0,\"fTextFont\":62,\"fLineColor\":632,\"fLineStyle\":1,\"fLineWidth\":1,\"fFillColor\":0,\"fFillStyle\":0,\"fMarkerColor\":632,\"fMarkerStyle\":25,\"fMarkerSize\":1,\"fObject\":{\"$ref\":10},\"fLabel\":\"Det unfolded data\",\"fOption\":\"ple\"},{\"_typename\":\"TLegendEntry\",\"fUniqueID\":0,\"fBits\":50331656,\"fTextAngle\":0,\"fTextSize\":0,\"fTextAlign\":0,\"fTextColor\":0,\"fTextFont\":62,\"fLineColor\":600,\"fLineStyle\":1,\"fLineWidth\":1,\"fFillColor\":0,\"fFillStyle\":0,\"fMarkerColor\":600,\"fMarkerStyle\":25,\"fMarkerSize\":1,\"fObject\":{\"$ref\":17},\"fLabel\":\"Pre-FSR unfolded data\",\"fOption\":\"ple\"}],\"opt\":[\"ple\",\"ple\",\"ple\"]},\"fEntrySeparation\":0.1,\"fMargin\":0.25,\"fNColumns\":1,\"fColumnSeparation\":0},{\"_typename\":\"TF1\",\"fUniqueID\":0,\"fBits\":50331656,\"fName\":\"f_lepton\",\"fTitle\":\"[0]+[1]*log(x)\",\"fLineColor\":600,\"fLineStyle\":2,\"fLineWidth\":1,\"fFillColor\":19,\"fFillStyle\":0,\"fMarkerColor\":1,\"fMarkerStyle\":20,\"fMarkerSize\":1,\"fXmin\":30,\"fXmax\":900,\"fNpar\":2,\"fNdim\":1,\"fNpx\":100,\"fType\":0,\"fNpfits\":5,\"fNDF\":3,\"fChisquare\":27.5988513566591,\"fMinimum\":-1111,\"fMaximum\":-1111,\"fParErrors\":[0.135159294384024,0.0301065165328459],\"fParMin\":[0,0],\"fParMax\":[0,0],\"fSave\":[],\"fNormalized\":false,\"fNormIntegral\":0,\"fFormula\":{\"_typename\":\"TFormula\",\"fUniqueID\":0,\"fBits\":50332672,\"fName\":\"f_lepton\",\"fTitle\":\"[0]+[1]*log(x)\",\"fClingParameters\":[-15.6292974281566,7.52166749929217],\"fAllParametersSetted\":true,\"fParams\":[{\"$pair\":\"pair<TString,int,TFormulaParamOrder>\",\"first\":\"p0\",\"second\":0},{\"$pair\":\"pair<TString,int,TFormulaParamOrder>\",\"first\":\"p1\",\"second\":1}],\"fFormula\":\"[p0]+[p1]*log(x)\",\"fNdim\":1,\"fLinearParts\":[],\"fVectorized\":false},\"fParams\":null,\"fComposition_ptr\":null}],\"opt\":[\"\",\"ap\",\"p \",\"p \",\"\",\"same\"]},\"fExecs\":null,\"fName\":\"PtVsMass\",\"fTitle\":\"PtVsMass\",\"fNumPaletteColor\":0,\"fNextPaletteColor\":0,\"fDISPLAY\":\"$DISPLAY\",\"fDoubleBuffer\":0,\"fRetained\":true,\"fXsizeUser\":0,\"fYsizeUser\":0,\"fXsizeReal\":20,\"fYsizeReal\":12,\"fWindowTopX\":0,\"fWindowTopY\":0,\"fWindowWidth\":0,\"fWindowHeight\":0,\"fCw\":996,\"fCh\":572,\"fCatt\":{\"_typename\":\"TAttCanvas\",\"fXBetween\":2,\"fYBetween\":2,\"fTitleFromTop\":1.2,\"fXdate\":0.2,\"fYdate\":0.3,\"fAdate\":1},\"kMoveOpaque\":true,\"kResizeOpaque\":true,\"fHighLightColor\":2,\"fBatch\":true,\"kShowEventStatus\":false,\"kAutoExec\":true,\"kMenuBar\":true});\n",
       "       Core.draw(\"root_plot_3\", obj, \"\");\n",
       "     }\n",
       " );\n",
       "</script>\n"
      ],
      "text/plain": [
       "<IPython.core.display.HTML object>"
      ]
     },
     "metadata": {},
     "output_type": "display_data"
    }
   ],
   "source": [
    "gr = rt.TGraph(nBins, meanMass, meanPt)\n",
    "grUnf = rt.TGraphErrors(nBins, meanMassUnf, meanPtUnf, meanMassUnfStatErr, meanPtUnfStatErr)\n",
    "grFSRUnf = rt.TGraphErrors(nBins, meanMassFSRUnf, meanPtFSRUnf, meanMassFSRUnfStatErr, meanPtFSRUnfStatErr)\n",
    "grMC = rt.TGraph(nBins, meanMassFSRUnfMC, meanPtFSRUnfMC)\n",
    "grFSRUnf_twoStep = rt.TGraphErrors(nBins, meanMassFSRUnf_twoStep, meanPtFSRUnf_twoStep, meanMassFSRUnf_twoStepStatErr, meanPtFSRUnf_twoStepStatErr)\n",
    "\n",
    "gr.SetTitle(\"Dilepton p_{T} vs. Mass\")\n",
    "gr.Draw(\"AP\")\n",
    "grUnf.Draw(\"P SAME\")\n",
    "grFSRUnf_twoStep.Draw(\"P SAME\")\n",
    "#grMC.Draw(\"P SAME\")\n",
    "#grFSRUnf_twoStep.Draw(\"P SAME\")\n",
    "#grFSRUnf_twoStep.SetMarkerStyle(25)\n",
    "\n",
    "markerStyle = 20\n",
    "if year == \"2017\":\n",
    "    markerStyle = 25\n",
    "if year == \"2018\":\n",
    "    markerStyle = 26\n",
    "\n",
    "gr.SetMarkerStyle(markerStyle)\n",
    "gr.SetMarkerSize(1)\n",
    "grUnf.SetMarkerStyle(markerStyle)\n",
    "grUnf.SetMarkerSize(1)\n",
    "grUnf.SetLineColor(rt.kRed)\n",
    "grUnf.SetMarkerColor(rt.kRed)\n",
    "grFSRUnf_twoStep.SetMarkerStyle(markerStyle)\n",
    "grFSRUnf_twoStep.SetMarkerSize(1)\n",
    "grFSRUnf_twoStep.SetLineColor(rt.kBlue)\n",
    "grFSRUnf_twoStep.SetMarkerColor(rt.kBlue)\n",
    "grMC.SetMarkerStyle(24)\n",
    "grMC.SetMarkerSize(1)\n",
    "grMC.SetLineColor(rt.kBlue)\n",
    "grMC.SetMarkerColor(rt.kBlue)\n",
    "gr.GetYaxis().SetRangeUser(10., 35.)\n",
    "gr.GetXaxis().SetLimits(10., 1000.)\n",
    "\n",
    "legend = rt.TLegend(0.68, 0.2, 0.88, 0.4)\n",
    "legend.AddEntry(gr, \"Detector  data \" + year, \"ple\")\n",
    "legend.AddEntry(grUnf, \"Det unfolded data\", \"ple\")\n",
    "legend.AddEntry(grFSRUnf_twoStep, \"Pre-FSR unfolded data\", \"ple\")\n",
    "legend.Draw()\n",
    "\n",
    "fitLinear = rt.TF1(\"f_lepton\", \"[0]+[1]*log(x)\", 30., 900.);\n",
    "fitLinear.SetLineStyle(2)\n",
    "fitLinear.SetLineColor(rt.kBlue)\n",
    "fitLinear.SetLineWidth(1)\n",
    "grFSRUnf_twoStep.Fit(fitLinear, \"R0\")\n",
    "fitLinear.Draw(\"same\")\n",
    "c_PtVsMass.Draw()"
   ]
  },
  {
   "cell_type": "code",
   "execution_count": 39,
   "metadata": {},
   "outputs": [
    {
     "name": "stderr",
     "output_type": "stream",
     "text": [
      "Info in <TCanvas::Print>: pdf file Muon_PtVsMass_2017.pdf has been created\n"
     ]
    }
   ],
   "source": [
    "c_PtVsMass.SaveAs(\"Muon_PtVsMass_\"+year+\".pdf\")"
   ]
  },
  {
   "cell_type": "code",
   "execution_count": 40,
   "metadata": {},
   "outputs": [
    {
     "data": {
      "text/plain": [
       "3"
      ]
     },
     "execution_count": 40,
     "metadata": {},
     "output_type": "execute_result"
    }
   ],
   "source": [
    "fitLinear.GetNDF()"
   ]
  },
  {
   "cell_type": "markdown",
   "metadata": {},
   "source": [
    "#### Break down the current mass bin [81:101] into  [81:91] and [91:101]"
   ]
  }
 ],
 "metadata": {
  "kernelspec": {
   "display_name": "Python 3",
   "language": "python",
   "name": "python3"
  },
  "language_info": {
   "codemirror_mode": {
    "name": "ipython",
    "version": 3
   },
   "file_extension": ".py",
   "mimetype": "text/x-python",
   "name": "python",
   "nbconvert_exporter": "python",
   "pygments_lexer": "ipython3",
   "version": "3.6.8"
  }
 },
 "nbformat": 4,
 "nbformat_minor": 4
}
