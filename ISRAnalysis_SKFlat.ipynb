{
 "cells": [
  {
   "cell_type": "code",
   "execution_count": null,
   "metadata": {
    "scrolled": true
   },
   "outputs": [],
   "source": [
    "import ISRAnalysis as an\n",
    "import sys\n",
    "import ROOT as rt"
   ]
  },
  {
   "cell_type": "markdown",
   "metadata": {},
   "source": [
    "# unfolding"
   ]
  },
  {
   "cell_type": "code",
   "execution_count": null,
   "metadata": {},
   "outputs": [],
   "source": [
    "doSys = False\n",
    "\n",
    "channel_postfix = \"detector_preFSR_skflat\"\n",
    "year = \"2017\"\n",
    "\n",
    "#variable = \"[dimass-dipt]\"\n",
    "#bin_def = [\"[folded_dimass55-folded_extended]\",\n",
    "#           \"[unfolded_dimass55-unfolded_extended]\"]\n",
    "\n",
    "variable = \"[dipt-dimass]\"\n",
    "bin_def = [\"[folded_extended-folded_dimass55]\",\n",
    "           \"[unfolded_extended-unfolded_dimass55]\"]\n",
    "\n",
    "channel = \"ee\"\n",
    "bias = 0\n",
    "\n",
    "# Select regularization mode\n",
    "regularisation_mode = rt.TUnfold.kRegModeNone\n",
    "\n",
    "#Select density mode\n",
    "density_mode = rt.TUnfoldDensity.kDensityModeNone\n",
    "\n",
    "# Redirect stdout and stderr\n",
    "sys.stderr = open(\"./log/stderr_\"+channel+\"_\"+year+\".txt\", \"w\")\n",
    "sys.stdout = open(\"./log/stdout_\"+channel+\"_\"+year+\".txt\", \"w\")\n",
    "\n",
    "detUnfold = an.ISRAnalysis(\"DetUNFOLD\", # prefix for output root file\n",
    "                           year, \n",
    "                           channel, \n",
    "                           channel_postfix,\n",
    "                           \"DY\", # key for root file with response matrix\n",
    "                           bin_def, # \n",
    "                           variable,\n",
    "                           regularisation_mode, \n",
    "                           bias,\n",
    "                           density_mode)"
   ]
  },
  {
   "cell_type": "code",
   "execution_count": null,
   "metadata": {},
   "outputs": [],
   "source": [
    "#detUnfold.checkMatrixCond()"
   ]
  },
  {
   "cell_type": "code",
   "execution_count": null,
   "metadata": {},
   "outputs": [],
   "source": [
    "detUnfold.set_input_hist(use_MC_input=False)\n",
    "detUnfold.set_bkgs()\n",
    "#detUnfold.subFake() # Subract DY fake (out of fiducial volume at gen level), subUnfoldFake()"
   ]
  },
  {
   "cell_type": "code",
   "execution_count": null,
   "metadata": {},
   "outputs": [],
   "source": [
    "if doSys == True:\n",
    "    \n",
    "    PDF_sys_list = [\"PDFerror{:0>3}\".format(str(i)) for i in range(1,101)]\n",
    "    \n",
    "    if channel == \"mm\" :\n",
    "            \n",
    "        systematics = {\n",
    "            \"Type_2\": [\"IdSFUp\", \"IdSFDown\", \n",
    "                       \"IsoSFUp\",\"IsoSFDown\", \n",
    "                       \"trgSFUp\", \"trgSFDown\", \n",
    "                       \"PUUp\", \"PUDown\", \n",
    "                       \"bvetoUp\", \"bvetoDown\", \n",
    "                       \"ScaleABUp\", \"ScaleABDown\", \"ScaleAUp\", \"ScaleADown\", \"ScaleBUp\", \"ScaleBDown\", \n",
    "                       \"AlphaSUp\", \"AlphaSDown\",\n",
    "                       \"LepMomScaleUp\",\"LepMomScaleDown\"\n",
    "                      ],\n",
    "        }\n",
    "        systematics[\"Type_2\"] += PDF_sys_list\n",
    "    \n",
    "    if channel == \"ee\" :\n",
    "        \n",
    "            systematics = {\n",
    "                \"Type_2\": [\"IDSF_up\", \"IDSF_down\"],\n",
    "                \"Type_1\": [\"scale_up\", \"scale_down\"]   # lepton momentum scale\n",
    "            }\n",
    "            \n",
    "    for sys_type, sys_names in systematics.items():\n",
    "        for sys_name in sys_names:\n",
    "            \n",
    "            detUnfold.set_systematics(sys_type, sys_name) # Currently, response matrix set here\n",
    "            \n",
    "            detUnfold.set_input_hist(False, sys_type, sys_name)\n",
    "            detUnfold.set_bkgs(sys_type, sys_name) \n",
    "            #detUnfold.subFake(\"Detector_DY_Fake\", sysType, sysName)"
   ]
  },
  {
   "cell_type": "code",
   "execution_count": null,
   "metadata": {},
   "outputs": [],
   "source": [
    "do_partial_reg = False\n",
    "\n",
    "# apply regularization for the pt distribution of the lass mass region\n",
    "if variable == \"[dipt-dimass]\" :\n",
    "    do_partial_reg = True\n",
    "\n",
    "detUnfold.do_unfold(do_partial_reg) # nominal unfold option for partial regularization"
   ]
  },
  {
   "cell_type": "code",
   "execution_count": null,
   "metadata": {},
   "outputs": [],
   "source": [
    "detUnfold.doAcceptance(isFSR=False)\n",
    "detUnfold.closeOutFiles()\n",
    "detUnfold.combineOutFiles()"
   ]
  }
 ],
 "metadata": {
  "kernelspec": {
   "display_name": "Python 3 (ipykernel)",
   "language": "python",
   "name": "python3"
  },
  "language_info": {
   "codemirror_mode": {
    "name": "ipython",
    "version": 3
   },
   "file_extension": ".py",
   "mimetype": "text/x-python",
   "name": "python",
   "nbconvert_exporter": "python",
   "pygments_lexer": "ipython3",
   "version": "3.8.8"
  }
 },
 "nbformat": 4,
 "nbformat_minor": 4
}
