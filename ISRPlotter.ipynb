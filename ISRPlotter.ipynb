{
 "cells": [
  {
   "cell_type": "code",
   "execution_count": 1,
   "metadata": {},
   "outputs": [
    {
     "data": {
      "text/html": [
       "<style>.container { width:100% !important; }</style>"
      ],
      "text/plain": [
       "<IPython.core.display.HTML object>"
      ]
     },
     "metadata": {},
     "output_type": "display_data"
    },
    {
     "name": "stdout",
     "output_type": "stream",
     "text": [
      "Welcome to JupyROOT 6.14/04\n"
     ]
    }
   ],
   "source": [
    "from IPython.core.display import display, HTML\n",
    "display(HTML(\"<style>.container { width:100% !important; }</style>\"))\n",
    "import ISRPlotter as isrplot "
   ]
  },
  {
   "cell_type": "code",
   "execution_count": 7,
   "metadata": {
    "scrolled": true
   },
   "outputs": [],
   "source": [
    "#isr_analysis[\"year\"][\"channel\"][\"level\"]\n",
    "#years=[\"2016\",\"2017\",\"2018\"]\n",
    "years=[\"2016\"]\n",
    "channels=[\"electron\"]\n",
    "levels=[\"DetUNFOLD\", \"FSRUNFOLD\"]\n",
    "#levels=[\"DetUNFOLD\"]\n",
    "\n",
    "channel_postfix = \"\"\n",
    "\n",
    "isr_analysis={}\n",
    "\n",
    "for year in years :\n",
    "    isr_analysis[year]=dict()\n",
    "    for channel in channels :\n",
    "        isr_analysis[year][channel]=dict()\n",
    "        \n",
    "        input_root_file   = \"./inFiles/\"+year+\"/\"+channel+\"/unfold_input_test_gg.root\"\n",
    "        input_config_file = './config/'+year+'/'+channel+'/config_'+year+'_'+channel+'.json'\n",
    "        \n",
    "        if channel_postfix != \"\" :\n",
    "            #input_root_file   = './inFiles/'+year+'/'+channel+\"_\"+channel_postfix+'/unfold_input_' + channel_postfix + '.root'\n",
    "            input_root_file   = './inFiles/'+year+'/'+channel+\"_\"+channel_postfix+'/unfold_input_tunfold_.root'\n",
    "            input_config_file = './config/'+year+'/'+channel+\"_\"+channel_postfix+'/config_'+year+'_'+channel+'.json'\n",
    "        \n",
    "        isr_analysis[year][channel][\"detector\"]= \\\n",
    "        isrplot.ISRPlotter(input_root_file, input_config_file, False)\n",
    "        \n",
    "        doFit=False\n",
    "        for level in levels :\n",
    "            \n",
    "            input_root_file   = \"./output/\"+year+\"/\"+channel+\"/\"+level+\"_\"+channel+\"_\"+year+\".root\"\n",
    "            input_config_file = \"./config/\"+year+\"/\"+channel+\"/config_\"+level+\"_\"+channel+\"_\"+year+\".json\"\n",
    "            \n",
    "            if channel_postfix != \"\" :\n",
    "                input_root_file   = \"./output/\"+year+\"/\"+channel+\"_\"+channel_postfix+\"/\"+level+\"_\"+channel+\"_\"+year+\".root\"\n",
    "                input_config_file = \"./config/\"+year+\"/\"+channel+\"_\"+channel_postfix+\"/config_\"+level+\"_\"+channel+\"_\"+year+\".json\"\n",
    "            \n",
    "            isr_analysis[year][channel][level]= isrplot.ISRPlotter(input_root_file, input_config_file, False)\n",
    "            \n",
    "            input_config_file = \"./config/\"+year+\"/\"+channel+\"/config_\"+level+\"_Acceptance_\"+channel+\"_\"+year+\".json\"\n",
    "            if channel_postfix != \"\" :\n",
    "                input_config_file = \"./config/\"+year+\"/\"+channel+\"_\"+channel_postfix+\"/config_\"+level+\"_Acceptance_\"+channel+\"_\"+year+\".json\"\n",
    "                \n",
    "            isr_analysis[year][channel][level+\"_Acceptance\"]= isrplot.ISRPlotter(input_root_file, input_config_file, False)\n",
    "            "
   ]
  },
  {
   "cell_type": "code",
   "execution_count": 8,
   "metadata": {},
   "outputs": [
    {
     "name": "stdout",
     "output_type": "stream",
     "text": [
      "draw isr plot, do_linear_fit False\n",
      "draw isr plot, do_linear_fit False\n",
      "draw isr plot, do_linear_fit False\n",
      "draw isr plot, do_linear_fit False\n",
      "draw isr plot, do_linear_fit True\n",
      "do log-linear fit!\n",
      "Beta: [  3.76100967 -15.70821449]\n",
      "Beta Std Error: [0.07509082 0.67490134]\n",
      "Beta Covariance: [[ 0.01705108 -0.15310607]\n",
      " [-0.15310607  1.37739538]]\n",
      "Residual Variance: 0.33069068542660446\n",
      "Inverse Condition #: 0.0004797699135113831\n",
      "Reason(s) for Halting:\n",
      "  Sum of squares convergence\n"
     ]
    }
   ],
   "source": [
    "for year in years :\n",
    "    for channel in channels :\n",
    "        \n",
    "        isr_analysis[year][channel][\"detector\"].drawHistPlot(\"Mass\", divde_by_bin_width = False, setLogy=True, setLogx=False, showMeanValue=False, figSize=(8,7),  ratio_max=1.2, ratio_min=0.8)\n",
    "        for i in range(5) :\n",
    "            isr_analysis[year][channel][\"detector\"].drawHistPlot(\"Pt__\"+str(i),\n",
    "                                                             divde_by_bin_width = False, setLogy=True, setLogx=False, showMeanValue=False, figSize=(8,7))\n",
    "        \n",
    "        isr_analysis[year][channel][\"detector\"].drawISRPlot(\"MeasuredBkgSubtracted\",\"Signal\")\n",
    "    \n",
    "        doFit=False\n",
    "        for level in levels :\n",
    "            \n",
    "            isr_analysis[year][channel][level].drawHistPlot(\"Mass\", divde_by_bin_width = False, setLogy=True, setLogx=False, showMeanValue=False, figSize=(7,7))\n",
    "            for i in range(5) :\n",
    "                isr_analysis[year][channel][level].drawHistPlot(\"Pt__\"+str(i), \n",
    "                                                            divde_by_bin_width = False, setLogy=True, setLogx=False, showMeanValue=False, figSize=(7,7))\n",
    "            \n",
    "            isr_analysis[year][channel][level+\"_Acceptance\"].drawHistPlot(\"Mass\", divde_by_bin_width = False, setLogy=True, setLogx=False, showMeanValue=False, figSize=(7,7))\n",
    "            for i in range(5) :\n",
    "                isr_analysis[year][channel][level+\"_Acceptance\"].drawHistPlot(\"Pt__\"+str(i),\n",
    "                                                            divde_by_bin_width = False, setLogy=False, setLogx=False, showMeanValue=False, figSize=(7,7))\n",
    "            \n",
    "                \n",
    "            isr_analysis[year][channel][level].drawISRPlot(\"Measured\",\"Signal\",do_linear_fit=doFit, xmin=30, xmax=1000, ymin=7, ymax=35)\n",
    "            \n",
    "            if level == \"FSRUNFOLD\" :\n",
    "                doFit=True\n",
    "            else : \n",
    "                doFit=False\n",
    "                \n",
    "            isr_analysis[year][channel][level+\"_Acceptance\"].drawISRPlot(\"Measured\",\"Signal\",do_linear_fit=doFit, xmin=30, xmax=1000,  ymin=7, ymax=35)"
   ]
  },
  {
   "cell_type": "code",
   "execution_count": null,
   "metadata": {},
   "outputs": [],
   "source": [
    "isr_analysis_barrel={}\n",
    "channel_postfix = \"EB\"\n",
    "\n",
    "for year in years :\n",
    "    isr_analysis_barrel[year]=dict()\n",
    "    for channel in channels :\n",
    "        isr_analysis_barrel[year][channel]=dict()\n",
    "        \n",
    "        input_root_file   = \"./inFiles/\"+year+\"/\"+channel+\"/unfold_input.root\"\n",
    "        input_config_file = './config/'+year+'/'+channel+'/config_'+year+'_'+channel+'.json'\n",
    "        \n",
    "        if channel_postfix != \"\" :\n",
    "            #input_root_file   = './inFiles/'+year+'/'+channel+\"_\"+channel_postfix+'/unfold_input_' + channel_postfix + '.root'\n",
    "            input_root_file   = './inFiles/'+year+'/'+channel+\"_\"+channel_postfix+'/unfold_input_'+ channel_postfix  +'.root'\n",
    "            input_config_file = './config/'+year+'/'+channel+\"_\"+channel_postfix+'/config_'+year+'_'+channel+'.json'\n",
    "        \n",
    "        isr_analysis_barrel[year][channel][\"detector\"]= \\\n",
    "        isrplot.ISRPlotter(input_root_file, input_config_file, False)\n",
    "        \n",
    "        doFit=False\n",
    "        for level in levels :\n",
    "            \n",
    "            input_root_file   = \"./output/\"+year+\"/\"+channel+\"/\"+level+\"_\"+channel+\"_\"+year+\".root\"\n",
    "            input_config_file = \"./config/\"+year+\"/\"+channel+\"/config_\"+level+\"_\"+channel+\"_\"+year+\".json\"\n",
    "            \n",
    "            if channel_postfix != \"\" :\n",
    "                input_root_file   = \"./output/\"+year+\"/\"+channel+\"_\"+channel_postfix+\"/\"+level+\"_\"+channel+\"_\"+year+\".root\"\n",
    "                input_config_file = \"./config/\"+year+\"/\"+channel+\"_\"+channel_postfix+\"/config_\"+level+\"_\"+channel+\"_\"+year+\".json\"\n",
    "            \n",
    "            isr_analysis_barrel[year][channel][level]= isrplot.ISRPlotter(input_root_file, input_config_file, False)\n",
    "            \n",
    "            input_config_file = \"./config/\"+year+\"/\"+channel+\"/config_\"+level+\"_Acceptance_\"+channel+\"_\"+year+\".json\"\n",
    "            if channel_postfix != \"\" :\n",
    "                input_config_file = \"./config/\"+year+\"/\"+channel+\"_\"+channel_postfix+\"/config_\"+level+\"_Acceptance_\"+channel+\"_\"+year+\".json\"\n",
    "                \n",
    "            isr_analysis_barrel[year][channel][level+\"_Acceptance\"]= isrplot.ISRPlotter(input_root_file, input_config_file, False)\n",
    "            \n",
    "            "
   ]
  },
  {
   "cell_type": "code",
   "execution_count": null,
   "metadata": {},
   "outputs": [],
   "source": [
    "isr_analysis_barrel[\"2018\"][\"electron\"][\"FSRUNFOLD_Acceptance\"].drawISRPlot(\"Data\",\"Signal\",do_linear_fit=True)"
   ]
  },
  {
   "cell_type": "code",
   "execution_count": null,
   "metadata": {},
   "outputs": [],
   "source": [
    "isr_analysis_barrel[\"2016\"][\"electron\"][\"DetUNFOLD_Acceptance\"].drawISRPlots(isr_analysis_barrel[\"2017\"][\"electron\"][\"DetUNFOLD_Acceptance\"], \n",
    "                                                                      isr_analysis_barrel[\"2018\"][\"electron\"][\"DetUNFOLD_Acceptance\"],\n",
    "                                                                      isr_analysis_barrel[\"2016\"][\"electron\"][\"detector\"],\n",
    "                                                                      isr_analysis_barrel[\"2017\"][\"electron\"][\"detector\"],\n",
    "                                                                      isr_analysis_barrel[\"2018\"][\"electron\"][\"detector\"],\n",
    "                                                          names_in_objects=[\"Data\", \"Data\", \"Data\", \"Data\", \"Data\", \"Data\"], do_linear_fit=[False, False, False, False, False, False], \n",
    "                                                          labels=[\"2016 unfolded data\", \"2017\", \"2018\", \"2016 detector data\", \"2017\", \"2018\"], \n",
    "                                                          markers=[\"o\",\"<\",\">\",\"o\",\"<\",\">\"], colors=[\"black\",\"blue\",\"red\",\"black\",\"blue\",\"red\"], \n",
    "                                                          facecolor_list=['black','blue','red','None', 'None', 'None'], ymin=13, ymax=33, xmin=40, xmax=400)"
   ]
  },
  {
   "cell_type": "code",
   "execution_count": null,
   "metadata": {},
   "outputs": [],
   "source": [
    "isr_analysis[2016][\"electron\"][\"detector\"].drawHistPlot(\"Pt_4\",\n",
    "                                                            divde_by_bin_width = False, setLogy=False, setLogx=False, showMeanValue=False, figSize=(7,7), \n",
    "                                                            ratio_max=1.5, ratio_min=0.5,\n",
    "                                                            ext_object_list=[isr_analysis_barrel[\"2016\"][\"electron\"][\"detector\"]], ext_name_list=[\"MC@NLO(CP5)_Signal\"])"
   ]
  },
  {
   "cell_type": "code",
   "execution_count": null,
   "metadata": {},
   "outputs": [],
   "source": [
    "input_root_file=\"./output/2017/electron/FSRUNFOLD_Acceptance_electron_2017.root\"\n",
    "input_config_file=\"./config/2017/electron/config_FSRUNFOLD_Acceptance_electron_2017.json\"\n",
    "ext_obj = isrplot.ISRPlotter(input_root_file, input_config_file, False)"
   ]
  },
  {
   "cell_type": "code",
   "execution_count": null,
   "metadata": {},
   "outputs": [],
   "source": [
    "temp = ext_obj.getDict(\"Signal\")"
   ]
  },
  {
   "cell_type": "code",
   "execution_count": null,
   "metadata": {},
   "outputs": [],
   "source": [
    "temp[\"Mass\"].keys()"
   ]
  },
  {
   "cell_type": "code",
   "execution_count": null,
   "metadata": {},
   "outputs": [],
   "source": []
  },
  {
   "cell_type": "code",
   "execution_count": null,
   "metadata": {},
   "outputs": [],
   "source": [
    "isr_analysis[\"2016\"][\"electron\"][\"FSRUNFOLD_Acceptance\"].drawHistPlot(\"Mass\",\n",
    "                                                            divde_by_bin_width = False, setLogy=False, setLogx=False, showMeanValue=False, figSize=(8,7), \n",
    "                                                            ratio_max=1.5, ratio_min=0.5,\n",
    "                                                            ext_object_list=[ext_obj], ext_names_list=[\"MC@NLO(CP5)_Signal\"], draw_mode=2, denominator=\"MC@NLO(CUETP8M1)_Signal\")"
   ]
  },
  {
   "cell_type": "code",
   "execution_count": 6,
   "metadata": {},
   "outputs": [],
   "source": [
    "input_root_file=\"./inFiles/2016/electron/unfold_input_test_gg.root\"\n",
    "input_config_file=\"./config/2016/electron/config_2016_electron.json\"\n",
    "electron_2016 = isrplot.ISRPlotter(input_root_file, input_config_file, False)"
   ]
  },
  {
   "cell_type": "code",
   "execution_count": null,
   "metadata": {},
   "outputs": [],
   "source": [
    "input_root_file=\"./inFiles/2017/electron/unfold_input_test.root\"\n",
    "input_config_file=\"./config/2017/electron/config_2017_electron.json\"\n",
    "electron_2017 = isrplot.ISRPlotter(input_root_file, input_config_file, False)"
   ]
  },
  {
   "cell_type": "code",
   "execution_count": null,
   "metadata": {},
   "outputs": [],
   "source": [
    "input_root_file=\"./inFiles/2018/electron/unfold_input_test.root\"\n",
    "input_config_file=\"./config/2018/electron/config_2018_electron.json\"\n",
    "electron_2018 = isrplot.ISRPlotter(input_root_file, input_config_file, False)"
   ]
  },
  {
   "cell_type": "code",
   "execution_count": null,
   "metadata": {},
   "outputs": [],
   "source": [
    "input_root_file=\"./inFiles/2016/muon/unfold_input_test.root\"\n",
    "input_config_file=\"./config/2016/muon/config_2016_muon.json\"\n",
    "muon_2016 = isrplot.ISRPlotter(input_root_file, input_config_file, False)"
   ]
  },
  {
   "cell_type": "code",
   "execution_count": null,
   "metadata": {},
   "outputs": [],
   "source": [
    "input_root_file=\"./inFiles/2017/muon/unfold_input_test.root\"\n",
    "input_config_file=\"./config/2017/muon/config_2017_muon.json\"\n",
    "muon_2017 = isrplot.ISRPlotter(input_root_file, input_config_file, False)"
   ]
  },
  {
   "cell_type": "code",
   "execution_count": null,
   "metadata": {},
   "outputs": [],
   "source": [
    "input_root_file=\"./inFiles/2018/muon/unfold_input_test.root\"\n",
    "input_config_file=\"./config/2018/muon/config_2018_muon.json\"\n",
    "muon_2018 = isrplot.ISRPlotter(input_root_file, input_config_file, False)"
   ]
  },
  {
   "cell_type": "code",
   "execution_count": null,
   "metadata": {},
   "outputs": [],
   "source": [
    "electron_2016.drawHistPlot(\"Mass\",\n",
    "                    divde_by_bin_width = True, setLogy=True, setLogx=False, showMeanValue=False, figSize=(8,7), \n",
    "                    ratio_max=1.15, ratio_min=0.85, ext_names_list=[], minimum_content = 1e-2, showNEvents=True,\n",
    "                    internal_names=[\"DY_Signal\"], draw_mode=0, denominator=\"Data_Measured\")"
   ]
  },
  {
   "cell_type": "code",
   "execution_count": null,
   "metadata": {},
   "outputs": [],
   "source": [
    "muon_2018.drawHistPlot(\"Mass\",\n",
    "                    divde_by_bin_width = True, setLogy=True, setLogx=False, showMeanValue=False, figSize=(8,7), \n",
    "                    ratio_max=1.15, ratio_min=0.85, ext_names_list=[], minimum_content = 1e-2, showNEvents=True,\n",
    "                    internal_names=[\"DY_Signal\"], draw_mode=1, denominator=\"Data bkg subtracted_MeasuredBkgSubtracted_total\")"
   ]
  },
  {
   "cell_type": "code",
   "execution_count": null,
   "metadata": {},
   "outputs": [],
   "source": [
    "electron_2016.drawHistPlot(\"Pt__4\",\n",
    "                    divde_by_bin_width = True, setLogy=True, setLogx=False, showMeanValue=False, figSize=(8,7), \n",
    "                    ratio_max=1.15, ratio_min=0.85, ext_object_list=[electron_2017, electron_2018], minimum_content = 1e-2, showNEvents=False,\n",
    "                    ext_names_list=[\"Data bkg subtracted(2017)_MeasuredBkgSubtracted_total\", \"Data bkg subtracted(2018)_MeasuredBkgSubtracted_total\"], draw_mode=2, denominator=\"Data bkg subtracted_MeasuredBkgSubtracted_total\")"
   ]
  },
  {
   "cell_type": "code",
   "execution_count": null,
   "metadata": {},
   "outputs": [],
   "source": [
    "muon_2016.drawHistPlot(\"Mass\",\n",
    "                    divde_by_bin_width = True, setLogy=True, setLogx=False, showMeanValue=False, figSize=(8,7), \n",
    "                    ratio_max=1.15, ratio_min=0.85, ext_object_list=[muon_2017, muon_2018], minimum_content = 1e-2, showNEvents=False,\n",
    "                    ext_names_list=[\"Data bkg subtracted(2017)_MeasuredBkgSubtracted_total\", \"Data bkg subtracted(2018)_MeasuredBkgSubtracted_total\"], draw_mode=2, denominator=\"Data bkg subtracted_MeasuredBkgSubtracted_total\")"
   ]
  },
  {
   "cell_type": "code",
   "execution_count": null,
   "metadata": {},
   "outputs": [],
   "source": [
    "electron_2016.drawHistPlot(\"Mass\",\n",
    "                    divde_by_bin_width = False, setLogy=True, setLogx=False, showMeanValue=False, figSize=(8,7), \n",
    "                    ratio_max=2.0, ratio_min=0., setRatioLogy=True, ext_names_list=[],\n",
    "                    internal_names=[\"gammagamma_Background\",\"tW_Background\", \"TTbar_Background\", \"VV_Background\", \"DY $\\\\tau\\\\tau$_Background\", \"DY_Signal\"], draw_mode=1, denominator=\"Total MC_MCTotal_total\")"
   ]
  },
  {
   "cell_type": "code",
   "execution_count": null,
   "metadata": {},
   "outputs": [],
   "source": [
    "wo_zpt_electron.drawISRPlot(\"MeasuredBkgSubtracted\",\"Signal\")"
   ]
  },
  {
   "cell_type": "code",
   "execution_count": null,
   "metadata": {},
   "outputs": [],
   "source": [
    "isr_analysis[\"2016\"][\"muon\"][\"FSRUNFOLD_Acceptance\"].drawISRUncertaintyPlot(variable=\"Pt\", ymin=0.97, ymax=1.03)"
   ]
  },
  {
   "cell_type": "code",
   "execution_count": null,
   "metadata": {},
   "outputs": [],
   "source": [
    "data = isr_analysis[\"2016\"][\"electron\"][\"detector\"].getDict(\"MeasuredBkgSubtracted\")"
   ]
  },
  {
   "cell_type": "code",
   "execution_count": null,
   "metadata": {},
   "outputs": [],
   "source": [
    "data[\"Mass\"].keys()"
   ]
  },
  {
   "cell_type": "code",
   "execution_count": null,
   "metadata": {},
   "outputs": [],
   "source": [
    "data_mass_df = data[\"Mass\"]['DY']"
   ]
  },
  {
   "cell_type": "code",
   "execution_count": null,
   "metadata": {},
   "outputs": [],
   "source": [
    "data_mass_df.keys()"
   ]
  },
  {
   "cell_type": "code",
   "execution_count": null,
   "metadata": {},
   "outputs": [],
   "source": [
    " data[\"Mass\"][\"total\"].keys()"
   ]
  },
  {
   "cell_type": "code",
   "execution_count": null,
   "metadata": {},
   "outputs": [],
   "source": [
    "data_pt_df = isr_analysis[\"2016\"][\"electron\"][\"FSRUNFOLD_Acceptance\"].combinedPtDataFrame(\"Data\")"
   ]
  },
  {
   "cell_type": "code",
   "execution_count": null,
   "metadata": {},
   "outputs": [],
   "source": [
    "data_pt_df"
   ]
  },
  {
   "cell_type": "code",
   "execution_count": null,
   "metadata": {},
   "outputs": [],
   "source": [
    "def makeErrorNumpy(Up, Down) :                                                                                                                                                                                                                                                                                      \n",
    "                                                                                                                                                                                                                                                                                                                          \n",
    "    Up=Up.values                                                                                                                                                                                                                                                                                                          \n",
    "    Up[np.isinf(Up)] = 0                                                                                                                                                                                                                                                                                                  \n",
    "    Up=Up.reshape(1,len(Up))                                                                                                                                                                                                                                                                                              \n",
    "    Down=Down.values                                                                                                                                                                                                                                                                                                      \n",
    "    Down[np.isinf(Down)] = 0                                                                                                                                                                                                                                                                                              \n",
    "    Down=Down.reshape(1,len(Down))                                                                                                                                                                                                                                                                                        \n",
    "                                                                                                                                                                                                                                                                                                                          \n",
    "    UpDown=Up                                                                                                                                                                                                                                                                                                             \n",
    "    UpDown=np.append(UpDown, Down, axis = 0)                                                                                                                                                                                                                                                                              \n",
    "                                                                                                                                                                                                                                                                                                                          \n",
    "    return UpDown "
   ]
  },
  {
   "cell_type": "code",
   "execution_count": null,
   "metadata": {},
   "outputs": [],
   "source": [
    "data_pt_df.total_Up"
   ]
  },
  {
   "cell_type": "code",
   "execution_count": null,
   "metadata": {},
   "outputs": [],
   "source": [
    "        fig, ax = plt.subplots(figsize=(8, 6))                                                                                                                                                                                                                                                                               \n",
    "        plt.subplots_adjust(left=0.12, right=0.97, bottom=0.15, top=0.9)                                                                                                                                                                                                                                                      \n",
    "        ax.text(0., 1.05, \"CMS Work in progress\", fontsize=20, transform=ax.transAxes)                                                                                                                                                                                                                                        \n",
    "        ax.text(1., 1.05, \"(13 TeV, 2016)\", fontsize=20, transform=ax.transAxes, ha='right')                                                                                                                                                                                                                     \n",
    "                                                                                                                                                                                                                                                                                                                              \n",
    "        ax.set_xlim(0,6)                                                                                                                                                                                                                                                                                                   \n",
    "        ax.set_ylim(0.95,1.05)                                                                                                                                                                                                                                                                                                     \n",
    "        #ax.set_xscale(\"log\")                                                                                                                                                                                                                                                                                                  \n",
    "        #ax.xaxis.set_minor_formatter(FormatStrFormatter(\"%.0f\"))     \n",
    "        mass_systematic=makeErrorNumpy(data_mass_df.total_Up, data_mass_df.total_Down)\n",
    "        pt_systematic=makeErrorNumpy(data_pt_df.total_Up, data_pt_df.total_Down) \n",
    "        \n",
    "        mass_bin_index = [1, 2, 3 ,4, 5]\n",
    "        handle1 = ax.errorbar(mass_bin_index, (data_pt_df.total_Up+data_pt_df[\"mean\"])/data_pt_df[\"mean\"], xerr=0, yerr=0, fmt='--', ms = 4., label=\"total\", linewidth = 0.5) \n",
    "        handle2 = ax.errorbar(mass_bin_index, (data_pt_df.Scale_Up+data_pt_df[\"mean\"])/data_pt_df[\"mean\"], xerr=0, yerr=0, fmt='o', ms = 4., linewidth = 0.5)\n",
    "        color1=handle1[0].get_color()\n",
    "        color2=handle2[0].get_color()\n",
    "        ax.errorbar(mass_bin_index, (data_pt_df.Scale_Down+data_pt_df[\"mean\"])/data_pt_df[\"mean\"], xerr=0, yerr=0, fmt='o', ms = 4., linewidth = 0.5, color=color2, fillstyle = \"none\")\n",
    "        ax.errorbar(mass_bin_index, (data_pt_df[\"mean\"]-data_pt_df.total_Down)/data_pt_df[\"mean\"], xerr=0, yerr=0, fmt='--', ms = 4., color=color1,  fillstyle = \"none\", linewidth = 0.5) \n",
    "    \n",
    "        fig.tight_layout()\n",
    "        plt.savefig(\"isr_test.pdf\")"
   ]
  },
  {
   "cell_type": "code",
   "execution_count": null,
   "metadata": {},
   "outputs": [],
   "source": []
  },
  {
   "cell_type": "code",
   "execution_count": null,
   "metadata": {},
   "outputs": [],
   "source": [
    "isr_analysis[\"2016\"][\"electron\"][\"FSRUNFOLD_Acceptance\"].drawISRPlots(isr_analysis[\"2017\"][\"electron\"][\"FSRUNFOLD_Acceptance\"], isr_analysis[\"2018\"][\"electron\"][\"FSRUNFOLD_Acceptance\"],\n",
    "                                                          names_in_objects=[\"Data\", \"Data\", \"Data\"], do_linear_fit=[False, False, False, False, False, False], \n",
    "                                                          labels=[\"2016 Barrel\", \"2017 Barrel\", \"2018 Barrel\"], \n",
    "                                                          markers=[\"o-\",\"<-\",\">-\",\"o\",\"<\",\">\"], colors=[\"black\",\"blue\",\"red\",\"black\",\"blue\",\"red\"], \n",
    "                                                          facecolor_list=['black','blue','red','None', 'None', 'None'], ymin=13, ymax=30)"
   ]
  },
  {
   "cell_type": "code",
   "execution_count": null,
   "metadata": {},
   "outputs": [],
   "source": [
    "electron_eb_2016=isrplot.ISRPlotter(\"./inFiles/2016/electron_EB/unfold_input_EB.root\",'./config/2016/electron_EB/config_2016_electron.json', False)\n",
    "electron_eb_2017=isrplot.ISRPlotter(\"./inFiles/2017/electron_EB/unfold_input_EB.root\",'./config/2017/electron_EB/config_2017_electron.json', False)\n",
    "electron_eb_2018=isrplot.ISRPlotter(\"./inFiles/2018/electron_EB/unfold_input_EB.root\",'./config/2018/electron/config_2018_electron_.json', False)\n",
    "\n",
    "electron_ee_2016=isrplot.ISRPlotter(\"./inFiles/2016/electron_EE/unfold_input_EE.root\",'./config/2016/electron_EB/config_2016_electron.json', False)\n",
    "electron_ee_2017=isrplot.ISRPlotter(\"./inFiles/2017/electron_EE/unfold_input_EE.root\",'./config/2017/electron/config_2017_electron_.json', False)\n",
    "electron_ee_2018=isrplot.ISRPlotter(\"./inFiles/2018/electron_EE/unfold_input_EE.root\",'./config/2018/electron/config_2018_electron_.json', False)"
   ]
  },
  {
   "cell_type": "code",
   "execution_count": null,
   "metadata": {},
   "outputs": [],
   "source": [
    "electron_eb_2016.drawHistPlotComparison(electron_eb_2017, electron_eb_2018, nominator_name=\"Data\", denominator_name=\"Data\", \n",
    "                                                                                variables=[\"Pt_4\"], names=[\"2016\", \"2017\", \"2018\"], markers=[\"<\", \">\"], colors=[\"blue\", \"red\"],  \n",
    "                                                                                divde_by_bin_width = True, setLogy=True, setLogx=True, showMeanValue=False, ratio_max=1.2, ratio_min=0.8,  figSize = (8, 6))"
   ]
  },
  {
   "cell_type": "code",
   "execution_count": null,
   "metadata": {},
   "outputs": [],
   "source": [
    "electron_ee_2016.drawHistPlotComparison(electron_ee_2017, electron_ee_2018, nominator_name=\"Data\", denominator_name=\"Data\", \n",
    "                                                                                variables=[\"Pt_2\"], names=[\"2016\", \"2017\", \"2018\"], markers=[\"<\", \">\"], colors=[\"blue\", \"red\"],  \n",
    "                                                                                divde_by_bin_width = True, setLogy=True, setLogx=True, showMeanValue=False, ratio_max=1.5, ratio_min=0.5,  figSize = (8, 8))"
   ]
  },
  {
   "cell_type": "code",
   "execution_count": null,
   "metadata": {},
   "outputs": [],
   "source": [
    "electron_eb_2016=isrplot.ISRPlotter(\"./inFiles/2016/electron/unfold_input_EB.root\",'./config/2016/electron/config_2016_electron_.json', False)"
   ]
  },
  {
   "cell_type": "code",
   "execution_count": null,
   "metadata": {},
   "outputs": [],
   "source": [
    "electron_ee_2016=isrplot.ISRPlotter(\"./inFiles/2016/electron/unfold_input_EE.root\",'./config/2016/electron/config_2016_electron.json', False)"
   ]
  },
  {
   "cell_type": "code",
   "execution_count": null,
   "metadata": {},
   "outputs": [],
   "source": [
    "electron_eb_2016.drawHistPlot(\"Pt_0\",\"Pt_1\",\"Pt_2\",\"Pt_3\",\"Pt_4\", divde_by_bin_width = True, setLogy=True, setLogx=True, showMeanValue=False)\n",
    "electron_eb_2017.drawHistPlot(\"Pt_0\",\"Pt_1\",\"Pt_2\",\"Pt_3\",\"Pt_4\", divde_by_bin_width = True, setLogy=True, setLogx=True, showMeanValue=False)\n",
    "electron_eb_2018.drawHistPlot(\"Pt_0\",\"Pt_1\",\"Pt_2\",\"Pt_3\",\"Pt_4\", divde_by_bin_width = True, setLogy=True, setLogx=True, showMeanValue=False)"
   ]
  },
  {
   "cell_type": "code",
   "execution_count": null,
   "metadata": {},
   "outputs": [],
   "source": [
    "electron_ee_2016.drawHistPlot(\"Pt_0\",\"Pt_1\",\"Pt_2\",\"Pt_3\",\"Pt_4\", divde_by_bin_width = True, setLogy=True, setLogx=True, showMeanValue=False)\n",
    "electron_ee_2017.drawHistPlot(\"Pt_0\",\"Pt_1\",\"Pt_2\",\"Pt_3\",\"Pt_4\", divde_by_bin_width = True, setLogy=True, setLogx=True, showMeanValue=False)\n",
    "electron_ee_2018.drawHistPlot(\"Pt_0\",\"Pt_1\",\"Pt_2\",\"Pt_3\",\"Pt_4\", divde_by_bin_width = True, setLogy=True, setLogx=True, showMeanValue=False)"
   ]
  },
  {
   "cell_type": "code",
   "execution_count": null,
   "metadata": {},
   "outputs": [],
   "source": [
    "electron_r9_2016=isrplot.ISRPlotter(\"./inFiles/2016/electron/unfold_input_r9.root\",'./config/2016/electron/config_2016_electron.json', False)\n",
    "electron_r9_2017=isrplot.ISRPlotter(\"./inFiles/2017/electron/unfold_input_r9.root\",'./config/2017/electron/config_2017_electron_.json', False)\n",
    "electron_r9_2018=isrplot.ISRPlotter(\"./inFiles/2018/electron/unfold_input_r9.root\",'./config/2018/electron/config_2018_electron_.json', False)"
   ]
  },
  {
   "cell_type": "code",
   "execution_count": null,
   "metadata": {},
   "outputs": [],
   "source": [
    "electron_eb_2016.drawHistPlotComparison(electron_eb_2017, electron_eb_2018, nominator_name=\"Data\", denominator_name=\"Data\", \n",
    "                                                                                variables=[\"Pt_0\",\"Pt_1\",\"Pt_2\",\"Pt_3\",\"Pt_4\"], names=[\"2016\", \"2017\", \"2018\"], markers=[\"<\", \">\"], colors=[\"blue\", \"red\"],  \n",
    "                                                                                divde_by_bin_width = True, setLogy=True, setLogx=True, showMeanValue=False, ratio_max=1.45, ratio_min=0.65)"
   ]
  },
  {
   "cell_type": "code",
   "execution_count": null,
   "metadata": {},
   "outputs": [],
   "source": [
    "electron_eb_2016.drawISRPlots(electron_eb_2017, electron_eb_2018, electron_ee_2016, electron_ee_2017, electron_ee_2018,\n",
    "                                                          names_in_objects=[\"MC\", \"MC\", \"MC\", \"MC\", \"MC\", \"MC\"], do_linear_fit=[False, False, False, False, False, False], \n",
    "                                                          labels=[\"2016 Barrel\", \"2017 Barrel\", \"2018 Barrel\", \"2016 Endcap\", \"2017 Endcap\", \"2018 Endcap\"], \n",
    "                                                          markers=[\"o-\",\"<-\",\">-\",\"o\",\"<\",\">\"], colors=[\"black\",\"blue\",\"red\",\"black\",\"blue\",\"red\"], \n",
    "                                                          ymin=16, ymax=33)"
   ]
  },
  {
   "cell_type": "code",
   "execution_count": null,
   "metadata": {},
   "outputs": [],
   "source": [
    "#electron_eb.drawHistPlot(\"Pt_0\",\"Pt_1\",\"Pt_2\",\"Pt_3\",\"Pt_4\", divde_by_bin_width = True, setLogy=True, setLogx=True, showMeanValue=False)\n",
    "#electron_eb_2016.drawHistPlotComparison(electron_eb_2017, electron_eb_2018, nominator_name=\"MC\", denominator_name=\"MC\", \n",
    "#                                                                                variables=[\"Pt_0\",\"Pt_1\",\"Pt_2\",\"Pt_3\",\"Pt_4\"], names=[\"2016\", \"2017\", \"2018\"], markers=[\"<\", \">\"], colors=[\"blue\", \"red\"],  \n",
    "#                                                                                divde_by_bin_width = True, setLogy=True, setLogx=True, showMeanValue=False, ratio_max=1.45, ratio_min=0.65)\n",
    "\n",
    "#electron_eb_2017.drawHistPlotComparison(electron_ee_2017, nominator_name=\"MC\", denominator_name=\"MC\", \n",
    "#                                                                                variables=[\"Pt_0\",\"Pt_1\",\"Pt_2\",\"Pt_3\",\"Pt_4\"], names=[\"EB\", \"EE\"], markers=[\"<\"], colors=[\"blue\"],  \n",
    "#                                                                                divde_by_bin_width = True, setLogy=True, setLogx=True, showMeanValue=False, ratio_max=1.45, ratio_min=0.65)\n",
    "\n",
    "\n",
    "electron_eb_2016.drawISRPlots(electron_eb_2017, electron_eb_2018, electron_ee_2016, electron_ee_2017, electron_ee_2018,\n",
    "                                                          names_in_objects=[\"TotalMC\",\"TotalMC\",\"TotalMC\", \"TotalMC\", \"TotalMC\", \"TotalMC\"], do_linear_fit=[False, False, False, False, False, False], \n",
    "                                                          labels=[\"2016 BEBE\", \"2017 BEBE\", \"2018 BEBE\", \"2016 EEEE\", \"2017 EEEE\", \"2018 EEEE\"], \n",
    "                                                          markers=[\"o-\",\"<-\",\">-\",\"o\",\"<\",\">\"], colors=[\"black\",\"blue\",\"red\",\"black\",\"blue\",\"red\"], \n",
    "                                                          facecolor_list=['black','blue','red','None', 'None', 'None'], ymin=16, ymax=33)"
   ]
  },
  {
   "cell_type": "code",
   "execution_count": null,
   "metadata": {},
   "outputs": [],
   "source": [
    "electron_2017 = isr_analysis[\"2017\"][\"electron\"][\"detector\"]\n",
    "electron_2018 = isr_analysis[\"2018\"][\"electron\"][\"detector\"]\n",
    "isr_analysis[\"2016\"][\"electron\"][\"detector\"].drawHistPlotComparison(electron_2017, electron_2018, nominator_name=\"Data_Measured\", denominator_name=\"Data_Measured\", \n",
    "                                                                                variables=[\"Pt_0\",\"Pt_1\",\"Pt_2\",\"Pt_3\",\"Pt_4\"], names=[\"2016\", \"2017\", \"2018\"], markers=[\"<\", \">\"], colors=[\"blue\", \"red\"],  \n",
    "                                                                                divde_by_bin_width = True, setLogy=True, setLogx=True, showMeanValue=False, ratio_max=1.15, ratio_min=0.85)\n",
    "\n",
    "electron_2017 = isr_analysis[\"2017\"][\"electron\"][\"DetUNFOLD\"]\n",
    "electron_2018 = isr_analysis[\"2018\"][\"electron\"][\"DetUNFOLD\"]\n",
    "isr_analysis[\"2016\"][\"electron\"][\"DetUNFOLD\"].drawHistPlotComparison(electron_2017, electron_2018, nominator_name=\"Data_Measured\", denominator_name=\"Data_Measured\", \n",
    "                                                                                variables=[\"Pt_0\",\"Pt_1\",\"Pt_2\",\"Pt_3\",\"Pt_4\"], names=[\"2016\", \"2017\", \"2018\"], markers=[\"<\", \">\"], colors=[\"blue\", \"red\"],  \n",
    "                                                                                divde_by_bin_width = True, setLogy=True, setLogx=True, showMeanValue=False, ratio_max=1.45, ratio_min=0.55)\n",
    "\n",
    "electron_2017 = isr_analysis[\"2017\"][\"electron\"][\"DetUNFOLD_Acceptance\"]\n",
    "electron_2018 = isr_analysis[\"2018\"][\"electron\"][\"DetUNFOLD_Acceptance\"]\n",
    "isr_analysis[\"2016\"][\"electron\"][\"DetUNFOLD_Acceptance\"].drawHistPlotComparison(electron_2017, electron_2018, nominator_name=\"Data_Measured\", denominator_name=\"Data_Measured\", \n",
    "                                                                                variables=[\"Pt_0\",\"Pt_1\",\"Pt_2\",\"Pt_3\",\"Pt_4\"], names=[\"2016\", \"2017\", \"2018\"], markers=[\"<\", \">\"], colors=[\"blue\", \"red\"],  \n",
    "                                                                                divde_by_bin_width = True, setLogy=True, setLogx=True, showMeanValue=False)\n",
    "\n",
    "electron_2017 = isr_analysis[\"2017\"][\"electron\"][\"FSRUNFOLD_Acceptance\"]\n",
    "electron_2018 = isr_analysis[\"2018\"][\"electron\"][\"FSRUNFOLD_Acceptance\"]\n",
    "isr_analysis[\"2016\"][\"electron\"][\"FSRUNFOLD_Acceptance\"].drawHistPlotComparison(electron_2017, electron_2018, nominator_name=\"Data_Measured\", denominator_name=\"Data_Measured\", \n",
    "                                                                                variables=[\"Pt_0\",\"Pt_1\",\"Pt_2\",\"Pt_3\",\"Pt_4\"], names=[\"2016\", \"2017\", \"2018\"], markers=[\"<\", \">\"], colors=[\"blue\", \"red\"],  \n",
    "                                                                                divde_by_bin_width = True, setLogy=True, setLogx=True, showMeanValue=False)"
   ]
  },
  {
   "cell_type": "code",
   "execution_count": null,
   "metadata": {},
   "outputs": [],
   "source": [
    "muon_2017 = isr_analysis[\"2017\"][\"muon\"][\"detector\"]\n",
    "muon_2018 = isr_analysis[\"2018\"][\"muon\"][\"detector\"]\n",
    "isr_analysis[\"2016\"][\"muon\"][\"detector\"].drawHistPlotComparison(muon_2017, muon_2018, nominator_name=\"Data_Measured\", denominator_name=\"Data_Measured\", \n",
    "                                                                                variables=[\"Pt_0\",\"Pt_1\",\"Pt_2\",\"Pt_3\",\"Pt_4\"], names=[\"2016\", \"2017\", \"2018\"], markers=[\"<\", \">\"], colors=[\"blue\", \"red\"],  \n",
    "                                                                                divde_by_bin_width = True, setLogy=True, setLogx=True, showMeanValue=False, ratio_max=1.25, ratio_min=0.75)\n",
    "\n",
    "muon_2017 = isr_analysis[\"2017\"][\"muon\"][\"DetUNFOLD\"]\n",
    "muon_2018 = isr_analysis[\"2018\"][\"muon\"][\"DetUNFOLD\"]\n",
    "isr_analysis[\"2016\"][\"muon\"][\"DetUNFOLD\"].drawHistPlotComparison(muon_2017, muon_2018, nominator_name=\"Data_Measured\", denominator_name=\"Data_Measured\", \n",
    "                                                                                variables=[\"Pt_0\",\"Pt_1\",\"Pt_2\",\"Pt_3\",\"Pt_4\"], names=[\"2016\", \"2017\", \"2018\"], markers=[\"<\", \">\"], colors=[\"blue\", \"red\"],  \n",
    "                                                                                divde_by_bin_width = True, setLogy=True, setLogx=True, showMeanValue=False, ratio_max=1.45, ratio_min=0.55)\n",
    "\n",
    "muon_2017 = isr_analysis[\"2017\"][\"muon\"][\"DetUNFOLD_Acceptance\"]\n",
    "muon_2018 = isr_analysis[\"2018\"][\"muon\"][\"DetUNFOLD_Acceptance\"]\n",
    "isr_analysis[\"2016\"][\"muon\"][\"DetUNFOLD_Acceptance\"].drawHistPlotComparison(muon_2017, muon_2018, nominator_name=\"Data_Measured\", denominator_name=\"Data_Measured\", \n",
    "                                                                                variables=[\"Pt_0\",\"Pt_1\",\"Pt_2\",\"Pt_3\",\"Pt_4\"], names=[\"2016\", \"2017\", \"2018\"], markers=[\"<\", \">\"], colors=[\"blue\", \"red\"],  \n",
    "                                                                                divde_by_bin_width = True, setLogy=True, setLogx=True, showMeanValue=False)\n",
    "\n",
    "muon_2017 = isr_analysis[\"2017\"][\"muon\"][\"FSRUNFOLD_Acceptance\"]\n",
    "muon_2018 = isr_analysis[\"2018\"][\"muon\"][\"FSRUNFOLD_Acceptance\"]\n",
    "isr_analysis[\"2016\"][\"muon\"][\"FSRUNFOLD_Acceptance\"].drawHistPlotComparison(muon_2017, muon_2018, nominator_name=\"Data_Measured\", denominator_name=\"Data_Measured\", \n",
    "                                                                                variables=[\"Pt_0\",\"Pt_1\",\"Pt_2\",\"Pt_3\",\"Pt_4\"], names=[\"2016\", \"2017\", \"2018\"], markers=[\"<\", \">\"], colors=[\"blue\", \"red\"],  \n",
    "                                                                                divde_by_bin_width = True, setLogy=True, setLogx=True, showMeanValue=False)"
   ]
  },
  {
   "cell_type": "code",
   "execution_count": null,
   "metadata": {},
   "outputs": [],
   "source": [
    "ee_data_dict_2016=isr_analysis[\"2016\"][\"muon\"][\"FSRUNFOLD_Acceptance\"].getDict(\"Data\")"
   ]
  },
  {
   "cell_type": "code",
   "execution_count": null,
   "metadata": {},
   "outputs": [],
   "source": [
    "test = ee_data_dict_2016[\"Mass\"][\"Data_Measured\"][\"refinedUnc\"].copy()"
   ]
  },
  {
   "cell_type": "code",
   "execution_count": null,
   "metadata": {},
   "outputs": [],
   "source": [
    "test.loc[:, \"content\":] = test.loc[:, \"content\":]/ee_data_dict_2016[\"Mass\"][\"Data_Measured\"][\"refinedUnc\"][\"content\"].sum()"
   ]
  },
  {
   "cell_type": "code",
   "execution_count": null,
   "metadata": {},
   "outputs": [],
   "source": [
    "test"
   ]
  },
  {
   "cell_type": "code",
   "execution_count": null,
   "metadata": {},
   "outputs": [],
   "source": [
    "isr_analysis[\"2016\"][\"muon\"][\"detector\"].drawISRPlots(isr_analysis[\"2017\"][\"muon\"][\"detector\"], isr_analysis[\"2018\"][\"muon\"][\"detector\"],\n",
    "                                                          names_in_objects=[\"Data\",\"Data\",\"Data\"], do_linear_fit=[False, False, False, False, False, False], \n",
    "                                                          labels=[\"2016 muon\", \"2017 muon\", \"2018 muon\"], marker=[\"o\",\"<\",\">\"], color_=[\"black\",\"blue\",\"red\"], ymin=16, ymax=35)"
   ]
  },
  {
   "cell_type": "code",
   "execution_count": null,
   "metadata": {},
   "outputs": [],
   "source": [
    "isr_analysis[\"2016\"][\"electron\"][\"detector\"].drawISRPlots(isr_analysis[\"2017\"][\"electron\"][\"detector\"], isr_analysis[\"2018\"][\"electron\"][\"detector\"],\n",
    "                                                          names_in_objects=[\"Data\",\"Data\",\"Data\"], do_linear_fit=[False, False, False, False, False, False], \n",
    "                                                          labels=[\"2016 electron\", \"2017 electron\", \"2018 electron\"], marker=[\"o\",\"<\",\">\"], color_=[\"black\",\"blue\",\"red\"], ymin=16, ymax=35)"
   ]
  },
  {
   "cell_type": "code",
   "execution_count": null,
   "metadata": {},
   "outputs": [],
   "source": [
    "isr_analysis[\"2016\"][\"muon\"][\"detector\"].drawISRPlots(isr_analysis[\"2017\"][\"muon\"][\"detector\"], isr_analysis[\"2018\"][\"muon\"][\"detector\"],\n",
    "                                                      names_in_objects=[\"DataBkgSub\",\"DataBkgSub\",\"DataBkgSub\"], do_linear_fit=[False, False, False], labels=[\"2016 muon\", \"2017 muon\", \"2018 muon\"])"
   ]
  },
  {
   "cell_type": "code",
   "execution_count": null,
   "metadata": {},
   "outputs": [],
   "source": [
    "isr_analysis[\"2016\"][\"electron\"][\"FSRUNFOLD_Acceptance\"].drawISRPlots(isr_analysis[\"2017\"][\"electron\"][\"FSRUNFOLD_Acceptance\"], isr_analysis[\"2018\"][\"electron\"][\"FSRUNFOLD_Acceptance\"],\n",
    "                                                      names_in_objects=[\"Data\",\"Data\",\"Data\"], do_linear_fit=[False, False, False], labels=[\"2016 electron\", \"2017 electron\", \"2018 electron\"])"
   ]
  },
  {
   "cell_type": "code",
   "execution_count": null,
   "metadata": {},
   "outputs": [],
   "source": [
    "isr_analysis[\"2016\"][\"muon\"][\"FSRUNFOLD_Acceptance\"].drawISRPlots(isr_analysis[\"2017\"][\"muon\"][\"FSRUNFOLD_Acceptance\"], isr_analysis[\"2018\"][\"muon\"][\"FSRUNFOLD_Acceptance\"],\n",
    "                                                      names_in_objects=[\"Data\",\"Data\",\"Data\"], do_linear_fit=[False, False, False], labels=[\"2016 muon\", \"2017 muon\", \"2018 muon\"])\n"
   ]
  },
  {
   "cell_type": "code",
   "execution_count": null,
   "metadata": {},
   "outputs": [],
   "source": [
    "isr_analysis[\"2016\"][\"electron\"][\"FSRUNFOLD_Acceptance\"].drawISRPlots(isr_analysis[\"2016\"][\"muon\"][\"FSRUNFOLD_Acceptance\"],\n",
    "                                                      names_in_objects=[\"Data\",\"Data\"], do_linear_fit=[True, True], labels=[\"2016 electron\", \"2016 muon\"])"
   ]
  },
  {
   "cell_type": "code",
   "execution_count": null,
   "metadata": {},
   "outputs": [],
   "source": [
    "isr_analysis[\"2017\"][\"electron\"][\"FSRUNFOLD_Acceptance\"].drawISRPlots(isr_analysis[\"2017\"][\"muon\"][\"FSRUNFOLD_Acceptance\"],\n",
    "                                                      names_in_objects=[\"Data\",\"Data\"], do_linear_fit=[True, True], labels=[\"2017 electron\", \"2017 muon\"])"
   ]
  },
  {
   "cell_type": "code",
   "execution_count": null,
   "metadata": {},
   "outputs": [],
   "source": [
    "isr_analysis[\"2018\"][\"electron\"][\"FSRUNFOLD_Acceptance\"].drawISRPlots(isr_analysis[\"2018\"][\"muon\"][\"FSRUNFOLD_Acceptance\"],\n",
    "                                                      names_in_objects=[\"Data\",\"Data\"], do_linear_fit=[True, True], labels=[\"2018 electron\", \"2018 muon\"])"
   ]
  },
  {
   "cell_type": "code",
   "execution_count": null,
   "metadata": {},
   "outputs": [],
   "source": [
    "isr_analysis[\"2016\"][\"electron\"][\"detector\"].drawISRPlots(isr_analysis[\"2016\"][\"electron\"][\"DetUNFOLD\"], isr_analysis[\"2016\"][\"electron\"][\"DetUNFOLD_Acceptance\"],\n",
    "                                                          isr_analysis[\"2016\"][\"electron\"][\"FSRUNFOLD\"], isr_analysis[\"2016\"][\"electron\"][\"FSRUNFOLD_Acceptance\"],\n",
    "                                                          names_in_objects=[\"DataBkgSub\",\"Data\",\"Data\",\"Data\",\"Data\"], do_linear_fit=[False, False, False, False, False], \n",
    "                                                          labels=[\"Detector\", \"Detector unfoled\", \"+ Efficiency\", \"FSR unfolded\", \"+ Acceptance\"],\n",
    "                                                          marker='o-')"
   ]
  },
  {
   "cell_type": "code",
   "execution_count": null,
   "metadata": {},
   "outputs": [],
   "source": [
    "isr_analysis[\"2016\"][\"muon\"][\"detector\"].drawISRPlots(isr_analysis[\"2016\"][\"muon\"][\"DetUNFOLD\"], isr_analysis[\"2016\"][\"muon\"][\"DetUNFOLD_Acceptance\"],\n",
    "                                                          isr_analysis[\"2016\"][\"muon\"][\"FSRUNFOLD\"], isr_analysis[\"2016\"][\"muon\"][\"FSRUNFOLD_Acceptance\"],\n",
    "                                                          names_in_objects=[\"DataBkgSub\",\"Data\",\"Data\",\"Data\",\"Data\"], do_linear_fit=[False, False, False, False, False], \n",
    "                                                          labels=[\"Detector\", \"Detector unfoled\", \"+ Efficiency\", \"FSR unfolded\", \"+ Acceptance\"],\n",
    "                                                          marker='o-')"
   ]
  },
  {
   "cell_type": "code",
   "execution_count": null,
   "metadata": {},
   "outputs": [],
   "source": [
    "data_dict=isr_analysis[\"2018\"][\"muon\"][\"FSRUNFOLD_Acceptance\"].getDict(\"Data\")\n",
    "mc_dict=isr_analysis[\"2018\"][\"muon\"][\"FSRUNFOLD_Acceptance\"].getDict(\"Signal\")\n",
    "\n",
    "data_dict_2016=isr_analysis[\"2016\"][\"muon\"][\"FSRUNFOLD_Acceptance\"].getDict(\"Data\")\n",
    "mc_dict_2016=isr_analysis[\"2016\"][\"muon\"][\"FSRUNFOLD_Acceptance\"].getDict(\"Signal\")\n",
    "\n",
    "data_dict_2017=isr_analysis[\"2017\"][\"muon\"][\"FSRUNFOLD_Acceptance\"].getDict(\"Data\")\n",
    "mc_dict_2017=isr_analysis[\"2017\"][\"muon\"][\"FSRUNFOLD_Acceptance\"].getDict(\"Signal\")"
   ]
  },
  {
   "cell_type": "code",
   "execution_count": null,
   "metadata": {},
   "outputs": [],
   "source": [
    "data_dict[\"Pt_4\"][\"Data_Measured\"]['refinedUnc']"
   ]
  },
  {
   "cell_type": "code",
   "execution_count": null,
   "metadata": {},
   "outputs": [],
   "source": [
    "data_dict_2016[\"Mass\"][\"Data_Measured\"]['refinedUnc_meanValue']['unfold_Down']/data_dict_2016[\"Mass\"][\"Data_Measured\"]['refinedUnc_meanValue']['mean'] * 100"
   ]
  },
  {
   "cell_type": "code",
   "execution_count": null,
   "metadata": {},
   "outputs": [],
   "source": [
    "data_dict_2016[\"Pt_1\"][\"Data_Measured\"]['refinedUnc_meanValue']['IdSF_Down']/data_dict_2016[\"Pt_1\"][\"Data_Measured\"]['refinedUnc_meanValue']['mean'] * 100"
   ]
  },
  {
   "cell_type": "code",
   "execution_count": null,
   "metadata": {},
   "outputs": [],
   "source": [
    "data_dict_2016[\"Pt_4\"][\"Data_Measured\"]['refinedUnc_meanValue'][\"fsr_Down\"]/data_dict_2016[\"Pt_4\"][\"Data_Measured\"]['refinedUnc_meanValue']['mean'] * 100"
   ]
  }
 ],
 "metadata": {
  "kernelspec": {
   "display_name": "Python 3",
   "language": "python",
   "name": "python3"
  },
  "language_info": {
   "codemirror_mode": {
    "name": "ipython",
    "version": 3
   },
   "file_extension": ".py",
   "mimetype": "text/x-python",
   "name": "python",
   "nbconvert_exporter": "python",
   "pygments_lexer": "ipython3",
   "version": "3.6.8"
  }
 },
 "nbformat": 4,
 "nbformat_minor": 4
}
