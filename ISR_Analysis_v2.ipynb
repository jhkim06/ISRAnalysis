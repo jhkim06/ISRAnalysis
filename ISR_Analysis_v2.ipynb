{
 "cells": [
  {
   "cell_type": "code",
   "execution_count": 1,
   "metadata": {
    "scrolled": true
   },
   "outputs": [
    {
     "name": "stdout",
     "output_type": "stream",
     "text": [
      "Welcome to JupyROOT 6.14/04\n"
     ]
    }
   ],
   "source": [
    "import ISRAnalysis as an\n",
    "import pickle"
   ]
  },
  {
   "cell_type": "code",
   "execution_count": 2,
   "metadata": {},
   "outputs": [
    {
     "data": {
      "text/html": [
       "<style>.container { width:100% !important; }</style>"
      ],
      "text/plain": [
       "<IPython.core.display.HTML object>"
      ]
     },
     "metadata": {},
     "output_type": "display_data"
    }
   ],
   "source": [
    "from IPython.core.display import display, HTML\n",
    "display(HTML(\"<style>.container { width:100% !important; }</style>\"))\n",
    "\n",
    "import sys"
   ]
  },
  {
   "cell_type": "markdown",
   "metadata": {},
   "source": [
    "# Unfolding for detector (up to dressed lepton level) "
   ]
  },
  {
   "cell_type": "code",
   "execution_count": 3,
   "metadata": {
    "scrolled": false
   },
   "outputs": [],
   "source": [
    "binDef = \"_FineCoarse\"\n",
    "channel = \"electron\"\n",
    "year = \"2016\"\n",
    "doSys = True\n",
    "\n",
    "# Redirect STDOUT and STDERR\n",
    "sys.stderr = open(\"stderr_\"+channel+\"_\"+year+\".txt\", \"w\")\n",
    "sys.stdout = open(\"stdout_\"+channel+\"_\"+year+\".txt\", \"w\")\n",
    "\n",
    "detUnfold_muon_2016 = an.ISRAnalysis(year, channel, 0, False, \"matrix\", \n",
    "                                     \"Detector_Dressed_DRp1_Fiducial\", \"Detector_Dressed_DRp1\", binDef)\n"
   ]
  },
  {
   "cell_type": "code",
   "execution_count": 4,
   "metadata": {},
   "outputs": [],
   "source": [
    "# Just to compare before/after unfolding (i.e. use coarse binning for detector plots)\n",
    "#detUnfold_muon_2016_CoarseCoarse = an.ISRAnalysis(year, channel, 0, False, \"matrix\", \n",
    "#                                     \"Detector_Dressed_DRp1_Fiducial\", \"Detector_Dressed_DRp1\", \"\")"
   ]
  },
  {
   "cell_type": "code",
   "execution_count": 5,
   "metadata": {},
   "outputs": [
    {
     "data": {
      "text/plain": [
       "<ROOT.TVectorT<double> object (\"TVectorT<double>\") at 0x6eb7e68>"
      ]
     },
     "execution_count": 5,
     "metadata": {},
     "output_type": "execute_result"
    }
   ],
   "source": [
    "# Check matrix conditions\n",
    "detUnfold_muon_2016.checkMatrixCond(\"Pt\")\n",
    "detUnfold_muon_2016.checkMatrixCond(\"Mass\")"
   ]
  },
  {
   "cell_type": "code",
   "execution_count": 6,
   "metadata": {},
   "outputs": [],
   "source": [
    "# Draw response matrix\n",
    "detUnfold_muon_2016.drawResponseM(\"Pt\")\n",
    "detUnfold_muon_2016.drawResponseM(\"Mass\")"
   ]
  },
  {
   "cell_type": "code",
   "execution_count": 7,
   "metadata": {
    "scrolled": false
   },
   "outputs": [],
   "source": [
    "# Nominal\n",
    "detUnfold_muon_2016.setInputHist(False, False, None, \"Detector\")\n",
    "detUnfold_muon_2016.setUnfoldBkgs(False, \"Detector\")\n",
    "detUnfold_muon_2016.subFake() # Subract DY fake (out of fiducial volume at gen level)\n",
    "#detUnfold_muon_2016.subFake(False, \"detector_level_DY_Fake\") # Subract DY fake (out of fiducial volume at gen level)\n",
    "\n",
    "#detUnfold_muon_2016_CoarseCoarse.setInputHist(False, False, None, \"Detector\")\n",
    "#detUnfold_muon_2016_CoarseCoarse.setUnfoldBkgs(False, \"Detector\")\n",
    "#detUnfold_muon_2016_CoarseCoarse.subFake() # Subract DY fake (out of fiducial volume at gen level)\n",
    "#detUnfold_muon_2016_CoarseCoarse.subFake(False, \"detector_level_DY_Fake\") # Subract DY fake (out of fiducial volume at gen level)"
   ]
  },
  {
   "cell_type": "code",
   "execution_count": 8,
   "metadata": {
    "scrolled": false
   },
   "outputs": [],
   "source": [
    "if doSys == True:\n",
    "    if channel == \"muon\" :\n",
    "        systematics = {\n",
    "                       \"ID\":[\"IdSFUp\", \"IdSFDown\"], \"ISO\":[\"IsoSFUp\", \"IsoSFDown\"], \"TRG\":[\"trgSFUp\", \"trgSFDown\"], \n",
    "                       #\"L1Prefie\":[\"L1PrefireUp\",\"L1PrefireDown\"], \n",
    "                       \"PU\":[\"PUUp\", \"PUDown\"],\n",
    "                       #\"#ZptCorr\": [\"ZpTCorrected\", \"Nominal\"], # use different matrix file\n",
    "                       #\"LepMomScale\": [\"LepMomScaleUp\", \"LepMomScaleDown\"],\n",
    "                       \"iterEM\": [\"iterEM\", \"Nominal\"],\n",
    "                       \"Scale\":[\"ScaleABUp\", \"ScaleABDown\", \"ScaleAUp\", \"ScaleADown\", \"ScaleBUp\", \"ScaleBDown\"], \n",
    "                       \"AlphaS\":[\"AlphaSUp\", \"AlphaSDown\"],\n",
    "                       #\"PDF\":[\"PDFerror{:0>3}\".format(str(i)) for i in range(1,101)],\n",
    "                       }\n",
    "    \n",
    "    if channel == \"electron\" :\n",
    "        systematics = {\n",
    "                       \"ID\":[\"IdSFUp\", \"IdSFDown\"],\n",
    "                       \"Reco\":[\"recoSFUp\",\"recoSFDown\"], \n",
    "                       \"TRG\":[\"trgSFUp\", \"trgSFDown\"], \n",
    "                       \"L1Prefie\":[\"L1PrefireUp\",\"L1PrefireDown\"], \n",
    "                       \"PU\":[\"PUUp\", \"PUDown\"],\n",
    "                       #\"ZptCorr\": [\"ZpTCorrected\", \"Nominal\"],\n",
    "                       \"LepScale\": [\"LepScaleUp\", \"LepScaleDown\"],\n",
    "                       \"LepRes\": [\"LepResUp\", \"LepResDown\"],\n",
    "                       \"iterEM\": [\"iterEM\", \"Nominal\"],\n",
    "                       \"Scale\":[\"ScaleABUp\", \"ScaleABDown\", \"ScaleAUp\", \"ScaleADown\", \"ScaleBUp\", \"ScaleBDown\"], \n",
    "                       \"AlphaS\":[\"AlphaSUp\", \"AlphaSDown\"],\n",
    "                       \"PDF\":[\"PDFerror{:0>3}\".format(str(i)) for i in range(1,101)],\n",
    "                        }\n",
    "    \n",
    "    for sysName, postfixs in systematics.items():\n",
    "        for postfix in postfixs:\n",
    "            detUnfold_muon_2016.setSystematics(sysName, postfix)\n",
    "            #print(sysName + \" \" + postfix)\n",
    "            detUnfold_muon_2016.setInputHist(False, False, None, \"Detector\", True, sysName, postfix)\n",
    "            detUnfold_muon_2016.setUnfoldBkgs(True, \"Detector\", sysName, postfix) #Combine Bkgs and Fake?\n",
    "            histpostfix = postfix\n",
    "            if sysName == \"iterEM\" or \"LepScale\" in sysName or \"LepRes\" in sysName:\n",
    "                histpostfix = \"\"\n",
    "            detUnfold_muon_2016.subFake(True, \"Detector_DY_Fake\", sysName, postfix, histpostfix)\n",
    "            #detUnfold_muon_2016.subFake(True, \"detector_level_DY_Fake\", sysName, postfix, histpostfix)"
   ]
  },
  {
   "cell_type": "code",
   "execution_count": 9,
   "metadata": {},
   "outputs": [],
   "source": [
    "detUnfold_muon_2016.doUnfold() # nominal unfold"
   ]
  },
  {
   "cell_type": "code",
   "execution_count": 10,
   "metadata": {},
   "outputs": [],
   "source": [
    "if doSys:\n",
    "    detUnfold_muon_2016.doUnfold(doSys)"
   ]
  },
  {
   "cell_type": "code",
   "execution_count": 11,
   "metadata": {},
   "outputs": [],
   "source": [
    "# Draw correlation of unfolded distribution\n",
    "for massBin in range(5):\n",
    "    detUnfold_muon_2016.drawCorrelation(\"Pt\", \"pt[UO];mass[UOC\"+str(massBin)+\"]\", True, str(massBin))\n",
    "    \n",
    "detUnfold_muon_2016.drawCorrelation(\"Pt\", \"pt[UO];mass[UO]\", True, \"\")\n",
    "detUnfold_muon_2016.drawCorrelation(\"Mass\", \"mass[UO];pt[UOC]\", True, \"\")"
   ]
  },
  {
   "cell_type": "code",
   "execution_count": null,
   "metadata": {},
   "outputs": [],
   "source": [
    "detUnfold_muon_2016.drawPtDistributions()"
   ]
  },
  {
   "cell_type": "code",
   "execution_count": null,
   "metadata": {},
   "outputs": [],
   "source": [
    "detUnfold_muon_2016.drawPtBkgRatio()"
   ]
  },
  {
   "cell_type": "code",
   "execution_count": null,
   "metadata": {
    "scrolled": false
   },
   "outputs": [],
   "source": [
    "for massBin in range(5):\n",
    "    detUnfold_muon_2016.drawDetPlot(\"Pt\"+binDef, \"Detector\", \"pt[UO];mass[UOC\"+str(massBin)+\"]\", True, \"\", \"Det_M\"+str(massBin)+\"_\", massBin, True, False)\n",
    "detUnfold_muon_2016.drawDetPlot(\"Mass\"+binDef, \"Detector\", \"mass[UO];pt[UOC0]\", True, \"\", \"Det_\", 0, True, False)\n",
    "\n",
    "if doSys: \n",
    "    for sysName, _ in systematics.items():\n",
    "        if sysName == \"iterEM\": continue\n",
    "        for massBin in range(5):\n",
    "            detUnfold_muon_2016.drawDetPlot(\"Pt\"+binDef, \"Detector\", \"pt[UO];mass[UOC\"+str(massBin)+\"]\", True, sysName, \"Det_M\"+str(massBin)+\"_\", massBin, True, False)\n",
    "        detUnfold_muon_2016.drawDetPlot(\"Mass\"+binDef, \"Detector\", \"mass[UO];pt[UOC0]\", True, sysName, \"Det_\", 0, True, False)"
   ]
  },
  {
   "cell_type": "code",
   "execution_count": null,
   "metadata": {
    "scrolled": false
   },
   "outputs": [],
   "source": [
    "if doSys: \n",
    "    detUnfold_muon_2016.drawDetPlot(\"Mass\"+binDef, \"Detector\", \"mass[UO];pt[UOC0]\", True, \"totalSys\", \"Det_\", 0, True, False)\n",
    "    \n",
    "    for massBin in range(5):\n",
    "        detUnfold_muon_2016.drawDetPlot(\"Pt\"+binDef, \"Detector\", \"pt[UO];mass[UOC\"+str(massBin)+\"]\", True, \"totalSys\", \"Det_M\"+str(massBin)+\"_\", massBin, True, False)"
   ]
  },
  {
   "cell_type": "markdown",
   "metadata": {},
   "source": [
    "# Unfolded distributions"
   ]
  },
  {
   "cell_type": "code",
   "execution_count": null,
   "metadata": {
    "scrolled": false
   },
   "outputs": [],
   "source": [
    "if doSys: \n",
    "    for sysName, _ in systematics.items():\n",
    "        for massBin in range(5):\n",
    "            detUnfold_muon_2016.drawUnfPlot(\"Pt\", \"pt[UO];mass[UOC\"+str(massBin)+\"]\", True, sysName, \"DetUnf_M\"+str(massBin)+\"_\", massBin, True)\n",
    "            detUnfold_muon_2016.drawUnfVarPlot(\"Pt\", \"pt[UO];mass[UOC\"+str(massBin)+\"]\", True, sysName, \"DetUnf_M\"+str(massBin)+\"_\", massBin, True)\n",
    "        detUnfold_muon_2016.drawUnfPlot(\"Mass\", \"mass[UO];pt[UOC0]\", True, sysName, \"DetUnf_\", 0, True)\n",
    "        \n",
    "    detUnfold_muon_2016.drawUnfPlot(\"Mass\", \"mass[UO];pt[UOC0]\", True, \"totalSys\", \"DetUnf_\")\n",
    "    \n",
    "    for massBin in range(5):\n",
    "        detUnfold_muon_2016.drawUnfPlot(\"Pt\", \"pt[UO];mass[UOC\"+str(massBin)+\"]\", True, \"totalSys\", \"DetUnf_M\"+str(massBin)+\"_\", massBin, True)"
   ]
  },
  {
   "cell_type": "code",
   "execution_count": null,
   "metadata": {},
   "outputs": [],
   "source": [
    "print(\"set mean values\")\n",
    "detUnfold_muon_2016.setMeanValues(True)\n",
    "if doSys:\n",
    "    detUnfold_muon_2016.setSysMeanValues()\n",
    "    detUnfold_muon_2016.setSysError()\n",
    "    detUnfold_muon_2016.setTotSysError()"
   ]
  },
  {
   "cell_type": "code",
   "execution_count": null,
   "metadata": {},
   "outputs": [],
   "source": [
    "detUnfold_muon_2016.drawSysVar(\"Scale\",\"Pt\")\n",
    "detUnfold_muon_2016.drawSysVar(\"Scale\",\"Mass\")"
   ]
  },
  {
   "cell_type": "code",
   "execution_count": null,
   "metadata": {},
   "outputs": [],
   "source": [
    "#detUnfold_muon_2016.doStatUnfold()"
   ]
  },
  {
   "cell_type": "code",
   "execution_count": null,
   "metadata": {},
   "outputs": [],
   "source": [
    "#detUnfold_muon_2016.setStatError()"
   ]
  },
  {
   "cell_type": "code",
   "execution_count": null,
   "metadata": {
    "scrolled": false
   },
   "outputs": [],
   "source": [
    "detUnfold_muon_2016.doAcceptance(doSys, False, \"DetEfficienyCorr\")"
   ]
  },
  {
   "cell_type": "code",
   "execution_count": null,
   "metadata": {
    "scrolled": false
   },
   "outputs": [],
   "source": [
    "for massBin in range(5):\n",
    "    detUnfold_muon_2016.drawAcceptPlot(\"Pt\", \"pt[UO];mass[UOC\"+str(massBin)+\"]\", True, \"\", \"DetUnfEffCorr_M\"+str(massBin)+\"_\", massBin, True)\n",
    "detUnfold_muon_2016.drawAcceptPlot(\"Mass\", \"mass[UO];pt[UOC0]\", True, \"\", \"DetUnfEffCorr_\")\n",
    "\n",
    "if doSys: \n",
    "    for sysName, _ in systematics.items():\n",
    "        for massBin in range(5):\n",
    "            detUnfold_muon_2016.drawAcceptPlot(\"Pt\", \"pt[UO];mass[UOC\"+str(massBin)+\"]\", True, sysName, \"DetUnfEffCorr_M\"+str(massBin)+\"_\", massBin, True)\n",
    "        detUnfold_muon_2016.drawAcceptPlot(\"Mass\", \"mass[UO];pt[UOC0]\", True, sysName, \"DetUnfEffCorr_\")"
   ]
  },
  {
   "cell_type": "code",
   "execution_count": null,
   "metadata": {},
   "outputs": [],
   "source": [
    "detUnfold_muon_2016.setAcceptMeanValues()\n",
    "if doSys:\n",
    "    detUnfold_muon_2016.setAcceptSysMeanValues()\n",
    "    detUnfold_muon_2016.setAcceptSysError()\n",
    "    detUnfold_muon_2016.setAcceptTotSysError()"
   ]
  },
  {
   "cell_type": "code",
   "execution_count": null,
   "metadata": {},
   "outputs": [],
   "source": [
    "for massBin in range(5):\n",
    "    detUnfold_muon_2016.drawAcceptVarPlot(\"Pt\", \"pt[UO];mass[UOC\"+str(massBin)+\"]\", True, \"Scale\", \"DetUnfEffVar_M\"+str(massBin)+\"_\", massBin, False)"
   ]
  },
  {
   "cell_type": "code",
   "execution_count": null,
   "metadata": {},
   "outputs": [],
   "source": [
    "detUnfold_muon_2016.drawAcceptVarPlot(\"Mass\", \"mass[UO];pt[UOC0]\", True, \"Scale\", \"DetUnfEffVar_\")"
   ]
  },
  {
   "cell_type": "code",
   "execution_count": null,
   "metadata": {
    "scrolled": false
   },
   "outputs": [],
   "source": [
    "#if doSys: \n",
    "#    for sysName, _ in systematics.items():\n",
    "#        for massBin in range(5):\n",
    "#            detUnfold_muon_2016.drawAcceptVarPlot(\"Pt\", \"pt[UO];mass[UOC\"+str(massBin)+\"]\", True, sysName, \"DetUnfEffVar_M\"+str(massBin)+\"_\", massBin, False)\n",
    "#        detUnfold_muon_2016.drawAcceptVarPlot(\"Mass\", \"mass[UO];pt[UOC0]\", True, sysName, \"DetUnfEffVar_\")"
   ]
  },
  {
   "cell_type": "code",
   "execution_count": null,
   "metadata": {},
   "outputs": [],
   "source": [
    "#detUnfold_muon_2016.drawSysVar(\"Scale\",\"Pt\", True)\n",
    "#detUnfold_muon_2016.drawSysVar(\"Scale\",\"Mass\", True)"
   ]
  },
  {
   "cell_type": "code",
   "execution_count": null,
   "metadata": {},
   "outputs": [],
   "source": [
    "#detUnfold_muon_2016.drawSysVar(\"Reco\",\"Pt\", True)\n",
    "#detUnfold_muon_2016.drawSysVar(\"Reco\",\"Mass\", True)"
   ]
  },
  {
   "cell_type": "code",
   "execution_count": null,
   "metadata": {},
   "outputs": [],
   "source": [
    "#detUnfold_muon_2016.drawSysVar(\"Reco\",\"Pt\")\n",
    "#detUnfold_muon_2016.drawSysVar(\"Reco\",\"Mass\")"
   ]
  },
  {
   "cell_type": "code",
   "execution_count": null,
   "metadata": {},
   "outputs": [],
   "source": [
    "#detUnfold_muon_2016.drawSystematics(\"Pt\", False, True)\n",
    "#detUnfold_muon_2016.drawSystematics(\"Mass\")"
   ]
  },
  {
   "cell_type": "code",
   "execution_count": null,
   "metadata": {},
   "outputs": [],
   "source": [
    "#detUnfold_muon_2016.drawSystematics(\"Pt\", True, True)\n",
    "#detUnfold_muon_2016.drawSystematics(\"Mass\", True)"
   ]
  },
  {
   "cell_type": "code",
   "execution_count": null,
   "metadata": {},
   "outputs": [],
   "source": [
    "#pickle.dump(detUnfold_muon_2016, open( \"detUnfold.p\", \"wb\" ) )"
   ]
  },
  {
   "cell_type": "markdown",
   "metadata": {},
   "source": [
    "# Unfolding for QED FSR"
   ]
  },
  {
   "cell_type": "code",
   "execution_count": null,
   "metadata": {
    "scrolled": false
   },
   "outputs": [],
   "source": [
    "binDef = \"_CoarseCoarse\"\n",
    "\n",
    "phase_space = \"Fiducial\"\n",
    "\n",
    "fsrUnfold_muon_2016 = an.ISRAnalysis(year, channel, 0, True, \"fsr_matrix\", \n",
    "                                     \"Dressed_DRp1_Dressed_DR4PI_\"+phase_space, \"Dressed_DRp1_Dressed_DR4PI\", binDef)\n"
   ]
  },
  {
   "cell_type": "code",
   "execution_count": null,
   "metadata": {},
   "outputs": [],
   "source": [
    "fsrUnfold_muon_2016.setInputHist(False, True, detUnfold_muon_2016.getISRUnfold()) # Set nominal input using previous unfolding result\n",
    "fsrUnfold_muon_2016.subFake(False, \"Dressed_DRp1_DY_Fake\", \"Nominal\", \"\", \"\", True)"
   ]
  },
  {
   "cell_type": "code",
   "execution_count": null,
   "metadata": {},
   "outputs": [],
   "source": [
    "if doSys :\n",
    "    fsr_systematics = {\n",
    "                       \"Scale\":[\"ScaleABUp\", \"ScaleABDown\", \"ScaleAUp\", \"ScaleADown\", \"ScaleBUp\", \"ScaleBDown\"], \"AlphaS\":[\"AlphaSUp\", \"AlphaSDown\"],\n",
    "                       \"PDF\":[\"PDFerror{:0>3}\".format(str(i)) for i in range(1,101)],\n",
    "                       \"iterEM\":[\"iterEM\",\"Nominal\"], \n",
    "                       \"FSR (PHOTOS vs PYTHIA)\": [\"PHOTOS\",\"PYTHIA\"],\n",
    "    }\n",
    "    \n",
    "    for sysName, postfixs in fsr_systematics.items():\n",
    "        for postfix in postfixs:\n",
    "            fsrUnfold_muon_2016.setSystematics(sysName, postfix, True) # Create TUnfoldDensity objects for systematics\n",
    "            \n",
    "            if \"FSR\" in sysName:\n",
    "                fsrUnfold_muon_2016.setInputHist(False, True, detUnfold_muon_2016.getISRUnfold(), \"\", True, sysName, postfix)\n",
    "                fsrUnfold_muon_2016.subFake(True, \"Dressed_DRp1_DY_Fake\", sysName, postfix, postfix, True)"
   ]
  },
  {
   "cell_type": "code",
   "execution_count": null,
   "metadata": {
    "scrolled": false
   },
   "outputs": [],
   "source": [
    "fsrUnfold_muon_2016.setFromPreviousUnfold(detUnfold_muon_2016.getISRUnfold()) # Set using previous unfolding result for systematics"
   ]
  },
  {
   "cell_type": "code",
   "execution_count": null,
   "metadata": {},
   "outputs": [],
   "source": [
    "if doSys:\n",
    "    for sysName, postfixs in systematics.items():\n",
    "        for postfix in postfixs:\n",
    "            fsrUnfold_muon_2016.subFake(True, \"Dressed_DRp1_DY_Fake\", sysName, postfix, \"\", True)"
   ]
  },
  {
   "cell_type": "code",
   "execution_count": null,
   "metadata": {},
   "outputs": [],
   "source": [
    "fsrUnfold_muon_2016.doUnfold() # do nominal unfold"
   ]
  },
  {
   "cell_type": "code",
   "execution_count": null,
   "metadata": {
    "scrolled": true
   },
   "outputs": [],
   "source": [
    "if doSys : \n",
    "    fsrUnfold_muon_2016.doUnfold(doSys) # do unfold for systematic"
   ]
  },
  {
   "cell_type": "code",
   "execution_count": null,
   "metadata": {},
   "outputs": [],
   "source": [
    "fsrUnfold_muon_2016.setMeanValues(True)\n",
    "if doSys:\n",
    "    fsrUnfold_muon_2016.setSysMeanValues()\n",
    "    fsrUnfold_muon_2016.setSysError()\n",
    "    fsrUnfold_muon_2016.setTotSysError()"
   ]
  },
  {
   "cell_type": "code",
   "execution_count": null,
   "metadata": {},
   "outputs": [],
   "source": [
    "fsrUnfold_muon_2016.doStatUnfold() # NOTE: doStatUnfold() must be done after setMeanValues() and before any other processes\n",
    "                                   # Don't know why exactly..."
   ]
  },
  {
   "cell_type": "code",
   "execution_count": null,
   "metadata": {},
   "outputs": [],
   "source": [
    "fsrUnfold_muon_2016.setStatError() # Update stat. error"
   ]
  },
  {
   "cell_type": "code",
   "execution_count": null,
   "metadata": {},
   "outputs": [],
   "source": [
    "fsrUnfold_muon_2016.drawResponseM(\"Pt\", \"\", \"\", False)\n",
    "fsrUnfold_muon_2016.drawResponseM(\"Mass\",\"\",\"\",False)"
   ]
  },
  {
   "cell_type": "code",
   "execution_count": null,
   "metadata": {},
   "outputs": [],
   "source": [
    "fsrUnfold_muon_2016.checkMatrixCond()\n",
    "fsrUnfold_muon_2016.checkMatrixCond(\"Pt\")"
   ]
  },
  {
   "cell_type": "code",
   "execution_count": null,
   "metadata": {
    "scrolled": false
   },
   "outputs": [],
   "source": [
    "for massBin in range(5):\n",
    "    fsrUnfold_muon_2016.drawUnfPlot(\"Pt\", \"pt[UO];mass[UOC\"+str(massBin)+\"]\", True, \"\", \"FSRUnf_M\"+str(massBin)+\"_\", massBin, True)\n",
    "    "
   ]
  },
  {
   "cell_type": "code",
   "execution_count": null,
   "metadata": {
    "scrolled": false
   },
   "outputs": [],
   "source": [
    "if doSys: \n",
    "    for sysName, _ in fsr_systematics.items():\n",
    "        for massBin in range(5):\n",
    "            if sysName == \"Scale(#mu_{F}/#mu_{R})\":\n",
    "                fsrUnfold_muon_2016.drawUnfPlot(\"Pt\", \"pt[UO];mass[UOC\"+str(massBin)+\"]\", True, sysName, \"FSRUnf_M\"+str(massBin)+\"Scale\"+\"_\", massBin, True)\n",
    "            else : fsrUnfold_muon_2016.drawUnfPlot(\"Pt\", \"pt[UO];mass[UOC\"+str(massBin)+\"]\", True, sysName, \"FSRUnf_M\"+str(massBin)+sysName+\"_\", massBin, True)\n",
    "                \n",
    "        if sysName == \"Scale(#mu_{F}/#mu_{R})\":\n",
    "            fsrUnfold_muon_2016.drawUnfPlot(\"Mass\", \"mass[UO];pt[UOC0]\", True, sysName, \"FSRUnf_MassScale\")\n",
    "        else :\n",
    "            fsrUnfold_muon_2016.drawUnfPlot(\"Mass\", \"mass[UO];pt[UOC0]\", True, sysName, \"FSRUnf_Mass\"+sysName)\n",
    "            \n",
    "    for sysName, _ in systematics.items():\n",
    "        for massBin in range(5):\n",
    "            fsrUnfold_muon_2016.drawUnfPlot(\"Pt\", \"pt[UO];mass[UOC\"+str(massBin)+\"]\", True, sysName, \"FSRUnf_M\"+str(massBin)+sysName+\"_\", massBin, True)\n",
    "                \n",
    "        fsrUnfold_muon_2016.drawUnfPlot(\"Mass\", \"mass[UO];pt[UOC0]\", True, sysName, \"FSRUnf_Mass\"+sysName)"
   ]
  },
  {
   "cell_type": "code",
   "execution_count": null,
   "metadata": {
    "scrolled": false
   },
   "outputs": [],
   "source": [
    "if doSys:\n",
    "    fsrUnfold_muon_2016.drawUnfPlot(\"Mass\", \"mass[UO];pt[UOC0]\", True, \"totalSys\", \"FSRUnf_Mass\")\n",
    "    \n",
    "    for massBin in range(5):\n",
    "        fsrUnfold_muon_2016.drawUnfPlot(\"Pt\", \"pt[UO];mass[UOC\"+str(massBin)+\"]\", True, \"totalSys\", \"FSRUnf_M\"+str(massBin)+\"_\", massBin, True)"
   ]
  },
  {
   "cell_type": "markdown",
   "metadata": {},
   "source": [
    "# Acceptance correction "
   ]
  },
  {
   "cell_type": "code",
   "execution_count": null,
   "metadata": {
    "scrolled": false
   },
   "outputs": [],
   "source": [
    "if phase_space == \"Fiducial\":\n",
    "    fsrUnfold_muon_2016.doAcceptance(doSys, True)"
   ]
  },
  {
   "cell_type": "code",
   "execution_count": null,
   "metadata": {
    "scrolled": false
   },
   "outputs": [],
   "source": [
    "if phase_space == \"Fiducial\" :\n",
    "    fsrUnfold_muon_2016.setAcceptMeanValues()\n",
    "    if doSys:\n",
    "        fsrUnfold_muon_2016.setAcceptSysMeanValues()\n",
    "        fsrUnfold_muon_2016.setAcceptSysError()\n",
    "        fsrUnfold_muon_2016.setAcceptTotSysError()"
   ]
  },
  {
   "cell_type": "code",
   "execution_count": null,
   "metadata": {},
   "outputs": [],
   "source": [
    "if doSys: \n",
    "    fsrUnfold_muon_2016.printMeanValues()\n",
    "    fsrUnfold_muon_2016.printMeanValues_Accept()"
   ]
  },
  {
   "cell_type": "code",
   "execution_count": null,
   "metadata": {
    "scrolled": false
   },
   "outputs": [],
   "source": [
    "for massBin in range(5):\n",
    "    fsrUnfold_muon_2016.drawAcceptPlot(\"Pt\", \"pt[UO];mass[UOC\"+str(massBin)+\"]\", True, \"\", \"FSRUnfAcceptCorr_M\"+str(massBin)+\"_\", massBin, True, True)\n",
    "fsrUnfold_muon_2016.drawAcceptPlot(\"Mass\", \"mass[UO];pt[UOC0]\", True, \"\", \"FSRUnfAcceptCorr_\", 0, False, True)\n",
    "\n",
    "if doSys: \n",
    "    for sysName, _ in systematics.items():\n",
    "        for massBin in range(5):\n",
    "            fsrUnfold_muon_2016.drawAcceptPlot(\"Pt\", \"pt[UO];mass[UOC\"+str(massBin)+\"]\", True, sysName, \"FSRUnfAcceptCorr_M\"+str(massBin)+\"_\", massBin, True, True)\n",
    "        fsrUnfold_muon_2016.drawAcceptPlot(\"Mass\", \"mass[UO];pt[UOC0]\", True, sysName, \"FSRUnfAcceptCorr_\", 0, False, True)\n",
    "        "
   ]
  },
  {
   "cell_type": "code",
   "execution_count": null,
   "metadata": {
    "scrolled": false
   },
   "outputs": [],
   "source": [
    "if doSys:\n",
    "    for sysName, _ in fsr_systematics.items():\n",
    "            #if sysName == \"Scale(#mu_{F}/#mu_{R})\":\n",
    "            #    print (sysName)\n",
    "            for massBin in range(5):\n",
    "                fsrUnfold_muon_2016.drawAcceptPlot(\"Pt\", \"pt[UO];mass[UOC\"+str(massBin)+\"]\", True, sysName, \"FSRUnfAcceptCorr_M\"+str(massBin)+\"_\", massBin, True, True)\n",
    "            fsrUnfold_muon_2016.drawAcceptPlot(\"Mass\", \"mass[UO];pt[UOC0]\", True, sysName, \"FSRUnfAcceptCorr_\", 0, False, True)"
   ]
  },
  {
   "cell_type": "code",
   "execution_count": null,
   "metadata": {},
   "outputs": [],
   "source": [
    "gr_2016_muon_det =  detUnfold_muon_2016.getPtVsMassTGraph(\"2016MuonDet\", True, \"Detector\", False)"
   ]
  },
  {
   "cell_type": "code",
   "execution_count": null,
   "metadata": {},
   "outputs": [],
   "source": [
    "gr_2016_muon_det_MC =  detUnfold_muon_2016.getPtVsMassTGraph(\"2016MuonDet\", False, \"Detector\", False)"
   ]
  },
  {
   "cell_type": "code",
   "execution_count": null,
   "metadata": {},
   "outputs": [],
   "source": [
    "gr_2016_muon_det_unfold =  detUnfold_muon_2016.getPtVsMassTGraph(\"2016MuonDetUnf\", True, \"Unfolded\", doSys)"
   ]
  },
  {
   "cell_type": "code",
   "execution_count": null,
   "metadata": {},
   "outputs": [],
   "source": [
    "gr_2016_muon_fsr =  fsrUnfold_muon_2016.getPtVsMassTGraph(\"2016MuonFSR\", True,\"Unfolded\",doSys)"
   ]
  },
  {
   "cell_type": "code",
   "execution_count": null,
   "metadata": {},
   "outputs": [],
   "source": [
    "#if phase_space == \"Fiducial\" :\n",
    "gr_2016_muon_accept =  fsrUnfold_muon_2016.getPtVsMassTGraph(\"2016MuonFSRAccept\", True,\"Acceptance\", doSys)"
   ]
  },
  {
   "cell_type": "code",
   "execution_count": null,
   "metadata": {
    "scrolled": false
   },
   "outputs": [],
   "source": [
    "import pyScripts.tdrStyle as tdrStyle\n",
    "import pyScripts.CMS_lumi as CMS_lumi\n",
    "import ROOT as rt\n",
    "markerSize = 2.5\n",
    "channel_str = \"#mu^{+}#mu^{-}\"\n",
    "if channel == 'electron' :\n",
    "    markerColor = rt.kMagenta\n",
    "    channel_str = \"e^{+}e^{-}\"\n",
    "else : markerColor = rt.kBlue\n",
    "\n",
    "tdrStyle.setTDRStyle()\n",
    "rt.gStyle.SetOptFit(0)\n",
    "\n",
    "c_PtVsMass_detector = rt.TCanvas(\"PtVsMass_detector\",\"PtVsMass_detector\", 3000, 1800)\n",
    "c_PtVsMass_detector.SetGridx()\n",
    "c_PtVsMass_detector.SetGridy()\n",
    "c_PtVsMass_detector.SetLogx()\n",
    "c_PtVsMass_detector.SetBottomMargin(0.2)\n",
    "c_PtVsMass_detector.SetTopMargin(0.07)\n",
    "\n",
    "gr_2016_muon_det.SetTitle(\"2016, 2017, 2018 Detector level\")\n",
    "gr_2016_muon_det.Draw(\"APC\")\n",
    "gr_2016_muon_det.GetYaxis().SetRangeUser(12., 30.)\n",
    "gr_2016_muon_det.GetXaxis().SetLimits(20., 700.)\n",
    "gr_2016_muon_det.SetMarkerStyle(20)\n",
    "gr_2016_muon_det.SetLineStyle(1)\n",
    "gr_2016_muon_det.SetMarkerSize(markerSize)\n",
    "gr_2016_muon_det.SetMarkerColor(rt.kBlack)\n",
    "gr_2016_muon_det.SetLineColor(rt.kBlack)\n",
    "gr_2016_muon_det.GetYaxis().SetTitleOffset(1.0)\n",
    "gr_2016_muon_det.GetXaxis().SetTitleOffset(1.0)\n",
    "gr_2016_muon_det.GetYaxis().SetTitle(\"<p^{\"+channel_str+\"}_{T}> [GeV]\")\n",
    "gr_2016_muon_det.GetXaxis().SetTitle(\"<Mass^{\"+channel_str+\"}> [GeV]\")\n",
    "\n",
    "#gr_2016_muon_det_MC.Draw(\"P SAME\")\n",
    "#gr_2016_muon_det_MC.SetMarkerStyle(24)\n",
    "#gr_2016_muon_det_MC.SetLineStyle(1)\n",
    "#gr_2016_muon_det_MC.SetMarkerSize(markerSize)\n",
    "#gr_2016_muon_det_MC.SetMarkerColor(rt.kRed)\n",
    "#gr_2016_muon_det_MC.SetLineColor(rt.kRed)\n",
    "\n",
    "gr_2016_muon_det_unfold.Draw(\"PC SAME\")\n",
    "gr_2016_muon_det_unfold.SetLineWidth(2)\n",
    "gr_2016_muon_det_unfold.SetMarkerColor(markerColor-9)\n",
    "gr_2016_muon_det_unfold.SetLineStyle(1)\n",
    "gr_2016_muon_det_unfold.SetMarkerSize(markerSize)\n",
    "gr_2016_muon_det_unfold.SetLineColor(markerColor-9)\n",
    "\n",
    "gr_2016_muon_fsr.Draw(\"PC SAME\")\n",
    "gr_2016_muon_fsr.SetLineWidth(2)\n",
    "gr_2016_muon_fsr.SetMarkerSize(markerSize)\n",
    "gr_2016_muon_fsr.SetMarkerColor(markerColor-4)\n",
    "gr_2016_muon_fsr.SetLineColor(markerColor-4)\n",
    "\n",
    "#if phase_space == \"Fiducial\" :\n",
    "gr_2016_muon_accept.Draw(\"P SAME\")\n",
    "gr_2016_muon_accept.SetLineWidth(2)\n",
    "gr_2016_muon_accept.SetMarkerSize(markerSize)\n",
    "gr_2016_muon_accept.SetMarkerColor(rt.kRed)\n",
    "gr_2016_muon_accept.SetLineColor(rt.kRed)\n",
    "    \n",
    "fitLinear1 = rt.TF1(\"f_1\", \"[0]+2.*[1]*log(x)\", 40., 300.);\n",
    "fitLinear1.SetLineStyle(1)\n",
    "fitLinear1.SetLineColor(rt.kBlack)\n",
    "fitLinear1.SetLineWidth(1)\n",
    "#gr_2016_muon_fsr.Fit(fitLinear1, \"R0\")\n",
    "#fitLinear1.Draw(\"same\")\n",
    "\n",
    "#if phase_space == \"Fiducial\" :\n",
    "fitLinear2 = rt.TF1(\"f_2\", \"[0]+2.*[1]*log(x)\", 40., 300.);\n",
    "fitLinear2.SetLineStyle(1)\n",
    "fitLinear2.SetLineColor(rt.kRed)\n",
    "fitLinear2.SetLineWidth(1)\n",
    "gr_2016_muon_accept.Fit(fitLinear2, \"R0\")\n",
    "fitLinear2.Draw(\"same\")\n",
    "#print(\"Chi2: \", fitLinear2.GetChisquare())\n",
    "\n",
    "legend = rt.TLegend(0.65, 0.25, 0.9, 0.5)\n",
    "legend.SetBorderSize(1);\n",
    "legend.AddEntry(gr_2016_muon_det, \"Detector data \" + year , \"ple\")\n",
    "#legend.AddEntry(gr_2016_muon_det_MC, \"DY MC (MG_aMG@NLO)\" , \"ple\")\n",
    "#legend.AddEntry(gr_2016_muon_det_unfold, \"Detector Unf. data \" + year, \"ple\")\n",
    "#legend.AddEntry(gr_2016_muon_fsr, \"QED-FSR Unf. data \" + year, \"ple\")\n",
    "#legend.AddEntry(gr_2016_muon_fsr, \"QED-FSR Unf. Accept. corrected data 2016\", \"ple\")\n",
    "legend.Draw()\n",
    "\n",
    "CMS_lumi.extraText = \"Work in progress\"\n",
    "\n",
    "iPeriod_ = 4;                                                                                                                                                                                                                                                                                                       \n",
    "if year == '2017':                                                                                                                                                                                                                                                                                          \n",
    "    iPeriod_ = 5                                                                                                                                                                                                                                                                                                         \n",
    "if year == '2018':                                                                                                                                                                                                                                                                                                         \n",
    "    iPeriod_ = 6;   \n",
    "\n",
    "CMS_lumi.CMS_lumi(c_PtVsMass_detector, iPeriod_, 11)\n",
    "c_PtVsMass_detector.Draw()\n",
    "c_PtVsMass_detector.SaveAs(\"pt_mass_\" + year + \"_\" + channel + \".png\")"
   ]
  },
  {
   "cell_type": "code",
   "execution_count": null,
   "metadata": {},
   "outputs": [],
   "source": [
    "fsrUnfold_muon_2016.drawSystematics(\"Pt\")\n",
    "fsrUnfold_muon_2016.drawSystematics(\"Mass\")"
   ]
  },
  {
   "cell_type": "code",
   "execution_count": null,
   "metadata": {},
   "outputs": [],
   "source": [
    "fsrUnfold_muon_2016.drawSystematics(\"Pt\", True, True)\n",
    "fsrUnfold_muon_2016.drawSystematics(\"Mass\", True)"
   ]
  },
  {
   "cell_type": "code",
   "execution_count": null,
   "metadata": {},
   "outputs": [],
   "source": [
    "fsrUnfold_muon_2016.drawSysVar(\"Reco\",\"Pt\")\n",
    "fsrUnfold_muon_2016.drawSysVar(\"Reco\",\"Mass\")"
   ]
  },
  {
   "cell_type": "code",
   "execution_count": null,
   "metadata": {},
   "outputs": [],
   "source": [
    "#fsrUnfold_muon_2016.drawPDFVar()\n",
    "#fsrUnfold_muon_2016.drawPDFVar(False)"
   ]
  },
  {
   "cell_type": "code",
   "execution_count": null,
   "metadata": {},
   "outputs": [],
   "source": [
    "fsrUnfold_muon_2016.drawStatVar()"
   ]
  },
  {
   "cell_type": "code",
   "execution_count": null,
   "metadata": {},
   "outputs": [],
   "source": [
    "fsrUnfold_muon_2016.drawSysVar(\"Unfold\",\"Pt\")\n",
    "fsrUnfold_muon_2016.drawSysVar(\"Unfold\",\"Mass\")\n",
    "\n",
    "fsrUnfold_muon_2016.drawSysVar(\"FSR\",\"Pt\")\n",
    "fsrUnfold_muon_2016.drawSysVar(\"FSR\",\"Mass\")"
   ]
  },
  {
   "cell_type": "code",
   "execution_count": null,
   "metadata": {},
   "outputs": [],
   "source": [
    "#Comparison plot before/after unfolding procedure!\n",
    "\n",
    "def drawComparisonPlot(hist, *hists, doNorm = False, outName = \"\", xaxisTitle = \"\", var = \"Pt\"):\n",
    "    markerSize = 5\n",
    "    marker = 20\n",
    "    tdrStyle.setTDRStyle()\n",
    "    rt.gStyle.SetOptFit(0)\n",
    "    rt.gStyle.SetLineWidth(3); \n",
    "    rt.gStyle.SetFrameLineWidth(3);\n",
    "    rt.gROOT.ForceStyle();\n",
    "\n",
    "    c_comparison = rt.TCanvas(\"c_comparison\",\"c_comparison\", 4200, 2800)\n",
    "    c_comparison.Draw()\n",
    "    c_comparison.cd()\n",
    "    \n",
    "    pad_top = rt.TPad(\"pad_top\", \"pad_top\", 0, 0.3, 1, 1)\n",
    "    pad_top.SetTopMargin(0.1);\n",
    "    pad_top.SetBottomMargin(0.05)\n",
    "    pad_top.Draw()\n",
    "    pad_top.cd()\n",
    "    pad_top.SetLogy()\n",
    "   \n",
    "    if doNorm:\n",
    "        hist.Scale(1./hist.Integral())\n",
    "    hist.Draw(\"hist\")\n",
    "    hist.GetYaxis().SetTitle(\"A.U.\")\n",
    "    hist.SetLineColor(rt.kBlack)\n",
    "    hist.SetLineWidth(2)\n",
    "    #hist.SetMarkerSize(markerSize)\n",
    "    #hist.SetMarkerStyle(marker)\n",
    "    hist.SetLabelSize(0)\n",
    "    hist.SetMinimum(1e-10)\n",
    "    hist.SetMaximum(1e2)\n",
    "\n",
    "    legend = rt.TLegend(0.65, 0.5, 0.9, 0.88)\n",
    "    legend.SetBorderSize(0)\n",
    "    legend.SetTextFont(43)\n",
    "    legend.SetTextSize(100)\n",
    "    legend.AddEntry(hist, \"Detector level data \" + year , \"ple\")\n",
    "    \n",
    "    line = rt.TLine();                                                                                                                                                                                                           \n",
    "    if var == \"Pt\":                                                                                                                                                                                                    \n",
    "        for i in range(4):                                                                                                                                                          \n",
    "                                                                                                                                                                                                                                 \n",
    "            line.SetLineStyle(1);                                                                                                                                                                                         \n",
    "            line.DrawLine(9*(i+1)+0.5, 1e-5, 9*(i+1)+0.5, 1e2)                                                                                                                   \n",
    "    \n",
    "    init_color = 4\n",
    "    hratios = []\n",
    "    \n",
    "    for counter, hist_ in enumerate(hists):\n",
    "        print(str(init_color))\n",
    "        if doNorm:\n",
    "            hist_.Scale(1./hist_.Integral())\n",
    "        hist_.SetLineColor(init_color)\n",
    "        hist_.Draw(\"histsame\")\n",
    "        #hist_.SetMarkerSize(markerSize)\n",
    "        if counter == 0:\n",
    "            legend.AddEntry(hist_, \"Dressed level data \" + year, \"ple\")\n",
    "        if counter == 1:\n",
    "            legend.AddEntry(hist_, \"Parton level data \" + year, \"ple\")\n",
    "        \n",
    "        hratios.append(hist_.Clone(\"hratio_\"+str(counter)))\n",
    "            \n",
    "        init_color = init_color - 2\n",
    "        \n",
    "    legend.Draw()\n",
    "        \n",
    "    CMS_lumi.extraText = \"Work in progress\"\n",
    "    CMS_lumi.CMS_lumi(pad_top, 4, 11)\n",
    "\n",
    "    c_comparison.cd()\n",
    "    \n",
    "    pad_bottom = rt.TPad(\"pad_bottom\", \"pad_bottom\", 0, 0.0, 1, 0.3)\n",
    "    pad_bottom.Draw()\n",
    "    pad_bottom.SetBottomMargin(0.35)\n",
    "    pad_bottom.cd()\n",
    "    \n",
    "    init_color = 4\n",
    "    for counter, hratio in enumerate(hratios):\n",
    "        #print(\"counter: \" + str(counter))\n",
    "        #print(str(init_color))\n",
    "        hratio.Divide(hist)\n",
    "        hratio.SetLineColor(init_color)\n",
    "        hratio.SetLineWidth(2)\n",
    "        #print (\"test error: \" + str(hratio.GetBinError(1)))\n",
    "        \n",
    "        if counter == 0 :\n",
    "            #print(\"draw\")\n",
    "            hratio.Draw(\"hist e\")\n",
    "            hratio.GetYaxis().SetTitle(\"/Detector\")\n",
    "            hratio.GetYaxis().SetNdivisions(505)\n",
    "            hratio.GetXaxis().SetTitle(xaxisTitle)\n",
    "            hratio.SetMinimum(0.4)\n",
    "            hratio.SetMaximum(1.6)\n",
    "            \n",
    "            if var == \"Pt\":                                                                                                                                                                                                    \n",
    "                for i in range(4):                                                                                                                                                          \n",
    "                                                                                                                                                                                                                                 \n",
    "                    line.SetLineStyle(1);                                                                                                                                                                                         \n",
    "                    line.DrawLine(9*(i+1)+0.5, 0.4, 9*(i+1)+0.5, 1.6)  \n",
    "            \n",
    "            oneLine = rt.TLine(hratio.GetXaxis().GetXmin(),1,hratio.GetXaxis().GetXmax(),1);                                                                                                     \n",
    "            oneLine.SetLineColor(rt.kBlack)                                                                                                                               \n",
    "            oneLine.Draw(\"same\")                                                                                                                                                           \n",
    "            oneLine.SetLineStyle(3) \n",
    "        else :\n",
    "            hratio.Draw(\"hist same\")\n",
    "            \n",
    "        #hratio.SetMarkerSize(markerSize)\n",
    "            \n",
    "        init_color = init_color - 2\n",
    "        \n",
    "    \n",
    "    c_comparison.cd()\n",
    "    \n",
    "    c_comparison.SaveAs(outName)\n",
    "    del c_comparison"
   ]
  },
  {
   "cell_type": "code",
   "execution_count": null,
   "metadata": {},
   "outputs": [],
   "source": [
    "hPt_det_2016_data    = detUnfold_muon_2016_CoarseCoarse.getUnfInHist(\"Pt\", \"pt[UO];mass[UO]\", False, \"\", \"\", 0, False)\n",
    "hPt_detUnf_2016_data = detUnfold_muon_2016.getUnfHist(\"Pt\", \"DetectorUnf\", \"pt[UO];mass[UO]\", False)\n",
    "hPt_fsrUnf_2016_data = fsrUnfold_muon_2016.getUnfHist(\"Pt\", \"FSRUnf\", \"pt[UO];mass[UO]\", False)"
   ]
  },
  {
   "cell_type": "code",
   "execution_count": null,
   "metadata": {},
   "outputs": [],
   "source": [
    "hMass_det_2016_data    = detUnfold_muon_2016.getUnfInHist(\"Mass\", \"mass[UO];pt[UOC0]\", True, \"\", \"\", 0, True)\n",
    "hMass_detUnf_2016_data = detUnfold_muon_2016.getUnfHist(\"Mass\", \"DetectorUnf\", \"mass[UO];pt[UOC0]\", True, True)\n",
    "hMass_fsrUnf_2016_data = fsrUnfold_muon_2016.getUnfHist(\"Mass\", \"FSRUnf\", \"mass[UO];pt[UOC0]\", True, True)"
   ]
  },
  {
   "cell_type": "code",
   "execution_count": null,
   "metadata": {},
   "outputs": [],
   "source": [
    "drawComparisonPlot(hMass_det_2016_data, hMass_detUnf_2016_data, hMass_fsrUnf_2016_data, doNorm = True, outName = \"MassComparison.png\", xaxisTitle = \"Mass^{\"+channel_str+\"} (GeV)\", var = \"Mass\")"
   ]
  },
  {
   "cell_type": "code",
   "execution_count": null,
   "metadata": {},
   "outputs": [],
   "source": [
    "drawComparisonPlot(hPt_det_2016_data, hPt_detUnf_2016_data, hPt_fsrUnf_2016_data, doNorm = True, outName = \"PtComparison.png\", xaxisTitle = \"p_{T}^{\"+channel_str+\"} bin index\", var = \"Pt\")"
   ]
  },
  {
   "cell_type": "code",
   "execution_count": null,
   "metadata": {},
   "outputs": [],
   "source": []
  }
 ],
 "metadata": {
  "kernelspec": {
   "display_name": "Python 3",
   "language": "python",
   "name": "python3"
  },
  "language_info": {
   "codemirror_mode": {
    "name": "ipython",
    "version": 3
   },
   "file_extension": ".py",
   "mimetype": "text/x-python",
   "name": "python",
   "nbconvert_exporter": "python",
   "pygments_lexer": "ipython3",
   "version": "3.6.8"
  }
 },
 "nbformat": 4,
 "nbformat_minor": 4
}
