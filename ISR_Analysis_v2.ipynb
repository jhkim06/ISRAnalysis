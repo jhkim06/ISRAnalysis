{
 "cells": [
  {
   "cell_type": "code",
   "execution_count": 1,
   "metadata": {
    "scrolled": true
   },
   "outputs": [
    {
     "name": "stdout",
     "output_type": "stream",
     "text": [
      "Welcome to JupyROOT 6.14/04\n"
     ]
    }
   ],
   "source": [
    "import ISRAnalysis as an"
   ]
  },
  {
   "cell_type": "code",
   "execution_count": 2,
   "metadata": {},
   "outputs": [
    {
     "data": {
      "text/html": [
       "<style>.container { width:100% !important; }</style>"
      ],
      "text/plain": [
       "<IPython.core.display.HTML object>"
      ]
     },
     "metadata": {},
     "output_type": "display_data"
    }
   ],
   "source": [
    "from IPython.core.display import display, HTML\n",
    "display(HTML(\"<style>.container { width:100% !important; }</style>\"))\n",
    "\n",
    "import sys"
   ]
  },
  {
   "cell_type": "markdown",
   "metadata": {},
   "source": [
    "# Unfolding for detector (up to dressed lepton level) "
   ]
  },
  {
   "cell_type": "code",
   "execution_count": 3,
   "metadata": {
    "scrolled": false
   },
   "outputs": [],
   "source": [
    "binDef = \"_FineCoarse\"\n",
    "channel = \"electron\"\n",
    "year = \"2016\"\n",
    "doSys = True\n",
    "\n",
    "# Redirect STDOUT and STDERR\n",
    "sys.stderr = open(\"stderr_\"+channel+\"_\"+year+\".txt\", \"w\")\n",
    "sys.stdout = open(\"stdout_\"+channel+\"_\"+year+\".txt\", \"w\")\n",
    "\n",
    "detUnfold_muon_2016 = an.ISRAnalysis(year, channel, 0, False, \"matrix\", \n",
    "                                     \"Detector_Dressed_DRp1_Fiducial\", \"Detector_Dressed_DRp1\", binDef)\n"
   ]
  },
  {
   "cell_type": "code",
   "execution_count": 4,
   "metadata": {},
   "outputs": [],
   "source": [
    "# Just to compare before/after unfolding (i.e. use coarse binning for detector plots)\n",
    "#detUnfold_muon_2016_CoarseCoarse = an.ISRAnalysis(year, channel, 0, False, \"matrix\", \n",
    "#                                     \"Detector_Dressed_DRp1_Fiducial\", \"Detector_Dressed_DRp1\", \"\")"
   ]
  },
  {
   "cell_type": "code",
   "execution_count": 5,
   "metadata": {},
   "outputs": [
    {
     "data": {
      "text/plain": [
       "<ROOT.TVectorT<double> object (\"TVectorT<double>\") at 0x5ff8b98>"
      ]
     },
     "execution_count": 5,
     "metadata": {},
     "output_type": "execute_result"
    }
   ],
   "source": [
    "# Check matrix conditions\n",
    "detUnfold_muon_2016.checkMatrixCond(\"Pt\")\n",
    "detUnfold_muon_2016.checkMatrixCond(\"Mass\")"
   ]
  },
  {
   "cell_type": "code",
   "execution_count": 6,
   "metadata": {},
   "outputs": [],
   "source": [
    "# Draw response matrix\n",
    "detUnfold_muon_2016.drawResponseM(\"Pt\")\n",
    "detUnfold_muon_2016.drawResponseM(\"Mass\")"
   ]
  },
  {
   "cell_type": "code",
   "execution_count": 7,
   "metadata": {
    "scrolled": false
   },
   "outputs": [],
   "source": [
    "# Nominal\n",
    "detUnfold_muon_2016.setInputHist(False, False, None, \"Detector\")\n",
    "detUnfold_muon_2016.setUnfoldBkgs(False, \"Detector\")\n",
    "detUnfold_muon_2016.subFake() # Subract DY fake (out of fiducial volume at gen level)\n",
    "#detUnfold_muon_2016.subFake(False, \"detector_level_DY_Fake\") # Subract DY fake (out of fiducial volume at gen level)\n",
    "\n",
    "#detUnfold_muon_2016_CoarseCoarse.setInputHist(False, False, None, \"Detector\")\n",
    "#detUnfold_muon_2016_CoarseCoarse.setUnfoldBkgs(False, \"Detector\")\n",
    "#detUnfold_muon_2016_CoarseCoarse.subFake() # Subract DY fake (out of fiducial volume at gen level)\n",
    "#detUnfold_muon_2016_CoarseCoarse.subFake(False, \"detector_level_DY_Fake\") # Subract DY fake (out of fiducial volume at gen level)"
   ]
  },
  {
   "cell_type": "code",
   "execution_count": 8,
   "metadata": {
    "scrolled": false
   },
   "outputs": [],
   "source": [
    "if doSys == True:\n",
    "    if channel == \"muon\" :\n",
    "        systematics = {\n",
    "                       \"ID\":[\"IdSFUp\", \"IdSFDown\"], \n",
    "                       \"ISO\":[\"IsoSFUp\", \"IsoSFDown\"], \n",
    "                       \"TRG\":[\"trgSFUp\", \"trgSFDown\"], \n",
    "                       #\"L1Prefie\":[\"L1PrefireUp\",\"L1PrefireDown\"], \n",
    "                       \"PU\":[\"PUUp\", \"PUDown\"],\n",
    "                       #\"#ZptCorr\": [\"ZpTCorrected\", \"Nominal\"], # use different matrix file\n",
    "                       #\"LepScale\": [\"LepScaleUp\", \"LepScaleDown\"],\n",
    "                       \"iterEM\": [\"iterEM\", \"Nominal\"],\n",
    "                       \"Scale\":[\"ScaleABUp\", \"ScaleABDown\", \"ScaleAUp\", \"ScaleADown\", \"ScaleBUp\", \"ScaleBDown\"], \n",
    "                       \"AlphaS\":[\"AlphaSUp\", \"AlphaSDown\"],\n",
    "                       #\"PDF\":[\"PDFerror{:0>3}\".format(str(i)) for i in range(1,101)],\n",
    "                       \"Background\": [\"NormUp\", \"NormDown\"],\n",
    "                       }\n",
    "    \n",
    "    if channel == \"electron\" :\n",
    "        systematics = {\n",
    "                       \"ID\":[\"IdSFUp\", \"IdSFDown\"],\n",
    "                       \"Reco\":[\"recoSFUp\",\"recoSFDown\"], \n",
    "                       \"TRG\":[\"trgSFUp\", \"trgSFDown\"], \n",
    "                       #\"L1Prefie\":[\"L1PrefireUp\",\"L1PrefireDown\"], \n",
    "                       \"PU\":[\"PUUp\", \"PUDown\"],\n",
    "                       #\"ZptCorr\": [\"ZpTCorrected\", \"Nominal\"],\n",
    "                       #\"LepScale\": [\"LepScaleUp\", \"LepScaleDown\"],\n",
    "                       #\"LepRes\": [\"LepResUp\", \"LepResDown\"],\n",
    "                       \"iterEM\": [\"iterEM\", \"Nominal\"],\n",
    "                       \"Scale\":[\"ScaleABUp\", \"ScaleABDown\", \"ScaleAUp\", \"ScaleADown\", \"ScaleBUp\", \"ScaleBDown\"], \n",
    "                       \"AlphaS\":[\"AlphaSUp\", \"AlphaSDown\"],\n",
    "                       \"PDF\":[\"PDFerror{:0>3}\".format(str(i)) for i in range(1,101)],\n",
    "                       \"Background\": [\"NormUp\", \"NormDown\"],\n",
    "                        }\n",
    "    \n",
    "    for sysName, postfixs in systematics.items():\n",
    "        for postfix in postfixs:\n",
    "            detUnfold_muon_2016.setSystematics(sysName, postfix)\n",
    "            #print(sysName + \" \" + postfix)\n",
    "            detUnfold_muon_2016.setInputHist(False, False, None, \"Detector\", True, sysName, postfix)\n",
    "            detUnfold_muon_2016.setUnfoldBkgs(True, \"Detector\", sysName, postfix) #Combine Bkgs and Fake?\n",
    "            histpostfix = postfix\n",
    "            if sysName == \"iterEM\" or \"LepScale\" in sysName or \"LepRes\" in sysName:\n",
    "                histpostfix = \"\"\n",
    "            detUnfold_muon_2016.subFake(True, \"Detector_DY_Fake\", sysName, postfix, histpostfix)\n",
    "            #detUnfold_muon_2016.subFake(True, \"detector_level_DY_Fake\", sysName, postfix, histpostfix)"
   ]
  },
  {
   "cell_type": "code",
   "execution_count": 9,
   "metadata": {},
   "outputs": [],
   "source": [
    "detUnfold_muon_2016.doUnfold() # nominal unfold"
   ]
  },
  {
   "cell_type": "code",
   "execution_count": 10,
   "metadata": {},
   "outputs": [],
   "source": [
    "if doSys:\n",
    "    detUnfold_muon_2016.doUnfold(doSys)"
   ]
  },
  {
   "cell_type": "code",
   "execution_count": 11,
   "metadata": {},
   "outputs": [],
   "source": [
    "# Draw correlation of unfolded distribution\n",
    "#for massBin in range(5):\n",
    "#    detUnfold_muon_2016.drawCorrelation(\"Pt\", \"pt[UO];mass[UOC\"+str(massBin)+\"]\", True, str(massBin))\n",
    "    \n",
    "#detUnfold_muon_2016.drawCorrelation(\"Pt\", \"pt[UO];mass[UO]\", True, \"\")\n",
    "#detUnfold_muon_2016.drawCorrelation(\"Mass\", \"mass[UO];pt[UOC]\", True, \"\")"
   ]
  },
  {
   "cell_type": "code",
   "execution_count": 12,
   "metadata": {},
   "outputs": [],
   "source": [
    "#detUnfold_muon_2016.drawPtDistributions()"
   ]
  },
  {
   "cell_type": "code",
   "execution_count": 13,
   "metadata": {
    "scrolled": false
   },
   "outputs": [],
   "source": [
    "#detUnfold_muon_2016.drawPtBkgRatio()"
   ]
  },
  {
   "cell_type": "code",
   "execution_count": 14,
   "metadata": {
    "scrolled": false
   },
   "outputs": [],
   "source": [
    "#for massBin in range(5):\n",
    "#    detUnfold_muon_2016.drawDetPlot(\"Pt\"+binDef, \"Detector\", \"pt[UO];mass[UOC\"+str(massBin)+\"]\", True, \"\", \"Det_M\"+str(massBin)+\"_\", massBin, True, False)\n",
    "#detUnfold_muon_2016.drawDetPlot(\"Mass\"+binDef, \"Detector\", \"mass[UO];pt[UOC0]\", True, \"\", \"Det_\", 0, True, False)\n",
    "\n",
    "#if doSys: \n",
    "#    for sysName, _ in systematics.items():\n",
    "#        if sysName == \"iterEM\" or sysName == \"Background\": continue\n",
    "#        for massBin in range(5):\n",
    "#            detUnfold_muon_2016.drawDetPlot(\"Pt\"+binDef, \"Detector\", \"pt[UO];mass[UOC\"+str(massBin)+\"]\", True, sysName, \"Det_M\"+str(massBin)+\"_\", massBin, True, False)\n",
    "#        detUnfold_muon_2016.drawDetPlot(\"Mass\"+binDef, \"Detector\", \"mass[UO];pt[UOC0]\", True, sysName, \"Det_\", 0, True, False)"
   ]
  },
  {
   "cell_type": "code",
   "execution_count": 15,
   "metadata": {
    "scrolled": false
   },
   "outputs": [],
   "source": [
    "#if doSys: \n",
    "#    detUnfold_muon_2016.drawDetPlot(\"Mass\"+binDef, \"Detector\", \"mass[UO];pt[UOC0]\", True, \"totalSys\", \"Det_\", 0, True, False)\n",
    "#    \n",
    "#    for massBin in range(5):\n",
    "#        detUnfold_muon_2016.drawDetPlot(\"Pt\"+binDef, \"Detector\", \"pt[UO];mass[UOC\"+str(massBin)+\"]\", True, \"totalSys\", \"Det_M\"+str(massBin)+\"_\", massBin, True, False)"
   ]
  },
  {
   "cell_type": "markdown",
   "metadata": {},
   "source": [
    "# Unfolded distributions"
   ]
  },
  {
   "cell_type": "code",
   "execution_count": 16,
   "metadata": {
    "scrolled": false
   },
   "outputs": [],
   "source": [
    "#for massBin in range(5):\n",
    "#    detUnfold_muon_2016.drawUnfPlot(\"Pt\", \"pt[UO];mass[UOC\"+str(massBin)+\"]\", True, \"\", \"DetUnf_M\"+str(massBin)+\"_\", massBin, True)\n",
    "        \n",
    "#detUnfold_muon_2016.drawUnfPlot(\"Mass\", \"mass[UO];pt[UOC0]\", True, \"\", \"DetUnf_\")"
   ]
  },
  {
   "cell_type": "code",
   "execution_count": 17,
   "metadata": {
    "scrolled": false
   },
   "outputs": [],
   "source": [
    "#if doSys: \n",
    "#    for sysName, _ in systematics.items():\n",
    "#        for massBin in range(5):\n",
    "#            detUnfold_muon_2016.drawUnfPlot(\"Pt\", \"pt[UO];mass[UOC\"+str(massBin)+\"]\", True, sysName, \"DetUnf_M\"+str(massBin)+\"_\", massBin, True)\n",
    "#            detUnfold_muon_2016.drawUnfVarPlot(\"Pt\", \"pt[UO];mass[UOC\"+str(massBin)+\"]\", True, sysName, \"DetUnf_M\"+str(massBin)+\"_\", massBin, True)\n",
    "#        detUnfold_muon_2016.drawUnfPlot(\"Mass\", \"mass[UO];pt[UOC0]\", True, sysName, \"DetUnf_\", 0, True)\n",
    "#        detUnfold_muon_2016.drawUnfVarPlot(\"Mass\", \"mass[UO];pt[UOC0]\", True, sysName, \"DetUnf_\", 0, True)\n",
    "        \n",
    "#    detUnfold_muon_2016.drawUnfPlot(\"Mass\", \"mass[UO];pt[UOC0]\", True, \"totalSys\", \"DetUnf_\")\n",
    "    \n",
    "#    for massBin in range(5):\n",
    "#        detUnfold_muon_2016.drawUnfPlot(\"Pt\", \"pt[UO];mass[UOC\"+str(massBin)+\"]\", True, \"totalSys\", \"DetUnf_M\"+str(massBin)+\"_\", massBin, True)"
   ]
  },
  {
   "cell_type": "code",
   "execution_count": 18,
   "metadata": {},
   "outputs": [],
   "source": [
    "print(\"set mean values\")\n",
    "detUnfold_muon_2016.setMeanValues(True)\n",
    "if doSys:\n",
    "    detUnfold_muon_2016.setSysMeanValues()\n",
    "    detUnfold_muon_2016.setSysError()\n",
    "    detUnfold_muon_2016.setTotSysError()"
   ]
  },
  {
   "cell_type": "code",
   "execution_count": 19,
   "metadata": {},
   "outputs": [],
   "source": [
    "nominal_mass_vector=detUnfold_muon_2016.getMeanVectors()\n",
    "nominal_pt_vector=detUnfold_muon_2016.getMeanVectors(var=\"Pt\")\n",
    "\n",
    "nBin=len(nominal_mass_vector)\n",
    "pd_series_binIndex=pd.Series(range(1,nBin+1), range(1, nBin+1), name=\"bin_index\")\n",
    "\n",
    "pd_mass_mean=pd.DataFrame(index=pd_series_binIndex)\n",
    "pd_pt_mean=pd.DataFrame(index=pd_series_binIndex)\n",
    "pd_mass_mean[\"Nominal\"]=nominal_mass_vector\n",
    "pd_pt_mean[\"Nominal\"]=nominal_pt_vector\n",
    "\n",
    "for sysName, postfixs in systematics.items() :\n",
    "    for postfix in postfixs :\n",
    "        if postfix is \"Nominal\": continue\n",
    "        temp_mass_vector=detUnfold_muon_2016.getMeanVectors(\"Mass\", sysName, postfix)\n",
    "        temp_pt_vector=detUnfold_muon_2016.getMeanVectors(\"Pt\", sysName, postfix)\n",
    "        pd_mass_mean[postfix]=temp_mass_vector\n",
    "        pd_pt_mean[postfix]=temp_pt_vector"
   ]
  },
  {
   "cell_type": "code",
   "execution_count": 20,
   "metadata": {},
   "outputs": [],
   "source": [
    "pd_mass_mean.to_csv(\"unfolded_mass_mean.csv\")"
   ]
  },
  {
   "cell_type": "code",
   "execution_count": 21,
   "metadata": {},
   "outputs": [],
   "source": [
    "pd_pt_mean.to_csv(\"unfolded_pt_mean.csv\")"
   ]
  },
  {
   "cell_type": "code",
   "execution_count": 22,
   "metadata": {},
   "outputs": [],
   "source": [
    "read_csv = pd.read_csv(\"unfolded_mass_mean.csv\")"
   ]
  },
  {
   "cell_type": "code",
   "execution_count": 24,
   "metadata": {},
   "outputs": [
    {
     "data": {
      "text/html": [
       "<div>\n",
       "<style scoped>\n",
       "    .dataframe tbody tr th:only-of-type {\n",
       "        vertical-align: middle;\n",
       "    }\n",
       "\n",
       "    .dataframe tbody tr th {\n",
       "        vertical-align: top;\n",
       "    }\n",
       "\n",
       "    .dataframe thead th {\n",
       "        text-align: right;\n",
       "    }\n",
       "</style>\n",
       "<table border=\"1\" class=\"dataframe\">\n",
       "  <thead>\n",
       "    <tr style=\"text-align: right;\">\n",
       "      <th></th>\n",
       "      <th>Nominal</th>\n",
       "      <th>IdSFUp</th>\n",
       "      <th>IdSFDown</th>\n",
       "      <th>recoSFUp</th>\n",
       "      <th>recoSFDown</th>\n",
       "      <th>trgSFUp</th>\n",
       "      <th>trgSFDown</th>\n",
       "      <th>PUUp</th>\n",
       "      <th>PUDown</th>\n",
       "      <th>iterEM</th>\n",
       "      <th>...</th>\n",
       "      <th>PDFerror093</th>\n",
       "      <th>PDFerror094</th>\n",
       "      <th>PDFerror095</th>\n",
       "      <th>PDFerror096</th>\n",
       "      <th>PDFerror097</th>\n",
       "      <th>PDFerror098</th>\n",
       "      <th>PDFerror099</th>\n",
       "      <th>PDFerror100</th>\n",
       "      <th>NormUp</th>\n",
       "      <th>NormDown</th>\n",
       "    </tr>\n",
       "    <tr>\n",
       "      <th>bin_index</th>\n",
       "      <th></th>\n",
       "      <th></th>\n",
       "      <th></th>\n",
       "      <th></th>\n",
       "      <th></th>\n",
       "      <th></th>\n",
       "      <th></th>\n",
       "      <th></th>\n",
       "      <th></th>\n",
       "      <th></th>\n",
       "      <th></th>\n",
       "      <th></th>\n",
       "      <th></th>\n",
       "      <th></th>\n",
       "      <th></th>\n",
       "      <th></th>\n",
       "      <th></th>\n",
       "      <th></th>\n",
       "      <th></th>\n",
       "      <th></th>\n",
       "      <th></th>\n",
       "    </tr>\n",
       "  </thead>\n",
       "  <tbody>\n",
       "    <tr>\n",
       "      <th>1</th>\n",
       "      <td>57.273512</td>\n",
       "      <td>57.277015</td>\n",
       "      <td>57.270143</td>\n",
       "      <td>57.274454</td>\n",
       "      <td>57.272594</td>\n",
       "      <td>57.274719</td>\n",
       "      <td>57.272321</td>\n",
       "      <td>57.269132</td>\n",
       "      <td>57.277392</td>\n",
       "      <td>57.273483</td>\n",
       "      <td>...</td>\n",
       "      <td>57.271616</td>\n",
       "      <td>57.267453</td>\n",
       "      <td>57.274456</td>\n",
       "      <td>57.270610</td>\n",
       "      <td>57.270028</td>\n",
       "      <td>57.268428</td>\n",
       "      <td>57.263488</td>\n",
       "      <td>57.274014</td>\n",
       "      <td>57.277738</td>\n",
       "      <td>57.269343</td>\n",
       "    </tr>\n",
       "    <tr>\n",
       "      <th>2</th>\n",
       "      <td>74.252069</td>\n",
       "      <td>74.257712</td>\n",
       "      <td>74.246518</td>\n",
       "      <td>74.253532</td>\n",
       "      <td>74.250610</td>\n",
       "      <td>74.253487</td>\n",
       "      <td>74.250657</td>\n",
       "      <td>74.254845</td>\n",
       "      <td>74.249459</td>\n",
       "      <td>74.251926</td>\n",
       "      <td>...</td>\n",
       "      <td>74.247837</td>\n",
       "      <td>74.245171</td>\n",
       "      <td>74.244345</td>\n",
       "      <td>74.245704</td>\n",
       "      <td>74.246445</td>\n",
       "      <td>74.247414</td>\n",
       "      <td>74.245066</td>\n",
       "      <td>74.252318</td>\n",
       "      <td>74.257262</td>\n",
       "      <td>74.246898</td>\n",
       "    </tr>\n",
       "    <tr>\n",
       "      <th>3</th>\n",
       "      <td>91.010578</td>\n",
       "      <td>91.015634</td>\n",
       "      <td>91.005439</td>\n",
       "      <td>91.010477</td>\n",
       "      <td>91.010678</td>\n",
       "      <td>91.011019</td>\n",
       "      <td>91.010133</td>\n",
       "      <td>91.016610</td>\n",
       "      <td>91.004233</td>\n",
       "      <td>91.010578</td>\n",
       "      <td>...</td>\n",
       "      <td>91.009712</td>\n",
       "      <td>91.010943</td>\n",
       "      <td>91.007485</td>\n",
       "      <td>91.007619</td>\n",
       "      <td>91.009497</td>\n",
       "      <td>91.010842</td>\n",
       "      <td>91.011285</td>\n",
       "      <td>91.010565</td>\n",
       "      <td>91.010555</td>\n",
       "      <td>91.010600</td>\n",
       "    </tr>\n",
       "    <tr>\n",
       "      <th>4</th>\n",
       "      <td>119.011242</td>\n",
       "      <td>119.002812</td>\n",
       "      <td>119.019675</td>\n",
       "      <td>119.006100</td>\n",
       "      <td>119.016353</td>\n",
       "      <td>119.007249</td>\n",
       "      <td>119.015218</td>\n",
       "      <td>119.005524</td>\n",
       "      <td>119.016391</td>\n",
       "      <td>119.011183</td>\n",
       "      <td>...</td>\n",
       "      <td>118.954496</td>\n",
       "      <td>118.950684</td>\n",
       "      <td>118.958597</td>\n",
       "      <td>118.952366</td>\n",
       "      <td>118.957565</td>\n",
       "      <td>118.951242</td>\n",
       "      <td>118.949642</td>\n",
       "      <td>119.011907</td>\n",
       "      <td>118.984429</td>\n",
       "      <td>119.037961</td>\n",
       "    </tr>\n",
       "    <tr>\n",
       "      <th>5</th>\n",
       "      <td>242.815150</td>\n",
       "      <td>242.798929</td>\n",
       "      <td>242.831276</td>\n",
       "      <td>242.808209</td>\n",
       "      <td>242.822034</td>\n",
       "      <td>242.810655</td>\n",
       "      <td>242.819575</td>\n",
       "      <td>242.779739</td>\n",
       "      <td>242.863818</td>\n",
       "      <td>242.815149</td>\n",
       "      <td>...</td>\n",
       "      <td>242.661617</td>\n",
       "      <td>242.646036</td>\n",
       "      <td>242.647675</td>\n",
       "      <td>242.668765</td>\n",
       "      <td>242.666372</td>\n",
       "      <td>242.659778</td>\n",
       "      <td>242.656296</td>\n",
       "      <td>242.814971</td>\n",
       "      <td>242.812902</td>\n",
       "      <td>242.817365</td>\n",
       "    </tr>\n",
       "  </tbody>\n",
       "</table>\n",
       "<p>5 rows × 120 columns</p>\n",
       "</div>"
      ],
      "text/plain": [
       "              Nominal      IdSFUp    IdSFDown    recoSFUp  recoSFDown  \\\n",
       "bin_index                                                               \n",
       "1           57.273512   57.277015   57.270143   57.274454   57.272594   \n",
       "2           74.252069   74.257712   74.246518   74.253532   74.250610   \n",
       "3           91.010578   91.015634   91.005439   91.010477   91.010678   \n",
       "4          119.011242  119.002812  119.019675  119.006100  119.016353   \n",
       "5          242.815150  242.798929  242.831276  242.808209  242.822034   \n",
       "\n",
       "              trgSFUp   trgSFDown        PUUp      PUDown      iterEM  ...  \\\n",
       "bin_index                                                              ...   \n",
       "1           57.274719   57.272321   57.269132   57.277392   57.273483  ...   \n",
       "2           74.253487   74.250657   74.254845   74.249459   74.251926  ...   \n",
       "3           91.011019   91.010133   91.016610   91.004233   91.010578  ...   \n",
       "4          119.007249  119.015218  119.005524  119.016391  119.011183  ...   \n",
       "5          242.810655  242.819575  242.779739  242.863818  242.815149  ...   \n",
       "\n",
       "           PDFerror093  PDFerror094  PDFerror095  PDFerror096  PDFerror097  \\\n",
       "bin_index                                                                    \n",
       "1            57.271616    57.267453    57.274456    57.270610    57.270028   \n",
       "2            74.247837    74.245171    74.244345    74.245704    74.246445   \n",
       "3            91.009712    91.010943    91.007485    91.007619    91.009497   \n",
       "4           118.954496   118.950684   118.958597   118.952366   118.957565   \n",
       "5           242.661617   242.646036   242.647675   242.668765   242.666372   \n",
       "\n",
       "           PDFerror098  PDFerror099  PDFerror100      NormUp    NormDown  \n",
       "bin_index                                                                 \n",
       "1            57.268428    57.263488    57.274014   57.277738   57.269343  \n",
       "2            74.247414    74.245066    74.252318   74.257262   74.246898  \n",
       "3            91.010842    91.011285    91.010565   91.010555   91.010600  \n",
       "4           118.951242   118.949642   119.011907  118.984429  119.037961  \n",
       "5           242.659778   242.656296   242.814971  242.812902  242.817365  \n",
       "\n",
       "[5 rows x 120 columns]"
      ]
     },
     "execution_count": 24,
     "metadata": {},
     "output_type": "execute_result"
    }
   ],
   "source": [
    "read_csv.set_index(\"bin_index\")"
   ]
  },
  {
   "cell_type": "code",
   "execution_count": 28,
   "metadata": {},
   "outputs": [
    {
     "data": {
      "image/png": "[encoded data removed]",
      "text/plain": [
       "<Figure size 720x504 with 1 Axes>"
      ]
     },
     "metadata": {
      "needs_background": "light"
     },
     "output_type": "display_data"
    }
   ],
   "source": [
    "import matplotlib.pyplot as plt\n",
    "\n",
    "fig, ax = plt.subplots(figsize=(10, 7))\n",
    "ax.set_xscale(\"log\")\n",
    "#ax.fill_between(x, y_est - y_err, y_est + y_err, alpha=0.2)\n",
    "ax.plot(pd_mass_mean, pd_pt_mean, 'o', color='tab:brown')\n",
    "plt.savefig(\"pt_mass.pdf\", format=\"pdf\", dpi=300)"
   ]
  },
  {
   "cell_type": "code",
   "execution_count": 29,
   "metadata": {},
   "outputs": [],
   "source": [
    "#detUnfold_muon_2016.drawSysVar(\"Scale\",\"Pt\")\n",
    "#detUnfold_muon_2016.drawSysVar(\"Scale\",\"Mass\")"
   ]
  },
  {
   "cell_type": "code",
   "execution_count": 30,
   "metadata": {},
   "outputs": [],
   "source": [
    "#detUnfold_muon_2016.doStatUnfold()"
   ]
  },
  {
   "cell_type": "code",
   "execution_count": 31,
   "metadata": {},
   "outputs": [],
   "source": [
    "#detUnfold_muon_2016.setStatError()"
   ]
  },
  {
   "cell_type": "code",
   "execution_count": 32,
   "metadata": {
    "scrolled": false
   },
   "outputs": [],
   "source": [
    "detUnfold_muon_2016.doAcceptance(doSys, False, \"DetEfficienyCorr\")"
   ]
  },
  {
   "cell_type": "code",
   "execution_count": 33,
   "metadata": {
    "scrolled": false
   },
   "outputs": [],
   "source": [
    "#detUnfold_muon_2016.drawAcceptPlot(\"Mass\", \"mass[UO];pt[UOC0]\", True, \"Efficiency\", \"DetUnfEffCorr_\")\n",
    "#for sysName, _ in systematics.items():\n",
    "#    for massBin in range(5):\n",
    "#        detUnfold_muon_2016.drawAcceptPlot(\"Pt\", \"pt[UO];mass[UOC\"+str(massBin)+\"]\", True, \"Efficiency\", \"DetUnfEffCorr_M\"+str(massBin)+\"_\", massBin, True)"
   ]
  },
  {
   "cell_type": "code",
   "execution_count": 34,
   "metadata": {
    "scrolled": false
   },
   "outputs": [],
   "source": [
    "#for massBin in range(5):\n",
    "#    detUnfold_muon_2016.drawAcceptPlot(\"Pt\", \"pt[UO];mass[UOC\"+str(massBin)+\"]\", True, \"\", \"DetUnfEffCorr_M\"+str(massBin)+\"_\", massBin, True)\n",
    "#detUnfold_muon_2016.drawAcceptPlot(\"Mass\", \"mass[UO];pt[UOC0]\", True, \"\", \"DetUnfEffCorr_\")\n",
    "#\n",
    "#if doSys: \n",
    "#    for sysName, _ in systematics.items():\n",
    "#        for massBin in range(5):\n",
    "#            detUnfold_muon_2016.drawAcceptPlot(\"Pt\", \"pt[UO];mass[UOC\"+str(massBin)+\"]\", True, sysName, \"DetUnfEffCorr_M\"+str(massBin)+\"_\", massBin, True)\n",
    "#        detUnfold_muon_2016.drawAcceptPlot(\"Mass\", \"mass[UO];pt[UOC0]\", True, sysName, \"DetUnfEffCorr_\")"
   ]
  },
  {
   "cell_type": "code",
   "execution_count": 35,
   "metadata": {},
   "outputs": [],
   "source": [
    "detUnfold_muon_2016.setAcceptMeanValues()\n",
    "if doSys:\n",
    "    detUnfold_muon_2016.setAcceptSysMeanValues()\n",
    "    detUnfold_muon_2016.setAcceptSysError()\n",
    "    detUnfold_muon_2016.setAcceptTotSysError()"
   ]
  },
  {
   "cell_type": "code",
   "execution_count": 36,
   "metadata": {},
   "outputs": [],
   "source": [
    "#for massBin in range(5):\n",
    "#    detUnfold_muon_2016.drawAcceptVarPlot(\"Pt\", \"pt[UO];mass[UOC\"+str(massBin)+\"]\", True, \"Scale\", \"DetUnfEffVar_M\"+str(massBin)+\"_\", massBin, False)"
   ]
  },
  {
   "cell_type": "code",
   "execution_count": 37,
   "metadata": {},
   "outputs": [],
   "source": [
    "#detUnfold_muon_2016.drawAcceptVarPlot(\"Mass\", \"mass[UO];pt[UOC0]\", True, \"Scale\", \"DetUnfEffVar_\")"
   ]
  },
  {
   "cell_type": "code",
   "execution_count": 38,
   "metadata": {
    "scrolled": false
   },
   "outputs": [],
   "source": [
    "#if doSys: \n",
    "#    for sysName, _ in systematics.items():\n",
    "#        for massBin in range(5):\n",
    "#            detUnfold_muon_2016.drawAcceptVarPlot(\"Pt\", \"pt[UO];mass[UOC\"+str(massBin)+\"]\", True, sysName, \"DetUnfEffVar_M\"+str(massBin)+\"_\", massBin, False)\n",
    "#        detUnfold_muon_2016.drawAcceptVarPlot(\"Mass\", \"mass[UO];pt[UOC0]\", True, sysName, \"DetUnfEffVar_\")"
   ]
  },
  {
   "cell_type": "code",
   "execution_count": 39,
   "metadata": {},
   "outputs": [],
   "source": [
    "#detUnfold_muon_2016.drawSysVar(\"Scale\",\"Pt\", True)\n",
    "#detUnfold_muon_2016.drawSysVar(\"Scale\",\"Mass\", True)"
   ]
  },
  {
   "cell_type": "code",
   "execution_count": 40,
   "metadata": {},
   "outputs": [],
   "source": [
    "#detUnfold_muon_2016.drawSysVar(\"Reco\",\"Pt\", True)\n",
    "#detUnfold_muon_2016.drawSysVar(\"Reco\",\"Mass\", True)"
   ]
  },
  {
   "cell_type": "code",
   "execution_count": 41,
   "metadata": {},
   "outputs": [],
   "source": [
    "#detUnfold_muon_2016.drawSysVar(\"Reco\",\"Pt\")\n",
    "#detUnfold_muon_2016.drawSysVar(\"Reco\",\"Mass\")"
   ]
  },
  {
   "cell_type": "code",
   "execution_count": 42,
   "metadata": {},
   "outputs": [],
   "source": [
    "#detUnfold_muon_2016.drawSystematics(\"Pt\", False, True)\n",
    "#detUnfold_muon_2016.drawSystematics(\"Mass\")"
   ]
  },
  {
   "cell_type": "code",
   "execution_count": 43,
   "metadata": {},
   "outputs": [],
   "source": [
    "#detUnfold_muon_2016.drawSystematics(\"Pt\", True, True)\n",
    "#detUnfold_muon_2016.drawSystematics(\"Mass\", True)"
   ]
  },
  {
   "cell_type": "code",
   "execution_count": 44,
   "metadata": {},
   "outputs": [],
   "source": [
    "#pickle.dump(detUnfold_muon_2016, open( \"detUnfold.p\", \"wb\" ) )"
   ]
  },
  {
   "cell_type": "markdown",
   "metadata": {},
   "source": [
    "# Unfolding for QED FSR"
   ]
  },
  {
   "cell_type": "code",
   "execution_count": 45,
   "metadata": {
    "scrolled": false
   },
   "outputs": [],
   "source": [
    "binDef = \"_CoarseCoarse\"\n",
    "\n",
    "phase_space = \"Fiducial\"\n",
    "\n",
    "fsrUnfold_muon_2016 = an.ISRAnalysis(year, channel, 0, True, \"fsr_matrix\", \n",
    "                                     \"Dressed_DRp1_Dressed_DR4PI_\"+phase_space, \"Dressed_DRp1_Dressed_DR4PI\", binDef)\n"
   ]
  },
  {
   "cell_type": "code",
   "execution_count": 46,
   "metadata": {},
   "outputs": [],
   "source": [
    "fsrUnfold_muon_2016.setInputHist(False, True, detUnfold_muon_2016.getISRUnfold()) # Set nominal input using previous unfolding result\n",
    "fsrUnfold_muon_2016.subFake(False, \"Dressed_DRp1_DY_Fake\", \"Nominal\", \"\", \"\", True)"
   ]
  },
  {
   "cell_type": "code",
   "execution_count": 47,
   "metadata": {},
   "outputs": [],
   "source": [
    "if doSys :\n",
    "    fsr_systematics = {\n",
    "                       \"Scale\":[\"ScaleABUp\", \"ScaleABDown\", \"ScaleAUp\", \"ScaleADown\", \"ScaleBUp\", \"ScaleBDown\"], \"AlphaS\":[\"AlphaSUp\", \"AlphaSDown\"],\n",
    "                       #\"PDF\":[\"PDFerror{:0>3}\".format(str(i)) for i in range(1,101)],\n",
    "                       \"iterEM\":[\"iterEM\",\"Nominal\"], \n",
    "                       \"FSR (PHOTOS vs PYTHIA)\": [\"PHOTOS\",\"PYTHIA\"],\n",
    "    }\n",
    "    \n",
    "    for sysName, postfixs in fsr_systematics.items():\n",
    "        for postfix in postfixs:\n",
    "            fsrUnfold_muon_2016.setSystematics(sysName, postfix, True) # Create TUnfoldDensity objects for systematics\n",
    "            \n",
    "            if \"FSR\" in sysName:\n",
    "                fsrUnfold_muon_2016.setInputHist(False, True, detUnfold_muon_2016.getISRUnfold(), \"\", True, sysName, postfix)\n",
    "                fsrUnfold_muon_2016.subFake(True, \"Dressed_DRp1_DY_Fake\", sysName, postfix, postfix, True)"
   ]
  },
  {
   "cell_type": "code",
   "execution_count": 48,
   "metadata": {
    "scrolled": false
   },
   "outputs": [],
   "source": [
    "fsrUnfold_muon_2016.setFromPreviousUnfold(detUnfold_muon_2016.getISRUnfold()) # Set using previous unfolding result for systematics"
   ]
  },
  {
   "cell_type": "code",
   "execution_count": 49,
   "metadata": {},
   "outputs": [],
   "source": [
    "if doSys:\n",
    "    for sysName, postfixs in systematics.items():\n",
    "        for postfix in postfixs:\n",
    "            fsrUnfold_muon_2016.subFake(True, \"Dressed_DRp1_DY_Fake\", sysName, postfix, \"\", True)"
   ]
  },
  {
   "cell_type": "code",
   "execution_count": 50,
   "metadata": {},
   "outputs": [],
   "source": [
    "fsrUnfold_muon_2016.doUnfold() # do nominal unfold"
   ]
  },
  {
   "cell_type": "code",
   "execution_count": 51,
   "metadata": {
    "scrolled": true
   },
   "outputs": [],
   "source": [
    "if doSys : \n",
    "    fsrUnfold_muon_2016.doUnfold(doSys) # do unfold for systematic"
   ]
  },
  {
   "cell_type": "code",
   "execution_count": 52,
   "metadata": {},
   "outputs": [],
   "source": [
    "## Draw correlation of unfolded distribution\n",
    "#for massBin in range(5):\n",
    "#    fsrUnfold_muon_2016.drawCorrelation(\"Pt\", \"pt[UO];mass[UOC\"+str(massBin)+\"]\", True, str(massBin))\n",
    "#    \n",
    "#fsrUnfold_muon_2016.drawCorrelation(\"Pt\", \"pt[UO];mass[UO]\", True, \"\")\n",
    "#fsrUnfold_muon_2016.drawCorrelation(\"Mass\", \"mass[UO];pt[UOC]\", True, \"\")"
   ]
  },
  {
   "cell_type": "code",
   "execution_count": 53,
   "metadata": {},
   "outputs": [],
   "source": [
    "fsrUnfold_muon_2016.setMeanValues(True)\n",
    "if doSys:\n",
    "    fsrUnfold_muon_2016.setSysMeanValues()\n",
    "    fsrUnfold_muon_2016.setSysError()\n",
    "    fsrUnfold_muon_2016.setTotSysError()"
   ]
  },
  {
   "cell_type": "code",
   "execution_count": 54,
   "metadata": {},
   "outputs": [],
   "source": [
    "fsrUnfold_muon_2016.doStatUnfold() # NOTE: doStatUnfold() must be done after setMeanValues() and before any other processes\n",
    "                                   # Don't know why exactly..."
   ]
  },
  {
   "cell_type": "code",
   "execution_count": 55,
   "metadata": {},
   "outputs": [],
   "source": [
    "fsrUnfold_muon_2016.setStatError() # Update stat. error"
   ]
  },
  {
   "cell_type": "code",
   "execution_count": 56,
   "metadata": {},
   "outputs": [],
   "source": [
    "#fsrUnfold_muon_2016.drawResponseM(\"Pt\", \"\", \"\", False)\n",
    "#fsrUnfold_muon_2016.drawResponseM(\"Mass\",\"\",\"\",False)"
   ]
  },
  {
   "cell_type": "code",
   "execution_count": 57,
   "metadata": {},
   "outputs": [],
   "source": [
    "#fsrUnfold_muon_2016.checkMatrixCond()\n",
    "#fsrUnfold_muon_2016.checkMatrixCond(\"Pt\")"
   ]
  },
  {
   "cell_type": "code",
   "execution_count": 58,
   "metadata": {
    "scrolled": false
   },
   "outputs": [],
   "source": [
    "#for massBin in range(5):\n",
    "#    fsrUnfold_muon_2016.drawUnfPlot(\"Pt\", \"pt[UO];mass[UOC\"+str(massBin)+\"]\", True, \"\", \"FSRUnf_M\"+str(massBin)+\"_\", massBin, True)\n",
    "    "
   ]
  },
  {
   "cell_type": "code",
   "execution_count": 59,
   "metadata": {
    "scrolled": false
   },
   "outputs": [],
   "source": [
    "#if doSys: \n",
    "#    for sysName, _ in fsr_systematics.items():\n",
    "#        for massBin in range(5):\n",
    "#            if sysName == \"Scale(#mu_{F}/#mu_{R})\":\n",
    "#                fsrUnfold_muon_2016.drawUnfPlot(\"Pt\", \"pt[UO];mass[UOC\"+str(massBin)+\"]\", True, sysName, \"FSRUnf_M\"+str(massBin)+\"Scale\"+\"_\", massBin, True)\n",
    "#            else : fsrUnfold_muon_2016.drawUnfPlot(\"Pt\", \"pt[UO];mass[UOC\"+str(massBin)+\"]\", True, sysName, \"FSRUnf_M\"+str(massBin)+sysName+\"_\", massBin, True)\n",
    "#                \n",
    "#        if sysName == \"Scale(#mu_{F}/#mu_{R})\":\n",
    "#            fsrUnfold_muon_2016.drawUnfPlot(\"Mass\", \"mass[UO];pt[UOC0]\", True, sysName, \"FSRUnf_MassScale\")\n",
    "#        else :\n",
    "#            fsrUnfold_muon_2016.drawUnfPlot(\"Mass\", \"mass[UO];pt[UOC0]\", True, sysName, \"FSRUnf_Mass\"+sysName)\n",
    "#            \n",
    "#    for sysName, _ in systematics.items():\n",
    "#        for massBin in range(5):\n",
    "#            fsrUnfold_muon_2016.drawUnfPlot(\"Pt\", \"pt[UO];mass[UOC\"+str(massBin)+\"]\", True, sysName, \"FSRUnf_M\"+str(massBin)+sysName+\"_\", massBin, True)\n",
    "#                \n",
    "#        fsrUnfold_muon_2016.drawUnfPlot(\"Mass\", \"mass[UO];pt[UOC0]\", True, sysName, \"FSRUnf_Mass\"+sysName)"
   ]
  },
  {
   "cell_type": "code",
   "execution_count": 60,
   "metadata": {
    "scrolled": false
   },
   "outputs": [],
   "source": [
    "#if doSys:\n",
    "#    fsrUnfold_muon_2016.drawUnfPlot(\"Mass\", \"mass[UO];pt[UOC0]\", True, \"totalSys\", \"FSRUnf_Mass\")\n",
    "#    \n",
    "#    for massBin in range(5):\n",
    "#        fsrUnfold_muon_2016.drawUnfPlot(\"Pt\", \"pt[UO];mass[UOC\"+str(massBin)+\"]\", True, \"totalSys\", \"FSRUnf_M\"+str(massBin)+\"_\", massBin, True)"
   ]
  },
  {
   "cell_type": "markdown",
   "metadata": {},
   "source": [
    "# Acceptance correction "
   ]
  },
  {
   "cell_type": "code",
   "execution_count": 61,
   "metadata": {
    "scrolled": false
   },
   "outputs": [],
   "source": [
    "if phase_space == \"Fiducial\":\n",
    "    fsrUnfold_muon_2016.doAcceptance(doSys, True)"
   ]
  },
  {
   "cell_type": "code",
   "execution_count": 62,
   "metadata": {},
   "outputs": [],
   "source": [
    "if phase_space == \"Fiducial\" :\n",
    "    fsrUnfold_muon_2016.setAcceptMeanValues()"
   ]
  },
  {
   "cell_type": "code",
   "execution_count": 63,
   "metadata": {},
   "outputs": [],
   "source": [
    "if phase_space == \"Fiducial\" :\n",
    "    if doSys:\n",
    "        fsrUnfold_muon_2016.setAcceptSysMeanValues()"
   ]
  },
  {
   "cell_type": "code",
   "execution_count": 64,
   "metadata": {},
   "outputs": [],
   "source": [
    "if phase_space == \"Fiducial\" :\n",
    "    if doSys:\n",
    "        fsrUnfold_muon_2016.setAcceptSysError()"
   ]
  },
  {
   "cell_type": "code",
   "execution_count": 65,
   "metadata": {
    "scrolled": false
   },
   "outputs": [],
   "source": [
    "if phase_space == \"Fiducial\" :\n",
    "    if doSys:\n",
    "        fsrUnfold_muon_2016.setAcceptTotSysError()"
   ]
  },
  {
   "cell_type": "code",
   "execution_count": 66,
   "metadata": {},
   "outputs": [],
   "source": [
    "#if doSys: FIXME save as text file!\n",
    "#    fsrUnfold_muon_2016.printMeanValues()\n",
    "#    fsrUnfold_muon_2016.printMeanValues_Accept()"
   ]
  },
  {
   "cell_type": "code",
   "execution_count": 67,
   "metadata": {
    "scrolled": false
   },
   "outputs": [],
   "source": [
    "#for massBin in range(5):\n",
    "#    fsrUnfold_muon_2016.drawAcceptPlot(\"Pt\", \"pt[UO];mass[UOC\"+str(massBin)+\"]\", True, \"\", \"FSRUnfAcceptCorr_M\"+str(massBin)+\"_\", massBin, True, True)\n",
    "#fsrUnfold_muon_2016.drawAcceptPlot(\"Mass\", \"mass[UO];pt[UOC0]\", True, \"\", \"FSRUnfAcceptCorr_\", 0, False, True)\n",
    "#\n",
    "#if doSys: \n",
    "#    for sysName, _ in systematics.items():\n",
    "#        for massBin in range(5):\n",
    "#            fsrUnfold_muon_2016.drawAcceptPlot(\"Pt\", \"pt[UO];mass[UOC\"+str(massBin)+\"]\", True, sysName, \"FSRUnfAcceptCorr_M\"+str(massBin)+\"_\", massBin, True, True)\n",
    "#        fsrUnfold_muon_2016.drawAcceptPlot(\"Mass\", \"mass[UO];pt[UOC0]\", True, sysName, \"FSRUnfAcceptCorr_\", 0, False, True)\n",
    "        "
   ]
  },
  {
   "cell_type": "code",
   "execution_count": 68,
   "metadata": {
    "scrolled": false
   },
   "outputs": [],
   "source": [
    "#if doSys:\n",
    "#    for sysName, _ in fsr_systematics.items():\n",
    "#            #if sysName == \"Scale(#mu_{F}/#mu_{R})\":\n",
    "#            #    print (sysName)\n",
    "#            for massBin in range(5):\n",
    "#                fsrUnfold_muon_2016.drawAcceptPlot(\"Pt\", \"pt[UO];mass[UOC\"+str(massBin)+\"]\", True, sysName, \"FSRUnfAcceptCorr_M\"+str(massBin)+\"_\", massBin, True, True)\n",
    "#            fsrUnfold_muon_2016.drawAcceptPlot(\"Mass\", \"mass[UO];pt[UOC0]\", True, sysName, \"FSRUnfAcceptCorr_\", 0, False, True)"
   ]
  },
  {
   "cell_type": "code",
   "execution_count": 69,
   "metadata": {
    "scrolled": false
   },
   "outputs": [],
   "source": [
    "#if doSys: \n",
    "#    for massBin in range(5):\n",
    "#        fsrUnfold_muon_2016.drawAcceptPlot(\"Pt\", \"pt[UO];mass[UOC\"+str(massBin)+\"]\", True, \"totalSys\", \"FSRUnfAcceptCorr_M\"+str(massBin)+\"_\", massBin, True, True)\n",
    "#    fsrUnfold_muon_2016.drawAcceptPlot(\"Mass\", \"mass[UO];pt[UOC0]\", True, \"totalSys\", \"FSRUnfAcceptCorr_\", 0, False, True)"
   ]
  },
  {
   "cell_type": "code",
   "execution_count": 70,
   "metadata": {},
   "outputs": [],
   "source": [
    "#for massBin in range(5):\n",
    "#    fsrUnfold_muon_2016.drawAcceptVarPlot(\"Pt\", \"pt[UO];mass[UOC\"+str(massBin)+\"]\", True, \"Scale\", \"FSRUnfEffVar_M\"+str(massBin)+\"_\", massBin, True)"
   ]
  },
  {
   "cell_type": "code",
   "execution_count": 71,
   "metadata": {},
   "outputs": [],
   "source": [
    "#fsrUnfold_muon_2016.drawAcceptVarPlot(\"Mass\", \"mass[UO];pt[UOC0]\", True, \"Scale\", \"FSRUnfEffVar_\", 0, True)"
   ]
  },
  {
   "cell_type": "code",
   "execution_count": 72,
   "metadata": {},
   "outputs": [],
   "source": [
    "fsrUnfold_muon_2016.setTheoryMeanValues()"
   ]
  },
  {
   "cell_type": "code",
   "execution_count": 73,
   "metadata": {},
   "outputs": [],
   "source": [
    "gr_2016_muon_det =  detUnfold_muon_2016.getPtVsMassTGraph(\"2016MuonDet\", True, \"Detector\", False)"
   ]
  },
  {
   "cell_type": "code",
   "execution_count": 74,
   "metadata": {},
   "outputs": [],
   "source": [
    "gr_2016_muon_det_MC =  detUnfold_muon_2016.getPtVsMassTGraph(\"2016MuonDet\", False, \"Detector\", False)"
   ]
  },
  {
   "cell_type": "code",
   "execution_count": 75,
   "metadata": {},
   "outputs": [],
   "source": [
    "gr_2016_muon_det_unfold =  detUnfold_muon_2016.getPtVsMassTGraph(\"2016MuonDetUnf\", True, \"Unfolded\", doSys)"
   ]
  },
  {
   "cell_type": "code",
   "execution_count": 76,
   "metadata": {},
   "outputs": [],
   "source": [
    "gr_2016_muon_fsr =  fsrUnfold_muon_2016.getPtVsMassTGraph(\"2016MuonFSR\", True,\"Unfolded\",doSys)"
   ]
  },
  {
   "cell_type": "code",
   "execution_count": 77,
   "metadata": {},
   "outputs": [],
   "source": [
    "#if phase_space == \"Fiducial\" :\n",
    "gr_2016_muon_accept =  fsrUnfold_muon_2016.getPtVsMassTGraph(\"2016MuonFSRAccept\", True,\"Acceptance\", doSys)"
   ]
  },
  {
   "cell_type": "code",
   "execution_count": 78,
   "metadata": {},
   "outputs": [],
   "source": [
    "gr_theory_total_sys = fsrUnfold_muon_2016.getThoryPtVsMassTGraph(\"theory_totalSys\", \"total\")"
   ]
  },
  {
   "cell_type": "code",
   "execution_count": 79,
   "metadata": {
    "scrolled": false
   },
   "outputs": [
    {
     "data": {
      "image/png": "[encoded data removed]",
      "text/plain": [
       "<IPython.core.display.Image object>"
      ]
     },
     "metadata": {},
     "output_type": "display_data"
    }
   ],
   "source": [
    "import pyScripts.tdrStyle as tdrStyle\n",
    "import pyScripts.CMS_lumi as CMS_lumi\n",
    "import ROOT as rt\n",
    "markerSize = 2.5\n",
    "channel_str = \"#mu^{+}#mu^{-}\"\n",
    "if channel == 'electron' :\n",
    "    markerColor = rt.kMagenta\n",
    "    channel_str = \"e^{+}e^{-}\"\n",
    "else : markerColor = rt.kBlue\n",
    "\n",
    "tdrStyle.setTDRStyle()\n",
    "rt.gStyle.SetOptFit(0)\n",
    "\n",
    "c_PtVsMass_detector = rt.TCanvas(\"PtVsMass_detector\",\"PtVsMass_detector\", 3000, 1800)\n",
    "c_PtVsMass_detector.SetGridx()\n",
    "c_PtVsMass_detector.SetGridy()\n",
    "c_PtVsMass_detector.SetLogx()\n",
    "c_PtVsMass_detector.SetBottomMargin(0.2)\n",
    "c_PtVsMass_detector.SetTopMargin(0.07)\n",
    "\n",
    "gr_2016_muon_det.SetTitle(\"2016, 2017, 2018 Detector level\")\n",
    "gr_2016_muon_det.Draw(\"APC\")\n",
    "gr_2016_muon_det.GetYaxis().SetRangeUser(12., 30.)\n",
    "gr_2016_muon_det.GetXaxis().SetLimits(20., 700.)\n",
    "gr_2016_muon_det.SetMarkerStyle(20)\n",
    "gr_2016_muon_det.SetLineStyle(1)\n",
    "gr_2016_muon_det.SetMarkerSize(markerSize)\n",
    "gr_2016_muon_det.SetMarkerColor(rt.kBlack)\n",
    "gr_2016_muon_det.SetLineColor(rt.kBlack)\n",
    "gr_2016_muon_det.GetYaxis().SetTitleOffset(1.0)\n",
    "gr_2016_muon_det.GetXaxis().SetTitleOffset(1.0)\n",
    "gr_2016_muon_det.GetYaxis().SetTitle(\"<p^{\"+channel_str+\"}_{T}> [GeV]\")\n",
    "gr_2016_muon_det.GetXaxis().SetTitle(\"<Mass^{\"+channel_str+\"}> [GeV]\")\n",
    "\n",
    "#gr_2016_muon_det_MC.Draw(\"P SAME\")\n",
    "#gr_2016_muon_det_MC.SetMarkerStyle(24)\n",
    "#gr_2016_muon_det_MC.SetLineStyle(1)\n",
    "#gr_2016_muon_det_MC.SetMarkerSize(markerSize)\n",
    "#gr_2016_muon_det_MC.SetMarkerColor(rt.kRed)\n",
    "#gr_2016_muon_det_MC.SetLineColor(rt.kRed)\n",
    "\n",
    "gr_2016_muon_det_unfold.Draw(\"PC SAME\")\n",
    "gr_2016_muon_det_unfold.SetLineWidth(2)\n",
    "gr_2016_muon_det_unfold.SetMarkerColor(markerColor-9)\n",
    "gr_2016_muon_det_unfold.SetLineStyle(1)\n",
    "gr_2016_muon_det_unfold.SetMarkerSize(markerSize)\n",
    "gr_2016_muon_det_unfold.SetLineColor(markerColor-9)\n",
    "\n",
    "gr_2016_muon_fsr.Draw(\"PC SAME\")\n",
    "gr_2016_muon_fsr.SetLineWidth(2)\n",
    "gr_2016_muon_fsr.SetMarkerSize(markerSize)\n",
    "gr_2016_muon_fsr.SetMarkerColor(markerColor-4)\n",
    "gr_2016_muon_fsr.SetLineColor(markerColor-4)\n",
    "\n",
    "#if phase_space == \"Fiducial\" :\n",
    "gr_2016_muon_accept.Draw(\"P SAME\")\n",
    "gr_2016_muon_accept.SetLineWidth(2)\n",
    "gr_2016_muon_accept.SetMarkerSize(markerSize)\n",
    "gr_2016_muon_accept.SetMarkerColor(rt.kRed)\n",
    "gr_2016_muon_accept.SetLineColor(rt.kRed)\n",
    "\n",
    "#gr_theory_total_sys.Draw(\"PL SAME\")\n",
    "gr_theory_total_sys.SetLineWidth(2)\n",
    "gr_theory_total_sys.SetMarkerStyle(24)\n",
    "gr_theory_total_sys.SetMarkerSize(markerSize)\n",
    "gr_theory_total_sys.SetMarkerColor(rt.kRed)\n",
    "gr_theory_total_sys.SetLineColor(rt.kRed)\n",
    "    \n",
    "fitLinear1 = rt.TF1(\"f_1\", \"[0]+2.*[1]*log(x)\", 40., 300.);\n",
    "fitLinear1.SetLineStyle(1)\n",
    "fitLinear1.SetLineColor(rt.kBlack)\n",
    "fitLinear1.SetLineWidth(1)\n",
    "#gr_2016_muon_fsr.Fit(fitLinear1, \"R0\")\n",
    "#fitLinear1.Draw(\"same\")\n",
    "\n",
    "#if phase_space == \"Fiducial\" :\n",
    "fitLinear2 = rt.TF1(\"f_2\", \"[0]+2.*[1]*log(x)\", 40., 300.);\n",
    "fitLinear2.SetLineStyle(1)\n",
    "fitLinear2.SetLineColor(rt.kRed)\n",
    "fitLinear2.SetLineWidth(1)\n",
    "gr_2016_muon_accept.Fit(fitLinear2, \"R0\")\n",
    "fitLinear2.Draw(\"same\")\n",
    "#print(\"Chi2: \", fitLinear2.GetChisquare())\n",
    "\n",
    "legend = rt.TLegend(0.65, 0.25, 0.9, 0.5)\n",
    "legend.SetBorderSize(1);\n",
    "legend.AddEntry(gr_2016_muon_det, \"Detector data \" + year , \"ple\")\n",
    "#legend.AddEntry(gr_2016_muon_det_MC, \"DY MC (MG_aMG@NLO)\" , \"ple\")\n",
    "#legend.AddEntry(gr_2016_muon_det_unfold, \"Detector Unf. data \" + year, \"ple\")\n",
    "#legend.AddEntry(gr_2016_muon_fsr, \"QED-FSR Unf. data \" + year, \"ple\")\n",
    "#legend.AddEntry(gr_2016_muon_fsr, \"QED-FSR Unf. Accept. corrected data 2016\", \"ple\")\n",
    "legend.Draw()\n",
    "\n",
    "CMS_lumi.extraText = \"Work in progress\"\n",
    "\n",
    "iPeriod_ = 4;                                                                                                                                                                                                                                                                                                       \n",
    "if year == '2017':                                                                                                                                                                                                                                                                                          \n",
    "    iPeriod_ = 5                                                                                                                                                                                                                                                                                                         \n",
    "if year == '2018':                                                                                                                                                                                                                                                                                                         \n",
    "    iPeriod_ = 6;   \n",
    "\n",
    "CMS_lumi.CMS_lumi(c_PtVsMass_detector, iPeriod_, 11)\n",
    "c_PtVsMass_detector.Draw()\n",
    "c_PtVsMass_detector.SaveAs(\"pt_mass_allStep_\" + year + \"_\" + channel + \".png\")"
   ]
  },
  {
   "cell_type": "code",
   "execution_count": null,
   "metadata": {},
   "outputs": [],
   "source": [
    "import pyScripts.tdrStyle as tdrStyle\n",
    "import pyScripts.CMS_lumi as CMS_lumi\n",
    "import ROOT as rt\n",
    "markerSize = 2.5\n",
    "channel_str = \"#mu^{+}#mu^{-}\"\n",
    "if channel == 'electron' :\n",
    "    markerColor = rt.kMagenta\n",
    "    channel_str = \"e^{+}e^{-}\"\n",
    "else : markerColor = rt.kBlue\n",
    "\n",
    "tdrStyle.setTDRStyle()\n",
    "rt.gStyle.SetOptFit(0)\n",
    "\n",
    "c_PtVsMass_detector = rt.TCanvas(\"PtVsMass_detector\",\"PtVsMass_detector\", 3000, 1800)\n",
    "c_PtVsMass_detector.SetGridx()\n",
    "c_PtVsMass_detector.SetGridy()\n",
    "c_PtVsMass_detector.SetLogx()\n",
    "c_PtVsMass_detector.SetBottomMargin(0.2)\n",
    "c_PtVsMass_detector.SetTopMargin(0.07)\n",
    "\n",
    "gr_2016_muon_accept.SetTitle(\"2016, 2017, 2018 Detector level\")\n",
    "gr_2016_muon_accept.Draw(\"AP\")\n",
    "gr_2016_muon_accept.GetXaxis().SetMoreLogLabels(True);    \n",
    "gr_2016_muon_accept.GetYaxis().SetRangeUser(12., 30.)\n",
    "gr_2016_muon_accept.GetXaxis().SetLimits(20., 700.)\n",
    "gr_2016_muon_accept.SetMarkerStyle(20)\n",
    "gr_2016_muon_accept.SetLineStyle(1)\n",
    "gr_2016_muon_accept.SetMarkerSize(markerSize)\n",
    "gr_2016_muon_accept.SetMarkerColor(rt.kBlack)\n",
    "gr_2016_muon_accept.SetLineColor(rt.kBlack)\n",
    "gr_2016_muon_accept.GetYaxis().SetTitleOffset(1.0)\n",
    "gr_2016_muon_accept.GetXaxis().SetTitleOffset(1.0)\n",
    "gr_2016_muon_accept.GetYaxis().SetTitle(\"<p^{\"+channel_str+\"}_{T}> [GeV]\")\n",
    "gr_2016_muon_accept.GetXaxis().SetTitle(\"<Mass^{\"+channel_str+\"}> [GeV]\")\n",
    "\n",
    "gr_theory_total_sys.Draw(\"PL SAME\")\n",
    "gr_theory_total_sys.SetLineWidth(2)\n",
    "gr_theory_total_sys.SetLineStyle(2)\n",
    "gr_theory_total_sys.SetFillColor(rt.kRed)\n",
    "gr_theory_total_sys.SetMarkerStyle(24)\n",
    "gr_theory_total_sys.SetMarkerSize(markerSize)\n",
    "gr_theory_total_sys.SetMarkerColor(rt.kRed)\n",
    "gr_theory_total_sys.SetLineColor(rt.kRed)\n",
    "    \n",
    "fitLinear1 = rt.TF1(\"f_1\", \"[0]+2.*[1]*log(x)\", 45., 300.);\n",
    "fitLinear1.SetLineStyle(1)\n",
    "fitLinear1.SetLineColor(rt.kRed)\n",
    "fitLinear1.SetLineWidth(1)\n",
    "gr_theory_total_sys.Fit(fitLinear1, \"R0\")\n",
    "#fitLinear1.Draw(\"same\")\n",
    "\n",
    "#if phase_space == \"Fiducial\" :\n",
    "fitLinear2 = rt.TF1(\"f_2\", \"[0]+2.*[1]*log(x)\", 45., 300.);\n",
    "fitLinear2.SetLineStyle(1)\n",
    "fitLinear2.SetLineColor(rt.kBlack)\n",
    "fitLinear2.SetLineWidth(1)\n",
    "gr_2016_muon_accept.Fit(fitLinear2, \"R0\")\n",
    "fitLinear2.Draw(\"same\")\n",
    "#print(\"Chi2: \", fitLinear2.GetChisquare())\n",
    "\n",
    "legend = rt.TLegend(0.65, 0.25, 0.9, 0.5)\n",
    "legend.SetBorderSize(1);\n",
    "#legend.AddEntry(gr_2016_muon_det, \"Parton level data \" + year , \"ple\")\n",
    "legend.AddEntry(gr_theory_total_sys, \"DY MC (MG_aMG@NLO)\" , \"ple\")\n",
    "#legend.AddEntry(gr_2016_muon_det_unfold, \"Detector Unf. data \" + year, \"ple\")\n",
    "#legend.AddEntry(gr_2016_muon_fsr, \"QED-FSR Unf. data \" + year, \"ple\")\n",
    "#legend.AddEntry(gr_2016_muon_fsr, \"QED-FSR Unf. Accept. corrected data 2016\", \"ple\")\n",
    "legend.Draw()\n",
    "\n",
    "CMS_lumi.extraText = \"Work in progress\"\n",
    "\n",
    "iPeriod_ = 4;                                                                                                                                                                                                                                                                                                       \n",
    "if year == '2017':                                                                                                                                                                                                                                                                                          \n",
    "    iPeriod_ = 5                                                                                                                                                                                                                                                                                                         \n",
    "if year == '2018':                                                                                                                                                                                                                                                                                                         \n",
    "    iPeriod_ = 6;   \n",
    "\n",
    "CMS_lumi.CMS_lumi(c_PtVsMass_detector, iPeriod_, 11)\n",
    "c_PtVsMass_detector.Draw()\n",
    "c_PtVsMass_detector.SaveAs(\"pt_mass_\" + year + \"_\" + channel + \".png\")"
   ]
  },
  {
   "cell_type": "code",
   "execution_count": null,
   "metadata": {},
   "outputs": [],
   "source": [
    "fsrUnfold_muon_2016.drawSystematics(\"Pt\")\n",
    "fsrUnfold_muon_2016.drawSystematics(\"Mass\")"
   ]
  },
  {
   "cell_type": "code",
   "execution_count": null,
   "metadata": {},
   "outputs": [],
   "source": [
    "fsrUnfold_muon_2016.drawSystematics(\"Pt\", True, True)\n",
    "fsrUnfold_muon_2016.drawSystematics(\"Mass\", True)"
   ]
  },
  {
   "cell_type": "code",
   "execution_count": null,
   "metadata": {},
   "outputs": [],
   "source": [
    "fsrUnfold_muon_2016.drawSysVar(\"Reco\",\"Pt\")\n",
    "fsrUnfold_muon_2016.drawSysVar(\"Reco\",\"Mass\")"
   ]
  },
  {
   "cell_type": "code",
   "execution_count": null,
   "metadata": {},
   "outputs": [],
   "source": [
    "fsrUnfold_muon_2016.drawPDFVar()\n",
    "fsrUnfold_muon_2016.drawPDFVar(False)"
   ]
  },
  {
   "cell_type": "code",
   "execution_count": null,
   "metadata": {},
   "outputs": [],
   "source": [
    "fsrUnfold_muon_2016.drawStatVar()"
   ]
  },
  {
   "cell_type": "code",
   "execution_count": null,
   "metadata": {},
   "outputs": [],
   "source": [
    "fsrUnfold_muon_2016.drawSysVar(\"Unfold\",\"Pt\")\n",
    "fsrUnfold_muon_2016.drawSysVar(\"Unfold\",\"Mass\")\n",
    "\n",
    "fsrUnfold_muon_2016.drawSysVar(\"FSR\",\"Pt\")\n",
    "fsrUnfold_muon_2016.drawSysVar(\"FSR\",\"Mass\")"
   ]
  },
  {
   "cell_type": "code",
   "execution_count": null,
   "metadata": {},
   "outputs": [],
   "source": [
    "#Comparison plot before/after unfolding procedure!\n",
    "\n",
    "def drawComparisonPlot(hist, *hists, doNorm = False, outName = \"\", xaxisTitle = \"\", var = \"Pt\"):\n",
    "    markerSize = 5\n",
    "    marker = 20\n",
    "    tdrStyle.setTDRStyle()\n",
    "    rt.gStyle.SetOptFit(0)\n",
    "    rt.gStyle.SetLineWidth(3); \n",
    "    rt.gStyle.SetFrameLineWidth(3);\n",
    "    rt.gROOT.ForceStyle();\n",
    "\n",
    "    c_comparison = rt.TCanvas(\"c_comparison\",\"c_comparison\", 4200, 2800)\n",
    "    c_comparison.Draw()\n",
    "    c_comparison.cd()\n",
    "    \n",
    "    pad_top = rt.TPad(\"pad_top\", \"pad_top\", 0, 0.3, 1, 1)\n",
    "    pad_top.SetTopMargin(0.1);\n",
    "    pad_top.SetBottomMargin(0.05)\n",
    "    pad_top.Draw()\n",
    "    pad_top.cd()\n",
    "    pad_top.SetLogy()\n",
    "   \n",
    "    if doNorm:\n",
    "        hist.Scale(1./hist.Integral())\n",
    "    hist.Draw(\"hist\")\n",
    "    hist.GetYaxis().SetTitle(\"A.U.\")\n",
    "    hist.SetLineColor(rt.kBlack)\n",
    "    hist.SetLineWidth(2)\n",
    "    #hist.SetMarkerSize(markerSize)\n",
    "    #hist.SetMarkerStyle(marker)\n",
    "    hist.SetLabelSize(0)\n",
    "    hist.SetMinimum(1e-10)\n",
    "    hist.SetMaximum(1e2)\n",
    "\n",
    "    legend = rt.TLegend(0.65, 0.5, 0.9, 0.88)\n",
    "    legend.SetBorderSize(0)\n",
    "    legend.SetTextFont(43)\n",
    "    legend.SetTextSize(100)\n",
    "    legend.AddEntry(hist, \"Detector level data \" + year , \"ple\")\n",
    "    \n",
    "    line = rt.TLine();                                                                                                                                                                                                           \n",
    "    if var == \"Pt\":                                                                                                                                                                                                    \n",
    "        for i in range(4):                                                                                                                                                          \n",
    "                                                                                                                                                                                                                                 \n",
    "            line.SetLineStyle(1);                                                                                                                                                                                         \n",
    "            line.DrawLine(9*(i+1)+0.5, 1e-5, 9*(i+1)+0.5, 1e2)                                                                                                                   \n",
    "    \n",
    "    init_color = 4\n",
    "    hratios = []\n",
    "    \n",
    "    for counter, hist_ in enumerate(hists):\n",
    "        print(str(init_color))\n",
    "        if doNorm:\n",
    "            hist_.Scale(1./hist_.Integral())\n",
    "        hist_.SetLineColor(init_color)\n",
    "        hist_.Draw(\"histsame\")\n",
    "        #hist_.SetMarkerSize(markerSize)\n",
    "        if counter == 0:\n",
    "            legend.AddEntry(hist_, \"Dressed level data \" + year, \"ple\")\n",
    "        if counter == 1:\n",
    "            legend.AddEntry(hist_, \"Parton level data \" + year, \"ple\")\n",
    "        \n",
    "        hratios.append(hist_.Clone(\"hratio_\"+str(counter)))\n",
    "            \n",
    "        init_color = init_color - 2\n",
    "        \n",
    "    legend.Draw()\n",
    "        \n",
    "    CMS_lumi.extraText = \"Work in progress\"\n",
    "    CMS_lumi.CMS_lumi(pad_top, 4, 11)\n",
    "\n",
    "    c_comparison.cd()\n",
    "    \n",
    "    pad_bottom = rt.TPad(\"pad_bottom\", \"pad_bottom\", 0, 0.0, 1, 0.3)\n",
    "    pad_bottom.Draw()\n",
    "    pad_bottom.SetBottomMargin(0.35)\n",
    "    pad_bottom.cd()\n",
    "    \n",
    "    init_color = 4\n",
    "    for counter, hratio in enumerate(hratios):\n",
    "        #print(\"counter: \" + str(counter))\n",
    "        #print(str(init_color))\n",
    "        hratio.Divide(hist)\n",
    "        hratio.SetLineColor(init_color)\n",
    "        hratio.SetLineWidth(2)\n",
    "        #print (\"test error: \" + str(hratio.GetBinError(1)))\n",
    "        \n",
    "        if counter == 0 :\n",
    "            #print(\"draw\")\n",
    "            hratio.Draw(\"hist e\")\n",
    "            hratio.GetYaxis().SetTitle(\"/Detector\")\n",
    "            hratio.GetYaxis().SetNdivisions(505)\n",
    "            hratio.GetXaxis().SetTitle(xaxisTitle)\n",
    "            hratio.SetMinimum(0.4)\n",
    "            hratio.SetMaximum(1.6)\n",
    "            \n",
    "            if var == \"Pt\":                                                                                                                                                                                                    \n",
    "                for i in range(4):                                                                                                                                                          \n",
    "                                                                                                                                                                                                                                 \n",
    "                    line.SetLineStyle(1);                                                                                                                                                                                         \n",
    "                    line.DrawLine(9*(i+1)+0.5, 0.4, 9*(i+1)+0.5, 1.6)  \n",
    "            \n",
    "            oneLine = rt.TLine(hratio.GetXaxis().GetXmin(),1,hratio.GetXaxis().GetXmax(),1);                                                                                                     \n",
    "            oneLine.SetLineColor(rt.kBlack)                                                                                                                               \n",
    "            oneLine.Draw(\"same\")                                                                                                                                                           \n",
    "            oneLine.SetLineStyle(3) \n",
    "        else :\n",
    "            hratio.Draw(\"hist same\")\n",
    "            \n",
    "        #hratio.SetMarkerSize(markerSize)\n",
    "            \n",
    "        init_color = init_color - 2\n",
    "        \n",
    "    \n",
    "    c_comparison.cd()\n",
    "    \n",
    "    c_comparison.SaveAs(outName)\n",
    "    del c_comparison"
   ]
  },
  {
   "cell_type": "code",
   "execution_count": null,
   "metadata": {},
   "outputs": [],
   "source": [
    "hPt_det_2016_data    = detUnfold_muon_2016_CoarseCoarse.getUnfInHist(\"Pt\", \"pt[UO];mass[UO]\", False, \"\", \"\", 0, False)\n",
    "hPt_detUnf_2016_data = detUnfold_muon_2016.getUnfHist(\"Pt\", \"DetectorUnf\", \"pt[UO];mass[UO]\", False)\n",
    "hPt_fsrUnf_2016_data = fsrUnfold_muon_2016.getUnfHist(\"Pt\", \"FSRUnf\", \"pt[UO];mass[UO]\", False)"
   ]
  },
  {
   "cell_type": "code",
   "execution_count": null,
   "metadata": {},
   "outputs": [],
   "source": [
    "hMass_det_2016_data    = detUnfold_muon_2016.getUnfInHist(\"Mass\", \"mass[UO];pt[UOC0]\", True, \"\", \"\", 0, True)\n",
    "hMass_detUnf_2016_data = detUnfold_muon_2016.getUnfHist(\"Mass\", \"DetectorUnf\", \"mass[UO];pt[UOC0]\", True, True)\n",
    "hMass_fsrUnf_2016_data = fsrUnfold_muon_2016.getUnfHist(\"Mass\", \"FSRUnf\", \"mass[UO];pt[UOC0]\", True, True)"
   ]
  },
  {
   "cell_type": "code",
   "execution_count": null,
   "metadata": {},
   "outputs": [],
   "source": [
    "drawComparisonPlot(hMass_det_2016_data, hMass_detUnf_2016_data, hMass_fsrUnf_2016_data, doNorm = True, outName = \"MassComparison.png\", xaxisTitle = \"Mass^{\"+channel_str+\"} (GeV)\", var = \"Mass\")"
   ]
  },
  {
   "cell_type": "code",
   "execution_count": null,
   "metadata": {},
   "outputs": [],
   "source": [
    "drawComparisonPlot(hPt_det_2016_data, hPt_detUnf_2016_data, hPt_fsrUnf_2016_data, doNorm = True, outName = \"PtComparison.png\", xaxisTitle = \"p_{T}^{\"+channel_str+\"} bin index\", var = \"Pt\")"
   ]
  },
  {
   "cell_type": "code",
   "execution_count": null,
   "metadata": {},
   "outputs": [],
   "source": []
  },
  {
   "cell_type": "code",
   "execution_count": null,
   "metadata": {},
   "outputs": [],
   "source": []
  }
 ],
 "metadata": {
  "kernelspec": {
   "display_name": "Python 3",
   "language": "python",
   "name": "python3"
  },
  "language_info": {
   "codemirror_mode": {
    "name": "ipython",
    "version": 3
   },
   "file_extension": ".py",
   "mimetype": "text/x-python",
   "name": "python",
   "nbconvert_exporter": "python",
   "pygments_lexer": "ipython3",
   "version": "3.6.8"
  }
 },
 "nbformat": 4,
 "nbformat_minor": 4
}
