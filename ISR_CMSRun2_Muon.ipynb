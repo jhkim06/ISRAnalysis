{
 "cells": [
  {
   "cell_type": "code",
   "execution_count": 1,
   "metadata": {},
   "outputs": [
    {
     "name": "stdout",
     "output_type": "stream",
     "text": [
      "Welcome to JupyROOT 6.14/04\n"
     ]
    }
   ],
   "source": [
    "import os\n",
    "import sys\n",
    "from array import array\n",
    "import ROOT as rt\n",
    "\n",
    "import pyScripts.unfoldUtil as unfoldutil"
   ]
  },
  {
   "cell_type": "code",
   "execution_count": 2,
   "metadata": {},
   "outputs": [],
   "source": [
    "class ISRAnalysis:\n",
    "    \n",
    "    def __init__(self, year_ = \"2016\", channel_= \"electron\", matrix_filekey_ = \"matrix\",\n",
    "                 matrix_dirPath_ = \"Detector_Dressed_DRp1_Fiducial\", matrix_histName_ = \"Detector_Dressed_DRp1\"):\n",
    "        \n",
    "        # 디텍터 언폴딩 디렉토리 경로 & 매트릭스 이름 \n",
    "        self.matrix_filekey = matrix_filekey_\n",
    "        self.matrix_dirPath  = matrix_dirPath_\n",
    "        self.matrix_histName = matrix_histName_\n",
    "        \n",
    "        self.channel = channel_\n",
    "        self.year = year_\n",
    "        self.nMassBins = None\n",
    "       \n",
    "        # Set data and Drell-Yan input histogram names\n",
    "        dataHistPostfix = \"Double\"\n",
    "        if self.channel == \"electron\":\n",
    "            dataHistPostfix = dataHistPostfix + \"EG\"\n",
    "            if self.year == \"2018\":\n",
    "                dataHistPostfix = \"EGamma\"\n",
    "        if self.channel == \"muon\":\n",
    "            dataHistPostfix = dataHistPostfix + \"Muon\"\n",
    "        self.dataHistName = \"histo_\"+dataHistPostfix+\"nominal\"\n",
    "            \n",
    "        self.dy10to50HistName = \"DYJets10to50\"\n",
    "        MG_postfix = \"_MG\"\n",
    "        if self.year != \"2016\":\n",
    "            self.dy10to50HistName += MG_postfix\n",
    "        \n",
    "        # 아웃풋 디렉토리\n",
    "        self.outDirPath = \"output/\"+self.year+\"/new_\"+self.channel+\"/\"\n",
    "        # 인풋 히스토그램 텍스트파일\n",
    "        self.inHistPathTxt = \"inFiles/\"+self.year+\"/\"+self.channel+\"/fhist.txt\"\n",
    "    \n",
    "        # Make output directory\n",
    "        if not os.path.exists(self.outDirPath):\n",
    "            os.makedirs(self.outDirPath)\n",
    "    \n",
    "        # Read text file including root file paths for unfolding\n",
    "        self.filePaths = open(self.inHistPathTxt, 'r')\n",
    "        self.inHistDic = {}\n",
    "        \n",
    "        for path in self.filePaths:\n",
    "            modifiedPath = path.lstrip(' ').rstrip(' ').rstrip('\\n')\n",
    "            self.inHistDic[modifiedPath.split()[1]] = modifiedPath.split()[2]\n",
    "        \n",
    "        # 언폴딩 컨피규레이션\n",
    "        self.bias = 1.0\n",
    "        self.mode = 0 # 레귤라이제이션 모드\n",
    "        \n",
    "        # Create ISRUnfold object\n",
    "        self.unfold = rt.ISRUnfold(self.channel, int(self.year), int(self.mode), False)\n",
    "        self.unfold.setOutputBaseDir(self.outDirPath)\n",
    "        self.unfold.setBias(self.bias)\n",
    "        \n",
    "        # Set response matrix\n",
    "        self.unfold.setNomResMatrix(\"Pt\", self.inHistDic[self.matrix_filekey], self.matrix_dirPath, self.matrix_histName)\n",
    "        self.unfold.setNomResMatrix(\"Mass\", self.inHistDic[self.matrix_filekey], self.matrix_dirPath, self.matrix_histName)\n",
    "        \n",
    "    def setSystematic():\n",
    "        # Create systematic response matrix\n",
    "        pass\n",
    "    \n",
    "    def setInputHist(self, useMCInput = False, useUnfoldOut = False, unfoldObj = None):\n",
    "        \n",
    "        inputHistName = self.dataHistName\n",
    "        if useMCInput == True:\n",
    "            if self.channel == \"electron\":\n",
    "                inputHistName = \"histo_DYJetsToEEnominal\"\n",
    "            else :\n",
    "                inputHistName = \"histo_DYJetsToMuMunominal\"\n",
    "        \n",
    "        if useUnfoldOut == False:\n",
    "            self.unfold.setUnfInput(\"Pt\",   self.inHistDic['hist'], \"Detector\", inputHistName, False, \"nominal\", 0)\n",
    "            self.unfold.setUnfInput(\"Mass\", self.inHistDic['hist'], \"Detector\", inputHistName, False, \"nominal\", 0)\n",
    "        else:\n",
    "            self.unfold.setUnfInput(unfoldObj, \"Pt\", False, \"\", 0)\n",
    "            self.unfold.setUnfInput(unfoldObj, \"Mass\", False, \"\", 0)\n",
    "            \n",
    "    def subFake(self):\n",
    "        \n",
    "        fakeList = {\"DYJets\": \"DY\", self.dy10to50HistName:\"DY\"}\n",
    "        \n",
    "        for fake in fakeList.items():\n",
    "            self.unfold.subBkgs(self.inHistDic['matrix'], fake, False, \"\", 0, -1, \"detector_level_DY_Fake\")\n",
    "        \n",
    "    def setUnfoldBkgs(self, doSystematic = False , systName = \"nominal\", nthSys = 0, nTotSys = -1):\n",
    "   \n",
    "        bkgList = {}\n",
    "        # 2016 데이터만 single top 샘플을 갖고 있다 \n",
    "        if self.year == \"2016\" :\n",
    "            bkgList = {\"WJets_MG\": \"WJets\", \\\n",
    "                       \"WW_pythia\": \"EWK\", \"WZ_pythia\": \"EWK\", \"ZZ_pythia\": \"EWK\", \\\n",
    "                       \"DYJets10to50ToTauTau\":\"EWK\", \"DYJetsToTauTau\":\"EWK\", \\\n",
    "                       \"TTLL_powheg\": \"Top\", \"SingleTop_tW_top_Incl\": \"Top\", \"SingleTop_tW_antitop_Incl\": \"Top\"}\n",
    "        else :\n",
    "            bkgList = {\"WJets_MG\": \"WJets\", \\\n",
    "                       \"WW_pythia\": \"EWK\", \"WZ_pythia\": \"EWK\", \"ZZ_pythia\": \"EWK\", \\\n",
    "                       \"DYJets10to50ToTauTau\":\"EWK\", \"DYJetsToTauTau\":\"EWK\", \\\n",
    "                       \"TTLL_powheg\": \"Top\"}\n",
    "        \n",
    "        for bkg in bkgList.items():\n",
    "            self.unfold.subBkgs(self.inHistDic['hist'], bkg, doSystematic, systName, nTotSys, nthSys, \"Detector\")\n",
    "            \n",
    "    # Do unfold! \n",
    "    def doUnfold(self, doSystematic = False):\n",
    "        self.unfold.doISRUnfold(doSystematic)\n",
    "        \n",
    "        # Set mean mass and pt values\n",
    "        self.nMassBins = self.unfold.setMeanMass()\n",
    "        self.unfold.setMeanPt()\n",
    "    \n",
    "    def getISRUnfold(self):\n",
    "        \n",
    "        return self.unfold\n",
    "    \n",
    "    # Get histograms\n",
    "    def getPtVsMassTGraph(self, grTitle = \"\", isUnfolded = True):\n",
    "        meanMass, meanPt = array('d'), array('d')\n",
    "        meanMassStatErr, meanPtStatErr = array('d'), array('d')\n",
    "\n",
    "        for ibin in range(self.nMassBins):\n",
    "           \n",
    "            if isUnfolded:\n",
    "                meanMass.append(self.unfold.getUnfMeanMass(ibin))\n",
    "                meanPt.append(self.unfold.getUnfMeanPt(ibin))\n",
    "                meanMassStatErr.append(self.unfold.getUnfMeanMassError(ibin))\n",
    "                meanPtStatErr.append(self.unfold.getUnfMeanPtError(ibin))\n",
    "            else:\n",
    "                meanMass.append(self.unfold.getDetMeanMass(ibin))\n",
    "                meanPt.append(self.unfold.getDetMeanPt(ibin))\n",
    "                meanMassStatErr.append(self.unfold.getDetMeanMassError(ibin))\n",
    "                meanPtStatErr.append(self.unfold.getDetMeanPtError(ibin))\n",
    "            \n",
    "        gr = rt.TGraphErrors(self.nMassBins, meanMass, meanPt, meanMassStatErr, meanPtStatErr)\n",
    "        gr.SetName(grTitle)\n",
    "        return gr"
   ]
  },
  {
   "cell_type": "code",
   "execution_count": 3,
   "metadata": {},
   "outputs": [
    {
     "data": {
      "text/plain": [
       "0"
      ]
     },
     "execution_count": 3,
     "metadata": {},
     "output_type": "execute_result"
    }
   ],
   "source": [
    "import gc                                                                                                                                                                            \n",
    "gc.collect() "
   ]
  },
  {
   "cell_type": "code",
   "execution_count": 4,
   "metadata": {},
   "outputs": [
    {
     "name": "stdout",
     "output_type": "stream",
     "text": [
      "ISRUnfold set!\n",
      "ISRUnfold::setNomResMatrix set response matrix...\n",
      "0 th mass bin edge: 15\n",
      "1 th mass bin edge: 40\n",
      "2 th mass bin edge: 60\n",
      "3 th mass bin edge: 81\n",
      "4 th mass bin edge: 101\n",
      "5 th mass bin edge: 200\n",
      "6 th mass bin edge: 320\n",
      "ISRUnfold::setNomResMatrix set response matrix...\n",
      "ISRUnfold::setMassBindEdges massBinEdges already set.\n"
     ]
    },
    {
     "name": "stderr",
     "output_type": "stream",
     "text": [
      "Info in <TUnfoldV17::SetConstraint>: fConstraint=1\n",
      "Warning in <TUnfoldV17::TUnfold>: 6 output bins do not depend on the input data  0-4 81\n",
      "Info in <TUnfoldV17::TUnfold>: 80 input bins and 76 output bins\n",
      "Info in <TUnfoldDensityV17::TUnfold>: *NOT* unfolding bin #0\n",
      "Info in <TUnfoldDensityV17::TUnfold>: *NOT* unfolding bin #1 (Gen_Pt:mass[ufl]:pt[0,4])\n",
      "Info in <TUnfoldDensityV17::TUnfold>: *NOT* unfolding bin #2 (Gen_Pt:mass[ufl]:pt[4,8])\n",
      "Info in <TUnfoldDensityV17::TUnfold>: *NOT* unfolding bin #3 (Gen_Pt:mass[ufl]:pt[8,12])\n",
      "Info in <TUnfoldDensityV17::TUnfold>: *NOT* unfolding bin #4 (Gen_Pt:mass[ufl]:pt[12,18])\n",
      "Info in <TUnfoldDensityV17::TUnfold>: *NOT* unfolding bin #81\n",
      "Info in <TUnfoldV17::SetConstraint>: fConstraint=1\n",
      "Info in <TUnfoldV17::TUnfold>: underflow and overflow bin do not depend on the input data\n",
      "Info in <TUnfoldV17::TUnfold>: 86 input bins and 86 output bins\n",
      "Warning in <TUnfoldV17::TUnfold>: too few (ny=86) input bins for nx=86 output bins\n",
      "Info in <TUnfoldDensityV17::TUnfold>: *NOT* unfolding bin #0\n",
      "Info in <TUnfoldDensityV17::TUnfold>: *NOT* unfolding bin #87\n"
     ]
    }
   ],
   "source": [
    "detUnfold_muon_2016 = ISRAnalysis(\"2016\", \"muon\")"
   ]
  },
  {
   "cell_type": "code",
   "execution_count": 5,
   "metadata": {},
   "outputs": [
    {
     "name": "stdout",
     "output_type": "stream",
     "text": [
      "ISRUnfold set!\n",
      "ISRUnfold::setNomResMatrix set response matrix...\n",
      "0 th mass bin edge: 15\n",
      "1 th mass bin edge: 40\n",
      "2 th mass bin edge: 60\n",
      "3 th mass bin edge: 81\n",
      "4 th mass bin edge: 101\n",
      "5 th mass bin edge: 200\n",
      "6 th mass bin edge: 320\n",
      "ISRUnfold::setNomResMatrix set response matrix...\n",
      "ISRUnfold::setMassBindEdges massBinEdges already set.\n",
      "ISRUnfold set!\n",
      "ISRUnfold::setNomResMatrix set response matrix...\n",
      "0 th mass bin edge: 15\n",
      "1 th mass bin edge: 40\n",
      "2 th mass bin edge: 60\n",
      "3 th mass bin edge: 81\n",
      "4 th mass bin edge: 101\n",
      "5 th mass bin edge: 200\n",
      "6 th mass bin edge: 320\n",
      "ISRUnfold::setNomResMatrix set response matrix...\n",
      "ISRUnfold::setMassBindEdges massBinEdges already set.\n"
     ]
    },
    {
     "name": "stderr",
     "output_type": "stream",
     "text": [
      "Info in <TUnfoldV17::SetConstraint>: fConstraint=1\n",
      "Warning in <TUnfoldV17::TUnfold>: 6 output bins do not depend on the input data  0-4 81\n",
      "Info in <TUnfoldV17::TUnfold>: 80 input bins and 76 output bins\n",
      "Info in <TUnfoldDensityV17::TUnfold>: *NOT* unfolding bin #0\n",
      "Info in <TUnfoldDensityV17::TUnfold>: *NOT* unfolding bin #1 (Gen_Pt:mass[ufl]:pt[0,4])\n",
      "Info in <TUnfoldDensityV17::TUnfold>: *NOT* unfolding bin #2 (Gen_Pt:mass[ufl]:pt[4,8])\n",
      "Info in <TUnfoldDensityV17::TUnfold>: *NOT* unfolding bin #3 (Gen_Pt:mass[ufl]:pt[8,12])\n",
      "Info in <TUnfoldDensityV17::TUnfold>: *NOT* unfolding bin #4 (Gen_Pt:mass[ufl]:pt[12,18])\n",
      "Info in <TUnfoldDensityV17::TUnfold>: *NOT* unfolding bin #81\n",
      "Info in <TUnfoldV17::SetConstraint>: fConstraint=1\n",
      "Info in <TUnfoldV17::TUnfold>: underflow and overflow bin do not depend on the input data\n",
      "Info in <TUnfoldV17::TUnfold>: 86 input bins and 86 output bins\n",
      "Warning in <TUnfoldV17::TUnfold>: too few (ny=86) input bins for nx=86 output bins\n",
      "Info in <TUnfoldDensityV17::TUnfold>: *NOT* unfolding bin #0\n",
      "Info in <TUnfoldDensityV17::TUnfold>: *NOT* unfolding bin #87\n",
      "Info in <TUnfoldV17::SetConstraint>: fConstraint=1\n",
      "Warning in <TUnfoldV17::TUnfold>: 6 output bins do not depend on the input data  0-4 81\n",
      "Info in <TUnfoldV17::TUnfold>: 80 input bins and 76 output bins\n",
      "Info in <TUnfoldDensityV17::TUnfold>: *NOT* unfolding bin #0\n",
      "Info in <TUnfoldDensityV17::TUnfold>: *NOT* unfolding bin #1 (Gen_Pt:mass[ufl]:pt[0,4])\n",
      "Info in <TUnfoldDensityV17::TUnfold>: *NOT* unfolding bin #2 (Gen_Pt:mass[ufl]:pt[4,8])\n",
      "Info in <TUnfoldDensityV17::TUnfold>: *NOT* unfolding bin #3 (Gen_Pt:mass[ufl]:pt[8,12])\n",
      "Info in <TUnfoldDensityV17::TUnfold>: *NOT* unfolding bin #4 (Gen_Pt:mass[ufl]:pt[12,18])\n",
      "Info in <TUnfoldDensityV17::TUnfold>: *NOT* unfolding bin #81\n",
      "Info in <TUnfoldV17::SetConstraint>: fConstraint=1\n",
      "Info in <TUnfoldV17::TUnfold>: underflow and overflow bin do not depend on the input data\n",
      "Info in <TUnfoldV17::TUnfold>: 86 input bins and 86 output bins\n",
      "Warning in <TUnfoldV17::TUnfold>: too few (ny=86) input bins for nx=86 output bins\n",
      "Info in <TUnfoldDensityV17::TUnfold>: *NOT* unfolding bin #0\n",
      "Info in <TUnfoldDensityV17::TUnfold>: *NOT* unfolding bin #87\n"
     ]
    }
   ],
   "source": [
    "detUnfold_muon_2017 = ISRAnalysis(\"2017\", \"muon\")\n",
    "detUnfold_muon_2018 = ISRAnalysis(\"2018\", \"muon\")"
   ]
  },
  {
   "cell_type": "code",
   "execution_count": 6,
   "metadata": {},
   "outputs": [
    {
     "name": "stdout",
     "output_type": "stream",
     "text": [
      "ISRUnfold set!\n",
      "ISRUnfold::setNomResMatrix set response matrix...\n",
      "0 th mass bin edge: 15\n",
      "1 th mass bin edge: 40\n",
      "2 th mass bin edge: 60\n",
      "3 th mass bin edge: 81\n",
      "4 th mass bin edge: 101\n",
      "5 th mass bin edge: 200\n",
      "6 th mass bin edge: 320\n",
      "ISRUnfold::setNomResMatrix set response matrix...\n",
      "ISRUnfold::setMassBindEdges massBinEdges already set.\n",
      "ISRUnfold set!\n",
      "ISRUnfold::setNomResMatrix set response matrix...\n",
      "0 th mass bin edge: 15\n",
      "1 th mass bin edge: 40\n",
      "2 th mass bin edge: 60\n",
      "3 th mass bin edge: 81\n",
      "4 th mass bin edge: 101\n",
      "5 th mass bin edge: 200\n",
      "6 th mass bin edge: 320\n",
      "ISRUnfold::setNomResMatrix set response matrix...\n",
      "ISRUnfold::setMassBindEdges massBinEdges already set.\n",
      "ISRUnfold set!\n",
      "ISRUnfold::setNomResMatrix set response matrix...\n",
      "0 th mass bin edge: 15\n",
      "1 th mass bin edge: 40\n",
      "2 th mass bin edge: 60\n",
      "3 th mass bin edge: 81\n",
      "4 th mass bin edge: 101\n",
      "5 th mass bin edge: 200\n",
      "6 th mass bin edge: 320\n",
      "ISRUnfold::setNomResMatrix set response matrix...\n",
      "ISRUnfold::setMassBindEdges massBinEdges already set.\n"
     ]
    },
    {
     "name": "stderr",
     "output_type": "stream",
     "text": [
      "Info in <TUnfoldV17::SetConstraint>: fConstraint=1\n",
      "Warning in <TUnfoldV17::TUnfold>: 6 output bins do not depend on the input data  0-4 81\n",
      "Info in <TUnfoldV17::TUnfold>: 80 input bins and 76 output bins\n",
      "Info in <TUnfoldDensityV17::TUnfold>: *NOT* unfolding bin #0\n",
      "Info in <TUnfoldDensityV17::TUnfold>: *NOT* unfolding bin #1 (Gen_Pt:mass[ufl]:pt[0,4])\n",
      "Info in <TUnfoldDensityV17::TUnfold>: *NOT* unfolding bin #2 (Gen_Pt:mass[ufl]:pt[4,8])\n",
      "Info in <TUnfoldDensityV17::TUnfold>: *NOT* unfolding bin #3 (Gen_Pt:mass[ufl]:pt[8,12])\n",
      "Info in <TUnfoldDensityV17::TUnfold>: *NOT* unfolding bin #4 (Gen_Pt:mass[ufl]:pt[12,18])\n",
      "Info in <TUnfoldDensityV17::TUnfold>: *NOT* unfolding bin #81\n",
      "Info in <TUnfoldV17::SetConstraint>: fConstraint=1\n",
      "Info in <TUnfoldV17::TUnfold>: underflow and overflow bin do not depend on the input data\n",
      "Info in <TUnfoldV17::TUnfold>: 86 input bins and 86 output bins\n",
      "Warning in <TUnfoldV17::TUnfold>: too few (ny=86) input bins for nx=86 output bins\n",
      "Info in <TUnfoldDensityV17::TUnfold>: *NOT* unfolding bin #0\n",
      "Info in <TUnfoldDensityV17::TUnfold>: *NOT* unfolding bin #87\n",
      "Info in <TUnfoldV17::SetConstraint>: fConstraint=1\n",
      "Warning in <TUnfoldV17::TUnfold>: 6 output bins do not depend on the input data  0-4 81\n",
      "Info in <TUnfoldV17::TUnfold>: 80 input bins and 76 output bins\n",
      "Info in <TUnfoldDensityV17::TUnfold>: *NOT* unfolding bin #0\n",
      "Info in <TUnfoldDensityV17::TUnfold>: *NOT* unfolding bin #1 (Gen_Pt:mass[ufl]:pt[0,4])\n",
      "Info in <TUnfoldDensityV17::TUnfold>: *NOT* unfolding bin #2 (Gen_Pt:mass[ufl]:pt[4,8])\n",
      "Info in <TUnfoldDensityV17::TUnfold>: *NOT* unfolding bin #3 (Gen_Pt:mass[ufl]:pt[8,12])\n",
      "Info in <TUnfoldDensityV17::TUnfold>: *NOT* unfolding bin #4 (Gen_Pt:mass[ufl]:pt[12,18])\n",
      "Info in <TUnfoldDensityV17::TUnfold>: *NOT* unfolding bin #81\n",
      "Info in <TUnfoldV17::SetConstraint>: fConstraint=1\n",
      "Info in <TUnfoldV17::TUnfold>: underflow and overflow bin do not depend on the input data\n",
      "Info in <TUnfoldV17::TUnfold>: 86 input bins and 86 output bins\n",
      "Warning in <TUnfoldV17::TUnfold>: too few (ny=86) input bins for nx=86 output bins\n",
      "Info in <TUnfoldDensityV17::TUnfold>: *NOT* unfolding bin #0\n",
      "Info in <TUnfoldDensityV17::TUnfold>: *NOT* unfolding bin #87\n",
      "Info in <TUnfoldV17::SetConstraint>: fConstraint=1\n",
      "Warning in <TUnfoldV17::TUnfold>: 6 output bins do not depend on the input data  0-4 81\n",
      "Info in <TUnfoldV17::TUnfold>: 80 input bins and 76 output bins\n",
      "Info in <TUnfoldDensityV17::TUnfold>: *NOT* unfolding bin #0\n",
      "Info in <TUnfoldDensityV17::TUnfold>: *NOT* unfolding bin #1 (Gen_Pt:mass[ufl]:pt[0,4])\n",
      "Info in <TUnfoldDensityV17::TUnfold>: *NOT* unfolding bin #2 (Gen_Pt:mass[ufl]:pt[4,8])\n",
      "Info in <TUnfoldDensityV17::TUnfold>: *NOT* unfolding bin #3 (Gen_Pt:mass[ufl]:pt[8,12])\n",
      "Info in <TUnfoldDensityV17::TUnfold>: *NOT* unfolding bin #4 (Gen_Pt:mass[ufl]:pt[12,18])\n",
      "Info in <TUnfoldDensityV17::TUnfold>: *NOT* unfolding bin #81\n",
      "Info in <TUnfoldV17::SetConstraint>: fConstraint=1\n",
      "Info in <TUnfoldV17::TUnfold>: underflow and overflow bin do not depend on the input data\n",
      "Info in <TUnfoldV17::TUnfold>: 86 input bins and 86 output bins\n",
      "Warning in <TUnfoldV17::TUnfold>: too few (ny=86) input bins for nx=86 output bins\n",
      "Info in <TUnfoldDensityV17::TUnfold>: *NOT* unfolding bin #0\n",
      "Info in <TUnfoldDensityV17::TUnfold>: *NOT* unfolding bin #87\n"
     ]
    }
   ],
   "source": [
    "fsrUnfold_muon_2016 = ISRAnalysis(\"2016\", \"muon\", \"fsr_matrix\", \n",
    "                                      \"Dressed_DRp1_Dressed_DR4PI_FullPhase\", \"Dressed_DRp1_Dressed_DR4PI\")\n",
    "\n",
    "fsrUnfold_muon_2017 = ISRAnalysis(\"2017\", \"muon\", \"fsr_matrix\", \n",
    "                                      \"Dressed_DRp1_Dressed_DR4PI_FullPhase\", \"Dressed_DRp1_Dressed_DR4PI\")\n",
    "\n",
    "fsrUnfold_muon_2018 = ISRAnalysis(\"2018\", \"muon\", \"fsr_matrix\", \n",
    "                                      \"Dressed_DRp1_Dressed_DR4PI_FullPhase\", \"Dressed_DRp1_Dressed_DR4PI\")"
   ]
  },
  {
   "cell_type": "code",
   "execution_count": 7,
   "metadata": {},
   "outputs": [
    {
     "name": "stderr",
     "output_type": "stream",
     "text": [
      "Warning in <TUnfoldDensityV17::SetInput>: 4/80 input bins have zero error, and are ignored.\n",
      "Warning in <TUnfoldDensityV17::SetInput>: 4/80 input bins have zero error, and are ignored.\n",
      "Warning in <TUnfoldDensityV17::SetInput>: 4/80 input bins have zero error, and are ignored.\n"
     ]
    }
   ],
   "source": [
    "detUnfold_muon_2016.setInputHist()\n",
    "detUnfold_muon_2016.setUnfoldBkgs()\n",
    "\n",
    "detUnfold_muon_2017.setInputHist()\n",
    "detUnfold_muon_2017.setUnfoldBkgs()\n",
    "\n",
    "detUnfold_muon_2018.setInputHist()\n",
    "detUnfold_muon_2018.setUnfoldBkgs()"
   ]
  },
  {
   "cell_type": "code",
   "execution_count": 8,
   "metadata": {},
   "outputs": [],
   "source": [
    "detUnfold_muon_2016.subFake()\n",
    "detUnfold_muon_2017.subFake()\n",
    "detUnfold_muon_2018.subFake()"
   ]
  },
  {
   "cell_type": "code",
   "execution_count": 9,
   "metadata": {},
   "outputs": [
    {
     "name": "stdout",
     "output_type": "stream",
     "text": [
      "ISRUnfold::setMeanMass()   Save mean of dilepton...\n",
      "ISRUnfold::setMeanPt()   Save mean of dilepton momentum...\n",
      "ISRUnfold::setMeanMass()   Save mean of dilepton...\n",
      "ISRUnfold::setMeanPt()   Save mean of dilepton momentum...\n",
      "ISRUnfold::setMeanMass()   Save mean of dilepton...\n",
      "ISRUnfold::setMeanPt()   Save mean of dilepton momentum...\n"
     ]
    },
    {
     "name": "stderr",
     "output_type": "stream",
     "text": [
      "Warning in <TUnfoldDensityV17::GetInputInverseEmatrix>: number of parameters 76 = input rank 76. Problem is ill posed\n",
      "Warning in <TUnfoldDensityV17::GetInputInverseEmatrix>: number of parameters 86 = input rank 86. Problem is ill posed\n",
      "Warning in <TUnfoldDensityV17::GetInputInverseEmatrix>: number of parameters 76 = input rank 76. Problem is ill posed\n",
      "Warning in <TUnfoldDensityV17::GetInputInverseEmatrix>: number of parameters 86 = input rank 86. Problem is ill posed\n",
      "Warning in <TUnfoldDensityV17::GetInputInverseEmatrix>: number of parameters 76 = input rank 76. Problem is ill posed\n",
      "Warning in <TUnfoldDensityV17::GetInputInverseEmatrix>: number of parameters 86 = input rank 86. Problem is ill posed\n"
     ]
    }
   ],
   "source": [
    "detUnfold_muon_2016.doUnfold()\n",
    "detUnfold_muon_2017.doUnfold()\n",
    "detUnfold_muon_2018.doUnfold()"
   ]
  },
  {
   "cell_type": "code",
   "execution_count": 10,
   "metadata": {},
   "outputs": [],
   "source": [
    "gr_2016_muon_det_unfold =  detUnfold_muon_2016.getPtVsMassTGraph(\"2016MuonDetUnf\")\n",
    "gr_2017_muon_det_unfold =  detUnfold_muon_2017.getPtVsMassTGraph(\"2017MuonDefUnf\")\n",
    "gr_2018_muon_det_unfold =  detUnfold_muon_2018.getPtVsMassTGraph(\"2018MuonDefUnf\")\n",
    "\n",
    "gr_2016_muon_det =  detUnfold_muon_2016.getPtVsMassTGraph(\"2016MuonDet\", False)\n",
    "gr_2017_muon_det =  detUnfold_muon_2017.getPtVsMassTGraph(\"2017MuonDet\", False)\n",
    "gr_2018_muon_det =  detUnfold_muon_2018.getPtVsMassTGraph(\"2018MuonDet\", False)"
   ]
  },
  {
   "cell_type": "code",
   "execution_count": 11,
   "metadata": {},
   "outputs": [
    {
     "name": "stdout",
     "output_type": "stream",
     "text": [
      "ISRUnfold::setMeanMass()   Save mean of dilepton...\n",
      "ISRUnfold::setMeanPt()   Save mean of dilepton momentum...\n",
      "ISRUnfold::setMeanMass()   Save mean of dilepton...\n",
      "ISRUnfold::setMeanPt()   Save mean of dilepton momentum...\n",
      "ISRUnfold::setMeanMass()   Save mean of dilepton...\n",
      "ISRUnfold::setMeanPt()   Save mean of dilepton momentum...\n"
     ]
    },
    {
     "name": "stderr",
     "output_type": "stream",
     "text": [
      "Warning in <TUnfoldDensityV17::SetInput>: 4/80 input bins have zero error, and are ignored.\n",
      "Warning in <TUnfoldDensityV17::GetInputInverseEmatrix>: number of parameters 76 = input rank 76. Problem is ill posed\n",
      "Warning in <TUnfoldDensityV17::GetInputInverseEmatrix>: number of parameters 86 = input rank 86. Problem is ill posed\n",
      "Warning in <TUnfoldDensityV17::SetInput>: 4/80 input bins have zero error, and are ignored.\n",
      "Warning in <TUnfoldDensityV17::GetInputInverseEmatrix>: number of parameters 76 = input rank 76. Problem is ill posed\n",
      "Warning in <TUnfoldDensityV17::GetInputInverseEmatrix>: number of parameters 86 = input rank 86. Problem is ill posed\n",
      "Warning in <TUnfoldDensityV17::SetInput>: 4/80 input bins have zero error, and are ignored.\n",
      "Warning in <TUnfoldDensityV17::GetInputInverseEmatrix>: number of parameters 76 = input rank 76. Problem is ill posed\n",
      "Warning in <TUnfoldDensityV17::GetInputInverseEmatrix>: number of parameters 86 = input rank 86. Problem is ill posed\n"
     ]
    }
   ],
   "source": [
    "fsrUnfold_muon_2016.setInputHist(False, True, detUnfold_muon_2016.getISRUnfold())\n",
    "fsrUnfold_muon_2016.doUnfold()\n",
    "\n",
    "fsrUnfold_muon_2017.setInputHist(False, True, detUnfold_muon_2017.getISRUnfold())\n",
    "fsrUnfold_muon_2017.doUnfold()\n",
    "\n",
    "fsrUnfold_muon_2018.setInputHist(False, True, detUnfold_muon_2018.getISRUnfold())\n",
    "fsrUnfold_muon_2018.doUnfold()"
   ]
  },
  {
   "cell_type": "code",
   "execution_count": 12,
   "metadata": {},
   "outputs": [],
   "source": [
    "gr_2016_muon_fsr_unfold = fsrUnfold_muon_2016.getPtVsMassTGraph(\"2016MuonFSRUnf\")\n",
    "gr_2017_muon_fsr_unfold = fsrUnfold_muon_2017.getPtVsMassTGraph(\"2017MuonFSRUnf\")\n",
    "gr_2018_muon_fsr_unfold = fsrUnfold_muon_2018.getPtVsMassTGraph(\"2018MuonFSRUnf\")"
   ]
  },
  {
   "cell_type": "code",
   "execution_count": 13,
   "metadata": {},
   "outputs": [],
   "source": [
    "c_PtVsMass = rt.TCanvas(\"PtVsMass\",\"PtVsMass\", 1000, 600)\n",
    "#pad = rt.TPad(\"pad\", \"pad\", 0., 0., 1., 1.)\n",
    "\n",
    "#pad.Draw()\n",
    "#pad.SetGridx()\n",
    "#pad.SetGridy()\n",
    "#pad.SetLogx()\n",
    "\n",
    "#c_PtVsMass.SetGridx()\n",
    "#c_PtVsMass.SetGridy()\n",
    "c_PtVsMass.SetLogx()\n",
    "\n",
    "c_PtVsMass.SetBottomMargin(0.2)"
   ]
  },
  {
   "cell_type": "code",
   "execution_count": 18,
   "metadata": {},
   "outputs": [],
   "source": [
    "import pyScripts.tdrStyle as tdrStyle\n",
    "import pyScripts.CMS_lumi as CMS_lumi\n",
    "tdrStyle.setTDRStyle()\n",
    "rt.gStyle.SetOptFit(0)"
   ]
  },
  {
   "cell_type": "code",
   "execution_count": 19,
   "metadata": {},
   "outputs": [
    {
     "name": "stdout",
     "output_type": "stream",
     "text": [
      "\n",
      " FCN=244.615 FROM MIGRAD    STATUS=CONVERGED      57 CALLS          58 TOTAL\n",
      "                     EDM=5.70807e-13    STRATEGY= 1      ERROR MATRIX ACCURATE \n",
      "  EXT PARAMETER                                   STEP         FIRST   \n",
      "  NO.   NAME      VALUE            ERROR          SIZE      DERIVATIVE \n",
      "   1  p0          -1.70454e+01   1.42704e-01   3.56719e-05   2.24525e-05\n",
      "   2  p1           7.82037e+00   3.17834e-02   7.94494e-06   1.34211e-04\n"
     ]
    },
    {
     "data": {
      "text/html": [
       "\n",
       "<div id=\"root_plot_1\"\n",
       "     style=\"width: 996px; height: 572px\">\n",
       "</div>\n",
       "\n",
       "<script>\n",
       " requirejs.config({\n",
       "     paths: {\n",
       "       'JSRootCore' : 'https://root.cern.ch/js/notebook//scripts/JSRootCore',\n",
       "     }\n",
       "   });\n",
       " require(['JSRootCore'],\n",
       "     function(Core) {\n",
       "       var obj = Core.JSONR_unref({\"_typename\":\"TCanvas\",\"fUniqueID\":0,\"fBits\":53673992,\"fLineColor\":1,\"fLineStyle\":1,\"fLineWidth\":1,\"fFillColor\":0,\"fFillStyle\":1001,\"fLeftMargin\":0.1,\"fRightMargin\":0.1,\"fBottomMargin\":0.2,\"fTopMargin\":0.1,\"fXfile\":2,\"fYfile\":2,\"fAfile\":1,\"fXstat\":0.99,\"fYstat\":0.99,\"fAstat\":2,\"fFrameFillColor\":0,\"fFrameLineColor\":1,\"fFrameFillStyle\":1001,\"fFrameLineStyle\":1,\"fFrameLineWidth\":1,\"fFrameBorderSize\":1,\"fFrameBorderMode\":0,\"fX1\":1.41906803503705,\"fY1\":4.28571410325108,\"fX2\":2.6690680536635,\"fY2\":32.8571429483745,\"fXtoAbsPixelk\":-1130.71334346858,\"fXtoPixelk\":-1130.71334346858,\"fXtoPixel\":796.799988126754,\"fYtoAbsPixelk\":657.800045525181,\"fYtoPixelk\":657.800045525181,\"fYtoPixel\":-20.0199998082221,\"fUtoAbsPixelk\":5e-5,\"fUtoPixelk\":5e-5,\"fUtoPixel\":996,\"fVtoAbsPixelk\":572.00005,\"fVtoPixelk\":572,\"fVtoPixel\":-572,\"fAbsPixeltoXk\":1.41906803503705,\"fPixeltoXk\":1.41906803503705,\"fPixeltoX\":0.00125502009902254,\"fAbsPixeltoYk\":32.8571429483745,\"fPixeltoYk\":4.28571410325108,\"fPixeltoY\":-0.0499500504285374,\"fXlowNDC\":0,\"fYlowNDC\":0,\"fXUpNDC\":0,\"fYUpNDC\":0,\"fWNDC\":1,\"fHNDC\":1,\"fAbsXlowNDC\":0,\"fAbsYlowNDC\":0,\"fAbsWNDC\":1,\"fAbsHNDC\":1,\"fUxmin\":1.54406804435028,\"fUymin\":10,\"fUxmax\":2.54406804435028,\"fUymax\":30,\"fTheta\":30,\"fPhi\":30,\"fAspectRatio\":0,\"fNumber\":0,\"fTickx\":0,\"fTicky\":0,\"fLogx\":1,\"fLogy\":0,\"fLogz\":0,\"fPadPaint\":0,\"fCrosshair\":0,\"fCrosshairPos\":0,\"fBorderSize\":2,\"fBorderMode\":0,\"fModified\":false,\"fGridx\":false,\"fGridy\":false,\"fAbsCoord\":false,\"fEditable\":true,\"fFixedAspectRatio\":false,\"fPrimitives\":{\"_typename\":\"TList\",\"name\":\"TList\",\"arr\":[{\"_typename\":\"TFrame\",\"fUniqueID\":0,\"fBits\":50331656,\"fLineColor\":1,\"fLineStyle\":1,\"fLineWidth\":1,\"fFillColor\":0,\"fFillStyle\":1001,\"fX1\":1.54406804435028,\"fY1\":10,\"fX2\":2.54406804435028,\"fY2\":30,\"fBorderSize\":1,\"fBorderMode\":0},{\"_typename\":\"TGraphErrors\",\"fUniqueID\":0,\"fBits\":50332680,\"fName\":\"2016MuonDetUnf\",\"fTitle\":\"2016, 2017, 2018 muon\",\"fLineColor\":1,\"fLineStyle\":1,\"fLineWidth\":1,\"fFillColor\":0,\"fFillStyle\":1000,\"fMarkerColor\":1,\"fMarkerStyle\":20,\"fMarkerSize\":1,\"fNpoints\":6,\"fX\":[29.6841662449382,49.1716697416466,72.3292443498952,90.9992922635084,117.892649434045,241.234243507181],\"fY\":[30.6129550913583,17.5221129047147,19.8432697094038,20.2174292578537,21.8752154458501,26.0132441840184],\"fFunctions\":{\"_typename\":\"TList\",\"name\":\"TList\",\"arr\":[],\"opt\":[]},\"fHistogram\":{\"_typename\":\"TH1F\",\"fUniqueID\":0,\"fBits\":50332160,\"fName\":\"2016MuonDetUnf\",\"fTitle\":\"2016, 2017, 2018 muon\",\"fLineColor\":1,\"fLineStyle\":0,\"fLineWidth\":1,\"fFillColor\":0,\"fFillStyle\":1001,\"fMarkerColor\":1,\"fMarkerStyle\":20,\"fMarkerSize\":1,\"fNcells\":102,\"fXaxis\":{\"_typename\":\"TAxis\",\"fUniqueID\":0,\"fBits\":58720264,\"fName\":\"xaxis\",\"fTitle\":\"Dilepton Mass [GeV]\",\"fNdivisions\":510,\"fAxisColor\":1,\"fLabelColor\":1,\"fLabelFont\":133,\"fLabelOffset\":0.007,\"fLabelSize\":23,\"fTickLength\":0.03,\"fTitleOffset\":1.2,\"fTitleSize\":23,\"fTitleColor\":1,\"fTitleFont\":133,\"fNbins\":100,\"fXmin\":35,\"fXmax\":350,\"fXbins\":[],\"fFirst\":0,\"fLast\":0,\"fBits2\":0,\"fTimeDisplay\":false,\"fTimeFormat\":\"\",\"fLabels\":null,\"fModLabs\":null},\"fYaxis\":{\"_typename\":\"TAxis\",\"fUniqueID\":0,\"fBits\":50331656,\"fName\":\"yaxis\",\"fTitle\":\"Dilepton p_{T} [GeV]\",\"fNdivisions\":510,\"fAxisColor\":1,\"fLabelColor\":1,\"fLabelFont\":133,\"fLabelOffset\":0.007,\"fLabelSize\":23,\"fTickLength\":0.03,\"fTitleOffset\":2,\"fTitleSize\":23,\"fTitleColor\":1,\"fTitleFont\":133,\"fNbins\":1,\"fXmin\":16.182333738912,\"fXmax\":31.9633217151159,\"fXbins\":[],\"fFirst\":0,\"fLast\":0,\"fBits2\":0,\"fTimeDisplay\":false,\"fTimeFormat\":\"\",\"fLabels\":null,\"fModLabs\":null},\"fZaxis\":{\"_typename\":\"TAxis\",\"fUniqueID\":0,\"fBits\":50331648,\"fName\":\"zaxis\",\"fTitle\":\"\",\"fNdivisions\":510,\"fAxisColor\":1,\"fLabelColor\":1,\"fLabelFont\":133,\"fLabelOffset\":0.007,\"fLabelSize\":23,\"fTickLength\":0.03,\"fTitleOffset\":1,\"fTitleSize\":23,\"fTitleColor\":1,\"fTitleFont\":133,\"fNbins\":1,\"fXmin\":0,\"fXmax\":1,\"fXbins\":[],\"fFirst\":0,\"fLast\":0,\"fBits2\":0,\"fTimeDisplay\":false,\"fTimeFormat\":\"\",\"fLabels\":null,\"fModLabs\":null},\"fBarOffset\":0,\"fBarWidth\":1000,\"fEntries\":0,\"fTsumw\":0,\"fTsumw2\":0,\"fTsumwx\":0,\"fTsumwx2\":0,\"fMaximum\":30,\"fMinimum\":10,\"fNormFactor\":0,\"fContour\":[],\"fSumw2\":[],\"fOption\":\"\",\"fFunctions\":{\"_typename\":\"TList\",\"name\":\"TList\",\"arr\":[],\"opt\":[]},\"fBufferSize\":0,\"fBuffer\":[],\"fBinStatErrOpt\":0,\"fStatOverflows\":2,\"fArray\":[0,0,0,0,0,0,0,0,0,0,0,0,0,0,0,0,0,0,0,0,0,0,0,0,0,0,0,0,0,0,0,0,0,0,0,0,0,0,0,0,0,0,0,0,0,0,0,0,0,0,0,0,0,0,0,0,0,0,0,0,0,0,0,0,0,0,0,0,0,0,0,0,0,0,0,0,0,0,0,0,0,0,0,0,0,0,0,0,0,0,0,0,0,0,0,0,0,0,0,0,0,0]},\"fMinimum\":-1111,\"fMaximum\":-1111,\"fEX\":[0.0127626033509153,0.00875569867799559,0.0087102507096005,0.001185332200128,0.0358836942199299,0.24078081901024],\"fEY\":[0.0352842924072423,0.0246968344523718,0.0234896235122126,0.00508379021290303,0.031137833830334,0.242766781443239]},{\"_typename\":\"TGraphErrors\",\"fUniqueID\":0,\"fBits\":50332680,\"fName\":\"2017MuonDefUnf\",\"fTitle\":\"Graph\",\"fLineColor\":1,\"fLineStyle\":1,\"fLineWidth\":1,\"fFillColor\":0,\"fFillStyle\":1000,\"fMarkerColor\":1,\"fMarkerStyle\":25,\"fMarkerSize\":1,\"fNpoints\":6,\"fX\":[29.6386465988972,49.1334931940402,72.2753483467364,90.9899535762668,117.991235738549,241.639709893708],\"fY\":[30.7311146627428,17.8112905464007,19.907098261798,20.1852868113081,21.9530749541907,26.997671394975],\"fFunctions\":{\"_typename\":\"TList\",\"name\":\"TList\",\"arr\":[],\"opt\":[]},\"fHistogram\":{\"_typename\":\"TH1F\",\"fUniqueID\":0,\"fBits\":50332160,\"fName\":\"2017MuonDefUnf\",\"fTitle\":\"Graph\",\"fLineColor\":1,\"fLineStyle\":0,\"fLineWidth\":1,\"fFillColor\":0,\"fFillStyle\":1001,\"fMarkerColor\":1,\"fMarkerStyle\":20,\"fMarkerSize\":1,\"fNcells\":102,\"fXaxis\":{\"_typename\":\"TAxis\",\"fUniqueID\":0,\"fBits\":50331648,\"fName\":\"xaxis\",\"fTitle\":\"\",\"fNdivisions\":510,\"fAxisColor\":1,\"fLabelColor\":1,\"fLabelFont\":133,\"fLabelOffset\":0.007,\"fLabelSize\":23,\"fTickLength\":0.03,\"fTitleOffset\":3,\"fTitleSize\":23,\"fTitleColor\":1,\"fTitleFont\":133,\"fNbins\":100,\"fXmin\":8.40592516162512,\"fXmax\":263.069772958841,\"fXbins\":[],\"fFirst\":0,\"fLast\":0,\"fBits2\":0,\"fTimeDisplay\":false,\"fTimeFormat\":\"\",\"fLabels\":null,\"fModLabs\":null},\"fYaxis\":{\"_typename\":\"TAxis\",\"fUniqueID\":0,\"fBits\":50331648,\"fName\":\"yaxis\",\"fTitle\":\"\",\"fNdivisions\":510,\"fAxisColor\":1,\"fLabelColor\":1,\"fLabelFont\":133,\"fLabelOffset\":0.007,\"fLabelSize\":23,\"fTickLength\":0.03,\"fTitleOffset\":2,\"fTitleSize\":23,\"fTitleColor\":1,\"fTitleFont\":133,\"fNbins\":1,\"fXmin\":16.4925190943151,\"fXmax\":32.0576123144332,\"fXbins\":[],\"fFirst\":0,\"fLast\":0,\"fBits2\":0,\"fTimeDisplay\":false,\"fTimeFormat\":\"\",\"fLabels\":null,\"fModLabs\":null},\"fZaxis\":{\"_typename\":\"TAxis\",\"fUniqueID\":0,\"fBits\":50331648,\"fName\":\"zaxis\",\"fTitle\":\"\",\"fNdivisions\":510,\"fAxisColor\":1,\"fLabelColor\":1,\"fLabelFont\":133,\"fLabelOffset\":0.007,\"fLabelSize\":23,\"fTickLength\":0.03,\"fTitleOffset\":1,\"fTitleSize\":23,\"fTitleColor\":1,\"fTitleFont\":133,\"fNbins\":1,\"fXmin\":0,\"fXmax\":1,\"fXbins\":[],\"fFirst\":0,\"fLast\":0,\"fBits2\":0,\"fTimeDisplay\":false,\"fTimeFormat\":\"\",\"fLabels\":null,\"fModLabs\":null},\"fBarOffset\":0,\"fBarWidth\":1000,\"fEntries\":0,\"fTsumw\":0,\"fTsumw2\":0,\"fTsumwx\":0,\"fTsumwx2\":0,\"fMaximum\":32.0576123144332,\"fMinimum\":16.4925190943151,\"fNormFactor\":0,\"fContour\":[],\"fSumw2\":[],\"fOption\":\"\",\"fFunctions\":{\"_typename\":\"TList\",\"name\":\"TList\",\"arr\":[],\"opt\":[]},\"fBufferSize\":0,\"fBuffer\":[],\"fBinStatErrOpt\":0,\"fStatOverflows\":2,\"fArray\":[0,0,0,0,0,0,0,0,0,0,0,0,0,0,0,0,0,0,0,0,0,0,0,0,0,0,0,0,0,0,0,0,0,0,0,0,0,0,0,0,0,0,0,0,0,0,0,0,0,0,0,0,0,0,0,0,0,0,0,0,0,0,0,0,0,0,0,0,0,0,0,0,0,0,0,0,0,0,0,0,0,0,0,0,0,0,0,0,0,0,0,0,0,0,0,0,0,0,0,0,0,0]},\"fMinimum\":-1111,\"fMaximum\":-1111,\"fEX\":[0.0107341208374305,0.00769037493713461,0.00791168127409069,0.00107916165602811,0.0330992959502038,0.208075748698209],\"fEY\":[0.0294065500139178,0.0216803504090382,0.0212081016827303,0.00464036423227239,0.0287343716789001,0.213712622883417]},{\"_typename\":\"TGraphErrors\",\"fUniqueID\":0,\"fBits\":50332680,\"fName\":\"2018MuonDefUnf\",\"fTitle\":\"Graph\",\"fLineColor\":1,\"fLineStyle\":1,\"fLineWidth\":1,\"fFillColor\":0,\"fFillStyle\":1000,\"fMarkerColor\":1,\"fMarkerStyle\":26,\"fMarkerSize\":1,\"fNpoints\":6,\"fX\":[29.6074425272597,49.1899213612602,72.2928174408847,90.9860572725405,117.950902606175,241.110713461567],\"fY\":[30.8449657293107,17.875520209692,19.9338833247681,20.1799839865101,21.9525781875702,26.337076551821],\"fFunctions\":{\"_typename\":\"TList\",\"name\":\"TList\",\"arr\":[],\"opt\":[]},\"fHistogram\":{\"_typename\":\"TH1F\",\"fUniqueID\":0,\"fBits\":50332160,\"fName\":\"2018MuonDefUnf\",\"fTitle\":\"Graph\",\"fLineColor\":1,\"fLineStyle\":0,\"fLineWidth\":1,\"fFillColor\":0,\"fFillStyle\":1001,\"fMarkerColor\":1,\"fMarkerStyle\":20,\"fMarkerSize\":1,\"fNcells\":102,\"fXaxis\":{\"_typename\":\"TAxis\",\"fUniqueID\":0,\"fBits\":50331648,\"fName\":\"xaxis\",\"fTitle\":\"\",\"fNdivisions\":510,\"fAxisColor\":1,\"fLabelColor\":1,\"fLabelFont\":133,\"fLabelOffset\":0.007,\"fLabelSize\":23,\"fTickLength\":0.03,\"fTitleOffset\":3,\"fTitleSize\":23,\"fTitleColor\":1,\"fTitleFont\":133,\"fNbins\":100,\"fXmin\":8.42719720520667,\"fXmax\":262.472438965244,\"fXbins\":[],\"fFirst\":0,\"fLast\":0,\"fBits2\":0,\"fTimeDisplay\":false,\"fTimeFormat\":\"\",\"fLabels\":null,\"fModLabs\":null},\"fYaxis\":{\"_typename\":\"TAxis\",\"fUniqueID\":0,\"fBits\":50331648,\"fName\":\"yaxis\",\"fTitle\":\"\",\"fNdivisions\":510,\"fAxisColor\":1,\"fLabelColor\":1,\"fLabelFont\":133,\"fLabelOffset\":0.007,\"fLabelSize\":23,\"fTickLength\":0.03,\"fTitleOffset\":2,\"fTitleSize\":23,\"fTitleColor\":1,\"fTitleFont\":133,\"fNbins\":1,\"fXmin\":16.5549139847725,\"fXmax\":32.174077789457,\"fXbins\":[],\"fFirst\":0,\"fLast\":0,\"fBits2\":0,\"fTimeDisplay\":false,\"fTimeFormat\":\"\",\"fLabels\":null,\"fModLabs\":null},\"fZaxis\":{\"_typename\":\"TAxis\",\"fUniqueID\":0,\"fBits\":50331648,\"fName\":\"zaxis\",\"fTitle\":\"\",\"fNdivisions\":510,\"fAxisColor\":1,\"fLabelColor\":1,\"fLabelFont\":133,\"fLabelOffset\":0.007,\"fLabelSize\":23,\"fTickLength\":0.03,\"fTitleOffset\":1,\"fTitleSize\":23,\"fTitleColor\":1,\"fTitleFont\":133,\"fNbins\":1,\"fXmin\":0,\"fXmax\":1,\"fXbins\":[],\"fFirst\":0,\"fLast\":0,\"fBits2\":0,\"fTimeDisplay\":false,\"fTimeFormat\":\"\",\"fLabels\":null,\"fModLabs\":null},\"fBarOffset\":0,\"fBarWidth\":1000,\"fEntries\":0,\"fTsumw\":0,\"fTsumw2\":0,\"fTsumwx\":0,\"fTsumwx2\":0,\"fMaximum\":32.174077789457,\"fMinimum\":16.5549139847725,\"fNormFactor\":0,\"fContour\":[],\"fSumw2\":[],\"fOption\":\"\",\"fFunctions\":{\"_typename\":\"TList\",\"name\":\"TList\",\"arr\":[],\"opt\":[]},\"fBufferSize\":0,\"fBuffer\":[],\"fBinStatErrOpt\":0,\"fStatOverflows\":2,\"fArray\":[0,0,0,0,0,0,0,0,0,0,0,0,0,0,0,0,0,0,0,0,0,0,0,0,0,0,0,0,0,0,0,0,0,0,0,0,0,0,0,0,0,0,0,0,0,0,0,0,0,0,0,0,0,0,0,0,0,0,0,0,0,0,0,0,0,0,0,0,0,0,0,0,0,0,0,0,0,0,0,0,0,0,0,0,0,0,0,0,0,0,0,0,0,0,0,0,0,0,0,0,0,0]},\"fMinimum\":-1111,\"fMaximum\":-1111,\"fEX\":[0.00980850871653193,0.00675484039228951,0.00653613357117308,8.96288885330682e-4,0.02658475996071,0.191288690340409],\"fEY\":[0.0275150764225975,0.0190092411958224,0.0174800675983909,0.00384387842660269,0.0231287578407324,0.180278952415757]},{\"_typename\":\"TGraphErrors\",\"fUniqueID\":0,\"fBits\":50332680,\"fName\":\"2016MuonDet\",\"fTitle\":\"Graph\",\"fLineColor\":600,\"fLineStyle\":1,\"fLineWidth\":1,\"fFillColor\":0,\"fFillStyle\":1000,\"fMarkerColor\":600,\"fMarkerStyle\":20,\"fMarkerSize\":1,\"fNpoints\":6,\"fX\":[29.6155589962509,49.299015260399,72.8021876618391,90.8064988782461,117.820608184512,241.311023378761],\"fY\":[31.9998521004015,17.1936549275171,19.176386244156,19.3680786256413,21.2897161451329,26.1551444362281],\"fFunctions\":{\"_typename\":\"TList\",\"name\":\"TList\",\"arr\":[],\"opt\":[]},\"fHistogram\":{\"_typename\":\"TH1F\",\"fUniqueID\":0,\"fBits\":50332160,\"fName\":\"2016MuonDet\",\"fTitle\":\"Graph\",\"fLineColor\":1,\"fLineStyle\":0,\"fLineWidth\":1,\"fFillColor\":0,\"fFillStyle\":1001,\"fMarkerColor\":1,\"fMarkerStyle\":20,\"fMarkerSize\":1,\"fNcells\":102,\"fXaxis\":{\"_typename\":\"TAxis\",\"fUniqueID\":0,\"fBits\":50331648,\"fName\":\"xaxis\",\"fTitle\":\"\",\"fNdivisions\":510,\"fAxisColor\":1,\"fLabelColor\":1,\"fLabelFont\":133,\"fLabelOffset\":0.007,\"fLabelSize\":23,\"fTickLength\":0.03,\"fTitleOffset\":3,\"fTitleSize\":23,\"fTitleColor\":1,\"fTitleFont\":133,\"fNbins\":100,\"fXmin\":8.41391589815285,\"fXmax\":262.692122919051,\"fXbins\":[],\"fFirst\":0,\"fLast\":0,\"fBits2\":0,\"fTimeDisplay\":false,\"fTimeFormat\":\"\",\"fLabels\":null,\"fModLabs\":null},\"fYaxis\":{\"_typename\":\"TAxis\",\"fUniqueID\":0,\"fBits\":50331648,\"fName\":\"yaxis\",\"fTitle\":\"\",\"fNdivisions\":510,\"fAxisColor\":1,\"fLabelColor\":1,\"fLabelFont\":133,\"fLabelOffset\":0.007,\"fLabelSize\":23,\"fTickLength\":0.03,\"fTitleOffset\":2,\"fTitleSize\":23,\"fTitleColor\":1,\"fTitleFont\":133,\"fNbins\":1,\"fXmin\":15.6858117206538,\"fXmax\":33.5185008914901,\"fXbins\":[],\"fFirst\":0,\"fLast\":0,\"fBits2\":0,\"fTimeDisplay\":false,\"fTimeFormat\":\"\",\"fLabels\":null,\"fModLabs\":null},\"fZaxis\":{\"_typename\":\"TAxis\",\"fUniqueID\":0,\"fBits\":50331648,\"fName\":\"zaxis\",\"fTitle\":\"\",\"fNdivisions\":510,\"fAxisColor\":1,\"fLabelColor\":1,\"fLabelFont\":133,\"fLabelOffset\":0.007,\"fLabelSize\":23,\"fTickLength\":0.03,\"fTitleOffset\":1,\"fTitleSize\":23,\"fTitleColor\":1,\"fTitleFont\":133,\"fNbins\":1,\"fXmin\":0,\"fXmax\":1,\"fXbins\":[],\"fFirst\":0,\"fLast\":0,\"fBits2\":0,\"fTimeDisplay\":false,\"fTimeFormat\":\"\",\"fLabels\":null,\"fModLabs\":null},\"fBarOffset\":0,\"fBarWidth\":1000,\"fEntries\":0,\"fTsumw\":0,\"fTsumw2\":0,\"fTsumwx\":0,\"fTsumwx2\":0,\"fMaximum\":33.5185008914901,\"fMinimum\":15.6858117206538,\"fNormFactor\":0,\"fContour\":[],\"fSumw2\":[],\"fOption\":\"\",\"fFunctions\":{\"_typename\":\"TList\",\"name\":\"TList\",\"arr\":[],\"opt\":[]},\"fBufferSize\":0,\"fBuffer\":[],\"fBinStatErrOpt\":0,\"fStatOverflows\":2,\"fArray\":[0,0,0,0,0,0,0,0,0,0,0,0,0,0,0,0,0,0,0,0,0,0,0,0,0,0,0,0,0,0,0,0,0,0,0,0,0,0,0,0,0,0,0,0,0,0,0,0,0,0,0,0,0,0,0,0,0,0,0,0,0,0,0,0,0,0,0,0,0,0,0,0,0,0,0,0,0,0,0,0,0,0,0,0,0,0,0,0,0,0,0,0,0,0,0,0,0,0,0,0,0,0]},\"fMinimum\":-1111,\"fMaximum\":-1111,\"fEX\":[0.0117925130231517,0.00748669778089703,0.00544252769132407,8.02404067228277e-4,0.0229165420709262,0.191248955215528],\"fEY\":[0.032591360185529,0.0217857759601995,0.0162077485797483,0.00425894152332906,0.0230846532066572,0.13655612955169]},{\"_typename\":\"TGraphErrors\",\"fUniqueID\":0,\"fBits\":50332680,\"fName\":\"2017MuonDet\",\"fTitle\":\"Graph\",\"fLineColor\":600,\"fLineStyle\":1,\"fLineWidth\":1,\"fFillColor\":0,\"fFillStyle\":1000,\"fMarkerColor\":600,\"fMarkerStyle\":25,\"fMarkerSize\":1,\"fNpoints\":6,\"fX\":[29.533927597571,49.3146981829642,72.7896125577297,90.7909298180733,117.996036718561,241.481703482727],\"fY\":[32.1062110014892,17.4493292567289,19.3271175891458,19.4123090859035,21.3866442237579,26.6643617161173],\"fFunctions\":{\"_typename\":\"TList\",\"name\":\"TList\",\"arr\":[],\"opt\":[]},\"fHistogram\":{\"_typename\":\"TH1F\",\"fUniqueID\":0,\"fBits\":50332160,\"fName\":\"2017MuonDet\",\"fTitle\":\"Graph\",\"fLineColor\":1,\"fLineStyle\":0,\"fLineWidth\":1,\"fFillColor\":0,\"fFillStyle\":1001,\"fMarkerColor\":1,\"fMarkerStyle\":20,\"fMarkerSize\":1,\"fNcells\":102,\"fXaxis\":{\"_typename\":\"TAxis\",\"fUniqueID\":0,\"fBits\":50331648,\"fName\":\"xaxis\",\"fTitle\":\"\",\"fNdivisions\":510,\"fAxisColor\":1,\"fLabelColor\":1,\"fLabelFont\":133,\"fLabelOffset\":0.007,\"fLabelSize\":23,\"fTickLength\":0.03,\"fTitleOffset\":3,\"fTitleSize\":23,\"fTitleColor\":1,\"fTitleFont\":133,\"fNbins\":100,\"fXmin\":8.3113599114163,\"fXmax\":262.86271005405,\"fXbins\":[],\"fFirst\":0,\"fLast\":0,\"fBits2\":0,\"fTimeDisplay\":false,\"fTimeFormat\":\"\",\"fLabels\":null,\"fModLabs\":null},\"fYaxis\":{\"_typename\":\"TAxis\",\"fUniqueID\":0,\"fBits\":50331648,\"fName\":\"yaxis\",\"fTitle\":\"\",\"fNdivisions\":510,\"fAxisColor\":1,\"fLabelColor\":1,\"fLabelFont\":133,\"fLabelOffset\":0.007,\"fLabelSize\":23,\"fTickLength\":0.03,\"fTitleOffset\":2,\"fTitleSize\":23,\"fTitleColor\":1,\"fTitleFont\":133,\"fNbins\":1,\"fXmin\":15.959765541567,\"fXmax\":33.6041409946339,\"fXbins\":[],\"fFirst\":0,\"fLast\":0,\"fBits2\":0,\"fTimeDisplay\":false,\"fTimeFormat\":\"\",\"fLabels\":null,\"fModLabs\":null},\"fZaxis\":{\"_typename\":\"TAxis\",\"fUniqueID\":0,\"fBits\":50331648,\"fName\":\"zaxis\",\"fTitle\":\"\",\"fNdivisions\":510,\"fAxisColor\":1,\"fLabelColor\":1,\"fLabelFont\":133,\"fLabelOffset\":0.007,\"fLabelSize\":23,\"fTickLength\":0.03,\"fTitleOffset\":1,\"fTitleSize\":23,\"fTitleColor\":1,\"fTitleFont\":133,\"fNbins\":1,\"fXmin\":0,\"fXmax\":1,\"fXbins\":[],\"fFirst\":0,\"fLast\":0,\"fBits2\":0,\"fTimeDisplay\":false,\"fTimeFormat\":\"\",\"fLabels\":null,\"fModLabs\":null},\"fBarOffset\":0,\"fBarWidth\":1000,\"fEntries\":0,\"fTsumw\":0,\"fTsumw2\":0,\"fTsumwx\":0,\"fTsumwx2\":0,\"fMaximum\":33.6041409946339,\"fMinimum\":15.959765541567,\"fNormFactor\":0,\"fContour\":[],\"fSumw2\":[],\"fOption\":\"\",\"fFunctions\":{\"_typename\":\"TList\",\"name\":\"TList\",\"arr\":[],\"opt\":[]},\"fBufferSize\":0,\"fBuffer\":[],\"fBinStatErrOpt\":0,\"fStatOverflows\":2,\"fArray\":[0,0,0,0,0,0,0,0,0,0,0,0,0,0,0,0,0,0,0,0,0,0,0,0,0,0,0,0,0,0,0,0,0,0,0,0,0,0,0,0,0,0,0,0,0,0,0,0,0,0,0,0,0,0,0,0,0,0,0,0,0,0,0,0,0,0,0,0,0,0,0,0,0,0,0,0,0,0,0,0,0,0,0,0,0,0,0,0,0,0,0,0,0,0,0,0,0,0,0,0,0,0]},\"fMinimum\":-1111,\"fMaximum\":-1111,\"fEX\":[0.00995517426860267,0.00658959973576755,0.00493792880509621,7.38145869653033e-4,0.0216073717764248,0.168394059436167],\"fEY\":[0.0275653720557847,0.0191990940729884,0.0147111647668845,0.0039256564486735,0.0217080435103019,0.122441638905698]},{\"_typename\":\"TGraphErrors\",\"fUniqueID\":0,\"fBits\":50332680,\"fName\":\"2018MuonDet\",\"fTitle\":\"Graph\",\"fLineColor\":600,\"fLineStyle\":1,\"fLineWidth\":1,\"fFillColor\":0,\"fFillStyle\":1000,\"fMarkerColor\":600,\"fMarkerStyle\":26,\"fMarkerSize\":1,\"fNpoints\":6,\"fX\":[29.5358907788582,49.2980257544862,72.7962029166524,90.7914258665661,117.968697645256,241.36992459418],\"fY\":[32.0385829733415,17.3454533457475,19.3012037241326,19.3830618428973,21.3235210159547,26.5293454127982],\"fFunctions\":{\"_typename\":\"TList\",\"name\":\"TList\",\"arr\":[],\"opt\":[]},\"fHistogram\":{\"_typename\":\"TH1F\",\"fUniqueID\":0,\"fBits\":50332160,\"fName\":\"2018MuonDet\",\"fTitle\":\"Graph\",\"fLineColor\":1,\"fLineStyle\":0,\"fLineWidth\":1,\"fFillColor\":0,\"fFillStyle\":1001,\"fMarkerColor\":1,\"fMarkerStyle\":20,\"fMarkerSize\":1,\"fNcells\":102,\"fXaxis\":{\"_typename\":\"TAxis\",\"fUniqueID\":0,\"fBits\":50331648,\"fName\":\"xaxis\",\"fTitle\":\"\",\"fNdivisions\":510,\"fAxisColor\":1,\"fLabelColor\":1,\"fLabelFont\":133,\"fLabelOffset\":0.007,\"fLabelSize\":23,\"fTickLength\":0.03,\"fTitleOffset\":3,\"fTitleSize\":23,\"fTitleColor\":1,\"fTitleFont\":133,\"fNbins\":100,\"fXmin\":8.32710434125588,\"fXmax\":262.723215393805,\"fXbins\":[],\"fFirst\":0,\"fLast\":0,\"fBits2\":0,\"fTimeDisplay\":false,\"fTimeFormat\":\"\",\"fLabels\":null,\"fModLabs\":null},\"fYaxis\":{\"_typename\":\"TAxis\",\"fUniqueID\":0,\"fBits\":50331648,\"fName\":\"yaxis\",\"fTitle\":\"\",\"fNdivisions\":510,\"fAxisColor\":1,\"fLabelColor\":1,\"fLabelFont\":133,\"fLabelOffset\":0.007,\"fLabelSize\":23,\"fTickLength\":0.03,\"fTitleOffset\":2,\"fTitleSize\":23,\"fTitleColor\":1,\"fTitleFont\":133,\"fNbins\":1,\"fXmin\":15.8552070158669,\"fXmax\":33.5372509896471,\"fXbins\":[],\"fFirst\":0,\"fLast\":0,\"fBits2\":0,\"fTimeDisplay\":false,\"fTimeFormat\":\"\",\"fLabels\":null,\"fModLabs\":null},\"fZaxis\":{\"_typename\":\"TAxis\",\"fUniqueID\":0,\"fBits\":50331648,\"fName\":\"zaxis\",\"fTitle\":\"\",\"fNdivisions\":510,\"fAxisColor\":1,\"fLabelColor\":1,\"fLabelFont\":133,\"fLabelOffset\":0.007,\"fLabelSize\":23,\"fTickLength\":0.03,\"fTitleOffset\":1,\"fTitleSize\":23,\"fTitleColor\":1,\"fTitleFont\":133,\"fNbins\":1,\"fXmin\":0,\"fXmax\":1,\"fXbins\":[],\"fFirst\":0,\"fLast\":0,\"fBits2\":0,\"fTimeDisplay\":false,\"fTimeFormat\":\"\",\"fLabels\":null,\"fModLabs\":null},\"fBarOffset\":0,\"fBarWidth\":1000,\"fEntries\":0,\"fTsumw\":0,\"fTsumw2\":0,\"fTsumwx\":0,\"fTsumwx2\":0,\"fMaximum\":33.5372509896471,\"fMinimum\":15.8552070158669,\"fNormFactor\":0,\"fContour\":[],\"fSumw2\":[],\"fOption\":\"\",\"fFunctions\":{\"_typename\":\"TList\",\"name\":\"TList\",\"arr\":[],\"opt\":[]},\"fBufferSize\":0,\"fBuffer\":[],\"fBinStatErrOpt\":0,\"fStatOverflows\":2,\"fArray\":[0,0,0,0,0,0,0,0,0,0,0,0,0,0,0,0,0,0,0,0,0,0,0,0,0,0,0,0,0,0,0,0,0,0,0,0,0,0,0,0,0,0,0,0,0,0,0,0,0,0,0,0,0,0,0,0,0,0,0,0,0,0,0,0,0,0,0,0,0,0,0,0,0,0,0,0,0,0,0,0,0,0,0,0,0,0,0,0,0,0,0,0,0,0,0,0,0,0,0,0,0,0]},\"fMinimum\":-1111,\"fMaximum\":-1111,\"fEX\":[0.00911051655653777,0.00577303323665864,0.00406618946076672,6.11088947347975e-4,0.0173091026290647,0.153614878579677],\"fEY\":[0.0251643518239225,0.0167426653989003,0.0120880965578729,0.00324542553334837,0.017378824696295,0.111127133555476]},{\"_typename\":\"TGraphErrors\",\"fUniqueID\":0,\"fBits\":50332680,\"fName\":\"2016MuonFSRUnf\",\"fTitle\":\"Graph\",\"fLineColor\":632,\"fLineStyle\":1,\"fLineWidth\":1,\"fFillColor\":0,\"fFillStyle\":1000,\"fMarkerColor\":632,\"fMarkerStyle\":20,\"fMarkerSize\":1,\"fNpoints\":6,\"fX\":[21.6545891292521,48.0257632064849,71.7314324216759,91.2292190630055,117.234183936609,240.081902612061],\"fY\":[8.11580241376375,13.0985740458459,16.2107911187557,18.2658628846947,19.9494498261549,24.5701771031893],\"fFunctions\":{\"_typename\":\"TList\",\"name\":\"TList\",\"arr\":[{\"_typename\":\"TF1\",\"fUniqueID\":0,\"fBits\":50333192,\"fName\":\"f_lepton\",\"fTitle\":\"[0]+[1]*log(x)\",\"fLineColor\":600,\"fLineStyle\":2,\"fLineWidth\":1,\"fFillColor\":19,\"fFillStyle\":0,\"fMarkerColor\":1,\"fMarkerStyle\":20,\"fMarkerSize\":1,\"fXmin\":10,\"fXmax\":400,\"fNpar\":2,\"fNdim\":1,\"fNpx\":100,\"fType\":0,\"fNpfits\":6,\"fNDF\":4,\"fChisquare\":244.61490994345,\"fMinimum\":-1111,\"fMaximum\":-1111,\"fParErrors\":[0.142704055674487,0.0317834462457147],\"fParMin\":[0,0],\"fParMax\":[0,0],\"fSave\":[0.961664264617362,3.53694148666647,5.47099425526016,7.02031754509848,8.31286904852658,9.42178121766057,10.3928024664826,11.2564640306931,12.0341601988709,12.7414656872952,13.3900719572969,13.9889796896242,14.5452659827313,15.0645962206742,15.5515762488946,16.0100011473871,16.4430350214267,16.8533435625405,17.2431935277831,17.6145285750886,17.9690278933252,18.3081521086138,18.6331796430562,18.945235813864,19.2453163456951,19.5343065358833,19.8129970027316,20.0820967228092,20.3422438986852,20.5940150764295,20.8379328406002,21.0744723450061,21.3040668844236,21.5271126714599,21.7439729508681,21.9549815586179,22.160446013284,22.3606502116127,22.5558567875713,22.7463091840656,22.9322334783269,23.1138399952993,23.2913247379043,23.4648706585723,23.6346487927211,23.8008192717878,23.963532230853,24.1229286237506,24.2791409567547,24.4322939504113,24.5825051377992,24.7298854064079,24.8745394898932,25.0165664151711,25.1560599096326,25.2931087726708,25.4277972152119,25.5602051704982,25.6904085789968,25.8184796499764,25.9444871020076,26.0684963843938,26.190569881317,26.3107671002942,26.4291448463684,26.5457573833117,26.6606565829852,26.7738920638834,26.8855113197925,26.9955598393938,27.1040812175685,27.2111172590853,27.3167080752865,27.4208921743343,27.5237065455234,27.6251867381238,27.7253669351719,27.8242800225964,27.9219576540258,28.0184303115981,28.1137273630664,28.2078771154657,28.3009068655876,28.3928429474886,28.4837107772375,28.5735348950928,28.6623390052859,28.7501460135701,28.8369780626849,28.9228565658738,29.0078022385802,29.091835128442,29.17497464369,29.2572395800541,29.3386481462679,29.4192179882601,29.4989662121119,29.577909405856,29.6560636601861,29.7334445881418,29.8100673438292,10,400],\"fNormalized\":false,\"fNormIntegral\":0,\"fFormula\":{\"_typename\":\"TFormula\",\"fUniqueID\":0,\"fBits\":50332672,\"fName\":\"f_lepton\",\"fTitle\":\"[0]+[1]*log(x)\",\"fClingParameters\":[-17.045403657539,7.82037023384955],\"fAllParametersSetted\":true,\"fParams\":[{\"$pair\":\"pair<TString,int,TFormulaParamOrder>\",\"first\":\"p0\",\"second\":0},{\"$pair\":\"pair<TString,int,TFormulaParamOrder>\",\"first\":\"p1\",\"second\":1}],\"fFormula\":\"[p0]+[p1]*log(x)\",\"fNdim\":1,\"fLinearParts\":[],\"fVectorized\":false},\"fParams\":null,\"fComposition_ptr\":null}],\"opt\":[\"\"]},\"fHistogram\":{\"_typename\":\"TH1F\",\"fUniqueID\":0,\"fBits\":50332160,\"fName\":\"2016MuonFSRUnf\",\"fTitle\":\"Graph\",\"fLineColor\":1,\"fLineStyle\":0,\"fLineWidth\":1,\"fFillColor\":0,\"fFillStyle\":1001,\"fMarkerColor\":1,\"fMarkerStyle\":20,\"fMarkerSize\":1,\"fNcells\":102,\"fXaxis\":{\"_typename\":\"TAxis\",\"fUniqueID\":0,\"fBits\":50331648,\"fName\":\"xaxis\",\"fTitle\":\"\",\"fNdivisions\":510,\"fAxisColor\":1,\"fLabelColor\":1,\"fLabelFont\":133,\"fLabelOffset\":0.007,\"fLabelSize\":23,\"fTickLength\":0.03,\"fTitleOffset\":3,\"fTitleSize\":23,\"fTitleColor\":1,\"fTitleFont\":133,\"fNbins\":100,\"fXmin\":19.4768665969439,\"fXmax\":262.195902295322,\"fXbins\":[],\"fFirst\":0,\"fLast\":0,\"fBits2\":0,\"fTimeDisplay\":false,\"fTimeFormat\":\"\",\"fLabels\":null,\"fModLabs\":null},\"fYaxis\":{\"_typename\":\"TAxis\",\"fUniqueID\":0,\"fBits\":50331648,\"fName\":\"yaxis\",\"fTitle\":\"\",\"fNdivisions\":510,\"fAxisColor\":1,\"fLabelColor\":1,\"fLabelFont\":133,\"fLabelOffset\":0.007,\"fLabelSize\":23,\"fTickLength\":0.03,\"fTitleOffset\":2,\"fTitleSize\":23,\"fTitleColor\":1,\"fTitleFont\":133,\"fNbins\":1,\"fXmin\":6.30663844515712,\"fXmax\":26.5041923329921,\"fXbins\":[],\"fFirst\":0,\"fLast\":0,\"fBits2\":0,\"fTimeDisplay\":false,\"fTimeFormat\":\"\",\"fLabels\":null,\"fModLabs\":null},\"fZaxis\":{\"_typename\":\"TAxis\",\"fUniqueID\":0,\"fBits\":50331648,\"fName\":\"zaxis\",\"fTitle\":\"\",\"fNdivisions\":510,\"fAxisColor\":1,\"fLabelColor\":1,\"fLabelFont\":133,\"fLabelOffset\":0.007,\"fLabelSize\":23,\"fTickLength\":0.03,\"fTitleOffset\":1,\"fTitleSize\":23,\"fTitleColor\":1,\"fTitleFont\":133,\"fNbins\":1,\"fXmin\":0,\"fXmax\":1,\"fXbins\":[],\"fFirst\":0,\"fLast\":0,\"fBits2\":0,\"fTimeDisplay\":false,\"fTimeFormat\":\"\",\"fLabels\":null,\"fModLabs\":null},\"fBarOffset\":0,\"fBarWidth\":1000,\"fEntries\":0,\"fTsumw\":0,\"fTsumw2\":0,\"fTsumwx\":0,\"fTsumwx2\":0,\"fMaximum\":26.5041923329921,\"fMinimum\":6.30663844515712,\"fNormFactor\":0,\"fContour\":[],\"fSumw2\":[],\"fOption\":\"\",\"fFunctions\":{\"_typename\":\"TList\",\"name\":\"TList\",\"arr\":[],\"opt\":[]},\"fBufferSize\":0,\"fBuffer\":[],\"fBinStatErrOpt\":0,\"fStatOverflows\":2,\"fArray\":[0,0,0,0,0,0,0,0,0,0,0,0,0,0,0,0,0,0,0,0,0,0,0,0,0,0,0,0,0,0,0,0,0,0,0,0,0,0,0,0,0,0,0,0,0,0,0,0,0,0,0,0,0,0,0,0,0,0,0,0,0,0,0,0,0,0,0,0,0,0,0,0,0,0,0,0,0,0,0,0,0,0,0,0,0,0,0,0,0,0,0,0,0,0,0,0,0,0,0,0,0,0]},\"fMinimum\":-1111,\"fMaximum\":-1111,\"fEX\":[0.0136262437589222,0.00994343989468955,0.0143895302106863,0.00120343269448508,0.0363548141536224,0.245368827821274],\"fEY\":[0.126034477953706,0.0232566213878542,0.0334991187875452,0.00487264324306213,0.0298850127095747,0.250885739149935]},{\"_typename\":\"TGraphErrors\",\"fUniqueID\":0,\"fBits\":50332680,\"fName\":\"2017MuonFSRUnf\",\"fTitle\":\"Graph\",\"fLineColor\":632,\"fLineStyle\":1,\"fLineWidth\":1,\"fFillColor\":0,\"fFillStyle\":1000,\"fMarkerColor\":632,\"fMarkerStyle\":25,\"fMarkerSize\":1,\"fNpoints\":6,\"fX\":[21.5540487822333,47.9544823010476,71.6559932480185,91.220713957558,117.32974942764,240.598287549698],\"fY\":[9.06102104042537,13.4747880010094,16.3985083445467,18.3233312333278,20.1170153422569,25.4053115084324],\"fFunctions\":{\"_typename\":\"TList\",\"name\":\"TList\",\"arr\":[],\"opt\":[]},\"fHistogram\":{\"_typename\":\"TH1F\",\"fUniqueID\":0,\"fBits\":50332160,\"fName\":\"2017MuonFSRUnf\",\"fTitle\":\"Graph\",\"fLineColor\":1,\"fLineStyle\":0,\"fLineWidth\":1,\"fFillColor\":0,\"fFillStyle\":1001,\"fMarkerColor\":1,\"fMarkerStyle\":20,\"fMarkerSize\":1,\"fNcells\":102,\"fXaxis\":{\"_typename\":\"TAxis\",\"fUniqueID\":0,\"fBits\":50331648,\"fName\":\"xaxis\",\"fTitle\":\"\",\"fNdivisions\":510,\"fAxisColor\":1,\"fLabelColor\":1,\"fLabelFont\":133,\"fLabelOffset\":0.007,\"fLabelSize\":23,\"fTickLength\":0.03,\"fTitleOffset\":3,\"fTitleSize\":23,\"fTitleColor\":1,\"fTitleFont\":133,\"fNbins\":100,\"fXmin\":19.3889120828074,\"fXmax\":262.738997813737,\"fXbins\":[],\"fFirst\":0,\"fLast\":0,\"fBits2\":0,\"fTimeDisplay\":false,\"fTimeFormat\":\"\",\"fLabels\":null,\"fModLabs\":null},\"fYaxis\":{\"_typename\":\"TAxis\",\"fUniqueID\":0,\"fBits\":50331648,\"fName\":\"yaxis\",\"fTitle\":\"\",\"fNdivisions\":510,\"fAxisColor\":1,\"fLabelColor\":1,\"fLabelFont\":133,\"fLabelOffset\":0.007,\"fLabelSize\":23,\"fTickLength\":0.03,\"fTitleOffset\":2,\"fTitleSize\":23,\"fTitleColor\":1,\"fTitleFont\":133,\"fNbins\":1,\"fXmin\":7.27218883137676,\"fXmax\":27.292367816948,\"fXbins\":[],\"fFirst\":0,\"fLast\":0,\"fBits2\":0,\"fTimeDisplay\":false,\"fTimeFormat\":\"\",\"fLabels\":null,\"fModLabs\":null},\"fZaxis\":{\"_typename\":\"TAxis\",\"fUniqueID\":0,\"fBits\":50331648,\"fName\":\"zaxis\",\"fTitle\":\"\",\"fNdivisions\":510,\"fAxisColor\":1,\"fLabelColor\":1,\"fLabelFont\":133,\"fLabelOffset\":0.007,\"fLabelSize\":23,\"fTickLength\":0.03,\"fTitleOffset\":1,\"fTitleSize\":23,\"fTitleColor\":1,\"fTitleFont\":133,\"fNbins\":1,\"fXmin\":0,\"fXmax\":1,\"fXbins\":[],\"fFirst\":0,\"fLast\":0,\"fBits2\":0,\"fTimeDisplay\":false,\"fTimeFormat\":\"\",\"fLabels\":null,\"fModLabs\":null},\"fBarOffset\":0,\"fBarWidth\":1000,\"fEntries\":0,\"fTsumw\":0,\"fTsumw2\":0,\"fTsumwx\":0,\"fTsumwx2\":0,\"fMaximum\":27.292367816948,\"fMinimum\":7.27218883137676,\"fNormFactor\":0,\"fContour\":[],\"fSumw2\":[],\"fOption\":\"\",\"fFunctions\":{\"_typename\":\"TList\",\"name\":\"TList\",\"arr\":[],\"opt\":[]},\"fBufferSize\":0,\"fBuffer\":[],\"fBinStatErrOpt\":0,\"fStatOverflows\":2,\"fArray\":[0,0,0,0,0,0,0,0,0,0,0,0,0,0,0,0,0,0,0,0,0,0,0,0,0,0,0,0,0,0,0,0,0,0,0,0,0,0,0,0,0,0,0,0,0,0,0,0,0,0,0,0,0,0,0,0,0,0,0,0,0,0,0,0,0,0,0,0,0,0,0,0,0,0,0,0,0,0,0,0,0,0,0,0,0,0,0,0,0,0,0,0,0,0,0,0,0,0,0,0,0,0]},\"fMinimum\":-1111,\"fMaximum\":-1111,\"fEX\":[0.0108131346694621,0.00877108218149631,0.0129163244305179,0.00109652553338175,0.0334979262133493,0.213822794387508],\"fEY\":[0.120483960251006,0.0206292408631156,0.0297772814283633,0.00448188278071568,0.0276451572159669,0.218708059717989]},{\"_typename\":\"TGraphErrors\",\"fUniqueID\":0,\"fBits\":50332680,\"fName\":\"2018MuonFSRUnf\",\"fTitle\":\"Graph\",\"fLineColor\":632,\"fLineStyle\":1,\"fLineWidth\":1,\"fFillColor\":0,\"fFillStyle\":1000,\"fMarkerColor\":632,\"fMarkerStyle\":26,\"fMarkerSize\":1,\"fNpoints\":6,\"fX\":[21.5369472656054,47.9809177657665,71.667478645788,91.2156929687697,117.342518995839,239.776080548878],\"fY\":[9.04482555731123,13.4705668669575,16.4119738035945,18.3277720702999,20.1838114497065,24.7380192673553],\"fFunctions\":{\"_typename\":\"TList\",\"name\":\"TList\",\"arr\":[],\"opt\":[]},\"fHistogram\":{\"_typename\":\"TH1F\",\"fUniqueID\":0,\"fBits\":50332160,\"fName\":\"2018MuonFSRUnf\",\"fTitle\":\"Graph\",\"fLineColor\":1,\"fLineStyle\":0,\"fLineWidth\":1,\"fFillColor\":0,\"fFillStyle\":1001,\"fMarkerColor\":1,\"fMarkerStyle\":20,\"fMarkerSize\":1,\"fNcells\":102,\"fXaxis\":{\"_typename\":\"TAxis\",\"fUniqueID\":0,\"fBits\":50331648,\"fName\":\"xaxis\",\"fTitle\":\"\",\"fNdivisions\":510,\"fAxisColor\":1,\"fLabelColor\":1,\"fLabelFont\":133,\"fLabelOffset\":0.007,\"fLabelSize\":23,\"fTickLength\":0.03,\"fTitleOffset\":3,\"fTitleSize\":23,\"fTitleColor\":1,\"fTitleFont\":133,\"fNbins\":100,\"fXmin\":19.3744662436418,\"fXmax\":261.816711708033,\"fXbins\":[],\"fFirst\":0,\"fLast\":0,\"fBits2\":0,\"fTimeDisplay\":false,\"fTimeFormat\":\"\",\"fLabels\":null,\"fModLabs\":null},\"fYaxis\":{\"_typename\":\"TAxis\",\"fUniqueID\":0,\"fBits\":50331648,\"fName\":\"yaxis\",\"fTitle\":\"\",\"fNdivisions\":510,\"fAxisColor\":1,\"fLabelColor\":1,\"fLabelFont\":133,\"fLabelOffset\":0.007,\"fLabelSize\":23,\"fTickLength\":0.03,\"fTitleOffset\":2,\"fTitleSize\":23,\"fTitleColor\":1,\"fTitleFont\":133,\"fNbins\":1,\"fXmin\":7.30757537988095,\"fXmax\":26.5217530225534,\"fXbins\":[],\"fFirst\":0,\"fLast\":0,\"fBits2\":0,\"fTimeDisplay\":false,\"fTimeFormat\":\"\",\"fLabels\":null,\"fModLabs\":null},\"fZaxis\":{\"_typename\":\"TAxis\",\"fUniqueID\":0,\"fBits\":50331648,\"fName\":\"zaxis\",\"fTitle\":\"\",\"fNdivisions\":510,\"fAxisColor\":1,\"fLabelColor\":1,\"fLabelFont\":133,\"fLabelOffset\":0.007,\"fLabelSize\":23,\"fTickLength\":0.03,\"fTitleOffset\":1,\"fTitleSize\":23,\"fTitleColor\":1,\"fTitleFont\":133,\"fNbins\":1,\"fXmin\":0,\"fXmax\":1,\"fXbins\":[],\"fFirst\":0,\"fLast\":0,\"fBits2\":0,\"fTimeDisplay\":false,\"fTimeFormat\":\"\",\"fLabels\":null,\"fModLabs\":null},\"fBarOffset\":0,\"fBarWidth\":1000,\"fEntries\":0,\"fTsumw\":0,\"fTsumw2\":0,\"fTsumwx\":0,\"fTsumwx2\":0,\"fMaximum\":26.5217530225534,\"fMinimum\":7.30757537988095,\"fNormFactor\":0,\"fContour\":[],\"fSumw2\":[],\"fOption\":\"\",\"fFunctions\":{\"_typename\":\"TList\",\"name\":\"TList\",\"arr\":[],\"opt\":[]},\"fBufferSize\":0,\"fBuffer\":[],\"fBinStatErrOpt\":0,\"fStatOverflows\":2,\"fArray\":[0,0,0,0,0,0,0,0,0,0,0,0,0,0,0,0,0,0,0,0,0,0,0,0,0,0,0,0,0,0,0,0,0,0,0,0,0,0,0,0,0,0,0,0,0,0,0,0,0,0,0,0,0,0,0,0,0,0,0,0,0,0,0,0,0,0,0,0,0,0,0,0,0,0,0,0,0,0,0,0,0,0,0,0,0,0,0,0,0,0,0,0,0,0,0,0,0,0,0,0,0,0]},\"fMinimum\":-1111,\"fMaximum\":-1111,\"fEX\":[0.00976255044778388,0.00774468782944905,0.0107057991022855,9.10412391686609e-4,0.0270233000931519,0.196128705256357],\"fEY\":[0.136068707207576,0.0186373738875558,0.0246692037643922,0.00371524504502873,0.0225250724488662,0.182552284975448]},{\"_typename\":\"TLatex\",\"fUniqueID\":0,\"fBits\":50348041,\"fName\":\"\",\"fTitle\":\"\",\"fTextAngle\":0,\"fTextSize\":0.09,\"fTextAlign\":31,\"fTextColor\":1,\"fTextFont\":132,\"fX\":0.899999998509884,\"fY\":0.909999998658895,\"fLineColor\":1,\"fLineStyle\":1,\"fLineWidth\":2,\"fLimitFactorSize\":3,\"fOriginSize\":0.04},{\"_typename\":\"TLatex\",\"fUniqueID\":0,\"fBits\":50348041,\"fName\":\"\",\"fTitle\":\"CMS\",\"fTextAngle\":0,\"fTextSize\":0.095,\"fTextAlign\":13,\"fTextColor\":1,\"fTextFont\":131,\"fX\":0.136000001356006,\"fY\":0.866744998679683,\"fLineColor\":1,\"fLineStyle\":1,\"fLineWidth\":2,\"fLimitFactorSize\":3,\"fOriginSize\":0.04},{\"_typename\":\"TLatex\",\"fUniqueID\":0,\"fBits\":50348041,\"fName\":\"\",\"fTitle\":\"Work in progress\",\"fTextAngle\":0,\"fTextSize\":0.0722,\"fTextAlign\":13,\"fTextColor\":1,\"fTextFont\":52,\"fX\":0.136000001356006,\"fY\":0.75274499698095,\"fLineColor\":1,\"fLineStyle\":1,\"fLineWidth\":2,\"fLimitFactorSize\":3,\"fOriginSize\":0.04},{\"_typename\":\"TLegend\",\"fUniqueID\":0,\"fBits\":50331656,\"fLineColor\":1,\"fLineStyle\":1,\"fLineWidth\":1,\"fFillColor\":0,\"fFillStyle\":1001,\"fX1\":2.29406804807557,\"fY1\":12.8571427567881,\"fX2\":2.54406805180086,\"fY2\":18.5714285258128,\"fX1NDC\":0.7,\"fY1NDC\":0.3,\"fX2NDC\":0.9,\"fY2NDC\":0.5,\"fBorderSize\":1,\"fInit\":1,\"fShadowColor\":1,\"fCornerRadius\":0,\"fOption\":\"brNDC\",\"fName\":\"TPave\",\"fTextAngle\":0,\"fTextSize\":0,\"fTextAlign\":12,\"fTextColor\":1,\"fTextFont\":62,\"fPrimitives\":{\"_typename\":\"TList\",\"name\":\"TList\",\"arr\":[{\"_typename\":\"TLegendEntry\",\"fUniqueID\":0,\"fBits\":50331656,\"fTextAngle\":0,\"fTextSize\":0,\"fTextAlign\":0,\"fTextColor\":0,\"fTextFont\":62,\"fLineColor\":1,\"fLineStyle\":1,\"fLineWidth\":1,\"fFillColor\":0,\"fFillStyle\":0,\"fMarkerColor\":1,\"fMarkerStyle\":20,\"fMarkerSize\":1,\"fObject\":{\"$ref\":3},\"fLabel\":\"Detector data 2016\",\"fOption\":\"ple\"}],\"opt\":[\"ple\"]},\"fEntrySeparation\":0.1,\"fMargin\":0.25,\"fNColumns\":1,\"fColumnSeparation\":0}],\"opt\":[\"\",\"ap\",\"p \",\"p \",\"p \",\"p \",\"p \",\"p \",\"p \",\"p \",\"\",\"\",\"\",\"\"]},\"fExecs\":null,\"fName\":\"PtVsMass\",\"fTitle\":\"PtVsMass\",\"fNumPaletteColor\":0,\"fNextPaletteColor\":0,\"fDISPLAY\":\"$DISPLAY\",\"fDoubleBuffer\":0,\"fRetained\":true,\"fXsizeUser\":0,\"fYsizeUser\":0,\"fXsizeReal\":20,\"fYsizeReal\":12,\"fWindowTopX\":0,\"fWindowTopY\":0,\"fWindowWidth\":0,\"fWindowHeight\":0,\"fCw\":996,\"fCh\":572,\"fCatt\":{\"_typename\":\"TAttCanvas\",\"fXBetween\":2,\"fYBetween\":2,\"fTitleFromTop\":1.2,\"fXdate\":0.2,\"fYdate\":0.3,\"fAdate\":1},\"kMoveOpaque\":true,\"kResizeOpaque\":true,\"fHighLightColor\":2,\"fBatch\":true,\"kShowEventStatus\":false,\"kAutoExec\":true,\"kMenuBar\":true});\n",
       "       Core.draw(\"root_plot_1\", obj, \"\");\n",
       "     }\n",
       " );\n",
       "</script>\n"
      ],
      "text/plain": [
       "<IPython.core.display.HTML object>"
      ]
     },
     "metadata": {},
     "output_type": "display_data"
    }
   ],
   "source": [
    "#pad.cd()\n",
    "\n",
    "gr_2016_muon_det_unfold.SetTitle(\"2016, 2017, 2018 muon\")\n",
    "gr_2016_muon_det_unfold.Draw(\"AP\")\n",
    "gr_2017_muon_det_unfold.Draw(\"P same\")\n",
    "gr_2018_muon_det_unfold.Draw(\"P same\")\n",
    "gr_2016_muon_det_unfold.SetMarkerStyle(20)\n",
    "gr_2016_muon_det_unfold.SetMarkerSize(1)\n",
    "gr_2017_muon_det_unfold.SetMarkerStyle(25)\n",
    "gr_2017_muon_det_unfold.SetMarkerSize(1)\n",
    "gr_2018_muon_det_unfold.SetMarkerStyle(26)\n",
    "gr_2018_muon_det_unfold.SetMarkerSize(1)\n",
    "\n",
    "gr_2016_muon_det.Draw(\"P SAME\")\n",
    "gr_2016_muon_det.SetMarkerStyle(20)\n",
    "gr_2016_muon_det.SetMarkerSize(1)\n",
    "gr_2016_muon_det.SetMarkerColor(rt.kBlue)\n",
    "gr_2016_muon_det.SetLineColor(rt.kBlue)\n",
    "gr_2017_muon_det.Draw(\"P SAME\")\n",
    "gr_2017_muon_det.SetMarkerStyle(25)\n",
    "gr_2017_muon_det.SetMarkerSize(1)\n",
    "gr_2017_muon_det.SetMarkerColor(rt.kBlue)\n",
    "gr_2017_muon_det.SetLineColor(rt.kBlue)\n",
    "gr_2018_muon_det.Draw(\"P SAME\")\n",
    "gr_2018_muon_det.SetMarkerStyle(26)\n",
    "gr_2018_muon_det.SetMarkerSize(1)\n",
    "gr_2018_muon_det.SetMarkerColor(rt.kBlue)\n",
    "gr_2018_muon_det.SetLineColor(rt.kBlue)\n",
    "\n",
    "gr_2016_muon_fsr_unfold.Draw(\"P same\")\n",
    "gr_2016_muon_fsr_unfold.SetMarkerStyle(20)\n",
    "gr_2016_muon_fsr_unfold.SetMarkerColor(rt.kRed)\n",
    "gr_2016_muon_fsr_unfold.SetLineColor(rt.kRed)\n",
    "gr_2016_muon_fsr_unfold.SetMarkerSize(1)\n",
    "gr_2017_muon_fsr_unfold.Draw(\"P same\")\n",
    "gr_2017_muon_fsr_unfold.SetMarkerStyle(25)\n",
    "gr_2017_muon_fsr_unfold.SetMarkerColor(rt.kRed)\n",
    "gr_2017_muon_fsr_unfold.SetLineColor(rt.kRed)\n",
    "gr_2017_muon_fsr_unfold.SetMarkerSize(1)\n",
    "gr_2018_muon_fsr_unfold.Draw(\"P same\")\n",
    "gr_2018_muon_fsr_unfold.SetMarkerStyle(26)\n",
    "gr_2018_muon_fsr_unfold.SetMarkerColor(rt.kRed)\n",
    "gr_2018_muon_fsr_unfold.SetLineColor(rt.kRed)\n",
    "gr_2018_muon_fsr_unfold.SetMarkerSize(1)\n",
    "\n",
    "gr_2016_muon_det_unfold.GetYaxis().SetRangeUser(10., 30.)\n",
    "gr_2016_muon_det_unfold.GetXaxis().SetLimits(35., 350.)\n",
    "gr_2016_muon_det_unfold.GetYaxis().SetTitle(\"Dilepton p_{T} [GeV]\")\n",
    "gr_2016_muon_det_unfold.GetXaxis().SetTitle(\"Dilepton Mass [GeV]\")\n",
    "gr_2016_muon_det_unfold.GetXaxis().SetTitleOffset(1.2)\n",
    "gr_2016_muon_det_unfold.GetXaxis().SetMoreLogLabels(True)\n",
    "\n",
    "CMS_lumi.extraText = \"Work in progress\"\n",
    "CMS_lumi.CMS_lumi(c_PtVsMass, 0, 11)\n",
    "\n",
    "legend = rt.TLegend(0.7, 0.3, 0.9, 0.5)\n",
    "legend.SetBorderSize(1);\n",
    "legend.AddEntry(gr_2016_muon_det_unfold, \"Detector data 2016\", \"ple\")\n",
    "legend.Draw()\n",
    "\n",
    "# Linear fit\n",
    "fitLinear = rt.TF1(\"f_lepton\", \"[0]+[1]*log(x)\", 10., 400.);\n",
    "fitLinear.SetLineStyle(2)\n",
    "fitLinear.SetLineColor(rt.kBlue)\n",
    "fitLinear.SetLineWidth(1)\n",
    "\n",
    "gr_2016_muon_fsr_unfold.Fit(fitLinear, \"R0\")\n",
    "c_PtVsMass.Draw()"
   ]
  },
  {
   "cell_type": "code",
   "execution_count": 20,
   "metadata": {},
   "outputs": [],
   "source": [
    "%jsroot on"
   ]
  },
  {
   "cell_type": "code",
   "execution_count": 17,
   "metadata": {
    "scrolled": false
   },
   "outputs": [
    {
     "name": "stderr",
     "output_type": "stream",
     "text": [
      "Info in <TCanvas::Print>: pdf file Muon.pdf has been created\n"
     ]
    }
   ],
   "source": [
    "c_PtVsMass.SaveAs(\"Muon.pdf\")"
   ]
  },
  {
   "cell_type": "code",
   "execution_count": null,
   "metadata": {},
   "outputs": [],
   "source": []
  }
 ],
 "metadata": {
  "kernelspec": {
   "display_name": "Python 3",
   "language": "python",
   "name": "python3"
  },
  "language_info": {
   "codemirror_mode": {
    "name": "ipython",
    "version": 3
   },
   "file_extension": ".py",
   "mimetype": "text/x-python",
   "name": "python",
   "nbconvert_exporter": "python",
   "pygments_lexer": "ipython3",
   "version": "3.6.8"
  }
 },
 "nbformat": 4,
 "nbformat_minor": 4
}
