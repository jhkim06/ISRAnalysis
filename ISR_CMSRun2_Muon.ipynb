{
 "cells": [
  {
   "cell_type": "code",
   "execution_count": null,
   "metadata": {},
   "outputs": [],
   "source": [
    "import os\n",
    "import sys\n",
    "from array import array\n",
    "import ROOT as rt\n",
    "\n",
    "import pyScripts.unfoldUtil as unfoldutil"
   ]
  },
  {
   "cell_type": "code",
   "execution_count": null,
   "metadata": {},
   "outputs": [],
   "source": [
    "class ISRAnalysis:\n",
    "    \n",
    "    def __init__(self, year_ = \"2016\", channel_= \"electron\", matrix_filekey_ = \"matrix\",\n",
    "                 matrix_dirPath_ = \"Detector_Dressed_DRp1_Fiducial\", matrix_histName_ = \"Detector_Dressed_DRp1\"):\n",
    "        \n",
    "        # 디텍터 언폴딩 디렉토리 경로 & 매트릭스 이름 \n",
    "        self.matrix_filekey = matrix_filekey_\n",
    "        self.matrix_dirPath  = matrix_dirPath_\n",
    "        self.matrix_histName = matrix_histName_\n",
    "        \n",
    "        self.channel = channel_\n",
    "        self.year = year_\n",
    "        self.nMassBins = None\n",
    "       \n",
    "        # Set data and Drell-Yan input histogram names\n",
    "        dataHistPostfix = \"Double\"\n",
    "        if self.channel == \"electron\":\n",
    "            dataHistPostfix = dataHistPostfix + \"EG\"\n",
    "            if self.year == \"2018\":\n",
    "                dataHistPostfix = \"EGamma\"\n",
    "        if self.channel == \"muon\":\n",
    "            dataHistPostfix = dataHistPostfix + \"Muon\"\n",
    "        self.dataHistName = \"histo_\"+dataHistPostfix+\"nominal\"\n",
    "            \n",
    "        self.dy10to50HistName = \"DYJets10to50\"\n",
    "        MG_postfix = \"_MG\"\n",
    "        if self.year != \"2016\":\n",
    "            self.dy10to50HistName += MG_postfix\n",
    "        \n",
    "        # 아웃풋 디렉토리\n",
    "        self.outDirPath = \"output/\"+self.year+\"/new_\"+self.channel+\"/\"\n",
    "        # 인풋 히스토그램 텍스트파일\n",
    "        self.inHistPathTxt = \"inFiles/\"+self.year+\"/\"+self.channel+\"/fhist.txt\"\n",
    "    \n",
    "        # Make output directory\n",
    "        if not os.path.exists(self.outDirPath):\n",
    "            os.makedirs(self.outDirPath)\n",
    "    \n",
    "        # Read text file including root file paths for unfolding\n",
    "        self.filePaths = open(self.inHistPathTxt, 'r')\n",
    "        self.inHistDic = {}\n",
    "        \n",
    "        for path in self.filePaths:\n",
    "            modifiedPath = path.lstrip(' ').rstrip(' ').rstrip('\\n')\n",
    "            self.inHistDic[modifiedPath.split()[1]] = modifiedPath.split()[2]\n",
    "        \n",
    "        # 언폴딩 컨피규레이션\n",
    "        self.bias = 1.0\n",
    "        self.mode = 0 # 레귤라이제이션 모드\n",
    "        \n",
    "        # Create ISRUnfold object\n",
    "        self.unfold = rt.ISRUnfold(self.channel, int(self.year), int(self.mode))\n",
    "        self.unfold.setOutputBaseDir(self.outDirPath)\n",
    "        self.unfold.setBias(self.bias)\n",
    "        \n",
    "        # Set response matrix\n",
    "        self.unfold.setNomResMatrix(\"Pt\", self.inHistDic[self.matrix_filekey], self.matrix_dirPath, self.matrix_histName)\n",
    "        self.unfold.setNomResMatrix(\"Mass\", self.inHistDic[self.matrix_filekey], self.matrix_dirPath, self.matrix_histName)\n",
    "        \n",
    "    def setInputHist(self, useMCInput = False, useUnfoldOut = False, unfoldObj = None):\n",
    "        \n",
    "        inputHistName = self.dataHistName\n",
    "        if useMCInput == True:\n",
    "            if self.channel == \"electron\":\n",
    "                inputHistName = \"histo_DYJetsToEEnominal\"\n",
    "            else :\n",
    "                inputHistName = \"histo_DYJetsToMuMunominal\"\n",
    "        \n",
    "        if useUnfoldOut == False:\n",
    "            self.unfold.setUnfInput(\"Pt\",   self.inHistDic['hist'], \"Detector\", inputHistName, False, \"nominal\", 0)\n",
    "            self.unfold.setUnfInput(\"Mass\", self.inHistDic['hist'], \"Detector\", inputHistName, False, \"nominal\", 0)\n",
    "        else:\n",
    "            self.unfold.setUnfInput(unfoldObj, \"Pt\", False, \"\", 0)\n",
    "            self.unfold.setUnfInput(unfoldObj, \"Mass\", False, \"\", 0)\n",
    "            \n",
    "    def subFake(self):\n",
    "        \n",
    "        fakeList = {\"DYJets\": \"DY\", self.dy10to50HistName:\"DY\"}\n",
    "        \n",
    "        for fake in fakeList.items():\n",
    "            self.unfold.subBkgs(self.inHistDic['matrix'], fake, False, \"\", 0, -1, \"detector_level_DY_Fake\")\n",
    "        \n",
    "    def setUnfoldBkgs(self, doSystematic = False , systName = \"nominal\", nthSys = 0, nTotSys = -1):\n",
    "   \n",
    "        bkgList = {}\n",
    "        # 2016 데이터만 single top 샘플을 갖고 있다 \n",
    "        if self.year == \"2016\" :\n",
    "            bkgList = {\"WJets_MG\": \"WJets\", \\\n",
    "                       \"WW_pythia\": \"EWK\", \"WZ_pythia\": \"EWK\", \"ZZ_pythia\": \"EWK\", \\\n",
    "                       \"DYJets10to50ToTauTau\":\"EWK\", \"DYJetsToTauTau\":\"EWK\", \\\n",
    "                       \"TTLL_powheg\": \"Top\", \"SingleTop_tW_top_Incl\": \"Top\", \"SingleTop_tW_antitop_Incl\": \"Top\"}\n",
    "        else :\n",
    "            bkgList = {\"WJets_MG\": \"WJets\", \\\n",
    "                       \"WW_pythia\": \"EWK\", \"WZ_pythia\": \"EWK\", \"ZZ_pythia\": \"EWK\", \\\n",
    "                       \"DYJets10to50ToTauTau\":\"EWK\", \"DYJetsToTauTau\":\"EWK\", \\\n",
    "                       \"TTLL_powheg\": \"Top\"}\n",
    "        \n",
    "        for bkg in bkgList.items():\n",
    "            self.unfold.subBkgs(self.inHistDic['hist'], bkg, doSystematic, systName, nTotSys, nthSys, \"Detector\")\n",
    "            \n",
    "    # Do unfold! \n",
    "    def doUnfold(self, doSystematic = False):\n",
    "        self.unfold.doISRUnfold(doSystematic)\n",
    "        \n",
    "        # Set mean mass and pt values\n",
    "        self.nMassBins = self.unfold.setMeanMass()\n",
    "        self.unfold.setMeanPt()\n",
    "    \n",
    "    def getISRUnfold(self):\n",
    "        \n",
    "        return self.unfold\n",
    "    \n",
    "    # Get histograms\n",
    "    def getPtVsMassTGraph(self, grTitle = \"\", isUnfolded = True):\n",
    "        meanMass, meanPt = array('d'), array('d')\n",
    "        meanMassStatErr, meanPtStatErr = array('d'), array('d')\n",
    "\n",
    "        for ibin in range(self.nMassBins):\n",
    "           \n",
    "            if isUnfolded:\n",
    "                meanMass.append(self.unfold.getUnfMeanMass(ibin))\n",
    "                meanPt.append(self.unfold.getUnfMeanPt(ibin))\n",
    "                meanMassStatErr.append(self.unfold.getUnfMeanMassError(ibin))\n",
    "                meanPtStatErr.append(self.unfold.getUnfMeanPtError(ibin))\n",
    "            else:\n",
    "                meanMass.append(self.unfold.getDetMeanMass(ibin))\n",
    "                meanPt.append(self.unfold.getDetMeanPt(ibin))\n",
    "                meanMassStatErr.append(self.unfold.getDetMeanMassError(ibin))\n",
    "                meanPtStatErr.append(self.unfold.getDetMeanPtError(ibin))\n",
    "            \n",
    "        gr = rt.TGraphErrors(self.nMassBins, meanMass, meanPt, meanMassStatErr, meanPtStatErr)\n",
    "        gr.SetName(grTitle)\n",
    "        return gr"
   ]
  },
  {
   "cell_type": "code",
   "execution_count": null,
   "metadata": {},
   "outputs": [],
   "source": [
    "import gc                                                                                                                                                                            \n",
    "gc.collect() "
   ]
  },
  {
   "cell_type": "code",
   "execution_count": null,
   "metadata": {},
   "outputs": [],
   "source": [
    "detUnfold_muon_2016 = ISRAnalysis(\"2016\", \"muon\")"
   ]
  },
  {
   "cell_type": "code",
   "execution_count": null,
   "metadata": {},
   "outputs": [],
   "source": [
    "detUnfold_muon_2017 = ISRAnalysis(\"2017\", \"muon\")\n",
    "detUnfold_muon_2018 = ISRAnalysis(\"2018\", \"muon\")"
   ]
  },
  {
   "cell_type": "code",
   "execution_count": null,
   "metadata": {},
   "outputs": [],
   "source": [
    "fsrUnfold_muon_2016 = ISRAnalysis(\"2016\", \"muon\", \"fsr_matrix\", \n",
    "                                      \"Dressed_DRp1_Dressed_DR4PI_FullPhase\", \"Dressed_DRp1_Dressed_DR4PI\")\n",
    "\n",
    "fsrUnfold_muon_2017 = ISRAnalysis(\"2017\", \"muon\", \"fsr_matrix\", \n",
    "                                      \"Dressed_DRp1_Dressed_DR4PI_FullPhase\", \"Dressed_DRp1_Dressed_DR4PI\")\n",
    "\n",
    "fsrUnfold_muon_2018 = ISRAnalysis(\"2018\", \"muon\", \"fsr_matrix\", \n",
    "                                      \"Dressed_DRp1_Dressed_DR4PI_FullPhase\", \"Dressed_DRp1_Dressed_DR4PI\")"
   ]
  },
  {
   "cell_type": "code",
   "execution_count": null,
   "metadata": {},
   "outputs": [],
   "source": [
    "detUnfold_muon_2016.setInputHist()\n",
    "detUnfold_muon_2016.setUnfoldBkgs()\n",
    "\n",
    "detUnfold_muon_2017.setInputHist()\n",
    "detUnfold_muon_2017.setUnfoldBkgs()\n",
    "\n",
    "detUnfold_muon_2018.setInputHist()\n",
    "detUnfold_muon_2018.setUnfoldBkgs()"
   ]
  },
  {
   "cell_type": "code",
   "execution_count": null,
   "metadata": {},
   "outputs": [],
   "source": [
    "detUnfold_muon_2016.subFake()\n",
    "detUnfold_muon_2017.subFake()\n",
    "detUnfold_muon_2018.subFake()"
   ]
  },
  {
   "cell_type": "code",
   "execution_count": null,
   "metadata": {},
   "outputs": [],
   "source": [
    "detUnfold_muon_2016.doUnfold()\n",
    "detUnfold_muon_2017.doUnfold()\n",
    "detUnfold_muon_2018.doUnfold()"
   ]
  },
  {
   "cell_type": "code",
   "execution_count": null,
   "metadata": {},
   "outputs": [],
   "source": [
    "gr_2016_muon_det_unfold =  detUnfold_muon_2016.getPtVsMassTGraph(\"2016MuonDetUnf\")\n",
    "gr_2017_muon_det_unfold =  detUnfold_muon_2017.getPtVsMassTGraph(\"2017MuonDefUnf\")\n",
    "gr_2018_muon_det_unfold =  detUnfold_muon_2018.getPtVsMassTGraph(\"2018MuonDefUnf\")\n",
    "\n",
    "gr_2016_muon_det =  detUnfold_muon_2016.getPtVsMassTGraph(\"2016MuonDet\", False)\n",
    "gr_2017_muon_det =  detUnfold_muon_2017.getPtVsMassTGraph(\"2017MuonDet\", False)\n",
    "gr_2018_muon_det =  detUnfold_muon_2018.getPtVsMassTGraph(\"2018MuonDet\", False)"
   ]
  },
  {
   "cell_type": "code",
   "execution_count": null,
   "metadata": {},
   "outputs": [],
   "source": [
    "fsrUnfold_muon_2016.setInputHist(False, True, detUnfold_muon_2016.getISRUnfold())\n",
    "fsrUnfold_muon_2016.doUnfold()\n",
    "\n",
    "fsrUnfold_muon_2017.setInputHist(False, True, detUnfold_muon_2017.getISRUnfold())\n",
    "fsrUnfold_muon_2017.doUnfold()\n",
    "\n",
    "fsrUnfold_muon_2018.setInputHist(False, True, detUnfold_muon_2018.getISRUnfold())\n",
    "fsrUnfold_muon_2018.doUnfold()"
   ]
  },
  {
   "cell_type": "code",
   "execution_count": null,
   "metadata": {},
   "outputs": [],
   "source": [
    "gr_2016_muon_fsr_unfold = fsrUnfold_muon_2016.getPtVsMassTGraph(\"2016MuonFSRUnf\")\n",
    "gr_2017_muon_fsr_unfold = fsrUnfold_muon_2017.getPtVsMassTGraph(\"2017MuonFSRUnf\")\n",
    "gr_2018_muon_fsr_unfold = fsrUnfold_muon_2018.getPtVsMassTGraph(\"2018MuonFSRUnf\")"
   ]
  },
  {
   "cell_type": "code",
   "execution_count": null,
   "metadata": {},
   "outputs": [],
   "source": [
    "c_PtVsMass = rt.TCanvas(\"PtVsMass\",\"PtVsMass\", 1000, 600)\n",
    "c_PtVsMass.SetGridx()\n",
    "c_PtVsMass.SetGridy()\n",
    "c_PtVsMass.SetLogx()"
   ]
  },
  {
   "cell_type": "code",
   "execution_count": null,
   "metadata": {},
   "outputs": [],
   "source": [
    "gr_2016_muon_det_unfold.SetTitle(\"2016, 2017, 2018 muon\")\n",
    "gr_2016_muon_det_unfold.Draw(\"AP\")\n",
    "gr_2017_muon_det_unfold.Draw(\"P same\")\n",
    "gr_2018_muon_det_unfold.Draw(\"P same\")\n",
    "gr_2016_muon_det_unfold.SetMarkerStyle(20)\n",
    "gr_2016_muon_det_unfold.SetMarkerSize(1)\n",
    "gr_2017_muon_det_unfold.SetMarkerStyle(25)\n",
    "gr_2017_muon_det_unfold.SetMarkerSize(1)\n",
    "gr_2018_muon_det_unfold.SetMarkerStyle(26)\n",
    "gr_2018_muon_det_unfold.SetMarkerSize(1)\n",
    "\n",
    "gr_2016_muon_det.Draw(\"P SAME\")\n",
    "gr_2016_muon_det.SetMarkerStyle(20)\n",
    "gr_2016_muon_det.SetMarkerSize(1)\n",
    "gr_2016_muon_det.SetMarkerColor(rt.kBlue)\n",
    "gr_2016_muon_det.SetLineColor(rt.kBlue)\n",
    "gr_2017_muon_det.Draw(\"P SAME\")\n",
    "gr_2017_muon_det.SetMarkerStyle(25)\n",
    "gr_2017_muon_det.SetMarkerSize(1)\n",
    "gr_2017_muon_det.SetMarkerColor(rt.kBlue)\n",
    "gr_2017_muon_det.SetLineColor(rt.kBlue)\n",
    "gr_2018_muon_det.Draw(\"P SAME\")\n",
    "gr_2018_muon_det.SetMarkerStyle(26)\n",
    "gr_2018_muon_det.SetMarkerSize(1)\n",
    "gr_2018_muon_det.SetMarkerColor(rt.kBlue)\n",
    "gr_2018_muon_det.SetLineColor(rt.kBlue)\n",
    "\n",
    "gr_2016_muon_fsr_unfold.Draw(\"P same\")\n",
    "gr_2016_muon_fsr_unfold.SetMarkerStyle(20)\n",
    "gr_2016_muon_fsr_unfold.SetMarkerColor(rt.kRed)\n",
    "gr_2016_muon_fsr_unfold.SetLineColor(rt.kRed)\n",
    "gr_2016_muon_fsr_unfold.SetMarkerSize(1)\n",
    "gr_2017_muon_fsr_unfold.Draw(\"P same\")\n",
    "gr_2017_muon_fsr_unfold.SetMarkerStyle(25)\n",
    "gr_2017_muon_fsr_unfold.SetMarkerColor(rt.kRed)\n",
    "gr_2017_muon_fsr_unfold.SetLineColor(rt.kRed)\n",
    "gr_2017_muon_fsr_unfold.SetMarkerSize(1)\n",
    "gr_2018_muon_fsr_unfold.Draw(\"P same\")\n",
    "gr_2018_muon_fsr_unfold.SetMarkerStyle(26)\n",
    "gr_2018_muon_fsr_unfold.SetMarkerColor(rt.kRed)\n",
    "gr_2018_muon_fsr_unfold.SetLineColor(rt.kRed)\n",
    "gr_2018_muon_fsr_unfold.SetMarkerSize(1)\n",
    "\n",
    "gr_2016_muon_det_unfold.GetYaxis().SetRangeUser(5., 40.)\n",
    "gr_2016_muon_det_unfold.GetXaxis().SetLimits(10., 500.)\n",
    "\n",
    "# Linear fit\n",
    "fitLinear = rt.TF1(\"f_lepton\", \"[0]+[1]*log(x)\", 10., 400.);\n",
    "fitLinear.SetLineStyle(2)\n",
    "fitLinear.SetLineColor(rt.kBlue)\n",
    "fitLinear.SetLineWidth(1)\n",
    "gr_2016_muon_fsr_unfold.Fit(fitLinear, \"R0\")\n",
    "c_PtVsMass.Draw()"
   ]
  },
  {
   "cell_type": "code",
   "execution_count": null,
   "metadata": {},
   "outputs": [],
   "source": [
    "%jsroot on"
   ]
  },
  {
   "cell_type": "code",
   "execution_count": null,
   "metadata": {
    "scrolled": false
   },
   "outputs": [],
   "source": [
    "c_PtVsMass.SaveAs(\"Muon.pdf\")"
   ]
  },
  {
   "cell_type": "code",
   "execution_count": null,
   "metadata": {},
   "outputs": [],
   "source": []
  }
 ],
 "metadata": {
  "kernelspec": {
   "display_name": "Python 3",
   "language": "python",
   "name": "python3"
  },
  "language_info": {
   "codemirror_mode": {
    "name": "ipython",
    "version": 3
   },
   "file_extension": ".py",
   "mimetype": "text/x-python",
   "name": "python",
   "nbconvert_exporter": "python",
   "pygments_lexer": "ipython3",
   "version": "3.6.8"
  }
 },
 "nbformat": 4,
 "nbformat_minor": 4
}
