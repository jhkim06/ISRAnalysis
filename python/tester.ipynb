{
 "cells": [
  {
   "cell_type": "code",
   "execution_count": 2,
   "id": "4891357e-5310-4605-bb0c-7076212ac2de",
   "metadata": {},
   "outputs": [
    {
     "name": "stdout",
     "output_type": "stream",
     "text": [
      "Welcome to JupyROOT 6.26/00\n"
     ]
    }
   ],
   "source": [
    "import ROOT as rt\n",
    "import uproot as uprt"
   ]
  },
  {
   "cell_type": "code",
   "execution_count": 137,
   "id": "5128dc06-7ba0-479d-94dd-d96614c4aab2",
   "metadata": {},
   "outputs": [],
   "source": [
    "file = rt.TFile(\"./test.root\", \"recreate\")\n",
    "hist = rt.TH1D(\"test\",\"\",10, 0, 10)"
   ]
  },
  {
   "cell_type": "code",
   "execution_count": 138,
   "id": "52cb5900-e9ff-45d8-88c9-0d864cedec65",
   "metadata": {},
   "outputs": [],
   "source": [
    "#file.WriteObject(hist, \"ee2016/[tunfold;hist]_[dimass;dipt(bare)]_[folded;nominal;nominal]\")\n",
    "hist.Write(\"ee2016/[tunfold-hist]_[dimass-dipt(bare)]_[folded-nominal-nominal]\")\n",
    "file.Close()"
   ]
  },
  {
   "cell_type": "code",
   "execution_count": 139,
   "id": "e8cbb813-9d0e-495f-8b3d-d56fed709f8c",
   "metadata": {},
   "outputs": [],
   "source": [
    "file = rt.TFile.Open(\"./test.root\")\n",
    "hist = file.Get(\"ee2016/[tunfold-hist]_[dimass-dipt(bare)]_[folded-nominal-nominal]\")"
   ]
  },
  {
   "cell_type": "code",
   "execution_count": 140,
   "id": "650277c4-86e6-43c6-ba5a-c04f7ba97be0",
   "metadata": {},
   "outputs": [
    {
     "data": {
      "text/plain": [
       "<class cppyy.gbl.TH1D at 0x7ffbdac1d8a0>"
      ]
     },
     "execution_count": 140,
     "metadata": {},
     "output_type": "execute_result"
    }
   ],
   "source": [
    "type(hist)"
   ]
  },
  {
   "cell_type": "code",
   "execution_count": 96,
   "id": "ad6dfbab-8ce5-402d-8193-49d8d6cb62f2",
   "metadata": {},
   "outputs": [],
   "source": [
    "uprt_file = uprt.open(\"./test.root\")"
   ]
  },
  {
   "cell_type": "code",
   "execution_count": 99,
   "id": "1ba32a35-a3b1-4a6e-b5cd-86b1f93696fb",
   "metadata": {},
   "outputs": [
    {
     "data": {
      "text/plain": [
       "<TH1D (version 3) at 0x7ffbbebda2b0>"
      ]
     },
     "execution_count": 99,
     "metadata": {},
     "output_type": "execute_result"
    }
   ],
   "source": [
    "uprt_file[\"[tunfold;hist]_[dimass;dipt(bare)]_[folded;nominal;nominal]\"]"
   ]
  },
  {
   "cell_type": "code",
   "execution_count": 3,
   "id": "852c2aea-45cc-4abe-8c06-3edb015311f4",
   "metadata": {},
   "outputs": [],
   "source": [
    "file = rt.TFile.Open(\"../../data/Ultralegacy/mc/2017/0bjet__/ISRAnalyzer_DYJets.root\")"
   ]
  },
  {
   "cell_type": "code",
   "execution_count": 13,
   "id": "b37ed7fb-5a17-4391-8741-2e64e86f9633",
   "metadata": {},
   "outputs": [],
   "source": [
    "unfold_bin = file.Get(\"ee2017/0bjet/[tunfold-bin]_[dipt-dimass]_[folded_nominal-folded_dimass_5_v2_windows]\")"
   ]
  },
  {
   "cell_type": "code",
   "execution_count": 15,
   "id": "8f52e794-c8c5-455b-a3c7-f637b1057982",
   "metadata": {},
   "outputs": [
    {
     "data": {
      "text/plain": [
       "'#3 (ee2017/0bjet/[dipt-dimass]_[folded_nominal-folded_dimass_5_v2_windows]:dimass[ufl]:dipt[4,6])'"
      ]
     },
     "execution_count": 15,
     "metadata": {},
     "output_type": "execute_result"
    }
   ],
   "source": [
    "unfold_bin.GetBinName(3)"
   ]
  },
  {
   "cell_type": "code",
   "execution_count": 16,
   "id": "f50f5dd5-0267-471e-ba67-c89b61f104a9",
   "metadata": {},
   "outputs": [
    {
     "data": {
      "text/plain": [
       "133"
      ]
     },
     "execution_count": 16,
     "metadata": {},
     "output_type": "execute_result"
    }
   ],
   "source": [
    "unfold_bin.GetDistributionNumberOfBins()"
   ]
  },
  {
   "cell_type": "code",
   "execution_count": 17,
   "id": "458c0eef-0f3e-4274-8697-15b18535c058",
   "metadata": {},
   "outputs": [
    {
     "data": {
      "text/plain": [
       "'dipt'"
      ]
     },
     "execution_count": 17,
     "metadata": {},
     "output_type": "execute_result"
    }
   ],
   "source": [
    "unfold_bin.GetDistributionAxisLabel(0)"
   ]
  },
  {
   "cell_type": "code",
   "execution_count": 18,
   "id": "7e781392-0f9a-4a45-bae2-9d4540b4a0be",
   "metadata": {},
   "outputs": [
    {
     "data": {
      "text/plain": [
       "'dimass'"
      ]
     },
     "execution_count": 18,
     "metadata": {},
     "output_type": "execute_result"
    }
   ],
   "source": [
    "unfold_bin.GetDistributionAxisLabel(1)"
   ]
  },
  {
   "cell_type": "code",
   "execution_count": 3,
   "id": "ce8035f2-3939-487b-b754-1051f3d2ef38",
   "metadata": {},
   "outputs": [],
   "source": [
    "import re"
   ]
  },
  {
   "cell_type": "code",
   "execution_count": 4,
   "id": "3ac586a9-c4b0-46b7-8474-b206ba990e77",
   "metadata": {},
   "outputs": [],
   "source": [
    "hist_name =\"dipt-dimass\"\n",
    "matches = re.findall(r'(\\([^\\]]*\\))', hist_name)"
   ]
  },
  {
   "cell_type": "code",
   "execution_count": 5,
   "id": "b02ba317-ede5-4fb9-851f-40ffc0099130",
   "metadata": {},
   "outputs": [
    {
     "data": {
      "text/plain": [
       "[]"
      ]
     },
     "execution_count": 5,
     "metadata": {},
     "output_type": "execute_result"
    }
   ],
   "source": [
    "matches"
   ]
  },
  {
   "cell_type": "code",
   "execution_count": 6,
   "id": "f82a1e7b-34fc-4531-ab8e-8fe2092bd794",
   "metadata": {},
   "outputs": [
    {
     "data": {
      "text/plain": [
       "'dipt-dimass'"
      ]
     },
     "execution_count": 6,
     "metadata": {},
     "output_type": "execute_result"
    }
   ],
   "source": [
    "hist_name.split(\"(\")[0]"
   ]
  },
  {
   "cell_type": "code",
   "execution_count": 7,
   "id": "24ed89fc-d9c6-4e6e-b0c5-9fc6130030e6",
   "metadata": {},
   "outputs": [],
   "source": [
    "file = rt.TFile.Open(\"../../data/Ultralegacy/mc/2016a/0bjet__/ISRAnalyzer_DYJets.root\")"
   ]
  },
  {
   "cell_type": "code",
   "execution_count": 9,
   "id": "66af8f7e-e15b-4a16-952e-845ccaa40226",
   "metadata": {},
   "outputs": [
    {
     "data": {
      "text/plain": [
       "True"
      ]
     },
     "execution_count": 9,
     "metadata": {},
     "output_type": "execute_result"
    }
   ],
   "source": [
    "file.cd(\"ee2016a/0bjet\")"
   ]
  },
  {
   "cell_type": "code",
   "execution_count": 8,
   "id": "75f367ba-47db-4c8e-8db3-28b09030a767",
   "metadata": {},
   "outputs": [],
   "source": [
    "matrix = file.Get(\"ee2016a/0bjet/[tunfold-matrix]_[dipt-dimass]_[folded_nominal_O-folded_dimass_5_v2_windows_UO]_[unfolded_nominal_O-unfolded_dimass_5_v2_windows_UO]\")"
   ]
  },
  {
   "cell_type": "code",
   "execution_count": 9,
   "id": "3ae212f2-a089-416a-a6df-016ea62d2756",
   "metadata": {},
   "outputs": [
    {
     "data": {
      "text/plain": [
       "<class cppyy.gbl.TH2D at 0x7f8b7cfd9a70>"
      ]
     },
     "execution_count": 9,
     "metadata": {},
     "output_type": "execute_result"
    }
   ],
   "source": [
    "type(matrix)"
   ]
  },
  {
   "cell_type": "code",
   "execution_count": 56,
   "id": "cb5cd4d8-37c1-445f-994a-118142a64e64",
   "metadata": {},
   "outputs": [],
   "source": [
    "hist_name = \"[tunfold-matrix]_[dipt-dimass]_[folded_nominal-folded_dimass_5_v2_windows]_[unfolded_nominal-unfolded_dimass_5_v2_windows]\"\n",
    "#matches = re.findall(r'\\[[^]]*]', hist_name)\n",
    "matches = re.findall(r'\\[([^]]*)]', hist_name)"
   ]
  },
  {
   "cell_type": "code",
   "execution_count": 65,
   "id": "0734baec-c90a-4d93-911d-a748c78a550b",
   "metadata": {},
   "outputs": [
    {
     "data": {
      "text/plain": [
       "['tunfold-matrix',\n",
       " 'dipt-dimass',\n",
       " 'folded_nominal-folded_dimass_5_v2_windows',\n",
       " 'unfolded_nominal-unfolded_dimass_5_v2_windows']"
      ]
     },
     "execution_count": 65,
     "metadata": {},
     "output_type": "execute_result"
    }
   ],
   "source": [
    "matches"
   ]
  },
  {
   "cell_type": "code",
   "execution_count": 86,
   "id": "758f976c-7c5c-4270-8107-705ccc621274",
   "metadata": {},
   "outputs": [],
   "source": [
    "var_name = ['dimass', 'dipt']"
   ]
  },
  {
   "cell_type": "code",
   "execution_count": 89,
   "id": "276fd75c-117a-4647-9e8c-18c2b99a11aa",
   "metadata": {},
   "outputs": [
    {
     "name": "stdout",
     "output_type": "stream",
     "text": [
      "<class 'list'>\n"
     ]
    }
   ],
   "source": [
    "print(type(var_name))"
   ]
  },
  {
   "cell_type": "code",
   "execution_count": 88,
   "id": "7cef25e5-d723-48e5-a597-4e93b53f493d",
   "metadata": {},
   "outputs": [],
   "source": [
    "var_name.reverse()"
   ]
  },
  {
   "cell_type": "code",
   "execution_count": 83,
   "id": "d6d33e79-14d0-42c5-812e-14b3eb0e9ca4",
   "metadata": {},
   "outputs": [
    {
     "data": {
      "text/plain": [
       "['dipt', 'dimass']"
      ]
     },
     "execution_count": 83,
     "metadata": {},
     "output_type": "execute_result"
    }
   ],
   "source": [
    "var_name"
   ]
  },
  {
   "cell_type": "code",
   "execution_count": 90,
   "id": "b4c29548-2b84-4d77-ace7-7dffcb593513",
   "metadata": {},
   "outputs": [
    {
     "data": {
      "text/plain": [
       "'dipt-dimass'"
      ]
     },
     "execution_count": 90,
     "metadata": {},
     "output_type": "execute_result"
    }
   ],
   "source": [
    "\"-\".join(var_name)"
   ]
  },
  {
   "cell_type": "code",
   "execution_count": 69,
   "id": "edc558c0-d323-4c95-a87f-9711df5c2214",
   "metadata": {},
   "outputs": [],
   "source": [
    "test = matches[2].split(\"-\")\n",
    "test.reverse()"
   ]
  },
  {
   "cell_type": "code",
   "execution_count": 71,
   "id": "dfa30e22-198c-4dfd-b511-0c2e8006ce7c",
   "metadata": {},
   "outputs": [
    {
     "data": {
      "text/plain": [
       "'folded_dimass_5_v2_windows-folded_nominal'"
      ]
     },
     "execution_count": 71,
     "metadata": {},
     "output_type": "execute_result"
    }
   ],
   "source": [
    "\"-\".join(test)"
   ]
  },
  {
   "cell_type": "code",
   "execution_count": null,
   "id": "d4d11b57-8164-4359-bb91-19b3654d53be",
   "metadata": {},
   "outputs": [],
   "source": [
    "\n",
    "matches[1].split(\"(\")[0]+\"]_\" + \"_\".join(matches[2:])"
   ]
  },
  {
   "cell_type": "code",
   "execution_count": 20,
   "id": "abb63d09-a066-4d05-b168-10f3f41ccb98",
   "metadata": {},
   "outputs": [
    {
     "data": {
      "text/plain": [
       "'[dipt-dimass]'"
      ]
     },
     "execution_count": 20,
     "metadata": {},
     "output_type": "execute_result"
    }
   ],
   "source": [
    "matches[1]"
   ]
  },
  {
   "cell_type": "code",
   "execution_count": 21,
   "id": "09be65bb-db93-464c-bc32-ff801ef0854e",
   "metadata": {},
   "outputs": [
    {
     "data": {
      "text/plain": [
       "'[dipt-dimass]'"
      ]
     },
     "execution_count": 21,
     "metadata": {},
     "output_type": "execute_result"
    }
   ],
   "source": [
    "re.sub(r'(\\([^\\]]*\\))', '', matches[1])"
   ]
  },
  {
   "cell_type": "code",
   "execution_count": 200,
   "id": "2ff737e8-1ca2-4a64-b4d9-1d0b4f485fbe",
   "metadata": {},
   "outputs": [],
   "source": [
    "uprt_file = uprt.open(\"../../data/Ultralegacy/mc/2016a/0bjet__/ISRAnalyzer_DYJets.root\")"
   ]
  },
  {
   "cell_type": "code",
   "execution_count": 209,
   "id": "be3baa81-94aa-47a7-9830-709bd03cfed7",
   "metadata": {},
   "outputs": [],
   "source": [
    "matrix = uprt_file['ee2016a/0bjet/[tunfold-matrix]_[dipt-dimass]_[folded_nominal-folded_dimass_5_v2_windows]_[unfolded_nominal-unfolded_dimass_5_v2_windows]']"
   ]
  },
  {
   "cell_type": "code",
   "execution_count": 210,
   "id": "dbb187ae-7b5b-4c15-984b-07d383e0a9ff",
   "metadata": {},
   "outputs": [
    {
     "data": {
      "text/plain": [
       "(array([[3.91733501e+03, 7.31461108e+03, 1.76142959e+03, ...,\n",
       "         0.00000000e+00, 0.00000000e+00, 0.00000000e+00],\n",
       "        [5.10211339e+01, 1.23102509e+03, 6.17476914e+03, ...,\n",
       "         0.00000000e+00, 0.00000000e+00, 0.00000000e+00],\n",
       "        [4.56054787e+00, 9.59804775e-01, 6.72527821e+01, ...,\n",
       "         0.00000000e+00, 0.00000000e+00, 0.00000000e+00],\n",
       "        ...,\n",
       "        [0.00000000e+00, 0.00000000e+00, 0.00000000e+00, ...,\n",
       "         4.19395496e+00, 8.07890617e-01, 3.36554083e+00],\n",
       "        [0.00000000e+00, 0.00000000e+00, 0.00000000e+00, ...,\n",
       "         1.05888526e+03, 8.14344458e+01, 6.09996615e+00],\n",
       "        [0.00000000e+00, 0.00000000e+00, 0.00000000e+00, ...,\n",
       "         8.48241694e+01, 9.17953710e+02, 7.09025475e+02]]),\n",
       " array([ 0.5,  1.5,  2.5,  3.5,  4.5,  5.5,  6.5,  7.5,  8.5,  9.5, 10.5,\n",
       "        11.5, 12.5, 13.5, 14.5, 15.5, 16.5, 17.5, 18.5, 19.5, 20.5, 21.5,\n",
       "        22.5, 23.5, 24.5, 25.5, 26.5, 27.5, 28.5, 29.5, 30.5, 31.5, 32.5,\n",
       "        33.5, 34.5, 35.5, 36.5, 37.5, 38.5, 39.5, 40.5, 41.5, 42.5, 43.5,\n",
       "        44.5, 45.5]),\n",
       " array([ 0.5,  1.5,  2.5,  3.5,  4.5,  5.5,  6.5,  7.5,  8.5,  9.5, 10.5,\n",
       "        11.5, 12.5, 13.5, 14.5, 15.5, 16.5, 17.5, 18.5, 19.5, 20.5, 21.5,\n",
       "        22.5, 23.5, 24.5, 25.5, 26.5, 27.5, 28.5, 29.5, 30.5, 31.5, 32.5,\n",
       "        33.5, 34.5, 35.5, 36.5, 37.5, 38.5, 39.5, 40.5, 41.5, 42.5, 43.5,\n",
       "        44.5, 45.5, 46.5, 47.5, 48.5, 49.5, 50.5, 51.5, 52.5, 53.5, 54.5,\n",
       "        55.5, 56.5, 57.5, 58.5, 59.5, 60.5, 61.5, 62.5, 63.5, 64.5, 65.5,\n",
       "        66.5, 67.5, 68.5, 69.5, 70.5, 71.5, 72.5, 73.5, 74.5, 75.5, 76.5,\n",
       "        77.5, 78.5, 79.5, 80.5, 81.5, 82.5, 83.5, 84.5, 85.5, 86.5, 87.5,\n",
       "        88.5, 89.5, 90.5]))"
      ]
     },
     "execution_count": 210,
     "metadata": {},
     "output_type": "execute_result"
    }
   ],
   "source": [
    "matrix.to_numpy()"
   ]
  },
  {
   "cell_type": "code",
   "execution_count": 211,
   "id": "ba63e0ea-a1e0-4eee-97f6-ba35bdf833d7",
   "metadata": {},
   "outputs": [],
   "source": [
    "import mplhep as hep\n",
    "import Plotter\n",
    "import matplotlib.pyplot as plt\n",
    "import matplotlib as mpl"
   ]
  },
  {
   "cell_type": "code",
   "execution_count": 212,
   "id": "d3f64e40-4e42-4c91-b7d1-bde408716b36",
   "metadata": {},
   "outputs": [
    {
     "data": {
      "text/plain": [
       "ColormeshArtists(pcolormesh=<matplotlib.collections.QuadMesh object at 0x7ffbc0568490>, cbar=<matplotlib.colorbar.Colorbar object at 0x7ffbc0568a00>, text=[])"
      ]
     },
     "execution_count": 212,
     "metadata": {},
     "output_type": "execute_result"
    },
    {
     "data": {
      "image/png": "[encoded data removed]",
      "text/plain": [
       "<Figure size 1000x1000 with 2 Axes>"
      ]
     },
     "metadata": {},
     "output_type": "display_data"
    }
   ],
   "source": [
    "hep.hist2dplot(matrix.to_numpy())"
   ]
  },
  {
   "cell_type": "code",
   "execution_count": 213,
   "id": "5e7a0e94-851b-4525-913a-42dc7014f237",
   "metadata": {},
   "outputs": [],
   "source": [
    "plot_1_col_1_row = Plotter.Plotter(1, 1, figsize=(8,8))\n",
    "plt.subplots_adjust(left=0.15, right=0.9, bottom=0.15, top=0.85)\n",
    "current_plot = plot_1_col_1_row\n",
    "current_plot.clear_all_axis()\n",
    "\n",
    "axis = current_plot.get_axis(0, 0)\n",
    "hep.hist2dplot(matrix.to_numpy(), norm=mpl.colors.LogNorm())\n",
    "hep.cms.label(\"Simulation\", data=True, year=\"Run2\", ax=axis, fontsize=20, loc=0)\n",
    "\n",
    "axis.set_ylabel(\"(Reco)\", fontsize=20)\n",
    "axis.set_xlabel(\"(Gen)\", fontsize=20)\n",
    "current_plot.save_plot(\"matrix\")\n",
    "plt.close()"
   ]
  },
  {
   "cell_type": "code",
   "execution_count": 1,
   "id": "e5cd3baf-b444-40a1-813a-1fc6ec0643fb",
   "metadata": {},
   "outputs": [
    {
     "data": {
      "text/plain": [
       "1"
      ]
     },
     "execution_count": 1,
     "metadata": {},
     "output_type": "execute_result"
    }
   ],
   "source": [
    "abs(-1)"
   ]
  },
  {
   "cell_type": "code",
   "execution_count": null,
   "id": "664f3d12-f59e-4b2c-ad52-adbf07b6ab6f",
   "metadata": {},
   "outputs": [],
   "source": []
  }
 ],
 "metadata": {
  "kernelspec": {
   "display_name": "Python 3 (ipykernel)",
   "language": "python",
   "name": "python3"
  },
  "language_info": {
   "codemirror_mode": {
    "name": "ipython",
    "version": 3
   },
   "file_extension": ".py",
   "mimetype": "text/x-python",
   "name": "python",
   "nbconvert_exporter": "python",
   "pygments_lexer": "ipython3",
   "version": "3.9.12"
  }
 },
 "nbformat": 4,
 "nbformat_minor": 5
}
