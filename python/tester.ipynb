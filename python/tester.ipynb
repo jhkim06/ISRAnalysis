{
 "cells": [
  {
   "cell_type": "code",
   "execution_count": 1,
   "id": "4891357e-5310-4605-bb0c-7076212ac2de",
   "metadata": {},
   "outputs": [
    {
     "name": "stdout",
     "output_type": "stream",
     "text": [
      "Welcome to JupyROOT 6.26/00\n"
     ]
    }
   ],
   "source": [
    "import ROOT as rt"
   ]
  },
  {
   "cell_type": "code",
   "execution_count": 2,
   "id": "852c2aea-45cc-4abe-8c06-3edb015311f4",
   "metadata": {},
   "outputs": [],
   "source": [
    "file = rt.TFile.Open(\"../../data/Ultralegacy/ee/2016a/ISRAnalyzer_DYJets.root\")"
   ]
  },
  {
   "cell_type": "code",
   "execution_count": 8,
   "id": "b37ed7fb-5a17-4391-8741-2e64e86f9633",
   "metadata": {},
   "outputs": [],
   "source": [
    "unfold_bin = file.Get(\"ee2016a/[tunfold-bin]_[dipt-dimass]_[folded_extended-folded_dimass55]\")"
   ]
  },
  {
   "cell_type": "code",
   "execution_count": 13,
   "id": "8f52e794-c8c5-455b-a3c7-f637b1057982",
   "metadata": {},
   "outputs": [
    {
     "data": {
      "text/plain": [
       "'#3 (ee2016a/[dipt-dimass]_[folded_extended-folded_dimass55]:dimass[ufl]:dipt[2,3])'"
      ]
     },
     "execution_count": 13,
     "metadata": {},
     "output_type": "execute_result"
    }
   ],
   "source": [
    "unfold_bin.GetBinName(3)"
   ]
  },
  {
   "cell_type": "code",
   "execution_count": 14,
   "id": "f50f5dd5-0267-471e-ba67-c89b61f104a9",
   "metadata": {},
   "outputs": [
    {
     "data": {
      "text/plain": [
       "312"
      ]
     },
     "execution_count": 14,
     "metadata": {},
     "output_type": "execute_result"
    }
   ],
   "source": [
    "unfold_bin.GetDistributionNumberOfBins()"
   ]
  },
  {
   "cell_type": "code",
   "execution_count": 15,
   "id": "458c0eef-0f3e-4274-8697-15b18535c058",
   "metadata": {},
   "outputs": [
    {
     "data": {
      "text/plain": [
       "'dipt'"
      ]
     },
     "execution_count": 15,
     "metadata": {},
     "output_type": "execute_result"
    }
   ],
   "source": [
    "unfold_bin.GetDistributionAxisLabel(0)"
   ]
  },
  {
   "cell_type": "code",
   "execution_count": 16,
   "id": "7e781392-0f9a-4a45-bae2-9d4540b4a0be",
   "metadata": {},
   "outputs": [
    {
     "data": {
      "text/plain": [
       "'dimass'"
      ]
     },
     "execution_count": 16,
     "metadata": {},
     "output_type": "execute_result"
    }
   ],
   "source": [
    "unfold_bin.GetDistributionAxisLabel(1)"
   ]
  },
  {
   "cell_type": "code",
   "execution_count": null,
   "id": "3575e408-c1e0-4589-9d16-f7f040e91975",
   "metadata": {},
   "outputs": [],
   "source": []
  }
 ],
 "metadata": {
  "kernelspec": {
   "display_name": "Python 3 (ipykernel)",
   "language": "python",
   "name": "python3"
  },
  "language_info": {
   "codemirror_mode": {
    "name": "ipython",
    "version": 3
   },
   "file_extension": ".py",
   "mimetype": "text/x-python",
   "name": "python",
   "nbconvert_exporter": "python",
   "pygments_lexer": "ipython3",
   "version": "3.9.12"
  }
 },
 "nbformat": 4,
 "nbformat_minor": 5
}
