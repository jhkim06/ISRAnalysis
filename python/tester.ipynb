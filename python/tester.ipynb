{
 "cells": [
  {
   "cell_type": "code",
   "execution_count": 29,
   "id": "4891357e-5310-4605-bb0c-7076212ac2de",
   "metadata": {},
   "outputs": [
    {
     "name": "stdout",
     "output_type": "stream",
     "text": [
      "Welcome to JupyROOT 6.26/00\n"
     ]
    }
   ],
   "source": [
    "import ROOT as rt"
   ]
  },
  {
   "cell_type": "code",
   "execution_count": 2,
   "id": "852c2aea-45cc-4abe-8c06-3edb015311f4",
   "metadata": {},
   "outputs": [],
   "source": [
    "file = rt.TFile.Open(\"../../data/Ultralegacy/ee/2016a/ISRAnalyzer_DYJets.root\")"
   ]
  },
  {
   "cell_type": "code",
   "execution_count": 8,
   "id": "b37ed7fb-5a17-4391-8741-2e64e86f9633",
   "metadata": {},
   "outputs": [],
   "source": [
    "unfold_bin = file.Get(\"ee2016a/[tunfold-bin]_[dipt-dimass]_[folded_extended-folded_dimass55]\")"
   ]
  },
  {
   "cell_type": "code",
   "execution_count": 13,
   "id": "8f52e794-c8c5-455b-a3c7-f637b1057982",
   "metadata": {},
   "outputs": [
    {
     "data": {
      "text/plain": [
       "'#3 (ee2016a/[dipt-dimass]_[folded_extended-folded_dimass55]:dimass[ufl]:dipt[2,3])'"
      ]
     },
     "execution_count": 13,
     "metadata": {},
     "output_type": "execute_result"
    }
   ],
   "source": [
    "unfold_bin.GetBinName(3)"
   ]
  },
  {
   "cell_type": "code",
   "execution_count": 14,
   "id": "f50f5dd5-0267-471e-ba67-c89b61f104a9",
   "metadata": {},
   "outputs": [
    {
     "data": {
      "text/plain": [
       "312"
      ]
     },
     "execution_count": 14,
     "metadata": {},
     "output_type": "execute_result"
    }
   ],
   "source": [
    "unfold_bin.GetDistributionNumberOfBins()"
   ]
  },
  {
   "cell_type": "code",
   "execution_count": 15,
   "id": "458c0eef-0f3e-4274-8697-15b18535c058",
   "metadata": {},
   "outputs": [
    {
     "data": {
      "text/plain": [
       "'dipt'"
      ]
     },
     "execution_count": 15,
     "metadata": {},
     "output_type": "execute_result"
    }
   ],
   "source": [
    "unfold_bin.GetDistributionAxisLabel(0)"
   ]
  },
  {
   "cell_type": "code",
   "execution_count": 16,
   "id": "7e781392-0f9a-4a45-bae2-9d4540b4a0be",
   "metadata": {},
   "outputs": [
    {
     "data": {
      "text/plain": [
       "'dimass'"
      ]
     },
     "execution_count": 16,
     "metadata": {},
     "output_type": "execute_result"
    }
   ],
   "source": [
    "unfold_bin.GetDistributionAxisLabel(1)"
   ]
  },
  {
   "cell_type": "code",
   "execution_count": 1,
   "id": "ce8035f2-3939-487b-b754-1051f3d2ef38",
   "metadata": {},
   "outputs": [],
   "source": [
    "import re"
   ]
  },
  {
   "cell_type": "code",
   "execution_count": 26,
   "id": "3ac586a9-c4b0-46b7-8474-b206ba990e77",
   "metadata": {},
   "outputs": [],
   "source": [
    "hist_name =\"dipt-dimass\"\n",
    "matches = re.findall(r'(\\([^\\]]*\\))', hist_name)"
   ]
  },
  {
   "cell_type": "code",
   "execution_count": 27,
   "id": "b02ba317-ede5-4fb9-851f-40ffc0099130",
   "metadata": {},
   "outputs": [
    {
     "data": {
      "text/plain": [
       "[]"
      ]
     },
     "execution_count": 27,
     "metadata": {},
     "output_type": "execute_result"
    }
   ],
   "source": [
    "matches"
   ]
  },
  {
   "cell_type": "code",
   "execution_count": 28,
   "id": "f82a1e7b-34fc-4531-ab8e-8fe2092bd794",
   "metadata": {},
   "outputs": [
    {
     "data": {
      "text/plain": [
       "'dipt-dimass'"
      ]
     },
     "execution_count": 28,
     "metadata": {},
     "output_type": "execute_result"
    }
   ],
   "source": [
    "hist_name.split(\"(\")[0]"
   ]
  },
  {
   "cell_type": "code",
   "execution_count": 41,
   "id": "24ed89fc-d9c6-4e6e-b0c5-9fc6130030e6",
   "metadata": {},
   "outputs": [],
   "source": [
    "file = rt.TFile.Open(\"/Users/jhkim/cms_snu/data/Ultralegacy/mc/2016b/0bjet__/ISRAnalyzer_DYJets.root\")"
   ]
  },
  {
   "cell_type": "code",
   "execution_count": 42,
   "id": "75f367ba-47db-4c8e-8db3-28b09030a767",
   "metadata": {},
   "outputs": [],
   "source": [
    "matrix = file.Get(\"ee2016b/0bjet/[tunfold-matrix]_[dipt-dimass(bare)]_[folded_nominal-folded_dimass_5_v2_windows]_[unfolded_nominal-unfolded_dimass_5_v2_windows]\")"
   ]
  },
  {
   "cell_type": "code",
   "execution_count": 43,
   "id": "3ae212f2-a089-416a-a6df-016ea62d2756",
   "metadata": {},
   "outputs": [
    {
     "data": {
      "text/plain": [
       "<cppyy.gbl.TH2D object at 0x7fc5a2a03a00>"
      ]
     },
     "execution_count": 43,
     "metadata": {},
     "output_type": "execute_result"
    }
   ],
   "source": [
    "matrix"
   ]
  },
  {
   "cell_type": "code",
   "execution_count": null,
   "id": "de3eb3c3-b0d5-42e0-bb73-1c4379c192a6",
   "metadata": {},
   "outputs": [],
   "source": [
    "ee2016b/0bjet/[tunfold-matrix]_[dipt-dimass(bare)]_[folded_nominal-folded_dimass_5_v2_windows]_[unfolded_nominal-unfolded_dimass_5_v2_windows]\n",
    "ee2016b/0bjet/[tunfold-matrix]_[dipt-dimass(bare)]_[folded_nominal-folded_dimass_5_v2_windows]_[unfolded_nominal-unfolded_dimass_5_v2_windows]"
   ]
  },
  {
   "cell_type": "code",
   "execution_count": 45,
   "id": "cb5cd4d8-37c1-445f-994a-118142a64e64",
   "metadata": {},
   "outputs": [],
   "source": [
    "hist_name = \"[tunfold-matrix]_[dipt-dimass(bare)]_[folded_nominal-folded_dimass_5_v2_windows]_[unfolded_nominal-unfolded_dimass_5_v2_windows]\"\n",
    "matches = re.findall(r'(\\[[^\\]]*\\])', hist_name)"
   ]
  },
  {
   "cell_type": "code",
   "execution_count": 51,
   "id": "0734baec-c90a-4d93-911d-a748c78a550b",
   "metadata": {},
   "outputs": [
    {
     "data": {
      "text/plain": [
       "['[folded_nominal-folded_dimass_5_v2_windows]',\n",
       " '[unfolded_nominal-unfolded_dimass_5_v2_windows]']"
      ]
     },
     "execution_count": 51,
     "metadata": {},
     "output_type": "execute_result"
    }
   ],
   "source": [
    "matches[2:]"
   ]
  },
  {
   "cell_type": "code",
   "execution_count": 57,
   "id": "d4d11b57-8164-4359-bb91-19b3654d53be",
   "metadata": {},
   "outputs": [
    {
     "data": {
      "text/plain": [
       "'[dipt-dimass]_[folded_nominal-folded_dimass_5_v2_windows]_[unfolded_nominal-unfolded_dimass_5_v2_windows]'"
      ]
     },
     "execution_count": 57,
     "metadata": {},
     "output_type": "execute_result"
    }
   ],
   "source": [
    "matches[1].split(\"(\")[0]+\"]_\" + \"_\".join(matches[2:])"
   ]
  },
  {
   "cell_type": "code",
   "execution_count": 59,
   "id": "abb63d09-a066-4d05-b168-10f3f41ccb98",
   "metadata": {},
   "outputs": [
    {
     "data": {
      "text/plain": [
       "'[dipt-dimass(bare)]'"
      ]
     },
     "execution_count": 59,
     "metadata": {},
     "output_type": "execute_result"
    }
   ],
   "source": [
    "matches[1]"
   ]
  },
  {
   "cell_type": "code",
   "execution_count": 62,
   "id": "09be65bb-db93-464c-bc32-ff801ef0854e",
   "metadata": {},
   "outputs": [
    {
     "data": {
      "text/plain": [
       "'[dipt-dimass]'"
      ]
     },
     "execution_count": 62,
     "metadata": {},
     "output_type": "execute_result"
    }
   ],
   "source": [
    "re.sub(r'(\\([^\\]]*\\))', '', matches[1])"
   ]
  },
  {
   "cell_type": "code",
   "execution_count": null,
   "id": "7a6c708a-6c5e-4c38-b908-9444b3c6799c",
   "metadata": {},
   "outputs": [],
   "source": []
  }
 ],
 "metadata": {
  "kernelspec": {
   "display_name": "Python 3 (ipykernel)",
   "language": "python",
   "name": "python3"
  },
  "language_info": {
   "codemirror_mode": {
    "name": "ipython",
    "version": 3
   },
   "file_extension": ".py",
   "mimetype": "text/x-python",
   "name": "python",
   "nbconvert_exporter": "python",
   "pygments_lexer": "ipython3",
   "version": "3.9.12"
  }
 },
 "nbformat": 4,
 "nbformat_minor": 5
}
