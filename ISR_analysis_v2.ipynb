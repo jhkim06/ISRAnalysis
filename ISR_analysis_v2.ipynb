{
 "cells": [
  {
   "cell_type": "code",
   "execution_count": 1,
   "metadata": {},
   "outputs": [
    {
     "name": "stdout",
     "output_type": "stream",
     "text": [
      "Welcome to JupyROOT 6.14/04\n"
     ]
    }
   ],
   "source": [
    "import ISRAnalysis as an"
   ]
  },
  {
   "cell_type": "code",
   "execution_count": 2,
   "metadata": {
    "scrolled": false
   },
   "outputs": [
    {
     "name": "stdout",
     "output_type": "stream",
     "text": [
      "ISRUnfold set!\n",
      "ISRUnfold::setNomResMatrix set response matrix...\n",
      "Rec_binName: Detector_Dressed_DR4PI_Fiducial/Pt_ResMatrix_Detector_Dressed_DR4PI_FineCoarse/Rec_Pt\n",
      "Gen_binName: Detector_Dressed_DR4PI_Fiducial/Pt_ResMatrix_Detector_Dressed_DR4PI_FineCoarse/Gen_Pt\n",
      "ISRUnfold::setMassBindEdges \n",
      "0 th mass bin edge: 50\n",
      "1 th mass bin edge: 64\n",
      "2 th mass bin edge: 81\n",
      "3 th mass bin edge: 101\n",
      "4 th mass bin edge: 200\n",
      "5 th mass bin edge: 320\n",
      "ISRUnfold::setNomResMatrix set response matrix...\n",
      "Rec_binName: Detector_Dressed_DR4PI_Fiducial/Mass_ResMatrix_Detector_Dressed_DR4PI_FineCoarse/Rec_Mass\n",
      "Gen_binName: Detector_Dressed_DR4PI_Fiducial/Mass_ResMatrix_Detector_Dressed_DR4PI_FineCoarse/Gen_Mass\n",
      "ISRUnfold::setMassBindEdges \n",
      "ISRUnfold::setMassBindEdges massBinEdges already set.\n"
     ]
    },
    {
     "name": "stderr",
     "output_type": "stream",
     "text": [
      "Info in <TUnfoldV17::SetConstraint>: fConstraint=1\n",
      "Info in <TUnfoldV17::TUnfold>: underflow and overflow bin do not depend on the input data\n",
      "Info in <TUnfoldV17::TUnfold>: 126 input bins and 70 output bins\n",
      "Info in <TUnfoldDensityV17::TUnfold>: *NOT* unfolding bin #0\n",
      "Info in <TUnfoldDensityV17::TUnfold>: *NOT* unfolding bin #71\n",
      "Info in <TUnfoldV17::SetConstraint>: fConstraint=1\n",
      "Info in <TUnfoldV17::TUnfold>: underflow and overflow bin do not depend on the input data\n",
      "Info in <TUnfoldV17::TUnfold>: 72 input bins and 72 output bins\n",
      "Warning in <TUnfoldV17::TUnfold>: too few (ny=72) input bins for nx=72 output bins\n",
      "Info in <TUnfoldDensityV17::TUnfold>: *NOT* unfolding bin #0\n",
      "Info in <TUnfoldDensityV17::TUnfold>: *NOT* unfolding bin #73\n"
     ]
    }
   ],
   "source": [
    "binDef = \"_FineCoarse\"\n",
    "detUnfold_muon_2016 = an.ISRAnalysis(\"2016\", \"electron\", False, \"matrix\", \\\n",
    "                                     \"Detector_Dressed_DR4PI_Fiducial\", \"Detector_Dressed_DR4PI\", binDef)"
   ]
  },
  {
   "cell_type": "code",
   "execution_count": 3,
   "metadata": {},
   "outputs": [
    {
     "name": "stdout",
     "output_type": "stream",
     "text": [
      "ISRUnfold set!\n",
      "ISRUnfold::setNomResMatrix set response matrix...\n",
      "Rec_binName: Detector_Dressed_DR4PI_Fiducial/Pt_ResMatrix_Detector_Dressed_DR4PI_FineCoarse/Rec_Pt\n",
      "Gen_binName: Detector_Dressed_DR4PI_Fiducial/Pt_ResMatrix_Detector_Dressed_DR4PI_FineCoarse/Gen_Pt\n",
      "ISRUnfold::setMassBindEdges \n",
      "0 th mass bin edge: 50\n",
      "1 th mass bin edge: 64\n",
      "2 th mass bin edge: 81\n",
      "3 th mass bin edge: 101\n",
      "4 th mass bin edge: 200\n",
      "5 th mass bin edge: 320\n",
      "ISRUnfold::setNomResMatrix set response matrix...\n",
      "Rec_binName: Detector_Dressed_DR4PI_Fiducial/Mass_ResMatrix_Detector_Dressed_DR4PI_FineCoarse/Rec_Mass\n",
      "Gen_binName: Detector_Dressed_DR4PI_Fiducial/Mass_ResMatrix_Detector_Dressed_DR4PI_FineCoarse/Gen_Mass\n",
      "ISRUnfold::setMassBindEdges \n",
      "ISRUnfold::setMassBindEdges massBinEdges already set.\n"
     ]
    },
    {
     "name": "stderr",
     "output_type": "stream",
     "text": [
      "Info in <TUnfoldV17::SetConstraint>: fConstraint=1\n",
      "Info in <TUnfoldV17::TUnfold>: underflow and overflow bin do not depend on the input data\n",
      "Info in <TUnfoldV17::TUnfold>: 126 input bins and 70 output bins\n",
      "Info in <TUnfoldDensityV17::TUnfold>: *NOT* unfolding bin #0\n",
      "Info in <TUnfoldDensityV17::TUnfold>: *NOT* unfolding bin #71\n",
      "Info in <TUnfoldV17::SetConstraint>: fConstraint=1\n",
      "Info in <TUnfoldV17::TUnfold>: underflow and overflow bin do not depend on the input data\n",
      "Info in <TUnfoldV17::TUnfold>: 72 input bins and 72 output bins\n",
      "Warning in <TUnfoldV17::TUnfold>: too few (ny=72) input bins for nx=72 output bins\n",
      "Info in <TUnfoldDensityV17::TUnfold>: *NOT* unfolding bin #0\n",
      "Info in <TUnfoldDensityV17::TUnfold>: *NOT* unfolding bin #73\n"
     ]
    }
   ],
   "source": [
    "detUnfold_electron_2016 = an.ISRAnalysis(\"2016\", \"electron\", False, \"matrix\", \\\n",
    "                                     \"Detector_Dressed_DR4PI_Fiducial\", \"Detector_Dressed_DR4PI\", binDef)"
   ]
  },
  {
   "cell_type": "code",
   "execution_count": 4,
   "metadata": {},
   "outputs": [
    {
     "name": "stdout",
     "output_type": "stream",
     "text": [
      "Decompose(), successed? 1\n",
      "Mass, Cond(): 8.58882"
     ]
    }
   ],
   "source": [
    "sigma = detUnfold_muon_2016.checkMatrixCond()"
   ]
  },
  {
   "cell_type": "code",
   "execution_count": 5,
   "metadata": {},
   "outputs": [],
   "source": [
    "#sigma.Print()"
   ]
  },
  {
   "cell_type": "code",
   "execution_count": 6,
   "metadata": {},
   "outputs": [
    {
     "data": {
      "text/plain": [
       "<ROOT.TVectorT<double> object (\"TVectorT<double>\") at 0x7296fe8>"
      ]
     },
     "execution_count": 6,
     "metadata": {},
     "output_type": "execute_result"
    },
    {
     "name": "stdout",
     "output_type": "stream",
     "text": [
      "Decompose(), successed? 1\n",
      "Pt, Cond(): 5.57357"
     ]
    }
   ],
   "source": [
    "detUnfold_muon_2016.checkMatrixCond(\"Pt\")"
   ]
  },
  {
   "cell_type": "code",
   "execution_count": 7,
   "metadata": {},
   "outputs": [],
   "source": [
    "# Nominal\n",
    "detUnfold_muon_2016.setInputHist(False, False, None, \"Detector\")\n",
    "detUnfold_muon_2016.setUnfoldBkgs(False, \"Detector\")\n",
    "detUnfold_muon_2016.subFake() # Subract DY fake (out of fiducial volume at gen level)"
   ]
  },
  {
   "cell_type": "code",
   "execution_count": 8,
   "metadata": {
    "scrolled": false
   },
   "outputs": [
    {
     "name": "stdout",
     "output_type": "stream",
     "text": [
      "ID IdSFUp\n",
      "ID IdSFDown\n",
      "TRG trgSFUp\n",
      "TRG trgSFDown\n",
      "PU PUUp\n",
      "PU PUDown\n",
      "Scale ScaleABUp\n",
      "Scale ScaleABDown\n",
      "AlphaS AlphaSUp\n",
      "AlphaS AlphaSDown\n",
      "LepMom NoLepMomCorr\n",
      "LepMom Nominal\n",
      "Detector_NoLepMomCorr/Pt_FineCoarse/histo_WJets_MG\n",
      "Detector_NoLepMomCorr/Pt_FineCoarse/histo_WW_pythia\n",
      "Detector_NoLepMomCorr/Pt_FineCoarse/histo_WZ_pythia\n",
      "Detector_NoLepMomCorr/Pt_FineCoarse/histo_ZZ_pythia\n",
      "Detector_NoLepMomCorr/Pt_FineCoarse/histo_DYJets10to50ToTauTau\n",
      "Detector_NoLepMomCorr/Pt_FineCoarse/histo_DYJetsToTauTau\n",
      "Detector_NoLepMomCorr/Pt_FineCoarse/histo_TTLL_powheg\n",
      "detector_level_DY_Fake_NoLepMomCorr/Pt_FineCoarse/histo_DYJets\n",
      "detector_level_DY_Fake_NoLepMomCorr/Pt_FineCoarse/histo_DYJets10to50\n",
      "Detector/Pt_FineCoarse/histo_WJets_MG\n",
      "Detector/Pt_FineCoarse/histo_WW_pythia\n",
      "Detector/Pt_FineCoarse/histo_WZ_pythia\n",
      "Detector/Pt_FineCoarse/histo_ZZ_pythia\n",
      "Detector/Pt_FineCoarse/histo_DYJets10to50ToTauTau\n",
      "Detector/Pt_FineCoarse/histo_DYJetsToTauTau\n",
      "Detector/Pt_FineCoarse/histo_TTLL_powheg\n",
      "detector_level_DY_Fake/Pt_FineCoarse/histo_DYJets\n",
      "detector_level_DY_Fake/Pt_FineCoarse/histo_DYJets10to50\n"
     ]
    },
    {
     "name": "stderr",
     "output_type": "stream",
     "text": [
      "Info in <TUnfoldV17::SetConstraint>: fConstraint=1\n",
      "Info in <TUnfoldV17::TUnfold>: underflow and overflow bin do not depend on the input data\n",
      "Info in <TUnfoldV17::TUnfold>: 126 input bins and 70 output bins\n",
      "Info in <TUnfoldDensityV17::TUnfold>: *NOT* unfolding bin #0\n",
      "Info in <TUnfoldDensityV17::TUnfold>: *NOT* unfolding bin #71\n",
      "Info in <TUnfoldV17::SetConstraint>: fConstraint=1\n",
      "Info in <TUnfoldV17::TUnfold>: underflow and overflow bin do not depend on the input data\n",
      "Info in <TUnfoldV17::TUnfold>: 72 input bins and 72 output bins\n",
      "Warning in <TUnfoldV17::TUnfold>: too few (ny=72) input bins for nx=72 output bins\n",
      "Info in <TUnfoldDensityV17::TUnfold>: *NOT* unfolding bin #0\n",
      "Info in <TUnfoldDensityV17::TUnfold>: *NOT* unfolding bin #73\n",
      "Info in <TUnfoldV17::SetConstraint>: fConstraint=1\n",
      "Info in <TUnfoldV17::TUnfold>: underflow and overflow bin do not depend on the input data\n",
      "Info in <TUnfoldV17::TUnfold>: 126 input bins and 70 output bins\n",
      "Info in <TUnfoldDensityV17::TUnfold>: *NOT* unfolding bin #0\n",
      "Info in <TUnfoldDensityV17::TUnfold>: *NOT* unfolding bin #71\n",
      "Info in <TUnfoldV17::SetConstraint>: fConstraint=1\n",
      "Info in <TUnfoldV17::TUnfold>: underflow and overflow bin do not depend on the input data\n",
      "Info in <TUnfoldV17::TUnfold>: 72 input bins and 72 output bins\n",
      "Warning in <TUnfoldV17::TUnfold>: too few (ny=72) input bins for nx=72 output bins\n",
      "Info in <TUnfoldDensityV17::TUnfold>: *NOT* unfolding bin #0\n",
      "Info in <TUnfoldDensityV17::TUnfold>: *NOT* unfolding bin #73\n",
      "Info in <TUnfoldV17::SetConstraint>: fConstraint=1\n",
      "Info in <TUnfoldV17::TUnfold>: underflow and overflow bin do not depend on the input data\n",
      "Info in <TUnfoldV17::TUnfold>: 126 input bins and 70 output bins\n",
      "Info in <TUnfoldDensityV17::TUnfold>: *NOT* unfolding bin #0\n",
      "Info in <TUnfoldDensityV17::TUnfold>: *NOT* unfolding bin #71\n",
      "Info in <TUnfoldV17::SetConstraint>: fConstraint=1\n",
      "Info in <TUnfoldV17::TUnfold>: underflow and overflow bin do not depend on the input data\n",
      "Info in <TUnfoldV17::TUnfold>: 72 input bins and 72 output bins\n",
      "Warning in <TUnfoldV17::TUnfold>: too few (ny=72) input bins for nx=72 output bins\n",
      "Info in <TUnfoldDensityV17::TUnfold>: *NOT* unfolding bin #0\n",
      "Info in <TUnfoldDensityV17::TUnfold>: *NOT* unfolding bin #73\n",
      "Info in <TUnfoldV17::SetConstraint>: fConstraint=1\n",
      "Info in <TUnfoldV17::TUnfold>: underflow and overflow bin do not depend on the input data\n",
      "Info in <TUnfoldV17::TUnfold>: 126 input bins and 70 output bins\n",
      "Info in <TUnfoldDensityV17::TUnfold>: *NOT* unfolding bin #0\n",
      "Info in <TUnfoldDensityV17::TUnfold>: *NOT* unfolding bin #71\n",
      "Info in <TUnfoldV17::SetConstraint>: fConstraint=1\n",
      "Info in <TUnfoldV17::TUnfold>: underflow and overflow bin do not depend on the input data\n",
      "Info in <TUnfoldV17::TUnfold>: 72 input bins and 72 output bins\n",
      "Warning in <TUnfoldV17::TUnfold>: too few (ny=72) input bins for nx=72 output bins\n",
      "Info in <TUnfoldDensityV17::TUnfold>: *NOT* unfolding bin #0\n",
      "Info in <TUnfoldDensityV17::TUnfold>: *NOT* unfolding bin #73\n",
      "Info in <TUnfoldV17::SetConstraint>: fConstraint=1\n",
      "Info in <TUnfoldV17::TUnfold>: underflow and overflow bin do not depend on the input data\n",
      "Info in <TUnfoldV17::TUnfold>: 126 input bins and 70 output bins\n",
      "Info in <TUnfoldDensityV17::TUnfold>: *NOT* unfolding bin #0\n",
      "Info in <TUnfoldDensityV17::TUnfold>: *NOT* unfolding bin #71\n",
      "Info in <TUnfoldV17::SetConstraint>: fConstraint=1\n",
      "Info in <TUnfoldV17::TUnfold>: underflow and overflow bin do not depend on the input data\n",
      "Info in <TUnfoldV17::TUnfold>: 72 input bins and 72 output bins\n",
      "Warning in <TUnfoldV17::TUnfold>: too few (ny=72) input bins for nx=72 output bins\n",
      "Info in <TUnfoldDensityV17::TUnfold>: *NOT* unfolding bin #0\n",
      "Info in <TUnfoldDensityV17::TUnfold>: *NOT* unfolding bin #73\n",
      "Info in <TUnfoldV17::SetConstraint>: fConstraint=1\n",
      "Info in <TUnfoldV17::TUnfold>: underflow and overflow bin do not depend on the input data\n",
      "Info in <TUnfoldV17::TUnfold>: 126 input bins and 70 output bins\n",
      "Info in <TUnfoldDensityV17::TUnfold>: *NOT* unfolding bin #0\n",
      "Info in <TUnfoldDensityV17::TUnfold>: *NOT* unfolding bin #71\n",
      "Info in <TUnfoldV17::SetConstraint>: fConstraint=1\n",
      "Info in <TUnfoldV17::TUnfold>: underflow and overflow bin do not depend on the input data\n",
      "Info in <TUnfoldV17::TUnfold>: 72 input bins and 72 output bins\n",
      "Warning in <TUnfoldV17::TUnfold>: too few (ny=72) input bins for nx=72 output bins\n",
      "Info in <TUnfoldDensityV17::TUnfold>: *NOT* unfolding bin #0\n",
      "Info in <TUnfoldDensityV17::TUnfold>: *NOT* unfolding bin #73\n",
      "Info in <TUnfoldV17::SetConstraint>: fConstraint=1\n",
      "Info in <TUnfoldV17::TUnfold>: underflow and overflow bin do not depend on the input data\n",
      "Info in <TUnfoldV17::TUnfold>: 126 input bins and 70 output bins\n",
      "Info in <TUnfoldDensityV17::TUnfold>: *NOT* unfolding bin #0\n",
      "Info in <TUnfoldDensityV17::TUnfold>: *NOT* unfolding bin #71\n",
      "Info in <TUnfoldV17::SetConstraint>: fConstraint=1\n",
      "Info in <TUnfoldV17::TUnfold>: underflow and overflow bin do not depend on the input data\n",
      "Info in <TUnfoldV17::TUnfold>: 72 input bins and 72 output bins\n",
      "Warning in <TUnfoldV17::TUnfold>: too few (ny=72) input bins for nx=72 output bins\n",
      "Info in <TUnfoldDensityV17::TUnfold>: *NOT* unfolding bin #0\n",
      "Info in <TUnfoldDensityV17::TUnfold>: *NOT* unfolding bin #73\n",
      "Info in <TUnfoldV17::SetConstraint>: fConstraint=1\n",
      "Info in <TUnfoldV17::TUnfold>: underflow and overflow bin do not depend on the input data\n",
      "Info in <TUnfoldV17::TUnfold>: 126 input bins and 70 output bins\n",
      "Info in <TUnfoldDensityV17::TUnfold>: *NOT* unfolding bin #0\n",
      "Info in <TUnfoldDensityV17::TUnfold>: *NOT* unfolding bin #71\n",
      "Info in <TUnfoldV17::SetConstraint>: fConstraint=1\n",
      "Info in <TUnfoldV17::TUnfold>: underflow and overflow bin do not depend on the input data\n",
      "Info in <TUnfoldV17::TUnfold>: 72 input bins and 72 output bins\n",
      "Warning in <TUnfoldV17::TUnfold>: too few (ny=72) input bins for nx=72 output bins\n",
      "Info in <TUnfoldDensityV17::TUnfold>: *NOT* unfolding bin #0\n",
      "Info in <TUnfoldDensityV17::TUnfold>: *NOT* unfolding bin #73\n",
      "Info in <TUnfoldV17::SetConstraint>: fConstraint=1\n",
      "Info in <TUnfoldV17::TUnfold>: underflow and overflow bin do not depend on the input data\n",
      "Info in <TUnfoldV17::TUnfold>: 126 input bins and 70 output bins\n",
      "Info in <TUnfoldDensityV17::TUnfold>: *NOT* unfolding bin #0\n",
      "Info in <TUnfoldDensityV17::TUnfold>: *NOT* unfolding bin #71\n",
      "Info in <TUnfoldV17::SetConstraint>: fConstraint=1\n",
      "Info in <TUnfoldV17::TUnfold>: underflow and overflow bin do not depend on the input data\n",
      "Info in <TUnfoldV17::TUnfold>: 72 input bins and 72 output bins\n",
      "Warning in <TUnfoldV17::TUnfold>: too few (ny=72) input bins for nx=72 output bins\n",
      "Info in <TUnfoldDensityV17::TUnfold>: *NOT* unfolding bin #0\n",
      "Info in <TUnfoldDensityV17::TUnfold>: *NOT* unfolding bin #73\n",
      "Info in <TUnfoldV17::SetConstraint>: fConstraint=1\n",
      "Info in <TUnfoldV17::TUnfold>: underflow and overflow bin do not depend on the input data\n",
      "Info in <TUnfoldV17::TUnfold>: 126 input bins and 70 output bins\n",
      "Info in <TUnfoldDensityV17::TUnfold>: *NOT* unfolding bin #0\n",
      "Info in <TUnfoldDensityV17::TUnfold>: *NOT* unfolding bin #71\n",
      "Info in <TUnfoldV17::SetConstraint>: fConstraint=1\n",
      "Info in <TUnfoldV17::TUnfold>: underflow and overflow bin do not depend on the input data\n",
      "Info in <TUnfoldV17::TUnfold>: 72 input bins and 72 output bins\n",
      "Warning in <TUnfoldV17::TUnfold>: too few (ny=72) input bins for nx=72 output bins\n",
      "Info in <TUnfoldDensityV17::TUnfold>: *NOT* unfolding bin #0\n",
      "Info in <TUnfoldDensityV17::TUnfold>: *NOT* unfolding bin #73\n",
      "Info in <TUnfoldV17::SetConstraint>: fConstraint=1\n",
      "Info in <TUnfoldV17::TUnfold>: underflow and overflow bin do not depend on the input data\n",
      "Info in <TUnfoldV17::TUnfold>: 126 input bins and 70 output bins\n",
      "Info in <TUnfoldDensityV17::TUnfold>: *NOT* unfolding bin #0\n",
      "Info in <TUnfoldDensityV17::TUnfold>: *NOT* unfolding bin #71\n",
      "Info in <TUnfoldV17::SetConstraint>: fConstraint=1\n",
      "Info in <TUnfoldV17::TUnfold>: underflow and overflow bin do not depend on the input data\n",
      "Info in <TUnfoldV17::TUnfold>: 72 input bins and 72 output bins\n",
      "Warning in <TUnfoldV17::TUnfold>: too few (ny=72) input bins for nx=72 output bins\n",
      "Info in <TUnfoldDensityV17::TUnfold>: *NOT* unfolding bin #0\n",
      "Info in <TUnfoldDensityV17::TUnfold>: *NOT* unfolding bin #73\n",
      "Info in <TUnfoldV17::SetConstraint>: fConstraint=1\n",
      "Info in <TUnfoldV17::TUnfold>: underflow and overflow bin do not depend on the input data\n",
      "Info in <TUnfoldV17::TUnfold>: 126 input bins and 70 output bins\n",
      "Info in <TUnfoldDensityV17::TUnfold>: *NOT* unfolding bin #0\n",
      "Info in <TUnfoldDensityV17::TUnfold>: *NOT* unfolding bin #71\n",
      "Info in <TUnfoldV17::SetConstraint>: fConstraint=1\n",
      "Info in <TUnfoldV17::TUnfold>: underflow and overflow bin do not depend on the input data\n",
      "Info in <TUnfoldV17::TUnfold>: 72 input bins and 72 output bins\n",
      "Warning in <TUnfoldV17::TUnfold>: too few (ny=72) input bins for nx=72 output bins\n",
      "Info in <TUnfoldDensityV17::TUnfold>: *NOT* unfolding bin #0\n",
      "Info in <TUnfoldDensityV17::TUnfold>: *NOT* unfolding bin #73\n"
     ]
    }
   ],
   "source": [
    "#systematics = {\"ID\":[\"IdSFUp\", \"IdSFDown\"], \"ISO\":[\"IsoSFUp\", \"IsoSFDown\"], \"TRG\":[\"trgSFUp\", \"trgSFDown\"], \\\n",
    "#              \"PU\":[\"PUUp\", \"PUDown\"], \"Scale\":[\"ScaleABUp\", \"ScaleABDown\"], \"AlphaS\":[\"AlphaSUp\", \"AlphaSDown\"]}\n",
    "#              #\"Fake\":[\"FakeUp\", \"FakeDown\"]}\n",
    "    \n",
    "systematics = {\"ID\":[\"IdSFUp\", \"IdSFDown\"], \"TRG\":[\"trgSFUp\", \"trgSFDown\"], \\\n",
    "              \"PU\":[\"PUUp\", \"PUDown\"], \"Scale\":[\"ScaleABUp\", \"ScaleABDown\"], \"AlphaS\":[\"AlphaSUp\", \"AlphaSDown\"],\\\n",
    "              #\"LepMom\":[\"LepMomScaleUp\",\"LepMomScaleDown\"]}\n",
    "              \"LepMom\": [\"NoLepMomCorr\", \"Nominal\"]} #then skip the second, and use the nominal result\n",
    "\n",
    "for sysName, postfixs in systematics.items():\n",
    "    for postfix in postfixs:\n",
    "        detUnfold_muon_2016.setSystematics(sysName, postfix)\n",
    "\n",
    "for sysName, postfixs in systematics.items():\n",
    "    for postfix in postfixs:\n",
    "        print(sysName + \" \" + postfix)\n",
    "        detUnfold_muon_2016.setInputHist(False, False, None, \"Detector\", True, sysName, postfix)\n",
    "        detUnfold_muon_2016.setUnfoldBkgs(True, \"Detector\", sysName, postfix)\n",
    "\n",
    "        detUnfold_muon_2016.subFake(True, sysName,postfix)"
   ]
  },
  {
   "cell_type": "code",
   "execution_count": 9,
   "metadata": {},
   "outputs": [],
   "source": [
    "#detUnfold_electron_2016.setFromPrevUnfold(detUnfold_muon_2016.getISRUnfold())"
   ]
  },
  {
   "cell_type": "code",
   "execution_count": 10,
   "metadata": {},
   "outputs": [
    {
     "name": "stdout",
     "output_type": "stream",
     "text": [
      "Do systematic unfold!\n",
      "Unfold for AlphaS systematic.\n",
      "2 systematic variation exist.\n",
      "posfix: AlphaSUp\n",
      "posfix: AlphaSDown\n",
      "Unfold for ID systematic.\n",
      "2 systematic variation exist.\n",
      "posfix: IdSFUp\n",
      "posfix: IdSFDown\n",
      "Unfold for LepMom systematic.\n",
      "2 systematic variation exist.\n",
      "posfix: NoLepMomCorr\n",
      "posfix: Nominal\n",
      "Unfold for PU systematic.\n",
      "2 systematic variation exist.\n",
      "posfix: PUUp\n",
      "posfix: PUDown\n",
      "Unfold for Scale systematic.\n",
      "2 systematic variation exist.\n",
      "posfix: ScaleABUp\n",
      "posfix: ScaleABDown\n",
      "Unfold for TRG systematic.\n",
      "2 systematic variation exist.\n",
      "posfix: trgSFUp\n",
      "posfix: trgSFDown\n"
     ]
    },
    {
     "name": "stderr",
     "output_type": "stream",
     "text": [
      "Warning in <TUnfoldDensityV17::GetInputInverseEmatrix>: number of parameters 72 = input rank 72. Problem is ill posed\n",
      "Warning in <TUnfoldDensityV17::GetInputInverseEmatrix>: number of parameters 72 = input rank 72. Problem is ill posed\n",
      "Warning in <TUnfoldDensityV17::GetInputInverseEmatrix>: number of parameters 72 = input rank 72. Problem is ill posed\n",
      "Warning in <TUnfoldDensityV17::GetInputInverseEmatrix>: number of parameters 72 = input rank 72. Problem is ill posed\n",
      "Warning in <TUnfoldDensityV17::GetInputInverseEmatrix>: number of parameters 72 = input rank 72. Problem is ill posed\n",
      "Warning in <TUnfoldDensityV17::GetInputInverseEmatrix>: number of parameters 72 = input rank 72. Problem is ill posed\n",
      "Warning in <TUnfoldDensityV17::GetInputInverseEmatrix>: number of parameters 72 = input rank 72. Problem is ill posed\n",
      "Warning in <TUnfoldDensityV17::GetInputInverseEmatrix>: number of parameters 72 = input rank 72. Problem is ill posed\n",
      "Warning in <TUnfoldDensityV17::GetInputInverseEmatrix>: number of parameters 72 = input rank 72. Problem is ill posed\n",
      "Warning in <TUnfoldDensityV17::GetInputInverseEmatrix>: number of parameters 72 = input rank 72. Problem is ill posed\n",
      "Warning in <TUnfoldDensityV17::GetInputInverseEmatrix>: number of parameters 72 = input rank 72. Problem is ill posed\n",
      "Warning in <TUnfoldDensityV17::GetInputInverseEmatrix>: number of parameters 72 = input rank 72. Problem is ill posed\n",
      "Warning in <TUnfoldDensityV17::GetInputInverseEmatrix>: number of parameters 72 = input rank 72. Problem is ill posed\n"
     ]
    }
   ],
   "source": [
    "detUnfold_muon_2016.doUnfold()\n",
    "detUnfold_muon_2016.doUnfold(True)"
   ]
  },
  {
   "cell_type": "code",
   "execution_count": null,
   "metadata": {
    "scrolled": false
   },
   "outputs": [],
   "source": [
    "# \n",
    "for sysName, _ in systematics.items():\n",
    "    for massBin in range(5):\n",
    "        detUnfold_muon_2016.drawDetPlot(\"Pt\"+binDef, \"Detector\", \"pt[UO];mass[UOC\"+str(massBin)+\"]\", True, sysName, \"DiPt_M\"+str(massBin), massBin, True)"
   ]
  },
  {
   "cell_type": "code",
   "execution_count": null,
   "metadata": {
    "scrolled": false
   },
   "outputs": [],
   "source": [
    "detUnfold_muon_2016.drawDetPlot(\"Mass\"+binDef, \"Detector\", \"mass[UO];pt[UOC0]\", True, \"LepMom\")"
   ]
  },
  {
   "cell_type": "code",
   "execution_count": null,
   "metadata": {},
   "outputs": [],
   "source": [
    "#for massBin in range(0,5):\n",
    "#    detUnfold_muon_2016.drawDetPlot(\"Pt_1D\", \"Detector_M_\"+str(massBin), \"\", True, \"AlphaS\", \"DiPt_M\"+str(massBin)+\"1GeVBin\", massBin)"
   ]
  },
  {
   "cell_type": "code",
   "execution_count": null,
   "metadata": {
    "scrolled": false
   },
   "outputs": [],
   "source": [
    "detUnfold_muon_2016.drawUnfPlot(\"Mass\", \"mass[UO];pt[UOC0]\", True, \"LepMom\")"
   ]
  },
  {
   "cell_type": "code",
   "execution_count": null,
   "metadata": {
    "scrolled": false
   },
   "outputs": [],
   "source": [
    "for massBin in range(5):\n",
    "    detUnfold_muon_2016.drawUnfPlot(\"Pt\", \"pt[UO];mass[UOC\"+str(massBin)+\"]\", True, \"LepMom\", \"UnfDiPt_M\"+str(massBin), massBin, True)"
   ]
  },
  {
   "cell_type": "code",
   "execution_count": null,
   "metadata": {},
   "outputs": [],
   "source": [
    "detUnfold_muon_2016.setMeanValues()"
   ]
  },
  {
   "cell_type": "code",
   "execution_count": null,
   "metadata": {
    "scrolled": false
   },
   "outputs": [],
   "source": [
    "detUnfold_muon_2016.setSysMeanValues()"
   ]
  },
  {
   "cell_type": "code",
   "execution_count": null,
   "metadata": {},
   "outputs": [],
   "source": [
    "detUnfold_muon_2016.setSysError()"
   ]
  },
  {
   "cell_type": "code",
   "execution_count": null,
   "metadata": {},
   "outputs": [],
   "source": [
    "detUnfold_muon_2016.setTotSysError()"
   ]
  },
  {
   "cell_type": "code",
   "execution_count": null,
   "metadata": {},
   "outputs": [],
   "source": [
    "gr_2016_muon_det_unfold =  detUnfold_muon_2016.getPtVsMassTGraph(\"2016MuonDetUnf\")\n",
    "gr_2016_muon_det_unfold_sys =  detUnfold_muon_2016.getPtVsMassTGraph(\"2016MuonDetUnf\",True,True)"
   ]
  },
  {
   "cell_type": "code",
   "execution_count": null,
   "metadata": {},
   "outputs": [],
   "source": [
    "gr_2016_muon_det =  detUnfold_muon_2016.getPtVsMassTGraph(\"2016MuonDet\", False)"
   ]
  },
  {
   "cell_type": "code",
   "execution_count": null,
   "metadata": {},
   "outputs": [],
   "source": [
    "import pyScripts.tdrStyle as tdrStyle\n",
    "import pyScripts.CMS_lumi as CMS_lumi\n",
    "import ROOT as rt\n",
    "markerSize = 1.2\n",
    "\n",
    "tdrStyle.setTDRStyle()\n",
    "rt.gStyle.SetOptFit(0)\n",
    "\n",
    "c_PtVsMass_detector = rt.TCanvas(\"PtVsMass_detector\",\"PtVsMass_detector\", 2000, 1200)\n",
    "c_PtVsMass_detector.SetGridx()\n",
    "c_PtVsMass_detector.SetGridy()\n",
    "c_PtVsMass_detector.SetLogx()\n",
    "c_PtVsMass_detector.SetBottomMargin(0.2)\n",
    "\n",
    "gr_2016_muon_det.SetTitle(\"2016, 2017, 2018 Detector level\")\n",
    "gr_2016_muon_det.Draw(\"APL\")\n",
    "gr_2016_muon_det.GetYaxis().SetRangeUser(12., 30.)\n",
    "gr_2016_muon_det.GetXaxis().SetLimits(10., 1000.)\n",
    "gr_2016_muon_det.SetMarkerStyle(20)\n",
    "gr_2016_muon_det.SetLineStyle(2)\n",
    "gr_2016_muon_det.SetMarkerSize(markerSize)\n",
    "gr_2016_muon_det.SetMarkerColor(rt.kBlue)\n",
    "gr_2016_muon_det.SetLineColor(rt.kBlue)\n",
    "\n",
    "gr_2016_muon_det_unfold.Draw(\"PL SAME\")\n",
    "gr_2016_muon_det_unfold.SetLineWidth(2)\n",
    "gr_2016_muon_det_unfold.SetMarkerColor(rt.kRed)\n",
    "gr_2016_muon_det_unfold.SetLineStyle(2)\n",
    "gr_2016_muon_det_unfold.SetLineColor(rt.kRed)\n",
    "\n",
    "gr_2016_muon_det_unfold_sys.Draw(\"E SAME\")\n",
    "gr_2016_muon_det_unfold_sys.SetLineWidth(3)\n",
    "gr_2016_muon_det_unfold_sys.SetMarkerColor(rt.kBlack)\n",
    "gr_2016_muon_det_unfold_sys.SetLineColor(rt.kBlack)\n",
    "\n",
    "CMS_lumi.extraText = \"Work in progress\"\n",
    "CMS_lumi.CMS_lumi(c_PtVsMass_detector, 4, 11)\n",
    "c_PtVsMass_detector.Draw()\n",
    "c_PtVsMass_detector.SaveAs(\"Run2_detector.png\")"
   ]
  },
  {
   "cell_type": "code",
   "execution_count": null,
   "metadata": {},
   "outputs": [],
   "source": []
  }
 ],
 "metadata": {
  "kernelspec": {
   "display_name": "Python 3",
   "language": "python",
   "name": "python3"
  },
  "language_info": {
   "codemirror_mode": {
    "name": "ipython",
    "version": 3
   },
   "file_extension": ".py",
   "mimetype": "text/x-python",
   "name": "python",
   "nbconvert_exporter": "python",
   "pygments_lexer": "ipython3",
   "version": "3.6.8"
  }
 },
 "nbformat": 4,
 "nbformat_minor": 4
}
