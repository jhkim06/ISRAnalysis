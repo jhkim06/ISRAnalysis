{
 "cells": [
  {
   "cell_type": "code",
   "execution_count": 1,
   "metadata": {},
   "outputs": [
    {
     "name": "stdout",
     "output_type": "stream",
     "text": [
      "Welcome to JupyROOT 6.14/04\n"
     ]
    }
   ],
   "source": [
    "import ROOT as rt\n",
    "import os\n",
    "import sys"
   ]
  },
  {
   "cell_type": "code",
   "execution_count": 2,
   "metadata": {},
   "outputs": [],
   "source": [
    "\n",
    "def setUnfoldBkgs(unfold_class, hfile_path, syst_name, isSys, nthSys, nTotSys, year):\n",
    "\n",
    "    unfold_class.subBkgs(\"Pt\", hfile_path, \"DYJetsToTauTau\",       isSys, syst_name, nTotSys, nthSys, \"detector_level\")\n",
    "    unfold_class.subBkgs(\"Pt\", hfile_path, \"DYJets10to50ToTauTau\", isSys, syst_name, nTotSys, nthSys, \"detector_level\")\n",
    "    unfold_class.subBkgs(\"Pt\", hfile_path, \"TTLL_powheg\",          isSys, syst_name, nTotSys, nthSys, \"detector_level\")\n",
    "    unfold_class.subBkgs(\"Pt\", hfile_path, \"WW_pythia\",            isSys, syst_name, nTotSys, nthSys, \"detector_level\")\n",
    "    unfold_class.subBkgs(\"Pt\", hfile_path, \"WZ_pythia\",            isSys, syst_name, nTotSys, nthSys, \"detector_level\")\n",
    "    unfold_class.subBkgs(\"Pt\", hfile_path, \"ZZ_pythia\",            isSys, syst_name, nTotSys, nthSys, \"detector_level\")\n",
    "    unfold_class.subBkgs(\"Pt\", hfile_path, \"WJets_MG\",             isSys, syst_name, nTotSys, nthSys, \"detector_level\")\n",
    "\n",
    "    unfold_class.subBkgs(\"Mass\", hfile_path, \"DYJetsToTauTau\",       isSys, syst_name, nTotSys, nthSys, \"detector_level\")\n",
    "    unfold_class.subBkgs(\"Mass\", hfile_path, \"DYJets10to50ToTauTau\", isSys, syst_name, nTotSys, nthSys, \"detector_level\")\n",
    "    unfold_class.subBkgs(\"Mass\", hfile_path, \"TTLL_powheg\",          isSys, syst_name, nTotSys, nthSys, \"detector_level\")\n",
    "    unfold_class.subBkgs(\"Mass\", hfile_path, \"WW_pythia\",            isSys, syst_name, nTotSys, nthSys, \"detector_level\")\n",
    "    unfold_class.subBkgs(\"Mass\", hfile_path, \"WZ_pythia\",            isSys, syst_name, nTotSys, nthSys, \"detector_level\")\n",
    "    unfold_class.subBkgs(\"Mass\", hfile_path, \"ZZ_pythia\",            isSys, syst_name, nTotSys, nthSys, \"detector_level\")\n",
    "    unfold_class.subBkgs(\"Mass\", hfile_path, \"WJets_MG\",             isSys, syst_name, nTotSys, nthSys, \"detector_level\")"
   ]
  },
  {
   "cell_type": "code",
   "execution_count": 3,
   "metadata": {},
   "outputs": [
    {
     "name": "stdout",
     "output_type": "stream",
     "text": [
      "{'matrix': 'output/2016/electron/DY_v3.root', 'matrix_pdferr': 'output/2016/electron/DY_PDF.root', 'matrix_closure': 'output/2016/electron/ISR_response_closureTest.root', 'fsr_matrix_closure': 'output/2016/electron/ISR_response_FSR_closureTest.root', 'matrix_alt': 'output/2016/electron/DY_MG.root', 'fsr_matrix': 'output/2016/electron/DY_FSR.root', 'fsr_matrix_alt': 'output/2016/electron/DY_FSR_powheg.root', 'fsr_photos_matrix': 'output/2016/electron/DY_FSR_photos_v3.root', 'fsr_pythia_matrix': 'output/2016/electron/DY_FSR_pythia_v3.root', 'gen_hist': 'output/2016/electron/DY_Gen_Hists.root', 'gen_hist_closure': 'output/2016/electron/ISR_Gen_Hists_closureTest.root', 'hist': 'output/2016/electron/unfolding_input_v2.root'}\n"
     ]
    }
   ],
   "source": [
    "year    = '2016'\n",
    "channel = 'electron'\n",
    "doSys   = True\n",
    "\n",
    "phase_space_detector = 'fiducial_phase_pre_FSR_dRp1'\n",
    "FSR_dR_detector      = 'dressed_dRp1' # Need to combine 'phase_space_detector' and FSR_dR_detector\n",
    "phase_space_fsr      = 'full_phase_dRp1'\n",
    "FSR_dR_fsr           = 'dRp1_pre_fsr'\n",
    "\n",
    "# Set output directory\n",
    "outputDirectory = 'output/'+year+'/'+channel+'/'\n",
    "inputfhisttxtName = outputDirectory + 'fhist.txt' # 다른 위치에 텍스트 파일과 루트파일을 놓자 \n",
    "\n",
    "# Make output directory\n",
    "if not os.path.exists(outputDirectory):\n",
    "    os.makedirs(outputDirectory)\n",
    "\n",
    "# Read text file including root file path and for unfolding\n",
    "fOutTxtCheck = open(inputfhisttxtName, 'r')\n",
    "unfoldInputDic = {}\n",
    "\n",
    "for line in fOutTxtCheck:\n",
    "    modifiedLine = line.lstrip(' ').rstrip(' ').rstrip('\\n')\n",
    "    unfoldInputDic[modifiedLine.split()[1]] = modifiedLine.split()[2]\n",
    "    \n",
    "print(unfoldInputDic)"
   ]
  },
  {
   "cell_type": "code",
   "execution_count": 4,
   "metadata": {},
   "outputs": [],
   "source": [
    "import pyScripts.unfoldUtil as unfoldutil\n",
    "import pyScripts.drawUtil as drawutil\n",
    "\n",
    "# Simple unfolding tests\n",
    "# Unfolding without systematics\n",
    "# Closure tests"
   ]
  },
  {
   "cell_type": "code",
   "execution_count": 5,
   "metadata": {},
   "outputs": [],
   "source": [
    "DetectorUnfold = 0\n",
    "FSRUnfold = 1\n",
    "bias = 1.0\n",
    "\n",
    "unfoldClass = rt.ISRUnfold(channel, unfoldInputDic['hist'], unfoldInputDic['gen_hist'], False, int(year), int(0))\n",
    "unfoldClass.setOutputBaseDir(outputDirectory)\n",
    "unfoldClass.setBias(bias)"
   ]
  },
  {
   "cell_type": "code",
   "execution_count": 6,
   "metadata": {},
   "outputs": [
    {
     "name": "stderr",
     "output_type": "stream",
     "text": [
      "Info in <TUnfoldV17::SetConstraint>: fConstraint=1\n",
      "Info in <TUnfoldV17::TUnfold>: underflow and overflow bin do not depend on the input data\n",
      "Info in <TUnfoldV17::TUnfold>: 126 input bins and 70 output bins\n",
      "Info in <TUnfoldDensityV17::TUnfold>: *NOT* unfolding bin #0\n",
      "Info in <TUnfoldDensityV17::TUnfold>: *NOT* unfolding bin #71\n",
      "Info in <TUnfoldV17::SetConstraint>: fConstraint=1\n",
      "Info in <TUnfoldV17::TUnfold>: underflow and overflow bin do not depend on the input data\n",
      "Info in <TUnfoldV17::TUnfold>: 126 input bins and 70 output bins\n",
      "Info in <TUnfoldDensityV17::TUnfold>: *NOT* unfolding bin #0\n",
      "Info in <TUnfoldDensityV17::TUnfold>: *NOT* unfolding bin #71\n",
      "Info in <TUnfoldV17::SetConstraint>: fConstraint=1\n",
      "Info in <TUnfoldV17::TUnfold>: underflow and overflow bin do not depend on the input data\n",
      "Info in <TUnfoldV17::TUnfold>: 126 input bins and 70 output bins\n",
      "Info in <TUnfoldDensityV17::TUnfold>: *NOT* unfolding bin #0\n",
      "Info in <TUnfoldDensityV17::TUnfold>: *NOT* unfolding bin #71\n",
      "Info in <TUnfoldV17::SetConstraint>: fConstraint=1\n",
      "Info in <TUnfoldV17::TUnfold>: underflow and overflow bin do not depend on the input data\n",
      "Info in <TUnfoldV17::TUnfold>: 126 input bins and 70 output bins\n",
      "Info in <TUnfoldDensityV17::TUnfold>: *NOT* unfolding bin #0\n",
      "Info in <TUnfoldDensityV17::TUnfold>: *NOT* unfolding bin #71\n",
      "Info in <TUnfoldV17::SetConstraint>: fConstraint=1\n",
      "Info in <TUnfoldV17::TUnfold>: underflow and overflow bin do not depend on the input data\n",
      "Info in <TUnfoldV17::TUnfold>: 112 input bins and 58 output bins\n",
      "Info in <TUnfoldDensityV17::TUnfold>: *NOT* unfolding bin #0\n",
      "Info in <TUnfoldDensityV17::TUnfold>: *NOT* unfolding bin #59\n",
      "Info in <TUnfoldV17::SetConstraint>: fConstraint=1\n",
      "Info in <TUnfoldV17::TUnfold>: underflow and overflow bin do not depend on the input data\n",
      "Info in <TUnfoldV17::TUnfold>: 112 input bins and 58 output bins\n",
      "Info in <TUnfoldDensityV17::TUnfold>: *NOT* unfolding bin #0\n",
      "Info in <TUnfoldDensityV17::TUnfold>: *NOT* unfolding bin #59\n",
      "Info in <TUnfoldV17::SetConstraint>: fConstraint=1\n",
      "Info in <TUnfoldV17::TUnfold>: underflow and overflow bin do not depend on the input data\n",
      "Info in <TUnfoldV17::TUnfold>: 112 input bins and 58 output bins\n",
      "Info in <TUnfoldDensityV17::TUnfold>: *NOT* unfolding bin #0\n",
      "Info in <TUnfoldDensityV17::TUnfold>: *NOT* unfolding bin #59\n",
      "Info in <TUnfoldV17::SetConstraint>: fConstraint=1\n",
      "Info in <TUnfoldV17::TUnfold>: underflow and overflow bin do not depend on the input data\n",
      "Info in <TUnfoldV17::TUnfold>: 112 input bins and 58 output bins\n",
      "Info in <TUnfoldDensityV17::TUnfold>: *NOT* unfolding bin #0\n",
      "Info in <TUnfoldDensityV17::TUnfold>: *NOT* unfolding bin #59\n"
     ]
    }
   ],
   "source": [
    "unfoldClass.SetNomTUnfoldDensity(\"Pt\", unfoldInputDic['matrix'], phase_space_detector, FSR_dR_detector, unfoldInputDic['matrix_closure'])\n",
    "unfoldClass.SetNomTUnfoldDensity(\"Mass\", unfoldInputDic['matrix'], phase_space_detector, FSR_dR_detector, unfoldInputDic['matrix_closure'])"
   ]
  },
  {
   "cell_type": "code",
   "execution_count": 7,
   "metadata": {},
   "outputs": [
    {
     "name": "stdout",
     "output_type": "stream",
     "text": [
      "histo: detector_level/hist_ptll/histo_DYJetsToTauTaunominal\n",
      "histo: detector_level/hist_ptll/histo_DYJets10to50ToTauTaunominal\n",
      "histo: detector_level/hist_ptll/histo_TTLL_powhegnominal\n",
      "histo: detector_level/hist_ptll/histo_WW_pythianominal\n",
      "histo: detector_level/hist_ptll/histo_WZ_pythianominal\n",
      "histo: detector_level/hist_ptll/histo_ZZ_pythianominal\n",
      "histo: detector_level/hist_ptll/histo_WJets_MGnominal\n"
     ]
    }
   ],
   "source": [
    "unfoldClass.setInput(\"Pt\", unfoldInputDic['hist'], False, \"nominal\", 0, bias, \"detector_level\")\n",
    "unfoldClass.setInput(\"Mass\", unfoldInputDic['hist'], False, \"nominal\", 0, bias, \"detector_level\")\n",
    "setUnfoldBkgs(unfoldClass, unfoldInputDic['hist'], \"nominal\", False, 0, -1, year)"
   ]
  },
  {
   "cell_type": "code",
   "execution_count": 8,
   "metadata": {},
   "outputs": [
    {
     "name": "stderr",
     "output_type": "stream",
     "text": [
      "Info in <TUnfoldDensityV17::ScanTau>: logtau=-Infinity y=0.368475 X=2.872420 Y=6.564084\n",
      "Info in <TUnfoldDensityV17::ScanTau>: logtau=-1.839389 y=0.431854 X=2.877946 Y=3.993704\n",
      "Info in <TUnfoldDensityV17::ScanTay>: logtau=-2.339389 y=0.423233 X=2.875599 Y=4.954589\n",
      "Info in <TUnfoldDensityV17::ScanTay>: logtau=-2.839389 y=0.354654 X=2.873350 Y=5.878132\n",
      "Info in <TUnfoldDensityV17::ScanTay>: logtau=-3.339389 y=0.356634 X=2.872474 Y=6.429103\n",
      "Info in <TUnfoldDensityV17::ScanTay>: logtau=-3.839389 y=0.367214 X=2.872421 Y=6.548847\n",
      "Info in <TUnfoldDensityV17::ScanTay>: logtau=-4.339389 y=0.368348 X=2.872421 Y=6.562540\n",
      "Info in <TUnfoldDensityV17::ScanTau>: logtau=-4.089389 y=0.368075 X=2.872421 Y=6.559217\n",
      "Info in <TUnfoldDensityV17::ScanTau>: logtau=-3.589389 y=0.364542 X=2.872427 Y=6.517373\n",
      "Info in <TUnfoldDensityV17::ScanTau>: logtau=-2.089389 y=0.430731 X=2.876874 Y=4.426365\n",
      "Info in <TUnfoldDensityV17::ScanTau>: logtau=-3.089389 y=0.340543 X=2.872711 Y=6.224178\n",
      "Info in <TUnfoldDensityV17::ScanTau>: logtau=-2.589389 y=0.396576 X=2.874350 Y=5.447642\n",
      "Info in <TUnfoldDensityV17::ScanTau>: logtau=-4.214389 y=0.368250 X=2.872421 Y=6.561342\n",
      "Info in <TUnfoldDensityV17::ScanTau>: logtau=-1.964389 y=0.431566 X=2.877423 Y=4.196407\n",
      "Info in <TUnfoldDensityV17::ScanTau>: logtau=-3.964389 y=0.367764 X=2.872421 Y=6.555460\n",
      "Info in <TUnfoldDensityV17::ScanTau>: logtau=-2.214389 y=0.428508 X=2.876259 Y=4.686092\n",
      "Info in <TUnfoldDensityV17::ScanTau>: logtau=-3.714389 y=0.366243 X=2.872423 Y=6.537294\n",
      "Info in <TUnfoldDensityV17::ScanTau>: logtau=-2.464389 y=0.412840 X=2.874948 Y=5.210607\n",
      "Info in <TUnfoldDensityV17::ScanTau>: logtau=-3.464389 y=0.361597 X=2.872441 Y=6.483777\n",
      "Info in <TUnfoldDensityV17::ScanTau>: logtau=-2.714389 y=0.375812 X=2.873815 Y=5.669654\n",
      "Info in <TUnfoldDensityV17::ScanTau>: logtau=-3.214389 y=0.348870 X=2.872553 Y=6.344808\n",
      "Info in <TUnfoldDensityV17::ScanTau>: logtau=-2.964389 y=0.341411 X=2.872975 Y=6.066403\n",
      "Info in <TUnfoldDensityV17::ScanTau>: logtau=-4.276889 y=0.368306 X=2.872421 Y=6.562026\n",
      "Info in <TUnfoldDensityV17::ScanTau>: logtau=-1.901889 y=0.431749 X=2.877682 Y=4.093031\n",
      "Info in <TUnfoldDensityV17::ScanTau>: logtau=-4.151889 y=0.368175 X=2.872421 Y=6.560430\n",
      "Info in <TUnfoldDensityV17::ScanTau>: logtau=-2.026889 y=0.431253 X=2.877156 Y=4.307073\n",
      "Info in <TUnfoldDensityV17::ScanTau>: logtau=-4.026889 y=0.367941 X=2.872421 Y=6.557604\n",
      "Info in <TUnfoldDensityV17::ScanTau>: logtau=-2.151889 y=0.429875 X=2.876575 Y=4.553516\n",
      "Info in <TUnfoldDensityV17::ScanTau>: logtau=-3.901889 y=0.367528 X=2.872421 Y=6.552616\n",
      "Info in <TUnfoldDensityV17::ScanTau>: logtau=-2.276889 y=0.426388 X=2.875932 Y=4.820838\n",
      "Info in <TUnfoldDensityV17::ScanTau>: logtau=-3.776889 y=0.366797 X=2.872422 Y=6.543864\n",
      "Info in <TUnfoldDensityV17::ScanTau>: logtau=-2.401889 y=0.418775 X=2.875269 Y=5.084945\n",
      "Info in <TUnfoldDensityV17::ScanTau>: logtau=-3.651889 y=0.365510 X=2.872425 Y=6.528662\n",
      "Info in <TUnfoldDensityV17::ScanTau>: logtau=-2.526889 y=0.405402 X=2.874641 Y=5.331340\n",
      "Info in <TUnfoldDensityV17::ScanTau>: logtau=-3.526889 y=0.363267 X=2.872432 Y=6.502701\n",
      "Info in <TUnfoldDensityV17::ScanTau>: logtau=-2.651889 y=0.386592 X=2.874074 Y=5.560246\n",
      "Info in <TUnfoldDensityV17::ScanTau>: logtau=-3.401889 y=0.359425 X=2.872454 Y=6.459606\n",
      "Info in <TUnfoldDensityV17::ScanTau>: logtau=-2.776889 y=0.364845 X=2.873572 Y=5.775830\n",
      "Info in <TUnfoldDensityV17::ScanTau>: logtau=-3.276889 y=0.353119 X=2.872506 Y=6.391170\n",
      "Info in <TUnfoldDensityV17::ScanTau>: logtau=-2.901889 y=0.346494 X=2.873150 Y=5.975443\n",
      "Info in <TUnfoldDensityV17::ScanTau>: logtau=-3.151889 y=0.344245 X=2.872620 Y=6.289266\n",
      "Info in <TUnfoldDensityV17::ScanTau>: logtau=-3.026889 y=0.339462 X=2.872829 Y=6.149675\n",
      "Info in <TUnfoldDensityV17::ScanTau>: logtau=-4.308139 y=0.368329 X=2.872421 Y=6.562302\n",
      "Info in <TUnfoldDensityV17::ScanTau>: logtau=-4.245639 y=0.368280 X=2.872421 Y=6.561708\n",
      "Info in <TUnfoldDensityV17::ScanTau>: logtau=-4.183139 y=0.368215 X=2.872421 Y=6.560918\n",
      "Info in <TUnfoldDensityV17::ScanTau>: logtau=-1.870639 y=0.431809 X=2.877813 Y=4.043121\n",
      "Info in <TUnfoldDensityV17::ScanTau>: logtau=-4.120639 y=0.368128 X=2.872421 Y=6.559867\n",
      "Info in <TUnfoldDensityV17::ScanTau>: logtau=-1.933139 y=0.431670 X=2.877553 Y=4.143972\n",
      "Info in <TUnfoldDensityV17::ScanTau>: logtau=-4.058139 y=0.368013 X=2.872421 Y=6.558468\n",
      "Info in <TUnfoldDensityV17::ScanTau>: logtau=-1.995639 y=0.431430 X=2.877290 Y=4.250695\n",
      "Info in <TUnfoldDensityV17::ScanTau>: Result logtau=-3.035645 y=0.339428 X=2.872811 Y=6.160661\n"
     ]
    }
   ],
   "source": [
    "unfoldClass.doISRUnfold(DetectorUnfold, False)"
   ]
  },
  {
   "cell_type": "code",
   "execution_count": 9,
   "metadata": {},
   "outputs": [],
   "source": [
    "hist = unfoldClass.getDetUnfoldedHists(\"unfolded_data\",\"mass[UO];pt[UOC0]\")\n",
    "mc_hist = unfoldClass.getMCHists(\"dressedLevel_mc\", \"mass[UO];pt[UOC0]\")\n",
    "det_hist = unfoldClass.getDetHists(\"detector_data\", \"mass[UO];pt[UOC0]\")\n",
    "\n",
    "unfoldClass.doNorm(hist, False)\n",
    "unfoldClass.doNorm(mc_hist, False)\n",
    "unfoldClass.doNorm(det_hist, False)"
   ]
  },
  {
   "cell_type": "code",
   "execution_count": 10,
   "metadata": {},
   "outputs": [],
   "source": [
    "%jsroot on"
   ]
  },
  {
   "cell_type": "code",
   "execution_count": 11,
   "metadata": {},
   "outputs": [],
   "source": [
    "c = rt.TCanvas(\"c\",\"c\", 800, 600)"
   ]
  },
  {
   "cell_type": "code",
   "execution_count": 30,
   "metadata": {},
   "outputs": [
    {
     "data": {
      "text/html": [
       "\n",
       "<div id=\"root_plot_19\"\n",
       "     style=\"width: 796px; height: 572px\">\n",
       "</div>\n",
       "\n",
       "<script>\n",
       " requirejs.config({\n",
       "     paths: {\n",
       "       'JSRootCore' : 'https://root.cern.ch/js/notebook//scripts/JSRootCore',\n",
       "     }\n",
       "   });\n",
       " require(['JSRootCore'],\n",
       "     function(Core) {\n",
       "       var obj = Core.JSONR_unref({\"_typename\":\"TCanvas\",\"fUniqueID\":0,\"fBits\":53673992,\"fLineColor\":1,\"fLineStyle\":1,\"fLineWidth\":1,\"fFillColor\":0,\"fFillStyle\":1001,\"fLeftMargin\":0.1,\"fRightMargin\":0.1,\"fBottomMargin\":0.1,\"fTopMargin\":0.1,\"fXfile\":2,\"fYfile\":2,\"fAfile\":1,\"fXstat\":0.99,\"fYstat\":0.99,\"fAstat\":2,\"fFrameFillColor\":0,\"fFrameLineColor\":1,\"fFrameFillStyle\":1001,\"fFrameLineStyle\":1,\"fFrameLineWidth\":1,\"fFrameBorderSize\":1,\"fFrameBorderMode\":0,\"fX1\":12.4999972060321,\"fY1\":0.162628687068974,\"fX2\":387.500002793968,\"fY2\":8.53634131726704,\"fXtoAbsPixelk\":-26.5332770072934,\"fXtoPixelk\":-26.5332770072934,\"fXtoPixel\":2.12266663503647,\"fYtoAbsPixelk\":583.109054226869,\"fYtoPixelk\":583.109054226869,\"fYtoPixel\":-68.3090076362544,\"fUtoAbsPixelk\":5e-5,\"fUtoPixelk\":5e-5,\"fUtoPixel\":796,\"fVtoAbsPixelk\":572.00005,\"fVtoPixelk\":572,\"fVtoPixel\":-572,\"fAbsPixeltoXk\":12.4999972060321,\"fPixeltoXk\":12.4999972060321,\"fPixeltoX\":0.471105534658211,\"fAbsPixeltoYk\":8.53634131726704,\"fPixeltoYk\":0.162628687068974,\"fPixeltoY\":-0.0146393577451015,\"fXlowNDC\":0,\"fYlowNDC\":0,\"fXUpNDC\":0,\"fYUpNDC\":0,\"fWNDC\":1,\"fHNDC\":1,\"fAbsXlowNDC\":0,\"fAbsYlowNDC\":0,\"fAbsWNDC\":1,\"fAbsHNDC\":1,\"fUxmin\":50,\"fUymin\":1,\"fUxmax\":350,\"fUymax\":7.69897000433602,\"fTheta\":30,\"fPhi\":30,\"fAspectRatio\":0,\"fNumber\":0,\"fTickx\":0,\"fTicky\":0,\"fLogx\":0,\"fLogy\":1,\"fLogz\":0,\"fPadPaint\":0,\"fCrosshair\":0,\"fCrosshairPos\":0,\"fBorderSize\":2,\"fBorderMode\":0,\"fModified\":false,\"fGridx\":false,\"fGridy\":false,\"fAbsCoord\":false,\"fEditable\":true,\"fFixedAspectRatio\":false,\"fPrimitives\":{\"_typename\":\"TList\",\"name\":\"TList\",\"arr\":[{\"_typename\":\"TFrame\",\"fUniqueID\":0,\"fBits\":50331656,\"fLineColor\":1,\"fLineStyle\":1,\"fLineWidth\":1,\"fFillColor\":0,\"fFillStyle\":1001,\"fX1\":50,\"fY1\":1,\"fX2\":350,\"fY2\":7.69897000433602,\"fBorderSize\":1,\"fBorderMode\":0},{\"_typename\":\"TH1D\",\"fUniqueID\":0,\"fBits\":50332168,\"fName\":\"unfolded_data\",\"fTitle\":\"unfolded_data\",\"fLineColor\":1,\"fLineStyle\":1,\"fLineWidth\":1,\"fFillColor\":0,\"fFillStyle\":1001,\"fMarkerColor\":1,\"fMarkerStyle\":20,\"fMarkerSize\":1,\"fNcells\":29,\"fXaxis\":{\"_typename\":\"TAxis\",\"fUniqueID\":0,\"fBits\":50331656,\"fName\":\"xaxis\",\"fTitle\":\"mass\",\"fNdivisions\":520,\"fAxisColor\":1,\"fLabelColor\":1,\"fLabelFont\":42,\"fLabelOffset\":0.005,\"fLabelSize\":0.035,\"fTickLength\":0.03,\"fTitleOffset\":1,\"fTitleSize\":0.035,\"fTitleColor\":1,\"fTitleFont\":42,\"fNbins\":27,\"fXmin\":50,\"fXmax\":350,\"fXbins\":[50,55,60,65,70,75,80,85,90,95,100,105,110,115,120,126,133,141,150,160,171,185,200,218,240,268,300,350],\"fFirst\":0,\"fLast\":0,\"fBits2\":0,\"fTimeDisplay\":false,\"fTimeFormat\":\"\",\"fLabels\":null,\"fModLabs\":null},\"fYaxis\":{\"_typename\":\"TAxis\",\"fUniqueID\":0,\"fBits\":50331656,\"fName\":\"yaxis\",\"fTitle\":\"Events\\/ 1GeV\",\"fNdivisions\":510,\"fAxisColor\":1,\"fLabelColor\":1,\"fLabelFont\":42,\"fLabelOffset\":0.005,\"fLabelSize\":0.035,\"fTickLength\":0.03,\"fTitleOffset\":0,\"fTitleSize\":0.035,\"fTitleColor\":1,\"fTitleFont\":42,\"fNbins\":1,\"fXmin\":0,\"fXmax\":1,\"fXbins\":[],\"fFirst\":0,\"fLast\":0,\"fBits2\":0,\"fTimeDisplay\":false,\"fTimeFormat\":\"\",\"fLabels\":null,\"fModLabs\":null},\"fZaxis\":{\"_typename\":\"TAxis\",\"fUniqueID\":0,\"fBits\":50331648,\"fName\":\"zaxis\",\"fTitle\":\"\",\"fNdivisions\":510,\"fAxisColor\":1,\"fLabelColor\":1,\"fLabelFont\":42,\"fLabelOffset\":0.005,\"fLabelSize\":0.035,\"fTickLength\":0.03,\"fTitleOffset\":1,\"fTitleSize\":0.035,\"fTitleColor\":1,\"fTitleFont\":42,\"fNbins\":1,\"fXmin\":0,\"fXmax\":1,\"fXbins\":[],\"fFirst\":0,\"fLast\":0,\"fBits2\":0,\"fTimeDisplay\":false,\"fTimeFormat\":\"\",\"fLabels\":null,\"fModLabs\":null},\"fBarOffset\":0,\"fBarWidth\":1000,\"fEntries\":83,\"fTsumw\":0,\"fTsumw2\":0,\"fTsumwx\":0,\"fTsumwx2\":0,\"fMaximum\":50000000,\"fMinimum\":10,\"fNormFactor\":0,\"fContour\":[],\"fSumw2\":[0,119904.064602441,124538.453883675,126995.90370776,144398.39384683,192434.862582912,300652.562671829,710735.210398994,3527377.80178836,4398342.02129331,613674.884663217,170980.616951176,84631.1145328188,60947.379465632,37155.9614215743,18990.6769644621,9309.00062419845,4686.8298184684,3158.15266926415,2306.76885996213,1061.45910413118,591.05252842205,323.799082697132,231.604521333928,175.393806064841,41.6489376710573,30.3445054500292,6.71326400658294,0],\"fOption\":\"\",\"fFunctions\":{\"_typename\":\"TList\",\"name\":\"TList\",\"arr\":[],\"opt\":[]},\"fBufferSize\":0,\"fBuffer\":[],\"fBinStatErrOpt\":0,\"fStatOverflows\":2,\"fArray\":[0,53148.6654265825,55727.1209162831,58963.9140338634,69298.4613732942,88199.85710259,134777.1272922,280451.267173373,1359836.50479671,3679446.496362,316866.386265565,100980.928675634,46264.4592658277,28671.3875069592,19121.3770396297,13246.0858508593,9603.29516776796,6691.56008128716,4859.04899998264,3285.68657001775,2488.33524310553,1781.55863379269,1208.3480629982,874.175164869347,563.962437075621,363.590285914752,234.582368937564,129.54926941176,0]},{\"_typename\":\"TH1D\",\"fUniqueID\":0,\"fBits\":50331656,\"fName\":\"dressedLevel_mc\",\"fTitle\":\"dressedLevel_mc\",\"fLineColor\":1,\"fLineStyle\":1,\"fLineWidth\":1,\"fFillColor\":0,\"fFillStyle\":1001,\"fMarkerColor\":1,\"fMarkerStyle\":24,\"fMarkerSize\":1.2,\"fNcells\":29,\"fXaxis\":{\"_typename\":\"TAxis\",\"fUniqueID\":0,\"fBits\":50331648,\"fName\":\"xaxis\",\"fTitle\":\"mass\",\"fNdivisions\":510,\"fAxisColor\":1,\"fLabelColor\":1,\"fLabelFont\":42,\"fLabelOffset\":0.005,\"fLabelSize\":0.035,\"fTickLength\":0.03,\"fTitleOffset\":1,\"fTitleSize\":0.035,\"fTitleColor\":1,\"fTitleFont\":42,\"fNbins\":27,\"fXmin\":50,\"fXmax\":350,\"fXbins\":[50,55,60,65,70,75,80,85,90,95,100,105,110,115,120,126,133,141,150,160,171,185,200,218,240,268,300,350],\"fFirst\":0,\"fLast\":0,\"fBits2\":0,\"fTimeDisplay\":false,\"fTimeFormat\":\"\",\"fLabels\":null,\"fModLabs\":null},\"fYaxis\":{\"_typename\":\"TAxis\",\"fUniqueID\":0,\"fBits\":50331648,\"fName\":\"yaxis\",\"fTitle\":\"\",\"fNdivisions\":510,\"fAxisColor\":1,\"fLabelColor\":1,\"fLabelFont\":42,\"fLabelOffset\":0.005,\"fLabelSize\":0.035,\"fTickLength\":0.03,\"fTitleOffset\":0,\"fTitleSize\":0.035,\"fTitleColor\":1,\"fTitleFont\":42,\"fNbins\":1,\"fXmin\":0,\"fXmax\":1,\"fXbins\":[],\"fFirst\":0,\"fLast\":0,\"fBits2\":0,\"fTimeDisplay\":false,\"fTimeFormat\":\"\",\"fLabels\":null,\"fModLabs\":null},\"fZaxis\":{\"_typename\":\"TAxis\",\"fUniqueID\":0,\"fBits\":50331648,\"fName\":\"zaxis\",\"fTitle\":\"\",\"fNdivisions\":510,\"fAxisColor\":1,\"fLabelColor\":1,\"fLabelFont\":42,\"fLabelOffset\":0.005,\"fLabelSize\":0.035,\"fTickLength\":0.03,\"fTitleOffset\":1,\"fTitleSize\":0.035,\"fTitleColor\":1,\"fTitleFont\":42,\"fNbins\":1,\"fXmin\":0,\"fXmax\":1,\"fXbins\":[],\"fFirst\":0,\"fLast\":0,\"fBits2\":0,\"fTimeDisplay\":false,\"fTimeFormat\":\"\",\"fLabels\":null,\"fModLabs\":null},\"fBarOffset\":0,\"fBarWidth\":1000,\"fEntries\":83,\"fTsumw\":0,\"fTsumw2\":0,\"fTsumwx\":0,\"fTsumwx2\":0,\"fMaximum\":-1111,\"fMinimum\":-1111,\"fNormFactor\":0,\"fContour\":[],\"fSumw2\":[0,0,0,0,0,0,0,0,0,0,0,0,0,0,0,0,0,0,0,0,0,0,0,0,0,0,0,0,0],\"fOption\":\"\",\"fFunctions\":{\"_typename\":\"TList\",\"name\":\"TList\",\"arr\":[],\"opt\":[]},\"fBufferSize\":0,\"fBuffer\":[],\"fBinStatErrOpt\":0,\"fStatOverflows\":2,\"fArray\":[0,51392.5426911634,54829.2206917203,58073.7135071322,67186.0354341171,86988.9915825553,132212.944070452,268817.641573704,1357717.17768907,3837005.39809001,327694.879617302,97080.5744989635,47221.1585916053,28130.542971029,18611.4851026131,13074.7736788677,9172.47968850841,6350.06817528398,4596.34947099031,3268.53223586334,2392.63824242411,1642.49636286455,1173.41845421982,824.033262984303,517.337371157213,337.499252643401,213.36712620515,118.373422085033,0]},{\"_typename\":\"TH1D\",\"fUniqueID\":0,\"fBits\":50331656,\"fName\":\"detector_data\",\"fTitle\":\"detector_data\",\"fLineColor\":632,\"fLineStyle\":1,\"fLineWidth\":1,\"fFillColor\":0,\"fFillStyle\":1001,\"fMarkerColor\":632,\"fMarkerStyle\":20,\"fMarkerSize\":1,\"fNcells\":56,\"fXaxis\":{\"_typename\":\"TAxis\",\"fUniqueID\":0,\"fBits\":50331648,\"fName\":\"xaxis\",\"fTitle\":\"mass\",\"fNdivisions\":510,\"fAxisColor\":1,\"fLabelColor\":1,\"fLabelFont\":42,\"fLabelOffset\":0.005,\"fLabelSize\":0.035,\"fTickLength\":0.03,\"fTitleOffset\":1,\"fTitleSize\":0.035,\"fTitleColor\":1,\"fTitleFont\":42,\"fNbins\":54,\"fXmin\":50,\"fXmax\":350,\"fXbins\":[50,52.5,55,57.5,60,62.5,65,67.5,70,72.5,75,77.5,80,82.5,85,87.5,90,92.5,95,97.5,100,102.5,105,107.5,110,112.5,115,117.5,120,123,126,129.5,133,137,141,145.5,150,155,160,165.5,171,178,185,192.5,200,209,218,229,240,254,268,284,300,325,350],\"fFirst\":0,\"fLast\":0,\"fBits2\":0,\"fTimeDisplay\":false,\"fTimeFormat\":\"\",\"fLabels\":null,\"fModLabs\":null},\"fYaxis\":{\"_typename\":\"TAxis\",\"fUniqueID\":0,\"fBits\":50331648,\"fName\":\"yaxis\",\"fTitle\":\"\",\"fNdivisions\":510,\"fAxisColor\":1,\"fLabelColor\":1,\"fLabelFont\":42,\"fLabelOffset\":0.005,\"fLabelSize\":0.035,\"fTickLength\":0.03,\"fTitleOffset\":0,\"fTitleSize\":0.035,\"fTitleColor\":1,\"fTitleFont\":42,\"fNbins\":1,\"fXmin\":0,\"fXmax\":1,\"fXbins\":[],\"fFirst\":0,\"fLast\":0,\"fBits2\":0,\"fTimeDisplay\":false,\"fTimeFormat\":\"\",\"fLabels\":null,\"fModLabs\":null},\"fZaxis\":{\"_typename\":\"TAxis\",\"fUniqueID\":0,\"fBits\":50331648,\"fName\":\"zaxis\",\"fTitle\":\"\",\"fNdivisions\":510,\"fAxisColor\":1,\"fLabelColor\":1,\"fLabelFont\":42,\"fLabelOffset\":0.005,\"fLabelSize\":0.035,\"fTickLength\":0.03,\"fTitleOffset\":1,\"fTitleSize\":0.035,\"fTitleColor\":1,\"fTitleFont\":42,\"fNbins\":1,\"fXmin\":0,\"fXmax\":1,\"fXbins\":[],\"fFirst\":0,\"fLast\":0,\"fBits2\":0,\"fTimeDisplay\":false,\"fTimeFormat\":\"\",\"fLabels\":null,\"fModLabs\":null},\"fBarOffset\":0,\"fBarWidth\":1000,\"fEntries\":164,\"fTsumw\":0,\"fTsumw2\":0,\"fTsumwx\":0,\"fTsumwx2\":0,\"fMaximum\":-1111,\"fMinimum\":-1111,\"fNormFactor\":0,\"fContour\":[],\"fSumw2\":[0,11307.0353090941,12096.9621766715,12016.0861763256,12247.415869088,12149.132720947,11691.3841503121,12130.9355126852,13828.0745099304,15587.369446743,18543.154896832,22940.3273473334,33500.2715109743,55281.6640415438,109356.32574231,244764.019907885,501415.996237849,584491.27091519,262452.779658773,86176.1584087741,36572.4407795285,20047.1767892512,13422.7220219094,9079.26814320977,7568.55712739538,6695.51623293527,5258.89934552421,4138.83714603713,3119.21029877667,2909.96142724289,2023.10013330031,1679.76585998487,1210.17537033241,875.092398250749,925.967671978894,731.31122836847,630.925671415911,589.763200565371,514.544517356519,300.617416622908,226.17131817325,180.740838338982,187.380751674129,118.994092396057,86.4004277952356,83.8515060135115,87.3123886537799,80.6148328566027,54.0379190963169,18.1713400716918,22.3323536917669,22.4847036565413,8.30535102842158,3.99025614000287,2.91566400516202,0],\"fOption\":\"\",\"fFunctions\":{\"_typename\":\"TList\",\"name\":\"TList\",\"arr\":[],\"opt\":[]},\"fBufferSize\":0,\"fBuffer\":[],\"fBinStatErrOpt\":0,\"fStatOverflows\":2,\"fArray\":[0,16405.6474254791,17523.64316798,18085.5246481019,19016.177002778,20155.399705703,21745.9691315,24165.7331721897,27474.3115003741,32460.5459726701,40813.1232932614,54048.665671343,79597.8232262646,135171.87545036,269907.409111376,607680.240339322,1246906.12743449,1456234.06387021,654117.380201573,213256.369665846,89617.5429703843,49052.902855093,31981.3552405359,22338.2279574261,17026.3279354214,13317.3920061623,10743.378933219,8888.85037671259,7492.91909564475,6350.13375756329,5416.11024574894,4547.36149153543,3950.51782075303,3286.72110784614,2841.15730619742,2441.6365176451,2025.69761244373,1736.65989053106,1488.68058444286,1287.15065489548,1130.66363908242,963.371570002202,790.6354527755,682.241228071528,564.594984930031,485.079912466252,407.838923043911,319.847425372008,264.980374538927,221.996227480711,185.17813780251,137.339159321237,114.251253875663,85.0948267634378,62.5951615273607,0]},{\"_typename\":\"TLegend\",\"fUniqueID\":0,\"fBits\":50331656,\"fLineColor\":1,\"fLineStyle\":1,\"fLineWidth\":1,\"fFillColor\":0,\"fFillStyle\":1001,\"fX1\":275.000001117587,\"fY1\":6.02422752820762,\"fX2\":350.000002235174,\"fY2\":7.69897005424724,\"fX1NDC\":0.7,\"fY1NDC\":0.7,\"fX2NDC\":0.9,\"fY2NDC\":0.9,\"fBorderSize\":1,\"fInit\":1,\"fShadowColor\":1,\"fCornerRadius\":0,\"fOption\":\"brNDC\",\"fName\":\"TPave\",\"fTextAngle\":0,\"fTextSize\":0,\"fTextAlign\":12,\"fTextColor\":1,\"fTextFont\":42,\"fPrimitives\":{\"_typename\":\"TList\",\"name\":\"TList\",\"arr\":[{\"_typename\":\"TLegendEntry\",\"fUniqueID\":0,\"fBits\":50331656,\"fTextAngle\":0,\"fTextSize\":0,\"fTextAlign\":0,\"fTextColor\":0,\"fTextFont\":42,\"fLineColor\":1,\"fLineStyle\":1,\"fLineWidth\":1,\"fFillColor\":0,\"fFillStyle\":0,\"fMarkerColor\":1,\"fMarkerStyle\":20,\"fMarkerSize\":1,\"fObject\":{\"$ref\":3},\"fLabel\":\"Unfolded data\",\"fOption\":\"ple\"},{\"_typename\":\"TLegendEntry\",\"fUniqueID\":0,\"fBits\":50331656,\"fTextAngle\":0,\"fTextSize\":0,\"fTextAlign\":0,\"fTextColor\":0,\"fTextFont\":42,\"fLineColor\":1,\"fLineStyle\":1,\"fLineWidth\":1,\"fFillColor\":0,\"fFillStyle\":0,\"fMarkerColor\":1,\"fMarkerStyle\":24,\"fMarkerSize\":1.2,\"fObject\":{\"$ref\":8},\"fLabel\":\"MC truth\",\"fOption\":\"ple\"},{\"_typename\":\"TLegendEntry\",\"fUniqueID\":0,\"fBits\":50331656,\"fTextAngle\":0,\"fTextSize\":0,\"fTextAlign\":0,\"fTextColor\":0,\"fTextFont\":42,\"fLineColor\":632,\"fLineStyle\":1,\"fLineWidth\":1,\"fFillColor\":0,\"fFillStyle\":0,\"fMarkerColor\":632,\"fMarkerStyle\":20,\"fMarkerSize\":1,\"fObject\":{\"$ref\":13},\"fLabel\":\"Detector data\",\"fOption\":\"ple\"}],\"opt\":[\"ple\",\"ple\",\"ple\"]},\"fEntrySeparation\":0.1,\"fMargin\":0.25,\"fNColumns\":1,\"fColumnSeparation\":0},{\"_typename\":\"TPaveText\",\"fUniqueID\":0,\"fBits\":50331657,\"fLineColor\":1,\"fLineStyle\":1,\"fLineWidth\":1,\"fFillColor\":0,\"fFillStyle\":0,\"fX1\":149.610552012958,\"fY1\":8.00259037380962,\"fX2\":250.389447987042,\"fY2\":8.49447279404503,\"fX1NDC\":0.365628140703518,\"fY1NDC\":0.936258746027113,\"fX2NDC\":0.634371859296482,\"fY2NDC\":0.995000004768372,\"fBorderSize\":0,\"fInit\":1,\"fShadowColor\":1,\"fCornerRadius\":0,\"fOption\":\"blNDC\",\"fName\":\"title\",\"fTextAngle\":0,\"fTextSize\":0,\"fTextAlign\":22,\"fTextColor\":1,\"fTextFont\":42,\"fLabel\":\"\",\"fLongest\":13,\"fMargin\":0.05,\"fLines\":{\"_typename\":\"TList\",\"name\":\"TList\",\"arr\":[{\"_typename\":\"TLatex\",\"fUniqueID\":0,\"fBits\":50331648,\"fName\":\"\",\"fTitle\":\"unfolded_data\",\"fTextAngle\":0,\"fTextSize\":0,\"fTextAlign\":0,\"fTextColor\":0,\"fTextFont\":0,\"fX\":0,\"fY\":0,\"fLineColor\":1,\"fLineStyle\":1,\"fLineWidth\":2,\"fLimitFactorSize\":3,\"fOriginSize\":0.0499300695955753}],\"opt\":[\"\"]}}],\"opt\":[\"\",\"hist pe\",\"pe same\",\"pe same\",\"\",\"blNDC\"]},\"fExecs\":null,\"fName\":\"c\",\"fTitle\":\"c\",\"fNumPaletteColor\":0,\"fNextPaletteColor\":0,\"fDISPLAY\":\"$DISPLAY\",\"fDoubleBuffer\":0,\"fRetained\":true,\"fXsizeUser\":0,\"fYsizeUser\":0,\"fXsizeReal\":20,\"fYsizeReal\":15,\"fWindowTopX\":0,\"fWindowTopY\":0,\"fWindowWidth\":0,\"fWindowHeight\":0,\"fCw\":796,\"fCh\":572,\"fCatt\":{\"_typename\":\"TAttCanvas\",\"fXBetween\":2,\"fYBetween\":2,\"fTitleFromTop\":1.2,\"fXdate\":0.2,\"fYdate\":0.3,\"fAdate\":1},\"kMoveOpaque\":true,\"kResizeOpaque\":true,\"fHighLightColor\":2,\"fBatch\":true,\"kShowEventStatus\":false,\"kAutoExec\":true,\"kMenuBar\":true});\n",
       "       Core.draw(\"root_plot_19\", obj, \"\");\n",
       "     }\n",
       " );\n",
       "</script>\n"
      ],
      "text/plain": [
       "<IPython.core.display.HTML object>"
      ]
     },
     "metadata": {},
     "output_type": "display_data"
    }
   ],
   "source": [
    "\n",
    "c.SetLogy()\n",
    "\n",
    "hist.SetMarkerStyle(20)\n",
    "hist.SetLineColor(rt.kBlack)\n",
    "mc_hist.SetMarkerSize(1.2)\n",
    "mc_hist.SetMarkerStyle(24)\n",
    "mc_hist.SetLineColor(rt.kBlack)\n",
    "det_hist.SetMarkerStyle(20)\n",
    "det_hist.SetMarkerColor(rt.kRed)\n",
    "det_hist.SetLineColor(rt.kRed)\n",
    "\n",
    "hist.GetYaxis().SetTitle(\"Events/ 1GeV\")\n",
    "\n",
    "hist.SetStats(rt.kFALSE)\n",
    "hist.Draw(\"hist pe\")\n",
    "mc_hist.Draw(\"pe same\")\n",
    "det_hist.Draw(\"pe same\")\n",
    "\n",
    "hist.GetXaxis().SetNdivisions(520)\n",
    "\n",
    "legend = rt.TLegend(0.7, 0.7, 0.9, 0.9)\n",
    "legend.AddEntry(hist, \"Unfolded data\", \"ple\")\n",
    "legend.AddEntry(mc_hist, \"MC truth\", \"ple\")\n",
    "legend.AddEntry(det_hist, \"Detector data\", \"ple\")\n",
    "legend.Draw()\n",
    "\n",
    "hist.SetMaximum(5e7)\n",
    "hist.SetMinimum(1e1)\n",
    "\n",
    "c.Draw()"
   ]
  },
  {
   "cell_type": "code",
   "execution_count": null,
   "metadata": {},
   "outputs": [],
   "source": []
  }
 ],
 "metadata": {
  "kernelspec": {
   "display_name": "Python 3",
   "language": "python",
   "name": "python3"
  },
  "language_info": {
   "codemirror_mode": {
    "name": "ipython",
    "version": 3
   },
   "file_extension": ".py",
   "mimetype": "text/x-python",
   "name": "python",
   "nbconvert_exporter": "python",
   "pygments_lexer": "ipython3",
   "version": "3.6.8"
  }
 },
 "nbformat": 4,
 "nbformat_minor": 4
}
