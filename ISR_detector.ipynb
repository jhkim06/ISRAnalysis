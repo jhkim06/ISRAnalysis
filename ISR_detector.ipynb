{
 "cells": [
  {
   "cell_type": "code",
   "execution_count": 1,
   "metadata": {},
   "outputs": [
    {
     "name": "stdout",
     "output_type": "stream",
     "text": [
      "Welcome to JupyROOT 6.14/04\n"
     ]
    }
   ],
   "source": [
    "import ROOT as rt\n",
    "import os\n",
    "import sys"
   ]
  },
  {
   "cell_type": "code",
   "execution_count": 2,
   "metadata": {},
   "outputs": [],
   "source": [
    "def setUnfoldBkgs(unfold_class, hfile_path, isSys, syst_name, nthSys, nTotSys, year):\n",
    "    \n",
    "    bkgList = [\"DYJetsToTauTau\", \"DYJets10to50ToTauTau\", \"TTLL_powheg\", \"WW_pythia\", \"WZ_pythia\", \"ZZ_pythia\", \\\n",
    "               \"SingleTop_tW_top_Incl\", \"SingleTop_tW_antitop_Incl\", \"WJets_MG\"]\n",
    "    \n",
    "    for bkg in bkgList:\n",
    "        unfold_class.subBkgs(\"Pt\", hfile_path, bkg, isSys, syst_name, nTotSys, nthSys, \"Detector\")\n",
    "        unfold_class.subBkgs(\"Mass\", hfile_path, bkg, isSys, syst_name, nTotSys, nthSys, \"Detector\")"
   ]
  },
  {
   "cell_type": "code",
   "execution_count": 3,
   "metadata": {},
   "outputs": [
    {
     "name": "stdout",
     "output_type": "stream",
     "text": [
      "{'matrix': 'inFiles/2016/muon/DY_new.root', 'fsr_matrix': 'inFiles/2016/muon/DY_FSR_new.root', 'hist': 'inFiles/2016/muon/unfold_input_Muon_new.root'}\n"
     ]
    }
   ],
   "source": [
    "year    = '2016'\n",
    "channel = 'muon'\n",
    "doSys   = True\n",
    "\n",
    "# N_rec == N_gen or N_rec == 2 * N_gen\n",
    "# Detector_Dressed_DRp1_Fiducial\n",
    "# Dressed_DRp1_Dressed_DR4PI_Fiducial\n",
    "# Dressed_DRp1_Dressed_DR4PI_FullPhase\n",
    "# Detector_Dressed_DR4PI_Fiducial\n",
    "# Detector_Dressed_DR4PI_FullPhase\n",
    "\n",
    "matrix_detector = 'Detector_Dressed_DRp1_Fiducial' \n",
    "matrix_det_fsr = 'Detector_Dressed_DR4PI_FullPhase'\n",
    "matrix_fsr = \"Dressed_DRp1_Dressed_DR4PI\"\n",
    "phase_space = \"FullPhase\"\n",
    "\n",
    "# Set output directory\n",
    "outDir = 'output/'+year+'/new_'+channel+'/'\n",
    "inFhistTxt = 'inFiles/'+year+'/'+channel+'/fhist.txt'\n",
    "\n",
    "# Make output directory\n",
    "if not os.path.exists(outDir):\n",
    "    os.makedirs(outDir)\n",
    "\n",
    "# Read text file including root file path and for unfolding\n",
    "filePaths = open(inFhistTxt, 'r')\n",
    "unfoldInputDic = {}\n",
    "\n",
    "for path in filePaths:\n",
    "    modifiedPath = path.lstrip(' ').rstrip(' ').rstrip('\\n')\n",
    "    unfoldInputDic[modifiedPath.split()[1]] = modifiedPath.split()[2]\n",
    "    \n",
    "print(unfoldInputDic)"
   ]
  },
  {
   "cell_type": "code",
   "execution_count": 4,
   "metadata": {},
   "outputs": [],
   "source": [
    "import pyScripts.unfoldUtil as unfoldutil\n",
    "import pyScripts.drawUtil as drawutil\n",
    "\n",
    "# Simple unfolding tests\n",
    "# Unfolding without systematics\n",
    "# Closure tests"
   ]
  },
  {
   "cell_type": "code",
   "execution_count": 5,
   "metadata": {},
   "outputs": [
    {
     "name": "stdout",
     "output_type": "stream",
     "text": [
      "ISRUnfold set!\n",
      "ISRUnfold set!\n"
     ]
    }
   ],
   "source": [
    "DetectorUnfold = 0\n",
    "FSRUnfold = 1\n",
    "bias = 1.0\n",
    "\n",
    "# Create ISRUnfold class\n",
    "unfoldClass = rt.ISRUnfold(channel, int(year), int(0))\n",
    "unfoldClass.setOutputBaseDir(outDir)\n",
    "unfoldClass.setBias(bias)\n",
    "\n",
    "# To test one-step unfolding result\n",
    "unfoldClass_ = rt.ISRUnfold(channel, int(year), int(0))\n",
    "unfoldClass_.setOutputBaseDir(outDir)\n",
    "unfoldClass_.setBias(bias)"
   ]
  },
  {
   "cell_type": "code",
   "execution_count": 6,
   "metadata": {},
   "outputs": [
    {
     "ename": "TypeError",
     "evalue": "void ISRUnfold::setNomResMatrix(TString var, TString filepath, TString dirName, TString histName, bool isSquareMatrix = false) =>\n    takes at least 4 arguments (3 given)",
     "output_type": "error",
     "traceback": [
      "\u001b[0;31m---------------------------------------------------------------------------\u001b[0m",
      "\u001b[0;31mTypeError\u001b[0m                                 Traceback (most recent call last)",
      "\u001b[0;32m<ipython-input-6-43d349445b84>\u001b[0m in \u001b[0;36m<module>\u001b[0;34m\u001b[0m\n\u001b[1;32m      1\u001b[0m \u001b[0;31m# Set response matrixs\u001b[0m\u001b[0;34m\u001b[0m\u001b[0;34m\u001b[0m\u001b[0;34m\u001b[0m\u001b[0m\n\u001b[0;32m----> 2\u001b[0;31m \u001b[0munfoldClass\u001b[0m\u001b[0;34m.\u001b[0m\u001b[0msetNomResMatrix\u001b[0m\u001b[0;34m(\u001b[0m\u001b[0;34m\"Pt\"\u001b[0m\u001b[0;34m,\u001b[0m \u001b[0munfoldInputDic\u001b[0m\u001b[0;34m[\u001b[0m\u001b[0;34m'matrix'\u001b[0m\u001b[0;34m]\u001b[0m\u001b[0;34m,\u001b[0m \u001b[0mmatrix_detector\u001b[0m\u001b[0;34m)\u001b[0m\u001b[0;34m\u001b[0m\u001b[0;34m\u001b[0m\u001b[0m\n\u001b[0m\u001b[1;32m      3\u001b[0m \u001b[0munfoldClass\u001b[0m\u001b[0;34m.\u001b[0m\u001b[0msetNomResMatrix\u001b[0m\u001b[0;34m(\u001b[0m\u001b[0;34m\"Mass\"\u001b[0m\u001b[0;34m,\u001b[0m \u001b[0munfoldInputDic\u001b[0m\u001b[0;34m[\u001b[0m\u001b[0;34m'matrix'\u001b[0m\u001b[0;34m]\u001b[0m\u001b[0;34m,\u001b[0m \u001b[0mmatrix_detector\u001b[0m\u001b[0;34m)\u001b[0m\u001b[0;34m\u001b[0m\u001b[0;34m\u001b[0m\u001b[0m\n\u001b[1;32m      4\u001b[0m \u001b[0;34m\u001b[0m\u001b[0m\n\u001b[1;32m      5\u001b[0m \u001b[0;31m# Below warning due to unfilled undorflow/overflow bin for gen level\u001b[0m\u001b[0;34m\u001b[0m\u001b[0;34m\u001b[0m\u001b[0;34m\u001b[0m\u001b[0m\n",
      "\u001b[0;31mTypeError\u001b[0m: void ISRUnfold::setNomResMatrix(TString var, TString filepath, TString dirName, TString histName, bool isSquareMatrix = false) =>\n    takes at least 4 arguments (3 given)"
     ]
    }
   ],
   "source": [
    "# Set response matrixs\n",
    "unfoldClass.setNomResMatrix(\"Pt\", unfoldInputDic['matrix'], matrix_detector)\n",
    "unfoldClass.setNomResMatrix(\"Mass\", unfoldInputDic['matrix'], matrix_detector)\n",
    "\n",
    "# Below warning due to unfilled undorflow/overflow bin for gen level"
   ]
  },
  {
   "cell_type": "code",
   "execution_count": null,
   "metadata": {},
   "outputs": [],
   "source": [
    "unfoldClass_.setNomResMatrix(\"Pt\", unfoldInputDic['matrix'], matrix_det_fsr)"
   ]
  },
  {
   "cell_type": "code",
   "execution_count": null,
   "metadata": {},
   "outputs": [],
   "source": [
    "unfoldClass_.setNomResMatrix(\"Mass\", unfoldInputDic['matrix'], matrix_det_fsr)"
   ]
  },
  {
   "cell_type": "code",
   "execution_count": null,
   "metadata": {},
   "outputs": [],
   "source": [
    "# Set response matrix for FSR\n",
    "unfoldClass.setNomFSRResMatrix(\"Pt\", unfoldInputDic['fsr_matrix'], matrix_fsr, phase_space)"
   ]
  },
  {
   "cell_type": "code",
   "execution_count": null,
   "metadata": {},
   "outputs": [],
   "source": [
    "unfoldClass.setNomFSRResMatrix(\"Mass\", unfoldInputDic['fsr_matrix'], matrix_fsr, phase_space)"
   ]
  },
  {
   "cell_type": "markdown",
   "metadata": {},
   "source": [
    "## 리컨스트럭션레벨 히스토그램 확인"
   ]
  },
  {
   "cell_type": "code",
   "execution_count": null,
   "metadata": {},
   "outputs": [],
   "source": [
    "from IPython.core.display import display, HTML\n",
    "display(HTML(\"<style>.container { width:100% !important; }</style>\"))"
   ]
  },
  {
   "cell_type": "code",
   "execution_count": null,
   "metadata": {},
   "outputs": [],
   "source": [
    "# Lets save 1D histograms seperately for the 2D histogram, and use them to check reconstruction level plot\n",
    "\n",
    "data_raw_hist = unfoldClass.getRawHist(unfoldInputDic['hist'], \"Detector/Mass_1D/histo_DoubleMuon\", \"data_raw_hist\", \"mass[UO];pt[UOC0]\") \n",
    "DY50plusToEE_raw_hist = unfoldClass.getRawHist(unfoldInputDic['hist'], \"Detector/Mass_1D/histo_DYJetsToMuMu\", \"DYJets50plusEE_raw_hist\", \"mass[UO];pt[UOC0]\") \n",
    "DY10to50ToEE_raw_hist = unfoldClass.getRawHist(unfoldInputDic['hist'], \"Detector/Mass_1D/histo_DYJets10to50ToMuMu\", \"DYJets10to50plusEE_raw_hist\", \"mass[UO];pt[UOC0]\") \n",
    "DY50plusToTauTau_raw_hist = unfoldClass.getRawHist(unfoldInputDic['hist'], \"Detector/Mass_1D/histo_DYJetsToTauTau\", \"DYJets50plusTauTau_raw_hist\", \"mass[UO];pt[UOC0]\") \n",
    "DY10to50ToTauTau_raw_hist = unfoldClass.getRawHist(unfoldInputDic['hist'], \"Detector/Mass_1D/histo_DYJets10to50ToTauTau\", \"DYJets10to50plusTauTau_raw_hist\", \"mass[UO];pt[UOC0]\") \n",
    "WW_raw_hist = unfoldClass.getRawHist(unfoldInputDic['hist'], \"Detector/Mass_1D/histo_WW_pythia\", \"WW_raw_hist\", \"mass[UO];pt[UOC0]\") \n",
    "WZ_raw_hist = unfoldClass.getRawHist(unfoldInputDic['hist'], \"Detector/Mass_1D/histo_WZ_pythia\", \"WZ_raw_hist\", \"mass[UO];pt[UOC0]\") \n",
    "ZZ_raw_hist = unfoldClass.getRawHist(unfoldInputDic['hist'], \"Detector/Mass_1D/histo_ZZ_pythia\", \"ZZ_raw_hist\", \"mass[UO];pt[UOC0]\") \n",
    "TT_raw_hist = unfoldClass.getRawHist(unfoldInputDic['hist'], \"Detector/Mass_1D/histo_TTLL_powheg\", \"TT_raw_hist\", \"mass[UO];pt[UOC0]\") \n",
    "ST_top_raw_hist = unfoldClass.getRawHist(unfoldInputDic['hist'], \"Detector/Mass_1D/histo_SingleTop_tW_top_Incl\", \"ST_top_raw_hist\", \"mass[UO];pt[UOC0]\") \n",
    "ST_antitop_raw_hist = unfoldClass.getRawHist(unfoldInputDic['hist'], \"Detector/Mass_1D/histo_SingleTop_tW_antitop_Incl\", \"ST_antitop_raw_hist\", \"mass[UO];pt[UOC0]\") \n",
    "WJets_raw_hist = unfoldClass.getRawHist(unfoldInputDic['hist'], \"Detector/Mass_1D/histo_WJets_MG\", \"WJets_raw_hist\", \"mass[UO];pt[UOC0]\") "
   ]
  },
  {
   "cell_type": "code",
   "execution_count": null,
   "metadata": {},
   "outputs": [],
   "source": [
    "#unfoldClass.doNorm(data_raw_hist, False)\n",
    "#unfoldClass.doNorm(DY50plusToEE_raw_hist, False)\n",
    "#unfoldClass.doNorm(DY10to50ToEE_raw_hist, False)\n",
    "#unfoldClass.doNorm(DY50plusToTauTau_raw_hist, False)\n",
    "#unfoldClass.doNorm(DY10to50ToTauTau_raw_hist, False)\n",
    "#unfoldClass.doNorm(WW_raw_hist, False)\n",
    "#unfoldClass.doNorm(WZ_raw_hist, False)\n",
    "#unfoldClass.doNorm(ZZ_raw_hist, False)\n",
    "#unfoldClass.doNorm(TT_raw_hist, False)\n",
    "\n",
    "DY = DY50plusToEE_raw_hist.Clone(\"DY\")\n",
    "DY.Add(DY10to50ToEE_raw_hist)\n",
    "\n",
    "DYTau = DY50plusToTauTau_raw_hist.Clone(\"DYTau\")\n",
    "DYTau.Add(DY10to50ToTauTau_raw_hist)\n",
    "\n",
    "VV = ZZ_raw_hist.Clone(\"VV\")\n",
    "VV.Add(WZ_raw_hist)\n",
    "VV.Add(WW_raw_hist)\n",
    "\n",
    "EWK = DYTau.Clone(\"EWK\")\n",
    "EWK.Add(VV)\n",
    "\n",
    "ST = ST_top_raw_hist.Clone(\"ST\")\n",
    "ST.Add(ST_antitop_raw_hist)"
   ]
  },
  {
   "cell_type": "code",
   "execution_count": null,
   "metadata": {},
   "outputs": [],
   "source": [
    "%jsroot on"
   ]
  },
  {
   "cell_type": "code",
   "execution_count": null,
   "metadata": {},
   "outputs": [],
   "source": [
    "c_det = rt.TCanvas(\"c_det\",\"c_det\", 800, 600)\n",
    "\n",
    "pad1 = rt.TPad(\"pad1\", \"pad1\", 0, 0.3, 1, 1.0)\n",
    "pad1.SetBottomMargin(0.01)\n",
    "pad1.Draw()\n",
    "c_det.cd()\n",
    "pad2 = rt.TPad(\"pad2\", \"pad2\", 0, 0.0, 1, 0.3)\n",
    "pad2.Draw()"
   ]
  },
  {
   "cell_type": "code",
   "execution_count": null,
   "metadata": {},
   "outputs": [],
   "source": [
    "pad1.cd()\n",
    "pad1.SetLogy()\n",
    "pad1.SetLogx()\n",
    "\n",
    "data_raw_hist.SetMarkerSize(0.7)\n",
    "data_raw_hist.SetMarkerStyle(20)\n",
    "data_raw_hist.SetLineColor(rt.kBlack)\n",
    "DY.SetFillColor(rt.kYellow)\n",
    "DYTau.SetFillColor(rt.kYellow+2)\n",
    "VV.SetFillColor(rt.kYellow+2)\n",
    "EWK.SetFillColor(rt.kYellow+2)\n",
    "TT_raw_hist.SetFillColor(rt.kBlue)\n",
    "ST.SetFillColor(rt.kBlue+2)\n",
    "WJets_raw_hist.SetFillColor(rt.kViolet+1)\n",
    "\n",
    "data_raw_hist.SetStats(rt.kFALSE)\n",
    "data_raw_hist.Draw(\"hist pe\")\n",
    "\n",
    "mcStack = rt.THStack(\"hs\",\"\")\n",
    "mcStack.Add(WJets_raw_hist)\n",
    "mcStack.Add(EWK)\n",
    "mcStack.Add(ST)\n",
    "mcStack.Add(TT_raw_hist)\n",
    "#mcStack.Add(VV)\n",
    "#mcStack.Add(DYTau)\n",
    "mcStack.Add(DY)\n",
    "\n",
    "mcStack.Draw(\"hist same\")\n",
    "data_raw_hist.Draw(\"p9e same\")\n",
    "\n",
    "data_raw_hist.SetMaximum(3e8)\n",
    "data_raw_hist.SetMinimum(5e-2)\n",
    "data_raw_hist.GetXaxis().SetNdivisions(212)\n",
    "\n",
    "pad2.cd()\n",
    "pad2.SetLogx()\n",
    "ratio = data_raw_hist.Clone(\"ratio\")\n",
    "ratio_ = data_raw_hist.Clone(\"ratio_\")\n",
    "totalMC = DY.Clone(\"totalMC\")\n",
    "totalMC.Add(ST)\n",
    "totalMC.Add(WJets_raw_hist)\n",
    "totalMC.Add(TT_raw_hist)\n",
    "totalMC.Add(DYTau)\n",
    "totalMC.Add(VV)\n",
    "ratio.Divide(totalMC)\n",
    "\n",
    "totalMC_ = DY.Clone(\"totalMC_\")\n",
    "totalMC_.Add(TT_raw_hist)\n",
    "totalMC_.Add(WJets_raw_hist)\n",
    "totalMC_.Add(DYTau)\n",
    "totalMC_.Add(VV)\n",
    "ratio_.Divide(totalMC_)\n",
    "\n",
    "ratio.SetMarkerSize(0.7)\n",
    "ratio.Draw(\"pe\")\n",
    "ratio_.SetMarkerStyle(24)\n",
    "ratio_.Draw(\"pe same\")\n",
    "ratio.GetXaxis().SetNdivisions(505)\n",
    "\n",
    "ratio.SetMaximum(1.3)\n",
    "ratio.SetMinimum(0.7)\n",
    "\n",
    "line = rt.TLine(15, 1., 3000, 1.);\n",
    "line.SetLineStyle(2)\n",
    "line.Draw()\n",
    "\n",
    "c_det.Draw()\n",
    "c_det.SaveAs(\"test.pdf\")\n",
    "\n",
    "# Check how data/mc comparison changes with single top samples"
   ]
  },
  {
   "cell_type": "code",
   "execution_count": null,
   "metadata": {},
   "outputs": [],
   "source": [
    "unfoldClass.setUnfInput(\"Pt\",   unfoldInputDic['hist'], \"Detector\", False, \"nominal\", 0)\n",
    "unfoldClass.setUnfInput(\"Mass\", unfoldInputDic['hist'], \"Detector\", False, \"nominal\", 0)\n",
    "setUnfoldBkgs(unfoldClass, unfoldInputDic['hist'], False, \"nominal\", 0, -1, year)\n",
    "\n",
    "unfoldClass_.setUnfInput(\"Pt\",   unfoldInputDic['hist'], \"Detector\", False, \"nominal\", 0)\n",
    "unfoldClass_.setUnfInput(\"Mass\", unfoldInputDic['hist'], \"Detector\", False, \"nominal\", 0)\n",
    "setUnfoldBkgs(unfoldClass_, unfoldInputDic['hist'], False, \"nominal\", 0, -1, year)"
   ]
  },
  {
   "cell_type": "code",
   "execution_count": null,
   "metadata": {
    "scrolled": false
   },
   "outputs": [],
   "source": [
    "# Do unfold Need to understand the error meassages below!\n",
    "unfoldClass.doISRUnfold(DetectorUnfold, False)"
   ]
  },
  {
   "cell_type": "code",
   "execution_count": null,
   "metadata": {},
   "outputs": [],
   "source": [
    "unfoldClass_.doISRUnfold(DetectorUnfold, False)"
   ]
  },
  {
   "cell_type": "markdown",
   "metadata": {},
   "source": [
    "## Unfolding for QED FSR"
   ]
  },
  {
   "cell_type": "code",
   "execution_count": null,
   "metadata": {},
   "outputs": [],
   "source": [
    "unfoldClass.setFSRUnfInput(False, \"\", -1)"
   ]
  },
  {
   "cell_type": "code",
   "execution_count": null,
   "metadata": {},
   "outputs": [],
   "source": [
    "# Do FSR unfold\n",
    "unfoldClass.doISRUnfold(FSRUnfold, False)"
   ]
  },
  {
   "cell_type": "code",
   "execution_count": null,
   "metadata": {},
   "outputs": [],
   "source": [
    "mass_steering = \"mass[UO];pt[UOC0]\"\n",
    "mass_useAxis = True\n",
    "hMassUnfoldedData = unfoldClass.getDetUnfoldedHists(\"Mass\", \"hMassUnfoldedData\", mass_steering, mass_useAxis)\n",
    "hMassMCTruth = unfoldClass.getMCHists(\"Mass\", \"hMassMCTruth\", mass_steering, mass_useAxis)\n",
    "hMassFSRUnfoldedData = unfoldClass.getFSRUnfoldedHists(\"Mass\", \"hMassFSRUnfoldedData\", mass_steering, mass_useAxis)\n",
    "hMassData = unfoldClass.getDetHists(\"Mass\", \"hMassData\", mass_steering, mass_useAxis)\n",
    "\n",
    "hMassUnfoldedData_ = unfoldClass_.getDetUnfoldedHists(\"Mass\", \"hMassUnfoldedData_\", mass_steering, mass_useAxis)\n",
    "hMassUnfoldedMC_ = unfoldClass_.getMCHists(\"Mass\", \"hMassUnfoldedMC_\", mass_steering, mass_useAxis)\n",
    "hMassData_ = unfoldClass_.getDetHists(\"Mass\", \"hMassData_\", mass_steering, mass_useAxis)\n",
    "\n",
    "pt_steering = \"pt[UO];mass[UO]\"\n",
    "pt_useAxis = False\n",
    "hPtUnfoldedData = unfoldClass.getDetUnfoldedHists(\"Pt\", \"hPtUnfoldedData\", pt_steering, pt_useAxis)\n",
    "hPtMCTruth = unfoldClass_.getMCHists(\"Pt\", \"hPtMCTruth\", pt_steering, pt_useAxis)\n",
    "hPtFSRUnfoldedData = unfoldClass.getFSRUnfoldedHists(\"Pt\", \"hPtFSRUnfoldedData\", pt_steering, pt_useAxis)\n",
    "\n",
    "hPtUnfoldedData_ = unfoldClass_.getDetUnfoldedHists(\"Pt\", \"hPtUnfoldedData_\", pt_steering, pt_useAxis)\n",
    "\n",
    "#unfoldClass.doNorm(hist, False)\n",
    "#unfoldClass.doNorm(mc_hist, False)\n",
    "#unfoldClass.doNorm(det_hist, False)"
   ]
  },
  {
   "cell_type": "code",
   "execution_count": null,
   "metadata": {},
   "outputs": [],
   "source": [
    "hMassData_test = unfoldClass.getDetHists(\"Mass\", \"hMassData_test\", \"mass[*];pt[*]\", False)\n",
    "hMassData_test.GetNbinsX()"
   ]
  },
  {
   "cell_type": "code",
   "execution_count": null,
   "metadata": {},
   "outputs": [],
   "source": [
    "# Draw plot!\n",
    "c = rt.TCanvas(\"c\",\"c\", 1800, 600)\n",
    "c.Divide(2,1);\n",
    "\n",
    "pad_mass = rt.TPad(\"pad_mass\", \"pad_mass\", 0, 0.0, 1, 1.0)\n",
    "c.cd(1)\n",
    "pad_mass.Draw()\n",
    "\n",
    "pad_pt = rt.TPad(\"pad_pt\", \"pad_pt\", 0, 0.0, 1, 1.0)\n",
    "c.cd(2)\n",
    "pad_pt.Draw()"
   ]
  },
  {
   "cell_type": "code",
   "execution_count": null,
   "metadata": {
    "scrolled": false
   },
   "outputs": [],
   "source": [
    "c.cd(1)\n",
    "\n",
    "pad_mass.cd()\n",
    "pad_mass.SetLogy()\n",
    "pad_mass.SetLogx()\n",
    "pad_mass.SetGridy()\n",
    "pad_mass.SetGridx()\n",
    "\n",
    "hMassUnfoldedData.SetMarkerStyle(20)\n",
    "hMassUnfoldedData.SetLineColor(rt.kBlack)\n",
    "hMassMCTruth.SetMarkerSize(1.2)\n",
    "hMassMCTruth.SetMarkerStyle(24)\n",
    "hMassMCTruth.SetLineColor(rt.kBlack)\n",
    "\n",
    "hMassFSRUnfoldedData.SetMarkerStyle(20)\n",
    "hMassFSRUnfoldedData.SetMarkerColor(rt.kRed)\n",
    "\n",
    "hMassUnfoldedData_.SetMarkerStyle(22)\n",
    "hMassUnfoldedData_.SetMarkerSize(0.8)\n",
    "hMassUnfoldedData_.SetLineColor(rt.kMagenta)\n",
    "hMassUnfoldedData_.SetMarkerColor(rt.kMagenta)\n",
    "#hMassUnfoldedMC_.SetLineColor(rt.kRed)\n",
    "\n",
    "hMassUnfoldedData.GetYaxis().SetTitle(\"Events/ bin\")\n",
    "\n",
    "hMassUnfoldedData.SetStats(rt.kFALSE)\n",
    "hMassUnfoldedData.Draw(\"hist pe\")\n",
    "hMassMCTruth.Draw(\"pe same\")\n",
    "\n",
    "hMassFSRUnfoldedData.Draw(\"pe same\")\n",
    "hMassUnfoldedData_.Draw(\"pe same\")\n",
    "#hMassUnfoldedMC_.Draw(\"hist same\")\n",
    "#hMassData_.Draw(\"hist same\")\n",
    "hMassData.Draw(\"hist same\")\n",
    "\n",
    "hMassUnfoldedData.GetYaxis().SetNdivisions(10)\n",
    "hMassUnfoldedData.GetXaxis().SetNdivisions(520)\n",
    "\n",
    "hMassUnfoldedData.SetMaximum(5e8)\n",
    "hMassUnfoldedData.SetMinimum(1)\n",
    "\n",
    "c.cd(2)\n",
    "pad_pt.cd()\n",
    "pad_pt.SetLogy()\n",
    "#c.SetLogx()\n",
    "pad_pt.SetGridy()\n",
    "pad_pt.SetGridx()\n",
    "\n",
    "hPtUnfoldedData.SetMarkerStyle(20)\n",
    "hPtUnfoldedData.SetLineColor(rt.kBlack)\n",
    "hPtMCTruth.SetMarkerSize(1.2)\n",
    "hPtMCTruth.SetMarkerStyle(24)\n",
    "hPtMCTruth.SetLineColor(rt.kBlack)\n",
    "\n",
    "hPtFSRUnfoldedData.SetMarkerStyle(20)\n",
    "hPtFSRUnfoldedData.SetMarkerColor(rt.kRed)\n",
    "\n",
    "hPtUnfoldedData_.SetMarkerStyle(22)\n",
    "hPtUnfoldedData_.SetMarkerSize(0.8)\n",
    "hPtUnfoldedData_.SetLineColor(rt.kMagenta)\n",
    "hPtUnfoldedData_.SetMarkerColor(rt.kMagenta)\n",
    "\n",
    "hPtUnfoldedData.GetYaxis().SetTitle(\"Events/ bin\")\n",
    "\n",
    "hPtUnfoldedData.SetStats(rt.kFALSE)\n",
    "hPtUnfoldedData.Draw(\"hist pe\")\n",
    "hPtMCTruth.Draw(\"pe same\")\n",
    "\n",
    "hPtFSRUnfoldedData.Draw(\"pe same\")\n",
    "hPtUnfoldedData_.Draw(\"pe same\")\n",
    "\n",
    "hPtUnfoldedData.GetYaxis().SetNdivisions(10)\n",
    "hPtUnfoldedData.GetXaxis().SetNdivisions(520)\n",
    "\n",
    "legend = rt.TLegend(0.7, 0.7, 0.9, 0.9)\n",
    "legend.AddEntry(hPtUnfoldedData, \"Unfolded data\", \"ple\")\n",
    "legend.AddEntry(hPtMCTruth, \"MC truth\", \"ple\")\n",
    "legend.Draw()\n",
    "\n",
    "hPtUnfoldedData.SetMaximum(8e7)\n",
    "hPtUnfoldedData.SetMinimum(1)\n",
    "\n",
    "c.Draw()"
   ]
  },
  {
   "cell_type": "markdown",
   "metadata": {},
   "source": [
    "Check if the unfolding result of the last mass bin could be improved "
   ]
  },
  {
   "cell_type": "code",
   "execution_count": null,
   "metadata": {},
   "outputs": [],
   "source": [
    "nBins = unfoldClass.setMeanMass()"
   ]
  },
  {
   "cell_type": "code",
   "execution_count": null,
   "metadata": {},
   "outputs": [],
   "source": [
    "unfoldClass_.setMeanMass()"
   ]
  },
  {
   "cell_type": "code",
   "execution_count": null,
   "metadata": {},
   "outputs": [],
   "source": [
    "unfoldClass.setMeanPt()"
   ]
  },
  {
   "cell_type": "code",
   "execution_count": null,
   "metadata": {},
   "outputs": [],
   "source": [
    "unfoldClass_.setMeanPt()"
   ]
  },
  {
   "cell_type": "code",
   "execution_count": null,
   "metadata": {},
   "outputs": [],
   "source": [
    "unfoldClass.setMeanPt(False)"
   ]
  },
  {
   "cell_type": "code",
   "execution_count": null,
   "metadata": {},
   "outputs": [],
   "source": [
    "unfoldClass.setMeanMass(False)"
   ]
  },
  {
   "cell_type": "code",
   "execution_count": null,
   "metadata": {},
   "outputs": [],
   "source": [
    "c_PtVsMass = rt.TCanvas(\"PtVsMass\",\"PtVsMass\", 900, 600)\n",
    "c_PtVsMass.SetGridx()\n",
    "c_PtVsMass.SetGridy()\n",
    "c_PtVsMass.SetLogx()"
   ]
  },
  {
   "cell_type": "code",
   "execution_count": null,
   "metadata": {},
   "outputs": [],
   "source": [
    "from array import array\n",
    "meanMass, meanPt = array('d'), array('d')\n",
    "meanMassUnf, meanPtUnf = array('d'), array('d')\n",
    "meanMassUnfStatErr, meanPtUnfStatErr = array('d'), array('d')\n",
    "meanMassFSRUnf, meanPtFSRUnf = array('d'), array('d')\n",
    "meanMassFSRUnfStatErr, meanPtFSRUnfStatErr = array('d'), array('d')\n",
    "\n",
    "meanMassFSRUnfMC, meanPtFSRUnfMC = array('d'), array('d')\n",
    "\n",
    "for ibin in range(nBins):\n",
    "    meanMass.append(unfoldClass.getDetMeanMass(ibin))\n",
    "    meanPt.append(unfoldClass.getDetMeanPt(ibin))\n",
    "    \n",
    "    meanMassUnf.append(unfoldClass.getUnfMeanMass(ibin))\n",
    "    meanPtUnf.append(unfoldClass.getUnfMeanPt(ibin))\n",
    "    meanMassUnfStatErr.append(unfoldClass.getUnfMeanMassError(ibin))\n",
    "    meanPtUnfStatErr.append(unfoldClass.getUnfMeanPtError(ibin))\n",
    "    \n",
    "    meanMassFSRUnf.append(unfoldClass.getFSRUnfMeanMass(ibin))\n",
    "    meanPtFSRUnf.append(unfoldClass.getFSRUnfMeanPt(ibin))\n",
    "    meanMassFSRUnfStatErr.append(unfoldClass.getFSRUnfMeanMassError(ibin))\n",
    "    meanPtFSRUnfStatErr.append(unfoldClass.getFSRUnfMeanPtError(ibin))\n",
    "    \n",
    "    meanMassFSRUnfMC.append(unfoldClass_.getMCGenMeanMass(ibin))\n",
    "    meanPtFSRUnfMC.append(unfoldClass_.getMCGenMeanPt(ibin))"
   ]
  },
  {
   "cell_type": "code",
   "execution_count": null,
   "metadata": {},
   "outputs": [],
   "source": [
    "gr = rt.TGraph(nBins, meanMass, meanPt)\n",
    "grUnf = rt.TGraphErrors(nBins, meanMassUnf, meanPtUnf, meanMassUnfStatErr, meanPtUnfStatErr)\n",
    "grFSRUnf = rt.TGraphErrors(nBins, meanMassFSRUnf, meanPtFSRUnf, meanMassFSRUnfStatErr, meanPtFSRUnfStatErr)\n",
    "grMC = rt.TGraph(nBins, meanMassFSRUnfMC, meanPtFSRUnfMC)\n",
    "\n",
    "gr.SetTitle(\"Dilepton p_{T} vs. Mass\")\n",
    "gr.Draw(\"AP\")\n",
    "grUnf.Draw(\"P SAME\")\n",
    "grFSRUnf.Draw(\"P SAME\")\n",
    "grMC.Draw(\"P SAME\")\n",
    "gr.SetMarkerStyle(20)\n",
    "gr.SetMarkerSize(1)\n",
    "grUnf.SetMarkerStyle(20)\n",
    "grUnf.SetMarkerSize(1)\n",
    "grUnf.SetLineColor(rt.kRed)\n",
    "grUnf.SetMarkerColor(rt.kRed)\n",
    "grFSRUnf.SetMarkerStyle(20)\n",
    "grFSRUnf.SetMarkerSize(1)\n",
    "grFSRUnf.SetLineColor(rt.kBlue)\n",
    "grFSRUnf.SetMarkerColor(rt.kBlue)\n",
    "grMC.SetMarkerStyle(24)\n",
    "grMC.SetMarkerSize(1)\n",
    "grMC.SetLineColor(rt.kBlue)\n",
    "grMC.SetMarkerColor(rt.kBlue)\n",
    "gr.GetYaxis().SetRangeUser(5., 55.)\n",
    "gr.GetXaxis().SetLimits(10., 3000.)\n",
    "\n",
    "fitLinear = rt.TF1(\"f_lepton\", \"[0]+[1]*log(x)\", 20., 900.);\n",
    "fitLinear.SetLineStyle(2)\n",
    "fitLinear.SetLineColor(rt.kBlue)\n",
    "fitLinear.SetLineWidth(1)\n",
    "grFSRUnf.Fit(fitLinear, \"R0\")\n",
    "c_PtVsMass.Draw()"
   ]
  },
  {
   "cell_type": "code",
   "execution_count": null,
   "metadata": {},
   "outputs": [],
   "source": [
    "fitLinear.GetNDF()"
   ]
  },
  {
   "cell_type": "markdown",
   "metadata": {},
   "source": [
    "## Break down the current mass bin [81:101] into  [81:91] and [91:101]"
   ]
  },
  {
   "cell_type": "code",
   "execution_count": null,
   "metadata": {},
   "outputs": [],
   "source": []
  }
 ],
 "metadata": {
  "kernelspec": {
   "display_name": "Python 3",
   "language": "python",
   "name": "python3"
  },
  "language_info": {
   "codemirror_mode": {
    "name": "ipython",
    "version": 3
   },
   "file_extension": ".py",
   "mimetype": "text/x-python",
   "name": "python",
   "nbconvert_exporter": "python",
   "pygments_lexer": "ipython3",
   "version": "3.6.8"
  }
 },
 "nbformat": 4,
 "nbformat_minor": 4
}
