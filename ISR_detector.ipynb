{
 "cells": [
  {
   "cell_type": "code",
   "execution_count": 1,
   "metadata": {},
   "outputs": [
    {
     "name": "stdout",
     "output_type": "stream",
     "text": [
      "Welcome to JupyROOT 6.14/04\n"
     ]
    }
   ],
   "source": [
    "import ROOT as rt\n",
    "import os\n",
    "import sys"
   ]
  },
  {
   "cell_type": "code",
   "execution_count": 2,
   "metadata": {},
   "outputs": [],
   "source": [
    "def setUnfoldBkgs(unfold_class, hfile_path, isSys, syst_name, nthSys, nTotSys, year):\n",
    "    \n",
    "    bkgList = [\"DYJetsToTauTau\", \"DYJets10to50ToTauTau\", \"TTLL_powheg\", \"WW_pythia\", \"WZ_pythia\", \"ZZ_pythia\", \\\n",
    "               \"SingleTop_tW_top_Incl\", \"SingleTop_tW_antitop_Incl\", \"WJets_MG\"]\n",
    "    \n",
    "    for bkg in bkgList:\n",
    "        unfold_class.subBkgs(\"Pt\", hfile_path, bkg, isSys, syst_name, nTotSys, nthSys, \"Detector\")\n",
    "        unfold_class.subBkgs(\"Mass\", hfile_path, bkg, isSys, syst_name, nTotSys, nthSys, \"Detector\")"
   ]
  },
  {
   "cell_type": "code",
   "execution_count": 3,
   "metadata": {},
   "outputs": [
    {
     "name": "stdout",
     "output_type": "stream",
     "text": [
      "{'matrix': 'inFiles/2016/muon/DY_new.root', 'fsr_matrix': 'inFiles/2016/muon/DY_FSR_new.root', 'hist': 'inFiles/2016/muon/unfold_input_Muon_new.root'}\n"
     ]
    }
   ],
   "source": [
    "year    = '2016'\n",
    "channel = 'muon'\n",
    "doSys   = True\n",
    "\n",
    "# N_rec == N_gen or N_rec == 2 * N_gen\n",
    "# Detector_Dressed_DRp1_Fiducial\n",
    "# Dressed_DRp1_Dressed_DR4PI_Fiducial\n",
    "# Dressed_DRp1_Dressed_DR4PI_FullPhase\n",
    "# Detector_Dressed_DR4PI_Fiducial\n",
    "# Detector_Dressed_DR4PI_FullPhase\n",
    "\n",
    "matrix_detector = 'Detector_Dressed_DRp1_Fiducial' \n",
    "matrix_det_fsr = 'Detector_Dressed_DR4PI_FullPhase'\n",
    "matrix_fsr = \"Dressed_DRp1_Dressed_DR4PI\"\n",
    "phase_space = \"FullPhase\"\n",
    "\n",
    "# Set output directory\n",
    "outDir = 'output/'+year+'/new_'+channel+'/'\n",
    "inFhistTxt = 'inFiles/'+year+'/'+channel+'/fhist.txt'\n",
    "\n",
    "# Make output directory\n",
    "if not os.path.exists(outDir):\n",
    "    os.makedirs(outDir)\n",
    "\n",
    "# Read text file including root file path and for unfolding\n",
    "filePaths = open(inFhistTxt, 'r')\n",
    "unfoldInputDic = {}\n",
    "\n",
    "for path in filePaths:\n",
    "    modifiedPath = path.lstrip(' ').rstrip(' ').rstrip('\\n')\n",
    "    unfoldInputDic[modifiedPath.split()[1]] = modifiedPath.split()[2]\n",
    "    \n",
    "print(unfoldInputDic)"
   ]
  },
  {
   "cell_type": "code",
   "execution_count": 4,
   "metadata": {},
   "outputs": [],
   "source": [
    "import pyScripts.unfoldUtil as unfoldutil\n",
    "import pyScripts.drawUtil as drawutil\n",
    "\n",
    "# Simple unfolding tests\n",
    "# Unfolding without systematics\n",
    "# Closure tests"
   ]
  },
  {
   "cell_type": "code",
   "execution_count": 5,
   "metadata": {},
   "outputs": [],
   "source": [
    "DetectorUnfold = 0\n",
    "FSRUnfold = 1\n",
    "bias = 1.0\n",
    "\n",
    "# Create ISRUnfold class\n",
    "unfoldClass = rt.ISRUnfold(channel, unfoldInputDic['hist'], False, int(year), int(0))\n",
    "unfoldClass.setOutputBaseDir(outDir)\n",
    "unfoldClass.setBias(bias)\n",
    "\n",
    "unfoldClass_ = rt.ISRUnfold(channel, unfoldInputDic['hist'], False, int(year), int(0))\n",
    "unfoldClass_.setOutputBaseDir(outDir)\n",
    "unfoldClass_.setBias(bias)"
   ]
  },
  {
   "cell_type": "code",
   "execution_count": 6,
   "metadata": {},
   "outputs": [
    {
     "name": "stderr",
     "output_type": "stream",
     "text": [
      "Info in <TUnfoldV17::SetConstraint>: fConstraint=1\n",
      "Warning in <TUnfoldV17::TUnfold>: 16 output bins do not depend on the input data  0-4 81-91\n",
      "Info in <TUnfoldV17::TUnfold>: 162 input bins and 76 output bins\n",
      "Info in <TUnfoldDensityV17::TUnfold>: *NOT* unfolding bin #0\n",
      "Info in <TUnfoldDensityV17::TUnfold>: *NOT* unfolding bin #1 (Gen_Pt:mass[ufl]:pt[0,4])\n",
      "Info in <TUnfoldDensityV17::TUnfold>: *NOT* unfolding bin #2 (Gen_Pt:mass[ufl]:pt[4,8])\n",
      "Info in <TUnfoldDensityV17::TUnfold>: *NOT* unfolding bin #3 (Gen_Pt:mass[ufl]:pt[8,12])\n",
      "Info in <TUnfoldDensityV17::TUnfold>: *NOT* unfolding bin #4 (Gen_Pt:mass[ufl]:pt[12,18])\n",
      "Info in <TUnfoldDensityV17::TUnfold>: *NOT* unfolding bin #81 (Gen_Pt:mass[ofl]:pt[0,4])\n",
      "Info in <TUnfoldDensityV17::TUnfold>: *NOT* unfolding bin #82 (Gen_Pt:mass[ofl]:pt[4,8])\n",
      "Info in <TUnfoldDensityV17::TUnfold>: *NOT* unfolding bin #83 (Gen_Pt:mass[ofl]:pt[8,12])\n",
      "Info in <TUnfoldDensityV17::TUnfold>: *NOT* unfolding bin #84 (Gen_Pt:mass[ofl]:pt[12,18])\n",
      "Info in <TUnfoldDensityV17::TUnfold>: *NOT* unfolding bin #85 (Gen_Pt:mass[ofl]:pt[18,28])\n",
      "Info in <TUnfoldDensityV17::TUnfold>: *NOT* unfolding bin #86 (Gen_Pt:mass[ofl]:pt[28,40])\n",
      "Info in <TUnfoldDensityV17::TUnfold>: *NOT* unfolding bin #87 (Gen_Pt:mass[ofl]:pt[40,55])\n",
      "Info in <TUnfoldDensityV17::TUnfold>: *NOT* unfolding bin #88 (Gen_Pt:mass[ofl]:pt[55,75])\n",
      "Info in <TUnfoldDensityV17::TUnfold>: *NOT* unfolding bin #89 (Gen_Pt:mass[ofl]:pt[75,100])\n",
      "Info in <TUnfoldDensityV17::TUnfold>: *NOT* unfolding bin #90 (Gen_Pt:mass[ofl]:pt[ofl])\n",
      "Info in <TUnfoldDensityV17::TUnfold>: *NOT* unfolding bin #91\n",
      "Info in <TUnfoldV17::SetConstraint>: fConstraint=1\n",
      "Info in <TUnfoldV17::TUnfold>: underflow and overflow bin do not depend on the input data\n",
      "Info in <TUnfoldV17::TUnfold>: 43 input bins and 44 output bins (includes 1 underflow bin)\n",
      "Error in <TUnfoldV17::TUnfold>: too few (ny=43) input bins for nx=44 output bins\n",
      "Info in <TUnfoldDensityV17::TUnfold>: *NOT* unfolding bin #44\n"
     ]
    }
   ],
   "source": [
    "# Set response matrixs\n",
    "unfoldClass.setNomResMatrix(\"Pt\", unfoldInputDic['matrix'], matrix_detector)\n",
    "unfoldClass.setNomResMatrix(\"Mass\", unfoldInputDic['matrix'], matrix_detector)\n",
    "\n",
    "# Below warning due to unfilled undorflow/overflow bin for gen level"
   ]
  },
  {
   "cell_type": "code",
   "execution_count": 7,
   "metadata": {},
   "outputs": [
    {
     "name": "stderr",
     "output_type": "stream",
     "text": [
      "Info in <TUnfoldV17::SetConstraint>: fConstraint=1\n",
      "Warning in <TUnfoldV17::TUnfold>: 11 output bins do not depend on the input data  81-91\n",
      "Info in <TUnfoldV17::TUnfold>: 162 input bins and 81 output bins (includes 1 underflow bin)\n",
      "Info in <TUnfoldDensityV17::TUnfold>: *NOT* unfolding bin #81 (Gen_Pt:mass[ofl]:pt[0,4])\n",
      "Info in <TUnfoldDensityV17::TUnfold>: *NOT* unfolding bin #82 (Gen_Pt:mass[ofl]:pt[4,8])\n",
      "Info in <TUnfoldDensityV17::TUnfold>: *NOT* unfolding bin #83 (Gen_Pt:mass[ofl]:pt[8,12])\n",
      "Info in <TUnfoldDensityV17::TUnfold>: *NOT* unfolding bin #84 (Gen_Pt:mass[ofl]:pt[12,18])\n",
      "Info in <TUnfoldDensityV17::TUnfold>: *NOT* unfolding bin #85 (Gen_Pt:mass[ofl]:pt[18,28])\n",
      "Info in <TUnfoldDensityV17::TUnfold>: *NOT* unfolding bin #86 (Gen_Pt:mass[ofl]:pt[28,40])\n",
      "Info in <TUnfoldDensityV17::TUnfold>: *NOT* unfolding bin #87 (Gen_Pt:mass[ofl]:pt[40,55])\n",
      "Info in <TUnfoldDensityV17::TUnfold>: *NOT* unfolding bin #88 (Gen_Pt:mass[ofl]:pt[55,75])\n",
      "Info in <TUnfoldDensityV17::TUnfold>: *NOT* unfolding bin #89 (Gen_Pt:mass[ofl]:pt[75,100])\n",
      "Info in <TUnfoldDensityV17::TUnfold>: *NOT* unfolding bin #90 (Gen_Pt:mass[ofl]:pt[ofl])\n",
      "Info in <TUnfoldDensityV17::TUnfold>: *NOT* unfolding bin #91\n"
     ]
    }
   ],
   "source": [
    "unfoldClass_.setNomResMatrix(\"Pt\", unfoldInputDic['matrix'], matrix_det_fsr)"
   ]
  },
  {
   "cell_type": "code",
   "execution_count": 8,
   "metadata": {},
   "outputs": [
    {
     "name": "stderr",
     "output_type": "stream",
     "text": [
      "Info in <TUnfoldV17::SetConstraint>: fConstraint=1\n",
      "Info in <TUnfoldV17::TUnfold>: underflow and overflow bin do not depend on the input data\n",
      "Info in <TUnfoldV17::TUnfold>: 43 input bins and 44 output bins (includes 1 underflow bin)\n",
      "Error in <TUnfoldV17::TUnfold>: too few (ny=43) input bins for nx=44 output bins\n",
      "Info in <TUnfoldDensityV17::TUnfold>: *NOT* unfolding bin #44\n"
     ]
    }
   ],
   "source": [
    "unfoldClass_.setNomResMatrix(\"Mass\", unfoldInputDic['matrix'], matrix_det_fsr)"
   ]
  },
  {
   "cell_type": "code",
   "execution_count": 9,
   "metadata": {},
   "outputs": [
    {
     "name": "stderr",
     "output_type": "stream",
     "text": [
      "Info in <TUnfoldV17::SetConstraint>: fConstraint=1\n",
      "Warning in <TUnfoldV17::TUnfold>: 16 output bins do not depend on the input data  0-4 81-91\n",
      "Info in <TUnfoldV17::TUnfold>: 90 input bins and 76 output bins\n",
      "Info in <TUnfoldDensityV17::TUnfold>: *NOT* unfolding bin #0\n",
      "Info in <TUnfoldDensityV17::TUnfold>: *NOT* unfolding bin #1 (Gen_Pt:mass[ufl]:pt[0,4])\n",
      "Info in <TUnfoldDensityV17::TUnfold>: *NOT* unfolding bin #2 (Gen_Pt:mass[ufl]:pt[4,8])\n",
      "Info in <TUnfoldDensityV17::TUnfold>: *NOT* unfolding bin #3 (Gen_Pt:mass[ufl]:pt[8,12])\n",
      "Info in <TUnfoldDensityV17::TUnfold>: *NOT* unfolding bin #4 (Gen_Pt:mass[ufl]:pt[12,18])\n",
      "Info in <TUnfoldDensityV17::TUnfold>: *NOT* unfolding bin #81 (Gen_Pt:mass[ofl]:pt[0,4])\n",
      "Info in <TUnfoldDensityV17::TUnfold>: *NOT* unfolding bin #82 (Gen_Pt:mass[ofl]:pt[4,8])\n",
      "Info in <TUnfoldDensityV17::TUnfold>: *NOT* unfolding bin #83 (Gen_Pt:mass[ofl]:pt[8,12])\n",
      "Info in <TUnfoldDensityV17::TUnfold>: *NOT* unfolding bin #84 (Gen_Pt:mass[ofl]:pt[12,18])\n",
      "Info in <TUnfoldDensityV17::TUnfold>: *NOT* unfolding bin #85 (Gen_Pt:mass[ofl]:pt[18,28])\n",
      "Info in <TUnfoldDensityV17::TUnfold>: *NOT* unfolding bin #86 (Gen_Pt:mass[ofl]:pt[28,40])\n",
      "Info in <TUnfoldDensityV17::TUnfold>: *NOT* unfolding bin #87 (Gen_Pt:mass[ofl]:pt[40,55])\n",
      "Info in <TUnfoldDensityV17::TUnfold>: *NOT* unfolding bin #88 (Gen_Pt:mass[ofl]:pt[55,75])\n",
      "Info in <TUnfoldDensityV17::TUnfold>: *NOT* unfolding bin #89 (Gen_Pt:mass[ofl]:pt[75,100])\n",
      "Info in <TUnfoldDensityV17::TUnfold>: *NOT* unfolding bin #90 (Gen_Pt:mass[ofl]:pt[ofl])\n",
      "Info in <TUnfoldDensityV17::TUnfold>: *NOT* unfolding bin #91\n"
     ]
    }
   ],
   "source": [
    "# Set response matrix for FSR\n",
    "unfoldClass.setNomFSRResMatrix(\"Pt\", unfoldInputDic['fsr_matrix'], matrix_fsr, phase_space)"
   ]
  },
  {
   "cell_type": "code",
   "execution_count": 10,
   "metadata": {},
   "outputs": [
    {
     "name": "stderr",
     "output_type": "stream",
     "text": [
      "Info in <TUnfoldV17::SetConstraint>: fConstraint=1\n",
      "Info in <TUnfoldV17::TUnfold>: underflow and overflow bin do not depend on the input data\n",
      "Info in <TUnfoldV17::TUnfold>: 43 input bins and 44 output bins (includes 1 underflow bin)\n",
      "Error in <TUnfoldV17::TUnfold>: too few (ny=43) input bins for nx=44 output bins\n",
      "Info in <TUnfoldDensityV17::TUnfold>: *NOT* unfolding bin #44\n"
     ]
    }
   ],
   "source": [
    "unfoldClass.setNomFSRResMatrix(\"Mass\", unfoldInputDic['fsr_matrix'], matrix_fsr, phase_space)"
   ]
  },
  {
   "cell_type": "markdown",
   "metadata": {},
   "source": [
    "## 리컨스트럭션레벨 히스토그램 확인"
   ]
  },
  {
   "cell_type": "code",
   "execution_count": 11,
   "metadata": {},
   "outputs": [
    {
     "data": {
      "text/html": [
       "<style>.container { width:100% !important; }</style>"
      ],
      "text/plain": [
       "<IPython.core.display.HTML object>"
      ]
     },
     "metadata": {},
     "output_type": "display_data"
    }
   ],
   "source": [
    "from IPython.core.display import display, HTML\n",
    "display(HTML(\"<style>.container { width:100% !important; }</style>\"))"
   ]
  },
  {
   "cell_type": "code",
   "execution_count": 12,
   "metadata": {},
   "outputs": [],
   "source": [
    "# Lets save 1D histograms seperately for the 2D histogram, and use them to check reconstruction level plot\n",
    "\n",
    "data_raw_hist = unfoldClass.getRawHist(unfoldInputDic['hist'], \"Detector/Mass_1D/histo_DoubleMuon\", \"data_raw_hist\", \"mass[UO];pt[UOC0]\") \n",
    "DY50plusToEE_raw_hist = unfoldClass.getRawHist(unfoldInputDic['hist'], \"Detector/Mass_1D/histo_DYJetsToMuMu\", \"DYJets50plusEE_raw_hist\", \"mass[UO];pt[UOC0]\") \n",
    "DY10to50ToEE_raw_hist = unfoldClass.getRawHist(unfoldInputDic['hist'], \"Detector/Mass_1D/histo_DYJets10to50ToMuMu\", \"DYJets10to50plusEE_raw_hist\", \"mass[UO];pt[UOC0]\") \n",
    "DY50plusToTauTau_raw_hist = unfoldClass.getRawHist(unfoldInputDic['hist'], \"Detector/Mass_1D/histo_DYJetsToTauTau\", \"DYJets50plusTauTau_raw_hist\", \"mass[UO];pt[UOC0]\") \n",
    "DY10to50ToTauTau_raw_hist = unfoldClass.getRawHist(unfoldInputDic['hist'], \"Detector/Mass_1D/histo_DYJets10to50ToTauTau\", \"DYJets10to50plusTauTau_raw_hist\", \"mass[UO];pt[UOC0]\") \n",
    "WW_raw_hist = unfoldClass.getRawHist(unfoldInputDic['hist'], \"Detector/Mass_1D/histo_WW_pythia\", \"WW_raw_hist\", \"mass[UO];pt[UOC0]\") \n",
    "WZ_raw_hist = unfoldClass.getRawHist(unfoldInputDic['hist'], \"Detector/Mass_1D/histo_WZ_pythia\", \"WZ_raw_hist\", \"mass[UO];pt[UOC0]\") \n",
    "ZZ_raw_hist = unfoldClass.getRawHist(unfoldInputDic['hist'], \"Detector/Mass_1D/histo_ZZ_pythia\", \"ZZ_raw_hist\", \"mass[UO];pt[UOC0]\") \n",
    "TT_raw_hist = unfoldClass.getRawHist(unfoldInputDic['hist'], \"Detector/Mass_1D/histo_TTLL_powheg\", \"TT_raw_hist\", \"mass[UO];pt[UOC0]\") \n",
    "ST_top_raw_hist = unfoldClass.getRawHist(unfoldInputDic['hist'], \"Detector/Mass_1D/histo_SingleTop_tW_top_Incl\", \"ST_top_raw_hist\", \"mass[UO];pt[UOC0]\") \n",
    "ST_antitop_raw_hist = unfoldClass.getRawHist(unfoldInputDic['hist'], \"Detector/Mass_1D/histo_SingleTop_tW_antitop_Incl\", \"ST_antitop_raw_hist\", \"mass[UO];pt[UOC0]\") \n",
    "WJets_raw_hist = unfoldClass.getRawHist(unfoldInputDic['hist'], \"Detector/Mass_1D/histo_WJets_MG\", \"WJets_raw_hist\", \"mass[UO];pt[UOC0]\") "
   ]
  },
  {
   "cell_type": "code",
   "execution_count": 13,
   "metadata": {},
   "outputs": [
    {
     "data": {
      "text/plain": [
       "True"
      ]
     },
     "execution_count": 13,
     "metadata": {},
     "output_type": "execute_result"
    }
   ],
   "source": [
    "#unfoldClass.doNorm(data_raw_hist, False)\n",
    "#unfoldClass.doNorm(DY50plusToEE_raw_hist, False)\n",
    "#unfoldClass.doNorm(DY10to50ToEE_raw_hist, False)\n",
    "#unfoldClass.doNorm(DY50plusToTauTau_raw_hist, False)\n",
    "#unfoldClass.doNorm(DY10to50ToTauTau_raw_hist, False)\n",
    "#unfoldClass.doNorm(WW_raw_hist, False)\n",
    "#unfoldClass.doNorm(WZ_raw_hist, False)\n",
    "#unfoldClass.doNorm(ZZ_raw_hist, False)\n",
    "#unfoldClass.doNorm(TT_raw_hist, False)\n",
    "\n",
    "DY = DY50plusToEE_raw_hist.Clone(\"DY\")\n",
    "DY.Add(DY10to50ToEE_raw_hist)\n",
    "\n",
    "DYTau = DY50plusToTauTau_raw_hist.Clone(\"DYTau\")\n",
    "DYTau.Add(DY10to50ToTauTau_raw_hist)\n",
    "\n",
    "VV = ZZ_raw_hist.Clone(\"VV\")\n",
    "VV.Add(WZ_raw_hist)\n",
    "VV.Add(WW_raw_hist)\n",
    "\n",
    "EWK = DYTau.Clone(\"EWK\")\n",
    "EWK.Add(VV)\n",
    "\n",
    "ST = ST_top_raw_hist.Clone(\"ST\")\n",
    "ST.Add(ST_antitop_raw_hist)"
   ]
  },
  {
   "cell_type": "code",
   "execution_count": 14,
   "metadata": {},
   "outputs": [],
   "source": [
    "%jsroot on"
   ]
  },
  {
   "cell_type": "code",
   "execution_count": 15,
   "metadata": {},
   "outputs": [],
   "source": [
    "c_det = rt.TCanvas(\"c_det\",\"c_det\", 800, 600)\n",
    "\n",
    "pad1 = rt.TPad(\"pad1\", \"pad1\", 0, 0.3, 1, 1.0)\n",
    "pad1.SetBottomMargin(0.01)\n",
    "pad1.Draw()\n",
    "c_det.cd()\n",
    "pad2 = rt.TPad(\"pad2\", \"pad2\", 0, 0.0, 1, 0.3)\n",
    "pad2.Draw()"
   ]
  },
  {
   "cell_type": "code",
   "execution_count": 16,
   "metadata": {},
   "outputs": [
    {
     "name": "stderr",
     "output_type": "stream",
     "text": [
      "Info in <TCanvas::Print>: pdf file test.pdf has been created\n"
     ]
    },
    {
     "data": {
      "text/html": [
       "\n",
       "<div id=\"root_plot_1\"\n",
       "     style=\"width: 796px; height: 572px\">\n",
       "</div>\n",
       "\n",
       "<script>\n",
       " requirejs.config({\n",
       "     paths: {\n",
       "       'JSRootCore' : 'https://root.cern.ch/js/notebook//scripts/JSRootCore',\n",
       "     }\n",
       "   });\n",
       " require(['JSRootCore'],\n",
       "     function(Core) {\n",
       "       var obj = Core.JSONR_unref({\"_typename\":\"TCanvas\",\"fUniqueID\":0,\"fBits\":53673992,\"fLineColor\":1,\"fLineStyle\":1,\"fLineWidth\":1,\"fFillColor\":0,\"fFillStyle\":1001,\"fLeftMargin\":0.1,\"fRightMargin\":0.1,\"fBottomMargin\":0.1,\"fTopMargin\":0.1,\"fXfile\":2,\"fYfile\":2,\"fAfile\":1,\"fXstat\":0.99,\"fYstat\":0.99,\"fAstat\":2,\"fFrameFillColor\":0,\"fFrameLineColor\":1,\"fFrameFillStyle\":1001,\"fFrameLineStyle\":1,\"fFrameLineWidth\":1,\"fFrameBorderSize\":1,\"fFrameBorderMode\":0,\"fX1\":0,\"fY1\":0,\"fX2\":1,\"fY2\":1,\"fXtoAbsPixelk\":5e-5,\"fXtoPixelk\":5e-5,\"fXtoPixel\":796,\"fYtoAbsPixelk\":572.00005,\"fYtoPixelk\":572.00005,\"fYtoPixel\":-572,\"fUtoAbsPixelk\":5e-5,\"fUtoPixelk\":5e-5,\"fUtoPixel\":796,\"fVtoAbsPixelk\":572.00005,\"fVtoPixelk\":572,\"fVtoPixel\":-572,\"fAbsPixeltoXk\":0,\"fPixeltoXk\":0,\"fPixeltoX\":0.00125628140703518,\"fAbsPixeltoYk\":1,\"fPixeltoYk\":0,\"fPixeltoY\":-0.00174825174825175,\"fXlowNDC\":0,\"fYlowNDC\":0,\"fXUpNDC\":0,\"fYUpNDC\":0,\"fWNDC\":1,\"fHNDC\":1,\"fAbsXlowNDC\":0,\"fAbsYlowNDC\":0,\"fAbsWNDC\":1,\"fAbsHNDC\":1,\"fUxmin\":0,\"fUymin\":0,\"fUxmax\":1,\"fUymax\":1,\"fTheta\":30,\"fPhi\":30,\"fAspectRatio\":0,\"fNumber\":0,\"fTickx\":0,\"fTicky\":0,\"fLogx\":0,\"fLogy\":0,\"fLogz\":0,\"fPadPaint\":0,\"fCrosshair\":0,\"fCrosshairPos\":0,\"fBorderSize\":2,\"fBorderMode\":0,\"fModified\":false,\"fGridx\":false,\"fGridy\":false,\"fAbsCoord\":false,\"fEditable\":true,\"fFixedAspectRatio\":false,\"fPrimitives\":{\"_typename\":\"TList\",\"name\":\"TList\",\"arr\":[{\"_typename\":\"TPad\",\"fUniqueID\":0,\"fBits\":50331657,\"fLineColor\":1,\"fLineStyle\":1,\"fLineWidth\":1,\"fFillColor\":0,\"fFillStyle\":1001,\"fLeftMargin\":0.1,\"fRightMargin\":0.1,\"fBottomMargin\":0.01,\"fTopMargin\":0.1,\"fXfile\":2,\"fYfile\":2,\"fAfile\":1,\"fXstat\":0.99,\"fYstat\":0.99,\"fAstat\":2,\"fFrameFillColor\":0,\"fFrameLineColor\":1,\"fFrameFillStyle\":1001,\"fFrameLineStyle\":1,\"fFrameLineWidth\":1,\"fFrameBorderSize\":1,\"fFrameBorderMode\":0,\"fX1\":0.888462488167671,\"fY1\":-1.41089686295601,\"fX2\":3.76475002560767,\"fY2\":9.57578996856857,\"fXtoAbsPixelk\":-245.878058977558,\"fXtoPixelk\":-245.878058977558,\"fXtoPixel\":276.745627701905,\"fYtoAbsPixelk\":348.98117253581,\"fYtoPixelk\":348.98117253581,\"fYtoPixel\":-36.4441078679985,\"fUtoAbsPixelk\":5e-5,\"fUtoPixelk\":5e-5,\"fUtoPixel\":796,\"fVtoAbsPixelk\":400.40005,\"fVtoPixelk\":400.4,\"fVtoPixel\":-400.4,\"fAbsPixeltoXk\":0.888462488167671,\"fPixeltoXk\":0.888462488167671,\"fPixeltoX\":0.00361342655457287,\"fAbsPixeltoYk\":9.57578996856857,\"fPixeltoYk\":-1.41089686295601,\"fPixeltoY\":-0.0274392778010104,\"fXlowNDC\":0,\"fYlowNDC\":0.3,\"fXUpNDC\":0,\"fYUpNDC\":0,\"fWNDC\":1,\"fHNDC\":0.7,\"fAbsXlowNDC\":0,\"fAbsYlowNDC\":0.3,\"fAbsWNDC\":1,\"fAbsHNDC\":0.7,\"fUxmin\":1.17609125905568,\"fUymin\":-1.30102999566398,\"fUxmax\":3.47712125471966,\"fUymax\":8.47712125471966,\"fTheta\":30,\"fPhi\":30,\"fAspectRatio\":0,\"fNumber\":0,\"fTickx\":0,\"fTicky\":0,\"fLogx\":1,\"fLogy\":1,\"fLogz\":0,\"fPadPaint\":0,\"fCrosshair\":0,\"fCrosshairPos\":0,\"fBorderSize\":2,\"fBorderMode\":0,\"fModified\":false,\"fGridx\":false,\"fGridy\":false,\"fAbsCoord\":false,\"fEditable\":true,\"fFixedAspectRatio\":false,\"fPrimitives\":{\"_typename\":\"TList\",\"name\":\"TList\",\"arr\":[{\"_typename\":\"TFrame\",\"fUniqueID\":0,\"fBits\":50331656,\"fLineColor\":1,\"fLineStyle\":1,\"fLineWidth\":1,\"fFillColor\":0,\"fFillStyle\":1001,\"fX1\":1.17609125905568,\"fY1\":-1.30102999566398,\"fX2\":3.47712125471966,\"fY2\":8.47712125471966,\"fBorderSize\":1,\"fBorderMode\":0},{\"_typename\":\"TH1D\",\"fUniqueID\":0,\"fBits\":50332168,\"fName\":\"data_raw_hist\",\"fTitle\":\"histo_DoubleMuon\",\"fLineColor\":1,\"fLineStyle\":1,\"fLineWidth\":1,\"fFillColor\":0,\"fFillStyle\":1001,\"fMarkerColor\":1,\"fMarkerStyle\":20,\"fMarkerSize\":0.7,\"fNcells\":45,\"fXaxis\":{\"_typename\":\"TAxis\",\"fUniqueID\":0,\"fBits\":50331656,\"fName\":\"xaxis\",\"fTitle\":\"\",\"fNdivisions\":212,\"fAxisColor\":1,\"fLabelColor\":1,\"fLabelFont\":42,\"fLabelOffset\":0.005,\"fLabelSize\":0.035,\"fTickLength\":0.03,\"fTitleOffset\":1,\"fTitleSize\":0.035,\"fTitleColor\":1,\"fTitleFont\":42,\"fNbins\":43,\"fXmin\":15,\"fXmax\":3000,\"fXbins\":[15,20,25,30,35,40,45,50,55,60,64,68,72,76,81,86,91,96,101,106,110,115,120,126,133,141,150,160,171,185,200,220,243,273,320,380,440,510,600,700,830,1000,1500,3000],\"fFirst\":0,\"fLast\":0,\"fBits2\":0,\"fTimeDisplay\":false,\"fTimeFormat\":\"\",\"fLabels\":null,\"fModLabs\":null},\"fYaxis\":{\"_typename\":\"TAxis\",\"fUniqueID\":0,\"fBits\":50331648,\"fName\":\"yaxis\",\"fTitle\":\"\",\"fNdivisions\":510,\"fAxisColor\":1,\"fLabelColor\":1,\"fLabelFont\":42,\"fLabelOffset\":0.005,\"fLabelSize\":0.035,\"fTickLength\":0.03,\"fTitleOffset\":0,\"fTitleSize\":0.035,\"fTitleColor\":1,\"fTitleFont\":42,\"fNbins\":1,\"fXmin\":0,\"fXmax\":1,\"fXbins\":[],\"fFirst\":0,\"fLast\":0,\"fBits2\":0,\"fTimeDisplay\":false,\"fTimeFormat\":\"\",\"fLabels\":null,\"fModLabs\":null},\"fZaxis\":{\"_typename\":\"TAxis\",\"fUniqueID\":0,\"fBits\":50331648,\"fName\":\"zaxis\",\"fTitle\":\"\",\"fNdivisions\":510,\"fAxisColor\":1,\"fLabelColor\":1,\"fLabelFont\":42,\"fLabelOffset\":0.005,\"fLabelSize\":0.035,\"fTickLength\":0.03,\"fTitleOffset\":1,\"fTitleSize\":0.035,\"fTitleColor\":1,\"fTitleFont\":42,\"fNbins\":1,\"fXmin\":0,\"fXmax\":1,\"fXbins\":[],\"fFirst\":0,\"fLast\":0,\"fBits2\":0,\"fTimeDisplay\":false,\"fTimeFormat\":\"\",\"fLabels\":null,\"fModLabs\":null},\"fBarOffset\":0,\"fBarWidth\":1000,\"fEntries\":26460222,\"fTsumw\":24510345,\"fTsumw2\":24510345,\"fTsumwx\":2136112650.96316,\"fTsumwx2\":195545758949.557,\"fMaximum\":300000000,\"fMinimum\":0.05,\"fNormFactor\":0,\"fContour\":[],\"fSumw2\":[1949877,133234,115691,125850,201685,284327,323489,290882,255002,231233,181766,192571,224651,290404,589672,1506752,8828812,8746635,1028115,317242,134310,106496,72270,60905,50575,41681,34093,27685,22549,20855,15937,14587,11163,9386,8123,5156,2664,1685,1029,554,309,184,122,14,0],\"fOption\":\"\",\"fFunctions\":{\"_typename\":\"TList\",\"name\":\"TList\",\"arr\":[],\"opt\":[]},\"fBufferSize\":0,\"fBuffer\":[],\"fBinStatErrOpt\":0,\"fStatOverflows\":2,\"fArray\":[1949877,133234,115691,125850,201685,284327,323489,290882,255002,231233,181766,192571,224651,290404,589672,1506752,8828812,8746635,1028115,317242,134310,106496,72270,60905,50575,41681,34093,27685,22549,20855,15937,14587,11163,9386,8123,5156,2664,1685,1029,554,309,184,122,14,0]},{\"_typename\":\"THStack\",\"fUniqueID\":0,\"fBits\":50331656,\"fName\":\"hs\",\"fTitle\":\"\",\"fHists\":{\"_typename\":\"TList\",\"name\":\"TList\",\"arr\":[{\"_typename\":\"TH1D\",\"fUniqueID\":0,\"fBits\":50331656,\"fName\":\"WJets_raw_hist\",\"fTitle\":\"histo_WJets_MG\",\"fLineColor\":602,\"fLineStyle\":1,\"fLineWidth\":1,\"fFillColor\":881,\"fFillStyle\":1001,\"fMarkerColor\":1,\"fMarkerStyle\":1,\"fMarkerSize\":1,\"fNcells\":45,\"fXaxis\":{\"_typename\":\"TAxis\",\"fUniqueID\":0,\"fBits\":50331648,\"fName\":\"xaxis\",\"fTitle\":\"\",\"fNdivisions\":510,\"fAxisColor\":1,\"fLabelColor\":1,\"fLabelFont\":42,\"fLabelOffset\":0.005,\"fLabelSize\":0.035,\"fTickLength\":0.03,\"fTitleOffset\":1,\"fTitleSize\":0.035,\"fTitleColor\":1,\"fTitleFont\":42,\"fNbins\":43,\"fXmin\":15,\"fXmax\":3000,\"fXbins\":[15,20,25,30,35,40,45,50,55,60,64,68,72,76,81,86,91,96,101,106,110,115,120,126,133,141,150,160,171,185,200,220,243,273,320,380,440,510,600,700,830,1000,1500,3000],\"fFirst\":0,\"fLast\":0,\"fBits2\":0,\"fTimeDisplay\":false,\"fTimeFormat\":\"\",\"fLabels\":null,\"fModLabs\":null},\"fYaxis\":{\"_typename\":\"TAxis\",\"fUniqueID\":0,\"fBits\":50331648,\"fName\":\"yaxis\",\"fTitle\":\"\",\"fNdivisions\":510,\"fAxisColor\":1,\"fLabelColor\":1,\"fLabelFont\":42,\"fLabelOffset\":0.005,\"fLabelSize\":0.035,\"fTickLength\":0.03,\"fTitleOffset\":0,\"fTitleSize\":0.035,\"fTitleColor\":1,\"fTitleFont\":42,\"fNbins\":1,\"fXmin\":0,\"fXmax\":1,\"fXbins\":[],\"fFirst\":0,\"fLast\":0,\"fBits2\":0,\"fTimeDisplay\":false,\"fTimeFormat\":\"\",\"fLabels\":null,\"fModLabs\":null},\"fZaxis\":{\"_typename\":\"TAxis\",\"fUniqueID\":0,\"fBits\":50331648,\"fName\":\"zaxis\",\"fTitle\":\"\",\"fNdivisions\":510,\"fAxisColor\":1,\"fLabelColor\":1,\"fLabelFont\":42,\"fLabelOffset\":0.005,\"fLabelSize\":0.035,\"fTickLength\":0.03,\"fTitleOffset\":1,\"fTitleSize\":0.035,\"fTitleColor\":1,\"fTitleFont\":42,\"fNbins\":1,\"fXmin\":0,\"fXmax\":1,\"fXbins\":[],\"fFirst\":0,\"fLast\":0,\"fBits2\":0,\"fTimeDisplay\":false,\"fTimeFormat\":\"\",\"fLabels\":null,\"fModLabs\":null},\"fBarOffset\":0,\"fBarWidth\":1000,\"fEntries\":515,\"fTsumw\":14377.163322745,\"fTsumw2\":544451.613922508,\"fTsumwx\":931469.437260118,\"fTsumwx2\":86966122.8958703,\"fMaximum\":-1111,\"fMinimum\":-1111,\"fNormFactor\":0,\"fContour\":[],\"fSumw2\":[140533.42619387,14802.7040382665,21503.2301306671,26957.1214359079,38358.420483348,32261.7574036545,46736.9633913762,37460.2662628032,50484.6328068445,40483.514831121,40504.6694718544,37713.5016238781,24173.8782012043,12685.2016398646,9518.28048971873,13631.0039161131,14370.239562305,4951.58741125901,4543.03510691127,6581.62842902664,6410.64198510517,8228.05728183915,4291.96108035873,7109.7360413171,6805.75880360358,4107.29071702132,7742.62620816853,1470.10280136232,6033.60783348468,4348.78642747656,4474.81990074074,1477.64533369228,1688.01193502203,1056.08466649751,0,0,0,1484.84627069401,0,0,0,0,0,0,0],\"fOption\":\"\",\"fFunctions\":{\"_typename\":\"TList\",\"name\":\"TList\",\"arr\":[],\"opt\":[]},\"fBufferSize\":0,\"fBuffer\":[],\"fBinStatErrOpt\":0,\"fStatOverflows\":2,\"fArray\":[3739.12184652433,383.967725989704,576.396645981866,709.26724946185,1006.58735509899,869.443938270413,1233.82992955894,1003.77620414955,1315.56253316939,1063.94414658667,1076.7541290063,991.257028913954,621.086255107407,329.475211862722,258.215281623505,349.092169823149,383.610612864053,121.560262461557,129.248135191317,161.87579228603,165.116871145394,208.260238513779,124.554940568715,188.523846080707,186.117037214685,110.200507539945,209.422430873825,38.3419196358544,155.198167267768,114.179539750726,115.692331254103,38.4401526231658,54.1987439850456,45.4322858345518,0,0,0,38.5337030493309,0,0,0,0,0,0,0]},{\"_typename\":\"TH1D\",\"fUniqueID\":0,\"fBits\":50331656,\"fName\":\"EWK\",\"fTitle\":\"histo_DYJetsToTauTau\",\"fLineColor\":602,\"fLineStyle\":1,\"fLineWidth\":1,\"fFillColor\":402,\"fFillStyle\":1001,\"fMarkerColor\":1,\"fMarkerStyle\":1,\"fMarkerSize\":1,\"fNcells\":45,\"fXaxis\":{\"_typename\":\"TAxis\",\"fUniqueID\":0,\"fBits\":50331648,\"fName\":\"xaxis\",\"fTitle\":\"\",\"fNdivisions\":510,\"fAxisColor\":1,\"fLabelColor\":1,\"fLabelFont\":42,\"fLabelOffset\":0.005,\"fLabelSize\":0.035,\"fTickLength\":0.03,\"fTitleOffset\":1,\"fTitleSize\":0.035,\"fTitleColor\":1,\"fTitleFont\":42,\"fNbins\":43,\"fXmin\":15,\"fXmax\":3000,\"fXbins\":[15,20,25,30,35,40,45,50,55,60,64,68,72,76,81,86,91,96,101,106,110,115,120,126,133,141,150,160,171,185,200,220,243,273,320,380,440,510,600,700,830,1000,1500,3000],\"fFirst\":0,\"fLast\":0,\"fBits2\":0,\"fTimeDisplay\":false,\"fTimeFormat\":\"\",\"fLabels\":null,\"fModLabs\":null},\"fYaxis\":{\"_typename\":\"TAxis\",\"fUniqueID\":0,\"fBits\":50331648,\"fName\":\"yaxis\",\"fTitle\":\"\",\"fNdivisions\":510,\"fAxisColor\":1,\"fLabelColor\":1,\"fLabelFont\":42,\"fLabelOffset\":0.005,\"fLabelSize\":0.035,\"fTickLength\":0.03,\"fTitleOffset\":0,\"fTitleSize\":0.035,\"fTitleColor\":1,\"fTitleFont\":42,\"fNbins\":1,\"fXmin\":0,\"fXmax\":1,\"fXbins\":[],\"fFirst\":0,\"fLast\":0,\"fBits2\":0,\"fTimeDisplay\":false,\"fTimeFormat\":\"\",\"fLabels\":null,\"fModLabs\":null},\"fZaxis\":{\"_typename\":\"TAxis\",\"fUniqueID\":0,\"fBits\":50331648,\"fName\":\"zaxis\",\"fTitle\":\"\",\"fNdivisions\":510,\"fAxisColor\":1,\"fLabelColor\":1,\"fLabelFont\":42,\"fLabelOffset\":0.005,\"fLabelSize\":0.035,\"fTickLength\":0.03,\"fTitleOffset\":1,\"fTitleSize\":0.035,\"fTitleColor\":1,\"fTitleFont\":42,\"fNbins\":1,\"fXmin\":0,\"fXmax\":1,\"fXbins\":[],\"fFirst\":0,\"fLast\":0,\"fBits2\":0,\"fTimeDisplay\":false,\"fTimeFormat\":\"\",\"fLabels\":null,\"fModLabs\":null},\"fBarOffset\":0,\"fBarWidth\":1000,\"fEntries\":241653,\"fTsumw\":226676.202259695,\"fTsumw2\":665703.415881395,\"fTsumwx\":14877749.3623591,\"fTsumwx2\":1330649501.29838,\"fMaximum\":-1111,\"fMinimum\":-1111,\"fNormFactor\":0,\"fContour\":[],\"fSumw2\":[16894.7733744439,7027.96945172575,6235.71988077268,12444.0543001025,40956.6996895585,81283.9465681899,101863.900690507,99340.3216822029,86232.1737134199,70047.3368049757,41924.6882428349,30785.2863470625,22334.6987098636,14301.9718616242,9842.24350181957,5908.78067596866,11630.3414185671,10867.0566394078,2196.23270560256,1164.02979372643,882.286801954837,870.559991066435,694.592427707246,699.475180795591,719.958642511527,723.302837518015,525.493692628964,670.441923008689,537.376729981499,562.776683972321,442.131025196638,506.220746692107,360.665625127238,317.208510714177,325.184545992103,189.902427403265,108.24351459257,66.9369444821618,52.1255937993778,32.0232408302717,12.932737812892,9.61613585893247,5.13108232126364,1.37616149451354,0],\"fOption\":\"\",\"fFunctions\":{\"_typename\":\"TList\",\"name\":\"TList\",\"arr\":[],\"opt\":[]},\"fBufferSize\":0,\"fBuffer\":[],\"fBinStatErrOpt\":0,\"fStatOverflows\":2,\"fArray\":[1405.87590356376,958.813985786905,1241.05490374221,2382.28566382009,9852.07508477767,20634.0500901868,27249.0196366324,25909.9248020361,23105.8661868734,18549.0062734957,11346.715724757,8794.29623670236,6617.20486162959,4784.82536154722,4425.2327566009,5028.4966602509,19924.8737061307,19467.9057393512,3227.56784713771,1504.50724897102,998.709686268253,959.401395972303,789.610630520561,836.838872879517,873.1343334187,819.374436881152,772.904499063423,723.915088488207,675.672802526447,741.718669159924,611.738733656445,643.352821089995,529.330124507012,483.462869443073,472.517676393358,293.701760383749,171.047541705071,111.095885152624,77.1542147821025,38.7792854215845,21.8311344721823,16.0103977495521,8.83090914274764,2.34572018761471,0]},{\"_typename\":\"TH1D\",\"fUniqueID\":0,\"fBits\":50331656,\"fName\":\"ST\",\"fTitle\":\"histo_SingleTop_tW_top_Incl\",\"fLineColor\":602,\"fLineStyle\":1,\"fLineWidth\":1,\"fFillColor\":602,\"fFillStyle\":1001,\"fMarkerColor\":1,\"fMarkerStyle\":1,\"fMarkerSize\":1,\"fNcells\":45,\"fXaxis\":{\"_typename\":\"TAxis\",\"fUniqueID\":0,\"fBits\":50331648,\"fName\":\"xaxis\",\"fTitle\":\"\",\"fNdivisions\":510,\"fAxisColor\":1,\"fLabelColor\":1,\"fLabelFont\":42,\"fLabelOffset\":0.005,\"fLabelSize\":0.035,\"fTickLength\":0.03,\"fTitleOffset\":1,\"fTitleSize\":0.035,\"fTitleColor\":1,\"fTitleFont\":42,\"fNbins\":43,\"fXmin\":15,\"fXmax\":3000,\"fXbins\":[15,20,25,30,35,40,45,50,55,60,64,68,72,76,81,86,91,96,101,106,110,115,120,126,133,141,150,160,171,185,200,220,243,273,320,380,440,510,600,700,830,1000,1500,3000],\"fFirst\":0,\"fLast\":0,\"fBits2\":0,\"fTimeDisplay\":false,\"fTimeFormat\":\"\",\"fLabels\":null,\"fModLabs\":null},\"fYaxis\":{\"_typename\":\"TAxis\",\"fUniqueID\":0,\"fBits\":50331648,\"fName\":\"yaxis\",\"fTitle\":\"\",\"fNdivisions\":510,\"fAxisColor\":1,\"fLabelColor\":1,\"fLabelFont\":42,\"fLabelOffset\":0.005,\"fLabelSize\":0.035,\"fTickLength\":0.03,\"fTitleOffset\":0,\"fTitleSize\":0.035,\"fTitleColor\":1,\"fTitleFont\":42,\"fNbins\":1,\"fXmin\":0,\"fXmax\":1,\"fXbins\":[],\"fFirst\":0,\"fLast\":0,\"fBits2\":0,\"fTimeDisplay\":false,\"fTimeFormat\":\"\",\"fLabels\":null,\"fModLabs\":null},\"fZaxis\":{\"_typename\":\"TAxis\",\"fUniqueID\":0,\"fBits\":50331648,\"fName\":\"zaxis\",\"fTitle\":\"\",\"fNdivisions\":510,\"fAxisColor\":1,\"fLabelColor\":1,\"fLabelFont\":42,\"fLabelOffset\":0.005,\"fLabelSize\":0.035,\"fTickLength\":0.03,\"fTitleOffset\":1,\"fTitleSize\":0.035,\"fTitleColor\":1,\"fTitleFont\":42,\"fNbins\":1,\"fXmin\":0,\"fXmax\":1,\"fXbins\":[],\"fFirst\":0,\"fLast\":0,\"fBits2\":0,\"fTimeDisplay\":false,\"fTimeFormat\":\"\",\"fLabels\":null,\"fModLabs\":null},\"fBarOffset\":0,\"fBarWidth\":1000,\"fEntries\":45909,\"fTsumw\":8337.98775976583,\"fTsumw2\":1656.46827050072,\"fTsumwx\":946659.809562803,\"fTsumwx2\":161588173.606405,\"fMaximum\":-1111,\"fMinimum\":-1111,\"fNormFactor\":0,\"fContour\":[],\"fSumw2\":[30.3742779988753,24.1712815731649,29.6205147506858,38.2827286881326,41.2827926052459,47.9168702526484,55.0654380612198,56.8978065525259,62.387328356433,66.7606901683568,48.5378310001607,53.4457251724478,51.5906169220819,47.9070154760323,59.2805205736463,57.6799629388864,56.9072211517158,52.7616744399248,50.9713326087789,48.8878549811569,39.1017546199173,45.4336499739484,41.4171484090408,46.0288513980352,49.5814165730479,52.1822680016861,52.761224236642,50.1198195516543,45.5573997668998,50.3282755033302,42.4211678693987,46.0936444740483,36.8729676304422,34.3134313461648,31.0452316391071,20.9419541174221,9.84544176004838,6.0561390604147,3.34573812009479,1.52982060549276,0.709380893398842,0.340754675757567,0.0855840014834769,0,0],\"fOption\":\"\",\"fFunctions\":{\"_typename\":\"TList\",\"name\":\"TList\",\"arr\":[],\"opt\":[]},\"fBufferSize\":0,\"fBuffer\":[],\"fBinStatErrOpt\":0,\"fStatOverflows\":2,\"fArray\":[152.498820656777,121.541491059303,149.435239843397,191.78560737636,208.395335154215,240.935219236831,279.121612134226,287.605131247321,314.11023338704,335.897364918652,244.583217687375,268.200409194859,259.309180133273,242.04658761846,298.508477722564,290.996010983256,287.435696470482,265.440323158514,256.927795040542,245.57307752479,195.745326560152,228.337173201371,208.412154840856,231.183079105259,249.492872449215,261.132217581636,265.426702210035,251.857220641804,230.245589936384,252.310327727621,212.53121185558,231.740724902911,184.702057678494,173.083248115469,156.533006161878,105.974478181629,50.0548847872499,30.7506770387652,17.0140600294931,7.7374003457561,3.71773623856358,1.7445191436809,0.413081140566937,0,0]},{\"_typename\":\"TH1D\",\"fUniqueID\":0,\"fBits\":50331656,\"fName\":\"TT_raw_hist\",\"fTitle\":\"histo_TTLL_powheg\",\"fLineColor\":602,\"fLineStyle\":1,\"fLineWidth\":1,\"fFillColor\":600,\"fFillStyle\":1001,\"fMarkerColor\":1,\"fMarkerStyle\":1,\"fMarkerSize\":1,\"fNcells\":45,\"fXaxis\":{\"_typename\":\"TAxis\",\"fUniqueID\":0,\"fBits\":50331648,\"fName\":\"xaxis\",\"fTitle\":\"\",\"fNdivisions\":510,\"fAxisColor\":1,\"fLabelColor\":1,\"fLabelFont\":42,\"fLabelOffset\":0.005,\"fLabelSize\":0.035,\"fTickLength\":0.03,\"fTitleOffset\":1,\"fTitleSize\":0.035,\"fTitleColor\":1,\"fTitleFont\":42,\"fNbins\":43,\"fXmin\":15,\"fXmax\":3000,\"fXbins\":[15,20,25,30,35,40,45,50,55,60,64,68,72,76,81,86,91,96,101,106,110,115,120,126,133,141,150,160,171,185,200,220,243,273,320,380,440,510,600,700,830,1000,1500,3000],\"fFirst\":0,\"fLast\":0,\"fBits2\":0,\"fTimeDisplay\":false,\"fTimeFormat\":\"\",\"fLabels\":null,\"fModLabs\":null},\"fYaxis\":{\"_typename\":\"TAxis\",\"fUniqueID\":0,\"fBits\":50331648,\"fName\":\"yaxis\",\"fTitle\":\"\",\"fNdivisions\":510,\"fAxisColor\":1,\"fLabelColor\":1,\"fLabelFont\":42,\"fLabelOffset\":0.005,\"fLabelSize\":0.035,\"fTickLength\":0.03,\"fTitleOffset\":0,\"fTitleSize\":0.035,\"fTitleColor\":1,\"fTitleFont\":42,\"fNbins\":1,\"fXmin\":0,\"fXmax\":1,\"fXbins\":[],\"fFirst\":0,\"fLast\":0,\"fBits2\":0,\"fTimeDisplay\":false,\"fTimeFormat\":\"\",\"fLabels\":null,\"fModLabs\":null},\"fZaxis\":{\"_typename\":\"TAxis\",\"fUniqueID\":0,\"fBits\":50331648,\"fName\":\"zaxis\",\"fTitle\":\"\",\"fNdivisions\":510,\"fAxisColor\":1,\"fLabelColor\":1,\"fLabelFont\":42,\"fLabelOffset\":0.005,\"fLabelSize\":0.035,\"fTickLength\":0.03,\"fTitleOffset\":1,\"fTitleSize\":0.035,\"fTitleColor\":1,\"fTitleFont\":42,\"fNbins\":1,\"fXmin\":0,\"fXmax\":1,\"fXbins\":[],\"fFirst\":0,\"fLast\":0,\"fBits2\":0,\"fTimeDisplay\":false,\"fTimeFormat\":\"\",\"fLabels\":null,\"fModLabs\":null},\"fBarOffset\":0,\"fBarWidth\":1000,\"fEntries\":1277113,\"fTsumw\":47419.3618881701,\"fTsumw2\":1931.70497380752,\"fTsumwx\":5297312.35556989,\"fTsumwx2\":888414681.029814,\"fMaximum\":-1111,\"fMinimum\":-1111,\"fNormFactor\":0,\"fContour\":[],\"fSumw2\":[34.3763657848052,29.8026696381549,37.7271258232507,45.0686992902753,52.4603447997034,60.3281583404946,65.7279999777781,70.5761026399344,72.9218678136771,74.37858641656,59.7221150068722,59.8538741684311,59.0876613105156,58.7171182593576,70.5780796392882,68.7603449211405,65.4637214900832,62.4950576805543,59.9033445557822,56.1265449417425,42.3999145309837,50.6272110263329,47.3364608267853,53.3362405997658,57.3260866507313,59.1690879699118,58.4968400842138,56.7842899723791,53.8001305801309,57.5814721407471,49.8545996461684,51.2618340344343,43.5213199065464,38.8340905113885,35.9525552818973,23.028586061455,10.8116920806681,5.9415331845353,3.32181638078295,1.53842835440621,0.666056245042291,0.288371101068832,0.122671799929432,0.00426812361444784,0],\"fOption\":\"\",\"fFunctions\":{\"_typename\":\"TList\",\"name\":\"TList\",\"arr\":[],\"opt\":[]},\"fBufferSize\":0,\"fBuffer\":[],\"fBinStatErrOpt\":0,\"fStatOverflows\":2,\"fArray\":[843.709312304841,731.249166282194,927.102629623562,1107.63815052209,1289.3462505486,1482.71498550338,1615.64212143214,1734.17322040364,1790.2163071584,1828.75766555962,1466.00625167259,1470.83457996564,1451.01667844081,1440.09951218175,1733.21899752652,1687.98866514476,1606.86277857622,1533.00621154707,1468.05513190378,1376.55917549913,1041.5461714623,1240.79944819881,1159.63067524381,1308.61951524054,1404.96070311872,1451.95468151557,1433.96260226246,1391.88774372995,1320.45159400402,1411.73019412861,1222.01777221965,1256.8593316369,1069.02409424945,952.827216053434,884.303750673299,567.435830783713,266.629588663089,146.696089801903,82.3672362923867,38.1878080108614,16.6346757411056,7.1144193660601,3.11940802907043,0.112858252464118,0]},{\"_typename\":\"TH1D\",\"fUniqueID\":0,\"fBits\":50331656,\"fName\":\"DY\",\"fTitle\":\"histo_DYJetsToMuMu\",\"fLineColor\":602,\"fLineStyle\":1,\"fLineWidth\":1,\"fFillColor\":400,\"fFillStyle\":1001,\"fMarkerColor\":1,\"fMarkerStyle\":1,\"fMarkerSize\":1,\"fNcells\":45,\"fXaxis\":{\"_typename\":\"TAxis\",\"fUniqueID\":0,\"fBits\":50331648,\"fName\":\"xaxis\",\"fTitle\":\"\",\"fNdivisions\":510,\"fAxisColor\":1,\"fLabelColor\":1,\"fLabelFont\":42,\"fLabelOffset\":0.005,\"fLabelSize\":0.035,\"fTickLength\":0.03,\"fTitleOffset\":1,\"fTitleSize\":0.035,\"fTitleColor\":1,\"fTitleFont\":42,\"fNbins\":43,\"fXmin\":15,\"fXmax\":3000,\"fXbins\":[15,20,25,30,35,40,45,50,55,60,64,68,72,76,81,86,91,96,101,106,110,115,120,126,133,141,150,160,171,185,200,220,243,273,320,380,440,510,600,700,830,1000,1500,3000],\"fFirst\":0,\"fLast\":0,\"fBits2\":0,\"fTimeDisplay\":false,\"fTimeFormat\":\"\",\"fLabels\":null,\"fModLabs\":null},\"fYaxis\":{\"_typename\":\"TAxis\",\"fUniqueID\":0,\"fBits\":50331648,\"fName\":\"yaxis\",\"fTitle\":\"\",\"fNdivisions\":510,\"fAxisColor\":1,\"fLabelColor\":1,\"fLabelFont\":42,\"fLabelOffset\":0.005,\"fLabelSize\":0.035,\"fTickLength\":0.03,\"fTitleOffset\":0,\"fTitleSize\":0.035,\"fTitleColor\":1,\"fTitleFont\":42,\"fNbins\":1,\"fXmin\":0,\"fXmax\":1,\"fXbins\":[],\"fFirst\":0,\"fLast\":0,\"fBits2\":0,\"fTimeDisplay\":false,\"fTimeFormat\":\"\",\"fLabels\":null,\"fModLabs\":null},\"fZaxis\":{\"_typename\":\"TAxis\",\"fUniqueID\":0,\"fBits\":50331648,\"fName\":\"zaxis\",\"fTitle\":\"\",\"fNdivisions\":510,\"fAxisColor\":1,\"fLabelColor\":1,\"fLabelFont\":42,\"fLabelOffset\":0.005,\"fLabelSize\":0.035,\"fTickLength\":0.03,\"fTitleOffset\":1,\"fTitleSize\":0.035,\"fTitleColor\":1,\"fTitleFont\":42,\"fNbins\":1,\"fXmin\":0,\"fXmax\":1,\"fXbins\":[],\"fFirst\":0,\"fLast\":0,\"fBits2\":0,\"fTimeDisplay\":false,\"fTimeFormat\":\"\",\"fLabels\":null,\"fModLabs\":null},\"fBarOffset\":0,\"fBarWidth\":1000,\"fEntries\":13838088,\"fTsumw\":25303002.1802265,\"fTsumw2\":122057915.787291,\"fTsumwx\":2211253393.75971,\"fTsumwx2\":201870118994.643,\"fMaximum\":-1111,\"fMinimum\":-1111,\"fNormFactor\":0,\"fContour\":[],\"fSumw2\":[4899162.16885822,3409632.49381933,2748425.05286269,2697487.34632335,3695873.20063185,4751442.51608898,5048686.71244105,4069324.26152723,1045376.96492227,827298.369734759,673666.570634561,741377.326138758,884508.325325581,1173875.28462786,2420080.01154152,6242010.51563415,36899185.0867217,36598922.2238151,4250357.3930073,1303775.41999459,546370.928869338,432901.298481478,290627.636321749,245016.841706063,206700.586613965,164709.684397548,135555.480843009,108444.671135832,87578.234068864,79359.5476403304,61677.1906007564,56251.7701351386,43017.7915370795,37419.1888010878,32909.2136340326,20847.9607690459,10828.4712040226,6741.51977330696,4513.49797821277,2313.23448492993,1455.87183099696,767.624406531137,492.842343031642,109.623922127865,0],\"fOption\":\"\",\"fFunctions\":{\"_typename\":\"TList\",\"name\":\"TList\",\"arr\":[],\"opt\":[]},\"fBufferSize\":0,\"fBuffer\":[],\"fBinStatErrOpt\":0,\"fStatOverflows\":2,\"fArray\":[201882.223533614,140893.443101745,116527.885930289,125527.382769816,185456.180383398,257167.134863266,285605.422736811,253164.141120386,234814.660044074,214808.029410833,173081.948415844,189038.820885639,225000.561288325,298049.406887522,612164.81005827,1571937.7212779,9267536.64705003,9175610.12929231,1050012.34646383,319495.186057216,132715.048000564,105167.040915387,69655.3548631483,58668.0570611195,49290.1614784286,38359.6623018243,31364.5634681659,24585.1992139862,19640.7648569833,17642.1563212791,13672.7764808773,12282.7241367174,9385.94528094687,8184.35180386237,6827.3290038382,4211.28706909596,2219.07615462321,1261.70873238776,925.662140412706,462.683554247588,313.990420880333,147.452510313702,100.157902176979,27.1685178386826,0]}],\"opt\":[\"\",\"\",\"\",\"\",\"\"]},\"fHistogram\":{\"_typename\":\"TH1F\",\"fUniqueID\":0,\"fBits\":50332160,\"fName\":\"hs\",\"fTitle\":\"\",\"fLineColor\":602,\"fLineStyle\":1,\"fLineWidth\":1,\"fFillColor\":0,\"fFillStyle\":1001,\"fMarkerColor\":1,\"fMarkerStyle\":1,\"fMarkerSize\":1,\"fNcells\":45,\"fXaxis\":{\"_typename\":\"TAxis\",\"fUniqueID\":0,\"fBits\":50331648,\"fName\":\"xaxis\",\"fTitle\":\"\",\"fNdivisions\":510,\"fAxisColor\":1,\"fLabelColor\":1,\"fLabelFont\":42,\"fLabelOffset\":0.005,\"fLabelSize\":0.035,\"fTickLength\":0.03,\"fTitleOffset\":1,\"fTitleSize\":0.035,\"fTitleColor\":1,\"fTitleFont\":42,\"fNbins\":43,\"fXmin\":15,\"fXmax\":3000,\"fXbins\":[15,20,25,30,35,40,45,50,55,60,64,68,72,76,81,86,91,96,101,106,110,115,120,126,133,141,150,160,171,185,200,220,243,273,320,380,440,510,600,700,830,1000,1500,3000],\"fFirst\":0,\"fLast\":0,\"fBits2\":0,\"fTimeDisplay\":false,\"fTimeFormat\":\"\",\"fLabels\":null,\"fModLabs\":null},\"fYaxis\":{\"_typename\":\"TAxis\",\"fUniqueID\":0,\"fBits\":50331648,\"fName\":\"yaxis\",\"fTitle\":\"\",\"fNdivisions\":510,\"fAxisColor\":1,\"fLabelColor\":1,\"fLabelFont\":42,\"fLabelOffset\":0.005,\"fLabelSize\":0.035,\"fTickLength\":0.03,\"fTitleOffset\":0,\"fTitleSize\":0.035,\"fTitleColor\":1,\"fTitleFont\":42,\"fNbins\":1,\"fXmin\":0,\"fXmax\":1,\"fXbins\":[],\"fFirst\":0,\"fLast\":0,\"fBits2\":0,\"fTimeDisplay\":false,\"fTimeFormat\":\"\",\"fLabels\":null,\"fModLabs\":null},\"fZaxis\":{\"_typename\":\"TAxis\",\"fUniqueID\":0,\"fBits\":50331648,\"fName\":\"zaxis\",\"fTitle\":\"\",\"fNdivisions\":510,\"fAxisColor\":1,\"fLabelColor\":1,\"fLabelFont\":42,\"fLabelOffset\":0.005,\"fLabelSize\":0.035,\"fTickLength\":0.03,\"fTitleOffset\":1,\"fTitleSize\":0.035,\"fTitleColor\":1,\"fTitleFont\":42,\"fNbins\":1,\"fXmin\":0,\"fXmax\":1,\"fXbins\":[],\"fFirst\":0,\"fLast\":0,\"fBits2\":0,\"fTimeDisplay\":false,\"fTimeFormat\":\"\",\"fLabels\":null,\"fModLabs\":null},\"fBarOffset\":0,\"fBarWidth\":1000,\"fEntries\":0,\"fTsumw\":0,\"fTsumw2\":0,\"fTsumwx\":0,\"fTsumwx2\":0,\"fMaximum\":14863583.0877505,\"fMinimum\":3715.89577193763,\"fNormFactor\":0,\"fContour\":[],\"fSumw2\":[],\"fOption\":\"\",\"fFunctions\":{\"_typename\":\"TList\",\"name\":\"TList\",\"arr\":[],\"opt\":[]},\"fBufferSize\":0,\"fBuffer\":[],\"fBinStatErrOpt\":0,\"fStatOverflows\":2,\"fArray\":[0,0,0,0,0,0,0,0,0,0,0,0,0,0,0,0,0,0,0,0,0,0,0,0,0,0,0,0,0,0,0,0,0,0,0,0,0,0,0,0,0,0,0,0,0]},\"fMaximum\":-1111,\"fMinimum\":-1111},{\"$ref\":5},{\"_typename\":\"TPaveText\",\"fUniqueID\":0,\"fBits\":50331657,\"fLineColor\":1,\"fLineStyle\":1,\"fLineWidth\":1,\"fFillColor\":0,\"fFillStyle\":0,\"fX1\":1.95818128538342,\"fY1\":8.82938678621409,\"fX2\":2.69503122839192,\"fY2\":9.52085658679955,\"fX1NDC\":0.371909547738693,\"fY1NDC\":0.932062941831309,\"fX2NDC\":0.628090452261307,\"fY2NDC\":0.995000004768372,\"fBorderSize\":0,\"fInit\":1,\"fShadowColor\":1,\"fCornerRadius\":0,\"fOption\":\"blNDC\",\"fName\":\"title\",\"fTextAngle\":0,\"fTextSize\":0,\"fTextAlign\":22,\"fTextColor\":1,\"fTextFont\":42,\"fLabel\":\"\",\"fLongest\":16,\"fMargin\":0.05,\"fLines\":{\"_typename\":\"TList\",\"name\":\"TList\",\"arr\":[{\"_typename\":\"TLatex\",\"fUniqueID\":0,\"fBits\":50331648,\"fName\":\"\",\"fTitle\":\"histo_DoubleMuon\",\"fTextAngle\":0,\"fTextSize\":0,\"fTextAlign\":0,\"fTextColor\":0,\"fTextFont\":0,\"fX\":0,\"fY\":0,\"fLineColor\":1,\"fLineStyle\":1,\"fLineWidth\":2,\"fLimitFactorSize\":3,\"fOriginSize\":0.0534965023398399}],\"opt\":[\"\"]}}],\"opt\":[\"\",\"hist pe\",\"hist same\",\"p9e same\",\"blNDC\"]},\"fExecs\":{\"_typename\":\"TList\",\"name\":\"TList\",\"arr\":[],\"opt\":[]},\"fName\":\"pad1\",\"fTitle\":\"pad1\",\"fNumPaletteColor\":0,\"fNextPaletteColor\":0},{\"_typename\":\"TPad\",\"fUniqueID\":0,\"fBits\":50331657,\"fLineColor\":1,\"fLineStyle\":1,\"fLineWidth\":1,\"fFillColor\":0,\"fFillStyle\":1001,\"fLeftMargin\":0.1,\"fRightMargin\":0.1,\"fBottomMargin\":0.1,\"fTopMargin\":0.1,\"fXfile\":2,\"fYfile\":2,\"fAfile\":1,\"fXstat\":0.99,\"fYstat\":0.99,\"fAstat\":2,\"fFrameFillColor\":0,\"fFrameLineColor\":1,\"fFrameFillStyle\":1001,\"fFrameLineStyle\":1,\"fFrameLineWidth\":1,\"fFrameBorderSize\":1,\"fFrameBorderMode\":0,\"fX1\":0.888462488167671,\"fY1\":0.624999994412064,\"fX2\":3.76475002560767,\"fY2\":1.37500000558794,\"fXtoAbsPixelk\":-245.878058977558,\"fXtoPixelk\":-245.878058977558,\"fXtoPixel\":276.745627701905,\"fYtoAbsPixelk\":715.000046590614,\"fYtoPixelk\":314.600046590614,\"fYtoPixel\":-228.799996590614,\"fUtoAbsPixelk\":5e-5,\"fUtoPixelk\":5e-5,\"fUtoPixel\":796,\"fVtoAbsPixelk\":572.00005,\"fVtoPixelk\":171.6,\"fVtoPixel\":-171.6,\"fAbsPixeltoXk\":0.888462488167671,\"fPixeltoXk\":0.888462488167671,\"fPixeltoX\":0.00361342655457287,\"fAbsPixeltoYk\":3.12500003166497,\"fPixeltoYk\":0.624999994412064,\"fPixeltoY\":-0.00437062943575683,\"fXlowNDC\":0,\"fYlowNDC\":0,\"fXUpNDC\":0,\"fYUpNDC\":0,\"fWNDC\":1,\"fHNDC\":0.3,\"fAbsXlowNDC\":0,\"fAbsYlowNDC\":0,\"fAbsWNDC\":1,\"fAbsHNDC\":0.3,\"fUxmin\":1.17609125905568,\"fUymin\":0.7,\"fUxmax\":3.47712125471966,\"fUymax\":1.3,\"fTheta\":30,\"fPhi\":30,\"fAspectRatio\":0,\"fNumber\":0,\"fTickx\":0,\"fTicky\":0,\"fLogx\":1,\"fLogy\":0,\"fLogz\":0,\"fPadPaint\":0,\"fCrosshair\":0,\"fCrosshairPos\":0,\"fBorderSize\":2,\"fBorderMode\":0,\"fModified\":false,\"fGridx\":false,\"fGridy\":false,\"fAbsCoord\":false,\"fEditable\":true,\"fFixedAspectRatio\":false,\"fPrimitives\":{\"_typename\":\"TList\",\"name\":\"TList\",\"arr\":[{\"_typename\":\"TFrame\",\"fUniqueID\":0,\"fBits\":50331656,\"fLineColor\":1,\"fLineStyle\":1,\"fLineWidth\":1,\"fFillColor\":0,\"fFillStyle\":1001,\"fX1\":1.17609125905568,\"fY1\":0.7,\"fX2\":3.47712125471966,\"fY2\":1.3,\"fBorderSize\":1,\"fBorderMode\":0},{\"_typename\":\"TH1D\",\"fUniqueID\":0,\"fBits\":50332168,\"fName\":\"ratio\",\"fTitle\":\"histo_DoubleMuon\",\"fLineColor\":1,\"fLineStyle\":1,\"fLineWidth\":1,\"fFillColor\":0,\"fFillStyle\":1001,\"fMarkerColor\":1,\"fMarkerStyle\":20,\"fMarkerSize\":0.7,\"fNcells\":45,\"fXaxis\":{\"_typename\":\"TAxis\",\"fUniqueID\":0,\"fBits\":50331656,\"fName\":\"xaxis\",\"fTitle\":\"\",\"fNdivisions\":505,\"fAxisColor\":1,\"fLabelColor\":1,\"fLabelFont\":42,\"fLabelOffset\":0.005,\"fLabelSize\":0.035,\"fTickLength\":0.03,\"fTitleOffset\":1,\"fTitleSize\":0.035,\"fTitleColor\":1,\"fTitleFont\":42,\"fNbins\":43,\"fXmin\":15,\"fXmax\":3000,\"fXbins\":[15,20,25,30,35,40,45,50,55,60,64,68,72,76,81,86,91,96,101,106,110,115,120,126,133,141,150,160,171,185,200,220,243,273,320,380,440,510,600,700,830,1000,1500,3000],\"fFirst\":0,\"fLast\":0,\"fBits2\":0,\"fTimeDisplay\":false,\"fTimeFormat\":\"\",\"fLabels\":null,\"fModLabs\":null},\"fYaxis\":{\"_typename\":\"TAxis\",\"fUniqueID\":0,\"fBits\":50331648,\"fName\":\"yaxis\",\"fTitle\":\"\",\"fNdivisions\":510,\"fAxisColor\":1,\"fLabelColor\":1,\"fLabelFont\":42,\"fLabelOffset\":0.005,\"fLabelSize\":0.035,\"fTickLength\":0.03,\"fTitleOffset\":0,\"fTitleSize\":0.035,\"fTitleColor\":1,\"fTitleFont\":42,\"fNbins\":1,\"fXmin\":0,\"fXmax\":1,\"fXbins\":[],\"fFirst\":0,\"fLast\":0,\"fBits2\":0,\"fTimeDisplay\":false,\"fTimeFormat\":\"\",\"fLabels\":null,\"fModLabs\":null},\"fZaxis\":{\"_typename\":\"TAxis\",\"fUniqueID\":0,\"fBits\":50331648,\"fName\":\"zaxis\",\"fTitle\":\"\",\"fNdivisions\":510,\"fAxisColor\":1,\"fLabelColor\":1,\"fLabelFont\":42,\"fLabelOffset\":0.005,\"fLabelSize\":0.035,\"fTickLength\":0.03,\"fTitleOffset\":1,\"fTitleSize\":0.035,\"fTitleColor\":1,\"fTitleFont\":42,\"fNbins\":1,\"fXmin\":0,\"fXmax\":1,\"fXbins\":[],\"fFirst\":0,\"fLast\":0,\"fBits2\":0,\"fTimeDisplay\":false,\"fTimeFormat\":\"\",\"fLabels\":null,\"fModLabs\":null},\"fBarOffset\":0,\"fBarWidth\":1000,\"fEntries\":10198.1098902826,\"fTsumw\":41.9916370727968,\"fTsumw2\":0.172904352181345,\"fTsumwx\":10166.4105553068,\"fTsumwx2\":7289406.0299766,\"fMaximum\":1.3,\"fMinimum\":0.7,\"fNormFactor\":0,\"fContour\":[],\"fSumw2\":[0.0103117092055048,1.51815859548048e-4,1.90803957028628e-4,1.59614062604046e-4,1.05449635112062e-4,6.72448373706747e-5,5.77969436117021e-5,5.98529663839184e-5,2.02138237146712e-5,2.01391030111652e-5,2.55231913150611e-5,2.33505274428685e-5,1.97915444657034e-5,1.4852723311728e-5,7.32197003001085e-6,2.88929744792402e-6,4.88773495724938e-7,4.94927644158592e-7,4.55469063497791e-6,1.52051814561836e-5,3.73276261894607e-5,4.62868446927116e-5,7.16350380676532e-5,8.29778900410841e-5,9.36591166641919e-5,1.29072398620092e-4,1.53925972115336e-4,1.97853016278718e-4,2.50234289486121e-4,2.73383966868248e-4,3.32964563179435e-4,3.54276334950013e-4,4.43210024296807e-4,4.62292047925719e-4,5.70799568179427e-4,9.71659704910609e-4,0.00181218428465201,0.00436831908871256,0.0041274245717219,0.00987672666550428,0.0111582137349357,0.036062646580931,0.0558918962667372,0.0441879785700553,0],\"fOption\":\"\",\"fFunctions\":{\"_typename\":\"TList\",\"name\":\"TList\",\"arr\":[],\"opt\":[]},\"fBufferSize\":0,\"fBuffer\":[],\"fBinStatErrOpt\":0,\"fStatOverflows\":2,\"fArray\":[9.37335282601491,0.931126680560115,0.968758861485285,0.968685261586571,1.01957618420786,1.01402568168013,1.02375432573084,1.03113219190756,0.975746517057941,0.977375486620186,0.970889200102129,0.960150212969204,0.960255563483286,0.952625717581377,0.952805089431418,0.954066639116165,0.950383169159374,0.951031517047135,0.974429632188351,0.982831532917263,0.994033533665645,0.987868343267485,1.00462118426859,0.994639799087846,0.972523842497349,1.01655213134386,1.00137225852083,1.02570462902798,1.02391513147248,1.03436671368552,1.00645690193873,1.00926324968399,0.994636084205006,0.953943472615311,0.973901007188531,0.99567450521943,0.98418500052698,1.06055879636007,0.933589359933798,1.01207909452546,0.867553578703332,1.06776943062793,1.08423915711436,0.472540402484062,0]},{\"_typename\":\"TH1D\",\"fUniqueID\":0,\"fBits\":50332168,\"fName\":\"ratio_\",\"fTitle\":\"histo_DoubleMuon\",\"fLineColor\":1,\"fLineStyle\":1,\"fLineWidth\":1,\"fFillColor\":0,\"fFillStyle\":1001,\"fMarkerColor\":1,\"fMarkerStyle\":24,\"fMarkerSize\":0.7,\"fNcells\":45,\"fXaxis\":{\"_typename\":\"TAxis\",\"fUniqueID\":0,\"fBits\":50331656,\"fName\":\"xaxis\",\"fTitle\":\"\",\"fNdivisions\":212,\"fAxisColor\":1,\"fLabelColor\":1,\"fLabelFont\":42,\"fLabelOffset\":0.005,\"fLabelSize\":0.035,\"fTickLength\":0.03,\"fTitleOffset\":1,\"fTitleSize\":0.035,\"fTitleColor\":1,\"fTitleFont\":42,\"fNbins\":43,\"fXmin\":15,\"fXmax\":3000,\"fXbins\":[15,20,25,30,35,40,45,50,55,60,64,68,72,76,81,86,91,96,101,106,110,115,120,126,133,141,150,160,171,185,200,220,243,273,320,380,440,510,600,700,830,1000,1500,3000],\"fFirst\":0,\"fLast\":0,\"fBits2\":0,\"fTimeDisplay\":false,\"fTimeFormat\":\"\",\"fLabels\":null,\"fModLabs\":null},\"fYaxis\":{\"_typename\":\"TAxis\",\"fUniqueID\":0,\"fBits\":50331648,\"fName\":\"yaxis\",\"fTitle\":\"\",\"fNdivisions\":510,\"fAxisColor\":1,\"fLabelColor\":1,\"fLabelFont\":42,\"fLabelOffset\":0.005,\"fLabelSize\":0.035,\"fTickLength\":0.03,\"fTitleOffset\":0,\"fTitleSize\":0.035,\"fTitleColor\":1,\"fTitleFont\":42,\"fNbins\":1,\"fXmin\":0,\"fXmax\":1,\"fXbins\":[],\"fFirst\":0,\"fLast\":0,\"fBits2\":0,\"fTimeDisplay\":false,\"fTimeFormat\":\"\",\"fLabels\":null,\"fModLabs\":null},\"fZaxis\":{\"_typename\":\"TAxis\",\"fUniqueID\":0,\"fBits\":50331648,\"fName\":\"zaxis\",\"fTitle\":\"\",\"fNdivisions\":510,\"fAxisColor\":1,\"fLabelColor\":1,\"fLabelFont\":42,\"fLabelOffset\":0.005,\"fLabelSize\":0.035,\"fTickLength\":0.03,\"fTitleOffset\":1,\"fTitleSize\":0.035,\"fTitleColor\":1,\"fTitleFont\":42,\"fNbins\":1,\"fXmin\":0,\"fXmax\":1,\"fXbins\":[],\"fFirst\":0,\"fLast\":0,\"fBits2\":0,\"fTimeDisplay\":false,\"fTimeFormat\":\"\",\"fLabels\":null,\"fModLabs\":null},\"fBarOffset\":0,\"fBarWidth\":1000,\"fEntries\":10099.5606095932,\"fTsumw\":42.2664675300603,\"fTsumw2\":0.176884356312763,\"fTsumwx\":10260.9440741488,\"fTsumwx2\":7337575.91452231,\"fMaximum\":300000000,\"fMinimum\":0.05,\"fNormFactor\":0,\"fContour\":[],\"fSumw2\":[0.0103418740488629,1.52320658713566e-4,1.91739631242165e-4,1.60535772458524e-4,1.05883170707155e-4,6.74695988393123e-5,5.79952919574599e-5,6.00894310151958e-5,2.0301411254122e-5,2.02409467786579e-5,2.56420799728861e-5,2.34617517430446e-5,1.98695285423627e-5,1.48945436307223e-5,7.33448523067733e-6,2.89118409007243e-6,4.88827066142114e-7,4.94978252129738e-7,4.55863612866588e-6,1.52464418298139e-5,3.75211676385108e-5,4.66381319208287e-5,7.23813129995221e-5,8.41063061835703e-5,9.52780699179218e-5,1.32057686443122e-4,1.58302636873571e-4,2.0460528977487e-4,2.5986717649465e-4,2.86026456711685e-4,3.49487081571901e-4,3.75329498395724e-4,4.7022601635221e-4,4.923276532823e-4,6.10597704114594e-4,0.0010461389987253,0.00193690498378936,0.00469294265744156,0.00436225452477376,0.0103949902683155,0.0115793653135163,0.0374170685848996,0.056640501853119,0.0441879785700553,0],\"fOption\":\"\",\"fFunctions\":{\"_typename\":\"TList\",\"name\":\"TList\",\"arr\":[],\"opt\":[]},\"fBufferSize\":0,\"fBuffer\":[],\"fBinStatErrOpt\":0,\"fStatOverflows\":2,\"fArray\":[9.38022932985057,0.931918262882793,0.969972609713152,0.970117349752934,1.02065143935108,1.01489775586831,1.02465945216346,1.0321845207411,0.976920697438404,0.978765108695414,0.972159250887627,0.961435878670536,0.961321091415078,0.953382700255066,0.953264883989362,0.954242464959221,0.950412576066079,0.951058966155874,0.974666975024429,0.983579838134753,0.99547569799931,0.989965168853304,1.00754015462546,0.998409245060637,0.977212098780567,1.02306776085259,1.00924035280077,1.03536571560499,1.03473336741925,1.04747491189732,1.02014915772785,1.02570943532941,1.01127886724834,0.97102503352269,0.992528188304806,1.01647640829272,1.00272765824722,1.08149087642838,0.948226648534007,1.02659007708349,0.876704602557934,1.07868966393701,1.08823421430348,0.472540402484062,0]},{\"_typename\":\"TLine\",\"fUniqueID\":0,\"fBits\":50331656,\"fLineColor\":1,\"fLineStyle\":2,\"fLineWidth\":1,\"fX1\":15,\"fY1\":1,\"fX2\":3000,\"fY2\":1},{\"_typename\":\"TPaveText\",\"fUniqueID\":0,\"fBits\":50331657,\"fLineColor\":1,\"fLineStyle\":1,\"fLineWidth\":1,\"fFillColor\":0,\"fFillStyle\":0,\"fX1\":2.15149960605307,\"fY1\":1.32404721120216,\"fX2\":2.50171290772227,\"fY2\":1.37125000910834,\"fX1NDC\":0.439120603015075,\"fY1NDC\":0.932062941831309,\"fX2NDC\":0.560879396984925,\"fY2NDC\":0.995000004768372,\"fBorderSize\":0,\"fInit\":1,\"fShadowColor\":1,\"fCornerRadius\":0,\"fOption\":\"blNDC\",\"fName\":\"title\",\"fTextAngle\":0,\"fTextSize\":0,\"fTextAlign\":22,\"fTextColor\":1,\"fTextFont\":42,\"fLabel\":\"\",\"fLongest\":16,\"fMargin\":0.05,\"fLines\":{\"_typename\":\"TList\",\"name\":\"TList\",\"arr\":[{\"_typename\":\"TLatex\",\"fUniqueID\":0,\"fBits\":50331648,\"fName\":\"\",\"fTitle\":\"histo_DoubleMuon\",\"fTextAngle\":0,\"fTextSize\":0,\"fTextAlign\":0,\"fTextColor\":0,\"fTextFont\":0,\"fX\":0,\"fY\":0,\"fLineColor\":1,\"fLineStyle\":1,\"fLineWidth\":2,\"fLimitFactorSize\":3,\"fOriginSize\":0.0534965023398399}],\"opt\":[\"\"]}}],\"opt\":[\"\",\"pe\",\"pe same\",\"\",\"blNDC\"]},\"fExecs\":{\"_typename\":\"TList\",\"name\":\"TList\",\"arr\":[],\"opt\":[]},\"fName\":\"pad2\",\"fTitle\":\"pad2\",\"fNumPaletteColor\":0,\"fNextPaletteColor\":0}],\"opt\":[\"\",\"\"]},\"fExecs\":null,\"fName\":\"c_det\",\"fTitle\":\"c_det\",\"fNumPaletteColor\":0,\"fNextPaletteColor\":0,\"fDISPLAY\":\"$DISPLAY\",\"fDoubleBuffer\":0,\"fRetained\":true,\"fXsizeUser\":0,\"fYsizeUser\":0,\"fXsizeReal\":20,\"fYsizeReal\":15,\"fWindowTopX\":0,\"fWindowTopY\":0,\"fWindowWidth\":0,\"fWindowHeight\":0,\"fCw\":796,\"fCh\":572,\"fCatt\":{\"_typename\":\"TAttCanvas\",\"fXBetween\":2,\"fYBetween\":2,\"fTitleFromTop\":1.2,\"fXdate\":0.2,\"fYdate\":0.3,\"fAdate\":1},\"kMoveOpaque\":true,\"kResizeOpaque\":true,\"fHighLightColor\":2,\"fBatch\":true,\"kShowEventStatus\":false,\"kAutoExec\":true,\"kMenuBar\":true});\n",
       "       Core.draw(\"root_plot_1\", obj, \"\");\n",
       "     }\n",
       " );\n",
       "</script>\n"
      ],
      "text/plain": [
       "<IPython.core.display.HTML object>"
      ]
     },
     "metadata": {},
     "output_type": "display_data"
    }
   ],
   "source": [
    "pad1.cd()\n",
    "pad1.SetLogy()\n",
    "pad1.SetLogx()\n",
    "\n",
    "data_raw_hist.SetMarkerSize(0.7)\n",
    "data_raw_hist.SetMarkerStyle(20)\n",
    "data_raw_hist.SetLineColor(rt.kBlack)\n",
    "DY.SetFillColor(rt.kYellow)\n",
    "DYTau.SetFillColor(rt.kYellow+2)\n",
    "VV.SetFillColor(rt.kYellow+2)\n",
    "EWK.SetFillColor(rt.kYellow+2)\n",
    "TT_raw_hist.SetFillColor(rt.kBlue)\n",
    "ST.SetFillColor(rt.kBlue+2)\n",
    "WJets_raw_hist.SetFillColor(rt.kViolet+1)\n",
    "\n",
    "data_raw_hist.SetStats(rt.kFALSE)\n",
    "data_raw_hist.Draw(\"hist pe\")\n",
    "\n",
    "mcStack = rt.THStack(\"hs\",\"\")\n",
    "mcStack.Add(WJets_raw_hist)\n",
    "mcStack.Add(EWK)\n",
    "mcStack.Add(ST)\n",
    "mcStack.Add(TT_raw_hist)\n",
    "#mcStack.Add(VV)\n",
    "#mcStack.Add(DYTau)\n",
    "mcStack.Add(DY)\n",
    "\n",
    "mcStack.Draw(\"hist same\")\n",
    "data_raw_hist.Draw(\"p9e same\")\n",
    "\n",
    "data_raw_hist.SetMaximum(3e8)\n",
    "data_raw_hist.SetMinimum(5e-2)\n",
    "data_raw_hist.GetXaxis().SetNdivisions(212)\n",
    "\n",
    "pad2.cd()\n",
    "pad2.SetLogx()\n",
    "ratio = data_raw_hist.Clone(\"ratio\")\n",
    "ratio_ = data_raw_hist.Clone(\"ratio_\")\n",
    "totalMC = DY.Clone(\"totalMC\")\n",
    "totalMC.Add(ST)\n",
    "totalMC.Add(WJets_raw_hist)\n",
    "totalMC.Add(TT_raw_hist)\n",
    "totalMC.Add(DYTau)\n",
    "totalMC.Add(VV)\n",
    "ratio.Divide(totalMC)\n",
    "\n",
    "totalMC_ = DY.Clone(\"totalMC_\")\n",
    "totalMC_.Add(TT_raw_hist)\n",
    "totalMC_.Add(WJets_raw_hist)\n",
    "totalMC_.Add(DYTau)\n",
    "totalMC_.Add(VV)\n",
    "ratio_.Divide(totalMC_)\n",
    "\n",
    "ratio.SetMarkerSize(0.7)\n",
    "ratio.Draw(\"pe\")\n",
    "ratio_.SetMarkerStyle(24)\n",
    "ratio_.Draw(\"pe same\")\n",
    "ratio.GetXaxis().SetNdivisions(505)\n",
    "\n",
    "ratio.SetMaximum(1.3)\n",
    "ratio.SetMinimum(0.7)\n",
    "\n",
    "line = rt.TLine(15, 1., 3000, 1.);\n",
    "line.SetLineStyle(2)\n",
    "line.Draw()\n",
    "\n",
    "c_det.Draw()\n",
    "c_det.SaveAs(\"test.pdf\")\n",
    "\n",
    "# Check how data/mc comparison changes with single top samples"
   ]
  },
  {
   "cell_type": "code",
   "execution_count": 17,
   "metadata": {
    "scrolled": true
   },
   "outputs": [
    {
     "name": "stderr",
     "output_type": "stream",
     "text": [
      "Warning in <TUnfoldDensityV17::SetInput>: 27/162 input bins have zero error, and are ignored.\n",
      "Warning in <TUnfoldDensityV17::SetInput>: 27/162 input bins have zero error, and are ignored.\n"
     ]
    }
   ],
   "source": [
    "unfoldClass.setUnfInput(\"Pt\",   unfoldInputDic['hist'], False, \"nominal\", 0, bias, \"Detector\")\n",
    "unfoldClass.setUnfInput(\"Mass\", unfoldInputDic['hist'], False, \"nominal\", 0, bias, \"Detector\")\n",
    "setUnfoldBkgs(unfoldClass, unfoldInputDic['hist'], False, \"nominal\", 0, -1, year)\n",
    "\n",
    "unfoldClass_.setUnfInput(\"Pt\",   unfoldInputDic['hist'], False, \"nominal\", 0, bias, \"Detector\")\n",
    "unfoldClass_.setUnfInput(\"Mass\", unfoldInputDic['hist'], False, \"nominal\", 0, bias, \"Detector\")"
   ]
  },
  {
   "cell_type": "code",
   "execution_count": 18,
   "metadata": {},
   "outputs": [],
   "source": [
    "setUnfoldBkgs(unfoldClass_, unfoldInputDic['hist'], False, \"nominal\", 0, -1, year)"
   ]
  },
  {
   "cell_type": "code",
   "execution_count": 19,
   "metadata": {
    "scrolled": false
   },
   "outputs": [
    {
     "name": "stderr",
     "output_type": "stream",
     "text": [
      "Error in <TUnfoldDensityV17::GetInputInverseEmatrix>: number of parameters 44 > 43 (rank of input covariance). Problem can not be solved\n",
      "Info in <TUnfoldDensityV17::InvertMSparseSymmPos>: cholesky-decomposition failed, try eigenvalue analysis\n",
      "Warning in <TUnfoldDensityV17::DoUnfold>: rank of matrix E 43 expect 44\n",
      "Info in <TUnfoldDensityV17::InvertMSparseSymmPos>: cholesky-decomposition failed, try eigenvalue analysis\n",
      "Warning in <TUnfoldDensityV17::DoUnfold>: rank of output covariance is 43 expect 44\n"
     ]
    }
   ],
   "source": [
    "# Do unfold Need to understand the error meassages below!\n",
    "unfoldClass.doISRUnfold(DetectorUnfold, False)"
   ]
  },
  {
   "cell_type": "code",
   "execution_count": 20,
   "metadata": {},
   "outputs": [
    {
     "name": "stderr",
     "output_type": "stream",
     "text": [
      "Error in <TUnfoldDensityV17::GetInputInverseEmatrix>: number of parameters 44 > 43 (rank of input covariance). Problem can not be solved\n",
      "Info in <TUnfoldDensityV17::InvertMSparseSymmPos>: cholesky-decomposition failed, try eigenvalue analysis\n",
      "Warning in <TUnfoldDensityV17::DoUnfold>: rank of matrix E 43 expect 44\n"
     ]
    }
   ],
   "source": [
    "unfoldClass_.doISRUnfold(DetectorUnfold, False)"
   ]
  },
  {
   "cell_type": "markdown",
   "metadata": {},
   "source": [
    "## Unfolding for QED FSR"
   ]
  },
  {
   "cell_type": "code",
   "execution_count": 21,
   "metadata": {},
   "outputs": [
    {
     "name": "stderr",
     "output_type": "stream",
     "text": [
      "Warning in <TUnfoldDensityV17::SetInput>: 14/90 input bins have zero error, and are ignored.\n"
     ]
    }
   ],
   "source": [
    "unfoldClass.setFSRUnfInput(False, \"\", -1)"
   ]
  },
  {
   "cell_type": "code",
   "execution_count": 22,
   "metadata": {},
   "outputs": [
    {
     "name": "stderr",
     "output_type": "stream",
     "text": [
      "Warning in <TUnfoldDensityV17::GetInputInverseEmatrix>: number of parameters 76 = input rank 76. Problem is ill posed\n",
      "Error in <TUnfoldDensityV17::GetInputInverseEmatrix>: number of parameters 44 > 43 (rank of input covariance). Problem can not be solved\n",
      "Info in <TUnfoldDensityV17::InvertMSparseSymmPos>: cholesky-decomposition failed, try eigenvalue analysis\n",
      "Warning in <TUnfoldDensityV17::DoUnfold>: rank of matrix E 43 expect 44\n"
     ]
    }
   ],
   "source": [
    "# Do FSR unfold\n",
    "unfoldClass.doISRUnfold(FSRUnfold, False)"
   ]
  },
  {
   "cell_type": "code",
   "execution_count": 23,
   "metadata": {},
   "outputs": [],
   "source": [
    "mass_steering = \"mass[UO];pt[UOC0]\"\n",
    "mass_useAxis = True\n",
    "hMassUnfoldedData = unfoldClass.getDetUnfoldedHists(\"Mass\", \"hMassUnfoldedData\", mass_steering, mass_useAxis)\n",
    "hMassMCTruth = unfoldClass.getMCHists(\"Mass\", \"hMassMCTruth\", mass_steering, mass_useAxis)\n",
    "hMassFSRUnfoldedData = unfoldClass.getFSRUnfoldedHists(\"Mass\", \"hMassFSRUnfoldedData\", mass_steering, mass_useAxis)\n",
    "hMassData = unfoldClass.getDetHists(\"Mass\", \"hMassData\", mass_steering, mass_useAxis)\n",
    "\n",
    "hMassUnfoldedData_ = unfoldClass_.getDetUnfoldedHists(\"Mass\", \"hMassUnfoldedData_\", mass_steering, mass_useAxis)\n",
    "hMassUnfoldedMC_ = unfoldClass_.getMCHists(\"Mass\", \"hMassUnfoldedMC_\", mass_steering, mass_useAxis)\n",
    "hMassData_ = unfoldClass_.getDetHists(\"Mass\", \"hMassData_\", mass_steering, mass_useAxis)\n",
    "\n",
    "pt_steering = \"pt[UO];mass[UO]\"\n",
    "pt_useAxis = False\n",
    "hPtUnfoldedData = unfoldClass.getDetUnfoldedHists(\"Pt\", \"hPtUnfoldedData\", pt_steering, pt_useAxis)\n",
    "hPtMCTruth = unfoldClass_.getMCHists(\"Pt\", \"hPtMCTruth\", pt_steering, pt_useAxis)\n",
    "hPtFSRUnfoldedData = unfoldClass.getFSRUnfoldedHists(\"Pt\", \"hPtFSRUnfoldedData\", pt_steering, pt_useAxis)\n",
    "\n",
    "hPtUnfoldedData_ = unfoldClass_.getDetUnfoldedHists(\"Pt\", \"hPtUnfoldedData_\", pt_steering, pt_useAxis)\n",
    "\n",
    "#unfoldClass.doNorm(hist, False)\n",
    "#unfoldClass.doNorm(mc_hist, False)\n",
    "#unfoldClass.doNorm(det_hist, False)"
   ]
  },
  {
   "cell_type": "code",
   "execution_count": 24,
   "metadata": {},
   "outputs": [
    {
     "data": {
      "text/plain": [
       "43"
      ]
     },
     "execution_count": 24,
     "metadata": {},
     "output_type": "execute_result"
    }
   ],
   "source": [
    "hMassData_test = unfoldClass.getDetHists(\"Mass\", \"hMassData_test\", \"mass[*];pt[*]\", False)\n",
    "hMassData_test.GetNbinsX()"
   ]
  },
  {
   "cell_type": "code",
   "execution_count": 25,
   "metadata": {},
   "outputs": [],
   "source": [
    "# Draw plot!\n",
    "c = rt.TCanvas(\"c\",\"c\", 1800, 600)\n",
    "c.Divide(2,1);\n",
    "\n",
    "pad_mass = rt.TPad(\"pad_mass\", \"pad_mass\", 0, 0.0, 1, 1.0)\n",
    "c.cd(1)\n",
    "pad_mass.Draw()\n",
    "\n",
    "pad_pt = rt.TPad(\"pad_pt\", \"pad_pt\", 0, 0.0, 1, 1.0)\n",
    "c.cd(2)\n",
    "pad_pt.Draw()"
   ]
  },
  {
   "cell_type": "code",
   "execution_count": 26,
   "metadata": {
    "scrolled": false
   },
   "outputs": [
    {
     "data": {
      "text/html": [
       "\n",
       "<div id=\"root_plot_2\"\n",
       "     style=\"width: 1796px; height: 572px\">\n",
       "</div>\n",
       "\n",
       "<script>\n",
       " requirejs.config({\n",
       "     paths: {\n",
       "       'JSRootCore' : 'https://root.cern.ch/js/notebook//scripts/JSRootCore',\n",
       "     }\n",
       "   });\n",
       " require(['JSRootCore'],\n",
       "     function(Core) {\n",
       "       var obj = Core.JSONR_unref({\"_typename\":\"TCanvas\",\"fUniqueID\":0,\"fBits\":53673992,\"fLineColor\":1,\"fLineStyle\":1,\"fLineWidth\":1,\"fFillColor\":0,\"fFillStyle\":1001,\"fLeftMargin\":0.1,\"fRightMargin\":0.1,\"fBottomMargin\":0.1,\"fTopMargin\":0.1,\"fXfile\":2,\"fYfile\":2,\"fAfile\":1,\"fXstat\":0.99,\"fYstat\":0.99,\"fAstat\":2,\"fFrameFillColor\":0,\"fFrameLineColor\":1,\"fFrameFillStyle\":1001,\"fFrameLineStyle\":1,\"fFrameLineWidth\":1,\"fFrameBorderSize\":1,\"fFrameBorderMode\":0,\"fX1\":0,\"fY1\":0,\"fX2\":1,\"fY2\":1,\"fXtoAbsPixelk\":5e-5,\"fXtoPixelk\":5e-5,\"fXtoPixel\":1796,\"fYtoAbsPixelk\":572.00005,\"fYtoPixelk\":572.00005,\"fYtoPixel\":-572,\"fUtoAbsPixelk\":5e-5,\"fUtoPixelk\":5e-5,\"fUtoPixel\":1796,\"fVtoAbsPixelk\":572.00005,\"fVtoPixelk\":572,\"fVtoPixel\":-572,\"fAbsPixeltoXk\":0,\"fPixeltoXk\":0,\"fPixeltoX\":5.56792873051225e-4,\"fAbsPixeltoYk\":1,\"fPixeltoYk\":0,\"fPixeltoY\":-0.00174825174825175,\"fXlowNDC\":0,\"fYlowNDC\":0,\"fXUpNDC\":0,\"fYUpNDC\":0,\"fWNDC\":1,\"fHNDC\":1,\"fAbsXlowNDC\":0,\"fAbsYlowNDC\":0,\"fAbsWNDC\":1,\"fAbsHNDC\":1,\"fUxmin\":0,\"fUymin\":0,\"fUxmax\":1,\"fUymax\":1,\"fTheta\":30,\"fPhi\":30,\"fAspectRatio\":0,\"fNumber\":0,\"fTickx\":0,\"fTicky\":0,\"fLogx\":0,\"fLogy\":0,\"fLogz\":0,\"fPadPaint\":0,\"fCrosshair\":0,\"fCrosshairPos\":0,\"fBorderSize\":2,\"fBorderMode\":0,\"fModified\":false,\"fGridx\":false,\"fGridy\":false,\"fAbsCoord\":false,\"fEditable\":true,\"fFixedAspectRatio\":false,\"fPrimitives\":{\"_typename\":\"TList\",\"name\":\"TList\",\"arr\":[{\"_typename\":\"TPad\",\"fUniqueID\":0,\"fBits\":50331657,\"fLineColor\":1,\"fLineStyle\":1,\"fLineWidth\":1,\"fFillColor\":0,\"fFillStyle\":1001,\"fLeftMargin\":0.1,\"fRightMargin\":0.1,\"fBottomMargin\":0.1,\"fTopMargin\":0.1,\"fXfile\":2,\"fYfile\":2,\"fAfile\":1,\"fXstat\":0.99,\"fYstat\":0.99,\"fAstat\":2,\"fFrameFillColor\":0,\"fFrameLineColor\":1,\"fFrameFillStyle\":1001,\"fFrameLineStyle\":1,\"fFrameLineWidth\":1,\"fFrameBorderSize\":1,\"fFrameBorderMode\":0,\"fX1\":0,\"fY1\":0,\"fX2\":1,\"fY2\":1,\"fXtoAbsPixelk\":17.9600495985627,\"fXtoPixelk\":5e-5,\"fXtoPixel\":862.080000802875,\"fYtoAbsPixelk\":566.280050127852,\"fYtoPixelk\":560.560050255704,\"fYtoPixel\":-560.560000255704,\"fUtoAbsPixelk\":17.9600495985627,\"fUtoPixelk\":5e-5,\"fUtoPixel\":862.080000802875,\"fVtoAbsPixelk\":566.280050127852,\"fVtoPixelk\":560.560000255704,\"fVtoPixel\":-560.560000255704,\"fAbsPixeltoXk\":-0.0208333328482695,\"fPixeltoXk\":0,\"fPixeltoX\":0.00115998515110973,\"fAbsPixeltoYk\":1.01020408139992,\"fPixeltoYk\":0,\"fPixeltoY\":-0.00178393035454517,\"fXlowNDC\":0.00999999977648258,\"fYlowNDC\":0.00999999977648258,\"fXUpNDC\":0,\"fYUpNDC\":0,\"fWNDC\":0.480000000447035,\"fHNDC\":0.980000000447035,\"fAbsXlowNDC\":0.00999999977648258,\"fAbsYlowNDC\":0.00999999977648258,\"fAbsWNDC\":0.480000000447035,\"fAbsHNDC\":0.980000000447035,\"fUxmin\":0,\"fUymin\":0,\"fUxmax\":1,\"fUymax\":1,\"fTheta\":30,\"fPhi\":30,\"fAspectRatio\":0,\"fNumber\":1,\"fTickx\":0,\"fTicky\":0,\"fLogx\":0,\"fLogy\":0,\"fLogz\":0,\"fPadPaint\":0,\"fCrosshair\":0,\"fCrosshairPos\":0,\"fBorderSize\":2,\"fBorderMode\":0,\"fModified\":false,\"fGridx\":false,\"fGridy\":false,\"fAbsCoord\":false,\"fEditable\":true,\"fFixedAspectRatio\":false,\"fPrimitives\":{\"_typename\":\"TList\",\"name\":\"TList\",\"arr\":[{\"_typename\":\"TPad\",\"fUniqueID\":0,\"fBits\":50331657,\"fLineColor\":1,\"fLineStyle\":1,\"fLineWidth\":1,\"fFillColor\":0,\"fFillStyle\":1001,\"fLeftMargin\":0.1,\"fRightMargin\":0.1,\"fBottomMargin\":0.1,\"fTopMargin\":0.1,\"fXfile\":2,\"fYfile\":2,\"fAfile\":1,\"fXstat\":0.99,\"fYstat\":0.99,\"fAstat\":2,\"fFrameFillColor\":0,\"fFrameLineColor\":1,\"fFrameFillStyle\":1001,\"fFrameLineStyle\":1,\"fFrameLineWidth\":1,\"fFrameBorderSize\":1,\"fFrameBorderMode\":0,\"fX1\":0.888462488167671,\"fY1\":-1.08737133155748,\"fX2\":3.76475002560767,\"fY2\":9.7863413358935,\"fXtoAbsPixelk\":-248.329649377295,\"fXtoPixelk\":-266.289648975858,\"fXtoPixel\":299.719687124937,\"fYtoAbsPixelk\":510.224046761083,\"fYtoPixelk\":504.504046888935,\"fYtoPixel\":-51.5518496211203,\"fUtoAbsPixelk\":17.9600495985627,\"fUtoPixelk\":5e-5,\"fUtoPixel\":862.080000802875,\"fVtoAbsPixelk\":566.280050127852,\"fVtoPixelk\":560.560000255704,\"fVtoPixel\":-560.560000255704,\"fAbsPixeltoXk\":0.828539832532854,\"fPixeltoXk\":0.888462488167671,\"fPixeltoX\":0.00333645083375238,\"fAbsPixeltoYk\":9.8972975850715,\"fPixeltoYk\":-1.08737133155748,\"fPixeltoY\":-0.0193979460940682,\"fXlowNDC\":0,\"fYlowNDC\":0,\"fXUpNDC\":0,\"fYUpNDC\":0,\"fWNDC\":1,\"fHNDC\":1,\"fAbsXlowNDC\":0.00999999977648258,\"fAbsYlowNDC\":0.00999999977648258,\"fAbsWNDC\":0.480000000447035,\"fAbsHNDC\":0.980000000447035,\"fUxmin\":1.17609125905568,\"fUymin\":0,\"fUxmax\":3.47712125471966,\"fUymax\":8.69897000433602,\"fTheta\":30,\"fPhi\":30,\"fAspectRatio\":0,\"fNumber\":0,\"fTickx\":0,\"fTicky\":0,\"fLogx\":1,\"fLogy\":1,\"fLogz\":0,\"fPadPaint\":0,\"fCrosshair\":0,\"fCrosshairPos\":0,\"fBorderSize\":2,\"fBorderMode\":0,\"fModified\":false,\"fGridx\":true,\"fGridy\":true,\"fAbsCoord\":false,\"fEditable\":true,\"fFixedAspectRatio\":false,\"fPrimitives\":{\"_typename\":\"TList\",\"name\":\"TList\",\"arr\":[{\"_typename\":\"TFrame\",\"fUniqueID\":0,\"fBits\":50331656,\"fLineColor\":1,\"fLineStyle\":1,\"fLineWidth\":1,\"fFillColor\":0,\"fFillStyle\":1001,\"fX1\":1.17609125905568,\"fY1\":0,\"fX2\":3.47712125471966,\"fY2\":8.69897000433602,\"fBorderSize\":1,\"fBorderMode\":0},{\"_typename\":\"TH1D\",\"fUniqueID\":0,\"fBits\":50332168,\"fName\":\"hMassUnfoldedData\",\"fTitle\":\"hMassUnfoldedData\",\"fLineColor\":1,\"fLineStyle\":1,\"fLineWidth\":1,\"fFillColor\":0,\"fFillStyle\":1001,\"fMarkerColor\":1,\"fMarkerStyle\":20,\"fMarkerSize\":1,\"fNcells\":45,\"fXaxis\":{\"_typename\":\"TAxis\",\"fUniqueID\":0,\"fBits\":50331656,\"fName\":\"xaxis\",\"fTitle\":\"mass\",\"fNdivisions\":520,\"fAxisColor\":1,\"fLabelColor\":1,\"fLabelFont\":42,\"fLabelOffset\":0.005,\"fLabelSize\":0.035,\"fTickLength\":0.03,\"fTitleOffset\":1,\"fTitleSize\":0.035,\"fTitleColor\":1,\"fTitleFont\":42,\"fNbins\":43,\"fXmin\":15,\"fXmax\":3000,\"fXbins\":[15,20,25,30,35,40,45,50,55,60,64,68,72,76,81,86,91,96,101,106,110,115,120,126,133,141,150,160,171,185,200,220,243,273,320,380,440,510,600,700,830,1000,1500,3000],\"fFirst\":0,\"fLast\":0,\"fBits2\":0,\"fTimeDisplay\":false,\"fTimeFormat\":\"\",\"fLabels\":null,\"fModLabs\":null},\"fYaxis\":{\"_typename\":\"TAxis\",\"fUniqueID\":0,\"fBits\":50331656,\"fName\":\"yaxis\",\"fTitle\":\"Events\\/ bin\",\"fNdivisions\":10,\"fAxisColor\":1,\"fLabelColor\":1,\"fLabelFont\":42,\"fLabelOffset\":0.005,\"fLabelSize\":0.035,\"fTickLength\":0.03,\"fTitleOffset\":0,\"fTitleSize\":0.035,\"fTitleColor\":1,\"fTitleFont\":42,\"fNbins\":1,\"fXmin\":0,\"fXmax\":1,\"fXbins\":[],\"fFirst\":0,\"fLast\":0,\"fBits2\":0,\"fTimeDisplay\":false,\"fTimeFormat\":\"\",\"fLabels\":null,\"fModLabs\":null},\"fZaxis\":{\"_typename\":\"TAxis\",\"fUniqueID\":0,\"fBits\":50331648,\"fName\":\"zaxis\",\"fTitle\":\"\",\"fNdivisions\":510,\"fAxisColor\":1,\"fLabelColor\":1,\"fLabelFont\":42,\"fLabelOffset\":0.005,\"fLabelSize\":0.035,\"fTickLength\":0.03,\"fTitleOffset\":1,\"fTitleSize\":0.035,\"fTitleColor\":1,\"fTitleFont\":42,\"fNbins\":1,\"fXmin\":0,\"fXmax\":1,\"fXbins\":[],\"fFirst\":0,\"fLast\":0,\"fBits2\":0,\"fTimeDisplay\":false,\"fTimeFormat\":\"\",\"fLabels\":null,\"fModLabs\":null},\"fBarOffset\":0,\"fBarWidth\":1000,\"fEntries\":88,\"fTsumw\":0,\"fTsumw2\":0,\"fTsumwx\":0,\"fTsumwx2\":0,\"fMaximum\":500000000,\"fMinimum\":1,\"fNormFactor\":0,\"fContour\":[],\"fSumw2\":[0,526731.227965479,486039.179856545,608739.540717806,1194614.92201465,1580818.71581319,1705320.36489519,1541573.08539436,1422701.86431134,1322391.13553945,1188313.09389446,1250213.72666362,1337460.86260417,1579976.35785825,2636046.36895424,5882774.75083648,41609621.1651155,42416187.8696404,3960010.84359711,1335945.09335216,728805.572340774,534442.555224797,372660.830564843,283790.228346875,214530.124401824,165527.641900071,133771.177276564,95743.302780375,90419.3252393122,74962.0410613384,58411.8961398218,39870.4150968551,29512.0949447835,25608.755132823,19195.2837122707,11846.9287717348,6535.76287803046,7662.81584331605,2540.92132217744,1526.52306575464,697.176797448395,489.641475009142,281.080680888027,9.49743115468511,0],\"fOption\":\"\",\"fFunctions\":{\"_typename\":\"TList\",\"name\":\"TList\",\"arr\":[],\"opt\":[]},\"fBufferSize\":0,\"fBuffer\":[],\"fBinStatErrOpt\":0,\"fStatOverflows\":2,\"fArray\":[0,230554.284688804,192618.766017891,210829.624141042,356255.469527419,466776.197133547,493376.403762918,430407.929531925,364295.302456734,332550.42122457,259600.645798565,271393.355567767,308293.482559365,383293.785855801,725556.692477781,1618942.52874485,11725563.994882,13058800.2181011,1167266.97145422,395902.203046808,172646.587941405,133421.943168212,92765.6906710682,76517.1159092983,60182.5657042147,51306.834464593,38860.6129014344,32874.8769844939,24618.7192993601,23119.2667822318,16691.2017626968,15546.5863606575,11490.9312390728,9066.33673888402,8071.19084485427,5065.03224908808,2658.63036550371,1566.98634241841,943.856572367352,542.687766649579,309.645041215585,204.455049962378,141.765437252198,6.9528665822339,0]},{\"_typename\":\"TH1D\",\"fUniqueID\":0,\"fBits\":50331656,\"fName\":\"hMassMCTruth\",\"fTitle\":\"hMassMCTruth\",\"fLineColor\":1,\"fLineStyle\":1,\"fLineWidth\":1,\"fFillColor\":0,\"fFillStyle\":1001,\"fMarkerColor\":1,\"fMarkerStyle\":24,\"fMarkerSize\":1.2,\"fNcells\":45,\"fXaxis\":{\"_typename\":\"TAxis\",\"fUniqueID\":0,\"fBits\":50331648,\"fName\":\"xaxis\",\"fTitle\":\"mass\",\"fNdivisions\":510,\"fAxisColor\":1,\"fLabelColor\":1,\"fLabelFont\":42,\"fLabelOffset\":0.005,\"fLabelSize\":0.035,\"fTickLength\":0.03,\"fTitleOffset\":1,\"fTitleSize\":0.035,\"fTitleColor\":1,\"fTitleFont\":42,\"fNbins\":43,\"fXmin\":15,\"fXmax\":3000,\"fXbins\":[15,20,25,30,35,40,45,50,55,60,64,68,72,76,81,86,91,96,101,106,110,115,120,126,133,141,150,160,171,185,200,220,243,273,320,380,440,510,600,700,830,1000,1500,3000],\"fFirst\":0,\"fLast\":0,\"fBits2\":0,\"fTimeDisplay\":false,\"fTimeFormat\":\"\",\"fLabels\":null,\"fModLabs\":null},\"fYaxis\":{\"_typename\":\"TAxis\",\"fUniqueID\":0,\"fBits\":50331648,\"fName\":\"yaxis\",\"fTitle\":\"\",\"fNdivisions\":510,\"fAxisColor\":1,\"fLabelColor\":1,\"fLabelFont\":42,\"fLabelOffset\":0.005,\"fLabelSize\":0.035,\"fTickLength\":0.03,\"fTitleOffset\":0,\"fTitleSize\":0.035,\"fTitleColor\":1,\"fTitleFont\":42,\"fNbins\":1,\"fXmin\":0,\"fXmax\":1,\"fXbins\":[],\"fFirst\":0,\"fLast\":0,\"fBits2\":0,\"fTimeDisplay\":false,\"fTimeFormat\":\"\",\"fLabels\":null,\"fModLabs\":null},\"fZaxis\":{\"_typename\":\"TAxis\",\"fUniqueID\":0,\"fBits\":50331648,\"fName\":\"zaxis\",\"fTitle\":\"\",\"fNdivisions\":510,\"fAxisColor\":1,\"fLabelColor\":1,\"fLabelFont\":42,\"fLabelOffset\":0.005,\"fLabelSize\":0.035,\"fTickLength\":0.03,\"fTitleOffset\":1,\"fTitleSize\":0.035,\"fTitleColor\":1,\"fTitleFont\":42,\"fNbins\":1,\"fXmin\":0,\"fXmax\":1,\"fXbins\":[],\"fFirst\":0,\"fLast\":0,\"fBits2\":0,\"fTimeDisplay\":false,\"fTimeFormat\":\"\",\"fLabels\":null,\"fModLabs\":null},\"fBarOffset\":0,\"fBarWidth\":1000,\"fEntries\":88,\"fTsumw\":0,\"fTsumw2\":0,\"fTsumwx\":0,\"fTsumwx2\":0,\"fMaximum\":-1111,\"fMinimum\":-1111,\"fNormFactor\":0,\"fContour\":[],\"fSumw2\":[0,0,0,0,0,0,0,0,0,0,0,0,0,0,0,0,0,0,0,0,0,0,0,0,0,0,0,0,0,0,0,0,0,0,0,0,0,0,0,0,0,0,0,0,0],\"fOption\":\"\",\"fFunctions\":{\"_typename\":\"TList\",\"name\":\"TList\",\"arr\":[],\"opt\":[]},\"fBufferSize\":0,\"fBuffer\":[],\"fBinStatErrOpt\":0,\"fStatOverflows\":2,\"fArray\":[0,237317.853636777,192930.959091461,210327.946461943,336240.64869545,443191.335464164,473216.622922822,409955.518700818,372910.711621901,337547.228398249,265433.885908786,280647.799587596,317107.587272283,398007.144970826,752621.754450917,1672220.77072721,12285293.3218269,13702091.1055301,1177536.4714167,401944.636251666,172014.487513061,136104.567031803,91081.7719932057,76243.6469559362,62994.3341898828,49443.8378802422,39347.2812906365,31732.0349959037,24398.6301823258,21754.2939326672,16603.7790221513,15164.1769468408,11229.4488177771,9668.26806432142,8176.16610526639,5009.59416993848,2696.83613340317,1561.18075345573,967.103121609745,549.86720342954,353.683427331564,212.762686754144,107.762919265086,22.1052142082227,0]},{\"_typename\":\"TH1D\",\"fUniqueID\":0,\"fBits\":50331656,\"fName\":\"hMassFSRUnfoldedData\",\"fTitle\":\"hMassFSRUnfoldedData\",\"fLineColor\":602,\"fLineStyle\":1,\"fLineWidth\":1,\"fFillColor\":0,\"fFillStyle\":1001,\"fMarkerColor\":632,\"fMarkerStyle\":20,\"fMarkerSize\":1,\"fNcells\":45,\"fXaxis\":{\"_typename\":\"TAxis\",\"fUniqueID\":0,\"fBits\":50331648,\"fName\":\"xaxis\",\"fTitle\":\"mass\",\"fNdivisions\":510,\"fAxisColor\":1,\"fLabelColor\":1,\"fLabelFont\":42,\"fLabelOffset\":0.005,\"fLabelSize\":0.035,\"fTickLength\":0.03,\"fTitleOffset\":1,\"fTitleSize\":0.035,\"fTitleColor\":1,\"fTitleFont\":42,\"fNbins\":43,\"fXmin\":15,\"fXmax\":3000,\"fXbins\":[15,20,25,30,35,40,45,50,55,60,64,68,72,76,81,86,91,96,101,106,110,115,120,126,133,141,150,160,171,185,200,220,243,273,320,380,440,510,600,700,830,1000,1500,3000],\"fFirst\":0,\"fLast\":0,\"fBits2\":0,\"fTimeDisplay\":false,\"fTimeFormat\":\"\",\"fLabels\":null,\"fModLabs\":null},\"fYaxis\":{\"_typename\":\"TAxis\",\"fUniqueID\":0,\"fBits\":50331648,\"fName\":\"yaxis\",\"fTitle\":\"\",\"fNdivisions\":510,\"fAxisColor\":1,\"fLabelColor\":1,\"fLabelFont\":42,\"fLabelOffset\":0.005,\"fLabelSize\":0.035,\"fTickLength\":0.03,\"fTitleOffset\":0,\"fTitleSize\":0.035,\"fTitleColor\":1,\"fTitleFont\":42,\"fNbins\":1,\"fXmin\":0,\"fXmax\":1,\"fXbins\":[],\"fFirst\":0,\"fLast\":0,\"fBits2\":0,\"fTimeDisplay\":false,\"fTimeFormat\":\"\",\"fLabels\":null,\"fModLabs\":null},\"fZaxis\":{\"_typename\":\"TAxis\",\"fUniqueID\":0,\"fBits\":50331648,\"fName\":\"zaxis\",\"fTitle\":\"\",\"fNdivisions\":510,\"fAxisColor\":1,\"fLabelColor\":1,\"fLabelFont\":42,\"fLabelOffset\":0.005,\"fLabelSize\":0.035,\"fTickLength\":0.03,\"fTitleOffset\":1,\"fTitleSize\":0.035,\"fTitleColor\":1,\"fTitleFont\":42,\"fNbins\":1,\"fXmin\":0,\"fXmax\":1,\"fXbins\":[],\"fFirst\":0,\"fLast\":0,\"fBits2\":0,\"fTimeDisplay\":false,\"fTimeFormat\":\"\",\"fLabels\":null,\"fModLabs\":null},\"fBarOffset\":0,\"fBarWidth\":1000,\"fEntries\":88,\"fTsumw\":0,\"fTsumw2\":0,\"fTsumwx\":0,\"fTsumwx2\":0,\"fMaximum\":-1111,\"fMinimum\":-1111,\"fNormFactor\":0,\"fContour\":[],\"fSumw2\":[0,19023438962.31,4679946616.91621,1233716275.06928,294183186.678574,83572288.5448666,33762781.2852544,20898801.0544894,15325551.8356095,12327448.2672481,10092358.683775,9686933.81804995,9715406.08926136,10693232.80023,16524657.6947427,34466721.1857011,229376436.306666,248009797.8012,22050682.3411704,7269412.24876647,3950133.95055636,2838309.01136614,1950113.26500291,1454479.39525152,1054023.52260994,810127.680734999,636486.36145162,440122.173426376,402190.578566848,335022.745518805,241717.697337511,156130.885096299,115477.557080997,85811.8958487532,62030.35817051,32998.7906443275,16489.7842372533,19739.1261065441,5635.39677937831,3160.83564982289,1267.96153227352,806.876526107314,310.648668358168,17.9560807768265,0],\"fOption\":\"\",\"fFunctions\":{\"_typename\":\"TList\",\"name\":\"TList\",\"arr\":[],\"opt\":[]},\"fBufferSize\":0,\"fBuffer\":[],\"fBinStatErrOpt\":0,\"fStatOverflows\":2,\"fArray\":[0,42763906.9635615,18303195.8895322,9065266.63581203,5310898.46615995,3188942.11226539,2021927.06314012,1400369.90337744,991017.950566594,780717.266070973,532102.683439491,494190.007612932,516258.670888957,596503.651055697,1116243.33316574,2721918.2055568,25677187.9991988,31421211.5866897,2701203.41401943,895438.39096463,385684.483656361,294285.132486332,201924.683336911,165550.989139876,126931.19802766,108663.745435136,81131.0607068031,67649.5964601188,49617.2451268241,47091.3256235335,32665.7256156602,29679.2290494609,22117.3364896241,16145.9603121049,14081.1375786289,8272.05741168218,4127.69171015103,2458.31833894379,1368.15173142381,770.414407840289,409.006609493074,267.075370545254,149.035459675438,9.56019155057158,0]},{\"_typename\":\"TH1D\",\"fUniqueID\":0,\"fBits\":50331656,\"fName\":\"hMassUnfoldedData_\",\"fTitle\":\"hMassUnfoldedData_\",\"fLineColor\":616,\"fLineStyle\":1,\"fLineWidth\":1,\"fFillColor\":0,\"fFillStyle\":1001,\"fMarkerColor\":616,\"fMarkerStyle\":22,\"fMarkerSize\":0.8,\"fNcells\":45,\"fXaxis\":{\"_typename\":\"TAxis\",\"fUniqueID\":0,\"fBits\":50331648,\"fName\":\"xaxis\",\"fTitle\":\"mass\",\"fNdivisions\":510,\"fAxisColor\":1,\"fLabelColor\":1,\"fLabelFont\":42,\"fLabelOffset\":0.005,\"fLabelSize\":0.035,\"fTickLength\":0.03,\"fTitleOffset\":1,\"fTitleSize\":0.035,\"fTitleColor\":1,\"fTitleFont\":42,\"fNbins\":43,\"fXmin\":15,\"fXmax\":3000,\"fXbins\":[15,20,25,30,35,40,45,50,55,60,64,68,72,76,81,86,91,96,101,106,110,115,120,126,133,141,150,160,171,185,200,220,243,273,320,380,440,510,600,700,830,1000,1500,3000],\"fFirst\":0,\"fLast\":0,\"fBits2\":0,\"fTimeDisplay\":false,\"fTimeFormat\":\"\",\"fLabels\":null,\"fModLabs\":null},\"fYaxis\":{\"_typename\":\"TAxis\",\"fUniqueID\":0,\"fBits\":50331648,\"fName\":\"yaxis\",\"fTitle\":\"\",\"fNdivisions\":510,\"fAxisColor\":1,\"fLabelColor\":1,\"fLabelFont\":42,\"fLabelOffset\":0.005,\"fLabelSize\":0.035,\"fTickLength\":0.03,\"fTitleOffset\":0,\"fTitleSize\":0.035,\"fTitleColor\":1,\"fTitleFont\":42,\"fNbins\":1,\"fXmin\":0,\"fXmax\":1,\"fXbins\":[],\"fFirst\":0,\"fLast\":0,\"fBits2\":0,\"fTimeDisplay\":false,\"fTimeFormat\":\"\",\"fLabels\":null,\"fModLabs\":null},\"fZaxis\":{\"_typename\":\"TAxis\",\"fUniqueID\":0,\"fBits\":50331648,\"fName\":\"zaxis\",\"fTitle\":\"\",\"fNdivisions\":510,\"fAxisColor\":1,\"fLabelColor\":1,\"fLabelFont\":42,\"fLabelOffset\":0.005,\"fLabelSize\":0.035,\"fTickLength\":0.03,\"fTitleOffset\":1,\"fTitleSize\":0.035,\"fTitleColor\":1,\"fTitleFont\":42,\"fNbins\":1,\"fXmin\":0,\"fXmax\":1,\"fXbins\":[],\"fFirst\":0,\"fLast\":0,\"fBits2\":0,\"fTimeDisplay\":false,\"fTimeFormat\":\"\",\"fLabels\":null,\"fModLabs\":null},\"fBarOffset\":0,\"fBarWidth\":1000,\"fEntries\":88,\"fTsumw\":0,\"fTsumw2\":0,\"fTsumwx\":0,\"fTsumwx2\":0,\"fMaximum\":-1111,\"fMinimum\":-1111,\"fNormFactor\":0,\"fContour\":[],\"fSumw2\":[0,18001892767.7122,4435043104.56789,1134327935.59629,268904406.965391,76269825.2948343,31582345.1971396,19127519.6826378,13578180.0329547,10394889.7859494,8118205.27667898,7523616.23934278,7333706.10214884,8017714.96810756,12964980.5258078,31090136.8971532,240854731.330642,248660228.631748,21730216.7170349,7206954.24294515,3911144.79065878,2830764.69582206,1933098.91864277,1439292.53513033,1049825.82635875,809733.869648348,631976.787965771,435777.282399891,398062.89155173,333815.88971608,237032.90640072,154436.236900072,113455.187228661,84803.4717799844,61498.8261227873,32691.8147016478,15893.5214113386,19444.6105116785,5816.84049606095,3094.22633016371,1229.58101605544,784.850335577645,309.531007480071,17.9560807747052,0],\"fOption\":\"\",\"fFunctions\":{\"_typename\":\"TList\",\"name\":\"TList\",\"arr\":[],\"opt\":[]},\"fBufferSize\":0,\"fBuffer\":[],\"fBinStatErrOpt\":0,\"fStatOverflows\":2,\"fArray\":[0,41950268.2396386,17885698.0218882,8767014.27502877,5113162.75558112,3069187.80932284,1990419.87250771,1384798.7057368,983211.386614073,774764.404417072,527774.544871001,490557.26330238,512191.494613726,592506.059628439,1109465.79019732,2711223.22473398,25673904.4594701,31381048.9617315,2695669.43379192,894698.084019321,385242.935125582,294356.626006038,201566.343414717,165574.026259904,126901.891970269,108582.253611111,81184.1520118063,67595.0059638469,49629.0838429855,46980.9673019964,32609.3575962363,29687.1102513218,22061.0712760294,16144.0430824447,14077.5467640459,8275.0738218311,4108.53401705359,2457.61699989231,1378.80895321031,757.925921015434,410.735303427496,269.027106463517,150.152923493873,9.65719599681244,0]},{\"_typename\":\"TH1D\",\"fUniqueID\":0,\"fBits\":50331656,\"fName\":\"hMassData\",\"fTitle\":\"hMassData\",\"fLineColor\":602,\"fLineStyle\":1,\"fLineWidth\":1,\"fFillColor\":0,\"fFillStyle\":1001,\"fMarkerColor\":1,\"fMarkerStyle\":1,\"fMarkerSize\":1,\"fNcells\":45,\"fXaxis\":{\"_typename\":\"TAxis\",\"fUniqueID\":0,\"fBits\":50331648,\"fName\":\"xaxis\",\"fTitle\":\"mass\",\"fNdivisions\":510,\"fAxisColor\":1,\"fLabelColor\":1,\"fLabelFont\":42,\"fLabelOffset\":0.005,\"fLabelSize\":0.035,\"fTickLength\":0.03,\"fTitleOffset\":1,\"fTitleSize\":0.035,\"fTitleColor\":1,\"fTitleFont\":42,\"fNbins\":43,\"fXmin\":15,\"fXmax\":3000,\"fXbins\":[15,20,25,30,35,40,45,50,55,60,64,68,72,76,81,86,91,96,101,106,110,115,120,126,133,141,150,160,171,185,200,220,243,273,320,380,440,510,600,700,830,1000,1500,3000],\"fFirst\":0,\"fLast\":0,\"fBits2\":0,\"fTimeDisplay\":false,\"fTimeFormat\":\"\",\"fLabels\":null,\"fModLabs\":null},\"fYaxis\":{\"_typename\":\"TAxis\",\"fUniqueID\":0,\"fBits\":50331648,\"fName\":\"yaxis\",\"fTitle\":\"\",\"fNdivisions\":510,\"fAxisColor\":1,\"fLabelColor\":1,\"fLabelFont\":42,\"fLabelOffset\":0.005,\"fLabelSize\":0.035,\"fTickLength\":0.03,\"fTitleOffset\":0,\"fTitleSize\":0.035,\"fTitleColor\":1,\"fTitleFont\":42,\"fNbins\":1,\"fXmin\":0,\"fXmax\":1,\"fXbins\":[],\"fFirst\":0,\"fLast\":0,\"fBits2\":0,\"fTimeDisplay\":false,\"fTimeFormat\":\"\",\"fLabels\":null,\"fModLabs\":null},\"fZaxis\":{\"_typename\":\"TAxis\",\"fUniqueID\":0,\"fBits\":50331648,\"fName\":\"zaxis\",\"fTitle\":\"\",\"fNdivisions\":510,\"fAxisColor\":1,\"fLabelColor\":1,\"fLabelFont\":42,\"fLabelOffset\":0.005,\"fLabelSize\":0.035,\"fTickLength\":0.03,\"fTitleOffset\":1,\"fTitleSize\":0.035,\"fTitleColor\":1,\"fTitleFont\":42,\"fNbins\":1,\"fXmin\":0,\"fXmax\":1,\"fXbins\":[],\"fFirst\":0,\"fLast\":0,\"fBits2\":0,\"fTimeDisplay\":false,\"fTimeFormat\":\"\",\"fLabels\":null,\"fModLabs\":null},\"fBarOffset\":0,\"fBarWidth\":1000,\"fEntries\":88,\"fTsumw\":0,\"fTsumw2\":0,\"fTsumwx\":0,\"fTsumwx2\":0,\"fMaximum\":-1111,\"fMinimum\":-1111,\"fNormFactor\":0,\"fContour\":[],\"fSumw2\":[0,148954.707175561,138462.227025179,161066.181563966,277214.552255591,394266.2343496,467192.766357179,424173.980451839,386379.951618903,337211.070598553,261334.833147886,258119.801316888,265700.91683467,312524.157989988,598383.343232717,1493480.31383185,8669750.27146648,8565661.88867616,1005858.53135887,315427.379934683,137242.235954814,111852.915820988,74707.053560238,66387.7616513975,55914.2629707202,44434.3696627252,39439.7538847251,26628.2486188786,27548.9533232659,24210.6327018236,19554.4478789182,13764.3584839143,10693.763974989,9609.51138921373,7410.9558481145,4600.15849302944,2308.64611160733,2905.50963067595,885.081273943733,462.759390378545,242.700732489857,142.022292994266,94.670713662153,8.68757168201433,0],\"fOption\":\"\",\"fFunctions\":{\"_typename\":\"TList\",\"name\":\"TList\",\"arr\":[],\"opt\":[]},\"fBufferSize\":0,\"fBuffer\":[],\"fBinStatErrOpt\":0,\"fStatOverflows\":2,\"fArray\":[0,125835.246348075,108450.431030976,117675.633812925,186133.970066315,258355.873882411,290813.78283723,259682.935307521,226297.196012278,207299.984635591,165688.436960582,178779.106329448,212780.81871404,279377.747182044,573096.845943976,1470032.34656706,8626846.72861603,8534051.76224497,995092.332922947,304910.197298791,127899.350006682,100470.981324456,67731.5487520021,56326.8993367805,46046.5183372813,37368.6984444044,30003.7722851224,24006.8996426837,18986.3229286018,17251.774978762,12894.0112265609,11603.4490114538,8689.69425216714,6995.21224283717,6006.74696559251,3769.88396954269,1908.68680481245,1152.24414817612,725.273315583766,395.78111684235,219.351540772245,124.131568825462,88.4890683119479,6.71837145221871,0]},{\"_typename\":\"TPaveText\",\"fUniqueID\":0,\"fBits\":50331657,\"fLineColor\":1,\"fLineStyle\":1,\"fLineWidth\":1,\"fFillColor\":0,\"fFillStyle\":0,\"fX1\":1.83240849020481,\"fY1\":9.13391861878464,\"fX2\":2.82080402357053,\"fY2\":9.73197282440615,\"fX1NDC\":0.328182071420192,\"fY1NDC\":0.940000003948808,\"fX2NDC\":0.671817928579808,\"fY2NDC\":0.995000004768372,\"fBorderSize\":0,\"fInit\":1,\"fShadowColor\":1,\"fCornerRadius\":0,\"fOption\":\"blNDC\",\"fName\":\"title\",\"fTextAngle\":0,\"fTextSize\":0,\"fTextAlign\":22,\"fTextColor\":1,\"fTextFont\":42,\"fLabel\":\"\",\"fLongest\":17,\"fMargin\":0.05,\"fLines\":{\"_typename\":\"TList\",\"name\":\"TList\",\"arr\":[{\"_typename\":\"TLatex\",\"fUniqueID\":0,\"fBits\":50331648,\"fName\":\"\",\"fTitle\":\"hMassUnfoldedData\",\"fTextAngle\":0,\"fTextSize\":0,\"fTextAlign\":0,\"fTextColor\":0,\"fTextFont\":0,\"fX\":0,\"fY\":0,\"fLineColor\":1,\"fLineStyle\":1,\"fLineWidth\":2,\"fLimitFactorSize\":3,\"fOriginSize\":0.0467500016093254}],\"opt\":[\"\"]}}],\"opt\":[\"\",\"hist pe\",\"pe same\",\"pe same\",\"pe same\",\"hist same\",\"blNDC\"]},\"fExecs\":{\"_typename\":\"TList\",\"name\":\"TList\",\"arr\":[],\"opt\":[]},\"fName\":\"pad_mass\",\"fTitle\":\"pad_mass\",\"fNumPaletteColor\":0,\"fNextPaletteColor\":0}],\"opt\":[\"\"]},\"fExecs\":{\"_typename\":\"TList\",\"name\":\"TList\",\"arr\":[],\"opt\":[]},\"fName\":\"c_1\",\"fTitle\":\"c_1\",\"fNumPaletteColor\":0,\"fNextPaletteColor\":0},{\"_typename\":\"TPad\",\"fUniqueID\":0,\"fBits\":50331657,\"fLineColor\":1,\"fLineStyle\":1,\"fLineWidth\":1,\"fFillColor\":0,\"fFillStyle\":1001,\"fLeftMargin\":0.1,\"fRightMargin\":0.1,\"fBottomMargin\":0.1,\"fTopMargin\":0.1,\"fXfile\":2,\"fYfile\":2,\"fAfile\":1,\"fXstat\":0.99,\"fYstat\":0.99,\"fAstat\":2,\"fFrameFillColor\":0,\"fFrameLineColor\":1,\"fFrameFillStyle\":1001,\"fFrameLineStyle\":1,\"fFrameLineWidth\":1,\"fFrameBorderSize\":1,\"fFrameBorderMode\":0,\"fX1\":0,\"fY1\":0,\"fX2\":1,\"fY2\":1,\"fXtoAbsPixelk\":915.960049598563,\"fXtoPixelk\":5e-5,\"fXtoPixel\":862.080000802875,\"fYtoAbsPixelk\":566.280050127852,\"fYtoPixelk\":560.560050255704,\"fYtoPixel\":-560.560000255704,\"fUtoAbsPixelk\":915.960049598563,\"fUtoPixelk\":5e-5,\"fUtoPixel\":862.080000802875,\"fVtoAbsPixelk\":566.280050127852,\"fVtoPixelk\":560.560000255704,\"fVtoPixel\":-560.560000255704,\"fAbsPixeltoXk\":-1.06249999854481,\"fPixeltoXk\":0,\"fPixeltoX\":0.00115998515110973,\"fAbsPixeltoYk\":1.01020408139992,\"fPixeltoYk\":0,\"fPixeltoY\":-0.00178393035454517,\"fXlowNDC\":0.509999999776483,\"fYlowNDC\":0.00999999977648258,\"fXUpNDC\":0,\"fYUpNDC\":0,\"fWNDC\":0.480000000447035,\"fHNDC\":0.980000000447035,\"fAbsXlowNDC\":0.509999999776483,\"fAbsYlowNDC\":0.00999999977648258,\"fAbsWNDC\":0.480000000447035,\"fAbsHNDC\":0.980000000447035,\"fUxmin\":0,\"fUymin\":0,\"fUxmax\":1,\"fUymax\":1,\"fTheta\":30,\"fPhi\":30,\"fAspectRatio\":0,\"fNumber\":2,\"fTickx\":0,\"fTicky\":0,\"fLogx\":0,\"fLogy\":0,\"fLogz\":0,\"fPadPaint\":0,\"fCrosshair\":0,\"fCrosshairPos\":0,\"fBorderSize\":2,\"fBorderMode\":0,\"fModified\":false,\"fGridx\":false,\"fGridy\":false,\"fAbsCoord\":false,\"fEditable\":true,\"fFixedAspectRatio\":false,\"fPrimitives\":{\"_typename\":\"TList\",\"name\":\"TList\",\"arr\":[{\"_typename\":\"TPad\",\"fUniqueID\":0,\"fBits\":50331657,\"fLineColor\":1,\"fLineStyle\":1,\"fLineWidth\":1,\"fFillColor\":0,\"fFillStyle\":1001,\"fLeftMargin\":0.1,\"fRightMargin\":0.1,\"fBottomMargin\":0.1,\"fTopMargin\":0.1,\"fXfile\":2,\"fYfile\":2,\"fAfile\":1,\"fXstat\":0.99,\"fYstat\":0.99,\"fAstat\":2,\"fFrameFillColor\":0,\"fFrameLineColor\":1,\"fFrameFillStyle\":1001,\"fFrameLineStyle\":1,\"fFrameLineWidth\":1,\"fFrameBorderSize\":1,\"fFrameBorderMode\":0,\"fX1\":-7.37500058673326,\"fY1\":-0.987886321977258,\"fX2\":71.3750005867333,\"fY2\":8.8909763089692,\"fXtoAbsPixelk\":996.694531084188,\"fXtoPixelk\":80.7345314856254,\"fXtoPixel\":10.9470474661191,\"fYtoAbsPixelk\":510.224046761083,\"fYtoPixelk\":504.504046888935,\"fYtoPixel\":-56.7433743333668,\"fUtoAbsPixelk\":915.960049598563,\"fUtoPixelk\":5e-5,\"fUtoPixel\":862.080000802875,\"fVtoAbsPixelk\":566.280050127852,\"fVtoPixelk\":560.560000255704,\"fVtoPixel\":-560.560000255704,\"fAbsPixeltoXk\":-91.0468767189451,\"fPixeltoXk\":-7.37500058673326,\"fPixeltoX\":0.0913488320110951,\"fAbsPixeltoYk\":8.991781027394,\"fPixeltoYk\":-0.987886321977258,\"fPixeltoY\":-0.0176232029157274,\"fXlowNDC\":0,\"fYlowNDC\":0,\"fXUpNDC\":0,\"fYUpNDC\":0,\"fWNDC\":1,\"fHNDC\":1,\"fAbsXlowNDC\":0.509999999776483,\"fAbsYlowNDC\":0.00999999977648258,\"fAbsWNDC\":0.480000000447035,\"fAbsHNDC\":0.980000000447035,\"fUxmin\":0.5,\"fUymin\":0,\"fUxmax\":63.5,\"fUymax\":7.90308998699194,\"fTheta\":30,\"fPhi\":30,\"fAspectRatio\":0,\"fNumber\":0,\"fTickx\":0,\"fTicky\":0,\"fLogx\":0,\"fLogy\":1,\"fLogz\":0,\"fPadPaint\":0,\"fCrosshair\":0,\"fCrosshairPos\":0,\"fBorderSize\":2,\"fBorderMode\":0,\"fModified\":false,\"fGridx\":true,\"fGridy\":true,\"fAbsCoord\":false,\"fEditable\":true,\"fFixedAspectRatio\":false,\"fPrimitives\":{\"_typename\":\"TList\",\"name\":\"TList\",\"arr\":[{\"_typename\":\"TFrame\",\"fUniqueID\":0,\"fBits\":50331656,\"fLineColor\":1,\"fLineStyle\":1,\"fLineWidth\":1,\"fFillColor\":0,\"fFillStyle\":1001,\"fX1\":0.5,\"fY1\":0,\"fX2\":63.5,\"fY2\":7.90308998699194,\"fBorderSize\":1,\"fBorderMode\":0},{\"_typename\":\"TH1D\",\"fUniqueID\":0,\"fBits\":50332168,\"fName\":\"hPtUnfoldedData\",\"fTitle\":\"hPtUnfoldedData\",\"fLineColor\":1,\"fLineStyle\":1,\"fLineWidth\":1,\"fFillColor\":0,\"fFillStyle\":1001,\"fMarkerColor\":1,\"fMarkerStyle\":20,\"fMarkerSize\":1,\"fNcells\":65,\"fXaxis\":{\"_typename\":\"TAxis\",\"fUniqueID\":0,\"fBits\":50331656,\"fName\":\"xaxis\",\"fTitle\":\"Gen_Pt\",\"fNdivisions\":520,\"fAxisColor\":1,\"fLabelColor\":1,\"fLabelFont\":42,\"fLabelOffset\":0.005,\"fLabelSize\":0.035,\"fTickLength\":0.03,\"fTitleOffset\":1,\"fTitleSize\":0.035,\"fTitleColor\":1,\"fTitleFont\":42,\"fNbins\":63,\"fXmin\":0.5,\"fXmax\":63.5,\"fXbins\":[],\"fFirst\":0,\"fLast\":0,\"fBits2\":0,\"fTimeDisplay\":false,\"fTimeFormat\":\"\",\"fLabels\":null,\"fModLabs\":null},\"fYaxis\":{\"_typename\":\"TAxis\",\"fUniqueID\":0,\"fBits\":50331656,\"fName\":\"yaxis\",\"fTitle\":\"Events\\/ bin\",\"fNdivisions\":10,\"fAxisColor\":1,\"fLabelColor\":1,\"fLabelFont\":42,\"fLabelOffset\":0.005,\"fLabelSize\":0.035,\"fTickLength\":0.03,\"fTitleOffset\":0,\"fTitleSize\":0.035,\"fTitleColor\":1,\"fTitleFont\":42,\"fNbins\":1,\"fXmin\":0,\"fXmax\":1,\"fXbins\":[],\"fFirst\":0,\"fLast\":0,\"fBits2\":0,\"fTimeDisplay\":false,\"fTimeFormat\":\"\",\"fLabels\":null,\"fModLabs\":null},\"fZaxis\":{\"_typename\":\"TAxis\",\"fUniqueID\":0,\"fBits\":50331648,\"fName\":\"zaxis\",\"fTitle\":\"\",\"fNdivisions\":510,\"fAxisColor\":1,\"fLabelColor\":1,\"fLabelFont\":42,\"fLabelOffset\":0.005,\"fLabelSize\":0.035,\"fTickLength\":0.03,\"fTitleOffset\":1,\"fTitleSize\":0.035,\"fTitleColor\":1,\"fTitleFont\":42,\"fNbins\":1,\"fXmin\":0,\"fXmax\":1,\"fXbins\":[],\"fFirst\":0,\"fLast\":0,\"fBits2\":0,\"fTimeDisplay\":false,\"fTimeFormat\":\"\",\"fLabels\":null,\"fModLabs\":null},\"fBarOffset\":0,\"fBarWidth\":1000,\"fEntries\":128,\"fTsumw\":0,\"fTsumw2\":0,\"fTsumwx\":0,\"fTsumwx2\":0,\"fMaximum\":80000000,\"fMinimum\":1,\"fNormFactor\":0,\"fContour\":[],\"fSumw2\":[0,87587.4202760327,305209.29069199,605900.515882702,745556.589170231,848453.573758852,1197874.23342135,801813.377723003,242691.767042437,108734.899932999,507030.215367239,836232.650019263,805019.616277101,946940.609414452,1071721.93591188,962658.622708135,440213.530236535,153964.61598635,76574.1625281735,492406.89233067,885373.423603763,933582.970327742,1133970.13398802,1124812.7895784,958969.527799235,650621.168506298,281398.03674712,134012.488156874,6461786.48400932,10196638.435696,8005810.59845674,7507057.06763177,7016386.57048275,5731467.94635688,4371827.28188051,2284927.67128713,1349557.15428935,300296.999354692,493901.578675081,410088.370766712,391171.507139606,374691.089452784,369314.282879949,301479.015760147,185799.652534471,104208.989039978,20099.7227938739,43192.6744603414,34978.2822863009,27846.2080500671,23836.7483896226,20702.1663726901,18698.8874455956,13729.1250689467,10422.7131266551,15770.8977787567,43957.1258599099,67803.4827256719,24015.7922801545,20199.6463104553,16001.6166697794,19183.5859866944,6097.2228610434,3972.69281881961,0],\"fOption\":\"\",\"fFunctions\":{\"_typename\":\"TList\",\"name\":\"TList\",\"arr\":[],\"opt\":[]},\"fBufferSize\":0,\"fBuffer\":[],\"fBinStatErrOpt\":0,\"fStatOverflows\":2,\"fArray\":[0,20960.348253299,93346.0230948624,173055.145750186,213214.5462395,255622.156248691,325847.085724792,197320.169314915,103050.073636646,44121.938224772,231412.783314781,314142.560427129,250092.924724046,255745.612300069,260822.789216011,162212.59621044,79763.6934455722,39542.05693177,18932.8643262836,220608.860176344,321196.585095746,291212.963914702,341523.165274409,338430.019891353,195281.015757401,119733.876661134,71674.7279369928,37268.6204485983,3668364.62374683,5136677.24834913,3979044.07966042,4125441.8804558,4097929.25632617,2688428.31086752,1858146.55947893,1232723.93111132,709208.150826609,137955.187525309,192849.307279845,153867.558519586,166696.283787709,170882.964768645,119072.1726725,82143.4755192517,59543.0631176562,37657.6324721645,4417.3001252022,5839.16905847086,5306.27251693713,6080.65068199701,7203.23509487346,5504.37687974157,4248.13478501656,2876.00719699206,2418.89691212211,1394.39937501272,437.082303417085,1714.15819805179,1646.58707016176,1696.52327114509,1729.03067331804,1060.00268107779,822.729559135497,799.212554694482,0]},{\"_typename\":\"TH1D\",\"fUniqueID\":0,\"fBits\":50331656,\"fName\":\"hPtMCTruth\",\"fTitle\":\"hPtMCTruth\",\"fLineColor\":1,\"fLineStyle\":1,\"fLineWidth\":1,\"fFillColor\":0,\"fFillStyle\":1001,\"fMarkerColor\":1,\"fMarkerStyle\":24,\"fMarkerSize\":1.2,\"fNcells\":65,\"fXaxis\":{\"_typename\":\"TAxis\",\"fUniqueID\":0,\"fBits\":50331648,\"fName\":\"xaxis\",\"fTitle\":\"Gen_Pt\",\"fNdivisions\":510,\"fAxisColor\":1,\"fLabelColor\":1,\"fLabelFont\":42,\"fLabelOffset\":0.005,\"fLabelSize\":0.035,\"fTickLength\":0.03,\"fTitleOffset\":1,\"fTitleSize\":0.035,\"fTitleColor\":1,\"fTitleFont\":42,\"fNbins\":63,\"fXmin\":0.5,\"fXmax\":63.5,\"fXbins\":[],\"fFirst\":0,\"fLast\":0,\"fBits2\":0,\"fTimeDisplay\":false,\"fTimeFormat\":\"\",\"fLabels\":null,\"fModLabs\":null},\"fYaxis\":{\"_typename\":\"TAxis\",\"fUniqueID\":0,\"fBits\":50331648,\"fName\":\"yaxis\",\"fTitle\":\"\",\"fNdivisions\":510,\"fAxisColor\":1,\"fLabelColor\":1,\"fLabelFont\":42,\"fLabelOffset\":0.005,\"fLabelSize\":0.035,\"fTickLength\":0.03,\"fTitleOffset\":0,\"fTitleSize\":0.035,\"fTitleColor\":1,\"fTitleFont\":42,\"fNbins\":1,\"fXmin\":0,\"fXmax\":1,\"fXbins\":[],\"fFirst\":0,\"fLast\":0,\"fBits2\":0,\"fTimeDisplay\":false,\"fTimeFormat\":\"\",\"fLabels\":null,\"fModLabs\":null},\"fZaxis\":{\"_typename\":\"TAxis\",\"fUniqueID\":0,\"fBits\":50331648,\"fName\":\"zaxis\",\"fTitle\":\"\",\"fNdivisions\":510,\"fAxisColor\":1,\"fLabelColor\":1,\"fLabelFont\":42,\"fLabelOffset\":0.005,\"fLabelSize\":0.035,\"fTickLength\":0.03,\"fTitleOffset\":1,\"fTitleSize\":0.035,\"fTitleColor\":1,\"fTitleFont\":42,\"fNbins\":1,\"fXmin\":0,\"fXmax\":1,\"fXbins\":[],\"fFirst\":0,\"fLast\":0,\"fBits2\":0,\"fTimeDisplay\":false,\"fTimeFormat\":\"\",\"fLabels\":null,\"fModLabs\":null},\"fBarOffset\":0,\"fBarWidth\":1000,\"fEntries\":128,\"fTsumw\":0,\"fTsumw2\":0,\"fTsumwx\":0,\"fTsumwx2\":0,\"fMaximum\":-1111,\"fMinimum\":-1111,\"fNormFactor\":0,\"fContour\":[],\"fSumw2\":[0,0,0,0,0,0,0,0,0,0,0,0,0,0,0,0,0,0,0,0,0,0,0,0,0,0,0,0,0,0,0,0,0,0,0,0,0,0,0,0,0,0,0,0,0,0,0,0,0,0,0,0,0,0,0,0,0,0,0,0,0,0,0,0,0],\"fOption\":\"\",\"fFunctions\":{\"_typename\":\"TList\",\"name\":\"TList\",\"arr\":[],\"opt\":[]},\"fBufferSize\":0,\"fBuffer\":[],\"fBinStatErrOpt\":0,\"fStatOverflows\":2,\"fArray\":[0,30615679.869343,22248960.7692774,11102177.5519809,7743873.87354526,4652105.26399415,1880464.41353905,752429.632121716,303791.614263909,105659.504349507,1110782.76321964,1193542.29154819,782039.452258021,732194.572092927,612999.660205383,324148.535465191,166940.369961346,82686.1419229835,34658.7753826269,566252.389742071,686046.071839969,497712.409937693,508121.810116679,484853.612730089,283941.780223964,165609.501696228,93759.2660641765,45735.6881968128,9571800.60580227,12364534.9884572,9388553.90631974,10013363.3122186,10120568.3785443,6342576.96710236,3924183.94188706,2399637.05467703,1261422.9961851,317229.165950428,431463.082955638,341434.375508433,374056.14537622,397310.830723273,259562.188384727,169961.465743472,112742.118765488,64002.8845881328,7169.77142010428,11285.0155726417,9731.82055517006,11850.8542480394,13981.5479867009,10157.3459286783,7781.0354012944,5868.93437228313,4106.04353917737,1163.28689770772,2105.52165333322,1859.29742592275,2285.43023811901,3265.74167992092,2204.99511727022,1854.07484171468,1914.8641807873,1240.6551474365,0]},{\"_typename\":\"TH1D\",\"fUniqueID\":0,\"fBits\":50331656,\"fName\":\"hPtFSRUnfoldedData\",\"fTitle\":\"hPtFSRUnfoldedData\",\"fLineColor\":602,\"fLineStyle\":1,\"fLineWidth\":1,\"fFillColor\":0,\"fFillStyle\":1001,\"fMarkerColor\":632,\"fMarkerStyle\":20,\"fMarkerSize\":1,\"fNcells\":65,\"fXaxis\":{\"_typename\":\"TAxis\",\"fUniqueID\":0,\"fBits\":50331648,\"fName\":\"xaxis\",\"fTitle\":\"Gen_Pt\",\"fNdivisions\":510,\"fAxisColor\":1,\"fLabelColor\":1,\"fLabelFont\":42,\"fLabelOffset\":0.005,\"fLabelSize\":0.035,\"fTickLength\":0.03,\"fTitleOffset\":1,\"fTitleSize\":0.035,\"fTitleColor\":1,\"fTitleFont\":42,\"fNbins\":63,\"fXmin\":0.5,\"fXmax\":63.5,\"fXbins\":[],\"fFirst\":0,\"fLast\":0,\"fBits2\":0,\"fTimeDisplay\":false,\"fTimeFormat\":\"\",\"fLabels\":null,\"fModLabs\":null},\"fYaxis\":{\"_typename\":\"TAxis\",\"fUniqueID\":0,\"fBits\":50331648,\"fName\":\"yaxis\",\"fTitle\":\"\",\"fNdivisions\":510,\"fAxisColor\":1,\"fLabelColor\":1,\"fLabelFont\":42,\"fLabelOffset\":0.005,\"fLabelSize\":0.035,\"fTickLength\":0.03,\"fTitleOffset\":0,\"fTitleSize\":0.035,\"fTitleColor\":1,\"fTitleFont\":42,\"fNbins\":1,\"fXmin\":0,\"fXmax\":1,\"fXbins\":[],\"fFirst\":0,\"fLast\":0,\"fBits2\":0,\"fTimeDisplay\":false,\"fTimeFormat\":\"\",\"fLabels\":null,\"fModLabs\":null},\"fZaxis\":{\"_typename\":\"TAxis\",\"fUniqueID\":0,\"fBits\":50331648,\"fName\":\"zaxis\",\"fTitle\":\"\",\"fNdivisions\":510,\"fAxisColor\":1,\"fLabelColor\":1,\"fLabelFont\":42,\"fLabelOffset\":0.005,\"fLabelSize\":0.035,\"fTickLength\":0.03,\"fTitleOffset\":1,\"fTitleSize\":0.035,\"fTitleColor\":1,\"fTitleFont\":42,\"fNbins\":1,\"fXmin\":0,\"fXmax\":1,\"fXbins\":[],\"fFirst\":0,\"fLast\":0,\"fBits2\":0,\"fTimeDisplay\":false,\"fTimeFormat\":\"\",\"fLabels\":null,\"fModLabs\":null},\"fBarOffset\":0,\"fBarWidth\":1000,\"fEntries\":128,\"fTsumw\":0,\"fTsumw2\":0,\"fTsumwx\":0,\"fTsumwx2\":0,\"fMaximum\":-1111,\"fMinimum\":-1111,\"fNormFactor\":0,\"fContour\":[],\"fSumw2\":[0,372326007558.581,23698284817.1886,3636922685.64703,1286483793.60817,342328232.123627,40932373.7885026,9287441.51382603,1772459.09964115,508003.444538375,14396368.8352561,15282718.0487555,10763946.4905844,10082687.5654337,9401340.83915829,6953504.00702207,2829661.11304297,805122.918396237,327806.662905573,4761226.38611462,7338420.89826996,6863630.84016591,7511389.82374275,6613307.09739167,4774858.44675698,2757598.91433222,1043074.24583772,434168.213647182,46491734.6363915,65985343.083508,47705455.2032282,41070608.5765077,34921566.2343608,24881958.4174977,16598612.3762482,7597947.7408235,3882213.97236141,1958701.42785383,2973124.64633482,2312853.65087664,2055092.44932431,1793181.7630442,1604557.15676906,1174251.8499943,624044.96861101,306050.113195913,84617.6793567707,191373.726364218,146162.211113604,118094.285853567,84551.7223044839,69295.8164681199,60924.7032237471,42577.8557605593,30223.2440763649,51991.7411014924,131403.4876954,206300.152831555,59568.5838543036,56799.9757078664,42067.0105038591,45363.5996341784,15716.5338415569,8341.85799918693,0],\"fOption\":\"\",\"fFunctions\":{\"_typename\":\"TList\",\"name\":\"TList\",\"arr\":[],\"opt\":[]},\"fBufferSize\":0,\"fBuffer\":[],\"fBinStatErrOpt\":0,\"fStatOverflows\":2,\"fArray\":[0,41600357.96231,24815289.3689503,12855163.3011385,8473907.01286873,4933606.60413734,1818455.71877767,641734.994336999,270840.736363113,93399.6497725037,1203803.67956168,1284904.84190629,851904.848663155,737636.009517402,578592.055257475,284744.005618553,158429.882877346,76511.326165688,33586.1303941581,607827.354541914,716610.600283232,504450.762337113,466542.838675824,406337.244961034,249395.233397322,154437.374810112,90812.1423367757,45012.8581395199,9663137.70330138,12677216.4337698,9376125.15524765,9395447.03808841,8987210.28337067,5522633.66604644,3580510.14312925,2227872.95110862,1193475.99507943,347316.686063462,461502.804462835,353945.463498158,371782.850259153,364901.254467058,242797.05093085,158894.989918844,107348.999843299,63633.7647931036,8930.22493727195,11786.8740040515,10274.0246037226,11875.3398899193,12910.1509119556,9716.8220150115,7345.1128885883,4784.30589853143,3976.2937607209,2511.28713550901,670.15606099679,2888.35573353819,2472.55652675161,2648.57375395683,2677.20910210259,1493.81445464237,1241.32505287885,1109.52614862991,0]},{\"_typename\":\"TH1D\",\"fUniqueID\":0,\"fBits\":50331656,\"fName\":\"hPtUnfoldedData_\",\"fTitle\":\"hPtUnfoldedData_\",\"fLineColor\":616,\"fLineStyle\":1,\"fLineWidth\":1,\"fFillColor\":0,\"fFillStyle\":1001,\"fMarkerColor\":616,\"fMarkerStyle\":22,\"fMarkerSize\":0.8,\"fNcells\":65,\"fXaxis\":{\"_typename\":\"TAxis\",\"fUniqueID\":0,\"fBits\":50331648,\"fName\":\"xaxis\",\"fTitle\":\"Gen_Pt\",\"fNdivisions\":510,\"fAxisColor\":1,\"fLabelColor\":1,\"fLabelFont\":42,\"fLabelOffset\":0.005,\"fLabelSize\":0.035,\"fTickLength\":0.03,\"fTitleOffset\":1,\"fTitleSize\":0.035,\"fTitleColor\":1,\"fTitleFont\":42,\"fNbins\":63,\"fXmin\":0.5,\"fXmax\":63.5,\"fXbins\":[],\"fFirst\":0,\"fLast\":0,\"fBits2\":0,\"fTimeDisplay\":false,\"fTimeFormat\":\"\",\"fLabels\":null,\"fModLabs\":null},\"fYaxis\":{\"_typename\":\"TAxis\",\"fUniqueID\":0,\"fBits\":50331648,\"fName\":\"yaxis\",\"fTitle\":\"\",\"fNdivisions\":510,\"fAxisColor\":1,\"fLabelColor\":1,\"fLabelFont\":42,\"fLabelOffset\":0.005,\"fLabelSize\":0.035,\"fTickLength\":0.03,\"fTitleOffset\":0,\"fTitleSize\":0.035,\"fTitleColor\":1,\"fTitleFont\":42,\"fNbins\":1,\"fXmin\":0,\"fXmax\":1,\"fXbins\":[],\"fFirst\":0,\"fLast\":0,\"fBits2\":0,\"fTimeDisplay\":false,\"fTimeFormat\":\"\",\"fLabels\":null,\"fModLabs\":null},\"fZaxis\":{\"_typename\":\"TAxis\",\"fUniqueID\":0,\"fBits\":50331648,\"fName\":\"zaxis\",\"fTitle\":\"\",\"fNdivisions\":510,\"fAxisColor\":1,\"fLabelColor\":1,\"fLabelFont\":42,\"fLabelOffset\":0.005,\"fLabelSize\":0.035,\"fTickLength\":0.03,\"fTitleOffset\":1,\"fTitleSize\":0.035,\"fTitleColor\":1,\"fTitleFont\":42,\"fNbins\":1,\"fXmin\":0,\"fXmax\":1,\"fXbins\":[],\"fFirst\":0,\"fLast\":0,\"fBits2\":0,\"fTimeDisplay\":false,\"fTimeFormat\":\"\",\"fLabels\":null,\"fModLabs\":null},\"fBarOffset\":0,\"fBarWidth\":1000,\"fEntries\":128,\"fTsumw\":0,\"fTsumw2\":0,\"fTsumwx\":0,\"fTsumwx2\":0,\"fMaximum\":-1111,\"fMinimum\":-1111,\"fNormFactor\":0,\"fContour\":[],\"fSumw2\":[0,220247107250.35,19305039157.8117,3160677307.80407,1170413301.75503,501109589.880101,88704342.8768342,9451872.40119045,1734974.30894138,501872.686453053,13801090.9777501,14779370.6331261,10227492.2554867,10554694.6942127,11217941.4179383,11650780.2155324,2492420.52697363,751767.812043857,295945.55080831,11575444.6440416,40051423.157854,124138865.341613,93068886.9907951,67001101.4616892,25728248.1649701,5982455.13646019,1715854.2527455,740469.624710168,802097375.754589,1537526385.27041,902511230.77097,1110189761.96412,1000452734.61435,377585996.347709,194735520.727204,63013688.2681507,19287029.6538964,2339799.1780448,3915580.44272297,2578165.8591285,2516507.23989294,2679076.83208842,1906143.86254047,1198241.76239684,667921.296157446,303410.863408812,79819.8806341593,181037.301497071,144334.112376559,117648.482964045,81305.3318967766,66471.1632655191,59863.8276788527,41261.038519841,29860.89865225,62903.52463423,153083.882139284,214114.342355799,62666.9481887115,51083.3928973822,40869.0889227038,42634.326130864,13650.8299172055,7670.67056400664,0],\"fOption\":\"\",\"fFunctions\":{\"_typename\":\"TList\",\"name\":\"TList\",\"arr\":[],\"opt\":[]},\"fBufferSize\":0,\"fBuffer\":[],\"fBinStatErrOpt\":0,\"fStatOverflows\":2,\"fArray\":[0,32093228.6176974,22530113.193697,12105901.45766,8130494.49175098,4760075.63468271,1773873.64245857,647653.121523433,270833.245773493,93840.3404444065,1182149.30282681,1273048.3579694,841858.702673343,734580.444256056,578911.462125357,287902.790630009,157750.492588292,76458.5348149248,33404.9395657762,608749.539912455,710028.531503423,619986.943495182,474538.83438746,425695.183833836,256654.820081732,156418.359479537,91625.2241445583,45580.8383615878,9685276.88593742,12704384.2015656,9397257.99157831,9428327.10919336,9021873.16338266,5543243.28266796,3593277.5589422,2236298.8738755,1197638.6224803,347559.482515927,462475.733406404,354276.123756951,372672.67833233,365986.121360612,243261.724773202,158893.761460854,107546.41802216,63526.4583641743,8873.75913544299,11851.504756477,10239.1525372687,11866.1703679404,12955.7186298572,9714.55030097894,7327.94464348737,4776.10230010955,3972.46355044481,2648.1063106116,555.669839951742,2894.36246537641,2409.37110518157,2718.7523693389,2641.80230900664,1517.96538260755,1255.62233728228,1089.20629612762,0]},{\"_typename\":\"TLegend\",\"fUniqueID\":0,\"fBits\":50331656,\"fLineColor\":1,\"fLineStyle\":1,\"fLineWidth\":1,\"fFillColor\":0,\"fFillStyle\":1001,\"fX1\":47.7500002346933,\"fY1\":5.92731751968526,\"fX2\":63.5000004693866,\"fY2\":7.90309004587456,\"fX1NDC\":0.7,\"fY1NDC\":0.7,\"fX2NDC\":0.9,\"fY2NDC\":0.9,\"fBorderSize\":1,\"fInit\":1,\"fShadowColor\":1,\"fCornerRadius\":0,\"fOption\":\"brNDC\",\"fName\":\"TPave\",\"fTextAngle\":0,\"fTextSize\":0,\"fTextAlign\":12,\"fTextColor\":1,\"fTextFont\":42,\"fPrimitives\":{\"_typename\":\"TList\",\"name\":\"TList\",\"arr\":[{\"_typename\":\"TLegendEntry\",\"fUniqueID\":0,\"fBits\":50331656,\"fTextAngle\":0,\"fTextSize\":0,\"fTextAlign\":0,\"fTextColor\":0,\"fTextFont\":42,\"fLineColor\":1,\"fLineStyle\":1,\"fLineWidth\":1,\"fFillColor\":0,\"fFillStyle\":0,\"fMarkerColor\":1,\"fMarkerStyle\":20,\"fMarkerSize\":1,\"fObject\":{\"$ref\":42},\"fLabel\":\"Unfolded data\",\"fOption\":\"ple\"},{\"_typename\":\"TLegendEntry\",\"fUniqueID\":0,\"fBits\":50331656,\"fTextAngle\":0,\"fTextSize\":0,\"fTextAlign\":0,\"fTextColor\":0,\"fTextFont\":42,\"fLineColor\":1,\"fLineStyle\":1,\"fLineWidth\":1,\"fFillColor\":0,\"fFillStyle\":0,\"fMarkerColor\":1,\"fMarkerStyle\":24,\"fMarkerSize\":1.2,\"fObject\":{\"$ref\":47},\"fLabel\":\"MC truth\",\"fOption\":\"ple\"}],\"opt\":[\"ple\",\"ple\"]},\"fEntrySeparation\":0.1,\"fMargin\":0.25,\"fNColumns\":1,\"fColumnSeparation\":0},{\"_typename\":\"TPaveText\",\"fUniqueID\":0,\"fBits\":50331657,\"fLineColor\":1,\"fLineStyle\":1,\"fLineWidth\":1,\"fFillColor\":0,\"fFillStyle\":0,\"fX1\":20.4790122269617,\"fY1\":8.29824459012214,\"fX2\":43.5209877730383,\"fY2\":8.84158204292056,\"fX1NDC\":0.353701744744607,\"fY1NDC\":0.940000003948808,\"fX2NDC\":0.646298255255394,\"fY2NDC\":0.995000004768372,\"fBorderSize\":0,\"fInit\":1,\"fShadowColor\":1,\"fCornerRadius\":0,\"fOption\":\"blNDC\",\"fName\":\"title\",\"fTextAngle\":0,\"fTextSize\":0,\"fTextAlign\":22,\"fTextColor\":1,\"fTextFont\":42,\"fLabel\":\"\",\"fLongest\":15,\"fMargin\":0.05,\"fLines\":{\"_typename\":\"TList\",\"name\":\"TList\",\"arr\":[{\"_typename\":\"TLatex\",\"fUniqueID\":0,\"fBits\":50331648,\"fName\":\"\",\"fTitle\":\"hPtUnfoldedData\",\"fTextAngle\":0,\"fTextSize\":0,\"fTextAlign\":0,\"fTextColor\":0,\"fTextFont\":0,\"fX\":0,\"fY\":0,\"fLineColor\":1,\"fLineStyle\":1,\"fLineWidth\":2,\"fLimitFactorSize\":3,\"fOriginSize\":0.0467500016093254}],\"opt\":[\"\"]}}],\"opt\":[\"\",\"hist pe\",\"pe same\",\"pe same\",\"pe same\",\"\",\"blNDC\"]},\"fExecs\":{\"_typename\":\"TList\",\"name\":\"TList\",\"arr\":[],\"opt\":[]},\"fName\":\"pad_pt\",\"fTitle\":\"pad_pt\",\"fNumPaletteColor\":0,\"fNextPaletteColor\":0}],\"opt\":[\"\"]},\"fExecs\":{\"_typename\":\"TList\",\"name\":\"TList\",\"arr\":[],\"opt\":[]},\"fName\":\"c_2\",\"fTitle\":\"c_2\",\"fNumPaletteColor\":0,\"fNextPaletteColor\":0}],\"opt\":[\"\",\"\"]},\"fExecs\":null,\"fName\":\"c\",\"fTitle\":\"c\",\"fNumPaletteColor\":0,\"fNextPaletteColor\":0,\"fDISPLAY\":\"$DISPLAY\",\"fDoubleBuffer\":0,\"fRetained\":true,\"fXsizeUser\":0,\"fYsizeUser\":0,\"fXsizeReal\":20,\"fYsizeReal\":6.666667,\"fWindowTopX\":0,\"fWindowTopY\":0,\"fWindowWidth\":0,\"fWindowHeight\":0,\"fCw\":1796,\"fCh\":572,\"fCatt\":{\"_typename\":\"TAttCanvas\",\"fXBetween\":2,\"fYBetween\":2,\"fTitleFromTop\":1.2,\"fXdate\":0.2,\"fYdate\":0.3,\"fAdate\":1},\"kMoveOpaque\":true,\"kResizeOpaque\":true,\"fHighLightColor\":2,\"fBatch\":true,\"kShowEventStatus\":false,\"kAutoExec\":true,\"kMenuBar\":true});\n",
       "       Core.draw(\"root_plot_2\", obj, \"\");\n",
       "     }\n",
       " );\n",
       "</script>\n"
      ],
      "text/plain": [
       "<IPython.core.display.HTML object>"
      ]
     },
     "metadata": {},
     "output_type": "display_data"
    }
   ],
   "source": [
    "c.cd(1)\n",
    "\n",
    "pad_mass.cd()\n",
    "pad_mass.SetLogy()\n",
    "pad_mass.SetLogx()\n",
    "pad_mass.SetGridy()\n",
    "pad_mass.SetGridx()\n",
    "\n",
    "hMassUnfoldedData.SetMarkerStyle(20)\n",
    "hMassUnfoldedData.SetLineColor(rt.kBlack)\n",
    "hMassMCTruth.SetMarkerSize(1.2)\n",
    "hMassMCTruth.SetMarkerStyle(24)\n",
    "hMassMCTruth.SetLineColor(rt.kBlack)\n",
    "\n",
    "hMassFSRUnfoldedData.SetMarkerStyle(20)\n",
    "hMassFSRUnfoldedData.SetMarkerColor(rt.kRed)\n",
    "\n",
    "hMassUnfoldedData_.SetMarkerStyle(22)\n",
    "hMassUnfoldedData_.SetMarkerSize(0.8)\n",
    "hMassUnfoldedData_.SetLineColor(rt.kMagenta)\n",
    "hMassUnfoldedData_.SetMarkerColor(rt.kMagenta)\n",
    "#hMassUnfoldedMC_.SetLineColor(rt.kRed)\n",
    "\n",
    "hMassUnfoldedData.GetYaxis().SetTitle(\"Events/ bin\")\n",
    "\n",
    "hMassUnfoldedData.SetStats(rt.kFALSE)\n",
    "hMassUnfoldedData.Draw(\"hist pe\")\n",
    "hMassMCTruth.Draw(\"pe same\")\n",
    "\n",
    "hMassFSRUnfoldedData.Draw(\"pe same\")\n",
    "hMassUnfoldedData_.Draw(\"pe same\")\n",
    "#hMassUnfoldedMC_.Draw(\"hist same\")\n",
    "#hMassData_.Draw(\"hist same\")\n",
    "hMassData.Draw(\"hist same\")\n",
    "\n",
    "hMassUnfoldedData.GetYaxis().SetNdivisions(10)\n",
    "hMassUnfoldedData.GetXaxis().SetNdivisions(520)\n",
    "\n",
    "hMassUnfoldedData.SetMaximum(5e8)\n",
    "hMassUnfoldedData.SetMinimum(1)\n",
    "\n",
    "c.cd(2)\n",
    "pad_pt.cd()\n",
    "pad_pt.SetLogy()\n",
    "#c.SetLogx()\n",
    "pad_pt.SetGridy()\n",
    "pad_pt.SetGridx()\n",
    "\n",
    "hPtUnfoldedData.SetMarkerStyle(20)\n",
    "hPtUnfoldedData.SetLineColor(rt.kBlack)\n",
    "hPtMCTruth.SetMarkerSize(1.2)\n",
    "hPtMCTruth.SetMarkerStyle(24)\n",
    "hPtMCTruth.SetLineColor(rt.kBlack)\n",
    "\n",
    "hPtFSRUnfoldedData.SetMarkerStyle(20)\n",
    "hPtFSRUnfoldedData.SetMarkerColor(rt.kRed)\n",
    "\n",
    "hPtUnfoldedData_.SetMarkerStyle(22)\n",
    "hPtUnfoldedData_.SetMarkerSize(0.8)\n",
    "hPtUnfoldedData_.SetLineColor(rt.kMagenta)\n",
    "hPtUnfoldedData_.SetMarkerColor(rt.kMagenta)\n",
    "\n",
    "hPtUnfoldedData.GetYaxis().SetTitle(\"Events/ bin\")\n",
    "\n",
    "hPtUnfoldedData.SetStats(rt.kFALSE)\n",
    "hPtUnfoldedData.Draw(\"hist pe\")\n",
    "hPtMCTruth.Draw(\"pe same\")\n",
    "\n",
    "hPtFSRUnfoldedData.Draw(\"pe same\")\n",
    "hPtUnfoldedData_.Draw(\"pe same\")\n",
    "\n",
    "hPtUnfoldedData.GetYaxis().SetNdivisions(10)\n",
    "hPtUnfoldedData.GetXaxis().SetNdivisions(520)\n",
    "\n",
    "legend = rt.TLegend(0.7, 0.7, 0.9, 0.9)\n",
    "legend.AddEntry(hPtUnfoldedData, \"Unfolded data\", \"ple\")\n",
    "legend.AddEntry(hPtMCTruth, \"MC truth\", \"ple\")\n",
    "legend.Draw()\n",
    "\n",
    "hPtUnfoldedData.SetMaximum(8e7)\n",
    "hPtUnfoldedData.SetMinimum(1)\n",
    "\n",
    "c.Draw()"
   ]
  },
  {
   "cell_type": "markdown",
   "metadata": {},
   "source": [
    "Check if the unfolding result of the last mass bin could be improved "
   ]
  },
  {
   "cell_type": "code",
   "execution_count": 27,
   "metadata": {},
   "outputs": [
    {
     "name": "stdout",
     "output_type": "stream",
     "text": [
      "ISRUnfold::setMeanMass()   Save mean of dilepton...\n",
      "Detector, 0 th mass bin, mean: 29.6516 +/- 0.00966023\n",
      "Unfolded, 0 th mass bin, mean: 29.6828 +/- 0.0104289\n",
      "MC, 0 th mass bin, mean: 29.4544 +/- 0.00613344\n",
      "Detector, 1 th mass bin, mean: 49.2787 +/- 0.00719434\n",
      "Unfolded, 1 th mass bin, mean: 49.1537 +/- 0.00841184\n",
      "MC, 1 th mass bin, mean: 49.3034 +/- 0.00442487\n",
      "Detector, 2 th mass bin, mean: 72.8007 +/- 0.00540652\n",
      "Unfolded, 2 th mass bin, mean: 72.3294 +/- 0.00863245\n",
      "MC, 2 th mass bin, mean: 72.3554 +/- 0.00418567\n",
      "Detector, 3 th mass bin, mean: 90.8067 +/- 0.000800046\n",
      "Unfolded, 3 th mass bin, mean: 90.998 +/- 0.00118143\n",
      "MC, 3 th mass bin, mean: 90.9942 +/- 0.00062296\n",
      "Detector, 4 th mass bin, mean: 117.817 +/- 0.0228618\n",
      "Unfolded, 4 th mass bin, mean: 117.899 +/- 0.0357873\n",
      "MC, 4 th mass bin, mean: 117.697 +/- 0.018509\n",
      "Detector, 5 th mass bin, mean: 241.301 +/- 0.190981\n",
      "Unfolded, 5 th mass bin, mean: 241.248 +/- 0.23992\n",
      "MC, 5 th mass bin, mean: 241.935 +/- 0.149135\n",
      "Detector, 6 th mass bin, mean: 442.906 +/- 1.94536\n",
      "Unfolded, 6 th mass bin, mean: 445.848 +/- 2.41315\n",
      "MC, 6 th mass bin, mean: 448.089 +/- 1.53281\n"
     ]
    }
   ],
   "source": [
    "nBins = unfoldClass.setMeanMass()"
   ]
  },
  {
   "cell_type": "code",
   "execution_count": 28,
   "metadata": {},
   "outputs": [
    {
     "data": {
      "text/plain": [
       "7"
      ]
     },
     "execution_count": 28,
     "metadata": {},
     "output_type": "execute_result"
    },
    {
     "name": "stdout",
     "output_type": "stream",
     "text": [
      "ISRUnfold::setMeanMass()   Save mean of dilepton...\n",
      "Detector, 0 th mass bin, mean: 29.6516 +/- 0.00966023\n",
      "Unfolded, 0 th mass bin, mean: 21.6047 +/- 0.0112793\n",
      "MC, 0 th mass bin, mean: 21.4957 +/- 0.000620168\n",
      "Detector, 1 th mass bin, mean: 49.2787 +/- 0.00719434\n",
      "Unfolded, 1 th mass bin, mean: 48.0282 +/- 0.00911237\n",
      "MC, 1 th mass bin, mean: 48.1441 +/- 0.00242853\n",
      "Detector, 2 th mass bin, mean: 72.8007 +/- 0.00540652\n",
      "Unfolded, 2 th mass bin, mean: 71.7374 +/- 0.0125752\n",
      "MC, 2 th mass bin, mean: 71.7699 +/- 0.0033546\n",
      "Detector, 3 th mass bin, mean: 90.8067 +/- 0.000800046\n",
      "Unfolded, 3 th mass bin, mean: 91.2266 +/- 0.00120967\n",
      "MC, 3 th mass bin, mean: 91.2248 +/- 0.000399126\n",
      "Detector, 4 th mass bin, mean: 117.817 +/- 0.0228618\n",
      "Unfolded, 4 th mass bin, mean: 117.244 +/- 0.036132\n",
      "MC, 4 th mass bin, mean: 117.047 +/- 0.0121421\n",
      "Detector, 5 th mass bin, mean: 241.301 +/- 0.190981\n",
      "Unfolded, 5 th mass bin, mean: 240.096 +/- 0.242943\n",
      "MC, 5 th mass bin, mean: 240.799 +/- 0.108237\n",
      "Detector, 6 th mass bin, mean: 442.906 +/- 1.94536\n",
      "Unfolded, 6 th mass bin, mean: 436.414 +/- 2.24445\n",
      "MC, 6 th mass bin, mean: 438.883 +/- 1.13424\n"
     ]
    }
   ],
   "source": [
    "unfoldClass_.setMeanMass()"
   ]
  },
  {
   "cell_type": "code",
   "execution_count": 29,
   "metadata": {},
   "outputs": [
    {
     "data": {
      "text/plain": [
       "7"
      ]
     },
     "execution_count": 29,
     "metadata": {},
     "output_type": "execute_result"
    },
    {
     "name": "stdout",
     "output_type": "stream",
     "text": [
      "ISRUnfold::setMeanPt()   Save mean of dilepton momentum...\n",
      "Detector, 0 th mass bin, mean: 31.316 +/- 0.0263757\n",
      "Unfolded, 0 th mass bin, mean: 29.7367 +/- 0.0302571\n",
      "Detector, 1 th mass bin, mean: 16.9797 +/- 0.0206688\n",
      "Unfolded, 1 th mass bin, mean: 17.4956 +/- 0.0240618\n",
      "Detector, 2 th mass bin, mean: 18.9751 +/- 0.0159246\n",
      "Unfolded, 2 th mass bin, mean: 19.8428 +/- 0.0236994\n",
      "Detector, 3 th mass bin, mean: 19.186 +/- 0.00420542\n",
      "Unfolded, 3 th mass bin, mean: 20.2187 +/- 0.00514366\n",
      "Detector, 4 th mass bin, mean: 21.1076 +/- 0.0228675\n",
      "Unfolded, 4 th mass bin, mean: 21.8781 +/- 0.0315254\n",
      "Detector, 5 th mass bin, mean: 25.9265 +/- 0.13529\n",
      "Unfolded, 5 th mass bin, mean: 26.0023 +/- 0.240331\n",
      "Detector, 6 th mass bin, mean: 30.3822 +/- 0.302713\n",
      "Unfolded, 6 th mass bin, mean: 28.2146 +/- 0.984998\n"
     ]
    }
   ],
   "source": [
    "unfoldClass.setMeanPt()"
   ]
  },
  {
   "cell_type": "code",
   "execution_count": 30,
   "metadata": {},
   "outputs": [
    {
     "data": {
      "text/plain": [
       "7"
      ]
     },
     "execution_count": 30,
     "metadata": {},
     "output_type": "execute_result"
    },
    {
     "name": "stdout",
     "output_type": "stream",
     "text": [
      "ISRUnfold::setMeanPt()   Save mean of dilepton momentum...\n",
      "Detector, 0 th mass bin, mean: 31.316 +/- 0.0263757\n",
      "Unfolded, 0 th mass bin, mean: 8.11538 +/- 0.0530634\n",
      "Detector, 1 th mass bin, mean: 16.9797 +/- 0.0206688\n",
      "Unfolded, 1 th mass bin, mean: 13.1492 +/- 0.0232143\n",
      "Detector, 2 th mass bin, mean: 18.9751 +/- 0.0159246\n",
      "Unfolded, 2 th mass bin, mean: 16.1352 +/- 0.0937733\n",
      "Detector, 3 th mass bin, mean: 19.186 +/- 0.00420542\n",
      "Unfolded, 3 th mass bin, mean: 18.2749 +/- 0.0222876\n",
      "Detector, 4 th mass bin, mean: 21.1076 +/- 0.0228675\n",
      "Unfolded, 4 th mass bin, mean: 19.9451 +/- 0.0332359\n",
      "Detector, 5 th mass bin, mean: 25.9265 +/- 0.13529\n",
      "Unfolded, 5 th mass bin, mean: 24.5611 +/- 0.243498\n",
      "Detector, 6 th mass bin, mean: 30.3822 +/- 0.302713\n",
      "Unfolded, 6 th mass bin, mean: 26.7946 +/- 1.06209\n"
     ]
    }
   ],
   "source": [
    "unfoldClass_.setMeanPt()"
   ]
  },
  {
   "cell_type": "code",
   "execution_count": 31,
   "metadata": {},
   "outputs": [
    {
     "data": {
      "text/plain": [
       "7"
      ]
     },
     "execution_count": 31,
     "metadata": {},
     "output_type": "execute_result"
    },
    {
     "name": "stdout",
     "output_type": "stream",
     "text": [
      "ISRUnfold::setMeanPt()   Save mean of dilepton momentum...\n"
     ]
    }
   ],
   "source": [
    "unfoldClass.setMeanPt(False)"
   ]
  },
  {
   "cell_type": "code",
   "execution_count": 32,
   "metadata": {},
   "outputs": [
    {
     "data": {
      "text/plain": [
       "7"
      ]
     },
     "execution_count": 32,
     "metadata": {},
     "output_type": "execute_result"
    },
    {
     "name": "stdout",
     "output_type": "stream",
     "text": [
      "ISRUnfold::setMeanMass()   Save mean of dilepton...\n"
     ]
    }
   ],
   "source": [
    "unfoldClass.setMeanMass(False)"
   ]
  },
  {
   "cell_type": "code",
   "execution_count": 33,
   "metadata": {},
   "outputs": [],
   "source": [
    "c_PtVsMass = rt.TCanvas(\"PtVsMass\",\"PtVsMass\", 900, 600)\n",
    "c_PtVsMass.SetGridx()\n",
    "c_PtVsMass.SetGridy()\n",
    "c_PtVsMass.SetLogx()"
   ]
  },
  {
   "cell_type": "code",
   "execution_count": 34,
   "metadata": {},
   "outputs": [],
   "source": [
    "from array import array\n",
    "meanMass, meanPt = array('d'), array('d')\n",
    "meanMassUnf, meanPtUnf = array('d'), array('d')\n",
    "meanMassUnfStatErr, meanPtUnfStatErr = array('d'), array('d')\n",
    "meanMassFSRUnf, meanPtFSRUnf = array('d'), array('d')\n",
    "meanMassFSRUnfStatErr, meanPtFSRUnfStatErr = array('d'), array('d')\n",
    "\n",
    "meanMassFSRUnfMC, meanPtFSRUnfMC = array('d'), array('d')\n",
    "\n",
    "for ibin in range(nBins):\n",
    "    meanMass.append(unfoldClass.getDetMeanMass(ibin))\n",
    "    meanPt.append(unfoldClass.getDetMeanPt(ibin))\n",
    "    \n",
    "    meanMassUnf.append(unfoldClass.getUnfMeanMass(ibin))\n",
    "    meanPtUnf.append(unfoldClass.getUnfMeanPt(ibin))\n",
    "    meanMassUnfStatErr.append(unfoldClass.getUnfMeanMassError(ibin))\n",
    "    meanPtUnfStatErr.append(unfoldClass.getUnfMeanPtError(ibin))\n",
    "    \n",
    "    meanMassFSRUnf.append(unfoldClass.getFSRUnfMeanMass(ibin))\n",
    "    meanPtFSRUnf.append(unfoldClass.getFSRUnfMeanPt(ibin))\n",
    "    meanMassFSRUnfStatErr.append(unfoldClass.getFSRUnfMeanMassError(ibin))\n",
    "    meanPtFSRUnfStatErr.append(unfoldClass.getFSRUnfMeanPtError(ibin))\n",
    "    \n",
    "    meanMassFSRUnfMC.append(unfoldClass_.getMCGenMeanMass(ibin))\n",
    "    meanPtFSRUnfMC.append(unfoldClass_.getMCGenMeanPt(ibin))"
   ]
  },
  {
   "cell_type": "code",
   "execution_count": 35,
   "metadata": {},
   "outputs": [
    {
     "name": "stdout",
     "output_type": "stream",
     "text": [
      " FCN=274.744 FROM MIGRAD    STATUS=CONVERGED      55 CALLS          56 TOTAL\n",
      "                     EDM=3.57932e-13    STRATEGY= 1      ERROR MATRIX ACCURATE \n",
      "  EXT PARAMETER                                   STEP         FIRST   \n",
      "  NO.   NAME      VALUE            ERROR          SIZE      DERIVATIVE \n",
      "   1  p0          -1.67475e+01   1.13420e-01   3.78415e-05   1.25433e-04\n",
      "   2  p1           7.75400e+00   2.53128e-02   8.44533e-06   5.37425e-04\n"
     ]
    },
    {
     "data": {
      "text/html": [
       "\n",
       "<div id=\"root_plot_3\"\n",
       "     style=\"width: 896px; height: 572px\">\n",
       "</div>\n",
       "\n",
       "<script>\n",
       " requirejs.config({\n",
       "     paths: {\n",
       "       'JSRootCore' : 'https://root.cern.ch/js/notebook//scripts/JSRootCore',\n",
       "     }\n",
       "   });\n",
       " require(['JSRootCore'],\n",
       "     function(Core) {\n",
       "       var obj = Core.JSONR_unref({\"_typename\":\"TCanvas\",\"fUniqueID\":0,\"fBits\":53673992,\"fLineColor\":1,\"fLineStyle\":1,\"fLineWidth\":1,\"fFillColor\":0,\"fFillStyle\":1001,\"fLeftMargin\":0.1,\"fRightMargin\":0.1,\"fBottomMargin\":0.1,\"fTopMargin\":0.1,\"fXfile\":2,\"fYfile\":2,\"fAfile\":1,\"fXstat\":0.99,\"fYstat\":0.99,\"fAstat\":2,\"fFrameFillColor\":0,\"fFrameLineColor\":1,\"fFrameFillStyle\":1001,\"fFrameLineStyle\":1,\"fFrameLineWidth\":1,\"fFrameBorderSize\":1,\"fFrameBorderMode\":0,\"fX1\":0.690359820090051,\"fY1\":-1.25000046566131,\"fX2\":3.78676143462961,\"fY2\":61.2500004656613,\"fXtoAbsPixelk\":-199.768092445135,\"fXtoPixelk\":-199.768092445135,\"fXtoPixel\":289.368147785712,\"fYtoAbsPixelk\":560.560045908737,\"fYtoPixelk\":560.560045908737,\"fYtoPixel\":-9.15199986362457,\"fUtoAbsPixelk\":5e-5,\"fUtoPixelk\":5e-5,\"fUtoPixel\":896,\"fVtoAbsPixelk\":572.00005,\"fVtoPixelk\":572,\"fVtoPixel\":-572,\"fAbsPixeltoXk\":0.690359820090051,\"fPixeltoXk\":0.690359820090051,\"fPixeltoX\":0.00345580537337004,\"fAbsPixeltoYk\":61.2500004656613,\"fPixeltoYk\":-1.25000046566131,\"fPixeltoY\":-0.109265735893921,\"fXlowNDC\":0,\"fYlowNDC\":0,\"fXUpNDC\":0,\"fYUpNDC\":0,\"fWNDC\":1,\"fHNDC\":1,\"fAbsXlowNDC\":0,\"fAbsYlowNDC\":0,\"fAbsWNDC\":1,\"fAbsHNDC\":1,\"fUxmin\":1,\"fUymin\":5,\"fUxmax\":3.47712125471966,\"fUymax\":55,\"fTheta\":30,\"fPhi\":30,\"fAspectRatio\":0,\"fNumber\":0,\"fTickx\":0,\"fTicky\":0,\"fLogx\":1,\"fLogy\":0,\"fLogz\":0,\"fPadPaint\":0,\"fCrosshair\":0,\"fCrosshairPos\":0,\"fBorderSize\":2,\"fBorderMode\":0,\"fModified\":false,\"fGridx\":true,\"fGridy\":true,\"fAbsCoord\":false,\"fEditable\":true,\"fFixedAspectRatio\":false,\"fPrimitives\":{\"_typename\":\"TList\",\"name\":\"TList\",\"arr\":[{\"_typename\":\"TFrame\",\"fUniqueID\":0,\"fBits\":50331656,\"fLineColor\":1,\"fLineStyle\":1,\"fLineWidth\":1,\"fFillColor\":0,\"fFillStyle\":1001,\"fX1\":1,\"fY1\":5,\"fX2\":3.47712125471966,\"fY2\":55,\"fBorderSize\":1,\"fBorderMode\":0},{\"_typename\":\"TGraph\",\"fUniqueID\":0,\"fBits\":50332680,\"fName\":\"Graph\",\"fTitle\":\"Dilepton p_{T} vs. Mass\",\"fLineColor\":1,\"fLineStyle\":1,\"fLineWidth\":1,\"fFillColor\":0,\"fFillStyle\":1000,\"fMarkerColor\":1,\"fMarkerStyle\":20,\"fMarkerSize\":1,\"fNpoints\":7,\"fX\":[29.6515744681384,49.2787092414441,72.8006994167767,90.8066833262487,117.816857850687,241.301367144804,442.906479840957],\"fY\":[31.3159533884316,16.9797319155549,18.9750871160729,19.1860394209331,21.1076021160872,25.9265191148155,30.3821804991373],\"fFunctions\":{\"_typename\":\"TList\",\"name\":\"TList\",\"arr\":[],\"opt\":[]},\"fHistogram\":{\"_typename\":\"TH1F\",\"fUniqueID\":0,\"fBits\":50332160,\"fName\":\"Graph\",\"fTitle\":\"Dilepton p_{T} vs. Mass\",\"fLineColor\":602,\"fLineStyle\":1,\"fLineWidth\":1,\"fFillColor\":0,\"fFillStyle\":1001,\"fMarkerColor\":1,\"fMarkerStyle\":1,\"fMarkerSize\":1,\"fNcells\":102,\"fXaxis\":{\"_typename\":\"TAxis\",\"fUniqueID\":0,\"fBits\":50331656,\"fName\":\"xaxis\",\"fTitle\":\"\",\"fNdivisions\":510,\"fAxisColor\":1,\"fLabelColor\":1,\"fLabelFont\":42,\"fLabelOffset\":0.005,\"fLabelSize\":0.035,\"fTickLength\":0.03,\"fTitleOffset\":1,\"fTitleSize\":0.035,\"fTitleColor\":1,\"fTitleFont\":42,\"fNbins\":100,\"fXmin\":10,\"fXmax\":3000,\"fXbins\":[],\"fFirst\":0,\"fLast\":0,\"fBits2\":0,\"fTimeDisplay\":false,\"fTimeFormat\":\"\",\"fLabels\":null,\"fModLabs\":null},\"fYaxis\":{\"_typename\":\"TAxis\",\"fUniqueID\":0,\"fBits\":50331656,\"fName\":\"yaxis\",\"fTitle\":\"\",\"fNdivisions\":510,\"fAxisColor\":1,\"fLabelColor\":1,\"fLabelFont\":42,\"fLabelOffset\":0.005,\"fLabelSize\":0.035,\"fTickLength\":0.03,\"fTitleOffset\":0,\"fTitleSize\":0.035,\"fTitleColor\":1,\"fTitleFont\":42,\"fNbins\":1,\"fXmin\":15.5461097682672,\"fXmax\":32.7495755357193,\"fXbins\":[],\"fFirst\":0,\"fLast\":0,\"fBits2\":0,\"fTimeDisplay\":false,\"fTimeFormat\":\"\",\"fLabels\":null,\"fModLabs\":null},\"fZaxis\":{\"_typename\":\"TAxis\",\"fUniqueID\":0,\"fBits\":50331648,\"fName\":\"zaxis\",\"fTitle\":\"\",\"fNdivisions\":510,\"fAxisColor\":1,\"fLabelColor\":1,\"fLabelFont\":42,\"fLabelOffset\":0.005,\"fLabelSize\":0.035,\"fTickLength\":0.03,\"fTitleOffset\":1,\"fTitleSize\":0.035,\"fTitleColor\":1,\"fTitleFont\":42,\"fNbins\":1,\"fXmin\":0,\"fXmax\":1,\"fXbins\":[],\"fFirst\":0,\"fLast\":0,\"fBits2\":0,\"fTimeDisplay\":false,\"fTimeFormat\":\"\",\"fLabels\":null,\"fModLabs\":null},\"fBarOffset\":0,\"fBarWidth\":1000,\"fEntries\":0,\"fTsumw\":0,\"fTsumw2\":0,\"fTsumwx\":0,\"fTsumwx2\":0,\"fMaximum\":55,\"fMinimum\":5,\"fNormFactor\":0,\"fContour\":[],\"fSumw2\":[],\"fOption\":\"\",\"fFunctions\":{\"_typename\":\"TList\",\"name\":\"TList\",\"arr\":[],\"opt\":[]},\"fBufferSize\":0,\"fBuffer\":[],\"fBinStatErrOpt\":0,\"fStatOverflows\":2,\"fArray\":[0,0,0,0,0,0,0,0,0,0,0,0,0,0,0,0,0,0,0,0,0,0,0,0,0,0,0,0,0,0,0,0,0,0,0,0,0,0,0,0,0,0,0,0,0,0,0,0,0,0,0,0,0,0,0,0,0,0,0,0,0,0,0,0,0,0,0,0,0,0,0,0,0,0,0,0,0,0,0,0,0,0,0,0,0,0,0,0,0,0,0,0,0,0,0,0,0,0,0,0,0,0]},\"fMinimum\":-1111,\"fMaximum\":-1111},{\"_typename\":\"TGraphErrors\",\"fUniqueID\":0,\"fBits\":50332680,\"fName\":\"Graph\",\"fTitle\":\"Graph\",\"fLineColor\":632,\"fLineStyle\":1,\"fLineWidth\":1,\"fFillColor\":0,\"fFillStyle\":1000,\"fMarkerColor\":632,\"fMarkerStyle\":20,\"fMarkerSize\":1,\"fNpoints\":7,\"fX\":[29.682791819925,49.1537387383247,72.3294184132431,90.9980241208544,117.899313038615,241.248348189646,445.848431543823],\"fY\":[29.7366944926812,17.4955934114337,19.8427632180568,20.2186956120345,21.8780699588357,26.0022906630306,28.2146146572385],\"fFunctions\":{\"_typename\":\"TList\",\"name\":\"TList\",\"arr\":[],\"opt\":[]},\"fHistogram\":{\"_typename\":\"TH1F\",\"fUniqueID\":0,\"fBits\":50332160,\"fName\":\"Graph\",\"fTitle\":\"Graph\",\"fLineColor\":602,\"fLineStyle\":1,\"fLineWidth\":1,\"fFillColor\":0,\"fFillStyle\":1001,\"fMarkerColor\":1,\"fMarkerStyle\":1,\"fMarkerSize\":1,\"fNcells\":102,\"fXaxis\":{\"_typename\":\"TAxis\",\"fUniqueID\":0,\"fBits\":50331648,\"fName\":\"xaxis\",\"fTitle\":\"\",\"fNdivisions\":510,\"fAxisColor\":1,\"fLabelColor\":1,\"fLabelFont\":42,\"fLabelOffset\":0.005,\"fLabelSize\":0.035,\"fTickLength\":0.03,\"fTitleOffset\":1,\"fTitleSize\":0.035,\"fTitleColor\":1,\"fTitleFont\":42,\"fNbins\":100,\"fXmin\":26.7051266460974,\"fXmax\":490.120501786934,\"fXbins\":[],\"fFirst\":0,\"fLast\":0,\"fBits2\":0,\"fTimeDisplay\":false,\"fTimeFormat\":\"\",\"fLabels\":null,\"fModLabs\":null},\"fYaxis\":{\"_typename\":\"TAxis\",\"fUniqueID\":0,\"fBits\":50331648,\"fName\":\"yaxis\",\"fTitle\":\"\",\"fNdivisions\":510,\"fAxisColor\":1,\"fLabelColor\":1,\"fLabelFont\":42,\"fLabelOffset\":0.005,\"fLabelSize\":0.035,\"fTickLength\":0.03,\"fTitleOffset\":0,\"fTitleSize\":0.035,\"fTitleColor\":1,\"fTitleFont\":42,\"fNbins\":1,\"fXmin\":16.2419896102167,\"fXmax\":30.9964936413206,\"fXbins\":[],\"fFirst\":0,\"fLast\":0,\"fBits2\":0,\"fTimeDisplay\":false,\"fTimeFormat\":\"\",\"fLabels\":null,\"fModLabs\":null},\"fZaxis\":{\"_typename\":\"TAxis\",\"fUniqueID\":0,\"fBits\":50331648,\"fName\":\"zaxis\",\"fTitle\":\"\",\"fNdivisions\":510,\"fAxisColor\":1,\"fLabelColor\":1,\"fLabelFont\":42,\"fLabelOffset\":0.005,\"fLabelSize\":0.035,\"fTickLength\":0.03,\"fTitleOffset\":1,\"fTitleSize\":0.035,\"fTitleColor\":1,\"fTitleFont\":42,\"fNbins\":1,\"fXmin\":0,\"fXmax\":1,\"fXbins\":[],\"fFirst\":0,\"fLast\":0,\"fBits2\":0,\"fTimeDisplay\":false,\"fTimeFormat\":\"\",\"fLabels\":null,\"fModLabs\":null},\"fBarOffset\":0,\"fBarWidth\":1000,\"fEntries\":0,\"fTsumw\":0,\"fTsumw2\":0,\"fTsumwx\":0,\"fTsumwx2\":0,\"fMaximum\":30.9964936413206,\"fMinimum\":16.2419896102167,\"fNormFactor\":0,\"fContour\":[],\"fSumw2\":[],\"fOption\":\"\",\"fFunctions\":{\"_typename\":\"TList\",\"name\":\"TList\",\"arr\":[],\"opt\":[]},\"fBufferSize\":0,\"fBuffer\":[],\"fBinStatErrOpt\":0,\"fStatOverflows\":2,\"fArray\":[0,0,0,0,0,0,0,0,0,0,0,0,0,0,0,0,0,0,0,0,0,0,0,0,0,0,0,0,0,0,0,0,0,0,0,0,0,0,0,0,0,0,0,0,0,0,0,0,0,0,0,0,0,0,0,0,0,0,0,0,0,0,0,0,0,0,0,0,0,0,0,0,0,0,0,0,0,0,0,0,0,0,0,0,0,0,0,0,0,0,0,0,0,0,0,0,0,0,0,0,0,0]},\"fMinimum\":-1111,\"fMaximum\":-1111,\"fEX\":[0.0104288798167957,0.00841183831114075,0.008632446706724,0.00118143167688696,0.0357872672308189,0.239920377394285,2.41314852976294],\"fEY\":[0.0302571460474227,0.0240617986250402,0.023699404724671,0.00514365839336227,0.0315253957671674,0.24033052851219,0.984998016555864]},{\"_typename\":\"TGraphErrors\",\"fUniqueID\":0,\"fBits\":50332680,\"fName\":\"Graph\",\"fTitle\":\"Graph\",\"fLineColor\":600,\"fLineStyle\":1,\"fLineWidth\":1,\"fFillColor\":0,\"fFillStyle\":1000,\"fMarkerColor\":600,\"fMarkerStyle\":20,\"fMarkerSize\":1,\"fNpoints\":7,\"fX\":[21.6409361985969,48.0107067119154,71.7327141288947,91.2271969356842,117.24363049925,240.095549586998,436.335677015154],\"fY\":[7.53185249472669,13.0759128306891,16.2151923525757,18.2658374643794,19.9507914291937,24.5658923435869,26.8553513919228],\"fFunctions\":{\"_typename\":\"TList\",\"name\":\"TList\",\"arr\":[{\"_typename\":\"TF1\",\"fUniqueID\":0,\"fBits\":50333192,\"fName\":\"f_lepton\",\"fTitle\":\"[0]+[1]*log(x)\",\"fLineColor\":600,\"fLineStyle\":2,\"fLineWidth\":1,\"fFillColor\":19,\"fFillStyle\":0,\"fMarkerColor\":1,\"fMarkerStyle\":1,\"fMarkerSize\":1,\"fXmin\":20,\"fXmax\":900,\"fNpar\":2,\"fNdim\":1,\"fNpx\":100,\"fType\":0,\"fNpfits\":7,\"fNDF\":5,\"fChisquare\":274.743632275098,\"fMinimum\":-1111,\"fMaximum\":-1111,\"fParErrors\":[0.113420481982523,0.025312764845768],\"fParMin\":[0,0],\"fParMax\":[0,0],\"fSave\":[6.48144567957922,9.30888984745774,11.3763295736296,13.0069610187032,14.3535484493447,15.5005217322945,16.499492338209,17.3843273773851,18.1784537409728,18.8987522276212,19.5577899414298,20.1651753688781,20.7284198906831,21.2535068843934,21.7452799814155,22.2077153380823,22.6441171657735,23.0572610965721,23.4495012419171,23.8228514479606,24.1790478686138,24.5195977850098,24.8458181467909,25.158866327327,25.4597649073125,25.7494218262666,26.0286469035083,26.2981654862803,26.5586298044041,26.8106284789491,27.0546945337377,27.2913121839494,27.5209226192061,27.7439289547299,27.9607004901812,28.1715763891894,28.3768688716395,28.5768659941451,28.7718340808583,28.9620198560909,29.1476523215933,29.3289444143208,29.5060944747879,29.6792875513995,29.848696562267,30.0144833327974,30.1767995246598,30.3357874694968,30.4915809188666,30.6443057203169,30.7940804281535,30.9410168563301,31.0852205799194,31.2267913907976,31.3658237124717,31.5024069783655,31.6366259773618,31.7685611699441,31.898288977888,32.0258820501167,32.1514095070335,32.2749371653905,32.396527745525,32.5162410625956,32.6341342032804,32.7502616892409,32.8646756285257,32.9774258559655,33.0885600635054,33.1981239213291,33.3061611905442,33.4127138281241,33.5178220847369,33.621524596032,33.7238584679025,33.824859356194,33.9245615412883,34.0229979979534,34.1202004608144,34.2161994857713,34.3110245076613,34.4047038944378,34.4972649981153,34.5887342027092,34.679136969381,34.7684978789819,34.8568406721726,34.9441882872838,35.0305628960669,35.1159859374764,35.2004781496109,35.2840595999329,35.3667497138768,35.4485673019483,35.5295305854078,35.6096572206277,35.6889643222038,35.7674684848963,35.8451858044715,35.9221318975096,35.9983219202387,20,900],\"fNormalized\":false,\"fNormIntegral\":0,\"fFormula\":{\"_typename\":\"TFormula\",\"fUniqueID\":0,\"fBits\":50332672,\"fName\":\"f_lepton\",\"fTitle\":\"[0]+[1]*log(x)\",\"fClingParameters\":[-16.7474744062616,7.75400401795022],\"fAllParametersSetted\":true,\"fParams\":[{\"$pair\":\"pair<TString,int,TFormulaParamOrder>\",\"first\":\"p0\",\"second\":0},{\"$pair\":\"pair<TString,int,TFormulaParamOrder>\",\"first\":\"p1\",\"second\":1}],\"fFormula\":\"[p0]+[p1]*log(x)\",\"fNdim\":1,\"fLinearParts\":[],\"fVectorized\":false},\"fParams\":null,\"fComposition_ptr\":null}],\"opt\":[\"\"]},\"fHistogram\":{\"_typename\":\"TH1F\",\"fUniqueID\":0,\"fBits\":50332160,\"fName\":\"Graph\",\"fTitle\":\"Graph\",\"fLineColor\":602,\"fLineStyle\":1,\"fLineWidth\":1,\"fFillColor\":0,\"fFillStyle\":1001,\"fMarkerColor\":1,\"fMarkerStyle\":1,\"fMarkerSize\":1,\"fNcells\":102,\"fXaxis\":{\"_typename\":\"TAxis\",\"fUniqueID\":0,\"fBits\":50331648,\"fName\":\"xaxis\",\"fTitle\":\"\",\"fNdivisions\":510,\"fAxisColor\":1,\"fLabelColor\":1,\"fLabelFont\":42,\"fLabelOffset\":0.005,\"fLabelSize\":0.035,\"fTickLength\":0.03,\"fTitleOffset\":1,\"fTitleSize\":0.035,\"fTitleColor\":1,\"fTitleFont\":42,\"fNbins\":100,\"fXmin\":19.4666024265968,\"fXmax\":480.285624596095,\"fXbins\":[],\"fFirst\":0,\"fLast\":0,\"fBits2\":0,\"fTimeDisplay\":false,\"fTimeFormat\":\"\",\"fLabels\":null,\"fModLabs\":null},\"fYaxis\":{\"_typename\":\"TAxis\",\"fUniqueID\":0,\"fBits\":50331648,\"fName\":\"yaxis\",\"fTitle\":\"\",\"fNdivisions\":510,\"fAxisColor\":1,\"fLabelColor\":1,\"fLabelFont\":42,\"fLabelOffset\":0.005,\"fLabelSize\":0.035,\"fTickLength\":0.03,\"fTitleOffset\":0,\"fTitleSize\":0.035,\"fTitleColor\":1,\"fTitleFont\":42,\"fNbins\":1,\"fXmin\":5.43381080720303,\"fXmax\":29.9359849853625,\"fXbins\":[],\"fFirst\":0,\"fLast\":0,\"fBits2\":0,\"fTimeDisplay\":false,\"fTimeFormat\":\"\",\"fLabels\":null,\"fModLabs\":null},\"fZaxis\":{\"_typename\":\"TAxis\",\"fUniqueID\":0,\"fBits\":50331648,\"fName\":\"zaxis\",\"fTitle\":\"\",\"fNdivisions\":510,\"fAxisColor\":1,\"fLabelColor\":1,\"fLabelFont\":42,\"fLabelOffset\":0.005,\"fLabelSize\":0.035,\"fTickLength\":0.03,\"fTitleOffset\":1,\"fTitleSize\":0.035,\"fTitleColor\":1,\"fTitleFont\":42,\"fNbins\":1,\"fXmin\":0,\"fXmax\":1,\"fXbins\":[],\"fFirst\":0,\"fLast\":0,\"fBits2\":0,\"fTimeDisplay\":false,\"fTimeFormat\":\"\",\"fLabels\":null,\"fModLabs\":null},\"fBarOffset\":0,\"fBarWidth\":1000,\"fEntries\":0,\"fTsumw\":0,\"fTsumw2\":0,\"fTsumwx\":0,\"fTsumwx2\":0,\"fMaximum\":29.9359849853625,\"fMinimum\":5.43381080720303,\"fNormFactor\":0,\"fContour\":[],\"fSumw2\":[],\"fOption\":\"\",\"fFunctions\":{\"_typename\":\"TList\",\"name\":\"TList\",\"arr\":[],\"opt\":[]},\"fBufferSize\":0,\"fBuffer\":[],\"fBinStatErrOpt\":0,\"fStatOverflows\":2,\"fArray\":[0,0,0,0,0,0,0,0,0,0,0,0,0,0,0,0,0,0,0,0,0,0,0,0,0,0,0,0,0,0,0,0,0,0,0,0,0,0,0,0,0,0,0,0,0,0,0,0,0,0,0,0,0,0,0,0,0,0,0,0,0,0,0,0,0,0,0,0,0,0,0,0,0,0,0,0,0,0,0,0,0,0,0,0,0,0,0,0,0,0,0,0,0,0,0,0,0,0,0,0,0,0]},\"fMinimum\":-1111,\"fMaximum\":-1111,\"fEX\":[0.0113779468227139,0.0094506412235402,0.0141843786808833,0.00119957420491676,0.0362528037267261,0.244252948138731,2.2539415496386],\"fEY\":[0.0561938393437002,0.0222069063055792,0.0335641365891134,0.00490311208195929,0.0301205221435972,0.247510098625649,1.03878574525972]},{\"_typename\":\"TGraph\",\"fUniqueID\":0,\"fBits\":50332680,\"fName\":\"Graph\",\"fTitle\":\"Graph\",\"fLineColor\":600,\"fLineStyle\":1,\"fLineWidth\":1,\"fFillColor\":0,\"fFillStyle\":1000,\"fMarkerColor\":600,\"fMarkerStyle\":24,\"fMarkerSize\":1,\"fNpoints\":7,\"fX\":[21.495743603149,48.144128626817,71.7698763853639,91.2248168615292,117.04675905583,240.79880357157,438.882992197948],\"fY\":[8.28121791048814,13.8180926969397,16.991449484653,18.9425103765487,20.7529497037954,26.0509341018552,30.1225034709613],\"fFunctions\":{\"_typename\":\"TList\",\"name\":\"TList\",\"arr\":[],\"opt\":[]},\"fHistogram\":{\"_typename\":\"TH1F\",\"fUniqueID\":0,\"fBits\":50332160,\"fName\":\"Graph\",\"fTitle\":\"Graph\",\"fLineColor\":602,\"fLineStyle\":1,\"fLineWidth\":1,\"fFillColor\":0,\"fFillStyle\":1001,\"fMarkerColor\":1,\"fMarkerStyle\":1,\"fMarkerSize\":1,\"fNcells\":102,\"fXaxis\":{\"_typename\":\"TAxis\",\"fUniqueID\":0,\"fBits\":50331648,\"fName\":\"xaxis\",\"fTitle\":\"\",\"fNdivisions\":510,\"fAxisColor\":1,\"fLabelColor\":1,\"fLabelFont\":42,\"fLabelOffset\":0.005,\"fLabelSize\":0.035,\"fTickLength\":0.03,\"fTitleOffset\":1,\"fTitleSize\":0.035,\"fTitleColor\":1,\"fTitleFont\":42,\"fNbins\":100,\"fXmin\":19.3461692428341,\"fXmax\":480.621717057428,\"fXbins\":[],\"fFirst\":0,\"fLast\":0,\"fBits2\":0,\"fTimeDisplay\":false,\"fTimeFormat\":\"\",\"fLabels\":null,\"fModLabs\":null},\"fYaxis\":{\"_typename\":\"TAxis\",\"fUniqueID\":0,\"fBits\":50331648,\"fName\":\"yaxis\",\"fTitle\":\"\",\"fNdivisions\":510,\"fAxisColor\":1,\"fLabelColor\":1,\"fLabelFont\":42,\"fLabelOffset\":0.005,\"fLabelSize\":0.035,\"fTickLength\":0.03,\"fTitleOffset\":0,\"fTitleSize\":0.035,\"fTitleColor\":1,\"fTitleFont\":42,\"fNbins\":1,\"fXmin\":6.09708935444082,\"fXmax\":32.3066320270086,\"fXbins\":[],\"fFirst\":0,\"fLast\":0,\"fBits2\":0,\"fTimeDisplay\":false,\"fTimeFormat\":\"\",\"fLabels\":null,\"fModLabs\":null},\"fZaxis\":{\"_typename\":\"TAxis\",\"fUniqueID\":0,\"fBits\":50331648,\"fName\":\"zaxis\",\"fTitle\":\"\",\"fNdivisions\":510,\"fAxisColor\":1,\"fLabelColor\":1,\"fLabelFont\":42,\"fLabelOffset\":0.005,\"fLabelSize\":0.035,\"fTickLength\":0.03,\"fTitleOffset\":1,\"fTitleSize\":0.035,\"fTitleColor\":1,\"fTitleFont\":42,\"fNbins\":1,\"fXmin\":0,\"fXmax\":1,\"fXbins\":[],\"fFirst\":0,\"fLast\":0,\"fBits2\":0,\"fTimeDisplay\":false,\"fTimeFormat\":\"\",\"fLabels\":null,\"fModLabs\":null},\"fBarOffset\":0,\"fBarWidth\":1000,\"fEntries\":0,\"fTsumw\":0,\"fTsumw2\":0,\"fTsumwx\":0,\"fTsumwx2\":0,\"fMaximum\":32.3066320270086,\"fMinimum\":6.09708935444082,\"fNormFactor\":0,\"fContour\":[],\"fSumw2\":[],\"fOption\":\"\",\"fFunctions\":{\"_typename\":\"TList\",\"name\":\"TList\",\"arr\":[],\"opt\":[]},\"fBufferSize\":0,\"fBuffer\":[],\"fBinStatErrOpt\":0,\"fStatOverflows\":2,\"fArray\":[0,0,0,0,0,0,0,0,0,0,0,0,0,0,0,0,0,0,0,0,0,0,0,0,0,0,0,0,0,0,0,0,0,0,0,0,0,0,0,0,0,0,0,0,0,0,0,0,0,0,0,0,0,0,0,0,0,0,0,0,0,0,0,0,0,0,0,0,0,0,0,0,0,0,0,0,0,0,0,0,0,0,0,0,0,0,0,0,0,0,0,0,0,0,0,0,0,0,0,0,0,0]},\"fMinimum\":-1111,\"fMaximum\":-1111},{\"_typename\":\"TPaveText\",\"fUniqueID\":0,\"fBits\":50331657,\"fLineColor\":1,\"fLineStyle\":1,\"fLineWidth\":1,\"fFillColor\":0,\"fFillStyle\":0,\"fX1\":1.72205595625594,\"fY1\":55.9549832022652,\"fX2\":2.75506529846372,\"fY2\":60.9375007590279,\"fX1NDC\":0.333191964285714,\"fY1NDC\":0.915279725048092,\"fX2NDC\":0.666808035714286,\"fY2NDC\":0.995000004768372,\"fBorderSize\":0,\"fInit\":1,\"fShadowColor\":1,\"fCornerRadius\":0,\"fOption\":\"blNDC\",\"fName\":\"title\",\"fTextAngle\":0,\"fTextSize\":0,\"fTextAlign\":22,\"fTextColor\":1,\"fTextFont\":42,\"fLabel\":\"\",\"fLongest\":23,\"fMargin\":0.05,\"fLines\":{\"_typename\":\"TList\",\"name\":\"TList\",\"arr\":[{\"_typename\":\"TLatex\",\"fUniqueID\":0,\"fBits\":50331648,\"fName\":\"\",\"fTitle\":\"Dilepton p_{T} vs. Mass\",\"fTextAngle\":0,\"fTextSize\":0,\"fTextAlign\":0,\"fTextColor\":0,\"fTextFont\":0,\"fX\":0,\"fY\":0,\"fLineColor\":1,\"fLineStyle\":1,\"fLineWidth\":2,\"fLimitFactorSize\":3,\"fOriginSize\":0.0677622407674789}],\"opt\":[\"\"]}}],\"opt\":[\"\",\"ap\",\"p \",\"p \",\"p \",\"blNDC\"]},\"fExecs\":null,\"fName\":\"PtVsMass\",\"fTitle\":\"PtVsMass\",\"fNumPaletteColor\":0,\"fNextPaletteColor\":0,\"fDISPLAY\":\"$DISPLAY\",\"fDoubleBuffer\":0,\"fRetained\":true,\"fXsizeUser\":0,\"fYsizeUser\":0,\"fXsizeReal\":20,\"fYsizeReal\":13.33333,\"fWindowTopX\":0,\"fWindowTopY\":0,\"fWindowWidth\":0,\"fWindowHeight\":0,\"fCw\":896,\"fCh\":572,\"fCatt\":{\"_typename\":\"TAttCanvas\",\"fXBetween\":2,\"fYBetween\":2,\"fTitleFromTop\":1.2,\"fXdate\":0.2,\"fYdate\":0.3,\"fAdate\":1},\"kMoveOpaque\":true,\"kResizeOpaque\":true,\"fHighLightColor\":2,\"fBatch\":true,\"kShowEventStatus\":false,\"kAutoExec\":true,\"kMenuBar\":true});\n",
       "       Core.draw(\"root_plot_3\", obj, \"\");\n",
       "     }\n",
       " );\n",
       "</script>\n"
      ],
      "text/plain": [
       "<IPython.core.display.HTML object>"
      ]
     },
     "metadata": {},
     "output_type": "display_data"
    }
   ],
   "source": [
    "gr = rt.TGraph(nBins, meanMass, meanPt)\n",
    "grUnf = rt.TGraphErrors(nBins, meanMassUnf, meanPtUnf, meanMassUnfStatErr, meanPtUnfStatErr)\n",
    "grFSRUnf = rt.TGraphErrors(nBins, meanMassFSRUnf, meanPtFSRUnf, meanMassFSRUnfStatErr, meanPtFSRUnfStatErr)\n",
    "grMC = rt.TGraph(nBins, meanMassFSRUnfMC, meanPtFSRUnfMC)\n",
    "\n",
    "gr.SetTitle(\"Dilepton p_{T} vs. Mass\")\n",
    "gr.Draw(\"AP\")\n",
    "grUnf.Draw(\"P SAME\")\n",
    "grFSRUnf.Draw(\"P SAME\")\n",
    "grMC.Draw(\"P SAME\")\n",
    "gr.SetMarkerStyle(20)\n",
    "gr.SetMarkerSize(1)\n",
    "grUnf.SetMarkerStyle(20)\n",
    "grUnf.SetMarkerSize(1)\n",
    "grUnf.SetLineColor(rt.kRed)\n",
    "grUnf.SetMarkerColor(rt.kRed)\n",
    "grFSRUnf.SetMarkerStyle(20)\n",
    "grFSRUnf.SetMarkerSize(1)\n",
    "grFSRUnf.SetLineColor(rt.kBlue)\n",
    "grFSRUnf.SetMarkerColor(rt.kBlue)\n",
    "grMC.SetMarkerStyle(24)\n",
    "grMC.SetMarkerSize(1)\n",
    "grMC.SetLineColor(rt.kBlue)\n",
    "grMC.SetMarkerColor(rt.kBlue)\n",
    "gr.GetYaxis().SetRangeUser(5., 55.)\n",
    "gr.GetXaxis().SetLimits(10., 3000.)\n",
    "\n",
    "fitLinear = rt.TF1(\"f_lepton\", \"[0]+[1]*log(x)\", 20., 900.);\n",
    "fitLinear.SetLineStyle(2)\n",
    "fitLinear.SetLineColor(rt.kBlue)\n",
    "fitLinear.SetLineWidth(1)\n",
    "grFSRUnf.Fit(fitLinear, \"R0\")\n",
    "c_PtVsMass.Draw()"
   ]
  },
  {
   "cell_type": "code",
   "execution_count": 36,
   "metadata": {},
   "outputs": [
    {
     "data": {
      "text/plain": [
       "5"
      ]
     },
     "execution_count": 36,
     "metadata": {},
     "output_type": "execute_result"
    }
   ],
   "source": [
    "fitLinear.GetNDF()"
   ]
  },
  {
   "cell_type": "markdown",
   "metadata": {},
   "source": [
    "## Break down the current mass bin [81:101] into  [81:91] and [91:101]"
   ]
  },
  {
   "cell_type": "code",
   "execution_count": null,
   "metadata": {},
   "outputs": [],
   "source": []
  }
 ],
 "metadata": {
  "kernelspec": {
   "display_name": "Python 3",
   "language": "python",
   "name": "python3"
  },
  "language_info": {
   "codemirror_mode": {
    "name": "ipython",
    "version": 3
   },
   "file_extension": ".py",
   "mimetype": "text/x-python",
   "name": "python",
   "nbconvert_exporter": "python",
   "pygments_lexer": "ipython3",
   "version": "3.6.8"
  }
 },
 "nbformat": 4,
 "nbformat_minor": 4
}
