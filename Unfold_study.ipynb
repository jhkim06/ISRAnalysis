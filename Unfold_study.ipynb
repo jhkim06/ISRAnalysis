{
 "cells": [
  {
   "cell_type": "code",
   "execution_count": 1,
   "metadata": {},
   "outputs": [
    {
     "name": "stdout",
     "output_type": "stream",
     "text": [
      "Welcome to JupyROOT 6.14/04\n"
     ]
    }
   ],
   "source": [
    "import ROOT as rt\n",
    "import os\n",
    "import sys"
   ]
  },
  {
   "cell_type": "code",
   "execution_count": 2,
   "metadata": {},
   "outputs": [
    {
     "data": {
      "text/html": [
       "<style>.container { width:100% !important; }</style>"
      ],
      "text/plain": [
       "<IPython.core.display.HTML object>"
      ]
     },
     "metadata": {},
     "output_type": "display_data"
    }
   ],
   "source": [
    "from IPython.core.display import display, HTML\n",
    "display(HTML(\"<style>.container { width:100% !important; }</style>\"))"
   ]
  },
  {
   "cell_type": "code",
   "execution_count": 3,
   "metadata": {},
   "outputs": [],
   "source": [
    "def setUnfoldBkgs(unfold_class, hfile_path, isSys, syst_name, nthSys, nTotSys, year):\n",
    "    \n",
    "    bkgList = {\"WJets_MG\": \"WJets\", \\\n",
    "               \"WW_pythia\": \"EWK\", \"WZ_pythia\": \"EWK\", \"ZZ_pythia\": \"EWK\", \\\n",
    "               \"DYJets10to50ToTauTau\":\"EWK\", \"DYJetsToTauTau\":\"EWK\", \\\n",
    "               \"TTLL_powheg\": \"Top\", \"SingleTop_tW_top_Incl\": \"Top\", \"SingleTop_tW_antitop_Incl\": \"Top\"}\n",
    "    \n",
    "    #bkgList = {\"WJets_MG\": \"WJets\", \\\n",
    "    #           \"WW_pythia\": \"EWK\", \"WZ_pythia\": \"EWK\", \"ZZ_pythia\": \"EWK\", \\\n",
    "    #           \"DYJets10to50ToTauTau\":\"EWK\", \"DYJetsToTauTau\":\"EWK\", \\\n",
    "    #           \"TTLL_powheg\": \"Top\"}\n",
    "    \n",
    "    for bkg in bkgList.items():\n",
    "        #unfold_class.subBkgs(\"Pt\", hfile_path, bkg, isSys, syst_name, nTotSys, nthSys, \"Detector\")\n",
    "        unfold_class.subBkgs(hfile_path, bkg, isSys, syst_name, nTotSys, nthSys, \"Detector\")"
   ]
  },
  {
   "cell_type": "code",
   "execution_count": 4,
   "metadata": {},
   "outputs": [
    {
     "name": "stdout",
     "output_type": "stream",
     "text": [
      "{'matrix': 'inFiles/2016/electron/DY.root', 'fsr_matrix': 'inFiles/2016/electron/DY_FSR.root', 'hist': 'inFiles/2016/electron/unfold_input.root'}\n"
     ]
    }
   ],
   "source": [
    "year    = '2016'\n",
    "channel = 'electron'\n",
    "doSys   = True\n",
    "\n",
    "dy10to50Name = \"DYJets10to50_MG\"\n",
    "if year == \"2016\":\n",
    "    dy10to50Name = \"DYJets10to50\"\n",
    "\n",
    "# N_rec == N_gen or N_rec == 2 * N_gen\n",
    "# Detector_Dressed_DRp1_Fiducial\n",
    "# Dressed_DRp1_Dressed_DR4PI_Fiducial\n",
    "# Dressed_DRp1_Dressed_DR4PI_FullPhase\n",
    "# Detector_Dressed_DR4PI_Fiducial\n",
    "# Detector_Dressed_DR4PI_FullPhase\n",
    "\n",
    "matrix_detector = 'Detector_Dressed_DRp1_Fiducial' # Directory path \n",
    "matrix_detector_ = 'Detector_Dressed_DRp1'         # Histogram name\n",
    "matrix_fsr = 'Dressed_DRp1_Dressed_DR4PI_FullPhase'\n",
    "matrix_fsr_ = 'Dressed_DRp1_Dressed_DR4PI'\n",
    "\n",
    "# One step unfolding\n",
    "matrix_det_fsr = 'Detector_Dressed_DR4PI_FullPhase'\n",
    "matrix_det_fsr_ = 'Detector_Dressed_DR4PI'\n",
    "\n",
    "# Set output directory\n",
    "outDir = 'output/'+year+'/new_'+channel+'/'\n",
    "inFhistTxt = 'inFiles/'+year+'/'+channel+'/fhist.txt'\n",
    "\n",
    "# Make output directory\n",
    "if not os.path.exists(outDir):\n",
    "    os.makedirs(outDir)\n",
    "\n",
    "# Read text file including root file paths for unfolding\n",
    "filePaths = open(inFhistTxt, 'r')\n",
    "unfoldInputDic = {}\n",
    "\n",
    "for path in filePaths:\n",
    "    modifiedPath = path.lstrip(' ').rstrip(' ').rstrip('\\n')\n",
    "    unfoldInputDic[modifiedPath.split()[1]] = modifiedPath.split()[2]\n",
    "    \n",
    "print(unfoldInputDic)"
   ]
  },
  {
   "cell_type": "code",
   "execution_count": 5,
   "metadata": {},
   "outputs": [],
   "source": [
    "import pyScripts.unfoldUtil as unfoldutil\n",
    "\n",
    "# Simple unfolding tests\n",
    "# Unfolding without systematics\n",
    "# Closure tests"
   ]
  },
  {
   "cell_type": "code",
   "execution_count": 6,
   "metadata": {},
   "outputs": [
    {
     "name": "stdout",
     "output_type": "stream",
     "text": [
      "ISRUnfold set!\n",
      "ISRUnfold set!\n",
      "ISRUnfold set!\n",
      "ISRUnfold set!\n"
     ]
    }
   ],
   "source": [
    "bias = 1.0\n",
    "\n",
    "# Create ISRUnfold class\n",
    "#                                              # unfold mode  \n",
    "unfold_det = rt.ISRUnfold(channel, int(year), int(0))\n",
    "unfold_det.setOutputBaseDir(outDir)\n",
    "unfold_det.setBias(bias)\n",
    "\n",
    "unfold_fsr = rt.ISRUnfold(channel, int(year), int(0))\n",
    "unfold_fsr.setOutputBaseDir(outDir)\n",
    "unfold_fsr.setBias(bias)\n",
    "\n",
    "# To test one-step unfolding result\n",
    "unfold_oneStep = rt.ISRUnfold(channel, int(year), int(0))\n",
    "unfold_oneStep.setOutputBaseDir(outDir)\n",
    "unfold_oneStep.setBias(bias)\n",
    "\n",
    "# Closure\n",
    "unfold_closure = rt.ISRUnfold(channel, int(year), int(0))\n",
    "unfold_closure.setOutputBaseDir(outDir)\n",
    "unfold_closure.setBias(bias)"
   ]
  },
  {
   "cell_type": "code",
   "execution_count": 7,
   "metadata": {
    "scrolled": false
   },
   "outputs": [
    {
     "name": "stdout",
     "output_type": "stream",
     "text": [
      "ISRUnfold::setNomResMatrix set response matrix...\n",
      "0 th mass bin edge: 50\n",
      "1 th mass bin edge: 64\n",
      "2 th mass bin edge: 81\n",
      "3 th mass bin edge: 101\n",
      "4 th mass bin edge: 200\n",
      "5 th mass bin edge: 320\n"
     ]
    },
    {
     "name": "stderr",
     "output_type": "stream",
     "text": [
      "Info in <TUnfoldV17::SetConstraint>: fConstraint=1\n",
      "Info in <TUnfoldV17::TUnfold>: underflow and overflow bin do not depend on the input data\n",
      "Info in <TUnfoldV17::TUnfold>: 70 input bins and 70 output bins\n",
      "Warning in <TUnfoldV17::TUnfold>: too few (ny=70) input bins for nx=70 output bins\n",
      "Info in <TUnfoldDensityV17::TUnfold>: *NOT* unfolding bin #0\n",
      "Info in <TUnfoldDensityV17::TUnfold>: *NOT* unfolding bin #71\n"
     ]
    }
   ],
   "source": [
    "# Set response matrix: detector unfolding\n",
    "unfold_det.setNomResMatrix(\"Pt\", unfoldInputDic['matrix'], matrix_detector, matrix_detector_)"
   ]
  },
  {
   "cell_type": "code",
   "execution_count": 8,
   "metadata": {
    "scrolled": true
   },
   "outputs": [
    {
     "name": "stdout",
     "output_type": "stream",
     "text": [
      "ISRUnfold::setNomResMatrix set response matrix...\n",
      "ISRUnfold::setMassBindEdges massBinEdges already set.\n"
     ]
    },
    {
     "name": "stderr",
     "output_type": "stream",
     "text": [
      "Info in <TUnfoldV17::SetConstraint>: fConstraint=1\n",
      "Info in <TUnfoldV17::TUnfold>: underflow and overflow bin do not depend on the input data\n",
      "Info in <TUnfoldV17::TUnfold>: 86 input bins and 86 output bins\n",
      "Warning in <TUnfoldV17::TUnfold>: too few (ny=86) input bins for nx=86 output bins\n",
      "Info in <TUnfoldDensityV17::TUnfold>: *NOT* unfolding bin #0\n",
      "Info in <TUnfoldDensityV17::TUnfold>: *NOT* unfolding bin #87\n"
     ]
    }
   ],
   "source": [
    "unfold_det.setNomResMatrix(\"Mass\", unfoldInputDic['matrix'], matrix_detector, matrix_detector_)"
   ]
  },
  {
   "cell_type": "code",
   "execution_count": 9,
   "metadata": {
    "scrolled": false
   },
   "outputs": [
    {
     "name": "stdout",
     "output_type": "stream",
     "text": [
      "ISRUnfold::setNomResMatrix set response matrix...\n",
      "0 th mass bin edge: 50\n",
      "1 th mass bin edge: 64\n",
      "2 th mass bin edge: 81\n",
      "3 th mass bin edge: 101\n",
      "4 th mass bin edge: 200\n",
      "5 th mass bin edge: 320\n",
      "ISRUnfold::setNomResMatrix set response matrix...\n",
      "ISRUnfold::setMassBindEdges massBinEdges already set.\n"
     ]
    },
    {
     "name": "stderr",
     "output_type": "stream",
     "text": [
      "Info in <TUnfoldV17::SetConstraint>: fConstraint=1\n",
      "Info in <TUnfoldV17::TUnfold>: underflow and overflow bin do not depend on the input data\n",
      "Info in <TUnfoldV17::TUnfold>: 70 input bins and 70 output bins\n",
      "Warning in <TUnfoldV17::TUnfold>: too few (ny=70) input bins for nx=70 output bins\n",
      "Info in <TUnfoldDensityV17::TUnfold>: *NOT* unfolding bin #0\n",
      "Info in <TUnfoldDensityV17::TUnfold>: *NOT* unfolding bin #71\n",
      "Info in <TUnfoldV17::SetConstraint>: fConstraint=1\n",
      "Info in <TUnfoldV17::TUnfold>: underflow and overflow bin do not depend on the input data\n",
      "Info in <TUnfoldV17::TUnfold>: 86 input bins and 86 output bins\n",
      "Warning in <TUnfoldV17::TUnfold>: too few (ny=86) input bins for nx=86 output bins\n",
      "Info in <TUnfoldDensityV17::TUnfold>: *NOT* unfolding bin #0\n",
      "Info in <TUnfoldDensityV17::TUnfold>: *NOT* unfolding bin #87\n"
     ]
    }
   ],
   "source": [
    "# One step unfolding\n",
    "unfold_oneStep.setNomResMatrix(\"Pt\", unfoldInputDic['matrix'], matrix_det_fsr, matrix_det_fsr_)\n",
    "unfold_oneStep.setNomResMatrix(\"Mass\", unfoldInputDic['matrix'], matrix_det_fsr, matrix_det_fsr_)"
   ]
  },
  {
   "cell_type": "code",
   "execution_count": 10,
   "metadata": {},
   "outputs": [
    {
     "name": "stdout",
     "output_type": "stream",
     "text": [
      "ISRUnfold::setNomResMatrix set response matrix...\n",
      "0 th mass bin edge: 50\n",
      "1 th mass bin edge: 64\n",
      "2 th mass bin edge: 81\n",
      "3 th mass bin edge: 101\n",
      "4 th mass bin edge: 200\n",
      "5 th mass bin edge: 320\n",
      "ISRUnfold::setNomResMatrix set response matrix...\n",
      "ISRUnfold::setMassBindEdges massBinEdges already set.\n"
     ]
    },
    {
     "name": "stderr",
     "output_type": "stream",
     "text": [
      "Info in <TUnfoldV17::SetConstraint>: fConstraint=1\n",
      "Info in <TUnfoldV17::TUnfold>: underflow and overflow bin do not depend on the input data\n",
      "Info in <TUnfoldV17::TUnfold>: 70 input bins and 70 output bins\n",
      "Warning in <TUnfoldV17::TUnfold>: too few (ny=70) input bins for nx=70 output bins\n",
      "Info in <TUnfoldDensityV17::TUnfold>: *NOT* unfolding bin #0\n",
      "Info in <TUnfoldDensityV17::TUnfold>: *NOT* unfolding bin #71\n",
      "Info in <TUnfoldV17::SetConstraint>: fConstraint=1\n",
      "Info in <TUnfoldV17::TUnfold>: underflow and overflow bin do not depend on the input data\n",
      "Info in <TUnfoldV17::TUnfold>: 86 input bins and 86 output bins\n",
      "Warning in <TUnfoldV17::TUnfold>: too few (ny=86) input bins for nx=86 output bins\n",
      "Info in <TUnfoldDensityV17::TUnfold>: *NOT* unfolding bin #0\n",
      "Info in <TUnfoldDensityV17::TUnfold>: *NOT* unfolding bin #87\n"
     ]
    }
   ],
   "source": [
    "unfold_closure.setNomResMatrix(\"Pt\", unfoldInputDic['matrix'], matrix_detector, matrix_detector_)\n",
    "unfold_closure.setNomResMatrix(\"Mass\", unfoldInputDic['matrix'], matrix_detector, matrix_detector_)"
   ]
  },
  {
   "cell_type": "code",
   "execution_count": 11,
   "metadata": {
    "scrolled": false
   },
   "outputs": [
    {
     "name": "stdout",
     "output_type": "stream",
     "text": [
      "ISRUnfold::setNomResMatrix set response matrix...\n",
      "0 th mass bin edge: 50\n",
      "1 th mass bin edge: 64\n",
      "2 th mass bin edge: 81\n",
      "3 th mass bin edge: 101\n",
      "4 th mass bin edge: 200\n",
      "5 th mass bin edge: 320\n",
      "ISRUnfold::setNomResMatrix set response matrix...\n",
      "ISRUnfold::setMassBindEdges massBinEdges already set.\n"
     ]
    },
    {
     "name": "stderr",
     "output_type": "stream",
     "text": [
      "Info in <TUnfoldV17::SetConstraint>: fConstraint=1\n",
      "Info in <TUnfoldV17::TUnfold>: underflow and overflow bin do not depend on the input data\n",
      "Info in <TUnfoldV17::TUnfold>: 70 input bins and 70 output bins\n",
      "Warning in <TUnfoldV17::TUnfold>: too few (ny=70) input bins for nx=70 output bins\n",
      "Info in <TUnfoldDensityV17::TUnfold>: *NOT* unfolding bin #0\n",
      "Info in <TUnfoldDensityV17::TUnfold>: *NOT* unfolding bin #71\n",
      "Info in <TUnfoldV17::SetConstraint>: fConstraint=1\n",
      "Info in <TUnfoldV17::TUnfold>: underflow and overflow bin do not depend on the input data\n",
      "Info in <TUnfoldV17::TUnfold>: 86 input bins and 86 output bins\n",
      "Warning in <TUnfoldV17::TUnfold>: too few (ny=86) input bins for nx=86 output bins\n",
      "Info in <TUnfoldDensityV17::TUnfold>: *NOT* unfolding bin #0\n",
      "Info in <TUnfoldDensityV17::TUnfold>: *NOT* unfolding bin #87\n"
     ]
    }
   ],
   "source": [
    "# Set FSR unfolding\n",
    "unfold_fsr.setNomResMatrix(\"Pt\", unfoldInputDic['fsr_matrix'], matrix_fsr, matrix_fsr_, True)\n",
    "unfold_fsr.setNomResMatrix(\"Mass\", unfoldInputDic['fsr_matrix'], matrix_fsr, matrix_fsr_, True)"
   ]
  },
  {
   "cell_type": "code",
   "execution_count": 12,
   "metadata": {},
   "outputs": [],
   "source": [
    "%jsroot on"
   ]
  },
  {
   "cell_type": "code",
   "execution_count": 13,
   "metadata": {},
   "outputs": [],
   "source": [
    "dataHistName = \"histo_DoubleEGnominal\"\n",
    "if year == \"2018\":\n",
    "    dataHistName = \"histo_EGammanominal\"\n",
    "dyHistName = \"histo_DYJetsToEEnominal\"\n",
    "\n",
    "unfold_det.setUnfInput(\"Pt\",   unfoldInputDic['hist'], \"Detector\", dataHistName, False, \"nominal\", 0)\n",
    "unfold_det.setUnfInput(\"Mass\", unfoldInputDic['hist'], \"Detector\", dataHistName, False, \"nominal\", 0)\n",
    "setUnfoldBkgs(unfold_det, unfoldInputDic['hist'], False, \"nominal\", 0, -1, year)\n",
    "\n",
    "unfold_oneStep.setUnfInput(\"Pt\",   unfoldInputDic['hist'], \"Detector\", dataHistName, False, \"nominal\", 0)\n",
    "unfold_oneStep.setUnfInput(\"Mass\", unfoldInputDic['hist'], \"Detector\", dataHistName, False, \"nominal\", 0)\n",
    "setUnfoldBkgs(unfold_oneStep, unfoldInputDic['hist'], False, \"nominal\", 0, -1, year)\n",
    "\n",
    "unfold_closure.setUnfInput(\"Pt\",   unfoldInputDic['hist'], \"Detector\", dyHistName, False, \"nominal\", 0)\n",
    "unfold_closure.setUnfInput(\"Mass\", unfoldInputDic['hist'], \"Detector\", dyHistName, False, \"nominal\", 0)"
   ]
  },
  {
   "cell_type": "code",
   "execution_count": 14,
   "metadata": {},
   "outputs": [],
   "source": [
    "fakeList = {\"DYJets\": \"DY\", dy10to50Name:\"DY\"}"
   ]
  },
  {
   "cell_type": "code",
   "execution_count": 15,
   "metadata": {},
   "outputs": [],
   "source": [
    "for fake in fakeList.items():\n",
    "    unfold_closure.subBkgs(unfoldInputDic['matrix'], fake, False, \"\", 0, -1, \"detector_level_DY_Fake\")\n",
    "    unfold_det.subBkgs(unfoldInputDic['matrix'], fake, False, \"\", 0, -1, \"detector_level_DY_Fake\")\n",
    "    #unfold_oneStep.subBkgs(unfoldInputDic['matrix'], fake, False, \"\", 0, -1, \"detector_level_DY_Fake\")"
   ]
  },
  {
   "cell_type": "code",
   "execution_count": 16,
   "metadata": {
    "scrolled": false
   },
   "outputs": [
    {
     "name": "stderr",
     "output_type": "stream",
     "text": [
      "Warning in <TUnfoldDensityV17::GetInputInverseEmatrix>: number of parameters 70 = input rank 70. Problem is ill posed\n",
      "Warning in <TUnfoldDensityV17::GetInputInverseEmatrix>: number of parameters 86 = input rank 86. Problem is ill posed\n"
     ]
    }
   ],
   "source": [
    "# Do unfold Need to understand the error meassages below!\n",
    "unfold_det.doISRUnfold(False)"
   ]
  },
  {
   "cell_type": "code",
   "execution_count": 17,
   "metadata": {},
   "outputs": [],
   "source": [
    "# Set input for FSR unfolding using detector unfold output\n",
    "unfold_fsr.setUnfInput(unfold_det, \"Pt\", False, \"\", 0)\n",
    "unfold_fsr.setUnfInput(unfold_det, \"Mass\", False, \"\", 0)"
   ]
  },
  {
   "cell_type": "code",
   "execution_count": 18,
   "metadata": {},
   "outputs": [
    {
     "name": "stderr",
     "output_type": "stream",
     "text": [
      "Warning in <TUnfoldDensityV17::GetInputInverseEmatrix>: number of parameters 70 = input rank 70. Problem is ill posed\n",
      "Warning in <TUnfoldDensityV17::GetInputInverseEmatrix>: number of parameters 86 = input rank 86. Problem is ill posed\n"
     ]
    }
   ],
   "source": [
    "unfold_fsr.doISRUnfold(False)"
   ]
  },
  {
   "cell_type": "code",
   "execution_count": 19,
   "metadata": {},
   "outputs": [
    {
     "name": "stderr",
     "output_type": "stream",
     "text": [
      "Warning in <TUnfoldDensityV17::GetInputInverseEmatrix>: number of parameters 70 = input rank 70. Problem is ill posed\n",
      "Warning in <TUnfoldDensityV17::GetInputInverseEmatrix>: number of parameters 86 = input rank 86. Problem is ill posed\n"
     ]
    }
   ],
   "source": [
    "unfold_oneStep.doISRUnfold(False)"
   ]
  },
  {
   "cell_type": "code",
   "execution_count": 20,
   "metadata": {},
   "outputs": [
    {
     "name": "stderr",
     "output_type": "stream",
     "text": [
      "Warning in <TUnfoldDensityV17::GetInputInverseEmatrix>: number of parameters 70 = input rank 70. Problem is ill posed\n",
      "Warning in <TUnfoldDensityV17::GetInputInverseEmatrix>: number of parameters 86 = input rank 86. Problem is ill posed\n"
     ]
    }
   ],
   "source": [
    "unfold_closure.doISRUnfold(False)"
   ]
  },
  {
   "cell_type": "markdown",
   "metadata": {},
   "source": [
    "## Draw unfolded histograms"
   ]
  },
  {
   "cell_type": "code",
   "execution_count": 21,
   "metadata": {},
   "outputs": [],
   "source": [
    "# For mass distribution\n",
    "mass_steering = \"mass[UO];pt[UOC0]\"\n",
    "mass_useAxis = True\n",
    "\n",
    "# Get detector level DY MC hist\n",
    "hDYMC_detector = unfold_det.getRawHist(\"Mass\", unfoldInputDic['hist'], \"Detector\", dyHistName, \\\n",
    "                                        \"hDYMC_detctor\", mass_steering, mass_useAxis)\n",
    "\n",
    "hFakeDYMC_detector = unfold_det.getRawHist(\"Mass\", unfoldInputDic['matrix'], \"detector_level_DY_Fake\", \"histo_DYJetsnominal\", \\\n",
    "                                        \"hFakeDYMC_detctor\", mass_steering, mass_useAxis)\n",
    "hFakeDY10to50MC_detector = unfold_det.getRawHist(\"Mass\", unfoldInputDic['matrix'], \"detector_level_DY_Fake\", \"histo_\"+dy10to50Name+\"nominal\", \\\n",
    "                                        \"hFakeDY10to50MC_detctor\", mass_steering, mass_useAxis)\n",
    "hFakeDYMC_detector.Add(hFakeDY10to50MC_detector)\n",
    "hDYMC_detector.Add(hFakeDYMC_detector, -1)\n",
    "\n",
    "# Two-step from detector to pre-FSR\n",
    "hMassUnfoldedData = unfold_det.getDetUnfoldedHists(\"Mass\", \"hMassUnfoldedData\", mass_steering, mass_useAxis)\n",
    "hMassMCTruth = unfold_det.getMCHists(\"Mass\", \"hMassMCTruth\", mass_steering, mass_useAxis)\n",
    "hMassFSRUnfoldedData = unfold_fsr.getDetUnfoldedHists(\"Mass\", \"hMassFSRUnfoldedData\", mass_steering, mass_useAxis)\n",
    "hMassData = unfold_det.getDetHists(\"Mass\", \"hMassData\", mass_steering, mass_useAxis)\n",
    "hMassMCTruth_preFSR = unfold_fsr.getMCHists(\"Mass\", \"hMassMCTruth_preFSR\", mass_steering, mass_useAxis)\n",
    "\n",
    "# One-step \n",
    "hMassUnfoldedData_ = unfold_oneStep.getDetUnfoldedHists(\"Mass\", \"hMassUnfoldedData_\", mass_steering, mass_useAxis)\n",
    "hMassUnfoldedMC_ = unfold_oneStep.getMCHists(\"Mass\", \"hMassUnfoldedMC_\", mass_steering, mass_useAxis)\n",
    "\n",
    "# Closure (One-step)\n",
    "hMassUnfoldedMC_closure = unfold_closure.getDetUnfoldedHists(\"Mass\", \"hMassUnfoldedMC_closure\", mass_steering, mass_useAxis)\n",
    "\n",
    "# For pt distribution\n",
    "pt_steering = \"pt[UO];mass[UO]\"\n",
    "pt_useAxis = False\n",
    "\n",
    "hDYMCPt_detector = unfold_det.getRawHist(\"Pt\", unfoldInputDic['hist'], \"Detector\", dyHistName, \\\n",
    "                                        \"hDYMCPt_detctor\", pt_steering, pt_useAxis)\n",
    "hFakeDYMCPt_detector = unfold_det.getRawHist(\"Pt\", unfoldInputDic['matrix'], \"detector_level_DY_Fake\", \"histo_DYJetsnominal\", \\\n",
    "                                        \"hFakeDYMCPt_detctor\", pt_steering, pt_useAxis)\n",
    "hFakeDY10to50MCPt_detector = unfold_det.getRawHist(\"Pt\", unfoldInputDic['matrix'], \"detector_level_DY_Fake\", \"histo_\"+dy10to50Name+\"nominal\", \\\n",
    "                                        \"hFakeDY10to50MCPt_detctor\", pt_steering, pt_useAxis)\n",
    "hFakeDYMCPt_detector.Add(hFakeDY10to50MCPt_detector)\n",
    "hDYMCPt_detector.Add(hFakeDYMCPt_detector, -1)\n",
    "\n",
    "# Two-step from detector to pre-FSR\n",
    "hPtUnfoldedData = unfold_det.getDetUnfoldedHists(\"Pt\", \"hPtUnfoldedData\", pt_steering, pt_useAxis)\n",
    "hPtMCTruth = unfold_det.getMCHists(\"Pt\", \"hPtMCTruth\", pt_steering, pt_useAxis)\n",
    "hPtFSRUnfoldedData = unfold_fsr.getDetUnfoldedHists(\"Pt\", \"hPtFSRUnfoldedData\", pt_steering, pt_useAxis)\n",
    "hPtData = unfold_det.getDetHists(\"Pt\", \"hPtData\", pt_steering, pt_useAxis)\n",
    "hPtMCTruth_preFSR = unfold_fsr.getMCHists(\"Pt\", \"hPtMCTruth_preFSR\", pt_steering, pt_useAxis)\n",
    "\n",
    "# One-step\n",
    "hPtUnfoldedData_ = unfold_oneStep.getDetUnfoldedHists(\"Pt\", \"hPtUnfoldedData_\", pt_steering, pt_useAxis)\n",
    "hPtUnfoldedMC_ = unfold_oneStep.getMCHists(\"Pt\", \"hPtUnfoldedMC_\", pt_steering, pt_useAxis)\n",
    "\n",
    "# Closure (One-step)\n",
    "hPtUnfoldedMC_closure = unfold_closure.getDetUnfoldedHists(\"Pt\", \"hPtUnfoldedMC_closure\", pt_steering, pt_useAxis)\n",
    "hPtMCTruth_closure = unfold_closure.getMCHists(\"Pt\", \"hPtMCTruth_closure\", pt_steering, pt_useAxis)"
   ]
  },
  {
   "cell_type": "code",
   "execution_count": 22,
   "metadata": {},
   "outputs": [],
   "source": [
    "# Draw plot!\n",
    "c = rt.TCanvas(\"c\",\"c\", 50, 50, 2400, 1200)\n",
    "c.Divide(2,1);\n",
    "\n",
    "pad_mass = rt.TPad(\"pad_mass\", \"pad_mass\", 0, 0.3, 1, 1.0)\n",
    "ratio_mass = rt.TPad(\"ratio_mass\", \"raio_mass\", 0, 0.0, 1, 0.3)\n",
    "c.cd(1)\n",
    "pad_mass.Draw()\n",
    "c.cd(1)\n",
    "ratio_mass.Draw()\n",
    "\n",
    "pad_pt = rt.TPad(\"pad_pt\", \"pad_pt\", 0, 0.3, 1, 1.0)\n",
    "ratio_pt = rt.TPad(\"ratio_pt\", \"ratio_pt\", 0, 0.0, 1, 0.3)\n",
    "c.cd(2)\n",
    "pad_pt.SetLeftMargin(2.)\n",
    "pad_pt.Draw()\n",
    "c.cd(2)\n",
    "ratio_pt.Draw()"
   ]
  },
  {
   "cell_type": "code",
   "execution_count": 23,
   "metadata": {
    "scrolled": false
   },
   "outputs": [
    {
     "name": "stderr",
     "output_type": "stream",
     "text": [
      "Info in <TCanvas::Print>: png file Mass_Pt.png has been created\n"
     ]
    },
    {
     "data": {
      "text/html": [
       "\n",
       "<div id=\"root_plot_1\"\n",
       "     style=\"width: 2396px; height: 1172px\">\n",
       "</div>\n",
       "\n",
       "<script>\n",
       " requirejs.config({\n",
       "     paths: {\n",
       "       'JSRootCore' : 'https://root.cern.ch/js/notebook//scripts/JSRootCore',\n",
       "     }\n",
       "   });\n",
       " require(['JSRootCore'],\n",
       "     function(Core) {\n",
       "       var obj = Core.JSONR_unref({\"_typename\":\"TCanvas\",\"fUniqueID\":0,\"fBits\":53673992,\"fLineColor\":1,\"fLineStyle\":1,\"fLineWidth\":1,\"fFillColor\":0,\"fFillStyle\":1001,\"fLeftMargin\":0.1,\"fRightMargin\":0.1,\"fBottomMargin\":0.1,\"fTopMargin\":0.1,\"fXfile\":2,\"fYfile\":2,\"fAfile\":1,\"fXstat\":0.99,\"fYstat\":0.99,\"fAstat\":2,\"fFrameFillColor\":0,\"fFrameLineColor\":1,\"fFrameFillStyle\":1001,\"fFrameLineStyle\":1,\"fFrameLineWidth\":1,\"fFrameBorderSize\":1,\"fFrameBorderMode\":0,\"fX1\":0,\"fY1\":0,\"fX2\":1,\"fY2\":1,\"fXtoAbsPixelk\":5e-5,\"fXtoPixelk\":5e-5,\"fXtoPixel\":2396,\"fYtoAbsPixelk\":1172.00005,\"fYtoPixelk\":1172.00005,\"fYtoPixel\":-1172,\"fUtoAbsPixelk\":5e-5,\"fUtoPixelk\":5e-5,\"fUtoPixel\":2396,\"fVtoAbsPixelk\":1172.00005,\"fVtoPixelk\":1172,\"fVtoPixel\":-1172,\"fAbsPixeltoXk\":0,\"fPixeltoXk\":0,\"fPixeltoX\":4.17362270450751e-4,\"fAbsPixeltoYk\":1,\"fPixeltoYk\":0,\"fPixeltoY\":-8.53242320819113e-4,\"fXlowNDC\":0,\"fYlowNDC\":0,\"fXUpNDC\":0,\"fYUpNDC\":0,\"fWNDC\":1,\"fHNDC\":1,\"fAbsXlowNDC\":0,\"fAbsYlowNDC\":0,\"fAbsWNDC\":1,\"fAbsHNDC\":1,\"fUxmin\":0,\"fUymin\":0,\"fUxmax\":1,\"fUymax\":1,\"fTheta\":30,\"fPhi\":30,\"fAspectRatio\":0,\"fNumber\":0,\"fTickx\":0,\"fTicky\":0,\"fLogx\":0,\"fLogy\":0,\"fLogz\":0,\"fPadPaint\":0,\"fCrosshair\":0,\"fCrosshairPos\":0,\"fBorderSize\":2,\"fBorderMode\":0,\"fModified\":false,\"fGridx\":false,\"fGridy\":false,\"fAbsCoord\":false,\"fEditable\":true,\"fFixedAspectRatio\":false,\"fPrimitives\":{\"_typename\":\"TList\",\"name\":\"TList\",\"arr\":[{\"_typename\":\"TPad\",\"fUniqueID\":0,\"fBits\":50331657,\"fLineColor\":1,\"fLineStyle\":1,\"fLineWidth\":1,\"fFillColor\":0,\"fFillStyle\":1001,\"fLeftMargin\":0.1,\"fRightMargin\":0.1,\"fBottomMargin\":0.1,\"fTopMargin\":0.1,\"fXfile\":2,\"fYfile\":2,\"fAfile\":1,\"fXstat\":0.99,\"fYstat\":0.99,\"fAstat\":2,\"fFrameFillColor\":0,\"fFrameLineColor\":1,\"fFrameFillStyle\":1001,\"fFrameLineStyle\":1,\"fFrameLineWidth\":1,\"fFrameBorderSize\":1,\"fFrameBorderMode\":0,\"fX1\":0,\"fY1\":0,\"fX2\":1,\"fY2\":1,\"fXtoAbsPixelk\":23.9600494644523,\"fXtoPixelk\":5e-5,\"fXtoPixel\":1150.0800010711,\"fYtoAbsPixelk\":1160.28005026196,\"fYtoPixelk\":1148.56005052392,\"fYtoPixel\":-1148.56000052392,\"fUtoAbsPixelk\":23.9600494644523,\"fUtoPixelk\":5e-5,\"fUtoPixel\":1150.0800010711,\"fVtoAbsPixelk\":1160.28005026196,\"fVtoPixelk\":1148.56000052392,\"fVtoPixel\":-1148.56000052392,\"fAbsPixeltoXk\":-0.0208333328482695,\"fPixeltoXk\":0,\"fPixeltoX\":8.69504729295942e-4,\"fAbsPixeltoYk\":1.01020408139992,\"fPixeltoYk\":0,\"fPixeltoY\":-8.70655429010101e-4,\"fXlowNDC\":0.00999999977648258,\"fYlowNDC\":0.00999999977648258,\"fXUpNDC\":0,\"fYUpNDC\":0,\"fWNDC\":0.480000000447035,\"fHNDC\":0.980000000447035,\"fAbsXlowNDC\":0.00999999977648258,\"fAbsYlowNDC\":0.00999999977648258,\"fAbsWNDC\":0.480000000447035,\"fAbsHNDC\":0.980000000447035,\"fUxmin\":0,\"fUymin\":0,\"fUxmax\":1,\"fUymax\":1,\"fTheta\":30,\"fPhi\":30,\"fAspectRatio\":0,\"fNumber\":1,\"fTickx\":0,\"fTicky\":0,\"fLogx\":0,\"fLogy\":0,\"fLogz\":0,\"fPadPaint\":0,\"fCrosshair\":0,\"fCrosshairPos\":0,\"fBorderSize\":2,\"fBorderMode\":0,\"fModified\":false,\"fGridx\":false,\"fGridy\":false,\"fAbsCoord\":false,\"fEditable\":true,\"fFixedAspectRatio\":false,\"fPrimitives\":{\"_typename\":\"TList\",\"name\":\"TList\",\"arr\":[{\"_typename\":\"TPad\",\"fUniqueID\":0,\"fBits\":50331657,\"fLineColor\":1,\"fLineStyle\":1,\"fLineWidth\":1,\"fFillColor\":0,\"fFillStyle\":1001,\"fLeftMargin\":0.1,\"fRightMargin\":0.1,\"fBottomMargin\":0.1,\"fTopMargin\":0.1,\"fXfile\":2,\"fYfile\":2,\"fAfile\":1,\"fXstat\":0.99,\"fYstat\":0.99,\"fAstat\":2,\"fFrameFillColor\":0,\"fFrameLineColor\":1,\"fFrameFillStyle\":1001,\"fFrameLineStyle\":1,\"fFrameLineWidth\":1,\"fFrameBorderSize\":1,\"fFrameBorderMode\":0,\"fX1\":0.948102649451167,\"fY1\":-1.08737133155748,\"fX2\":3.22798860960451,\"fY2\":9.7863413358935,\"fXtoAbsPixelk\":-454.306809121301,\"fXtoPixelk\":-478.266808585754,\"fXtoPixel\":504.446284231576,\"fYtoAbsPixelk\":735.312845275944,\"fYtoPixelk\":723.592845537907,\"fYtoPixel\":-73.9390514495928,\"fUtoAbsPixelk\":23.9600494644523,\"fUtoPixelk\":5e-5,\"fUtoPixel\":1150.0800010711,\"fVtoAbsPixelk\":815.712050104785,\"fVtoPixelk\":803.992000366747,\"fVtoPixel\":-803.992000366747,\"fAbsPixeltoXk\":0.900605026387195,\"fPixeltoXk\":0.948102649451167,\"fPixeltoX\":0.00198237162460876,\"fAbsPixeltoYk\":9.94485026329065,\"fPixeltoYk\":-1.08737133155748,\"fPixeltoY\":-0.0135246528105887,\"fXlowNDC\":0,\"fYlowNDC\":0.3,\"fXUpNDC\":0,\"fYUpNDC\":0,\"fWNDC\":1,\"fHNDC\":0.7,\"fAbsXlowNDC\":0.00999999977648258,\"fAbsYlowNDC\":0.303999999910593,\"fAbsWNDC\":0.480000000447035,\"fAbsHNDC\":0.686000000312924,\"fUxmin\":1.17609125905568,\"fUymin\":0,\"fUxmax\":3,\"fUymax\":8.69897000433602,\"fTheta\":30,\"fPhi\":30,\"fAspectRatio\":0,\"fNumber\":0,\"fTickx\":0,\"fTicky\":0,\"fLogx\":1,\"fLogy\":1,\"fLogz\":0,\"fPadPaint\":0,\"fCrosshair\":0,\"fCrosshairPos\":0,\"fBorderSize\":2,\"fBorderMode\":0,\"fModified\":false,\"fGridx\":true,\"fGridy\":true,\"fAbsCoord\":false,\"fEditable\":true,\"fFixedAspectRatio\":false,\"fPrimitives\":{\"_typename\":\"TList\",\"name\":\"TList\",\"arr\":[{\"_typename\":\"TFrame\",\"fUniqueID\":0,\"fBits\":50331656,\"fLineColor\":1,\"fLineStyle\":1,\"fLineWidth\":1,\"fFillColor\":0,\"fFillStyle\":1001,\"fX1\":1.17609125905568,\"fY1\":0,\"fX2\":3,\"fY2\":8.69897000433602,\"fBorderSize\":1,\"fBorderMode\":0},{\"_typename\":\"TH1D\",\"fUniqueID\":0,\"fBits\":50332168,\"fName\":\"hMassUnfoldedData\",\"fTitle\":\"hMassUnfoldedData\",\"fLineColor\":632,\"fLineStyle\":1,\"fLineWidth\":1,\"fFillColor\":0,\"fFillStyle\":1001,\"fMarkerColor\":632,\"fMarkerStyle\":20,\"fMarkerSize\":1,\"fNcells\":43,\"fXaxis\":{\"_typename\":\"TAxis\",\"fUniqueID\":0,\"fBits\":50331656,\"fName\":\"xaxis\",\"fTitle\":\"mass\",\"fNdivisions\":520,\"fAxisColor\":1,\"fLabelColor\":1,\"fLabelFont\":42,\"fLabelOffset\":0.005,\"fLabelSize\":0.035,\"fTickLength\":0.03,\"fTitleOffset\":1,\"fTitleSize\":0.035,\"fTitleColor\":1,\"fTitleFont\":42,\"fNbins\":41,\"fXmin\":15,\"fXmax\":1000,\"fXbins\":[15,20,25,30,35,40,45,50,55,60,64,68,72,76,81,86,91,96,101,106,110,115,120,126,133,141,150,160,171,185,200,220,243,273,320,380,440,510,600,700,830,1000],\"fFirst\":0,\"fLast\":0,\"fBits2\":0,\"fTimeDisplay\":false,\"fTimeFormat\":\"\",\"fLabels\":null,\"fModLabs\":null},\"fYaxis\":{\"_typename\":\"TAxis\",\"fUniqueID\":0,\"fBits\":50331656,\"fName\":\"yaxis\",\"fTitle\":\"Events\\/ bin\",\"fNdivisions\":10,\"fAxisColor\":1,\"fLabelColor\":1,\"fLabelFont\":42,\"fLabelOffset\":0.005,\"fLabelSize\":0.035,\"fTickLength\":0.03,\"fTitleOffset\":0,\"fTitleSize\":0.035,\"fTitleColor\":1,\"fTitleFont\":42,\"fNbins\":1,\"fXmin\":0,\"fXmax\":1,\"fXbins\":[],\"fFirst\":0,\"fLast\":0,\"fBits2\":0,\"fTimeDisplay\":false,\"fTimeFormat\":\"\",\"fLabels\":null,\"fModLabs\":null},\"fZaxis\":{\"_typename\":\"TAxis\",\"fUniqueID\":0,\"fBits\":50331648,\"fName\":\"zaxis\",\"fTitle\":\"\",\"fNdivisions\":510,\"fAxisColor\":1,\"fLabelColor\":1,\"fLabelFont\":42,\"fLabelOffset\":0.005,\"fLabelSize\":0.035,\"fTickLength\":0.03,\"fTitleOffset\":1,\"fTitleSize\":0.035,\"fTitleColor\":1,\"fTitleFont\":42,\"fNbins\":1,\"fXmin\":0,\"fXmax\":1,\"fXbins\":[],\"fFirst\":0,\"fLast\":0,\"fBits2\":0,\"fTimeDisplay\":false,\"fTimeFormat\":\"\",\"fLabels\":null,\"fModLabs\":null},\"fBarOffset\":0,\"fBarWidth\":1000,\"fEntries\":84,\"fTsumw\":0,\"fTsumw2\":0,\"fTsumwx\":0,\"fTsumwx2\":0,\"fMaximum\":500000000,\"fMinimum\":1,\"fNormFactor\":0,\"fContour\":[],\"fSumw2\":[0,934820.818800696,808321.575489023,755945.362744836,865364.075789324,1463007.57772613,2982462.78595109,4237016.40869204,3810549.63417931,3999635.33371302,4244872.60702304,5013234.32417525,5821541.69898793,7167020.09262087,12271688.5026109,31973522.2945002,157365135.84672,135071565.975,12152662.3037232,4572711.82063469,2842019.74212293,2036709.67057479,1149408.89949575,807187.164186557,572796.182065856,359377.227990106,302438.417626963,273175.226129504,157748.013338935,136787.506769086,91711.142991173,104142.293307507,76378.4304655629,68488.4510522482,36651.3062332748,21319.1896264698,9056.79323295716,4736.04372353322,3001.78346720333,1466.11921041403,1209.09558262014,19593.4427323521,0],\"fOption\":\"\",\"fFunctions\":{\"_typename\":\"TList\",\"name\":\"TList\",\"arr\":[],\"opt\":[]},\"fBufferSize\":0,\"fBuffer\":[],\"fBinStatErrOpt\":0,\"fStatOverflows\":2,\"fArray\":[0,82569.2148449033,70383.5937125922,52650.6278340229,55146.1871490786,66488.8665184723,113491.558337245,189802.637250386,255777.963251892,272592.36817013,227582.499669401,256449.311934742,297330.308141662,380959.612550089,761086.865752882,1646496.26071767,12204188.4437729,12875605.512711,1197401.47462514,408949.452449767,175838.116887188,138736.840107845,96400.1235300648,78628.1579573682,65487.4883330737,53273.2527484762,42772.6272463385,32587.8655707709,26967.0355210797,24333.4583613105,17815.3953018893,16374.086267997,12246.0349067823,10087.4888203135,8868.18566012139,5614.54044596395,3233.17839123208,1785.72816524529,1160.51248018789,575.635152293022,392.0955351147,135.518625037255,0]},{\"_typename\":\"TH1D\",\"fUniqueID\":0,\"fBits\":50331656,\"fName\":\"hMassFSRUnfoldedData\",\"fTitle\":\"hMassFSRUnfoldedData\",\"fLineColor\":600,\"fLineStyle\":1,\"fLineWidth\":1,\"fFillColor\":0,\"fFillStyle\":1001,\"fMarkerColor\":600,\"fMarkerStyle\":20,\"fMarkerSize\":1,\"fNcells\":43,\"fXaxis\":{\"_typename\":\"TAxis\",\"fUniqueID\":0,\"fBits\":50331648,\"fName\":\"xaxis\",\"fTitle\":\"mass\",\"fNdivisions\":510,\"fAxisColor\":1,\"fLabelColor\":1,\"fLabelFont\":42,\"fLabelOffset\":0.005,\"fLabelSize\":0.035,\"fTickLength\":0.03,\"fTitleOffset\":1,\"fTitleSize\":0.035,\"fTitleColor\":1,\"fTitleFont\":42,\"fNbins\":41,\"fXmin\":15,\"fXmax\":1000,\"fXbins\":[15,20,25,30,35,40,45,50,55,60,64,68,72,76,81,86,91,96,101,106,110,115,120,126,133,141,150,160,171,185,200,220,243,273,320,380,440,510,600,700,830,1000],\"fFirst\":0,\"fLast\":0,\"fBits2\":0,\"fTimeDisplay\":false,\"fTimeFormat\":\"\",\"fLabels\":null,\"fModLabs\":null},\"fYaxis\":{\"_typename\":\"TAxis\",\"fUniqueID\":0,\"fBits\":50331648,\"fName\":\"yaxis\",\"fTitle\":\"\",\"fNdivisions\":510,\"fAxisColor\":1,\"fLabelColor\":1,\"fLabelFont\":42,\"fLabelOffset\":0.005,\"fLabelSize\":0.035,\"fTickLength\":0.03,\"fTitleOffset\":0,\"fTitleSize\":0.035,\"fTitleColor\":1,\"fTitleFont\":42,\"fNbins\":1,\"fXmin\":0,\"fXmax\":1,\"fXbins\":[],\"fFirst\":0,\"fLast\":0,\"fBits2\":0,\"fTimeDisplay\":false,\"fTimeFormat\":\"\",\"fLabels\":null,\"fModLabs\":null},\"fZaxis\":{\"_typename\":\"TAxis\",\"fUniqueID\":0,\"fBits\":50331648,\"fName\":\"zaxis\",\"fTitle\":\"\",\"fNdivisions\":510,\"fAxisColor\":1,\"fLabelColor\":1,\"fLabelFont\":42,\"fLabelOffset\":0.005,\"fLabelSize\":0.035,\"fTickLength\":0.03,\"fTitleOffset\":1,\"fTitleSize\":0.035,\"fTitleColor\":1,\"fTitleFont\":42,\"fNbins\":1,\"fXmin\":0,\"fXmax\":1,\"fXbins\":[],\"fFirst\":0,\"fLast\":0,\"fBits2\":0,\"fTimeDisplay\":false,\"fTimeFormat\":\"\",\"fLabels\":null,\"fModLabs\":null},\"fBarOffset\":0,\"fBarWidth\":1000,\"fEntries\":84,\"fTsumw\":0,\"fTsumw2\":0,\"fTsumwx\":0,\"fTsumwx2\":0,\"fMaximum\":-1111,\"fMinimum\":-1111,\"fNormFactor\":0,\"fContour\":[],\"fSumw2\":[0,263597407276.847,62992718517.8914,22163252317.8066,8890413642.7236,3474254818.74696,918229825.563377,254955862.60365,81792395.7073025,55502400.1213313,46924130.1986007,47365889.5629918,48473175.4526588,53409013.986971,81547131.0692893,192270328.019042,868739302.838105,782697670.831487,66002733.5390475,23936100.0483,14543926.3304191,10159110.5353105,5694996.11237457,3794073.23930437,2659955.6929862,1614432.72978153,1306543.38828084,1128875.31584078,637227.301886816,530838.094645589,330718.466145295,365925.222158655,270748.03315133,219498.929800442,104075.543106634,54431.0076185606,22195.0106891588,11089.0151605277,6227.93495406169,2795.05396354453,2078.06784620158,33116.6103747259,0],\"fOption\":\"\",\"fFunctions\":{\"_typename\":\"TList\",\"name\":\"TList\",\"arr\":[],\"opt\":[]},\"fBufferSize\":0,\"fBuffer\":[],\"fBinStatErrOpt\":0,\"fStatOverflows\":2,\"fArray\":[0,42769983.4819254,19112845.3137485,8597067.80739651,5253856.03055961,2972921.25867439,1796094.63290573,1302966.73149159,1007174.84098083,790732.971081856,536894.232409875,527018.975746829,529558.964322264,627494.442487554,1248040.08155702,2834704.15937517,26875473.4003804,30838937.7396443,2736870.13256192,908190.785219415,381056.269702679,296448.692231597,205222.787605238,162747.700127761,134710.523534533,108316.361975981,84910.4893760254,63443.9379887178,51671.0134902205,46057.7365870102,32448.32967817,29644.2409515743,22350.5970193855,17421.0630143667,14639.0820238754,8715.71937094448,5009.19383402248,2657.70823657224,1652.13187841542,785.617405410105,510.019291942595,170.607034262129,0]},{\"_typename\":\"TH1D\",\"fUniqueID\":0,\"fBits\":50331656,\"fName\":\"hMassUnfoldedData_\",\"fTitle\":\"hMassUnfoldedData_\",\"fLineColor\":616,\"fLineStyle\":1,\"fLineWidth\":1,\"fFillColor\":0,\"fFillStyle\":1001,\"fMarkerColor\":616,\"fMarkerStyle\":22,\"fMarkerSize\":0.5,\"fNcells\":43,\"fXaxis\":{\"_typename\":\"TAxis\",\"fUniqueID\":0,\"fBits\":50331648,\"fName\":\"xaxis\",\"fTitle\":\"mass\",\"fNdivisions\":510,\"fAxisColor\":1,\"fLabelColor\":1,\"fLabelFont\":42,\"fLabelOffset\":0.005,\"fLabelSize\":0.035,\"fTickLength\":0.03,\"fTitleOffset\":1,\"fTitleSize\":0.035,\"fTitleColor\":1,\"fTitleFont\":42,\"fNbins\":41,\"fXmin\":15,\"fXmax\":1000,\"fXbins\":[15,20,25,30,35,40,45,50,55,60,64,68,72,76,81,86,91,96,101,106,110,115,120,126,133,141,150,160,171,185,200,220,243,273,320,380,440,510,600,700,830,1000],\"fFirst\":0,\"fLast\":0,\"fBits2\":0,\"fTimeDisplay\":false,\"fTimeFormat\":\"\",\"fLabels\":null,\"fModLabs\":null},\"fYaxis\":{\"_typename\":\"TAxis\",\"fUniqueID\":0,\"fBits\":50331648,\"fName\":\"yaxis\",\"fTitle\":\"\",\"fNdivisions\":510,\"fAxisColor\":1,\"fLabelColor\":1,\"fLabelFont\":42,\"fLabelOffset\":0.005,\"fLabelSize\":0.035,\"fTickLength\":0.03,\"fTitleOffset\":0,\"fTitleSize\":0.035,\"fTitleColor\":1,\"fTitleFont\":42,\"fNbins\":1,\"fXmin\":0,\"fXmax\":1,\"fXbins\":[],\"fFirst\":0,\"fLast\":0,\"fBits2\":0,\"fTimeDisplay\":false,\"fTimeFormat\":\"\",\"fLabels\":null,\"fModLabs\":null},\"fZaxis\":{\"_typename\":\"TAxis\",\"fUniqueID\":0,\"fBits\":50331648,\"fName\":\"zaxis\",\"fTitle\":\"\",\"fNdivisions\":510,\"fAxisColor\":1,\"fLabelColor\":1,\"fLabelFont\":42,\"fLabelOffset\":0.005,\"fLabelSize\":0.035,\"fTickLength\":0.03,\"fTitleOffset\":1,\"fTitleSize\":0.035,\"fTitleColor\":1,\"fTitleFont\":42,\"fNbins\":1,\"fXmin\":0,\"fXmax\":1,\"fXbins\":[],\"fFirst\":0,\"fLast\":0,\"fBits2\":0,\"fTimeDisplay\":false,\"fTimeFormat\":\"\",\"fLabels\":null,\"fModLabs\":null},\"fBarOffset\":0,\"fBarWidth\":1000,\"fEntries\":84,\"fTsumw\":0,\"fTsumw2\":0,\"fTsumwx\":0,\"fTsumwx2\":0,\"fMaximum\":-1111,\"fMinimum\":-1111,\"fNormFactor\":0,\"fContour\":[],\"fSumw2\":[0,178544430425.811,35670203607.6388,15162221127.8488,5858905804.03055,1907046635.64141,464875236.863029,147458428.06383,66911611.3376437,46173869.6193059,37653248.0907942,36690698.82992,36592164.2560203,40315478.3395915,63216671.8554595,160268125.489391,884257747.886951,762961286.176446,63502818.8622745,23710075.7844649,14291144.5216733,9903169.27178263,5574846.12309827,3674517.24405455,2583354.06082387,1599910.35126912,1308412.7085975,1106804.32598671,605898.415252923,513332.942082303,321208.130029906,357649.351611847,266582.880093444,215152.092611921,101629.925393386,53258.687135341,21792.4837687309,10316.7404545783,6216.0511093295,2850.92533930886,2400.05749982656,30492.5204172885,0],\"fOption\":\"\",\"fFunctions\":{\"_typename\":\"TList\",\"name\":\"TList\",\"arr\":[],\"opt\":[]},\"fBufferSize\":0,\"fBuffer\":[],\"fBinStatErrOpt\":0,\"fStatOverflows\":2,\"fArray\":[0,42782360.8948029,19081870.7837518,8613489.27147982,5249209.02860658,2972686.94272186,1809811.75634042,1305591.70796792,1006699.53410601,790275.380833311,535650.165936263,523213.570567859,528055.339275335,624603.162710602,1232677.41959459,2825567.35520844,26854786.3365598,30847421.9790762,2735500.72629037,908194.475099212,381124.065099952,296446.71180259,205093.43827301,162792.66573584,134712.391283555,108250.285399868,84915.0122435277,63480.4510768249,51665.2196311405,46042.3805625167,32455.9205491115,29660.6799280692,22340.3336066693,17415.7165146422,14641.0518655482,8738.38675211733,5000.4819932194,2657.12546605754,1653.12425520782,784.320744773661,511.494075699518,170.477316915053,0]},{\"_typename\":\"TH1D\",\"fUniqueID\":0,\"fBits\":50331656,\"fName\":\"hMassData\",\"fTitle\":\"hMassData\",\"fLineColor\":1,\"fLineStyle\":1,\"fLineWidth\":1,\"fFillColor\":0,\"fFillStyle\":1001,\"fMarkerColor\":1,\"fMarkerStyle\":20,\"fMarkerSize\":1,\"fNcells\":43,\"fXaxis\":{\"_typename\":\"TAxis\",\"fUniqueID\":0,\"fBits\":50331648,\"fName\":\"xaxis\",\"fTitle\":\"mass\",\"fNdivisions\":510,\"fAxisColor\":1,\"fLabelColor\":1,\"fLabelFont\":42,\"fLabelOffset\":0.005,\"fLabelSize\":0.035,\"fTickLength\":0.03,\"fTitleOffset\":1,\"fTitleSize\":0.035,\"fTitleColor\":1,\"fTitleFont\":42,\"fNbins\":41,\"fXmin\":15,\"fXmax\":1000,\"fXbins\":[15,20,25,30,35,40,45,50,55,60,64,68,72,76,81,86,91,96,101,106,110,115,120,126,133,141,150,160,171,185,200,220,243,273,320,380,440,510,600,700,830,1000],\"fFirst\":0,\"fLast\":0,\"fBits2\":0,\"fTimeDisplay\":false,\"fTimeFormat\":\"\",\"fLabels\":null,\"fModLabs\":null},\"fYaxis\":{\"_typename\":\"TAxis\",\"fUniqueID\":0,\"fBits\":50331648,\"fName\":\"yaxis\",\"fTitle\":\"\",\"fNdivisions\":510,\"fAxisColor\":1,\"fLabelColor\":1,\"fLabelFont\":42,\"fLabelOffset\":0.005,\"fLabelSize\":0.035,\"fTickLength\":0.03,\"fTitleOffset\":0,\"fTitleSize\":0.035,\"fTitleColor\":1,\"fTitleFont\":42,\"fNbins\":1,\"fXmin\":0,\"fXmax\":1,\"fXbins\":[],\"fFirst\":0,\"fLast\":0,\"fBits2\":0,\"fTimeDisplay\":false,\"fTimeFormat\":\"\",\"fLabels\":null,\"fModLabs\":null},\"fZaxis\":{\"_typename\":\"TAxis\",\"fUniqueID\":0,\"fBits\":50331648,\"fName\":\"zaxis\",\"fTitle\":\"\",\"fNdivisions\":510,\"fAxisColor\":1,\"fLabelColor\":1,\"fLabelFont\":42,\"fLabelOffset\":0.005,\"fLabelSize\":0.035,\"fTickLength\":0.03,\"fTitleOffset\":1,\"fTitleSize\":0.035,\"fTitleColor\":1,\"fTitleFont\":42,\"fNbins\":1,\"fXmin\":0,\"fXmax\":1,\"fXbins\":[],\"fFirst\":0,\"fLast\":0,\"fBits2\":0,\"fTimeDisplay\":false,\"fTimeFormat\":\"\",\"fLabels\":null,\"fModLabs\":null},\"fBarOffset\":0,\"fBarWidth\":1000,\"fEntries\":84,\"fTsumw\":0,\"fTsumw2\":0,\"fTsumwx\":0,\"fTsumwx2\":0,\"fMaximum\":-1111,\"fMinimum\":-1111,\"fNormFactor\":0,\"fContour\":[],\"fSumw2\":[0,73041.7647774654,53503.5043122151,55285.1128920377,52674.3142418001,72146.6594276225,135312.025055409,189783.573875944,173771.86638233,169242.871091753,132918.691009435,142224.334457362,160225.376697448,204183.363929095,438272.8719668,1426588.26969313,5926882.44630044,4073034.19392787,571639.513146177,186737.241431525,84354.0134487625,80327.9736530041,50621.5587066082,48018.1455512261,41885.5471206502,30590.1006803371,29903.1696720083,30259.0158080048,18934.7300852467,19650.699533175,14090.4139966489,18943.9431125779,14789.4209159173,15598.1214906276,9237.76775278676,5498.14507010005,1961.16681994336,1153.07086698818,750.578829502649,374.059837612808,222.182615301486,1994.06801235917,0],\"fOption\":\"\",\"fFunctions\":{\"_typename\":\"TList\",\"name\":\"TList\",\"arr\":[],\"opt\":[]},\"fBufferSize\":0,\"fBuffer\":[],\"fBinStatErrOpt\":0,\"fStatOverflows\":2,\"fArray\":[0,25720.5285950321,19996.2290907321,17076.8533972783,16423.8399864814,18473.2503111446,33122.7315737577,57641.27810087,81590.7918922938,90443.5793841283,80759.5811727243,93716.193641506,117338.709430397,166184.685746511,392662.386483899,1352082.11477146,5733643.32412254,3928145.69637336,527967.926307648,168716.408728439,73245.4012648519,59466.9515980386,40458.9544434259,34802.1740821782,29251.0010410618,24173.9144420868,19794.3207962245,15837.7247568049,13018.4294270685,12022.51952501,9097.67576896828,8439.4076696211,6291.93078178249,5488.96042234263,4858.59446507789,3116.71915063642,1624.36703989448,978.462449978,640.64739230127,326.635588371286,196.141980769989,60.8223384423862,0]},{\"_typename\":\"TLegend\",\"fUniqueID\":0,\"fBits\":50331656,\"fLineColor\":1,\"fLineStyle\":1,\"fLineWidth\":1,\"fFillColor\":0,\"fFillStyle\":1001,\"fX1\":2.54402282155851,\"fY1\":6.52422753565821,\"fX2\":3.00000001358918,\"fY2\":8.6989700691484,\"fX1NDC\":0.7,\"fY1NDC\":0.7,\"fX2NDC\":0.9,\"fY2NDC\":0.9,\"fBorderSize\":1,\"fInit\":1,\"fShadowColor\":1,\"fCornerRadius\":0,\"fOption\":\"brNDC\",\"fName\":\"TPave\",\"fTextAngle\":0,\"fTextSize\":0,\"fTextAlign\":12,\"fTextColor\":1,\"fTextFont\":42,\"fPrimitives\":{\"_typename\":\"TList\",\"name\":\"TList\",\"arr\":[{\"_typename\":\"TLegendEntry\",\"fUniqueID\":0,\"fBits\":50331656,\"fTextAngle\":0,\"fTextSize\":0,\"fTextAlign\":0,\"fTextColor\":0,\"fTextFont\":42,\"fLineColor\":1,\"fLineStyle\":1,\"fLineWidth\":1,\"fFillColor\":0,\"fFillStyle\":0,\"fMarkerColor\":1,\"fMarkerStyle\":20,\"fMarkerSize\":1,\"fObject\":{\"$ref\":22},\"fLabel\":\"Detector  data\",\"fOption\":\"ple\"},{\"_typename\":\"TLegendEntry\",\"fUniqueID\":0,\"fBits\":50331656,\"fTextAngle\":0,\"fTextSize\":0,\"fTextAlign\":0,\"fTextColor\":0,\"fTextFont\":42,\"fLineColor\":632,\"fLineStyle\":1,\"fLineWidth\":1,\"fFillColor\":0,\"fFillStyle\":0,\"fMarkerColor\":632,\"fMarkerStyle\":20,\"fMarkerSize\":1,\"fObject\":{\"$ref\":7},\"fLabel\":\"Det unfolded data\",\"fOption\":\"ple\"},{\"_typename\":\"TLegendEntry\",\"fUniqueID\":0,\"fBits\":50331656,\"fTextAngle\":0,\"fTextSize\":0,\"fTextAlign\":0,\"fTextColor\":0,\"fTextFont\":42,\"fLineColor\":600,\"fLineStyle\":1,\"fLineWidth\":1,\"fFillColor\":0,\"fFillStyle\":0,\"fMarkerColor\":600,\"fMarkerStyle\":20,\"fMarkerSize\":1,\"fObject\":{\"$ref\":12},\"fLabel\":\"Pre-FSR unfolded data\",\"fOption\":\"ple\"}],\"opt\":[\"ple\",\"ple\",\"ple\"]},\"fEntrySeparation\":0.1,\"fMargin\":0.25,\"fNColumns\":1,\"fColumnSeparation\":0},{\"_typename\":\"TPaveText\",\"fUniqueID\":0,\"fBits\":50331657,\"fLineColor\":1,\"fLineStyle\":1,\"fLineWidth\":1,\"fFillColor\":0,\"fFillStyle\":0,\"fX1\":1.67471955987838,\"fY1\":9.13391861878464,\"fX2\":2.5013716991773,\"fY2\":9.73197282440615,\"fX1NDC\":0.318707568328699,\"fY1NDC\":0.940000003948808,\"fX2NDC\":0.681292431671301,\"fY2NDC\":0.995000004768372,\"fBorderSize\":0,\"fInit\":1,\"fShadowColor\":1,\"fCornerRadius\":0,\"fOption\":\"blNDC\",\"fName\":\"title\",\"fTextAngle\":0,\"fTextSize\":0,\"fTextAlign\":22,\"fTextColor\":1,\"fTextFont\":42,\"fLabel\":\"\",\"fLongest\":17,\"fMargin\":0.05,\"fLines\":{\"_typename\":\"TList\",\"name\":\"TList\",\"arr\":[{\"_typename\":\"TLatex\",\"fUniqueID\":0,\"fBits\":50331648,\"fName\":\"\",\"fTitle\":\"hMassUnfoldedData\",\"fTextAngle\":0,\"fTextSize\":0,\"fTextAlign\":0,\"fTextColor\":0,\"fTextFont\":0,\"fX\":0,\"fY\":0,\"fLineColor\":1,\"fLineStyle\":1,\"fLineWidth\":2,\"fLimitFactorSize\":3,\"fOriginSize\":0.0467500016093254}],\"opt\":[\"\"]}}],\"opt\":[\"\",\"hist pe\",\"pe same\",\"pe same\",\"pe same\",\"\",\"blNDC\"]},\"fExecs\":{\"_typename\":\"TList\",\"name\":\"TList\",\"arr\":[],\"opt\":[]},\"fName\":\"pad_mass\",\"fTitle\":\"pad_mass\",\"fNumPaletteColor\":0,\"fNextPaletteColor\":0},{\"_typename\":\"TPad\",\"fUniqueID\":0,\"fBits\":50331657,\"fLineColor\":1,\"fLineStyle\":1,\"fLineWidth\":1,\"fFillColor\":0,\"fFillStyle\":1001,\"fLeftMargin\":0.1,\"fRightMargin\":0.1,\"fBottomMargin\":0.1,\"fTopMargin\":0.1,\"fXfile\":2,\"fYfile\":2,\"fAfile\":1,\"fXstat\":0.99,\"fYstat\":0.99,\"fAstat\":2,\"fFrameFillColor\":0,\"fFrameLineColor\":1,\"fFrameFillStyle\":1001,\"fFrameLineStyle\":1,\"fFrameLineWidth\":1,\"fFrameBorderSize\":1,\"fFrameBorderMode\":0,\"fX1\":0.948102649451167,\"fY1\":0.374999990686774,\"fX2\":3.22798860960451,\"fY2\":1.62500000931323,\"fXtoAbsPixelk\":-454.306809121301,\"fXtoPixelk\":-478.266808585754,\"fXtoPixel\":504.446284231576,\"fYtoAbsPixelk\":1263.65044620155,\"fYtoPixelk\":447.93844609676,\"fYtoPixel\":-275.654396018171,\"fUtoAbsPixelk\":23.9600494644523,\"fUtoPixelk\":5e-5,\"fUtoPixel\":1150.0800010711,\"fVtoAbsPixelk\":1160.28005026196,\"fVtoPixelk\":344.568000157177,\"fVtoPixel\":-344.568000157177,\"fAbsPixeltoXk\":0.900605026387195,\"fPixeltoXk\":0.948102649451167,\"fPixeltoX\":0.00198237162460876,\"fAbsPixeltoYk\":4.58418372590817,\"fPixeltoYk\":0.374999990686774,\"fPixeltoY\":-0.00362773100826616,\"fXlowNDC\":0,\"fYlowNDC\":0,\"fXUpNDC\":0,\"fYUpNDC\":0,\"fWNDC\":1,\"fHNDC\":0.3,\"fAbsXlowNDC\":0.00999999977648258,\"fAbsYlowNDC\":0.00999999977648258,\"fAbsWNDC\":0.480000000447035,\"fAbsHNDC\":0.29400000013411,\"fUxmin\":1.17609125905568,\"fUymin\":0.5,\"fUxmax\":3,\"fUymax\":1.5,\"fTheta\":30,\"fPhi\":30,\"fAspectRatio\":0,\"fNumber\":0,\"fTickx\":0,\"fTicky\":0,\"fLogx\":1,\"fLogy\":0,\"fLogz\":0,\"fPadPaint\":0,\"fCrosshair\":0,\"fCrosshairPos\":0,\"fBorderSize\":2,\"fBorderMode\":0,\"fModified\":false,\"fGridx\":false,\"fGridy\":true,\"fAbsCoord\":false,\"fEditable\":true,\"fFixedAspectRatio\":false,\"fPrimitives\":{\"_typename\":\"TList\",\"name\":\"TList\",\"arr\":[{\"_typename\":\"TFrame\",\"fUniqueID\":0,\"fBits\":50331656,\"fLineColor\":1,\"fLineStyle\":1,\"fLineWidth\":1,\"fFillColor\":0,\"fFillStyle\":1001,\"fX1\":1.17609125905568,\"fY1\":0.5,\"fX2\":3,\"fY2\":1.5,\"fBorderSize\":1,\"fBorderMode\":0},{\"_typename\":\"TH1D\",\"fUniqueID\":0,\"fBits\":50332168,\"fName\":\"ratioMass_detector\",\"fTitle\":\"hMassData\",\"fLineColor\":1,\"fLineStyle\":1,\"fLineWidth\":1,\"fFillColor\":0,\"fFillStyle\":1001,\"fMarkerColor\":1,\"fMarkerStyle\":20,\"fMarkerSize\":1,\"fNcells\":43,\"fXaxis\":{\"_typename\":\"TAxis\",\"fUniqueID\":0,\"fBits\":50331648,\"fName\":\"xaxis\",\"fTitle\":\"mass\",\"fNdivisions\":510,\"fAxisColor\":1,\"fLabelColor\":1,\"fLabelFont\":42,\"fLabelOffset\":0.005,\"fLabelSize\":0.035,\"fTickLength\":0.03,\"fTitleOffset\":1,\"fTitleSize\":0.035,\"fTitleColor\":1,\"fTitleFont\":42,\"fNbins\":41,\"fXmin\":15,\"fXmax\":1000,\"fXbins\":[15,20,25,30,35,40,45,50,55,60,64,68,72,76,81,86,91,96,101,106,110,115,120,126,133,141,150,160,171,185,200,220,243,273,320,380,440,510,600,700,830,1000],\"fFirst\":0,\"fLast\":0,\"fBits2\":0,\"fTimeDisplay\":false,\"fTimeFormat\":\"\",\"fLabels\":null,\"fModLabs\":null},\"fYaxis\":{\"_typename\":\"TAxis\",\"fUniqueID\":0,\"fBits\":50331656,\"fName\":\"yaxis\",\"fTitle\":\"Data\\/ MC\",\"fNdivisions\":510,\"fAxisColor\":1,\"fLabelColor\":1,\"fLabelFont\":42,\"fLabelOffset\":0.005,\"fLabelSize\":0.035,\"fTickLength\":0.03,\"fTitleOffset\":0,\"fTitleSize\":0.035,\"fTitleColor\":1,\"fTitleFont\":42,\"fNbins\":1,\"fXmin\":0,\"fXmax\":1,\"fXbins\":[],\"fFirst\":0,\"fLast\":0,\"fBits2\":0,\"fTimeDisplay\":false,\"fTimeFormat\":\"\",\"fLabels\":null,\"fModLabs\":null},\"fZaxis\":{\"_typename\":\"TAxis\",\"fUniqueID\":0,\"fBits\":50331648,\"fName\":\"zaxis\",\"fTitle\":\"\",\"fNdivisions\":510,\"fAxisColor\":1,\"fLabelColor\":1,\"fLabelFont\":42,\"fLabelOffset\":0.005,\"fLabelSize\":0.035,\"fTickLength\":0.03,\"fTitleOffset\":1,\"fTitleSize\":0.035,\"fTitleColor\":1,\"fTitleFont\":42,\"fNbins\":1,\"fXmin\":0,\"fXmax\":1,\"fXbins\":[],\"fFirst\":0,\"fLast\":0,\"fBits2\":0,\"fTimeDisplay\":false,\"fTimeFormat\":\"\",\"fLabels\":null,\"fModLabs\":null},\"fBarOffset\":0,\"fBarWidth\":1000,\"fEntries\":3554.49169452277,\"fTsumw\":41.5387881113464,\"fTsumw2\":0.485433942754225,\"fTsumwx\":7985.40415413903,\"fTsumwx2\":3231394.89673846,\"fMaximum\":1.5,\"fMinimum\":0.5,\"fNormFactor\":0,\"fContour\":[],\"fSumw2\":[0,0.00112875867026498,0.00173637099898718,0.00160809780603975,0.00202631160197942,0.00151467751728948,6.64335990507857e-4,3.33065473942367e-4,8.37055039669449e-5,6.25241026182753e-5,6.77788559790518e-5,5.87501654540144e-5,4.38852445930529e-5,3.11112852436183e-5,1.31451546661424e-5,3.51191015232803e-6,7.85909373257299e-7,1.08408185463605e-6,9.01761106366054e-6,2.96654280950168e-5,6.78726011337373e-5,8.85654123967419e-5,1.3794408980997e-4,1.5940446425131e-4,1.97873863135158e-4,2.47947150154641e-4,3.03058230393302e-4,3.78986530118843e-4,4.68748874022122e-4,5.57415620234865e-4,6.575237424751e-4,8.15263057403472e-4,0.00131782936976015,0.00158689749412731,0.00153380881828207,0.00224403628187075,0.00697477588198604,0.00688956659179666,0.00937494218407405,0.0154072129131494,0.0379615327610473,0.388646153510531,0],\"fOption\":\"\",\"fFunctions\":{\"_typename\":\"TList\",\"name\":\"TList\",\"arr\":[],\"opt\":[]},\"fBufferSize\":0,\"fBuffer\":[],\"fBinStatErrOpt\":0,\"fStatOverflows\":2,\"fArray\":[0,0.98031661759641,1.03177857509136,0.962344337715979,1.02955831882489,0.976077532317906,0.94574369745058,0.987126516214845,0.995580966671934,0.995106189108048,0.99961246009648,1.00888891243968,0.997296645343437,1.00848657424868,1.01465685772657,0.990399200666939,0.972669591783481,0.950212066040549,0.980853713367523,0.997802026651171,0.99349906130259,0.998257446690452,1.02145222825929,1.0097966733651,1.02129713387693,1.04004569353705,1.02541529298338,1.00214273196553,1.0251227079981,1.04636437000116,1.01233715259699,1.01586723642005,1.06992243942475,1.0644969541574,1.05820631671163,1.0448711521549,1.24295787696092,1.05806243771117,1.04920434485295,0.982664544561903,1.12345177355737,0.80884174290033,0]},{\"_typename\":\"TH1D\",\"fUniqueID\":0,\"fBits\":50332168,\"fName\":\"ratioMass_dressed\",\"fTitle\":\"hMassUnfoldedData\",\"fLineColor\":632,\"fLineStyle\":1,\"fLineWidth\":1,\"fFillColor\":0,\"fFillStyle\":1001,\"fMarkerColor\":632,\"fMarkerStyle\":20,\"fMarkerSize\":1,\"fNcells\":43,\"fXaxis\":{\"_typename\":\"TAxis\",\"fUniqueID\":0,\"fBits\":50331656,\"fName\":\"xaxis\",\"fTitle\":\"mass\",\"fNdivisions\":520,\"fAxisColor\":1,\"fLabelColor\":1,\"fLabelFont\":42,\"fLabelOffset\":0.005,\"fLabelSize\":0.035,\"fTickLength\":0.03,\"fTitleOffset\":1,\"fTitleSize\":0.035,\"fTitleColor\":1,\"fTitleFont\":42,\"fNbins\":41,\"fXmin\":15,\"fXmax\":1000,\"fXbins\":[15,20,25,30,35,40,45,50,55,60,64,68,72,76,81,86,91,96,101,106,110,115,120,126,133,141,150,160,171,185,200,220,243,273,320,380,440,510,600,700,830,1000],\"fFirst\":0,\"fLast\":0,\"fBits2\":0,\"fTimeDisplay\":false,\"fTimeFormat\":\"\",\"fLabels\":null,\"fModLabs\":null},\"fYaxis\":{\"_typename\":\"TAxis\",\"fUniqueID\":0,\"fBits\":50331656,\"fName\":\"yaxis\",\"fTitle\":\"Events\\/ bin\",\"fNdivisions\":10,\"fAxisColor\":1,\"fLabelColor\":1,\"fLabelFont\":42,\"fLabelOffset\":0.005,\"fLabelSize\":0.035,\"fTickLength\":0.03,\"fTitleOffset\":0,\"fTitleSize\":0.035,\"fTitleColor\":1,\"fTitleFont\":42,\"fNbins\":1,\"fXmin\":0,\"fXmax\":1,\"fXbins\":[],\"fFirst\":0,\"fLast\":0,\"fBits2\":0,\"fTimeDisplay\":false,\"fTimeFormat\":\"\",\"fLabels\":null,\"fModLabs\":null},\"fZaxis\":{\"_typename\":\"TAxis\",\"fUniqueID\":0,\"fBits\":50331648,\"fName\":\"zaxis\",\"fTitle\":\"\",\"fNdivisions\":510,\"fAxisColor\":1,\"fLabelColor\":1,\"fLabelFont\":42,\"fLabelOffset\":0.005,\"fLabelSize\":0.035,\"fTickLength\":0.03,\"fTitleOffset\":1,\"fTitleSize\":0.035,\"fTitleColor\":1,\"fTitleFont\":42,\"fNbins\":1,\"fXmin\":0,\"fXmax\":1,\"fXbins\":[],\"fFirst\":0,\"fLast\":0,\"fBits2\":0,\"fTimeDisplay\":false,\"fTimeFormat\":\"\",\"fLabels\":null,\"fModLabs\":null},\"fBarOffset\":0,\"fBarWidth\":1000,\"fEntries\":2492.40912763217,\"fTsumw\":41.6040401660989,\"fTsumw2\":0.694467107728318,\"fTsumwx\":7989.94073957615,\"fTsumwx2\":3227287.71706049,\"fMaximum\":500000000,\"fMinimum\":1,\"fNormFactor\":0,\"fContour\":[],\"fSumw2\":[0,1.29716513777722e-4,1.76116678074586e-4,2.45718482030333e-4,3.07853151159558e-4,3.18433961336704e-4,2.01682307160756e-4,1.14588713605592e-4,5.78814617590431e-5,5.33909739049484e-5,8.09485826229451e-5,7.97393488387586e-5,6.53426805216476e-5,4.93178211673803e-5,2.30103656538939e-5,1.18513114295153e-5,1.04887127348219e-6,7.1343522439534e-7,8.52908607593113e-6,2.72829098010777e-5,9.06764698547922e-5,1.03121650259264e-4,1.32888825092112e-4,1.31160597450835e-4,1.38214418584887e-4,1.38546688379475e-4,1.75561702361981e-4,2.54282217647181e-4,2.26778851502022e-4,2.5677455745789e-4,2.946393999353e-4,3.9626478464366e-4,5.87059162766877e-4,7.62909270911304e-4,5.21837344073704e-4,7.30579846113344e-4,0.00138937995517367,0.00164539237119268,0.00248201119293365,0.00415415677959531,0.0102993017577033,0.667602403229266,0],\"fOption\":\"\",\"fFunctions\":{\"_typename\":\"TList\",\"name\":\"TList\",\"arr\":[],\"opt\":[]},\"fBufferSize\":0,\"fBuffer\":[],\"fBinStatErrOpt\":0,\"fStatOverflows\":2,\"fArray\":[0,0.972638824392368,1.03891399060293,0.94924269255553,1.04013057052011,0.98092393413791,0.933275667544246,0.987058951833978,0.996871221344735,0.995949724672626,0.993827836868273,1.02277211380224,0.996136027962545,0.999336076892462,1.04218261881385,1.00241766895222,0.996358751974108,0.935756750199202,1.00312561962658,0.998913904726045,0.993223029803068,0.987193218189909,1.03653636605859,1.00228832366524,1.01726699092614,1.04600078911762,1.03053403619014,0.99424463381308,1.02247461298237,1.05428157014292,1.00978710606544,1.01003458572026,1.07362116307879,1.06465976198495,1.05817531382055,1.03935213442155,1.26634766985253,1.05254879080185,1.05526613785086,0.968956111854174,1.14436738310468,0.791047489232242,0]},{\"_typename\":\"TH1D\",\"fUniqueID\":0,\"fBits\":50331656,\"fName\":\"ratioMass_preFSR\",\"fTitle\":\"hMassUnfoldedData_\",\"fLineColor\":616,\"fLineStyle\":1,\"fLineWidth\":1,\"fFillColor\":0,\"fFillStyle\":1001,\"fMarkerColor\":616,\"fMarkerStyle\":22,\"fMarkerSize\":0.5,\"fNcells\":43,\"fXaxis\":{\"_typename\":\"TAxis\",\"fUniqueID\":0,\"fBits\":50331648,\"fName\":\"xaxis\",\"fTitle\":\"mass\",\"fNdivisions\":510,\"fAxisColor\":1,\"fLabelColor\":1,\"fLabelFont\":42,\"fLabelOffset\":0.005,\"fLabelSize\":0.035,\"fTickLength\":0.03,\"fTitleOffset\":1,\"fTitleSize\":0.035,\"fTitleColor\":1,\"fTitleFont\":42,\"fNbins\":41,\"fXmin\":15,\"fXmax\":1000,\"fXbins\":[15,20,25,30,35,40,45,50,55,60,64,68,72,76,81,86,91,96,101,106,110,115,120,126,133,141,150,160,171,185,200,220,243,273,320,380,440,510,600,700,830,1000],\"fFirst\":0,\"fLast\":0,\"fBits2\":0,\"fTimeDisplay\":false,\"fTimeFormat\":\"\",\"fLabels\":null,\"fModLabs\":null},\"fYaxis\":{\"_typename\":\"TAxis\",\"fUniqueID\":0,\"fBits\":50331648,\"fName\":\"yaxis\",\"fTitle\":\"\",\"fNdivisions\":510,\"fAxisColor\":1,\"fLabelColor\":1,\"fLabelFont\":42,\"fLabelOffset\":0.005,\"fLabelSize\":0.035,\"fTickLength\":0.03,\"fTitleOffset\":0,\"fTitleSize\":0.035,\"fTitleColor\":1,\"fTitleFont\":42,\"fNbins\":1,\"fXmin\":0,\"fXmax\":1,\"fXbins\":[],\"fFirst\":0,\"fLast\":0,\"fBits2\":0,\"fTimeDisplay\":false,\"fTimeFormat\":\"\",\"fLabels\":null,\"fModLabs\":null},\"fZaxis\":{\"_typename\":\"TAxis\",\"fUniqueID\":0,\"fBits\":50331648,\"fName\":\"zaxis\",\"fTitle\":\"\",\"fNdivisions\":510,\"fAxisColor\":1,\"fLabelColor\":1,\"fLabelFont\":42,\"fLabelOffset\":0.005,\"fLabelSize\":0.035,\"fTickLength\":0.03,\"fTitleOffset\":1,\"fTitleSize\":0.035,\"fTitleColor\":1,\"fTitleFont\":42,\"fNbins\":1,\"fXmin\":0,\"fXmax\":1,\"fXbins\":[],\"fFirst\":0,\"fLast\":0,\"fBits2\":0,\"fTimeDisplay\":false,\"fTimeFormat\":\"\",\"fLabels\":null,\"fModLabs\":null},\"fBarOffset\":0,\"fBarWidth\":1000,\"fEntries\":2535.74291842403,\"fTsumw\":41.6902727820595,\"fTsumw2\":0.685431804625822,\"fTsumwx\":7998.09853626471,\"fTsumwx2\":3230043.27204535,\"fMaximum\":-1111,\"fMinimum\":-1111,\"fNormFactor\":0,\"fContour\":[],\"fSumw2\":[0,9.22028900627186e-5,1.05801902148681e-4,1.84043960472801e-4,2.31701538589208e-4,2.08348292151827e-4,1.24189832944305e-4,8.4669867217199e-5,6.58733267572372e-5,7.39110934146405e-5,1.3026263752112e-4,1.44384876132135e-4,1.32309797168476e-4,1.04579128654559e-4,4.7717702818135e-5,2.05490436485124e-5,1.2254207225755e-6,7.02010996832475e-7,8.5321227787776e-6,2.86874578174686e-5,9.70530941562738e-5,1.09424951482286e-4,1.42560029959882e-4,1.39109098120346e-4,1.47045968124806e-4,1.49442904882626e-4,1.93158625899595e-4,2.71033370336655e-4,2.36685375273023e-4,2.69768002158983e-4,3.10666896502034e-4,4.134645016599e-4,6.15463286316562e-4,8.04067816613063e-4,5.30954055628347e-4,7.48879455543782e-4,0.00139776059246338,0.00162103155255628,0.00254139536053936,0.0043199796571501,0.0121437723559145,0.656439394772523,0],\"fOption\":\"\",\"fFunctions\":{\"_typename\":\"TList\",\"name\":\"TList\",\"arr\":[],\"opt\":[]},\"fBufferSize\":0,\"fBuffer\":[],\"fBinStatErrOpt\":0,\"fStatOverflows\":2,\"fArray\":[0,0.972218454108386,1.0392377029428,0.948983123745159,1.04387877709444,0.982569979928128,0.935423379262184,0.989320532373018,0.998858389892938,0.999850642790735,0.996299596861997,1.03791517156938,1.00411022985038,1.00598332028556,1.07096034586513,1.01176090258361,0.999711929580324,0.935706359677998,1.0026950724464,0.99898373357169,0.993201940370886,0.985411707338479,1.0371324256754,1.00164184013701,1.01634730454274,1.04621002284741,1.03173735128064,0.99338126024996,1.02113716645422,1.05548829247934,1.00936480268986,1.0084897667579,1.0734321585686,1.0646697120926,1.05825406885879,1.03619619262784,1.2664116532901,1.05326230949076,1.05702272931768,0.965476329758327,1.15055290525154,0.790983197549132,0]},{\"_typename\":\"TH1D\",\"fUniqueID\":0,\"fBits\":50331656,\"fName\":\"ratioMassMC_preFSR\",\"fTitle\":\"hMassUnfoldedMC_closure\",\"fLineColor\":616,\"fLineStyle\":1,\"fLineWidth\":1,\"fFillColor\":0,\"fFillStyle\":1001,\"fMarkerColor\":1,\"fMarkerStyle\":25,\"fMarkerSize\":1,\"fNcells\":43,\"fXaxis\":{\"_typename\":\"TAxis\",\"fUniqueID\":0,\"fBits\":50331648,\"fName\":\"xaxis\",\"fTitle\":\"mass\",\"fNdivisions\":510,\"fAxisColor\":1,\"fLabelColor\":1,\"fLabelFont\":42,\"fLabelOffset\":0.005,\"fLabelSize\":0.035,\"fTickLength\":0.03,\"fTitleOffset\":1,\"fTitleSize\":0.035,\"fTitleColor\":1,\"fTitleFont\":42,\"fNbins\":41,\"fXmin\":15,\"fXmax\":1000,\"fXbins\":[15,20,25,30,35,40,45,50,55,60,64,68,72,76,81,86,91,96,101,106,110,115,120,126,133,141,150,160,171,185,200,220,243,273,320,380,440,510,600,700,830,1000],\"fFirst\":0,\"fLast\":0,\"fBits2\":0,\"fTimeDisplay\":false,\"fTimeFormat\":\"\",\"fLabels\":null,\"fModLabs\":null},\"fYaxis\":{\"_typename\":\"TAxis\",\"fUniqueID\":0,\"fBits\":50331648,\"fName\":\"yaxis\",\"fTitle\":\"\",\"fNdivisions\":510,\"fAxisColor\":1,\"fLabelColor\":1,\"fLabelFont\":42,\"fLabelOffset\":0.005,\"fLabelSize\":0.035,\"fTickLength\":0.03,\"fTitleOffset\":0,\"fTitleSize\":0.035,\"fTitleColor\":1,\"fTitleFont\":42,\"fNbins\":1,\"fXmin\":0,\"fXmax\":1,\"fXbins\":[],\"fFirst\":0,\"fLast\":0,\"fBits2\":0,\"fTimeDisplay\":false,\"fTimeFormat\":\"\",\"fLabels\":null,\"fModLabs\":null},\"fZaxis\":{\"_typename\":\"TAxis\",\"fUniqueID\":0,\"fBits\":50331648,\"fName\":\"zaxis\",\"fTitle\":\"\",\"fNdivisions\":510,\"fAxisColor\":1,\"fLabelColor\":1,\"fLabelFont\":42,\"fLabelOffset\":0.005,\"fLabelSize\":0.035,\"fTickLength\":0.03,\"fTitleOffset\":1,\"fTitleSize\":0.035,\"fTitleColor\":1,\"fTitleFont\":42,\"fNbins\":1,\"fXmin\":0,\"fXmax\":1,\"fXbins\":[],\"fFirst\":0,\"fLast\":0,\"fBits2\":0,\"fTimeDisplay\":false,\"fTimeFormat\":\"\",\"fLabels\":null,\"fModLabs\":null},\"fBarOffset\":0,\"fBarWidth\":1000,\"fEntries\":8625.30221381229,\"fTsumw\":41.0109352101705,\"fTsumw2\":0.194995695816833,\"fTsumwx\":7836.23454129958,\"fTsumwx2\":3234398.87373212,\"fMaximum\":-1111,\"fMinimum\":-1111,\"fNormFactor\":0,\"fContour\":[],\"fSumw2\":[0,0.00130142045774372,0.00184992649187769,0.00216451732659694,0.00254389922099508,0.00217204662854351,0.00112866068370625,5.72628232639401e-4,1.3114769015404e-4,1.12400203160107e-4,1.9141057578819e-4,2.05164667805607e-4,1.87137186062957e-4,1.55240021282514e-4,7.95947168543317e-5,4.37588441759682e-5,4.03040975171998e-6,2.79103661110519e-6,3.15623048988563e-5,9.62114728636286e-5,3.02275073120578e-4,3.06368455080931e-4,4.11950063056407e-4,3.78075057911089e-4,3.84989158463609e-4,4.2619010489641e-4,4.57618618232171e-4,5.47995727244692e-4,6.40805754026769e-4,6.45601120153226e-4,7.87884830583531e-4,7.56745962869537e-4,0.00106552524389504,0.00115044607631324,0.00116436099621011,0.00176106911790651,0.00456255121624821,0.00600450671297611,0.00825267205239973,0.0152200821924688,0.0280850477425399,0.108709386368725,0],\"fOption\":\"\",\"fFunctions\":{\"_typename\":\"TList\",\"name\":\"TList\",\"arr\":[],\"opt\":[]},\"fBufferSize\":0,\"fBuffer\":[],\"fBinStatErrOpt\":0,\"fStatOverflows\":2,\"fArray\":[0,1.00098321701613,1.00010148388092,0.999830504799288,0.999980757783173,1.00020957682629,0.99996061703258,1.00046555519449,1.0005227905721,1.00043179446408,1.00073392540304,1.00089406249804,1.00175652530831,1.0019563817424,1.00113105268007,1.00127627300252,1.00022218016012,1.00001484798472,1.00015856569024,1.00000458036682,1.00001907185,1.0000583115704,1.0003950926342,0.999802352842896,1.00002774273246,0.999996434616075,1.00000004922787,0.99999907059585,0.999999893533172,1.00000013478728,0.999998721733799,1.00000000467067,0.99999989410232,0.999999763816272,0.99999986681673,0.999999948981411,1.0000042646959,0.999999843130286,1.00000005599615,0.999999998968555,1.00000000026618,1.00000000019665,0]},{\"_typename\":\"TH1D\",\"fUniqueID\":0,\"fBits\":50331656,\"fName\":\"ratioMass_preFSR_twoStep\",\"fTitle\":\"hMassFSRUnfoldedData\",\"fLineColor\":600,\"fLineStyle\":1,\"fLineWidth\":1,\"fFillColor\":0,\"fFillStyle\":1001,\"fMarkerColor\":600,\"fMarkerStyle\":20,\"fMarkerSize\":1,\"fNcells\":43,\"fXaxis\":{\"_typename\":\"TAxis\",\"fUniqueID\":0,\"fBits\":50331648,\"fName\":\"xaxis\",\"fTitle\":\"mass\",\"fNdivisions\":510,\"fAxisColor\":1,\"fLabelColor\":1,\"fLabelFont\":42,\"fLabelOffset\":0.005,\"fLabelSize\":0.035,\"fTickLength\":0.03,\"fTitleOffset\":1,\"fTitleSize\":0.035,\"fTitleColor\":1,\"fTitleFont\":42,\"fNbins\":41,\"fXmin\":15,\"fXmax\":1000,\"fXbins\":[15,20,25,30,35,40,45,50,55,60,64,68,72,76,81,86,91,96,101,106,110,115,120,126,133,141,150,160,171,185,200,220,243,273,320,380,440,510,600,700,830,1000],\"fFirst\":0,\"fLast\":0,\"fBits2\":0,\"fTimeDisplay\":false,\"fTimeFormat\":\"\",\"fLabels\":null,\"fModLabs\":null},\"fYaxis\":{\"_typename\":\"TAxis\",\"fUniqueID\":0,\"fBits\":50331648,\"fName\":\"yaxis\",\"fTitle\":\"\",\"fNdivisions\":510,\"fAxisColor\":1,\"fLabelColor\":1,\"fLabelFont\":42,\"fLabelOffset\":0.005,\"fLabelSize\":0.035,\"fTickLength\":0.03,\"fTitleOffset\":0,\"fTitleSize\":0.035,\"fTitleColor\":1,\"fTitleFont\":42,\"fNbins\":1,\"fXmin\":0,\"fXmax\":1,\"fXbins\":[],\"fFirst\":0,\"fLast\":0,\"fBits2\":0,\"fTimeDisplay\":false,\"fTimeFormat\":\"\",\"fLabels\":null,\"fModLabs\":null},\"fZaxis\":{\"_typename\":\"TAxis\",\"fUniqueID\":0,\"fBits\":50331648,\"fName\":\"zaxis\",\"fTitle\":\"\",\"fNdivisions\":510,\"fAxisColor\":1,\"fLabelColor\":1,\"fLabelFont\":42,\"fLabelOffset\":0.005,\"fLabelSize\":0.035,\"fTickLength\":0.03,\"fTitleOffset\":1,\"fTitleSize\":0.035,\"fTitleColor\":1,\"fTitleFont\":42,\"fNbins\":1,\"fXmin\":0,\"fXmax\":1,\"fXbins\":[],\"fFirst\":0,\"fLast\":0,\"fBits2\":0,\"fTimeDisplay\":false,\"fTimeFormat\":\"\",\"fLabels\":null,\"fModLabs\":null},\"fBarOffset\":0,\"fBarWidth\":1000,\"fEntries\":2347.37843305487,\"fTsumw\":41.7164010483936,\"fTsumw2\":0.741362403234509,\"fTsumwx\":7999.23795880777,\"fTsumwx2\":3229376.06800018,\"fMaximum\":-1111,\"fMinimum\":-1111,\"fNormFactor\":0,\"fContour\":[],\"fSumw2\":[0,1.36125477329352e-4,1.86843661447378e-4,2.69024749021441e-4,3.5158826385235e-4,3.7956861906669e-4,2.45301964051042e-4,1.46394338501649e-4,8.05232021912603e-5,8.8843389430567e-5,1.62335555974215e-4,1.86393781408827e-4,1.75269108637055e-4,1.38544012748849e-4,6.15540434481022e-5,2.46522591483159e-5,1.20391497474806e-6,7.20170711249037e-7,8.86800674961699e-6,2.89609306478946e-5,9.87697695875594e-5,1.12252971439865e-4,1.45632506884391e-4,1.43635223749772e-4,1.51406176170643e-4,1.50799397406708e-4,1.92882661487633e-4,2.76438096923248e-4,2.48923547717712e-4,2.78967353393543e-4,3.1986512758474e-4,4.23031913640423e-4,6.25079428163778e-4,8.20312845164332e-4,5.43730908886275e-4,7.65363653191488e-4,0.00142357849705611,0.0017423762419082,0.00254625399946246,0.00423531830057548,0.0105145742825916,0.712930494882183,0],\"fOption\":\"\",\"fFunctions\":{\"_typename\":\"TList\",\"name\":\"TList\",\"arr\":[],\"opt\":[]},\"fBufferSize\":0,\"fBuffer\":[],\"fBinStatErrOpt\":0,\"fStatOverflows\":2,\"fArray\":[0,0.971937241525388,1.04092479583103,0.94717390429981,1.04480289855531,0.982647428991957,0.928333515958954,0.98733143952785,0.999329994620645,1.00042958263274,0.99861353794696,1.04546407318702,1.00696940990063,1.0106400037664,1.08430755374538,1.01503255038709,1.00048203827852,0.935449004079905,1.00319702695444,0.998979674826493,0.993025266877209,0.985418290437077,1.03778652942354,1.00136517267035,1.0163332131762,1.04684863526261,1.03168239737775,0.992809880921929,1.0212516791745,1.05584031824069,1.00912872995427,1.00793082678716,1.07392530596112,1.06499655803762,1.05811168885874,1.03350829900006,1.26861799594458,1.05349331484827,1.05638819454371,0.967072481792501,1.1472355320565,0.791585062030721,0]},{\"_typename\":\"TLine\",\"fUniqueID\":0,\"fBits\":50331656,\"fLineColor\":632,\"fLineStyle\":1,\"fLineWidth\":1,\"fX1\":15,\"fY1\":1,\"fX2\":1000,\"fY2\":1},{\"_typename\":\"TPaveText\",\"fUniqueID\":0,\"fBits\":50331657,\"fLineColor\":1,\"fLineStyle\":1,\"fLineWidth\":1,\"fFillColor\":0,\"fFillStyle\":0,\"fX1\":1.97108411775739,\"fY1\":1.55000001313165,\"fX2\":2.20500714129829,\"fY2\":1.61875001518056,\"fX1NDC\":0.448698525358443,\"fY1NDC\":0.940000003948808,\"fX2NDC\":0.551301474641557,\"fY2NDC\":0.995000004768372,\"fBorderSize\":0,\"fInit\":1,\"fShadowColor\":1,\"fCornerRadius\":0,\"fOption\":\"blNDC\",\"fName\":\"title\",\"fTextAngle\":0,\"fTextSize\":0,\"fTextAlign\":22,\"fTextColor\":1,\"fTextFont\":42,\"fLabel\":\"\",\"fLongest\":9,\"fMargin\":0.05,\"fLines\":{\"_typename\":\"TList\",\"name\":\"TList\",\"arr\":[{\"_typename\":\"TLatex\",\"fUniqueID\":0,\"fBits\":50331648,\"fName\":\"\",\"fTitle\":\"hMassData\",\"fTextAngle\":0,\"fTextSize\":0,\"fTextAlign\":0,\"fTextColor\":0,\"fTextFont\":0,\"fX\":0,\"fY\":0,\"fLineColor\":1,\"fLineStyle\":1,\"fLineWidth\":2,\"fLimitFactorSize\":3,\"fOriginSize\":0.0467500016093254}],\"opt\":[\"\"]}}],\"opt\":[\"\",\"pe\",\"pe same\",\"pe same\",\"pe same\",\"pe same\",\"same\",\"blNDC\"]},\"fExecs\":{\"_typename\":\"TList\",\"name\":\"TList\",\"arr\":[],\"opt\":[]},\"fName\":\"ratio_mass\",\"fTitle\":\"raio_mass\",\"fNumPaletteColor\":0,\"fNextPaletteColor\":0}],\"opt\":[\"\",\"\"]},\"fExecs\":{\"_typename\":\"TList\",\"name\":\"TList\",\"arr\":[],\"opt\":[]},\"fName\":\"c_1\",\"fTitle\":\"c_1\",\"fNumPaletteColor\":0,\"fNextPaletteColor\":0},{\"_typename\":\"TPad\",\"fUniqueID\":0,\"fBits\":50331657,\"fLineColor\":1,\"fLineStyle\":1,\"fLineWidth\":1,\"fFillColor\":0,\"fFillStyle\":1001,\"fLeftMargin\":0.1,\"fRightMargin\":0.1,\"fBottomMargin\":0.1,\"fTopMargin\":0.1,\"fXfile\":2,\"fYfile\":2,\"fAfile\":1,\"fXstat\":0.99,\"fYstat\":0.99,\"fAstat\":2,\"fFrameFillColor\":0,\"fFrameLineColor\":1,\"fFrameFillStyle\":1001,\"fFrameLineStyle\":1,\"fFrameLineWidth\":1,\"fFrameBorderSize\":1,\"fFrameBorderMode\":0,\"fX1\":0,\"fY1\":0,\"fX2\":1,\"fY2\":1,\"fXtoAbsPixelk\":1221.96004946445,\"fXtoPixelk\":5e-5,\"fXtoPixel\":1150.0800010711,\"fYtoAbsPixelk\":1160.28005026196,\"fYtoPixelk\":1148.56005052392,\"fYtoPixel\":-1148.56000052392,\"fUtoAbsPixelk\":1221.96004946445,\"fUtoPixelk\":5e-5,\"fUtoPixel\":1150.0800010711,\"fVtoAbsPixelk\":1160.28005026196,\"fVtoPixelk\":1148.56000052392,\"fVtoPixel\":-1148.56000052392,\"fAbsPixeltoXk\":-1.06249999854481,\"fPixeltoXk\":0,\"fPixeltoX\":8.69504729295942e-4,\"fAbsPixeltoYk\":1.01020408139992,\"fPixeltoYk\":0,\"fPixeltoY\":-8.70655429010101e-4,\"fXlowNDC\":0.509999999776483,\"fYlowNDC\":0.00999999977648258,\"fXUpNDC\":0,\"fYUpNDC\":0,\"fWNDC\":0.480000000447035,\"fHNDC\":0.980000000447035,\"fAbsXlowNDC\":0.509999999776483,\"fAbsYlowNDC\":0.00999999977648258,\"fAbsWNDC\":0.480000000447035,\"fAbsHNDC\":0.980000000447035,\"fUxmin\":0,\"fUymin\":0,\"fUxmax\":1,\"fUymax\":1,\"fTheta\":30,\"fPhi\":30,\"fAspectRatio\":0,\"fNumber\":2,\"fTickx\":0,\"fTicky\":0,\"fLogx\":0,\"fLogy\":0,\"fLogz\":0,\"fPadPaint\":0,\"fCrosshair\":0,\"fCrosshairPos\":0,\"fBorderSize\":2,\"fBorderMode\":0,\"fModified\":false,\"fGridx\":false,\"fGridy\":false,\"fAbsCoord\":false,\"fEditable\":true,\"fFixedAspectRatio\":false,\"fPrimitives\":{\"_typename\":\"TList\",\"name\":\"TList\",\"arr\":[{\"_typename\":\"TPad\",\"fUniqueID\":0,\"fBits\":50331657,\"fLineColor\":1,\"fLineStyle\":1,\"fLineWidth\":1,\"fFillColor\":0,\"fFillStyle\":1001,\"fLeftMargin\":0.1,\"fRightMargin\":0.1,\"fBottomMargin\":0.1,\"fTopMargin\":0.1,\"fXfile\":2,\"fYfile\":2,\"fAfile\":1,\"fXstat\":0.99,\"fYstat\":0.99,\"fAstat\":2,\"fFrameFillColor\":0,\"fFrameLineColor\":1,\"fFrameFillStyle\":1001,\"fFrameLineStyle\":1,\"fFrameLineWidth\":1,\"fFrameBorderSize\":1,\"fFrameBorderMode\":0,\"fX1\":-5.12500041909518,\"fY1\":-1.08737133155748,\"fX2\":51.1250004190952,\"fY2\":9.7863413358935,\"fXtoAbsPixelk\":1326.74512323605,\"fXtoPixelk\":104.7851237716,\"fXtoPixel\":20.4458663810412,\"fYtoAbsPixelk\":735.312845275944,\"fYtoPixelk\":723.592845537907,\"fYtoPixel\":-73.9390514495928,\"fUtoAbsPixelk\":1221.96004946445,\"fUtoPixelk\":5e-5,\"fUtoPixel\":1150.0800010711,\"fVtoAbsPixelk\":815.712050104785,\"fVtoPixelk\":803.992000366747,\"fVtoPixel\":-803.992000366747,\"fAbsPixeltoXk\":-64.8906262278179,\"fPixeltoXk\":-5.12500041909518,\"fPixeltoX\":0.0489096417517073,\"fAbsPixeltoYk\":9.94485026329065,\"fPixeltoYk\":-1.08737133155748,\"fPixeltoY\":-0.0135246528105887,\"fXlowNDC\":0,\"fYlowNDC\":0.3,\"fXUpNDC\":0,\"fYUpNDC\":0,\"fWNDC\":1,\"fHNDC\":0.7,\"fAbsXlowNDC\":0.509999999776483,\"fAbsYlowNDC\":0.303999999910593,\"fAbsWNDC\":0.480000000447035,\"fAbsHNDC\":0.686000000312924,\"fUxmin\":0.5,\"fUymin\":0,\"fUxmax\":45.5,\"fUymax\":8.69897000433602,\"fTheta\":30,\"fPhi\":30,\"fAspectRatio\":0,\"fNumber\":0,\"fTickx\":0,\"fTicky\":0,\"fLogx\":0,\"fLogy\":1,\"fLogz\":0,\"fPadPaint\":0,\"fCrosshair\":0,\"fCrosshairPos\":0,\"fBorderSize\":2,\"fBorderMode\":0,\"fModified\":false,\"fGridx\":false,\"fGridy\":true,\"fAbsCoord\":false,\"fEditable\":true,\"fFixedAspectRatio\":false,\"fPrimitives\":{\"_typename\":\"TList\",\"name\":\"TList\",\"arr\":[{\"_typename\":\"TFrame\",\"fUniqueID\":0,\"fBits\":50331656,\"fLineColor\":1,\"fLineStyle\":1,\"fLineWidth\":1,\"fFillColor\":0,\"fFillStyle\":1001,\"fX1\":0.5,\"fY1\":0,\"fX2\":45.5,\"fY2\":8.69897000433602,\"fBorderSize\":1,\"fBorderMode\":0},{\"_typename\":\"TH1D\",\"fUniqueID\":0,\"fBits\":50332168,\"fName\":\"hPtUnfoldedData\",\"fTitle\":\"Dilepton p_{T}\",\"fLineColor\":632,\"fLineStyle\":1,\"fLineWidth\":1,\"fFillColor\":0,\"fFillStyle\":1001,\"fMarkerColor\":632,\"fMarkerStyle\":20,\"fMarkerSize\":1,\"fNcells\":47,\"fXaxis\":{\"_typename\":\"TAxis\",\"fUniqueID\":0,\"fBits\":50331656,\"fName\":\"xaxis\",\"fTitle\":\"Gen_Pt\",\"fNdivisions\":520,\"fAxisColor\":1,\"fLabelColor\":1,\"fLabelFont\":42,\"fLabelOffset\":0.005,\"fLabelSize\":0.035,\"fTickLength\":0.03,\"fTitleOffset\":1,\"fTitleSize\":0.035,\"fTitleColor\":1,\"fTitleFont\":42,\"fNbins\":45,\"fXmin\":0.5,\"fXmax\":45.5,\"fXbins\":[],\"fFirst\":0,\"fLast\":0,\"fBits2\":0,\"fTimeDisplay\":false,\"fTimeFormat\":\"\",\"fLabels\":null,\"fModLabs\":null},\"fYaxis\":{\"_typename\":\"TAxis\",\"fUniqueID\":0,\"fBits\":50331656,\"fName\":\"yaxis\",\"fTitle\":\"Events\\/ bin\",\"fNdivisions\":10,\"fAxisColor\":1,\"fLabelColor\":1,\"fLabelFont\":42,\"fLabelOffset\":0.005,\"fLabelSize\":0.035,\"fTickLength\":0.03,\"fTitleOffset\":0,\"fTitleSize\":0.035,\"fTitleColor\":1,\"fTitleFont\":42,\"fNbins\":1,\"fXmin\":0,\"fXmax\":1,\"fXbins\":[],\"fFirst\":0,\"fLast\":0,\"fBits2\":0,\"fTimeDisplay\":false,\"fTimeFormat\":\"\",\"fLabels\":null,\"fModLabs\":null},\"fZaxis\":{\"_typename\":\"TAxis\",\"fUniqueID\":0,\"fBits\":50331648,\"fName\":\"zaxis\",\"fTitle\":\"\",\"fNdivisions\":510,\"fAxisColor\":1,\"fLabelColor\":1,\"fLabelFont\":42,\"fLabelOffset\":0.005,\"fLabelSize\":0.035,\"fTickLength\":0.03,\"fTitleOffset\":1,\"fTitleSize\":0.035,\"fTitleColor\":1,\"fTitleFont\":42,\"fNbins\":1,\"fXmin\":0,\"fXmax\":1,\"fXbins\":[],\"fFirst\":0,\"fLast\":0,\"fBits2\":0,\"fTimeDisplay\":false,\"fTimeFormat\":\"\",\"fLabels\":null,\"fModLabs\":null},\"fBarOffset\":0,\"fBarWidth\":1000,\"fEntries\":92,\"fTsumw\":0,\"fTsumw2\":0,\"fTsumwx\":0,\"fTsumwx2\":0,\"fMaximum\":500000000,\"fMinimum\":1,\"fNormFactor\":0,\"fContour\":[],\"fSumw2\":[0,760049.554572527,1280563.32845335,1212579.2822826,1416160.03467601,1530384.71802267,1109184.85648824,488169.492373434,252391.626550796,77975.0382953434,1150308.07215507,2411987.86557074,2565581.12075593,2645087.4134215,2399268.34724575,1380439.13284626,966970.977898131,591725.735909301,287890.507909113,14366877.5629907,25051168.604599,19593843.1390336,16453296.0113014,13889648.8871127,9103638.03298137,6223894.08386205,4043978.11194198,2195916.95530982,656841.763509052,1177753.58670457,956304.853685417,828369.577575841,866459.99582511,680640.424096441,511486.919064006,404691.465981168,211276.545022642,22643.2593704434,54415.6723477521,46131.699797659,54396.4258727615,47998.9093314197,73029.9070214139,62665.2658360614,41241.9403608327,30823.7611797133,0],\"fOption\":\"\",\"fFunctions\":{\"_typename\":\"TList\",\"name\":\"TList\",\"arr\":[],\"opt\":[]},\"fBufferSize\":0,\"fBuffer\":[],\"fBinStatErrOpt\":0,\"fStatOverflows\":2,\"fArray\":[0,90766.5464607947,134497.437961872,111060.0939612,126622.034647746,143980.113175816,77362.6018658299,36934.0117622056,21250.2363300966,10622.6241849855,181160.815781569,281079.241084836,263104.970853008,314395.12794428,303323.271745132,169923.421271719,100784.318591906,61101.0894064911,31607.0001560491,3701994.43947007,5219268.89435437,4064743.26263099,4226427.12867398,4167621.62009341,2705706.68202144,1841147.2844061,1229075.4351649,693189.188992805,139332.448362394,201699.025903325,161965.562231136,175859.610220313,177070.618825033,119863.344210901,89447.3834079646,60717.9899569417,39043.8356437253,4441.80214936693,6744.19558886798,5859.08000864888,6560.24766584222,7768.09939818818,5707.33671413075,4068.64286052135,3955.09268042473,2459.86433904277,0]},{\"_typename\":\"TH1D\",\"fUniqueID\":0,\"fBits\":50331656,\"fName\":\"hPtFSRUnfoldedData\",\"fTitle\":\"hPtFSRUnfoldedData\",\"fLineColor\":600,\"fLineStyle\":1,\"fLineWidth\":1,\"fFillColor\":0,\"fFillStyle\":1001,\"fMarkerColor\":600,\"fMarkerStyle\":20,\"fMarkerSize\":1,\"fNcells\":47,\"fXaxis\":{\"_typename\":\"TAxis\",\"fUniqueID\":0,\"fBits\":50331648,\"fName\":\"xaxis\",\"fTitle\":\"Gen_Pt\",\"fNdivisions\":510,\"fAxisColor\":1,\"fLabelColor\":1,\"fLabelFont\":42,\"fLabelOffset\":0.005,\"fLabelSize\":0.035,\"fTickLength\":0.03,\"fTitleOffset\":1,\"fTitleSize\":0.035,\"fTitleColor\":1,\"fTitleFont\":42,\"fNbins\":45,\"fXmin\":0.5,\"fXmax\":45.5,\"fXbins\":[],\"fFirst\":0,\"fLast\":0,\"fBits2\":0,\"fTimeDisplay\":false,\"fTimeFormat\":\"\",\"fLabels\":null,\"fModLabs\":null},\"fYaxis\":{\"_typename\":\"TAxis\",\"fUniqueID\":0,\"fBits\":50331648,\"fName\":\"yaxis\",\"fTitle\":\"\",\"fNdivisions\":510,\"fAxisColor\":1,\"fLabelColor\":1,\"fLabelFont\":42,\"fLabelOffset\":0.005,\"fLabelSize\":0.035,\"fTickLength\":0.03,\"fTitleOffset\":0,\"fTitleSize\":0.035,\"fTitleColor\":1,\"fTitleFont\":42,\"fNbins\":1,\"fXmin\":0,\"fXmax\":1,\"fXbins\":[],\"fFirst\":0,\"fLast\":0,\"fBits2\":0,\"fTimeDisplay\":false,\"fTimeFormat\":\"\",\"fLabels\":null,\"fModLabs\":null},\"fZaxis\":{\"_typename\":\"TAxis\",\"fUniqueID\":0,\"fBits\":50331648,\"fName\":\"zaxis\",\"fTitle\":\"\",\"fNdivisions\":510,\"fAxisColor\":1,\"fLabelColor\":1,\"fLabelFont\":42,\"fLabelOffset\":0.005,\"fLabelSize\":0.035,\"fTickLength\":0.03,\"fTitleOffset\":1,\"fTitleSize\":0.035,\"fTitleColor\":1,\"fTitleFont\":42,\"fNbins\":1,\"fXmin\":0,\"fXmax\":1,\"fXbins\":[],\"fFirst\":0,\"fLast\":0,\"fBits2\":0,\"fTimeDisplay\":false,\"fTimeFormat\":\"\",\"fLabels\":null,\"fModLabs\":null},\"fBarOffset\":0,\"fBarWidth\":1000,\"fEntries\":92,\"fTsumw\":0,\"fTsumw2\":0,\"fTsumwx\":0,\"fTsumwx2\":0,\"fMaximum\":-1111,\"fMinimum\":-1111,\"fNormFactor\":0,\"fContour\":[],\"fSumw2\":[0,24053478.3519562,25784471.4370173,17456861.7997362,16984737.9288023,16306180.1218247,11919275.0457506,4635427.63566595,2067758.06839626,434725.402225774,12309772.3378465,21547451.7474267,19808307.1714892,18490385.9070762,14941735.0676151,7567742.52888429,4556508.94991721,2541910.16936996,1205213.1126175,103965917.403988,160974683.415574,114390917.485075,88373515.5833506,68304655.8013138,40306536.3478794,24092715.3920178,13813350.9943522,6697244.99590508,4051771.8878815,6664838.99523564,5050661.69425131,4083275.78617822,3885689.76087672,2817241.50217689,1859826.05639637,1306637.28970043,611213.913923716,95037.2960513419,217890.515767883,171135.189537926,197864.467385336,161407.729792013,237399.004745436,186904.393125536,117461.627725739,75741.869903315,0],\"fOption\":\"\",\"fFunctions\":{\"_typename\":\"TList\",\"name\":\"TList\",\"arr\":[],\"opt\":[]},\"fBufferSize\":0,\"fBuffer\":[],\"fBinStatErrOpt\":0,\"fStatOverflows\":2,\"fArray\":[0,492670.225660629,562346.831261351,369411.854350729,343846.302942134,278131.836237232,151864.713298936,84420.463419369,47954.2204290987,20582.8255754016,521211.718005371,647179.750534862,463156.383907781,450402.163027661,403743.687455233,240620.481039609,136266.427673973,83068.586001442,45408.2381555069,9781549.71139231,12841487.0438929,9477049.29175854,9537725.70214903,9085985.64494111,5615163.56872033,3581866.05802081,2251402.97180636,1202077.73544877,340421.362760914,468220.338875391,360898.237232483,379694.785200589,365980.539689107,238375.55655467,167363.292101588,107383.416298681,65530.7532776138,8826.40264117647,13021.9366008478,10747.8076348563,11722.3490346121,13631.331811463,9817.72653627217,6613.30638280505,6423.52298227266,3702.28875350789,0]},{\"_typename\":\"TH1D\",\"fUniqueID\":0,\"fBits\":50331656,\"fName\":\"hPtUnfoldedData_\",\"fTitle\":\"hPtUnfoldedData_\",\"fLineColor\":616,\"fLineStyle\":1,\"fLineWidth\":1,\"fFillColor\":0,\"fFillStyle\":1001,\"fMarkerColor\":616,\"fMarkerStyle\":22,\"fMarkerSize\":0.8,\"fNcells\":47,\"fXaxis\":{\"_typename\":\"TAxis\",\"fUniqueID\":0,\"fBits\":50331648,\"fName\":\"xaxis\",\"fTitle\":\"Gen_Pt\",\"fNdivisions\":510,\"fAxisColor\":1,\"fLabelColor\":1,\"fLabelFont\":42,\"fLabelOffset\":0.005,\"fLabelSize\":0.035,\"fTickLength\":0.03,\"fTitleOffset\":1,\"fTitleSize\":0.035,\"fTitleColor\":1,\"fTitleFont\":42,\"fNbins\":45,\"fXmin\":0.5,\"fXmax\":45.5,\"fXbins\":[],\"fFirst\":0,\"fLast\":0,\"fBits2\":0,\"fTimeDisplay\":false,\"fTimeFormat\":\"\",\"fLabels\":null,\"fModLabs\":null},\"fYaxis\":{\"_typename\":\"TAxis\",\"fUniqueID\":0,\"fBits\":50331648,\"fName\":\"yaxis\",\"fTitle\":\"\",\"fNdivisions\":510,\"fAxisColor\":1,\"fLabelColor\":1,\"fLabelFont\":42,\"fLabelOffset\":0.005,\"fLabelSize\":0.035,\"fTickLength\":0.03,\"fTitleOffset\":0,\"fTitleSize\":0.035,\"fTitleColor\":1,\"fTitleFont\":42,\"fNbins\":1,\"fXmin\":0,\"fXmax\":1,\"fXbins\":[],\"fFirst\":0,\"fLast\":0,\"fBits2\":0,\"fTimeDisplay\":false,\"fTimeFormat\":\"\",\"fLabels\":null,\"fModLabs\":null},\"fZaxis\":{\"_typename\":\"TAxis\",\"fUniqueID\":0,\"fBits\":50331648,\"fName\":\"zaxis\",\"fTitle\":\"\",\"fNdivisions\":510,\"fAxisColor\":1,\"fLabelColor\":1,\"fLabelFont\":42,\"fLabelOffset\":0.005,\"fLabelSize\":0.035,\"fTickLength\":0.03,\"fTitleOffset\":1,\"fTitleSize\":0.035,\"fTitleColor\":1,\"fTitleFont\":42,\"fNbins\":1,\"fXmin\":0,\"fXmax\":1,\"fXbins\":[],\"fFirst\":0,\"fLast\":0,\"fBits2\":0,\"fTimeDisplay\":false,\"fTimeFormat\":\"\",\"fLabels\":null,\"fModLabs\":null},\"fBarOffset\":0,\"fBarWidth\":1000,\"fEntries\":92,\"fTsumw\":0,\"fTsumw2\":0,\"fTsumwx\":0,\"fTsumwx2\":0,\"fMaximum\":-1111,\"fMinimum\":-1111,\"fNormFactor\":0,\"fContour\":[],\"fSumw2\":[0,18601095.5094156,21578323.8288256,14361155.6505395,13814456.938974,11916858.3301624,8576959.93633519,3699315.64660375,1735866.05075833,392333.404717203,10992431.9862658,17772332.2051789,14672531.4661422,12652270.131464,10105435.8539392,5368752.96608843,3262859.30812249,1826326.3641734,905099.378732955,99819554.9432735,154024573.278011,108364541.533422,84120882.8367135,65203022.2614231,38303660.6182326,22770132.2300104,13067748.6864253,6312585.35864285,3890675.9795317,6419933.42672553,4831770.61326708,3914335.18778236,3712487.16858998,2687147.18166203,1779904.42565647,1253489.09004156,579987.445415364,95739.5375259452,221027.69179763,169140.964283536,185788.568470358,153255.314033861,224191.162066841,179020.291386442,111678.431672808,71544.6043308354,0],\"fOption\":\"\",\"fFunctions\":{\"_typename\":\"TList\",\"name\":\"TList\",\"arr\":[],\"opt\":[]},\"fBufferSize\":0,\"fBuffer\":[],\"fBinStatErrOpt\":0,\"fStatOverflows\":2,\"fArray\":[0,491014.943111081,560290.216593219,368109.462327279,343442.645169401,281171.132425539,153768.007353861,84732.8864051558,47870.907649869,20631.1581974536,519016.783089456,642055.041144674,457840.983869322,445675.154872778,403046.335514172,238157.541817657,135560.044465832,82289.4239428935,44609.7473061474,9782093.49794683,12835929.6904988,9476031.39229047,9542156.34264447,9093709.25266794,5619310.89594804,3583206.25123082,2251986.83420376,1202377.04911447,340295.657790605,467905.724668184,360718.631753443,379607.581998765,366273.267706566,238562.828999981,167354.285245143,107425.375965392,65523.7989189506,8815.7850273837,13017.7907506911,10729.6625076566,11751.64517053,13632.346903366,9841.19756160321,6629.71176953689,6407.87431031685,3724.28340116501,0]},{\"_typename\":\"TH1D\",\"fUniqueID\":0,\"fBits\":50331656,\"fName\":\"hPtData\",\"fTitle\":\"hPtData\",\"fLineColor\":1,\"fLineStyle\":1,\"fLineWidth\":1,\"fFillColor\":0,\"fFillStyle\":1001,\"fMarkerColor\":1,\"fMarkerStyle\":20,\"fMarkerSize\":1,\"fNcells\":47,\"fXaxis\":{\"_typename\":\"TAxis\",\"fUniqueID\":0,\"fBits\":50331648,\"fName\":\"xaxis\",\"fTitle\":\"Rec_Pt\",\"fNdivisions\":510,\"fAxisColor\":1,\"fLabelColor\":1,\"fLabelFont\":42,\"fLabelOffset\":0.005,\"fLabelSize\":0.035,\"fTickLength\":0.03,\"fTitleOffset\":1,\"fTitleSize\":0.035,\"fTitleColor\":1,\"fTitleFont\":42,\"fNbins\":45,\"fXmin\":0.5,\"fXmax\":45.5,\"fXbins\":[],\"fFirst\":0,\"fLast\":0,\"fBits2\":0,\"fTimeDisplay\":false,\"fTimeFormat\":\"\",\"fLabels\":null,\"fModLabs\":null},\"fYaxis\":{\"_typename\":\"TAxis\",\"fUniqueID\":0,\"fBits\":50331648,\"fName\":\"yaxis\",\"fTitle\":\"\",\"fNdivisions\":510,\"fAxisColor\":1,\"fLabelColor\":1,\"fLabelFont\":42,\"fLabelOffset\":0.005,\"fLabelSize\":0.035,\"fTickLength\":0.03,\"fTitleOffset\":0,\"fTitleSize\":0.035,\"fTitleColor\":1,\"fTitleFont\":42,\"fNbins\":1,\"fXmin\":0,\"fXmax\":1,\"fXbins\":[],\"fFirst\":0,\"fLast\":0,\"fBits2\":0,\"fTimeDisplay\":false,\"fTimeFormat\":\"\",\"fLabels\":null,\"fModLabs\":null},\"fZaxis\":{\"_typename\":\"TAxis\",\"fUniqueID\":0,\"fBits\":50331648,\"fName\":\"zaxis\",\"fTitle\":\"\",\"fNdivisions\":510,\"fAxisColor\":1,\"fLabelColor\":1,\"fLabelFont\":42,\"fLabelOffset\":0.005,\"fLabelSize\":0.035,\"fTickLength\":0.03,\"fTitleOffset\":1,\"fTitleSize\":0.035,\"fTitleColor\":1,\"fTitleFont\":42,\"fNbins\":1,\"fXmin\":0,\"fXmax\":1,\"fXbins\":[],\"fFirst\":0,\"fLast\":0,\"fBits2\":0,\"fTimeDisplay\":false,\"fTimeFormat\":\"\",\"fLabels\":null,\"fModLabs\":null},\"fBarOffset\":0,\"fBarWidth\":1000,\"fEntries\":92,\"fTsumw\":0,\"fTsumw2\":0,\"fTsumwx\":0,\"fTsumwx2\":0,\"fMaximum\":-1111,\"fMinimum\":-1111,\"fNormFactor\":0,\"fContour\":[],\"fSumw2\":[0,43063.7322595195,69335.6864006663,62718.9854967203,79969.354349677,87288.7261986888,66778.3207135393,36816.3871142293,20978.2134411155,8984.02250936182,91157.9561210692,152033.304503327,142411.412653832,162693.998750542,161870.115881151,96990.1314660276,70775.7180946192,43677.0883315451,23296.2212485916,1545391.12106465,2318208.38928524,1795036.07068916,1836580.43100978,1779867.23932443,1154982.37814897,765966.892487745,509786.236122044,292325.664935577,59609.1194350634,92026.6937241666,76097.3015865704,83294.1356562786,105593.113528878,83564.1847478898,59538.399855713,49773.5213593343,25876.1397933032,2044.82873789648,3664.62600772547,3406.52091992595,6441.22958260562,7701.85887187388,12657.971887131,11051.3218547099,6259.06599130785,5341.82941873341,0],\"fOption\":\"\",\"fFunctions\":{\"_typename\":\"TList\",\"name\":\"TList\",\"arr\":[],\"opt\":[]},\"fBufferSize\":0,\"fBuffer\":[],\"fBinStatErrOpt\":0,\"fStatOverflows\":2,\"fArray\":[0,30040.6618497456,46474.6111003402,38285.2111601072,42535.9466691572,46756.3423149151,24359.5376161128,12586.9361456013,7501.70874178816,4252.99685137878,83425.9261803323,137303.048768642,124443.882756793,140896.001312999,130202.027963042,71573.1287693288,42996.8845386447,25708.5889410679,13352.4860714623,1506754.1083029,2256224.28078009,1744367.93020314,1781765.3795614,1712728.46118496,1082236.14399041,713104.366261023,472805.928747706,271852.462543376,56730.6888089464,88677.9142555206,72461.8727874644,76740.3658916247,77326.1011105725,51480.5672856994,35828.2299111277,24893.596722275,15746.1391009278,2015.23698733822,3596.06294512718,3257.74244203158,3796.34651162543,4237.68722013701,3032.52897326796,2114.48966164851,1839.90838057528,1188.89021707296,0]},{\"_typename\":\"TLegend\",\"fUniqueID\":0,\"fBits\":50331656,\"fLineColor\":1,\"fLineStyle\":1,\"fLineWidth\":1,\"fFillColor\":0,\"fFillStyle\":1001,\"fX1\":34.2500001676381,\"fY1\":6.52422753565821,\"fX2\":45.5000003352762,\"fY2\":8.6989700691484,\"fX1NDC\":0.7,\"fY1NDC\":0.7,\"fX2NDC\":0.9,\"fY2NDC\":0.9,\"fBorderSize\":1,\"fInit\":1,\"fShadowColor\":1,\"fCornerRadius\":0,\"fOption\":\"brNDC\",\"fName\":\"TPave\",\"fTextAngle\":0,\"fTextSize\":0,\"fTextAlign\":12,\"fTextColor\":1,\"fTextFont\":42,\"fPrimitives\":{\"_typename\":\"TList\",\"name\":\"TList\",\"arr\":[{\"_typename\":\"TLegendEntry\",\"fUniqueID\":0,\"fBits\":50331656,\"fTextAngle\":0,\"fTextSize\":0,\"fTextAlign\":0,\"fTextColor\":0,\"fTextFont\":42,\"fLineColor\":1,\"fLineStyle\":1,\"fLineWidth\":1,\"fFillColor\":0,\"fFillStyle\":0,\"fMarkerColor\":1,\"fMarkerStyle\":20,\"fMarkerSize\":1,\"fObject\":{\"$ref\":90},\"fLabel\":\"Detector  data\",\"fOption\":\"ple\"},{\"_typename\":\"TLegendEntry\",\"fUniqueID\":0,\"fBits\":50331656,\"fTextAngle\":0,\"fTextSize\":0,\"fTextAlign\":0,\"fTextColor\":0,\"fTextFont\":42,\"fLineColor\":632,\"fLineStyle\":1,\"fLineWidth\":1,\"fFillColor\":0,\"fFillStyle\":0,\"fMarkerColor\":632,\"fMarkerStyle\":20,\"fMarkerSize\":1,\"fObject\":{\"$ref\":75},\"fLabel\":\"Det unfolded data\",\"fOption\":\"ple\"},{\"_typename\":\"TLegendEntry\",\"fUniqueID\":0,\"fBits\":50331656,\"fTextAngle\":0,\"fTextSize\":0,\"fTextAlign\":0,\"fTextColor\":0,\"fTextFont\":42,\"fLineColor\":600,\"fLineStyle\":1,\"fLineWidth\":1,\"fFillColor\":0,\"fFillStyle\":0,\"fMarkerColor\":600,\"fMarkerStyle\":20,\"fMarkerSize\":1,\"fObject\":{\"$ref\":80},\"fLabel\":\"Pre-FSR unfolded data\",\"fOption\":\"ple\"}],\"opt\":[\"ple\",\"ple\",\"ple\"]},\"fEntrySeparation\":0.1,\"fMargin\":0.25,\"fNColumns\":1,\"fColumnSeparation\":0},{\"_typename\":\"TPaveText\",\"fUniqueID\":0,\"fBits\":50331657,\"fLineColor\":1,\"fLineStyle\":1,\"fLineWidth\":1,\"fFillColor\":0,\"fFillStyle\":0,\"fX1\":17.1552586824337,\"fY1\":8.90426407239812,\"fX2\":28.8447413175663,\"fY2\":9.73197282440615,\"fX1NDC\":0.396093489236038,\"fY1NDC\":0.918879844403488,\"fX2NDC\":0.603906510763962,\"fY2NDC\":0.995000004768372,\"fBorderSize\":0,\"fInit\":1,\"fShadowColor\":1,\"fCornerRadius\":0,\"fOption\":\"blNDC\",\"fName\":\"title\",\"fTextAngle\":0,\"fTextSize\":0,\"fTextAlign\":22,\"fTextColor\":1,\"fTextFont\":42,\"fLabel\":\"\",\"fLongest\":14,\"fMargin\":0.05,\"fLines\":{\"_typename\":\"TList\",\"name\":\"TList\",\"arr\":[{\"_typename\":\"TLatex\",\"fUniqueID\":0,\"fBits\":50331648,\"fName\":\"\",\"fTitle\":\"Dilepton p_{T}\",\"fTextAngle\":0,\"fTextSize\":0,\"fTextAlign\":0,\"fTextColor\":0,\"fTextFont\":0,\"fX\":0,\"fY\":0,\"fLineColor\":1,\"fLineStyle\":1,\"fLineWidth\":2,\"fLimitFactorSize\":3,\"fOriginSize\":0.059526365250349}],\"opt\":[\"\"]}}],\"opt\":[\"\",\"hist pe\",\"pe same\",\"pe same\",\"pe same\",\"\",\"blNDC\"]},\"fExecs\":{\"_typename\":\"TList\",\"name\":\"TList\",\"arr\":[],\"opt\":[]},\"fName\":\"pad_pt\",\"fTitle\":\"pad_pt\",\"fNumPaletteColor\":0,\"fNextPaletteColor\":0},{\"_typename\":\"TPad\",\"fUniqueID\":0,\"fBits\":50331657,\"fLineColor\":1,\"fLineStyle\":1,\"fLineWidth\":1,\"fFillColor\":0,\"fFillStyle\":1001,\"fLeftMargin\":0.1,\"fRightMargin\":0.1,\"fBottomMargin\":0.1,\"fTopMargin\":0.1,\"fXfile\":2,\"fYfile\":2,\"fAfile\":1,\"fXstat\":0.99,\"fYstat\":0.99,\"fAstat\":2,\"fFrameFillColor\":0,\"fFrameLineColor\":1,\"fFrameFillStyle\":1001,\"fFrameLineStyle\":1,\"fFrameLineWidth\":1,\"fFrameBorderSize\":1,\"fFrameBorderMode\":0,\"fX1\":-5.12500041909518,\"fY1\":0.374999990686774,\"fX2\":51.1250004190952,\"fY2\":1.62500000931323,\"fXtoAbsPixelk\":1326.74512323605,\"fXtoPixelk\":104.7851237716,\"fXtoPixel\":20.4458663810412,\"fYtoAbsPixelk\":1263.65044620155,\"fYtoPixelk\":447.93844609676,\"fYtoPixel\":-275.654396018171,\"fUtoAbsPixelk\":1221.96004946445,\"fUtoPixelk\":5e-5,\"fUtoPixel\":1150.0800010711,\"fVtoAbsPixelk\":1160.28005026196,\"fVtoPixelk\":344.568000157177,\"fVtoPixel\":-344.568000157177,\"fAbsPixeltoXk\":-64.8906262278179,\"fPixeltoXk\":-5.12500041909518,\"fPixeltoX\":0.0489096417517073,\"fAbsPixeltoYk\":4.58418372590817,\"fPixeltoYk\":0.374999990686774,\"fPixeltoY\":-0.00362773100826616,\"fXlowNDC\":0,\"fYlowNDC\":0,\"fXUpNDC\":0,\"fYUpNDC\":0,\"fWNDC\":1,\"fHNDC\":0.3,\"fAbsXlowNDC\":0.509999999776483,\"fAbsYlowNDC\":0.00999999977648258,\"fAbsWNDC\":0.480000000447035,\"fAbsHNDC\":0.29400000013411,\"fUxmin\":0.5,\"fUymin\":0.5,\"fUxmax\":45.5,\"fUymax\":1.5,\"fTheta\":30,\"fPhi\":30,\"fAspectRatio\":0,\"fNumber\":0,\"fTickx\":0,\"fTicky\":0,\"fLogx\":0,\"fLogy\":0,\"fLogz\":0,\"fPadPaint\":0,\"fCrosshair\":0,\"fCrosshairPos\":0,\"fBorderSize\":2,\"fBorderMode\":0,\"fModified\":false,\"fGridx\":true,\"fGridy\":true,\"fAbsCoord\":false,\"fEditable\":true,\"fFixedAspectRatio\":false,\"fPrimitives\":{\"_typename\":\"TList\",\"name\":\"TList\",\"arr\":[{\"_typename\":\"TFrame\",\"fUniqueID\":0,\"fBits\":50331656,\"fLineColor\":1,\"fLineStyle\":1,\"fLineWidth\":1,\"fFillColor\":0,\"fFillStyle\":1001,\"fX1\":0.5,\"fY1\":0.5,\"fX2\":45.5,\"fY2\":1.5,\"fBorderSize\":1,\"fBorderMode\":0},{\"_typename\":\"TH1D\",\"fUniqueID\":0,\"fBits\":50332168,\"fName\":\"ratioPt_detector\",\"fTitle\":\"hPtData\",\"fLineColor\":1,\"fLineStyle\":1,\"fLineWidth\":1,\"fFillColor\":0,\"fFillStyle\":1001,\"fMarkerColor\":1,\"fMarkerStyle\":20,\"fMarkerSize\":1,\"fNcells\":47,\"fXaxis\":{\"_typename\":\"TAxis\",\"fUniqueID\":0,\"fBits\":50331648,\"fName\":\"xaxis\",\"fTitle\":\"Rec_Pt\",\"fNdivisions\":510,\"fAxisColor\":1,\"fLabelColor\":1,\"fLabelFont\":42,\"fLabelOffset\":0.005,\"fLabelSize\":0.035,\"fTickLength\":0.03,\"fTitleOffset\":1,\"fTitleSize\":0.035,\"fTitleColor\":1,\"fTitleFont\":42,\"fNbins\":45,\"fXmin\":0.5,\"fXmax\":45.5,\"fXbins\":[],\"fFirst\":0,\"fLast\":0,\"fBits2\":0,\"fTimeDisplay\":false,\"fTimeFormat\":\"\",\"fLabels\":null,\"fModLabs\":null},\"fYaxis\":{\"_typename\":\"TAxis\",\"fUniqueID\":0,\"fBits\":50331648,\"fName\":\"yaxis\",\"fTitle\":\"\",\"fNdivisions\":510,\"fAxisColor\":1,\"fLabelColor\":1,\"fLabelFont\":42,\"fLabelOffset\":0.005,\"fLabelSize\":0.035,\"fTickLength\":0.03,\"fTitleOffset\":0,\"fTitleSize\":0.035,\"fTitleColor\":1,\"fTitleFont\":42,\"fNbins\":1,\"fXmin\":0,\"fXmax\":1,\"fXbins\":[],\"fFirst\":0,\"fLast\":0,\"fBits2\":0,\"fTimeDisplay\":false,\"fTimeFormat\":\"\",\"fLabels\":null,\"fModLabs\":null},\"fZaxis\":{\"_typename\":\"TAxis\",\"fUniqueID\":0,\"fBits\":50331648,\"fName\":\"zaxis\",\"fTitle\":\"\",\"fNdivisions\":510,\"fAxisColor\":1,\"fLabelColor\":1,\"fLabelFont\":42,\"fLabelOffset\":0.005,\"fLabelSize\":0.035,\"fTickLength\":0.03,\"fTitleOffset\":1,\"fTitleSize\":0.035,\"fTitleColor\":1,\"fTitleFont\":42,\"fNbins\":1,\"fXmin\":0,\"fXmax\":1,\"fXbins\":[],\"fFirst\":0,\"fLast\":0,\"fBits2\":0,\"fTimeDisplay\":false,\"fTimeFormat\":\"\",\"fLabels\":null,\"fModLabs\":null},\"fBarOffset\":0,\"fBarWidth\":1000,\"fEntries\":51866.1891982932,\"fTsumw\":44.9411710832577,\"fTsumw2\":0.0389407606294913,\"fTsumwx\":1037.38077771623,\"fTsumwx2\":31591.2901212638,\"fMaximum\":1.5,\"fMinimum\":0.5,\"fNormFactor\":0,\"fContour\":[],\"fSumw2\":[0,2.07449779154273e-4,1.3458166226204e-4,1.55791717363438e-4,1.30276938869109e-4,1.05254374606839e-4,2.44421447165108e-4,5.67345801084031e-4,0.00115998453156779,0.00172895647577453,6.27953412446259e-5,3.8473410762974e-5,4.07785580664364e-5,3.31959089972929e-5,3.37519014267135e-5,7.05231685625847e-5,1.42111471326561e-4,2.90055532400402e-4,6.86130151775146e-4,2.90145714116485e-6,2.02756453029126e-6,2.5311207480277e-6,2.21301515467938e-6,2.11759513717309e-6,3.84209101785313e-6,7.42457487901302e-6,1.30120368592415e-5,2.46627875642044e-5,8.68558279881842e-5,5.78176990268366e-5,6.86609341278302e-5,6.08588442379622e-5,5.58328237075913e-5,9.99725197083335e-5,2.01528277734315e-4,2.93324360628987e-4,5.31702236571451e-4,0.00357499600961742,0.00182805445246352,0.00183832826982044,0.00148974971779682,0.00134096774841888,0.00286001443526253,0.00436510944565214,0.00737208082449299,0.00692229578679349,0],\"fOption\":\"\",\"fFunctions\":{\"_typename\":\"TList\",\"name\":\"TList\",\"arr\":[],\"opt\":[]},\"fBufferSize\":0,\"fBuffer\":[],\"fBinStatErrOpt\":0,\"fStatOverflows\":2,\"fArray\":[0,1.07246218879523,1.06939280481296,1.03195387555468,0.990419972946997,0.939687167262447,0.916293133500508,0.926873733020629,0.977236663968642,0.941632489735052,1.08056940976893,1.07297694410363,1.04679792014468,1.0065556306345,0.953407163940226,0.936867607780777,0.936147984550494,0.975643041059773,1.02289177550755,1.02508213462191,1.03288375870204,1.00871912769362,0.956486620617583,0.901869549762735,0.888355293855472,0.915547659006113,0.938483270069928,0.951289826496384,1.0731106421534,1.08045827018802,1.05740764498079,1.01350858409584,0.935125088037711,0.920258515484125,0.974616618023259,0.950449566272197,0.993146189316724,1.23535209025907,1.18957496517958,1.14111460239936,1.0456676196527,0.998847343296151,0.969083334380953,0.900096002556817,1.07239014083989,0.874437118227686,0]},{\"_typename\":\"TH1D\",\"fUniqueID\":0,\"fBits\":50332168,\"fName\":\"ratioPt_dressed\",\"fTitle\":\"Dilepton p_{T}\",\"fLineColor\":632,\"fLineStyle\":1,\"fLineWidth\":1,\"fFillColor\":0,\"fFillStyle\":1001,\"fMarkerColor\":632,\"fMarkerStyle\":20,\"fMarkerSize\":1,\"fNcells\":47,\"fXaxis\":{\"_typename\":\"TAxis\",\"fUniqueID\":0,\"fBits\":50331656,\"fName\":\"xaxis\",\"fTitle\":\"Gen_Pt\",\"fNdivisions\":520,\"fAxisColor\":1,\"fLabelColor\":1,\"fLabelFont\":42,\"fLabelOffset\":0.005,\"fLabelSize\":0.035,\"fTickLength\":0.03,\"fTitleOffset\":1,\"fTitleSize\":0.035,\"fTitleColor\":1,\"fTitleFont\":42,\"fNbins\":45,\"fXmin\":0.5,\"fXmax\":45.5,\"fXbins\":[],\"fFirst\":0,\"fLast\":0,\"fBits2\":0,\"fTimeDisplay\":false,\"fTimeFormat\":\"\",\"fLabels\":null,\"fModLabs\":null},\"fYaxis\":{\"_typename\":\"TAxis\",\"fUniqueID\":0,\"fBits\":50331656,\"fName\":\"yaxis\",\"fTitle\":\"Events\\/ bin\",\"fNdivisions\":10,\"fAxisColor\":1,\"fLabelColor\":1,\"fLabelFont\":42,\"fLabelOffset\":0.005,\"fLabelSize\":0.035,\"fTickLength\":0.03,\"fTitleOffset\":0,\"fTitleSize\":0.035,\"fTitleColor\":1,\"fTitleFont\":42,\"fNbins\":1,\"fXmin\":0,\"fXmax\":1,\"fXbins\":[],\"fFirst\":0,\"fLast\":0,\"fBits2\":0,\"fTimeDisplay\":false,\"fTimeFormat\":\"\",\"fLabels\":null,\"fModLabs\":null},\"fZaxis\":{\"_typename\":\"TAxis\",\"fUniqueID\":0,\"fBits\":50331648,\"fName\":\"zaxis\",\"fTitle\":\"\",\"fNdivisions\":510,\"fAxisColor\":1,\"fLabelColor\":1,\"fLabelFont\":42,\"fLabelOffset\":0.005,\"fLabelSize\":0.035,\"fTickLength\":0.03,\"fTitleOffset\":1,\"fTitleSize\":0.035,\"fTitleColor\":1,\"fTitleFont\":42,\"fNbins\":1,\"fXmin\":0,\"fXmax\":1,\"fXbins\":[],\"fFirst\":0,\"fLast\":0,\"fBits2\":0,\"fTimeDisplay\":false,\"fTimeFormat\":\"\",\"fLabels\":null,\"fModLabs\":null},\"fBarOffset\":0,\"fBarWidth\":1000,\"fEntries\":89629.6664519299,\"fTsumw\":45.1229349547387,\"fTsumw2\":0.0227165774405907,\"fTsumwx\":1040.52066055158,\"fTsumwx2\":31645.9841745109,\"fMaximum\":500000000,\"fMinimum\":1,\"fNormFactor\":0,\"fContour\":[],\"fSumw2\":[0,1.05587917370042e-4,8.13478277662753e-5,1.04176510912065e-4,8.62414952744722e-5,6.38780199955803e-5,1.5361109257736e-4,3.04488594299627e-4,5.34130232874512e-4,5.99912164034392e-4,4.26644651009651e-5,3.68197693073975e-5,4.24253598898632e-5,2.81951769226154e-5,2.44570543123293e-5,4.39394969135669e-5,8.49888288089988e-5,1.56043874305071e-4,3.27139404472702e-4,1.09650926839269e-6,9.89607577730169e-7,1.20966555306646e-6,8.3862378082266e-7,6.4563157424029e-7,9.77034086751204e-7,1.53917177266749e-6,2.35940159728581e-6,4.13558322033058e-6,3.90699373063989e-5,3.43141542113302e-5,4.09993072966661e-5,2.77563801982813e-5,2.3948733258264e-5,4.00117416724725e-5,6.18203959110361e-5,9.8630846780991e-5,1.38558938406081e-4,0.00180730396039941,0.00167461918425122,0.00179635146713852,0.00132368581221414,7.88860356127138e-4,0.00212022641739309,0.00291149475834029,0.00325105093441804,0.00370403560169817,0],\"fOption\":\"\",\"fFunctions\":{\"_typename\":\"TList\",\"name\":\"TList\",\"arr\":[],\"opt\":[]},\"fBufferSize\":0,\"fBuffer\":[],\"fBinStatErrOpt\":0,\"fStatOverflows\":2,\"fArray\":[0,1.06982309480947,1.07197945357859,1.02940878129624,0.988123572019839,0.930203401888387,0.910417067536382,0.922415687097951,0.977574520071643,0.931746677034003,1.10329166317518,1.09820077166831,1.06991418457757,1.026462776766,0.968430354485829,0.958676656648315,0.944859352700403,0.992229389760067,1.06545726488913,1.02272935202722,1.03735447122667,1.00996416174749,0.954180455209892,0.898535063377552,0.886396599371011,0.915589872209191,0.938804310869996,0.951288413322051,1.07459111798036,1.08871255798191,1.06050510267834,1.01797110249906,0.930922485409253,0.919012141566937,0.983368440061953,0.947898298598132,0.999871308535396,1.25488907802895,1.18311289560202,1.15617974426278,1.02335781333,0.995861986719422,0.972465587804908,0.876988973390714,1.1104499956802,0.852718955243918,0]},{\"_typename\":\"TH1D\",\"fUniqueID\":0,\"fBits\":50331656,\"fName\":\"ratioPt_preFSR\",\"fTitle\":\"hPtUnfoldedData_\",\"fLineColor\":616,\"fLineStyle\":1,\"fLineWidth\":1,\"fFillColor\":0,\"fFillStyle\":1001,\"fMarkerColor\":616,\"fMarkerStyle\":22,\"fMarkerSize\":0.8,\"fNcells\":47,\"fXaxis\":{\"_typename\":\"TAxis\",\"fUniqueID\":0,\"fBits\":50331648,\"fName\":\"xaxis\",\"fTitle\":\"Gen_Pt\",\"fNdivisions\":510,\"fAxisColor\":1,\"fLabelColor\":1,\"fLabelFont\":42,\"fLabelOffset\":0.005,\"fLabelSize\":0.035,\"fTickLength\":0.03,\"fTitleOffset\":1,\"fTitleSize\":0.035,\"fTitleColor\":1,\"fTitleFont\":42,\"fNbins\":45,\"fXmin\":0.5,\"fXmax\":45.5,\"fXbins\":[],\"fFirst\":0,\"fLast\":0,\"fBits2\":0,\"fTimeDisplay\":false,\"fTimeFormat\":\"\",\"fLabels\":null,\"fModLabs\":null},\"fYaxis\":{\"_typename\":\"TAxis\",\"fUniqueID\":0,\"fBits\":50331648,\"fName\":\"yaxis\",\"fTitle\":\"\",\"fNdivisions\":510,\"fAxisColor\":1,\"fLabelColor\":1,\"fLabelFont\":42,\"fLabelOffset\":0.005,\"fLabelSize\":0.035,\"fTickLength\":0.03,\"fTitleOffset\":0,\"fTitleSize\":0.035,\"fTitleColor\":1,\"fTitleFont\":42,\"fNbins\":1,\"fXmin\":0,\"fXmax\":1,\"fXbins\":[],\"fFirst\":0,\"fLast\":0,\"fBits2\":0,\"fTimeDisplay\":false,\"fTimeFormat\":\"\",\"fLabels\":null,\"fModLabs\":null},\"fZaxis\":{\"_typename\":\"TAxis\",\"fUniqueID\":0,\"fBits\":50331648,\"fName\":\"zaxis\",\"fTitle\":\"\",\"fNdivisions\":510,\"fAxisColor\":1,\"fLabelColor\":1,\"fLabelFont\":42,\"fLabelOffset\":0.005,\"fLabelSize\":0.035,\"fTickLength\":0.03,\"fTitleOffset\":1,\"fTitleSize\":0.035,\"fTitleColor\":1,\"fTitleFont\":42,\"fNbins\":1,\"fXmin\":0,\"fXmax\":1,\"fXbins\":[],\"fFirst\":0,\"fLast\":0,\"fBits2\":0,\"fTimeDisplay\":false,\"fTimeFormat\":\"\",\"fLabels\":null,\"fModLabs\":null},\"fBarOffset\":0,\"fBarWidth\":1000,\"fEntries\":81808.3174507749,\"fTsumw\":45.2405952349802,\"fTsumw2\":0.0250183785829216,\"fTsumwx\":1042.40940052654,\"fTsumwx2\":31665.1868828144,\"fMaximum\":-1111,\"fMinimum\":-1111,\"fNormFactor\":0,\"fContour\":[],\"fSumw2\":[0,8.78251513005626e-5,7.89049631967196e-5,1.1216561854173e-4,1.13859203447963e-4,1.22623132201913e-4,2.88978089342957e-4,4.41147244857565e-4,7.31820571019195e-4,7.90214086869589e-4,5.0439233540993e-5,5.38793498716541e-5,8.43078923011143e-5,6.95741043576804e-5,5.95863788419248e-5,9.18580715008769e-5,1.62616229139246e-4,2.75577944590519e-4,5.52572696801793e-4,1.09072965174916e-6,1.00629844818077e-6,1.23109257368384e-6,8.41157058762784e-7,6.3694336221495e-7,9.53734891539366e-7,1.48734099678858e-6,2.27188773150517e-6,3.95267329435928e-6,3.87580042917831e-5,3.47498626748975e-5,4.17301483941704e-5,2.81273957037905e-5,2.39398892042592e-5,3.98256251387828e-5,6.15042781053384e-5,9.74994579698792e-5,1.35082621494104e-4,0.0019436336551713,0.00182388960162876,0.00196461717812083,0.00139938558830372,8.14268351412694e-4,0.00218486237236129,0.00308474483662476,0.00338090645795457,0.00373943143863384,0],\"fOption\":\"\",\"fFunctions\":{\"_typename\":\"TList\",\"name\":\"TList\",\"arr\":[],\"opt\":[]},\"fBufferSize\":0,\"fBuffer\":[],\"fBinStatErrOpt\":0,\"fStatOverflows\":2,\"fArray\":[0,1.06692748044284,1.07141160670584,1.02875548655887,0.985987439456741,0.901936670172294,0.892548353937594,0.925301128266793,0.982914775824865,0.92590909338787,1.11177971857303,1.11792127772098,1.09747909742638,1.04510038650589,0.978703065947852,0.98511354424702,0.95700558391913,1.01082751768651,1.10224044020727,1.02254529505563,1.03751820029523,1.01001598592226,0.954186271682742,0.898788712135332,0.886700096858202,0.915786643645857,0.93898551645226,0.951442409647971,1.07405019642506,1.08860329053756,1.06008425817362,1.01758485273487,0.930108922253683,0.918413692201253,0.98376452706226,0.947431246545258,0.999975852139368,1.25609513634223,1.1825328550735,1.15638015303865,1.0199006631172,0.993680198434856,0.971517770628963,0.87026825263064,1.11492565474113,0.851445914216878,0]},{\"_typename\":\"TH1D\",\"fUniqueID\":0,\"fBits\":50331656,\"fName\":\"ratioPt_preFSR_twoStep\",\"fTitle\":\"hPtFSRUnfoldedData\",\"fLineColor\":600,\"fLineStyle\":1,\"fLineWidth\":1,\"fFillColor\":0,\"fFillStyle\":1001,\"fMarkerColor\":600,\"fMarkerStyle\":20,\"fMarkerSize\":1,\"fNcells\":47,\"fXaxis\":{\"_typename\":\"TAxis\",\"fUniqueID\":0,\"fBits\":50331648,\"fName\":\"xaxis\",\"fTitle\":\"Gen_Pt\",\"fNdivisions\":510,\"fAxisColor\":1,\"fLabelColor\":1,\"fLabelFont\":42,\"fLabelOffset\":0.005,\"fLabelSize\":0.035,\"fTickLength\":0.03,\"fTitleOffset\":1,\"fTitleSize\":0.035,\"fTitleColor\":1,\"fTitleFont\":42,\"fNbins\":45,\"fXmin\":0.5,\"fXmax\":45.5,\"fXbins\":[],\"fFirst\":0,\"fLast\":0,\"fBits2\":0,\"fTimeDisplay\":false,\"fTimeFormat\":\"\",\"fLabels\":null,\"fModLabs\":null},\"fYaxis\":{\"_typename\":\"TAxis\",\"fUniqueID\":0,\"fBits\":50331648,\"fName\":\"yaxis\",\"fTitle\":\"\",\"fNdivisions\":510,\"fAxisColor\":1,\"fLabelColor\":1,\"fLabelFont\":42,\"fLabelOffset\":0.005,\"fLabelSize\":0.035,\"fTickLength\":0.03,\"fTitleOffset\":0,\"fTitleSize\":0.035,\"fTitleColor\":1,\"fTitleFont\":42,\"fNbins\":1,\"fXmin\":0,\"fXmax\":1,\"fXbins\":[],\"fFirst\":0,\"fLast\":0,\"fBits2\":0,\"fTimeDisplay\":false,\"fTimeFormat\":\"\",\"fLabels\":null,\"fModLabs\":null},\"fZaxis\":{\"_typename\":\"TAxis\",\"fUniqueID\":0,\"fBits\":50331648,\"fName\":\"zaxis\",\"fTitle\":\"\",\"fNdivisions\":510,\"fAxisColor\":1,\"fLabelColor\":1,\"fLabelFont\":42,\"fLabelOffset\":0.005,\"fLabelSize\":0.035,\"fTickLength\":0.03,\"fTitleOffset\":1,\"fTitleSize\":0.035,\"fTitleColor\":1,\"fTitleFont\":42,\"fNbins\":1,\"fXmin\":0,\"fXmax\":1,\"fXbins\":[],\"fFirst\":0,\"fLast\":0,\"fBits2\":0,\"fTimeDisplay\":false,\"fTimeFormat\":\"\",\"fLabels\":null,\"fModLabs\":null},\"fBarOffset\":0,\"fBarWidth\":1000,\"fEntries\":76284.2604070564,\"fTsumw\":45.3043598353346,\"fTsumw2\":0.02690574712447,\"fTsumwx\":1043.19979941839,\"fTsumwx2\":31669.6021552793,\"fMaximum\":-1111,\"fMinimum\":-1111,\"fNormFactor\":0,\"fContour\":[],\"fSumw2\":[0,1.13568600005095e-4,9.42854869508829e-5,1.3634415984423e-4,1.39988762489102e-4,1.67788759871881e-4,4.01588599531917e-4,5.52779574808121e-4,8.71742315417844e-4,8.75597470489342e-4,5.64839047956714e-5,6.53241610689597e-5,1.13817893765302e-4,1.01677566582587e-4,8.81034622517149e-5,1.29482253832394e-4,2.27089872257203e-4,3.83553779625669e-4,7.35795290006958e-4,1.13603701146666e-6,1.05170604059855e-6,1.29955617418622e-6,8.83680769076134e-7,6.67242032838996e-7,1.00360512420009e-6,1.57373189424431e-6,2.40151409459298e-6,4.19353084942436e-6,4.03628040592437e-5,3.60754893299393e-5,4.36206266520915e-5,2.93413589526087e-5,2.50567821875734e-5,4.17537248263873e-5,6.42659557172394e-5,1.01633455385559e-4,1.42355456896758e-4,0.00192937726539371,0.00179800206377051,0.00198778063357594,0.00149034295476908,8.575833527963e-4,0.00231357983928769,0.00322059782816412,0.00355598453337255,0.00395881048174724,0],\"fOption\":\"\",\"fFunctions\":{\"_typename\":\"TList\",\"name\":\"TList\",\"arr\":[],\"opt\":[]},\"fBufferSize\":0,\"fBuffer\":[],\"fBinStatErrOpt\":0,\"fStatOverflows\":2,\"fArray\":[0,1.0705242476386,1.07534435577175,1.03239528144846,0.987146298146431,0.892187260052937,0.881500659394264,0.921889402861113,0.984625404800584,0.923739965807296,1.11648146272201,1.12684422248784,1.11022050905665,1.05618513735119,0.980396420836954,0.995301232479291,0.961992397528117,1.0203985951322,1.12196996028859,1.02248845176443,1.0379673968408,1.01012448015234,0.953743221266221,0.898025339208498,0.886045668669027,0.91544412051025,0.93874206994261,0.951205562383145,1.07444694979222,1.08933525435672,1.06061208491796,1.017818611652,0.929365573052895,0.917692735048512,0.983817472380378,0.947061185942912,1.00008198442787,1.25760796055508,1.18290946306454,1.15833572852419,1.01735811286012,0.99360620701351,0.969200723535737,0.868114752185801,1.11764841504841,0.846417496434161,0]},{\"_typename\":\"TH1D\",\"fUniqueID\":0,\"fBits\":50331656,\"fName\":\"ratioPtMC_preFSR\",\"fTitle\":\"hPtUnfoldedMC_closure\",\"fLineColor\":602,\"fLineStyle\":1,\"fLineWidth\":1,\"fFillColor\":0,\"fFillStyle\":1001,\"fMarkerColor\":1,\"fMarkerStyle\":25,\"fMarkerSize\":1,\"fNcells\":47,\"fXaxis\":{\"_typename\":\"TAxis\",\"fUniqueID\":0,\"fBits\":50331648,\"fName\":\"xaxis\",\"fTitle\":\"Gen_Pt\",\"fNdivisions\":510,\"fAxisColor\":1,\"fLabelColor\":1,\"fLabelFont\":42,\"fLabelOffset\":0.005,\"fLabelSize\":0.035,\"fTickLength\":0.03,\"fTitleOffset\":1,\"fTitleSize\":0.035,\"fTitleColor\":1,\"fTitleFont\":42,\"fNbins\":45,\"fXmin\":0.5,\"fXmax\":45.5,\"fXbins\":[],\"fFirst\":0,\"fLast\":0,\"fBits2\":0,\"fTimeDisplay\":false,\"fTimeFormat\":\"\",\"fLabels\":null,\"fModLabs\":null},\"fYaxis\":{\"_typename\":\"TAxis\",\"fUniqueID\":0,\"fBits\":50331648,\"fName\":\"yaxis\",\"fTitle\":\"\",\"fNdivisions\":510,\"fAxisColor\":1,\"fLabelColor\":1,\"fLabelFont\":42,\"fLabelOffset\":0.005,\"fLabelSize\":0.035,\"fTickLength\":0.03,\"fTitleOffset\":0,\"fTitleSize\":0.035,\"fTitleColor\":1,\"fTitleFont\":42,\"fNbins\":1,\"fXmin\":0,\"fXmax\":1,\"fXbins\":[],\"fFirst\":0,\"fLast\":0,\"fBits2\":0,\"fTimeDisplay\":false,\"fTimeFormat\":\"\",\"fLabels\":null,\"fModLabs\":null},\"fZaxis\":{\"_typename\":\"TAxis\",\"fUniqueID\":0,\"fBits\":50331648,\"fName\":\"zaxis\",\"fTitle\":\"\",\"fNdivisions\":510,\"fAxisColor\":1,\"fLabelColor\":1,\"fLabelFont\":42,\"fLabelOffset\":0.005,\"fLabelSize\":0.035,\"fTickLength\":0.03,\"fTitleOffset\":1,\"fTitleSize\":0.035,\"fTitleColor\":1,\"fTitleFont\":42,\"fNbins\":1,\"fXmin\":0,\"fXmax\":1,\"fXbins\":[],\"fFirst\":0,\"fLast\":0,\"fBits2\":0,\"fTimeDisplay\":false,\"fTimeFormat\":\"\",\"fLabels\":null,\"fModLabs\":null},\"fBarOffset\":0,\"fBarWidth\":1000,\"fEntries\":42302.5140642862,\"fTsumw\":45.0248687406037,\"fTsumw2\":0.0479224190323025,\"fTsumwx\":1035.33313460161,\"fTsumwx2\":31400.1749661467,\"fMaximum\":-1111,\"fMinimum\":-1111,\"fNormFactor\":0,\"fContour\":[],\"fSumw2\":[0,2.57261416772332e-4,1.90323497268131e-4,2.37263091164659e-4,1.77136024135282e-4,1.44032914114991e-4,2.9122800514878e-4,6.54331848293656e-4,0.00126616958025038,0.00198175024670251,1.13574727189791e-4,1.0052763550816e-4,1.18035532608228e-4,8.34087215659381e-5,7.77815523595014e-5,1.62446664811356e-4,3.14185112719742e-4,5.92680275497584e-4,0.00125835837281893,3.19112125152089e-6,2.94427931454513e-6,3.82189534198017e-6,2.91324095153008e-6,2.61111253725653e-6,4.87293074014967e-6,8.95722189228867e-6,1.46679303383113e-5,2.69077976398391e-5,1.04346879069538e-4,9.49323130970994e-5,1.18601755999637e-4,8.59909484594379e-5,7.16782996158801e-5,1.29674436928353e-4,2.32457483948345e-4,3.32387244590986e-4,5.84852586870112e-4,0.00434046376826284,0.00419872243286817,0.0046068807019407,0.00253582807786697,0.00166607452773413,0.00275297378865209,0.004248895863017,0.00695962283105289,0.00676665234339095,0],\"fOption\":\"\",\"fFunctions\":{\"_typename\":\"TList\",\"name\":\"TList\",\"arr\":[],\"opt\":[]},\"fBufferSize\":0,\"fBuffer\":[],\"fBinStatErrOpt\":0,\"fStatOverflows\":2,\"fArray\":[0,0.999882998378303,1.00004186470918,0.999825815616212,1.00138042195542,1.00003642371285,1.00164973343206,1.00117345155859,1.00080173989963,1.00189485473017,1.0007639550429,1.00115691807879,1.00168362729532,1.00180858661409,1.00247383943875,1.00200348230186,1.00185425049354,1.00133129134327,1.003214695258,1.00011986131622,1.00016605807629,1.0001595976916,1.00018804211284,1.00011958946576,1.00024072786963,1.00010643624062,1.00015060718531,1.00025706109404,1.00011555248025,1.00000766992991,0.999997902726567,1.00008565588177,1.00002395592758,0.999998970444552,0.999895196917364,1.00009811864121,1.00016887290101,0.99999898297407,0.999999801587213,1.00000025767857,0.999998347642181,0.999999689217535,0.999999946791233,1.00000088578857,0.999997383916492,0.999995618246378,0]},{\"_typename\":\"TLine\",\"fUniqueID\":0,\"fBits\":50331656,\"fLineColor\":632,\"fLineStyle\":1,\"fLineWidth\":1,\"fX1\":0.5,\"fY1\":1,\"fX2\":45.5,\"fY2\":1},{\"_typename\":\"TPaveText\",\"fUniqueID\":0,\"fBits\":50331657,\"fLineColor\":1,\"fLineStyle\":1,\"fLineWidth\":1,\"fFillColor\":0,\"fFillStyle\":0,\"fX1\":20.7745721720601,\"fY1\":1.55000001313165,\"fX2\":25.22542782794,\"fY2\":1.61875001518056,\"fX1NDC\":0.460436839203938,\"fY1NDC\":0.940000003948808,\"fX2NDC\":0.539563160796062,\"fY2NDC\":0.995000004768372,\"fBorderSize\":0,\"fInit\":1,\"fShadowColor\":1,\"fCornerRadius\":0,\"fOption\":\"blNDC\",\"fName\":\"title\",\"fTextAngle\":0,\"fTextSize\":0,\"fTextAlign\":22,\"fTextColor\":1,\"fTextFont\":42,\"fLabel\":\"\",\"fLongest\":7,\"fMargin\":0.05,\"fLines\":{\"_typename\":\"TList\",\"name\":\"TList\",\"arr\":[{\"_typename\":\"TLatex\",\"fUniqueID\":0,\"fBits\":50331648,\"fName\":\"\",\"fTitle\":\"hPtData\",\"fTextAngle\":0,\"fTextSize\":0,\"fTextAlign\":0,\"fTextColor\":0,\"fTextFont\":0,\"fX\":0,\"fY\":0,\"fLineColor\":1,\"fLineStyle\":1,\"fLineWidth\":2,\"fLimitFactorSize\":3,\"fOriginSize\":0.0467500016093254}],\"opt\":[\"\"]}}],\"opt\":[\"\",\"pe\",\"pe same\",\"pe same\",\"pe same\",\"pe same\",\"same\",\"blNDC\"]},\"fExecs\":{\"_typename\":\"TList\",\"name\":\"TList\",\"arr\":[],\"opt\":[]},\"fName\":\"ratio_pt\",\"fTitle\":\"ratio_pt\",\"fNumPaletteColor\":0,\"fNextPaletteColor\":0}],\"opt\":[\"\",\"\"]},\"fExecs\":{\"_typename\":\"TList\",\"name\":\"TList\",\"arr\":[],\"opt\":[]},\"fName\":\"c_2\",\"fTitle\":\"c_2\",\"fNumPaletteColor\":0,\"fNextPaletteColor\":0}],\"opt\":[\"\",\"\"]},\"fExecs\":null,\"fName\":\"c\",\"fTitle\":\"c\",\"fNumPaletteColor\":0,\"fNextPaletteColor\":0,\"fDISPLAY\":\"$DISPLAY\",\"fDoubleBuffer\":0,\"fRetained\":true,\"fXsizeUser\":0,\"fYsizeUser\":0,\"fXsizeReal\":20,\"fYsizeReal\":10,\"fWindowTopX\":0,\"fWindowTopY\":0,\"fWindowWidth\":0,\"fWindowHeight\":0,\"fCw\":2396,\"fCh\":1172,\"fCatt\":{\"_typename\":\"TAttCanvas\",\"fXBetween\":2,\"fYBetween\":2,\"fTitleFromTop\":1.2,\"fXdate\":0.2,\"fYdate\":0.3,\"fAdate\":1},\"kMoveOpaque\":true,\"kResizeOpaque\":true,\"fHighLightColor\":2,\"fBatch\":true,\"kShowEventStatus\":false,\"kAutoExec\":true,\"kMenuBar\":true});\n",
       "       Core.draw(\"root_plot_1\", obj, \"\");\n",
       "     }\n",
       " );\n",
       "</script>\n"
      ],
      "text/plain": [
       "<IPython.core.display.HTML object>"
      ]
     },
     "metadata": {},
     "output_type": "display_data"
    }
   ],
   "source": [
    "# Canvas for mass distribution\n",
    "colorDetector = rt.kBlack\n",
    "colorDressed  = rt.kRed\n",
    "colorPreFSR   = rt.kBlue\n",
    "\n",
    "c.cd(1)\n",
    "\n",
    "pad_mass.cd()\n",
    "pad_mass.SetLogy()\n",
    "pad_mass.SetLogx()\n",
    "pad_mass.SetGridy()\n",
    "pad_mass.SetGridx()\n",
    "\n",
    "hMassData.SetMarkerStyle(20)\n",
    "hMassData.SetLineColor(colorDetector)\n",
    "hMassData.SetMarkerColor(colorDetector)\n",
    "\n",
    "hMassUnfoldedData.SetMarkerStyle(20)\n",
    "hMassUnfoldedData.SetLineColor(colorDressed)\n",
    "hMassUnfoldedData.SetMarkerColor(colorDressed)\n",
    "\n",
    "hMassFSRUnfoldedData.SetMarkerStyle(20)\n",
    "hMassFSRUnfoldedData.SetMarkerColor(colorPreFSR)\n",
    "hMassFSRUnfoldedData.SetLineColor(colorPreFSR)\n",
    "\n",
    "hMassUnfoldedData_.SetMarkerStyle(22)\n",
    "hMassUnfoldedData_.SetMarkerSize(0.5)\n",
    "hMassUnfoldedData_.SetLineColor(rt.kMagenta)\n",
    "hMassUnfoldedData_.SetMarkerColor(rt.kMagenta)\n",
    "\n",
    "hMassUnfoldedMC_closure.SetMarkerStyle(25)\n",
    "hMassUnfoldedMC_closure.SetLineColor(rt.kMagenta)\n",
    "\n",
    "hMassUnfoldedData.GetYaxis().SetTitle(\"Events/ bin\")\n",
    "\n",
    "hMassUnfoldedData.SetStats(rt.kFALSE)\n",
    "hMassUnfoldedData.Draw(\"hist pe\")\n",
    "\n",
    "hMassFSRUnfoldedData.Draw(\"pe same\")\n",
    "hMassUnfoldedData_.Draw(\"pe same\")\n",
    "#hMassUnfoldedMC_closure.Draw(\"pe same\")\n",
    "hMassData.Draw(\"pe same\")\n",
    "\n",
    "hMassUnfoldedData.GetYaxis().SetNdivisions(10)\n",
    "hMassUnfoldedData.GetXaxis().SetNdivisions(520)\n",
    "\n",
    "hMassUnfoldedData.SetMaximum(5e8)\n",
    "hMassUnfoldedData.SetMinimum(1)\n",
    "\n",
    "legend_mass = rt.TLegend(0.7, 0.7, 0.9, 0.9)\n",
    "legend_mass.AddEntry(hMassData, \"Detector  data\", \"ple\")\n",
    "legend_mass.AddEntry(hMassUnfoldedData, \"Det unfolded data\", \"ple\")\n",
    "legend_mass.AddEntry(hMassFSRUnfoldedData, \"Pre-FSR unfolded data\", \"ple\")\n",
    "legend_mass.Draw()\n",
    "\n",
    "c.cd(1)\n",
    "\n",
    "ratio_mass.cd()\n",
    "ratio_mass.SetLogx()\n",
    "#ratio_mass.SetGridx()\n",
    "ratio_mass.SetGridy()\n",
    "\n",
    "ratioMass_detector = hMassData.Clone(\"ratioMass_detector\")\n",
    "ratioMass_dressed = hMassUnfoldedData.Clone(\"ratioMass_dressed\")\n",
    "ratioMass_preFSR = hMassUnfoldedData_.Clone(\"ratioMass_preFSR\")\n",
    "ratioMass_preFSR_twoStep = hMassFSRUnfoldedData.Clone(\"ratioMass_preFSR_twoStep\")\n",
    "ratioMassMC_preFSR = hMassUnfoldedMC_closure.Clone(\"ratioMassMC_preFSR\")\n",
    "ratioMass_detector.Divide(hDYMC_detector)\n",
    "ratioMass_dressed.Divide(hMassMCTruth)\n",
    "ratioMass_preFSR.Divide(hMassUnfoldedMC_)\n",
    "ratioMass_preFSR_twoStep.Divide(hMassMCTruth_preFSR)\n",
    "ratioMassMC_preFSR.Divide(hMassMCTruth)\n",
    "ratioMass_detector.SetStats(rt.kFALSE)\n",
    "ratioMass_detector.Draw(\"pe\")\n",
    "ratioMass_dressed.Draw(\"pe same\")\n",
    "ratioMass_preFSR.Draw(\"pe same\")\n",
    "ratioMassMC_preFSR.Draw(\"pe same\")\n",
    "ratioMass_preFSR_twoStep.Draw(\"pe same\")\n",
    "ratioMass_detector.SetMinimum(0.5)\n",
    "ratioMass_detector.SetMaximum(1.5)\n",
    "\n",
    "line_mass = rt.TLine(15, 1, 1000, 1)\n",
    "line_mass.SetLineColor(rt.kRed)\n",
    "line_mass.Draw(\"same\")\n",
    "\n",
    "ratioMass_detector.GetYaxis().SetTitle(\"Data/ MC\")\n",
    "\n",
    "# Canavs for pt distributions\n",
    "c.cd(2)\n",
    "pad_pt.cd()\n",
    "pad_pt.SetLogy()\n",
    "pad_pt.SetGridy()\n",
    "#pad_pt.SetGridx()\n",
    "\n",
    "hPtUnfoldedData.SetTitle(\"Dilepton p_{T}\")\n",
    "hPtData.SetMarkerStyle(20)\n",
    "hPtData.SetLineColor(colorDetector)\n",
    "hPtData.SetMarkerColor(colorDetector)\n",
    "\n",
    "hPtUnfoldedData.SetMarkerStyle(20)\n",
    "hPtUnfoldedData.SetLineColor(colorDressed)\n",
    "hPtUnfoldedData.SetMarkerColor(colorDressed)\n",
    "\n",
    "hPtFSRUnfoldedData.SetMarkerStyle(20)\n",
    "hPtFSRUnfoldedData.SetMarkerColor(colorPreFSR)\n",
    "hPtFSRUnfoldedData.SetLineColor(colorPreFSR)\n",
    "\n",
    "hPtUnfoldedData_.SetMarkerStyle(22)\n",
    "hPtUnfoldedData_.SetMarkerSize(0.8)\n",
    "hPtUnfoldedData_.SetLineColor(rt.kMagenta)\n",
    "hPtUnfoldedData_.SetMarkerColor(rt.kMagenta)\n",
    "\n",
    "hPtUnfoldedData.SetStats(rt.kFALSE)\n",
    "hPtUnfoldedData.Draw(\"hist pe\")\n",
    "\n",
    "hPtFSRUnfoldedData.Draw(\"pe same\")\n",
    "hPtUnfoldedData_.Draw(\"pe same\")\n",
    "#hPtUnfoldedMC_closure.Draw(\"pe same\")\n",
    "hPtData.Draw(\"pe same\")\n",
    "\n",
    "hPtUnfoldedData.GetYaxis().SetTitle(\"Events/ bin\")\n",
    "\n",
    "hPtUnfoldedData.GetYaxis().SetNdivisions(10)\n",
    "hPtUnfoldedData.GetXaxis().SetNdivisions(520)\n",
    "\n",
    "hPtUnfoldedData.SetMaximum(5e8)\n",
    "hPtUnfoldedData.SetMinimum(1)\n",
    "\n",
    "legend_pt = rt.TLegend(0.7, 0.7, 0.9, 0.9)\n",
    "legend_pt.AddEntry(hPtData, \"Detector  data\", \"ple\")\n",
    "legend_pt.AddEntry(hPtUnfoldedData, \"Det unfolded data\", \"ple\")\n",
    "legend_pt.AddEntry(hPtFSRUnfoldedData, \"Pre-FSR unfolded data\", \"ple\")\n",
    "legend_pt.Draw()\n",
    "\n",
    "c.cd(2)\n",
    "\n",
    "ratio_pt.cd()\n",
    "#ratio_pt.SetLogx()\n",
    "ratio_pt.SetGridx()\n",
    "ratio_pt.SetGridy()\n",
    "\n",
    "ratioPt_detector = hPtData.Clone(\"ratioPt_detector\")\n",
    "ratioPt_dressed = hPtUnfoldedData.Clone(\"ratioPt_dressed\")\n",
    "ratioPt_preFSR = hPtUnfoldedData_.Clone(\"ratioPt_preFSR\")\n",
    "ratioPt_preFSR_twoStep = hPtFSRUnfoldedData.Clone(\"ratioPt_preFSR_twoStep\")\n",
    "ratioPtMC_preFSR = hPtUnfoldedMC_closure.Clone(\"ratioPtMC_preFSR\")\n",
    "ratioPt_detector.Divide(hDYMCPt_detector)\n",
    "ratioPt_dressed.Divide(hPtMCTruth)\n",
    "ratioPt_preFSR.Divide(hPtUnfoldedMC_)\n",
    "ratioPt_preFSR_twoStep.Divide(hPtMCTruth_preFSR)\n",
    "ratioPtMC_preFSR.Divide(hPtMCTruth)\n",
    "ratioPt_detector.SetStats(rt.kFALSE)\n",
    "ratioPt_detector.Draw(\"pe\")\n",
    "ratioPt_dressed.Draw(\"pe same\")\n",
    "ratioPt_preFSR.Draw(\"pe same\")\n",
    "ratioPt_preFSR_twoStep.Draw(\"pe same\")\n",
    "\n",
    "ratioPtMC_preFSR.SetMarkerStyle(25)\n",
    "ratioPtMC_preFSR.Draw(\"pe same\")\n",
    "ratioPt_detector.SetMinimum(0.5)\n",
    "ratioPt_detector.SetMaximum(1.5)\n",
    "\n",
    "line_pt = rt.TLine(0.5, 1, 45.5, 1)\n",
    "line_pt.SetLineColor(rt.kRed)\n",
    "line_pt.Draw(\"same\")\n",
    "\n",
    "ratioMass_detector.GetYaxis().SetTitle(\"Data/ MC\")\n",
    "\n",
    "c.Draw()\n",
    "c.SaveAs(\"Mass_Pt.png\")"
   ]
  },
  {
   "cell_type": "code",
   "execution_count": 24,
   "metadata": {},
   "outputs": [
    {
     "data": {
      "text/plain": [
       "84891.95863272919"
      ]
     },
     "execution_count": 24,
     "metadata": {},
     "output_type": "execute_result"
    }
   ],
   "source": [
    "hMassMCTruth.GetBinContent(1)"
   ]
  },
  {
   "cell_type": "markdown",
   "metadata": {},
   "source": [
    "- Understand how the response matrix handled (Underflow/Overflow, 0 bin...)\n",
    "- Check if the unfolding result of the last mass bin could be improved (Regularisation?) \n",
    "- Input correlation matrix\n",
    "- How to handle systematics within TUfold"
   ]
  },
  {
   "cell_type": "code",
   "execution_count": 25,
   "metadata": {
    "scrolled": true
   },
   "outputs": [
    {
     "name": "stdout",
     "output_type": "stream",
     "text": [
      "ISRUnfold::setMeanMass()   Save mean of dilepton...\n",
      "Detector, 0 th mass bin, mean: 57.3238 +/- 0.0103943\n",
      "Unfolded, 0 th mass bin, mean: 57.163 +/- 0.0174541\n",
      "MC, 0 th mass bin, mean: 57.1675 +/- 0.00436173\n",
      "Detector, 1 th mass bin, mean: 74.7116 +/- 0.00565352\n",
      "Unfolded, 1 th mass bin, mean: 74.1085 +/- 0.0150652\n",
      "MC, 1 th mass bin, mean: 74.052 +/- 0.00359311\n",
      "Detector, 2 th mass bin, mean: 90.0734 +/- 0.00110414\n",
      "Unfolded, 2 th mass bin, mean: 90.9395 +/- 0.00221228\n",
      "MC, 2 th mass bin, mean: 91.0142 +/- 0.000622185\n",
      "Detector, 3 th mass bin, mean: 119.183 +/- 0.0332361\n",
      "Unfolded, 3 th mass bin, mean: 118.094 +/- 0.0625966\n",
      "MC, 3 th mass bin, mean: 117.896 +/- 0.0184397\n",
      "Detector, 4 th mass bin, mean: 242.658 +/- 0.30566\n",
      "Unfolded, 4 th mass bin, mean: 241.835 +/- 0.353244\n",
      "MC, 4 th mass bin, mean: 241.336 +/- 0.147776\n"
     ]
    }
   ],
   "source": [
    "nBins = unfold_det.setMeanMass()"
   ]
  },
  {
   "cell_type": "code",
   "execution_count": 26,
   "metadata": {
    "scrolled": false
   },
   "outputs": [
    {
     "data": {
      "text/plain": [
       "5"
      ]
     },
     "execution_count": 26,
     "metadata": {},
     "output_type": "execute_result"
    },
    {
     "name": "stdout",
     "output_type": "stream",
     "text": [
      "ISRUnfold::setMeanMass()   Save mean of dilepton...\n",
      "Detector, 0 th mass bin, mean: 57.2952 +/- 0.00984034\n",
      "Unfolded, 0 th mass bin, mean: 56.3755 +/- 0.0198165\n",
      "MC, 0 th mass bin, mean: 56.3784 +/- 0.00246467\n",
      "Detector, 1 th mass bin, mean: 74.7057 +/- 0.00550082\n",
      "Unfolded, 1 th mass bin, mean: 73.7418 +/- 0.0218935\n",
      "MC, 1 th mass bin, mean: 73.6585 +/- 0.00284758\n",
      "Detector, 2 th mass bin, mean: 90.0745 +/- 0.00108449\n",
      "Unfolded, 2 th mass bin, mean: 91.1471 +/- 0.00222853\n",
      "MC, 2 th mass bin, mean: 91.2261 +/- 0.000399366\n",
      "Detector, 3 th mass bin, mean: 119.15 +/- 0.0327042\n",
      "Unfolded, 3 th mass bin, mean: 117.202 +/- 0.0625838\n",
      "MC, 3 th mass bin, mean: 117.015 +/- 0.0121459\n",
      "Detector, 4 th mass bin, mean: 242.665 +/- 0.304115\n",
      "Unfolded, 4 th mass bin, mean: 240.726 +/- 0.357454\n",
      "MC, 4 th mass bin, mean: 240.21 +/- 0.109427\n"
     ]
    }
   ],
   "source": [
    "unfold_oneStep.setMeanMass()"
   ]
  },
  {
   "cell_type": "code",
   "execution_count": 27,
   "metadata": {},
   "outputs": [
    {
     "data": {
      "text/plain": [
       "5"
      ]
     },
     "execution_count": 27,
     "metadata": {},
     "output_type": "execute_result"
    },
    {
     "name": "stdout",
     "output_type": "stream",
     "text": [
      "ISRUnfold::setMeanPt()   Save mean of dilepton momentum...\n",
      "Detector, 0 th mass bin, mean: 18.6756 +/- 0.0462394\n",
      "Unfolded, 0 th mass bin, mean: 18.5971 +/- 0.0623623\n",
      "Detector, 1 th mass bin, mean: 19.0394 +/- 0.0218136\n",
      "Unfolded, 1 th mass bin, mean: 19.7331 +/- 0.0391079\n",
      "Detector, 2 th mass bin, mean: 19.5204 +/- 0.00566298\n",
      "Unfolded, 2 th mass bin, mean: 20.0584 +/- 0.0072877\n",
      "Detector, 3 th mass bin, mean: 21.5005 +/- 0.0321994\n",
      "Unfolded, 3 th mass bin, mean: 21.8937 +/- 0.0443738\n",
      "Detector, 4 th mass bin, mean: 25.51 +/- 0.214502\n",
      "Unfolded, 4 th mass bin, mean: 26.1675 +/- 0.318462\n"
     ]
    }
   ],
   "source": [
    "unfold_det.setMeanPt()"
   ]
  },
  {
   "cell_type": "code",
   "execution_count": 28,
   "metadata": {
    "scrolled": true
   },
   "outputs": [
    {
     "data": {
      "text/plain": [
       "5"
      ]
     },
     "execution_count": 28,
     "metadata": {},
     "output_type": "execute_result"
    },
    {
     "name": "stdout",
     "output_type": "stream",
     "text": [
      "ISRUnfold::setMeanPt()   Save mean of dilepton momentum...\n",
      "Detector, 0 th mass bin, mean: 18.6133 +/- 0.0436159\n",
      "Unfolded, 0 th mass bin, mean: 14.3823 +/- 0.0620106\n",
      "Detector, 1 th mass bin, mean: 19.047 +/- 0.0212111\n",
      "Unfolded, 1 th mass bin, mean: 16.5797 +/- 0.0498795\n",
      "Detector, 2 th mass bin, mean: 19.523 +/- 0.00555897\n",
      "Unfolded, 2 th mass bin, mean: 18.2447 +/- 0.00692106\n",
      "Detector, 3 th mass bin, mean: 21.5118 +/- 0.0317312\n",
      "Unfolded, 3 th mass bin, mean: 20.0468 +/- 0.0419833\n",
      "Detector, 4 th mass bin, mean: 25.5293 +/- 0.213364\n",
      "Unfolded, 4 th mass bin, mean: 24.6569 +/- 0.312983\n"
     ]
    }
   ],
   "source": [
    "unfold_oneStep.setMeanPt()"
   ]
  },
  {
   "cell_type": "code",
   "execution_count": 29,
   "metadata": {},
   "outputs": [
    {
     "data": {
      "text/plain": [
       "5"
      ]
     },
     "execution_count": 29,
     "metadata": {},
     "output_type": "execute_result"
    },
    {
     "name": "stdout",
     "output_type": "stream",
     "text": [
      "ISRUnfold::setMeanPt()   Save mean of dilepton momentum...\n",
      "Detector, 0 th mass bin, mean: 18.5971 +/- 0.0623623\n",
      "Unfolded, 0 th mass bin, mean: 14.3328 +/- 0.0696388\n",
      "Detector, 1 th mass bin, mean: 19.7331 +/- 0.0391079\n",
      "Unfolded, 1 th mass bin, mean: 16.5913 +/- 0.0571064\n",
      "Detector, 2 th mass bin, mean: 20.0584 +/- 0.0072877\n",
      "Unfolded, 2 th mass bin, mean: 18.2409 +/- 0.00708952\n",
      "Detector, 3 th mass bin, mean: 21.8937 +/- 0.0443738\n",
      "Unfolded, 3 th mass bin, mean: 20.0414 +/- 0.0428802\n",
      "Detector, 4 th mass bin, mean: 26.1675 +/- 0.318462\n",
      "Unfolded, 4 th mass bin, mean: 24.6375 +/- 0.318423\n"
     ]
    }
   ],
   "source": [
    "unfold_fsr.setMeanPt()"
   ]
  },
  {
   "cell_type": "code",
   "execution_count": 30,
   "metadata": {},
   "outputs": [
    {
     "data": {
      "text/plain": [
       "5"
      ]
     },
     "execution_count": 30,
     "metadata": {},
     "output_type": "execute_result"
    },
    {
     "name": "stdout",
     "output_type": "stream",
     "text": [
      "ISRUnfold::setMeanMass()   Save mean of dilepton...\n",
      "Detector, 0 th mass bin, mean: 57.163 +/- 0.0174541\n",
      "Unfolded, 0 th mass bin, mean: 56.3779 +/- 0.0218919\n",
      "MC, 0 th mass bin, mean: 56.3784 +/- 0.00246467\n",
      "Detector, 1 th mass bin, mean: 74.1085 +/- 0.0150652\n",
      "Unfolded, 1 th mass bin, mean: 73.7551 +/- 0.0248226\n",
      "MC, 1 th mass bin, mean: 73.6585 +/- 0.00284758\n",
      "Detector, 2 th mass bin, mean: 90.9395 +/- 0.00221228\n",
      "Unfolded, 2 th mass bin, mean: 91.145 +/- 0.00225144\n",
      "MC, 2 th mass bin, mean: 91.2261 +/- 0.000399366\n",
      "Detector, 3 th mass bin, mean: 118.094 +/- 0.0625966\n",
      "Unfolded, 3 th mass bin, mean: 117.203 +/- 0.0631283\n",
      "MC, 3 th mass bin, mean: 117.015 +/- 0.0121459\n",
      "Detector, 4 th mass bin, mean: 241.835 +/- 0.353244\n",
      "Unfolded, 4 th mass bin, mean: 240.73 +/- 0.361064\n",
      "MC, 4 th mass bin, mean: 240.21 +/- 0.109427\n"
     ]
    }
   ],
   "source": [
    "unfold_fsr.setMeanMass()"
   ]
  },
  {
   "cell_type": "code",
   "execution_count": 31,
   "metadata": {},
   "outputs": [
    {
     "data": {
      "text/plain": [
       "5"
      ]
     },
     "execution_count": 31,
     "metadata": {},
     "output_type": "execute_result"
    },
    {
     "name": "stdout",
     "output_type": "stream",
     "text": [
      "ISRUnfold::setMeanPt()   Save mean of dilepton momentum...\n",
      "Detector, 0 th mass bin, mean: 19.3962 +/- 0.0692403\n",
      "Unfolded, 0 th mass bin, mean: 19.3477 +/- 0.09285\n",
      "Detector, 1 th mass bin, mean: 19.658 +/- 0.0388941\n",
      "Unfolded, 1 th mass bin, mean: 20.3655 +/- 0.070335\n",
      "Detector, 2 th mass bin, mean: 20.2084 +/- 0.0107723\n",
      "Unfolded, 2 th mass bin, mean: 20.7651 +/- 0.0136168\n",
      "Detector, 3 th mass bin, mean: 22.2683 +/- 0.0574562\n",
      "Unfolded, 3 th mass bin, mean: 22.6817 +/- 0.0786431\n",
      "Detector, 4 th mass bin, mean: 27.1747 +/- 0.310794\n",
      "Unfolded, 4 th mass bin, mean: 27.9585 +/- 0.475436\n",
      "ISRUnfold::setMeanMass()   Save mean of dilepton...\n",
      "Detector, 0 th mass bin, mean: 57.3178 +/- 0.0153982\n",
      "Unfolded, 0 th mass bin, mean: 57.1678 +/- 0.0260405\n",
      "MC, 0 th mass bin, mean: 57.1675 +/- 0.00436173\n",
      "Detector, 1 th mass bin, mean: 74.6922 +/- 0.0100493\n",
      "Unfolded, 1 th mass bin, mean: 74.0519 +/- 0.0270741\n",
      "MC, 1 th mass bin, mean: 74.052 +/- 0.00359311\n",
      "Detector, 2 th mass bin, mean: 90.1113 +/- 0.00208237\n",
      "Unfolded, 2 th mass bin, mean: 91.0135 +/- 0.00417057\n",
      "MC, 2 th mass bin, mean: 91.0142 +/- 0.000622185\n",
      "Detector, 3 th mass bin, mean: 118.976 +/- 0.0587419\n",
      "Unfolded, 3 th mass bin, mean: 117.896 +/- 0.112046\n",
      "MC, 3 th mass bin, mean: 117.896 +/- 0.0184397\n",
      "Detector, 4 th mass bin, mean: 242.215 +/- 0.434047\n",
      "Unfolded, 4 th mass bin, mean: 241.336 +/- 0.500952\n",
      "MC, 4 th mass bin, mean: 241.336 +/- 0.147776\n"
     ]
    }
   ],
   "source": [
    "unfold_closure.setMeanPt()\n",
    "unfold_closure.setMeanMass()"
   ]
  },
  {
   "cell_type": "code",
   "execution_count": 32,
   "metadata": {},
   "outputs": [],
   "source": [
    "c_PtVsMass = rt.TCanvas(\"PtVsMass\",\"PtVsMass\", 1000, 600)\n",
    "c_PtVsMass.SetGridx()\n",
    "c_PtVsMass.SetGridy()\n",
    "c_PtVsMass.SetLogx()"
   ]
  },
  {
   "cell_type": "code",
   "execution_count": 33,
   "metadata": {},
   "outputs": [],
   "source": [
    "from array import array\n",
    "meanMass, meanPt = array('d'), array('d')\n",
    "meanMassUnf, meanPtUnf = array('d'), array('d')\n",
    "meanMassUnfStatErr, meanPtUnfStatErr = array('d'), array('d')\n",
    "meanMassFSRUnf, meanPtFSRUnf = array('d'), array('d')\n",
    "meanMassFSRUnfStatErr, meanPtFSRUnfStatErr = array('d'), array('d')\n",
    "\n",
    "meanMassFSRUnf_twoStep, meanPtFSRUnf_twoStep = array('d'), array('d')\n",
    "meanMassFSRUnf_twoStepStatErr, meanPtFSRUnf_twoStepStatErr = array('d'), array('d')\n",
    "\n",
    "meanMassFSRUnfMC, meanPtFSRUnfMC = array('d'), array('d')\n",
    "meanMassFSRUnfMCStatErr, meanPtFSRUnfMCStatErr = array('d'), array('d')\n",
    "\n",
    "meanMassFSRMC, meanPtFSRMC = array('d'), array('d')\n",
    "\n",
    "for ibin in range(nBins):\n",
    "    meanMass.append(unfold_det.getDetMeanMass(ibin))\n",
    "    meanPt.append(unfold_det.getDetMeanPt(ibin))\n",
    "    \n",
    "    meanMassUnf.append(unfold_det.getUnfMeanMass(ibin))\n",
    "    meanPtUnf.append(unfold_det.getUnfMeanPt(ibin))\n",
    "    meanMassUnfStatErr.append(unfold_det.getUnfMeanMassError(ibin))\n",
    "    meanPtUnfStatErr.append(unfold_det.getUnfMeanPtError(ibin))\n",
    "    \n",
    "    meanMassFSRUnf.append(unfold_oneStep.getUnfMeanMass(ibin))\n",
    "    meanPtFSRUnf.append(unfold_oneStep.getUnfMeanPt(ibin))\n",
    "    meanMassFSRUnfStatErr.append(unfold_oneStep.getUnfMeanMassError(ibin))\n",
    "    meanPtFSRUnfStatErr.append(unfold_oneStep.getUnfMeanPtError(ibin))\n",
    "    \n",
    "    meanMassFSRUnf_twoStep.append(unfold_fsr.getUnfMeanMass(ibin))\n",
    "    meanPtFSRUnf_twoStep.append(unfold_fsr.getUnfMeanPt(ibin))\n",
    "    meanMassFSRUnf_twoStepStatErr.append(unfold_fsr.getUnfMeanMassError(ibin))\n",
    "    meanPtFSRUnf_twoStepStatErr.append(unfold_fsr.getUnfMeanPtError(ibin))\n",
    "    \n",
    "    meanMassFSRUnfMC.append(unfold_closure.getUnfMeanMass(ibin))\n",
    "    meanPtFSRUnfMC.append(unfold_closure.getUnfMeanPt(ibin))"
   ]
  },
  {
   "cell_type": "code",
   "execution_count": 34,
   "metadata": {},
   "outputs": [
    {
     "name": "stdout",
     "output_type": "stream",
     "text": [
      " FCN=27.7302 FROM MIGRAD    STATUS=CONVERGED      52 CALLS          53 TOTAL\n",
      "                     EDM=2.12769e-07    STRATEGY= 1      ERROR MATRIX ACCURATE \n",
      "  EXT PARAMETER                                   STEP         FIRST   \n",
      "  NO.   NAME      VALUE            ERROR          SIZE      DERIVATIVE \n",
      "   1  p0          -1.62631e+01   4.07108e-01   1.76077e-05  -1.63734e-02\n",
      "   2  p1           7.64574e+00   9.02592e-02   3.90376e-06  -8.09646e-02\n"
     ]
    },
    {
     "data": {
      "text/html": [
       "\n",
       "<div id=\"root_plot_2\"\n",
       "     style=\"width: 996px; height: 572px\">\n",
       "</div>\n",
       "\n",
       "<script>\n",
       " requirejs.config({\n",
       "     paths: {\n",
       "       'JSRootCore' : 'https://root.cern.ch/js/notebook//scripts/JSRootCore',\n",
       "     }\n",
       "   });\n",
       " require(['JSRootCore'],\n",
       "     function(Core) {\n",
       "       var obj = Core.JSONR_unref({\"_typename\":\"TCanvas\",\"fUniqueID\":0,\"fBits\":53673992,\"fLineColor\":1,\"fLineStyle\":1,\"fLineWidth\":1,\"fFillColor\":0,\"fFillStyle\":1001,\"fLeftMargin\":0.1,\"fRightMargin\":0.1,\"fBottomMargin\":0.1,\"fTopMargin\":0.1,\"fXfile\":2,\"fYfile\":2,\"fAfile\":1,\"fXstat\":0.99,\"fYstat\":0.99,\"fAstat\":2,\"fFrameFillColor\":0,\"fFrameLineColor\":1,\"fFrameFillStyle\":1001,\"fFrameLineStyle\":1,\"fFrameLineWidth\":1,\"fFrameBorderSize\":1,\"fFrameBorderMode\":0,\"fX1\":0.749999981373547,\"fY1\":-3.72529052050652e-7,\"fX2\":3.25000001862645,\"fY2\":50.0000003725291,\"fXtoAbsPixelk\":-298.799938126754,\"fXtoPixelk\":-298.799938126754,\"fXtoPixel\":398.399994063377,\"fYtoAbsPixelk\":572.000045738268,\"fYtoPixelk\":572.000045738268,\"fYtoPixel\":-11.4399998295307,\"fUtoAbsPixelk\":5e-5,\"fUtoPixelk\":5e-5,\"fUtoPixel\":996,\"fVtoAbsPixelk\":572.00005,\"fVtoPixelk\":572,\"fVtoPixel\":-572,\"fAbsPixeltoXk\":0.749999981373547,\"fPixeltoXk\":0.749999981373547,\"fPixeltoX\":0.00251004019804508,\"fAbsPixeltoYk\":50.0000003725291,\"fPixeltoYk\":-3.72529052050652e-7,\"fPixeltoY\":-0.0874125887151365,\"fXlowNDC\":0,\"fYlowNDC\":0,\"fXUpNDC\":0,\"fYUpNDC\":0,\"fWNDC\":1,\"fHNDC\":1,\"fAbsXlowNDC\":0,\"fAbsYlowNDC\":0,\"fAbsWNDC\":1,\"fAbsHNDC\":1,\"fUxmin\":1,\"fUymin\":5,\"fUxmax\":3,\"fUymax\":45,\"fTheta\":30,\"fPhi\":30,\"fAspectRatio\":0,\"fNumber\":0,\"fTickx\":0,\"fTicky\":0,\"fLogx\":1,\"fLogy\":0,\"fLogz\":0,\"fPadPaint\":0,\"fCrosshair\":0,\"fCrosshairPos\":0,\"fBorderSize\":2,\"fBorderMode\":0,\"fModified\":false,\"fGridx\":true,\"fGridy\":true,\"fAbsCoord\":false,\"fEditable\":true,\"fFixedAspectRatio\":false,\"fPrimitives\":{\"_typename\":\"TList\",\"name\":\"TList\",\"arr\":[{\"_typename\":\"TFrame\",\"fUniqueID\":0,\"fBits\":50331656,\"fLineColor\":1,\"fLineStyle\":1,\"fLineWidth\":1,\"fFillColor\":0,\"fFillStyle\":1001,\"fX1\":1,\"fY1\":5,\"fX2\":3,\"fY2\":45,\"fBorderSize\":1,\"fBorderMode\":0},{\"_typename\":\"TGraph\",\"fUniqueID\":0,\"fBits\":50332680,\"fName\":\"Graph\",\"fTitle\":\"Dilepton p_{T} vs. Mass\",\"fLineColor\":1,\"fLineStyle\":1,\"fLineWidth\":1,\"fFillColor\":0,\"fFillStyle\":1000,\"fMarkerColor\":1,\"fMarkerStyle\":20,\"fMarkerSize\":1,\"fNpoints\":5,\"fX\":[57.3238255157897,74.7116443000536,90.0734058562248,119.18308129977,242.657542828738],\"fY\":[18.6755583668818,19.0393521666115,19.5204359925867,21.5005338031071,25.5099957526266],\"fFunctions\":{\"_typename\":\"TList\",\"name\":\"TList\",\"arr\":[],\"opt\":[]},\"fHistogram\":{\"_typename\":\"TH1F\",\"fUniqueID\":0,\"fBits\":50332160,\"fName\":\"Graph\",\"fTitle\":\"Dilepton p_{T} vs. Mass\",\"fLineColor\":602,\"fLineStyle\":1,\"fLineWidth\":1,\"fFillColor\":0,\"fFillStyle\":1001,\"fMarkerColor\":1,\"fMarkerStyle\":1,\"fMarkerSize\":1,\"fNcells\":102,\"fXaxis\":{\"_typename\":\"TAxis\",\"fUniqueID\":0,\"fBits\":50331656,\"fName\":\"xaxis\",\"fTitle\":\"\",\"fNdivisions\":510,\"fAxisColor\":1,\"fLabelColor\":1,\"fLabelFont\":42,\"fLabelOffset\":0.005,\"fLabelSize\":0.035,\"fTickLength\":0.03,\"fTitleOffset\":1,\"fTitleSize\":0.035,\"fTitleColor\":1,\"fTitleFont\":42,\"fNbins\":100,\"fXmin\":10,\"fXmax\":1000,\"fXbins\":[],\"fFirst\":0,\"fLast\":0,\"fBits2\":0,\"fTimeDisplay\":false,\"fTimeFormat\":\"\",\"fLabels\":null,\"fModLabs\":null},\"fYaxis\":{\"_typename\":\"TAxis\",\"fUniqueID\":0,\"fBits\":50331656,\"fName\":\"yaxis\",\"fTitle\":\"\",\"fNdivisions\":510,\"fAxisColor\":1,\"fLabelColor\":1,\"fLabelFont\":42,\"fLabelOffset\":0.005,\"fLabelSize\":0.035,\"fTickLength\":0.03,\"fTitleOffset\":0,\"fTitleSize\":0.035,\"fTitleColor\":1,\"fTitleFont\":42,\"fNbins\":1,\"fXmin\":17.9921146283073,\"fXmax\":26.1934394912011,\"fXbins\":[],\"fFirst\":0,\"fLast\":0,\"fBits2\":0,\"fTimeDisplay\":false,\"fTimeFormat\":\"\",\"fLabels\":null,\"fModLabs\":null},\"fZaxis\":{\"_typename\":\"TAxis\",\"fUniqueID\":0,\"fBits\":50331648,\"fName\":\"zaxis\",\"fTitle\":\"\",\"fNdivisions\":510,\"fAxisColor\":1,\"fLabelColor\":1,\"fLabelFont\":42,\"fLabelOffset\":0.005,\"fLabelSize\":0.035,\"fTickLength\":0.03,\"fTitleOffset\":1,\"fTitleSize\":0.035,\"fTitleColor\":1,\"fTitleFont\":42,\"fNbins\":1,\"fXmin\":0,\"fXmax\":1,\"fXbins\":[],\"fFirst\":0,\"fLast\":0,\"fBits2\":0,\"fTimeDisplay\":false,\"fTimeFormat\":\"\",\"fLabels\":null,\"fModLabs\":null},\"fBarOffset\":0,\"fBarWidth\":1000,\"fEntries\":0,\"fTsumw\":0,\"fTsumw2\":0,\"fTsumwx\":0,\"fTsumwx2\":0,\"fMaximum\":45,\"fMinimum\":5,\"fNormFactor\":0,\"fContour\":[],\"fSumw2\":[],\"fOption\":\"\",\"fFunctions\":{\"_typename\":\"TList\",\"name\":\"TList\",\"arr\":[],\"opt\":[]},\"fBufferSize\":0,\"fBuffer\":[],\"fBinStatErrOpt\":0,\"fStatOverflows\":2,\"fArray\":[0,0,0,0,0,0,0,0,0,0,0,0,0,0,0,0,0,0,0,0,0,0,0,0,0,0,0,0,0,0,0,0,0,0,0,0,0,0,0,0,0,0,0,0,0,0,0,0,0,0,0,0,0,0,0,0,0,0,0,0,0,0,0,0,0,0,0,0,0,0,0,0,0,0,0,0,0,0,0,0,0,0,0,0,0,0,0,0,0,0,0,0,0,0,0,0,0,0,0,0,0,0]},\"fMinimum\":-1111,\"fMaximum\":-1111},{\"_typename\":\"TGraphErrors\",\"fUniqueID\":0,\"fBits\":50332680,\"fName\":\"Graph\",\"fTitle\":\"Graph\",\"fLineColor\":632,\"fLineStyle\":1,\"fLineWidth\":1,\"fFillColor\":0,\"fFillStyle\":1000,\"fMarkerColor\":632,\"fMarkerStyle\":20,\"fMarkerSize\":1,\"fNpoints\":5,\"fX\":[57.1629835126362,74.1084870483001,90.9394897980541,118.09401417458,241.835248420178],\"fY\":[18.5971461214439,19.7330518976187,20.0584484434559,21.8936879053963,26.1674640497061],\"fFunctions\":{\"_typename\":\"TList\",\"name\":\"TList\",\"arr\":[],\"opt\":[]},\"fHistogram\":{\"_typename\":\"TH1F\",\"fUniqueID\":0,\"fBits\":50332160,\"fName\":\"Graph\",\"fTitle\":\"Graph\",\"fLineColor\":602,\"fLineStyle\":1,\"fLineWidth\":1,\"fFillColor\":0,\"fFillStyle\":1001,\"fMarkerColor\":1,\"fMarkerStyle\":1,\"fMarkerSize\":1,\"fNcells\":102,\"fXaxis\":{\"_typename\":\"TAxis\",\"fUniqueID\":0,\"fBits\":50331648,\"fName\":\"xaxis\",\"fTitle\":\"\",\"fNdivisions\":510,\"fAxisColor\":1,\"fLabelColor\":1,\"fLabelFont\":42,\"fLabelOffset\":0.005,\"fLabelSize\":0.035,\"fTickLength\":0.03,\"fTitleOffset\":1,\"fTitleSize\":0.035,\"fTitleColor\":1,\"fTitleFont\":42,\"fNbins\":100,\"fXmin\":38.6412331079514,\"fXmax\":260.692789030267,\"fXbins\":[],\"fFirst\":0,\"fLast\":0,\"fBits2\":0,\"fTimeDisplay\":false,\"fTimeFormat\":\"\",\"fLabels\":null,\"fModLabs\":null},\"fYaxis\":{\"_typename\":\"TAxis\",\"fUniqueID\":0,\"fBits\":50331648,\"fName\":\"yaxis\",\"fTitle\":\"\",\"fNdivisions\":510,\"fAxisColor\":1,\"fLabelColor\":1,\"fLabelFont\":42,\"fLabelOffset\":0.005,\"fLabelSize\":0.035,\"fTickLength\":0.03,\"fTitleOffset\":0,\"fTitleSize\":0.035,\"fTitleColor\":1,\"fTitleFont\":42,\"fNbins\":1,\"fXmin\":17.7396696393471,\"fXmax\":27.2810400825516,\"fXbins\":[],\"fFirst\":0,\"fLast\":0,\"fBits2\":0,\"fTimeDisplay\":false,\"fTimeFormat\":\"\",\"fLabels\":null,\"fModLabs\":null},\"fZaxis\":{\"_typename\":\"TAxis\",\"fUniqueID\":0,\"fBits\":50331648,\"fName\":\"zaxis\",\"fTitle\":\"\",\"fNdivisions\":510,\"fAxisColor\":1,\"fLabelColor\":1,\"fLabelFont\":42,\"fLabelOffset\":0.005,\"fLabelSize\":0.035,\"fTickLength\":0.03,\"fTitleOffset\":1,\"fTitleSize\":0.035,\"fTitleColor\":1,\"fTitleFont\":42,\"fNbins\":1,\"fXmin\":0,\"fXmax\":1,\"fXbins\":[],\"fFirst\":0,\"fLast\":0,\"fBits2\":0,\"fTimeDisplay\":false,\"fTimeFormat\":\"\",\"fLabels\":null,\"fModLabs\":null},\"fBarOffset\":0,\"fBarWidth\":1000,\"fEntries\":0,\"fTsumw\":0,\"fTsumw2\":0,\"fTsumwx\":0,\"fTsumwx2\":0,\"fMaximum\":27.2810400825516,\"fMinimum\":17.7396696393471,\"fNormFactor\":0,\"fContour\":[],\"fSumw2\":[],\"fOption\":\"\",\"fFunctions\":{\"_typename\":\"TList\",\"name\":\"TList\",\"arr\":[],\"opt\":[]},\"fBufferSize\":0,\"fBuffer\":[],\"fBinStatErrOpt\":0,\"fStatOverflows\":2,\"fArray\":[0,0,0,0,0,0,0,0,0,0,0,0,0,0,0,0,0,0,0,0,0,0,0,0,0,0,0,0,0,0,0,0,0,0,0,0,0,0,0,0,0,0,0,0,0,0,0,0,0,0,0,0,0,0,0,0,0,0,0,0,0,0,0,0,0,0,0,0,0,0,0,0,0,0,0,0,0,0,0,0,0,0,0,0,0,0,0,0,0,0,0,0,0,0,0,0,0,0,0,0,0,0]},\"fMinimum\":-1111,\"fMaximum\":-1111,\"fEX\":[0.0174540778251368,0.0150651946445819,0.00221228001310256,0.0625966268030682,0.35324428322933],\"fEY\":[0.0623622784964714,0.0391079445883946,0.00728770185044929,0.0443738092463114,0.318461829245107]},{\"_typename\":\"TGraphErrors\",\"fUniqueID\":0,\"fBits\":50332680,\"fName\":\"Graph\",\"fTitle\":\"Graph\",\"fLineColor\":600,\"fLineStyle\":1,\"fLineWidth\":1,\"fFillColor\":0,\"fFillStyle\":1000,\"fMarkerColor\":600,\"fMarkerStyle\":20,\"fMarkerSize\":1,\"fNpoints\":5,\"fX\":[56.3754849867119,73.7418364255119,91.1471009710434,117.202234940384,240.725561545628],\"fY\":[14.3822842232146,16.579659113168,18.2447089680534,20.0468043161159,24.6569475678205],\"fFunctions\":{\"_typename\":\"TList\",\"name\":\"TList\",\"arr\":[{\"_typename\":\"TF1\",\"fUniqueID\":0,\"fBits\":50333192,\"fName\":\"f_lepton\",\"fTitle\":\"[0]+[1]*log(x)\",\"fLineColor\":600,\"fLineStyle\":2,\"fLineWidth\":1,\"fFillColor\":19,\"fFillStyle\":0,\"fMarkerColor\":1,\"fMarkerStyle\":1,\"fMarkerSize\":1,\"fXmin\":10,\"fXmax\":900,\"fNpar\":2,\"fNdim\":1,\"fNpx\":100,\"fType\":0,\"fNpfits\":5,\"fNDF\":3,\"fChisquare\":27.7302309839313,\"fMinimum\":-1111,\"fMaximum\":-1111,\"fParErrors\":[0.407108247570722,0.0902591856288316],\"fParMin\":[0,0],\"fParMax\":[0,0],\"fSave\":[1.34190577220152,6.20900632126477,9.15929912418598,11.2828324024731,12.94295915148,14.3061408544298,15.4626595562851,16.4670059320165,17.3546083679981,18.1498028640784,18.8700291120022,19.5282127582459,20.1342002871968,20.6956655063202,21.2187051996345,21.7082436817754,22.1683154082634,22.6022672538304,23.0129063922515,23.4026104404409,23.7734108630762,24.1270570681513,24.4650663212119,24.7887630844459,25.0993103603083,25.3977349137911,25.6849477541597,25.9617609067155,26.2289012528814,26.4870220328374,26.7367124689947,26.9785058670745,27.2128864749559,27.4402953210882,27.6611352093979,27.8757750128297,28.0845533804817,28.2877819518921,28.4857481550731,28.678717651347,28.8669364791725,29.0506329403657,29.2300192649919,29.4052930853788,29.576638744926,29.7442284634414,29.9082233774745,30.0687744714005,30.2260234127379,30.3801033032833,30.5311393560426,30.6792495065856,30.8245449663009,30.9671307240557,31.1071060019272,31.2445646699619,31.3795956243037,31.5122831325078,31.6427071493977,31.7709436064307,31.8970646771947,32.0211390213596,32.1432320091491,32.2634059281691,32.3817201742323,32.4982314276408,32.612993816238,32.7260590664032,32.8374766430432,32.9472938795296,33.0555560984356,33.1623067238432,33.2675873859183,33.3714380183824,33.4738969494528,33.5750009867698,33.674785496782,33.7732844790165,33.870530635627,33.9665554365728,34.0613891807566,34.1550610534161,34.2475991800424,34.3390306770744,34.4293816995978,34.5186774862581,34.6069424015819,34.6941999758814,34.7804729429097,34.8657832754131,34.9501522187229,35.0336003225138,35.1161474708477,35.1978129106126,35.2786152784593,35.3585726263292,35.4377024456608,35.516021690357,35.593546798587,35.6702937134951,35.7462779028794,10,900],\"fNormalized\":false,\"fNormIntegral\":0,\"fFormula\":{\"_typename\":\"TFormula\",\"fUniqueID\":0,\"fBits\":50332672,\"fName\":\"f_lepton\",\"fTitle\":\"[0]+[1]*log(x)\",\"fClingParameters\":[-16.2630598165107,7.64573940927435],\"fAllParametersSetted\":true,\"fParams\":[{\"$pair\":\"pair<TString,int,TFormulaParamOrder>\",\"first\":\"p0\",\"second\":0},{\"$pair\":\"pair<TString,int,TFormulaParamOrder>\",\"first\":\"p1\",\"second\":1}],\"fFormula\":\"[p0]+[p1]*log(x)\",\"fNdim\":1,\"fLinearParts\":[],\"fVectorized\":false},\"fParams\":null,\"fComposition_ptr\":null}],\"opt\":[\"\"]},\"fHistogram\":{\"_typename\":\"TH1F\",\"fUniqueID\":0,\"fBits\":50332160,\"fName\":\"Graph\",\"fTitle\":\"Graph\",\"fLineColor\":602,\"fLineStyle\":1,\"fLineWidth\":1,\"fFillColor\":0,\"fFillStyle\":1001,\"fMarkerColor\":1,\"fMarkerStyle\":1,\"fMarkerSize\":1,\"fNcells\":102,\"fXaxis\":{\"_typename\":\"TAxis\",\"fUniqueID\":0,\"fBits\":50331648,\"fName\":\"xaxis\",\"fTitle\":\"\",\"fNdivisions\":510,\"fAxisColor\":1,\"fLabelColor\":1,\"fLabelFont\":42,\"fLabelOffset\":0.005,\"fLabelSize\":0.035,\"fTickLength\":0.03,\"fTitleOffset\":1,\"fTitleSize\":0.035,\"fTitleColor\":1,\"fTitleFont\":42,\"fNbins\":100,\"fXmin\":37.8829337661513,\"fXmax\":259.555750145004,\"fXbins\":[],\"fFirst\":0,\"fLast\":0,\"fBits2\":0,\"fTimeDisplay\":false,\"fTimeFormat\":\"\",\"fLabels\":null,\"fModLabs\":null},\"fYaxis\":{\"_typename\":\"TAxis\",\"fUniqueID\":0,\"fBits\":50331648,\"fName\":\"yaxis\",\"fTitle\":\"\",\"fNdivisions\":510,\"fAxisColor\":1,\"fLabelColor\":1,\"fLabelFont\":42,\"fLabelOffset\":0.005,\"fLabelSize\":0.035,\"fTickLength\":0.03,\"fTitleOffset\":0,\"fTitleSize\":0.035,\"fTitleColor\":1,\"fTitleFont\":42,\"fNbins\":1,\"fXmin\":13.2553079523586,\"fXmax\":26.0348963954619,\"fXbins\":[],\"fFirst\":0,\"fLast\":0,\"fBits2\":0,\"fTimeDisplay\":false,\"fTimeFormat\":\"\",\"fLabels\":null,\"fModLabs\":null},\"fZaxis\":{\"_typename\":\"TAxis\",\"fUniqueID\":0,\"fBits\":50331648,\"fName\":\"zaxis\",\"fTitle\":\"\",\"fNdivisions\":510,\"fAxisColor\":1,\"fLabelColor\":1,\"fLabelFont\":42,\"fLabelOffset\":0.005,\"fLabelSize\":0.035,\"fTickLength\":0.03,\"fTitleOffset\":1,\"fTitleSize\":0.035,\"fTitleColor\":1,\"fTitleFont\":42,\"fNbins\":1,\"fXmin\":0,\"fXmax\":1,\"fXbins\":[],\"fFirst\":0,\"fLast\":0,\"fBits2\":0,\"fTimeDisplay\":false,\"fTimeFormat\":\"\",\"fLabels\":null,\"fModLabs\":null},\"fBarOffset\":0,\"fBarWidth\":1000,\"fEntries\":0,\"fTsumw\":0,\"fTsumw2\":0,\"fTsumwx\":0,\"fTsumwx2\":0,\"fMaximum\":26.0348963954619,\"fMinimum\":13.2553079523586,\"fNormFactor\":0,\"fContour\":[],\"fSumw2\":[],\"fOption\":\"\",\"fFunctions\":{\"_typename\":\"TList\",\"name\":\"TList\",\"arr\":[],\"opt\":[]},\"fBufferSize\":0,\"fBuffer\":[],\"fBinStatErrOpt\":0,\"fStatOverflows\":2,\"fArray\":[0,0,0,0,0,0,0,0,0,0,0,0,0,0,0,0,0,0,0,0,0,0,0,0,0,0,0,0,0,0,0,0,0,0,0,0,0,0,0,0,0,0,0,0,0,0,0,0,0,0,0,0,0,0,0,0,0,0,0,0,0,0,0,0,0,0,0,0,0,0,0,0,0,0,0,0,0,0,0,0,0,0,0,0,0,0,0,0,0,0,0,0,0,0,0,0,0,0,0,0,0,0]},\"fMinimum\":-1111,\"fMaximum\":-1111,\"fEX\":[0.0198165223229269,0.021893524508378,0.00222853099615084,0.0625838368296983,0.357453901137978],\"fEY\":[0.0620105672640527,0.0498795224967937,0.00692106323715914,0.0419833368095593,0.312983124049431]},{\"_typename\":\"TLegend\",\"fUniqueID\":0,\"fBits\":50331656,\"fLineColor\":1,\"fLineStyle\":1,\"fLineWidth\":1,\"fFillColor\":0,\"fFillStyle\":1001,\"fX1\":2.45000000670552,\"fY1\":9.99999977648257,\"fX2\":2.9500000141561,\"fY2\":19.9999999254942,\"fX1NDC\":0.68,\"fY1NDC\":0.2,\"fX2NDC\":0.88,\"fY2NDC\":0.4,\"fBorderSize\":1,\"fInit\":1,\"fShadowColor\":1,\"fCornerRadius\":0,\"fOption\":\"brNDC\",\"fName\":\"TPave\",\"fTextAngle\":0,\"fTextSize\":0,\"fTextAlign\":12,\"fTextColor\":1,\"fTextFont\":42,\"fPrimitives\":{\"_typename\":\"TList\",\"name\":\"TList\",\"arr\":[{\"_typename\":\"TLegendEntry\",\"fUniqueID\":0,\"fBits\":50331656,\"fTextAngle\":0,\"fTextSize\":0,\"fTextAlign\":0,\"fTextColor\":0,\"fTextFont\":42,\"fLineColor\":1,\"fLineStyle\":1,\"fLineWidth\":1,\"fFillColor\":0,\"fFillStyle\":0,\"fMarkerColor\":1,\"fMarkerStyle\":20,\"fMarkerSize\":1,\"fObject\":{\"$ref\":3},\"fLabel\":\"Detector  data 2016\",\"fOption\":\"ple\"},{\"_typename\":\"TLegendEntry\",\"fUniqueID\":0,\"fBits\":50331656,\"fTextAngle\":0,\"fTextSize\":0,\"fTextAlign\":0,\"fTextColor\":0,\"fTextFont\":42,\"fLineColor\":632,\"fLineStyle\":1,\"fLineWidth\":1,\"fFillColor\":0,\"fFillStyle\":0,\"fMarkerColor\":632,\"fMarkerStyle\":20,\"fMarkerSize\":1,\"fObject\":{\"$ref\":10},\"fLabel\":\"Det unfolded data\",\"fOption\":\"ple\"},{\"_typename\":\"TLegendEntry\",\"fUniqueID\":0,\"fBits\":50331656,\"fTextAngle\":0,\"fTextSize\":0,\"fTextAlign\":0,\"fTextColor\":0,\"fTextFont\":42,\"fLineColor\":600,\"fLineStyle\":1,\"fLineWidth\":1,\"fFillColor\":0,\"fFillStyle\":0,\"fMarkerColor\":600,\"fMarkerStyle\":20,\"fMarkerSize\":1,\"fObject\":{\"$ref\":17},\"fLabel\":\"Pre-FSR unfolded data\",\"fOption\":\"ple\"}],\"opt\":[\"ple\",\"ple\",\"ple\"]},\"fEntrySeparation\":0.1,\"fMargin\":0.25,\"fNColumns\":1,\"fColumnSeparation\":0},{\"_typename\":\"TF1\",\"fUniqueID\":0,\"fBits\":50331656,\"fName\":\"f_lepton\",\"fTitle\":\"[0]+[1]*log(x)\",\"fLineColor\":600,\"fLineStyle\":2,\"fLineWidth\":1,\"fFillColor\":19,\"fFillStyle\":0,\"fMarkerColor\":1,\"fMarkerStyle\":1,\"fMarkerSize\":1,\"fXmin\":10,\"fXmax\":900,\"fNpar\":2,\"fNdim\":1,\"fNpx\":100,\"fType\":0,\"fNpfits\":5,\"fNDF\":3,\"fChisquare\":27.7302309839313,\"fMinimum\":-1111,\"fMaximum\":-1111,\"fParErrors\":[0.407108247570722,0.0902591856288316],\"fParMin\":[0,0],\"fParMax\":[0,0],\"fSave\":[],\"fNormalized\":false,\"fNormIntegral\":0,\"fFormula\":{\"_typename\":\"TFormula\",\"fUniqueID\":0,\"fBits\":50332672,\"fName\":\"f_lepton\",\"fTitle\":\"[0]+[1]*log(x)\",\"fClingParameters\":[-16.2630598165107,7.64573940927435],\"fAllParametersSetted\":true,\"fParams\":[{\"$pair\":\"pair<TString,int,TFormulaParamOrder>\",\"first\":\"p0\",\"second\":0},{\"$pair\":\"pair<TString,int,TFormulaParamOrder>\",\"first\":\"p1\",\"second\":1}],\"fFormula\":\"[p0]+[p1]*log(x)\",\"fNdim\":1,\"fLinearParts\":[],\"fVectorized\":false},\"fParams\":null,\"fComposition_ptr\":null},{\"_typename\":\"TPaveText\",\"fUniqueID\":0,\"fBits\":50331657,\"fLineColor\":1,\"fLineStyle\":1,\"fLineWidth\":1,\"fFillColor\":0,\"fFillStyle\":0,\"fX1\":1.62233935180214,\"fY1\":45.7639865618121,\"fX2\":2.37766064819786,\"fY2\":49.7500006072223,\"fX1NDC\":0.348935742971888,\"fY1NDC\":0.915279725048092,\"fX2NDC\":0.651064257028112,\"fY2NDC\":0.995000004768372,\"fBorderSize\":0,\"fInit\":1,\"fShadowColor\":1,\"fCornerRadius\":0,\"fOption\":\"blNDC\",\"fName\":\"title\",\"fTextAngle\":0,\"fTextSize\":0,\"fTextAlign\":22,\"fTextColor\":1,\"fTextFont\":42,\"fLabel\":\"\",\"fLongest\":23,\"fMargin\":0.05,\"fLines\":{\"_typename\":\"TList\",\"name\":\"TList\",\"arr\":[{\"_typename\":\"TLatex\",\"fUniqueID\":0,\"fBits\":50331648,\"fName\":\"\",\"fTitle\":\"Dilepton p_{T} vs. Mass\",\"fTextAngle\":0,\"fTextSize\":0,\"fTextAlign\":0,\"fTextColor\":0,\"fTextFont\":0,\"fX\":0,\"fY\":0,\"fLineColor\":1,\"fLineStyle\":1,\"fLineWidth\":2,\"fLimitFactorSize\":3,\"fOriginSize\":0.0677622407674789}],\"opt\":[\"\"]}}],\"opt\":[\"\",\"ap\",\"p \",\"p \",\"\",\"same\",\"blNDC\"]},\"fExecs\":null,\"fName\":\"PtVsMass\",\"fTitle\":\"PtVsMass\",\"fNumPaletteColor\":0,\"fNextPaletteColor\":0,\"fDISPLAY\":\"$DISPLAY\",\"fDoubleBuffer\":0,\"fRetained\":true,\"fXsizeUser\":0,\"fYsizeUser\":0,\"fXsizeReal\":20,\"fYsizeReal\":12,\"fWindowTopX\":0,\"fWindowTopY\":0,\"fWindowWidth\":0,\"fWindowHeight\":0,\"fCw\":996,\"fCh\":572,\"fCatt\":{\"_typename\":\"TAttCanvas\",\"fXBetween\":2,\"fYBetween\":2,\"fTitleFromTop\":1.2,\"fXdate\":0.2,\"fYdate\":0.3,\"fAdate\":1},\"kMoveOpaque\":true,\"kResizeOpaque\":true,\"fHighLightColor\":2,\"fBatch\":true,\"kShowEventStatus\":false,\"kAutoExec\":true,\"kMenuBar\":true});\n",
       "       Core.draw(\"root_plot_2\", obj, \"\");\n",
       "     }\n",
       " );\n",
       "</script>\n"
      ],
      "text/plain": [
       "<IPython.core.display.HTML object>"
      ]
     },
     "metadata": {},
     "output_type": "display_data"
    }
   ],
   "source": [
    "gr = rt.TGraph(nBins, meanMass, meanPt)\n",
    "grUnf = rt.TGraphErrors(nBins, meanMassUnf, meanPtUnf, meanMassUnfStatErr, meanPtUnfStatErr)\n",
    "grFSRUnf = rt.TGraphErrors(nBins, meanMassFSRUnf, meanPtFSRUnf, meanMassFSRUnfStatErr, meanPtFSRUnfStatErr)\n",
    "grMC = rt.TGraph(nBins, meanMassFSRUnfMC, meanPtFSRUnfMC)\n",
    "grFSRUnf_twoStep = rt.TGraphErrors(nBins, meanMassFSRUnf_twoStep, meanPtFSRUnf_twoStep, meanMassFSRUnf_twoStepStatErr, meanPtFSRUnf_twoStepStatErr)\n",
    "\n",
    "gr.SetTitle(\"Dilepton p_{T} vs. Mass\")\n",
    "gr.Draw(\"AP\")\n",
    "grUnf.Draw(\"P SAME\")\n",
    "grFSRUnf.Draw(\"P SAME\")\n",
    "#grMC.Draw(\"P SAME\")\n",
    "#grFSRUnf_twoStep.Draw(\"P SAME\")\n",
    "#grFSRUnf_twoStep.SetMarkerStyle(25)\n",
    "\n",
    "gr.SetMarkerStyle(20)\n",
    "gr.SetMarkerSize(1)\n",
    "grUnf.SetMarkerStyle(20)\n",
    "grUnf.SetMarkerSize(1)\n",
    "grUnf.SetLineColor(rt.kRed)\n",
    "grUnf.SetMarkerColor(rt.kRed)\n",
    "grFSRUnf.SetMarkerStyle(20)\n",
    "grFSRUnf.SetMarkerSize(1)\n",
    "grFSRUnf.SetLineColor(rt.kBlue)\n",
    "grFSRUnf.SetMarkerColor(rt.kBlue)\n",
    "grMC.SetMarkerStyle(24)\n",
    "grMC.SetMarkerSize(1)\n",
    "grMC.SetLineColor(rt.kBlue)\n",
    "grMC.SetMarkerColor(rt.kBlue)\n",
    "gr.GetYaxis().SetRangeUser(5., 45.)\n",
    "gr.GetXaxis().SetLimits(10., 1000.)\n",
    "\n",
    "legend = rt.TLegend(0.68, 0.2, 0.88, 0.4)\n",
    "legend.AddEntry(gr, \"Detector  data \" + year, \"ple\")\n",
    "legend.AddEntry(grUnf, \"Det unfolded data\", \"ple\")\n",
    "legend.AddEntry(grFSRUnf, \"Pre-FSR unfolded data\", \"ple\")\n",
    "legend.Draw()\n",
    "\n",
    "fitLinear = rt.TF1(\"f_lepton\", \"[0]+[1]*log(x)\", 10., 900.);\n",
    "fitLinear.SetLineStyle(2)\n",
    "fitLinear.SetLineColor(rt.kBlue)\n",
    "fitLinear.SetLineWidth(1)\n",
    "grFSRUnf.Fit(fitLinear, \"R0\")\n",
    "fitLinear.Draw(\"same\")\n",
    "c_PtVsMass.Draw()"
   ]
  },
  {
   "cell_type": "code",
   "execution_count": 35,
   "metadata": {},
   "outputs": [
    {
     "name": "stderr",
     "output_type": "stream",
     "text": [
      "Info in <TCanvas::Print>: pdf file Electron_PtVsMass_2016.pdf has been created\n"
     ]
    }
   ],
   "source": [
    "c_PtVsMass.SaveAs(\"Electron_PtVsMass_\"+year+\".pdf\")"
   ]
  },
  {
   "cell_type": "code",
   "execution_count": 36,
   "metadata": {},
   "outputs": [
    {
     "data": {
      "text/plain": [
       "3"
      ]
     },
     "execution_count": 36,
     "metadata": {},
     "output_type": "execute_result"
    }
   ],
   "source": [
    "fitLinear.GetNDF()"
   ]
  },
  {
   "cell_type": "markdown",
   "metadata": {},
   "source": [
    "## Break down the current mass bin [81:101] into  [81:91] and [91:101]"
   ]
  }
 ],
 "metadata": {
  "kernelspec": {
   "display_name": "Python 3",
   "language": "python",
   "name": "python3"
  },
  "language_info": {
   "codemirror_mode": {
    "name": "ipython",
    "version": 3
   },
   "file_extension": ".py",
   "mimetype": "text/x-python",
   "name": "python",
   "nbconvert_exporter": "python",
   "pygments_lexer": "ipython3",
   "version": "3.6.8"
  }
 },
 "nbformat": 4,
 "nbformat_minor": 4
}
