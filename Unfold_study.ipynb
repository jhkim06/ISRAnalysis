{
 "cells": [
  {
   "cell_type": "code",
   "execution_count": 1,
   "metadata": {},
   "outputs": [
    {
     "name": "stdout",
     "output_type": "stream",
     "text": [
      "Welcome to JupyROOT 6.14/04\n"
     ]
    }
   ],
   "source": [
    "import ROOT as rt\n",
    "import os\n",
    "import sys"
   ]
  },
  {
   "cell_type": "code",
   "execution_count": 2,
   "metadata": {},
   "outputs": [
    {
     "data": {
      "text/html": [
       "<style>.container { width:100% !important; }</style>"
      ],
      "text/plain": [
       "<IPython.core.display.HTML object>"
      ]
     },
     "metadata": {},
     "output_type": "display_data"
    }
   ],
   "source": [
    "from IPython.core.display import display, HTML\n",
    "display(HTML(\"<style>.container { width:100% !important; }</style>\"))"
   ]
  },
  {
   "cell_type": "code",
   "execution_count": 3,
   "metadata": {},
   "outputs": [],
   "source": [
    "def setUnfoldBkgs(unfold_class, hfile_path, isSys, syst_name, nthSys, nTotSys, year):\n",
    "    \n",
    "    #bkgList = {\"WJets_MG\": \"WJets\", \\\n",
    "    #           \"WW_pythia\": \"EWK\", \"WZ_pythia\": \"EWK\", \"ZZ_pythia\": \"EWK\", \\\n",
    "    #           \"DYJets10to50ToTauTau\":\"EWK\", \"DYJetsToTauTau\":\"EWK\", \\\n",
    "    #           \"TTLL_powheg\": \"Top\", \"SingleTop_tW_top_Incl\": \"Top\", \"SingleTop_tW_antitop_Incl\": \"Top\"}\n",
    "    #\n",
    "    bkgList = {\"WJets_MG\": \"WJets\", \\\n",
    "               \"WW_pythia\": \"EWK\", \"WZ_pythia\": \"EWK\", \"ZZ_pythia\": \"EWK\", \\\n",
    "               \"DYJets10to50ToTauTau\":\"EWK\", \"DYJetsToTauTau\":\"EWK\", \\\n",
    "               \"TTLL_powheg\": \"Top\"}\n",
    "    \n",
    "    for bkg in bkgList.items():\n",
    "        #unfold_class.subBkgs(\"Pt\", hfile_path, bkg, isSys, syst_name, nTotSys, nthSys, \"Detector\")\n",
    "        unfold_class.subBkgs(hfile_path, bkg, isSys, syst_name, nTotSys, nthSys, \"Detector\")"
   ]
  },
  {
   "cell_type": "code",
   "execution_count": 4,
   "metadata": {},
   "outputs": [
    {
     "name": "stdout",
     "output_type": "stream",
     "text": [
      "{'matrix': 'inFiles/2016/electron/DY.root', 'fsr_matrix': 'inFiles/2016/electron/DY_FSR.root', 'hist': 'inFiles/2016/electron/unfold_input.root'}\n"
     ]
    }
   ],
   "source": [
    "year    = '2016'\n",
    "channel = 'electron'\n",
    "doSys   = True\n",
    "\n",
    "dy10to50Name = \"DYJets10to50_MG\"\n",
    "if year == \"2016\":\n",
    "    dy10to50Name = \"DYJets10to50\"\n",
    "\n",
    "# N_rec == N_gen or N_rec == 2 * N_gen\n",
    "# Detector_Dressed_DRp1_Fiducial\n",
    "# Dressed_DRp1_Dressed_DR4PI_Fiducial\n",
    "# Dressed_DRp1_Dressed_DR4PI_FullPhase\n",
    "# Detector_Dressed_DR4PI_Fiducial\n",
    "# Detector_Dressed_DR4PI_FullPhase\n",
    "\n",
    "matrix_detector = 'Detector_Dressed_DRp1_Fiducial' # Directory path \n",
    "matrix_detector_ = 'Detector_Dressed_DRp1'         # Histogram name\n",
    "matrix_fsr = 'Dressed_DRp1_Dressed_DR4PI_FullPhase'\n",
    "matrix_fsr_ = 'Dressed_DRp1_Dressed_DR4PI'\n",
    "\n",
    "# One step unfolding\n",
    "matrix_det_fsr = 'Detector_Dressed_DR4PI_FullPhase'\n",
    "matrix_det_fsr_ = 'Detector_Dressed_DR4PI'\n",
    "\n",
    "# Set output directory\n",
    "outDir = 'output/'+year+'/new_'+channel+'/'\n",
    "inFhistTxt = 'inFiles/'+year+'/'+channel+'/fhist.txt'\n",
    "\n",
    "# Make output directory\n",
    "if not os.path.exists(outDir):\n",
    "    os.makedirs(outDir)\n",
    "\n",
    "# Read text file including root file paths for unfolding\n",
    "filePaths = open(inFhistTxt, 'r')\n",
    "unfoldInputDic = {}\n",
    "\n",
    "for path in filePaths:\n",
    "    modifiedPath = path.lstrip(' ').rstrip(' ').rstrip('\\n')\n",
    "    unfoldInputDic[modifiedPath.split()[1]] = modifiedPath.split()[2]\n",
    "    \n",
    "print(unfoldInputDic)"
   ]
  },
  {
   "cell_type": "code",
   "execution_count": 5,
   "metadata": {},
   "outputs": [],
   "source": [
    "import pyScripts.unfoldUtil as unfoldutil\n",
    "\n",
    "# Simple unfolding tests\n",
    "# Unfolding without systematics\n",
    "# Closure tests"
   ]
  },
  {
   "cell_type": "code",
   "execution_count": 6,
   "metadata": {},
   "outputs": [
    {
     "name": "stdout",
     "output_type": "stream",
     "text": [
      "ISRUnfold set!\n",
      "ISRUnfold set!\n",
      "ISRUnfold set!\n",
      "ISRUnfold set!\n"
     ]
    }
   ],
   "source": [
    "bias = 1.0\n",
    "\n",
    "# Create ISRUnfold class\n",
    "#                                              # unfold mode  \n",
    "unfold_det = rt.ISRUnfold(channel, int(year), int(0), False)\n",
    "unfold_det.setOutputBaseDir(outDir)\n",
    "unfold_det.setBias(bias)\n",
    "\n",
    "unfold_fsr = rt.ISRUnfold(channel, int(year), int(0), False)\n",
    "unfold_fsr.setOutputBaseDir(outDir)\n",
    "unfold_fsr.setBias(bias)\n",
    "\n",
    "# To test one-step unfolding result\n",
    "unfold_oneStep = rt.ISRUnfold(channel, int(year), int(0), False)\n",
    "unfold_oneStep.setOutputBaseDir(outDir)\n",
    "unfold_oneStep.setBias(bias)\n",
    "\n",
    "# Closure\n",
    "unfold_closure = rt.ISRUnfold(channel, int(year), int(0), False)\n",
    "unfold_closure.setOutputBaseDir(outDir)\n",
    "unfold_closure.setBias(bias)"
   ]
  },
  {
   "cell_type": "code",
   "execution_count": 7,
   "metadata": {
    "scrolled": false
   },
   "outputs": [
    {
     "name": "stdout",
     "output_type": "stream",
     "text": [
      "ISRUnfold::setNomResMatrix set response matrix...\n",
      "0 th mass bin edge: 50\n",
      "1 th mass bin edge: 64\n",
      "2 th mass bin edge: 81\n",
      "3 th mass bin edge: 101\n",
      "4 th mass bin edge: 200\n",
      "5 th mass bin edge: 320\n"
     ]
    },
    {
     "name": "stderr",
     "output_type": "stream",
     "text": [
      "Info in <TUnfoldV17::SetConstraint>: fConstraint=1\n",
      "Info in <TUnfoldV17::TUnfold>: underflow and overflow bin do not depend on the input data\n",
      "Info in <TUnfoldV17::TUnfold>: 70 input bins and 70 output bins\n",
      "Warning in <TUnfoldV17::TUnfold>: too few (ny=70) input bins for nx=70 output bins\n",
      "Info in <TUnfoldDensityV17::TUnfold>: *NOT* unfolding bin #0\n",
      "Info in <TUnfoldDensityV17::TUnfold>: *NOT* unfolding bin #71\n"
     ]
    }
   ],
   "source": [
    "# Set response matrix: detector unfolding\n",
    "unfold_det.setNomResMatrix(\"Pt\", unfoldInputDic['matrix'], matrix_detector, matrix_detector_)"
   ]
  },
  {
   "cell_type": "code",
   "execution_count": 8,
   "metadata": {
    "scrolled": true
   },
   "outputs": [
    {
     "name": "stdout",
     "output_type": "stream",
     "text": [
      "ISRUnfold::setNomResMatrix set response matrix...\n",
      "ISRUnfold::setMassBindEdges massBinEdges already set.\n"
     ]
    },
    {
     "name": "stderr",
     "output_type": "stream",
     "text": [
      "Info in <TUnfoldV17::SetConstraint>: fConstraint=1\n",
      "Info in <TUnfoldV17::TUnfold>: underflow and overflow bin do not depend on the input data\n",
      "Info in <TUnfoldV17::TUnfold>: 72 input bins and 72 output bins\n",
      "Warning in <TUnfoldV17::TUnfold>: too few (ny=72) input bins for nx=72 output bins\n",
      "Info in <TUnfoldDensityV17::TUnfold>: *NOT* unfolding bin #0\n",
      "Info in <TUnfoldDensityV17::TUnfold>: *NOT* unfolding bin #73\n"
     ]
    }
   ],
   "source": [
    "unfold_det.setNomResMatrix(\"Mass\", unfoldInputDic['matrix'], matrix_detector, matrix_detector_)"
   ]
  },
  {
   "cell_type": "code",
   "execution_count": 9,
   "metadata": {
    "scrolled": false
   },
   "outputs": [
    {
     "name": "stdout",
     "output_type": "stream",
     "text": [
      "ISRUnfold::setNomResMatrix set response matrix...\n",
      "0 th mass bin edge: 50\n",
      "1 th mass bin edge: 64\n",
      "2 th mass bin edge: 81\n",
      "3 th mass bin edge: 101\n",
      "4 th mass bin edge: 200\n",
      "5 th mass bin edge: 320\n",
      "ISRUnfold::setNomResMatrix set response matrix...\n",
      "ISRUnfold::setMassBindEdges massBinEdges already set.\n"
     ]
    },
    {
     "name": "stderr",
     "output_type": "stream",
     "text": [
      "Info in <TUnfoldV17::SetConstraint>: fConstraint=1\n",
      "Info in <TUnfoldV17::TUnfold>: underflow and overflow bin do not depend on the input data\n",
      "Info in <TUnfoldV17::TUnfold>: 70 input bins and 70 output bins\n",
      "Warning in <TUnfoldV17::TUnfold>: too few (ny=70) input bins for nx=70 output bins\n",
      "Info in <TUnfoldDensityV17::TUnfold>: *NOT* unfolding bin #0\n",
      "Info in <TUnfoldDensityV17::TUnfold>: *NOT* unfolding bin #71\n",
      "Info in <TUnfoldV17::SetConstraint>: fConstraint=1\n",
      "Info in <TUnfoldV17::TUnfold>: underflow and overflow bin do not depend on the input data\n",
      "Info in <TUnfoldV17::TUnfold>: 72 input bins and 72 output bins\n",
      "Warning in <TUnfoldV17::TUnfold>: too few (ny=72) input bins for nx=72 output bins\n",
      "Info in <TUnfoldDensityV17::TUnfold>: *NOT* unfolding bin #0\n",
      "Info in <TUnfoldDensityV17::TUnfold>: *NOT* unfolding bin #73\n"
     ]
    }
   ],
   "source": [
    "# One step unfolding\n",
    "unfold_oneStep.setNomResMatrix(\"Pt\", unfoldInputDic['matrix'], matrix_det_fsr, matrix_det_fsr_)\n",
    "unfold_oneStep.setNomResMatrix(\"Mass\", unfoldInputDic['matrix'], matrix_det_fsr, matrix_det_fsr_)"
   ]
  },
  {
   "cell_type": "code",
   "execution_count": 10,
   "metadata": {},
   "outputs": [
    {
     "name": "stdout",
     "output_type": "stream",
     "text": [
      "ISRUnfold::setNomResMatrix set response matrix...\n",
      "0 th mass bin edge: 50\n",
      "1 th mass bin edge: 64\n",
      "2 th mass bin edge: 81\n",
      "3 th mass bin edge: 101\n",
      "4 th mass bin edge: 200\n",
      "5 th mass bin edge: 320\n",
      "ISRUnfold::setNomResMatrix set response matrix...\n",
      "ISRUnfold::setMassBindEdges massBinEdges already set.\n"
     ]
    },
    {
     "name": "stderr",
     "output_type": "stream",
     "text": [
      "Info in <TUnfoldV17::SetConstraint>: fConstraint=1\n",
      "Info in <TUnfoldV17::TUnfold>: underflow and overflow bin do not depend on the input data\n",
      "Info in <TUnfoldV17::TUnfold>: 70 input bins and 70 output bins\n",
      "Warning in <TUnfoldV17::TUnfold>: too few (ny=70) input bins for nx=70 output bins\n",
      "Info in <TUnfoldDensityV17::TUnfold>: *NOT* unfolding bin #0\n",
      "Info in <TUnfoldDensityV17::TUnfold>: *NOT* unfolding bin #71\n",
      "Info in <TUnfoldV17::SetConstraint>: fConstraint=1\n",
      "Info in <TUnfoldV17::TUnfold>: underflow and overflow bin do not depend on the input data\n",
      "Info in <TUnfoldV17::TUnfold>: 72 input bins and 72 output bins\n",
      "Warning in <TUnfoldV17::TUnfold>: too few (ny=72) input bins for nx=72 output bins\n",
      "Info in <TUnfoldDensityV17::TUnfold>: *NOT* unfolding bin #0\n",
      "Info in <TUnfoldDensityV17::TUnfold>: *NOT* unfolding bin #73\n"
     ]
    }
   ],
   "source": [
    "unfold_closure.setNomResMatrix(\"Pt\", unfoldInputDic['matrix'], matrix_detector, matrix_detector_)\n",
    "unfold_closure.setNomResMatrix(\"Mass\", unfoldInputDic['matrix'], matrix_detector, matrix_detector_)"
   ]
  },
  {
   "cell_type": "code",
   "execution_count": 11,
   "metadata": {
    "scrolled": false
   },
   "outputs": [
    {
     "name": "stdout",
     "output_type": "stream",
     "text": [
      "ISRUnfold::setNomResMatrix set response matrix...\n",
      "0 th mass bin edge: 50\n",
      "1 th mass bin edge: 64\n",
      "2 th mass bin edge: 81\n",
      "3 th mass bin edge: 101\n",
      "4 th mass bin edge: 200\n",
      "5 th mass bin edge: 320\n",
      "ISRUnfold::setNomResMatrix set response matrix...\n",
      "ISRUnfold::setMassBindEdges massBinEdges already set.\n"
     ]
    },
    {
     "name": "stderr",
     "output_type": "stream",
     "text": [
      "Info in <TUnfoldV17::SetConstraint>: fConstraint=1\n",
      "Info in <TUnfoldV17::TUnfold>: underflow and overflow bin do not depend on the input data\n",
      "Info in <TUnfoldV17::TUnfold>: 70 input bins and 70 output bins\n",
      "Warning in <TUnfoldV17::TUnfold>: too few (ny=70) input bins for nx=70 output bins\n",
      "Info in <TUnfoldDensityV17::TUnfold>: *NOT* unfolding bin #0\n",
      "Info in <TUnfoldDensityV17::TUnfold>: *NOT* unfolding bin #71\n",
      "Info in <TUnfoldV17::SetConstraint>: fConstraint=1\n",
      "Info in <TUnfoldV17::TUnfold>: underflow and overflow bin do not depend on the input data\n",
      "Info in <TUnfoldV17::TUnfold>: 72 input bins and 72 output bins\n",
      "Warning in <TUnfoldV17::TUnfold>: too few (ny=72) input bins for nx=72 output bins\n",
      "Info in <TUnfoldDensityV17::TUnfold>: *NOT* unfolding bin #0\n",
      "Info in <TUnfoldDensityV17::TUnfold>: *NOT* unfolding bin #73\n"
     ]
    }
   ],
   "source": [
    "# Set FSR unfolding\n",
    "unfold_fsr.setNomResMatrix(\"Pt\", unfoldInputDic['fsr_matrix'], matrix_fsr, matrix_fsr_, True)\n",
    "unfold_fsr.setNomResMatrix(\"Mass\", unfoldInputDic['fsr_matrix'], matrix_fsr, matrix_fsr_, True)"
   ]
  },
  {
   "cell_type": "code",
   "execution_count": 12,
   "metadata": {},
   "outputs": [],
   "source": [
    "%jsroot on"
   ]
  },
  {
   "cell_type": "code",
   "execution_count": 13,
   "metadata": {},
   "outputs": [
    {
     "name": "stderr",
     "output_type": "stream",
     "text": [
      "Warning in <TUnfoldDensityV17::SetInput>: 8/70 input bins have zero error, and are ignored.\n",
      "Warning in <TUnfoldDensityV17::SetInput>: One input bin has zero error, and is ignored.\n"
     ]
    }
   ],
   "source": [
    "dataHistName = \"histo_DoubleEGnominal\"\n",
    "if year == \"2018\":\n",
    "    dataHistName = \"histo_EGammanominal\"\n",
    "dyHistName = \"histo_DYJetsToEEnominal\"\n",
    "\n",
    "unfold_det.setUnfInput(\"Pt\",   unfoldInputDic['hist'], \"Detector\", dataHistName, False, \"nominal\", 0)\n",
    "unfold_det.setUnfInput(\"Mass\", unfoldInputDic['hist'], \"Detector\", dataHistName, False, \"nominal\", 0)\n",
    "setUnfoldBkgs(unfold_det, unfoldInputDic['hist'], False, \"nominal\", 0, -1, year)\n",
    "\n",
    "unfold_oneStep.setUnfInput(\"Pt\",   unfoldInputDic['hist'], \"Detector\", dataHistName, False, \"nominal\", 0)\n",
    "unfold_oneStep.setUnfInput(\"Mass\", unfoldInputDic['hist'], \"Detector\", dataHistName, False, \"nominal\", 0)\n",
    "setUnfoldBkgs(unfold_oneStep, unfoldInputDic['hist'], False, \"nominal\", 0, -1, year)\n",
    "\n",
    "unfold_closure.setUnfInput(\"Pt\",   unfoldInputDic['hist'], \"Detector\", dyHistName, False, \"nominal\", 0)\n",
    "unfold_closure.setUnfInput(\"Mass\", unfoldInputDic['hist'], \"Detector\", dyHistName, False, \"nominal\", 0)"
   ]
  },
  {
   "cell_type": "code",
   "execution_count": 14,
   "metadata": {},
   "outputs": [],
   "source": [
    "fakeList = {\"DYJets\": \"DY\", dy10to50Name:\"DY\"}"
   ]
  },
  {
   "cell_type": "code",
   "execution_count": 15,
   "metadata": {},
   "outputs": [],
   "source": [
    "for fake in fakeList.items():\n",
    "    unfold_closure.subBkgs(unfoldInputDic['matrix'], fake, False, \"\", 0, -1, \"detector_level_DY_Fake\")\n",
    "    unfold_det.subBkgs(unfoldInputDic['matrix'], fake, False, \"\", 0, -1, \"detector_level_DY_Fake\")\n",
    "    #unfold_oneStep.subBkgs(unfoldInputDic['matrix'], fake, False, \"\", 0, -1, \"detector_level_DY_Fake\")"
   ]
  },
  {
   "cell_type": "code",
   "execution_count": 16,
   "metadata": {
    "scrolled": false
   },
   "outputs": [
    {
     "name": "stderr",
     "output_type": "stream",
     "text": [
      "Warning in <TUnfoldDensityV17::GetInputInverseEmatrix>: number of parameters 70 = input rank 70. Problem is ill posed\n",
      "Warning in <TUnfoldDensityV17::GetInputInverseEmatrix>: number of parameters 72 = input rank 72. Problem is ill posed\n"
     ]
    }
   ],
   "source": [
    "# Do unfold Need to understand the error meassages below!\n",
    "unfold_det.doISRUnfold(False)"
   ]
  },
  {
   "cell_type": "code",
   "execution_count": 17,
   "metadata": {},
   "outputs": [],
   "source": [
    "# Set input for FSR unfolding using detector unfold output\n",
    "unfold_fsr.setUnfInput(unfold_det, \"Pt\", False, \"\", 0)\n",
    "unfold_fsr.setUnfInput(unfold_det, \"Mass\", False, \"\", 0)"
   ]
  },
  {
   "cell_type": "code",
   "execution_count": 18,
   "metadata": {},
   "outputs": [
    {
     "name": "stderr",
     "output_type": "stream",
     "text": [
      "Warning in <TUnfoldDensityV17::GetInputInverseEmatrix>: number of parameters 70 = input rank 70. Problem is ill posed\n",
      "Warning in <TUnfoldDensityV17::GetInputInverseEmatrix>: number of parameters 72 = input rank 72. Problem is ill posed\n"
     ]
    }
   ],
   "source": [
    "unfold_fsr.doISRUnfold(False)"
   ]
  },
  {
   "cell_type": "code",
   "execution_count": 19,
   "metadata": {},
   "outputs": [
    {
     "name": "stderr",
     "output_type": "stream",
     "text": [
      "Warning in <TUnfoldDensityV17::GetInputInverseEmatrix>: number of parameters 70 = input rank 70. Problem is ill posed\n",
      "Warning in <TUnfoldDensityV17::GetInputInverseEmatrix>: number of parameters 72 = input rank 72. Problem is ill posed\n"
     ]
    }
   ],
   "source": [
    "unfold_oneStep.doISRUnfold(False)"
   ]
  },
  {
   "cell_type": "code",
   "execution_count": 20,
   "metadata": {},
   "outputs": [
    {
     "name": "stderr",
     "output_type": "stream",
     "text": [
      "Error in <TUnfoldDensityV17::GetInputInverseEmatrix>: number of parameters 70 > 62 (rank of input covariance). Problem can not be solved\n",
      "Info in <TUnfoldDensityV17::InvertMSparseSymmPos>: cholesky-decomposition failed, try eigenvalue analysis\n",
      "Warning in <TUnfoldDensityV17::DoUnfold>: rank of matrix E 62 expect 70\n",
      "Info in <TUnfoldDensityV17::InvertMSparseSymmPos>: cholesky-decomposition failed, try eigenvalue analysis\n",
      "Warning in <TUnfoldDensityV17::DoUnfold>: rank of output covariance is 62 expect 70\n",
      "Error in <TUnfoldDensityV17::GetInputInverseEmatrix>: number of parameters 72 > 71 (rank of input covariance). Problem can not be solved\n",
      "Info in <TUnfoldDensityV17::InvertMSparseSymmPos>: cholesky-decomposition failed, try eigenvalue analysis\n",
      "Warning in <TUnfoldDensityV17::DoUnfold>: rank of output covariance is 71 expect 72\n"
     ]
    }
   ],
   "source": [
    "unfold_closure.doISRUnfold(False)"
   ]
  },
  {
   "cell_type": "markdown",
   "metadata": {},
   "source": [
    "## Draw unfolded histograms"
   ]
  },
  {
   "cell_type": "code",
   "execution_count": 21,
   "metadata": {},
   "outputs": [],
   "source": [
    "# For mass distribution\n",
    "mass_steering = \"mass[UO];pt[UOC0]\"\n",
    "mass_useAxis = True\n",
    "\n",
    "# Get detector level DY MC hist\n",
    "hDYMC_detector = unfold_det.getRawHist(\"Mass\", unfoldInputDic['hist'], \"Detector\", dyHistName, \\\n",
    "                                        \"hDYMC_detctor\", mass_steering, mass_useAxis)\n",
    "\n",
    "hFakeDYMC_detector = unfold_det.getRawHist(\"Mass\", unfoldInputDic['matrix'], \"detector_level_DY_Fake\", \"histo_DYJetsnominal\", \\\n",
    "                                        \"hFakeDYMC_detctor\", mass_steering, mass_useAxis)\n",
    "hFakeDY10to50MC_detector = unfold_det.getRawHist(\"Mass\", unfoldInputDic['matrix'], \"detector_level_DY_Fake\", \"histo_\"+dy10to50Name+\"nominal\", \\\n",
    "                                        \"hFakeDY10to50MC_detctor\", mass_steering, mass_useAxis)\n",
    "hFakeDYMC_detector.Add(hFakeDY10to50MC_detector)\n",
    "hDYMC_detector.Add(hFakeDYMC_detector, -1)\n",
    "\n",
    "# Two-step from detector to pre-FSR\n",
    "hMassUnfoldedData = unfold_det.getDetUnfoldedHists(\"Mass\", \"hMassUnfoldedData\", mass_steering, mass_useAxis)\n",
    "hMassMCTruth = unfold_det.getMCHists(\"Mass\", \"hMassMCTruth\", mass_steering, mass_useAxis)\n",
    "hMassFSRUnfoldedData = unfold_fsr.getDetUnfoldedHists(\"Mass\", \"hMassFSRUnfoldedData\", mass_steering, mass_useAxis)\n",
    "hMassData = unfold_det.getDetHists(\"Mass\", \"hMassData\", mass_steering, mass_useAxis)\n",
    "hMassMCTruth_preFSR = unfold_fsr.getMCHists(\"Mass\", \"hMassMCTruth_preFSR\", mass_steering, mass_useAxis)\n",
    "\n",
    "# One-step \n",
    "hMassUnfoldedData_ = unfold_oneStep.getDetUnfoldedHists(\"Mass\", \"hMassUnfoldedData_\", mass_steering, mass_useAxis)\n",
    "hMassUnfoldedMC_ = unfold_oneStep.getMCHists(\"Mass\", \"hMassUnfoldedMC_\", mass_steering, mass_useAxis)\n",
    "\n",
    "# Closure (One-step)\n",
    "hMassUnfoldedMC_closure = unfold_closure.getDetUnfoldedHists(\"Mass\", \"hMassUnfoldedMC_closure\", mass_steering, mass_useAxis)\n",
    "\n",
    "# For pt distribution\n",
    "pt_steering = \"pt[UO];mass[UO]\"\n",
    "pt_useAxis = False\n",
    "\n",
    "hDYMCPt_detector = unfold_det.getRawHist(\"Pt\", unfoldInputDic['hist'], \"Detector\", dyHistName, \\\n",
    "                                        \"hDYMCPt_detctor\", pt_steering, pt_useAxis)\n",
    "hFakeDYMCPt_detector = unfold_det.getRawHist(\"Pt\", unfoldInputDic['matrix'], \"detector_level_DY_Fake\", \"histo_DYJetsnominal\", \\\n",
    "                                        \"hFakeDYMCPt_detctor\", pt_steering, pt_useAxis)\n",
    "hFakeDY10to50MCPt_detector = unfold_det.getRawHist(\"Pt\", unfoldInputDic['matrix'], \"detector_level_DY_Fake\", \"histo_\"+dy10to50Name+\"nominal\", \\\n",
    "                                        \"hFakeDY10to50MCPt_detctor\", pt_steering, pt_useAxis)\n",
    "hFakeDYMCPt_detector.Add(hFakeDY10to50MCPt_detector)\n",
    "hDYMCPt_detector.Add(hFakeDYMCPt_detector, -1)\n",
    "\n",
    "# Two-step from detector to pre-FSR\n",
    "hPtUnfoldedData = unfold_det.getDetUnfoldedHists(\"Pt\", \"hPtUnfoldedData\", pt_steering, pt_useAxis)\n",
    "hPtMCTruth = unfold_det.getMCHists(\"Pt\", \"hPtMCTruth\", pt_steering, pt_useAxis)\n",
    "hPtFSRUnfoldedData = unfold_fsr.getDetUnfoldedHists(\"Pt\", \"hPtFSRUnfoldedData\", pt_steering, pt_useAxis)\n",
    "hPtData = unfold_det.getDetHists(\"Pt\", \"hPtData\", pt_steering, pt_useAxis)\n",
    "hPtMCTruth_preFSR = unfold_fsr.getMCHists(\"Pt\", \"hPtMCTruth_preFSR\", pt_steering, pt_useAxis)\n",
    "\n",
    "# One-step\n",
    "hPtUnfoldedData_ = unfold_oneStep.getDetUnfoldedHists(\"Pt\", \"hPtUnfoldedData_\", pt_steering, pt_useAxis)\n",
    "hPtUnfoldedMC_ = unfold_oneStep.getMCHists(\"Pt\", \"hPtUnfoldedMC_\", pt_steering, pt_useAxis)\n",
    "\n",
    "# Closure (One-step)\n",
    "hPtUnfoldedMC_closure = unfold_closure.getDetUnfoldedHists(\"Pt\", \"hPtUnfoldedMC_closure\", pt_steering, pt_useAxis)\n",
    "hPtMCTruth_closure = unfold_closure.getMCHists(\"Pt\", \"hPtMCTruth_closure\", pt_steering, pt_useAxis)"
   ]
  },
  {
   "cell_type": "code",
   "execution_count": 22,
   "metadata": {},
   "outputs": [],
   "source": [
    "# Draw plot!\n",
    "c = rt.TCanvas(\"c\",\"c\", 50, 50, 1200, 600)\n",
    "c.Divide(2,1);\n",
    "\n",
    "pad_mass = rt.TPad(\"pad_mass\", \"pad_mass\", 0, 0.3, 1, 1.0)\n",
    "ratio_mass = rt.TPad(\"ratio_mass\", \"raio_mass\", 0, 0.0, 1, 0.3)\n",
    "c.cd(1)\n",
    "pad_mass.Draw()\n",
    "c.cd(1)\n",
    "ratio_mass.Draw()\n",
    "\n",
    "pad_pt = rt.TPad(\"pad_pt\", \"pad_pt\", 0, 0.3, 1, 1.0)\n",
    "ratio_pt = rt.TPad(\"ratio_pt\", \"ratio_pt\", 0, 0.0, 1, 0.3)\n",
    "c.cd(2)\n",
    "pad_pt.SetLeftMargin(2.)\n",
    "pad_pt.Draw()\n",
    "c.cd(2)\n",
    "ratio_pt.Draw()"
   ]
  },
  {
   "cell_type": "code",
   "execution_count": 23,
   "metadata": {
    "scrolled": false
   },
   "outputs": [
    {
     "name": "stderr",
     "output_type": "stream",
     "text": [
      "Info in <TCanvas::Print>: png file Mass_Pt.png has been created\n"
     ]
    },
    {
     "data": {
      "text/html": [
       "\n",
       "<div id=\"root_plot_1\"\n",
       "     style=\"width: 1196px; height: 572px\">\n",
       "</div>\n",
       "\n",
       "<script>\n",
       " requirejs.config({\n",
       "     paths: {\n",
       "       'JSRootCore' : 'https://root.cern.ch/js/notebook//scripts/JSRootCore',\n",
       "     }\n",
       "   });\n",
       " require(['JSRootCore'],\n",
       "     function(Core) {\n",
       "       var obj = Core.JSONR_unref({\"_typename\":\"TCanvas\",\"fUniqueID\":0,\"fBits\":53673992,\"fLineColor\":1,\"fLineStyle\":1,\"fLineWidth\":1,\"fFillColor\":0,\"fFillStyle\":1001,\"fLeftMargin\":0.1,\"fRightMargin\":0.1,\"fBottomMargin\":0.1,\"fTopMargin\":0.1,\"fXfile\":2,\"fYfile\":2,\"fAfile\":1,\"fXstat\":0.99,\"fYstat\":0.99,\"fAstat\":2,\"fFrameFillColor\":0,\"fFrameLineColor\":1,\"fFrameFillStyle\":1001,\"fFrameLineStyle\":1,\"fFrameLineWidth\":1,\"fFrameBorderSize\":1,\"fFrameBorderMode\":0,\"fX1\":0,\"fY1\":0,\"fX2\":1,\"fY2\":1,\"fXtoAbsPixelk\":5e-5,\"fXtoPixelk\":5e-5,\"fXtoPixel\":1196,\"fYtoAbsPixelk\":572.00005,\"fYtoPixelk\":572.00005,\"fYtoPixel\":-572,\"fUtoAbsPixelk\":5e-5,\"fUtoPixelk\":5e-5,\"fUtoPixel\":1196,\"fVtoAbsPixelk\":572.00005,\"fVtoPixelk\":572,\"fVtoPixel\":-572,\"fAbsPixeltoXk\":0,\"fPixeltoXk\":0,\"fPixeltoX\":8.36120401337793e-4,\"fAbsPixeltoYk\":1,\"fPixeltoYk\":0,\"fPixeltoY\":-0.00174825174825175,\"fXlowNDC\":0,\"fYlowNDC\":0,\"fXUpNDC\":0,\"fYUpNDC\":0,\"fWNDC\":1,\"fHNDC\":1,\"fAbsXlowNDC\":0,\"fAbsYlowNDC\":0,\"fAbsWNDC\":1,\"fAbsHNDC\":1,\"fUxmin\":0,\"fUymin\":0,\"fUxmax\":1,\"fUymax\":1,\"fTheta\":30,\"fPhi\":30,\"fAspectRatio\":0,\"fNumber\":0,\"fTickx\":0,\"fTicky\":0,\"fLogx\":0,\"fLogy\":0,\"fLogz\":0,\"fPadPaint\":0,\"fCrosshair\":0,\"fCrosshairPos\":0,\"fBorderSize\":2,\"fBorderMode\":0,\"fModified\":false,\"fGridx\":false,\"fGridy\":false,\"fAbsCoord\":false,\"fEditable\":true,\"fFixedAspectRatio\":false,\"fPrimitives\":{\"_typename\":\"TList\",\"name\":\"TList\",\"arr\":[{\"_typename\":\"TPad\",\"fUniqueID\":0,\"fBits\":50331657,\"fLineColor\":1,\"fLineStyle\":1,\"fLineWidth\":1,\"fFillColor\":0,\"fFillStyle\":1001,\"fLeftMargin\":0.1,\"fRightMargin\":0.1,\"fBottomMargin\":0.1,\"fTopMargin\":0.1,\"fXfile\":2,\"fYfile\":2,\"fAfile\":1,\"fXstat\":0.99,\"fYstat\":0.99,\"fAstat\":2,\"fFrameFillColor\":0,\"fFrameLineColor\":1,\"fFrameFillStyle\":1001,\"fFrameLineStyle\":1,\"fFrameLineWidth\":1,\"fFrameBorderSize\":1,\"fFrameBorderMode\":0,\"fX1\":0,\"fY1\":0,\"fX2\":1,\"fY2\":1,\"fXtoAbsPixelk\":11.9600497326732,\"fXtoPixelk\":5e-5,\"fXtoPixel\":574.080000534654,\"fYtoAbsPixelk\":566.280050127852,\"fYtoPixelk\":560.560050255704,\"fYtoPixel\":-560.560000255704,\"fUtoAbsPixelk\":11.9600497326732,\"fUtoPixelk\":5e-5,\"fUtoPixel\":574.080000534654,\"fVtoAbsPixelk\":566.280050127852,\"fVtoPixelk\":560.560000255704,\"fVtoPixel\":-560.560000255704,\"fAbsPixeltoXk\":-0.0208333328482695,\"fPixeltoXk\":0,\"fPixeltoX\":0.00174191750116478,\"fAbsPixeltoYk\":1.01020408139992,\"fPixeltoYk\":0,\"fPixeltoY\":-0.00178393035454517,\"fXlowNDC\":0.00999999977648258,\"fYlowNDC\":0.00999999977648258,\"fXUpNDC\":0,\"fYUpNDC\":0,\"fWNDC\":0.480000000447035,\"fHNDC\":0.980000000447035,\"fAbsXlowNDC\":0.00999999977648258,\"fAbsYlowNDC\":0.00999999977648258,\"fAbsWNDC\":0.480000000447035,\"fAbsHNDC\":0.980000000447035,\"fUxmin\":0,\"fUymin\":0,\"fUxmax\":1,\"fUymax\":1,\"fTheta\":30,\"fPhi\":30,\"fAspectRatio\":0,\"fNumber\":1,\"fTickx\":0,\"fTicky\":0,\"fLogx\":0,\"fLogy\":0,\"fLogz\":0,\"fPadPaint\":0,\"fCrosshair\":0,\"fCrosshairPos\":0,\"fBorderSize\":2,\"fBorderMode\":0,\"fModified\":false,\"fGridx\":false,\"fGridy\":false,\"fAbsCoord\":false,\"fEditable\":true,\"fFixedAspectRatio\":false,\"fPrimitives\":{\"_typename\":\"TList\",\"name\":\"TList\",\"arr\":[{\"_typename\":\"TPad\",\"fUniqueID\":0,\"fBits\":50331657,\"fLineColor\":1,\"fLineStyle\":1,\"fLineWidth\":1,\"fFillColor\":0,\"fFillStyle\":1001,\"fLeftMargin\":0.1,\"fRightMargin\":0.1,\"fBottomMargin\":0.1,\"fTopMargin\":0.1,\"fXfile\":2,\"fYfile\":2,\"fAfile\":1,\"fXstat\":0.99,\"fYstat\":0.99,\"fAstat\":2,\"fFrameFillColor\":0,\"fFrameLineColor\":1,\"fFrameFillStyle\":1001,\"fFrameLineStyle\":1,\"fFrameLineWidth\":1,\"fFrameBorderSize\":1,\"fFrameBorderMode\":0,\"fX1\":1.00995890676983,\"fY1\":-1.08737133155748,\"fX2\":2.67128233060576,\"fY2\":9.7863413358935,\"fXtoAbsPixelk\":-337.037142156473,\"fXtoPixelk\":-348.997141889146,\"fXtoPixel\":345.555833558962,\"fYtoAbsPixelk\":358.872847694403,\"fYtoPixelk\":353.152847822255,\"fYtoPixel\":-36.0862947347842,\"fUtoAbsPixelk\":11.9600497326732,\"fUtoPixelk\":5e-5,\"fUtoPixel\":574.080000534654,\"fVtoAbsPixelk\":398.112050051141,\"fVtoPixelk\":392.392000178993,\"fVtoPixel\":-392.392000178993,\"fAbsPixeltoXk\":0.975348002912428,\"fPixeltoXk\":1.00995890676983,\"fPixeltoX\":0.0028938883470748,\"fAbsPixeltoYk\":9.94485026329065,\"fPixeltoYk\":-1.08737133155748,\"fPixeltoY\":-0.0277113515629545,\"fXlowNDC\":0,\"fYlowNDC\":0.3,\"fXUpNDC\":0,\"fYUpNDC\":0,\"fWNDC\":1,\"fHNDC\":0.7,\"fAbsXlowNDC\":0.00999999977648258,\"fAbsYlowNDC\":0.303999999910593,\"fAbsWNDC\":0.480000000447035,\"fAbsHNDC\":0.686000000312924,\"fUxmin\":1.17609125905568,\"fUymin\":0,\"fUxmax\":2.50514997831991,\"fUymax\":8.69897000433602,\"fTheta\":30,\"fPhi\":30,\"fAspectRatio\":0,\"fNumber\":0,\"fTickx\":0,\"fTicky\":0,\"fLogx\":1,\"fLogy\":1,\"fLogz\":0,\"fPadPaint\":0,\"fCrosshair\":0,\"fCrosshairPos\":0,\"fBorderSize\":2,\"fBorderMode\":0,\"fModified\":false,\"fGridx\":true,\"fGridy\":true,\"fAbsCoord\":false,\"fEditable\":true,\"fFixedAspectRatio\":false,\"fPrimitives\":{\"_typename\":\"TList\",\"name\":\"TList\",\"arr\":[{\"_typename\":\"TFrame\",\"fUniqueID\":0,\"fBits\":50331656,\"fLineColor\":1,\"fLineStyle\":1,\"fLineWidth\":1,\"fFillColor\":0,\"fFillStyle\":1001,\"fX1\":1.17609125905568,\"fY1\":0,\"fX2\":2.50514997831991,\"fY2\":8.69897000433602,\"fBorderSize\":1,\"fBorderMode\":0},{\"_typename\":\"TH1D\",\"fUniqueID\":0,\"fBits\":50332168,\"fName\":\"hMassUnfoldedData\",\"fTitle\":\"hMassUnfoldedData\",\"fLineColor\":632,\"fLineStyle\":1,\"fLineWidth\":1,\"fFillColor\":0,\"fFillStyle\":1001,\"fMarkerColor\":632,\"fMarkerStyle\":20,\"fMarkerSize\":1,\"fNcells\":36,\"fXaxis\":{\"_typename\":\"TAxis\",\"fUniqueID\":0,\"fBits\":50331656,\"fName\":\"xaxis\",\"fTitle\":\"mass\",\"fNdivisions\":520,\"fAxisColor\":1,\"fLabelColor\":1,\"fLabelFont\":42,\"fLabelOffset\":0.005,\"fLabelSize\":0.035,\"fTickLength\":0.03,\"fTitleOffset\":1,\"fTitleSize\":0.035,\"fTitleColor\":1,\"fTitleFont\":42,\"fNbins\":34,\"fXmin\":15,\"fXmax\":320,\"fXbins\":[15,20,25,30,35,40,45,50,55,60,64,68,72,76,81,86,91,96,101,106,110,115,120,126,133,141,150,160,171,185,200,220,243,273,320],\"fFirst\":0,\"fLast\":0,\"fBits2\":0,\"fTimeDisplay\":false,\"fTimeFormat\":\"\",\"fLabels\":null,\"fModLabs\":null},\"fYaxis\":{\"_typename\":\"TAxis\",\"fUniqueID\":0,\"fBits\":50331656,\"fName\":\"yaxis\",\"fTitle\":\"Events\\/ bin\",\"fNdivisions\":10,\"fAxisColor\":1,\"fLabelColor\":1,\"fLabelFont\":42,\"fLabelOffset\":0.005,\"fLabelSize\":0.035,\"fTickLength\":0.03,\"fTitleOffset\":0,\"fTitleSize\":0.035,\"fTitleColor\":1,\"fTitleFont\":42,\"fNbins\":1,\"fXmin\":0,\"fXmax\":1,\"fXbins\":[],\"fFirst\":0,\"fLast\":0,\"fBits2\":0,\"fTimeDisplay\":false,\"fTimeFormat\":\"\",\"fLabels\":null,\"fModLabs\":null},\"fZaxis\":{\"_typename\":\"TAxis\",\"fUniqueID\":0,\"fBits\":50331648,\"fName\":\"zaxis\",\"fTitle\":\"\",\"fNdivisions\":510,\"fAxisColor\":1,\"fLabelColor\":1,\"fLabelFont\":42,\"fLabelOffset\":0.005,\"fLabelSize\":0.035,\"fTickLength\":0.03,\"fTitleOffset\":1,\"fTitleSize\":0.035,\"fTitleColor\":1,\"fTitleFont\":42,\"fNbins\":1,\"fXmin\":0,\"fXmax\":1,\"fXbins\":[],\"fFirst\":0,\"fLast\":0,\"fBits2\":0,\"fTimeDisplay\":false,\"fTimeFormat\":\"\",\"fLabels\":null,\"fModLabs\":null},\"fBarOffset\":0,\"fBarWidth\":1000,\"fEntries\":70,\"fTsumw\":0,\"fTsumw2\":0,\"fTsumwx\":0,\"fTsumwx2\":0,\"fMaximum\":500000000,\"fMinimum\":1,\"fNormFactor\":0,\"fContour\":[],\"fSumw2\":[0,680866.484448785,499619.14832284,550349.50552558,605255.159475305,955816.821014388,1824350.78103908,2883836.25510624,3405896.39331563,3830942.0271693,4092950.19649027,4844597.60036532,5623736.96193375,6916850.8546142,11881575.7244884,31097747.0140785,153892208.073322,131773537.837522,11723944.1512029,4450799.84138263,2780655.85282595,1998005.65663078,1130830.27817011,793853.891121525,565945.327498927,355672.176206565,300537.219198862,271890.150596789,155485.219770726,135103.686374138,90651.9652337225,104238.384159993,80409.6956520584,72386.7059894792,37478.792989452,0],\"fOption\":\"\",\"fFunctions\":{\"_typename\":\"TList\",\"name\":\"TList\",\"arr\":[],\"opt\":[]},\"fBufferSize\":0,\"fBuffer\":[],\"fBinStatErrOpt\":0,\"fStatOverflows\":2,\"fArray\":[0,85748.0328614891,73973.6028814904,54488.1860730009,57128.4240292735,71754.30604043,124839.284080848,207208.254458226,264972.955911786,278533.429357355,231357.738201269,260005.387182625,301430.907361286,386978.947346864,767347.023496931,1668867.26373468,12267947.949868,12963069.7993737,1213535.13588263,411819.49608934,177151.581501779,139857.247631547,96972.7158800286,79469.1289329916,66059.7412122514,53682.2870168862,43234.6463837019,32973.2149775325,27300.6399940329,24454.5773266777,18277.86648942,16350.2794765128,12573.0209292921,10555.9833941762,9622.46366084994,0]},{\"_typename\":\"TH1D\",\"fUniqueID\":0,\"fBits\":50331656,\"fName\":\"hMassFSRUnfoldedData\",\"fTitle\":\"hMassFSRUnfoldedData\",\"fLineColor\":600,\"fLineStyle\":1,\"fLineWidth\":1,\"fFillColor\":0,\"fFillStyle\":1001,\"fMarkerColor\":600,\"fMarkerStyle\":20,\"fMarkerSize\":1,\"fNcells\":36,\"fXaxis\":{\"_typename\":\"TAxis\",\"fUniqueID\":0,\"fBits\":50331648,\"fName\":\"xaxis\",\"fTitle\":\"mass\",\"fNdivisions\":510,\"fAxisColor\":1,\"fLabelColor\":1,\"fLabelFont\":42,\"fLabelOffset\":0.005,\"fLabelSize\":0.035,\"fTickLength\":0.03,\"fTitleOffset\":1,\"fTitleSize\":0.035,\"fTitleColor\":1,\"fTitleFont\":42,\"fNbins\":34,\"fXmin\":15,\"fXmax\":320,\"fXbins\":[15,20,25,30,35,40,45,50,55,60,64,68,72,76,81,86,91,96,101,106,110,115,120,126,133,141,150,160,171,185,200,220,243,273,320],\"fFirst\":0,\"fLast\":0,\"fBits2\":0,\"fTimeDisplay\":false,\"fTimeFormat\":\"\",\"fLabels\":null,\"fModLabs\":null},\"fYaxis\":{\"_typename\":\"TAxis\",\"fUniqueID\":0,\"fBits\":50331648,\"fName\":\"yaxis\",\"fTitle\":\"\",\"fNdivisions\":510,\"fAxisColor\":1,\"fLabelColor\":1,\"fLabelFont\":42,\"fLabelOffset\":0.005,\"fLabelSize\":0.035,\"fTickLength\":0.03,\"fTitleOffset\":0,\"fTitleSize\":0.035,\"fTitleColor\":1,\"fTitleFont\":42,\"fNbins\":1,\"fXmin\":0,\"fXmax\":1,\"fXbins\":[],\"fFirst\":0,\"fLast\":0,\"fBits2\":0,\"fTimeDisplay\":false,\"fTimeFormat\":\"\",\"fLabels\":null,\"fModLabs\":null},\"fZaxis\":{\"_typename\":\"TAxis\",\"fUniqueID\":0,\"fBits\":50331648,\"fName\":\"zaxis\",\"fTitle\":\"\",\"fNdivisions\":510,\"fAxisColor\":1,\"fLabelColor\":1,\"fLabelFont\":42,\"fLabelOffset\":0.005,\"fLabelSize\":0.035,\"fTickLength\":0.03,\"fTitleOffset\":1,\"fTitleSize\":0.035,\"fTitleColor\":1,\"fTitleFont\":42,\"fNbins\":1,\"fXmin\":0,\"fXmax\":1,\"fXbins\":[],\"fFirst\":0,\"fLast\":0,\"fBits2\":0,\"fTimeDisplay\":false,\"fTimeFormat\":\"\",\"fLabels\":null,\"fModLabs\":null},\"fBarOffset\":0,\"fBarWidth\":1000,\"fEntries\":70,\"fTsumw\":0,\"fTsumw2\":0,\"fTsumwx\":0,\"fTsumwx2\":0,\"fMaximum\":-1111,\"fMinimum\":-1111,\"fNormFactor\":0,\"fContour\":[],\"fSumw2\":[0,191983647187.608,38936732145.1023,16135296343.379,6218023268.18706,2269751493.18301,561706884.617401,173567250.475393,73113336.0606921,53162322.5585589,45245027.8289409,45772730.4637753,46826429.493232,51545630.862484,78956992.2444459,187007358.84093,849561160.719876,763584990.542555,63674759.4469599,23298122.441944,14229941.9826247,9966085.66870192,5602943.94251343,3731420.16483369,2628146.47839625,1597794.88248755,1298331.24836903,1123560.75801899,628083.003087802,524296.67871717,326962.221614265,383506.658737546,269273.625511649,230154.260341942,109217.019065043,0],\"fOption\":\"\",\"fFunctions\":{\"_typename\":\"TList\",\"name\":\"TList\",\"arr\":[],\"opt\":[]},\"fBufferSize\":0,\"fBuffer\":[],\"fBinStatErrOpt\":0,\"fStatOverflows\":2,\"fArray\":[0,44424678.86378,20102815.8218224,8902481.88531996,5443839.50582153,3219027.47444772,1988576.99127255,1434993.79385328,1047718.8773899,810834.503070449,547595.16026614,535777.603684906,538712.989056486,640955.012133909,1258808.43185889,2882359.07580459,27012904.5903726,31047467.6704128,2774057.09099226,914537.307359543,383884.730815279,298844.021169087,206426.85527269,164522.271724975,135903.179099294,109159.967346241,85836.4544367849,64161.1084657829,52391.8061646792,46252.1567496658,33226.6657310336,30265.1837904931,22098.4234519012,18271.6852494526,16375.3744100152,0]},{\"_typename\":\"TH1D\",\"fUniqueID\":0,\"fBits\":50331656,\"fName\":\"hMassUnfoldedData_\",\"fTitle\":\"hMassUnfoldedData_\",\"fLineColor\":616,\"fLineStyle\":1,\"fLineWidth\":1,\"fFillColor\":0,\"fFillStyle\":1001,\"fMarkerColor\":616,\"fMarkerStyle\":22,\"fMarkerSize\":0.5,\"fNcells\":36,\"fXaxis\":{\"_typename\":\"TAxis\",\"fUniqueID\":0,\"fBits\":50331648,\"fName\":\"xaxis\",\"fTitle\":\"mass\",\"fNdivisions\":510,\"fAxisColor\":1,\"fLabelColor\":1,\"fLabelFont\":42,\"fLabelOffset\":0.005,\"fLabelSize\":0.035,\"fTickLength\":0.03,\"fTitleOffset\":1,\"fTitleSize\":0.035,\"fTitleColor\":1,\"fTitleFont\":42,\"fNbins\":34,\"fXmin\":15,\"fXmax\":320,\"fXbins\":[15,20,25,30,35,40,45,50,55,60,64,68,72,76,81,86,91,96,101,106,110,115,120,126,133,141,150,160,171,185,200,220,243,273,320],\"fFirst\":0,\"fLast\":0,\"fBits2\":0,\"fTimeDisplay\":false,\"fTimeFormat\":\"\",\"fLabels\":null,\"fModLabs\":null},\"fYaxis\":{\"_typename\":\"TAxis\",\"fUniqueID\":0,\"fBits\":50331648,\"fName\":\"yaxis\",\"fTitle\":\"\",\"fNdivisions\":510,\"fAxisColor\":1,\"fLabelColor\":1,\"fLabelFont\":42,\"fLabelOffset\":0.005,\"fLabelSize\":0.035,\"fTickLength\":0.03,\"fTitleOffset\":0,\"fTitleSize\":0.035,\"fTitleColor\":1,\"fTitleFont\":42,\"fNbins\":1,\"fXmin\":0,\"fXmax\":1,\"fXbins\":[],\"fFirst\":0,\"fLast\":0,\"fBits2\":0,\"fTimeDisplay\":false,\"fTimeFormat\":\"\",\"fLabels\":null,\"fModLabs\":null},\"fZaxis\":{\"_typename\":\"TAxis\",\"fUniqueID\":0,\"fBits\":50331648,\"fName\":\"zaxis\",\"fTitle\":\"\",\"fNdivisions\":510,\"fAxisColor\":1,\"fLabelColor\":1,\"fLabelFont\":42,\"fLabelOffset\":0.005,\"fLabelSize\":0.035,\"fTickLength\":0.03,\"fTitleOffset\":1,\"fTitleSize\":0.035,\"fTitleColor\":1,\"fTitleFont\":42,\"fNbins\":1,\"fXmin\":0,\"fXmax\":1,\"fXbins\":[],\"fFirst\":0,\"fLast\":0,\"fBits2\":0,\"fTimeDisplay\":false,\"fTimeFormat\":\"\",\"fLabels\":null,\"fModLabs\":null},\"fBarOffset\":0,\"fBarWidth\":1000,\"fEntries\":70,\"fTsumw\":0,\"fTsumw2\":0,\"fTsumwx\":0,\"fTsumwx2\":0,\"fMaximum\":-1111,\"fMinimum\":-1111,\"fNormFactor\":0,\"fContour\":[],\"fSumw2\":[0,178514043002.629,35657476476.991,15156977902.748,5856701751.61381,1906320193.28488,464762904.736568,147433110.270019,66900348.1490231,46166283.0205602,37646752.9228896,36684918.3305193,36586944.4750264,40311137.3443186,63213073.5545332,160265209.221048,884252579.706565,762954718.14586,63499018.1902971,23706365.4381921,14287733.8662565,9900098.25306613,5572372.07642139,3672651.88880793,2581766.15388123,1598551.95915525,1307323.20583027,1105839.35865877,605166.134388623,512605.845443226,320605.568639813,374184.258677188,260095.208811996,223768.951577557,107339.732961979,0],\"fOption\":\"\",\"fFunctions\":{\"_typename\":\"TList\",\"name\":\"TList\",\"arr\":[],\"opt\":[]},\"fBufferSize\":0,\"fBuffer\":[],\"fBinStatErrOpt\":0,\"fStatOverflows\":2,\"fArray\":[0,42859477.3976063,19134952.7393738,8650125.61486686,5272681.23008361,2988486.05223328,1815837.61521804,1308169.15673943,1008546.89031009,791615.16435382,536667.612793846,524071.183966816,528891.770325328,625455.718529879,1233538.83257386,2826592.39077621,26855242.7749392,30847897.6301359,2736312.80776863,908825.073026035,381630.931340459,296870.718323973,205599.686413773,163333.784697344,135261.59849827,108766.936890876,85503.7200668841,64083.0021079273,52224.6496313013,46207.5959946966,33211.7904949065,30193.2909300699,22017.2350177268,18201.9384584046,16272.638600382,0]},{\"_typename\":\"TH1D\",\"fUniqueID\":0,\"fBits\":50331656,\"fName\":\"hMassData\",\"fTitle\":\"hMassData\",\"fLineColor\":1,\"fLineStyle\":1,\"fLineWidth\":1,\"fFillColor\":0,\"fFillStyle\":1001,\"fMarkerColor\":1,\"fMarkerStyle\":20,\"fMarkerSize\":1,\"fNcells\":36,\"fXaxis\":{\"_typename\":\"TAxis\",\"fUniqueID\":0,\"fBits\":50331648,\"fName\":\"xaxis\",\"fTitle\":\"mass\",\"fNdivisions\":510,\"fAxisColor\":1,\"fLabelColor\":1,\"fLabelFont\":42,\"fLabelOffset\":0.005,\"fLabelSize\":0.035,\"fTickLength\":0.03,\"fTitleOffset\":1,\"fTitleSize\":0.035,\"fTitleColor\":1,\"fTitleFont\":42,\"fNbins\":34,\"fXmin\":15,\"fXmax\":320,\"fXbins\":[15,20,25,30,35,40,45,50,55,60,64,68,72,76,81,86,91,96,101,106,110,115,120,126,133,141,150,160,171,185,200,220,243,273,320],\"fFirst\":0,\"fLast\":0,\"fBits2\":0,\"fTimeDisplay\":false,\"fTimeFormat\":\"\",\"fLabels\":null,\"fModLabs\":null},\"fYaxis\":{\"_typename\":\"TAxis\",\"fUniqueID\":0,\"fBits\":50331648,\"fName\":\"yaxis\",\"fTitle\":\"\",\"fNdivisions\":510,\"fAxisColor\":1,\"fLabelColor\":1,\"fLabelFont\":42,\"fLabelOffset\":0.005,\"fLabelSize\":0.035,\"fTickLength\":0.03,\"fTitleOffset\":0,\"fTitleSize\":0.035,\"fTitleColor\":1,\"fTitleFont\":42,\"fNbins\":1,\"fXmin\":0,\"fXmax\":1,\"fXbins\":[],\"fFirst\":0,\"fLast\":0,\"fBits2\":0,\"fTimeDisplay\":false,\"fTimeFormat\":\"\",\"fLabels\":null,\"fModLabs\":null},\"fZaxis\":{\"_typename\":\"TAxis\",\"fUniqueID\":0,\"fBits\":50331648,\"fName\":\"zaxis\",\"fTitle\":\"\",\"fNdivisions\":510,\"fAxisColor\":1,\"fLabelColor\":1,\"fLabelFont\":42,\"fLabelOffset\":0.005,\"fLabelSize\":0.035,\"fTickLength\":0.03,\"fTitleOffset\":1,\"fTitleSize\":0.035,\"fTitleColor\":1,\"fTitleFont\":42,\"fNbins\":1,\"fXmin\":0,\"fXmax\":1,\"fXbins\":[],\"fFirst\":0,\"fLast\":0,\"fBits2\":0,\"fTimeDisplay\":false,\"fTimeFormat\":\"\",\"fLabels\":null,\"fModLabs\":null},\"fBarOffset\":0,\"fBarWidth\":1000,\"fEntries\":70,\"fTsumw\":0,\"fTsumw2\":0,\"fTsumwx\":0,\"fTsumwx2\":0,\"fMaximum\":-1111,\"fMinimum\":-1111,\"fNormFactor\":0,\"fContour\":[],\"fSumw2\":[0,53255.1585227571,33030.923537741,40284.1315027514,36896.3035797407,47191.8304066624,82406.7725553723,127412.829354161,154767.186491713,162078.90060045,128123.727507512,137463.999131732,154834.437559615,196908.289921192,423797.770028361,1385358.9602304,5802120.71563143,3974719.88546236,550781.166421693,181667.640755429,82500.4207750541,78783.5998262621,49805.0440831148,47178.8148317971,41422.5901622812,30313.8760610459,29634.8643274555,30072.709381587,18610.931756641,19464.0919896573,13990.8415211522,18816.4658556373,14708.4027396445,15522.9510388719,9167.81358269155,0],\"fOption\":\"\",\"fFunctions\":{\"_typename\":\"TList\",\"name\":\"TList\",\"arr\":[],\"opt\":[]},\"fBufferSize\":0,\"fBuffer\":[],\"fBinStatErrOpt\":0,\"fStatOverflows\":2,\"fArray\":[0,26725.2673114766,20983.9687178025,17688.5958151723,17093.2365033502,19957.218941582,36329.0271142762,62175.4994141499,84447.3925739274,92349.3230631696,82034.8598271967,94997.3813092438,118926.870338848,168219.303718351,396466.506829801,1363055.2725389,5767663.54172416,3954704.65347794,533578.994478842,170113.788833807,73795.9526931859,59932.3146331105,40764.6511006613,35144.3581976103,29512.460010085,24389.4789271485,19987.3725968791,16005.7504216908,13169.0496197625,12170.411179215,9225.86399220582,8582.72069563168,6404.57397999723,5584.42115140712,4963.87780907519,0]},{\"_typename\":\"TLegend\",\"fUniqueID\":0,\"fBits\":50331656,\"fLineColor\":1,\"fLineStyle\":1,\"fLineWidth\":1,\"fFillColor\":0,\"fFillStyle\":1001,\"fX1\":2.17288530345498,\"fY1\":6.52422753565821,\"fX2\":2.50514998822217,\"fY2\":8.6989700691484,\"fX1NDC\":0.7,\"fY1NDC\":0.7,\"fX2NDC\":0.9,\"fY2NDC\":0.9,\"fBorderSize\":1,\"fInit\":1,\"fShadowColor\":1,\"fCornerRadius\":0,\"fOption\":\"brNDC\",\"fName\":\"TPave\",\"fTextAngle\":0,\"fTextSize\":0,\"fTextAlign\":12,\"fTextColor\":1,\"fTextFont\":42,\"fPrimitives\":{\"_typename\":\"TList\",\"name\":\"TList\",\"arr\":[{\"_typename\":\"TLegendEntry\",\"fUniqueID\":0,\"fBits\":50331656,\"fTextAngle\":0,\"fTextSize\":0,\"fTextAlign\":0,\"fTextColor\":0,\"fTextFont\":42,\"fLineColor\":1,\"fLineStyle\":1,\"fLineWidth\":1,\"fFillColor\":0,\"fFillStyle\":0,\"fMarkerColor\":1,\"fMarkerStyle\":20,\"fMarkerSize\":1,\"fObject\":{\"$ref\":22},\"fLabel\":\"Detector  data\",\"fOption\":\"ple\"},{\"_typename\":\"TLegendEntry\",\"fUniqueID\":0,\"fBits\":50331656,\"fTextAngle\":0,\"fTextSize\":0,\"fTextAlign\":0,\"fTextColor\":0,\"fTextFont\":42,\"fLineColor\":632,\"fLineStyle\":1,\"fLineWidth\":1,\"fFillColor\":0,\"fFillStyle\":0,\"fMarkerColor\":632,\"fMarkerStyle\":20,\"fMarkerSize\":1,\"fObject\":{\"$ref\":7},\"fLabel\":\"Det unfolded data\",\"fOption\":\"ple\"},{\"_typename\":\"TLegendEntry\",\"fUniqueID\":0,\"fBits\":50331656,\"fTextAngle\":0,\"fTextSize\":0,\"fTextAlign\":0,\"fTextColor\":0,\"fTextFont\":42,\"fLineColor\":600,\"fLineStyle\":1,\"fLineWidth\":1,\"fFillColor\":0,\"fFillStyle\":0,\"fMarkerColor\":600,\"fMarkerStyle\":20,\"fMarkerSize\":1,\"fObject\":{\"$ref\":12},\"fLabel\":\"Pre-FSR unfolded data\",\"fOption\":\"ple\"}],\"opt\":[\"ple\",\"ple\",\"ple\"]},\"fEntrySeparation\":0.1,\"fMargin\":0.25,\"fNColumns\":1,\"fColumnSeparation\":0},{\"_typename\":\"TPaveText\",\"fUniqueID\":0,\"fBits\":50331657,\"fLineColor\":1,\"fLineStyle\":1,\"fLineWidth\":1,\"fFillColor\":0,\"fFillStyle\":0,\"fX1\":1.54619410313025,\"fY1\":9.13391861878464,\"fX2\":2.13504713424533,\"fY2\":9.73197282440615,\"fX1NDC\":0.322775919888181,\"fY1NDC\":0.940000003948808,\"fX2NDC\":0.677224080111819,\"fY2NDC\":0.995000004768372,\"fBorderSize\":0,\"fInit\":1,\"fShadowColor\":1,\"fCornerRadius\":0,\"fOption\":\"blNDC\",\"fName\":\"title\",\"fTextAngle\":0,\"fTextSize\":0,\"fTextAlign\":22,\"fTextColor\":1,\"fTextFont\":42,\"fLabel\":\"\",\"fLongest\":17,\"fMargin\":0.05,\"fLines\":{\"_typename\":\"TList\",\"name\":\"TList\",\"arr\":[{\"_typename\":\"TLatex\",\"fUniqueID\":0,\"fBits\":50331648,\"fName\":\"\",\"fTitle\":\"hMassUnfoldedData\",\"fTextAngle\":0,\"fTextSize\":0,\"fTextAlign\":0,\"fTextColor\":0,\"fTextFont\":0,\"fX\":0,\"fY\":0,\"fLineColor\":1,\"fLineStyle\":1,\"fLineWidth\":2,\"fLimitFactorSize\":3,\"fOriginSize\":0.0467500016093254}],\"opt\":[\"\"]}}],\"opt\":[\"\",\"hist pe\",\"pe same\",\"pe same\",\"pe same\",\"\",\"blNDC\"]},\"fExecs\":{\"_typename\":\"TList\",\"name\":\"TList\",\"arr\":[],\"opt\":[]},\"fName\":\"pad_mass\",\"fTitle\":\"pad_mass\",\"fNumPaletteColor\":0,\"fNextPaletteColor\":0},{\"_typename\":\"TPad\",\"fUniqueID\":0,\"fBits\":50331657,\"fLineColor\":1,\"fLineStyle\":1,\"fLineWidth\":1,\"fFillColor\":0,\"fFillStyle\":1001,\"fLeftMargin\":0.1,\"fRightMargin\":0.1,\"fBottomMargin\":0.1,\"fTopMargin\":0.1,\"fXfile\":2,\"fYfile\":2,\"fAfile\":1,\"fXstat\":0.99,\"fYstat\":0.99,\"fAstat\":2,\"fFrameFillColor\":0,\"fFrameLineColor\":1,\"fFrameFillStyle\":1001,\"fFrameLineStyle\":1,\"fFrameLineWidth\":1,\"fFrameBorderSize\":1,\"fFrameBorderMode\":0,\"fX1\":1.00995890676983,\"fY1\":0.374999990686774,\"fX2\":2.67128233060576,\"fY2\":1.62500000931323,\"fXtoAbsPixelk\":-337.037142156473,\"fXtoPixelk\":-348.997141889146,\"fXtoPixel\":345.555833558962,\"fYtoAbsPixelk\":616.730448146146,\"fYtoPixelk\":218.618448095006,\"fYtoPixel\":-134.53439805665,\"fUtoAbsPixelk\":11.9600497326732,\"fUtoPixelk\":5e-5,\"fUtoPixel\":574.080000534654,\"fVtoAbsPixelk\":566.280050127852,\"fVtoPixelk\":168.168000076711,\"fVtoPixel\":-168.168000076711,\"fAbsPixeltoXk\":0.975348002912428,\"fPixeltoXk\":1.00995890676983,\"fPixeltoX\":0.0028938883470748,\"fAbsPixeltoYk\":4.58418372590817,\"fPixeltoYk\":0.374999990686774,\"fPixeltoY\":-0.0074330432546992,\"fXlowNDC\":0,\"fYlowNDC\":0,\"fXUpNDC\":0,\"fYUpNDC\":0,\"fWNDC\":1,\"fHNDC\":0.3,\"fAbsXlowNDC\":0.00999999977648258,\"fAbsYlowNDC\":0.00999999977648258,\"fAbsWNDC\":0.480000000447035,\"fAbsHNDC\":0.29400000013411,\"fUxmin\":1.17609125905568,\"fUymin\":0.5,\"fUxmax\":2.50514997831991,\"fUymax\":1.5,\"fTheta\":30,\"fPhi\":30,\"fAspectRatio\":0,\"fNumber\":0,\"fTickx\":0,\"fTicky\":0,\"fLogx\":1,\"fLogy\":0,\"fLogz\":0,\"fPadPaint\":0,\"fCrosshair\":0,\"fCrosshairPos\":0,\"fBorderSize\":2,\"fBorderMode\":0,\"fModified\":false,\"fGridx\":false,\"fGridy\":true,\"fAbsCoord\":false,\"fEditable\":true,\"fFixedAspectRatio\":false,\"fPrimitives\":{\"_typename\":\"TList\",\"name\":\"TList\",\"arr\":[{\"_typename\":\"TFrame\",\"fUniqueID\":0,\"fBits\":50331656,\"fLineColor\":1,\"fLineStyle\":1,\"fLineWidth\":1,\"fFillColor\":0,\"fFillStyle\":1001,\"fX1\":1.17609125905568,\"fY1\":0.5,\"fX2\":2.50514997831991,\"fY2\":1.5,\"fBorderSize\":1,\"fBorderMode\":0},{\"_typename\":\"TH1D\",\"fUniqueID\":0,\"fBits\":50332168,\"fName\":\"ratioMass_detector\",\"fTitle\":\"hMassData\",\"fLineColor\":1,\"fLineStyle\":1,\"fLineWidth\":1,\"fFillColor\":0,\"fFillStyle\":1001,\"fMarkerColor\":1,\"fMarkerStyle\":20,\"fMarkerSize\":1,\"fNcells\":36,\"fXaxis\":{\"_typename\":\"TAxis\",\"fUniqueID\":0,\"fBits\":50331648,\"fName\":\"xaxis\",\"fTitle\":\"mass\",\"fNdivisions\":510,\"fAxisColor\":1,\"fLabelColor\":1,\"fLabelFont\":42,\"fLabelOffset\":0.005,\"fLabelSize\":0.035,\"fTickLength\":0.03,\"fTitleOffset\":1,\"fTitleSize\":0.035,\"fTitleColor\":1,\"fTitleFont\":42,\"fNbins\":34,\"fXmin\":15,\"fXmax\":320,\"fXbins\":[15,20,25,30,35,40,45,50,55,60,64,68,72,76,81,86,91,96,101,106,110,115,120,126,133,141,150,160,171,185,200,220,243,273,320],\"fFirst\":0,\"fLast\":0,\"fBits2\":0,\"fTimeDisplay\":false,\"fTimeFormat\":\"\",\"fLabels\":null,\"fModLabs\":null},\"fYaxis\":{\"_typename\":\"TAxis\",\"fUniqueID\":0,\"fBits\":50331656,\"fName\":\"yaxis\",\"fTitle\":\"Data\\/ MC\",\"fNdivisions\":510,\"fAxisColor\":1,\"fLabelColor\":1,\"fLabelFont\":42,\"fLabelOffset\":0.005,\"fLabelSize\":0.035,\"fTickLength\":0.03,\"fTitleOffset\":0,\"fTitleSize\":0.035,\"fTitleColor\":1,\"fTitleFont\":42,\"fNbins\":1,\"fXmin\":0,\"fXmax\":1,\"fXbins\":[],\"fFirst\":0,\"fLast\":0,\"fBits2\":0,\"fTimeDisplay\":false,\"fTimeFormat\":\"\",\"fLabels\":null,\"fModLabs\":null},\"fZaxis\":{\"_typename\":\"TAxis\",\"fUniqueID\":0,\"fBits\":50331648,\"fName\":\"zaxis\",\"fTitle\":\"\",\"fNdivisions\":510,\"fAxisColor\":1,\"fLabelColor\":1,\"fLabelFont\":42,\"fLabelOffset\":0.005,\"fLabelSize\":0.035,\"fTickLength\":0.03,\"fTitleOffset\":1,\"fTitleSize\":0.035,\"fTitleColor\":1,\"fTitleFont\":42,\"fNbins\":1,\"fXmin\":0,\"fXmax\":1,\"fXbins\":[],\"fFirst\":0,\"fLast\":0,\"fBits2\":0,\"fTimeDisplay\":false,\"fTimeFormat\":\"\",\"fLabels\":null,\"fModLabs\":null},\"fBarOffset\":0,\"fBarWidth\":1000,\"fEntries\":6.17868290388025,\"fTsumw\":1513.94202272713,\"fTsumw2\":370956.154221756,\"fTsumwx\":397398.391125164,\"fTsumwx2\":106393617.772848,\"fMaximum\":1.5,\"fMinimum\":0.5,\"fNormFactor\":0,\"fContour\":[],\"fSumw2\":[0,0.00100306022030345,0.0014832509127655,0.0014420595044631,0.0017747319084303,0.0012103788283553,4.98424300712081e-4,2.57909742692954e-4,7.33209226879798e-5,5.8630577868599e-5,6.45833056684291e-5,5.63081126984513e-5,4.21234121964976e-5,2.99046019467475e-5,1.27137584323773e-5,3.41484698821322e-6,7.70269672367648e-7,1.06015473553142e-6,8.70543478601718e-6,2.89170515302335e-5,6.65269950620951e-5,8.69270436997346e-5,1.36144857612934e-4,1.5689318781835e-4,1.96309079172364e-4,2.47979094959432e-4,3.04319766378612e-4,3.84068963575896e-4,4.76875099616875e-4,5.72310441271456e-4,0.00105213773548697,3.80277845457387,36097.4697140299,134996.792522327,199858.077476185,0],\"fOption\":\"\",\"fFunctions\":{\"_typename\":\"TList\",\"name\":\"TList\",\"arr\":[],\"opt\":[]},\"fBufferSize\":0,\"fBuffer\":[],\"fBinStatErrOpt\":0,\"fStatOverflows\":2,\"fArray\":[0,0.982811474802631,1.03333145281668,0.967414995610301,1.03288325329367,0.982333083560463,0.952964451400406,0.989888618263448,0.997334163979869,0.996695253999532,1.00104919623086,1.00999759565309,0.998369837680259,1.00913912533768,1.01492381089069,0.990591069594456,0.972849745284145,0.950560393190933,0.981321264426434,0.998624661357954,0.994890196106831,1.00020140292617,1.02424846997486,1.01345690340533,1.02599813406756,1.04670360722551,1.03417230094438,1.01418386469378,1.04060331515973,1.06543867576433,1.20989640332791,20.1057317328334,386.029611447366,479.211671781327,598.262131044638,0]},{\"_typename\":\"TH1D\",\"fUniqueID\":0,\"fBits\":50332168,\"fName\":\"ratioMass_dressed\",\"fTitle\":\"hMassUnfoldedData\",\"fLineColor\":632,\"fLineStyle\":1,\"fLineWidth\":1,\"fFillColor\":0,\"fFillStyle\":1001,\"fMarkerColor\":632,\"fMarkerStyle\":20,\"fMarkerSize\":1,\"fNcells\":36,\"fXaxis\":{\"_typename\":\"TAxis\",\"fUniqueID\":0,\"fBits\":50331656,\"fName\":\"xaxis\",\"fTitle\":\"mass\",\"fNdivisions\":520,\"fAxisColor\":1,\"fLabelColor\":1,\"fLabelFont\":42,\"fLabelOffset\":0.005,\"fLabelSize\":0.035,\"fTickLength\":0.03,\"fTitleOffset\":1,\"fTitleSize\":0.035,\"fTitleColor\":1,\"fTitleFont\":42,\"fNbins\":34,\"fXmin\":15,\"fXmax\":320,\"fXbins\":[15,20,25,30,35,40,45,50,55,60,64,68,72,76,81,86,91,96,101,106,110,115,120,126,133,141,150,160,171,185,200,220,243,273,320],\"fFirst\":0,\"fLast\":0,\"fBits2\":0,\"fTimeDisplay\":false,\"fTimeFormat\":\"\",\"fLabels\":null,\"fModLabs\":null},\"fYaxis\":{\"_typename\":\"TAxis\",\"fUniqueID\":0,\"fBits\":50331656,\"fName\":\"yaxis\",\"fTitle\":\"Events\\/ bin\",\"fNdivisions\":10,\"fAxisColor\":1,\"fLabelColor\":1,\"fLabelFont\":42,\"fLabelOffset\":0.005,\"fLabelSize\":0.035,\"fTickLength\":0.03,\"fTitleOffset\":0,\"fTitleSize\":0.035,\"fTitleColor\":1,\"fTitleFont\":42,\"fNbins\":1,\"fXmin\":0,\"fXmax\":1,\"fXbins\":[],\"fFirst\":0,\"fLast\":0,\"fBits2\":0,\"fTimeDisplay\":false,\"fTimeFormat\":\"\",\"fLabels\":null,\"fModLabs\":null},\"fZaxis\":{\"_typename\":\"TAxis\",\"fUniqueID\":0,\"fBits\":50331648,\"fName\":\"zaxis\",\"fTitle\":\"\",\"fNdivisions\":510,\"fAxisColor\":1,\"fLabelColor\":1,\"fLabelFont\":42,\"fLabelOffset\":0.005,\"fLabelSize\":0.035,\"fTickLength\":0.03,\"fTitleOffset\":1,\"fTitleSize\":0.035,\"fTitleColor\":1,\"fTitleFont\":42,\"fNbins\":1,\"fXmin\":0,\"fXmax\":1,\"fXbins\":[],\"fFirst\":0,\"fLast\":0,\"fBits2\":0,\"fTimeDisplay\":false,\"fTimeFormat\":\"\",\"fLabels\":null,\"fModLabs\":null},\"fBarOffset\":0,\"fBarWidth\":1000,\"fEntries\":209457.938969099,\"fTsumw\":35.4501141823484,\"fTsumw2\":0.00599982317083213,\"fTsumwx\":3953.06166647665,\"fTsumwx2\":617739.260691968,\"fMaximum\":500000000,\"fMinimum\":1,\"fNormFactor\":0,\"fContour\":[],\"fSumw2\":[0,9.44775992730858e-5,1.08856756238182e-4,1.78889972408675e-4,2.1536433388482e-4,2.0804030085813e-4,1.2337881304678e-4,7.7994643420146e-5,5.17342152798552e-5,5.11421914203893e-5,7.80552303135673e-5,7.70577636861265e-5,6.31192570691342e-5,4.7597732335077e-5,2.22788194081117e-5,1.15267676935882e-5,1.02572380237934e-6,6.96013286022828e-7,8.2280985524579e-6,2.65554788237508e-5,8.87170854986542e-5,1.01162765741573e-4,1.30773419666336e-4,1.29029204115473e-4,1.36605097337525e-4,1.37212312761594e-4,1.74536413096611e-4,2.53006774374232e-4,2.24322830827234e-4,2.54052025717212e-4,2.92044288888474e-4,5.02403470529127e-4,6.48807382986228e-4,8.57952813850216e-4,6.23177574641365e-4,0],\"fOption\":\"\",\"fFunctions\":{\"_typename\":\"TList\",\"name\":\"TList\",\"arr\":[],\"opt\":[]},\"fBufferSize\":0,\"fBuffer\":[],\"fBinStatErrOpt\":0,\"fStatOverflows\":2,\"fArray\":[0,1.01008427938933,1.09190518578389,0.982372187914899,1.07763052450663,1.05860604726897,1.0266381292658,1.07759146256347,1.03270140335923,1.0176869442269,1.01033827208781,1.03695925504242,1.00984849002175,1.01514075663892,1.05075358227105,1.01604069505866,1.00156427683717,0.94211196926005,1.01663539761651,1.00592346554977,1.00063351724218,0.995169294380747,1.04282296115991,1.01314632398085,1.02632068317104,1.0543932230988,1.04189943532876,1.00584400396437,1.03696717860323,1.06044437402728,1.03743584104157,1.13510924433096,1.12938839522133,1.1492142241264,1.24079315800775,0]},{\"_typename\":\"TH1D\",\"fUniqueID\":0,\"fBits\":50331656,\"fName\":\"ratioMass_preFSR\",\"fTitle\":\"hMassUnfoldedData_\",\"fLineColor\":616,\"fLineStyle\":1,\"fLineWidth\":1,\"fFillColor\":0,\"fFillStyle\":1001,\"fMarkerColor\":616,\"fMarkerStyle\":22,\"fMarkerSize\":0.5,\"fNcells\":36,\"fXaxis\":{\"_typename\":\"TAxis\",\"fUniqueID\":0,\"fBits\":50331648,\"fName\":\"xaxis\",\"fTitle\":\"mass\",\"fNdivisions\":510,\"fAxisColor\":1,\"fLabelColor\":1,\"fLabelFont\":42,\"fLabelOffset\":0.005,\"fLabelSize\":0.035,\"fTickLength\":0.03,\"fTitleOffset\":1,\"fTitleSize\":0.035,\"fTitleColor\":1,\"fTitleFont\":42,\"fNbins\":34,\"fXmin\":15,\"fXmax\":320,\"fXbins\":[15,20,25,30,35,40,45,50,55,60,64,68,72,76,81,86,91,96,101,106,110,115,120,126,133,141,150,160,171,185,200,220,243,273,320],\"fFirst\":0,\"fLast\":0,\"fBits2\":0,\"fTimeDisplay\":false,\"fTimeFormat\":\"\",\"fLabels\":null,\"fModLabs\":null},\"fYaxis\":{\"_typename\":\"TAxis\",\"fUniqueID\":0,\"fBits\":50331648,\"fName\":\"yaxis\",\"fTitle\":\"\",\"fNdivisions\":510,\"fAxisColor\":1,\"fLabelColor\":1,\"fLabelFont\":42,\"fLabelOffset\":0.005,\"fLabelSize\":0.035,\"fTickLength\":0.03,\"fTitleOffset\":0,\"fTitleSize\":0.035,\"fTitleColor\":1,\"fTitleFont\":42,\"fNbins\":1,\"fXmin\":0,\"fXmax\":1,\"fXbins\":[],\"fFirst\":0,\"fLast\":0,\"fBits2\":0,\"fTimeDisplay\":false,\"fTimeFormat\":\"\",\"fLabels\":null,\"fModLabs\":null},\"fZaxis\":{\"_typename\":\"TAxis\",\"fUniqueID\":0,\"fBits\":50331648,\"fName\":\"zaxis\",\"fTitle\":\"\",\"fNdivisions\":510,\"fAxisColor\":1,\"fLabelColor\":1,\"fLabelFont\":42,\"fLabelOffset\":0.005,\"fLabelSize\":0.035,\"fTickLength\":0.03,\"fTitleOffset\":1,\"fTitleSize\":0.035,\"fTitleColor\":1,\"fTitleFont\":42,\"fNbins\":1,\"fXmin\":0,\"fXmax\":1,\"fXbins\":[],\"fFirst\":0,\"fLast\":0,\"fBits2\":0,\"fTimeDisplay\":false,\"fTimeFormat\":\"\",\"fLabels\":null,\"fModLabs\":null},\"fBarOffset\":0,\"fBarWidth\":1000,\"fEntries\":185331.119373068,\"fTsumw\":34.9331905444821,\"fTsumw2\":0.00658458118499029,\"fTsumwx\":3928.66581189369,\"fTsumwx2\":616575.059198305,\"fMaximum\":-1111,\"fMinimum\":-1111,\"fNormFactor\":0,\"fContour\":[],\"fSumw2\":[0,9.21871975640375e-5,1.0576415202406e-4,1.83980316505004e-4,2.31614375157473e-4,2.08268927011248e-4,1.24159823800102e-4,8.46553298708541e-5,6.58622383423941e-5,7.38989494506795e-5,1.30240167276313e-4,1.4436212876791e-4,1.32290923505805e-4,1.04567868029066e-4,4.7714986720479e-5,2.05486697343277e-5,1.22541356041565e-6,7.02004953498715e-7,8.53161212743118e-6,2.86829685698105e-5,9.70299319343264e-5,1.0939101829738e-4,1.42496763609459e-4,1.39038479895203e-4,1.46955583567299e-4,1.49316021483624e-4,1.92997784556456e-4,2.70797069898525e-4,2.36399320438072e-4,2.69385896528075e-4,3.10084109643574e-4,5.26886789850159e-4,6.77352532236195e-4,8.87425507091229e-4,6.39766322989807e-4,0],\"fOption\":\"\",\"fFunctions\":{\"_typename\":\"TList\",\"name\":\"TList\",\"arr\":[],\"opt\":[]},\"fBufferSize\":0,\"fBuffer\":[],\"fBinStatErrOpt\":0,\"fStatOverflows\":2,\"fArray\":[0,0.973970907352519,1.04212865479199,0.953019498609542,1.04854655329463,0.987792100862701,0.938537918249188,0.991273610793498,1.00069135711011,1.00154572712041,0.998192029569951,1.03961644616964,1.00570072408724,1.00735644322986,1.07170874859203,1.01212794069697,0.999728921221486,0.935720787779051,1.00299274010514,0.999677370329667,0.994522823987741,0.986821137679661,1.0396924605875,1.00497127386723,1.02049083779156,1.05120332116727,1.03889028966338,1.00281035050512,1.03219401996752,1.05927573683544,1.03287202435507,1.13299071292442,1.12357995198803,1.1462614366913,1.25628568650526,0]},{\"_typename\":\"TH1D\",\"fUniqueID\":0,\"fBits\":50331656,\"fName\":\"ratioMassMC_preFSR\",\"fTitle\":\"hMassUnfoldedMC_closure\",\"fLineColor\":616,\"fLineStyle\":1,\"fLineWidth\":1,\"fFillColor\":0,\"fFillStyle\":1001,\"fMarkerColor\":1,\"fMarkerStyle\":25,\"fMarkerSize\":1,\"fNcells\":36,\"fXaxis\":{\"_typename\":\"TAxis\",\"fUniqueID\":0,\"fBits\":50331648,\"fName\":\"xaxis\",\"fTitle\":\"mass\",\"fNdivisions\":510,\"fAxisColor\":1,\"fLabelColor\":1,\"fLabelFont\":42,\"fLabelOffset\":0.005,\"fLabelSize\":0.035,\"fTickLength\":0.03,\"fTitleOffset\":1,\"fTitleSize\":0.035,\"fTitleColor\":1,\"fTitleFont\":42,\"fNbins\":34,\"fXmin\":15,\"fXmax\":320,\"fXbins\":[15,20,25,30,35,40,45,50,55,60,64,68,72,76,81,86,91,96,101,106,110,115,120,126,133,141,150,160,171,185,200,220,243,273,320],\"fFirst\":0,\"fLast\":0,\"fBits2\":0,\"fTimeDisplay\":false,\"fTimeFormat\":\"\",\"fLabels\":null,\"fModLabs\":null},\"fYaxis\":{\"_typename\":\"TAxis\",\"fUniqueID\":0,\"fBits\":50331648,\"fName\":\"yaxis\",\"fTitle\":\"\",\"fNdivisions\":510,\"fAxisColor\":1,\"fLabelColor\":1,\"fLabelFont\":42,\"fLabelOffset\":0.005,\"fLabelSize\":0.035,\"fTickLength\":0.03,\"fTitleOffset\":0,\"fTitleSize\":0.035,\"fTitleColor\":1,\"fTitleFont\":42,\"fNbins\":1,\"fXmin\":0,\"fXmax\":1,\"fXbins\":[],\"fFirst\":0,\"fLast\":0,\"fBits2\":0,\"fTimeDisplay\":false,\"fTimeFormat\":\"\",\"fLabels\":null,\"fModLabs\":null},\"fZaxis\":{\"_typename\":\"TAxis\",\"fUniqueID\":0,\"fBits\":50331648,\"fName\":\"zaxis\",\"fTitle\":\"\",\"fNdivisions\":510,\"fAxisColor\":1,\"fLabelColor\":1,\"fLabelFont\":42,\"fLabelOffset\":0.005,\"fLabelSize\":0.035,\"fTickLength\":0.03,\"fTitleOffset\":1,\"fTitleSize\":0.035,\"fTitleColor\":1,\"fTitleFont\":42,\"fNbins\":1,\"fXmin\":0,\"fXmax\":1,\"fXbins\":[],\"fFirst\":0,\"fLast\":0,\"fBits2\":0,\"fTimeDisplay\":false,\"fTimeFormat\":\"\",\"fLabels\":null,\"fModLabs\":null},\"fBarOffset\":0,\"fBarWidth\":1000,\"fEntries\":52977.7764581469,\"fTsumw\":30.5773327838962,\"fTsumw2\":0.0176484054765072,\"fTsumwx\":2745.16013412354,\"fTsumwx2\":314060.274912384,\"fMaximum\":-1111,\"fMinimum\":-1111,\"fNormFactor\":0,\"fContour\":[],\"fSumw2\":[0,0.00126618631551709,0.00178270542509202,0.00209775063128018,0.00245149152002645,0.00206173926128579,0.00105054980190346,5.36093871339419e-4,1.25007683173076e-4,1.10154258335141e-4,1.88528539157942e-4,2.02487014977544e-4,1.8490957479384e-4,1.53530729629652e-4,7.88649785472024e-5,4.34349409910685e-5,4.00725743238183e-6,2.77360836237063e-6,3.12599173421974e-5,9.54664100765177e-5,3.00312199819433e-4,3.0438931868618e-4,4.09949575473887e-4,3.76072344324814e-4,3.83048402749495e-4,4.24385465513006e-4,4.56683749974239e-4,5.45663748657178e-4,6.37558484869146e-4,6.33573154981684e-4,6.53117101263132e-4,4.66820473095415e-5,3.04860860297381e-6,4.36797667334642e-6,2.61155834580227e-6,0],\"fOption\":\"\",\"fFunctions\":{\"_typename\":\"TList\",\"name\":\"TList\",\"arr\":[],\"opt\":[]},\"fBufferSize\":0,\"fBuffer\":[],\"fBinStatErrOpt\":0,\"fStatOverflows\":2,\"fArray\":[0,1.03663942461821,1.04998252459459,1.02887906014132,1.03288635135978,1.07261651937554,1.09010511777662,1.08897998964065,1.03465777350467,1.02063231464071,1.01565001034743,1.01375363432804,1.01422218852225,1.01678512929737,1.009100282172,1.01460311081025,1.00540738886361,1.00635213600441,1.01333955736531,1.0062139698028,1.0061005378466,1.00630199226193,1.00379638868148,1.00708226476016,1.00473815701271,1.00174408386642,1.00293806233918,1.00057564663153,0.999398017810699,0.997405881716589,0.975406945522617,-0.00251644730932737,0.00157950147694858,3.70417865003911e-4,0.0016048502481256,0]},{\"_typename\":\"TH1D\",\"fUniqueID\":0,\"fBits\":50331656,\"fName\":\"ratioMass_preFSR_twoStep\",\"fTitle\":\"hMassFSRUnfoldedData\",\"fLineColor\":600,\"fLineStyle\":1,\"fLineWidth\":1,\"fFillColor\":0,\"fFillStyle\":1001,\"fMarkerColor\":600,\"fMarkerStyle\":20,\"fMarkerSize\":1,\"fNcells\":36,\"fXaxis\":{\"_typename\":\"TAxis\",\"fUniqueID\":0,\"fBits\":50331648,\"fName\":\"xaxis\",\"fTitle\":\"mass\",\"fNdivisions\":510,\"fAxisColor\":1,\"fLabelColor\":1,\"fLabelFont\":42,\"fLabelOffset\":0.005,\"fLabelSize\":0.035,\"fTickLength\":0.03,\"fTitleOffset\":1,\"fTitleSize\":0.035,\"fTitleColor\":1,\"fTitleFont\":42,\"fNbins\":34,\"fXmin\":15,\"fXmax\":320,\"fXbins\":[15,20,25,30,35,40,45,50,55,60,64,68,72,76,81,86,91,96,101,106,110,115,120,126,133,141,150,160,171,185,200,220,243,273,320],\"fFirst\":0,\"fLast\":0,\"fBits2\":0,\"fTimeDisplay\":false,\"fTimeFormat\":\"\",\"fLabels\":null,\"fModLabs\":null},\"fYaxis\":{\"_typename\":\"TAxis\",\"fUniqueID\":0,\"fBits\":50331648,\"fName\":\"yaxis\",\"fTitle\":\"\",\"fNdivisions\":510,\"fAxisColor\":1,\"fLabelColor\":1,\"fLabelFont\":42,\"fLabelOffset\":0.005,\"fLabelSize\":0.035,\"fTickLength\":0.03,\"fTitleOffset\":0,\"fTitleSize\":0.035,\"fTitleColor\":1,\"fTitleFont\":42,\"fNbins\":1,\"fXmin\":0,\"fXmax\":1,\"fXbins\":[],\"fFirst\":0,\"fLast\":0,\"fBits2\":0,\"fTimeDisplay\":false,\"fTimeFormat\":\"\",\"fLabels\":null,\"fModLabs\":null},\"fZaxis\":{\"_typename\":\"TAxis\",\"fUniqueID\":0,\"fBits\":50331648,\"fName\":\"zaxis\",\"fTitle\":\"\",\"fNdivisions\":510,\"fAxisColor\":1,\"fLabelColor\":1,\"fLabelFont\":42,\"fLabelOffset\":0.005,\"fLabelSize\":0.035,\"fTickLength\":0.03,\"fTitleOffset\":1,\"fTitleSize\":0.035,\"fTitleColor\":1,\"fTitleFont\":42,\"fNbins\":1,\"fXmin\":0,\"fXmax\":1,\"fXbins\":[],\"fFirst\":0,\"fLast\":0,\"fBits2\":0,\"fTimeDisplay\":false,\"fTimeFormat\":\"\",\"fLabels\":null,\"fModLabs\":null},\"fBarOffset\":0,\"fBarWidth\":1000,\"fEntries\":182093.50334149,\"fTsumw\":35.6310158299661,\"fTsumw2\":0.00697207349948341,\"fTsumwx\":3969.95370105633,\"fTsumwx2\":620382.813387213,\"fMaximum\":-1111,\"fMinimum\":-1111,\"fNormFactor\":0,\"fContour\":[],\"fSumw2\":[0,9.91431057035993e-5,1.15490834019498e-4,1.95855463219926e-4,2.45903519601103e-4,2.4797445346935e-4,1.50058077162873e-4,9.96614180957118e-5,7.19788177321605e-5,8.50975978656502e-5,1.5652664666545e-4,1.80124397435917e-4,1.69314811363044e-4,1.33710360972055e-4,5.95989345966877e-5,2.39774588221024e-5,1.17733755110836e-6,7.02584875656945e-7,8.55522440175632e-6,2.81890243985347e-5,9.66374594409601e-5,1.10120145464275e-4,1.4327854772507e-4,1.41263316882772e-4,1.49595577760769e-4,1.49245305186083e-4,1.91670317973514e-4,2.75136672195796e-4,2.45351460816065e-4,2.75529692254669e-4,3.16232153441622e-4,5.40013609933043e-4,7.01255409270431e-4,9.12748438750053e-4,6.50955324436103e-4,0],\"fOption\":\"\",\"fFunctions\":{\"_typename\":\"TList\",\"name\":\"TList\",\"arr\":[],\"opt\":[]},\"fBufferSize\":0,\"fBuffer\":[],\"fBinStatErrOpt\":0,\"fStatOverflows\":2,\"fArray\":[0,1.00953978270206,1.09484062218129,0.980822614661964,1.0825837750157,1.06399355932856,1.02782038108791,1.08737579706027,1.03955823507899,1.02586189416278,1.01851706974296,1.06283883815956,1.02437601333078,1.03231954263874,1.0936631856247,1.03209651496409,1.0055981318646,0.941774420269825,1.01682786960749,1.00596063821767,1.00039618181684,0.993380548353775,1.04387535230903,1.01228387808041,1.02533128868316,1.05500185527892,1.04293309044043,1.00403260697753,1.03549778505487,1.06029725993219,1.03333463763254,1.13568846267862,1.12772314693953,1.1506537192547,1.26421713083356,0]},{\"_typename\":\"TLine\",\"fUniqueID\":0,\"fBits\":50331656,\"fLineColor\":632,\"fLineStyle\":1,\"fLineWidth\":1,\"fX1\":15,\"fY1\":1,\"fX2\":1000,\"fY2\":1},{\"_typename\":\"TPaveText\",\"fUniqueID\":0,\"fBits\":50331657,\"fLineColor\":1,\"fLineStyle\":1,\"fLineWidth\":1,\"fFillColor\":0,\"fFillStyle\":0,\"fX1\":1.75455406411964,\"fY1\":1.54739279993545,\"fX2\":1.92668717325595,\"fY2\":1.61875001518056,\"fX1NDC\":0.448193979972045,\"fY1NDC\":0.937914233422926,\"fX2NDC\":0.551806020027955,\"fY2NDC\":0.995000004768372,\"fBorderSize\":0,\"fInit\":1,\"fShadowColor\":1,\"fCornerRadius\":0,\"fOption\":\"blNDC\",\"fName\":\"title\",\"fTextAngle\":0,\"fTextSize\":0,\"fTextAlign\":22,\"fTextColor\":1,\"fTextFont\":42,\"fLabel\":\"\",\"fLongest\":9,\"fMargin\":0.05,\"fLines\":{\"_typename\":\"TList\",\"name\":\"TList\",\"arr\":[{\"_typename\":\"TLatex\",\"fUniqueID\":0,\"fBits\":50331648,\"fName\":\"\",\"fTitle\":\"hMassData\",\"fTextAngle\":0,\"fTextSize\":0,\"fTextAlign\":0,\"fTextColor\":0,\"fTextFont\":0,\"fX\":0,\"fY\":0,\"fLineColor\":1,\"fLineStyle\":1,\"fLineWidth\":2,\"fLimitFactorSize\":3,\"fOriginSize\":0.0485229045152664}],\"opt\":[\"\"]}}],\"opt\":[\"\",\"pe\",\"pe same\",\"pe same\",\"pe same\",\"pe same\",\"same\",\"blNDC\"]},\"fExecs\":{\"_typename\":\"TList\",\"name\":\"TList\",\"arr\":[],\"opt\":[]},\"fName\":\"ratio_mass\",\"fTitle\":\"raio_mass\",\"fNumPaletteColor\":0,\"fNextPaletteColor\":0}],\"opt\":[\"\",\"\"]},\"fExecs\":{\"_typename\":\"TList\",\"name\":\"TList\",\"arr\":[],\"opt\":[]},\"fName\":\"c_1\",\"fTitle\":\"c_1\",\"fNumPaletteColor\":0,\"fNextPaletteColor\":0},{\"_typename\":\"TPad\",\"fUniqueID\":0,\"fBits\":50331657,\"fLineColor\":1,\"fLineStyle\":1,\"fLineWidth\":1,\"fFillColor\":0,\"fFillStyle\":1001,\"fLeftMargin\":0.1,\"fRightMargin\":0.1,\"fBottomMargin\":0.1,\"fTopMargin\":0.1,\"fXfile\":2,\"fYfile\":2,\"fAfile\":1,\"fXstat\":0.99,\"fYstat\":0.99,\"fAstat\":2,\"fFrameFillColor\":0,\"fFrameLineColor\":1,\"fFrameFillStyle\":1001,\"fFrameLineStyle\":1,\"fFrameLineWidth\":1,\"fFrameBorderSize\":1,\"fFrameBorderMode\":0,\"fX1\":0,\"fY1\":0,\"fX2\":1,\"fY2\":1,\"fXtoAbsPixelk\":609.960049732673,\"fXtoPixelk\":5e-5,\"fXtoPixel\":574.080000534654,\"fYtoAbsPixelk\":566.280050127852,\"fYtoPixelk\":560.560050255704,\"fYtoPixel\":-560.560000255704,\"fUtoAbsPixelk\":609.960049732673,\"fUtoPixelk\":5e-5,\"fUtoPixel\":574.080000534654,\"fVtoAbsPixelk\":566.280050127852,\"fVtoPixelk\":560.560000255704,\"fVtoPixel\":-560.560000255704,\"fAbsPixeltoXk\":-1.06249999854481,\"fPixeltoXk\":0,\"fPixeltoX\":0.00174191750116478,\"fAbsPixeltoYk\":1.01020408139992,\"fPixeltoYk\":0,\"fPixeltoY\":-0.00178393035454517,\"fXlowNDC\":0.509999999776483,\"fYlowNDC\":0.00999999977648258,\"fXUpNDC\":0,\"fYUpNDC\":0,\"fWNDC\":0.480000000447035,\"fHNDC\":0.980000000447035,\"fAbsXlowNDC\":0.509999999776483,\"fAbsYlowNDC\":0.00999999977648258,\"fAbsWNDC\":0.480000000447035,\"fAbsHNDC\":0.980000000447035,\"fUxmin\":0,\"fUymin\":0,\"fUxmax\":1,\"fUymax\":1,\"fTheta\":30,\"fPhi\":30,\"fAspectRatio\":0,\"fNumber\":2,\"fTickx\":0,\"fTicky\":0,\"fLogx\":0,\"fLogy\":0,\"fLogz\":0,\"fPadPaint\":0,\"fCrosshair\":0,\"fCrosshairPos\":0,\"fBorderSize\":2,\"fBorderMode\":0,\"fModified\":false,\"fGridx\":false,\"fGridy\":false,\"fAbsCoord\":false,\"fEditable\":true,\"fFixedAspectRatio\":false,\"fPrimitives\":{\"_typename\":\"TList\",\"name\":\"TList\",\"arr\":[{\"_typename\":\"TPad\",\"fUniqueID\":0,\"fBits\":50331657,\"fLineColor\":1,\"fLineStyle\":1,\"fLineWidth\":1,\"fFillColor\":0,\"fFillStyle\":1001,\"fLeftMargin\":0.1,\"fRightMargin\":0.1,\"fBottomMargin\":0.1,\"fTopMargin\":0.1,\"fXfile\":2,\"fYfile\":2,\"fAfile\":1,\"fXstat\":0.99,\"fYstat\":0.99,\"fAstat\":2,\"fFrameFillColor\":0,\"fFrameLineColor\":1,\"fFrameFillStyle\":1001,\"fFrameLineStyle\":1,\"fFrameLineWidth\":1,\"fFrameBorderSize\":1,\"fFrameBorderMode\":0,\"fX1\":-5.12500041909518,\"fY1\":-1.08737133155748,\"fX2\":51.1250004190952,\"fY2\":9.7863413358935,\"fXtoAbsPixelk\":662.265119945876,\"fXtoPixelk\":52.3051202132028,\"fXtoPixel\":10.2058665240923,\"fYtoAbsPixelk\":358.872847694403,\"fYtoPixelk\":353.152847822255,\"fYtoPixel\":-36.0862947347842,\"fUtoAbsPixelk\":609.960049732673,\"fUtoPixelk\":5e-5,\"fUtoPixel\":574.080000534654,\"fVtoAbsPixelk\":398.112050051141,\"fVtoPixelk\":392.392000178993,\"fVtoPixel\":-392.392000178993,\"fAbsPixeltoXk\":-64.8906262278179,\"fPixeltoXk\":-5.12500041909518,\"fPixeltoX\":0.0979828609005774,\"fAbsPixeltoYk\":9.94485026329065,\"fPixeltoYk\":-1.08737133155748,\"fPixeltoY\":-0.0277113515629545,\"fXlowNDC\":0,\"fYlowNDC\":0.3,\"fXUpNDC\":0,\"fYUpNDC\":0,\"fWNDC\":1,\"fHNDC\":0.7,\"fAbsXlowNDC\":0.509999999776483,\"fAbsYlowNDC\":0.303999999910593,\"fAbsWNDC\":0.480000000447035,\"fAbsHNDC\":0.686000000312924,\"fUxmin\":0.5,\"fUymin\":0,\"fUxmax\":45.5,\"fUymax\":8.69897000433602,\"fTheta\":30,\"fPhi\":30,\"fAspectRatio\":0,\"fNumber\":0,\"fTickx\":0,\"fTicky\":0,\"fLogx\":0,\"fLogy\":1,\"fLogz\":0,\"fPadPaint\":0,\"fCrosshair\":0,\"fCrosshairPos\":0,\"fBorderSize\":2,\"fBorderMode\":0,\"fModified\":false,\"fGridx\":false,\"fGridy\":true,\"fAbsCoord\":false,\"fEditable\":true,\"fFixedAspectRatio\":false,\"fPrimitives\":{\"_typename\":\"TList\",\"name\":\"TList\",\"arr\":[{\"_typename\":\"TFrame\",\"fUniqueID\":0,\"fBits\":50331656,\"fLineColor\":1,\"fLineStyle\":1,\"fLineWidth\":1,\"fFillColor\":0,\"fFillStyle\":1001,\"fX1\":0.5,\"fY1\":0,\"fX2\":45.5,\"fY2\":8.69897000433602,\"fBorderSize\":1,\"fBorderMode\":0},{\"_typename\":\"TH1D\",\"fUniqueID\":0,\"fBits\":50332168,\"fName\":\"hPtUnfoldedData\",\"fTitle\":\"Dilepton p_{T}\",\"fLineColor\":632,\"fLineStyle\":1,\"fLineWidth\":1,\"fFillColor\":0,\"fFillStyle\":1001,\"fMarkerColor\":632,\"fMarkerStyle\":20,\"fMarkerSize\":1,\"fNcells\":47,\"fXaxis\":{\"_typename\":\"TAxis\",\"fUniqueID\":0,\"fBits\":50331656,\"fName\":\"xaxis\",\"fTitle\":\"Gen_Pt\",\"fNdivisions\":520,\"fAxisColor\":1,\"fLabelColor\":1,\"fLabelFont\":42,\"fLabelOffset\":0.005,\"fLabelSize\":0.035,\"fTickLength\":0.03,\"fTitleOffset\":1,\"fTitleSize\":0.035,\"fTitleColor\":1,\"fTitleFont\":42,\"fNbins\":45,\"fXmin\":0.5,\"fXmax\":45.5,\"fXbins\":[],\"fFirst\":0,\"fLast\":0,\"fBits2\":0,\"fTimeDisplay\":false,\"fTimeFormat\":\"\",\"fLabels\":null,\"fModLabs\":null},\"fYaxis\":{\"_typename\":\"TAxis\",\"fUniqueID\":0,\"fBits\":50331656,\"fName\":\"yaxis\",\"fTitle\":\"Events\\/ bin\",\"fNdivisions\":10,\"fAxisColor\":1,\"fLabelColor\":1,\"fLabelFont\":42,\"fLabelOffset\":0.005,\"fLabelSize\":0.035,\"fTickLength\":0.03,\"fTitleOffset\":0,\"fTitleSize\":0.035,\"fTitleColor\":1,\"fTitleFont\":42,\"fNbins\":1,\"fXmin\":0,\"fXmax\":1,\"fXbins\":[],\"fFirst\":0,\"fLast\":0,\"fBits2\":0,\"fTimeDisplay\":false,\"fTimeFormat\":\"\",\"fLabels\":null,\"fModLabs\":null},\"fZaxis\":{\"_typename\":\"TAxis\",\"fUniqueID\":0,\"fBits\":50331648,\"fName\":\"zaxis\",\"fTitle\":\"\",\"fNdivisions\":510,\"fAxisColor\":1,\"fLabelColor\":1,\"fLabelFont\":42,\"fLabelOffset\":0.005,\"fLabelSize\":0.035,\"fTickLength\":0.03,\"fTitleOffset\":1,\"fTitleSize\":0.035,\"fTitleColor\":1,\"fTitleFont\":42,\"fNbins\":1,\"fXmin\":0,\"fXmax\":1,\"fXbins\":[],\"fFirst\":0,\"fLast\":0,\"fBits2\":0,\"fTimeDisplay\":false,\"fTimeFormat\":\"\",\"fLabels\":null,\"fModLabs\":null},\"fBarOffset\":0,\"fBarWidth\":1000,\"fEntries\":92,\"fTsumw\":0,\"fTsumw2\":0,\"fTsumwx\":0,\"fTsumwx2\":0,\"fMaximum\":500000000,\"fMinimum\":1,\"fNormFactor\":0,\"fContour\":[],\"fSumw2\":[0,633002.597261209,1155716.18741404,1120599.83367763,1354667.75707892,1460263.47403905,1051537.29636898,467057.590313887,241986.689554936,75672.3418409186,1122924.53707641,2339912.03159938,2486648.98245079,2559483.32427427,2321905.92241237,1326090.5869729,924981.0695918,559075.133628235,275539.17712758,14104043.0458467,24556781.7222418,19188913.5674473,16105713.6056886,13559541.8958147,8835507.91636002,5998076.29159682,3892297.24746847,2106506.99153429,645875.141620611,1159998.31187534,941436.774238727,814377.113868849,849909.04839954,667602.154584348,499156.432278649,396958.102852414,204200.885589719,25661.6175313394,53543.9346136734,52082.580279864,53006.3414047252,50228.2047271089,65968.6209620641,57273.6680620676,36849.546137908,28857.6129026456,0],\"fOption\":\"\",\"fFunctions\":{\"_typename\":\"TList\",\"name\":\"TList\",\"arr\":[],\"opt\":[]},\"fBufferSize\":0,\"fBuffer\":[],\"fBinStatErrOpt\":0,\"fStatOverflows\":2,\"fArray\":[0,93617.3618722308,137546.194411016,113312.717592259,128737.415734521,146851.991666532,79643.7781846359,37881.3597710078,21844.7279777145,10944.1236003689,182786.582645482,284478.272214966,265961.845394969,318635.619417596,307555.47078101,172611.303936873,102529.133028831,62418.3137779425,32203.8307952704,3725319.37131821,5254125.05022644,4092133.06801352,4253587.97672869,4194999.91174229,2724266.2719398,1854541.40115589,1237490.17220484,698403.381561707,140290.683941823,202643.693443209,162839.901771046,176861.343570197,178410.339054083,121035.557081522,90868.6623228645,62304.8905636595,40267.6398341763,4531.24296630767,6786.59519286015,6374.84477463443,6570.22685870887,8432.37869326983,5739.78427964151,4067.31412684527,4111.16897404401,2561.6307957157,0]},{\"_typename\":\"TH1D\",\"fUniqueID\":0,\"fBits\":50331656,\"fName\":\"hPtFSRUnfoldedData\",\"fTitle\":\"hPtFSRUnfoldedData\",\"fLineColor\":600,\"fLineStyle\":1,\"fLineWidth\":1,\"fFillColor\":0,\"fFillStyle\":1001,\"fMarkerColor\":600,\"fMarkerStyle\":20,\"fMarkerSize\":1,\"fNcells\":47,\"fXaxis\":{\"_typename\":\"TAxis\",\"fUniqueID\":0,\"fBits\":50331648,\"fName\":\"xaxis\",\"fTitle\":\"Gen_Pt\",\"fNdivisions\":510,\"fAxisColor\":1,\"fLabelColor\":1,\"fLabelFont\":42,\"fLabelOffset\":0.005,\"fLabelSize\":0.035,\"fTickLength\":0.03,\"fTitleOffset\":1,\"fTitleSize\":0.035,\"fTitleColor\":1,\"fTitleFont\":42,\"fNbins\":45,\"fXmin\":0.5,\"fXmax\":45.5,\"fXbins\":[],\"fFirst\":0,\"fLast\":0,\"fBits2\":0,\"fTimeDisplay\":false,\"fTimeFormat\":\"\",\"fLabels\":null,\"fModLabs\":null},\"fYaxis\":{\"_typename\":\"TAxis\",\"fUniqueID\":0,\"fBits\":50331648,\"fName\":\"yaxis\",\"fTitle\":\"\",\"fNdivisions\":510,\"fAxisColor\":1,\"fLabelColor\":1,\"fLabelFont\":42,\"fLabelOffset\":0.005,\"fLabelSize\":0.035,\"fTickLength\":0.03,\"fTitleOffset\":0,\"fTitleSize\":0.035,\"fTitleColor\":1,\"fTitleFont\":42,\"fNbins\":1,\"fXmin\":0,\"fXmax\":1,\"fXbins\":[],\"fFirst\":0,\"fLast\":0,\"fBits2\":0,\"fTimeDisplay\":false,\"fTimeFormat\":\"\",\"fLabels\":null,\"fModLabs\":null},\"fZaxis\":{\"_typename\":\"TAxis\",\"fUniqueID\":0,\"fBits\":50331648,\"fName\":\"zaxis\",\"fTitle\":\"\",\"fNdivisions\":510,\"fAxisColor\":1,\"fLabelColor\":1,\"fLabelFont\":42,\"fLabelOffset\":0.005,\"fLabelSize\":0.035,\"fTickLength\":0.03,\"fTitleOffset\":1,\"fTitleSize\":0.035,\"fTitleColor\":1,\"fTitleFont\":42,\"fNbins\":1,\"fXmin\":0,\"fXmax\":1,\"fXbins\":[],\"fFirst\":0,\"fLast\":0,\"fBits2\":0,\"fTimeDisplay\":false,\"fTimeFormat\":\"\",\"fLabels\":null,\"fModLabs\":null},\"fBarOffset\":0,\"fBarWidth\":1000,\"fEntries\":92,\"fTsumw\":0,\"fTsumw2\":0,\"fTsumwx\":0,\"fTsumwx2\":0,\"fMaximum\":-1111,\"fMinimum\":-1111,\"fNormFactor\":0,\"fContour\":[],\"fSumw2\":[0,20033060.3325646,23270561.6345852,16132859.3888718,16247269.7093297,15559221.1357292,11299856.1469887,4434958.1316564,1982508.45304617,421884.696158063,12016719.7206876,20903652.766561,19199041.9214016,17892299.0080962,14460138.1897597,7269871.14534803,4358674.3194758,2401692.57363208,1153507.46022308,102063884.109531,157797896.226991,112026928.485615,86506592.234913,66681301.5649899,39119384.6522,23218585.0749476,13295252.9401719,6424559.05424799,3984125.86389061,6564357.16496944,4972136.30877541,4014305.5967709,3811475.21315713,2763282.40801637,1814944.05952062,1281685.91489078,590756.774498471,104606.307549024,211993.51901894,197475.605247929,189221.645039939,172342.283273444,210881.280130068,171763.905837485,101796.728107407,73432.8738874544,0],\"fOption\":\"\",\"fFunctions\":{\"_typename\":\"TList\",\"name\":\"TList\",\"arr\":[],\"opt\":[]},\"fBufferSize\":0,\"fBuffer\":[],\"fBinStatErrOpt\":0,\"fStatOverflows\":2,\"fArray\":[0,508459.105658293,575424.139701696,377373.448612109,350289.574651899,286003.584023262,158541.922704207,87056.6772552725,49543.2894104208,21301.693637759,526003.748916227,655990.94726882,469206.647685252,459003.202505324,411881.90682619,245786.149816267,139437.433749763,85462.9492368268,46484.0727287845,9843116.25755334,12927347.5632226,9540985.55982223,9598963.15909121,9145661.44090513,5653633.22773047,3607888.66755422,2266726.3379803,1211056.08193689,342776.805256536,470387.490246554,362848.60137245,381842.476642903,368731.627786352,240677.38632462,170166.762196634,110154.374101235,67602.1294652309,8946.3054455543,12941.4049521835,11821.8742729123,11756.6457814148,15020.2834273719,9803.84415275665,6680.05070525802,6633.64900484789,3976.86439540488,0]},{\"_typename\":\"TH1D\",\"fUniqueID\":0,\"fBits\":50331656,\"fName\":\"hPtUnfoldedData_\",\"fTitle\":\"hPtUnfoldedData_\",\"fLineColor\":616,\"fLineStyle\":1,\"fLineWidth\":1,\"fFillColor\":0,\"fFillStyle\":1001,\"fMarkerColor\":616,\"fMarkerStyle\":22,\"fMarkerSize\":0.8,\"fNcells\":47,\"fXaxis\":{\"_typename\":\"TAxis\",\"fUniqueID\":0,\"fBits\":50331648,\"fName\":\"xaxis\",\"fTitle\":\"Gen_Pt\",\"fNdivisions\":510,\"fAxisColor\":1,\"fLabelColor\":1,\"fLabelFont\":42,\"fLabelOffset\":0.005,\"fLabelSize\":0.035,\"fTickLength\":0.03,\"fTitleOffset\":1,\"fTitleSize\":0.035,\"fTitleColor\":1,\"fTitleFont\":42,\"fNbins\":45,\"fXmin\":0.5,\"fXmax\":45.5,\"fXbins\":[],\"fFirst\":0,\"fLast\":0,\"fBits2\":0,\"fTimeDisplay\":false,\"fTimeFormat\":\"\",\"fLabels\":null,\"fModLabs\":null},\"fYaxis\":{\"_typename\":\"TAxis\",\"fUniqueID\":0,\"fBits\":50331648,\"fName\":\"yaxis\",\"fTitle\":\"\",\"fNdivisions\":510,\"fAxisColor\":1,\"fLabelColor\":1,\"fLabelFont\":42,\"fLabelOffset\":0.005,\"fLabelSize\":0.035,\"fTickLength\":0.03,\"fTitleOffset\":0,\"fTitleSize\":0.035,\"fTitleColor\":1,\"fTitleFont\":42,\"fNbins\":1,\"fXmin\":0,\"fXmax\":1,\"fXbins\":[],\"fFirst\":0,\"fLast\":0,\"fBits2\":0,\"fTimeDisplay\":false,\"fTimeFormat\":\"\",\"fLabels\":null,\"fModLabs\":null},\"fZaxis\":{\"_typename\":\"TAxis\",\"fUniqueID\":0,\"fBits\":50331648,\"fName\":\"zaxis\",\"fTitle\":\"\",\"fNdivisions\":510,\"fAxisColor\":1,\"fLabelColor\":1,\"fLabelFont\":42,\"fLabelOffset\":0.005,\"fLabelSize\":0.035,\"fTickLength\":0.03,\"fTitleOffset\":1,\"fTitleSize\":0.035,\"fTitleColor\":1,\"fTitleFont\":42,\"fNbins\":1,\"fXmin\":0,\"fXmax\":1,\"fXbins\":[],\"fFirst\":0,\"fLast\":0,\"fBits2\":0,\"fTimeDisplay\":false,\"fTimeFormat\":\"\",\"fLabels\":null,\"fModLabs\":null},\"fBarOffset\":0,\"fBarWidth\":1000,\"fEntries\":92,\"fTsumw\":0,\"fTsumw2\":0,\"fTsumwx\":0,\"fTsumwx2\":0,\"fMaximum\":-1111,\"fMinimum\":-1111,\"fNormFactor\":0,\"fContour\":[],\"fSumw2\":[0,18600935.9329447,21578108.1857641,14360919.5695729,13813919.0171603,11916034.332082,8575782.72621067,3697721.65204188,1733997.31907283,391486.140039139,10992386.8241604,17772231.0524432,14672416.8343482,12652000.4391738,10104810.0624396,5367914.0177027,3261876.73907972,1825190.90236062,904180.033235067,99819516.0954065,154024481.085603,108364434.480791,84120681.0838263,65202654.7094382,38303134.815098,22769396.5250008,13066915.5169885,6311987.69613887,3890724.97897237,6419076.75345895,4831755.02098813,3913918.99765449,3711398.69428459,2686060.82804717,1777516.5239725,1250989.89094403,578139.578520839,104031.2693502,215366.03154962,193057.615635306,183227.006165952,165785.07719912,204901.539232543,164966.651893093,100206.664017874,72594.1256042413,0],\"fOption\":\"\",\"fFunctions\":{\"_typename\":\"TList\",\"name\":\"TList\",\"arr\":[],\"opt\":[]},\"fBufferSize\":0,\"fBuffer\":[],\"fBinStatErrOpt\":0,\"fStatOverflows\":2,\"fArray\":[0,491044.270686717,560330.142958634,368155.528337342,343597.257193587,281442.121102805,154162.341500318,85389.7000182206,48798.6430021426,21220.0637024272,519030.194362593,642083.819905063,457869.745714294,445777.362706761,403369.183450365,238646.019162624,136182.937811885,83054.0711971408,45278.77892384,9782051.80571881,12835907.342176,9476050.8904026,9542177.16198618,9093778.7522176,5619522.07209623,3583474.9995397,2252432.72858864,1202769.63756035,340496.092120842,468050.388841694,360649.218146418,379751.656971697,367127.198448658,239286.033667262,168967.063838312,109296.439821257,67190.9320225597,8928.13073337528,12921.0571217986,11800.0317989584,11696.3083949005,14911.2508774347,9800.91786324707,6620.12661555327,6662.21934512287,3952.56931514673,0]},{\"_typename\":\"TH1D\",\"fUniqueID\":0,\"fBits\":50331656,\"fName\":\"hPtData\",\"fTitle\":\"hPtData\",\"fLineColor\":1,\"fLineStyle\":1,\"fLineWidth\":1,\"fFillColor\":0,\"fFillStyle\":1001,\"fMarkerColor\":1,\"fMarkerStyle\":20,\"fMarkerSize\":1,\"fNcells\":47,\"fXaxis\":{\"_typename\":\"TAxis\",\"fUniqueID\":0,\"fBits\":50331648,\"fName\":\"xaxis\",\"fTitle\":\"Rec_Pt\",\"fNdivisions\":510,\"fAxisColor\":1,\"fLabelColor\":1,\"fLabelFont\":42,\"fLabelOffset\":0.005,\"fLabelSize\":0.035,\"fTickLength\":0.03,\"fTitleOffset\":1,\"fTitleSize\":0.035,\"fTitleColor\":1,\"fTitleFont\":42,\"fNbins\":45,\"fXmin\":0.5,\"fXmax\":45.5,\"fXbins\":[],\"fFirst\":0,\"fLast\":0,\"fBits2\":0,\"fTimeDisplay\":false,\"fTimeFormat\":\"\",\"fLabels\":null,\"fModLabs\":null},\"fYaxis\":{\"_typename\":\"TAxis\",\"fUniqueID\":0,\"fBits\":50331648,\"fName\":\"yaxis\",\"fTitle\":\"\",\"fNdivisions\":510,\"fAxisColor\":1,\"fLabelColor\":1,\"fLabelFont\":42,\"fLabelOffset\":0.005,\"fLabelSize\":0.035,\"fTickLength\":0.03,\"fTitleOffset\":0,\"fTitleSize\":0.035,\"fTitleColor\":1,\"fTitleFont\":42,\"fNbins\":1,\"fXmin\":0,\"fXmax\":1,\"fXbins\":[],\"fFirst\":0,\"fLast\":0,\"fBits2\":0,\"fTimeDisplay\":false,\"fTimeFormat\":\"\",\"fLabels\":null,\"fModLabs\":null},\"fZaxis\":{\"_typename\":\"TAxis\",\"fUniqueID\":0,\"fBits\":50331648,\"fName\":\"zaxis\",\"fTitle\":\"\",\"fNdivisions\":510,\"fAxisColor\":1,\"fLabelColor\":1,\"fLabelFont\":42,\"fLabelOffset\":0.005,\"fLabelSize\":0.035,\"fTickLength\":0.03,\"fTitleOffset\":1,\"fTitleSize\":0.035,\"fTitleColor\":1,\"fTitleFont\":42,\"fNbins\":1,\"fXmin\":0,\"fXmax\":1,\"fXbins\":[],\"fFirst\":0,\"fLast\":0,\"fBits2\":0,\"fTimeDisplay\":false,\"fTimeFormat\":\"\",\"fLabels\":null,\"fModLabs\":null},\"fBarOffset\":0,\"fBarWidth\":1000,\"fEntries\":92,\"fTsumw\":0,\"fTsumw2\":0,\"fTsumwx\":0,\"fTsumwx2\":0,\"fMaximum\":-1111,\"fMinimum\":-1111,\"fNormFactor\":0,\"fContour\":[],\"fSumw2\":[0,36919.6965106106,62745.110832924,58033.1470959281,76567.425713499,83333.957624259,63305.9463774524,35224.5961468878,20116.1093462268,8723.82495188701,89005.0632011812,147468.113064932,138029.397668294,157419.58763101,156654.502421221,93173.2361563835,67705.0411484439,41255.4872001349,22294.068149299,1517178.30603185,2272359.63510459,1757897.11535846,1797794.50649055,1737564.71786958,1120965.11481263,738166.819111556,490655.411012353,280399.101954307,58600.3415185515,90678.0710059445,74849.1673235103,81914.4472722749,103442.256238273,81987.5011932048,58203.2116811605,48720.3058775182,25050.1233610397,2041.96225244222,3656.13480330412,3387.31164488989,6401.01414551919,7650.7036316853,12598.3703215025,10996.0162843549,6192.30572011656,5291.81441303052,0],\"fOption\":\"\",\"fFunctions\":{\"_typename\":\"TList\",\"name\":\"TList\",\"arr\":[],\"opt\":[]},\"fBufferSize\":0,\"fBuffer\":[],\"fBinStatErrOpt\":0,\"fStatOverflows\":2,\"fArray\":[0,31081.942075235,47646.3159822873,39116.7072106442,43294.4779013615,47689.5523261459,25021.5204494962,12902.0422763124,7703.79889385393,4375.2183489574,84164.2171500034,138709.456888137,125670.825384429,142474.292459658,131741.210129139,72519.281659831,43616.734860373,26148.5365307146,13565.5071339588,1516344.22071649,2271193.07279585,1756059.05323065,1793317.30677285,1724025.70819258,1089702.79779099,718329.438534929,476117.107841537,273913.756343952,57078.0117171552,89126.0054651476,72879.6737296243,77203.6810199576,77882.4850346146,52020.6630264927,36356.1734749714,25464.1611804549,16200.5975569438,2019.45925002326,3602.35691788235,3269.14771423952,3827.6850196736,4286.56215195167,3095.75811674399,2203.25481626372,1934.64713150352,1296.72251782959,0]},{\"_typename\":\"TLegend\",\"fUniqueID\":0,\"fBits\":50331656,\"fLineColor\":1,\"fLineStyle\":1,\"fLineWidth\":1,\"fFillColor\":0,\"fFillStyle\":1001,\"fX1\":34.2500001676381,\"fY1\":6.52422753565821,\"fX2\":45.5000003352762,\"fY2\":8.6989700691484,\"fX1NDC\":0.7,\"fY1NDC\":0.7,\"fX2NDC\":0.9,\"fY2NDC\":0.9,\"fBorderSize\":1,\"fInit\":1,\"fShadowColor\":1,\"fCornerRadius\":0,\"fOption\":\"brNDC\",\"fName\":\"TPave\",\"fTextAngle\":0,\"fTextSize\":0,\"fTextAlign\":12,\"fTextColor\":1,\"fTextFont\":42,\"fPrimitives\":{\"_typename\":\"TList\",\"name\":\"TList\",\"arr\":[{\"_typename\":\"TLegendEntry\",\"fUniqueID\":0,\"fBits\":50331656,\"fTextAngle\":0,\"fTextSize\":0,\"fTextAlign\":0,\"fTextColor\":0,\"fTextFont\":42,\"fLineColor\":1,\"fLineStyle\":1,\"fLineWidth\":1,\"fFillColor\":0,\"fFillStyle\":0,\"fMarkerColor\":1,\"fMarkerStyle\":20,\"fMarkerSize\":1,\"fObject\":{\"$ref\":90},\"fLabel\":\"Detector  data\",\"fOption\":\"ple\"},{\"_typename\":\"TLegendEntry\",\"fUniqueID\":0,\"fBits\":50331656,\"fTextAngle\":0,\"fTextSize\":0,\"fTextAlign\":0,\"fTextColor\":0,\"fTextFont\":42,\"fLineColor\":632,\"fLineStyle\":1,\"fLineWidth\":1,\"fFillColor\":0,\"fFillStyle\":0,\"fMarkerColor\":632,\"fMarkerStyle\":20,\"fMarkerSize\":1,\"fObject\":{\"$ref\":75},\"fLabel\":\"Det unfolded data\",\"fOption\":\"ple\"},{\"_typename\":\"TLegendEntry\",\"fUniqueID\":0,\"fBits\":50331656,\"fTextAngle\":0,\"fTextSize\":0,\"fTextAlign\":0,\"fTextColor\":0,\"fTextFont\":42,\"fLineColor\":600,\"fLineStyle\":1,\"fLineWidth\":1,\"fFillColor\":0,\"fFillStyle\":0,\"fMarkerColor\":600,\"fMarkerStyle\":20,\"fMarkerSize\":1,\"fObject\":{\"$ref\":80},\"fLabel\":\"Pre-FSR unfolded data\",\"fOption\":\"ple\"}],\"opt\":[\"ple\",\"ple\",\"ple\"]},\"fEntrySeparation\":0.1,\"fMargin\":0.25,\"fNColumns\":1,\"fColumnSeparation\":0},{\"_typename\":\"TPaveText\",\"fUniqueID\":0,\"fBits\":50331657,\"fLineColor\":1,\"fLineStyle\":1,\"fLineWidth\":1,\"fFillColor\":0,\"fFillStyle\":0,\"fX1\":17.2444083638875,\"fY1\":8.86737865564196,\"fX2\":28.7555916361125,\"fY2\":9.73197282440615,\"fX1NDC\":0.397678372438267,\"fY1NDC\":0.915487680394358,\"fX2NDC\":0.602321627561733,\"fY2NDC\":0.995000004768372,\"fBorderSize\":0,\"fInit\":1,\"fShadowColor\":1,\"fCornerRadius\":0,\"fOption\":\"blNDC\",\"fName\":\"title\",\"fTextAngle\":0,\"fTextSize\":0,\"fTextAlign\":22,\"fTextColor\":1,\"fTextFont\":42,\"fLabel\":\"\",\"fLongest\":14,\"fMargin\":0.05,\"fLines\":{\"_typename\":\"TList\",\"name\":\"TList\",\"arr\":[{\"_typename\":\"TLatex\",\"fUniqueID\":0,\"fBits\":50331648,\"fName\":\"\",\"fTitle\":\"Dilepton p_{T}\",\"fTextAngle\":0,\"fTextSize\":0,\"fTextAlign\":0,\"fTextColor\":0,\"fTextFont\":0,\"fX\":0,\"fY\":0,\"fLineColor\":1,\"fLineStyle\":1,\"fLineWidth\":2,\"fLimitFactorSize\":3,\"fOriginSize\":0.0598757863044739}],\"opt\":[\"\"]}}],\"opt\":[\"\",\"hist pe\",\"pe same\",\"pe same\",\"pe same\",\"\",\"blNDC\"]},\"fExecs\":{\"_typename\":\"TList\",\"name\":\"TList\",\"arr\":[],\"opt\":[]},\"fName\":\"pad_pt\",\"fTitle\":\"pad_pt\",\"fNumPaletteColor\":0,\"fNextPaletteColor\":0},{\"_typename\":\"TPad\",\"fUniqueID\":0,\"fBits\":50331657,\"fLineColor\":1,\"fLineStyle\":1,\"fLineWidth\":1,\"fFillColor\":0,\"fFillStyle\":1001,\"fLeftMargin\":0.1,\"fRightMargin\":0.1,\"fBottomMargin\":0.1,\"fTopMargin\":0.1,\"fXfile\":2,\"fYfile\":2,\"fAfile\":1,\"fXstat\":0.99,\"fYstat\":0.99,\"fAstat\":2,\"fFrameFillColor\":0,\"fFrameLineColor\":1,\"fFrameFillStyle\":1001,\"fFrameLineStyle\":1,\"fFrameLineWidth\":1,\"fFrameBorderSize\":1,\"fFrameBorderMode\":0,\"fX1\":-5.12500041909518,\"fY1\":0.374999990686774,\"fX2\":51.1250004190952,\"fY2\":1.62500000931323,\"fXtoAbsPixelk\":662.265119945876,\"fXtoPixelk\":52.3051202132028,\"fXtoPixel\":10.2058665240923,\"fYtoAbsPixelk\":616.730448146146,\"fYtoPixelk\":218.618448095006,\"fYtoPixel\":-134.53439805665,\"fUtoAbsPixelk\":609.960049732673,\"fUtoPixelk\":5e-5,\"fUtoPixel\":574.080000534654,\"fVtoAbsPixelk\":566.280050127852,\"fVtoPixelk\":168.168000076711,\"fVtoPixel\":-168.168000076711,\"fAbsPixeltoXk\":-64.8906262278179,\"fPixeltoXk\":-5.12500041909518,\"fPixeltoX\":0.0979828609005774,\"fAbsPixeltoYk\":4.58418372590817,\"fPixeltoYk\":0.374999990686774,\"fPixeltoY\":-0.0074330432546992,\"fXlowNDC\":0,\"fYlowNDC\":0,\"fXUpNDC\":0,\"fYUpNDC\":0,\"fWNDC\":1,\"fHNDC\":0.3,\"fAbsXlowNDC\":0.509999999776483,\"fAbsYlowNDC\":0.00999999977648258,\"fAbsWNDC\":0.480000000447035,\"fAbsHNDC\":0.29400000013411,\"fUxmin\":0.5,\"fUymin\":0.5,\"fUxmax\":45.5,\"fUymax\":1.5,\"fTheta\":30,\"fPhi\":30,\"fAspectRatio\":0,\"fNumber\":0,\"fTickx\":0,\"fTicky\":0,\"fLogx\":0,\"fLogy\":0,\"fLogz\":0,\"fPadPaint\":0,\"fCrosshair\":0,\"fCrosshairPos\":0,\"fBorderSize\":2,\"fBorderMode\":0,\"fModified\":false,\"fGridx\":true,\"fGridy\":true,\"fAbsCoord\":false,\"fEditable\":true,\"fFixedAspectRatio\":false,\"fPrimitives\":{\"_typename\":\"TList\",\"name\":\"TList\",\"arr\":[{\"_typename\":\"TFrame\",\"fUniqueID\":0,\"fBits\":50331656,\"fLineColor\":1,\"fLineStyle\":1,\"fLineWidth\":1,\"fFillColor\":0,\"fFillStyle\":1001,\"fX1\":0.5,\"fY1\":0.5,\"fX2\":45.5,\"fY2\":1.5,\"fBorderSize\":1,\"fBorderMode\":0},{\"_typename\":\"TH1D\",\"fUniqueID\":0,\"fBits\":50332168,\"fName\":\"ratioPt_detector\",\"fTitle\":\"hPtData\",\"fLineColor\":1,\"fLineStyle\":1,\"fLineWidth\":1,\"fFillColor\":0,\"fFillStyle\":1001,\"fMarkerColor\":1,\"fMarkerStyle\":20,\"fMarkerSize\":1,\"fNcells\":47,\"fXaxis\":{\"_typename\":\"TAxis\",\"fUniqueID\":0,\"fBits\":50331648,\"fName\":\"xaxis\",\"fTitle\":\"Rec_Pt\",\"fNdivisions\":510,\"fAxisColor\":1,\"fLabelColor\":1,\"fLabelFont\":42,\"fLabelOffset\":0.005,\"fLabelSize\":0.035,\"fTickLength\":0.03,\"fTitleOffset\":1,\"fTitleSize\":0.035,\"fTitleColor\":1,\"fTitleFont\":42,\"fNbins\":45,\"fXmin\":0.5,\"fXmax\":45.5,\"fXbins\":[],\"fFirst\":0,\"fLast\":0,\"fBits2\":0,\"fTimeDisplay\":false,\"fTimeFormat\":\"\",\"fLabels\":null,\"fModLabs\":null},\"fYaxis\":{\"_typename\":\"TAxis\",\"fUniqueID\":0,\"fBits\":50331648,\"fName\":\"yaxis\",\"fTitle\":\"\",\"fNdivisions\":510,\"fAxisColor\":1,\"fLabelColor\":1,\"fLabelFont\":42,\"fLabelOffset\":0.005,\"fLabelSize\":0.035,\"fTickLength\":0.03,\"fTitleOffset\":0,\"fTitleSize\":0.035,\"fTitleColor\":1,\"fTitleFont\":42,\"fNbins\":1,\"fXmin\":0,\"fXmax\":1,\"fXbins\":[],\"fFirst\":0,\"fLast\":0,\"fBits2\":0,\"fTimeDisplay\":false,\"fTimeFormat\":\"\",\"fLabels\":null,\"fModLabs\":null},\"fZaxis\":{\"_typename\":\"TAxis\",\"fUniqueID\":0,\"fBits\":50331648,\"fName\":\"zaxis\",\"fTitle\":\"\",\"fNdivisions\":510,\"fAxisColor\":1,\"fLabelColor\":1,\"fLabelFont\":42,\"fLabelOffset\":0.005,\"fLabelSize\":0.035,\"fTickLength\":0.03,\"fTitleOffset\":1,\"fTitleSize\":0.035,\"fTitleColor\":1,\"fTitleFont\":42,\"fNbins\":1,\"fXmin\":0,\"fXmax\":1,\"fXbins\":[],\"fFirst\":0,\"fLast\":0,\"fBits2\":0,\"fTimeDisplay\":false,\"fTimeFormat\":\"\",\"fLabels\":null,\"fModLabs\":null},\"fBarOffset\":0,\"fBarWidth\":1000,\"fEntries\":30.8057517494995,\"fTsumw\":619.600191315614,\"fTsumw2\":12462.1012400577,\"fTsumwx\":23986.4019908144,\"fTsumwx2\":952087.052171068,\"fMaximum\":1.5,\"fMinimum\":0.5,\"fNormFactor\":0,\"fContour\":[],\"fSumw2\":[0,1.76585834664057e-4,1.2024382961279e-4,1.42238523602511e-4,1.22438625565864e-4,9.88724648150354e-5,2.25914271140788e-4,5.37921841525647e-4,0.00112982814161035,0.00174858436626007,6.07833578221012e-5,3.7017536391888e-5,3.92924399572457e-5,3.19403493386467e-5,3.25501466249432e-5,6.79414542759672e-5,1.36995622890794e-4,2.79271418140134e-4,6.74180832447668e-4,2.83687083625855e-6,1.97983205082135e-6,2.47234614954083e-6,2.16568362743592e-6,2.07384376451739e-6,3.76037724809138e-6,7.25426309057974e-6,1.27272022756056e-5,2.40964352489215e-5,8.5342923382209e-5,5.71550295428529e-5,6.77130093099221e-5,6.025047943758e-5,5.54068524709113e-5,9.95850055547615e-5,2.02983926064108e-4,2.98094628455275e-4,5.52113542444029e-4,10113.3232292645,880.472001515862,77.63861014648,143.379954670242,401.171062736564,108.611583345686,51.0078599333998,438.348842069819,248.140895761745,0],\"fOption\":\"\",\"fFunctions\":{\"_typename\":\"TList\",\"name\":\"TList\",\"arr\":[],\"opt\":[]},\"fBufferSize\":0,\"fBuffer\":[],\"fBinStatErrOpt\":0,\"fStatOverflows\":2,\"fArray\":[0,1.06992963335218,1.06765040947383,1.03139073141615,0.990932887348756,0.941361175912165,0.919840529855462,0.933832017844689,0.992131973927514,0.963779387777576,1.07983297124947,1.07222107741822,1.04636887404429,1.006606303457,0.954274819354776,0.938594605470894,0.939142968950238,0.981024201867804,1.0318842511019,1.02492161862532,1.03266253352784,1.00866579333744,0.956764290415932,0.902472321004177,0.889091041624008,0.916246984818132,0.939189385353321,0.952114750378621,1.07462177794795,1.08287415911077,1.05965384432634,1.01701697868184,0.940527798746177,0.927973179476081,0.988305918107273,0.971204417683246,1.02410326280414,146.618276739539,96.460112875644,44.9383009717546,55.8438243530582,75.2176165623042,47.1888860487837,28.8967061120598,50.3110629820271,38.4561957946523,0]},{\"_typename\":\"TH1D\",\"fUniqueID\":0,\"fBits\":50332168,\"fName\":\"ratioPt_dressed\",\"fTitle\":\"Dilepton p_{T}\",\"fLineColor\":632,\"fLineStyle\":1,\"fLineWidth\":1,\"fFillColor\":0,\"fFillStyle\":1001,\"fMarkerColor\":632,\"fMarkerStyle\":20,\"fMarkerSize\":1,\"fNcells\":47,\"fXaxis\":{\"_typename\":\"TAxis\",\"fUniqueID\":0,\"fBits\":50331656,\"fName\":\"xaxis\",\"fTitle\":\"Gen_Pt\",\"fNdivisions\":520,\"fAxisColor\":1,\"fLabelColor\":1,\"fLabelFont\":42,\"fLabelOffset\":0.005,\"fLabelSize\":0.035,\"fTickLength\":0.03,\"fTitleOffset\":1,\"fTitleSize\":0.035,\"fTitleColor\":1,\"fTitleFont\":42,\"fNbins\":45,\"fXmin\":0.5,\"fXmax\":45.5,\"fXbins\":[],\"fFirst\":0,\"fLast\":0,\"fBits2\":0,\"fTimeDisplay\":false,\"fTimeFormat\":\"\",\"fLabels\":null,\"fModLabs\":null},\"fYaxis\":{\"_typename\":\"TAxis\",\"fUniqueID\":0,\"fBits\":50331656,\"fName\":\"yaxis\",\"fTitle\":\"Events\\/ bin\",\"fNdivisions\":10,\"fAxisColor\":1,\"fLabelColor\":1,\"fLabelFont\":42,\"fLabelOffset\":0.005,\"fLabelSize\":0.035,\"fTickLength\":0.03,\"fTitleOffset\":0,\"fTitleSize\":0.035,\"fTitleColor\":1,\"fTitleFont\":42,\"fNbins\":1,\"fXmin\":0,\"fXmax\":1,\"fXbins\":[],\"fFirst\":0,\"fLast\":0,\"fBits2\":0,\"fTimeDisplay\":false,\"fTimeFormat\":\"\",\"fLabels\":null,\"fModLabs\":null},\"fZaxis\":{\"_typename\":\"TAxis\",\"fUniqueID\":0,\"fBits\":50331648,\"fName\":\"zaxis\",\"fTitle\":\"\",\"fNdivisions\":510,\"fAxisColor\":1,\"fLabelColor\":1,\"fLabelFont\":42,\"fLabelOffset\":0.005,\"fLabelSize\":0.035,\"fTickLength\":0.03,\"fTitleOffset\":1,\"fTitleSize\":0.035,\"fTitleColor\":1,\"fTitleFont\":42,\"fNbins\":1,\"fXmin\":0,\"fXmax\":1,\"fXbins\":[],\"fFirst\":0,\"fLast\":0,\"fBits2\":0,\"fTimeDisplay\":false,\"fTimeFormat\":\"\",\"fLabels\":null,\"fModLabs\":null},\"fBarOffset\":0,\"fBarWidth\":1000,\"fEntries\":85107.9519015399,\"fTsumw\":46.6768465214369,\"fTsumw2\":0.0255995820896538,\"fTsumwx\":1091.27715393536,\"fTsumwx2\":33612.5132804629,\"fMaximum\":500000000,\"fMinimum\":1,\"fNormFactor\":0,\"fContour\":[],\"fSumw2\":[0,8.79382476215379e-5,7.3416909005199e-5,9.62742663567701e-5,8.24967306730487e-5,6.09533464080407e-5,1.45627477724941e-4,2.9132035359321e-4,5.12446704691243e-4,5.82432624096078e-4,4.16488207662124e-5,3.57195085567758e-5,4.1120110039301e-5,2.72823984411131e-5,2.36686318055324e-5,4.22080489288305e-5,8.13007068574419e-5,1.47423762040475e-4,3.13153072494472e-4,1.0764492043434e-6,9.70078209432762e-7,1.18466640661571e-6,8.20906496550632e-7,6.30287670415566e-7,9.48254438272346e-7,1.48333034871769e-6,2.27088172323027e-6,3.96706768300466e-6,3.84195753867847e-5,3.37977808174302e-5,4.03657123506509e-5,2.72884952843024e-5,2.34959494261409e-5,3.92485739250673e-5,6.04568562472894e-5,9.67249325521339e-5,1.34022070863929e-4,0.0022452649139386,0.00188965070385508,0.0021999910544588,0.00146664322729277,9.63833853498945e-4,0.00212975682115011,0.00302187101793289,0.0031108772637872,0.00537808964460488,0],\"fOption\":\"\",\"fFunctions\":{\"_typename\":\"TList\",\"name\":\"TList\",\"arr\":[],\"opt\":[]},\"fBufferSize\":0,\"fBuffer\":[],\"fBinStatErrOpt\":0,\"fStatOverflows\":2,\"fArray\":[0,1.10342433100403,1.09627883297178,1.05028820309447,1.00463142487074,0.948774506685722,0.937262362350828,0.946075414887239,1.0052527138112,0.960141515935038,1.11319278345598,1.11148107865799,1.0815316412379,1.04030202585515,0.981946267941771,0.973823556548254,0.961231564375839,1.01358619940691,1.08566089777138,1.02917320082958,1.04428263087079,1.0167696891932,0.9603118322965,0.904438108764953,0.892475361624838,0.922251736350642,0.945226777860747,0.958428426315934,1.08200888733028,1.09382666535639,1.06628073566374,1.02378776280459,0.938059295739941,0.928038619491283,1.0000427805458,0.972565858174326,1.03160996113431,1.34032195256465,1.2749336126555,1.31018862862345,1.09289563418148,1.16809284170754,1.03131628766195,0.934260909322905,1.19451248683268,1.10586051667672,0]},{\"_typename\":\"TH1D\",\"fUniqueID\":0,\"fBits\":50331656,\"fName\":\"ratioPt_preFSR\",\"fTitle\":\"hPtUnfoldedData_\",\"fLineColor\":616,\"fLineStyle\":1,\"fLineWidth\":1,\"fFillColor\":0,\"fFillStyle\":1001,\"fMarkerColor\":616,\"fMarkerStyle\":22,\"fMarkerSize\":0.8,\"fNcells\":47,\"fXaxis\":{\"_typename\":\"TAxis\",\"fUniqueID\":0,\"fBits\":50331648,\"fName\":\"xaxis\",\"fTitle\":\"Gen_Pt\",\"fNdivisions\":510,\"fAxisColor\":1,\"fLabelColor\":1,\"fLabelFont\":42,\"fLabelOffset\":0.005,\"fLabelSize\":0.035,\"fTickLength\":0.03,\"fTitleOffset\":1,\"fTitleSize\":0.035,\"fTitleColor\":1,\"fTitleFont\":42,\"fNbins\":45,\"fXmin\":0.5,\"fXmax\":45.5,\"fXbins\":[],\"fFirst\":0,\"fLast\":0,\"fBits2\":0,\"fTimeDisplay\":false,\"fTimeFormat\":\"\",\"fLabels\":null,\"fModLabs\":null},\"fYaxis\":{\"_typename\":\"TAxis\",\"fUniqueID\":0,\"fBits\":50331648,\"fName\":\"yaxis\",\"fTitle\":\"\",\"fNdivisions\":510,\"fAxisColor\":1,\"fLabelColor\":1,\"fLabelFont\":42,\"fLabelOffset\":0.005,\"fLabelSize\":0.035,\"fTickLength\":0.03,\"fTitleOffset\":0,\"fTitleSize\":0.035,\"fTitleColor\":1,\"fTitleFont\":42,\"fNbins\":1,\"fXmin\":0,\"fXmax\":1,\"fXbins\":[],\"fFirst\":0,\"fLast\":0,\"fBits2\":0,\"fTimeDisplay\":false,\"fTimeFormat\":\"\",\"fLabels\":null,\"fModLabs\":null},\"fZaxis\":{\"_typename\":\"TAxis\",\"fUniqueID\":0,\"fBits\":50331648,\"fName\":\"zaxis\",\"fTitle\":\"\",\"fNdivisions\":510,\"fAxisColor\":1,\"fLabelColor\":1,\"fLabelFont\":42,\"fLabelOffset\":0.005,\"fLabelSize\":0.035,\"fTickLength\":0.03,\"fTitleOffset\":1,\"fTitleSize\":0.035,\"fTitleColor\":1,\"fTitleFont\":42,\"fNbins\":1,\"fXmin\":0,\"fXmax\":1,\"fXbins\":[],\"fFirst\":0,\"fLast\":0,\"fBits2\":0,\"fTimeDisplay\":false,\"fTimeFormat\":\"\",\"fLabels\":null,\"fModLabs\":null},\"fBarOffset\":0,\"fBarWidth\":1000,\"fEntries\":75299.9463474359,\"fTsumw\":46.4280936694768,\"fTsumw2\":0.0286264198892768,\"fTsumwx\":1088.59071056475,\"fTsumwx2\":33546.5400475464,\"fMaximum\":-1111,\"fMinimum\":-1111,\"fNormFactor\":0,\"fContour\":[],\"fSumw2\":[0,8.78243978595789e-5,7.8904174659669e-5,1.12163774667303e-4,1.13854769878877e-4,1.22614653354321e-4,2.88938426346386e-4,4.40957159345416e-4,7.3103273586995e-4,7.88507577875292e-4,5.04390263127853e-5,5.38790432127659e-5,8.43072336305253e-5,6.95726213353179e-5,5.95826888823911e-5,9.18437172958521e-5,1.62567259307109e-4,2.7540661254458e-4,5.52011426699308e-4,1.09072922725798e-6,1.0062978458543e-6,1.23109135749544e-6,8.41155041358074e-7,6.36939771740322e-7,9.53721799401763e-7,1.4872929406679e-6,2.27174288119719e-6,3.95229906344052e-6,3.87584924127528e-5,3.47452256675655e-5,4.17300137296413e-5,2.8124405069659e-5,2.39328702024177e-5,3.98095245276481e-5,6.14217645910499e-5,9.73050641300733e-5,1.3465224199838e-4,0.0023406707664383,0.00209106974435586,0.00239924411894747,0.00156985540558758,0.00101408456206279,0.00227420577779807,0.0032298781951486,0.00331300569709614,0.00571604745050691,0],\"fOption\":\"\",\"fFunctions\":{\"_typename\":\"TList\",\"name\":\"TList\",\"arr\":[],\"opt\":[]},\"fBufferSize\":0,\"fBuffer\":[],\"fBinStatErrOpt\":0,\"fStatOverflows\":2,\"fArray\":[0,1.06699120639827,1.07148795565867,1.02888422723372,0.98643131419385,0.902805943710866,0.894837271504898,0.932473672517485,1.00196360590919,0.952338679016682,1.11180844670275,1.11797138617979,1.09754804172095,1.04534006207594,0.979487026096218,0.987134079246301,0.961402988867672,1.02022029805709,1.11877121541514,1.02254093686874,1.0375163938977,1.01001806415566,0.954188353552848,0.898795581214713,0.886733419433607,0.915855329647867,0.939171435998017,0.95175306535886,1.07468281258348,1.08893985811304,1.05988026462953,1.01797106343526,0.932277381358491,0.921197868895831,0.993244979669975,0.963932974795193,1.02541840695786,1.3392102285443,1.27319141856956,1.31545782307507,1.08263956514431,1.1662145214465,1.03254507237741,0.9263205269047,1.21138367424923,1.10911522809355,0]},{\"_typename\":\"TH1D\",\"fUniqueID\":0,\"fBits\":50331656,\"fName\":\"ratioPt_preFSR_twoStep\",\"fTitle\":\"hPtFSRUnfoldedData\",\"fLineColor\":600,\"fLineStyle\":1,\"fLineWidth\":1,\"fFillColor\":0,\"fFillStyle\":1001,\"fMarkerColor\":600,\"fMarkerStyle\":20,\"fMarkerSize\":1,\"fNcells\":47,\"fXaxis\":{\"_typename\":\"TAxis\",\"fUniqueID\":0,\"fBits\":50331648,\"fName\":\"xaxis\",\"fTitle\":\"Gen_Pt\",\"fNdivisions\":510,\"fAxisColor\":1,\"fLabelColor\":1,\"fLabelFont\":42,\"fLabelOffset\":0.005,\"fLabelSize\":0.035,\"fTickLength\":0.03,\"fTitleOffset\":1,\"fTitleSize\":0.035,\"fTitleColor\":1,\"fTitleFont\":42,\"fNbins\":45,\"fXmin\":0.5,\"fXmax\":45.5,\"fXbins\":[],\"fFirst\":0,\"fLast\":0,\"fBits2\":0,\"fTimeDisplay\":false,\"fTimeFormat\":\"\",\"fLabels\":null,\"fModLabs\":null},\"fYaxis\":{\"_typename\":\"TAxis\",\"fUniqueID\":0,\"fBits\":50331648,\"fName\":\"yaxis\",\"fTitle\":\"\",\"fNdivisions\":510,\"fAxisColor\":1,\"fLabelColor\":1,\"fLabelFont\":42,\"fLabelOffset\":0.005,\"fLabelSize\":0.035,\"fTickLength\":0.03,\"fTitleOffset\":0,\"fTitleSize\":0.035,\"fTitleColor\":1,\"fTitleFont\":42,\"fNbins\":1,\"fXmin\":0,\"fXmax\":1,\"fXbins\":[],\"fFirst\":0,\"fLast\":0,\"fBits2\":0,\"fTimeDisplay\":false,\"fTimeFormat\":\"\",\"fLabels\":null,\"fModLabs\":null},\"fZaxis\":{\"_typename\":\"TAxis\",\"fUniqueID\":0,\"fBits\":50331648,\"fName\":\"zaxis\",\"fTitle\":\"\",\"fNdivisions\":510,\"fAxisColor\":1,\"fLabelColor\":1,\"fLabelFont\":42,\"fLabelOffset\":0.005,\"fLabelSize\":0.035,\"fTickLength\":0.03,\"fTitleOffset\":1,\"fTitleSize\":0.035,\"fTitleColor\":1,\"fTitleFont\":42,\"fNbins\":1,\"fXmin\":0,\"fXmax\":1,\"fXbins\":[],\"fFirst\":0,\"fLast\":0,\"fBits2\":0,\"fTimeDisplay\":false,\"fTimeFormat\":\"\",\"fLabels\":null,\"fModLabs\":null},\"fBarOffset\":0,\"fBarWidth\":1000,\"fEntries\":73760.2525400371,\"fTsumw\":46.9891408624377,\"fTsumw2\":0.0299345417478271,\"fTsumwx\":1096.96874107709,\"fTsumwx2\":33738.997492394,\"fMaximum\":-1111,\"fMinimum\":-1111,\"fNormFactor\":0,\"fContour\":[],\"fSumw2\":[0,9.45861792833768e-5,8.50929304754908e-5,1.26003240702407e-4,1.33910525435827e-4,1.60102635898286e-4,3.80718910131965e-4,5.28873377602979e-4,8.35802087105055e-4,8.49734501142211e-4,5.51392206152148e-5,6.33723929984206e-5,1.10317075300149e-4,9.83887211902392e-5,8.5263741686689e-5,1.24385746129438e-4,2.17230077961e-4,3.6239607332143e-4,7.04228445023068e-4,1.11525346746013e-6,1.0309509367211e-6,1.27269970194612e-6,8.65012684532212e-7,6.5138410678761e-7,9.74045860791703e-7,1.51663385704445e-6,2.31144038402095e-6,4.0227864747983e-6,3.96889301869515e-5,3.55316005430966e-5,4.29424330351136e-5,2.88457570901825e-5,2.45782113618523e-5,4.09540088035619e-5,6.27150663672391e-5,9.96926762125524e-5,1.3759086407035e-4,0.00235360894464167,0.00205832475265671,0.00245414915628966,0.00162121637271676,0.0010541940915969,0.00234057502690092,0.00336296147016174,0.00336557596713759,0.00578209032857688,0],\"fOption\":\"\",\"fFunctions\":{\"_typename\":\"TList\",\"name\":\"TList\",\"arr\":[],\"opt\":[]},\"fBufferSize\":0,\"fBuffer\":[],\"fBinStatErrOpt\":0,\"fStatOverflows\":2,\"fArray\":[0,1.10483194069615,1.10035136041419,1.05464554832931,1.00564424842777,0.917438138140318,0.920258606291867,0.950677418237462,1.01725314173364,0.956002162117972,1.12674641551555,1.14218593570532,1.1247234440573,1.07635442339771,1.0001581691718,1.01666847635552,0.984378569892777,1.04981049437387,1.14855223087402,1.02892414798047,1.04490743575026,1.01693921621126,0.959866778524009,0.903923474975746,0.892115994906893,0.922094912167953,0.945131280874971,0.958310138791683,1.08188125997859,1.094377227535,1.06634383853555,1.02357576294107,0.936351645504146,0.926554266355381,1.00029720833782,0.971499471416951,1.03169379879894,1.34193641627362,1.27519641574497,1.31789280407575,1.0882245445833,1.17474199805407,1.03285336246366,0.934705398912917,1.20618876216605,1.1159325768441,0]},{\"_typename\":\"TH1D\",\"fUniqueID\":0,\"fBits\":50331656,\"fName\":\"ratioPtMC_preFSR\",\"fTitle\":\"hPtUnfoldedMC_closure\",\"fLineColor\":602,\"fLineStyle\":1,\"fLineWidth\":1,\"fFillColor\":0,\"fFillStyle\":1001,\"fMarkerColor\":1,\"fMarkerStyle\":25,\"fMarkerSize\":1,\"fNcells\":47,\"fXaxis\":{\"_typename\":\"TAxis\",\"fUniqueID\":0,\"fBits\":50331648,\"fName\":\"xaxis\",\"fTitle\":\"Gen_Pt\",\"fNdivisions\":510,\"fAxisColor\":1,\"fLabelColor\":1,\"fLabelFont\":42,\"fLabelOffset\":0.005,\"fLabelSize\":0.035,\"fTickLength\":0.03,\"fTitleOffset\":1,\"fTitleSize\":0.035,\"fTitleColor\":1,\"fTitleFont\":42,\"fNbins\":45,\"fXmin\":0.5,\"fXmax\":45.5,\"fXbins\":[],\"fFirst\":0,\"fLast\":0,\"fBits2\":0,\"fTimeDisplay\":false,\"fTimeFormat\":\"\",\"fLabels\":null,\"fModLabs\":null},\"fYaxis\":{\"_typename\":\"TAxis\",\"fUniqueID\":0,\"fBits\":50331648,\"fName\":\"yaxis\",\"fTitle\":\"\",\"fNdivisions\":510,\"fAxisColor\":1,\"fLabelColor\":1,\"fLabelFont\":42,\"fLabelOffset\":0.005,\"fLabelSize\":0.035,\"fTickLength\":0.03,\"fTitleOffset\":0,\"fTitleSize\":0.035,\"fTitleColor\":1,\"fTitleFont\":42,\"fNbins\":1,\"fXmin\":0,\"fXmax\":1,\"fXbins\":[],\"fFirst\":0,\"fLast\":0,\"fBits2\":0,\"fTimeDisplay\":false,\"fTimeFormat\":\"\",\"fLabels\":null,\"fModLabs\":null},\"fZaxis\":{\"_typename\":\"TAxis\",\"fUniqueID\":0,\"fBits\":50331648,\"fName\":\"zaxis\",\"fTitle\":\"\",\"fNdivisions\":510,\"fAxisColor\":1,\"fLabelColor\":1,\"fLabelFont\":42,\"fLabelOffset\":0.005,\"fLabelSize\":0.035,\"fTickLength\":0.03,\"fTitleOffset\":1,\"fTitleSize\":0.035,\"fTitleColor\":1,\"fTitleFont\":42,\"fNbins\":1,\"fXmin\":0,\"fXmax\":1,\"fXbins\":[],\"fFirst\":0,\"fLast\":0,\"fBits2\":0,\"fTimeDisplay\":false,\"fTimeFormat\":\"\",\"fLabels\":null,\"fModLabs\":null},\"fBarOffset\":0,\"fBarWidth\":1000,\"fEntries\":125067.066512478,\"fTsumw\":36.2570247424133,\"fTsumw2\":0.0105109352911929,\"fTsumwx\":665.428225502854,\"fTsumwx2\":16076.5324078291,\"fMaximum\":-1111,\"fMinimum\":-1111,\"fNormFactor\":0,\"fContour\":[],\"fSumw2\":[0,2.39612503444804e-4,1.82393301345671e-4,2.29362420781422e-4,1.7339446122546e-4,1.41112441995103e-4,2.83264235517737e-4,6.41290028120202e-4,0.00124543719314722,0.0019652630238797,1.12559291058011e-4,9.94276932147542e-5,1.16730715471866e-4,8.24966652065646e-5,7.69945832742818e-5,1.6071110181288e-4,3.10521897620203e-4,5.84182872821336e-4,0.00124485063800217,3.17100403643359e-6,2.92452120459759e-6,3.7967404726828e-6,2.89527482211372e-6,2.59521614210383e-6,4.84335917002596e-6,8.9007216109503e-6,1.4578368220009e-5,2.67402736945001e-5,1.03519276188652e-4,9.41778300044833e-5,1.17775139974655e-4,8.52640598907041e-5,7.10394960468836e-5,1.28421455379663e-4,2.30074768071005e-4,3.28941352434176e-4,5.7674535392406e-4,9.67186047930614e-5,7.11940638871273e-5,1.22921356222844e-4,5.1226889763495e-5,2.85521302413294e-5,3.46718532845625e-5,9.32681718289249e-5,1.25504518790381e-4,1.90868423154112e-4,0],\"fOption\":\"\",\"fFunctions\":{\"_typename\":\"TList\",\"name\":\"TList\",\"arr\":[],\"opt\":[]},\"fBufferSize\":0,\"fBuffer\":[],\"fBinStatErrOpt\":0,\"fStatOverflows\":2,\"fArray\":[0,1.03314616026336,1.02397802663263,1.02028630296191,1.01719642156395,1.01767180394371,1.02640298404376,1.01834791639867,1.011892564854,1.00621648688061,1.01037238876491,1.01411166970184,1.01296267407978,1.01519691265545,1.01516516230126,1.01530331026301,1.01455147750979,1.01501703645413,1.00974617465301,1.00630965127605,1.00683097366455,1.00668609884052,1.0060304410923,1.00569749563478,1.00588899306007,1.00621329056433,1.00583432609777,1.0064946150421,1.00670939203634,1.00401767941588,1.00528304672417,1.00439512421213,1.00393432891128,1.00381977864002,1.00394751542079,1.00521017852546,1.0024980816471,-0.021063450073112,-0.00657825147192467,-0.0245120559543172,-0.0051063418082491,-0.0176429438664697,-0.0190390320320765,-0.015334837056644,-0.0216592962958167,-0.00540553375946679,0]},{\"_typename\":\"TLine\",\"fUniqueID\":0,\"fBits\":50331656,\"fLineColor\":632,\"fLineStyle\":1,\"fLineWidth\":1,\"fX1\":0.5,\"fY1\":1,\"fX2\":45.5,\"fY2\":1},{\"_typename\":\"TPaveText\",\"fUniqueID\":0,\"fBits\":50331657,\"fLineColor\":1,\"fLineStyle\":1,\"fLineWidth\":1,\"fFillColor\":0,\"fFillStyle\":0,\"fX1\":20.7717913563083,\"fY1\":1.54739279993545,\"fX2\":25.2282086436917,\"fY2\":1.61875001518056,\"fX1NDC\":0.460387402480199,\"fY1NDC\":0.937914233422926,\"fX2NDC\":0.539612597519801,\"fY2NDC\":0.995000004768372,\"fBorderSize\":0,\"fInit\":1,\"fShadowColor\":1,\"fCornerRadius\":0,\"fOption\":\"blNDC\",\"fName\":\"title\",\"fTextAngle\":0,\"fTextSize\":0,\"fTextAlign\":22,\"fTextColor\":1,\"fTextFont\":42,\"fLabel\":\"\",\"fLongest\":7,\"fMargin\":0.05,\"fLines\":{\"_typename\":\"TList\",\"name\":\"TList\",\"arr\":[{\"_typename\":\"TLatex\",\"fUniqueID\":0,\"fBits\":50331648,\"fName\":\"\",\"fTitle\":\"hPtData\",\"fTextAngle\":0,\"fTextSize\":0,\"fTextAlign\":0,\"fTextColor\":0,\"fTextFont\":0,\"fX\":0,\"fY\":0,\"fLineColor\":1,\"fLineStyle\":1,\"fLineWidth\":2,\"fLimitFactorSize\":3,\"fOriginSize\":0.0485229045152664}],\"opt\":[\"\"]}}],\"opt\":[\"\",\"pe\",\"pe same\",\"pe same\",\"pe same\",\"pe same\",\"same\",\"blNDC\"]},\"fExecs\":{\"_typename\":\"TList\",\"name\":\"TList\",\"arr\":[],\"opt\":[]},\"fName\":\"ratio_pt\",\"fTitle\":\"ratio_pt\",\"fNumPaletteColor\":0,\"fNextPaletteColor\":0}],\"opt\":[\"\",\"\"]},\"fExecs\":{\"_typename\":\"TList\",\"name\":\"TList\",\"arr\":[],\"opt\":[]},\"fName\":\"c_2\",\"fTitle\":\"c_2\",\"fNumPaletteColor\":0,\"fNextPaletteColor\":0}],\"opt\":[\"\",\"\"]},\"fExecs\":null,\"fName\":\"c\",\"fTitle\":\"c\",\"fNumPaletteColor\":0,\"fNextPaletteColor\":0,\"fDISPLAY\":\"$DISPLAY\",\"fDoubleBuffer\":0,\"fRetained\":true,\"fXsizeUser\":0,\"fYsizeUser\":0,\"fXsizeReal\":20,\"fYsizeReal\":10,\"fWindowTopX\":0,\"fWindowTopY\":0,\"fWindowWidth\":0,\"fWindowHeight\":0,\"fCw\":1196,\"fCh\":572,\"fCatt\":{\"_typename\":\"TAttCanvas\",\"fXBetween\":2,\"fYBetween\":2,\"fTitleFromTop\":1.2,\"fXdate\":0.2,\"fYdate\":0.3,\"fAdate\":1},\"kMoveOpaque\":true,\"kResizeOpaque\":true,\"fHighLightColor\":2,\"fBatch\":true,\"kShowEventStatus\":false,\"kAutoExec\":true,\"kMenuBar\":true});\n",
       "       Core.draw(\"root_plot_1\", obj, \"\");\n",
       "     }\n",
       " );\n",
       "</script>\n"
      ],
      "text/plain": [
       "<IPython.core.display.HTML object>"
      ]
     },
     "metadata": {},
     "output_type": "display_data"
    }
   ],
   "source": [
    "# Canvas for mass distribution\n",
    "colorDetector = rt.kBlack\n",
    "colorDressed  = rt.kRed\n",
    "colorPreFSR   = rt.kBlue\n",
    "\n",
    "c.cd(1)\n",
    "\n",
    "pad_mass.cd()\n",
    "pad_mass.SetLogy()\n",
    "pad_mass.SetLogx()\n",
    "pad_mass.SetGridy()\n",
    "pad_mass.SetGridx()\n",
    "\n",
    "hMassData.SetMarkerStyle(20)\n",
    "hMassData.SetLineColor(colorDetector)\n",
    "hMassData.SetMarkerColor(colorDetector)\n",
    "\n",
    "hMassUnfoldedData.SetMarkerStyle(20)\n",
    "hMassUnfoldedData.SetLineColor(colorDressed)\n",
    "hMassUnfoldedData.SetMarkerColor(colorDressed)\n",
    "\n",
    "hMassFSRUnfoldedData.SetMarkerStyle(20)\n",
    "hMassFSRUnfoldedData.SetMarkerColor(colorPreFSR)\n",
    "hMassFSRUnfoldedData.SetLineColor(colorPreFSR)\n",
    "\n",
    "hMassUnfoldedData_.SetMarkerStyle(22)\n",
    "hMassUnfoldedData_.SetMarkerSize(0.5)\n",
    "hMassUnfoldedData_.SetLineColor(rt.kMagenta)\n",
    "hMassUnfoldedData_.SetMarkerColor(rt.kMagenta)\n",
    "\n",
    "hMassUnfoldedMC_closure.SetMarkerStyle(25)\n",
    "hMassUnfoldedMC_closure.SetLineColor(rt.kMagenta)\n",
    "\n",
    "hMassUnfoldedData.GetYaxis().SetTitle(\"Events/ bin\")\n",
    "\n",
    "hMassUnfoldedData.SetStats(rt.kFALSE)\n",
    "hMassUnfoldedData.Draw(\"hist pe\")\n",
    "\n",
    "hMassFSRUnfoldedData.Draw(\"pe same\")\n",
    "hMassUnfoldedData_.Draw(\"pe same\")\n",
    "#hMassUnfoldedMC_closure.Draw(\"pe same\")\n",
    "hMassData.Draw(\"pe same\")\n",
    "\n",
    "hMassUnfoldedData.GetYaxis().SetNdivisions(10)\n",
    "hMassUnfoldedData.GetXaxis().SetNdivisions(520)\n",
    "\n",
    "hMassUnfoldedData.SetMaximum(5e8)\n",
    "hMassUnfoldedData.SetMinimum(1)\n",
    "\n",
    "legend_mass = rt.TLegend(0.7, 0.7, 0.9, 0.9)\n",
    "legend_mass.AddEntry(hMassData, \"Detector  data\", \"ple\")\n",
    "legend_mass.AddEntry(hMassUnfoldedData, \"Det unfolded data\", \"ple\")\n",
    "legend_mass.AddEntry(hMassFSRUnfoldedData, \"Pre-FSR unfolded data\", \"ple\")\n",
    "legend_mass.Draw()\n",
    "\n",
    "c.cd(1)\n",
    "\n",
    "ratio_mass.cd()\n",
    "ratio_mass.SetLogx()\n",
    "#ratio_mass.SetGridx()\n",
    "ratio_mass.SetGridy()\n",
    "\n",
    "ratioMass_detector = hMassData.Clone(\"ratioMass_detector\")\n",
    "ratioMass_dressed = hMassUnfoldedData.Clone(\"ratioMass_dressed\")\n",
    "ratioMass_preFSR = hMassUnfoldedData_.Clone(\"ratioMass_preFSR\")\n",
    "ratioMass_preFSR_twoStep = hMassFSRUnfoldedData.Clone(\"ratioMass_preFSR_twoStep\")\n",
    "ratioMassMC_preFSR = hMassUnfoldedMC_closure.Clone(\"ratioMassMC_preFSR\")\n",
    "ratioMass_detector.Divide(hDYMC_detector)\n",
    "ratioMass_dressed.Divide(hMassMCTruth)\n",
    "ratioMass_preFSR.Divide(hMassUnfoldedMC_)\n",
    "ratioMass_preFSR_twoStep.Divide(hMassMCTruth_preFSR)\n",
    "ratioMassMC_preFSR.Divide(hMassMCTruth)\n",
    "ratioMass_detector.SetStats(rt.kFALSE)\n",
    "ratioMass_detector.Draw(\"pe\")\n",
    "ratioMass_dressed.Draw(\"pe same\")\n",
    "ratioMass_preFSR.Draw(\"pe same\")\n",
    "ratioMassMC_preFSR.Draw(\"pe same\")\n",
    "ratioMass_preFSR_twoStep.Draw(\"pe same\")\n",
    "ratioMass_detector.SetMinimum(0.5)\n",
    "ratioMass_detector.SetMaximum(1.5)\n",
    "\n",
    "line_mass = rt.TLine(15, 1, 1000, 1)\n",
    "line_mass.SetLineColor(rt.kRed)\n",
    "line_mass.Draw(\"same\")\n",
    "\n",
    "ratioMass_detector.GetYaxis().SetTitle(\"Data/ MC\")\n",
    "\n",
    "# Canavs for pt distributions\n",
    "c.cd(2)\n",
    "pad_pt.cd()\n",
    "pad_pt.SetLogy()\n",
    "pad_pt.SetGridy()\n",
    "#pad_pt.SetGridx()\n",
    "\n",
    "hPtUnfoldedData.SetTitle(\"Dilepton p_{T}\")\n",
    "hPtData.SetMarkerStyle(20)\n",
    "hPtData.SetLineColor(colorDetector)\n",
    "hPtData.SetMarkerColor(colorDetector)\n",
    "\n",
    "hPtUnfoldedData.SetMarkerStyle(20)\n",
    "hPtUnfoldedData.SetLineColor(colorDressed)\n",
    "hPtUnfoldedData.SetMarkerColor(colorDressed)\n",
    "\n",
    "hPtFSRUnfoldedData.SetMarkerStyle(20)\n",
    "hPtFSRUnfoldedData.SetMarkerColor(colorPreFSR)\n",
    "hPtFSRUnfoldedData.SetLineColor(colorPreFSR)\n",
    "\n",
    "hPtUnfoldedData_.SetMarkerStyle(22)\n",
    "hPtUnfoldedData_.SetMarkerSize(0.8)\n",
    "hPtUnfoldedData_.SetLineColor(rt.kMagenta)\n",
    "hPtUnfoldedData_.SetMarkerColor(rt.kMagenta)\n",
    "\n",
    "hPtUnfoldedData.SetStats(rt.kFALSE)\n",
    "hPtUnfoldedData.Draw(\"hist pe\")\n",
    "\n",
    "hPtFSRUnfoldedData.Draw(\"pe same\")\n",
    "hPtUnfoldedData_.Draw(\"pe same\")\n",
    "#hPtUnfoldedMC_closure.Draw(\"pe same\")\n",
    "hPtData.Draw(\"pe same\")\n",
    "\n",
    "hPtUnfoldedData.GetYaxis().SetTitle(\"Events/ bin\")\n",
    "\n",
    "hPtUnfoldedData.GetYaxis().SetNdivisions(10)\n",
    "hPtUnfoldedData.GetXaxis().SetNdivisions(520)\n",
    "\n",
    "hPtUnfoldedData.SetMaximum(5e8)\n",
    "hPtUnfoldedData.SetMinimum(1)\n",
    "\n",
    "legend_pt = rt.TLegend(0.7, 0.7, 0.9, 0.9)\n",
    "legend_pt.AddEntry(hPtData, \"Detector  data\", \"ple\")\n",
    "legend_pt.AddEntry(hPtUnfoldedData, \"Det unfolded data\", \"ple\")\n",
    "legend_pt.AddEntry(hPtFSRUnfoldedData, \"Pre-FSR unfolded data\", \"ple\")\n",
    "legend_pt.Draw()\n",
    "\n",
    "c.cd(2)\n",
    "\n",
    "ratio_pt.cd()\n",
    "#ratio_pt.SetLogx()\n",
    "ratio_pt.SetGridx()\n",
    "ratio_pt.SetGridy()\n",
    "\n",
    "ratioPt_detector = hPtData.Clone(\"ratioPt_detector\")\n",
    "ratioPt_dressed = hPtUnfoldedData.Clone(\"ratioPt_dressed\")\n",
    "ratioPt_preFSR = hPtUnfoldedData_.Clone(\"ratioPt_preFSR\")\n",
    "ratioPt_preFSR_twoStep = hPtFSRUnfoldedData.Clone(\"ratioPt_preFSR_twoStep\")\n",
    "ratioPtMC_preFSR = hPtUnfoldedMC_closure.Clone(\"ratioPtMC_preFSR\")\n",
    "ratioPt_detector.Divide(hDYMCPt_detector)\n",
    "ratioPt_dressed.Divide(hPtMCTruth)\n",
    "ratioPt_preFSR.Divide(hPtUnfoldedMC_)\n",
    "ratioPt_preFSR_twoStep.Divide(hPtMCTruth_preFSR)\n",
    "ratioPtMC_preFSR.Divide(hPtMCTruth)\n",
    "ratioPt_detector.SetStats(rt.kFALSE)\n",
    "ratioPt_detector.Draw(\"pe\")\n",
    "ratioPt_dressed.Draw(\"pe same\")\n",
    "ratioPt_preFSR.Draw(\"pe same\")\n",
    "ratioPt_preFSR_twoStep.Draw(\"pe same\")\n",
    "\n",
    "ratioPtMC_preFSR.SetMarkerStyle(25)\n",
    "ratioPtMC_preFSR.Draw(\"pe same\")\n",
    "ratioPt_detector.SetMinimum(0.5)\n",
    "ratioPt_detector.SetMaximum(1.5)\n",
    "\n",
    "line_pt = rt.TLine(0.5, 1, 45.5, 1)\n",
    "line_pt.SetLineColor(rt.kRed)\n",
    "line_pt.Draw(\"same\")\n",
    "\n",
    "ratioMass_detector.GetYaxis().SetTitle(\"Data/ MC\")\n",
    "\n",
    "c.Draw()\n",
    "c.SaveAs(\"Mass_Pt.png\")"
   ]
  },
  {
   "cell_type": "code",
   "execution_count": 24,
   "metadata": {},
   "outputs": [
    {
     "data": {
      "text/plain": [
       "84891.95863272919"
      ]
     },
     "execution_count": 24,
     "metadata": {},
     "output_type": "execute_result"
    }
   ],
   "source": [
    "hMassMCTruth.GetBinContent(1)"
   ]
  },
  {
   "cell_type": "markdown",
   "metadata": {},
   "source": [
    "- Understand how the response matrix handled (Underflow/Overflow, 0 bin...)\n",
    "- Check if the unfolding result of the last mass bin could be improved (Regularisation?) \n",
    "- Input correlation matrix\n",
    "- How to handle systematics within TUfold"
   ]
  },
  {
   "cell_type": "code",
   "execution_count": 25,
   "metadata": {
    "scrolled": true
   },
   "outputs": [
    {
     "name": "stdout",
     "output_type": "stream",
     "text": [
      "ISRUnfold::setMeanMass()   Save mean of dilepton...\n"
     ]
    }
   ],
   "source": [
    "nBins = unfold_det.setMeanMass()"
   ]
  },
  {
   "cell_type": "code",
   "execution_count": 26,
   "metadata": {
    "scrolled": false
   },
   "outputs": [
    {
     "data": {
      "text/plain": [
       "5"
      ]
     },
     "execution_count": 26,
     "metadata": {},
     "output_type": "execute_result"
    },
    {
     "name": "stdout",
     "output_type": "stream",
     "text": [
      "ISRUnfold::setMeanMass()   Save mean of dilepton...\n"
     ]
    }
   ],
   "source": [
    "unfold_oneStep.setMeanMass()"
   ]
  },
  {
   "cell_type": "code",
   "execution_count": 27,
   "metadata": {},
   "outputs": [
    {
     "data": {
      "text/plain": [
       "5"
      ]
     },
     "execution_count": 27,
     "metadata": {},
     "output_type": "execute_result"
    },
    {
     "name": "stdout",
     "output_type": "stream",
     "text": [
      "ISRUnfold::setMeanPt()   Save mean of dilepton momentum...\n"
     ]
    }
   ],
   "source": [
    "unfold_det.setMeanPt()"
   ]
  },
  {
   "cell_type": "code",
   "execution_count": 28,
   "metadata": {
    "scrolled": true
   },
   "outputs": [
    {
     "data": {
      "text/plain": [
       "5"
      ]
     },
     "execution_count": 28,
     "metadata": {},
     "output_type": "execute_result"
    },
    {
     "name": "stdout",
     "output_type": "stream",
     "text": [
      "ISRUnfold::setMeanPt()   Save mean of dilepton momentum...\n"
     ]
    }
   ],
   "source": [
    "unfold_oneStep.setMeanPt()"
   ]
  },
  {
   "cell_type": "code",
   "execution_count": 29,
   "metadata": {},
   "outputs": [
    {
     "data": {
      "text/plain": [
       "5"
      ]
     },
     "execution_count": 29,
     "metadata": {},
     "output_type": "execute_result"
    },
    {
     "name": "stdout",
     "output_type": "stream",
     "text": [
      "ISRUnfold::setMeanPt()   Save mean of dilepton momentum...\n"
     ]
    }
   ],
   "source": [
    "unfold_fsr.setMeanPt()"
   ]
  },
  {
   "cell_type": "code",
   "execution_count": 30,
   "metadata": {},
   "outputs": [
    {
     "data": {
      "text/plain": [
       "5"
      ]
     },
     "execution_count": 30,
     "metadata": {},
     "output_type": "execute_result"
    },
    {
     "name": "stdout",
     "output_type": "stream",
     "text": [
      "ISRUnfold::setMeanMass()   Save mean of dilepton...\n"
     ]
    }
   ],
   "source": [
    "unfold_fsr.setMeanMass()"
   ]
  },
  {
   "cell_type": "code",
   "execution_count": 31,
   "metadata": {},
   "outputs": [
    {
     "data": {
      "text/plain": [
       "5"
      ]
     },
     "execution_count": 31,
     "metadata": {},
     "output_type": "execute_result"
    },
    {
     "name": "stdout",
     "output_type": "stream",
     "text": [
      "ISRUnfold::setMeanPt()   Save mean of dilepton momentum...\n",
      "ISRUnfold::setMeanMass()   Save mean of dilepton...\n"
     ]
    }
   ],
   "source": [
    "unfold_closure.setMeanPt()\n",
    "unfold_closure.setMeanMass()"
   ]
  },
  {
   "cell_type": "code",
   "execution_count": 32,
   "metadata": {},
   "outputs": [],
   "source": [
    "c_PtVsMass = rt.TCanvas(\"PtVsMass\",\"PtVsMass\", 1000, 600)\n",
    "c_PtVsMass.SetGridx()\n",
    "c_PtVsMass.SetGridy()\n",
    "c_PtVsMass.SetLogx()"
   ]
  },
  {
   "cell_type": "code",
   "execution_count": 33,
   "metadata": {},
   "outputs": [],
   "source": [
    "from array import array\n",
    "meanMass, meanPt = array('d'), array('d')\n",
    "meanMassUnf, meanPtUnf = array('d'), array('d')\n",
    "meanMassUnfStatErr, meanPtUnfStatErr = array('d'), array('d')\n",
    "meanMassFSRUnf, meanPtFSRUnf = array('d'), array('d')\n",
    "meanMassFSRUnfStatErr, meanPtFSRUnfStatErr = array('d'), array('d')\n",
    "\n",
    "meanMassFSRUnf_twoStep, meanPtFSRUnf_twoStep = array('d'), array('d')\n",
    "meanMassFSRUnf_twoStepStatErr, meanPtFSRUnf_twoStepStatErr = array('d'), array('d')\n",
    "\n",
    "meanMassFSRUnfMC, meanPtFSRUnfMC = array('d'), array('d')\n",
    "meanMassFSRUnfMCStatErr, meanPtFSRUnfMCStatErr = array('d'), array('d')\n",
    "\n",
    "meanMassFSRMC, meanPtFSRMC = array('d'), array('d')\n",
    "\n",
    "for ibin in range(nBins):\n",
    "    meanMass.append(unfold_det.getDetMeanMass(ibin))\n",
    "    meanPt.append(unfold_det.getDetMeanPt(ibin))\n",
    "    \n",
    "    meanMassUnf.append(unfold_det.getUnfMeanMass(ibin))\n",
    "    meanPtUnf.append(unfold_det.getUnfMeanPt(ibin))\n",
    "    meanMassUnfStatErr.append(unfold_det.getUnfMeanMassError(ibin))\n",
    "    meanPtUnfStatErr.append(unfold_det.getUnfMeanPtError(ibin))\n",
    "    \n",
    "    meanMassFSRUnf.append(unfold_oneStep.getUnfMeanMass(ibin))\n",
    "    meanPtFSRUnf.append(unfold_oneStep.getUnfMeanPt(ibin))\n",
    "    meanMassFSRUnfStatErr.append(unfold_oneStep.getUnfMeanMassError(ibin))\n",
    "    meanPtFSRUnfStatErr.append(unfold_oneStep.getUnfMeanPtError(ibin))\n",
    "    \n",
    "    meanMassFSRUnf_twoStep.append(unfold_fsr.getUnfMeanMass(ibin))\n",
    "    meanPtFSRUnf_twoStep.append(unfold_fsr.getUnfMeanPt(ibin))\n",
    "    meanMassFSRUnf_twoStepStatErr.append(unfold_fsr.getUnfMeanMassError(ibin))\n",
    "    meanPtFSRUnf_twoStepStatErr.append(unfold_fsr.getUnfMeanPtError(ibin))\n",
    "    \n",
    "    meanMassFSRUnfMC.append(unfold_closure.getUnfMeanMass(ibin))\n",
    "    meanPtFSRUnfMC.append(unfold_closure.getUnfMeanPt(ibin))"
   ]
  },
  {
   "cell_type": "code",
   "execution_count": 34,
   "metadata": {},
   "outputs": [
    {
     "name": "stdout",
     "output_type": "stream",
     "text": [
      " FCN=15.4687 FROM MIGRAD    STATUS=CONVERGED      54 CALLS          55 TOTAL\n",
      "                     EDM=1.65318e-07    STRATEGY= 1      ERROR MATRIX ACCURATE \n",
      "  EXT PARAMETER                                   STEP         FIRST   \n",
      "  NO.   NAME      VALUE            ERROR          SIZE      DERIVATIVE \n",
      "   1  p0          -1.63906e+01   4.06673e-01   1.33332e-05  -1.47779e-02\n",
      "   2  p1           7.67506e+00   9.01612e-02   3.65975e-06  -7.29282e-02\n"
     ]
    },
    {
     "data": {
      "text/html": [
       "\n",
       "<div id=\"root_plot_2\"\n",
       "     style=\"width: 996px; height: 572px\">\n",
       "</div>\n",
       "\n",
       "<script>\n",
       " requirejs.config({\n",
       "     paths: {\n",
       "       'JSRootCore' : 'https://root.cern.ch/js/notebook//scripts/JSRootCore',\n",
       "     }\n",
       "   });\n",
       " require(['JSRootCore'],\n",
       "     function(Core) {\n",
       "       var obj = Core.JSONR_unref({\"_typename\":\"TCanvas\",\"fUniqueID\":0,\"fBits\":53673992,\"fLineColor\":1,\"fLineStyle\":1,\"fLineWidth\":1,\"fFillColor\":0,\"fFillStyle\":1001,\"fLeftMargin\":0.1,\"fRightMargin\":0.1,\"fBottomMargin\":0.1,\"fTopMargin\":0.1,\"fXfile\":2,\"fYfile\":2,\"fAfile\":1,\"fXstat\":0.99,\"fYstat\":0.99,\"fAstat\":2,\"fFrameFillColor\":0,\"fFrameLineColor\":1,\"fFrameFillStyle\":1001,\"fFrameLineStyle\":1,\"fFrameLineWidth\":1,\"fFrameBorderSize\":1,\"fFrameBorderMode\":0,\"fX1\":0.749999981373547,\"fY1\":6.87499976716934,\"fX2\":3.25000001862645,\"fY2\":38.1250002328307,\"fXtoAbsPixelk\":-298.799938126754,\"fXtoPixelk\":-298.799938126754,\"fXtoPixel\":398.399994063377,\"fYtoAbsPixelk\":697.840043863106,\"fYtoPixelk\":697.840043863106,\"fYtoPixel\":-18.3039997272491,\"fUtoAbsPixelk\":5e-5,\"fUtoPixelk\":5e-5,\"fUtoPixel\":996,\"fVtoAbsPixelk\":572.00005,\"fVtoPixelk\":572,\"fVtoPixel\":-572,\"fAbsPixeltoXk\":0.749999981373547,\"fPixeltoXk\":0.749999981373547,\"fPixeltoX\":0.00251004019804508,\"fAbsPixeltoYk\":38.1250002328307,\"fPixeltoYk\":6.87499976716934,\"fPixeltoY\":-0.0546328679469603,\"fXlowNDC\":0,\"fYlowNDC\":0,\"fXUpNDC\":0,\"fYUpNDC\":0,\"fWNDC\":1,\"fHNDC\":1,\"fAbsXlowNDC\":0,\"fAbsYlowNDC\":0,\"fAbsWNDC\":1,\"fAbsHNDC\":1,\"fUxmin\":1,\"fUymin\":10,\"fUxmax\":3,\"fUymax\":35,\"fTheta\":30,\"fPhi\":30,\"fAspectRatio\":0,\"fNumber\":0,\"fTickx\":0,\"fTicky\":0,\"fLogx\":1,\"fLogy\":0,\"fLogz\":0,\"fPadPaint\":0,\"fCrosshair\":0,\"fCrosshairPos\":0,\"fBorderSize\":2,\"fBorderMode\":0,\"fModified\":false,\"fGridx\":true,\"fGridy\":true,\"fAbsCoord\":false,\"fEditable\":true,\"fFixedAspectRatio\":false,\"fPrimitives\":{\"_typename\":\"TList\",\"name\":\"TList\",\"arr\":[{\"_typename\":\"TFrame\",\"fUniqueID\":0,\"fBits\":50331656,\"fLineColor\":1,\"fLineStyle\":1,\"fLineWidth\":1,\"fFillColor\":0,\"fFillStyle\":1001,\"fX1\":1,\"fY1\":10,\"fX2\":3,\"fY2\":35,\"fBorderSize\":1,\"fBorderMode\":0},{\"_typename\":\"TGraph\",\"fUniqueID\":0,\"fBits\":50332680,\"fName\":\"Graph\",\"fTitle\":\"Dilepton p_{T} vs. Mass\",\"fLineColor\":1,\"fLineStyle\":1,\"fLineWidth\":1,\"fFillColor\":0,\"fFillStyle\":1000,\"fMarkerColor\":1,\"fMarkerStyle\":20,\"fMarkerSize\":1,\"fNpoints\":5,\"fX\":[57.2949241951951,74.704348396626,90.0744928972145,119.207514355594,242.704388949137],\"fY\":[18.6709946518139,19.0705766612807,19.5247740228375,21.6088005595386,25.9824155644893],\"fFunctions\":{\"_typename\":\"TList\",\"name\":\"TList\",\"arr\":[],\"opt\":[]},\"fHistogram\":{\"_typename\":\"TH1F\",\"fUniqueID\":0,\"fBits\":50332160,\"fName\":\"Graph\",\"fTitle\":\"Dilepton p_{T} vs. Mass\",\"fLineColor\":602,\"fLineStyle\":1,\"fLineWidth\":1,\"fFillColor\":0,\"fFillStyle\":1001,\"fMarkerColor\":1,\"fMarkerStyle\":1,\"fMarkerSize\":1,\"fNcells\":102,\"fXaxis\":{\"_typename\":\"TAxis\",\"fUniqueID\":0,\"fBits\":50331656,\"fName\":\"xaxis\",\"fTitle\":\"\",\"fNdivisions\":510,\"fAxisColor\":1,\"fLabelColor\":1,\"fLabelFont\":42,\"fLabelOffset\":0.005,\"fLabelSize\":0.035,\"fTickLength\":0.03,\"fTitleOffset\":1,\"fTitleSize\":0.035,\"fTitleColor\":1,\"fTitleFont\":42,\"fNbins\":100,\"fXmin\":10,\"fXmax\":1000,\"fXbins\":[],\"fFirst\":0,\"fLast\":0,\"fBits2\":0,\"fTimeDisplay\":false,\"fTimeFormat\":\"\",\"fLabels\":null,\"fModLabs\":null},\"fYaxis\":{\"_typename\":\"TAxis\",\"fUniqueID\":0,\"fBits\":50331656,\"fName\":\"yaxis\",\"fTitle\":\"\",\"fNdivisions\":510,\"fAxisColor\":1,\"fLabelColor\":1,\"fLabelFont\":42,\"fLabelOffset\":0.005,\"fLabelSize\":0.035,\"fTickLength\":0.03,\"fTitleOffset\":0,\"fTitleSize\":0.035,\"fTitleColor\":1,\"fTitleFont\":42,\"fNbins\":1,\"fXmin\":17.9398525605464,\"fXmax\":26.7135576557568,\"fXbins\":[],\"fFirst\":0,\"fLast\":0,\"fBits2\":0,\"fTimeDisplay\":false,\"fTimeFormat\":\"\",\"fLabels\":null,\"fModLabs\":null},\"fZaxis\":{\"_typename\":\"TAxis\",\"fUniqueID\":0,\"fBits\":50331648,\"fName\":\"zaxis\",\"fTitle\":\"\",\"fNdivisions\":510,\"fAxisColor\":1,\"fLabelColor\":1,\"fLabelFont\":42,\"fLabelOffset\":0.005,\"fLabelSize\":0.035,\"fTickLength\":0.03,\"fTitleOffset\":1,\"fTitleSize\":0.035,\"fTitleColor\":1,\"fTitleFont\":42,\"fNbins\":1,\"fXmin\":0,\"fXmax\":1,\"fXbins\":[],\"fFirst\":0,\"fLast\":0,\"fBits2\":0,\"fTimeDisplay\":false,\"fTimeFormat\":\"\",\"fLabels\":null,\"fModLabs\":null},\"fBarOffset\":0,\"fBarWidth\":1000,\"fEntries\":0,\"fTsumw\":0,\"fTsumw2\":0,\"fTsumwx\":0,\"fTsumwx2\":0,\"fMaximum\":35,\"fMinimum\":10,\"fNormFactor\":0,\"fContour\":[],\"fSumw2\":[],\"fOption\":\"\",\"fFunctions\":{\"_typename\":\"TList\",\"name\":\"TList\",\"arr\":[],\"opt\":[]},\"fBufferSize\":0,\"fBuffer\":[],\"fBinStatErrOpt\":0,\"fStatOverflows\":2,\"fArray\":[0,0,0,0,0,0,0,0,0,0,0,0,0,0,0,0,0,0,0,0,0,0,0,0,0,0,0,0,0,0,0,0,0,0,0,0,0,0,0,0,0,0,0,0,0,0,0,0,0,0,0,0,0,0,0,0,0,0,0,0,0,0,0,0,0,0,0,0,0,0,0,0,0,0,0,0,0,0,0,0,0,0,0,0,0,0,0,0,0,0,0,0,0,0,0,0,0,0,0,0,0,0]},\"fMinimum\":-1111,\"fMaximum\":-1111},{\"_typename\":\"TGraphErrors\",\"fUniqueID\":0,\"fBits\":50332680,\"fName\":\"Graph\",\"fTitle\":\"Graph\",\"fLineColor\":632,\"fLineStyle\":1,\"fLineWidth\":1,\"fFillColor\":0,\"fFillStyle\":1000,\"fMarkerColor\":632,\"fMarkerStyle\":20,\"fMarkerSize\":1,\"fNpoints\":5,\"fX\":[57.1338003669826,74.0975046964285,90.9403421452728,118.129019262016,242.775824543669],\"fY\":[18.6129876407351,19.7777604167559,20.0624626524109,22.020763202811,26.1462633781062],\"fFunctions\":{\"_typename\":\"TList\",\"name\":\"TList\",\"arr\":[],\"opt\":[]},\"fHistogram\":{\"_typename\":\"TH1F\",\"fUniqueID\":0,\"fBits\":50332160,\"fName\":\"Graph\",\"fTitle\":\"Graph\",\"fLineColor\":602,\"fLineStyle\":1,\"fLineWidth\":1,\"fFillColor\":0,\"fFillStyle\":1001,\"fMarkerColor\":1,\"fMarkerStyle\":1,\"fMarkerSize\":1,\"fNcells\":102,\"fXaxis\":{\"_typename\":\"TAxis\",\"fUniqueID\":0,\"fBits\":50331648,\"fName\":\"xaxis\",\"fTitle\":\"\",\"fNdivisions\":510,\"fAxisColor\":1,\"fLabelColor\":1,\"fLabelFont\":42,\"fLabelOffset\":0.005,\"fLabelSize\":0.035,\"fTickLength\":0.03,\"fTitleOffset\":1,\"fTitleSize\":0.035,\"fTitleColor\":1,\"fTitleFont\":42,\"fNbins\":100,\"fXmin\":38.5163763816661,\"fXmax\":261.727235000119,\"fXbins\":[],\"fFirst\":0,\"fLast\":0,\"fBits2\":0,\"fTimeDisplay\":false,\"fTimeFormat\":\"\",\"fLabels\":null,\"fModLabs\":null},\"fYaxis\":{\"_typename\":\"TAxis\",\"fUniqueID\":0,\"fBits\":50331648,\"fName\":\"yaxis\",\"fTitle\":\"\",\"fNdivisions\":510,\"fAxisColor\":1,\"fLabelColor\":1,\"fLabelFont\":42,\"fLabelOffset\":0.005,\"fLabelSize\":0.035,\"fTickLength\":0.03,\"fTitleOffset\":0,\"fTitleSize\":0.035,\"fTitleColor\":1,\"fTitleFont\":42,\"fNbins\":1,\"fXmin\":17.7643948215338,\"fXmax\":27.2402986011736,\"fXbins\":[],\"fFirst\":0,\"fLast\":0,\"fBits2\":0,\"fTimeDisplay\":false,\"fTimeFormat\":\"\",\"fLabels\":null,\"fModLabs\":null},\"fZaxis\":{\"_typename\":\"TAxis\",\"fUniqueID\":0,\"fBits\":50331648,\"fName\":\"zaxis\",\"fTitle\":\"\",\"fNdivisions\":510,\"fAxisColor\":1,\"fLabelColor\":1,\"fLabelFont\":42,\"fLabelOffset\":0.005,\"fLabelSize\":0.035,\"fTickLength\":0.03,\"fTitleOffset\":1,\"fTitleSize\":0.035,\"fTitleColor\":1,\"fTitleFont\":42,\"fNbins\":1,\"fXmin\":0,\"fXmax\":1,\"fXbins\":[],\"fFirst\":0,\"fLast\":0,\"fBits2\":0,\"fTimeDisplay\":false,\"fTimeFormat\":\"\",\"fLabels\":null,\"fModLabs\":null},\"fBarOffset\":0,\"fBarWidth\":1000,\"fEntries\":0,\"fTsumw\":0,\"fTsumw2\":0,\"fTsumwx\":0,\"fTsumwx2\":0,\"fMaximum\":27.2402986011736,\"fMinimum\":17.7643948215338,\"fNormFactor\":0,\"fContour\":[],\"fSumw2\":[],\"fOption\":\"\",\"fFunctions\":{\"_typename\":\"TList\",\"name\":\"TList\",\"arr\":[],\"opt\":[]},\"fBufferSize\":0,\"fBuffer\":[],\"fBinStatErrOpt\":0,\"fStatOverflows\":2,\"fArray\":[0,0,0,0,0,0,0,0,0,0,0,0,0,0,0,0,0,0,0,0,0,0,0,0,0,0,0,0,0,0,0,0,0,0,0,0,0,0,0,0,0,0,0,0,0,0,0,0,0,0,0,0,0,0,0,0,0,0,0,0,0,0,0,0,0,0,0,0,0,0,0,0,0,0,0,0,0,0,0,0,0,0,0,0,0,0,0,0,0,0,0,0,0,0,0,0,0,0,0,0,0,0]},\"fMinimum\":-1111,\"fMaximum\":-1111,\"fEX\":[0.0165191004454388,0.014639242701769,0.00217410157519889,0.061574780424238,0.350505571578344],\"fEY\":[0.0589341708979585,0.0380084024812565,0.00715616428224885,0.0438201835757721,0.304376574764097]},{\"_typename\":\"TGraphErrors\",\"fUniqueID\":0,\"fBits\":50332680,\"fName\":\"Graph\",\"fTitle\":\"Graph\",\"fLineColor\":600,\"fLineStyle\":1,\"fLineWidth\":1,\"fFillColor\":0,\"fFillStyle\":1000,\"fMarkerColor\":600,\"fMarkerStyle\":20,\"fMarkerSize\":1,\"fNpoints\":5,\"fX\":[56.3755148778829,73.739964678382,91.1470700464469,117.258001325583,241.777626631053],\"fY\":[14.4336993840659,16.6178458814508,18.2456599233073,20.1458814242379,24.7256619010173],\"fFunctions\":{\"_typename\":\"TList\",\"name\":\"TList\",\"arr\":[{\"_typename\":\"TF1\",\"fUniqueID\":0,\"fBits\":50333192,\"fName\":\"f_lepton\",\"fTitle\":\"[0]+[1]*log(x)\",\"fLineColor\":600,\"fLineStyle\":2,\"fLineWidth\":1,\"fFillColor\":19,\"fFillStyle\":0,\"fMarkerColor\":1,\"fMarkerStyle\":1,\"fMarkerSize\":1,\"fXmin\":10,\"fXmax\":900,\"fNpar\":2,\"fNdim\":1,\"fNpx\":100,\"fType\":0,\"fNpfits\":5,\"fNDF\":3,\"fChisquare\":15.4687472205261,\"fMinimum\":-1111,\"fMaximum\":-1111,\"fParErrors\":[0.406673283453639,0.0901611536969523],\"fParMin\":[0,0],\"fParMax\":[0,0],\"fSave\":[1.2818236280609,6.16758703997913,9.12919271992186,11.2608686716428,12.9273611650034,14.2957699786142,15.4567233433051,16.4649208781568,17.3559268194421,18.1541704832299,18.8771584336404,19.5378658804508,20.1461770643232,20.709795217884,21.234840503227,21.7262561172377,22.1880919855281,22.6237078163976,23.0359215477095,23.4271199133333,23.7993421675836,24.154344426547,24.4936497737134,24.8185877499114,25.130325817121,25.4298946774571,25.7182088334439,25.9960834240881,26.2642481180341,26.5233586603071,26.7740065326873,27.016727085853,27.2520064245284,27.4802872682832,27.7019739655928,27.9174368038426,28.1270157306783,28.3310235806178,28.5297488838138,28.7234583202652,28.9123988718634,29.0967997158462,29.2768738960736,29.4528198026932,29.624822485968,29.7930548260813,29.95767857746,30.1188453034275,30.2766972147254,30.4313679235284,30.5829831229708,30.7316612008452,30.8775137949798,31.0206462968208,31.1611583089118,31.2991440612431,31.4346927908305,31.5678890883524,31.6988132152186,31.827541394045,31.9541460751687,32.0786961815344,32.2012573340276,32.3218920590957,32.440659980304,32.557617995295,32.6728204394648,32.7863192375373,32.898164044092,33.0084023740001,33.1170797236237,33.2242396835543,33.3299240435884,33.4341728905729,33.5370246996945,33.6385164197322,33.7386835527468,33.8375602286366,33.9351792749512,34.0315722823215,34.1267696658311,34.220800722628,34.3136936860506,34.4054757765155,34.4961732493998,34.5858114401267,34.674414806648,34.7620069695031,34.8486107496172,34.9342482039911,35.0189406594212,35.1027087443797,35.1855724191738,35.2675510044937,35.3486632084521,35.4289271522106,35.5083603942784,35.586979953568,35.6648023312807,35.7418435316948,35.8181190819194,10,900],\"fNormalized\":false,\"fNormIntegral\":0,\"fFormula\":{\"_typename\":\"TFormula\",\"fUniqueID\":0,\"fBits\":50332672,\"fName\":\"f_lepton\",\"fTitle\":\"[0]+[1]*log(x)\",\"fClingParameters\":[-16.3906480774937,7.67505694331371],\"fAllParametersSetted\":true,\"fParams\":[{\"$pair\":\"pair<TString,int,TFormulaParamOrder>\",\"first\":\"p0\",\"second\":0},{\"$pair\":\"pair<TString,int,TFormulaParamOrder>\",\"first\":\"p1\",\"second\":1}],\"fFormula\":\"[p0]+[p1]*log(x)\",\"fNdim\":1,\"fLinearParts\":[],\"fVectorized\":false},\"fParams\":null,\"fComposition_ptr\":null}],\"opt\":[\"\"]},\"fHistogram\":{\"_typename\":\"TH1F\",\"fUniqueID\":0,\"fBits\":50332160,\"fName\":\"Graph\",\"fTitle\":\"Graph\",\"fLineColor\":602,\"fLineStyle\":1,\"fLineWidth\":1,\"fFillColor\":0,\"fFillStyle\":1001,\"fMarkerColor\":1,\"fMarkerStyle\":1,\"fMarkerSize\":1,\"fNcells\":102,\"fXaxis\":{\"_typename\":\"TAxis\",\"fUniqueID\":0,\"fBits\":50331648,\"fName\":\"xaxis\",\"fTitle\":\"\",\"fNdivisions\":510,\"fAxisColor\":1,\"fLabelColor\":1,\"fLabelFont\":42,\"fLabelOffset\":0.005,\"fLabelSize\":0.035,\"fTickLength\":0.03,\"fTitleOffset\":1,\"fTitleSize\":0.035,\"fTitleColor\":1,\"fTitleFont\":42,\"fNbins\":100,\"fXmin\":37.777775282992,\"fXmax\":260.713292708177,\"fXbins\":[],\"fFirst\":0,\"fLast\":0,\"fBits2\":0,\"fTimeDisplay\":false,\"fTimeFormat\":\"\",\"fLabels\":null,\"fModLabs\":null},\"fYaxis\":{\"_typename\":\"TAxis\",\"fUniqueID\":0,\"fBits\":50331648,\"fName\":\"yaxis\",\"fTitle\":\"\",\"fNdivisions\":510,\"fAxisColor\":1,\"fLabelColor\":1,\"fLabelFont\":42,\"fLabelOffset\":0.005,\"fLabelSize\":0.035,\"fTickLength\":0.03,\"fTitleOffset\":0,\"fTitleSize\":0.035,\"fTitleColor\":1,\"fTitleFont\":42,\"fNbins\":1,\"fXmin\":13.3057102877149,\"fXmax\":26.0944526629835,\"fXbins\":[],\"fFirst\":0,\"fLast\":0,\"fBits2\":0,\"fTimeDisplay\":false,\"fTimeFormat\":\"\",\"fLabels\":null,\"fModLabs\":null},\"fZaxis\":{\"_typename\":\"TAxis\",\"fUniqueID\":0,\"fBits\":50331648,\"fName\":\"zaxis\",\"fTitle\":\"\",\"fNdivisions\":510,\"fAxisColor\":1,\"fLabelColor\":1,\"fLabelFont\":42,\"fLabelOffset\":0.005,\"fLabelSize\":0.035,\"fTickLength\":0.03,\"fTitleOffset\":1,\"fTitleSize\":0.035,\"fTitleColor\":1,\"fTitleFont\":42,\"fNbins\":1,\"fXmin\":0,\"fXmax\":1,\"fXbins\":[],\"fFirst\":0,\"fLast\":0,\"fBits2\":0,\"fTimeDisplay\":false,\"fTimeFormat\":\"\",\"fLabels\":null,\"fModLabs\":null},\"fBarOffset\":0,\"fBarWidth\":1000,\"fEntries\":0,\"fTsumw\":0,\"fTsumw2\":0,\"fTsumwx\":0,\"fTsumwx2\":0,\"fMaximum\":26.0944526629835,\"fMinimum\":13.3057102877149,\"fNormFactor\":0,\"fContour\":[],\"fSumw2\":[],\"fOption\":\"\",\"fFunctions\":{\"_typename\":\"TList\",\"name\":\"TList\",\"arr\":[],\"opt\":[]},\"fBufferSize\":0,\"fBuffer\":[],\"fBinStatErrOpt\":0,\"fStatOverflows\":2,\"fArray\":[0,0,0,0,0,0,0,0,0,0,0,0,0,0,0,0,0,0,0,0,0,0,0,0,0,0,0,0,0,0,0,0,0,0,0,0,0,0,0,0,0,0,0,0,0,0,0,0,0,0,0,0,0,0,0,0,0,0,0,0,0,0,0,0,0,0,0,0,0,0,0,0,0,0,0,0,0,0,0,0,0,0,0,0,0,0,0,0,0,0,0,0,0,0,0,0,0,0,0,0,0,0]},\"fMinimum\":-1111,\"fMaximum\":-1111,\"fEX\":[0.0197798094588621,0.0218674677971568,0.00222855551228366,0.0626066674475548,0.35770629169155],\"fEY\":[0.0622605650785909,0.0499767011203215,0.00692134472960364,0.0420796265242496,0.303062230693815]},{\"_typename\":\"TLegend\",\"fUniqueID\":0,\"fBits\":50331656,\"fLineColor\":1,\"fLineStyle\":1,\"fLineWidth\":1,\"fFillColor\":0,\"fFillStyle\":1001,\"fX1\":2.45000000670552,\"fY1\":13.1249998603016,\"fX2\":2.9500000141561,\"fY2\":19.3749999534339,\"fX1NDC\":0.68,\"fY1NDC\":0.2,\"fX2NDC\":0.88,\"fY2NDC\":0.4,\"fBorderSize\":1,\"fInit\":1,\"fShadowColor\":1,\"fCornerRadius\":0,\"fOption\":\"brNDC\",\"fName\":\"TPave\",\"fTextAngle\":0,\"fTextSize\":0,\"fTextAlign\":12,\"fTextColor\":1,\"fTextFont\":42,\"fPrimitives\":{\"_typename\":\"TList\",\"name\":\"TList\",\"arr\":[{\"_typename\":\"TLegendEntry\",\"fUniqueID\":0,\"fBits\":50331656,\"fTextAngle\":0,\"fTextSize\":0,\"fTextAlign\":0,\"fTextColor\":0,\"fTextFont\":42,\"fLineColor\":1,\"fLineStyle\":1,\"fLineWidth\":1,\"fFillColor\":0,\"fFillStyle\":0,\"fMarkerColor\":1,\"fMarkerStyle\":20,\"fMarkerSize\":1,\"fObject\":{\"$ref\":3},\"fLabel\":\"Detector  data 2016\",\"fOption\":\"ple\"},{\"_typename\":\"TLegendEntry\",\"fUniqueID\":0,\"fBits\":50331656,\"fTextAngle\":0,\"fTextSize\":0,\"fTextAlign\":0,\"fTextColor\":0,\"fTextFont\":42,\"fLineColor\":632,\"fLineStyle\":1,\"fLineWidth\":1,\"fFillColor\":0,\"fFillStyle\":0,\"fMarkerColor\":632,\"fMarkerStyle\":20,\"fMarkerSize\":1,\"fObject\":{\"$ref\":10},\"fLabel\":\"Det unfolded data\",\"fOption\":\"ple\"},{\"_typename\":\"TLegendEntry\",\"fUniqueID\":0,\"fBits\":50331656,\"fTextAngle\":0,\"fTextSize\":0,\"fTextAlign\":0,\"fTextColor\":0,\"fTextFont\":42,\"fLineColor\":600,\"fLineStyle\":1,\"fLineWidth\":1,\"fFillColor\":0,\"fFillStyle\":0,\"fMarkerColor\":600,\"fMarkerStyle\":20,\"fMarkerSize\":1,\"fObject\":{\"$ref\":17},\"fLabel\":\"Pre-FSR unfolded data\",\"fOption\":\"ple\"}],\"opt\":[\"ple\",\"ple\",\"ple\"]},\"fEntrySeparation\":0.1,\"fMargin\":0.25,\"fNColumns\":1,\"fColumnSeparation\":0},{\"_typename\":\"TF1\",\"fUniqueID\":0,\"fBits\":50331656,\"fName\":\"f_lepton\",\"fTitle\":\"[0]+[1]*log(x)\",\"fLineColor\":600,\"fLineStyle\":2,\"fLineWidth\":1,\"fFillColor\":19,\"fFillStyle\":0,\"fMarkerColor\":1,\"fMarkerStyle\":1,\"fMarkerSize\":1,\"fXmin\":10,\"fXmax\":900,\"fNpar\":2,\"fNdim\":1,\"fNpx\":100,\"fType\":0,\"fNpfits\":5,\"fNDF\":3,\"fChisquare\":15.4687472205261,\"fMinimum\":-1111,\"fMaximum\":-1111,\"fParErrors\":[0.406673283453639,0.0901611536969523],\"fParMin\":[0,0],\"fParMax\":[0,0],\"fSave\":[],\"fNormalized\":false,\"fNormIntegral\":0,\"fFormula\":{\"_typename\":\"TFormula\",\"fUniqueID\":0,\"fBits\":50332672,\"fName\":\"f_lepton\",\"fTitle\":\"[0]+[1]*log(x)\",\"fClingParameters\":[-16.3906480774937,7.67505694331371],\"fAllParametersSetted\":true,\"fParams\":[{\"$pair\":\"pair<TString,int,TFormulaParamOrder>\",\"first\":\"p0\",\"second\":0},{\"$pair\":\"pair<TString,int,TFormulaParamOrder>\",\"first\":\"p1\",\"second\":1}],\"fFormula\":\"[p0]+[p1]*log(x)\",\"fNdim\":1,\"fLinearParts\":[],\"fVectorized\":false},\"fParams\":null,\"fComposition_ptr\":null},{\"_typename\":\"TPaveText\",\"fUniqueID\":0,\"fBits\":50331657,\"fLineColor\":1,\"fLineStyle\":1,\"fLineWidth\":1,\"fFillColor\":0,\"fFillStyle\":0,\"fX1\":1.62233935180214,\"fY1\":35.4774916011326,\"fX2\":2.37766064819786,\"fY2\":37.968750379514,\"fX1NDC\":0.348935742971888,\"fY1NDC\":0.915279725048092,\"fX2NDC\":0.651064257028112,\"fY2NDC\":0.995000004768372,\"fBorderSize\":0,\"fInit\":1,\"fShadowColor\":1,\"fCornerRadius\":0,\"fOption\":\"blNDC\",\"fName\":\"title\",\"fTextAngle\":0,\"fTextSize\":0,\"fTextAlign\":22,\"fTextColor\":1,\"fTextFont\":42,\"fLabel\":\"\",\"fLongest\":23,\"fMargin\":0.05,\"fLines\":{\"_typename\":\"TList\",\"name\":\"TList\",\"arr\":[{\"_typename\":\"TLatex\",\"fUniqueID\":0,\"fBits\":50331648,\"fName\":\"\",\"fTitle\":\"Dilepton p_{T} vs. Mass\",\"fTextAngle\":0,\"fTextSize\":0,\"fTextAlign\":0,\"fTextColor\":0,\"fTextFont\":0,\"fX\":0,\"fY\":0,\"fLineColor\":1,\"fLineStyle\":1,\"fLineWidth\":2,\"fLimitFactorSize\":3,\"fOriginSize\":0.0677622407674789}],\"opt\":[\"\"]}}],\"opt\":[\"\",\"ap\",\"p \",\"p \",\"\",\"same\",\"blNDC\"]},\"fExecs\":null,\"fName\":\"PtVsMass\",\"fTitle\":\"PtVsMass\",\"fNumPaletteColor\":0,\"fNextPaletteColor\":0,\"fDISPLAY\":\"$DISPLAY\",\"fDoubleBuffer\":0,\"fRetained\":true,\"fXsizeUser\":0,\"fYsizeUser\":0,\"fXsizeReal\":20,\"fYsizeReal\":12,\"fWindowTopX\":0,\"fWindowTopY\":0,\"fWindowWidth\":0,\"fWindowHeight\":0,\"fCw\":996,\"fCh\":572,\"fCatt\":{\"_typename\":\"TAttCanvas\",\"fXBetween\":2,\"fYBetween\":2,\"fTitleFromTop\":1.2,\"fXdate\":0.2,\"fYdate\":0.3,\"fAdate\":1},\"kMoveOpaque\":true,\"kResizeOpaque\":true,\"fHighLightColor\":2,\"fBatch\":true,\"kShowEventStatus\":false,\"kAutoExec\":true,\"kMenuBar\":true});\n",
       "       Core.draw(\"root_plot_2\", obj, \"\");\n",
       "     }\n",
       " );\n",
       "</script>\n"
      ],
      "text/plain": [
       "<IPython.core.display.HTML object>"
      ]
     },
     "metadata": {},
     "output_type": "display_data"
    }
   ],
   "source": [
    "gr = rt.TGraph(nBins, meanMass, meanPt)\n",
    "grUnf = rt.TGraphErrors(nBins, meanMassUnf, meanPtUnf, meanMassUnfStatErr, meanPtUnfStatErr)\n",
    "grFSRUnf = rt.TGraphErrors(nBins, meanMassFSRUnf, meanPtFSRUnf, meanMassFSRUnfStatErr, meanPtFSRUnfStatErr)\n",
    "grMC = rt.TGraph(nBins, meanMassFSRUnfMC, meanPtFSRUnfMC)\n",
    "grFSRUnf_twoStep = rt.TGraphErrors(nBins, meanMassFSRUnf_twoStep, meanPtFSRUnf_twoStep, meanMassFSRUnf_twoStepStatErr, meanPtFSRUnf_twoStepStatErr)\n",
    "\n",
    "gr.SetTitle(\"Dilepton p_{T} vs. Mass\")\n",
    "gr.Draw(\"AP\")\n",
    "grUnf.Draw(\"P SAME\")\n",
    "grFSRUnf.Draw(\"P SAME\")\n",
    "#grMC.Draw(\"P SAME\")\n",
    "#grFSRUnf_twoStep.Draw(\"P SAME\")\n",
    "#grFSRUnf_twoStep.SetMarkerStyle(25)\n",
    "\n",
    "gr.SetMarkerStyle(20)\n",
    "gr.SetMarkerSize(1)\n",
    "grUnf.SetMarkerStyle(20)\n",
    "grUnf.SetMarkerSize(1)\n",
    "grUnf.SetLineColor(rt.kRed)\n",
    "grUnf.SetMarkerColor(rt.kRed)\n",
    "grFSRUnf.SetMarkerStyle(20)\n",
    "grFSRUnf.SetMarkerSize(1)\n",
    "grFSRUnf.SetLineColor(rt.kBlue)\n",
    "grFSRUnf.SetMarkerColor(rt.kBlue)\n",
    "grMC.SetMarkerStyle(24)\n",
    "grMC.SetMarkerSize(1)\n",
    "grMC.SetLineColor(rt.kBlue)\n",
    "grMC.SetMarkerColor(rt.kBlue)\n",
    "gr.GetYaxis().SetRangeUser(10., 35.)\n",
    "gr.GetXaxis().SetLimits(10., 1000.)\n",
    "\n",
    "legend = rt.TLegend(0.68, 0.2, 0.88, 0.4)\n",
    "legend.AddEntry(gr, \"Detector  data \" + year, \"ple\")\n",
    "legend.AddEntry(grUnf, \"Det unfolded data\", \"ple\")\n",
    "legend.AddEntry(grFSRUnf, \"Pre-FSR unfolded data\", \"ple\")\n",
    "legend.Draw()\n",
    "\n",
    "fitLinear = rt.TF1(\"f_lepton\", \"[0]+[1]*log(x)\", 10., 900.);\n",
    "fitLinear.SetLineStyle(2)\n",
    "fitLinear.SetLineColor(rt.kBlue)\n",
    "fitLinear.SetLineWidth(1)\n",
    "grFSRUnf.Fit(fitLinear, \"R0\")\n",
    "fitLinear.Draw(\"same\")\n",
    "c_PtVsMass.Draw()"
   ]
  },
  {
   "cell_type": "code",
   "execution_count": 35,
   "metadata": {},
   "outputs": [
    {
     "name": "stderr",
     "output_type": "stream",
     "text": [
      "Info in <TCanvas::Print>: pdf file Electron_PtVsMass_2016.pdf has been created\n"
     ]
    }
   ],
   "source": [
    "c_PtVsMass.SaveAs(\"Electron_PtVsMass_\"+year+\".pdf\")"
   ]
  },
  {
   "cell_type": "code",
   "execution_count": 36,
   "metadata": {},
   "outputs": [
    {
     "data": {
      "text/plain": [
       "3"
      ]
     },
     "execution_count": 36,
     "metadata": {},
     "output_type": "execute_result"
    }
   ],
   "source": [
    "fitLinear.GetNDF()"
   ]
  },
  {
   "cell_type": "markdown",
   "metadata": {},
   "source": [
    "## Break down the current mass bin [81:101] into  [81:91] and [91:101]"
   ]
  }
 ],
 "metadata": {
  "kernelspec": {
   "display_name": "Python 3",
   "language": "python",
   "name": "python3"
  },
  "language_info": {
   "codemirror_mode": {
    "name": "ipython",
    "version": 3
   },
   "file_extension": ".py",
   "mimetype": "text/x-python",
   "name": "python",
   "nbconvert_exporter": "python",
   "pygments_lexer": "ipython3",
   "version": "3.6.8"
  }
 },
 "nbformat": 4,
 "nbformat_minor": 4
}
