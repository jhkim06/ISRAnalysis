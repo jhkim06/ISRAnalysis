{
 "cells": [
  {
   "cell_type": "code",
   "execution_count": 1,
   "metadata": {},
   "outputs": [
    {
     "name": "stdout",
     "output_type": "stream",
     "text": [
      "Welcome to JupyROOT 6.14/04\n"
     ]
    }
   ],
   "source": [
    "import ROOT as rt\n",
    "import os\n",
    "import sys"
   ]
  },
  {
   "cell_type": "code",
   "execution_count": 2,
   "metadata": {},
   "outputs": [],
   "source": [
    "def setUnfoldBkgs(unfold_class, hfile_path, isSys, syst_name, nthSys, nTotSys, year):\n",
    "    \n",
    "    bkgList = [\"DYJetsToTauTau\", \"DYJets10to50ToTauTau\", \"TTLL_powheg\", \"WW_pythia\", \"WZ_pythia\", \"ZZ_pythia\", \\\n",
    "               \"SingleTop_tW_top_Incl\", \"SingleTop_tW_antitop_Incl\", \"WJets_MG\"]\n",
    "    \n",
    "    for bkg in bkgList:\n",
    "        unfold_class.subBkgs(\"Pt\", hfile_path, bkg, isSys, syst_name, nTotSys, nthSys, \"Detector\")\n",
    "        unfold_class.subBkgs(\"Mass\", hfile_path, bkg, isSys, syst_name, nTotSys, nthSys, \"Detector\")"
   ]
  },
  {
   "cell_type": "code",
   "execution_count": 3,
   "metadata": {},
   "outputs": [
    {
     "name": "stdout",
     "output_type": "stream",
     "text": [
      "{'matrix': 'inFiles/2016/muon/DY_new.root', 'fsr_matrix': 'inFiles/2016/muon/DY_FSR_new.root', 'hist': 'inFiles/2016/muon/unfold_input_Muon_new.root'}\n"
     ]
    }
   ],
   "source": [
    "year    = '2016'\n",
    "channel = 'muon'\n",
    "doSys   = True\n",
    "\n",
    "# N_rec == N_gen or N_rec == 2 * N_gen\n",
    "# Detector_Dressed_DRp1_Fiducial\n",
    "# Dressed_DRp1_Dressed_DR4PI_Fiducial\n",
    "# Dressed_DRp1_Dressed_DR4PI_FullPhase\n",
    "# Detector_Dressed_DR4PI_Fiducial\n",
    "# Detector_Dressed_DR4PI_FullPhase\n",
    "\n",
    "matrix_detector = 'Detector_Dressed_DRp1_Fiducial' \n",
    "matrix_det_fsr = 'Detector_Dressed_DR4PI_FullPhase'\n",
    "matrix_fsr = \"Dressed_DRp1_Dressed_DR4PI_FullPhase\"\n",
    "matrix_fsr_ = \"Dressed_DRp1_Dressed_DR4PI\"\n",
    "\n",
    "# Set output directory\n",
    "outDir = 'output/'+year+'/new_'+channel+'/'\n",
    "inFhistTxt = 'inFiles/'+year+'/'+channel+'/fhist.txt'\n",
    "\n",
    "# Make output directory\n",
    "if not os.path.exists(outDir):\n",
    "    os.makedirs(outDir)\n",
    "\n",
    "# Read text file including root file path and for unfolding\n",
    "filePaths = open(inFhistTxt, 'r')\n",
    "unfoldInputDic = {}\n",
    "\n",
    "for path in filePaths:\n",
    "    modifiedPath = path.lstrip(' ').rstrip(' ').rstrip('\\n')\n",
    "    unfoldInputDic[modifiedPath.split()[1]] = modifiedPath.split()[2]\n",
    "    \n",
    "print(unfoldInputDic)"
   ]
  },
  {
   "cell_type": "code",
   "execution_count": 4,
   "metadata": {},
   "outputs": [],
   "source": [
    "import pyScripts.unfoldUtil as unfoldutil\n",
    "import pyScripts.drawUtil as drawutil\n",
    "\n",
    "# Simple unfolding tests\n",
    "# Unfolding without systematics\n",
    "# Closure tests"
   ]
  },
  {
   "cell_type": "code",
   "execution_count": 5,
   "metadata": {},
   "outputs": [
    {
     "name": "stdout",
     "output_type": "stream",
     "text": [
      "ISRUnfold set!\n",
      "ISRUnfold set!\n",
      "ISRUnfold set!\n",
      "ISRUnfold set!\n"
     ]
    }
   ],
   "source": [
    "DetectorUnfold = 0\n",
    "FSRUnfold = 1\n",
    "bias = 1.0\n",
    "\n",
    "# Create ISRUnfold class\n",
    "#                                              # unfold mode  \n",
    "unfold_det = rt.ISRUnfold(channel, int(year), int(0))\n",
    "unfold_det.setOutputBaseDir(outDir)\n",
    "unfold_det.setBias(bias)\n",
    "\n",
    "unfold_fsr = rt.ISRUnfold(channel, int(year), int(0))\n",
    "unfold_fsr.setOutputBaseDir(outDir)\n",
    "unfold_fsr.setBias(bias)\n",
    "\n",
    "# To test one-step unfolding result\n",
    "unfold_oneStep = rt.ISRUnfold(channel, int(year), int(0))\n",
    "unfold_oneStep.setOutputBaseDir(outDir)\n",
    "unfold_oneStep.setBias(bias)\n",
    "\n",
    "# Closure\n",
    "unfold_closure = rt.ISRUnfold(channel, int(year), int(0))\n",
    "unfold_closure.setOutputBaseDir(outDir)\n",
    "unfold_closure.setBias(bias)"
   ]
  },
  {
   "cell_type": "code",
   "execution_count": 6,
   "metadata": {},
   "outputs": [
    {
     "name": "stderr",
     "output_type": "stream",
     "text": [
      "Info in <TUnfoldV17::SetConstraint>: fConstraint=1\n",
      "Info in <TUnfoldV17::TUnfold>: underflow and overflow bin do not depend on the input data\n",
      "Info in <TUnfoldV17::TUnfold>: 119 input bins and 64 output bins (includes 1 underflow bin)\n",
      "Info in <TUnfoldDensityV17::TUnfold>: *NOT* unfolding bin #64\n",
      "Info in <TUnfoldV17::SetConstraint>: fConstraint=1\n",
      "Info in <TUnfoldV17::TUnfold>: underflow and overflow bin do not depend on the input data\n",
      "Info in <TUnfoldV17::TUnfold>: 43 input bins and 44 output bins (includes 1 underflow bin)\n",
      "Error in <TUnfoldV17::TUnfold>: too few (ny=43) input bins for nx=44 output bins\n",
      "Info in <TUnfoldDensityV17::TUnfold>: *NOT* unfolding bin #44\n"
     ]
    }
   ],
   "source": [
    "# Set response matrix: detector unfolding\n",
    "unfold_det.setNomResMatrix(\"Pt\", unfoldInputDic['matrix'], matrix_detector, matrix_detector)\n",
    "unfold_det.setNomResMatrix(\"Mass\", unfoldInputDic['matrix'], matrix_detector, matrix_detector)"
   ]
  },
  {
   "cell_type": "code",
   "execution_count": 7,
   "metadata": {
    "scrolled": true
   },
   "outputs": [
    {
     "name": "stderr",
     "output_type": "stream",
     "text": [
      "Info in <TUnfoldV17::SetConstraint>: fConstraint=1\n",
      "Info in <TUnfoldV17::TUnfold>: underflow and overflow bin do not depend on the input data\n",
      "Info in <TUnfoldV17::TUnfold>: 119 input bins and 64 output bins (includes 1 underflow bin)\n",
      "Info in <TUnfoldDensityV17::TUnfold>: *NOT* unfolding bin #64\n",
      "Info in <TUnfoldV17::SetConstraint>: fConstraint=1\n",
      "Info in <TUnfoldV17::TUnfold>: underflow and overflow bin do not depend on the input data\n",
      "Info in <TUnfoldV17::TUnfold>: 43 input bins and 44 output bins (includes 1 underflow bin)\n",
      "Error in <TUnfoldV17::TUnfold>: too few (ny=43) input bins for nx=44 output bins\n",
      "Info in <TUnfoldDensityV17::TUnfold>: *NOT* unfolding bin #44\n"
     ]
    }
   ],
   "source": [
    "# One step unfolding\n",
    "unfold_oneStep.setNomResMatrix(\"Pt\", unfoldInputDic['matrix'], matrix_det_fsr, matrix_det_fsr)\n",
    "unfold_oneStep.setNomResMatrix(\"Mass\", unfoldInputDic['matrix'], matrix_det_fsr, matrix_det_fsr)"
   ]
  },
  {
   "cell_type": "code",
   "execution_count": 8,
   "metadata": {},
   "outputs": [
    {
     "name": "stderr",
     "output_type": "stream",
     "text": [
      "Info in <TUnfoldV17::SetConstraint>: fConstraint=1\n",
      "Info in <TUnfoldV17::TUnfold>: underflow and overflow bin do not depend on the input data\n",
      "Info in <TUnfoldV17::TUnfold>: 119 input bins and 64 output bins (includes 1 underflow bin)\n",
      "Info in <TUnfoldDensityV17::TUnfold>: *NOT* unfolding bin #64\n",
      "Info in <TUnfoldV17::SetConstraint>: fConstraint=1\n",
      "Info in <TUnfoldV17::TUnfold>: underflow and overflow bin do not depend on the input data\n",
      "Info in <TUnfoldV17::TUnfold>: 43 input bins and 44 output bins (includes 1 underflow bin)\n",
      "Error in <TUnfoldV17::TUnfold>: too few (ny=43) input bins for nx=44 output bins\n",
      "Info in <TUnfoldDensityV17::TUnfold>: *NOT* unfolding bin #44\n"
     ]
    }
   ],
   "source": [
    "unfold_closure.setNomResMatrix(\"Pt\", unfoldInputDic['matrix'], matrix_det_fsr, matrix_det_fsr)\n",
    "unfold_closure.setNomResMatrix(\"Mass\", unfoldInputDic['matrix'], matrix_det_fsr, matrix_det_fsr)"
   ]
  },
  {
   "cell_type": "code",
   "execution_count": 9,
   "metadata": {},
   "outputs": [
    {
     "name": "stderr",
     "output_type": "stream",
     "text": [
      "Info in <TUnfoldV17::SetConstraint>: fConstraint=1\n",
      "Info in <TUnfoldV17::TUnfold>: underflow and overflow bin do not depend on the input data\n",
      "Info in <TUnfoldV17::TUnfold>: 63 input bins and 64 output bins (includes 1 underflow bin)\n",
      "Error in <TUnfoldV17::TUnfold>: too few (ny=63) input bins for nx=64 output bins\n",
      "Info in <TUnfoldDensityV17::TUnfold>: *NOT* unfolding bin #64\n",
      "Info in <TUnfoldV17::SetConstraint>: fConstraint=1\n",
      "Info in <TUnfoldV17::TUnfold>: underflow and overflow bin do not depend on the input data\n",
      "Info in <TUnfoldV17::TUnfold>: 43 input bins and 44 output bins (includes 1 underflow bin)\n",
      "Error in <TUnfoldV17::TUnfold>: too few (ny=43) input bins for nx=44 output bins\n",
      "Info in <TUnfoldDensityV17::TUnfold>: *NOT* unfolding bin #44\n"
     ]
    }
   ],
   "source": [
    "# Set FSR unfolding\n",
    "unfold_fsr.setNomResMatrix(\"Pt\", unfoldInputDic['fsr_matrix'], matrix_fsr, matrix_fsr_, True)\n",
    "unfold_fsr.setNomResMatrix(\"Mass\", unfoldInputDic['fsr_matrix'], matrix_fsr, matrix_fsr_, True)"
   ]
  },
  {
   "cell_type": "code",
   "execution_count": 10,
   "metadata": {},
   "outputs": [],
   "source": [
    "%jsroot on"
   ]
  },
  {
   "cell_type": "code",
   "execution_count": 11,
   "metadata": {},
   "outputs": [],
   "source": [
    "unfold_det.setUnfInput(\"Pt\",   unfoldInputDic['hist'], \"Detector\", \"histo_DoubleMuonnominal\", False, \"nominal\", 0)\n",
    "unfold_det.setUnfInput(\"Mass\", unfoldInputDic['hist'], \"Detector\", \"histo_DoubleMuonnominal\", False, \"nominal\", 0)\n",
    "setUnfoldBkgs(unfold_det, unfoldInputDic['hist'], False, \"nominal\", 0, -1, year)\n",
    "\n",
    "unfold_oneStep.setUnfInput(\"Pt\",   unfoldInputDic['hist'], \"Detector\", \"histo_DoubleMuonnominal\", False, \"nominal\", 0)\n",
    "unfold_oneStep.setUnfInput(\"Mass\", unfoldInputDic['hist'], \"Detector\", \"histo_DoubleMuonnominal\", False, \"nominal\", 0)\n",
    "setUnfoldBkgs(unfold_oneStep, unfoldInputDic['hist'], False, \"nominal\", 0, -1, year)\n",
    "\n",
    "unfold_closure.setUnfInput(\"Pt\",   unfoldInputDic['hist'], \"Detector\", \"histo_DYJetsToMuMunominal\", False, \"nominal\", 0)\n",
    "unfold_closure.setUnfInput(\"Mass\", unfoldInputDic['hist'], \"Detector\", \"histo_DYJetsToMuMunominal\", False, \"nominal\", 0)"
   ]
  },
  {
   "cell_type": "code",
   "execution_count": 12,
   "metadata": {
    "scrolled": false
   },
   "outputs": [
    {
     "name": "stderr",
     "output_type": "stream",
     "text": [
      "Error in <TUnfoldDensityV17::GetInputInverseEmatrix>: number of parameters 44 > 43 (rank of input covariance). Problem can not be solved\n",
      "Info in <TUnfoldDensityV17::InvertMSparseSymmPos>: cholesky-decomposition failed, try eigenvalue analysis\n",
      "Warning in <TUnfoldDensityV17::DoUnfold>: rank of matrix E 43 expect 44\n",
      "Info in <TUnfoldDensityV17::InvertMSparseSymmPos>: cholesky-decomposition failed, try eigenvalue analysis\n",
      "Warning in <TUnfoldDensityV17::DoUnfold>: rank of output covariance is 43 expect 44\n"
     ]
    }
   ],
   "source": [
    "# Do unfold Need to understand the error meassages below!\n",
    "unfold_det.doISRUnfold(False)"
   ]
  },
  {
   "cell_type": "code",
   "execution_count": 13,
   "metadata": {},
   "outputs": [],
   "source": [
    "# Set input for FSR unfolding using unfold output\n",
    "unfold_fsr.setUnfInput(unfold_det, \"Pt\", False, \"\", 0)\n",
    "unfold_fsr.setUnfInput(unfold_det, \"Mass\", False, \"\", 0)"
   ]
  },
  {
   "cell_type": "code",
   "execution_count": 14,
   "metadata": {},
   "outputs": [
    {
     "name": "stderr",
     "output_type": "stream",
     "text": [
      "Error in <TUnfoldDensityV17::GetInputInverseEmatrix>: number of parameters 64 > 63 (rank of input covariance). Problem can not be solved\n",
      "Info in <TUnfoldDensityV17::InvertMSparseSymmPos>: cholesky-decomposition failed, try eigenvalue analysis\n",
      "Warning in <TUnfoldDensityV17::DoUnfold>: rank of matrix E 63 expect 64\n",
      "Error in <TUnfoldDensityV17::GetInputInverseEmatrix>: number of parameters 44 > 43 (rank of input covariance). Problem can not be solved\n",
      "Info in <TUnfoldDensityV17::InvertMSparseSymmPos>: cholesky-decomposition failed, try eigenvalue analysis\n",
      "Warning in <TUnfoldDensityV17::DoUnfold>: rank of matrix E 43 expect 44\n"
     ]
    }
   ],
   "source": [
    "unfold_fsr.doISRUnfold(False)"
   ]
  },
  {
   "cell_type": "code",
   "execution_count": 15,
   "metadata": {},
   "outputs": [
    {
     "name": "stderr",
     "output_type": "stream",
     "text": [
      "Error in <TUnfoldDensityV17::GetInputInverseEmatrix>: number of parameters 44 > 43 (rank of input covariance). Problem can not be solved\n",
      "Info in <TUnfoldDensityV17::InvertMSparseSymmPos>: cholesky-decomposition failed, try eigenvalue analysis\n",
      "Warning in <TUnfoldDensityV17::DoUnfold>: rank of matrix E 43 expect 44\n"
     ]
    }
   ],
   "source": [
    "unfold_oneStep.doISRUnfold(False)"
   ]
  },
  {
   "cell_type": "code",
   "execution_count": 16,
   "metadata": {},
   "outputs": [
    {
     "name": "stderr",
     "output_type": "stream",
     "text": [
      "Error in <TUnfoldDensityV17::GetInputInverseEmatrix>: number of parameters 44 > 43 (rank of input covariance). Problem can not be solved\n",
      "Info in <TUnfoldDensityV17::InvertMSparseSymmPos>: cholesky-decomposition failed, try eigenvalue analysis\n",
      "Warning in <TUnfoldDensityV17::DoUnfold>: rank of matrix E 43 expect 44\n"
     ]
    }
   ],
   "source": [
    "unfold_closure.doISRUnfold(False)"
   ]
  },
  {
   "cell_type": "markdown",
   "metadata": {},
   "source": [
    "## Draw unfolded histograms"
   ]
  },
  {
   "cell_type": "code",
   "execution_count": 17,
   "metadata": {},
   "outputs": [
    {
     "name": "stdout",
     "output_type": "stream",
     "text": [
      "Detector/Mass/histo_DYJetsToMuMunominal\n",
      "Detector/Pt/histo_DYJetsToMuMunominal\n"
     ]
    }
   ],
   "source": [
    "# For mass distribution\n",
    "mass_steering = \"mass[UO];pt[UOC0]\"\n",
    "mass_useAxis = True\n",
    "\n",
    "# Get detector level DY MC hist\n",
    "hDYMC_detector = unfold_det.getRawHist(\"Mass\", unfoldInputDic['hist'], \"Detector\", \"histo_DYJetsToMuMunominal\", \\\n",
    "                                        \"hDYMC_detctor\", mass_steering, mass_useAxis)\n",
    "\n",
    "# Two-step from detector to pre-FSR\n",
    "hMassUnfoldedData = unfold_det.getDetUnfoldedHists(\"Mass\", \"hMassUnfoldedData\", mass_steering, mass_useAxis)\n",
    "hMassMCTruth = unfold_det.getMCHists(\"Mass\", \"hMassMCTruth\", mass_steering, mass_useAxis)\n",
    "hMassFSRUnfoldedData = unfold_fsr.getDetUnfoldedHists(\"Mass\", \"hMassFSRUnfoldedData\", mass_steering, mass_useAxis)\n",
    "hMassData = unfold_det.getDetHists(\"Mass\", \"hMassData\", mass_steering, mass_useAxis)\n",
    "\n",
    "# One-step \n",
    "hMassUnfoldedData_ = unfold_oneStep.getDetUnfoldedHists(\"Mass\", \"hMassUnfoldedData_\", mass_steering, mass_useAxis)\n",
    "hMassUnfoldedMC_ = unfold_oneStep.getMCHists(\"Mass\", \"hMassUnfoldedMC_\", mass_steering, mass_useAxis)\n",
    "\n",
    "# Closure (One-step)\n",
    "hMassUnfoldedMC_closure = unfold_closure.getDetUnfoldedHists(\"Mass\", \"hMassUnfoldedMC_closure\", mass_steering, mass_useAxis)\n",
    "\n",
    "# For pt distribution\n",
    "pt_steering = \"pt[UO];mass[UO]\"\n",
    "pt_useAxis = False\n",
    "\n",
    "hDYMCPt_detector = unfold_det.getRawHist(\"Pt\", unfoldInputDic['hist'], \"Detector\", \"histo_DYJetsToMuMunominal\", \\\n",
    "                                        \"hDYMCPt_detctor\", pt_steering, pt_useAxis)\n",
    "\n",
    "# Two-step from detector to pre-FSR\n",
    "hPtUnfoldedData = unfold_det.getDetUnfoldedHists(\"Pt\", \"hPtUnfoldedData\", pt_steering, pt_useAxis)\n",
    "hPtMCTruth = unfold_det.getMCHists(\"Pt\", \"hPtMCTruth\", pt_steering, pt_useAxis)\n",
    "hPtFSRUnfoldedData = unfold_fsr.getDetUnfoldedHists(\"Pt\", \"hPtFSRUnfoldedData\", pt_steering, pt_useAxis)\n",
    "hPtData = unfold_det.getDetHists(\"Pt\", \"hPtData\", pt_steering, pt_useAxis)\n",
    "\n",
    "# One-step\n",
    "hPtUnfoldedData_ = unfold_oneStep.getDetUnfoldedHists(\"Pt\", \"hPtUnfoldedData_\", pt_steering, pt_useAxis)\n",
    "hPtUnfoldedMC_ = unfold_oneStep.getMCHists(\"Pt\", \"hPtUnfoldedMC_\", pt_steering, pt_useAxis)\n",
    "\n",
    "# Closure (One-step)\n",
    "hPtUnfoldedMC_closure = unfold_closure.getDetUnfoldedHists(\"Pt\", \"hPtUnfoldedMC_closure\", pt_steering, pt_useAxis)"
   ]
  },
  {
   "cell_type": "code",
   "execution_count": 18,
   "metadata": {},
   "outputs": [],
   "source": [
    "# Draw plot!\n",
    "c = rt.TCanvas(\"c\",\"c\", 1800, 600)\n",
    "c.Divide(2,1);\n",
    "\n",
    "pad_mass = rt.TPad(\"pad_mass\", \"pad_mass\", 0, 0.3, 1, 1.0)\n",
    "ratio_mass = rt.TPad(\"ratio_mass\", \"raio_mass\", 0, 0.0, 1, 0.3)\n",
    "c.cd(1)\n",
    "pad_mass.Draw()\n",
    "c.cd(1)\n",
    "ratio_mass.Draw()\n",
    "\n",
    "pad_pt = rt.TPad(\"pad_pt\", \"pad_pt\", 0, 0.3, 1, 1.0)\n",
    "ratio_pt = rt.TPad(\"ratio_pt\", \"ratio_pt\", 0, 0.0, 1, 0.3)\n",
    "c.cd(2)\n",
    "pad_pt.Draw()\n",
    "c.cd(2)\n",
    "ratio_pt.Draw()"
   ]
  },
  {
   "cell_type": "code",
   "execution_count": 19,
   "metadata": {
    "scrolled": false
   },
   "outputs": [
    {
     "data": {
      "text/html": [
       "\n",
       "<div id=\"root_plot_1\"\n",
       "     style=\"width: 1796px; height: 572px\">\n",
       "</div>\n",
       "\n",
       "<script>\n",
       " requirejs.config({\n",
       "     paths: {\n",
       "       'JSRootCore' : 'https://root.cern.ch/js/notebook//scripts/JSRootCore',\n",
       "     }\n",
       "   });\n",
       " require(['JSRootCore'],\n",
       "     function(Core) {\n",
       "       var obj = Core.JSONR_unref({\"_typename\":\"TCanvas\",\"fUniqueID\":0,\"fBits\":53673992,\"fLineColor\":1,\"fLineStyle\":1,\"fLineWidth\":1,\"fFillColor\":0,\"fFillStyle\":1001,\"fLeftMargin\":0.1,\"fRightMargin\":0.1,\"fBottomMargin\":0.1,\"fTopMargin\":0.1,\"fXfile\":2,\"fYfile\":2,\"fAfile\":1,\"fXstat\":0.99,\"fYstat\":0.99,\"fAstat\":2,\"fFrameFillColor\":0,\"fFrameLineColor\":1,\"fFrameFillStyle\":1001,\"fFrameLineStyle\":1,\"fFrameLineWidth\":1,\"fFrameBorderSize\":1,\"fFrameBorderMode\":0,\"fX1\":0,\"fY1\":0,\"fX2\":1,\"fY2\":1,\"fXtoAbsPixelk\":5e-5,\"fXtoPixelk\":5e-5,\"fXtoPixel\":1796,\"fYtoAbsPixelk\":572.00005,\"fYtoPixelk\":572.00005,\"fYtoPixel\":-572,\"fUtoAbsPixelk\":5e-5,\"fUtoPixelk\":5e-5,\"fUtoPixel\":1796,\"fVtoAbsPixelk\":572.00005,\"fVtoPixelk\":572,\"fVtoPixel\":-572,\"fAbsPixeltoXk\":0,\"fPixeltoXk\":0,\"fPixeltoX\":5.56792873051225e-4,\"fAbsPixeltoYk\":1,\"fPixeltoYk\":0,\"fPixeltoY\":-0.00174825174825175,\"fXlowNDC\":0,\"fYlowNDC\":0,\"fXUpNDC\":0,\"fYUpNDC\":0,\"fWNDC\":1,\"fHNDC\":1,\"fAbsXlowNDC\":0,\"fAbsYlowNDC\":0,\"fAbsWNDC\":1,\"fAbsHNDC\":1,\"fUxmin\":0,\"fUymin\":0,\"fUxmax\":1,\"fUymax\":1,\"fTheta\":30,\"fPhi\":30,\"fAspectRatio\":0,\"fNumber\":0,\"fTickx\":0,\"fTicky\":0,\"fLogx\":0,\"fLogy\":0,\"fLogz\":0,\"fPadPaint\":0,\"fCrosshair\":0,\"fCrosshairPos\":0,\"fBorderSize\":2,\"fBorderMode\":0,\"fModified\":false,\"fGridx\":false,\"fGridy\":false,\"fAbsCoord\":false,\"fEditable\":true,\"fFixedAspectRatio\":false,\"fPrimitives\":{\"_typename\":\"TList\",\"name\":\"TList\",\"arr\":[{\"_typename\":\"TPad\",\"fUniqueID\":0,\"fBits\":50331657,\"fLineColor\":1,\"fLineStyle\":1,\"fLineWidth\":1,\"fFillColor\":0,\"fFillStyle\":1001,\"fLeftMargin\":0.1,\"fRightMargin\":0.1,\"fBottomMargin\":0.1,\"fTopMargin\":0.1,\"fXfile\":2,\"fYfile\":2,\"fAfile\":1,\"fXstat\":0.99,\"fYstat\":0.99,\"fAstat\":2,\"fFrameFillColor\":0,\"fFrameLineColor\":1,\"fFrameFillStyle\":1001,\"fFrameLineStyle\":1,\"fFrameLineWidth\":1,\"fFrameBorderSize\":1,\"fFrameBorderMode\":0,\"fX1\":0,\"fY1\":0,\"fX2\":1,\"fY2\":1,\"fXtoAbsPixelk\":17.9600495985627,\"fXtoPixelk\":5e-5,\"fXtoPixel\":862.080000802875,\"fYtoAbsPixelk\":566.280050127852,\"fYtoPixelk\":560.560050255704,\"fYtoPixel\":-560.560000255704,\"fUtoAbsPixelk\":17.9600495985627,\"fUtoPixelk\":5e-5,\"fUtoPixel\":862.080000802875,\"fVtoAbsPixelk\":566.280050127852,\"fVtoPixelk\":560.560000255704,\"fVtoPixel\":-560.560000255704,\"fAbsPixeltoXk\":-0.0208333328482695,\"fPixeltoXk\":0,\"fPixeltoX\":0.00115998515110973,\"fAbsPixeltoYk\":1.01020408139992,\"fPixeltoYk\":0,\"fPixeltoY\":-0.00178393035454517,\"fXlowNDC\":0.00999999977648258,\"fYlowNDC\":0.00999999977648258,\"fXUpNDC\":0,\"fYUpNDC\":0,\"fWNDC\":0.480000000447035,\"fHNDC\":0.980000000447035,\"fAbsXlowNDC\":0.00999999977648258,\"fAbsYlowNDC\":0.00999999977648258,\"fAbsWNDC\":0.480000000447035,\"fAbsHNDC\":0.980000000447035,\"fUxmin\":0,\"fUymin\":0,\"fUxmax\":1,\"fUymax\":1,\"fTheta\":30,\"fPhi\":30,\"fAspectRatio\":0,\"fNumber\":1,\"fTickx\":0,\"fTicky\":0,\"fLogx\":0,\"fLogy\":0,\"fLogz\":0,\"fPadPaint\":0,\"fCrosshair\":0,\"fCrosshairPos\":0,\"fBorderSize\":2,\"fBorderMode\":0,\"fModified\":false,\"fGridx\":false,\"fGridy\":false,\"fAbsCoord\":false,\"fEditable\":true,\"fFixedAspectRatio\":false,\"fPrimitives\":{\"_typename\":\"TList\",\"name\":\"TList\",\"arr\":[{\"_typename\":\"TPad\",\"fUniqueID\":0,\"fBits\":50331657,\"fLineColor\":1,\"fLineStyle\":1,\"fLineWidth\":1,\"fFillColor\":0,\"fFillStyle\":1001,\"fLeftMargin\":0.1,\"fRightMargin\":0.1,\"fBottomMargin\":0.1,\"fTopMargin\":0.1,\"fXfile\":2,\"fYfile\":2,\"fAfile\":1,\"fXstat\":0.99,\"fYstat\":0.99,\"fAstat\":2,\"fFrameFillColor\":0,\"fFrameLineColor\":1,\"fFrameFillStyle\":1001,\"fFrameLineStyle\":1,\"fFrameLineWidth\":1,\"fFrameBorderSize\":1,\"fFrameBorderMode\":0,\"fX1\":0.888462488167671,\"fY1\":-1.08737133155748,\"fX2\":3.76475002560767,\"fY2\":9.7863413358935,\"fXtoAbsPixelk\":-248.329649377295,\"fXtoPixelk\":-266.289648975858,\"fXtoPixel\":299.719687124937,\"fYtoAbsPixelk\":358.872847694403,\"fYtoPixelk\":353.152847822255,\"fYtoPixel\":-36.0862947347842,\"fUtoAbsPixelk\":17.9600495985627,\"fUtoPixelk\":5e-5,\"fUtoPixel\":862.080000802875,\"fVtoAbsPixelk\":398.112050051141,\"fVtoPixelk\":392.392000178993,\"fVtoPixel\":-392.392000178993,\"fAbsPixeltoXk\":0.828539832532854,\"fPixeltoXk\":0.888462488167671,\"fPixeltoX\":0.00333645083375238,\"fAbsPixeltoYk\":9.94485026329065,\"fPixeltoYk\":-1.08737133155748,\"fPixeltoY\":-0.0277113515629545,\"fXlowNDC\":0,\"fYlowNDC\":0.3,\"fXUpNDC\":0,\"fYUpNDC\":0,\"fWNDC\":1,\"fHNDC\":0.7,\"fAbsXlowNDC\":0.00999999977648258,\"fAbsYlowNDC\":0.303999999910593,\"fAbsWNDC\":0.480000000447035,\"fAbsHNDC\":0.686000000312924,\"fUxmin\":1.17609125905568,\"fUymin\":0,\"fUxmax\":3.47712125471966,\"fUymax\":8.69897000433602,\"fTheta\":30,\"fPhi\":30,\"fAspectRatio\":0,\"fNumber\":0,\"fTickx\":0,\"fTicky\":0,\"fLogx\":1,\"fLogy\":1,\"fLogz\":0,\"fPadPaint\":0,\"fCrosshair\":0,\"fCrosshairPos\":0,\"fBorderSize\":2,\"fBorderMode\":0,\"fModified\":false,\"fGridx\":true,\"fGridy\":true,\"fAbsCoord\":false,\"fEditable\":true,\"fFixedAspectRatio\":false,\"fPrimitives\":{\"_typename\":\"TList\",\"name\":\"TList\",\"arr\":[{\"_typename\":\"TFrame\",\"fUniqueID\":0,\"fBits\":50331656,\"fLineColor\":1,\"fLineStyle\":1,\"fLineWidth\":1,\"fFillColor\":0,\"fFillStyle\":1001,\"fX1\":1.17609125905568,\"fY1\":0,\"fX2\":3.47712125471966,\"fY2\":8.69897000433602,\"fBorderSize\":1,\"fBorderMode\":0},{\"_typename\":\"TH1D\",\"fUniqueID\":0,\"fBits\":50332168,\"fName\":\"hMassUnfoldedData\",\"fTitle\":\"hMassUnfoldedData\",\"fLineColor\":632,\"fLineStyle\":1,\"fLineWidth\":1,\"fFillColor\":0,\"fFillStyle\":1001,\"fMarkerColor\":632,\"fMarkerStyle\":20,\"fMarkerSize\":1,\"fNcells\":45,\"fXaxis\":{\"_typename\":\"TAxis\",\"fUniqueID\":0,\"fBits\":50331656,\"fName\":\"xaxis\",\"fTitle\":\"mass\",\"fNdivisions\":520,\"fAxisColor\":1,\"fLabelColor\":1,\"fLabelFont\":42,\"fLabelOffset\":0.005,\"fLabelSize\":0.035,\"fTickLength\":0.03,\"fTitleOffset\":1,\"fTitleSize\":0.035,\"fTitleColor\":1,\"fTitleFont\":42,\"fNbins\":43,\"fXmin\":15,\"fXmax\":3000,\"fXbins\":[15,20,25,30,35,40,45,50,55,60,64,68,72,76,81,86,91,96,101,106,110,115,120,126,133,141,150,160,171,185,200,220,243,273,320,380,440,510,600,700,830,1000,1500,3000],\"fFirst\":0,\"fLast\":0,\"fBits2\":0,\"fTimeDisplay\":false,\"fTimeFormat\":\"\",\"fLabels\":null,\"fModLabs\":null},\"fYaxis\":{\"_typename\":\"TAxis\",\"fUniqueID\":0,\"fBits\":50331656,\"fName\":\"yaxis\",\"fTitle\":\"Events\\/ bin\",\"fNdivisions\":10,\"fAxisColor\":1,\"fLabelColor\":1,\"fLabelFont\":42,\"fLabelOffset\":0.005,\"fLabelSize\":0.035,\"fTickLength\":0.03,\"fTitleOffset\":0,\"fTitleSize\":0.035,\"fTitleColor\":1,\"fTitleFont\":42,\"fNbins\":1,\"fXmin\":0,\"fXmax\":1,\"fXbins\":[],\"fFirst\":0,\"fLast\":0,\"fBits2\":0,\"fTimeDisplay\":false,\"fTimeFormat\":\"\",\"fLabels\":null,\"fModLabs\":null},\"fZaxis\":{\"_typename\":\"TAxis\",\"fUniqueID\":0,\"fBits\":50331648,\"fName\":\"zaxis\",\"fTitle\":\"\",\"fNdivisions\":510,\"fAxisColor\":1,\"fLabelColor\":1,\"fLabelFont\":42,\"fLabelOffset\":0.005,\"fLabelSize\":0.035,\"fTickLength\":0.03,\"fTitleOffset\":1,\"fTitleSize\":0.035,\"fTitleColor\":1,\"fTitleFont\":42,\"fNbins\":1,\"fXmin\":0,\"fXmax\":1,\"fXbins\":[],\"fFirst\":0,\"fLast\":0,\"fBits2\":0,\"fTimeDisplay\":false,\"fTimeFormat\":\"\",\"fLabels\":null,\"fModLabs\":null},\"fBarOffset\":0,\"fBarWidth\":1000,\"fEntries\":88,\"fTsumw\":0,\"fTsumw2\":0,\"fTsumwx\":0,\"fTsumwx2\":0,\"fMaximum\":500000000,\"fMinimum\":1,\"fNormFactor\":0,\"fContour\":[],\"fSumw2\":[0,526731.227965479,486039.179856545,608739.540717806,1194614.92201465,1580818.71581319,1705320.36489519,1541573.08539436,1422701.86431134,1322391.13553945,1188313.09389446,1250213.72666362,1337460.86260417,1579976.35785825,2636046.36895424,5882774.75083648,41609621.1651155,42416187.8696404,3960010.84359711,1335945.09335216,728805.572340774,534442.555224797,372660.830564843,283790.228346875,214530.124401824,165527.641900071,133771.177276564,95743.302780375,90419.3252393122,74962.0410613384,58411.8961398218,39870.4150968551,29512.0949447835,25608.755132823,19195.2837122707,11846.9287717348,6535.76287803046,7662.81584331605,2540.92132217744,1526.52306575464,697.176797448395,489.641475009142,281.080680888027,9.49743115468511,0],\"fOption\":\"\",\"fFunctions\":{\"_typename\":\"TList\",\"name\":\"TList\",\"arr\":[],\"opt\":[]},\"fBufferSize\":0,\"fBuffer\":[],\"fBinStatErrOpt\":0,\"fStatOverflows\":2,\"fArray\":[0,230554.284688804,192618.766017891,210829.624141042,356255.469527419,466776.197133547,493376.403762918,430407.929531925,364295.302456734,332550.42122457,259600.645798565,271393.355567767,308293.482559365,383293.785855801,725556.692477781,1618942.52874485,11725563.994882,13058800.2181011,1167266.97145422,395902.203046808,172646.587941405,133421.943168212,92765.6906710682,76517.1159092983,60182.5657042147,51306.834464593,38860.6129014344,32874.8769844939,24618.7192993601,23119.2667822318,16691.2017626968,15546.5863606575,11490.9312390728,9066.33673888402,8071.19084485427,5065.03224908808,2658.63036550371,1566.98634241841,943.856572367352,542.687766649579,309.645041215585,204.455049962378,141.765437252198,6.9528665822339,0]},{\"_typename\":\"TH1D\",\"fUniqueID\":0,\"fBits\":50331656,\"fName\":\"hMassFSRUnfoldedData\",\"fTitle\":\"hMassFSRUnfoldedData\",\"fLineColor\":600,\"fLineStyle\":1,\"fLineWidth\":1,\"fFillColor\":0,\"fFillStyle\":1001,\"fMarkerColor\":600,\"fMarkerStyle\":20,\"fMarkerSize\":1,\"fNcells\":45,\"fXaxis\":{\"_typename\":\"TAxis\",\"fUniqueID\":0,\"fBits\":50331648,\"fName\":\"xaxis\",\"fTitle\":\"mass\",\"fNdivisions\":510,\"fAxisColor\":1,\"fLabelColor\":1,\"fLabelFont\":42,\"fLabelOffset\":0.005,\"fLabelSize\":0.035,\"fTickLength\":0.03,\"fTitleOffset\":1,\"fTitleSize\":0.035,\"fTitleColor\":1,\"fTitleFont\":42,\"fNbins\":43,\"fXmin\":15,\"fXmax\":3000,\"fXbins\":[15,20,25,30,35,40,45,50,55,60,64,68,72,76,81,86,91,96,101,106,110,115,120,126,133,141,150,160,171,185,200,220,243,273,320,380,440,510,600,700,830,1000,1500,3000],\"fFirst\":0,\"fLast\":0,\"fBits2\":0,\"fTimeDisplay\":false,\"fTimeFormat\":\"\",\"fLabels\":null,\"fModLabs\":null},\"fYaxis\":{\"_typename\":\"TAxis\",\"fUniqueID\":0,\"fBits\":50331648,\"fName\":\"yaxis\",\"fTitle\":\"\",\"fNdivisions\":510,\"fAxisColor\":1,\"fLabelColor\":1,\"fLabelFont\":42,\"fLabelOffset\":0.005,\"fLabelSize\":0.035,\"fTickLength\":0.03,\"fTitleOffset\":0,\"fTitleSize\":0.035,\"fTitleColor\":1,\"fTitleFont\":42,\"fNbins\":1,\"fXmin\":0,\"fXmax\":1,\"fXbins\":[],\"fFirst\":0,\"fLast\":0,\"fBits2\":0,\"fTimeDisplay\":false,\"fTimeFormat\":\"\",\"fLabels\":null,\"fModLabs\":null},\"fZaxis\":{\"_typename\":\"TAxis\",\"fUniqueID\":0,\"fBits\":50331648,\"fName\":\"zaxis\",\"fTitle\":\"\",\"fNdivisions\":510,\"fAxisColor\":1,\"fLabelColor\":1,\"fLabelFont\":42,\"fLabelOffset\":0.005,\"fLabelSize\":0.035,\"fTickLength\":0.03,\"fTitleOffset\":1,\"fTitleSize\":0.035,\"fTitleColor\":1,\"fTitleFont\":42,\"fNbins\":1,\"fXmin\":0,\"fXmax\":1,\"fXbins\":[],\"fFirst\":0,\"fLast\":0,\"fBits2\":0,\"fTimeDisplay\":false,\"fTimeFormat\":\"\",\"fLabels\":null,\"fModLabs\":null},\"fBarOffset\":0,\"fBarWidth\":1000,\"fEntries\":88,\"fTsumw\":0,\"fTsumw2\":0,\"fTsumwx\":0,\"fTsumwx2\":0,\"fMaximum\":-1111,\"fMinimum\":-1111,\"fNormFactor\":0,\"fContour\":[],\"fSumw2\":[0,19023438962.31,4679946616.91621,1233716275.06928,294183186.678574,83572288.5448666,33762781.2852544,20898801.0544894,15325551.8356095,12327448.2672481,10092358.683775,9686933.81804995,9715406.08926136,10693232.80023,16524657.6947427,34466721.1857011,229376436.306666,248009797.8012,22050682.3411704,7269412.24876647,3950133.95055636,2838309.01136614,1950113.26500291,1454479.39525152,1054023.52260994,810127.680734999,636486.36145162,440122.173426376,402190.578566848,335022.745518805,241717.697337511,156130.885096299,115477.557080997,85811.8958487532,62030.35817051,32998.7906443275,16489.7842372533,19739.1261065441,5635.39677937831,3160.83564982289,1267.96153227352,806.876526107314,310.648668358168,17.9560807768265,0],\"fOption\":\"\",\"fFunctions\":{\"_typename\":\"TList\",\"name\":\"TList\",\"arr\":[],\"opt\":[]},\"fBufferSize\":0,\"fBuffer\":[],\"fBinStatErrOpt\":0,\"fStatOverflows\":2,\"fArray\":[0,42763906.9635615,18303195.8895322,9065266.63581203,5310898.46615995,3188942.11226539,2021927.06314012,1400369.90337744,991017.950566594,780717.266070973,532102.683439491,494190.007612932,516258.670888957,596503.651055697,1116243.33316574,2721918.2055568,25677187.9991988,31421211.5866897,2701203.41401943,895438.39096463,385684.483656361,294285.132486332,201924.683336911,165550.989139876,126931.19802766,108663.745435136,81131.0607068031,67649.5964601188,49617.2451268241,47091.3256235335,32665.7256156602,29679.2290494609,22117.3364896241,16145.9603121049,14081.1375786289,8272.05741168218,4127.69171015103,2458.31833894379,1368.15173142381,770.414407840289,409.006609493074,267.075370545254,149.035459675438,9.56019155057158,0]},{\"_typename\":\"TH1D\",\"fUniqueID\":0,\"fBits\":50331656,\"fName\":\"hMassUnfoldedData_\",\"fTitle\":\"hMassUnfoldedData_\",\"fLineColor\":616,\"fLineStyle\":1,\"fLineWidth\":1,\"fFillColor\":0,\"fFillStyle\":1001,\"fMarkerColor\":616,\"fMarkerStyle\":22,\"fMarkerSize\":0.8,\"fNcells\":45,\"fXaxis\":{\"_typename\":\"TAxis\",\"fUniqueID\":0,\"fBits\":50331648,\"fName\":\"xaxis\",\"fTitle\":\"mass\",\"fNdivisions\":510,\"fAxisColor\":1,\"fLabelColor\":1,\"fLabelFont\":42,\"fLabelOffset\":0.005,\"fLabelSize\":0.035,\"fTickLength\":0.03,\"fTitleOffset\":1,\"fTitleSize\":0.035,\"fTitleColor\":1,\"fTitleFont\":42,\"fNbins\":43,\"fXmin\":15,\"fXmax\":3000,\"fXbins\":[15,20,25,30,35,40,45,50,55,60,64,68,72,76,81,86,91,96,101,106,110,115,120,126,133,141,150,160,171,185,200,220,243,273,320,380,440,510,600,700,830,1000,1500,3000],\"fFirst\":0,\"fLast\":0,\"fBits2\":0,\"fTimeDisplay\":false,\"fTimeFormat\":\"\",\"fLabels\":null,\"fModLabs\":null},\"fYaxis\":{\"_typename\":\"TAxis\",\"fUniqueID\":0,\"fBits\":50331648,\"fName\":\"yaxis\",\"fTitle\":\"\",\"fNdivisions\":510,\"fAxisColor\":1,\"fLabelColor\":1,\"fLabelFont\":42,\"fLabelOffset\":0.005,\"fLabelSize\":0.035,\"fTickLength\":0.03,\"fTitleOffset\":0,\"fTitleSize\":0.035,\"fTitleColor\":1,\"fTitleFont\":42,\"fNbins\":1,\"fXmin\":0,\"fXmax\":1,\"fXbins\":[],\"fFirst\":0,\"fLast\":0,\"fBits2\":0,\"fTimeDisplay\":false,\"fTimeFormat\":\"\",\"fLabels\":null,\"fModLabs\":null},\"fZaxis\":{\"_typename\":\"TAxis\",\"fUniqueID\":0,\"fBits\":50331648,\"fName\":\"zaxis\",\"fTitle\":\"\",\"fNdivisions\":510,\"fAxisColor\":1,\"fLabelColor\":1,\"fLabelFont\":42,\"fLabelOffset\":0.005,\"fLabelSize\":0.035,\"fTickLength\":0.03,\"fTitleOffset\":1,\"fTitleSize\":0.035,\"fTitleColor\":1,\"fTitleFont\":42,\"fNbins\":1,\"fXmin\":0,\"fXmax\":1,\"fXbins\":[],\"fFirst\":0,\"fLast\":0,\"fBits2\":0,\"fTimeDisplay\":false,\"fTimeFormat\":\"\",\"fLabels\":null,\"fModLabs\":null},\"fBarOffset\":0,\"fBarWidth\":1000,\"fEntries\":88,\"fTsumw\":0,\"fTsumw2\":0,\"fTsumwx\":0,\"fTsumwx2\":0,\"fMaximum\":-1111,\"fMinimum\":-1111,\"fNormFactor\":0,\"fContour\":[],\"fSumw2\":[0,18001892767.7122,4435043104.56789,1134327935.59629,268904406.965391,76269825.2948343,31582345.1971396,19127519.6826378,13578180.0329547,10394889.7859494,8118205.27667898,7523616.23934278,7333706.10214884,8017714.96810756,12964980.5258078,31090136.8971532,240854731.330642,248660228.631748,21730216.7170349,7206954.24294515,3911144.79065878,2830764.69582206,1933098.91864277,1439292.53513033,1049825.82635875,809733.869648348,631976.787965771,435777.282399891,398062.89155173,333815.88971608,237032.90640072,154436.236900072,113455.187228661,84803.4717799844,61498.8261227873,32691.8147016478,15893.5214113386,19444.6105116785,5816.84049606095,3094.22633016371,1229.58101605544,784.850335577645,309.531007480071,17.9560807747052,0],\"fOption\":\"\",\"fFunctions\":{\"_typename\":\"TList\",\"name\":\"TList\",\"arr\":[],\"opt\":[]},\"fBufferSize\":0,\"fBuffer\":[],\"fBinStatErrOpt\":0,\"fStatOverflows\":2,\"fArray\":[0,41950268.2396386,17885698.0218882,8767014.27502877,5113162.75558112,3069187.80932284,1990419.87250771,1384798.7057368,983211.386614073,774764.404417072,527774.544871001,490557.26330238,512191.494613726,592506.059628439,1109465.79019732,2711223.22473398,25673904.4594701,31381048.9617315,2695669.43379192,894698.084019321,385242.935125582,294356.626006038,201566.343414717,165574.026259904,126901.891970269,108582.253611111,81184.1520118063,67595.0059638469,49629.0838429855,46980.9673019964,32609.3575962363,29687.1102513218,22061.0712760294,16144.0430824447,14077.5467640459,8275.0738218311,4108.53401705359,2457.61699989231,1378.80895321031,757.925921015434,410.735303427496,269.027106463517,150.152923493873,9.65719599681244,0]},{\"_typename\":\"TH1D\",\"fUniqueID\":0,\"fBits\":50331656,\"fName\":\"hMassUnfoldedMC_closure\",\"fTitle\":\"hMassUnfoldedMC_closure\",\"fLineColor\":616,\"fLineStyle\":1,\"fLineWidth\":1,\"fFillColor\":0,\"fFillStyle\":1001,\"fMarkerColor\":1,\"fMarkerStyle\":25,\"fMarkerSize\":1,\"fNcells\":45,\"fXaxis\":{\"_typename\":\"TAxis\",\"fUniqueID\":0,\"fBits\":50331648,\"fName\":\"xaxis\",\"fTitle\":\"mass\",\"fNdivisions\":510,\"fAxisColor\":1,\"fLabelColor\":1,\"fLabelFont\":42,\"fLabelOffset\":0.005,\"fLabelSize\":0.035,\"fTickLength\":0.03,\"fTitleOffset\":1,\"fTitleSize\":0.035,\"fTitleColor\":1,\"fTitleFont\":42,\"fNbins\":43,\"fXmin\":15,\"fXmax\":3000,\"fXbins\":[15,20,25,30,35,40,45,50,55,60,64,68,72,76,81,86,91,96,101,106,110,115,120,126,133,141,150,160,171,185,200,220,243,273,320,380,440,510,600,700,830,1000,1500,3000],\"fFirst\":0,\"fLast\":0,\"fBits2\":0,\"fTimeDisplay\":false,\"fTimeFormat\":\"\",\"fLabels\":null,\"fModLabs\":null},\"fYaxis\":{\"_typename\":\"TAxis\",\"fUniqueID\":0,\"fBits\":50331648,\"fName\":\"yaxis\",\"fTitle\":\"\",\"fNdivisions\":510,\"fAxisColor\":1,\"fLabelColor\":1,\"fLabelFont\":42,\"fLabelOffset\":0.005,\"fLabelSize\":0.035,\"fTickLength\":0.03,\"fTitleOffset\":0,\"fTitleSize\":0.035,\"fTitleColor\":1,\"fTitleFont\":42,\"fNbins\":1,\"fXmin\":0,\"fXmax\":1,\"fXbins\":[],\"fFirst\":0,\"fLast\":0,\"fBits2\":0,\"fTimeDisplay\":false,\"fTimeFormat\":\"\",\"fLabels\":null,\"fModLabs\":null},\"fZaxis\":{\"_typename\":\"TAxis\",\"fUniqueID\":0,\"fBits\":50331648,\"fName\":\"zaxis\",\"fTitle\":\"\",\"fNdivisions\":510,\"fAxisColor\":1,\"fLabelColor\":1,\"fLabelFont\":42,\"fLabelOffset\":0.005,\"fLabelSize\":0.035,\"fTickLength\":0.03,\"fTitleOffset\":1,\"fTitleSize\":0.035,\"fTitleColor\":1,\"fTitleFont\":42,\"fNbins\":1,\"fXmin\":0,\"fXmax\":1,\"fXbins\":[],\"fFirst\":0,\"fLast\":0,\"fBits2\":0,\"fTimeDisplay\":false,\"fTimeFormat\":\"\",\"fLabels\":null,\"fModLabs\":null},\"fBarOffset\":0,\"fBarWidth\":1000,\"fEntries\":88,\"fTsumw\":0,\"fTsumw2\":0,\"fTsumwx\":0,\"fTsumwx2\":0,\"fMaximum\":-1111,\"fMinimum\":-1111,\"fNormFactor\":0,\"fContour\":[],\"fSumw2\":[0,386519846406.33,82646991931.3013,18021687577.335,3478464179.37272,900484355.880997,335465646.647251,178967242.419269,36246830.7232729,25027616.7439143,20519852.3415959,21175803.6399142,23842545.6483769,29307529.5028601,50841430.4626308,125299632.675918,986840391.875603,1019635831.07706,87213513.7167389,28173201.3488797,14709605.211031,10366976.0394106,7055892.0797138,4978431.34344668,3625383.96034059,2771399.8312049,2022396.61593216,1607780.6145266,1158783.62810168,980903.215678379,671222.406757792,552413.391951139,399222.991367813,285047.298805325,230173.362308622,123330.786162073,59723.4375053971,36132.3892180308,22025.2215704995,11944.5087616136,5156.08360169257,3132.28325620967,857.70975828864,163.599982708195,0],\"fOption\":\"\",\"fFunctions\":{\"_typename\":\"TList\",\"name\":\"TList\",\"arr\":[],\"opt\":[]},\"fBufferSize\":0,\"fBuffer\":[],\"fBinStatErrOpt\":0,\"fStatOverflows\":2,\"fArray\":[0,44795252.5902404,18352026.2413489,9066528.38754752,5003260.47490483,3018985.12934112,1932302.72250558,1318957.90466657,1012636.59755925,788341.819528288,541411.373718583,511916.76261236,530761.793410984,622857.712331907,1167017.07444737,2827656.68046612,27019919.5231411,33010217.7475796,2730783.71424037,911568.887508873,385188.594664596,301269.197319993,198480.895197393,165253.55841462,133442.898413874,104642.379771815,82531.1832083492,65306.1256540288,49326.8409424544,44350.0000211733,32529.5394866372,29043.429879385,21551.6801245631,17304.4518500526,14320.8550208958,8245.78264102986,4154.03206613723,2478.19929056257,1433.15729729791,776.621772037487,466.699481615497,288.803336998796,123.439436608817,31.2286572048355,0]},{\"_typename\":\"TH1D\",\"fUniqueID\":0,\"fBits\":50331656,\"fName\":\"hMassData\",\"fTitle\":\"hMassData\",\"fLineColor\":1,\"fLineStyle\":1,\"fLineWidth\":1,\"fFillColor\":0,\"fFillStyle\":1001,\"fMarkerColor\":1,\"fMarkerStyle\":20,\"fMarkerSize\":1,\"fNcells\":45,\"fXaxis\":{\"_typename\":\"TAxis\",\"fUniqueID\":0,\"fBits\":50331648,\"fName\":\"xaxis\",\"fTitle\":\"mass\",\"fNdivisions\":510,\"fAxisColor\":1,\"fLabelColor\":1,\"fLabelFont\":42,\"fLabelOffset\":0.005,\"fLabelSize\":0.035,\"fTickLength\":0.03,\"fTitleOffset\":1,\"fTitleSize\":0.035,\"fTitleColor\":1,\"fTitleFont\":42,\"fNbins\":43,\"fXmin\":15,\"fXmax\":3000,\"fXbins\":[15,20,25,30,35,40,45,50,55,60,64,68,72,76,81,86,91,96,101,106,110,115,120,126,133,141,150,160,171,185,200,220,243,273,320,380,440,510,600,700,830,1000,1500,3000],\"fFirst\":0,\"fLast\":0,\"fBits2\":0,\"fTimeDisplay\":false,\"fTimeFormat\":\"\",\"fLabels\":null,\"fModLabs\":null},\"fYaxis\":{\"_typename\":\"TAxis\",\"fUniqueID\":0,\"fBits\":50331648,\"fName\":\"yaxis\",\"fTitle\":\"\",\"fNdivisions\":510,\"fAxisColor\":1,\"fLabelColor\":1,\"fLabelFont\":42,\"fLabelOffset\":0.005,\"fLabelSize\":0.035,\"fTickLength\":0.03,\"fTitleOffset\":0,\"fTitleSize\":0.035,\"fTitleColor\":1,\"fTitleFont\":42,\"fNbins\":1,\"fXmin\":0,\"fXmax\":1,\"fXbins\":[],\"fFirst\":0,\"fLast\":0,\"fBits2\":0,\"fTimeDisplay\":false,\"fTimeFormat\":\"\",\"fLabels\":null,\"fModLabs\":null},\"fZaxis\":{\"_typename\":\"TAxis\",\"fUniqueID\":0,\"fBits\":50331648,\"fName\":\"zaxis\",\"fTitle\":\"\",\"fNdivisions\":510,\"fAxisColor\":1,\"fLabelColor\":1,\"fLabelFont\":42,\"fLabelOffset\":0.005,\"fLabelSize\":0.035,\"fTickLength\":0.03,\"fTitleOffset\":1,\"fTitleSize\":0.035,\"fTitleColor\":1,\"fTitleFont\":42,\"fNbins\":1,\"fXmin\":0,\"fXmax\":1,\"fXbins\":[],\"fFirst\":0,\"fLast\":0,\"fBits2\":0,\"fTimeDisplay\":false,\"fTimeFormat\":\"\",\"fLabels\":null,\"fModLabs\":null},\"fBarOffset\":0,\"fBarWidth\":1000,\"fEntries\":88,\"fTsumw\":0,\"fTsumw2\":0,\"fTsumwx\":0,\"fTsumwx2\":0,\"fMaximum\":-1111,\"fMinimum\":-1111,\"fNormFactor\":0,\"fContour\":[],\"fSumw2\":[0,148954.707175561,138462.227025179,161066.181563966,277214.552255591,394266.2343496,467192.766357179,424173.980451839,386379.951618903,337211.070598553,261334.833147886,258119.801316888,265700.91683467,312524.157989988,598383.343232717,1493480.31383185,8669750.27146648,8565661.88867616,1005858.53135887,315427.379934683,137242.235954814,111852.915820988,74707.053560238,66387.7616513975,55914.2629707202,44434.3696627252,39439.7538847251,26628.2486188786,27548.9533232659,24210.6327018236,19554.4478789182,13764.3584839143,10693.763974989,9609.51138921373,7410.9558481145,4600.15849302944,2308.64611160733,2905.50963067595,885.081273943733,462.759390378545,242.700732489857,142.022292994266,94.670713662153,8.68757168201433,0],\"fOption\":\"\",\"fFunctions\":{\"_typename\":\"TList\",\"name\":\"TList\",\"arr\":[],\"opt\":[]},\"fBufferSize\":0,\"fBuffer\":[],\"fBinStatErrOpt\":0,\"fStatOverflows\":2,\"fArray\":[0,125835.246348075,108450.431030976,117675.633812925,186133.970066315,258355.873882411,290813.78283723,259682.935307521,226297.196012278,207299.984635591,165688.436960582,178779.106329448,212780.81871404,279377.747182044,573096.845943976,1470032.34656706,8626846.72861603,8534051.76224497,995092.332922947,304910.197298791,127899.350006682,100470.981324456,67731.5487520021,56326.8993367805,46046.5183372813,37368.6984444044,30003.7722851224,24006.8996426837,18986.3229286018,17251.774978762,12894.0112265609,11603.4490114538,8689.69425216714,6995.21224283717,6006.74696559251,3769.88396954269,1908.68680481245,1152.24414817612,725.273315583766,395.78111684235,219.351540772245,124.131568825462,88.4890683119479,6.71837145221871,0]},{\"_typename\":\"TLegend\",\"fUniqueID\":0,\"fBits\":50331656,\"fLineColor\":1,\"fLineStyle\":1,\"fLineWidth\":1,\"fFillColor\":0,\"fFillStyle\":1001,\"fX1\":2.90186376437567,\"fY1\":6.52422753565821,\"fX2\":3.47712127186367,\"fY2\":8.6989700691484,\"fX1NDC\":0.7,\"fY1NDC\":0.7,\"fX2NDC\":0.9,\"fY2NDC\":0.9,\"fBorderSize\":1,\"fInit\":1,\"fShadowColor\":1,\"fCornerRadius\":0,\"fOption\":\"brNDC\",\"fName\":\"TPave\",\"fTextAngle\":0,\"fTextSize\":0,\"fTextAlign\":12,\"fTextColor\":1,\"fTextFont\":42,\"fPrimitives\":{\"_typename\":\"TList\",\"name\":\"TList\",\"arr\":[{\"_typename\":\"TLegendEntry\",\"fUniqueID\":0,\"fBits\":50331656,\"fTextAngle\":0,\"fTextSize\":0,\"fTextAlign\":0,\"fTextColor\":0,\"fTextFont\":42,\"fLineColor\":1,\"fLineStyle\":1,\"fLineWidth\":1,\"fFillColor\":0,\"fFillStyle\":0,\"fMarkerColor\":1,\"fMarkerStyle\":20,\"fMarkerSize\":1,\"fObject\":{\"$ref\":27},\"fLabel\":\"Detector  data\",\"fOption\":\"ple\"},{\"_typename\":\"TLegendEntry\",\"fUniqueID\":0,\"fBits\":50331656,\"fTextAngle\":0,\"fTextSize\":0,\"fTextAlign\":0,\"fTextColor\":0,\"fTextFont\":42,\"fLineColor\":632,\"fLineStyle\":1,\"fLineWidth\":1,\"fFillColor\":0,\"fFillStyle\":0,\"fMarkerColor\":632,\"fMarkerStyle\":20,\"fMarkerSize\":1,\"fObject\":{\"$ref\":7},\"fLabel\":\"Det unfolded data\",\"fOption\":\"ple\"},{\"_typename\":\"TLegendEntry\",\"fUniqueID\":0,\"fBits\":50331656,\"fTextAngle\":0,\"fTextSize\":0,\"fTextAlign\":0,\"fTextColor\":0,\"fTextFont\":42,\"fLineColor\":600,\"fLineStyle\":1,\"fLineWidth\":1,\"fFillColor\":0,\"fFillStyle\":0,\"fMarkerColor\":600,\"fMarkerStyle\":20,\"fMarkerSize\":1,\"fObject\":{\"$ref\":12},\"fLabel\":\"Pre-FSR unfolded data\",\"fOption\":\"ple\"}],\"opt\":[\"ple\",\"ple\",\"ple\"]},\"fEntrySeparation\":0.1,\"fMargin\":0.25,\"fNColumns\":1,\"fColumnSeparation\":0},{\"_typename\":\"TPaveText\",\"fUniqueID\":0,\"fBits\":50331657,\"fLineColor\":1,\"fLineStyle\":1,\"fLineWidth\":1,\"fFillColor\":0,\"fFillStyle\":0,\"fX1\":1.97754410147304,\"fY1\":9.13391861878464,\"fX2\":2.6756684123023,\"fY2\":9.73197282440615,\"fX1NDC\":0.378641425493466,\"fY1NDC\":0.940000003948808,\"fX2NDC\":0.621358574506534,\"fY2NDC\":0.995000004768372,\"fBorderSize\":0,\"fInit\":1,\"fShadowColor\":1,\"fCornerRadius\":0,\"fOption\":\"blNDC\",\"fName\":\"title\",\"fTextAngle\":0,\"fTextSize\":0,\"fTextAlign\":22,\"fTextColor\":1,\"fTextFont\":42,\"fLabel\":\"\",\"fLongest\":17,\"fMargin\":0.05,\"fLines\":{\"_typename\":\"TList\",\"name\":\"TList\",\"arr\":[{\"_typename\":\"TLatex\",\"fUniqueID\":0,\"fBits\":50331648,\"fName\":\"\",\"fTitle\":\"hMassUnfoldedData\",\"fTextAngle\":0,\"fTextSize\":0,\"fTextAlign\":0,\"fTextColor\":0,\"fTextFont\":0,\"fX\":0,\"fY\":0,\"fLineColor\":1,\"fLineStyle\":1,\"fLineWidth\":2,\"fLimitFactorSize\":3,\"fOriginSize\":0.0467500016093254}],\"opt\":[\"\"]}}],\"opt\":[\"\",\"hist pe\",\"pe same\",\"pe same\",\"pe same\",\"pe same\",\"\",\"blNDC\"]},\"fExecs\":{\"_typename\":\"TList\",\"name\":\"TList\",\"arr\":[],\"opt\":[]},\"fName\":\"pad_mass\",\"fTitle\":\"pad_mass\",\"fNumPaletteColor\":0,\"fNextPaletteColor\":0},{\"_typename\":\"TPad\",\"fUniqueID\":0,\"fBits\":50331657,\"fLineColor\":1,\"fLineStyle\":1,\"fLineWidth\":1,\"fFillColor\":0,\"fFillStyle\":1001,\"fLeftMargin\":0.1,\"fRightMargin\":0.1,\"fBottomMargin\":0.1,\"fTopMargin\":0.1,\"fXfile\":2,\"fYfile\":2,\"fAfile\":1,\"fXstat\":0.99,\"fYstat\":0.99,\"fAstat\":2,\"fFrameFillColor\":0,\"fFrameLineColor\":1,\"fFrameFillStyle\":1001,\"fFrameLineStyle\":1,\"fFrameLineWidth\":1,\"fFrameBorderSize\":1,\"fFrameBorderMode\":0,\"fX1\":0.888462488167671,\"fY1\":0.374999990686774,\"fX2\":3.76475002560767,\"fY2\":1.62500000931323,\"fXtoAbsPixelk\":-248.329649377295,\"fXtoPixelk\":-266.289648975858,\"fXtoPixel\":299.719687124937,\"fYtoAbsPixelk\":616.730448146146,\"fYtoPixelk\":218.618448095006,\"fYtoPixel\":-134.53439805665,\"fUtoAbsPixelk\":17.9600495985627,\"fUtoPixelk\":5e-5,\"fUtoPixel\":862.080000802875,\"fVtoAbsPixelk\":566.280050127852,\"fVtoPixelk\":168.168000076711,\"fVtoPixel\":-168.168000076711,\"fAbsPixeltoXk\":0.828539832532854,\"fPixeltoXk\":0.888462488167671,\"fPixeltoX\":0.00333645083375238,\"fAbsPixeltoYk\":4.58418372590817,\"fPixeltoYk\":0.374999990686774,\"fPixeltoY\":-0.0074330432546992,\"fXlowNDC\":0,\"fYlowNDC\":0,\"fXUpNDC\":0,\"fYUpNDC\":0,\"fWNDC\":1,\"fHNDC\":0.3,\"fAbsXlowNDC\":0.00999999977648258,\"fAbsYlowNDC\":0.00999999977648258,\"fAbsWNDC\":0.480000000447035,\"fAbsHNDC\":0.29400000013411,\"fUxmin\":1.17609125905568,\"fUymin\":0.5,\"fUxmax\":3.47712125471966,\"fUymax\":1.5,\"fTheta\":30,\"fPhi\":30,\"fAspectRatio\":0,\"fNumber\":0,\"fTickx\":0,\"fTicky\":0,\"fLogx\":1,\"fLogy\":0,\"fLogz\":0,\"fPadPaint\":0,\"fCrosshair\":0,\"fCrosshairPos\":0,\"fBorderSize\":2,\"fBorderMode\":0,\"fModified\":false,\"fGridx\":true,\"fGridy\":true,\"fAbsCoord\":false,\"fEditable\":true,\"fFixedAspectRatio\":false,\"fPrimitives\":{\"_typename\":\"TList\",\"name\":\"TList\",\"arr\":[{\"_typename\":\"TFrame\",\"fUniqueID\":0,\"fBits\":50331656,\"fLineColor\":1,\"fLineStyle\":1,\"fLineWidth\":1,\"fFillColor\":0,\"fFillStyle\":1001,\"fX1\":1.17609125905568,\"fY1\":0.5,\"fX2\":3.47712125471966,\"fY2\":1.5,\"fBorderSize\":1,\"fBorderMode\":0},{\"_typename\":\"TH1D\",\"fUniqueID\":0,\"fBits\":50332168,\"fName\":\"ratioMass_detector\",\"fTitle\":\"hMassData\",\"fLineColor\":1,\"fLineStyle\":1,\"fLineWidth\":1,\"fFillColor\":0,\"fFillStyle\":1001,\"fMarkerColor\":1,\"fMarkerStyle\":20,\"fMarkerSize\":1,\"fNcells\":45,\"fXaxis\":{\"_typename\":\"TAxis\",\"fUniqueID\":0,\"fBits\":50331648,\"fName\":\"xaxis\",\"fTitle\":\"mass\",\"fNdivisions\":510,\"fAxisColor\":1,\"fLabelColor\":1,\"fLabelFont\":42,\"fLabelOffset\":0.005,\"fLabelSize\":0.035,\"fTickLength\":0.03,\"fTitleOffset\":1,\"fTitleSize\":0.035,\"fTitleColor\":1,\"fTitleFont\":42,\"fNbins\":43,\"fXmin\":15,\"fXmax\":3000,\"fXbins\":[15,20,25,30,35,40,45,50,55,60,64,68,72,76,81,86,91,96,101,106,110,115,120,126,133,141,150,160,171,185,200,220,243,273,320,380,440,510,600,700,830,1000,1500,3000],\"fFirst\":0,\"fLast\":0,\"fBits2\":0,\"fTimeDisplay\":false,\"fTimeFormat\":\"\",\"fLabels\":null,\"fModLabs\":null},\"fYaxis\":{\"_typename\":\"TAxis\",\"fUniqueID\":0,\"fBits\":50331656,\"fName\":\"yaxis\",\"fTitle\":\"Data\\/ MC\",\"fNdivisions\":510,\"fAxisColor\":1,\"fLabelColor\":1,\"fLabelFont\":42,\"fLabelOffset\":0.005,\"fLabelSize\":0.035,\"fTickLength\":0.03,\"fTitleOffset\":0,\"fTitleSize\":0.035,\"fTitleColor\":1,\"fTitleFont\":42,\"fNbins\":1,\"fXmin\":0,\"fXmax\":1,\"fXbins\":[],\"fFirst\":0,\"fLast\":0,\"fBits2\":0,\"fTimeDisplay\":false,\"fTimeFormat\":\"\",\"fLabels\":null,\"fModLabs\":null},\"fZaxis\":{\"_typename\":\"TAxis\",\"fUniqueID\":0,\"fBits\":50331648,\"fName\":\"zaxis\",\"fTitle\":\"\",\"fNdivisions\":510,\"fAxisColor\":1,\"fLabelColor\":1,\"fLabelFont\":42,\"fLabelOffset\":0.005,\"fLabelSize\":0.035,\"fTickLength\":0.03,\"fTitleOffset\":1,\"fTitleSize\":0.035,\"fTitleColor\":1,\"fTitleFont\":42,\"fNbins\":1,\"fXmin\":0,\"fXmax\":1,\"fXbins\":[],\"fFirst\":0,\"fLast\":0,\"fBits2\":0,\"fTimeDisplay\":false,\"fTimeFormat\":\"\",\"fLabels\":null,\"fModLabs\":null},\"fBarOffset\":0,\"fBarWidth\":1000,\"fEntries\":8358.89362121284,\"fTsumw\":41.7969774542929,\"fTsumw2\":0.208997434765916,\"fTsumwx\":9795.46564109958,\"fTsumwx2\":6511678.3566337,\"fMaximum\":1.5,\"fMinimum\":0.5,\"fNormFactor\":0,\"fContour\":[],\"fSumw2\":[0,1.64520075205305e-4,2.08058468208853e-4,1.74942180901249e-4,1.19948907422632e-4,8.04886590568315e-5,7.12029705160837e-5,7.48135175568864e-5,2.51118992061516e-5,2.46003046727795e-5,3.0007997002734e-5,2.64850832751665e-5,2.1466978373269e-5,1.56581108531616e-5,7.52347905852028e-6,2.93740402510026e-6,4.94857878400034e-7,5.01617279115069e-7,4.64947418297627e-6,1.56926312999245e-5,3.89564236181315e-5,4.9025221494226e-5,7.7568015731777e-5,9.21045531339916e-5,1.05520828999719e-4,1.51286384178403e-4,1.80833692502132e-4,2.39853398081646e-4,3.15030371924216e-4,3.76537892931207e-4,4.64019184652614e-4,5.0352949279431e-4,6.72679671816661e-4,7.01799760002867e-4,9.10072787493867e-4,0.00154879342405322,0.0029391701778424,0.00600617588280016,0.00719265358579682,0.0127324700720231,0.0172523365812287,0.0355184630970172,0.0854049676908913,0.0344544819589327,0],\"fOption\":\"\",\"fFunctions\":{\"_typename\":\"TList\",\"name\":\"TList\",\"arr\":[],\"opt\":[]},\"fBufferSize\":0,\"fBuffer\":[],\"fBinStatErrOpt\":0,\"fStatOverflows\":2,\"fArray\":[0,0.937800327624605,0.973293284190113,0.970435858080103,1.01905039141942,1.01612095163171,1.02718682253304,1.03497929943048,0.973228884560997,0.976072922497535,0.968225597026703,0.957988666441126,0.958723555485293,0.952351186528512,0.952248582807037,0.954258165148176,0.950527099302073,0.951355844237093,0.974936615877882,0.983272108399521,0.992974633846095,0.985670081577135,1.00614343705237,0.996751035993425,0.97015884429434,1.01998334684473,0.996550096854419,1.02601728699756,1.01599413356111,1.0468000232522,1.00976840246173,1.02005931578421,1.01394589242314,0.945450289627213,0.980985687863253,1.00074069930371,0.990099711515458,0.989423591453595,0.966602801328134,0.967043630291003,0.889571359606354,0.930241580639694,1.19467072303436,0.309274685466176,0]},{\"_typename\":\"TH1D\",\"fUniqueID\":0,\"fBits\":50332168,\"fName\":\"ratioMass_dressed\",\"fTitle\":\"hMassUnfoldedData\",\"fLineColor\":632,\"fLineStyle\":1,\"fLineWidth\":1,\"fFillColor\":0,\"fFillStyle\":1001,\"fMarkerColor\":632,\"fMarkerStyle\":20,\"fMarkerSize\":1,\"fNcells\":45,\"fXaxis\":{\"_typename\":\"TAxis\",\"fUniqueID\":0,\"fBits\":50331656,\"fName\":\"xaxis\",\"fTitle\":\"mass\",\"fNdivisions\":520,\"fAxisColor\":1,\"fLabelColor\":1,\"fLabelFont\":42,\"fLabelOffset\":0.005,\"fLabelSize\":0.035,\"fTickLength\":0.03,\"fTitleOffset\":1,\"fTitleSize\":0.035,\"fTitleColor\":1,\"fTitleFont\":42,\"fNbins\":43,\"fXmin\":15,\"fXmax\":3000,\"fXbins\":[15,20,25,30,35,40,45,50,55,60,64,68,72,76,81,86,91,96,101,106,110,115,120,126,133,141,150,160,171,185,200,220,243,273,320,380,440,510,600,700,830,1000,1500,3000],\"fFirst\":0,\"fLast\":0,\"fBits2\":0,\"fTimeDisplay\":false,\"fTimeFormat\":\"\",\"fLabels\":null,\"fModLabs\":null},\"fYaxis\":{\"_typename\":\"TAxis\",\"fUniqueID\":0,\"fBits\":50331656,\"fName\":\"yaxis\",\"fTitle\":\"Events\\/ bin\",\"fNdivisions\":10,\"fAxisColor\":1,\"fLabelColor\":1,\"fLabelFont\":42,\"fLabelOffset\":0.005,\"fLabelSize\":0.035,\"fTickLength\":0.03,\"fTitleOffset\":0,\"fTitleSize\":0.035,\"fTitleColor\":1,\"fTitleFont\":42,\"fNbins\":1,\"fXmin\":0,\"fXmax\":1,\"fXbins\":[],\"fFirst\":0,\"fLast\":0,\"fBits2\":0,\"fTimeDisplay\":false,\"fTimeFormat\":\"\",\"fLabels\":null,\"fModLabs\":null},\"fZaxis\":{\"_typename\":\"TAxis\",\"fUniqueID\":0,\"fBits\":50331648,\"fName\":\"zaxis\",\"fTitle\":\"\",\"fNdivisions\":510,\"fAxisColor\":1,\"fLabelColor\":1,\"fLabelFont\":42,\"fLabelOffset\":0.005,\"fLabelSize\":0.035,\"fTickLength\":0.03,\"fTitleOffset\":1,\"fTitleSize\":0.035,\"fTitleColor\":1,\"fTitleFont\":42,\"fNbins\":1,\"fXmin\":0,\"fXmax\":1,\"fXbins\":[],\"fFirst\":0,\"fLast\":0,\"fBits2\":0,\"fTimeDisplay\":false,\"fTimeFormat\":\"\",\"fLabels\":null,\"fModLabs\":null},\"fBarOffset\":0,\"fBarWidth\":1000,\"fEntries\":24087.5555759539,\"fTsumw\":42.3389897653361,\"fTsumw2\":0.0744197578993337,\"fTsumwx\":10024.1267775381,\"fTsumwx2\":6761895.01808869,\"fMaximum\":500000000,\"fMinimum\":1,\"fNormFactor\":0,\"fContour\":[],\"fSumw2\":[0,9.35251133499564e-6,1.30577224404681e-5,1.37606056500332e-5,1.05664111497248e-5,8.04821457390427e-6,7.6152820765057e-6,9.1725617689851e-6,1.02306725337319e-5,1.16062210192356e-5,1.68662352034138e-5,1.5873071770221e-5,1.33004953523785e-5,9.97398822833116e-6,4.65371208119536e-6,2.10375418388131e-6,2.75691071674281e-7,2.25921692187172e-7,2.85593054008376e-6,8.26905982617158e-6,2.46309766651553e-5,2.88506521843965e-5,4.49211437201939e-5,4.88191388160749e-5,5.40611530599918e-5,6.77089658440354e-5,8.64038489592716e-5,9.50851193074802e-5,1.51890416535454e-4,1.58398629109727e-4,2.11878756191561e-4,1.73385617813492e-4,2.34036265425427e-4,2.73962487622188e-4,2.87140943900308e-4,4.7206378868229e-4,8.98642947757797e-4,0.00314399619197641,0.00271672480086762,0.00504879499386993,0.00557331390220942,0.010816512728791,0.0242042874146633,0.019436438952864,0],\"fOption\":\"\",\"fFunctions\":{\"_typename\":\"TList\",\"name\":\"TList\",\"arr\":[],\"opt\":[]},\"fBufferSize\":0,\"fBuffer\":[],\"fBinStatErrOpt\":0,\"fStatOverflows\":2,\"fArray\":[0,0.971499957359618,0.998381840451938,1.0023852164562,1.05952528615925,1.05321598095929,1.04260159061104,1.04988934139958,0.976896857889396,0.985196716923467,0.97802375499176,0.967024704867,0.972204686779222,0.96303242466639,0.964038958729168,0.96813922963103,0.954439075056475,0.953051626757224,0.991278826421292,0.984967001273593,1.00367469297199,0.980289979079364,1.01848798767319,1.00358677692215,0.95536473999086,1.03767904483594,0.987631460847133,1.03601540174583,1.00902055219451,1.0627449851413,1.00526523151319,1.02521794721582,1.0232854190387,0.937741556043662,0.987160820969072,1.0110663812814,0.985833114802103,1.00371871671479,0.975962698575826,0.986943326070035,0.87548643020049,0.960953506846029,1.31553078015147,0.314535137128305,0]},{\"_typename\":\"TH1D\",\"fUniqueID\":0,\"fBits\":50331656,\"fName\":\"ratioMass_preFSR\",\"fTitle\":\"hMassUnfoldedData_\",\"fLineColor\":616,\"fLineStyle\":1,\"fLineWidth\":1,\"fFillColor\":0,\"fFillStyle\":1001,\"fMarkerColor\":616,\"fMarkerStyle\":22,\"fMarkerSize\":0.8,\"fNcells\":45,\"fXaxis\":{\"_typename\":\"TAxis\",\"fUniqueID\":0,\"fBits\":50331648,\"fName\":\"xaxis\",\"fTitle\":\"mass\",\"fNdivisions\":510,\"fAxisColor\":1,\"fLabelColor\":1,\"fLabelFont\":42,\"fLabelOffset\":0.005,\"fLabelSize\":0.035,\"fTickLength\":0.03,\"fTitleOffset\":1,\"fTitleSize\":0.035,\"fTitleColor\":1,\"fTitleFont\":42,\"fNbins\":43,\"fXmin\":15,\"fXmax\":3000,\"fXbins\":[15,20,25,30,35,40,45,50,55,60,64,68,72,76,81,86,91,96,101,106,110,115,120,126,133,141,150,160,171,185,200,220,243,273,320,380,440,510,600,700,830,1000,1500,3000],\"fFirst\":0,\"fLast\":0,\"fBits2\":0,\"fTimeDisplay\":false,\"fTimeFormat\":\"\",\"fLabels\":null,\"fModLabs\":null},\"fYaxis\":{\"_typename\":\"TAxis\",\"fUniqueID\":0,\"fBits\":50331648,\"fName\":\"yaxis\",\"fTitle\":\"\",\"fNdivisions\":510,\"fAxisColor\":1,\"fLabelColor\":1,\"fLabelFont\":42,\"fLabelOffset\":0.005,\"fLabelSize\":0.035,\"fTickLength\":0.03,\"fTitleOffset\":0,\"fTitleSize\":0.035,\"fTitleColor\":1,\"fTitleFont\":42,\"fNbins\":1,\"fXmin\":0,\"fXmax\":1,\"fXbins\":[],\"fFirst\":0,\"fLast\":0,\"fBits2\":0,\"fTimeDisplay\":false,\"fTimeFormat\":\"\",\"fLabels\":null,\"fModLabs\":null},\"fZaxis\":{\"_typename\":\"TAxis\",\"fUniqueID\":0,\"fBits\":50331648,\"fName\":\"zaxis\",\"fTitle\":\"\",\"fNdivisions\":510,\"fAxisColor\":1,\"fLabelColor\":1,\"fLabelFont\":42,\"fLabelOffset\":0.005,\"fLabelSize\":0.035,\"fTickLength\":0.03,\"fTitleOffset\":1,\"fTitleSize\":0.035,\"fTitleColor\":1,\"fTitleFont\":42,\"fNbins\":1,\"fXmin\":0,\"fXmax\":1,\"fXbins\":[],\"fFirst\":0,\"fLast\":0,\"fBits2\":0,\"fTimeDisplay\":false,\"fTimeFormat\":\"\",\"fLabels\":null,\"fModLabs\":null},\"fBarOffset\":0,\"fBarWidth\":1000,\"fEntries\":23955.3139615164,\"fTsumw\":42.2036053735555,\"fTsumw2\":0.0743527849139512,\"fTsumwx\":10040.7320070414,\"fTsumwx2\":6797048.99235731,\"fMaximum\":-1111,\"fMinimum\":-1111,\"fNormFactor\":0,\"fContour\":[],\"fSumw2\":[0,9.28487745009999e-6,1.32178972517661e-5,1.38715785243618e-5,1.07709677023287e-5,8.38542651763476e-6,8.48653990341121e-6,1.10308759197427e-5,1.33172586249974e-5,1.6897895124141e-5,2.80793909446423e-5,2.93023669439909e-5,2.67107565355851e-5,2.12329639166844e-5,9.81802713589338e-6,3.99436940134302e-6,3.32900529054409e-7,2.28695003088708e-7,2.9274849872489e-6,8.71496012995818e-6,2.65271015079184e-5,3.13268217248685e-5,4.93173899720002e-5,5.3091130514269e-5,5.90798192092811e-5,7.41659586039128e-5,9.32913376318467e-5,1.02530235412794e-4,1.6432999384871e-4,1.70980379738696e-4,2.247127876818e-4,1.84658433175643e-4,2.44942262581621e-4,2.85723885737428e-4,3.02301178197378e-4,4.87751334858166e-4,9.11762489620611e-4,0.00322245042601868,0.00294064168291136,0.00509617554253785,0.00557970983238681,0.0102570661865205,0.0241172045204454,0.0194364389505677,0],\"fOption\":\"\",\"fFunctions\":{\"_typename\":\"TList\",\"name\":\"TList\",\"arr\":[],\"opt\":[]},\"fBufferSize\":0,\"fBuffer\":[],\"fBinStatErrOpt\":0,\"fStatOverflows\":2,\"fArray\":[0,0.952716627510471,0.976423351515982,0.969494483279314,1.02333544935477,1.0176763160971,1.0317817451169,1.0516284336628,0.973718755003328,0.987815917594026,0.981549638218659,0.968116771996819,0.97749311237019,0.964212596210821,0.965472915975418,0.971802634300246,0.954490416865031,0.951683697691746,0.989422867865144,0.983860052276858,1.0032926617384,0.97921960241947,1.01810136713781,1.00560786135184,0.951982685528355,1.03917814777293,0.986373407364662,1.03683176697199,1.00836747947993,1.06326517641381,1.00404185212467,1.02654476618915,1.02505290778501,0.937084524132097,0.986991665917372,1.01076825994647,0.984051169952807,1.00047836302977,0.980350944796209,0.972686551022681,0.874962148239722,0.972555054744813,1.3253945941198,0.317726632470111,0]},{\"_typename\":\"TPaveText\",\"fUniqueID\":0,\"fBits\":50331657,\"fLineColor\":1,\"fLineStyle\":1,\"fLineWidth\":1,\"fFillColor\":0,\"fFillStyle\":0,\"fX1\":2.21776856150321,\"fY1\":1.54739279993545,\"fX2\":2.43544395227213,\"fY2\":1.61875001518056,\"fX1NDC\":0.462160356373366,\"fY1NDC\":0.937914233422926,\"fX2NDC\":0.537839643626634,\"fY2NDC\":0.995000004768372,\"fBorderSize\":0,\"fInit\":1,\"fShadowColor\":1,\"fCornerRadius\":0,\"fOption\":\"blNDC\",\"fName\":\"title\",\"fTextAngle\":0,\"fTextSize\":0,\"fTextAlign\":22,\"fTextColor\":1,\"fTextFont\":42,\"fLabel\":\"\",\"fLongest\":9,\"fMargin\":0.05,\"fLines\":{\"_typename\":\"TList\",\"name\":\"TList\",\"arr\":[{\"_typename\":\"TLatex\",\"fUniqueID\":0,\"fBits\":50331648,\"fName\":\"\",\"fTitle\":\"hMassData\",\"fTextAngle\":0,\"fTextSize\":0,\"fTextAlign\":0,\"fTextColor\":0,\"fTextFont\":0,\"fX\":0,\"fY\":0,\"fLineColor\":1,\"fLineStyle\":1,\"fLineWidth\":2,\"fLimitFactorSize\":3,\"fOriginSize\":0.0485229045152664}],\"opt\":[\"\"]}}],\"opt\":[\"\",\"pe\",\"pe same\",\"pe same\",\"blNDC\"]},\"fExecs\":{\"_typename\":\"TList\",\"name\":\"TList\",\"arr\":[],\"opt\":[]},\"fName\":\"ratio_mass\",\"fTitle\":\"raio_mass\",\"fNumPaletteColor\":0,\"fNextPaletteColor\":0}],\"opt\":[\"\",\"\"]},\"fExecs\":{\"_typename\":\"TList\",\"name\":\"TList\",\"arr\":[],\"opt\":[]},\"fName\":\"c_1\",\"fTitle\":\"c_1\",\"fNumPaletteColor\":0,\"fNextPaletteColor\":0},{\"_typename\":\"TPad\",\"fUniqueID\":0,\"fBits\":50331657,\"fLineColor\":1,\"fLineStyle\":1,\"fLineWidth\":1,\"fFillColor\":0,\"fFillStyle\":1001,\"fLeftMargin\":0.1,\"fRightMargin\":0.1,\"fBottomMargin\":0.1,\"fTopMargin\":0.1,\"fXfile\":2,\"fYfile\":2,\"fAfile\":1,\"fXstat\":0.99,\"fYstat\":0.99,\"fAstat\":2,\"fFrameFillColor\":0,\"fFrameLineColor\":1,\"fFrameFillStyle\":1001,\"fFrameLineStyle\":1,\"fFrameLineWidth\":1,\"fFrameBorderSize\":1,\"fFrameBorderMode\":0,\"fX1\":0,\"fY1\":0,\"fX2\":1,\"fY2\":1,\"fXtoAbsPixelk\":915.960049598563,\"fXtoPixelk\":5e-5,\"fXtoPixel\":862.080000802875,\"fYtoAbsPixelk\":566.280050127852,\"fYtoPixelk\":560.560050255704,\"fYtoPixel\":-560.560000255704,\"fUtoAbsPixelk\":915.960049598563,\"fUtoPixelk\":5e-5,\"fUtoPixel\":862.080000802875,\"fVtoAbsPixelk\":566.280050127852,\"fVtoPixelk\":560.560000255704,\"fVtoPixel\":-560.560000255704,\"fAbsPixeltoXk\":-1.06249999854481,\"fPixeltoXk\":0,\"fPixeltoX\":0.00115998515110973,\"fAbsPixeltoYk\":1.01020408139992,\"fPixeltoYk\":0,\"fPixeltoY\":-0.00178393035454517,\"fXlowNDC\":0.509999999776483,\"fYlowNDC\":0.00999999977648258,\"fXUpNDC\":0,\"fYUpNDC\":0,\"fWNDC\":0.480000000447035,\"fHNDC\":0.980000000447035,\"fAbsXlowNDC\":0.509999999776483,\"fAbsYlowNDC\":0.00999999977648258,\"fAbsWNDC\":0.480000000447035,\"fAbsHNDC\":0.980000000447035,\"fUxmin\":0,\"fUymin\":0,\"fUxmax\":1,\"fUymax\":1,\"fTheta\":30,\"fPhi\":30,\"fAspectRatio\":0,\"fNumber\":2,\"fTickx\":0,\"fTicky\":0,\"fLogx\":0,\"fLogy\":0,\"fLogz\":0,\"fPadPaint\":0,\"fCrosshair\":0,\"fCrosshairPos\":0,\"fBorderSize\":2,\"fBorderMode\":0,\"fModified\":false,\"fGridx\":false,\"fGridy\":false,\"fAbsCoord\":false,\"fEditable\":true,\"fFixedAspectRatio\":false,\"fPrimitives\":{\"_typename\":\"TList\",\"name\":\"TList\",\"arr\":[{\"_typename\":\"TPad\",\"fUniqueID\":0,\"fBits\":50331657,\"fLineColor\":1,\"fLineStyle\":1,\"fLineWidth\":1,\"fFillColor\":0,\"fFillStyle\":1001,\"fLeftMargin\":0.1,\"fRightMargin\":0.1,\"fBottomMargin\":0.1,\"fTopMargin\":0.1,\"fXfile\":2,\"fYfile\":2,\"fAfile\":1,\"fXstat\":0.99,\"fYstat\":0.99,\"fAstat\":2,\"fFrameFillColor\":0,\"fFrameLineColor\":1,\"fFrameFillStyle\":1001,\"fFrameLineStyle\":1,\"fFrameLineWidth\":1,\"fFrameBorderSize\":1,\"fFrameBorderMode\":0,\"fX1\":-7.37500058673326,\"fY1\":-1.08737133155748,\"fX2\":71.3750005867333,\"fY2\":9.7863413358935,\"fXtoAbsPixelk\":996.694531084188,\"fXtoPixelk\":80.7345314856254,\"fXtoPixel\":10.9470474661191,\"fYtoAbsPixelk\":358.872847694403,\"fYtoPixelk\":353.152847822255,\"fYtoPixel\":-36.0862947347842,\"fUtoAbsPixelk\":915.960049598563,\"fUtoPixelk\":5e-5,\"fUtoPixel\":862.080000802875,\"fVtoAbsPixelk\":398.112050051141,\"fVtoPixelk\":392.392000178993,\"fVtoPixel\":-392.392000178993,\"fAbsPixeltoXk\":-91.0468767189451,\"fPixeltoXk\":-7.37500058673326,\"fPixeltoX\":0.0913488320110951,\"fAbsPixeltoYk\":9.94485026329065,\"fPixeltoYk\":-1.08737133155748,\"fPixeltoY\":-0.0277113515629545,\"fXlowNDC\":0,\"fYlowNDC\":0.3,\"fXUpNDC\":0,\"fYUpNDC\":0,\"fWNDC\":1,\"fHNDC\":0.7,\"fAbsXlowNDC\":0.509999999776483,\"fAbsYlowNDC\":0.303999999910593,\"fAbsWNDC\":0.480000000447035,\"fAbsHNDC\":0.686000000312924,\"fUxmin\":0.5,\"fUymin\":0,\"fUxmax\":63.5,\"fUymax\":8.69897000433602,\"fTheta\":30,\"fPhi\":30,\"fAspectRatio\":0,\"fNumber\":0,\"fTickx\":0,\"fTicky\":0,\"fLogx\":0,\"fLogy\":1,\"fLogz\":0,\"fPadPaint\":0,\"fCrosshair\":0,\"fCrosshairPos\":0,\"fBorderSize\":2,\"fBorderMode\":0,\"fModified\":false,\"fGridx\":true,\"fGridy\":true,\"fAbsCoord\":false,\"fEditable\":true,\"fFixedAspectRatio\":false,\"fPrimitives\":{\"_typename\":\"TList\",\"name\":\"TList\",\"arr\":[{\"_typename\":\"TFrame\",\"fUniqueID\":0,\"fBits\":50331656,\"fLineColor\":1,\"fLineStyle\":1,\"fLineWidth\":1,\"fFillColor\":0,\"fFillStyle\":1001,\"fX1\":0.5,\"fY1\":0,\"fX2\":63.5,\"fY2\":8.69897000433602,\"fBorderSize\":1,\"fBorderMode\":0},{\"_typename\":\"TH1D\",\"fUniqueID\":0,\"fBits\":50332168,\"fName\":\"hPtUnfoldedData\",\"fTitle\":\"hPtUnfoldedData\",\"fLineColor\":632,\"fLineStyle\":1,\"fLineWidth\":1,\"fFillColor\":0,\"fFillStyle\":1001,\"fMarkerColor\":632,\"fMarkerStyle\":20,\"fMarkerSize\":1,\"fNcells\":65,\"fXaxis\":{\"_typename\":\"TAxis\",\"fUniqueID\":0,\"fBits\":50331656,\"fName\":\"xaxis\",\"fTitle\":\"Gen_Pt\",\"fNdivisions\":520,\"fAxisColor\":1,\"fLabelColor\":1,\"fLabelFont\":42,\"fLabelOffset\":0.005,\"fLabelSize\":0.035,\"fTickLength\":0.03,\"fTitleOffset\":1,\"fTitleSize\":0.035,\"fTitleColor\":1,\"fTitleFont\":42,\"fNbins\":63,\"fXmin\":0.5,\"fXmax\":63.5,\"fXbins\":[],\"fFirst\":0,\"fLast\":0,\"fBits2\":0,\"fTimeDisplay\":false,\"fTimeFormat\":\"\",\"fLabels\":null,\"fModLabs\":null},\"fYaxis\":{\"_typename\":\"TAxis\",\"fUniqueID\":0,\"fBits\":50331656,\"fName\":\"yaxis\",\"fTitle\":\"\",\"fNdivisions\":10,\"fAxisColor\":1,\"fLabelColor\":1,\"fLabelFont\":42,\"fLabelOffset\":0.005,\"fLabelSize\":0.035,\"fTickLength\":0.03,\"fTitleOffset\":0,\"fTitleSize\":0.035,\"fTitleColor\":1,\"fTitleFont\":42,\"fNbins\":1,\"fXmin\":0,\"fXmax\":1,\"fXbins\":[],\"fFirst\":0,\"fLast\":0,\"fBits2\":0,\"fTimeDisplay\":false,\"fTimeFormat\":\"\",\"fLabels\":null,\"fModLabs\":null},\"fZaxis\":{\"_typename\":\"TAxis\",\"fUniqueID\":0,\"fBits\":50331648,\"fName\":\"zaxis\",\"fTitle\":\"\",\"fNdivisions\":510,\"fAxisColor\":1,\"fLabelColor\":1,\"fLabelFont\":42,\"fLabelOffset\":0.005,\"fLabelSize\":0.035,\"fTickLength\":0.03,\"fTitleOffset\":1,\"fTitleSize\":0.035,\"fTitleColor\":1,\"fTitleFont\":42,\"fNbins\":1,\"fXmin\":0,\"fXmax\":1,\"fXbins\":[],\"fFirst\":0,\"fLast\":0,\"fBits2\":0,\"fTimeDisplay\":false,\"fTimeFormat\":\"\",\"fLabels\":null,\"fModLabs\":null},\"fBarOffset\":0,\"fBarWidth\":1000,\"fEntries\":128,\"fTsumw\":0,\"fTsumw2\":0,\"fTsumwx\":0,\"fTsumwx2\":0,\"fMaximum\":500000000,\"fMinimum\":1,\"fNormFactor\":0,\"fContour\":[],\"fSumw2\":[0,87587.4206972562,305209.300825065,605902.544379001,745556.926491184,848453.558882847,1201056.81646073,807491.335795198,243227.80122956,113707.824975169,507030.269113349,836232.76983204,805019.721002782,946940.758970988,1071722.37810213,962664.325103642,440395.972814888,154038.617135955,77909.7604806159,492406.933213854,885373.56918314,933583.048231499,1133970.2539618,1124812.91127319,958970.090410728,650631.890782924,281686.534712531,190217.634810218,6461796.22054482,10196657.5324691,8005822.07731034,7507069.41102804,7016398.89358158,5731481.08936969,4371926.56054656,2292867.1035668,2397344.32628163,300297.013213158,493901.60565842,410088.388746269,391171.529540722,374691.112286305,369314.42774318,301479.02994633,185807.519958809,106852.229582527,20099.723520178,43192.6778219744,34978.2688400742,27846.1593452871,23836.7302939422,20702.171228723,18699.0200919911,13728.2250217052,10397.8039303753,15770.7545578108,43957.0128089324,67804.4114062537,24015.5954763638,20196.787294277,15998.9598479084,19175.427898227,6087.74724095851,3923.49666852574,0],\"fOption\":\"\",\"fFunctions\":{\"_typename\":\"TList\",\"name\":\"TList\",\"arr\":[],\"opt\":[]},\"fBufferSize\":0,\"fBuffer\":[],\"fBinStatErrOpt\":0,\"fStatOverflows\":2,\"fArray\":[0,20957.3929065126,93332.8743514106,173277.013440999,213168.806190095,255252.896607411,339186.674222738,212937.511259796,106740.666320328,46468.4863837809,231378.517916247,314091.62637015,250042.597359807,255687.80606148,260770.411690925,162051.042252495,79646.6318737419,39484.5994835446,18783.8115807086,220579.004176158,321151.966976274,291171.457510425,341471.439087722,338379.27542323,195242.999627673,119698.730923196,71606.0411028547,36538.9697424085,3667902.93670416,5136030.70541706,3978542.77849823,4124922.06405331,4097410.35484644,2688095.06012328,1857878.5480096,1232845.59068675,705896.975656573,137937.765410868,192824.864353063,153847.717665853,166674.092427393,170859.525920852,119051.799150143,82128.228733847,59534.0595563388,37568.2395157991,4416.6958005044,5838.41732103482,5305.58969029204,6079.86141704783,7202.02815196172,5503.40178162064,4245.40381608129,2882.40073665181,2384.46596101415,1394.07330615848,437.615048406402,1713.12722992947,1646.75116045621,1695.67687202144,1729.40539275847,1058.92426172124,823.600239162331,791.735809029061,0]},{\"_typename\":\"TH1D\",\"fUniqueID\":0,\"fBits\":50331656,\"fName\":\"hPtFSRUnfoldedData\",\"fTitle\":\"hPtFSRUnfoldedData\",\"fLineColor\":600,\"fLineStyle\":1,\"fLineWidth\":1,\"fFillColor\":0,\"fFillStyle\":1001,\"fMarkerColor\":600,\"fMarkerStyle\":20,\"fMarkerSize\":1,\"fNcells\":65,\"fXaxis\":{\"_typename\":\"TAxis\",\"fUniqueID\":0,\"fBits\":50331648,\"fName\":\"xaxis\",\"fTitle\":\"Gen_Pt\",\"fNdivisions\":510,\"fAxisColor\":1,\"fLabelColor\":1,\"fLabelFont\":42,\"fLabelOffset\":0.005,\"fLabelSize\":0.035,\"fTickLength\":0.03,\"fTitleOffset\":1,\"fTitleSize\":0.035,\"fTitleColor\":1,\"fTitleFont\":42,\"fNbins\":63,\"fXmin\":0.5,\"fXmax\":63.5,\"fXbins\":[],\"fFirst\":0,\"fLast\":0,\"fBits2\":0,\"fTimeDisplay\":false,\"fTimeFormat\":\"\",\"fLabels\":null,\"fModLabs\":null},\"fYaxis\":{\"_typename\":\"TAxis\",\"fUniqueID\":0,\"fBits\":50331648,\"fName\":\"yaxis\",\"fTitle\":\"\",\"fNdivisions\":510,\"fAxisColor\":1,\"fLabelColor\":1,\"fLabelFont\":42,\"fLabelOffset\":0.005,\"fLabelSize\":0.035,\"fTickLength\":0.03,\"fTitleOffset\":0,\"fTitleSize\":0.035,\"fTitleColor\":1,\"fTitleFont\":42,\"fNbins\":1,\"fXmin\":0,\"fXmax\":1,\"fXbins\":[],\"fFirst\":0,\"fLast\":0,\"fBits2\":0,\"fTimeDisplay\":false,\"fTimeFormat\":\"\",\"fLabels\":null,\"fModLabs\":null},\"fZaxis\":{\"_typename\":\"TAxis\",\"fUniqueID\":0,\"fBits\":50331648,\"fName\":\"zaxis\",\"fTitle\":\"\",\"fNdivisions\":510,\"fAxisColor\":1,\"fLabelColor\":1,\"fLabelFont\":42,\"fLabelOffset\":0.005,\"fLabelSize\":0.035,\"fTickLength\":0.03,\"fTitleOffset\":1,\"fTitleSize\":0.035,\"fTitleColor\":1,\"fTitleFont\":42,\"fNbins\":1,\"fXmin\":0,\"fXmax\":1,\"fXbins\":[],\"fFirst\":0,\"fLast\":0,\"fBits2\":0,\"fTimeDisplay\":false,\"fTimeFormat\":\"\",\"fLabels\":null,\"fModLabs\":null},\"fBarOffset\":0,\"fBarWidth\":1000,\"fEntries\":128,\"fTsumw\":0,\"fTsumw2\":0,\"fTsumwx\":0,\"fTsumwx2\":0,\"fMaximum\":-1111,\"fMinimum\":-1111,\"fNormFactor\":0,\"fContour\":[],\"fSumw2\":[0,372326009412.879,23698285608.5175,3636934860.19324,1286484376.22249,342328268.960913,41041130.4006246,9353203.27275492,1776377.31556015,531229.894271122,14396370.3618207,15282720.2536092,10763947.8941143,10082689.2960886,9401346.01418518,6953548.00061993,2830840.34455622,805533.776658151,333527.855116963,4761226.78218478,7338422.10571153,6863631.42346846,7511390.62703484,6613307.85844964,4774862.19338343,2757664.21001869,1044412.61208182,616255.254220269,46491804.6923947,65985466.6495369,47705523.6093065,41070676.1033797,34921627.5345734,24882015.5150105,16598991.999102,7624675.03684799,6896006.11727575,1958701.51824884,2973124.80875673,2312853.75228084,2055092.56700334,1793181.83825966,1604557.76940615,1174251.74715258,624071.58524291,313795.554735346,84617.6824036713,191373.741147531,146162.154991343,118094.078530255,84551.6572508123,69295.7895384393,60925.0991964836,42574.6011963166,30146.6504534812,51991.2680948154,131403.150542488,206302.94957364,59568.2782550667,56791.9374536029,42060.0174430243,45344.3311775993,15691.914157372,8240.08524943934,0],\"fOption\":\"\",\"fFunctions\":{\"_typename\":\"TList\",\"name\":\"TList\",\"arr\":[],\"opt\":[]},\"fBufferSize\":0,\"fBuffer\":[],\"fBinStatErrOpt\":0,\"fStatOverflows\":2,\"fArray\":[0,41594518.2049617,24810818.2047373,12873435.0021259,8472131.2462382,4925877.09235558,1895868.26663846,695352.51543264,281291.611621448,99145.9284470539,1203625.34899964,1284695.07417551,851738.665282791,737536.723829124,578658.18024748,284919.346539785,158916.696054968,77428.8944527498,35369.128117223,607744.435301848,716516.79293403,504374.624030041,466447.61677671,406259.114608029,249345.472272897,154738.010431437,92205.282819095,50503.9357799129,9661921.54742642,12675620.8078176,9374943.9101419,9394263.22980254,8986077.22278415,5521949.64962905,3580005.60094633,2228156.1567705,1194380.10002769,347272.827979493,461444.321064095,353899.799675259,371733.293841785,364856.218076296,242772.597477952,158867.585682911,107393.923796141,63926.8112729748,8929.00343414476,11785.3687701983,10272.6817259933,11873.7577338811,12907.9757961618,9710.81976125986,7344.20368544414,4812.22013088513,3966.76749272315,2510.69301393689,671.108637421309,2886.60633068102,2468.36000549085,2647.28096536605,2677.89290100927,1491.97278295362,1247.42614948369,1090.31455950231,0]},{\"_typename\":\"TH1D\",\"fUniqueID\":0,\"fBits\":50331656,\"fName\":\"hPtUnfoldedData_\",\"fTitle\":\"hPtUnfoldedData_\",\"fLineColor\":616,\"fLineStyle\":1,\"fLineWidth\":1,\"fFillColor\":0,\"fFillStyle\":1001,\"fMarkerColor\":616,\"fMarkerStyle\":22,\"fMarkerSize\":0.8,\"fNcells\":65,\"fXaxis\":{\"_typename\":\"TAxis\",\"fUniqueID\":0,\"fBits\":50331648,\"fName\":\"xaxis\",\"fTitle\":\"Gen_Pt\",\"fNdivisions\":510,\"fAxisColor\":1,\"fLabelColor\":1,\"fLabelFont\":42,\"fLabelOffset\":0.005,\"fLabelSize\":0.035,\"fTickLength\":0.03,\"fTitleOffset\":1,\"fTitleSize\":0.035,\"fTitleColor\":1,\"fTitleFont\":42,\"fNbins\":63,\"fXmin\":0.5,\"fXmax\":63.5,\"fXbins\":[],\"fFirst\":0,\"fLast\":0,\"fBits2\":0,\"fTimeDisplay\":false,\"fTimeFormat\":\"\",\"fLabels\":null,\"fModLabs\":null},\"fYaxis\":{\"_typename\":\"TAxis\",\"fUniqueID\":0,\"fBits\":50331648,\"fName\":\"yaxis\",\"fTitle\":\"\",\"fNdivisions\":510,\"fAxisColor\":1,\"fLabelColor\":1,\"fLabelFont\":42,\"fLabelOffset\":0.005,\"fLabelSize\":0.035,\"fTickLength\":0.03,\"fTitleOffset\":0,\"fTitleSize\":0.035,\"fTitleColor\":1,\"fTitleFont\":42,\"fNbins\":1,\"fXmin\":0,\"fXmax\":1,\"fXbins\":[],\"fFirst\":0,\"fLast\":0,\"fBits2\":0,\"fTimeDisplay\":false,\"fTimeFormat\":\"\",\"fLabels\":null,\"fModLabs\":null},\"fZaxis\":{\"_typename\":\"TAxis\",\"fUniqueID\":0,\"fBits\":50331648,\"fName\":\"zaxis\",\"fTitle\":\"\",\"fNdivisions\":510,\"fAxisColor\":1,\"fLabelColor\":1,\"fLabelFont\":42,\"fLabelOffset\":0.005,\"fLabelSize\":0.035,\"fTickLength\":0.03,\"fTitleOffset\":1,\"fTitleSize\":0.035,\"fTitleColor\":1,\"fTitleFont\":42,\"fNbins\":1,\"fXmin\":0,\"fXmax\":1,\"fXbins\":[],\"fFirst\":0,\"fLast\":0,\"fBits2\":0,\"fTimeDisplay\":false,\"fTimeFormat\":\"\",\"fLabels\":null,\"fModLabs\":null},\"fBarOffset\":0,\"fBarWidth\":1000,\"fEntries\":128,\"fTsumw\":0,\"fTsumw2\":0,\"fTsumwx\":0,\"fTsumwx2\":0,\"fMaximum\":-1111,\"fMinimum\":-1111,\"fNormFactor\":0,\"fContour\":[],\"fSumw2\":[0,220244611841.175,19302207210.9927,3158993289.66244,1168142687.05118,313340740.103144,38355943.0572673,9116211.38127142,1733964.35378706,518163.458299126,13698382.0204729,14698684.2072978,10146400.9016513,9272060.92970361,7947439.33437899,5585825.34465204,2402255.03035249,726581.737505244,306363.560135422,4375621.84135212,6352084.49633524,5349890.04083528,5463059.46190797,4672054.02483377,3593697.39171551,2066956.17845789,809025.421273716,542947.85027618,46564322.9125421,66465797.5873634,47516028.7180383,41334944.3295349,35323581.8623484,24858151.576118,16513418.0840878,7528789.766932,6800973.60692571,1929009.71169681,2946439.52789079,2263286.29152427,2015876.27978903,1762414.41397589,1577878.46301622,1149604.36709483,610893.508292668,308381.293334791,79819.7641822438,181037.080853604,144333.453349481,117647.885779272,81304.3718458686,66470.7355902589,59863.8129201045,41258.6270464992,29724.2792061603,62902.4847075082,153087.942890427,214133.854269033,62671.2581861965,51080.3879036266,40860.9676436482,42623.2877545268,13628.6683671571,7555.94803488719,0],\"fOption\":\"\",\"fFunctions\":{\"_typename\":\"TList\",\"name\":\"TList\",\"arr\":[],\"opt\":[]},\"fBufferSize\":0,\"fBuffer\":[],\"fBinStatErrOpt\":0,\"fStatOverflows\":2,\"fArray\":[0,32088887.1131621,22520543.1530418,12115705.5175556,8122390.42443359,4747906.69086867,1838661.10480792,695149.810836228,280003.413352516,98463.2012890545,1181238.12053684,1272482.88790503,844717.537238208,732007.788755032,575340.651175074,283432.778288957,157050.561437362,75914.9965042622,33043.74635123,602087.494043739,706686.324132142,495554.009012845,461390.348306901,406980.819197877,246170.5675179,151811.801942691,89216.9852632543,43047.1875347925,9629630.66865099,12626710.3593315,9342394.11202078,9364108.7275756,8958138.45577889,5503016.32708841,3567654.74577613,2221294.60941653,1185647.39767069,346329.816868913,460348.300717351,353238.340033629,371046.565384545,363969.016082657,242052.357965426,158556.631751161,107034.715301417,63414.7452978265,8873.0795629419,11850.2639511033,10238.1517043973,11866.0608629095,12954.4497232737,9713.00625213907,7324.91310724976,4779.40820411964,3922.50775331365,2646.82995612087,557.383747023108,2891.6614986078,2409.43436696603,2718.53913335697,2641.14080326482,1517.23098629913,1254.5815558216,1089.13416963111,0]},{\"_typename\":\"TH1D\",\"fUniqueID\":0,\"fBits\":50331656,\"fName\":\"hPtUnfoldedMC_closure\",\"fTitle\":\"hPtUnfoldedMC_closure\",\"fLineColor\":602,\"fLineStyle\":1,\"fLineWidth\":1,\"fFillColor\":0,\"fFillStyle\":1001,\"fMarkerColor\":1,\"fMarkerStyle\":1,\"fMarkerSize\":1,\"fNcells\":65,\"fXaxis\":{\"_typename\":\"TAxis\",\"fUniqueID\":0,\"fBits\":50331648,\"fName\":\"xaxis\",\"fTitle\":\"Gen_Pt\",\"fNdivisions\":510,\"fAxisColor\":1,\"fLabelColor\":1,\"fLabelFont\":42,\"fLabelOffset\":0.005,\"fLabelSize\":0.035,\"fTickLength\":0.03,\"fTitleOffset\":1,\"fTitleSize\":0.035,\"fTitleColor\":1,\"fTitleFont\":42,\"fNbins\":63,\"fXmin\":0.5,\"fXmax\":63.5,\"fXbins\":[],\"fFirst\":0,\"fLast\":0,\"fBits2\":0,\"fTimeDisplay\":false,\"fTimeFormat\":\"\",\"fLabels\":null,\"fModLabs\":null},\"fYaxis\":{\"_typename\":\"TAxis\",\"fUniqueID\":0,\"fBits\":50331648,\"fName\":\"yaxis\",\"fTitle\":\"\",\"fNdivisions\":510,\"fAxisColor\":1,\"fLabelColor\":1,\"fLabelFont\":42,\"fLabelOffset\":0.005,\"fLabelSize\":0.035,\"fTickLength\":0.03,\"fTitleOffset\":0,\"fTitleSize\":0.035,\"fTitleColor\":1,\"fTitleFont\":42,\"fNbins\":1,\"fXmin\":0,\"fXmax\":1,\"fXbins\":[],\"fFirst\":0,\"fLast\":0,\"fBits2\":0,\"fTimeDisplay\":false,\"fTimeFormat\":\"\",\"fLabels\":null,\"fModLabs\":null},\"fZaxis\":{\"_typename\":\"TAxis\",\"fUniqueID\":0,\"fBits\":50331648,\"fName\":\"zaxis\",\"fTitle\":\"\",\"fNdivisions\":510,\"fAxisColor\":1,\"fLabelColor\":1,\"fLabelFont\":42,\"fLabelOffset\":0.005,\"fLabelSize\":0.035,\"fTickLength\":0.03,\"fTitleOffset\":1,\"fTitleSize\":0.035,\"fTitleColor\":1,\"fTitleFont\":42,\"fNbins\":1,\"fXmin\":0,\"fXmax\":1,\"fXbins\":[],\"fFirst\":0,\"fLast\":0,\"fBits2\":0,\"fTimeDisplay\":false,\"fTimeFormat\":\"\",\"fLabels\":null,\"fModLabs\":null},\"fBarOffset\":0,\"fBarWidth\":1000,\"fEntries\":128,\"fTsumw\":0,\"fTsumw2\":0,\"fTsumwx\":0,\"fTsumwx2\":0,\"fMaximum\":-1111,\"fMinimum\":-1111,\"fNormFactor\":0,\"fContour\":[],\"fSumw2\":[0,2971044331309.7,248701368104.165,36053571072.9374,13037959786.1542,3514409543.65491,572033202.531166,161418426.554812,40863170.3324052,12858642.561954,111308704.524724,114382629.820102,69950893.4544521,57658284.1467536,45097561.891644,31239916.0604607,18712588.9997231,6520730.00118922,2798081.64709623,12558820.5926433,18941106.8014837,16694879.1645534,17909074.6060177,17074264.2301184,12915180.8893117,8774816.20794828,3905786.3127922,3114185.47671438,146103129.880155,214981455.236642,162674739.861648,156641562.221443,154848978.21725,134156346.383239,104011585.258982,50748924.4682871,45767320.4469167,5464765.48542375,8727119.98532341,7054525.63596425,6727028.75494894,6880956.23066357,6646432.75398917,5243145.88879288,2836600.19526152,1703705.73835439,196808.704809254,486027.116789992,414970.754151456,366028.85130686,296971.816123068,281806.270607142,257989.181767687,166296.972402966,118962.197553657,149545.713055183,413589.524941762,564219.477685638,178865.810205627,180218.316013552,142142.279757807,98746.6669214465,61988.5735893062,33298.8560444495,0],\"fOption\":\"\",\"fFunctions\":{\"_typename\":\"TList\",\"name\":\"TList\",\"arr\":[],\"opt\":[]},\"fBufferSize\":0,\"fBuffer\":[],\"fBinStatErrOpt\":0,\"fStatOverflows\":2,\"fArray\":[0,30615679.869343,22248960.7692774,11102177.5519808,7743873.87354525,4652105.26399414,1880464.41353905,752429.632121714,303791.614263909,105659.504349507,1110782.76321964,1193542.29154819,782039.45225802,732194.572092926,612999.660205383,324148.53546519,166940.369961346,82686.1419229834,34658.7753826268,566252.389742069,686046.071839969,497712.409937693,508121.810116678,484853.612730089,283941.780223964,165609.501696228,93759.2660641764,45735.6881968111,9571800.60580227,12364534.9884572,9388553.90631974,10013363.3122186,10120568.3785443,6342576.96710236,3924183.94188706,2399637.05467703,1261422.9961851,317229.165950428,431463.082955638,341434.375508433,374056.14537622,397310.830723273,259562.188384726,169961.465743472,112742.118765488,64002.8845881323,7169.77142010427,11285.0155726417,9731.82055517001,11850.8542480394,13981.5479867009,10157.3459286783,7781.0354012944,5868.93437228314,4106.04353917733,1163.28689770774,2105.52165333319,1859.29742592275,2285.43023811901,3265.74167992092,2204.99511727022,1854.07484171468,1914.8641807873,1240.65514743649,0]},{\"_typename\":\"TH1D\",\"fUniqueID\":0,\"fBits\":50331656,\"fName\":\"hPtData\",\"fTitle\":\"hPtData\",\"fLineColor\":1,\"fLineStyle\":1,\"fLineWidth\":1,\"fFillColor\":0,\"fFillStyle\":1001,\"fMarkerColor\":1,\"fMarkerStyle\":20,\"fMarkerSize\":1,\"fNcells\":121,\"fXaxis\":{\"_typename\":\"TAxis\",\"fUniqueID\":0,\"fBits\":50331648,\"fName\":\"xaxis\",\"fTitle\":\"Rec_Pt\",\"fNdivisions\":510,\"fAxisColor\":1,\"fLabelColor\":1,\"fLabelFont\":42,\"fLabelOffset\":0.005,\"fLabelSize\":0.035,\"fTickLength\":0.03,\"fTitleOffset\":1,\"fTitleSize\":0.035,\"fTitleColor\":1,\"fTitleFont\":42,\"fNbins\":119,\"fXmin\":0.5,\"fXmax\":119.5,\"fXbins\":[],\"fFirst\":0,\"fLast\":0,\"fBits2\":0,\"fTimeDisplay\":false,\"fTimeFormat\":\"\",\"fLabels\":null,\"fModLabs\":null},\"fYaxis\":{\"_typename\":\"TAxis\",\"fUniqueID\":0,\"fBits\":50331648,\"fName\":\"yaxis\",\"fTitle\":\"\",\"fNdivisions\":510,\"fAxisColor\":1,\"fLabelColor\":1,\"fLabelFont\":42,\"fLabelOffset\":0.005,\"fLabelSize\":0.035,\"fTickLength\":0.03,\"fTitleOffset\":0,\"fTitleSize\":0.035,\"fTitleColor\":1,\"fTitleFont\":42,\"fNbins\":1,\"fXmin\":0,\"fXmax\":1,\"fXbins\":[],\"fFirst\":0,\"fLast\":0,\"fBits2\":0,\"fTimeDisplay\":false,\"fTimeFormat\":\"\",\"fLabels\":null,\"fModLabs\":null},\"fZaxis\":{\"_typename\":\"TAxis\",\"fUniqueID\":0,\"fBits\":50331648,\"fName\":\"zaxis\",\"fTitle\":\"\",\"fNdivisions\":510,\"fAxisColor\":1,\"fLabelColor\":1,\"fLabelFont\":42,\"fLabelOffset\":0.005,\"fLabelSize\":0.035,\"fTickLength\":0.03,\"fTitleOffset\":1,\"fTitleSize\":0.035,\"fTitleColor\":1,\"fTitleFont\":42,\"fNbins\":1,\"fXmin\":0,\"fXmax\":1,\"fXbins\":[],\"fFirst\":0,\"fLast\":0,\"fBits2\":0,\"fTimeDisplay\":false,\"fTimeFormat\":\"\",\"fLabels\":null,\"fModLabs\":null},\"fBarOffset\":0,\"fBarWidth\":1000,\"fEntries\":240,\"fTsumw\":0,\"fTsumw2\":0,\"fTsumwx\":0,\"fTsumwx2\":0,\"fMaximum\":-1111,\"fMinimum\":-1111,\"fNormFactor\":0,\"fContour\":[],\"fSumw2\":[0,1403.98223773232,10295.8002657362,23739.9218801817,39706.8894698761,56261.3573578035,65028.5978757957,62855.2115328815,99641.494897139,84155.4420170236,120970.449259031,151225.284785746,174603.045340096,107958.215611382,50475.8826029083,33847.2699614528,18896.2251208081,18898.8321543044,57184.6808859185,118993.655358686,131127.737016309,126829.632412518,119151.828296448,109582.069734463,101551.847389934,164541.448556978,133142.768006989,152447.11786348,132788.673428522,145066.497093567,48419.1775864023,32861.1714907279,16888.091599222,13214.6712636011,11166.7010427089,54098.807014433,118305.652005508,134818.448259148,132913.49863633,126220.108554248,116588.4585121,110370.244827229,180397.360917014,137793.929508579,147561.264929859,128658.66306424,142965.574991007,65608.257631711,43053.8400848357,24358.902570981,17308.7472865556,15041.2937283732,821698.87952064,1831351.33344727,2001252.98225852,1829741.46707192,1593250.9699782,1359142.24384153,1162435.66757229,1851458.64990826,1394348.88731944,1524047.03568615,1224344.69775488,1146053.8044454,727479.994391541,480760.680796346,328125.926349273,230203.676953788,229054.108037906,30859.7713522129,68433.964682057,77909.333497482,72516.7398541449,66950.88108733,57150.4090106395,51359.7729970716,84971.3397191873,65040.8491755749,76328.8759894067,70378.5847869702,74266.6757199579,50480.5426245177,43283.8004941849,20558.6517909321,16675.2999432748,16182.5232382333,804.120035814202,1768.78574867924,2252.65293136016,2326.54080663649,2199.23087175224,2125.65949506876,1861.6971154039,3419.6600459704,2951.57318611469,3507.50055877357,3282.22122191167,4038.21380351662,3099.34389197001,2876.17560250972,1767.46902892606,1517.63949049175,1680.10586133205,121.021222086317,292.87503864431,401.074424353378,400.211922364288,510.603953641001,442.118785736896,432.155889890416,866.910506359367,751.427798604049,910.202706996685,922.859148405618,1067.92346815712,2314.99290915416,666.092851598984,550.154599008246,441.286413739875,558.324571722584,0],\"fOption\":\"\",\"fFunctions\":{\"_typename\":\"TList\",\"name\":\"TList\",\"arr\":[],\"opt\":[]},\"fBufferSize\":0,\"fBuffer\":[],\"fBinStatErrOpt\":0,\"fStatOverflows\":2,\"fArray\":[0,1237.25823303128,8726.04609721535,19563.00036435,30150.0418316376,40940.6328474021,45839.1701656328,41209.4473611912,67044.8077761115,54461.8884797649,79037.8194095615,109385.491928065,129891.216535371,72743.6587187978,41815.6939523094,25136.1117504753,15623.0001664841,13645.8695233004,49691.37865978,99174.3391524215,104096.425485975,95267.5676418266,82658.4663614435,70672.3438347195,59453.8251416927,94203.0986307296,71730.6286163591,80682.4930431267,63842.7688516282,49319.885865641,26552.2910277798,15294.2783247955,9490.96596688994,6250.98183722267,5712.16035058913,51047.2259157635,110693.877319291,124453.390290718,121475.553494074,114604.205478067,105352.181678429,94484.2307873652,158139.269687479,119531.396436769,123000.795309841,90018.1908081581,77326.2999019558,46736.7992806239,28908.7474030878,18933.2194912309,12802.5880123223,12214.9838349152,821448.290513433,1830655.70060228,2000219.03789313,1828493.07489906,1590390.1110868,1357674.53914119,1159196.22551492,1847797.71116826,1390577.89439565,1511666.77470572,1211995.95726945,1126370.10229666,713853.893259252,470064.261778762,320230.95734486,223809.885526627,221578.752954942,30764.2910296376,68186.1010901571,77568.5279408122,72127.0159969761,64607.3483878397,56611.1548009709,49080.5135351463,80194.6753131735,62103.3307834888,69144.6296711062,56871.9355254169,54496.6428881744,35644.9601542478,23785.0006583478,17253.1968536297,12374.5269615962,13083.122971407,796.199308633651,1746.3668187595,2202.29647379295,2275.8379925708,2138.67242451001,2049.14213501885,1759.33330681869,3199.86071144429,2675.27749018838,3071.10070209314,2719.33234113051,2813.32870240329,1854.36875645371,1363.07300817657,954.794577095804,837.101549578379,839.016173382091,120.478825752608,288.826348566597,390.269351887495,387.741044558491,496.274425976625,422.264060908653,409.024370246306,806.575217589964,691.582775446626,809.430653649179,784.386750975925,861.27940202217,558.670031096282,444.129239048723,340.149775417697,262.646630952941,316.831000222966,0]},{\"_typename\":\"TLegend\",\"fUniqueID\":0,\"fBits\":50331656,\"fLineColor\":1,\"fLineStyle\":1,\"fLineWidth\":1,\"fFillColor\":0,\"fFillStyle\":1001,\"fX1\":47.7500002346933,\"fY1\":6.52422753565821,\"fX2\":63.5000004693866,\"fY2\":8.6989700691484,\"fX1NDC\":0.7,\"fY1NDC\":0.7,\"fX2NDC\":0.9,\"fY2NDC\":0.9,\"fBorderSize\":1,\"fInit\":1,\"fShadowColor\":1,\"fCornerRadius\":0,\"fOption\":\"brNDC\",\"fName\":\"TPave\",\"fTextAngle\":0,\"fTextSize\":0,\"fTextAlign\":12,\"fTextColor\":1,\"fTextFont\":42,\"fPrimitives\":{\"_typename\":\"TList\",\"name\":\"TList\",\"arr\":[{\"_typename\":\"TLegendEntry\",\"fUniqueID\":0,\"fBits\":50331656,\"fTextAngle\":0,\"fTextSize\":0,\"fTextAlign\":0,\"fTextColor\":0,\"fTextFont\":42,\"fLineColor\":1,\"fLineStyle\":1,\"fLineWidth\":1,\"fFillColor\":0,\"fFillStyle\":0,\"fMarkerColor\":1,\"fMarkerStyle\":20,\"fMarkerSize\":1,\"fObject\":{\"$ref\":89},\"fLabel\":\"Detector  data\",\"fOption\":\"ple\"},{\"_typename\":\"TLegendEntry\",\"fUniqueID\":0,\"fBits\":50331656,\"fTextAngle\":0,\"fTextSize\":0,\"fTextAlign\":0,\"fTextColor\":0,\"fTextFont\":42,\"fLineColor\":632,\"fLineStyle\":1,\"fLineWidth\":1,\"fFillColor\":0,\"fFillStyle\":0,\"fMarkerColor\":632,\"fMarkerStyle\":20,\"fMarkerSize\":1,\"fObject\":{\"$ref\":69},\"fLabel\":\"Det unfolded data\",\"fOption\":\"ple\"},{\"_typename\":\"TLegendEntry\",\"fUniqueID\":0,\"fBits\":50331656,\"fTextAngle\":0,\"fTextSize\":0,\"fTextAlign\":0,\"fTextColor\":0,\"fTextFont\":42,\"fLineColor\":600,\"fLineStyle\":1,\"fLineWidth\":1,\"fFillColor\":0,\"fFillStyle\":0,\"fMarkerColor\":600,\"fMarkerStyle\":20,\"fMarkerSize\":1,\"fObject\":{\"$ref\":74},\"fLabel\":\"Pre-FSR unfolded data\",\"fOption\":\"ple\"}],\"opt\":[\"ple\",\"ple\",\"ple\"]},\"fEntrySeparation\":0.1,\"fMargin\":0.25,\"fNColumns\":1,\"fColumnSeparation\":0},{\"_typename\":\"TPaveText\",\"fUniqueID\":0,\"fBits\":50331657,\"fLineColor\":1,\"fLineStyle\":1,\"fLineWidth\":1,\"fFillColor\":0,\"fFillStyle\":0,\"fX1\":23.8132445953666,\"fY1\":9.13391861878464,\"fX2\":40.1867554046334,\"fY2\":9.73197282440615,\"fX1NDC\":0.396041202760112,\"fY1NDC\":0.940000003948808,\"fX2NDC\":0.603958797239888,\"fY2NDC\":0.995000004768372,\"fBorderSize\":0,\"fInit\":1,\"fShadowColor\":1,\"fCornerRadius\":0,\"fOption\":\"blNDC\",\"fName\":\"title\",\"fTextAngle\":0,\"fTextSize\":0,\"fTextAlign\":22,\"fTextColor\":1,\"fTextFont\":42,\"fLabel\":\"\",\"fLongest\":15,\"fMargin\":0.05,\"fLines\":{\"_typename\":\"TList\",\"name\":\"TList\",\"arr\":[{\"_typename\":\"TLatex\",\"fUniqueID\":0,\"fBits\":50331648,\"fName\":\"\",\"fTitle\":\"hPtUnfoldedData\",\"fTextAngle\":0,\"fTextSize\":0,\"fTextAlign\":0,\"fTextColor\":0,\"fTextFont\":0,\"fX\":0,\"fY\":0,\"fLineColor\":1,\"fLineStyle\":1,\"fLineWidth\":2,\"fLimitFactorSize\":3,\"fOriginSize\":0.0467500016093254}],\"opt\":[\"\"]}}],\"opt\":[\"\",\"hist pe\",\"pe same\",\"pe same\",\"pe same\",\"pe same\",\"\",\"blNDC\"]},\"fExecs\":{\"_typename\":\"TList\",\"name\":\"TList\",\"arr\":[],\"opt\":[]},\"fName\":\"pad_pt\",\"fTitle\":\"pad_pt\",\"fNumPaletteColor\":0,\"fNextPaletteColor\":0},{\"_typename\":\"TPad\",\"fUniqueID\":0,\"fBits\":50331657,\"fLineColor\":1,\"fLineStyle\":1,\"fLineWidth\":1,\"fFillColor\":0,\"fFillStyle\":1001,\"fLeftMargin\":0.1,\"fRightMargin\":0.1,\"fBottomMargin\":0.1,\"fTopMargin\":0.1,\"fXfile\":2,\"fYfile\":2,\"fAfile\":1,\"fXstat\":0.99,\"fYstat\":0.99,\"fAstat\":2,\"fFrameFillColor\":0,\"fFrameLineColor\":1,\"fFrameFillStyle\":1001,\"fFrameLineStyle\":1,\"fFrameLineWidth\":1,\"fFrameBorderSize\":1,\"fFrameBorderMode\":0,\"fX1\":-14.3750011082739,\"fY1\":-0.250000018626453,\"fX2\":134.375001108274,\"fY2\":2.25000001862645,\"fXtoAbsPixelk\":999.270306958569,\"fXtoPixelk\":83.3103073600063,\"fXtoPixel\":5.79549571735718,\"fYtoAbsPixelk\":549.463249117821,\"fYtoPixelk\":151.351249066681,\"fYtoPixel\":-67.267199028325,\"fUtoAbsPixelk\":915.960049598563,\"fUtoPixelk\":5e-5,\"fUtoPixel\":862.080000802875,\"fVtoAbsPixelk\":566.280050127852,\"fVtoPixelk\":168.168000076711,\"fVtoPixel\":-168.168000076711,\"fAbsPixeltoXk\":-172.421878246896,\"fPixeltoXk\":-14.3750011082739,\"fPixeltoX\":0.172547793798735,\"fAbsPixeltoYk\":8.16836745181633,\"fPixeltoYk\":-0.250000018626453,\"fPixeltoY\":-0.0148660865093984,\"fXlowNDC\":0,\"fYlowNDC\":0,\"fXUpNDC\":0,\"fYUpNDC\":0,\"fWNDC\":1,\"fHNDC\":0.3,\"fAbsXlowNDC\":0.509999999776483,\"fAbsYlowNDC\":0.00999999977648258,\"fAbsWNDC\":0.480000000447035,\"fAbsHNDC\":0.29400000013411,\"fUxmin\":0.5,\"fUymin\":0,\"fUxmax\":119.5,\"fUymax\":2,\"fTheta\":30,\"fPhi\":30,\"fAspectRatio\":0,\"fNumber\":0,\"fTickx\":0,\"fTicky\":0,\"fLogx\":0,\"fLogy\":0,\"fLogz\":0,\"fPadPaint\":0,\"fCrosshair\":0,\"fCrosshairPos\":0,\"fBorderSize\":2,\"fBorderMode\":0,\"fModified\":false,\"fGridx\":true,\"fGridy\":true,\"fAbsCoord\":false,\"fEditable\":true,\"fFixedAspectRatio\":false,\"fPrimitives\":{\"_typename\":\"TList\",\"name\":\"TList\",\"arr\":[{\"_typename\":\"TFrame\",\"fUniqueID\":0,\"fBits\":50331656,\"fLineColor\":1,\"fLineStyle\":1,\"fLineWidth\":1,\"fFillColor\":0,\"fFillStyle\":1001,\"fX1\":0.5,\"fY1\":0,\"fX2\":119.5,\"fY2\":2,\"fBorderSize\":1,\"fBorderMode\":0},{\"_typename\":\"TH1D\",\"fUniqueID\":0,\"fBits\":50332168,\"fName\":\"ratioPt_detector\",\"fTitle\":\"hPtData\",\"fLineColor\":1,\"fLineStyle\":1,\"fLineWidth\":1,\"fFillColor\":0,\"fFillStyle\":1001,\"fMarkerColor\":1,\"fMarkerStyle\":20,\"fMarkerSize\":1,\"fNcells\":121,\"fXaxis\":{\"_typename\":\"TAxis\",\"fUniqueID\":0,\"fBits\":50331648,\"fName\":\"xaxis\",\"fTitle\":\"Rec_Pt\",\"fNdivisions\":510,\"fAxisColor\":1,\"fLabelColor\":1,\"fLabelFont\":42,\"fLabelOffset\":0.005,\"fLabelSize\":0.035,\"fTickLength\":0.03,\"fTitleOffset\":1,\"fTitleSize\":0.035,\"fTitleColor\":1,\"fTitleFont\":42,\"fNbins\":119,\"fXmin\":0.5,\"fXmax\":119.5,\"fXbins\":[],\"fFirst\":0,\"fLast\":0,\"fBits2\":0,\"fTimeDisplay\":false,\"fTimeFormat\":\"\",\"fLabels\":null,\"fModLabs\":null},\"fYaxis\":{\"_typename\":\"TAxis\",\"fUniqueID\":0,\"fBits\":50331648,\"fName\":\"yaxis\",\"fTitle\":\"\",\"fNdivisions\":510,\"fAxisColor\":1,\"fLabelColor\":1,\"fLabelFont\":42,\"fLabelOffset\":0.005,\"fLabelSize\":0.035,\"fTickLength\":0.03,\"fTitleOffset\":0,\"fTitleSize\":0.035,\"fTitleColor\":1,\"fTitleFont\":42,\"fNbins\":1,\"fXmin\":0,\"fXmax\":1,\"fXbins\":[],\"fFirst\":0,\"fLast\":0,\"fBits2\":0,\"fTimeDisplay\":false,\"fTimeFormat\":\"\",\"fLabels\":null,\"fModLabs\":null},\"fZaxis\":{\"_typename\":\"TAxis\",\"fUniqueID\":0,\"fBits\":50331648,\"fName\":\"zaxis\",\"fTitle\":\"\",\"fNdivisions\":510,\"fAxisColor\":1,\"fLabelColor\":1,\"fLabelFont\":42,\"fLabelOffset\":0.005,\"fLabelSize\":0.035,\"fTickLength\":0.03,\"fTitleOffset\":1,\"fTitleSize\":0.035,\"fTitleColor\":1,\"fTitleFont\":42,\"fNbins\":1,\"fXmin\":0,\"fXmax\":1,\"fXbins\":[],\"fFirst\":0,\"fLast\":0,\"fBits2\":0,\"fTimeDisplay\":false,\"fTimeFormat\":\"\",\"fLabels\":null,\"fModLabs\":null},\"fBarOffset\":0,\"fBarWidth\":1000,\"fEntries\":36087.9877866887,\"fTsumw\":117.44405047408,\"fTsumw2\":0.382207649628107,\"fTsumwx\":7052.41537226392,\"fTsumwx2\":563136.220824124,\"fMaximum\":2,\"fMinimum\":0,\"fNormFactor\":0,\"fContour\":[],\"fSumw2\":[0,0.00937999150873142,0.00261377231385758,9.59473994243117e-4,6.41736214211689e-4,6.07274048297082e-4,4.91291319581234e-4,5.75245320347201e-4,3.09594540885435e-4,3.6965434043895e-4,2.5175005046149e-4,1.75159996031208e-4,1.60915006482675e-4,2.83509438196493e-4,5.59161579333538e-4,8.39901274197849e-4,0.0016893955731574,0.00192160784937172,3.533165921916e-4,1.22956497200517e-4,1.3065954091156e-4,1.62197201054703e-4,1.90083841723325e-4,2.01045648093942e-4,2.23726719564118e-4,1.2623596557057e-4,1.44656423238111e-4,1.22491859077138e-4,1.50824119481859e-4,2.31902859420217e-4,5.19227218100113e-4,0.00102950994242959,0.00138626650668961,0.00278356841398765,0.00319896814444481,1.0255309898598e-4,4.23453334784058e-5,3.73637417059944e-5,3.81464934044001e-5,3.89914187273039e-5,4.04830460252549e-5,4.33092050527367e-5,2.43585132911358e-5,3.0247579738291e-5,2.94811460203122e-5,4.76928537807058e-5,6.40017514987071e-5,1.26167236482945e-4,2.33612063009691e-4,3.34223529354909e-4,5.79176495661236e-4,5.46115301942292e-4,5.23881237552708e-6,2.27336605081188e-6,2.19548778244598e-6,2.45375791518475e-6,2.75136200904761e-6,3.05885189274297e-6,3.36272309718713e-6,1.99482406046886e-6,2.53502840449612e-6,2.29821401674399e-6,3.14329708842127e-6,4.03991999646009e-6,7.53025027639781e-6,1.23543549560367e-5,1.92724187810581e-5,2.82773489027903e-5,3.05472937521446e-5,1.81215454512748e-4,7.10083475732407e-5,6.43076043706529e-5,6.81493955814158e-5,7.38717551304882e-5,8.15613186900213e-5,9.22151555007879e-5,5.33714269574974e-5,6.59736767109359e-5,5.55581502231296e-5,8.64258394135905e-5,1.04137352234423e-4,1.7377499455132e-4,2.81256969065621e-4,4.18050134025905e-4,6.112081457373e-4,6.26730096006601e-4,0.0105724169278733,0.00311803514679203,0.00258690511928606,0.00209954171696787,0.00225830692203274,0.00265508523729894,0.00212294355932783,0.00147409204129795,0.00163601621993919,0.00139743883334533,0.00176945034975422,0.00277463448633452,0.00322145515544955,0.00404078789028286,0.00614694864036437,0.00950582799296693,0.00929912297322018,0.0701100777878041,0.0345206077963032,0.0127038408938788,0.00782452333550366,0.01621567428404,0.012498965320829,0.0144013456443407,0.00608233589158071,0.00637115034931398,0.00645057726227742,0.00827094866688168,0.00865004427915834,0.0129376871752296,0.00713402926915294,0.00958983763111954,0.0264921675280496,0.016767343503301,0],\"fOption\":\"\",\"fFunctions\":{\"_typename\":\"TList\",\"name\":\"TList\",\"arr\":[],\"opt\":[]},\"fBufferSize\":0,\"fBuffer\":[],\"fBinStatErrOpt\":0,\"fStatOverflows\":2,\"fArray\":[0,0.887459128082349,1.08288852235988,1.00954269289825,1.02650658482459,1.09989246439028,1.06848591135978,1.08054402597996,1.02941839532311,1.02270427140327,1.01231990970779,0.974263857403172,0.95742379356848,0.920766245470493,0.936412287616215,0.898223545852044,0.944675393734821,0.926044423776883,1.15997116632332,1.02208689307836,1.0454811306631,1.08887890635395,1.0856047335334,1.04483882986378,1.01744193731503,0.986145340033609,0.949068848105213,0.940018599382148,0.90660946088687,0.899824729171861,0.937526390930391,0.940862703728201,0.898792310720769,0.960209403773668,0.956946242927073,1.07902308982886,1.03319714364004,1.02376068264594,1.01784349497124,1.00050639671849,0.979846402383026,0.955514943622434,0.933169550126427,0.901447204170379,0.881856099501757,0.8870408374625,0.876605737000012,0.926692761735993,0.949411200226061,0.932354952512249,0.968942870272089,0.944421998393875,1.01817395218224,1.00298031060754,1.0167830469597,1.01907545472517,1.0042537636734,0.980746007991631,0.954406690612962,0.928243897550081,0.901215155346842,0.876483305604304,0.870627505186478,0.886015216486887,0.911051478511536,0.921776073342289,0.932049848893019,0.9358805758179,0.94903690815071,1.11949935268937,1.06393263250972,1.07009040448517,1.05816225268455,1.03939578175384,1.02362599119944,1.00567550004739,0.977529775291126,0.94787242234883,0.901304763298045,0.930237575921324,0.927806861944802,0.933750594935812,0.92509353568369,0.970072670604007,0.968136735771107,0.997260086674038,1.31504386372162,1.12048623031141,1.12944727270038,1.06077060069877,1.0549778761749,1.09169559903527,0.958347810248531,1.02156343423469,0.972524213988861,0.932301191774575,0.925706063088096,1.00935385910927,0.8950115576914,0.844485098114156,0.85858304905876,0.961625168557862,0.934999249375373,1.34213321239138,1.36997540659119,1.081219621204,0.902409446229415,1.28410061185412,1.08806404243707,1.1214018509819,1.04280967157069,0.987463116857736,0.977122294196074,1.03650725757781,1.01243823941467,0.867444091533597,0.743039393867241,0.743430199766855,0.93078135098552,0.849027953497861,0]},{\"_typename\":\"TH1D\",\"fUniqueID\":0,\"fBits\":50332168,\"fName\":\"ratioPt_dressed\",\"fTitle\":\"hPtUnfoldedData\",\"fLineColor\":632,\"fLineStyle\":1,\"fLineWidth\":1,\"fFillColor\":0,\"fFillStyle\":1001,\"fMarkerColor\":632,\"fMarkerStyle\":20,\"fMarkerSize\":1,\"fNcells\":65,\"fXaxis\":{\"_typename\":\"TAxis\",\"fUniqueID\":0,\"fBits\":50331656,\"fName\":\"xaxis\",\"fTitle\":\"Gen_Pt\",\"fNdivisions\":520,\"fAxisColor\":1,\"fLabelColor\":1,\"fLabelFont\":42,\"fLabelOffset\":0.005,\"fLabelSize\":0.035,\"fTickLength\":0.03,\"fTitleOffset\":1,\"fTitleSize\":0.035,\"fTitleColor\":1,\"fTitleFont\":42,\"fNbins\":63,\"fXmin\":0.5,\"fXmax\":63.5,\"fXbins\":[],\"fFirst\":0,\"fLast\":0,\"fBits2\":0,\"fTimeDisplay\":false,\"fTimeFormat\":\"\",\"fLabels\":null,\"fModLabs\":null},\"fYaxis\":{\"_typename\":\"TAxis\",\"fUniqueID\":0,\"fBits\":50331656,\"fName\":\"yaxis\",\"fTitle\":\"\",\"fNdivisions\":10,\"fAxisColor\":1,\"fLabelColor\":1,\"fLabelFont\":42,\"fLabelOffset\":0.005,\"fLabelSize\":0.035,\"fTickLength\":0.03,\"fTitleOffset\":0,\"fTitleSize\":0.035,\"fTitleColor\":1,\"fTitleFont\":42,\"fNbins\":1,\"fXmin\":0,\"fXmax\":1,\"fXbins\":[],\"fFirst\":0,\"fLast\":0,\"fBits2\":0,\"fTimeDisplay\":false,\"fTimeFormat\":\"\",\"fLabels\":null,\"fModLabs\":null},\"fZaxis\":{\"_typename\":\"TAxis\",\"fUniqueID\":0,\"fBits\":50331648,\"fName\":\"zaxis\",\"fTitle\":\"\",\"fNdivisions\":510,\"fAxisColor\":1,\"fLabelColor\":1,\"fLabelFont\":42,\"fLabelOffset\":0.005,\"fLabelSize\":0.035,\"fTickLength\":0.03,\"fTitleOffset\":1,\"fTitleSize\":0.035,\"fTitleColor\":1,\"fTitleFont\":42,\"fNbins\":1,\"fXmin\":0,\"fXmax\":1,\"fXbins\":[],\"fFirst\":0,\"fLast\":0,\"fBits2\":0,\"fTimeDisplay\":false,\"fTimeFormat\":\"\",\"fLabels\":null,\"fModLabs\":null},\"fBarOffset\":0,\"fBarWidth\":1000,\"fEntries\":22990.5964952122,\"fTsumw\":62.954896918834,\"fTsumw2\":0.172388700175151,\"fTsumwx\":2000.93135097891,\"fTsumwx2\":84927.1124348773,\"fMaximum\":500000000,\"fMinimum\":1,\"fNormFactor\":0,\"fContour\":[],\"fSumw2\":[0,3.61218267324864e-4,4.35263559115504e-5,2.69418234141634e-5,1.95283653906811e-5,1.4481001683311e-5,1.05477080316117e-5,1.51995749715376e-5,1.8232305877628e-5,4.5756114448228e-5,1.10968603621725e-5,9.780497886316e-6,1.50746790545115e-5,1.4561909265596e-5,1.41957336118964e-5,2.990530583095e-5,6.11006625330678e-5,8.45369088509151e-5,2.02648110047782e-4,1.14514262304115e-5,9.15545844916894e-6,1.11031140844169e-5,8.67490327902384e-6,7.75862895284558e-6,1.97901714478877e-5,3.86923187191424e-5,5.0088372320039e-5,1.28947134416076e-4,4.89647840951713e-7,4.05756139384879e-7,5.04076075752488e-7,3.88780985883967e-7,3.29793617987659e-7,6.01901239825095e-7,1.05420735956675e-6,1.30090050142497e-6,4.26679118943325e-6,1.88994867010689e-5,1.51901980897415e-5,1.86176706599278e-5,1.39135510054607e-5,1.08615733018316e-5,2.28120990295789e-5,3.90868366292931e-5,4.75251044799059e-5,7.44559136975163e-5,0.00159183725596965,0.00138917936802479,0.0013845971449056,7.55606540743106e-4,3.9651705111971e-4,6.24924965540582e-4,9.20664600062756e-4,0.00112008679663183,0.0016701544753523,0.035860844101604,0.0283051594747325,0.0536117088449564,0.0103982079651909,0.00480468587882906,0.0076316719357586,0.0115654823211996,0.00393751393216516,0.0048651595214242,0],\"fOption\":\"\",\"fFunctions\":{\"_typename\":\"TList\",\"name\":\"TList\",\"arr\":[],\"opt\":[]},\"fBufferSize\":0,\"fBuffer\":[],\"fBinStatErrOpt\":0,\"fStatOverflows\":2,\"fArray\":[0,1.34586419512289,1.11458171320716,1.15545505916767,1.09097850654342,1.05452272522221,1.00516198489854,0.923844675714238,0.924153476826571,0.932154539923542,1.08244578078452,1.0741705686152,1.08201873118061,1.00266942497156,0.94906527538589,0.903209535138788,0.938142271547149,0.924988031163223,0.957985790744854,1.06373116168195,1.03273134282,1.00414105266327,0.944465012690708,0.888701884517282,0.886947101167008,0.923069180516263,0.954849839401435,0.951342189007424,1.0096785439034,1.02454548719356,0.998318474046432,0.93871344905578,0.888328198945673,0.871111625742998,0.912313104264719,0.928626953760121,0.941730873136638,1.09429063969015,1.06936147526534,1.0366090431378,0.994039110580585,0.919917477080188,0.935665141458516,0.935145446864709,0.95212812583667,0.991696198711504,1.24294462023909,1.04705436540019,1.05559231749822,1.00151828445689,0.928885978358052,0.956174614435922,0.942020392100075,0.823328225941696,0.95564949811953,2.10217868813942,0.351164790696616,1.52331762938675,1.08357892063224,0.827055112603546,1.19443021535993,0.822383221964245,0.662367796648904,0.881641827554584,0]},{\"_typename\":\"TH1D\",\"fUniqueID\":0,\"fBits\":50331656,\"fName\":\"ratioPt_preFSR\",\"fTitle\":\"hPtUnfoldedData_\",\"fLineColor\":616,\"fLineStyle\":1,\"fLineWidth\":1,\"fFillColor\":0,\"fFillStyle\":1001,\"fMarkerColor\":616,\"fMarkerStyle\":22,\"fMarkerSize\":0.8,\"fNcells\":65,\"fXaxis\":{\"_typename\":\"TAxis\",\"fUniqueID\":0,\"fBits\":50331648,\"fName\":\"xaxis\",\"fTitle\":\"Gen_Pt\",\"fNdivisions\":510,\"fAxisColor\":1,\"fLabelColor\":1,\"fLabelFont\":42,\"fLabelOffset\":0.005,\"fLabelSize\":0.035,\"fTickLength\":0.03,\"fTitleOffset\":1,\"fTitleSize\":0.035,\"fTitleColor\":1,\"fTitleFont\":42,\"fNbins\":63,\"fXmin\":0.5,\"fXmax\":63.5,\"fXbins\":[],\"fFirst\":0,\"fLast\":0,\"fBits2\":0,\"fTimeDisplay\":false,\"fTimeFormat\":\"\",\"fLabels\":null,\"fModLabs\":null},\"fYaxis\":{\"_typename\":\"TAxis\",\"fUniqueID\":0,\"fBits\":50331648,\"fName\":\"yaxis\",\"fTitle\":\"\",\"fNdivisions\":510,\"fAxisColor\":1,\"fLabelColor\":1,\"fLabelFont\":42,\"fLabelOffset\":0.005,\"fLabelSize\":0.035,\"fTickLength\":0.03,\"fTitleOffset\":0,\"fTitleSize\":0.035,\"fTitleColor\":1,\"fTitleFont\":42,\"fNbins\":1,\"fXmin\":0,\"fXmax\":1,\"fXbins\":[],\"fFirst\":0,\"fLast\":0,\"fBits2\":0,\"fTimeDisplay\":false,\"fTimeFormat\":\"\",\"fLabels\":null,\"fModLabs\":null},\"fZaxis\":{\"_typename\":\"TAxis\",\"fUniqueID\":0,\"fBits\":50331648,\"fName\":\"zaxis\",\"fTitle\":\"\",\"fNdivisions\":510,\"fAxisColor\":1,\"fLabelColor\":1,\"fLabelFont\":42,\"fLabelOffset\":0.005,\"fLabelSize\":0.035,\"fTickLength\":0.03,\"fTitleOffset\":1,\"fTitleSize\":0.035,\"fTitleColor\":1,\"fTitleFont\":42,\"fNbins\":1,\"fXmin\":0,\"fXmax\":1,\"fXbins\":[],\"fFirst\":0,\"fLast\":0,\"fBits2\":0,\"fTimeDisplay\":false,\"fTimeFormat\":\"\",\"fLabels\":null,\"fModLabs\":null},\"fBarOffset\":0,\"fBarWidth\":1000,\"fEntries\":19202.230785686,\"fTsumw\":62.1817674266865,\"fTsumw2\":0.201360573334469,\"fTsumwx\":1997.13061951639,\"fTsumwx2\":84952.904762566,\"fMaximum\":-1111,\"fMinimum\":-1111,\"fNormFactor\":0,\"fContour\":[],\"fSumw2\":[0,2.34972737357144e-4,3.89930775077153e-5,2.56290416189815e-5,1.94795694106853e-5,1.4478307586934e-5,1.08468198438941e-5,1.61021031964779e-5,1.87883482727167e-5,4.6414069096782e-5,1.11022501878374e-5,1.03181737062178e-5,1.65903173023134e-5,1.72951075395334e-5,2.1149823815013e-5,5.31617446050758e-5,8.61978370430542e-5,1.0627204081087e-4,2.55041398229334e-4,1.36464499198551e-5,1.34961439723455e-5,2.15967259171201e-5,2.11592492512061e-5,1.9874059428082e-5,4.45741328007077e-5,7.53634494736603e-5,9.20309213914996e-5,2.59565926232538e-4,5.08236680954851e-7,4.34753057491609e-7,5.390669767111e-7,4.12246910277952e-7,3.44869611863375e-7,6.17927238739277e-7,1.07235421680831e-6,1.3074769790695e-6,4.27414844284743e-6,1.9168502920632e-5,1.58274243891012e-5,1.94144461545838e-5,1.44075550059344e-5,1.11647043682873e-5,2.34202051113312e-5,3.97967373984421e-5,4.80610357088554e-5,7.52816154009327e-5,0.00155274385836643,0.00142155351244887,0.00152397842239253,8.37692859104759e-4,4.15913850909619e-4,6.44273098630451e-4,9.88757048747302e-4,0.00119783297798402,0.00176304838700468,0.0464829976573336,0.0345319865510852,0.0619423386161541,0.0119986524917421,0.00478950386957818,0.0084041420207587,0.0123991645675729,0.00371687086793741,0.00490892954462786,0],\"fOption\":\"\",\"fFunctions\":{\"_typename\":\"TList\",\"name\":\"TList\",\"arr\":[],\"opt\":[]},\"fBufferSize\":0,\"fBuffer\":[],\"fBinStatErrOpt\":0,\"fStatOverflows\":2,\"fArray\":[0,1.04811937053517,1.01220651996202,1.0912909166539,1.0488794829396,1.02059313395507,0.977769689003335,0.923873517415883,0.921695663097769,0.931891569009747,1.06342856555766,1.06613975635036,1.08014696036014,0.999744899313632,0.938566019730433,0.874391667024498,0.940758436522727,0.918110275056392,0.953402016846605,1.06328468532908,1.03008581076314,0.995663357228488,0.908030986115224,0.83938906200218,0.866975502244612,0.916685337421967,0.951553793117225,0.941216569204098,1.0060417120279,1.02120381972464,0.995083396787243,0.935161187665009,0.885141834007093,0.867630989049313,0.909145646230977,0.925679408511842,0.939928478596332,1.09173384430558,1.06694713615784,1.0345716933382,0.991954202520457,0.916081284318579,0.932540904635359,0.932897530964314,0.949376475033767,0.990810737764539,1.23756798411474,1.05008840039458,1.05202840993181,1.00128316613738,0.926539016680831,0.956254352302335,0.941380257186754,0.814357070798246,0.95530106193163,2.27530281767679,0.264724775516188,1.55524417895254,1.05425854912512,0.832441570645845,1.19779893505367,0.818322406497875,0.6551804396413,0.877870189698991,0]},{\"_typename\":\"TPaveText\",\"fUniqueID\":0,\"fBits\":50331657,\"fLineColor\":1,\"fLineStyle\":1,\"fLineWidth\":1,\"fFillColor\":0,\"fFillStyle\":0,\"fX1\":55.579187483256,\"fY1\":2.09478559987089,\"fX2\":64.420812516744,\"fY2\":2.23750003036112,\"fX1NDC\":0.470280252431135,\"fY1NDC\":0.937914233422926,\"fX2NDC\":0.529719747568865,\"fY2NDC\":0.995000004768372,\"fBorderSize\":0,\"fInit\":1,\"fShadowColor\":1,\"fCornerRadius\":0,\"fOption\":\"blNDC\",\"fName\":\"title\",\"fTextAngle\":0,\"fTextSize\":0,\"fTextAlign\":22,\"fTextColor\":1,\"fTextFont\":42,\"fLabel\":\"\",\"fLongest\":7,\"fMargin\":0.05,\"fLines\":{\"_typename\":\"TList\",\"name\":\"TList\",\"arr\":[{\"_typename\":\"TLatex\",\"fUniqueID\":0,\"fBits\":50331648,\"fName\":\"\",\"fTitle\":\"hPtData\",\"fTextAngle\":0,\"fTextSize\":0,\"fTextAlign\":0,\"fTextColor\":0,\"fTextFont\":0,\"fX\":0,\"fY\":0,\"fLineColor\":1,\"fLineStyle\":1,\"fLineWidth\":2,\"fLimitFactorSize\":3,\"fOriginSize\":0.0485229045152664}],\"opt\":[\"\"]}}],\"opt\":[\"\",\"pe\",\"pe same\",\"pe same\",\"blNDC\"]},\"fExecs\":{\"_typename\":\"TList\",\"name\":\"TList\",\"arr\":[],\"opt\":[]},\"fName\":\"ratio_pt\",\"fTitle\":\"ratio_pt\",\"fNumPaletteColor\":0,\"fNextPaletteColor\":0}],\"opt\":[\"\",\"\"]},\"fExecs\":{\"_typename\":\"TList\",\"name\":\"TList\",\"arr\":[],\"opt\":[]},\"fName\":\"c_2\",\"fTitle\":\"c_2\",\"fNumPaletteColor\":0,\"fNextPaletteColor\":0}],\"opt\":[\"\",\"\"]},\"fExecs\":null,\"fName\":\"c\",\"fTitle\":\"c\",\"fNumPaletteColor\":0,\"fNextPaletteColor\":0,\"fDISPLAY\":\"$DISPLAY\",\"fDoubleBuffer\":0,\"fRetained\":true,\"fXsizeUser\":0,\"fYsizeUser\":0,\"fXsizeReal\":20,\"fYsizeReal\":6.666667,\"fWindowTopX\":0,\"fWindowTopY\":0,\"fWindowWidth\":0,\"fWindowHeight\":0,\"fCw\":1796,\"fCh\":572,\"fCatt\":{\"_typename\":\"TAttCanvas\",\"fXBetween\":2,\"fYBetween\":2,\"fTitleFromTop\":1.2,\"fXdate\":0.2,\"fYdate\":0.3,\"fAdate\":1},\"kMoveOpaque\":true,\"kResizeOpaque\":true,\"fHighLightColor\":2,\"fBatch\":true,\"kShowEventStatus\":false,\"kAutoExec\":true,\"kMenuBar\":true});\n",
       "       Core.draw(\"root_plot_1\", obj, \"\");\n",
       "     }\n",
       " );\n",
       "</script>\n"
      ],
      "text/plain": [
       "<IPython.core.display.HTML object>"
      ]
     },
     "metadata": {},
     "output_type": "display_data"
    }
   ],
   "source": [
    "# Canvas for mass distribution\n",
    "colorDetector = rt.kBlack\n",
    "colorDressed  = rt.kRed\n",
    "colorPreFSR   = rt.kBlue\n",
    "\n",
    "c.cd(1)\n",
    "\n",
    "pad_mass.cd()\n",
    "pad_mass.SetLogy()\n",
    "pad_mass.SetLogx()\n",
    "pad_mass.SetGridy()\n",
    "pad_mass.SetGridx()\n",
    "\n",
    "hMassData.SetMarkerStyle(20)\n",
    "hMassData.SetLineColor(colorDetector)\n",
    "hMassData.SetMarkerColor(colorDetector)\n",
    "\n",
    "hMassUnfoldedData.SetMarkerStyle(20)\n",
    "hMassUnfoldedData.SetLineColor(colorDressed)\n",
    "hMassUnfoldedData.SetMarkerColor(colorDressed)\n",
    "\n",
    "hMassFSRUnfoldedData.SetMarkerStyle(20)\n",
    "hMassFSRUnfoldedData.SetMarkerColor(colorPreFSR)\n",
    "hMassFSRUnfoldedData.SetLineColor(colorPreFSR)\n",
    "\n",
    "hMassUnfoldedData_.SetMarkerStyle(22)\n",
    "hMassUnfoldedData_.SetMarkerSize(0.8)\n",
    "hMassUnfoldedData_.SetLineColor(rt.kMagenta)\n",
    "hMassUnfoldedData_.SetMarkerColor(rt.kMagenta)\n",
    "\n",
    "hMassUnfoldedMC_closure.SetMarkerStyle(25)\n",
    "hMassUnfoldedMC_closure.SetLineColor(rt.kMagenta)\n",
    "\n",
    "hMassUnfoldedData.GetYaxis().SetTitle(\"Events/ bin\")\n",
    "\n",
    "hMassUnfoldedData.SetStats(rt.kFALSE)\n",
    "hMassUnfoldedData.Draw(\"hist pe\")\n",
    "\n",
    "hMassFSRUnfoldedData.Draw(\"pe same\")\n",
    "hMassUnfoldedData_.Draw(\"pe same\")\n",
    "hMassUnfoldedMC_closure.Draw(\"pe same\")\n",
    "hMassData.Draw(\"pe same\")\n",
    "\n",
    "hMassUnfoldedData.GetYaxis().SetNdivisions(10)\n",
    "hMassUnfoldedData.GetXaxis().SetNdivisions(520)\n",
    "\n",
    "hMassUnfoldedData.SetMaximum(5e8)\n",
    "hMassUnfoldedData.SetMinimum(1)\n",
    "\n",
    "legend_mass = rt.TLegend(0.7, 0.7, 0.9, 0.9)\n",
    "legend_mass.AddEntry(hMassData, \"Detector  data\", \"ple\")\n",
    "legend_mass.AddEntry(hMassUnfoldedData, \"Det unfolded data\", \"ple\")\n",
    "legend_mass.AddEntry(hMassFSRUnfoldedData, \"Pre-FSR unfolded data\", \"ple\")\n",
    "legend_mass.Draw()\n",
    "\n",
    "c.cd(1)\n",
    "\n",
    "ratio_mass.cd()\n",
    "ratio_mass.SetLogx()\n",
    "ratio_mass.SetGridx()\n",
    "ratio_mass.SetGridy()\n",
    "\n",
    "ratioMass_detector = hMassData.Clone(\"ratioMass_detector\")\n",
    "ratioMass_dressed = hMassUnfoldedData.Clone(\"ratioMass_dressed\")\n",
    "ratioMass_preFSR = hMassUnfoldedData_.Clone(\"ratioMass_preFSR\")\n",
    "ratioMass_detector.Divide(hDYMC_detector)\n",
    "ratioMass_dressed.Divide(hMassMCTruth)\n",
    "ratioMass_preFSR.Divide(hMassUnfoldedMC_)\n",
    "ratioMass_detector.SetStats(rt.kFALSE)\n",
    "ratioMass_detector.Draw(\"pe\")\n",
    "ratioMass_dressed.Draw(\"pe same\")\n",
    "ratioMass_preFSR.Draw(\"pe same\")\n",
    "ratioMass_detector.SetMinimum(0.5)\n",
    "ratioMass_detector.SetMaximum(1.5)\n",
    "\n",
    "ratioMass_detector.GetYaxis().SetTitle(\"Data/ MC\")\n",
    "\n",
    "# Canavs for pt distributions\n",
    "c.cd(2)\n",
    "pad_pt.cd()\n",
    "pad_pt.SetLogy()\n",
    "#c.SetLogx()\n",
    "pad_pt.SetGridy()\n",
    "pad_pt.SetGridx()\n",
    "\n",
    "hPtData.SetMarkerStyle(20)\n",
    "hPtData.SetLineColor(colorDetector)\n",
    "hPtData.SetMarkerColor(colorDetector)\n",
    "\n",
    "hPtUnfoldedData.SetMarkerStyle(20)\n",
    "hPtUnfoldedData.SetLineColor(colorDressed)\n",
    "hPtUnfoldedData.SetMarkerColor(colorDressed)\n",
    "\n",
    "hPtFSRUnfoldedData.SetMarkerStyle(20)\n",
    "hPtFSRUnfoldedData.SetMarkerColor(colorPreFSR)\n",
    "hPtFSRUnfoldedData.SetLineColor(colorPreFSR)\n",
    "\n",
    "hPtUnfoldedData_.SetMarkerStyle(22)\n",
    "hPtUnfoldedData_.SetMarkerSize(0.8)\n",
    "hPtUnfoldedData_.SetLineColor(rt.kMagenta)\n",
    "hPtUnfoldedData_.SetMarkerColor(rt.kMagenta)\n",
    "\n",
    "hPtUnfoldedData.SetStats(rt.kFALSE)\n",
    "hPtUnfoldedData.Draw(\"hist pe\")\n",
    "\n",
    "hPtFSRUnfoldedData.Draw(\"pe same\")\n",
    "hPtUnfoldedData_.Draw(\"pe same\")\n",
    "hPtUnfoldedMC_closure.Draw(\"pe same\")\n",
    "hPtData.Draw(\"pe same\")\n",
    "\n",
    "hPtUnfoldedData.GetYaxis().SetNdivisions(10)\n",
    "hPtUnfoldedData.GetXaxis().SetNdivisions(520)\n",
    "\n",
    "hPtUnfoldedData.SetMaximum(5e8)\n",
    "hPtUnfoldedData.SetMinimum(1)\n",
    "\n",
    "legend_pt = rt.TLegend(0.7, 0.7, 0.9, 0.9)\n",
    "legend_pt.AddEntry(hPtData, \"Detector  data\", \"ple\")\n",
    "legend_pt.AddEntry(hPtUnfoldedData, \"Det unfolded data\", \"ple\")\n",
    "legend_pt.AddEntry(hPtFSRUnfoldedData, \"Pre-FSR unfolded data\", \"ple\")\n",
    "legend_pt.Draw()\n",
    "\n",
    "c.cd(2)\n",
    "\n",
    "\n",
    "ratio_pt.cd()\n",
    "#ratio_pt.SetLogx()\n",
    "ratio_pt.SetGridx()\n",
    "ratio_pt.SetGridy()\n",
    "\n",
    "ratioPt_detector = hPtData.Clone(\"ratioPt_detector\")\n",
    "ratioPt_dressed = hPtUnfoldedData.Clone(\"ratioPt_dressed\")\n",
    "ratioPt_preFSR = hPtUnfoldedData_.Clone(\"ratioPt_preFSR\")\n",
    "#ratioPt_preFSR = hPtFSRUnfoldedData.Clone(\"ratioPt_preFSR\")\n",
    "ratioPt_detector.Divide(hDYMCPt_detector)\n",
    "ratioPt_dressed.Divide(hPtMCTruth)\n",
    "ratioPt_preFSR.Divide(hPtUnfoldedMC_)\n",
    "ratioPt_detector.SetStats(rt.kFALSE)\n",
    "ratioPt_detector.Draw(\"pe\")\n",
    "ratioPt_dressed.Draw(\"pe same\")\n",
    "ratioPt_preFSR.Draw(\"pe same\")\n",
    "ratioPt_detector.SetMinimum(0.0)\n",
    "ratioPt_detector.SetMaximum(2.0)\n",
    "\n",
    "ratioMass_detector.GetYaxis().SetTitle(\"Data/ MC\")\n",
    "\n",
    "c.Draw()"
   ]
  },
  {
   "cell_type": "markdown",
   "metadata": {},
   "source": [
    "- Understand how the response matrix handled (Underflow/Overflow, 0 bin...)\n",
    "- Check if the unfolding result of the last mass bin could be improved (Regularisation?) \n",
    "- Input correlation matrix\n",
    "- How to handle systematics within TUfold"
   ]
  },
  {
   "cell_type": "code",
   "execution_count": 20,
   "metadata": {},
   "outputs": [
    {
     "name": "stdout",
     "output_type": "stream",
     "text": [
      "ISRUnfold::setMeanMass()   Save mean of dilepton...\n",
      "Detector, 0 th mass bin, mean: 29.6516 +/- 0.00966023\n",
      "Unfolded, 0 th mass bin, mean: 29.6828 +/- 0.0104289\n",
      "MC, 0 th mass bin, mean: 29.4544 +/- 0.00613344\n",
      "Detector, 1 th mass bin, mean: 49.2787 +/- 0.00719434\n",
      "Unfolded, 1 th mass bin, mean: 49.1537 +/- 0.00841184\n",
      "MC, 1 th mass bin, mean: 49.3034 +/- 0.00442487\n",
      "Detector, 2 th mass bin, mean: 72.8007 +/- 0.00540652\n",
      "Unfolded, 2 th mass bin, mean: 72.3294 +/- 0.00863245\n",
      "MC, 2 th mass bin, mean: 72.3554 +/- 0.00418567\n",
      "Detector, 3 th mass bin, mean: 90.8067 +/- 0.000800046\n",
      "Unfolded, 3 th mass bin, mean: 90.998 +/- 0.00118143\n",
      "MC, 3 th mass bin, mean: 90.9942 +/- 0.00062296\n",
      "Detector, 4 th mass bin, mean: 117.817 +/- 0.0228618\n",
      "Unfolded, 4 th mass bin, mean: 117.899 +/- 0.0357873\n",
      "MC, 4 th mass bin, mean: 117.697 +/- 0.018509\n",
      "Detector, 5 th mass bin, mean: 241.301 +/- 0.190981\n",
      "Unfolded, 5 th mass bin, mean: 241.248 +/- 0.23992\n",
      "MC, 5 th mass bin, mean: 241.935 +/- 0.149135\n",
      "Detector, 6 th mass bin, mean: 442.906 +/- 1.94536\n",
      "Unfolded, 6 th mass bin, mean: 445.848 +/- 2.41315\n",
      "MC, 6 th mass bin, mean: 448.089 +/- 1.53281\n"
     ]
    }
   ],
   "source": [
    "nBins = unfold_det.setMeanMass()"
   ]
  },
  {
   "cell_type": "code",
   "execution_count": 21,
   "metadata": {},
   "outputs": [
    {
     "data": {
      "text/plain": [
       "7"
      ]
     },
     "execution_count": 21,
     "metadata": {},
     "output_type": "execute_result"
    },
    {
     "name": "stdout",
     "output_type": "stream",
     "text": [
      "ISRUnfold::setMeanMass()   Save mean of dilepton...\n",
      "Detector, 0 th mass bin, mean: 29.6516 +/- 0.00966023\n",
      "Unfolded, 0 th mass bin, mean: 21.6047 +/- 0.0112793\n",
      "MC, 0 th mass bin, mean: 21.4957 +/- 0.000620168\n",
      "Detector, 1 th mass bin, mean: 49.2787 +/- 0.00719434\n",
      "Unfolded, 1 th mass bin, mean: 48.0282 +/- 0.00911237\n",
      "MC, 1 th mass bin, mean: 48.1441 +/- 0.00242853\n",
      "Detector, 2 th mass bin, mean: 72.8007 +/- 0.00540652\n",
      "Unfolded, 2 th mass bin, mean: 71.7374 +/- 0.0125752\n",
      "MC, 2 th mass bin, mean: 71.7699 +/- 0.0033546\n",
      "Detector, 3 th mass bin, mean: 90.8067 +/- 0.000800046\n",
      "Unfolded, 3 th mass bin, mean: 91.2266 +/- 0.00120967\n",
      "MC, 3 th mass bin, mean: 91.2248 +/- 0.000399126\n",
      "Detector, 4 th mass bin, mean: 117.817 +/- 0.0228618\n",
      "Unfolded, 4 th mass bin, mean: 117.244 +/- 0.036132\n",
      "MC, 4 th mass bin, mean: 117.047 +/- 0.0121421\n",
      "Detector, 5 th mass bin, mean: 241.301 +/- 0.190981\n",
      "Unfolded, 5 th mass bin, mean: 240.096 +/- 0.242943\n",
      "MC, 5 th mass bin, mean: 240.799 +/- 0.108237\n",
      "Detector, 6 th mass bin, mean: 442.906 +/- 1.94536\n",
      "Unfolded, 6 th mass bin, mean: 436.414 +/- 2.24445\n",
      "MC, 6 th mass bin, mean: 438.883 +/- 1.13424\n"
     ]
    }
   ],
   "source": [
    "unfold_oneStep.setMeanMass()"
   ]
  },
  {
   "cell_type": "code",
   "execution_count": 22,
   "metadata": {},
   "outputs": [
    {
     "data": {
      "text/plain": [
       "7"
      ]
     },
     "execution_count": 22,
     "metadata": {},
     "output_type": "execute_result"
    },
    {
     "name": "stdout",
     "output_type": "stream",
     "text": [
      "ISRUnfold::setMeanPt()   Save mean of dilepton momentum...\n",
      "Detector, 0 th mass bin, mean: 31.316 +/- 0.0263757\n",
      "Unfolded, 0 th mass bin, mean: 30.1467 +/- 0.0296947\n",
      "Detector, 1 th mass bin, mean: 16.9797 +/- 0.0206688\n",
      "Unfolded, 1 th mass bin, mean: 17.4844 +/- 0.0240519\n",
      "Detector, 2 th mass bin, mean: 18.9751 +/- 0.0159246\n",
      "Unfolded, 2 th mass bin, mean: 19.8157 +/- 0.0237526\n",
      "Detector, 3 th mass bin, mean: 19.186 +/- 0.00420542\n",
      "Unfolded, 3 th mass bin, mean: 20.2112 +/- 0.0051927\n",
      "Detector, 4 th mass bin, mean: 21.1076 +/- 0.0228675\n",
      "Unfolded, 4 th mass bin, mean: 21.8729 +/- 0.0315356\n",
      "Detector, 5 th mass bin, mean: 25.9265 +/- 0.13529\n",
      "Unfolded, 5 th mass bin, mean: 25.9594 +/- 0.239963\n",
      "Detector, 6 th mass bin, mean: 30.3822 +/- 0.302713\n",
      "Unfolded, 6 th mass bin, mean: 28.1781 +/- 0.984015\n"
     ]
    }
   ],
   "source": [
    "unfold_det.setMeanPt()"
   ]
  },
  {
   "cell_type": "code",
   "execution_count": 23,
   "metadata": {},
   "outputs": [
    {
     "data": {
      "text/plain": [
       "7"
      ]
     },
     "execution_count": 23,
     "metadata": {},
     "output_type": "execute_result"
    },
    {
     "name": "stdout",
     "output_type": "stream",
     "text": [
      "ISRUnfold::setMeanPt()   Save mean of dilepton momentum...\n",
      "Detector, 0 th mass bin, mean: 31.316 +/- 0.0263757\n",
      "Unfolded, 0 th mass bin, mean: 8.16706 +/- 0.0536419\n",
      "Detector, 1 th mass bin, mean: 16.9797 +/- 0.0206688\n",
      "Unfolded, 1 th mass bin, mean: 13.109 +/- 0.0214593\n",
      "Detector, 2 th mass bin, mean: 18.9751 +/- 0.0159246\n",
      "Unfolded, 2 th mass bin, mean: 16.1813 +/- 0.030024\n",
      "Detector, 3 th mass bin, mean: 19.186 +/- 0.00420542\n",
      "Unfolded, 3 th mass bin, mean: 18.2638 +/- 0.00495106\n",
      "Detector, 4 th mass bin, mean: 21.1076 +/- 0.0228675\n",
      "Unfolded, 4 th mass bin, mean: 19.9479 +/- 0.0299454\n",
      "Detector, 5 th mass bin, mean: 25.9265 +/- 0.13529\n",
      "Unfolded, 5 th mass bin, mean: 24.5238 +/- 0.243131\n",
      "Detector, 6 th mass bin, mean: 30.3822 +/- 0.302713\n",
      "Unfolded, 6 th mass bin, mean: 26.7933 +/- 1.06226\n"
     ]
    }
   ],
   "source": [
    "unfold_oneStep.setMeanPt()"
   ]
  },
  {
   "cell_type": "code",
   "execution_count": 24,
   "metadata": {},
   "outputs": [
    {
     "data": {
      "text/plain": [
       "7"
      ]
     },
     "execution_count": 24,
     "metadata": {},
     "output_type": "execute_result"
    },
    {
     "name": "stdout",
     "output_type": "stream",
     "text": [
      "ISRUnfold::setMeanPt()   Save mean of dilepton momentum...\n",
      "Detector, 0 th mass bin, mean: 30.1467 +/- 0.0296947\n",
      "Unfolded, 0 th mass bin, mean: 7.58625 +/- 0.0569133\n",
      "Detector, 1 th mass bin, mean: 17.4844 +/- 0.0240519\n",
      "Unfolded, 1 th mass bin, mean: 13.1153 +/- 0.022336\n",
      "Detector, 2 th mass bin, mean: 19.8157 +/- 0.0237526\n",
      "Unfolded, 2 th mass bin, mean: 16.3599 +/- 0.0341057\n",
      "Detector, 3 th mass bin, mean: 20.2112 +/- 0.0051927\n",
      "Unfolded, 3 th mass bin, mean: 18.2674 +/- 0.00493002\n",
      "Detector, 4 th mass bin, mean: 21.8729 +/- 0.0315356\n",
      "Unfolded, 4 th mass bin, mean: 19.96 +/- 0.0301499\n",
      "Detector, 5 th mass bin, mean: 25.9594 +/- 0.239963\n",
      "Unfolded, 5 th mass bin, mean: 24.5726 +/- 0.247498\n",
      "Detector, 6 th mass bin, mean: 28.1781 +/- 0.984015\n",
      "Unfolded, 6 th mass bin, mean: 26.8053 +/- 1.0371\n"
     ]
    }
   ],
   "source": [
    "unfold_fsr.setMeanPt()"
   ]
  },
  {
   "cell_type": "code",
   "execution_count": 25,
   "metadata": {},
   "outputs": [
    {
     "data": {
      "text/plain": [
       "7"
      ]
     },
     "execution_count": 25,
     "metadata": {},
     "output_type": "execute_result"
    },
    {
     "name": "stdout",
     "output_type": "stream",
     "text": [
      "ISRUnfold::setMeanMass()   Save mean of dilepton...\n",
      "Detector, 0 th mass bin, mean: 29.6828 +/- 0.0104289\n",
      "Unfolded, 0 th mass bin, mean: 21.6409 +/- 0.0113779\n",
      "MC, 0 th mass bin, mean: 21.4957 +/- 0.000620168\n",
      "Detector, 1 th mass bin, mean: 49.1537 +/- 0.00841184\n",
      "Unfolded, 1 th mass bin, mean: 48.0107 +/- 0.00945064\n",
      "MC, 1 th mass bin, mean: 48.1441 +/- 0.00242853\n",
      "Detector, 2 th mass bin, mean: 72.3294 +/- 0.00863245\n",
      "Unfolded, 2 th mass bin, mean: 71.7327 +/- 0.0141844\n",
      "MC, 2 th mass bin, mean: 71.7699 +/- 0.0033546\n",
      "Detector, 3 th mass bin, mean: 90.998 +/- 0.00118143\n",
      "Unfolded, 3 th mass bin, mean: 91.2272 +/- 0.00119957\n",
      "MC, 3 th mass bin, mean: 91.2248 +/- 0.000399126\n",
      "Detector, 4 th mass bin, mean: 117.899 +/- 0.0357873\n",
      "Unfolded, 4 th mass bin, mean: 117.244 +/- 0.0362528\n",
      "MC, 4 th mass bin, mean: 117.047 +/- 0.0121421\n",
      "Detector, 5 th mass bin, mean: 241.248 +/- 0.23992\n",
      "Unfolded, 5 th mass bin, mean: 240.096 +/- 0.244253\n",
      "MC, 5 th mass bin, mean: 240.799 +/- 0.108237\n",
      "Detector, 6 th mass bin, mean: 445.848 +/- 2.41315\n",
      "Unfolded, 6 th mass bin, mean: 436.336 +/- 2.25394\n",
      "MC, 6 th mass bin, mean: 438.883 +/- 1.13424\n"
     ]
    }
   ],
   "source": [
    "unfold_fsr.setMeanMass()"
   ]
  },
  {
   "cell_type": "code",
   "execution_count": 26,
   "metadata": {},
   "outputs": [
    {
     "data": {
      "text/plain": [
       "7"
      ]
     },
     "execution_count": 26,
     "metadata": {},
     "output_type": "execute_result"
    },
    {
     "name": "stdout",
     "output_type": "stream",
     "text": [
      "ISRUnfold::setMeanPt()   Save mean of dilepton momentum...\n",
      "Detector, 0 th mass bin, mean: 32.2571 +/- 0.101543\n",
      "Unfolded, 0 th mass bin, mean: 8.28122 +/- 0.210153\n",
      "Detector, 1 th mass bin, mean: 17.8084 +/- 0.0548425\n",
      "Unfolded, 1 th mass bin, mean: 13.8181 +/- 0.0603373\n",
      "Detector, 2 th mass bin, mean: 19.6017 +/- 0.0279721\n",
      "Unfolded, 2 th mass bin, mean: 16.9914 +/- 0.0531427\n",
      "Detector, 3 th mass bin, mean: 19.8487 +/- 0.00812774\n",
      "Unfolded, 3 th mass bin, mean: 18.9425 +/- 0.0094965\n",
      "Detector, 4 th mass bin, mean: 21.889 +/- 0.0434509\n",
      "Unfolded, 4 th mass bin, mean: 20.7529 +/- 0.056406\n",
      "Detector, 5 th mass bin, mean: 27.3474 +/- 0.257192\n",
      "Unfolded, 5 th mass bin, mean: 26.0509 +/- 0.441175\n",
      "Detector, 6 th mass bin, mean: 32.9809 +/- 0.563427\n",
      "Unfolded, 6 th mass bin, mean: 30.1225 +/- 1.83571\n",
      "ISRUnfold::setMeanMass()   Save mean of dilepton...\n",
      "Detector, 0 th mass bin, mean: 29.437 +/- 0.0371351\n",
      "Unfolded, 0 th mass bin, mean: 21.4615 +/- 0.0481834\n",
      "MC, 0 th mass bin, mean: 21.4957 +/- 0.000620168\n",
      "Detector, 1 th mass bin, mean: 49.4111 +/- 0.0187581\n",
      "Unfolded, 1 th mass bin, mean: 48.1502 +/- 0.0259051\n",
      "MC, 1 th mass bin, mean: 48.1441 +/- 0.00242853\n",
      "Detector, 2 th mass bin, mean: 72.8298 +/- 0.0094788\n",
      "Unfolded, 2 th mass bin, mean: 71.7878 +/- 0.0218912\n",
      "MC, 2 th mass bin, mean: 71.7699 +/- 0.0033546\n",
      "Detector, 3 th mass bin, mean: 90.798 +/- 0.00153656\n",
      "Unfolded, 3 th mass bin, mean: 91.2173 +/- 0.00232061\n",
      "MC, 3 th mass bin, mean: 91.2248 +/- 0.000399126\n",
      "Detector, 4 th mass bin, mean: 117.609 +/- 0.0429171\n",
      "Unfolded, 4 th mass bin, mean: 117.045 +/- 0.0681438\n",
      "MC, 4 th mass bin, mean: 117.047 +/- 0.0121421\n",
      "Detector, 5 th mass bin, mean: 241.943 +/- 0.357992\n",
      "Unfolded, 5 th mass bin, mean: 240.804 +/- 0.456502\n",
      "MC, 5 th mass bin, mean: 240.799 +/- 0.108237\n",
      "Detector, 6 th mass bin, mean: 446.941 +/- 3.86396\n",
      "Unfolded, 6 th mass bin, mean: 439.626 +/- 4.37169\n",
      "MC, 6 th mass bin, mean: 438.883 +/- 1.13424\n"
     ]
    }
   ],
   "source": [
    "unfold_closure.setMeanPt()\n",
    "unfold_closure.setMeanMass()"
   ]
  },
  {
   "cell_type": "code",
   "execution_count": 27,
   "metadata": {},
   "outputs": [],
   "source": [
    "c_PtVsMass = rt.TCanvas(\"PtVsMass\",\"PtVsMass\", 900, 600)\n",
    "c_PtVsMass.SetGridx()\n",
    "c_PtVsMass.SetGridy()\n",
    "c_PtVsMass.SetLogx()"
   ]
  },
  {
   "cell_type": "code",
   "execution_count": 28,
   "metadata": {},
   "outputs": [],
   "source": [
    "from array import array\n",
    "meanMass, meanPt = array('d'), array('d')\n",
    "meanMassUnf, meanPtUnf = array('d'), array('d')\n",
    "meanMassUnfStatErr, meanPtUnfStatErr = array('d'), array('d')\n",
    "meanMassFSRUnf, meanPtFSRUnf = array('d'), array('d')\n",
    "meanMassFSRUnfStatErr, meanPtFSRUnfStatErr = array('d'), array('d')\n",
    "\n",
    "meanMassFSRUnfMC, meanPtFSRUnfMC = array('d'), array('d')\n",
    "meanMassFSRUnfMCStatErr, meanPtFSRUnfMCStatErr = array('d'), array('d')\n",
    "\n",
    "meanMassFSRMC, meanPtFSRMC = array('d'), array('d')\n",
    "\n",
    "for ibin in range(nBins):\n",
    "    meanMass.append(unfold_det.getDetMeanMass(ibin))\n",
    "    meanPt.append(unfold_det.getDetMeanPt(ibin))\n",
    "    \n",
    "    meanMassUnf.append(unfold_det.getUnfMeanMass(ibin))\n",
    "    meanPtUnf.append(unfold_det.getUnfMeanPt(ibin))\n",
    "    meanMassUnfStatErr.append(unfold_det.getUnfMeanMassError(ibin))\n",
    "    meanPtUnfStatErr.append(unfold_det.getUnfMeanPtError(ibin))\n",
    "    \n",
    "    meanMassFSRUnf.append(unfold_fsr.getUnfMeanMass(ibin))\n",
    "    meanPtFSRUnf.append(unfold_fsr.getUnfMeanPt(ibin))\n",
    "    meanMassFSRUnfStatErr.append(unfold_fsr.getUnfMeanMassError(ibin))\n",
    "    meanPtFSRUnfStatErr.append(unfold_fsr.getUnfMeanPtError(ibin))\n",
    "    \n",
    "    meanMassFSRUnfMC.append(unfold_closure.getUnfMeanMass(ibin))\n",
    "    meanPtFSRUnfMC.append(unfold_closure.getUnfMeanPt(ibin))"
   ]
  },
  {
   "cell_type": "code",
   "execution_count": 29,
   "metadata": {},
   "outputs": [
    {
     "name": "stdout",
     "output_type": "stream",
     "text": [
      " FCN=225.375 FROM MIGRAD    STATUS=CONVERGED      57 CALLS          58 TOTAL\n",
      "                     EDM=3.23818e-13    STRATEGY= 1      ERROR MATRIX ACCURATE \n",
      "  EXT PARAMETER                                   STEP         FIRST   \n",
      "  NO.   NAME      VALUE            ERROR          SIZE      DERIVATIVE \n",
      "   1  p0          -1.64780e+01   1.14489e-01   3.44802e-05   1.13064e-04\n",
      "   2  p1           7.69526e+00   2.55497e-02   7.69466e-06   4.82538e-04\n"
     ]
    },
    {
     "data": {
      "text/html": [
       "\n",
       "<div id=\"root_plot_2\"\n",
       "     style=\"width: 896px; height: 572px\">\n",
       "</div>\n",
       "\n",
       "<script>\n",
       " requirejs.config({\n",
       "     paths: {\n",
       "       'JSRootCore' : 'https://root.cern.ch/js/notebook//scripts/JSRootCore',\n",
       "     }\n",
       "   });\n",
       " require(['JSRootCore'],\n",
       "     function(Core) {\n",
       "       var obj = Core.JSONR_unref({\"_typename\":\"TCanvas\",\"fUniqueID\":0,\"fBits\":53673992,\"fLineColor\":1,\"fLineStyle\":1,\"fLineWidth\":1,\"fFillColor\":0,\"fFillStyle\":1001,\"fLeftMargin\":0.1,\"fRightMargin\":0.1,\"fBottomMargin\":0.1,\"fTopMargin\":0.1,\"fXfile\":2,\"fYfile\":2,\"fAfile\":1,\"fXstat\":0.99,\"fYstat\":0.99,\"fAstat\":2,\"fFrameFillColor\":0,\"fFrameLineColor\":1,\"fFrameFillStyle\":1001,\"fFrameLineStyle\":1,\"fFrameLineWidth\":1,\"fFrameBorderSize\":1,\"fFrameBorderMode\":0,\"fX1\":0.690359820090051,\"fY1\":-1.25000046566131,\"fX2\":3.78676143462961,\"fY2\":61.2500004656613,\"fXtoAbsPixelk\":-199.768092445135,\"fXtoPixelk\":-199.768092445135,\"fXtoPixel\":289.368147785712,\"fYtoAbsPixelk\":560.560045908737,\"fYtoPixelk\":560.560045908737,\"fYtoPixel\":-9.15199986362457,\"fUtoAbsPixelk\":5e-5,\"fUtoPixelk\":5e-5,\"fUtoPixel\":896,\"fVtoAbsPixelk\":572.00005,\"fVtoPixelk\":572,\"fVtoPixel\":-572,\"fAbsPixeltoXk\":0.690359820090051,\"fPixeltoXk\":0.690359820090051,\"fPixeltoX\":0.00345580537337004,\"fAbsPixeltoYk\":61.2500004656613,\"fPixeltoYk\":-1.25000046566131,\"fPixeltoY\":-0.109265735893921,\"fXlowNDC\":0,\"fYlowNDC\":0,\"fXUpNDC\":0,\"fYUpNDC\":0,\"fWNDC\":1,\"fHNDC\":1,\"fAbsXlowNDC\":0,\"fAbsYlowNDC\":0,\"fAbsWNDC\":1,\"fAbsHNDC\":1,\"fUxmin\":1,\"fUymin\":5,\"fUxmax\":3.47712125471966,\"fUymax\":55,\"fTheta\":30,\"fPhi\":30,\"fAspectRatio\":0,\"fNumber\":0,\"fTickx\":0,\"fTicky\":0,\"fLogx\":1,\"fLogy\":0,\"fLogz\":0,\"fPadPaint\":0,\"fCrosshair\":0,\"fCrosshairPos\":0,\"fBorderSize\":2,\"fBorderMode\":0,\"fModified\":false,\"fGridx\":true,\"fGridy\":true,\"fAbsCoord\":false,\"fEditable\":true,\"fFixedAspectRatio\":false,\"fPrimitives\":{\"_typename\":\"TList\",\"name\":\"TList\",\"arr\":[{\"_typename\":\"TFrame\",\"fUniqueID\":0,\"fBits\":50331656,\"fLineColor\":1,\"fLineStyle\":1,\"fLineWidth\":1,\"fFillColor\":0,\"fFillStyle\":1001,\"fX1\":1,\"fY1\":5,\"fX2\":3.47712125471966,\"fY2\":55,\"fBorderSize\":1,\"fBorderMode\":0},{\"_typename\":\"TGraph\",\"fUniqueID\":0,\"fBits\":50332680,\"fName\":\"Graph\",\"fTitle\":\"Dilepton p_{T} vs. Mass\",\"fLineColor\":1,\"fLineStyle\":1,\"fLineWidth\":1,\"fFillColor\":0,\"fFillStyle\":1000,\"fMarkerColor\":1,\"fMarkerStyle\":20,\"fMarkerSize\":1,\"fNpoints\":7,\"fX\":[29.6515744681384,49.2787092414441,72.8006994167767,90.8066833262487,117.816857850687,241.301367144804,442.906479840957],\"fY\":[31.3159533884316,16.9797319155549,18.9750871160729,19.1860394209331,21.1076021160872,25.9265191148155,30.3821804991373],\"fFunctions\":{\"_typename\":\"TList\",\"name\":\"TList\",\"arr\":[],\"opt\":[]},\"fHistogram\":{\"_typename\":\"TH1F\",\"fUniqueID\":0,\"fBits\":50332160,\"fName\":\"Graph\",\"fTitle\":\"Dilepton p_{T} vs. Mass\",\"fLineColor\":602,\"fLineStyle\":1,\"fLineWidth\":1,\"fFillColor\":0,\"fFillStyle\":1001,\"fMarkerColor\":1,\"fMarkerStyle\":1,\"fMarkerSize\":1,\"fNcells\":102,\"fXaxis\":{\"_typename\":\"TAxis\",\"fUniqueID\":0,\"fBits\":50331656,\"fName\":\"xaxis\",\"fTitle\":\"\",\"fNdivisions\":510,\"fAxisColor\":1,\"fLabelColor\":1,\"fLabelFont\":42,\"fLabelOffset\":0.005,\"fLabelSize\":0.035,\"fTickLength\":0.03,\"fTitleOffset\":1,\"fTitleSize\":0.035,\"fTitleColor\":1,\"fTitleFont\":42,\"fNbins\":100,\"fXmin\":10,\"fXmax\":3000,\"fXbins\":[],\"fFirst\":0,\"fLast\":0,\"fBits2\":0,\"fTimeDisplay\":false,\"fTimeFormat\":\"\",\"fLabels\":null,\"fModLabs\":null},\"fYaxis\":{\"_typename\":\"TAxis\",\"fUniqueID\":0,\"fBits\":50331656,\"fName\":\"yaxis\",\"fTitle\":\"\",\"fNdivisions\":510,\"fAxisColor\":1,\"fLabelColor\":1,\"fLabelFont\":42,\"fLabelOffset\":0.005,\"fLabelSize\":0.035,\"fTickLength\":0.03,\"fTitleOffset\":0,\"fTitleSize\":0.035,\"fTitleColor\":1,\"fTitleFont\":42,\"fNbins\":1,\"fXmin\":15.5461097682672,\"fXmax\":32.7495755357193,\"fXbins\":[],\"fFirst\":0,\"fLast\":0,\"fBits2\":0,\"fTimeDisplay\":false,\"fTimeFormat\":\"\",\"fLabels\":null,\"fModLabs\":null},\"fZaxis\":{\"_typename\":\"TAxis\",\"fUniqueID\":0,\"fBits\":50331648,\"fName\":\"zaxis\",\"fTitle\":\"\",\"fNdivisions\":510,\"fAxisColor\":1,\"fLabelColor\":1,\"fLabelFont\":42,\"fLabelOffset\":0.005,\"fLabelSize\":0.035,\"fTickLength\":0.03,\"fTitleOffset\":1,\"fTitleSize\":0.035,\"fTitleColor\":1,\"fTitleFont\":42,\"fNbins\":1,\"fXmin\":0,\"fXmax\":1,\"fXbins\":[],\"fFirst\":0,\"fLast\":0,\"fBits2\":0,\"fTimeDisplay\":false,\"fTimeFormat\":\"\",\"fLabels\":null,\"fModLabs\":null},\"fBarOffset\":0,\"fBarWidth\":1000,\"fEntries\":0,\"fTsumw\":0,\"fTsumw2\":0,\"fTsumwx\":0,\"fTsumwx2\":0,\"fMaximum\":55,\"fMinimum\":5,\"fNormFactor\":0,\"fContour\":[],\"fSumw2\":[],\"fOption\":\"\",\"fFunctions\":{\"_typename\":\"TList\",\"name\":\"TList\",\"arr\":[],\"opt\":[]},\"fBufferSize\":0,\"fBuffer\":[],\"fBinStatErrOpt\":0,\"fStatOverflows\":2,\"fArray\":[0,0,0,0,0,0,0,0,0,0,0,0,0,0,0,0,0,0,0,0,0,0,0,0,0,0,0,0,0,0,0,0,0,0,0,0,0,0,0,0,0,0,0,0,0,0,0,0,0,0,0,0,0,0,0,0,0,0,0,0,0,0,0,0,0,0,0,0,0,0,0,0,0,0,0,0,0,0,0,0,0,0,0,0,0,0,0,0,0,0,0,0,0,0,0,0,0,0,0,0,0,0]},\"fMinimum\":-1111,\"fMaximum\":-1111},{\"_typename\":\"TGraphErrors\",\"fUniqueID\":0,\"fBits\":50332680,\"fName\":\"Graph\",\"fTitle\":\"Graph\",\"fLineColor\":632,\"fLineStyle\":1,\"fLineWidth\":1,\"fFillColor\":0,\"fFillStyle\":1000,\"fMarkerColor\":632,\"fMarkerStyle\":20,\"fMarkerSize\":1,\"fNpoints\":7,\"fX\":[29.682791819925,49.1537387383247,72.3294184132431,90.9980241208544,117.899313038615,241.248348189646,445.848431543823],\"fY\":[30.146699879483,17.4844311397901,19.8157315811402,20.2112294981282,21.872897306919,25.9593837306712,28.1781139392398],\"fFunctions\":{\"_typename\":\"TList\",\"name\":\"TList\",\"arr\":[],\"opt\":[]},\"fHistogram\":{\"_typename\":\"TH1F\",\"fUniqueID\":0,\"fBits\":50332160,\"fName\":\"Graph\",\"fTitle\":\"Graph\",\"fLineColor\":602,\"fLineStyle\":1,\"fLineWidth\":1,\"fFillColor\":0,\"fFillStyle\":1001,\"fMarkerColor\":1,\"fMarkerStyle\":1,\"fMarkerSize\":1,\"fNcells\":102,\"fXaxis\":{\"_typename\":\"TAxis\",\"fUniqueID\":0,\"fBits\":50331648,\"fName\":\"xaxis\",\"fTitle\":\"\",\"fNdivisions\":510,\"fAxisColor\":1,\"fLabelColor\":1,\"fLabelFont\":42,\"fLabelOffset\":0.005,\"fLabelSize\":0.035,\"fTickLength\":0.03,\"fTitleOffset\":1,\"fTitleSize\":0.035,\"fTitleColor\":1,\"fTitleFont\":42,\"fNbins\":100,\"fXmin\":26.7051266460974,\"fXmax\":490.120501786934,\"fXbins\":[],\"fFirst\":0,\"fLast\":0,\"fBits2\":0,\"fTimeDisplay\":false,\"fTimeFormat\":\"\",\"fLabels\":null,\"fModLabs\":null},\"fYaxis\":{\"_typename\":\"TAxis\",\"fUniqueID\":0,\"fBits\":50331648,\"fName\":\"yaxis\",\"fTitle\":\"\",\"fNdivisions\":510,\"fAxisColor\":1,\"fLabelColor\":1,\"fLabelFont\":42,\"fLabelOffset\":0.005,\"fLabelSize\":0.035,\"fTickLength\":0.03,\"fTitleOffset\":0,\"fTitleSize\":0.035,\"fTitleColor\":1,\"fTitleFont\":42,\"fNbins\":1,\"fXmin\":16.1887777570371,\"fXmax\":31.4479960834472,\"fXbins\":[],\"fFirst\":0,\"fLast\":0,\"fBits2\":0,\"fTimeDisplay\":false,\"fTimeFormat\":\"\",\"fLabels\":null,\"fModLabs\":null},\"fZaxis\":{\"_typename\":\"TAxis\",\"fUniqueID\":0,\"fBits\":50331648,\"fName\":\"zaxis\",\"fTitle\":\"\",\"fNdivisions\":510,\"fAxisColor\":1,\"fLabelColor\":1,\"fLabelFont\":42,\"fLabelOffset\":0.005,\"fLabelSize\":0.035,\"fTickLength\":0.03,\"fTitleOffset\":1,\"fTitleSize\":0.035,\"fTitleColor\":1,\"fTitleFont\":42,\"fNbins\":1,\"fXmin\":0,\"fXmax\":1,\"fXbins\":[],\"fFirst\":0,\"fLast\":0,\"fBits2\":0,\"fTimeDisplay\":false,\"fTimeFormat\":\"\",\"fLabels\":null,\"fModLabs\":null},\"fBarOffset\":0,\"fBarWidth\":1000,\"fEntries\":0,\"fTsumw\":0,\"fTsumw2\":0,\"fTsumwx\":0,\"fTsumwx2\":0,\"fMaximum\":31.4479960834472,\"fMinimum\":16.1887777570371,\"fNormFactor\":0,\"fContour\":[],\"fSumw2\":[],\"fOption\":\"\",\"fFunctions\":{\"_typename\":\"TList\",\"name\":\"TList\",\"arr\":[],\"opt\":[]},\"fBufferSize\":0,\"fBuffer\":[],\"fBinStatErrOpt\":0,\"fStatOverflows\":2,\"fArray\":[0,0,0,0,0,0,0,0,0,0,0,0,0,0,0,0,0,0,0,0,0,0,0,0,0,0,0,0,0,0,0,0,0,0,0,0,0,0,0,0,0,0,0,0,0,0,0,0,0,0,0,0,0,0,0,0,0,0,0,0,0,0,0,0,0,0,0,0,0,0,0,0,0,0,0,0,0,0,0,0,0,0,0,0,0,0,0,0,0,0,0,0,0,0,0,0,0,0,0,0,0,0]},\"fMinimum\":-1111,\"fMaximum\":-1111,\"fEX\":[0.0104288798167957,0.00841183831114075,0.008632446706724,0.00118143167688696,0.0357872672308189,0.239920377394285,2.41314852976294],\"fEY\":[0.0296946767633498,0.0240518555521865,0.0237525942077791,0.0051926974060132,0.0315355723047881,0.239963400975008,0.984014738220036]},{\"_typename\":\"TGraphErrors\",\"fUniqueID\":0,\"fBits\":50332680,\"fName\":\"Graph\",\"fTitle\":\"Graph\",\"fLineColor\":600,\"fLineStyle\":1,\"fLineWidth\":1,\"fFillColor\":0,\"fFillStyle\":1000,\"fMarkerColor\":600,\"fMarkerStyle\":20,\"fMarkerSize\":1,\"fNpoints\":7,\"fX\":[21.6409361985969,48.0107067119154,71.7327141288947,91.2271969356842,117.24363049925,240.095549586998,436.335677015154],\"fY\":[7.58625484265808,13.1152776996008,16.3599248218048,18.2674015289605,19.9600488589965,24.5725746326876,26.8052504795078],\"fFunctions\":{\"_typename\":\"TList\",\"name\":\"TList\",\"arr\":[{\"_typename\":\"TF1\",\"fUniqueID\":0,\"fBits\":50333192,\"fName\":\"f_lepton\",\"fTitle\":\"[0]+[1]*log(x)\",\"fLineColor\":600,\"fLineStyle\":2,\"fLineWidth\":1,\"fFillColor\":19,\"fFillStyle\":0,\"fMarkerColor\":1,\"fMarkerStyle\":1,\"fMarkerSize\":1,\"fXmin\":20,\"fXmax\":900,\"fNpar\":2,\"fNdim\":1,\"fNpx\":100,\"fType\":0,\"fNpfits\":7,\"fNDF\":5,\"fChisquare\":225.374738310799,\"fMinimum\":-1111,\"fMaximum\":-1111,\"fParErrors\":[0.114489040749297,0.025549686210544],\"fParMin\":[0,0],\"fParMax\":[0,0],\"fSave\":[6.57493046640886,9.38095238729051,11.4327280713679,13.0510049702496,14.3873899258538,15.5256731185641,16.5170749826071,17.3952060327263,18.1833156652673,18.8981567808143,19.552201268286,20.1549848150687,20.7139618915947,21.2350705421066,21.7231177000384,22.182049396211,22.6151448075107,23.02515853633,23.4144268580856,23.7849483609416,24.1384460447676,24.4764157707193,24.8001645105158,25.1108408686402,25.409459678162,25.6969219995595,25.9740315165224,26.2415080806699,26.4999989801776,26.7500883764033,26.9923052546922,27.2271301615479,27.4550009439007,27.6763176627538,27.8914468197535,28.1007250088421,28.3044620843577,28.5029439204412,28.6964348234287,28.8851796483152,29.0694056618098,29.2493241875424,29.4251320632924,29.5970129354376,29.7651384119685,29.9296690922152,30.0907554887758,30.2485388549114,30.4031519288062,30.5547196045186,30.7033595381228,30.8491826964096,30.9922938545577,31.1327920483662,31.2707709859384,31.4063194231021,31.5395215063337,31.6704570865045,31.7992020063774,31.925828364448,32.050404757426,32.1729965034002,32.2936658475047,32.4124721517062,32.529472070163,32.6447197114512,32.7582667888206,32.8701627595261,32.9804549541729,33.0891886969228,33.1964074173254,33.3021527544654,33.4064646540502,33.5093814590044,33.610939994087,33.7111756449953,33.8101224323847,33.9078130811884,34.0042790855927,34.0995507699897,34.1936573462023,34.286626967253,34.3784867779226,34.4692629623269,34.5589807887198,34.6476646517147,34.7353381121004,34.8220239344141,34.9077441224222,34.992519952646,35.0763720060612,35.1593201980881,35.2413838069836,35.3225815007349,35.4029313625482,35.4824509150218,35.5611571430818,35.6390665157577,35.7161950068656,35.7925581146659,35.868170880555,20,900],\"fNormalized\":false,\"fNormIntegral\":0,\"fFormula\":{\"_typename\":\"TFormula\",\"fUniqueID\":0,\"fBits\":50332672,\"fName\":\"f_lepton\",\"fTitle\":\"[0]+[1]*log(x)\",\"fClingParameters\":[-16.477994751274,7.6952554876788],\"fAllParametersSetted\":true,\"fParams\":[{\"$pair\":\"pair<TString,int,TFormulaParamOrder>\",\"first\":\"p0\",\"second\":0},{\"$pair\":\"pair<TString,int,TFormulaParamOrder>\",\"first\":\"p1\",\"second\":1}],\"fFormula\":\"[p0]+[p1]*log(x)\",\"fNdim\":1,\"fLinearParts\":[],\"fVectorized\":false},\"fParams\":null,\"fComposition_ptr\":null}],\"opt\":[\"\"]},\"fHistogram\":{\"_typename\":\"TH1F\",\"fUniqueID\":0,\"fBits\":50332160,\"fName\":\"Graph\",\"fTitle\":\"Graph\",\"fLineColor\":602,\"fLineStyle\":1,\"fLineWidth\":1,\"fFillColor\":0,\"fFillStyle\":1001,\"fMarkerColor\":1,\"fMarkerStyle\":1,\"fMarkerSize\":1,\"fNcells\":102,\"fXaxis\":{\"_typename\":\"TAxis\",\"fUniqueID\":0,\"fBits\":50331648,\"fName\":\"xaxis\",\"fTitle\":\"\",\"fNdivisions\":510,\"fAxisColor\":1,\"fLabelColor\":1,\"fLabelFont\":42,\"fLabelOffset\":0.005,\"fLabelSize\":0.035,\"fTickLength\":0.03,\"fTitleOffset\":1,\"fTitleSize\":0.035,\"fTitleColor\":1,\"fTitleFont\":42,\"fNbins\":100,\"fXmin\":19.4666024265968,\"fXmax\":480.285624596095,\"fXbins\":[],\"fFirst\":0,\"fLast\":0,\"fBits2\":0,\"fTimeDisplay\":false,\"fTimeFormat\":\"\",\"fLabels\":null,\"fModLabs\":null},\"fYaxis\":{\"_typename\":\"TAxis\",\"fUniqueID\":0,\"fBits\":50331648,\"fName\":\"yaxis\",\"fTitle\":\"\",\"fNdivisions\":510,\"fAxisColor\":1,\"fLabelColor\":1,\"fLabelFont\":42,\"fLabelOffset\":0.005,\"fLabelSize\":0.035,\"fTickLength\":0.03,\"fTitleOffset\":0,\"fTitleSize\":0.035,\"fTitleColor\":1,\"fTitleFont\":42,\"fNbins\":1,\"fXmin\":5.49804061801982,\"fXmax\":29.8736515447543,\"fXbins\":[],\"fFirst\":0,\"fLast\":0,\"fBits2\":0,\"fTimeDisplay\":false,\"fTimeFormat\":\"\",\"fLabels\":null,\"fModLabs\":null},\"fZaxis\":{\"_typename\":\"TAxis\",\"fUniqueID\":0,\"fBits\":50331648,\"fName\":\"zaxis\",\"fTitle\":\"\",\"fNdivisions\":510,\"fAxisColor\":1,\"fLabelColor\":1,\"fLabelFont\":42,\"fLabelOffset\":0.005,\"fLabelSize\":0.035,\"fTickLength\":0.03,\"fTitleOffset\":1,\"fTitleSize\":0.035,\"fTitleColor\":1,\"fTitleFont\":42,\"fNbins\":1,\"fXmin\":0,\"fXmax\":1,\"fXbins\":[],\"fFirst\":0,\"fLast\":0,\"fBits2\":0,\"fTimeDisplay\":false,\"fTimeFormat\":\"\",\"fLabels\":null,\"fModLabs\":null},\"fBarOffset\":0,\"fBarWidth\":1000,\"fEntries\":0,\"fTsumw\":0,\"fTsumw2\":0,\"fTsumwx\":0,\"fTsumwx2\":0,\"fMaximum\":29.8736515447543,\"fMinimum\":5.49804061801982,\"fNormFactor\":0,\"fContour\":[],\"fSumw2\":[],\"fOption\":\"\",\"fFunctions\":{\"_typename\":\"TList\",\"name\":\"TList\",\"arr\":[],\"opt\":[]},\"fBufferSize\":0,\"fBuffer\":[],\"fBinStatErrOpt\":0,\"fStatOverflows\":2,\"fArray\":[0,0,0,0,0,0,0,0,0,0,0,0,0,0,0,0,0,0,0,0,0,0,0,0,0,0,0,0,0,0,0,0,0,0,0,0,0,0,0,0,0,0,0,0,0,0,0,0,0,0,0,0,0,0,0,0,0,0,0,0,0,0,0,0,0,0,0,0,0,0,0,0,0,0,0,0,0,0,0,0,0,0,0,0,0,0,0,0,0,0,0,0,0,0,0,0,0,0,0,0,0,0]},\"fMinimum\":-1111,\"fMaximum\":-1111,\"fEX\":[0.0113779468227139,0.0094506412235402,0.0141843786808833,0.00119957420491676,0.0362528037267261,0.244252948138731,2.2539415496386],\"fEY\":[0.0569133140770632,0.0223359913752817,0.0341057404117349,0.00493002022281198,0.0301499254856091,0.247497922673736,1.03710015468533]},{\"_typename\":\"TGraph\",\"fUniqueID\":0,\"fBits\":50332680,\"fName\":\"Graph\",\"fTitle\":\"Graph\",\"fLineColor\":600,\"fLineStyle\":1,\"fLineWidth\":1,\"fFillColor\":0,\"fFillStyle\":1000,\"fMarkerColor\":600,\"fMarkerStyle\":24,\"fMarkerSize\":1,\"fNpoints\":7,\"fX\":[21.4614863095556,48.1502240970335,71.7878426269234,91.2172512169282,117.044670705829,240.804134387227,439.625955835655],\"fY\":[8.28121791048813,13.8180926969397,16.9914494846529,18.9425103765487,20.7529497037953,26.0509341018552,30.1225034709613],\"fFunctions\":{\"_typename\":\"TList\",\"name\":\"TList\",\"arr\":[],\"opt\":[]},\"fHistogram\":{\"_typename\":\"TH1F\",\"fUniqueID\":0,\"fBits\":50332160,\"fName\":\"Graph\",\"fTitle\":\"Graph\",\"fLineColor\":602,\"fLineStyle\":1,\"fLineWidth\":1,\"fFillColor\":0,\"fFillStyle\":1001,\"fMarkerColor\":1,\"fMarkerStyle\":1,\"fMarkerSize\":1,\"fNcells\":102,\"fXaxis\":{\"_typename\":\"TAxis\",\"fUniqueID\":0,\"fBits\":50331648,\"fName\":\"xaxis\",\"fTitle\":\"\",\"fNdivisions\":510,\"fAxisColor\":1,\"fLabelColor\":1,\"fLabelFont\":42,\"fLabelOffset\":0.005,\"fLabelSize\":0.035,\"fTickLength\":0.03,\"fTitleOffset\":1,\"fTitleSize\":0.035,\"fTitleColor\":1,\"fTitleFont\":42,\"fNbins\":100,\"fXmin\":19.3153376786001,\"fXmax\":481.442402788265,\"fXbins\":[],\"fFirst\":0,\"fLast\":0,\"fBits2\":0,\"fTimeDisplay\":false,\"fTimeFormat\":\"\",\"fLabels\":null,\"fModLabs\":null},\"fYaxis\":{\"_typename\":\"TAxis\",\"fUniqueID\":0,\"fBits\":50331648,\"fName\":\"yaxis\",\"fTitle\":\"\",\"fNdivisions\":510,\"fAxisColor\":1,\"fLabelColor\":1,\"fLabelFont\":42,\"fLabelOffset\":0.005,\"fLabelSize\":0.035,\"fTickLength\":0.03,\"fTitleOffset\":0,\"fTitleSize\":0.035,\"fTitleColor\":1,\"fTitleFont\":42,\"fNbins\":1,\"fXmin\":6.09708935444081,\"fXmax\":32.3066320270086,\"fXbins\":[],\"fFirst\":0,\"fLast\":0,\"fBits2\":0,\"fTimeDisplay\":false,\"fTimeFormat\":\"\",\"fLabels\":null,\"fModLabs\":null},\"fZaxis\":{\"_typename\":\"TAxis\",\"fUniqueID\":0,\"fBits\":50331648,\"fName\":\"zaxis\",\"fTitle\":\"\",\"fNdivisions\":510,\"fAxisColor\":1,\"fLabelColor\":1,\"fLabelFont\":42,\"fLabelOffset\":0.005,\"fLabelSize\":0.035,\"fTickLength\":0.03,\"fTitleOffset\":1,\"fTitleSize\":0.035,\"fTitleColor\":1,\"fTitleFont\":42,\"fNbins\":1,\"fXmin\":0,\"fXmax\":1,\"fXbins\":[],\"fFirst\":0,\"fLast\":0,\"fBits2\":0,\"fTimeDisplay\":false,\"fTimeFormat\":\"\",\"fLabels\":null,\"fModLabs\":null},\"fBarOffset\":0,\"fBarWidth\":1000,\"fEntries\":0,\"fTsumw\":0,\"fTsumw2\":0,\"fTsumwx\":0,\"fTsumwx2\":0,\"fMaximum\":32.3066320270086,\"fMinimum\":6.09708935444081,\"fNormFactor\":0,\"fContour\":[],\"fSumw2\":[],\"fOption\":\"\",\"fFunctions\":{\"_typename\":\"TList\",\"name\":\"TList\",\"arr\":[],\"opt\":[]},\"fBufferSize\":0,\"fBuffer\":[],\"fBinStatErrOpt\":0,\"fStatOverflows\":2,\"fArray\":[0,0,0,0,0,0,0,0,0,0,0,0,0,0,0,0,0,0,0,0,0,0,0,0,0,0,0,0,0,0,0,0,0,0,0,0,0,0,0,0,0,0,0,0,0,0,0,0,0,0,0,0,0,0,0,0,0,0,0,0,0,0,0,0,0,0,0,0,0,0,0,0,0,0,0,0,0,0,0,0,0,0,0,0,0,0,0,0,0,0,0,0,0,0,0,0,0,0,0,0,0,0]},\"fMinimum\":-1111,\"fMaximum\":-1111},{\"_typename\":\"TPaveText\",\"fUniqueID\":0,\"fBits\":50331657,\"fLineColor\":1,\"fLineStyle\":1,\"fLineWidth\":1,\"fFillColor\":0,\"fFillStyle\":0,\"fX1\":1.72205595625594,\"fY1\":55.9549832022652,\"fX2\":2.75506529846372,\"fY2\":60.9375007590279,\"fX1NDC\":0.333191964285714,\"fY1NDC\":0.915279725048092,\"fX2NDC\":0.666808035714286,\"fY2NDC\":0.995000004768372,\"fBorderSize\":0,\"fInit\":1,\"fShadowColor\":1,\"fCornerRadius\":0,\"fOption\":\"blNDC\",\"fName\":\"title\",\"fTextAngle\":0,\"fTextSize\":0,\"fTextAlign\":22,\"fTextColor\":1,\"fTextFont\":42,\"fLabel\":\"\",\"fLongest\":23,\"fMargin\":0.05,\"fLines\":{\"_typename\":\"TList\",\"name\":\"TList\",\"arr\":[{\"_typename\":\"TLatex\",\"fUniqueID\":0,\"fBits\":50331648,\"fName\":\"\",\"fTitle\":\"Dilepton p_{T} vs. Mass\",\"fTextAngle\":0,\"fTextSize\":0,\"fTextAlign\":0,\"fTextColor\":0,\"fTextFont\":0,\"fX\":0,\"fY\":0,\"fLineColor\":1,\"fLineStyle\":1,\"fLineWidth\":2,\"fLimitFactorSize\":3,\"fOriginSize\":0.0677622407674789}],\"opt\":[\"\"]}}],\"opt\":[\"\",\"ap\",\"p \",\"p \",\"p \",\"blNDC\"]},\"fExecs\":null,\"fName\":\"PtVsMass\",\"fTitle\":\"PtVsMass\",\"fNumPaletteColor\":0,\"fNextPaletteColor\":0,\"fDISPLAY\":\"$DISPLAY\",\"fDoubleBuffer\":0,\"fRetained\":true,\"fXsizeUser\":0,\"fYsizeUser\":0,\"fXsizeReal\":20,\"fYsizeReal\":13.33333,\"fWindowTopX\":0,\"fWindowTopY\":0,\"fWindowWidth\":0,\"fWindowHeight\":0,\"fCw\":896,\"fCh\":572,\"fCatt\":{\"_typename\":\"TAttCanvas\",\"fXBetween\":2,\"fYBetween\":2,\"fTitleFromTop\":1.2,\"fXdate\":0.2,\"fYdate\":0.3,\"fAdate\":1},\"kMoveOpaque\":true,\"kResizeOpaque\":true,\"fHighLightColor\":2,\"fBatch\":true,\"kShowEventStatus\":false,\"kAutoExec\":true,\"kMenuBar\":true});\n",
       "       Core.draw(\"root_plot_2\", obj, \"\");\n",
       "     }\n",
       " );\n",
       "</script>\n"
      ],
      "text/plain": [
       "<IPython.core.display.HTML object>"
      ]
     },
     "metadata": {},
     "output_type": "display_data"
    }
   ],
   "source": [
    "gr = rt.TGraph(nBins, meanMass, meanPt)\n",
    "grUnf = rt.TGraphErrors(nBins, meanMassUnf, meanPtUnf, meanMassUnfStatErr, meanPtUnfStatErr)\n",
    "grFSRUnf = rt.TGraphErrors(nBins, meanMassFSRUnf, meanPtFSRUnf, meanMassFSRUnfStatErr, meanPtFSRUnfStatErr)\n",
    "grMC = rt.TGraph(nBins, meanMassFSRUnfMC, meanPtFSRUnfMC)\n",
    "\n",
    "gr.SetTitle(\"Dilepton p_{T} vs. Mass\")\n",
    "gr.Draw(\"AP\")\n",
    "grUnf.Draw(\"P SAME\")\n",
    "grFSRUnf.Draw(\"P SAME\")\n",
    "grMC.Draw(\"P SAME\")\n",
    "gr.SetMarkerStyle(20)\n",
    "gr.SetMarkerSize(1)\n",
    "grUnf.SetMarkerStyle(20)\n",
    "grUnf.SetMarkerSize(1)\n",
    "grUnf.SetLineColor(rt.kRed)\n",
    "grUnf.SetMarkerColor(rt.kRed)\n",
    "grFSRUnf.SetMarkerStyle(20)\n",
    "grFSRUnf.SetMarkerSize(1)\n",
    "grFSRUnf.SetLineColor(rt.kBlue)\n",
    "grFSRUnf.SetMarkerColor(rt.kBlue)\n",
    "grMC.SetMarkerStyle(24)\n",
    "grMC.SetMarkerSize(1)\n",
    "grMC.SetLineColor(rt.kBlue)\n",
    "grMC.SetMarkerColor(rt.kBlue)\n",
    "gr.GetYaxis().SetRangeUser(5., 55.)\n",
    "gr.GetXaxis().SetLimits(10., 3000.)\n",
    "\n",
    "fitLinear = rt.TF1(\"f_lepton\", \"[0]+[1]*log(x)\", 20., 900.);\n",
    "fitLinear.SetLineStyle(2)\n",
    "fitLinear.SetLineColor(rt.kBlue)\n",
    "fitLinear.SetLineWidth(1)\n",
    "grFSRUnf.Fit(fitLinear, \"R0\")\n",
    "c_PtVsMass.Draw()"
   ]
  },
  {
   "cell_type": "code",
   "execution_count": null,
   "metadata": {},
   "outputs": [],
   "source": [
    "fitLinear.GetNDF()"
   ]
  },
  {
   "cell_type": "markdown",
   "metadata": {},
   "source": [
    "## Break down the current mass bin [81:101] into  [81:91] and [91:101]"
   ]
  }
 ],
 "metadata": {
  "kernelspec": {
   "display_name": "Python 3",
   "language": "python",
   "name": "python3"
  },
  "language_info": {
   "codemirror_mode": {
    "name": "ipython",
    "version": 3
   },
   "file_extension": ".py",
   "mimetype": "text/x-python",
   "name": "python",
   "nbconvert_exporter": "python",
   "pygments_lexer": "ipython3",
   "version": "3.6.8"
  }
 },
 "nbformat": 4,
 "nbformat_minor": 4
}
