{
 "cells": [
  {
   "cell_type": "code",
   "execution_count": 1,
   "metadata": {},
   "outputs": [
    {
     "name": "stdout",
     "output_type": "stream",
     "text": [
      "Welcome to JupyROOT 6.14/04\n"
     ]
    }
   ],
   "source": [
    "import ROOT as rt\n",
    "import os\n",
    "import sys"
   ]
  },
  {
   "cell_type": "code",
   "execution_count": 2,
   "metadata": {},
   "outputs": [
    {
     "data": {
      "text/html": [
       "<style>.container { width:100% !important; }</style>"
      ],
      "text/plain": [
       "<IPython.core.display.HTML object>"
      ]
     },
     "metadata": {},
     "output_type": "display_data"
    }
   ],
   "source": [
    "from IPython.core.display import display, HTML\n",
    "display(HTML(\"<style>.container { width:100% !important; }</style>\"))"
   ]
  },
  {
   "cell_type": "code",
   "execution_count": 3,
   "metadata": {},
   "outputs": [],
   "source": [
    "def setUnfoldBkgs(unfold_class, hfile_path, isSys, syst_name, nthSys, nTotSys, year):\n",
    "    \n",
    "    bkgList = {\"WJets_MG\": \"WJets\", \\\n",
    "               \"WW_pythia\": \"EWK\", \"WZ_pythia\": \"EWK\", \"ZZ_pythia\": \"EWK\", \\\n",
    "               \"DYJets10to50ToTauTau\":\"EWK\", \"DYJetsToTauTau\":\"EWK\", \\\n",
    "               \"TTLL_powheg\": \"Top\", \"SingleTop_tW_top_Incl\": \"Top\", \"SingleTop_tW_antitop_Incl\": \"Top\"}\n",
    "    \n",
    "    #bkgList = [\"DYJetsToTauTau\", \"DYJets10to50ToTauTau\", \"TTLL_powheg\", \"WW_pythia\", \"WZ_pythia\", \"ZZ_pythia\", \\\n",
    "    #           \"SingleTop_tW_top_Incl\", \"SingleTop_tW_antitop_Incl\", \"WJets_MG\"]\n",
    "    \n",
    "    for bkg in bkgList.items():\n",
    "        #unfold_class.subBkgs(\"Pt\", hfile_path, bkg, isSys, syst_name, nTotSys, nthSys, \"Detector\")\n",
    "        unfold_class.subBkgs(hfile_path, bkg, isSys, syst_name, nTotSys, nthSys, \"Detector\")"
   ]
  },
  {
   "cell_type": "code",
   "execution_count": 4,
   "metadata": {},
   "outputs": [
    {
     "name": "stdout",
     "output_type": "stream",
     "text": [
      "{'matrix': 'inFiles/2016/electron/DY.root', 'fsr_matrix': 'inFiles/2016/electron/DY_FSR.root', 'hist': 'inFiles/2016/electron/unfold_input.root'}\n"
     ]
    }
   ],
   "source": [
    "year    = '2016'\n",
    "channel = 'electron'\n",
    "doSys   = True\n",
    "\n",
    "# N_rec == N_gen or N_rec == 2 * N_gen\n",
    "# Detector_Dressed_DRp1_Fiducial\n",
    "# Dressed_DRp1_Dressed_DR4PI_Fiducial\n",
    "# Dressed_DRp1_Dressed_DR4PI_FullPhase\n",
    "# Detector_Dressed_DR4PI_Fiducial\n",
    "# Detector_Dressed_DR4PI_FullPhase\n",
    "\n",
    "matrix_detector = 'Detector_Dressed_DRp1_Fiducial' \n",
    "matrix_detector_ = 'Detector_Dressed_DRp1' \n",
    "matrix_fsr = 'Dressed_DRp1_Dressed_DR4PI_FullPhase'\n",
    "matrix_fsr_ = 'Dressed_DRp1_Dressed_DR4PI'\n",
    "\n",
    "matrix_det_fsr = 'Detector_Dressed_DR4PI_FullPhase'\n",
    "matrix_det_fsr_ = 'Detector_Dressed_DR4PI'\n",
    "\n",
    "# Set output directory\n",
    "outDir = 'output/'+year+'/new_'+channel+'/'\n",
    "inFhistTxt = 'inFiles/'+year+'/'+channel+'/fhist.txt'\n",
    "\n",
    "# Make output directory\n",
    "if not os.path.exists(outDir):\n",
    "    os.makedirs(outDir)\n",
    "\n",
    "# Read text file including root file path and for unfolding\n",
    "filePaths = open(inFhistTxt, 'r')\n",
    "unfoldInputDic = {}\n",
    "\n",
    "for path in filePaths:\n",
    "    modifiedPath = path.lstrip(' ').rstrip(' ').rstrip('\\n')\n",
    "    unfoldInputDic[modifiedPath.split()[1]] = modifiedPath.split()[2]\n",
    "    \n",
    "print(unfoldInputDic)"
   ]
  },
  {
   "cell_type": "code",
   "execution_count": 5,
   "metadata": {},
   "outputs": [],
   "source": [
    "import pyScripts.unfoldUtil as unfoldutil\n",
    "import pyScripts.drawUtil as drawutil\n",
    "\n",
    "# Simple unfolding tests\n",
    "# Unfolding without systematics\n",
    "# Closure tests"
   ]
  },
  {
   "cell_type": "code",
   "execution_count": 6,
   "metadata": {},
   "outputs": [
    {
     "name": "stdout",
     "output_type": "stream",
     "text": [
      "ISRUnfold set!\n",
      "ISRUnfold set!\n",
      "ISRUnfold set!\n",
      "ISRUnfold set!\n"
     ]
    }
   ],
   "source": [
    "bias = 1.0\n",
    "\n",
    "# Create ISRUnfold class\n",
    "#                                              # unfold mode  \n",
    "unfold_det = rt.ISRUnfold(channel, int(year), int(0))\n",
    "unfold_det.setOutputBaseDir(outDir)\n",
    "unfold_det.setBias(bias)\n",
    "\n",
    "unfold_fsr = rt.ISRUnfold(channel, int(year), int(0))\n",
    "unfold_fsr.setOutputBaseDir(outDir)\n",
    "unfold_fsr.setBias(bias)\n",
    "\n",
    "# To test one-step unfolding result\n",
    "unfold_oneStep = rt.ISRUnfold(channel, int(year), int(0))\n",
    "unfold_oneStep.setOutputBaseDir(outDir)\n",
    "unfold_oneStep.setBias(bias)\n",
    "\n",
    "# Closure\n",
    "unfold_closure = rt.ISRUnfold(channel, int(year), int(0))\n",
    "unfold_closure.setOutputBaseDir(outDir)\n",
    "unfold_closure.setBias(bias)"
   ]
  },
  {
   "cell_type": "code",
   "execution_count": 7,
   "metadata": {
    "scrolled": false
   },
   "outputs": [
    {
     "name": "stdout",
     "output_type": "stream",
     "text": [
      "ISRUnfold::setNomResMatrix set response matrix...\n",
      "0 th mass bin edge: 40\n",
      "1 th mass bin edge: 60\n",
      "2 th mass bin edge: 81\n",
      "3 th mass bin edge: 101\n",
      "4 th mass bin edge: 200\n",
      "5 th mass bin edge: 320\n"
     ]
    },
    {
     "name": "stderr",
     "output_type": "stream",
     "text": [
      "Info in <TUnfoldV17::SetConstraint>: fConstraint=1\n",
      "Warning in <TUnfoldV17::TUnfold>: 4 output bins do not depend on the input data  0-2 71\n",
      "Info in <TUnfoldV17::TUnfold>: 70 input bins and 68 output bins\n",
      "Info in <TUnfoldDensityV17::TUnfold>: *NOT* unfolding bin #0\n",
      "Info in <TUnfoldDensityV17::TUnfold>: *NOT* unfolding bin #1 (Gen_Pt:mass[ufl]:pt[0,4])\n",
      "Info in <TUnfoldDensityV17::TUnfold>: *NOT* unfolding bin #2 (Gen_Pt:mass[ufl]:pt[4,8])\n",
      "Info in <TUnfoldDensityV17::TUnfold>: *NOT* unfolding bin #71\n"
     ]
    }
   ],
   "source": [
    "# Set response matrix: detector unfolding\n",
    "unfold_det.setNomResMatrix(\"Pt\", unfoldInputDic['matrix'], matrix_detector, matrix_detector_)"
   ]
  },
  {
   "cell_type": "code",
   "execution_count": 8,
   "metadata": {
    "scrolled": true
   },
   "outputs": [
    {
     "name": "stdout",
     "output_type": "stream",
     "text": [
      "ISRUnfold::setNomResMatrix set response matrix...\n",
      "ISRUnfold::setMassBindEdges massBinEdges already set.\n"
     ]
    },
    {
     "name": "stderr",
     "output_type": "stream",
     "text": [
      "Info in <TUnfoldV17::SetConstraint>: fConstraint=1\n",
      "Info in <TUnfoldV17::TUnfold>: underflow and overflow bin do not depend on the input data\n",
      "Info in <TUnfoldV17::TUnfold>: 41 input bins and 42 output bins (includes 1 underflow bin)\n",
      "Error in <TUnfoldV17::TUnfold>: too few (ny=41) input bins for nx=42 output bins\n",
      "Info in <TUnfoldDensityV17::TUnfold>: *NOT* unfolding bin #42\n"
     ]
    }
   ],
   "source": [
    "unfold_det.setNomResMatrix(\"Mass\", unfoldInputDic['matrix'], matrix_detector, matrix_detector_)"
   ]
  },
  {
   "cell_type": "code",
   "execution_count": 9,
   "metadata": {
    "scrolled": false
   },
   "outputs": [
    {
     "name": "stdout",
     "output_type": "stream",
     "text": [
      "ISRUnfold::setNomResMatrix set response matrix...\n",
      "0 th mass bin edge: 40\n",
      "1 th mass bin edge: 60\n",
      "2 th mass bin edge: 81\n",
      "3 th mass bin edge: 101\n",
      "4 th mass bin edge: 200\n",
      "5 th mass bin edge: 320\n",
      "ISRUnfold::setNomResMatrix set response matrix...\n",
      "ISRUnfold::setMassBindEdges massBinEdges already set.\n"
     ]
    },
    {
     "name": "stderr",
     "output_type": "stream",
     "text": [
      "Info in <TUnfoldV17::SetConstraint>: fConstraint=1\n",
      "Info in <TUnfoldV17::TUnfold>: underflow and overflow bin do not depend on the input data\n",
      "Info in <TUnfoldV17::TUnfold>: 70 input bins and 70 output bins\n",
      "Warning in <TUnfoldV17::TUnfold>: too few (ny=70) input bins for nx=70 output bins\n",
      "Info in <TUnfoldDensityV17::TUnfold>: *NOT* unfolding bin #0\n",
      "Info in <TUnfoldDensityV17::TUnfold>: *NOT* unfolding bin #71\n",
      "Info in <TUnfoldV17::SetConstraint>: fConstraint=1\n",
      "Info in <TUnfoldV17::TUnfold>: underflow and overflow bin do not depend on the input data\n",
      "Info in <TUnfoldV17::TUnfold>: 41 input bins and 42 output bins (includes 1 underflow bin)\n",
      "Error in <TUnfoldV17::TUnfold>: too few (ny=41) input bins for nx=42 output bins\n",
      "Info in <TUnfoldDensityV17::TUnfold>: *NOT* unfolding bin #42\n"
     ]
    }
   ],
   "source": [
    "# One step unfolding\n",
    "unfold_oneStep.setNomResMatrix(\"Pt\", unfoldInputDic['matrix'], matrix_det_fsr, matrix_det_fsr_)\n",
    "unfold_oneStep.setNomResMatrix(\"Mass\", unfoldInputDic['matrix'], matrix_det_fsr, matrix_det_fsr_)"
   ]
  },
  {
   "cell_type": "code",
   "execution_count": 10,
   "metadata": {},
   "outputs": [
    {
     "name": "stdout",
     "output_type": "stream",
     "text": [
      "ISRUnfold::setNomResMatrix set response matrix...\n",
      "0 th mass bin edge: 40\n",
      "1 th mass bin edge: 60\n",
      "2 th mass bin edge: 81\n",
      "3 th mass bin edge: 101\n",
      "4 th mass bin edge: 200\n",
      "5 th mass bin edge: 320\n",
      "ISRUnfold::setNomResMatrix set response matrix...\n",
      "ISRUnfold::setMassBindEdges massBinEdges already set.\n"
     ]
    },
    {
     "name": "stderr",
     "output_type": "stream",
     "text": [
      "Info in <TUnfoldV17::SetConstraint>: fConstraint=1\n",
      "Warning in <TUnfoldV17::TUnfold>: 4 output bins do not depend on the input data  0-2 71\n",
      "Info in <TUnfoldV17::TUnfold>: 70 input bins and 68 output bins\n",
      "Info in <TUnfoldDensityV17::TUnfold>: *NOT* unfolding bin #0\n",
      "Info in <TUnfoldDensityV17::TUnfold>: *NOT* unfolding bin #1 (Gen_Pt:mass[ufl]:pt[0,4])\n",
      "Info in <TUnfoldDensityV17::TUnfold>: *NOT* unfolding bin #2 (Gen_Pt:mass[ufl]:pt[4,8])\n",
      "Info in <TUnfoldDensityV17::TUnfold>: *NOT* unfolding bin #71\n",
      "Info in <TUnfoldV17::SetConstraint>: fConstraint=1\n",
      "Info in <TUnfoldV17::TUnfold>: underflow and overflow bin do not depend on the input data\n",
      "Info in <TUnfoldV17::TUnfold>: 41 input bins and 42 output bins (includes 1 underflow bin)\n",
      "Error in <TUnfoldV17::TUnfold>: too few (ny=41) input bins for nx=42 output bins\n",
      "Info in <TUnfoldDensityV17::TUnfold>: *NOT* unfolding bin #42\n"
     ]
    }
   ],
   "source": [
    "unfold_closure.setNomResMatrix(\"Pt\", unfoldInputDic['matrix'], matrix_detector, matrix_detector_)\n",
    "unfold_closure.setNomResMatrix(\"Mass\", unfoldInputDic['matrix'], matrix_detector, matrix_detector_)"
   ]
  },
  {
   "cell_type": "code",
   "execution_count": 11,
   "metadata": {},
   "outputs": [
    {
     "name": "stdout",
     "output_type": "stream",
     "text": [
      "ISRUnfold::setNomResMatrix set response matrix...\n",
      "0 th mass bin edge: 40\n",
      "1 th mass bin edge: 60\n",
      "2 th mass bin edge: 81\n",
      "3 th mass bin edge: 101\n",
      "4 th mass bin edge: 200\n",
      "5 th mass bin edge: 320\n",
      "ISRUnfold::setNomResMatrix set response matrix...\n",
      "ISRUnfold::setMassBindEdges massBinEdges already set.\n"
     ]
    },
    {
     "name": "stderr",
     "output_type": "stream",
     "text": [
      "Info in <TUnfoldV17::SetConstraint>: fConstraint=1\n",
      "Warning in <TUnfoldV17::TUnfold>: 4 output bins do not depend on the input data  0-2 71\n",
      "Info in <TUnfoldV17::TUnfold>: 70 input bins and 68 output bins\n",
      "Info in <TUnfoldDensityV17::TUnfold>: *NOT* unfolding bin #0\n",
      "Info in <TUnfoldDensityV17::TUnfold>: *NOT* unfolding bin #1 (Gen_Pt:mass[ufl]:pt[0,4])\n",
      "Info in <TUnfoldDensityV17::TUnfold>: *NOT* unfolding bin #2 (Gen_Pt:mass[ufl]:pt[4,8])\n",
      "Info in <TUnfoldDensityV17::TUnfold>: *NOT* unfolding bin #71\n",
      "Info in <TUnfoldV17::SetConstraint>: fConstraint=1\n",
      "Info in <TUnfoldV17::TUnfold>: underflow and overflow bin do not depend on the input data\n",
      "Info in <TUnfoldV17::TUnfold>: 41 input bins and 42 output bins (includes 1 underflow bin)\n",
      "Error in <TUnfoldV17::TUnfold>: too few (ny=41) input bins for nx=42 output bins\n",
      "Info in <TUnfoldDensityV17::TUnfold>: *NOT* unfolding bin #42\n"
     ]
    }
   ],
   "source": [
    "# Set FSR unfolding\n",
    "unfold_fsr.setNomResMatrix(\"Pt\", unfoldInputDic['fsr_matrix'], matrix_fsr, matrix_fsr_, True)\n",
    "unfold_fsr.setNomResMatrix(\"Mass\", unfoldInputDic['fsr_matrix'], matrix_fsr, matrix_fsr_, True)"
   ]
  },
  {
   "cell_type": "code",
   "execution_count": 12,
   "metadata": {},
   "outputs": [],
   "source": [
    "%jsroot on"
   ]
  },
  {
   "cell_type": "code",
   "execution_count": 13,
   "metadata": {},
   "outputs": [
    {
     "name": "stderr",
     "output_type": "stream",
     "text": [
      "Warning in <TUnfoldDensityV17::SetInput>: 2/70 input bins have zero error, and are ignored.\n",
      "Warning in <TUnfoldDensityV17::SetInput>: 2/70 input bins have zero error, and are ignored.\n",
      "Warning in <TUnfoldDensityV17::SetInput>: 2/70 input bins have zero error, and are ignored.\n"
     ]
    }
   ],
   "source": [
    "#dataHistName = \"histo_DoubleMuonnominal\"\n",
    "#dyHistName = \"histo_DYJetsToMuMunominal\"\n",
    "dataHistName = \"histo_DoubleEGnominal\"\n",
    "dyHistName = \"histo_DYJetsToEEnominal\"\n",
    "\n",
    "\n",
    "unfold_det.setUnfInput(\"Pt\",   unfoldInputDic['hist'], \"Detector\", dataHistName, False, \"nominal\", 0)\n",
    "unfold_det.setUnfInput(\"Mass\", unfoldInputDic['hist'], \"Detector\", dataHistName, False, \"nominal\", 0)\n",
    "setUnfoldBkgs(unfold_det, unfoldInputDic['hist'], False, \"nominal\", 0, -1, year)\n",
    "\n",
    "unfold_oneStep.setUnfInput(\"Pt\",   unfoldInputDic['hist'], \"Detector\", dataHistName, False, \"nominal\", 0)\n",
    "unfold_oneStep.setUnfInput(\"Mass\", unfoldInputDic['hist'], \"Detector\", dataHistName, False, \"nominal\", 0)\n",
    "setUnfoldBkgs(unfold_oneStep, unfoldInputDic['hist'], False, \"nominal\", 0, -1, year)\n",
    "\n",
    "unfold_closure.setUnfInput(\"Pt\",   unfoldInputDic['hist'], \"Detector\", dyHistName, False, \"nominal\", 0)\n",
    "unfold_closure.setUnfInput(\"Mass\", unfoldInputDic['hist'], \"Detector\", dyHistName, False, \"nominal\", 0)"
   ]
  },
  {
   "cell_type": "markdown",
   "metadata": {},
   "source": [
    "## Draw folded histograms\n",
    "drawFoldedHistograms()\n",
    "- 데이터와 stacked MC 비교\n",
    "- 백그라운드를 뺀 데이터와 시그널 MC 비교\n",
    "- return canvas?"
   ]
  },
  {
   "cell_type": "code",
   "execution_count": 14,
   "metadata": {
    "scrolled": false
   },
   "outputs": [
    {
     "name": "stderr",
     "output_type": "stream",
     "text": [
      "Warning in <TUnfoldDensityV17::GetInputInverseEmatrix>: number of parameters 68 = input rank 68. Problem is ill posed\n",
      "Error in <TUnfoldDensityV17::GetInputInverseEmatrix>: number of parameters 42 > 41 (rank of input covariance). Problem can not be solved\n",
      "Info in <TUnfoldDensityV17::InvertMSparseSymmPos>: cholesky-decomposition failed, try eigenvalue analysis\n",
      "Warning in <TUnfoldDensityV17::DoUnfold>: rank of matrix E 41 expect 42\n",
      "Info in <TUnfoldDensityV17::InvertMSparseSymmPos>: cholesky-decomposition failed, try eigenvalue analysis\n",
      "Warning in <TUnfoldDensityV17::DoUnfold>: rank of output covariance is 41 expect 42\n"
     ]
    }
   ],
   "source": [
    "# Do unfold Need to understand the error meassages below!\n",
    "unfold_det.doISRUnfold(False)"
   ]
  },
  {
   "cell_type": "code",
   "execution_count": 15,
   "metadata": {},
   "outputs": [
    {
     "name": "stderr",
     "output_type": "stream",
     "text": [
      "Warning in <TUnfoldDensityV17::SetInput>: 2/70 input bins have zero error, and are ignored.\n"
     ]
    }
   ],
   "source": [
    "# Set input for FSR unfolding using detector unfold output\n",
    "unfold_fsr.setUnfInput(unfold_det, \"Pt\", False, \"\", 0)\n",
    "unfold_fsr.setUnfInput(unfold_det, \"Mass\", False, \"\", 0)"
   ]
  },
  {
   "cell_type": "code",
   "execution_count": 16,
   "metadata": {},
   "outputs": [
    {
     "name": "stderr",
     "output_type": "stream",
     "text": [
      "Warning in <TUnfoldDensityV17::GetInputInverseEmatrix>: number of parameters 68 = input rank 68. Problem is ill posed\n",
      "Error in <TUnfoldDensityV17::GetInputInverseEmatrix>: number of parameters 42 > 41 (rank of input covariance). Problem can not be solved\n",
      "Info in <TUnfoldDensityV17::InvertMSparseSymmPos>: cholesky-decomposition failed, try eigenvalue analysis\n",
      "Warning in <TUnfoldDensityV17::DoUnfold>: rank of matrix E 41 expect 42\n",
      "Info in <TUnfoldDensityV17::InvertMSparseSymmPos>: cholesky-decomposition failed, try eigenvalue analysis\n",
      "Warning in <TUnfoldDensityV17::DoUnfold>: rank of output covariance is 41 expect 42\n"
     ]
    }
   ],
   "source": [
    "unfold_fsr.doISRUnfold(False)"
   ]
  },
  {
   "cell_type": "code",
   "execution_count": 17,
   "metadata": {},
   "outputs": [
    {
     "name": "stderr",
     "output_type": "stream",
     "text": [
      "Error in <TUnfoldDensityV17::GetInputInverseEmatrix>: number of parameters 70 > 68 (rank of input covariance). Problem can not be solved\n",
      "Info in <TUnfoldDensityV17::InvertMSparseSymmPos>: cholesky-decomposition failed, try eigenvalue analysis\n",
      "Warning in <TUnfoldDensityV17::DoUnfold>: rank of matrix E 68 expect 70\n",
      "Info in <TUnfoldDensityV17::InvertMSparseSymmPos>: cholesky-decomposition failed, try eigenvalue analysis\n",
      "Warning in <TUnfoldDensityV17::DoUnfold>: rank of output covariance is 68 expect 70\n",
      "Error in <TUnfoldDensityV17::GetInputInverseEmatrix>: number of parameters 42 > 41 (rank of input covariance). Problem can not be solved\n",
      "Info in <TUnfoldDensityV17::InvertMSparseSymmPos>: cholesky-decomposition failed, try eigenvalue analysis\n",
      "Warning in <TUnfoldDensityV17::DoUnfold>: rank of matrix E 41 expect 42\n",
      "Info in <TUnfoldDensityV17::InvertMSparseSymmPos>: cholesky-decomposition failed, try eigenvalue analysis\n",
      "Warning in <TUnfoldDensityV17::DoUnfold>: rank of output covariance is 41 expect 42\n"
     ]
    }
   ],
   "source": [
    "unfold_oneStep.doISRUnfold(False)"
   ]
  },
  {
   "cell_type": "code",
   "execution_count": 18,
   "metadata": {},
   "outputs": [
    {
     "name": "stderr",
     "output_type": "stream",
     "text": [
      "Warning in <TUnfoldDensityV17::GetInputInverseEmatrix>: number of parameters 68 = input rank 68. Problem is ill posed\n",
      "Error in <TUnfoldDensityV17::GetInputInverseEmatrix>: number of parameters 42 > 41 (rank of input covariance). Problem can not be solved\n",
      "Info in <TUnfoldDensityV17::InvertMSparseSymmPos>: cholesky-decomposition failed, try eigenvalue analysis\n",
      "Warning in <TUnfoldDensityV17::DoUnfold>: rank of matrix E 41 expect 42\n"
     ]
    }
   ],
   "source": [
    "unfold_closure.doISRUnfold(False)"
   ]
  },
  {
   "cell_type": "markdown",
   "metadata": {},
   "source": [
    "## Draw unfolded histograms"
   ]
  },
  {
   "cell_type": "code",
   "execution_count": 19,
   "metadata": {},
   "outputs": [],
   "source": [
    "# For mass distribution\n",
    "mass_steering = \"mass[UO];pt[UOC0]\"\n",
    "mass_useAxis = True\n",
    "\n",
    "# Get detector level DY MC hist\n",
    "hDYMC_detector = unfold_det.getRawHist(\"Mass\", unfoldInputDic['hist'], \"Detector\", dyHistName, \\\n",
    "                                        \"hDYMC_detctor\", mass_steering, mass_useAxis)\n",
    "\n",
    "# Two-step from detector to pre-FSR\n",
    "hMassUnfoldedData = unfold_det.getDetUnfoldedHists(\"Mass\", \"hMassUnfoldedData\", mass_steering, mass_useAxis)\n",
    "hMassMCTruth = unfold_det.getMCHists(\"Mass\", \"hMassMCTruth\", mass_steering, mass_useAxis)\n",
    "hMassFSRUnfoldedData = unfold_fsr.getDetUnfoldedHists(\"Mass\", \"hMassFSRUnfoldedData\", mass_steering, mass_useAxis)\n",
    "hMassData = unfold_det.getDetHists(\"Mass\", \"hMassData\", mass_steering, mass_useAxis)\n",
    "hMassMCTruth_preFSR = unfold_fsr.getMCHists(\"Mass\", \"hMassMCTruth_preFSR\", mass_steering, mass_useAxis)\n",
    "\n",
    "# One-step \n",
    "hMassUnfoldedData_ = unfold_oneStep.getDetUnfoldedHists(\"Mass\", \"hMassUnfoldedData_\", mass_steering, mass_useAxis)\n",
    "hMassUnfoldedMC_ = unfold_oneStep.getMCHists(\"Mass\", \"hMassUnfoldedMC_\", mass_steering, mass_useAxis)\n",
    "\n",
    "# Closure (One-step)\n",
    "hMassUnfoldedMC_closure = unfold_closure.getDetUnfoldedHists(\"Mass\", \"hMassUnfoldedMC_closure\", mass_steering, mass_useAxis)\n",
    "\n",
    "# For pt distribution\n",
    "pt_steering = \"pt[UO];mass[UO]\"\n",
    "pt_useAxis = False\n",
    "\n",
    "hDYMCPt_detector = unfold_det.getRawHist(\"Pt\", unfoldInputDic['hist'], \"Detector\", dyHistName, \\\n",
    "                                        \"hDYMCPt_detctor\", pt_steering, pt_useAxis)\n",
    "\n",
    "# Two-step from detector to pre-FSR\n",
    "hPtUnfoldedData = unfold_det.getDetUnfoldedHists(\"Pt\", \"hPtUnfoldedData\", pt_steering, pt_useAxis)\n",
    "hPtMCTruth = unfold_det.getMCHists(\"Pt\", \"hPtMCTruth\", pt_steering, pt_useAxis)\n",
    "hPtFSRUnfoldedData = unfold_fsr.getDetUnfoldedHists(\"Pt\", \"hPtFSRUnfoldedData\", pt_steering, pt_useAxis)\n",
    "hPtData = unfold_det.getDetHists(\"Pt\", \"hPtData\", pt_steering, pt_useAxis)\n",
    "hPtMCTruth_preFSR = unfold_fsr.getMCHists(\"Pt\", \"hPtMCTruth_preFSR\", pt_steering, pt_useAxis)\n",
    "\n",
    "# One-step\n",
    "hPtUnfoldedData_ = unfold_oneStep.getDetUnfoldedHists(\"Pt\", \"hPtUnfoldedData_\", pt_steering, pt_useAxis)\n",
    "hPtUnfoldedMC_ = unfold_oneStep.getMCHists(\"Pt\", \"hPtUnfoldedMC_\", pt_steering, pt_useAxis)\n",
    "\n",
    "# Closure (One-step)\n",
    "hPtUnfoldedMC_closure = unfold_closure.getDetUnfoldedHists(\"Pt\", \"hPtUnfoldedMC_closure\", pt_steering, pt_useAxis)"
   ]
  },
  {
   "cell_type": "code",
   "execution_count": 20,
   "metadata": {},
   "outputs": [],
   "source": [
    "# Draw plot!\n",
    "c = rt.TCanvas(\"c\",\"c\", 1500, 600)\n",
    "c.Divide(2,1);\n",
    "\n",
    "pad_mass = rt.TPad(\"pad_mass\", \"pad_mass\", 0, 0.3, 1, 1.0)\n",
    "ratio_mass = rt.TPad(\"ratio_mass\", \"raio_mass\", 0, 0.0, 1, 0.3)\n",
    "c.cd(1)\n",
    "pad_mass.Draw()\n",
    "c.cd(1)\n",
    "ratio_mass.Draw()\n",
    "\n",
    "pad_pt = rt.TPad(\"pad_pt\", \"pad_pt\", 0, 0.3, 1, 1.0)\n",
    "ratio_pt = rt.TPad(\"ratio_pt\", \"ratio_pt\", 0, 0.0, 1, 0.3)\n",
    "c.cd(2)\n",
    "pad_pt.SetLeftMargin(2.)\n",
    "pad_pt.Draw()\n",
    "c.cd(2)\n",
    "ratio_pt.Draw()"
   ]
  },
  {
   "cell_type": "code",
   "execution_count": 21,
   "metadata": {
    "scrolled": false
   },
   "outputs": [
    {
     "name": "stderr",
     "output_type": "stream",
     "text": [
      "Info in <TCanvas::Print>: pdf file Mass_Pt.pdf has been created\n"
     ]
    },
    {
     "data": {
      "text/html": [
       "\n",
       "<div id=\"root_plot_1\"\n",
       "     style=\"width: 1496px; height: 572px\">\n",
       "</div>\n",
       "\n",
       "<script>\n",
       " requirejs.config({\n",
       "     paths: {\n",
       "       'JSRootCore' : 'https://root.cern.ch/js/notebook//scripts/JSRootCore',\n",
       "     }\n",
       "   });\n",
       " require(['JSRootCore'],\n",
       "     function(Core) {\n",
       "       var obj = Core.JSONR_unref({\"_typename\":\"TCanvas\",\"fUniqueID\":0,\"fBits\":53673992,\"fLineColor\":1,\"fLineStyle\":1,\"fLineWidth\":1,\"fFillColor\":0,\"fFillStyle\":1001,\"fLeftMargin\":0.1,\"fRightMargin\":0.1,\"fBottomMargin\":0.1,\"fTopMargin\":0.1,\"fXfile\":2,\"fYfile\":2,\"fAfile\":1,\"fXstat\":0.99,\"fYstat\":0.99,\"fAstat\":2,\"fFrameFillColor\":0,\"fFrameLineColor\":1,\"fFrameFillStyle\":1001,\"fFrameLineStyle\":1,\"fFrameLineWidth\":1,\"fFrameBorderSize\":1,\"fFrameBorderMode\":0,\"fX1\":0,\"fY1\":0,\"fX2\":1,\"fY2\":1,\"fXtoAbsPixelk\":5e-5,\"fXtoPixelk\":5e-5,\"fXtoPixel\":1496,\"fYtoAbsPixelk\":572.00005,\"fYtoPixelk\":572.00005,\"fYtoPixel\":-572,\"fUtoAbsPixelk\":5e-5,\"fUtoPixelk\":5e-5,\"fUtoPixel\":1496,\"fVtoAbsPixelk\":572.00005,\"fVtoPixelk\":572,\"fVtoPixel\":-572,\"fAbsPixeltoXk\":0,\"fPixeltoXk\":0,\"fPixeltoX\":6.68449197860963e-4,\"fAbsPixeltoYk\":1,\"fPixeltoYk\":0,\"fPixeltoY\":-0.00174825174825175,\"fXlowNDC\":0,\"fYlowNDC\":0,\"fXUpNDC\":0,\"fYUpNDC\":0,\"fWNDC\":1,\"fHNDC\":1,\"fAbsXlowNDC\":0,\"fAbsYlowNDC\":0,\"fAbsWNDC\":1,\"fAbsHNDC\":1,\"fUxmin\":0,\"fUymin\":0,\"fUxmax\":1,\"fUymax\":1,\"fTheta\":30,\"fPhi\":30,\"fAspectRatio\":0,\"fNumber\":0,\"fTickx\":0,\"fTicky\":0,\"fLogx\":0,\"fLogy\":0,\"fLogz\":0,\"fPadPaint\":0,\"fCrosshair\":0,\"fCrosshairPos\":0,\"fBorderSize\":2,\"fBorderMode\":0,\"fModified\":false,\"fGridx\":false,\"fGridy\":false,\"fAbsCoord\":false,\"fEditable\":true,\"fFixedAspectRatio\":false,\"fPrimitives\":{\"_typename\":\"TList\",\"name\":\"TList\",\"arr\":[{\"_typename\":\"TPad\",\"fUniqueID\":0,\"fBits\":50331657,\"fLineColor\":1,\"fLineStyle\":1,\"fLineWidth\":1,\"fFillColor\":0,\"fFillStyle\":1001,\"fLeftMargin\":0.1,\"fRightMargin\":0.1,\"fBottomMargin\":0.1,\"fTopMargin\":0.1,\"fXfile\":2,\"fYfile\":2,\"fAfile\":1,\"fXstat\":0.99,\"fYstat\":0.99,\"fAstat\":2,\"fFrameFillColor\":0,\"fFrameLineColor\":1,\"fFrameFillStyle\":1001,\"fFrameLineStyle\":1,\"fFrameLineWidth\":1,\"fFrameBorderSize\":1,\"fFrameBorderMode\":0,\"fX1\":0,\"fY1\":0,\"fX2\":1,\"fY2\":1,\"fXtoAbsPixelk\":14.9600496656179,\"fXtoPixelk\":5e-5,\"fXtoPixel\":718.080000668764,\"fYtoAbsPixelk\":566.280050127852,\"fYtoPixelk\":560.560050255704,\"fYtoPixel\":-560.560000255704,\"fUtoAbsPixelk\":14.9600496656179,\"fUtoPixelk\":5e-5,\"fUtoPixel\":718.080000668764,\"fVtoAbsPixelk\":566.280050127852,\"fVtoPixelk\":560.560000255704,\"fVtoPixel\":-560.560000255704,\"fAbsPixeltoXk\":-0.0208333328482695,\"fPixeltoXk\":0,\"fPixeltoX\":0.00139260249424671,\"fAbsPixeltoYk\":1.01020408139992,\"fPixeltoYk\":0,\"fPixeltoY\":-0.00178393035454517,\"fXlowNDC\":0.00999999977648258,\"fYlowNDC\":0.00999999977648258,\"fXUpNDC\":0,\"fYUpNDC\":0,\"fWNDC\":0.480000000447035,\"fHNDC\":0.980000000447035,\"fAbsXlowNDC\":0.00999999977648258,\"fAbsYlowNDC\":0.00999999977648258,\"fAbsWNDC\":0.480000000447035,\"fAbsHNDC\":0.980000000447035,\"fUxmin\":0,\"fUymin\":0,\"fUxmax\":1,\"fUymax\":1,\"fTheta\":30,\"fPhi\":30,\"fAspectRatio\":0,\"fNumber\":1,\"fTickx\":0,\"fTicky\":0,\"fLogx\":0,\"fLogy\":0,\"fLogz\":0,\"fPadPaint\":0,\"fCrosshair\":0,\"fCrosshairPos\":0,\"fBorderSize\":2,\"fBorderMode\":0,\"fModified\":false,\"fGridx\":false,\"fGridy\":false,\"fAbsCoord\":false,\"fEditable\":true,\"fFixedAspectRatio\":false,\"fPrimitives\":{\"_typename\":\"TList\",\"name\":\"TList\",\"arr\":[{\"_typename\":\"TPad\",\"fUniqueID\":0,\"fBits\":50331657,\"fLineColor\":1,\"fLineStyle\":1,\"fLineWidth\":1,\"fFillColor\":0,\"fFillStyle\":1001,\"fLeftMargin\":0.1,\"fRightMargin\":0.1,\"fBottomMargin\":0.1,\"fTopMargin\":0.1,\"fXfile\":2,\"fYfile\":2,\"fAfile\":1,\"fXstat\":0.99,\"fYstat\":0.99,\"fAstat\":2,\"fFrameFillColor\":0,\"fFrameLineColor\":1,\"fFrameFillStyle\":1001,\"fFrameLineStyle\":1,\"fFrameLineWidth\":1,\"fFrameBorderSize\":1,\"fFrameBorderMode\":0,\"fX1\":0.948102649451167,\"fY1\":-1.08737133155748,\"fX2\":3.22798860960451,\"fY2\":9.7863413358935,\"fXtoAbsPixelk\":-283.657321137507,\"fXtoPixelk\":-298.617320803125,\"fXtoPixel\":314.963122374974,\"fYtoAbsPixelk\":358.872847694403,\"fYtoPixelk\":353.152847822255,\"fYtoPixel\":-36.0862947347842,\"fUtoAbsPixelk\":14.9600496656179,\"fUtoPixelk\":5e-5,\"fUtoPixel\":718.080000668764,\"fVtoAbsPixelk\":398.112050051141,\"fVtoPixelk\":392.392000178993,\"fVtoPixel\":-392.392000178993,\"fAbsPixeltoXk\":0.900605026387195,\"fPixeltoXk\":0.948102649451167,\"fPixeltoX\":0.00317497487470761,\"fAbsPixeltoYk\":9.94485026329065,\"fPixeltoYk\":-1.08737133155748,\"fPixeltoY\":-0.0277113515629545,\"fXlowNDC\":0,\"fYlowNDC\":0.3,\"fXUpNDC\":0,\"fYUpNDC\":0,\"fWNDC\":1,\"fHNDC\":0.7,\"fAbsXlowNDC\":0.00999999977648258,\"fAbsYlowNDC\":0.303999999910593,\"fAbsWNDC\":0.480000000447035,\"fAbsHNDC\":0.686000000312924,\"fUxmin\":1.17609125905568,\"fUymin\":0,\"fUxmax\":3,\"fUymax\":8.69897000433602,\"fTheta\":30,\"fPhi\":30,\"fAspectRatio\":0,\"fNumber\":0,\"fTickx\":0,\"fTicky\":0,\"fLogx\":1,\"fLogy\":1,\"fLogz\":0,\"fPadPaint\":0,\"fCrosshair\":0,\"fCrosshairPos\":0,\"fBorderSize\":2,\"fBorderMode\":0,\"fModified\":false,\"fGridx\":true,\"fGridy\":true,\"fAbsCoord\":false,\"fEditable\":true,\"fFixedAspectRatio\":false,\"fPrimitives\":{\"_typename\":\"TList\",\"name\":\"TList\",\"arr\":[{\"_typename\":\"TFrame\",\"fUniqueID\":0,\"fBits\":50331656,\"fLineColor\":1,\"fLineStyle\":1,\"fLineWidth\":1,\"fFillColor\":0,\"fFillStyle\":1001,\"fX1\":1.17609125905568,\"fY1\":0,\"fX2\":3,\"fY2\":8.69897000433602,\"fBorderSize\":1,\"fBorderMode\":0},{\"_typename\":\"TH1D\",\"fUniqueID\":0,\"fBits\":50332168,\"fName\":\"hMassUnfoldedData\",\"fTitle\":\"hMassUnfoldedData\",\"fLineColor\":632,\"fLineStyle\":1,\"fLineWidth\":1,\"fFillColor\":0,\"fFillStyle\":1001,\"fMarkerColor\":632,\"fMarkerStyle\":20,\"fMarkerSize\":1,\"fNcells\":43,\"fXaxis\":{\"_typename\":\"TAxis\",\"fUniqueID\":0,\"fBits\":50331656,\"fName\":\"xaxis\",\"fTitle\":\"mass\",\"fNdivisions\":520,\"fAxisColor\":1,\"fLabelColor\":1,\"fLabelFont\":42,\"fLabelOffset\":0.005,\"fLabelSize\":0.035,\"fTickLength\":0.03,\"fTitleOffset\":1,\"fTitleSize\":0.035,\"fTitleColor\":1,\"fTitleFont\":42,\"fNbins\":41,\"fXmin\":15,\"fXmax\":1000,\"fXbins\":[15,20,25,30,35,40,45,50,55,60,64,68,72,76,81,86,91,96,101,106,110,115,120,126,133,141,150,160,171,185,200,220,243,273,320,380,440,510,600,700,830,1000],\"fFirst\":0,\"fLast\":0,\"fBits2\":0,\"fTimeDisplay\":false,\"fTimeFormat\":\"\",\"fLabels\":null,\"fModLabs\":null},\"fYaxis\":{\"_typename\":\"TAxis\",\"fUniqueID\":0,\"fBits\":50331656,\"fName\":\"yaxis\",\"fTitle\":\"Events\\/ bin\",\"fNdivisions\":10,\"fAxisColor\":1,\"fLabelColor\":1,\"fLabelFont\":42,\"fLabelOffset\":0.005,\"fLabelSize\":0.035,\"fTickLength\":0.03,\"fTitleOffset\":0,\"fTitleSize\":0.035,\"fTitleColor\":1,\"fTitleFont\":42,\"fNbins\":1,\"fXmin\":0,\"fXmax\":1,\"fXbins\":[],\"fFirst\":0,\"fLast\":0,\"fBits2\":0,\"fTimeDisplay\":false,\"fTimeFormat\":\"\",\"fLabels\":null,\"fModLabs\":null},\"fZaxis\":{\"_typename\":\"TAxis\",\"fUniqueID\":0,\"fBits\":50331648,\"fName\":\"zaxis\",\"fTitle\":\"\",\"fNdivisions\":510,\"fAxisColor\":1,\"fLabelColor\":1,\"fLabelFont\":42,\"fLabelOffset\":0.005,\"fLabelSize\":0.035,\"fTickLength\":0.03,\"fTitleOffset\":1,\"fTitleSize\":0.035,\"fTitleColor\":1,\"fTitleFont\":42,\"fNbins\":1,\"fXmin\":0,\"fXmax\":1,\"fXbins\":[],\"fFirst\":0,\"fLast\":0,\"fBits2\":0,\"fTimeDisplay\":false,\"fTimeFormat\":\"\",\"fLabels\":null,\"fModLabs\":null},\"fBarOffset\":0,\"fBarWidth\":1000,\"fEntries\":84,\"fTsumw\":0,\"fTsumw2\":0,\"fTsumwx\":0,\"fTsumwx2\":0,\"fMaximum\":500000000,\"fMinimum\":1,\"fNormFactor\":0,\"fContour\":[],\"fSumw2\":[0,679619.738554203,499581.239807788,550417.136052133,605514.1371905,956071.993477775,1824421.5336335,2882786.69839338,3406426.31702683,3832063.35093592,4093861.2877248,4845609.07779973,5624450.1264331,6917099.21747766,11881692.3852824,31100020.2446727,153822766.98756,131779914.862873,11725091.2177945,4452539.95367878,2781365.54079229,1998766.85292229,1131086.76156675,794027.976008428,566810.628029814,356424.798763171,300030.999705057,271572.973941817,155301.478628722,135648.281929968,91199.3355635084,103561.33618639,76041.4885980965,68233.9541405598,36406.0262033167,21191.9624383257,8920.08138726911,4700.45877436306,2993.3760386259,1460.61774206147,1202.560921302,19139.1263965971,0],\"fOption\":\"\",\"fFunctions\":{\"_typename\":\"TList\",\"name\":\"TList\",\"arr\":[],\"opt\":[]},\"fBufferSize\":0,\"fBuffer\":[],\"fBinStatErrOpt\":0,\"fStatOverflows\":2,\"fArray\":[0,87512.6699297242,74271.4638135253,54429.0886813213,57074.7212025313,71612.1490746128,124700.955203236,207114.869611992,264655.774677801,278194.11283669,231353.33171671,259799.161462167,301282.168795381,387212.30622685,767488.751658996,1670423.54243821,12278331.4084956,12965141.0028108,1213357.85587671,411931.256695818,176936.858680583,139652.648868417,96824.6226876117,79223.3264258507,65844.9695617463,53466.9423753648,42959.232382863,32678.8088202499,27100.3140269656,24421.1242016262,17884.4851697986,16451.3217242584,12322.2525496926,10100.2494141417,8945.4904924082,5636.97057042743,3206.39938443304,1795.84381448562,1171.73101100456,576.458660363163,385.556652441391,149.309329037493,0]},{\"_typename\":\"TH1D\",\"fUniqueID\":0,\"fBits\":50331656,\"fName\":\"hMassFSRUnfoldedData\",\"fTitle\":\"hMassFSRUnfoldedData\",\"fLineColor\":600,\"fLineStyle\":1,\"fLineWidth\":1,\"fFillColor\":0,\"fFillStyle\":1001,\"fMarkerColor\":600,\"fMarkerStyle\":20,\"fMarkerSize\":1,\"fNcells\":43,\"fXaxis\":{\"_typename\":\"TAxis\",\"fUniqueID\":0,\"fBits\":50331648,\"fName\":\"xaxis\",\"fTitle\":\"mass\",\"fNdivisions\":510,\"fAxisColor\":1,\"fLabelColor\":1,\"fLabelFont\":42,\"fLabelOffset\":0.005,\"fLabelSize\":0.035,\"fTickLength\":0.03,\"fTitleOffset\":1,\"fTitleSize\":0.035,\"fTitleColor\":1,\"fTitleFont\":42,\"fNbins\":41,\"fXmin\":15,\"fXmax\":1000,\"fXbins\":[15,20,25,30,35,40,45,50,55,60,64,68,72,76,81,86,91,96,101,106,110,115,120,126,133,141,150,160,171,185,200,220,243,273,320,380,440,510,600,700,830,1000],\"fFirst\":0,\"fLast\":0,\"fBits2\":0,\"fTimeDisplay\":false,\"fTimeFormat\":\"\",\"fLabels\":null,\"fModLabs\":null},\"fYaxis\":{\"_typename\":\"TAxis\",\"fUniqueID\":0,\"fBits\":50331648,\"fName\":\"yaxis\",\"fTitle\":\"\",\"fNdivisions\":510,\"fAxisColor\":1,\"fLabelColor\":1,\"fLabelFont\":42,\"fLabelOffset\":0.005,\"fLabelSize\":0.035,\"fTickLength\":0.03,\"fTitleOffset\":0,\"fTitleSize\":0.035,\"fTitleColor\":1,\"fTitleFont\":42,\"fNbins\":1,\"fXmin\":0,\"fXmax\":1,\"fXbins\":[],\"fFirst\":0,\"fLast\":0,\"fBits2\":0,\"fTimeDisplay\":false,\"fTimeFormat\":\"\",\"fLabels\":null,\"fModLabs\":null},\"fZaxis\":{\"_typename\":\"TAxis\",\"fUniqueID\":0,\"fBits\":50331648,\"fName\":\"zaxis\",\"fTitle\":\"\",\"fNdivisions\":510,\"fAxisColor\":1,\"fLabelColor\":1,\"fLabelFont\":42,\"fLabelOffset\":0.005,\"fLabelSize\":0.035,\"fTickLength\":0.03,\"fTitleOffset\":1,\"fTitleSize\":0.035,\"fTitleColor\":1,\"fTitleFont\":42,\"fNbins\":1,\"fXmin\":0,\"fXmax\":1,\"fXbins\":[],\"fFirst\":0,\"fLast\":0,\"fBits2\":0,\"fTimeDisplay\":false,\"fTimeFormat\":\"\",\"fLabels\":null,\"fModLabs\":null},\"fBarOffset\":0,\"fBarWidth\":1000,\"fEntries\":84,\"fTsumw\":0,\"fTsumw2\":0,\"fTsumwx\":0,\"fTsumwx2\":0,\"fMaximum\":-1111,\"fMinimum\":-1111,\"fNormFactor\":0,\"fContour\":[],\"fSumw2\":[0,191629936205.031,38933568127.1916,16137243643.7203,6220678399.51424,2270349872.419,561727765.818547,173503884.72672,73124649.1301151,53177797.8325517,45255052.781073,45782175.8427317,46832288.7598402,51547397.9784184,78957588.9311935,187020550.697683,849178799.707746,763621920.786503,63680988.2992548,23307222.1716679,14233565.5870876,9969876.25276088,5604212.69037404,3732243.09633109,2632162.40535221,1601168.28917505,1296145.37000011,1122241.0422251,627342.70084021,526412.45354921,328871.13364689,363882.255331602,269552.476519464,218681.58758298,103376.367585687,54098.7736227623,21856.0391566251,11000.0094683889,6210.48981243051,2784.10508217073,2066.67012010229,32345.1236102492,0],\"fOption\":\"\",\"fFunctions\":{\"_typename\":\"TList\",\"name\":\"TList\",\"arr\":[],\"opt\":[]},\"fBufferSize\":0,\"fBuffer\":[],\"fBinStatErrOpt\":0,\"fStatOverflows\":2,\"fArray\":[0,45425715.6512003,20221712.0329769,8898978.82573599,5448120.83502654,3223676.31891758,1992259.57610606,1437476.42536845,1048367.91023506,811311.92295779,549140.032353109,537121.504324232,540082.611068197,643642.762879746,1262200.72305425,2889168.0007666,27040659.9649899,31053550.3241378,2773850.8534772,914919.495144166,383512.979095289,298489.312715012,206139.124633336,164023.359319692,135486.964401971,108724.19243646,85292.8823008564,63683.9155683564,51986.4956789133,46298.1589636939,32601.1512027506,29818.6111989859,22486.9794078833,17442.4272842453,14778.8792781791,8770.69404303506,4959.0869848911,2688.23819629509,1668.35834429546,782.779978298334,501.072125496897,194.100638548903,0]},{\"_typename\":\"TH1D\",\"fUniqueID\":0,\"fBits\":50331656,\"fName\":\"hMassUnfoldedData_\",\"fTitle\":\"hMassUnfoldedData_\",\"fLineColor\":616,\"fLineStyle\":1,\"fLineWidth\":1,\"fFillColor\":0,\"fFillStyle\":1001,\"fMarkerColor\":616,\"fMarkerStyle\":22,\"fMarkerSize\":0.5,\"fNcells\":43,\"fXaxis\":{\"_typename\":\"TAxis\",\"fUniqueID\":0,\"fBits\":50331648,\"fName\":\"xaxis\",\"fTitle\":\"mass\",\"fNdivisions\":510,\"fAxisColor\":1,\"fLabelColor\":1,\"fLabelFont\":42,\"fLabelOffset\":0.005,\"fLabelSize\":0.035,\"fTickLength\":0.03,\"fTitleOffset\":1,\"fTitleSize\":0.035,\"fTitleColor\":1,\"fTitleFont\":42,\"fNbins\":41,\"fXmin\":15,\"fXmax\":1000,\"fXbins\":[15,20,25,30,35,40,45,50,55,60,64,68,72,76,81,86,91,96,101,106,110,115,120,126,133,141,150,160,171,185,200,220,243,273,320,380,440,510,600,700,830,1000],\"fFirst\":0,\"fLast\":0,\"fBits2\":0,\"fTimeDisplay\":false,\"fTimeFormat\":\"\",\"fLabels\":null,\"fModLabs\":null},\"fYaxis\":{\"_typename\":\"TAxis\",\"fUniqueID\":0,\"fBits\":50331648,\"fName\":\"yaxis\",\"fTitle\":\"\",\"fNdivisions\":510,\"fAxisColor\":1,\"fLabelColor\":1,\"fLabelFont\":42,\"fLabelOffset\":0.005,\"fLabelSize\":0.035,\"fTickLength\":0.03,\"fTitleOffset\":0,\"fTitleSize\":0.035,\"fTitleColor\":1,\"fTitleFont\":42,\"fNbins\":1,\"fXmin\":0,\"fXmax\":1,\"fXbins\":[],\"fFirst\":0,\"fLast\":0,\"fBits2\":0,\"fTimeDisplay\":false,\"fTimeFormat\":\"\",\"fLabels\":null,\"fModLabs\":null},\"fZaxis\":{\"_typename\":\"TAxis\",\"fUniqueID\":0,\"fBits\":50331648,\"fName\":\"zaxis\",\"fTitle\":\"\",\"fNdivisions\":510,\"fAxisColor\":1,\"fLabelColor\":1,\"fLabelFont\":42,\"fLabelOffset\":0.005,\"fLabelSize\":0.035,\"fTickLength\":0.03,\"fTitleOffset\":1,\"fTitleSize\":0.035,\"fTitleColor\":1,\"fTitleFont\":42,\"fNbins\":1,\"fXmin\":0,\"fXmax\":1,\"fXbins\":[],\"fFirst\":0,\"fLast\":0,\"fBits2\":0,\"fTimeDisplay\":false,\"fTimeFormat\":\"\",\"fLabels\":null,\"fModLabs\":null},\"fBarOffset\":0,\"fBarWidth\":1000,\"fEntries\":84,\"fTsumw\":0,\"fTsumw2\":0,\"fTsumwx\":0,\"fTsumwx2\":0,\"fMaximum\":-1111,\"fMinimum\":-1111,\"fNormFactor\":0,\"fContour\":[],\"fSumw2\":[0,178003029530.961,35657898035.5247,15159920303.6509,5858333886.18465,1906904958.85239,464812134.674179,147388841.42154,66909981.916784,46173284.551185,37652469.2133924,36689438.8195356,36590578.1219657,40313771.7798296,63215861.1708507,160262646.078572,884043731.030349,762901378.598668,63501907.3784814,23709080.8198667,14290928.3381315,9902978.64561014,5574707.7460873,3674450.5820826,2583251.5336174,1599892.1502844,1308416.93411984,1106739.36556472,605855.384202858,513255.403967277,321180.353723301,357610.966358608,266526.359234248,215143.802277381,101522.135584252,53174.6895379175,21773.8947650938,10244.2900574904,6212.12352922841,2850.68260863205,2398.31120071681,30460.3010564233,0],\"fOption\":\"\",\"fFunctions\":{\"_typename\":\"TList\",\"name\":\"TList\",\"arr\":[],\"opt\":[]},\"fBufferSize\":0,\"fBuffer\":[],\"fBinStatErrOpt\":0,\"fStatOverflows\":2,\"fArray\":[0,44415695.8144922,19287871.9209004,8664854.23254247,5273479.00759393,2993278.14702045,1822759.83994235,1309980.90240978,1008429.05259105,791614.686039283,538618.865950105,524282.693554618,530431.714693211,629610.828009217,1237171.92739754,2840231.60189678,26957609.6635816,30887273.5666941,2740170.63936327,911043.076187389,381672.881250789,297027.399503609,205535.746583523,163122.336111454,134843.410856367,108336.955942637,84988.4827643215,63562.5729855817,51880.8037517176,46181.2682370034,32603.3194624276,29752.666905092,22435.1094562858,17425.6963896041,14727.1470341497,8779.13546213621,4983.57242452958,2673.0613791223,1670.08286224818,786.887342648752,498.554984645573,198.982359588382,0]},{\"_typename\":\"TH1D\",\"fUniqueID\":0,\"fBits\":50331656,\"fName\":\"hMassUnfoldedMC_closure\",\"fTitle\":\"hMassUnfoldedMC_closure\",\"fLineColor\":616,\"fLineStyle\":1,\"fLineWidth\":1,\"fFillColor\":0,\"fFillStyle\":1001,\"fMarkerColor\":1,\"fMarkerStyle\":25,\"fMarkerSize\":1,\"fNcells\":43,\"fXaxis\":{\"_typename\":\"TAxis\",\"fUniqueID\":0,\"fBits\":50331648,\"fName\":\"xaxis\",\"fTitle\":\"mass\",\"fNdivisions\":510,\"fAxisColor\":1,\"fLabelColor\":1,\"fLabelFont\":42,\"fLabelOffset\":0.005,\"fLabelSize\":0.035,\"fTickLength\":0.03,\"fTitleOffset\":1,\"fTitleSize\":0.035,\"fTitleColor\":1,\"fTitleFont\":42,\"fNbins\":41,\"fXmin\":15,\"fXmax\":1000,\"fXbins\":[15,20,25,30,35,40,45,50,55,60,64,68,72,76,81,86,91,96,101,106,110,115,120,126,133,141,150,160,171,185,200,220,243,273,320,380,440,510,600,700,830,1000],\"fFirst\":0,\"fLast\":0,\"fBits2\":0,\"fTimeDisplay\":false,\"fTimeFormat\":\"\",\"fLabels\":null,\"fModLabs\":null},\"fYaxis\":{\"_typename\":\"TAxis\",\"fUniqueID\":0,\"fBits\":50331648,\"fName\":\"yaxis\",\"fTitle\":\"\",\"fNdivisions\":510,\"fAxisColor\":1,\"fLabelColor\":1,\"fLabelFont\":42,\"fLabelOffset\":0.005,\"fLabelSize\":0.035,\"fTickLength\":0.03,\"fTitleOffset\":0,\"fTitleSize\":0.035,\"fTitleColor\":1,\"fTitleFont\":42,\"fNbins\":1,\"fXmin\":0,\"fXmax\":1,\"fXbins\":[],\"fFirst\":0,\"fLast\":0,\"fBits2\":0,\"fTimeDisplay\":false,\"fTimeFormat\":\"\",\"fLabels\":null,\"fModLabs\":null},\"fZaxis\":{\"_typename\":\"TAxis\",\"fUniqueID\":0,\"fBits\":50331648,\"fName\":\"zaxis\",\"fTitle\":\"\",\"fNdivisions\":510,\"fAxisColor\":1,\"fLabelColor\":1,\"fLabelFont\":42,\"fLabelOffset\":0.005,\"fLabelSize\":0.035,\"fTickLength\":0.03,\"fTitleOffset\":1,\"fTitleSize\":0.035,\"fTitleColor\":1,\"fTitleFont\":42,\"fNbins\":1,\"fXmin\":0,\"fXmax\":1,\"fXbins\":[],\"fFirst\":0,\"fLast\":0,\"fBits2\":0,\"fTimeDisplay\":false,\"fTimeFormat\":\"\",\"fLabels\":null,\"fModLabs\":null},\"fBarOffset\":0,\"fBarWidth\":1000,\"fEntries\":84,\"fTsumw\":0,\"fTsumw2\":0,\"fTsumwx\":0,\"fTsumwx2\":0,\"fMaximum\":-1111,\"fMinimum\":-1111,\"fNormFactor\":0,\"fContour\":[],\"fSumw2\":[0,9106033.68897385,8177499.64667883,6451966.2167196,6889822.03859793,9470878.89349636,15530130.1195259,19808076.7631088,8229575.67188199,8252451.05985106,9886173.61096213,12730922.5265151,16474679.618558,22309092.0143503,42057350.684318,117188042.614275,600940941.923899,525135716.387217,44543640.4500588,16004647.4423667,9413237.48236989,6012965.03750147,3544727.90787491,2313549.54350241,1589445.7706041,1102527.81025318,785928.68081441,587085.314068395,443274.19529328,342732.606149967,244702.575844295,198280.044688275,138273.035689333,103023.580682516,81512.386218331,51239.3918229626,29596.2740157868,17261.7483159544,9966.23060556757,5366.053209287,3291.09628252696,3003.528848819,0],\"fOption\":\"\",\"fFunctions\":{\"_typename\":\"TList\",\"name\":\"TList\",\"arr\":[],\"opt\":[]},\"fBufferSize\":0,\"fBuffer\":[],\"fBinStatErrOpt\":0,\"fStatOverflows\":2,\"fArray\":[0,89573.3289684401,71638.0950782236,57206.2787504517,54932.8905579345,72898.1218352,132796.441776983,209653.564627279,265596.570521666,279414.082261205,232954.761531492,254357.438008259,302939.285944474,388254.649512389,737567.337280634,1668730.36488815,12326507.3509376,13849155.0359413,1209794.69904431,412365.328204392,178155.327477175,141459.040414246,93476.3829871566,79023.2510326254,64740.0267677068,51124.4660879954,41696.3009218356,32869.8912568841,26503.1128720808,23160.0386998744,17715.559802482,16286.9163793795,11480.0317776419,9486.45591246212,8450.86858870706,5431.21691293809,2540.42783878384,1708.85727673081,1111.22697153937,594.969540145793,335.425457885827,197.08223618747,0]},{\"_typename\":\"TH1D\",\"fUniqueID\":0,\"fBits\":50331656,\"fName\":\"hMassData\",\"fTitle\":\"hMassData\",\"fLineColor\":1,\"fLineStyle\":1,\"fLineWidth\":1,\"fFillColor\":0,\"fFillStyle\":1001,\"fMarkerColor\":1,\"fMarkerStyle\":20,\"fMarkerSize\":1,\"fNcells\":43,\"fXaxis\":{\"_typename\":\"TAxis\",\"fUniqueID\":0,\"fBits\":50331648,\"fName\":\"xaxis\",\"fTitle\":\"mass\",\"fNdivisions\":510,\"fAxisColor\":1,\"fLabelColor\":1,\"fLabelFont\":42,\"fLabelOffset\":0.005,\"fLabelSize\":0.035,\"fTickLength\":0.03,\"fTitleOffset\":1,\"fTitleSize\":0.035,\"fTitleColor\":1,\"fTitleFont\":42,\"fNbins\":41,\"fXmin\":15,\"fXmax\":1000,\"fXbins\":[15,20,25,30,35,40,45,50,55,60,64,68,72,76,81,86,91,96,101,106,110,115,120,126,133,141,150,160,171,185,200,220,243,273,320,380,440,510,600,700,830,1000],\"fFirst\":0,\"fLast\":0,\"fBits2\":0,\"fTimeDisplay\":false,\"fTimeFormat\":\"\",\"fLabels\":null,\"fModLabs\":null},\"fYaxis\":{\"_typename\":\"TAxis\",\"fUniqueID\":0,\"fBits\":50331648,\"fName\":\"yaxis\",\"fTitle\":\"\",\"fNdivisions\":510,\"fAxisColor\":1,\"fLabelColor\":1,\"fLabelFont\":42,\"fLabelOffset\":0.005,\"fLabelSize\":0.035,\"fTickLength\":0.03,\"fTitleOffset\":0,\"fTitleSize\":0.035,\"fTitleColor\":1,\"fTitleFont\":42,\"fNbins\":1,\"fXmin\":0,\"fXmax\":1,\"fXbins\":[],\"fFirst\":0,\"fLast\":0,\"fBits2\":0,\"fTimeDisplay\":false,\"fTimeFormat\":\"\",\"fLabels\":null,\"fModLabs\":null},\"fZaxis\":{\"_typename\":\"TAxis\",\"fUniqueID\":0,\"fBits\":50331648,\"fName\":\"zaxis\",\"fTitle\":\"\",\"fNdivisions\":510,\"fAxisColor\":1,\"fLabelColor\":1,\"fLabelFont\":42,\"fLabelOffset\":0.005,\"fLabelSize\":0.035,\"fTickLength\":0.03,\"fTitleOffset\":1,\"fTitleSize\":0.035,\"fTitleColor\":1,\"fTitleFont\":42,\"fNbins\":1,\"fXmin\":0,\"fXmax\":1,\"fXbins\":[],\"fFirst\":0,\"fLast\":0,\"fBits2\":0,\"fTimeDisplay\":false,\"fTimeFormat\":\"\",\"fLabels\":null,\"fModLabs\":null},\"fBarOffset\":0,\"fBarWidth\":1000,\"fEntries\":84,\"fTsumw\":0,\"fTsumw2\":0,\"fTsumwx\":0,\"fTsumwx2\":0,\"fMaximum\":-1111,\"fMinimum\":-1111,\"fNormFactor\":0,\"fContour\":[],\"fSumw2\":[0,53264.1566130034,33042.7197364659,40298.0462603352,36910.1868961018,47209.9421927173,82426.9022856268,127434.650410126,154793.315940875,162105.282782608,128146.273313936,137486.032471576,154857.826763637,196931.914479817,423827.510583934,1385389.14873677,5802147.47988291,3974744.5411117,550808.571170397,181692.852720864,82518.9428343085,78806.2830900405,49826.9281848717,47202.2397761737,41447.082550839,30339.8487920498,29659.2838069243,30098.2917395227,18633.4132103291,19489.5273326779,14012.809465634,18839.3078707648,14726.316045042,15540.5447645443,9184.21379486138,5473.77974124557,1933.79853872561,1151.80534849705,748.998387350231,372.6696730337,222.182615301486,1994.06801235917,0],\"fOption\":\"\",\"fFunctions\":{\"_typename\":\"TList\",\"name\":\"TList\",\"arr\":[],\"opt\":[]},\"fBufferSize\":0,\"fBuffer\":[],\"fBinStatErrOpt\":0,\"fStatOverflows\":2,\"fArray\":[0,26678.768001584,20922.9833396867,17616.1910300523,17020.5735558046,19863.3857407984,36224.2801690929,62061.1138734631,84310.9644258471,92212.0852052083,81917.5696777848,94882.7325885676,118805.61003173,168096.870639942,396311.346991212,1362899.56173546,5767523.49435831,3954576.55178026,533437.520348331,169984.157010137,73700.6613055185,59815.4779997348,40652.1764927281,35022.8958066747,29386.7941365065,24257.125081824,19861.4841997761,15873.8061633183,13054.0976524095,12041.2853489226,9114.34378187773,8466.55627992631,6313.66287002463,5495.07743861326,4881.19455113214,3119.21437916228,1623.31784220324,979.587402639727,641.904548676753,326.543120437166,196.141980769989,60.8223384423862,0]},{\"_typename\":\"TLegend\",\"fUniqueID\":0,\"fBits\":50331656,\"fLineColor\":1,\"fLineStyle\":1,\"fLineWidth\":1,\"fFillColor\":0,\"fFillStyle\":1001,\"fX1\":2.54402282155851,\"fY1\":6.52422753565821,\"fX2\":3.00000001358918,\"fY2\":8.6989700691484,\"fX1NDC\":0.7,\"fY1NDC\":0.7,\"fX2NDC\":0.9,\"fY2NDC\":0.9,\"fBorderSize\":1,\"fInit\":1,\"fShadowColor\":1,\"fCornerRadius\":0,\"fOption\":\"brNDC\",\"fName\":\"TPave\",\"fTextAngle\":0,\"fTextSize\":0,\"fTextAlign\":12,\"fTextColor\":1,\"fTextFont\":42,\"fPrimitives\":{\"_typename\":\"TList\",\"name\":\"TList\",\"arr\":[{\"_typename\":\"TLegendEntry\",\"fUniqueID\":0,\"fBits\":50331656,\"fTextAngle\":0,\"fTextSize\":0,\"fTextAlign\":0,\"fTextColor\":0,\"fTextFont\":42,\"fLineColor\":1,\"fLineStyle\":1,\"fLineWidth\":1,\"fFillColor\":0,\"fFillStyle\":0,\"fMarkerColor\":1,\"fMarkerStyle\":20,\"fMarkerSize\":1,\"fObject\":{\"$ref\":27},\"fLabel\":\"Detector  data\",\"fOption\":\"ple\"},{\"_typename\":\"TLegendEntry\",\"fUniqueID\":0,\"fBits\":50331656,\"fTextAngle\":0,\"fTextSize\":0,\"fTextAlign\":0,\"fTextColor\":0,\"fTextFont\":42,\"fLineColor\":632,\"fLineStyle\":1,\"fLineWidth\":1,\"fFillColor\":0,\"fFillStyle\":0,\"fMarkerColor\":632,\"fMarkerStyle\":20,\"fMarkerSize\":1,\"fObject\":{\"$ref\":7},\"fLabel\":\"Det unfolded data\",\"fOption\":\"ple\"},{\"_typename\":\"TLegendEntry\",\"fUniqueID\":0,\"fBits\":50331656,\"fTextAngle\":0,\"fTextSize\":0,\"fTextAlign\":0,\"fTextColor\":0,\"fTextFont\":42,\"fLineColor\":600,\"fLineStyle\":1,\"fLineWidth\":1,\"fFillColor\":0,\"fFillStyle\":0,\"fMarkerColor\":600,\"fMarkerStyle\":20,\"fMarkerSize\":1,\"fObject\":{\"$ref\":12},\"fLabel\":\"Pre-FSR unfolded data\",\"fOption\":\"ple\"}],\"opt\":[\"ple\",\"ple\",\"ple\"]},\"fEntrySeparation\":0.1,\"fMargin\":0.25,\"fNColumns\":1,\"fColumnSeparation\":0},{\"_typename\":\"TPaveText\",\"fUniqueID\":0,\"fBits\":50331657,\"fLineColor\":1,\"fLineStyle\":1,\"fLineWidth\":1,\"fFillColor\":0,\"fFillStyle\":0,\"fX1\":1.76044918195438,\"fY1\":9.13391861878464,\"fX2\":2.4156420771013,\"fY2\":9.73197282440615,\"fX1NDC\":0.356310160552316,\"fY1NDC\":0.940000003948808,\"fX2NDC\":0.643689839447684,\"fY2NDC\":0.995000004768372,\"fBorderSize\":0,\"fInit\":1,\"fShadowColor\":1,\"fCornerRadius\":0,\"fOption\":\"blNDC\",\"fName\":\"title\",\"fTextAngle\":0,\"fTextSize\":0,\"fTextAlign\":22,\"fTextColor\":1,\"fTextFont\":42,\"fLabel\":\"\",\"fLongest\":17,\"fMargin\":0.05,\"fLines\":{\"_typename\":\"TList\",\"name\":\"TList\",\"arr\":[{\"_typename\":\"TLatex\",\"fUniqueID\":0,\"fBits\":50331648,\"fName\":\"\",\"fTitle\":\"hMassUnfoldedData\",\"fTextAngle\":0,\"fTextSize\":0,\"fTextAlign\":0,\"fTextColor\":0,\"fTextFont\":0,\"fX\":0,\"fY\":0,\"fLineColor\":1,\"fLineStyle\":1,\"fLineWidth\":2,\"fLimitFactorSize\":3,\"fOriginSize\":0.0467500016093254}],\"opt\":[\"\"]}}],\"opt\":[\"\",\"hist pe\",\"pe same\",\"pe same\",\"pe same\",\"pe same\",\"\",\"blNDC\"]},\"fExecs\":{\"_typename\":\"TList\",\"name\":\"TList\",\"arr\":[],\"opt\":[]},\"fName\":\"pad_mass\",\"fTitle\":\"pad_mass\",\"fNumPaletteColor\":0,\"fNextPaletteColor\":0},{\"_typename\":\"TPad\",\"fUniqueID\":0,\"fBits\":50331657,\"fLineColor\":1,\"fLineStyle\":1,\"fLineWidth\":1,\"fFillColor\":0,\"fFillStyle\":1001,\"fLeftMargin\":0.1,\"fRightMargin\":0.1,\"fBottomMargin\":0.1,\"fTopMargin\":0.1,\"fXfile\":2,\"fYfile\":2,\"fAfile\":1,\"fXstat\":0.99,\"fYstat\":0.99,\"fAstat\":2,\"fFrameFillColor\":0,\"fFrameLineColor\":1,\"fFrameFillStyle\":1001,\"fFrameLineStyle\":1,\"fFrameLineWidth\":1,\"fFrameBorderSize\":1,\"fFrameBorderMode\":0,\"fX1\":0.948102649451167,\"fY1\":0.624999994412064,\"fX2\":3.22798860960451,\"fY2\":1.37500000558794,\"fXtoAbsPixelk\":-283.657321137507,\"fXtoPixelk\":-298.617320803125,\"fXtoPixel\":314.963122374974,\"fYtoAbsPixelk\":706.42004685058,\"fYtoPixelk\":308.308046799439,\"fYtoPixel\":-224.223996761083,\"fUtoAbsPixelk\":14.9600496656179,\"fUtoPixelk\":5e-5,\"fUtoPixel\":718.080000668764,\"fVtoAbsPixelk\":566.280050127852,\"fVtoPixelk\":168.168000076711,\"fVtoPixel\":-168.168000076711,\"fAbsPixeltoXk\":0.900605026387195,\"fPixeltoXk\":0.948102649451167,\"fPixeltoX\":0.00317497487470761,\"fAbsPixeltoYk\":3.1505102355449,\"fPixeltoYk\":0.624999994412064,\"fPixeltoY\":-0.00445982595281952,\"fXlowNDC\":0,\"fYlowNDC\":0,\"fXUpNDC\":0,\"fYUpNDC\":0,\"fWNDC\":1,\"fHNDC\":0.3,\"fAbsXlowNDC\":0.00999999977648258,\"fAbsYlowNDC\":0.00999999977648258,\"fAbsWNDC\":0.480000000447035,\"fAbsHNDC\":0.29400000013411,\"fUxmin\":1.17609125905568,\"fUymin\":0.7,\"fUxmax\":3,\"fUymax\":1.3,\"fTheta\":30,\"fPhi\":30,\"fAspectRatio\":0,\"fNumber\":0,\"fTickx\":0,\"fTicky\":0,\"fLogx\":1,\"fLogy\":0,\"fLogz\":0,\"fPadPaint\":0,\"fCrosshair\":0,\"fCrosshairPos\":0,\"fBorderSize\":2,\"fBorderMode\":0,\"fModified\":false,\"fGridx\":true,\"fGridy\":true,\"fAbsCoord\":false,\"fEditable\":true,\"fFixedAspectRatio\":false,\"fPrimitives\":{\"_typename\":\"TList\",\"name\":\"TList\",\"arr\":[{\"_typename\":\"TFrame\",\"fUniqueID\":0,\"fBits\":50331656,\"fLineColor\":1,\"fLineStyle\":1,\"fLineWidth\":1,\"fFillColor\":0,\"fFillStyle\":1001,\"fX1\":1.17609125905568,\"fY1\":0.7,\"fX2\":3,\"fY2\":1.3,\"fBorderSize\":1,\"fBorderMode\":0},{\"_typename\":\"TH1D\",\"fUniqueID\":0,\"fBits\":50332168,\"fName\":\"ratioMass_detector\",\"fTitle\":\"hMassData\",\"fLineColor\":1,\"fLineStyle\":1,\"fLineWidth\":1,\"fFillColor\":0,\"fFillStyle\":1001,\"fMarkerColor\":1,\"fMarkerStyle\":20,\"fMarkerSize\":1,\"fNcells\":43,\"fXaxis\":{\"_typename\":\"TAxis\",\"fUniqueID\":0,\"fBits\":50331648,\"fName\":\"xaxis\",\"fTitle\":\"mass\",\"fNdivisions\":510,\"fAxisColor\":1,\"fLabelColor\":1,\"fLabelFont\":42,\"fLabelOffset\":0.005,\"fLabelSize\":0.035,\"fTickLength\":0.03,\"fTitleOffset\":1,\"fTitleSize\":0.035,\"fTitleColor\":1,\"fTitleFont\":42,\"fNbins\":41,\"fXmin\":15,\"fXmax\":1000,\"fXbins\":[15,20,25,30,35,40,45,50,55,60,64,68,72,76,81,86,91,96,101,106,110,115,120,126,133,141,150,160,171,185,200,220,243,273,320,380,440,510,600,700,830,1000],\"fFirst\":0,\"fLast\":0,\"fBits2\":0,\"fTimeDisplay\":false,\"fTimeFormat\":\"\",\"fLabels\":null,\"fModLabs\":null},\"fYaxis\":{\"_typename\":\"TAxis\",\"fUniqueID\":0,\"fBits\":50331656,\"fName\":\"yaxis\",\"fTitle\":\"Data\\/ MC\",\"fNdivisions\":510,\"fAxisColor\":1,\"fLabelColor\":1,\"fLabelFont\":42,\"fLabelOffset\":0.005,\"fLabelSize\":0.035,\"fTickLength\":0.03,\"fTitleOffset\":0,\"fTitleSize\":0.035,\"fTitleColor\":1,\"fTitleFont\":42,\"fNbins\":1,\"fXmin\":0,\"fXmax\":1,\"fXbins\":[],\"fFirst\":0,\"fLast\":0,\"fBits2\":0,\"fTimeDisplay\":false,\"fTimeFormat\":\"\",\"fLabels\":null,\"fModLabs\":null},\"fZaxis\":{\"_typename\":\"TAxis\",\"fUniqueID\":0,\"fBits\":50331648,\"fName\":\"zaxis\",\"fTitle\":\"\",\"fNdivisions\":510,\"fAxisColor\":1,\"fLabelColor\":1,\"fLabelFont\":42,\"fLabelOffset\":0.005,\"fLabelSize\":0.035,\"fTickLength\":0.03,\"fTitleOffset\":1,\"fTitleSize\":0.035,\"fTitleColor\":1,\"fTitleFont\":42,\"fNbins\":1,\"fXmin\":0,\"fXmax\":1,\"fXbins\":[],\"fFirst\":0,\"fLast\":0,\"fBits2\":0,\"fTimeDisplay\":false,\"fTimeFormat\":\"\",\"fLabels\":null,\"fModLabs\":null},\"fBarOffset\":0,\"fBarWidth\":1000,\"fEntries\":3567.42182498041,\"fTsumw\":41.5444084891549,\"fTsumw2\":0.48380538141806,\"fTsumwx\":7985.4415342911,\"fTsumwx2\":3231331.58567898,\"fMaximum\":1.3,\"fMinimum\":0.7,\"fNormFactor\":0,\"fContour\":[],\"fSumw2\":[0,9.99484965566009e-4,0.00147513545058793,0.00143130414914716,0.00176086894557174,0.00120014037516976,4.95781678390371e-4,2.57052867245102e-4,7.31575450476884e-5,5.8512942693985e-5,6.44566339328036e-5,5.62122558257811e-5,4.20587046590558e-5,2.98708755870038e-5,1.2705924402517e-5,3.41421539161468e-6,7.70240670734401e-7,1.06009820466492e-6,8.70154860701807e-6,2.88794134183989e-5,6.63835303781918e-5,8.66932376872505e-5,1.35561880239677e-4,1.55998011805703e-4,1.94900538347828e-4,2.45171870916496e-4,2.99589031242891e-4,3.75975525897556e-4,4.62268804700202e-4,5.52991396668495e-4,6.5313134273431e-4,8.06845453208062e-4,0.0013038340978891,0.00157838781677279,0.0015129041674853,0.00223445174624274,0.00694696638073433,0.00686896953754643,0.00932617665465004,0.0153909252912152,0.0379615327610472,0.388646153510531,0],\"fOption\":\"\",\"fFunctions\":{\"_typename\":\"TList\",\"name\":\"TList\",\"arr\":[],\"opt\":[]},\"fBufferSize\":0,\"fBuffer\":[],\"fBinStatErrOpt\":0,\"fStatOverflows\":2,\"fArray\":[0,0.98101017353942,1.03032829787413,0.963455072753176,1.02849249080465,0.97771443114522,0.950157619667291,0.988032361078653,0.995722930656236,0.995199595376976,0.999617936275739,1.0087786680297,0.997329934716607,1.00838922538956,1.01451994805804,0.990474677156363,0.972825776092024,0.950528366934184,0.981046308629402,0.997818383457363,0.993538959118339,0.998267582423093,1.02134808790015,1.00973433164519,1.021196636202,1.0399028409475,1.0253271721523,1.00213785109037,1.02505234454596,1.04628876844849,1.01231431298423,1.01581555232049,1.06966499444558,1.06442053218054,1.05792121001555,1.04483364799223,1.24315309024244,1.05799189231754,1.04910324732555,0.982659720764859,1.12345177355737,0.808841742900329,0]},{\"_typename\":\"TH1D\",\"fUniqueID\":0,\"fBits\":50332168,\"fName\":\"ratioMass_dressed\",\"fTitle\":\"hMassUnfoldedData\",\"fLineColor\":632,\"fLineStyle\":1,\"fLineWidth\":1,\"fFillColor\":0,\"fFillStyle\":1001,\"fMarkerColor\":632,\"fMarkerStyle\":20,\"fMarkerSize\":1,\"fNcells\":43,\"fXaxis\":{\"_typename\":\"TAxis\",\"fUniqueID\":0,\"fBits\":50331656,\"fName\":\"xaxis\",\"fTitle\":\"mass\",\"fNdivisions\":520,\"fAxisColor\":1,\"fLabelColor\":1,\"fLabelFont\":42,\"fLabelOffset\":0.005,\"fLabelSize\":0.035,\"fTickLength\":0.03,\"fTitleOffset\":1,\"fTitleSize\":0.035,\"fTitleColor\":1,\"fTitleFont\":42,\"fNbins\":41,\"fXmin\":15,\"fXmax\":1000,\"fXbins\":[15,20,25,30,35,40,45,50,55,60,64,68,72,76,81,86,91,96,101,106,110,115,120,126,133,141,150,160,171,185,200,220,243,273,320,380,440,510,600,700,830,1000],\"fFirst\":0,\"fLast\":0,\"fBits2\":0,\"fTimeDisplay\":false,\"fTimeFormat\":\"\",\"fLabels\":null,\"fModLabs\":null},\"fYaxis\":{\"_typename\":\"TAxis\",\"fUniqueID\":0,\"fBits\":50331656,\"fName\":\"yaxis\",\"fTitle\":\"Events\\/ bin\",\"fNdivisions\":10,\"fAxisColor\":1,\"fLabelColor\":1,\"fLabelFont\":42,\"fLabelOffset\":0.005,\"fLabelSize\":0.035,\"fTickLength\":0.03,\"fTitleOffset\":0,\"fTitleSize\":0.035,\"fTitleColor\":1,\"fTitleFont\":42,\"fNbins\":1,\"fXmin\":0,\"fXmax\":1,\"fXbins\":[],\"fFirst\":0,\"fLast\":0,\"fBits2\":0,\"fTimeDisplay\":false,\"fTimeFormat\":\"\",\"fLabels\":null,\"fModLabs\":null},\"fZaxis\":{\"_typename\":\"TAxis\",\"fUniqueID\":0,\"fBits\":50331648,\"fName\":\"zaxis\",\"fTitle\":\"\",\"fNdivisions\":510,\"fAxisColor\":1,\"fLabelColor\":1,\"fLabelFont\":42,\"fLabelOffset\":0.005,\"fLabelSize\":0.035,\"fTickLength\":0.03,\"fTitleOffset\":1,\"fTitleSize\":0.035,\"fTitleColor\":1,\"fTitleFont\":42,\"fNbins\":1,\"fXmin\":0,\"fXmax\":1,\"fXbins\":[],\"fFirst\":0,\"fLast\":0,\"fBits2\":0,\"fTimeDisplay\":false,\"fTimeFormat\":\"\",\"fLabels\":null,\"fModLabs\":null},\"fBarOffset\":0,\"fBarWidth\":1000,\"fEntries\":2646.00201263028,\"fTsumw\":42.365887594207,\"fTsumw2\":0.678332224645883,\"fTsumwx\":8096.19730223042,\"fTsumwx2\":3291357.39127357,\"fMaximum\":500000000,\"fMinimum\":1,\"fNormFactor\":0,\"fContour\":[],\"fSumw2\":[0,9.43045997765413e-5,1.08848496750939e-4,1.78911955571934e-4,2.15411571176822e-4,2.08095840952096e-4,1.23372384014384e-4,7.79640170121934e-5,5.17429120553764e-5,5.11540621334578e-5,7.80688372480217e-5,7.70731403333105e-5,6.31304672755932e-5,4.75980613694417e-5,2.22790927519279e-5,1.15275390052114e-5,1.025260650224e-6,6.96049034838272e-7,8.22900445559775e-6,2.65659089631963e-5,8.8741258505973e-5,1.01200548774678e-4,1.30770512467572e-4,1.29022348653048e-4,1.36770117982156e-4,1.37408471318938e-4,1.74164226499017e-4,2.52790778451586e-4,2.23261708433159e-4,2.54636029160834e-4,2.92995121732552e-4,3.94054224061832e-4,5.84469363403231e-4,7.60074368816682e-4,5.18345073468858e-4,7.26219942141182e-4,0.00136840733350195,0.00163302947775001,0.00247505954833272,0.00413856871425098,0.0102436382934021,0.652122597984243,0],\"fOption\":\"\",\"fFunctions\":{\"_typename\":\"TList\",\"name\":\"TList\",\"arr\":[],\"opt\":[]},\"fBufferSize\":0,\"fBuffer\":[],\"fBinStatErrOpt\":0,\"fStatOverflows\":2,\"fArray\":[0,1.03087113713954,1.09630183382674,0.981306715963115,1.07650529249069,1.05650877628999,1.02545395371942,1.07709033483426,1.03147167951751,1.01641638738882,1.01029464719954,1.03613199633121,1.00937581774133,1.01573818925056,1.05094894302624,1.01698504486367,1.002411837121,0.942263895759119,1.01649311179122,1.00619736165381,0.999429281737096,0.993709729571404,1.0411007669955,1.00987505114392,1.02282001888707,1.04980381393996,1.03502997101802,0.997019281252928,1.02752796371564,1.05807981691918,1.01370316049995,1.01479885047318,1.08030323405534,1.06600654819011,1.06739953039653,1.04350435274838,1.25585906428938,1.05851118450952,1.06546726527463,0.970342307910036,1.12528304425574,0.871546400515723,0]},{\"_typename\":\"TH1D\",\"fUniqueID\":0,\"fBits\":50331656,\"fName\":\"ratioMass_preFSR\",\"fTitle\":\"hMassUnfoldedData_\",\"fLineColor\":616,\"fLineStyle\":1,\"fLineWidth\":1,\"fFillColor\":0,\"fFillStyle\":1001,\"fMarkerColor\":616,\"fMarkerStyle\":22,\"fMarkerSize\":0.5,\"fNcells\":43,\"fXaxis\":{\"_typename\":\"TAxis\",\"fUniqueID\":0,\"fBits\":50331648,\"fName\":\"xaxis\",\"fTitle\":\"mass\",\"fNdivisions\":510,\"fAxisColor\":1,\"fLabelColor\":1,\"fLabelFont\":42,\"fLabelOffset\":0.005,\"fLabelSize\":0.035,\"fTickLength\":0.03,\"fTitleOffset\":1,\"fTitleSize\":0.035,\"fTitleColor\":1,\"fTitleFont\":42,\"fNbins\":41,\"fXmin\":15,\"fXmax\":1000,\"fXbins\":[15,20,25,30,35,40,45,50,55,60,64,68,72,76,81,86,91,96,101,106,110,115,120,126,133,141,150,160,171,185,200,220,243,273,320,380,440,510,600,700,830,1000],\"fFirst\":0,\"fLast\":0,\"fBits2\":0,\"fTimeDisplay\":false,\"fTimeFormat\":\"\",\"fLabels\":null,\"fModLabs\":null},\"fYaxis\":{\"_typename\":\"TAxis\",\"fUniqueID\":0,\"fBits\":50331648,\"fName\":\"yaxis\",\"fTitle\":\"\",\"fNdivisions\":510,\"fAxisColor\":1,\"fLabelColor\":1,\"fLabelFont\":42,\"fLabelOffset\":0.005,\"fLabelSize\":0.035,\"fTickLength\":0.03,\"fTitleOffset\":0,\"fTitleSize\":0.035,\"fTitleColor\":1,\"fTitleFont\":42,\"fNbins\":1,\"fXmin\":0,\"fXmax\":1,\"fXbins\":[],\"fFirst\":0,\"fLast\":0,\"fBits2\":0,\"fTimeDisplay\":false,\"fTimeFormat\":\"\",\"fLabels\":null,\"fModLabs\":null},\"fZaxis\":{\"_typename\":\"TAxis\",\"fUniqueID\":0,\"fBits\":50331648,\"fName\":\"zaxis\",\"fTitle\":\"\",\"fNdivisions\":510,\"fAxisColor\":1,\"fLabelColor\":1,\"fLabelFont\":42,\"fLabelOffset\":0.005,\"fLabelSize\":0.035,\"fTickLength\":0.03,\"fTitleOffset\":1,\"fTitleSize\":0.035,\"fTitleColor\":1,\"fTitleFont\":42,\"fNbins\":1,\"fXmin\":0,\"fXmax\":1,\"fXbins\":[],\"fFirst\":0,\"fLast\":0,\"fBits2\":0,\"fTimeDisplay\":false,\"fTimeFormat\":\"\",\"fLabels\":null,\"fModLabs\":null},\"fBarOffset\":0,\"fBarWidth\":1000,\"fEntries\":2572.68224615221,\"fTsumw\":41.9707888178093,\"fTsumw2\":0.684712275145434,\"fTsumwx\":8120.36533522723,\"fTsumwx2\":3331568.16688062,\"fMaximum\":-1111,\"fMinimum\":-1111,\"fNormFactor\":0,\"fContour\":[],\"fSumw2\":[0,9.19233029197946e-5,1.05765402414869e-4,1.84016032322027e-4,2.31678921013627e-4,2.0833281370653e-4,1.24172975409917e-4,8.46299109268729e-5,6.58717226205176e-5,7.39101568887461e-5,1.30259942969393e-4,1.44379917751699e-4,1.32304062031478e-4,1.0457470180561e-4,4.77170908908363e-5,2.0548341096762e-5,1.22512413406193e-6,7.01955875060039e-7,8.53200031347963e-6,2.8686253983065e-5,9.7051626024621e-5,1.09422845160653e-4,1.42556491381347e-4,1.39106574445485e-4,1.47040132218469e-4,1.4944120478235e-4,1.93159249705894e-4,2.71017462879758e-4,2.3666856582118e-4,2.69727254136273e-4,3.10640031743137e-4,4.13420125961944e-4,6.15332795889967e-4,8.04036833920253e-4,5.30390919956511e-4,7.47698351044049e-4,0.00139656830171704,0.00160964768764355,0.00253978959287891,0.00431961184969772,0.0121349364597513,0.6557457801596,0],\"fOption\":\"\",\"fFunctions\":{\"_typename\":\"TList\",\"name\":\"TList\",\"arr\":[],\"opt\":[]},\"fBufferSize\":0,\"fBuffer\":[],\"fBinStatErrOpt\":0,\"fStatOverflows\":2,\"fArray\":[0,1.00933558176214,1.05045694611869,0.954642210285347,1.04870520253251,0.989376044469803,0.942115754905924,0.992646472753465,1.00057443722456,1.00154512196035,1.00182132506276,1.04003602437338,1.00862896622056,1.01404864570293,1.07486521144847,1.01701178129218,1.00353969068684,0.936915192753338,1.00440682444192,1.00211710007914,0.994632144642493,0.98734195799099,1.0393691246885,1.00367025855608,1.01733579111329,1.04704767043601,1.03263003537169,0.99466635454011,1.02539807852603,1.05867219202145,1.01394884383054,1.01161740662413,1.07798604959929,1.0652798087598,1.06447702082414,1.04102816669512,1.26212917114739,1.05957917213532,1.06786621736327,0.968635738090849,1.12144776110481,0.923241319673723,0]},{\"_typename\":\"TH1D\",\"fUniqueID\":0,\"fBits\":50331656,\"fName\":\"ratioMassMC_preFSR\",\"fTitle\":\"hMassUnfoldedMC_closure\",\"fLineColor\":616,\"fLineStyle\":1,\"fLineWidth\":1,\"fFillColor\":0,\"fFillStyle\":1001,\"fMarkerColor\":1,\"fMarkerStyle\":25,\"fMarkerSize\":1,\"fNcells\":43,\"fXaxis\":{\"_typename\":\"TAxis\",\"fUniqueID\":0,\"fBits\":50331648,\"fName\":\"xaxis\",\"fTitle\":\"mass\",\"fNdivisions\":510,\"fAxisColor\":1,\"fLabelColor\":1,\"fLabelFont\":42,\"fLabelOffset\":0.005,\"fLabelSize\":0.035,\"fTickLength\":0.03,\"fTitleOffset\":1,\"fTitleSize\":0.035,\"fTitleColor\":1,\"fTitleFont\":42,\"fNbins\":41,\"fXmin\":15,\"fXmax\":1000,\"fXbins\":[15,20,25,30,35,40,45,50,55,60,64,68,72,76,81,86,91,96,101,106,110,115,120,126,133,141,150,160,171,185,200,220,243,273,320,380,440,510,600,700,830,1000],\"fFirst\":0,\"fLast\":0,\"fBits2\":0,\"fTimeDisplay\":false,\"fTimeFormat\":\"\",\"fLabels\":null,\"fModLabs\":null},\"fYaxis\":{\"_typename\":\"TAxis\",\"fUniqueID\":0,\"fBits\":50331648,\"fName\":\"yaxis\",\"fTitle\":\"\",\"fNdivisions\":510,\"fAxisColor\":1,\"fLabelColor\":1,\"fLabelFont\":42,\"fLabelOffset\":0.005,\"fLabelSize\":0.035,\"fTickLength\":0.03,\"fTitleOffset\":0,\"fTitleSize\":0.035,\"fTitleColor\":1,\"fTitleFont\":42,\"fNbins\":1,\"fXmin\":0,\"fXmax\":1,\"fXbins\":[],\"fFirst\":0,\"fLast\":0,\"fBits2\":0,\"fTimeDisplay\":false,\"fTimeFormat\":\"\",\"fLabels\":null,\"fModLabs\":null},\"fZaxis\":{\"_typename\":\"TAxis\",\"fUniqueID\":0,\"fBits\":50331648,\"fName\":\"zaxis\",\"fTitle\":\"\",\"fNdivisions\":510,\"fAxisColor\":1,\"fLabelColor\":1,\"fLabelFont\":42,\"fLabelOffset\":0.005,\"fLabelSize\":0.035,\"fTickLength\":0.03,\"fTitleOffset\":1,\"fTitleSize\":0.035,\"fTitleColor\":1,\"fTitleFont\":42,\"fNbins\":1,\"fXmin\":0,\"fXmax\":1,\"fXbins\":[],\"fFirst\":0,\"fLast\":0,\"fBits2\":0,\"fTimeDisplay\":false,\"fTimeFormat\":\"\",\"fLabels\":null,\"fModLabs\":null},\"fBarOffset\":0,\"fBarWidth\":1000,\"fEntries\":9314.61366075242,\"fTsumw\":41.8429390986442,\"fTsumw2\":0.187966094588556,\"fTsumwx\":8008.04978379737,\"fTsumwx2\":3357251.10827903,\"fMaximum\":-1111,\"fMinimum\":-1111,\"fNormFactor\":0,\"fContour\":[],\"fSumw2\":[0,0.00126356080301204,0.00178170930530696,0.0020971983201628,0.00245105324435414,0.00206140387056887,0.00105018995970939,5.35702913642039e-4,1.25005554388423e-4,1.1016164285641e-4,1.88526680411496e-4,2.02495117271026e-4,1.84916605029057e-4,1.53513705298965e-4,7.8860787370402e-5,4.3436940604945e-5,4.00539603420959e-6,2.77371713990542e-6,3.12620012009619e-5,9.54911154903114e-5,3.00335403077996e-4,3.04445393752864e-4,4.09823455478177e-4,3.75930829702528e-4,3.83529656681608e-4,4.25045231193828e-4,4.56221726794879e-4,5.46482042769982e-4,6.37251847306034e-4,6.43370256167548e-4,7.86153326170243e-4,7.54461964607715e-4,0.00106279288629286,0.00114760435690406,0.00116056456112514,0.00175590478103741,0.00454029023382432,0.00599706224234991,0.00824053306463931,0.0152043750335511,0.0280341721652373,0.102338476450039,0],\"fOption\":\"\",\"fFunctions\":{\"_typename\":\"TList\",\"name\":\"TList\",\"arr\":[],\"opt\":[]},\"fBufferSize\":0,\"fBuffer\":[],\"fBinStatErrOpt\":0,\"fStatOverflows\":2,\"fArray\":[0,1.05514503860094,1.05743136022329,1.03137691431422,1.03610751259886,1.07548099713781,1.09202560668552,1.09029268901183,1.0351383452849,1.02087369564221,1.0172879157111,1.01442929431305,1.01492760324575,1.01847247187641,1.00997651346709,1.01595420675407,1.0063449558292,1.00651113430305,1.01350806961358,1.00725763955115,1.00631181262002,1.0065632548647,1.00509902669979,1.00732465144372,1.00565610162823,1.00381015072878,1.00460177570356,1.00284914104619,1.00488465094824,1.00344150028001,1.00412837111621,1.0046575160691,1.00646496299526,1.00122518832479,1.00837993966727,1.00541566051529,0.995016199166936,1.00723934094912,1.01045030928251,1.00150133291004,0.978970478088218,1.15040576943218,0]},{\"_typename\":\"TH1D\",\"fUniqueID\":0,\"fBits\":50331656,\"fName\":\"ratioMass_preFSR_twoStep\",\"fTitle\":\"hMassFSRUnfoldedData\",\"fLineColor\":600,\"fLineStyle\":1,\"fLineWidth\":1,\"fFillColor\":0,\"fFillStyle\":1001,\"fMarkerColor\":600,\"fMarkerStyle\":20,\"fMarkerSize\":1,\"fNcells\":43,\"fXaxis\":{\"_typename\":\"TAxis\",\"fUniqueID\":0,\"fBits\":50331648,\"fName\":\"xaxis\",\"fTitle\":\"mass\",\"fNdivisions\":510,\"fAxisColor\":1,\"fLabelColor\":1,\"fLabelFont\":42,\"fLabelOffset\":0.005,\"fLabelSize\":0.035,\"fTickLength\":0.03,\"fTitleOffset\":1,\"fTitleSize\":0.035,\"fTitleColor\":1,\"fTitleFont\":42,\"fNbins\":41,\"fXmin\":15,\"fXmax\":1000,\"fXbins\":[15,20,25,30,35,40,45,50,55,60,64,68,72,76,81,86,91,96,101,106,110,115,120,126,133,141,150,160,171,185,200,220,243,273,320,380,440,510,600,700,830,1000],\"fFirst\":0,\"fLast\":0,\"fBits2\":0,\"fTimeDisplay\":false,\"fTimeFormat\":\"\",\"fLabels\":null,\"fModLabs\":null},\"fYaxis\":{\"_typename\":\"TAxis\",\"fUniqueID\":0,\"fBits\":50331648,\"fName\":\"yaxis\",\"fTitle\":\"\",\"fNdivisions\":510,\"fAxisColor\":1,\"fLabelColor\":1,\"fLabelFont\":42,\"fLabelOffset\":0.005,\"fLabelSize\":0.035,\"fTickLength\":0.03,\"fTitleOffset\":0,\"fTitleSize\":0.035,\"fTitleColor\":1,\"fTitleFont\":42,\"fNbins\":1,\"fXmin\":0,\"fXmax\":1,\"fXbins\":[],\"fFirst\":0,\"fLast\":0,\"fBits2\":0,\"fTimeDisplay\":false,\"fTimeFormat\":\"\",\"fLabels\":null,\"fModLabs\":null},\"fZaxis\":{\"_typename\":\"TAxis\",\"fUniqueID\":0,\"fBits\":50331648,\"fName\":\"zaxis\",\"fTitle\":\"\",\"fNdivisions\":510,\"fAxisColor\":1,\"fLabelColor\":1,\"fLabelFont\":42,\"fLabelOffset\":0.005,\"fLabelSize\":0.035,\"fTickLength\":0.03,\"fTitleOffset\":1,\"fTitleSize\":0.035,\"fTitleColor\":1,\"fTitleFont\":42,\"fNbins\":1,\"fXmin\":0,\"fXmax\":1,\"fXbins\":[],\"fFirst\":0,\"fLast\":0,\"fBits2\":0,\"fTimeDisplay\":false,\"fTimeFormat\":\"\",\"fLabels\":null,\"fModLabs\":null},\"fBarOffset\":0,\"fBarWidth\":1000,\"fEntries\":2506.85919189693,\"fTsumw\":42.6023576226219,\"fTsumw2\":0.723997933698221,\"fTsumwx\":8136.83670254371,\"fTsumwx2\":3316576.4163787,\"fMaximum\":-1111,\"fMinimum\":-1111,\"fNormFactor\":0,\"fContour\":[],\"fSumw2\":[0,9.89604442850466e-5,1.15481449177801e-4,1.95879100183404e-4,2.46008521803604e-4,2.48039827482522e-4,1.50063655504493e-4,9.9625033810346e-5,7.19899552537929e-5,8.51223693312242e-5,1.565613283137e-4,1.80161566798021e-4,1.69335997275172e-4,1.33714944904883e-4,5.95993849924466e-5,2.39791502379058e-5,1.17680766815411e-6,7.02618855673804e-7,8.55606129897605e-6,2.82000344060513e-5,9.66620678286641e-5,1.10162029477903e-4,1.43310992160131e-4,1.41294471249676e-4,1.49824166584931e-4,1.49560405150484e-4,1.91347620662986e-4,2.74813501233137e-4,2.45062272544771e-4,2.76641579497172e-4,3.18078419838478e-4,4.2067011916981e-4,6.22319231359814e-4,8.1725826844959e-4,5.40078145421126e-4,7.6069205448583e-4,0.00140183700787247,0.00172839110426231,0.00253912165752613,0.00421872756627907,0.0104569042512966,0.696322018514286,0],\"fOption\":\"\",\"fFunctions\":{\"_typename\":\"TList\",\"name\":\"TList\",\"arr\":[],\"opt\":[]},\"fBufferSize\":0,\"fBuffer\":[],\"fBinStatErrOpt\":0,\"fStatOverflows\":2,\"fArray\":[0,1.03228809482712,1.10131595394323,0.980436668348933,1.08343517732613,1.06553015403411,1.02972377017648,1.08925702709358,1.04020221263211,1.02646592231906,1.02139050381492,1.06550477601191,1.02698038331002,1.03664842308767,1.09661043629556,1.03453461082207,1.00663136961846,0.941958927674628,1.01675227345132,1.00638103207656,0.999427404026506,0.992201470126826,1.04242033366754,1.009214135734,1.02219112702688,1.05079020746078,1.03632856126549,0.996565198132964,1.02748702648413,1.0613518274359,1.01388141191168,1.01385957186543,1.08047835231457,1.06630261346414,1.06821622332394,1.04002718486848,1.25592803970923,1.06559513551768,1.06676354485248,0.963579690441407,1.12710980853998,0.900591037587961,0]},{\"_typename\":\"TLine\",\"fUniqueID\":0,\"fBits\":50331656,\"fLineColor\":632,\"fLineStyle\":1,\"fLineWidth\":1,\"fX1\":20,\"fY1\":1,\"fX2\":1000,\"fY2\":1},{\"_typename\":\"TPaveText\",\"fUniqueID\":0,\"fBits\":50331657,\"fLineColor\":1,\"fLineStyle\":1,\"fLineWidth\":1,\"fFillColor\":0,\"fFillStyle\":0,\"fX1\":1.98904737293332,\"fY1\":1.32843567996127,\"fX2\":2.18704388612236,\"fY2\":1.37125000910834,\"fX1NDC\":0.456577540138079,\"fY1NDC\":0.937914233422926,\"fX2NDC\":0.543422459861921,\"fY2NDC\":0.995000004768372,\"fBorderSize\":0,\"fInit\":1,\"fShadowColor\":1,\"fCornerRadius\":0,\"fOption\":\"blNDC\",\"fName\":\"title\",\"fTextAngle\":0,\"fTextSize\":0,\"fTextAlign\":22,\"fTextColor\":1,\"fTextFont\":42,\"fLabel\":\"\",\"fLongest\":9,\"fMargin\":0.05,\"fLines\":{\"_typename\":\"TList\",\"name\":\"TList\",\"arr\":[{\"_typename\":\"TLatex\",\"fUniqueID\":0,\"fBits\":50331648,\"fName\":\"\",\"fTitle\":\"hMassData\",\"fTextAngle\":0,\"fTextSize\":0,\"fTextAlign\":0,\"fTextColor\":0,\"fTextFont\":0,\"fX\":0,\"fY\":0,\"fLineColor\":1,\"fLineStyle\":1,\"fLineWidth\":2,\"fLimitFactorSize\":3,\"fOriginSize\":0.0485229045152664}],\"opt\":[\"\"]}}],\"opt\":[\"\",\"pe\",\"pe same\",\"pe same\",\"pe same\",\"pe same\",\"same\",\"blNDC\"]},\"fExecs\":{\"_typename\":\"TList\",\"name\":\"TList\",\"arr\":[],\"opt\":[]},\"fName\":\"ratio_mass\",\"fTitle\":\"raio_mass\",\"fNumPaletteColor\":0,\"fNextPaletteColor\":0}],\"opt\":[\"\",\"\"]},\"fExecs\":{\"_typename\":\"TList\",\"name\":\"TList\",\"arr\":[],\"opt\":[]},\"fName\":\"c_1\",\"fTitle\":\"c_1\",\"fNumPaletteColor\":0,\"fNextPaletteColor\":0},{\"_typename\":\"TPad\",\"fUniqueID\":0,\"fBits\":50331657,\"fLineColor\":1,\"fLineStyle\":1,\"fLineWidth\":1,\"fFillColor\":0,\"fFillStyle\":1001,\"fLeftMargin\":0.1,\"fRightMargin\":0.1,\"fBottomMargin\":0.1,\"fTopMargin\":0.1,\"fXfile\":2,\"fYfile\":2,\"fAfile\":1,\"fXstat\":0.99,\"fYstat\":0.99,\"fAstat\":2,\"fFrameFillColor\":0,\"fFrameLineColor\":1,\"fFrameFillStyle\":1001,\"fFrameLineStyle\":1,\"fFrameLineWidth\":1,\"fFrameBorderSize\":1,\"fFrameBorderMode\":0,\"fX1\":0,\"fY1\":0,\"fX2\":1,\"fY2\":1,\"fXtoAbsPixelk\":762.960049665618,\"fXtoPixelk\":5e-5,\"fXtoPixel\":718.080000668764,\"fYtoAbsPixelk\":566.280050127852,\"fYtoPixelk\":560.560050255704,\"fYtoPixel\":-560.560000255704,\"fUtoAbsPixelk\":762.960049665618,\"fUtoPixelk\":5e-5,\"fUtoPixel\":718.080000668764,\"fVtoAbsPixelk\":566.280050127852,\"fVtoPixelk\":560.560000255704,\"fVtoPixel\":-560.560000255704,\"fAbsPixeltoXk\":-1.06249999854481,\"fPixeltoXk\":0,\"fPixeltoX\":0.00139260249424671,\"fAbsPixeltoYk\":1.01020408139992,\"fPixeltoYk\":0,\"fPixeltoY\":-0.00178393035454517,\"fXlowNDC\":0.509999999776483,\"fYlowNDC\":0.00999999977648258,\"fXUpNDC\":0,\"fYUpNDC\":0,\"fWNDC\":0.480000000447035,\"fHNDC\":0.980000000447035,\"fAbsXlowNDC\":0.509999999776483,\"fAbsYlowNDC\":0.00999999977648258,\"fAbsWNDC\":0.480000000447035,\"fAbsHNDC\":0.980000000447035,\"fUxmin\":0,\"fUymin\":0,\"fUxmax\":1,\"fUymax\":1,\"fTheta\":30,\"fPhi\":30,\"fAspectRatio\":0,\"fNumber\":2,\"fTickx\":0,\"fTicky\":0,\"fLogx\":0,\"fLogy\":0,\"fLogz\":0,\"fPadPaint\":0,\"fCrosshair\":0,\"fCrosshairPos\":0,\"fBorderSize\":2,\"fBorderMode\":0,\"fModified\":false,\"fGridx\":false,\"fGridy\":false,\"fAbsCoord\":false,\"fEditable\":true,\"fFixedAspectRatio\":false,\"fPrimitives\":{\"_typename\":\"TList\",\"name\":\"TList\",\"arr\":[{\"_typename\":\"TPad\",\"fUniqueID\":0,\"fBits\":50331657,\"fLineColor\":1,\"fLineStyle\":1,\"fLineWidth\":1,\"fFillColor\":0,\"fFillStyle\":1001,\"fLeftMargin\":0.1,\"fRightMargin\":0.1,\"fBottomMargin\":0.1,\"fTopMargin\":0.1,\"fXfile\":2,\"fYfile\":2,\"fAfile\":1,\"fXstat\":0.99,\"fYstat\":0.99,\"fAstat\":2,\"fFrameFillColor\":0,\"fFrameLineColor\":1,\"fFrameFillStyle\":1001,\"fFrameLineStyle\":1,\"fFrameLineWidth\":1,\"fFrameBorderSize\":1,\"fFrameBorderMode\":0,\"fX1\":-5.12500041909518,\"fY1\":-1.08737133155748,\"fX2\":51.1250004190952,\"fY2\":9.7863413358935,\"fXtoAbsPixelk\":828.38512076842,\"fXtoPixelk\":65.4251211028022,\"fXtoPixel\":12.7658664883296,\"fYtoAbsPixelk\":358.872847694403,\"fYtoPixelk\":353.152847822255,\"fYtoPixel\":-36.0862947347842,\"fUtoAbsPixelk\":762.960049665618,\"fUtoPixelk\":5e-5,\"fUtoPixel\":718.080000668764,\"fVtoAbsPixelk\":398.112050051141,\"fVtoPixelk\":392.392000178993,\"fVtoPixel\":-392.392000178993,\"fAbsPixeltoXk\":-64.8906262278179,\"fPixeltoXk\":-5.12500041909518,\"fPixeltoX\":0.0783338914686434,\"fAbsPixeltoYk\":9.94485026329065,\"fPixeltoYk\":-1.08737133155748,\"fPixeltoY\":-0.0277113515629545,\"fXlowNDC\":0,\"fYlowNDC\":0.3,\"fXUpNDC\":0,\"fYUpNDC\":0,\"fWNDC\":1,\"fHNDC\":0.7,\"fAbsXlowNDC\":0.509999999776483,\"fAbsYlowNDC\":0.303999999910593,\"fAbsWNDC\":0.480000000447035,\"fAbsHNDC\":0.686000000312924,\"fUxmin\":0.5,\"fUymin\":0,\"fUxmax\":45.5,\"fUymax\":8.69897000433602,\"fTheta\":30,\"fPhi\":30,\"fAspectRatio\":0,\"fNumber\":0,\"fTickx\":0,\"fTicky\":0,\"fLogx\":0,\"fLogy\":1,\"fLogz\":0,\"fPadPaint\":0,\"fCrosshair\":0,\"fCrosshairPos\":0,\"fBorderSize\":2,\"fBorderMode\":0,\"fModified\":false,\"fGridx\":true,\"fGridy\":true,\"fAbsCoord\":false,\"fEditable\":true,\"fFixedAspectRatio\":false,\"fPrimitives\":{\"_typename\":\"TList\",\"name\":\"TList\",\"arr\":[{\"_typename\":\"TFrame\",\"fUniqueID\":0,\"fBits\":50331656,\"fLineColor\":1,\"fLineStyle\":1,\"fLineWidth\":1,\"fFillColor\":0,\"fFillStyle\":1001,\"fX1\":0.5,\"fY1\":0,\"fX2\":45.5,\"fY2\":8.69897000433602,\"fBorderSize\":1,\"fBorderMode\":0},{\"_typename\":\"TH1D\",\"fUniqueID\":0,\"fBits\":50332168,\"fName\":\"hPtUnfoldedData\",\"fTitle\":\"hPtUnfoldedData\",\"fLineColor\":632,\"fLineStyle\":1,\"fLineWidth\":1,\"fFillColor\":0,\"fFillStyle\":1001,\"fMarkerColor\":632,\"fMarkerStyle\":20,\"fMarkerSize\":1,\"fNcells\":47,\"fXaxis\":{\"_typename\":\"TAxis\",\"fUniqueID\":0,\"fBits\":50331656,\"fName\":\"xaxis\",\"fTitle\":\"Gen_Pt\",\"fNdivisions\":520,\"fAxisColor\":1,\"fLabelColor\":1,\"fLabelFont\":42,\"fLabelOffset\":0.005,\"fLabelSize\":0.035,\"fTickLength\":0.03,\"fTitleOffset\":1,\"fTitleSize\":0.035,\"fTitleColor\":1,\"fTitleFont\":42,\"fNbins\":45,\"fXmin\":0.5,\"fXmax\":45.5,\"fXbins\":[],\"fFirst\":0,\"fLast\":0,\"fBits2\":0,\"fTimeDisplay\":false,\"fTimeFormat\":\"\",\"fLabels\":null,\"fModLabs\":null},\"fYaxis\":{\"_typename\":\"TAxis\",\"fUniqueID\":0,\"fBits\":50331656,\"fName\":\"yaxis\",\"fTitle\":\"Events\\/ bin\",\"fNdivisions\":10,\"fAxisColor\":1,\"fLabelColor\":1,\"fLabelFont\":42,\"fLabelOffset\":0.005,\"fLabelSize\":0.035,\"fTickLength\":0.03,\"fTitleOffset\":0,\"fTitleSize\":0.035,\"fTitleColor\":1,\"fTitleFont\":42,\"fNbins\":1,\"fXmin\":0,\"fXmax\":1,\"fXbins\":[],\"fFirst\":0,\"fLast\":0,\"fBits2\":0,\"fTimeDisplay\":false,\"fTimeFormat\":\"\",\"fLabels\":null,\"fModLabs\":null},\"fZaxis\":{\"_typename\":\"TAxis\",\"fUniqueID\":0,\"fBits\":50331648,\"fName\":\"zaxis\",\"fTitle\":\"\",\"fNdivisions\":510,\"fAxisColor\":1,\"fLabelColor\":1,\"fLabelFont\":42,\"fLabelOffset\":0.005,\"fLabelSize\":0.035,\"fTickLength\":0.03,\"fTitleOffset\":1,\"fTitleSize\":0.035,\"fTitleColor\":1,\"fTitleFont\":42,\"fNbins\":1,\"fXmin\":0,\"fXmax\":1,\"fXbins\":[],\"fFirst\":0,\"fLast\":0,\"fBits2\":0,\"fTimeDisplay\":false,\"fTimeFormat\":\"\",\"fLabels\":null,\"fModLabs\":null},\"fBarOffset\":0,\"fBarWidth\":1000,\"fEntries\":92,\"fTsumw\":0,\"fTsumw2\":0,\"fTsumwx\":0,\"fTsumwx2\":0,\"fMaximum\":500000000,\"fMinimum\":1,\"fNormFactor\":0,\"fContour\":[],\"fSumw2\":[0,541755.5964122,1190114.37126618,1502236.45088318,1774674.35665971,1645483.63051652,1258787.57167611,608006.379189045,269887.309186269,103672.212219292,1244234.41436992,2567238.20539846,2697905.0668976,2851513.51631969,2636042.9277223,1525065.17398308,1072914.99858523,600381.181196421,280114.896920807,14101998.021111,24552902.795796,19185972.3514915,16103209.0070028,13556556.1350208,8834024.10233246,5997103.10163681,3891758.05828009,2106108.4489717,645778.930128662,1160371.71409682,940738.673997942,814731.976884508,849061.192129504,668110.888202938,500489.66909822,396713.066571228,205110.926960608,22614.2354611045,54294.2396347609,45902.5948794264,54081.2009563203,47720.182256072,72745.8737711372,62435.3491017056,40922.0603123631,30650.3605342228,0],\"fOption\":\"\",\"fFunctions\":{\"_typename\":\"TList\",\"name\":\"TList\",\"arr\":[],\"opt\":[]},\"fBufferSize\":0,\"fBuffer\":[],\"fBinStatErrOpt\":0,\"fStatOverflows\":2,\"fArray\":[0,74925.2865547242,137781.598200122,138692.579765503,162085.158252042,163240.19932641,93443.3644785007,53005.7413219152,31651.4673456157,15941.8869550111,210065.997139994,322650.229106656,297993.700649683,357317.671525877,354904.219649539,197865.543247517,113603.978537462,68896.9971197822,34884.5746234535,3725329.1014323,5254148.06739567,4092139.87224501,4253600.10555248,4195007.90834003,2724138.56715374,1854401.28684382,1237209.61039985,698157.762646369,140214.517345861,202572.166691123,162869.065734116,176786.524906051,178011.098163365,120654.440686453,90067.9728471032,61211.9365247223,39276.5813202045,4447.05439424462,6748.56707529306,5860.1223487541,6600.59781599158,7801.89383427553,5723.25857888679,4096.01929925689,3957.52009091335,2475.93917992149,0]},{\"_typename\":\"TH1D\",\"fUniqueID\":0,\"fBits\":50331656,\"fName\":\"hPtFSRUnfoldedData\",\"fTitle\":\"hPtFSRUnfoldedData\",\"fLineColor\":600,\"fLineStyle\":1,\"fLineWidth\":1,\"fFillColor\":0,\"fFillStyle\":1001,\"fMarkerColor\":600,\"fMarkerStyle\":20,\"fMarkerSize\":1,\"fNcells\":47,\"fXaxis\":{\"_typename\":\"TAxis\",\"fUniqueID\":0,\"fBits\":50331648,\"fName\":\"xaxis\",\"fTitle\":\"Gen_Pt\",\"fNdivisions\":510,\"fAxisColor\":1,\"fLabelColor\":1,\"fLabelFont\":42,\"fLabelOffset\":0.005,\"fLabelSize\":0.035,\"fTickLength\":0.03,\"fTitleOffset\":1,\"fTitleSize\":0.035,\"fTitleColor\":1,\"fTitleFont\":42,\"fNbins\":45,\"fXmin\":0.5,\"fXmax\":45.5,\"fXbins\":[],\"fFirst\":0,\"fLast\":0,\"fBits2\":0,\"fTimeDisplay\":false,\"fTimeFormat\":\"\",\"fLabels\":null,\"fModLabs\":null},\"fYaxis\":{\"_typename\":\"TAxis\",\"fUniqueID\":0,\"fBits\":50331648,\"fName\":\"yaxis\",\"fTitle\":\"\",\"fNdivisions\":510,\"fAxisColor\":1,\"fLabelColor\":1,\"fLabelFont\":42,\"fLabelOffset\":0.005,\"fLabelSize\":0.035,\"fTickLength\":0.03,\"fTitleOffset\":0,\"fTitleSize\":0.035,\"fTitleColor\":1,\"fTitleFont\":42,\"fNbins\":1,\"fXmin\":0,\"fXmax\":1,\"fXbins\":[],\"fFirst\":0,\"fLast\":0,\"fBits2\":0,\"fTimeDisplay\":false,\"fTimeFormat\":\"\",\"fLabels\":null,\"fModLabs\":null},\"fZaxis\":{\"_typename\":\"TAxis\",\"fUniqueID\":0,\"fBits\":50331648,\"fName\":\"zaxis\",\"fTitle\":\"\",\"fNdivisions\":510,\"fAxisColor\":1,\"fLabelColor\":1,\"fLabelFont\":42,\"fLabelOffset\":0.005,\"fLabelSize\":0.035,\"fTickLength\":0.03,\"fTitleOffset\":1,\"fTitleSize\":0.035,\"fTitleColor\":1,\"fTitleFont\":42,\"fNbins\":1,\"fXmin\":0,\"fXmax\":1,\"fXbins\":[],\"fFirst\":0,\"fLast\":0,\"fBits2\":0,\"fTimeDisplay\":false,\"fTimeFormat\":\"\",\"fLabels\":null,\"fModLabs\":null},\"fBarOffset\":0,\"fBarWidth\":1000,\"fEntries\":92,\"fTsumw\":0,\"fTsumw2\":0,\"fTsumwx\":0,\"fTsumwx2\":0,\"fMaximum\":-1111,\"fMinimum\":-1111,\"fNormFactor\":0,\"fContour\":[],\"fSumw2\":[0,163674774.632302,129020485.631957,64146330.4148617,51259712.5869152,40880539.970935,26782699.9531464,8392581.43233744,2357943.80524465,608951.791590032,14377399.9319807,24333338.1374678,21872437.8119762,20805764.2111944,16985704.7430161,8716458.30278486,5293104.9727307,2714755.51047549,1203526.59442965,102049085.045026,157772972.13211,112009756.892816,86493139.8255237,66666617.8062456,39112816.1523494,23214820.1825378,13293411.5173245,6423344.57656814,3983531.52870732,6566472.3624632,4968451.31118578,4016051.6985685,3807666.8620427,2765380.88453989,1819840.88937324,1280877.61049612,593377.688798254,94915.4054056462,217404.333317254,170285.398083252,196718.135404067,160470.574219503,236475.657721114,186218.497771461,116550.716938083,75315.7552492499,0],\"fOption\":\"\",\"fFunctions\":{\"_typename\":\"TList\",\"name\":\"TList\",\"arr\":[],\"opt\":[]},\"fBufferSize\":0,\"fBuffer\":[],\"fBinStatErrOpt\":0,\"fStatOverflows\":2,\"fArray\":[0,1260368.25059523,1356053.10646998,828123.467972087,761916.086542782,605801.69477961,303595.338535699,164374.757687361,81135.0707593989,34360.3536978668,635844.317647539,784218.987268771,557265.005075713,541840.854116224,477651.237932097,286970.628918274,158875.005383368,97850.3014888982,51374.4170485972,9843145.28521937,12927404.7130403,9541004.71698717,9599009.62086722,9145708.04408593,5653412.91686753,3607671.04005434,2266290.21469117,1210702.51789292,342587.068222552,470228.985203291,362919.458389722,381695.935904823,367922.13758681,239954.465437423,168527.131936346,108262.001749297,65922.0240949319,8836.95374910982,13029.8954915125,10748.1534856841,11798.1143311106,13691.224902855,9844.95474377773,6659.81231907141,6426.70088239966,3727.31630995035,0]},{\"_typename\":\"TH1D\",\"fUniqueID\":0,\"fBits\":50331656,\"fName\":\"hPtUnfoldedData_\",\"fTitle\":\"hPtUnfoldedData_\",\"fLineColor\":616,\"fLineStyle\":1,\"fLineWidth\":1,\"fFillColor\":0,\"fFillStyle\":1001,\"fMarkerColor\":616,\"fMarkerStyle\":22,\"fMarkerSize\":0.8,\"fNcells\":47,\"fXaxis\":{\"_typename\":\"TAxis\",\"fUniqueID\":0,\"fBits\":50331648,\"fName\":\"xaxis\",\"fTitle\":\"Gen_Pt\",\"fNdivisions\":510,\"fAxisColor\":1,\"fLabelColor\":1,\"fLabelFont\":42,\"fLabelOffset\":0.005,\"fLabelSize\":0.035,\"fTickLength\":0.03,\"fTitleOffset\":1,\"fTitleSize\":0.035,\"fTitleColor\":1,\"fTitleFont\":42,\"fNbins\":45,\"fXmin\":0.5,\"fXmax\":45.5,\"fXbins\":[],\"fFirst\":0,\"fLast\":0,\"fBits2\":0,\"fTimeDisplay\":false,\"fTimeFormat\":\"\",\"fLabels\":null,\"fModLabs\":null},\"fYaxis\":{\"_typename\":\"TAxis\",\"fUniqueID\":0,\"fBits\":50331648,\"fName\":\"yaxis\",\"fTitle\":\"\",\"fNdivisions\":510,\"fAxisColor\":1,\"fLabelColor\":1,\"fLabelFont\":42,\"fLabelOffset\":0.005,\"fLabelSize\":0.035,\"fTickLength\":0.03,\"fTitleOffset\":0,\"fTitleSize\":0.035,\"fTitleColor\":1,\"fTitleFont\":42,\"fNbins\":1,\"fXmin\":0,\"fXmax\":1,\"fXbins\":[],\"fFirst\":0,\"fLast\":0,\"fBits2\":0,\"fTimeDisplay\":false,\"fTimeFormat\":\"\",\"fLabels\":null,\"fModLabs\":null},\"fZaxis\":{\"_typename\":\"TAxis\",\"fUniqueID\":0,\"fBits\":50331648,\"fName\":\"zaxis\",\"fTitle\":\"\",\"fNdivisions\":510,\"fAxisColor\":1,\"fLabelColor\":1,\"fLabelFont\":42,\"fLabelOffset\":0.005,\"fLabelSize\":0.035,\"fTickLength\":0.03,\"fTitleOffset\":1,\"fTitleSize\":0.035,\"fTitleColor\":1,\"fTitleFont\":42,\"fNbins\":1,\"fXmin\":0,\"fXmax\":1,\"fXbins\":[],\"fFirst\":0,\"fLast\":0,\"fBits2\":0,\"fTimeDisplay\":false,\"fTimeFormat\":\"\",\"fLabels\":null,\"fModLabs\":null},\"fBarOffset\":0,\"fBarWidth\":1000,\"fEntries\":92,\"fTsumw\":0,\"fTsumw2\":0,\"fTsumwx\":0,\"fTsumwx2\":0,\"fMaximum\":-1111,\"fMinimum\":-1111,\"fNormFactor\":0,\"fContour\":[],\"fSumw2\":[0,135967049.144673,111811296.220487,55280308.4429982,44589099.1279003,33360732.7284214,21935971.9454309,7611090.18657044,2189086.91379311,574438.775112434,13256836.9326914,20928196.0220405,17009802.8668726,14868603.5804942,11900491.8581292,6412434.65234579,4006779.79065877,2098960.37617649,948534.09857782,99811705.0810445,154009779.082829,108356038.191247,84113052.6713967,65192577.8765063,38298298.0301642,22766824.0012057,13065344.1193111,6311043.31031611,3890679.86802519,6419931.88666611,4831771.65314765,3914336.02355527,3712488.53364059,2687150.21906613,1779907.39805283,1253490.02567384,580014.019226806,95739.5375264805,221027.691794038,169140.964278604,185788.568402545,153255.314022269,224191.161959464,179020.291365221,111678.431624693,71544.6043628571,0],\"fOption\":\"\",\"fFunctions\":{\"_typename\":\"TList\",\"name\":\"TList\",\"arr\":[],\"opt\":[]},\"fBufferSize\":0,\"fBuffer\":[],\"fBinStatErrOpt\":0,\"fStatOverflows\":2,\"fArray\":[0,1169946.00526272,1259125.06217874,769403.69192202,726305.45868946,579387.813629366,293085.708806228,161564.022252338,79792.5801621374,33962.2986939035,627901.964606171,768225.648010398,545009.084529331,526831.560363921,469269.770627483,278452.050417369,155262.77810412,95300.9283035121,50291.2129897546,9779343.53238465,12831950.020521,9473034.59787258,9538857.72934673,9090816.22421509,5617538.80388337,3582308.25329677,2251560.0667131,1202238.26381004,340171.609862935,467807.813391002,360662.598750044,379507.525018445,366184.244675316,238551.142898121,167314.550203203,107407.419294991,65517.0964518656,8815.80782476216,13017.8158552831,10729.7166137931,11751.6984820914,13632.3865929378,9841.2076117364,6629.77461539507,6407.89134503703,3724.29977954452,0]},{\"_typename\":\"TH1D\",\"fUniqueID\":0,\"fBits\":50331656,\"fName\":\"hPtData\",\"fTitle\":\"hPtData\",\"fLineColor\":1,\"fLineStyle\":1,\"fLineWidth\":1,\"fFillColor\":0,\"fFillStyle\":1001,\"fMarkerColor\":1,\"fMarkerStyle\":20,\"fMarkerSize\":1,\"fNcells\":47,\"fXaxis\":{\"_typename\":\"TAxis\",\"fUniqueID\":0,\"fBits\":50331648,\"fName\":\"xaxis\",\"fTitle\":\"Rec_Pt\",\"fNdivisions\":510,\"fAxisColor\":1,\"fLabelColor\":1,\"fLabelFont\":42,\"fLabelOffset\":0.005,\"fLabelSize\":0.035,\"fTickLength\":0.03,\"fTitleOffset\":1,\"fTitleSize\":0.035,\"fTitleColor\":1,\"fTitleFont\":42,\"fNbins\":45,\"fXmin\":0.5,\"fXmax\":45.5,\"fXbins\":[],\"fFirst\":0,\"fLast\":0,\"fBits2\":0,\"fTimeDisplay\":false,\"fTimeFormat\":\"\",\"fLabels\":null,\"fModLabs\":null},\"fYaxis\":{\"_typename\":\"TAxis\",\"fUniqueID\":0,\"fBits\":50331648,\"fName\":\"yaxis\",\"fTitle\":\"\",\"fNdivisions\":510,\"fAxisColor\":1,\"fLabelColor\":1,\"fLabelFont\":42,\"fLabelOffset\":0.005,\"fLabelSize\":0.035,\"fTickLength\":0.03,\"fTitleOffset\":0,\"fTitleSize\":0.035,\"fTitleColor\":1,\"fTitleFont\":42,\"fNbins\":1,\"fXmin\":0,\"fXmax\":1,\"fXbins\":[],\"fFirst\":0,\"fLast\":0,\"fBits2\":0,\"fTimeDisplay\":false,\"fTimeFormat\":\"\",\"fLabels\":null,\"fModLabs\":null},\"fZaxis\":{\"_typename\":\"TAxis\",\"fUniqueID\":0,\"fBits\":50331648,\"fName\":\"zaxis\",\"fTitle\":\"\",\"fNdivisions\":510,\"fAxisColor\":1,\"fLabelColor\":1,\"fLabelFont\":42,\"fLabelOffset\":0.005,\"fLabelSize\":0.035,\"fTickLength\":0.03,\"fTitleOffset\":1,\"fTitleSize\":0.035,\"fTitleColor\":1,\"fTitleFont\":42,\"fNbins\":1,\"fXmin\":0,\"fXmax\":1,\"fXbins\":[],\"fFirst\":0,\"fLast\":0,\"fBits2\":0,\"fTimeDisplay\":false,\"fTimeFormat\":\"\",\"fLabels\":null,\"fModLabs\":null},\"fBarOffset\":0,\"fBarWidth\":1000,\"fEntries\":92,\"fTsumw\":0,\"fTsumw2\":0,\"fTsumwx\":0,\"fTsumwx2\":0,\"fMaximum\":-1111,\"fMinimum\":-1111,\"fNormFactor\":0,\"fContour\":[],\"fSumw2\":[0,29101.2510986447,58396.8665688775,75521.9642546401,94677.7257539928,98733.3505674618,82187.036778568,49433.6501292801,25768.6600609308,12939.6462068405,100261.42428708,166727.195521051,153932.068505015,179495.567726985,180673.313925928,108457.808834597,81302.8066723967,45999.0892739867,24400.2828658611,1517178.87239722,2272360.68567647,1757898.84588208,1797798.60250582,1737573.8885351,1120979.88690948,738189.14674587,490685.155308685,280424.65694105,58601.3614368898,90681.3919967603,74853.8127887262,81924.406312208,103468.730616777,82027.1208123957,58257.3326853035,48793.0598718289,25120.2869833457,2042.36775980936,3656.80973927197,3388.75721204661,6403.65849254934,7656.77819203629,12608.8999366955,11011.0271271596,6210.29217308726,5311.7918425565,0],\"fOption\":\"\",\"fFunctions\":{\"_typename\":\"TList\",\"name\":\"TList\",\"arr\":[],\"opt\":[]},\"fBufferSize\":0,\"fBuffer\":[],\"fBinStatErrOpt\":0,\"fStatOverflows\":2,\"fArray\":[0,23374.4649307495,43872.2609422499,44327.5130083589,49441.1294760811,50138.5849159214,28697.6379375666,17380.8578021996,11211.2935979697,6364.70106251466,93939.7519054481,153072.931904773,137596.111371308,156185.370571316,147700.231590874,80793.1706364147,47560.9202712521,28428.1157264094,14737.5259514409,1516341.23427153,2271187.57642116,1756050.04897402,1793296.11209764,1723978.14932221,1089626.08608198,718212.573406845,475962.909129851,273782.438517149,57072.7599073142,89108.6411589489,72855.6549472744,77152.9122752539,77746.9333438824,51817.3432651766,36077.8018204731,25090.4575790501,15841.800682054,2017.45481077243,3598.85870413924,3261.71730330493,3814.3948715464,4256.22041632205,3042.3472289991,2127.04360467812,1842.96193627426,1195.49226365981,0]},{\"_typename\":\"TLegend\",\"fUniqueID\":0,\"fBits\":50331656,\"fLineColor\":1,\"fLineStyle\":1,\"fLineWidth\":1,\"fFillColor\":0,\"fFillStyle\":1001,\"fX1\":34.2500001676381,\"fY1\":6.52422753565821,\"fX2\":45.5000003352762,\"fY2\":8.6989700691484,\"fX1NDC\":0.7,\"fY1NDC\":0.7,\"fX2NDC\":0.9,\"fY2NDC\":0.9,\"fBorderSize\":1,\"fInit\":1,\"fShadowColor\":1,\"fCornerRadius\":0,\"fOption\":\"brNDC\",\"fName\":\"TPave\",\"fTextAngle\":0,\"fTextSize\":0,\"fTextAlign\":12,\"fTextColor\":1,\"fTextFont\":42,\"fPrimitives\":{\"_typename\":\"TList\",\"name\":\"TList\",\"arr\":[{\"_typename\":\"TLegendEntry\",\"fUniqueID\":0,\"fBits\":50331656,\"fTextAngle\":0,\"fTextSize\":0,\"fTextAlign\":0,\"fTextColor\":0,\"fTextFont\":42,\"fLineColor\":1,\"fLineStyle\":1,\"fLineWidth\":1,\"fFillColor\":0,\"fFillStyle\":0,\"fMarkerColor\":1,\"fMarkerStyle\":20,\"fMarkerSize\":1,\"fObject\":{\"$ref\":95},\"fLabel\":\"Detector  data\",\"fOption\":\"ple\"},{\"_typename\":\"TLegendEntry\",\"fUniqueID\":0,\"fBits\":50331656,\"fTextAngle\":0,\"fTextSize\":0,\"fTextAlign\":0,\"fTextColor\":0,\"fTextFont\":42,\"fLineColor\":632,\"fLineStyle\":1,\"fLineWidth\":1,\"fFillColor\":0,\"fFillStyle\":0,\"fMarkerColor\":632,\"fMarkerStyle\":20,\"fMarkerSize\":1,\"fObject\":{\"$ref\":80},\"fLabel\":\"Det unfolded data\",\"fOption\":\"ple\"},{\"_typename\":\"TLegendEntry\",\"fUniqueID\":0,\"fBits\":50331656,\"fTextAngle\":0,\"fTextSize\":0,\"fTextAlign\":0,\"fTextColor\":0,\"fTextFont\":42,\"fLineColor\":600,\"fLineStyle\":1,\"fLineWidth\":1,\"fFillColor\":0,\"fFillStyle\":0,\"fMarkerColor\":600,\"fMarkerStyle\":20,\"fMarkerSize\":1,\"fObject\":{\"$ref\":85},\"fLabel\":\"Pre-FSR unfolded data\",\"fOption\":\"ple\"}],\"opt\":[\"ple\",\"ple\",\"ple\"]},\"fEntrySeparation\":0.1,\"fMargin\":0.25,\"fNColumns\":1,\"fColumnSeparation\":0},{\"_typename\":\"TPaveText\",\"fUniqueID\":0,\"fBits\":50331657,\"fLineColor\":1,\"fLineStyle\":1,\"fLineWidth\":1,\"fFillColor\":0,\"fFillStyle\":0,\"fX1\":16.092454782658,\"fY1\":9.13391861878464,\"fX2\":29.907545217342,\"fY2\":9.73197282440615,\"fX1NDC\":0.377199197966016,\"fY1NDC\":0.940000003948808,\"fX2NDC\":0.622800802033983,\"fY2NDC\":0.995000004768372,\"fBorderSize\":0,\"fInit\":1,\"fShadowColor\":1,\"fCornerRadius\":0,\"fOption\":\"blNDC\",\"fName\":\"title\",\"fTextAngle\":0,\"fTextSize\":0,\"fTextAlign\":22,\"fTextColor\":1,\"fTextFont\":42,\"fLabel\":\"\",\"fLongest\":15,\"fMargin\":0.05,\"fLines\":{\"_typename\":\"TList\",\"name\":\"TList\",\"arr\":[{\"_typename\":\"TLatex\",\"fUniqueID\":0,\"fBits\":50331648,\"fName\":\"\",\"fTitle\":\"hPtUnfoldedData\",\"fTextAngle\":0,\"fTextSize\":0,\"fTextAlign\":0,\"fTextColor\":0,\"fTextFont\":0,\"fX\":0,\"fY\":0,\"fLineColor\":1,\"fLineStyle\":1,\"fLineWidth\":2,\"fLimitFactorSize\":3,\"fOriginSize\":0.0467500016093254}],\"opt\":[\"\"]}}],\"opt\":[\"\",\"hist pe\",\"pe same\",\"pe same\",\"pe same\",\"\",\"blNDC\"]},\"fExecs\":{\"_typename\":\"TList\",\"name\":\"TList\",\"arr\":[],\"opt\":[]},\"fName\":\"pad_pt\",\"fTitle\":\"pad_pt\",\"fNumPaletteColor\":0,\"fNextPaletteColor\":0},{\"_typename\":\"TPad\",\"fUniqueID\":0,\"fBits\":50331657,\"fLineColor\":1,\"fLineStyle\":1,\"fLineWidth\":1,\"fFillColor\":0,\"fFillStyle\":1001,\"fLeftMargin\":0.1,\"fRightMargin\":0.1,\"fBottomMargin\":0.1,\"fTopMargin\":0.1,\"fXfile\":2,\"fYfile\":2,\"fAfile\":1,\"fXstat\":0.99,\"fYstat\":0.99,\"fAstat\":2,\"fFrameFillColor\":0,\"fFrameLineColor\":1,\"fFrameFillStyle\":1001,\"fFrameLineStyle\":1,\"fFrameLineWidth\":1,\"fFrameBorderSize\":1,\"fFrameBorderMode\":0,\"fX1\":-5.12500041909518,\"fY1\":0.624999994412064,\"fX2\":51.1250004190952,\"fY2\":1.37500000558794,\"fXtoAbsPixelk\":828.38512076842,\"fXtoPixelk\":65.4251211028022,\"fXtoPixel\":12.7658664883296,\"fYtoAbsPixelk\":706.42004685058,\"fYtoPixelk\":308.308046799439,\"fYtoPixel\":-224.223996761083,\"fUtoAbsPixelk\":762.960049665618,\"fUtoPixelk\":5e-5,\"fUtoPixel\":718.080000668764,\"fVtoAbsPixelk\":566.280050127852,\"fVtoPixelk\":168.168000076711,\"fVtoPixel\":-168.168000076711,\"fAbsPixeltoXk\":-64.8906262278179,\"fPixeltoXk\":-5.12500041909518,\"fPixeltoX\":0.0783338914686434,\"fAbsPixeltoYk\":3.1505102355449,\"fPixeltoYk\":0.624999994412064,\"fPixeltoY\":-0.00445982595281952,\"fXlowNDC\":0,\"fYlowNDC\":0,\"fXUpNDC\":0,\"fYUpNDC\":0,\"fWNDC\":1,\"fHNDC\":0.3,\"fAbsXlowNDC\":0.509999999776483,\"fAbsYlowNDC\":0.00999999977648258,\"fAbsWNDC\":0.480000000447035,\"fAbsHNDC\":0.29400000013411,\"fUxmin\":0.5,\"fUymin\":0.7,\"fUxmax\":45.5,\"fUymax\":1.3,\"fTheta\":30,\"fPhi\":30,\"fAspectRatio\":0,\"fNumber\":0,\"fTickx\":0,\"fTicky\":0,\"fLogx\":0,\"fLogy\":0,\"fLogz\":0,\"fPadPaint\":0,\"fCrosshair\":0,\"fCrosshairPos\":0,\"fBorderSize\":2,\"fBorderMode\":0,\"fModified\":false,\"fGridx\":true,\"fGridy\":true,\"fAbsCoord\":false,\"fEditable\":true,\"fFixedAspectRatio\":false,\"fPrimitives\":{\"_typename\":\"TList\",\"name\":\"TList\",\"arr\":[{\"_typename\":\"TFrame\",\"fUniqueID\":0,\"fBits\":50331656,\"fLineColor\":1,\"fLineStyle\":1,\"fLineWidth\":1,\"fFillColor\":0,\"fFillStyle\":1001,\"fX1\":0.5,\"fY1\":0.7,\"fX2\":45.5,\"fY2\":1.3,\"fBorderSize\":1,\"fBorderMode\":0},{\"_typename\":\"TH1D\",\"fUniqueID\":0,\"fBits\":50332168,\"fName\":\"ratioPt_detector\",\"fTitle\":\"hPtData\",\"fLineColor\":1,\"fLineStyle\":1,\"fLineWidth\":1,\"fFillColor\":0,\"fFillStyle\":1001,\"fMarkerColor\":1,\"fMarkerStyle\":20,\"fMarkerSize\":1,\"fNcells\":47,\"fXaxis\":{\"_typename\":\"TAxis\",\"fUniqueID\":0,\"fBits\":50331648,\"fName\":\"xaxis\",\"fTitle\":\"Rec_Pt\",\"fNdivisions\":510,\"fAxisColor\":1,\"fLabelColor\":1,\"fLabelFont\":42,\"fLabelOffset\":0.005,\"fLabelSize\":0.035,\"fTickLength\":0.03,\"fTitleOffset\":1,\"fTitleSize\":0.035,\"fTitleColor\":1,\"fTitleFont\":42,\"fNbins\":45,\"fXmin\":0.5,\"fXmax\":45.5,\"fXbins\":[],\"fFirst\":0,\"fLast\":0,\"fBits2\":0,\"fTimeDisplay\":false,\"fTimeFormat\":\"\",\"fLabels\":null,\"fModLabs\":null},\"fYaxis\":{\"_typename\":\"TAxis\",\"fUniqueID\":0,\"fBits\":50331648,\"fName\":\"yaxis\",\"fTitle\":\"\",\"fNdivisions\":510,\"fAxisColor\":1,\"fLabelColor\":1,\"fLabelFont\":42,\"fLabelOffset\":0.005,\"fLabelSize\":0.035,\"fTickLength\":0.03,\"fTitleOffset\":0,\"fTitleSize\":0.035,\"fTitleColor\":1,\"fTitleFont\":42,\"fNbins\":1,\"fXmin\":0,\"fXmax\":1,\"fXbins\":[],\"fFirst\":0,\"fLast\":0,\"fBits2\":0,\"fTimeDisplay\":false,\"fTimeFormat\":\"\",\"fLabels\":null,\"fModLabs\":null},\"fZaxis\":{\"_typename\":\"TAxis\",\"fUniqueID\":0,\"fBits\":50331648,\"fName\":\"zaxis\",\"fTitle\":\"\",\"fNdivisions\":510,\"fAxisColor\":1,\"fLabelColor\":1,\"fLabelFont\":42,\"fLabelOffset\":0.005,\"fLabelSize\":0.035,\"fTickLength\":0.03,\"fTitleOffset\":1,\"fTitleSize\":0.035,\"fTitleColor\":1,\"fTitleFont\":42,\"fNbins\":1,\"fXmin\":0,\"fXmax\":1,\"fXbins\":[],\"fFirst\":0,\"fLast\":0,\"fBits2\":0,\"fTimeDisplay\":false,\"fTimeFormat\":\"\",\"fLabels\":null,\"fModLabs\":null},\"fBarOffset\":0,\"fBarWidth\":1000,\"fEntries\":50133.424720892,\"fTsumw\":44.9462998775639,\"fTsumw2\":0.0402958681544458,\"fTsumwx\":1037.72486268642,\"fTsumwx2\":31595.4375326337,\"fMaximum\":1.3,\"fMinimum\":0.7,\"fNormFactor\":0,\"fContour\":[],\"fSumw2\":[0,2.65725335612195e-4,1.90115816108031e-4,2.17753236788188e-4,1.98549703802006e-4,1.64884576439901e-4,3.40884257698313e-4,8.80141139986139e-4,0.00145768785734539,0.00259013632455166,5.48310145774943e-5,3.38045766115882e-5,3.61013624542788e-5,2.93220579831056e-5,2.90138761967178e-5,6.14134848355735e-5,1.24890639328065e-4,2.55510157530801e-4,5.93740074822443e-4,2.83686265085672e-6,1.97982495920362e-6,2.47232731413863e-6,2.16565803789783e-6,2.07375812953734e-6,3.75996272242936e-6,7.25232995478685e-6,1.27195189682387e-5,2.40733201593916e-5,8.49204531038655e-5,5.67534517598492e-5,6.72921327595376e-5,5.97153704366987e-5,5.47202625751211e-5,9.79579833045906e-5,1.97050256304974e-4,2.86452436965248e-4,5.19477259810514e-4,0.00356151831779324,0.0018221968847782,0.00182773025577661,0.00146871247108947,0.00132437750106163,0.00283280487769104,0.00430850201263231,0.00730916292795598,0.00683268424307855,0],\"fOption\":\"\",\"fFunctions\":{\"_typename\":\"TList\",\"name\":\"TList\",\"arr\":[],\"opt\":[]},\"fBufferSize\":0,\"fBuffer\":[],\"fBinStatErrOpt\":0,\"fStatOverflows\":2,\"fArray\":[0,1.05812974261481,1.05199512063652,1.00207082086878,0.991464025418563,0.947717440427732,0.912828612021535,0.967487303290734,0.971409193734196,0.975960743633702,1.08116092625382,1.0722632382461,1.04584984150262,1.00481894867562,0.95221010976044,0.938740366619051,0.931040033440232,0.977761893080281,1.01740543096538,1.0249196000388,1.03266003444475,1.00866062136692,0.956754308141947,0.902447425456553,0.889028452362596,0.916097920453659,0.938866355637515,0.951616585824578,1.07264061565389,1.08003822888501,1.05707964772322,1.01343538152159,0.935453580003458,0.920735698814538,0.974787783114445,0.950819220946303,0.993187294469739,1.23503255438913,1.18939980161113,1.14091840095534,1.04544171753878,0.998852356639988,0.969180033533422,0.900627047908808,1.07226153235318,0.875043886584503,0]},{\"_typename\":\"TH1D\",\"fUniqueID\":0,\"fBits\":50332168,\"fName\":\"ratioPt_dressed\",\"fTitle\":\"hPtUnfoldedData\",\"fLineColor\":632,\"fLineStyle\":1,\"fLineWidth\":1,\"fFillColor\":0,\"fFillStyle\":1001,\"fMarkerColor\":632,\"fMarkerStyle\":20,\"fMarkerSize\":1,\"fNcells\":47,\"fXaxis\":{\"_typename\":\"TAxis\",\"fUniqueID\":0,\"fBits\":50331656,\"fName\":\"xaxis\",\"fTitle\":\"Gen_Pt\",\"fNdivisions\":520,\"fAxisColor\":1,\"fLabelColor\":1,\"fLabelFont\":42,\"fLabelOffset\":0.005,\"fLabelSize\":0.035,\"fTickLength\":0.03,\"fTitleOffset\":1,\"fTitleSize\":0.035,\"fTitleColor\":1,\"fTitleFont\":42,\"fNbins\":45,\"fXmin\":0.5,\"fXmax\":45.5,\"fXbins\":[],\"fFirst\":0,\"fLast\":0,\"fBits2\":0,\"fTimeDisplay\":false,\"fTimeFormat\":\"\",\"fLabels\":null,\"fModLabs\":null},\"fYaxis\":{\"_typename\":\"TAxis\",\"fUniqueID\":0,\"fBits\":50331656,\"fName\":\"yaxis\",\"fTitle\":\"Events\\/ bin\",\"fNdivisions\":10,\"fAxisColor\":1,\"fLabelColor\":1,\"fLabelFont\":42,\"fLabelOffset\":0.005,\"fLabelSize\":0.035,\"fTickLength\":0.03,\"fTitleOffset\":0,\"fTitleSize\":0.035,\"fTitleColor\":1,\"fTitleFont\":42,\"fNbins\":1,\"fXmin\":0,\"fXmax\":1,\"fXbins\":[],\"fFirst\":0,\"fLast\":0,\"fBits2\":0,\"fTimeDisplay\":false,\"fTimeFormat\":\"\",\"fLabels\":null,\"fModLabs\":null},\"fZaxis\":{\"_typename\":\"TAxis\",\"fUniqueID\":0,\"fBits\":50331648,\"fName\":\"zaxis\",\"fTitle\":\"\",\"fNdivisions\":510,\"fAxisColor\":1,\"fLabelColor\":1,\"fLabelFont\":42,\"fLabelOffset\":0.005,\"fLabelSize\":0.035,\"fTickLength\":0.03,\"fTitleOffset\":1,\"fTitleSize\":0.035,\"fTitleColor\":1,\"fTitleFont\":42,\"fNbins\":1,\"fXmin\":0,\"fXmax\":1,\"fXbins\":[],\"fFirst\":0,\"fLast\":0,\"fBits2\":0,\"fTimeDisplay\":false,\"fTimeFormat\":\"\",\"fLabels\":null,\"fModLabs\":null},\"fBarOffset\":0,\"fBarWidth\":1000,\"fEntries\":95686.3278077389,\"fTsumw\":45.7215977905724,\"fTsumw2\":0.0218470553987944,\"fTsumwx\":1047.45219450961,\"fTsumwx2\":31805.7292765869,\"fMaximum\":500000000,\"fMinimum\":1,\"fNormFactor\":0,\"fContour\":[],\"fSumw2\":[0,1.23668694583702e-4,8.01345300196564e-5,8.79395826807254e-5,7.25507400407224e-5,5.9320840791623e-5,1.25863237535052e-4,2.08422899858431e-4,2.59623535277585e-4,3.94268398315515e-4,3.48729445909961e-5,3.03145746771402e-5,3.53218532488821e-5,2.39666391861992e-5,1.98997157022185e-5,3.68582312417337e-5,7.47962841835479e-5,1.28267405053775e-4,2.57907686558481e-4,1.07629312390303e-6,9.69924359438117e-7,1.18448482469732e-6,8.20779861466923e-7,6.30148447226142e-7,9.48098182275147e-7,1.48308626198347e-6,2.27059096878903e-6,3.96644633609787e-6,3.84119033161515e-5,3.38077288742501e-5,4.03319441833426e-5,2.72994218067278e-5,2.34678347623997e-5,3.92751874865932e-5,6.04912234112553e-5,9.66863622639985e-5,1.34515415765169e-4,0.00180498737578426,0.00167088214413029,0.00178743020566753,0.00131601511064037,7.84279486624398e-4,0.00211198027789741,0.002900812582848,0.00322583518750168,0.0036831983599187,0],\"fOption\":\"\",\"fFunctions\":{\"_typename\":\"TList\",\"name\":\"TList\",\"arr\":[],\"opt\":[]},\"fBufferSize\":0,\"fBuffer\":[],\"fBinStatErrOpt\":0,\"fStatOverflows\":2,\"fArray\":[0,1.13202651084439,1.13059410154874,1.06114877903589,1.03634614380878,0.980130676790978,0.934376039696735,0.981389849775612,0.98169063162455,0.983115462014954,1.11211312209089,1.10872702591452,1.07824013292246,1.03590599594922,0.975120663796066,0.972732026836588,0.948529613715053,1.00703580584183,1.05851610880767,1.02917588891392,1.04428687245747,1.01677137983625,0.960315169628939,0.904439519801022,0.892434933241355,0.922180996396266,0.94501743543295,0.958106965345693,1.08139400923951,1.09342551748335,1.06642099036458,1.02333658899925,0.935866915879569,0.925077609462647,0.990191088701112,0.955609540546846,1.00583167898211,1.25637293176906,1.18387977163554,1.15638543056754,1.02965218566587,1.00019439707322,0.975178493376188,0.882889917692004,1.1111315266036,0.858291344461587,0]},{\"_typename\":\"TH1D\",\"fUniqueID\":0,\"fBits\":50331656,\"fName\":\"ratioPt_preFSR\",\"fTitle\":\"hPtUnfoldedData_\",\"fLineColor\":616,\"fLineStyle\":1,\"fLineWidth\":1,\"fFillColor\":0,\"fFillStyle\":1001,\"fMarkerColor\":616,\"fMarkerStyle\":22,\"fMarkerSize\":0.8,\"fNcells\":47,\"fXaxis\":{\"_typename\":\"TAxis\",\"fUniqueID\":0,\"fBits\":50331648,\"fName\":\"xaxis\",\"fTitle\":\"Gen_Pt\",\"fNdivisions\":510,\"fAxisColor\":1,\"fLabelColor\":1,\"fLabelFont\":42,\"fLabelOffset\":0.005,\"fLabelSize\":0.035,\"fTickLength\":0.03,\"fTitleOffset\":1,\"fTitleSize\":0.035,\"fTitleColor\":1,\"fTitleFont\":42,\"fNbins\":45,\"fXmin\":0.5,\"fXmax\":45.5,\"fXbins\":[],\"fFirst\":0,\"fLast\":0,\"fBits2\":0,\"fTimeDisplay\":false,\"fTimeFormat\":\"\",\"fLabels\":null,\"fModLabs\":null},\"fYaxis\":{\"_typename\":\"TAxis\",\"fUniqueID\":0,\"fBits\":50331648,\"fName\":\"yaxis\",\"fTitle\":\"\",\"fNdivisions\":510,\"fAxisColor\":1,\"fLabelColor\":1,\"fLabelFont\":42,\"fLabelOffset\":0.005,\"fLabelSize\":0.035,\"fTickLength\":0.03,\"fTitleOffset\":0,\"fTitleSize\":0.035,\"fTitleColor\":1,\"fTitleFont\":42,\"fNbins\":1,\"fXmin\":0,\"fXmax\":1,\"fXbins\":[],\"fFirst\":0,\"fLast\":0,\"fBits2\":0,\"fTimeDisplay\":false,\"fTimeFormat\":\"\",\"fLabels\":null,\"fModLabs\":null},\"fZaxis\":{\"_typename\":\"TAxis\",\"fUniqueID\":0,\"fBits\":50331648,\"fName\":\"zaxis\",\"fTitle\":\"\",\"fNdivisions\":510,\"fAxisColor\":1,\"fLabelColor\":1,\"fLabelFont\":42,\"fLabelOffset\":0.005,\"fLabelSize\":0.035,\"fTickLength\":0.03,\"fTitleOffset\":1,\"fTitleSize\":0.035,\"fTitleColor\":1,\"fTitleFont\":42,\"fNbins\":1,\"fXmin\":0,\"fXmax\":1,\"fXbins\":[],\"fFirst\":0,\"fLast\":0,\"fBits2\":0,\"fTimeDisplay\":false,\"fTimeFormat\":\"\",\"fLabels\":null,\"fModLabs\":null},\"fBarOffset\":0,\"fBarWidth\":1000,\"fEntries\":86083.457848957,\"fTsumw\":45.2019159904878,\"fTsumw2\":0.0237352594826774,\"fTsumwx\":1041.81777137968,\"fTsumwx2\":31650.8123993018,\"fMaximum\":-1111,\"fMinimum\":-1111,\"fNormFactor\":0,\"fContour\":[],\"fSumw2\":[0,1.09970581489439e-4,7.82902325956836e-5,9.11025100878823e-5,8.32636856371062e-5,8.64280094672179e-5,2.00753798219969e-4,2.76709797056824e-4,3.22919207849013e-4,4.71479041192462e-4,4.14332060251976e-5,4.38815600790127e-5,6.81806453931247e-5,5.75365895634165e-5,5.03429291882862e-5,7.97161535151902e-5,1.47293789225686e-4,2.36448708252221e-4,4.39076147176872e-4,1.09064387619646e-6,1.00620179233335e-6,1.23099597011541e-6,8.41078761928449e-7,6.36841335017216e-7,9.53601366772613e-7,1.48712490387009e-6,2.27146968654138e-6,3.95170772908081e-6,3.8758043028046e-5,3.47498543388526e-5,4.17301573752197e-5,2.81274017094375e-5,2.3939898006757e-5,3.98256701554897e-5,6.15043808159615e-5,9.74995307456547e-5,1.35088810697234e-4,0.00194363365518217,0.00182388960159912,0.00196461717806354,0.00139938558779294,8.14268351351102e-4,0.00218486237131484,0.00308474483625909,0.00338090645649797,0.00373943144030752,0],\"fOption\":\"\",\"fFunctions\":{\"_typename\":\"TList\",\"name\":\"TList\",\"arr\":[],\"opt\":[]},\"fBufferSize\":0,\"fBuffer\":[],\"fBinStatErrOpt\":0,\"fStatOverflows\":2,\"fArray\":[0,1.05217321895914,1.05360984232516,0.987720820722983,0.992505162975264,0.93256437600745,0.88664156469903,0.974167172415419,0.969120868255343,0.972985569709256,1.11005923578194,1.11240756804235,1.0911504978442,1.03635548551653,0.965182332500507,0.981775322080898,0.941373205622982,1.01149440263806,1.08202067453413,1.02225783467225,1.03719652667028,1.00969656842107,0.953856420503273,0.898502775863887,0.886420469296304,0.915557135642029,0.938807572031563,0.951332588669133,1.07365867305992,1.08837549563593,1.05991958770857,1.01731663768225,0.929882858483946,0.91836870331509,0.983530951180501,0.947272878836803,0.999873564034201,1.25609838456983,1.18253513556835,1.15638598428101,1.01990528991592,0.993683091461408,0.971518762772748,0.870276502273624,1.11492861866421,0.851449658643071,0]},{\"_typename\":\"TH1D\",\"fUniqueID\":0,\"fBits\":50331656,\"fName\":\"ratioPt_preFSR_twoStep\",\"fTitle\":\"hPtFSRUnfoldedData\",\"fLineColor\":600,\"fLineStyle\":1,\"fLineWidth\":1,\"fFillColor\":0,\"fFillStyle\":1001,\"fMarkerColor\":600,\"fMarkerStyle\":20,\"fMarkerSize\":1,\"fNcells\":47,\"fXaxis\":{\"_typename\":\"TAxis\",\"fUniqueID\":0,\"fBits\":50331648,\"fName\":\"xaxis\",\"fTitle\":\"Gen_Pt\",\"fNdivisions\":510,\"fAxisColor\":1,\"fLabelColor\":1,\"fLabelFont\":42,\"fLabelOffset\":0.005,\"fLabelSize\":0.035,\"fTickLength\":0.03,\"fTitleOffset\":1,\"fTitleSize\":0.035,\"fTitleColor\":1,\"fTitleFont\":42,\"fNbins\":45,\"fXmin\":0.5,\"fXmax\":45.5,\"fXbins\":[],\"fFirst\":0,\"fLast\":0,\"fBits2\":0,\"fTimeDisplay\":false,\"fTimeFormat\":\"\",\"fLabels\":null,\"fModLabs\":null},\"fYaxis\":{\"_typename\":\"TAxis\",\"fUniqueID\":0,\"fBits\":50331648,\"fName\":\"yaxis\",\"fTitle\":\"\",\"fNdivisions\":510,\"fAxisColor\":1,\"fLabelColor\":1,\"fLabelFont\":42,\"fLabelOffset\":0.005,\"fLabelSize\":0.035,\"fTickLength\":0.03,\"fTitleOffset\":0,\"fTitleSize\":0.035,\"fTitleColor\":1,\"fTitleFont\":42,\"fNbins\":1,\"fXmin\":0,\"fXmax\":1,\"fXbins\":[],\"fFirst\":0,\"fLast\":0,\"fBits2\":0,\"fTimeDisplay\":false,\"fTimeFormat\":\"\",\"fLabels\":null,\"fModLabs\":null},\"fZaxis\":{\"_typename\":\"TAxis\",\"fUniqueID\":0,\"fBits\":50331648,\"fName\":\"zaxis\",\"fTitle\":\"\",\"fNdivisions\":510,\"fAxisColor\":1,\"fLabelColor\":1,\"fLabelFont\":42,\"fLabelOffset\":0.005,\"fLabelSize\":0.035,\"fTickLength\":0.03,\"fTitleOffset\":1,\"fTitleSize\":0.035,\"fTitleColor\":1,\"fTitleFont\":42,\"fNbins\":1,\"fXmin\":0,\"fXmax\":1,\"fXbins\":[],\"fFirst\":0,\"fLast\":0,\"fBits2\":0,\"fTimeDisplay\":false,\"fTimeFormat\":\"\",\"fLabels\":null,\"fModLabs\":null},\"fBarOffset\":0,\"fBarWidth\":1000,\"fEntries\":84583.1338921983,\"fTsumw\":45.9553115656093,\"fTsumw2\":0.0249682243245308,\"fTsumwx\":1050.29460678727,\"fTsumwx2\":31828.6074590062,\"fMaximum\":-1111,\"fMinimum\":-1111,\"fNormFactor\":0,\"fContour\":[],\"fSumw2\":[0,1.32380677926719e-4,9.03401013240679e-5,1.05713804396489e-4,9.57200902947772e-5,1.05909655054515e-4,2.45110121199797e-4,3.05121795695262e-4,3.4782782764104e-4,4.99806105141675e-4,4.49354379565006e-5,5.10213512085615e-5,8.76716172440734e-5,8.05114420794171e-5,7.18550242531979e-5,1.08358613513416e-4,1.94580568171091e-4,3.05818271253804e-4,5.57112096338325e-4,1.11509175787844e-6,1.0307880985618e-6,1.27250462134065e-6,8.64878168717191e-7,6.51240666769952e-7,9.73882309648249e-7,1.5163879349403e-6,2.31112024425734e-6,4.02202602036972e-6,3.96830095588381e-5,3.55430496995836e-5,4.29106071252029e-5,2.88583041240578e-5,2.45536532961701e-5,4.09851098686462e-5,6.28842754442824e-5,9.96298043128443e-5,1.3820129103239e-4,0.00192690273117988,0.00179399015418133,0.00197791008035576,0.00148170862130494,8.52604105402134e-4,0.00230458133037469,0.00320877898832444,0.00352840799850832,0.00393653868992202,0],\"fOption\":\"\",\"fFunctions\":{\"_typename\":\"TList\",\"name\":\"TList\",\"arr\":[],\"opt\":[]},\"fBufferSize\":0,\"fBuffer\":[],\"fBinStatErrOpt\":0,\"fStatOverflows\":2,\"fArray\":[0,1.13349309569625,1.13471722754858,1.06310224402752,1.04116751512802,0.975079327156511,0.91843524916662,0.99111479573509,0.985426089249563,0.984389443701932,1.12410041234193,1.13556627365877,1.11568780224031,1.06588098300798,0.982421124916314,1.01181040402361,0.963274488176514,1.03855265645738,1.10532592244385,1.02892718231084,1.04491205512552,1.01694125810433,0.959871424558641,0.903928081062402,0.892081230917655,0.922039291490909,0.944949435472651,0.958030363137115,1.08128240691081,1.09400845856602,1.06655207399106,1.02318294245368,0.934296038056227,0.923771182150844,0.990658912639523,0.954809814245988,1.00605327082182,1.25911130884646,1.18363244670141,1.15837300229985,1.02393362420502,0.997971895428074,0.97188867764787,0.874219488152974,1.11820134761359,0.852139298021308,0]},{\"_typename\":\"TLine\",\"fUniqueID\":0,\"fBits\":50331656,\"fLineColor\":632,\"fLineStyle\":1,\"fLineWidth\":1,\"fX1\":0.5,\"fY1\":1,\"fX2\":45.5,\"fY2\":1},{\"_typename\":\"TPaveText\",\"fUniqueID\":0,\"fBits\":50331657,\"fLineColor\":1,\"fLineStyle\":1,\"fLineWidth\":1,\"fFillColor\":0,\"fFillStyle\":0,\"fX1\":21.1058238366512,\"fY1\":1.32843567996127,\"fX2\":24.8941761633488,\"fY2\":1.37125000910834,\"fX1NDC\":0.466325757597806,\"fY1NDC\":0.937914233422926,\"fX2NDC\":0.533674242402194,\"fY2NDC\":0.995000004768372,\"fBorderSize\":0,\"fInit\":1,\"fShadowColor\":1,\"fCornerRadius\":0,\"fOption\":\"blNDC\",\"fName\":\"title\",\"fTextAngle\":0,\"fTextSize\":0,\"fTextAlign\":22,\"fTextColor\":1,\"fTextFont\":42,\"fLabel\":\"\",\"fLongest\":7,\"fMargin\":0.05,\"fLines\":{\"_typename\":\"TList\",\"name\":\"TList\",\"arr\":[{\"_typename\":\"TLatex\",\"fUniqueID\":0,\"fBits\":50331648,\"fName\":\"\",\"fTitle\":\"hPtData\",\"fTextAngle\":0,\"fTextSize\":0,\"fTextAlign\":0,\"fTextColor\":0,\"fTextFont\":0,\"fX\":0,\"fY\":0,\"fLineColor\":1,\"fLineStyle\":1,\"fLineWidth\":2,\"fLimitFactorSize\":3,\"fOriginSize\":0.0485229045152664}],\"opt\":[\"\"]}}],\"opt\":[\"\",\"pe\",\"pe same\",\"pe same\",\"pe same\",\"same\",\"blNDC\"]},\"fExecs\":{\"_typename\":\"TList\",\"name\":\"TList\",\"arr\":[],\"opt\":[]},\"fName\":\"ratio_pt\",\"fTitle\":\"ratio_pt\",\"fNumPaletteColor\":0,\"fNextPaletteColor\":0}],\"opt\":[\"\",\"\"]},\"fExecs\":{\"_typename\":\"TList\",\"name\":\"TList\",\"arr\":[],\"opt\":[]},\"fName\":\"c_2\",\"fTitle\":\"c_2\",\"fNumPaletteColor\":0,\"fNextPaletteColor\":0}],\"opt\":[\"\",\"\"]},\"fExecs\":null,\"fName\":\"c\",\"fTitle\":\"c\",\"fNumPaletteColor\":0,\"fNextPaletteColor\":0,\"fDISPLAY\":\"$DISPLAY\",\"fDoubleBuffer\":0,\"fRetained\":true,\"fXsizeUser\":0,\"fYsizeUser\":0,\"fXsizeReal\":20,\"fYsizeReal\":8,\"fWindowTopX\":0,\"fWindowTopY\":0,\"fWindowWidth\":0,\"fWindowHeight\":0,\"fCw\":1496,\"fCh\":572,\"fCatt\":{\"_typename\":\"TAttCanvas\",\"fXBetween\":2,\"fYBetween\":2,\"fTitleFromTop\":1.2,\"fXdate\":0.2,\"fYdate\":0.3,\"fAdate\":1},\"kMoveOpaque\":true,\"kResizeOpaque\":true,\"fHighLightColor\":2,\"fBatch\":true,\"kShowEventStatus\":false,\"kAutoExec\":true,\"kMenuBar\":true});\n",
       "       Core.draw(\"root_plot_1\", obj, \"\");\n",
       "     }\n",
       " );\n",
       "</script>\n"
      ],
      "text/plain": [
       "<IPython.core.display.HTML object>"
      ]
     },
     "metadata": {},
     "output_type": "display_data"
    }
   ],
   "source": [
    "# Canvas for mass distribution\n",
    "colorDetector = rt.kBlack\n",
    "colorDressed  = rt.kRed\n",
    "colorPreFSR   = rt.kBlue\n",
    "\n",
    "c.cd(1)\n",
    "\n",
    "pad_mass.cd()\n",
    "pad_mass.SetLogy()\n",
    "pad_mass.SetLogx()\n",
    "pad_mass.SetGridy()\n",
    "pad_mass.SetGridx()\n",
    "\n",
    "hMassData.SetMarkerStyle(20)\n",
    "hMassData.SetLineColor(colorDetector)\n",
    "hMassData.SetMarkerColor(colorDetector)\n",
    "\n",
    "hMassUnfoldedData.SetMarkerStyle(20)\n",
    "hMassUnfoldedData.SetLineColor(colorDressed)\n",
    "hMassUnfoldedData.SetMarkerColor(colorDressed)\n",
    "\n",
    "hMassFSRUnfoldedData.SetMarkerStyle(20)\n",
    "hMassFSRUnfoldedData.SetMarkerColor(colorPreFSR)\n",
    "hMassFSRUnfoldedData.SetLineColor(colorPreFSR)\n",
    "\n",
    "hMassUnfoldedData_.SetMarkerStyle(22)\n",
    "hMassUnfoldedData_.SetMarkerSize(0.5)\n",
    "hMassUnfoldedData_.SetLineColor(rt.kMagenta)\n",
    "hMassUnfoldedData_.SetMarkerColor(rt.kMagenta)\n",
    "\n",
    "hMassUnfoldedMC_closure.SetMarkerStyle(25)\n",
    "hMassUnfoldedMC_closure.SetLineColor(rt.kMagenta)\n",
    "\n",
    "hMassUnfoldedData.GetYaxis().SetTitle(\"Events/ bin\")\n",
    "\n",
    "hMassUnfoldedData.SetStats(rt.kFALSE)\n",
    "hMassUnfoldedData.Draw(\"hist pe\")\n",
    "\n",
    "hMassFSRUnfoldedData.Draw(\"pe same\")\n",
    "hMassUnfoldedData_.Draw(\"pe same\")\n",
    "hMassUnfoldedMC_closure.Draw(\"pe same\")\n",
    "hMassData.Draw(\"pe same\")\n",
    "\n",
    "hMassUnfoldedData.GetYaxis().SetNdivisions(10)\n",
    "hMassUnfoldedData.GetXaxis().SetNdivisions(520)\n",
    "\n",
    "hMassUnfoldedData.SetMaximum(5e8)\n",
    "hMassUnfoldedData.SetMinimum(1)\n",
    "\n",
    "legend_mass = rt.TLegend(0.7, 0.7, 0.9, 0.9)\n",
    "legend_mass.AddEntry(hMassData, \"Detector  data\", \"ple\")\n",
    "legend_mass.AddEntry(hMassUnfoldedData, \"Det unfolded data\", \"ple\")\n",
    "legend_mass.AddEntry(hMassFSRUnfoldedData, \"Pre-FSR unfolded data\", \"ple\")\n",
    "legend_mass.Draw()\n",
    "\n",
    "c.cd(1)\n",
    "\n",
    "ratio_mass.cd()\n",
    "ratio_mass.SetLogx()\n",
    "ratio_mass.SetGridx()\n",
    "ratio_mass.SetGridy()\n",
    "\n",
    "ratioMass_detector = hMassData.Clone(\"ratioMass_detector\")\n",
    "ratioMass_dressed = hMassUnfoldedData.Clone(\"ratioMass_dressed\")\n",
    "ratioMass_preFSR = hMassUnfoldedData_.Clone(\"ratioMass_preFSR\")\n",
    "ratioMass_preFSR_twoStep = hMassFSRUnfoldedData.Clone(\"ratioMass_preFSR_twoStep\")\n",
    "ratioMassMC_preFSR = hMassUnfoldedMC_closure.Clone(\"ratioMassMC_preFSR\")\n",
    "ratioMass_detector.Divide(hDYMC_detector)\n",
    "ratioMass_dressed.Divide(hMassMCTruth)\n",
    "ratioMass_preFSR.Divide(hMassUnfoldedMC_)\n",
    "ratioMass_preFSR_twoStep.Divide(hMassMCTruth_preFSR)\n",
    "ratioMassMC_preFSR.Divide(hMassMCTruth)\n",
    "ratioMass_detector.SetStats(rt.kFALSE)\n",
    "ratioMass_detector.Draw(\"pe\")\n",
    "ratioMass_dressed.Draw(\"pe same\")\n",
    "ratioMass_preFSR.Draw(\"pe same\")\n",
    "ratioMassMC_preFSR.Draw(\"pe same\")\n",
    "ratioMass_preFSR_twoStep.Draw(\"pe same\")\n",
    "ratioMass_detector.SetMinimum(0.7)\n",
    "ratioMass_detector.SetMaximum(1.3)\n",
    "\n",
    "line_mass = rt.TLine(20, 1, 1000, 1)\n",
    "line_mass.SetLineColor(rt.kRed)\n",
    "line_mass.Draw(\"same\")\n",
    "\n",
    "ratioMass_detector.GetYaxis().SetTitle(\"Data/ MC\")\n",
    "\n",
    "# Canavs for pt distributions\n",
    "c.cd(2)\n",
    "pad_pt.cd()\n",
    "pad_pt.SetLogy()\n",
    "#c.SetLogx()\n",
    "pad_pt.SetGridy()\n",
    "pad_pt.SetGridx()\n",
    "\n",
    "hPtData.SetMarkerStyle(20)\n",
    "hPtData.SetLineColor(colorDetector)\n",
    "hPtData.SetMarkerColor(colorDetector)\n",
    "\n",
    "hPtUnfoldedData.SetMarkerStyle(20)\n",
    "hPtUnfoldedData.SetLineColor(colorDressed)\n",
    "hPtUnfoldedData.SetMarkerColor(colorDressed)\n",
    "\n",
    "hPtFSRUnfoldedData.SetMarkerStyle(20)\n",
    "hPtFSRUnfoldedData.SetMarkerColor(colorPreFSR)\n",
    "hPtFSRUnfoldedData.SetLineColor(colorPreFSR)\n",
    "\n",
    "hPtUnfoldedData_.SetMarkerStyle(22)\n",
    "hPtUnfoldedData_.SetMarkerSize(0.8)\n",
    "hPtUnfoldedData_.SetLineColor(rt.kMagenta)\n",
    "hPtUnfoldedData_.SetMarkerColor(rt.kMagenta)\n",
    "\n",
    "hPtUnfoldedData.SetStats(rt.kFALSE)\n",
    "hPtUnfoldedData.Draw(\"hist pe\")\n",
    "\n",
    "hPtFSRUnfoldedData.Draw(\"pe same\")\n",
    "hPtUnfoldedData_.Draw(\"pe same\")\n",
    "#hPtUnfoldedMC_closure.Draw(\"pe same\")\n",
    "hPtData.Draw(\"pe same\")\n",
    "\n",
    "hPtUnfoldedData.GetYaxis().SetTitle(\"Events/ bin\")\n",
    "\n",
    "hPtUnfoldedData.GetYaxis().SetNdivisions(10)\n",
    "hPtUnfoldedData.GetXaxis().SetNdivisions(520)\n",
    "\n",
    "hPtUnfoldedData.SetMaximum(5e8)\n",
    "hPtUnfoldedData.SetMinimum(1)\n",
    "\n",
    "legend_pt = rt.TLegend(0.7, 0.7, 0.9, 0.9)\n",
    "legend_pt.AddEntry(hPtData, \"Detector  data\", \"ple\")\n",
    "legend_pt.AddEntry(hPtUnfoldedData, \"Det unfolded data\", \"ple\")\n",
    "legend_pt.AddEntry(hPtFSRUnfoldedData, \"Pre-FSR unfolded data\", \"ple\")\n",
    "legend_pt.Draw()\n",
    "\n",
    "c.cd(2)\n",
    "\n",
    "\n",
    "ratio_pt.cd()\n",
    "#ratio_pt.SetLogx()\n",
    "ratio_pt.SetGridx()\n",
    "ratio_pt.SetGridy()\n",
    "\n",
    "ratioPt_detector = hPtData.Clone(\"ratioPt_detector\")\n",
    "ratioPt_dressed = hPtUnfoldedData.Clone(\"ratioPt_dressed\")\n",
    "ratioPt_preFSR = hPtUnfoldedData_.Clone(\"ratioPt_preFSR\")\n",
    "ratioPt_preFSR_twoStep = hPtFSRUnfoldedData.Clone(\"ratioPt_preFSR_twoStep\")\n",
    "#ratioPt_preFSR = hPtFSRUnfoldedData.Clone(\"ratioPt_preFSR\")\n",
    "ratioPt_detector.Divide(hDYMCPt_detector)\n",
    "ratioPt_dressed.Divide(hPtMCTruth)\n",
    "ratioPt_preFSR.Divide(hPtUnfoldedMC_)\n",
    "ratioPt_preFSR_twoStep.Divide(hPtMCTruth_preFSR)\n",
    "ratioPt_detector.SetStats(rt.kFALSE)\n",
    "ratioPt_detector.Draw(\"pe\")\n",
    "ratioPt_dressed.Draw(\"pe same\")\n",
    "ratioPt_preFSR.Draw(\"pe same\")\n",
    "ratioPt_preFSR_twoStep.Draw(\"pe same\")\n",
    "ratioPt_detector.SetMinimum(0.7)\n",
    "ratioPt_detector.SetMaximum(1.3)\n",
    "\n",
    "line_pt = rt.TLine(0.5, 1, 45.5, 1)\n",
    "line_pt.SetLineColor(rt.kRed)\n",
    "line_pt.Draw(\"same\")\n",
    "\n",
    "ratioMass_detector.GetYaxis().SetTitle(\"Data/ MC\")\n",
    "\n",
    "c.Draw()\n",
    "c.SaveAs(\"Mass_Pt.pdf\")"
   ]
  },
  {
   "cell_type": "code",
   "execution_count": 22,
   "metadata": {},
   "outputs": [
    {
     "data": {
      "text/plain": [
       "84891.95863272916"
      ]
     },
     "execution_count": 22,
     "metadata": {},
     "output_type": "execute_result"
    }
   ],
   "source": [
    "hMassMCTruth.GetBinContent(1)"
   ]
  },
  {
   "cell_type": "markdown",
   "metadata": {},
   "source": [
    "- Understand how the response matrix handled (Underflow/Overflow, 0 bin...)\n",
    "- Check if the unfolding result of the last mass bin could be improved (Regularisation?) \n",
    "- Input correlation matrix\n",
    "- How to handle systematics within TUfold"
   ]
  },
  {
   "cell_type": "code",
   "execution_count": 23,
   "metadata": {},
   "outputs": [
    {
     "name": "stdout",
     "output_type": "stream",
     "text": [
      "ISRUnfold::setMeanMass()   Save mean of dilepton...\n",
      "Detector, 0 th mass bin, mean: 51.7304 +/- 0.0136274\n",
      "Unfolded, 0 th mass bin, mean: 51.4806 +/- 0.0205665\n",
      "MC, 0 th mass bin, mean: 51.5417 +/- 0.00568539\n",
      "Detector, 1 th mass bin, mean: 73.4955 +/- 0.00671868\n",
      "Unfolded, 1 th mass bin, mean: 72.6616 +/- 0.0173771\n",
      "MC, 1 th mass bin, mean: 72.5916 +/- 0.00426107\n",
      "Detector, 2 th mass bin, mean: 90.0745 +/- 0.00108449\n",
      "Unfolded, 2 th mass bin, mean: 90.9392 +/- 0.00217281\n",
      "MC, 2 th mass bin, mean: 91.0142 +/- 0.000622185\n",
      "Detector, 3 th mass bin, mean: 119.15 +/- 0.0327042\n",
      "Unfolded, 3 th mass bin, mean: 118.073 +/- 0.0615419\n",
      "MC, 3 th mass bin, mean: 117.896 +/- 0.0184397\n",
      "Detector, 4 th mass bin, mean: 242.665 +/- 0.304115\n",
      "Unfolded, 4 th mass bin, mean: 241.86 +/- 0.350869\n",
      "MC, 4 th mass bin, mean: 241.336 +/- 0.147776\n"
     ]
    }
   ],
   "source": [
    "nBins = unfold_det.setMeanMass()"
   ]
  },
  {
   "cell_type": "code",
   "execution_count": 24,
   "metadata": {
    "scrolled": false
   },
   "outputs": [
    {
     "data": {
      "text/plain": [
       "5"
      ]
     },
     "execution_count": 24,
     "metadata": {},
     "output_type": "execute_result"
    },
    {
     "name": "stdout",
     "output_type": "stream",
     "text": [
      "ISRUnfold::setMeanMass()   Save mean of dilepton...\n",
      "Detector, 0 th mass bin, mean: 51.7304 +/- 0.0136274\n",
      "Unfolded, 0 th mass bin, mean: 48.2794 +/- 0.0297984\n",
      "MC, 0 th mass bin, mean: 48.1471 +/- 0.0024279\n",
      "Detector, 1 th mass bin, mean: 73.4955 +/- 0.00671868\n",
      "Unfolded, 1 th mass bin, mean: 71.9156 +/- 0.0259047\n",
      "MC, 1 th mass bin, mean: 71.7816 +/- 0.00334747\n",
      "Detector, 2 th mass bin, mean: 90.0745 +/- 0.00108449\n",
      "Unfolded, 2 th mass bin, mean: 91.1431 +/- 0.00222321\n",
      "MC, 2 th mass bin, mean: 91.2261 +/- 0.000399366\n",
      "Detector, 3 th mass bin, mean: 119.15 +/- 0.0327042\n",
      "Unfolded, 3 th mass bin, mean: 117.2 +/- 0.0624621\n",
      "MC, 3 th mass bin, mean: 117.015 +/- 0.0121459\n",
      "Detector, 4 th mass bin, mean: 242.665 +/- 0.304115\n",
      "Unfolded, 4 th mass bin, mean: 240.741 +/- 0.356423\n",
      "MC, 4 th mass bin, mean: 240.21 +/- 0.109427\n"
     ]
    }
   ],
   "source": [
    "unfold_oneStep.setMeanMass()"
   ]
  },
  {
   "cell_type": "code",
   "execution_count": 25,
   "metadata": {},
   "outputs": [
    {
     "data": {
      "text/plain": [
       "5"
      ]
     },
     "execution_count": 25,
     "metadata": {},
     "output_type": "execute_result"
    },
    {
     "name": "stdout",
     "output_type": "stream",
     "text": [
      "ISRUnfold::setMeanPt()   Save mean of dilepton momentum...\n",
      "Detector, 0 th mass bin, mean: 20.8691 +/- 0.0484689\n",
      "Unfolded, 0 th mass bin, mean: 20.3227 +/- 0.0598295\n",
      "Detector, 1 th mass bin, mean: 19.0295 +/- 0.0204366\n",
      "Unfolded, 1 th mass bin, mean: 19.6676 +/- 0.0350529\n",
      "Detector, 2 th mass bin, mean: 19.523 +/- 0.00555897\n",
      "Unfolded, 2 th mass bin, mean: 20.0612 +/- 0.00715524\n",
      "Detector, 3 th mass bin, mean: 21.5118 +/- 0.0317312\n",
      "Unfolded, 3 th mass bin, mean: 21.9061 +/- 0.0437401\n",
      "Detector, 4 th mass bin, mean: 25.5293 +/- 0.213364\n",
      "Unfolded, 4 th mass bin, mean: 26.1884 +/- 0.316822\n"
     ]
    }
   ],
   "source": [
    "unfold_det.setMeanPt()"
   ]
  },
  {
   "cell_type": "code",
   "execution_count": 26,
   "metadata": {},
   "outputs": [
    {
     "data": {
      "text/plain": [
       "5"
      ]
     },
     "execution_count": 26,
     "metadata": {},
     "output_type": "execute_result"
    },
    {
     "name": "stdout",
     "output_type": "stream",
     "text": [
      "ISRUnfold::setMeanPt()   Save mean of dilepton momentum...\n",
      "Detector, 0 th mass bin, mean: 20.8691 +/- 0.0484689\n",
      "Unfolded, 0 th mass bin, mean: 13.3279 +/- 0.0561687\n",
      "Detector, 1 th mass bin, mean: 19.0295 +/- 0.0204366\n",
      "Unfolded, 1 th mass bin, mean: 16.3366 +/- 0.0452262\n",
      "Detector, 2 th mass bin, mean: 19.523 +/- 0.00555897\n",
      "Unfolded, 2 th mass bin, mean: 18.2452 +/- 0.00692309\n",
      "Detector, 3 th mass bin, mean: 21.5118 +/- 0.0317312\n",
      "Unfolded, 3 th mass bin, mean: 20.0476 +/- 0.0419933\n",
      "Detector, 4 th mass bin, mean: 25.5293 +/- 0.213364\n",
      "Unfolded, 4 th mass bin, mean: 24.657 +/- 0.312982\n"
     ]
    }
   ],
   "source": [
    "unfold_oneStep.setMeanPt()"
   ]
  },
  {
   "cell_type": "code",
   "execution_count": 27,
   "metadata": {},
   "outputs": [
    {
     "data": {
      "text/plain": [
       "5"
      ]
     },
     "execution_count": 27,
     "metadata": {},
     "output_type": "execute_result"
    },
    {
     "name": "stdout",
     "output_type": "stream",
     "text": [
      "ISRUnfold::setMeanPt()   Save mean of dilepton momentum...\n",
      "Detector, 0 th mass bin, mean: 20.3227 +/- 0.0598295\n",
      "Unfolded, 0 th mass bin, mean: 13.105 +/- 0.0565041\n",
      "Detector, 1 th mass bin, mean: 19.6676 +/- 0.0350529\n",
      "Unfolded, 1 th mass bin, mean: 16.3764 +/- 0.049965\n",
      "Detector, 2 th mass bin, mean: 20.0612 +/- 0.00715524\n",
      "Unfolded, 2 th mass bin, mean: 18.2434 +/- 0.0069644\n",
      "Detector, 3 th mass bin, mean: 21.9061 +/- 0.0437401\n",
      "Unfolded, 3 th mass bin, mean: 20.0525 +/- 0.0422819\n",
      "Detector, 4 th mass bin, mean: 26.1884 +/- 0.316822\n",
      "Unfolded, 4 th mass bin, mean: 24.6587 +/- 0.316826\n"
     ]
    }
   ],
   "source": [
    "unfold_fsr.setMeanPt()"
   ]
  },
  {
   "cell_type": "code",
   "execution_count": 28,
   "metadata": {},
   "outputs": [
    {
     "data": {
      "text/plain": [
       "5"
      ]
     },
     "execution_count": 28,
     "metadata": {},
     "output_type": "execute_result"
    },
    {
     "name": "stdout",
     "output_type": "stream",
     "text": [
      "ISRUnfold::setMeanMass()   Save mean of dilepton...\n",
      "Detector, 0 th mass bin, mean: 51.4806 +/- 0.0205665\n",
      "Unfolded, 0 th mass bin, mean: 48.1416 +/- 0.0300364\n",
      "MC, 0 th mass bin, mean: 48.1471 +/- 0.0024279\n",
      "Detector, 1 th mass bin, mean: 72.6616 +/- 0.0173771\n",
      "Unfolded, 1 th mass bin, mean: 71.9143 +/- 0.0283834\n",
      "MC, 1 th mass bin, mean: 71.7816 +/- 0.00334747\n",
      "Detector, 2 th mass bin, mean: 90.9392 +/- 0.00217281\n",
      "Unfolded, 2 th mass bin, mean: 91.1438 +/- 0.0022117\n",
      "MC, 2 th mass bin, mean: 91.2261 +/- 0.000399366\n",
      "Detector, 3 th mass bin, mean: 118.073 +/- 0.0615419\n",
      "Unfolded, 3 th mass bin, mean: 117.187 +/- 0.0620504\n",
      "MC, 3 th mass bin, mean: 117.015 +/- 0.0121459\n",
      "Detector, 4 th mass bin, mean: 241.86 +/- 0.350869\n",
      "Unfolded, 4 th mass bin, mean: 240.749 +/- 0.358521\n",
      "MC, 4 th mass bin, mean: 240.21 +/- 0.109427\n"
     ]
    }
   ],
   "source": [
    "unfold_fsr.setMeanMass()"
   ]
  },
  {
   "cell_type": "code",
   "execution_count": 29,
   "metadata": {},
   "outputs": [
    {
     "data": {
      "text/plain": [
       "5"
      ]
     },
     "execution_count": 29,
     "metadata": {},
     "output_type": "execute_result"
    },
    {
     "name": "stdout",
     "output_type": "stream",
     "text": [
      "ISRUnfold::setMeanPt()   Save mean of dilepton momentum...\n",
      "Detector, 0 th mass bin, mean: 21.363 +/- 0.100746\n",
      "Unfolded, 0 th mass bin, mean: 20.8228 +/- 0.122358\n",
      "Detector, 1 th mass bin, mean: 19.6549 +/- 0.0362685\n",
      "Unfolded, 1 th mass bin, mean: 20.313 +/- 0.0626002\n",
      "Detector, 2 th mass bin, mean: 20.2065 +/- 0.010671\n",
      "Unfolded, 2 th mass bin, mean: 20.7632 +/- 0.0134877\n",
      "Detector, 3 th mass bin, mean: 22.2752 +/- 0.056974\n",
      "Unfolded, 3 th mass bin, mean: 22.6897 +/- 0.0779887\n",
      "Detector, 4 th mass bin, mean: 27.1895 +/- 0.309396\n",
      "Unfolded, 4 th mass bin, mean: 27.9746 +/- 0.473389\n",
      "ISRUnfold::setMeanMass()   Save mean of dilepton...\n",
      "Detector, 0 th mass bin, mean: 51.6662 +/- 0.0284996\n",
      "Unfolded, 0 th mass bin, mean: 51.3967 +/- 0.0425552\n",
      "MC, 0 th mass bin, mean: 51.5417 +/- 0.00568539\n",
      "Detector, 1 th mass bin, mean: 73.4669 +/- 0.0118911\n",
      "Unfolded, 1 th mass bin, mean: 72.5789 +/- 0.0310935\n",
      "MC, 1 th mass bin, mean: 72.5916 +/- 0.00426107\n",
      "Detector, 2 th mass bin, mean: 90.1121 +/- 0.00206406\n",
      "Unfolded, 2 th mass bin, mean: 91.0125 +/- 0.00413423\n",
      "MC, 2 th mass bin, mean: 91.0142 +/- 0.000622185\n",
      "Detector, 3 th mass bin, mean: 118.943 +/- 0.0581646\n",
      "Unfolded, 3 th mass bin, mean: 117.877 +/- 0.110926\n",
      "MC, 3 th mass bin, mean: 117.896 +/- 0.0184397\n",
      "Detector, 4 th mass bin, mean: 242.224 +/- 0.432265\n",
      "Unfolded, 4 th mass bin, mean: 241.357 +/- 0.498091\n",
      "MC, 4 th mass bin, mean: 241.336 +/- 0.147776\n"
     ]
    }
   ],
   "source": [
    "unfold_closure.setMeanPt()\n",
    "unfold_closure.setMeanMass()"
   ]
  },
  {
   "cell_type": "code",
   "execution_count": 30,
   "metadata": {},
   "outputs": [],
   "source": [
    "c_PtVsMass = rt.TCanvas(\"PtVsMass\",\"PtVsMass\", 900, 600)\n",
    "c_PtVsMass.SetGridx()\n",
    "c_PtVsMass.SetGridy()\n",
    "c_PtVsMass.SetLogx()"
   ]
  },
  {
   "cell_type": "code",
   "execution_count": 39,
   "metadata": {},
   "outputs": [],
   "source": [
    "from array import array\n",
    "meanMass, meanPt = array('d'), array('d')\n",
    "meanMassUnf, meanPtUnf = array('d'), array('d')\n",
    "meanMassUnfStatErr, meanPtUnfStatErr = array('d'), array('d')\n",
    "meanMassFSRUnf, meanPtFSRUnf = array('d'), array('d')\n",
    "meanMassFSRUnfStatErr, meanPtFSRUnfStatErr = array('d'), array('d')\n",
    "\n",
    "meanMassFSRUnf_twoStep, meanPtFSRUnf_twoStep = array('d'), array('d')\n",
    "meanMassFSRUnf_twoStepStatErr, meanPtFSRUnf_twoStepStatErr = array('d'), array('d')\n",
    "\n",
    "meanMassFSRUnfMC, meanPtFSRUnfMC = array('d'), array('d')\n",
    "meanMassFSRUnfMCStatErr, meanPtFSRUnfMCStatErr = array('d'), array('d')\n",
    "\n",
    "meanMassFSRMC, meanPtFSRMC = array('d'), array('d')\n",
    "\n",
    "for ibin in range(nBins):\n",
    "    meanMass.append(unfold_det.getDetMeanMass(ibin))\n",
    "    meanPt.append(unfold_det.getDetMeanPt(ibin))\n",
    "    \n",
    "    meanMassUnf.append(unfold_det.getUnfMeanMass(ibin))\n",
    "    meanPtUnf.append(unfold_det.getUnfMeanPt(ibin))\n",
    "    meanMassUnfStatErr.append(unfold_det.getUnfMeanMassError(ibin))\n",
    "    meanPtUnfStatErr.append(unfold_det.getUnfMeanPtError(ibin))\n",
    "    \n",
    "    meanMassFSRUnf.append(unfold_oneStep.getUnfMeanMass(ibin))\n",
    "    meanPtFSRUnf.append(unfold_oneStep.getUnfMeanPt(ibin))\n",
    "    meanMassFSRUnfStatErr.append(unfold_oneStep.getUnfMeanMassError(ibin))\n",
    "    meanPtFSRUnfStatErr.append(unfold_oneStep.getUnfMeanPtError(ibin))\n",
    "    \n",
    "    meanMassFSRUnf_twoStep.append(unfold_fsr.getUnfMeanMass(ibin))\n",
    "    meanPtFSRUnf_twoStep.append(unfold_fsr.getUnfMeanPt(ibin))\n",
    "    meanMassFSRUnf_twoStepStatErr.append(unfold_fsr.getUnfMeanMassError(ibin))\n",
    "    meanPtFSRUnf_twoStepStatErr.append(unfold_fsr.getUnfMeanPtError(ibin))\n",
    "    \n",
    "    meanMassFSRUnfMC.append(unfold_closure.getUnfMeanMass(ibin))\n",
    "    meanPtFSRUnfMC.append(unfold_closure.getUnfMeanPt(ibin))"
   ]
  },
  {
   "cell_type": "code",
   "execution_count": 40,
   "metadata": {},
   "outputs": [
    {
     "name": "stdout",
     "output_type": "stream",
     "text": [
      " FCN=23.2297 FROM MIGRAD    STATUS=CONVERGED      59 CALLS          60 TOTAL\n",
      "                     EDM=8.62727e-11    STRATEGY= 1      ERROR MATRIX ACCURATE \n",
      "  EXT PARAMETER                                   STEP         FIRST   \n",
      "  NO.   NAME      VALUE            ERROR          SIZE      DERIVATIVE \n",
      "   1  p0          -1.61472e+01   3.19412e-01   1.61229e-05   4.04989e-04\n",
      "   2  p1           7.62023e+00   7.08855e-02   3.63361e-06   1.64319e-03\n"
     ]
    },
    {
     "data": {
      "text/html": [
       "\n",
       "<div id=\"root_plot_3\"\n",
       "     style=\"width: 896px; height: 572px\">\n",
       "</div>\n",
       "\n",
       "<script>\n",
       " requirejs.config({\n",
       "     paths: {\n",
       "       'JSRootCore' : 'https://root.cern.ch/js/notebook//scripts/JSRootCore',\n",
       "     }\n",
       "   });\n",
       " require(['JSRootCore'],\n",
       "     function(Core) {\n",
       "       var obj = Core.JSONR_unref({\"_typename\":\"TCanvas\",\"fUniqueID\":0,\"fBits\":53673992,\"fLineColor\":1,\"fLineStyle\":1,\"fLineWidth\":1,\"fFillColor\":0,\"fFillStyle\":1001,\"fLeftMargin\":0.1,\"fRightMargin\":0.1,\"fBottomMargin\":0.1,\"fTopMargin\":0.1,\"fXfile\":2,\"fYfile\":2,\"fAfile\":1,\"fXstat\":0.99,\"fYstat\":0.99,\"fAstat\":2,\"fFrameFillColor\":0,\"fFrameLineColor\":1,\"fFrameFillStyle\":1001,\"fFrameLineStyle\":1,\"fFrameLineWidth\":1,\"fFrameBorderSize\":1,\"fFrameBorderMode\":0,\"fX1\":0.690359820090051,\"fY1\":1.24999972060321,\"fX2\":3.78676143462961,\"fY2\":38.7500002793968,\"fXtoAbsPixelk\":-199.768092445135,\"fXtoPixelk\":-199.768092445135,\"fXtoPixel\":289.368147785712,\"fYtoAbsPixelk\":591.066712120819,\"fYtoPixelk\":591.066712120819,\"fYtoPixel\":-15.2533331060409,\"fUtoAbsPixelk\":5e-5,\"fUtoPixelk\":5e-5,\"fUtoPixel\":896,\"fVtoAbsPixelk\":572.00005,\"fVtoPixelk\":572,\"fVtoPixel\":-572,\"fAbsPixeltoXk\":0.690359820090051,\"fPixeltoXk\":0.690359820090051,\"fPixeltoX\":0.00345580537337004,\"fAbsPixeltoYk\":38.7500002793968,\"fPixeltoYk\":1.24999972060321,\"fPixeltoY\":-0.0655594415363524,\"fXlowNDC\":0,\"fYlowNDC\":0,\"fXUpNDC\":0,\"fYUpNDC\":0,\"fWNDC\":1,\"fHNDC\":1,\"fAbsXlowNDC\":0,\"fAbsYlowNDC\":0,\"fAbsWNDC\":1,\"fAbsHNDC\":1,\"fUxmin\":1,\"fUymin\":5,\"fUxmax\":3.47712125471966,\"fUymax\":35,\"fTheta\":30,\"fPhi\":30,\"fAspectRatio\":0,\"fNumber\":0,\"fTickx\":0,\"fTicky\":0,\"fLogx\":1,\"fLogy\":0,\"fLogz\":0,\"fPadPaint\":0,\"fCrosshair\":0,\"fCrosshairPos\":0,\"fBorderSize\":2,\"fBorderMode\":0,\"fModified\":false,\"fGridx\":true,\"fGridy\":true,\"fAbsCoord\":false,\"fEditable\":true,\"fFixedAspectRatio\":false,\"fPrimitives\":{\"_typename\":\"TList\",\"name\":\"TList\",\"arr\":[{\"_typename\":\"TFrame\",\"fUniqueID\":0,\"fBits\":50331656,\"fLineColor\":1,\"fLineStyle\":1,\"fLineWidth\":1,\"fFillColor\":0,\"fFillStyle\":1001,\"fX1\":1,\"fY1\":5,\"fX2\":3.47712125471966,\"fY2\":35,\"fBorderSize\":1,\"fBorderMode\":0},{\"_typename\":\"TGraph\",\"fUniqueID\":0,\"fBits\":50332680,\"fName\":\"Graph\",\"fTitle\":\"Dilepton p_{T} vs. Mass\",\"fLineColor\":1,\"fLineStyle\":1,\"fLineWidth\":1,\"fFillColor\":0,\"fFillStyle\":1000,\"fMarkerColor\":1,\"fMarkerStyle\":20,\"fMarkerSize\":1,\"fNpoints\":5,\"fX\":[51.7304168598131,73.4954802945573,90.0744596241152,119.149538442165,242.664762063547],\"fY\":[20.8691472738635,19.0294974025012,19.5230375356598,21.5117690734392,25.5292639938507],\"fFunctions\":{\"_typename\":\"TList\",\"name\":\"TList\",\"arr\":[],\"opt\":[]},\"fHistogram\":{\"_typename\":\"TH1F\",\"fUniqueID\":0,\"fBits\":50332160,\"fName\":\"Graph\",\"fTitle\":\"Dilepton p_{T} vs. Mass\",\"fLineColor\":602,\"fLineStyle\":1,\"fLineWidth\":1,\"fFillColor\":0,\"fFillStyle\":1001,\"fMarkerColor\":1,\"fMarkerStyle\":1,\"fMarkerSize\":1,\"fNcells\":102,\"fXaxis\":{\"_typename\":\"TAxis\",\"fUniqueID\":0,\"fBits\":50331656,\"fName\":\"xaxis\",\"fTitle\":\"\",\"fNdivisions\":510,\"fAxisColor\":1,\"fLabelColor\":1,\"fLabelFont\":42,\"fLabelOffset\":0.005,\"fLabelSize\":0.035,\"fTickLength\":0.03,\"fTitleOffset\":1,\"fTitleSize\":0.035,\"fTitleColor\":1,\"fTitleFont\":42,\"fNbins\":100,\"fXmin\":10,\"fXmax\":3000,\"fXbins\":[],\"fFirst\":0,\"fLast\":0,\"fBits2\":0,\"fTimeDisplay\":false,\"fTimeFormat\":\"\",\"fLabels\":null,\"fModLabs\":null},\"fYaxis\":{\"_typename\":\"TAxis\",\"fUniqueID\":0,\"fBits\":50331656,\"fName\":\"yaxis\",\"fTitle\":\"\",\"fNdivisions\":510,\"fAxisColor\":1,\"fLabelColor\":1,\"fLabelFont\":42,\"fLabelOffset\":0.005,\"fLabelSize\":0.035,\"fTickLength\":0.03,\"fTitleOffset\":0,\"fTitleSize\":0.035,\"fTitleColor\":1,\"fTitleFont\":42,\"fNbins\":1,\"fXmin\":18.3795207433662,\"fXmax\":26.1792406529856,\"fXbins\":[],\"fFirst\":0,\"fLast\":0,\"fBits2\":0,\"fTimeDisplay\":false,\"fTimeFormat\":\"\",\"fLabels\":null,\"fModLabs\":null},\"fZaxis\":{\"_typename\":\"TAxis\",\"fUniqueID\":0,\"fBits\":50331648,\"fName\":\"zaxis\",\"fTitle\":\"\",\"fNdivisions\":510,\"fAxisColor\":1,\"fLabelColor\":1,\"fLabelFont\":42,\"fLabelOffset\":0.005,\"fLabelSize\":0.035,\"fTickLength\":0.03,\"fTitleOffset\":1,\"fTitleSize\":0.035,\"fTitleColor\":1,\"fTitleFont\":42,\"fNbins\":1,\"fXmin\":0,\"fXmax\":1,\"fXbins\":[],\"fFirst\":0,\"fLast\":0,\"fBits2\":0,\"fTimeDisplay\":false,\"fTimeFormat\":\"\",\"fLabels\":null,\"fModLabs\":null},\"fBarOffset\":0,\"fBarWidth\":1000,\"fEntries\":0,\"fTsumw\":0,\"fTsumw2\":0,\"fTsumwx\":0,\"fTsumwx2\":0,\"fMaximum\":35,\"fMinimum\":5,\"fNormFactor\":0,\"fContour\":[],\"fSumw2\":[],\"fOption\":\"\",\"fFunctions\":{\"_typename\":\"TList\",\"name\":\"TList\",\"arr\":[],\"opt\":[]},\"fBufferSize\":0,\"fBuffer\":[],\"fBinStatErrOpt\":0,\"fStatOverflows\":2,\"fArray\":[0,0,0,0,0,0,0,0,0,0,0,0,0,0,0,0,0,0,0,0,0,0,0,0,0,0,0,0,0,0,0,0,0,0,0,0,0,0,0,0,0,0,0,0,0,0,0,0,0,0,0,0,0,0,0,0,0,0,0,0,0,0,0,0,0,0,0,0,0,0,0,0,0,0,0,0,0,0,0,0,0,0,0,0,0,0,0,0,0,0,0,0,0,0,0,0,0,0,0,0,0,0]},\"fMinimum\":-1111,\"fMaximum\":-1111},{\"_typename\":\"TGraphErrors\",\"fUniqueID\":0,\"fBits\":50332680,\"fName\":\"Graph\",\"fTitle\":\"Graph\",\"fLineColor\":632,\"fLineStyle\":1,\"fLineWidth\":1,\"fFillColor\":0,\"fFillStyle\":1000,\"fMarkerColor\":632,\"fMarkerStyle\":20,\"fMarkerSize\":1,\"fNpoints\":5,\"fX\":[51.4806238848279,72.6615917224295,90.9391704332387,118.073360873194,241.860041395402],\"fY\":[20.322738200079,19.6676494393774,20.0611998425066,21.9060717001514,26.1884087486842],\"fFunctions\":{\"_typename\":\"TList\",\"name\":\"TList\",\"arr\":[],\"opt\":[]},\"fHistogram\":{\"_typename\":\"TH1F\",\"fUniqueID\":0,\"fBits\":50332160,\"fName\":\"Graph\",\"fTitle\":\"Graph\",\"fLineColor\":602,\"fLineStyle\":1,\"fLineWidth\":1,\"fFillColor\":0,\"fFillStyle\":1001,\"fMarkerColor\":1,\"fMarkerStyle\":1,\"fMarkerSize\":1,\"fNcells\":102,\"fXaxis\":{\"_typename\":\"TAxis\",\"fUniqueID\":0,\"fBits\":50331648,\"fName\":\"xaxis\",\"fTitle\":\"\",\"fNdivisions\":510,\"fAxisColor\":1,\"fLabelColor\":1,\"fLabelFont\":42,\"fLabelOffset\":0.005,\"fLabelSize\":0.035,\"fTickLength\":0.03,\"fTitleOffset\":1,\"fTitleSize\":0.035,\"fTitleColor\":1,\"fTitleFont\":42,\"fNbins\":100,\"fXmin\":32.3849720887778,\"fXmax\":261.285995199265,\"fXbins\":[],\"fFirst\":0,\"fLast\":0,\"fBits2\":0,\"fTimeDisplay\":false,\"fTimeFormat\":\"\",\"fLabels\":null,\"fModLabs\":null},\"fYaxis\":{\"_typename\":\"TAxis\",\"fUniqueID\":0,\"fBits\":50331648,\"fName\":\"yaxis\",\"fTitle\":\"\",\"fNdivisions\":510,\"fAxisColor\":1,\"fLabelColor\":1,\"fLabelFont\":42,\"fLabelOffset\":0.005,\"fLabelSize\":0.035,\"fTickLength\":0.03,\"fTitleOffset\":0,\"fTitleSize\":0.035,\"fTitleColor\":1,\"fTitleFont\":42,\"fNbins\":1,\"fXmin\":18.945333073177,\"fXmax\":27.1924942312084,\"fXbins\":[],\"fFirst\":0,\"fLast\":0,\"fBits2\":0,\"fTimeDisplay\":false,\"fTimeFormat\":\"\",\"fLabels\":null,\"fModLabs\":null},\"fZaxis\":{\"_typename\":\"TAxis\",\"fUniqueID\":0,\"fBits\":50331648,\"fName\":\"zaxis\",\"fTitle\":\"\",\"fNdivisions\":510,\"fAxisColor\":1,\"fLabelColor\":1,\"fLabelFont\":42,\"fLabelOffset\":0.005,\"fLabelSize\":0.035,\"fTickLength\":0.03,\"fTitleOffset\":1,\"fTitleSize\":0.035,\"fTitleColor\":1,\"fTitleFont\":42,\"fNbins\":1,\"fXmin\":0,\"fXmax\":1,\"fXbins\":[],\"fFirst\":0,\"fLast\":0,\"fBits2\":0,\"fTimeDisplay\":false,\"fTimeFormat\":\"\",\"fLabels\":null,\"fModLabs\":null},\"fBarOffset\":0,\"fBarWidth\":1000,\"fEntries\":0,\"fTsumw\":0,\"fTsumw2\":0,\"fTsumwx\":0,\"fTsumwx2\":0,\"fMaximum\":27.1924942312084,\"fMinimum\":18.945333073177,\"fNormFactor\":0,\"fContour\":[],\"fSumw2\":[],\"fOption\":\"\",\"fFunctions\":{\"_typename\":\"TList\",\"name\":\"TList\",\"arr\":[],\"opt\":[]},\"fBufferSize\":0,\"fBuffer\":[],\"fBinStatErrOpt\":0,\"fStatOverflows\":2,\"fArray\":[0,0,0,0,0,0,0,0,0,0,0,0,0,0,0,0,0,0,0,0,0,0,0,0,0,0,0,0,0,0,0,0,0,0,0,0,0,0,0,0,0,0,0,0,0,0,0,0,0,0,0,0,0,0,0,0,0,0,0,0,0,0,0,0,0,0,0,0,0,0,0,0,0,0,0,0,0,0,0,0,0,0,0,0,0,0,0,0,0,0,0,0,0,0,0,0,0,0,0,0,0,0]},\"fMinimum\":-1111,\"fMaximum\":-1111,\"fEX\":[0.0205665368428016,0.0173770985584545,0.00217281484527515,0.0615418524111326,0.350868544655932],\"fEY\":[0.0598294586365904,0.0350529363643702,0.00715523903573381,0.0437401351560304,0.316822052688259]},{\"_typename\":\"TGraphErrors\",\"fUniqueID\":0,\"fBits\":50332680,\"fName\":\"Graph\",\"fTitle\":\"Graph\",\"fLineColor\":600,\"fLineStyle\":1,\"fLineWidth\":1,\"fFillColor\":0,\"fFillStyle\":1000,\"fMarkerColor\":600,\"fMarkerStyle\":20,\"fMarkerSize\":1,\"fNpoints\":5,\"fX\":[48.2793758147063,71.9156360469952,91.1430612802342,117.199693539087,240.740662151527],\"fY\":[13.3278731870472,16.3365803583868,18.2452029040892,20.0475687395965,24.6569580641952],\"fFunctions\":{\"_typename\":\"TList\",\"name\":\"TList\",\"arr\":[{\"_typename\":\"TF1\",\"fUniqueID\":0,\"fBits\":50333192,\"fName\":\"f_lepton\",\"fTitle\":\"[0]+[1]*log(x)\",\"fLineColor\":600,\"fLineStyle\":2,\"fLineWidth\":1,\"fFillColor\":19,\"fFillStyle\":0,\"fMarkerColor\":1,\"fMarkerStyle\":1,\"fMarkerSize\":1,\"fXmin\":10,\"fXmax\":900,\"fNpar\":2,\"fNdim\":1,\"fNpx\":100,\"fType\":0,\"fNpfits\":5,\"fNDF\":3,\"fChisquare\":23.2297463901133,\"fMinimum\":-1111,\"fMaximum\":-1111,\"fParErrors\":[0.31941181095661,0.0708855113397926],\"fParMin\":[0,0],\"fParMax\":[0,0],\"fSave\":[1.39900760181463,6.24987261866942,9.1903239208155,11.3067735786621,12.9613625252275,14.319996966369,15.4726577868338,16.4736538931867,17.3582954908227,18.1508374002709,18.8686611384607,19.5246492348735,20.1286153282808,20.6882076280845,21.2095025808287,21.6974080747635,22.1559451073905,22.5884493890343,22.9977187293814,23.3861228141609,23.7556863315496,24.1081528539173,24.4450345855595,24.7676515705616,25.077162931869,25.3745920094209,25.6608467735646,25.936736540871,26.2029857680533,26.4602455162319,26.7091030423069,26.9500898730141,27.1836886408924,27.4103389032214,27.6304421202658,27.8443659344948,28.0524478653508,28.2549985128138,28.4523043461019,28.6446301403524,28.8322211132958,29.0153048051857,29.1940927381366,29.3687818852201,29.5395559749084,29.7065866525234,29.8700345171003,30.0300500493649,30.1867744442652,30.3403403596008,30.4908725906958,30.6384886797138,30.7832994670677,30.925409591406,31.0649179438239,31.2019180812386,31.336498603257,31.4687434963371,31.5987324485913,31.7265411381872,31.8522414979579,31.9759019585404,32.0975876720984,32.2173607184606,32.3352802953089,32.4514028938728,32.5657824614377,32.6784705518355,32.7895164649696,32.8989673763181,33.0068684572684,33.11326298705,33.2181924569599,33.3216966675099,33.4238138190632,33.5245805964782,33.6240322482291,33.7222026604285,33.819124426143,33.9148289103555,34.0093463108984,34.1027057156542,34.1949351562938,34.2860616588019,34.3761112910167,34.4651092073936,34.5530796911843,34.6400461942098,34.7260313743883,34.81105713117,34.8951446390168,34.9783143790544,35.0605861690158,35.1419791915861,35.2225120212483,35.3022026497268,35.3810685101125,35.459126499754,35.5363930019867,35.6128839067721,35.6886146303112,10,900],\"fNormalized\":false,\"fNormIntegral\":0,\"fFormula\":{\"_typename\":\"TFormula\",\"fUniqueID\":0,\"fBits\":50332672,\"fName\":\"f_lepton\",\"fTitle\":\"[0]+[1]*log(x)\",\"fClingParameters\":[-16.1472318556078,7.62023497451169],\"fAllParametersSetted\":true,\"fParams\":[{\"$pair\":\"pair<TString,int,TFormulaParamOrder>\",\"first\":\"p0\",\"second\":0},{\"$pair\":\"pair<TString,int,TFormulaParamOrder>\",\"first\":\"p1\",\"second\":1}],\"fFormula\":\"[p0]+[p1]*log(x)\",\"fNdim\":1,\"fLinearParts\":[],\"fVectorized\":false},\"fParams\":null,\"fComposition_ptr\":null}],\"opt\":[\"\"]},\"fHistogram\":{\"_typename\":\"TH1F\",\"fUniqueID\":0,\"fBits\":50332160,\"fName\":\"Graph\",\"fTitle\":\"Graph\",\"fLineColor\":602,\"fLineStyle\":1,\"fLineWidth\":1,\"fFillColor\":0,\"fFillStyle\":1001,\"fMarkerColor\":1,\"fMarkerStyle\":1,\"fMarkerSize\":1,\"fNcells\":102,\"fXaxis\":{\"_typename\":\"TAxis\",\"fUniqueID\":0,\"fBits\":50331648,\"fName\":\"xaxis\",\"fTitle\":\"\",\"fNdivisions\":510,\"fAxisColor\":1,\"fLabelColor\":1,\"fLabelFont\":42,\"fLabelOffset\":0.005,\"fLabelSize\":0.035,\"fTickLength\":0.03,\"fTitleOffset\":1,\"fTitleSize\":0.035,\"fTitleColor\":1,\"fTitleFont\":42,\"fNbins\":100,\"fXmin\":28.9648266440721,\"fXmax\":260.381835725222,\"fXbins\":[],\"fFirst\":0,\"fLast\":0,\"fBits2\":0,\"fTimeDisplay\":false,\"fTimeFormat\":\"\",\"fLabels\":null,\"fModLabs\":null},\"fYaxis\":{\"_typename\":\"TAxis\",\"fUniqueID\":0,\"fBits\":50331648,\"fName\":\"yaxis\",\"fTitle\":\"\",\"fNdivisions\":510,\"fAxisColor\":1,\"fLabelColor\":1,\"fLabelFont\":42,\"fLabelOffset\":0.005,\"fLabelSize\":0.035,\"fTickLength\":0.03,\"fTitleOffset\":0,\"fTitleSize\":0.035,\"fTitleColor\":1,\"fTitleFont\":42,\"fNbins\":1,\"fXmin\":12.1018809453427,\"fXmax\":26.1397636856955,\"fXbins\":[],\"fFirst\":0,\"fLast\":0,\"fBits2\":0,\"fTimeDisplay\":false,\"fTimeFormat\":\"\",\"fLabels\":null,\"fModLabs\":null},\"fZaxis\":{\"_typename\":\"TAxis\",\"fUniqueID\":0,\"fBits\":50331648,\"fName\":\"zaxis\",\"fTitle\":\"\",\"fNdivisions\":510,\"fAxisColor\":1,\"fLabelColor\":1,\"fLabelFont\":42,\"fLabelOffset\":0.005,\"fLabelSize\":0.035,\"fTickLength\":0.03,\"fTitleOffset\":1,\"fTitleSize\":0.035,\"fTitleColor\":1,\"fTitleFont\":42,\"fNbins\":1,\"fXmin\":0,\"fXmax\":1,\"fXbins\":[],\"fFirst\":0,\"fLast\":0,\"fBits2\":0,\"fTimeDisplay\":false,\"fTimeFormat\":\"\",\"fLabels\":null,\"fModLabs\":null},\"fBarOffset\":0,\"fBarWidth\":1000,\"fEntries\":0,\"fTsumw\":0,\"fTsumw2\":0,\"fTsumwx\":0,\"fTsumwx2\":0,\"fMaximum\":26.1397636856955,\"fMinimum\":12.1018809453427,\"fNormFactor\":0,\"fContour\":[],\"fSumw2\":[],\"fOption\":\"\",\"fFunctions\":{\"_typename\":\"TList\",\"name\":\"TList\",\"arr\":[],\"opt\":[]},\"fBufferSize\":0,\"fBuffer\":[],\"fBinStatErrOpt\":0,\"fStatOverflows\":2,\"fArray\":[0,0,0,0,0,0,0,0,0,0,0,0,0,0,0,0,0,0,0,0,0,0,0,0,0,0,0,0,0,0,0,0,0,0,0,0,0,0,0,0,0,0,0,0,0,0,0,0,0,0,0,0,0,0,0,0,0,0,0,0,0,0,0,0,0,0,0,0,0,0,0,0,0,0,0,0,0,0,0,0,0,0,0,0,0,0,0,0,0,0,0,0,0,0,0,0,0,0,0,0,0,0]},\"fMinimum\":-1111,\"fMaximum\":-1111,\"fEX\":[0.0297984138717425,0.0259047177494487,0.00222321463389554,0.062462080580194,0.356422816932843],\"fEY\":[0.0561686800084161,0.0452262242967064,0.00692309382175325,0.0419933398634689,0.312982059804268]},{\"_typename\":\"TLegend\",\"fUniqueID\":0,\"fBits\":50331656,\"fLineColor\":1,\"fLineStyle\":1,\"fLineWidth\":1,\"fFillColor\":0,\"fFillStyle\":1001,\"fX1\":2.85784095026774,\"fY1\":27.5000001117587,\"fX2\":3.47712127317566,\"fY2\":35.0000002235174,\"fX1NDC\":0.7,\"fY1NDC\":0.7,\"fX2NDC\":0.9,\"fY2NDC\":0.9,\"fBorderSize\":1,\"fInit\":1,\"fShadowColor\":1,\"fCornerRadius\":0,\"fOption\":\"brNDC\",\"fName\":\"TPave\",\"fTextAngle\":0,\"fTextSize\":0,\"fTextAlign\":12,\"fTextColor\":1,\"fTextFont\":42,\"fPrimitives\":{\"_typename\":\"TList\",\"name\":\"TList\",\"arr\":[{\"_typename\":\"TLegendEntry\",\"fUniqueID\":0,\"fBits\":50331656,\"fTextAngle\":0,\"fTextSize\":0,\"fTextAlign\":0,\"fTextColor\":0,\"fTextFont\":42,\"fLineColor\":1,\"fLineStyle\":1,\"fLineWidth\":1,\"fFillColor\":0,\"fFillStyle\":0,\"fMarkerColor\":1,\"fMarkerStyle\":20,\"fMarkerSize\":1,\"fObject\":{\"$ref\":3},\"fLabel\":\"Detector  data\",\"fOption\":\"ple\"},{\"_typename\":\"TLegendEntry\",\"fUniqueID\":0,\"fBits\":50331656,\"fTextAngle\":0,\"fTextSize\":0,\"fTextAlign\":0,\"fTextColor\":0,\"fTextFont\":42,\"fLineColor\":632,\"fLineStyle\":1,\"fLineWidth\":1,\"fFillColor\":0,\"fFillStyle\":0,\"fMarkerColor\":632,\"fMarkerStyle\":20,\"fMarkerSize\":1,\"fObject\":{\"$ref\":10},\"fLabel\":\"Det unfolded data\",\"fOption\":\"ple\"},{\"_typename\":\"TLegendEntry\",\"fUniqueID\":0,\"fBits\":50331656,\"fTextAngle\":0,\"fTextSize\":0,\"fTextAlign\":0,\"fTextColor\":0,\"fTextFont\":42,\"fLineColor\":600,\"fLineStyle\":1,\"fLineWidth\":1,\"fFillColor\":0,\"fFillStyle\":0,\"fMarkerColor\":600,\"fMarkerStyle\":20,\"fMarkerSize\":1,\"fObject\":{\"$ref\":17},\"fLabel\":\"Pre-FSR unfolded data\",\"fOption\":\"ple\"}],\"opt\":[\"ple\",\"ple\",\"ple\"]},\"fEntrySeparation\":0.1,\"fMargin\":0.25,\"fNColumns\":1,\"fColumnSeparation\":0},{\"_typename\":\"TF1\",\"fUniqueID\":0,\"fBits\":50331656,\"fName\":\"f_lepton\",\"fTitle\":\"[0]+[1]*log(x)\",\"fLineColor\":600,\"fLineStyle\":2,\"fLineWidth\":1,\"fFillColor\":19,\"fFillStyle\":0,\"fMarkerColor\":1,\"fMarkerStyle\":1,\"fMarkerSize\":1,\"fXmin\":10,\"fXmax\":900,\"fNpar\":2,\"fNdim\":1,\"fNpx\":100,\"fType\":0,\"fNpfits\":5,\"fNDF\":3,\"fChisquare\":23.2297463901133,\"fMinimum\":-1111,\"fMaximum\":-1111,\"fParErrors\":[0.31941181095661,0.0708855113397926],\"fParMin\":[0,0],\"fParMax\":[0,0],\"fSave\":[],\"fNormalized\":false,\"fNormIntegral\":0,\"fFormula\":{\"_typename\":\"TFormula\",\"fUniqueID\":0,\"fBits\":50332672,\"fName\":\"f_lepton\",\"fTitle\":\"[0]+[1]*log(x)\",\"fClingParameters\":[-16.1472318556078,7.62023497451169],\"fAllParametersSetted\":true,\"fParams\":[{\"$pair\":\"pair<TString,int,TFormulaParamOrder>\",\"first\":\"p0\",\"second\":0},{\"$pair\":\"pair<TString,int,TFormulaParamOrder>\",\"first\":\"p1\",\"second\":1}],\"fFormula\":\"[p0]+[p1]*log(x)\",\"fNdim\":1,\"fLinearParts\":[],\"fVectorized\":false},\"fParams\":null,\"fComposition_ptr\":null},{\"_typename\":\"TPaveText\",\"fUniqueID\":0,\"fBits\":50331657,\"fLineColor\":1,\"fLineStyle\":1,\"fLineWidth\":1,\"fFillColor\":0,\"fFillStyle\":0,\"fX1\":1.72205595625594,\"fY1\":35.5729899213591,\"fX2\":2.75506529846372,\"fY2\":38.5625004554168,\"fX1NDC\":0.333191964285714,\"fY1NDC\":0.915279725048092,\"fX2NDC\":0.666808035714286,\"fY2NDC\":0.995000004768372,\"fBorderSize\":0,\"fInit\":1,\"fShadowColor\":1,\"fCornerRadius\":0,\"fOption\":\"blNDC\",\"fName\":\"title\",\"fTextAngle\":0,\"fTextSize\":0,\"fTextAlign\":22,\"fTextColor\":1,\"fTextFont\":42,\"fLabel\":\"\",\"fLongest\":23,\"fMargin\":0.05,\"fLines\":{\"_typename\":\"TList\",\"name\":\"TList\",\"arr\":[{\"_typename\":\"TLatex\",\"fUniqueID\":0,\"fBits\":50331648,\"fName\":\"\",\"fTitle\":\"Dilepton p_{T} vs. Mass\",\"fTextAngle\":0,\"fTextSize\":0,\"fTextAlign\":0,\"fTextColor\":0,\"fTextFont\":0,\"fX\":0,\"fY\":0,\"fLineColor\":1,\"fLineStyle\":1,\"fLineWidth\":2,\"fLimitFactorSize\":3,\"fOriginSize\":0.0677622407674789}],\"opt\":[\"\"]}}],\"opt\":[\"\",\"ap\",\"p \",\"p \",\"\",\"same\",\"blNDC\"]},\"fExecs\":null,\"fName\":\"PtVsMass\",\"fTitle\":\"PtVsMass\",\"fNumPaletteColor\":0,\"fNextPaletteColor\":0,\"fDISPLAY\":\"$DISPLAY\",\"fDoubleBuffer\":0,\"fRetained\":true,\"fXsizeUser\":0,\"fYsizeUser\":0,\"fXsizeReal\":20,\"fYsizeReal\":13.33333,\"fWindowTopX\":0,\"fWindowTopY\":0,\"fWindowWidth\":0,\"fWindowHeight\":0,\"fCw\":896,\"fCh\":572,\"fCatt\":{\"_typename\":\"TAttCanvas\",\"fXBetween\":2,\"fYBetween\":2,\"fTitleFromTop\":1.2,\"fXdate\":0.2,\"fYdate\":0.3,\"fAdate\":1},\"kMoveOpaque\":true,\"kResizeOpaque\":true,\"fHighLightColor\":2,\"fBatch\":true,\"kShowEventStatus\":false,\"kAutoExec\":true,\"kMenuBar\":true});\n",
       "       Core.draw(\"root_plot_3\", obj, \"\");\n",
       "     }\n",
       " );\n",
       "</script>\n"
      ],
      "text/plain": [
       "<IPython.core.display.HTML object>"
      ]
     },
     "metadata": {},
     "output_type": "display_data"
    }
   ],
   "source": [
    "gr = rt.TGraph(nBins, meanMass, meanPt)\n",
    "grUnf = rt.TGraphErrors(nBins, meanMassUnf, meanPtUnf, meanMassUnfStatErr, meanPtUnfStatErr)\n",
    "grFSRUnf = rt.TGraphErrors(nBins, meanMassFSRUnf, meanPtFSRUnf, meanMassFSRUnfStatErr, meanPtFSRUnfStatErr)\n",
    "grMC = rt.TGraph(nBins, meanMassFSRUnfMC, meanPtFSRUnfMC)\n",
    "grFSRUnf_twoStep = rt.TGraphErrors(nBins, meanMassFSRUnf_twoStep, meanPtFSRUnf_twoStep, meanMassFSRUnf_twoStepStatErr, meanPtFSRUnf_twoStepStatErr)\n",
    "\n",
    "gr.SetTitle(\"Dilepton p_{T} vs. Mass\")\n",
    "gr.Draw(\"AP\")\n",
    "grUnf.Draw(\"P SAME\")\n",
    "grFSRUnf.Draw(\"P SAME\")\n",
    "#grMC.Draw(\"P SAME\")\n",
    "#grFSRUnf_twoStep.Draw(\"P SAME\")\n",
    "#grFSRUnf_twoStep.SetMarkerStyle(25)\n",
    "\n",
    "gr.SetMarkerStyle(20)\n",
    "gr.SetMarkerSize(1)\n",
    "grUnf.SetMarkerStyle(20)\n",
    "grUnf.SetMarkerSize(1)\n",
    "grUnf.SetLineColor(rt.kRed)\n",
    "grUnf.SetMarkerColor(rt.kRed)\n",
    "grFSRUnf.SetMarkerStyle(20)\n",
    "grFSRUnf.SetMarkerSize(1)\n",
    "grFSRUnf.SetLineColor(rt.kBlue)\n",
    "grFSRUnf.SetMarkerColor(rt.kBlue)\n",
    "grMC.SetMarkerStyle(24)\n",
    "grMC.SetMarkerSize(1)\n",
    "grMC.SetLineColor(rt.kBlue)\n",
    "grMC.SetMarkerColor(rt.kBlue)\n",
    "gr.GetYaxis().SetRangeUser(5., 35.)\n",
    "gr.GetXaxis().SetLimits(10., 3000.)\n",
    "\n",
    "legend = rt.TLegend(0.7, 0.7, 0.9, 0.9)\n",
    "legend.AddEntry(gr, \"Detector  data\", \"ple\")\n",
    "legend.AddEntry(grUnf, \"Det unfolded data\", \"ple\")\n",
    "legend.AddEntry(grFSRUnf, \"Pre-FSR unfolded data\", \"ple\")\n",
    "legend.Draw()\n",
    "\n",
    "fitLinear = rt.TF1(\"f_lepton\", \"[0]+[1]*log(x)\", 10., 900.);\n",
    "fitLinear.SetLineStyle(2)\n",
    "fitLinear.SetLineColor(rt.kBlue)\n",
    "fitLinear.SetLineWidth(1)\n",
    "grFSRUnf.Fit(fitLinear, \"R0\")\n",
    "fitLinear.Draw(\"same\")\n",
    "c_PtVsMass.Draw()"
   ]
  },
  {
   "cell_type": "code",
   "execution_count": 33,
   "metadata": {},
   "outputs": [
    {
     "name": "stderr",
     "output_type": "stream",
     "text": [
      "Info in <TCanvas::Print>: pdf file PtVsMass.pdf has been created\n"
     ]
    }
   ],
   "source": [
    "c_PtVsMass.SaveAs(\"PtVsMass.pdf\")"
   ]
  },
  {
   "cell_type": "code",
   "execution_count": 34,
   "metadata": {},
   "outputs": [
    {
     "data": {
      "text/plain": [
       "3"
      ]
     },
     "execution_count": 34,
     "metadata": {},
     "output_type": "execute_result"
    }
   ],
   "source": [
    "fitLinear.GetNDF()"
   ]
  },
  {
   "cell_type": "code",
   "execution_count": 35,
   "metadata": {},
   "outputs": [],
   "source": [
    "#detector_level_canvas = unfold_det.drawFoldedHists(\"Mass\", unfoldInputDic['hist'])"
   ]
  },
  {
   "cell_type": "code",
   "execution_count": 36,
   "metadata": {},
   "outputs": [],
   "source": [
    "#detector_level_canvas_pt = unfold_det.drawFoldedHists(\"Pt\", unfoldInputDic['hist'])"
   ]
  },
  {
   "cell_type": "markdown",
   "metadata": {},
   "source": [
    "## Break down the current mass bin [81:101] into  [81:91] and [91:101]"
   ]
  }
 ],
 "metadata": {
  "kernelspec": {
   "display_name": "Python 3",
   "language": "python",
   "name": "python3"
  },
  "language_info": {
   "codemirror_mode": {
    "name": "ipython",
    "version": 3
   },
   "file_extension": ".py",
   "mimetype": "text/x-python",
   "name": "python",
   "nbconvert_exporter": "python",
   "pygments_lexer": "ipython3",
   "version": "3.6.8"
  }
 },
 "nbformat": 4,
 "nbformat_minor": 4
}
