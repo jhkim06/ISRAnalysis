{
 "cells": [
  {
   "cell_type": "code",
   "execution_count": 1,
   "metadata": {},
   "outputs": [
    {
     "data": {
      "text/html": [
       "<style>.container { width:100% !important; }</style>"
      ],
      "text/plain": [
       "<IPython.core.display.HTML object>"
      ]
     },
     "metadata": {},
     "output_type": "display_data"
    },
    {
     "name": "stdout",
     "output_type": "stream",
     "text": [
      "Welcome to JupyROOT 6.14/04\n"
     ]
    }
   ],
   "source": [
    "from IPython.core.display import display, HTML\n",
    "display(HTML(\"<style>.container { width:100% !important; }</style>\"))\n",
    "import ISRPlotter as isrplot "
   ]
  },
  {
   "cell_type": "code",
   "execution_count": 2,
   "metadata": {
    "scrolled": true
   },
   "outputs": [
    {
     "name": "stdout",
     "output_type": "stream",
     "text": [
      "bin_index\n",
      "1      61.645762\n",
      "2      64.028431\n",
      "3      74.613588\n",
      "4      79.432755\n",
      "5      87.939255\n",
      "6     103.663820\n",
      "7     126.527309\n",
      "8     233.886383\n",
      "9     480.835398\n",
      "10    398.183174\n",
      "11    146.463920\n",
      "12     82.925268\n",
      "13     68.473991\n",
      "14     49.634262\n",
      "15     41.000000\n",
      "16     31.901759\n",
      "17     25.149756\n",
      "18     20.062013\n",
      "19     16.254534\n",
      "20     13.218926\n",
      "21     10.893929\n",
      "22      8.290024\n",
      "23      6.777413\n",
      "24      4.961854\n",
      "25      3.744940\n",
      "26      2.698971\n",
      "27      1.612816\n",
      "Name: stat_error, dtype: float64\n",
      "[0.00458819 0.00441745 0.00473846 0.00445098 0.00402043 0.00341058\n",
      " 0.00223543 0.00120932 0.00058823 0.00071033 0.00193114 0.00341081\n",
      " 0.00516332 0.00569854 0.0068986  0.00738838 0.0080331  0.00881151\n",
      " 0.00966714 0.0106984  0.01180152 0.01218516 0.01391105 0.01425086\n",
      " 0.01641883 0.01746608 0.01865659]\n",
      "draw isr plot, do_linear_fit False\n",
      "bin_index\n",
      "1      132.715198\n",
      "2      143.696171\n",
      "3      187.841755\n",
      "4      205.812215\n",
      "5      225.452780\n",
      "6      257.314294\n",
      "7      279.337029\n",
      "8      484.990043\n",
      "9     1178.691663\n",
      "10    1110.569342\n",
      "11     338.288162\n",
      "12     209.879187\n",
      "13     211.720383\n",
      "14     143.823131\n",
      "15     109.841163\n",
      "16      76.542862\n",
      "17      56.147173\n",
      "18      39.783187\n",
      "19      33.167294\n",
      "20      28.751419\n",
      "21      20.157001\n",
      "22      14.826647\n",
      "23      11.532871\n",
      "24       9.238921\n",
      "25       7.043046\n",
      "26       5.226621\n",
      "27       2.488539\n",
      "Name: stat_error, dtype: float64\n",
      "[0.0106751  0.01029078 0.01272335 0.01229896 0.01146252 0.00994997\n",
      " 0.00651442 0.0048609  0.00145337 0.00127576 0.00411257 0.00738549\n",
      " 0.0135295  0.01451798 0.01567976 0.01608429 0.01626766 0.01581436\n",
      " 0.01806057 0.02247987 0.02063348 0.02125564 0.02372991 0.02747984\n",
      " 0.03144182 0.03606446 0.02994342]\n",
      "draw isr plot, do_linear_fit False\n",
      "bin_index\n",
      "1      447.729864\n",
      "2      459.481511\n",
      "3      579.431018\n",
      "4      629.470210\n",
      "5      677.147652\n",
      "6      754.610297\n",
      "7      805.696689\n",
      "8     1272.950330\n",
      "9     2942.419818\n",
      "10    2776.438163\n",
      "11     845.602089\n",
      "12     511.922810\n",
      "13     483.440124\n",
      "14     330.552245\n",
      "15     256.779588\n",
      "16     182.346170\n",
      "17     135.382009\n",
      "18      99.334128\n",
      "19      80.008383\n",
      "20      66.095056\n",
      "21      49.201367\n",
      "22      36.871600\n",
      "23      28.378584\n",
      "24      21.714252\n",
      "25      16.589586\n",
      "26      11.839068\n",
      "27       6.243534\n",
      "Name: stat_error, dtype: float64\n",
      "[0.01202802 0.01159232 0.01401732 0.01352652 0.01256662 0.01094567\n",
      " 0.00730872 0.00534048 0.00166437 0.0014882  0.00487249 0.00863414\n",
      " 0.01515644 0.01641948 0.01833825 0.0191327  0.01989625 0.0204787\n",
      " 0.02310272 0.02776387 0.0274685  0.02897396 0.03259101 0.03612114\n",
      " 0.04238851 0.04781227 0.04484249]\n",
      "draw isr plot, do_linear_fit False\n",
      "bin_index\n",
      "1      461.789958\n",
      "2      478.974177\n",
      "3      610.006510\n",
      "4      665.765448\n",
      "5      719.702844\n",
      "6      804.185584\n",
      "7      855.156605\n",
      "8     1349.740889\n",
      "9     3099.210860\n",
      "10    3039.830892\n",
      "11     917.050807\n",
      "12     554.024407\n",
      "13     527.031167\n",
      "14     358.641347\n",
      "15     279.804283\n",
      "16     196.923991\n",
      "17     146.219175\n",
      "18     107.202651\n",
      "19      85.802161\n",
      "20      71.062385\n",
      "21      52.817561\n",
      "22      39.417946\n",
      "23      30.420269\n",
      "24      23.157715\n",
      "25      17.654850\n",
      "26      12.517191\n",
      "27       6.596269\n",
      "Name: stat_error, dtype: float64\n",
      "[0.014152   0.01489509 0.01975756 0.02021858 0.02035879 0.01813511\n",
      " 0.01149151 0.00760841 0.00177626 0.0014958  0.00496835 0.00889665\n",
      " 0.01582926 0.0171769  0.01918929 0.02003404 0.02085601 0.02135726\n",
      " 0.02420243 0.02897788 0.02884724 0.03016529 0.03400551 0.03743854\n",
      " 0.04379178 0.04964636 0.04582793]\n",
      "draw isr plot, do_linear_fit False\n",
      "bin_index\n",
      "1     2167.919519\n",
      "2     1795.002710\n",
      "3     2013.590343\n",
      "4     2020.806428\n",
      "5     2045.203396\n",
      "6     2153.265297\n",
      "7     2185.915657\n",
      "8     3275.680937\n",
      "9     7413.230025\n",
      "10    7214.872014\n",
      "11    2138.245253\n",
      "12    1267.605979\n",
      "13    1168.228617\n",
      "14     793.005748\n",
      "15     620.601660\n",
      "16     431.830097\n",
      "17     320.884320\n",
      "18     235.307107\n",
      "19     184.608196\n",
      "20     148.517926\n",
      "21     110.219449\n",
      "22      82.472934\n",
      "23      61.460572\n",
      "24      46.499055\n",
      "25      35.362303\n",
      "26      24.152461\n",
      "27      12.416732\n",
      "Name: stat_error, dtype: float64\n",
      "[0.01442293 0.01522373 0.02012718 0.02060546 0.02072745 0.01848512\n",
      " 0.01179201 0.00779625 0.00185949 0.0015763  0.00526247 0.00939272\n",
      " 0.01650131 0.01796662 0.02027086 0.02129608 0.02233191 0.02322275\n",
      " 0.02628668 0.03123723 0.03168713 0.0333784  0.03785942 0.0412826\n",
      " 0.04855388 0.05507612 0.05269671]\n",
      "draw isr plot, do_linear_fit True\n",
      "do log-linear fit!\n",
      "Beta: [  3.80728686 -16.13100429]\n",
      "Beta Std Error: [0.09516561 0.85958751]\n",
      "Beta Covariance: [[ 0.01951944 -0.17619218]\n",
      " [-0.17619218  1.59252945]]\n",
      "Residual Variance: 0.46397301529292995\n",
      "Inverse Condition #: 0.0004007211125774698\n",
      "Reason(s) for Halting:\n",
      "  Sum of squares convergence\n"
     ]
    }
   ],
   "source": [
    "#isr_analysis[\"year\"][\"channel\"][\"level\"]\n",
    "#years=[\"2016\",\"2017\",\"2018\"]\n",
    "years=[\"2016\"]\n",
    "channels=[\"electron\"]\n",
    "levels=[\"DetUNFOLD\", \"DetUNFOLD_Acceptance\", \"FSRUNFOLD\", \"FSRUNFOLD_Acceptance\"]\n",
    "\n",
    "isr_analysis={}\n",
    "for year in years :\n",
    "    isr_analysis[year]=dict()\n",
    "    for channel in channels :\n",
    "        isr_analysis[year][channel]=dict()\n",
    "        isr_analysis[year][channel][\"detector\"]= \\\n",
    "        isrplot.ISRPlotter(\"./inFiles/\"+year+\"/\"+channel+\"/unfold_input.root\",\n",
    "                           './config/'+year+'/'+channel+'/config_'+year+'_'+channel+'.json', False)\n",
    "        \n",
    "        isr_analysis[year][channel][\"detector\"].drawHistPlot(\"Mass\", divde_by_bin_width = True, setLogy=True, showMeanValue=False)\n",
    "        isr_analysis[year][channel][\"detector\"].drawHistPlot(\"Pt_0\",\"Pt_1\",\"Pt_2\",\"Pt_3\",\"Pt_4\", \n",
    "                                                             divde_by_bin_width = True, setLogy=True, setLogx=False, showMeanValue=False)\n",
    "        \n",
    "        isr_analysis[year][channel][\"detector\"].drawISRPlot(\"DataBkgSub\",\"Signal\")\n",
    "        \n",
    "        doFit=False\n",
    "        for level in levels :\n",
    "            isr_analysis[year][channel][level]= \\\n",
    "            isrplot.ISRPlotter(\"./output/\"+year+\"/\"+channel+\"/\"+level+\"_\"+channel+\"_\"+year+\".root\",\n",
    "                               \"./config/\"+year+\"/\"+channel+\"/config_\"+level+\"_\"+channel+\"_\"+year+\".json\", False)\n",
    "            \n",
    "            isr_analysis[year][channel][level].drawHistPlot(\"Mass\", divde_by_bin_width = True, setLogy=True, showMeanValue=False)\n",
    "            isr_analysis[year][channel][level].drawHistPlot(\"Pt_0\",\"Pt_1\",\"Pt_2\",\"Pt_3\",\"Pt_4\", \n",
    "                                                            divde_by_bin_width = True, setLogy=True, setLogx=False, showMeanValue=False)\n",
    "            \n",
    "            if level == \"FSRUNFOLD_Acceptance\" :\n",
    "                doFit=True\n",
    "            else : \n",
    "                doFit=False\n",
    "                \n",
    "            isr_analysis[year][channel][level].drawISRPlot(\"Data\",\"Signal\",do_linear_fit=doFit)\n",
    "            \n"
   ]
  },
  {
   "cell_type": "code",
   "execution_count": null,
   "metadata": {},
   "outputs": [],
   "source": [
    "raw_mc = isr_analysis[\"2016\"][\"electron\"][\"detector\"].getRawDict(\"TotalMC\")"
   ]
  },
  {
   "cell_type": "code",
   "execution_count": null,
   "metadata": {},
   "outputs": [],
   "source": [
    "total_mc = raw_mc[\"Mass\"]['total']['Nominal']['Nominal']['TH1'].Clone(\"total_mc\")"
   ]
  },
  {
   "cell_type": "code",
   "execution_count": null,
   "metadata": {},
   "outputs": [],
   "source": [
    "raw_data = isr_analysis[\"2016\"][\"electron\"][\"detector\"].getRawDict(\"Data\")"
   ]
  },
  {
   "cell_type": "code",
   "execution_count": null,
   "metadata": {},
   "outputs": [],
   "source": [
    "data=raw_data[\"Mass\"][\"Data_Measured\"]['Nominal']['Nominal']['TH1'].Clone(\"data\")"
   ]
  },
  {
   "cell_type": "code",
   "execution_count": null,
   "metadata": {},
   "outputs": [],
   "source": [
    "total_mc.Divide(data)"
   ]
  },
  {
   "cell_type": "code",
   "execution_count": null,
   "metadata": {},
   "outputs": [],
   "source": [
    "total_mc.GetNbinsX()"
   ]
  },
  {
   "cell_type": "code",
   "execution_count": null,
   "metadata": {},
   "outputs": [],
   "source": [
    "from root_numpy import hist2array, array2hist\n",
    "temp_content, temp_binEdge=hist2array(total_mc, return_edges=True)"
   ]
  },
  {
   "cell_type": "code",
   "execution_count": null,
   "metadata": {},
   "outputs": [],
   "source": [
    "temp_content"
   ]
  },
  {
   "cell_type": "code",
   "execution_count": null,
   "metadata": {},
   "outputs": [],
   "source": [
    "refined_data = isr_analysis[\"2016\"][\"electron\"][\"FSRUNFOLD_Acceptance\"].getRawDict(\"Data\")"
   ]
  },
  {
   "cell_type": "code",
   "execution_count": null,
   "metadata": {},
   "outputs": [],
   "source": [
    "refined_data[\"Pt_4\"][\"Data_Measured\"]"
   ]
  },
  {
   "cell_type": "code",
   "execution_count": null,
   "metadata": {},
   "outputs": [],
   "source": [
    "electron_eb_2016=isrplot.ISRPlotter(\"./inFiles/2016/electron/unfold_input_EB.root\",'./config/2016/electron/config_2016_electron.json', False)\n",
    "electron_eb_2017=isrplot.ISRPlotter(\"./inFiles/2017/electron/unfold_input_EB.root\",'./config/2017/electron/config_2017_electron_.json', False)\n",
    "electron_eb_2018=isrplot.ISRPlotter(\"./inFiles/2018/electron/unfold_input_EB.root\",'./config/2018/electron/config_2018_electron_.json', False)\n",
    "\n",
    "electron_ee_2016=isrplot.ISRPlotter(\"./inFiles/2016/electron/unfold_input_EE.root\",'./config/2016/electron/config_2016_electron.json', False)\n",
    "electron_ee_2017=isrplot.ISRPlotter(\"./inFiles/2017/electron/unfold_input_EE.root\",'./config/2017/electron/config_2017_electron_.json', False)\n",
    "electron_ee_2018=isrplot.ISRPlotter(\"./inFiles/2018/electron/unfold_input_EE.root\",'./config/2018/electron/config_2018_electron_.json', False)"
   ]
  },
  {
   "cell_type": "code",
   "execution_count": null,
   "metadata": {},
   "outputs": [],
   "source": [
    "electron_eb_2016.drawHistPlot(\"Pt_0\",\"Pt_1\",\"Pt_2\",\"Pt_3\",\"Pt_4\", divde_by_bin_width = True, setLogy=True, setLogx=True, showMeanValue=False)\n",
    "electron_eb_2017.drawHistPlot(\"Pt_0\",\"Pt_1\",\"Pt_2\",\"Pt_3\",\"Pt_4\", divde_by_bin_width = True, setLogy=True, setLogx=True, showMeanValue=False)\n",
    "electron_eb_2018.drawHistPlot(\"Pt_0\",\"Pt_1\",\"Pt_2\",\"Pt_3\",\"Pt_4\", divde_by_bin_width = True, setLogy=True, setLogx=True, showMeanValue=False)"
   ]
  },
  {
   "cell_type": "code",
   "execution_count": null,
   "metadata": {},
   "outputs": [],
   "source": [
    "electron_ee_2016.drawHistPlot(\"Pt_0\",\"Pt_1\",\"Pt_2\",\"Pt_3\",\"Pt_4\", divde_by_bin_width = True, setLogy=True, setLogx=True, showMeanValue=False)\n",
    "electron_ee_2017.drawHistPlot(\"Pt_0\",\"Pt_1\",\"Pt_2\",\"Pt_3\",\"Pt_4\", divde_by_bin_width = True, setLogy=True, setLogx=True, showMeanValue=False)\n",
    "electron_ee_2018.drawHistPlot(\"Pt_0\",\"Pt_1\",\"Pt_2\",\"Pt_3\",\"Pt_4\", divde_by_bin_width = True, setLogy=True, setLogx=True, showMeanValue=False)"
   ]
  },
  {
   "cell_type": "code",
   "execution_count": null,
   "metadata": {},
   "outputs": [],
   "source": [
    "electron_r9_2016=isrplot.ISRPlotter(\"./inFiles/2016/electron/unfold_input_r9.root\",'./config/2016/electron/config_2016_electron.json', False)\n",
    "electron_r9_2017=isrplot.ISRPlotter(\"./inFiles/2017/electron/unfold_input_r9.root\",'./config/2017/electron/config_2017_electron_.json', False)\n",
    "electron_r9_2018=isrplot.ISRPlotter(\"./inFiles/2018/electron/unfold_input_r9.root\",'./config/2018/electron/config_2018_electron_.json', False)"
   ]
  },
  {
   "cell_type": "code",
   "execution_count": null,
   "metadata": {},
   "outputs": [],
   "source": [
    "electron_r9_2016.drawHistPlotComparison(electron_r9_2017, electron_r9_2018, nominator_name=\"Data\", denominator_name=\"Data\", \n",
    "                                                                                variables=[\"Pt_0\",\"Pt_1\",\"Pt_2\",\"Pt_3\",\"Pt_4\"], names=[\"2016\", \"2017\", \"2018\"], markers=[\"<\", \">\"], colors=[\"blue\", \"red\"],  \n",
    "                                                                                divde_by_bin_width = True, setLogy=True, setLogx=True, showMeanValue=False, ratio_max=1.45, ratio_min=0.65)"
   ]
  },
  {
   "cell_type": "code",
   "execution_count": null,
   "metadata": {},
   "outputs": [],
   "source": [
    "electron_r9_2016.drawISRPlots(electron_r9_2017, electron_r9_2018, \n",
    "                                                          names_in_objects=[\"Data\",\"Data\",\"Data\" ], do_linear_fit=[False, False, False, False, False, False], \n",
    "                                                          labels=[\"2016 Br9E\", \"2017 Br9E\", \"2018 Br9E\"], \n",
    "                                                          markers=[\"o-\",\"<-\",\">-\",\"o\",\"<\",\">\"], colors=[\"black\",\"blue\",\"red\",\"black\",\"blue\",\"red\"], \n",
    "                                                          facecolor_list=['black','blue','red','None', 'None', 'None'], ymin=16, ymax=33)"
   ]
  },
  {
   "cell_type": "code",
   "execution_count": null,
   "metadata": {},
   "outputs": [],
   "source": [
    "#electron_eb.drawHistPlot(\"Pt_0\",\"Pt_1\",\"Pt_2\",\"Pt_3\",\"Pt_4\", divde_by_bin_width = True, setLogy=True, setLogx=True, showMeanValue=False)\n",
    "#electron_eb_2016.drawHistPlotComparison(electron_eb_2017, electron_eb_2018, nominator_name=\"MC\", denominator_name=\"MC\", \n",
    "#                                                                                variables=[\"Pt_0\",\"Pt_1\",\"Pt_2\",\"Pt_3\",\"Pt_4\"], names=[\"2016\", \"2017\", \"2018\"], markers=[\"<\", \">\"], colors=[\"blue\", \"red\"],  \n",
    "#                                                                                divde_by_bin_width = True, setLogy=True, setLogx=True, showMeanValue=False, ratio_max=1.45, ratio_min=0.65)\n",
    "\n",
    "electron_ee_2016.drawHistPlotComparison(electron_ee_2017, electron_ee_2018, nominator_name=\"MC\", denominator_name=\"MC\", \n",
    "                                                                                variables=[\"Pt_0\",\"Pt_1\",\"Pt_2\",\"Pt_3\",\"Pt_4\"], names=[\"2016\", \"2017\", \"2018\"], markers=[\"<\", \">\"], colors=[\"blue\", \"red\"],  \n",
    "                                                                                divde_by_bin_width = True, setLogy=True, setLogx=True, showMeanValue=False, ratio_max=1.45, ratio_min=0.65)\n",
    "\n",
    "\n",
    "electron_eb_2016.drawISRPlots(electron_eb_2017, electron_eb_2018, electron_ee_2016, electron_ee_2017, electron_ee_2018,\n",
    "                                                          names_in_objects=[\"Data\",\"Data\",\"Data\", \"Data\", \"Data\", \"Data\"], do_linear_fit=[False, False, False, False, False, False], \n",
    "                                                          labels=[\"2016 BEBE\", \"2017 BEBE\", \"2018 BEBE\", \"2016 EEEE\", \"2017 EEEE\", \"2018 EEEE\"], \n",
    "                                                          markers=[\"o-\",\"<-\",\">-\",\"o\",\"<\",\">\"], colors=[\"black\",\"blue\",\"red\",\"black\",\"blue\",\"red\"], \n",
    "                                                          facecolor_list=['black','blue','red','None', 'None', 'None'], ymin=16, ymax=33)"
   ]
  },
  {
   "cell_type": "code",
   "execution_count": null,
   "metadata": {},
   "outputs": [],
   "source": [
    "electron_2017 = isr_analysis[\"2017\"][\"electron\"][\"detector\"]\n",
    "electron_2018 = isr_analysis[\"2018\"][\"electron\"][\"detector\"]\n",
    "isr_analysis[\"2016\"][\"electron\"][\"detector\"].drawHistPlotComparison(electron_2017, electron_2018, nominator_name=\"Data_Measured\", denominator_name=\"Data_Measured\", \n",
    "                                                                                variables=[\"Pt_0\",\"Pt_1\",\"Pt_2\",\"Pt_3\",\"Pt_4\"], names=[\"2016\", \"2017\", \"2018\"], markers=[\"<\", \">\"], colors=[\"blue\", \"red\"],  \n",
    "                                                                                divde_by_bin_width = True, setLogy=True, setLogx=True, showMeanValue=False, ratio_max=1.15, ratio_min=0.85)\n",
    "\n",
    "electron_2017 = isr_analysis[\"2017\"][\"electron\"][\"DetUNFOLD\"]\n",
    "electron_2018 = isr_analysis[\"2018\"][\"electron\"][\"DetUNFOLD\"]\n",
    "isr_analysis[\"2016\"][\"electron\"][\"DetUNFOLD\"].drawHistPlotComparison(electron_2017, electron_2018, nominator_name=\"Data_Measured\", denominator_name=\"Data_Measured\", \n",
    "                                                                                variables=[\"Pt_0\",\"Pt_1\",\"Pt_2\",\"Pt_3\",\"Pt_4\"], names=[\"2016\", \"2017\", \"2018\"], markers=[\"<\", \">\"], colors=[\"blue\", \"red\"],  \n",
    "                                                                                divde_by_bin_width = True, setLogy=True, setLogx=True, showMeanValue=False, ratio_max=1.45, ratio_min=0.55)\n",
    "\n",
    "electron_2017 = isr_analysis[\"2017\"][\"electron\"][\"DetUNFOLD_Acceptance\"]\n",
    "electron_2018 = isr_analysis[\"2018\"][\"electron\"][\"DetUNFOLD_Acceptance\"]\n",
    "isr_analysis[\"2016\"][\"electron\"][\"DetUNFOLD_Acceptance\"].drawHistPlotComparison(electron_2017, electron_2018, nominator_name=\"Data_Measured\", denominator_name=\"Data_Measured\", \n",
    "                                                                                variables=[\"Pt_0\",\"Pt_1\",\"Pt_2\",\"Pt_3\",\"Pt_4\"], names=[\"2016\", \"2017\", \"2018\"], markers=[\"<\", \">\"], colors=[\"blue\", \"red\"],  \n",
    "                                                                                divde_by_bin_width = True, setLogy=True, setLogx=True, showMeanValue=False)\n",
    "\n",
    "electron_2017 = isr_analysis[\"2017\"][\"electron\"][\"FSRUNFOLD_Acceptance\"]\n",
    "electron_2018 = isr_analysis[\"2018\"][\"electron\"][\"FSRUNFOLD_Acceptance\"]\n",
    "isr_analysis[\"2016\"][\"electron\"][\"FSRUNFOLD_Acceptance\"].drawHistPlotComparison(electron_2017, electron_2018, nominator_name=\"Data_Measured\", denominator_name=\"Data_Measured\", \n",
    "                                                                                variables=[\"Pt_0\",\"Pt_1\",\"Pt_2\",\"Pt_3\",\"Pt_4\"], names=[\"2016\", \"2017\", \"2018\"], markers=[\"<\", \">\"], colors=[\"blue\", \"red\"],  \n",
    "                                                                                divde_by_bin_width = True, setLogy=True, setLogx=True, showMeanValue=False)"
   ]
  },
  {
   "cell_type": "code",
   "execution_count": null,
   "metadata": {},
   "outputs": [],
   "source": [
    "muon_2017 = isr_analysis[\"2017\"][\"muon\"][\"detector\"]\n",
    "muon_2018 = isr_analysis[\"2018\"][\"muon\"][\"detector\"]\n",
    "isr_analysis[\"2016\"][\"muon\"][\"detector\"].drawHistPlotComparison(muon_2017, muon_2018, nominator_name=\"Data_Measured\", denominator_name=\"Data_Measured\", \n",
    "                                                                                variables=[\"Pt_0\",\"Pt_1\",\"Pt_2\",\"Pt_3\",\"Pt_4\"], names=[\"2016\", \"2017\", \"2018\"], markers=[\"<\", \">\"], colors=[\"blue\", \"red\"],  \n",
    "                                                                                divde_by_bin_width = True, setLogy=True, setLogx=True, showMeanValue=False, ratio_max=1.25, ratio_min=0.75)\n",
    "\n",
    "muon_2017 = isr_analysis[\"2017\"][\"muon\"][\"DetUNFOLD\"]\n",
    "muon_2018 = isr_analysis[\"2018\"][\"muon\"][\"DetUNFOLD\"]\n",
    "isr_analysis[\"2016\"][\"muon\"][\"DetUNFOLD\"].drawHistPlotComparison(muon_2017, muon_2018, nominator_name=\"Data_Measured\", denominator_name=\"Data_Measured\", \n",
    "                                                                                variables=[\"Pt_0\",\"Pt_1\",\"Pt_2\",\"Pt_3\",\"Pt_4\"], names=[\"2016\", \"2017\", \"2018\"], markers=[\"<\", \">\"], colors=[\"blue\", \"red\"],  \n",
    "                                                                                divde_by_bin_width = True, setLogy=True, setLogx=True, showMeanValue=False, ratio_max=1.45, ratio_min=0.55)\n",
    "\n",
    "muon_2017 = isr_analysis[\"2017\"][\"muon\"][\"DetUNFOLD_Acceptance\"]\n",
    "muon_2018 = isr_analysis[\"2018\"][\"muon\"][\"DetUNFOLD_Acceptance\"]\n",
    "isr_analysis[\"2016\"][\"muon\"][\"DetUNFOLD_Acceptance\"].drawHistPlotComparison(muon_2017, muon_2018, nominator_name=\"Data_Measured\", denominator_name=\"Data_Measured\", \n",
    "                                                                                variables=[\"Pt_0\",\"Pt_1\",\"Pt_2\",\"Pt_3\",\"Pt_4\"], names=[\"2016\", \"2017\", \"2018\"], markers=[\"<\", \">\"], colors=[\"blue\", \"red\"],  \n",
    "                                                                                divde_by_bin_width = True, setLogy=True, setLogx=True, showMeanValue=False)\n",
    "\n",
    "muon_2017 = isr_analysis[\"2017\"][\"muon\"][\"FSRUNFOLD_Acceptance\"]\n",
    "muon_2018 = isr_analysis[\"2018\"][\"muon\"][\"FSRUNFOLD_Acceptance\"]\n",
    "isr_analysis[\"2016\"][\"muon\"][\"FSRUNFOLD_Acceptance\"].drawHistPlotComparison(muon_2017, muon_2018, nominator_name=\"Data_Measured\", denominator_name=\"Data_Measured\", \n",
    "                                                                                variables=[\"Pt_0\",\"Pt_1\",\"Pt_2\",\"Pt_3\",\"Pt_4\"], names=[\"2016\", \"2017\", \"2018\"], markers=[\"<\", \">\"], colors=[\"blue\", \"red\"],  \n",
    "                                                                                divde_by_bin_width = True, setLogy=True, setLogx=True, showMeanValue=False)"
   ]
  },
  {
   "cell_type": "code",
   "execution_count": null,
   "metadata": {},
   "outputs": [],
   "source": [
    "ee_data_dict_2016=isr_analysis[\"2016\"][\"muon\"][\"FSRUNFOLD_Acceptance\"].getDict(\"Data\")"
   ]
  },
  {
   "cell_type": "code",
   "execution_count": null,
   "metadata": {},
   "outputs": [],
   "source": [
    "test = ee_data_dict_2016[\"Mass\"][\"Data_Measured\"][\"refinedUnc\"].copy()"
   ]
  },
  {
   "cell_type": "code",
   "execution_count": null,
   "metadata": {},
   "outputs": [],
   "source": [
    "test.loc[:, \"content\":] = test.loc[:, \"content\":]/ee_data_dict_2016[\"Mass\"][\"Data_Measured\"][\"refinedUnc\"][\"content\"].sum()"
   ]
  },
  {
   "cell_type": "code",
   "execution_count": null,
   "metadata": {},
   "outputs": [],
   "source": [
    "test"
   ]
  },
  {
   "cell_type": "code",
   "execution_count": null,
   "metadata": {},
   "outputs": [],
   "source": [
    "isr_analysis[\"2016\"][\"muon\"][\"detector\"].drawISRPlots(isr_analysis[\"2017\"][\"muon\"][\"detector\"], isr_analysis[\"2018\"][\"muon\"][\"detector\"],\n",
    "                                                          names_in_objects=[\"Data\",\"Data\",\"Data\"], do_linear_fit=[False, False, False, False, False, False], \n",
    "                                                          labels=[\"2016 muon\", \"2017 muon\", \"2018 muon\"], marker=[\"o\",\"<\",\">\"], color_=[\"black\",\"blue\",\"red\"], ymin=16, ymax=35)"
   ]
  },
  {
   "cell_type": "code",
   "execution_count": null,
   "metadata": {},
   "outputs": [],
   "source": [
    "isr_analysis[\"2016\"][\"electron\"][\"detector\"].drawISRPlots(isr_analysis[\"2017\"][\"electron\"][\"detector\"], isr_analysis[\"2018\"][\"electron\"][\"detector\"],\n",
    "                                                          names_in_objects=[\"Data\",\"Data\",\"Data\"], do_linear_fit=[False, False, False, False, False, False], \n",
    "                                                          labels=[\"2016 electron\", \"2017 electron\", \"2018 electron\"], marker=[\"o\",\"<\",\">\"], color_=[\"black\",\"blue\",\"red\"], ymin=16, ymax=35)"
   ]
  },
  {
   "cell_type": "code",
   "execution_count": null,
   "metadata": {},
   "outputs": [],
   "source": [
    "isr_analysis[\"2016\"][\"muon\"][\"detector\"].drawISRPlots(isr_analysis[\"2017\"][\"muon\"][\"detector\"], isr_analysis[\"2018\"][\"muon\"][\"detector\"],\n",
    "                                                      names_in_objects=[\"DataBkgSub\",\"DataBkgSub\",\"DataBkgSub\"], do_linear_fit=[False, False, False], labels=[\"2016 muon\", \"2017 muon\", \"2018 muon\"])"
   ]
  },
  {
   "cell_type": "code",
   "execution_count": null,
   "metadata": {},
   "outputs": [],
   "source": [
    "isr_analysis[\"2016\"][\"electron\"][\"FSRUNFOLD_Acceptance\"].drawISRPlots(isr_analysis[\"2017\"][\"electron\"][\"FSRUNFOLD_Acceptance\"], isr_analysis[\"2018\"][\"electron\"][\"FSRUNFOLD_Acceptance\"],\n",
    "                                                      names_in_objects=[\"Data\",\"Data\",\"Data\"], do_linear_fit=[False, False, False], labels=[\"2016 electron\", \"2017 electron\", \"2018 electron\"])"
   ]
  },
  {
   "cell_type": "code",
   "execution_count": null,
   "metadata": {},
   "outputs": [],
   "source": [
    "isr_analysis[\"2016\"][\"muon\"][\"FSRUNFOLD_Acceptance\"].drawISRPlots(isr_analysis[\"2017\"][\"muon\"][\"FSRUNFOLD_Acceptance\"], isr_analysis[\"2018\"][\"muon\"][\"FSRUNFOLD_Acceptance\"],\n",
    "                                                      names_in_objects=[\"Data\",\"Data\",\"Data\"], do_linear_fit=[False, False, False], labels=[\"2016 muon\", \"2017 muon\", \"2018 muon\"])\n"
   ]
  },
  {
   "cell_type": "code",
   "execution_count": null,
   "metadata": {},
   "outputs": [],
   "source": [
    "isr_analysis[\"2016\"][\"electron\"][\"FSRUNFOLD_Acceptance\"].drawISRPlots(isr_analysis[\"2016\"][\"muon\"][\"FSRUNFOLD_Acceptance\"],\n",
    "                                                      names_in_objects=[\"Data\",\"Data\"], do_linear_fit=[True, True], labels=[\"2016 electron\", \"2016 muon\"])"
   ]
  },
  {
   "cell_type": "code",
   "execution_count": null,
   "metadata": {},
   "outputs": [],
   "source": [
    "isr_analysis[\"2017\"][\"electron\"][\"FSRUNFOLD_Acceptance\"].drawISRPlots(isr_analysis[\"2017\"][\"muon\"][\"FSRUNFOLD_Acceptance\"],\n",
    "                                                      names_in_objects=[\"Data\",\"Data\"], do_linear_fit=[True, True], labels=[\"2017 electron\", \"2017 muon\"])"
   ]
  },
  {
   "cell_type": "code",
   "execution_count": null,
   "metadata": {},
   "outputs": [],
   "source": [
    "isr_analysis[\"2018\"][\"electron\"][\"FSRUNFOLD_Acceptance\"].drawISRPlots(isr_analysis[\"2018\"][\"muon\"][\"FSRUNFOLD_Acceptance\"],\n",
    "                                                      names_in_objects=[\"Data\",\"Data\"], do_linear_fit=[True, True], labels=[\"2018 electron\", \"2018 muon\"])"
   ]
  },
  {
   "cell_type": "code",
   "execution_count": null,
   "metadata": {},
   "outputs": [],
   "source": [
    "isr_analysis[\"2016\"][\"electron\"][\"detector\"].drawISRPlots(isr_analysis[\"2016\"][\"electron\"][\"DetUNFOLD\"], isr_analysis[\"2016\"][\"electron\"][\"DetUNFOLD_Acceptance\"],\n",
    "                                                          isr_analysis[\"2016\"][\"electron\"][\"FSRUNFOLD\"], isr_analysis[\"2016\"][\"electron\"][\"FSRUNFOLD_Acceptance\"],\n",
    "                                                          names_in_objects=[\"DataBkgSub\",\"Data\",\"Data\",\"Data\",\"Data\"], do_linear_fit=[False, False, False, False, False], \n",
    "                                                          labels=[\"Detector\", \"Detector unfoled\", \"+ Efficiency\", \"FSR unfolded\", \"+ Acceptance\"],\n",
    "                                                          marker='o-')"
   ]
  },
  {
   "cell_type": "code",
   "execution_count": null,
   "metadata": {},
   "outputs": [],
   "source": [
    "isr_analysis[\"2016\"][\"muon\"][\"detector\"].drawISRPlots(isr_analysis[\"2016\"][\"muon\"][\"DetUNFOLD\"], isr_analysis[\"2016\"][\"muon\"][\"DetUNFOLD_Acceptance\"],\n",
    "                                                          isr_analysis[\"2016\"][\"muon\"][\"FSRUNFOLD\"], isr_analysis[\"2016\"][\"muon\"][\"FSRUNFOLD_Acceptance\"],\n",
    "                                                          names_in_objects=[\"DataBkgSub\",\"Data\",\"Data\",\"Data\",\"Data\"], do_linear_fit=[False, False, False, False, False], \n",
    "                                                          labels=[\"Detector\", \"Detector unfoled\", \"+ Efficiency\", \"FSR unfolded\", \"+ Acceptance\"],\n",
    "                                                          marker='o-')"
   ]
  },
  {
   "cell_type": "code",
   "execution_count": null,
   "metadata": {},
   "outputs": [],
   "source": [
    "data_dict=isr_analysis[\"2018\"][\"muon\"][\"FSRUNFOLD_Acceptance\"].getDict(\"Data\")\n",
    "mc_dict=isr_analysis[\"2018\"][\"muon\"][\"FSRUNFOLD_Acceptance\"].getDict(\"Signal\")\n",
    "\n",
    "data_dict_2016=isr_analysis[\"2016\"][\"muon\"][\"FSRUNFOLD_Acceptance\"].getDict(\"Data\")\n",
    "mc_dict_2016=isr_analysis[\"2016\"][\"muon\"][\"FSRUNFOLD_Acceptance\"].getDict(\"Signal\")\n",
    "\n",
    "data_dict_2017=isr_analysis[\"2017\"][\"muon\"][\"FSRUNFOLD_Acceptance\"].getDict(\"Data\")\n",
    "mc_dict_2017=isr_analysis[\"2017\"][\"muon\"][\"FSRUNFOLD_Acceptance\"].getDict(\"Signal\")"
   ]
  },
  {
   "cell_type": "code",
   "execution_count": null,
   "metadata": {},
   "outputs": [],
   "source": [
    "data_dict[\"Pt_4\"][\"Data_Measured\"]['refinedUnc']"
   ]
  },
  {
   "cell_type": "code",
   "execution_count": null,
   "metadata": {},
   "outputs": [],
   "source": [
    "data_dict_2016[\"Mass\"][\"Data_Measured\"]['refinedUnc_meanValue']['unfold_Down']/data_dict_2016[\"Mass\"][\"Data_Measured\"]['refinedUnc_meanValue']['mean'] * 100"
   ]
  },
  {
   "cell_type": "code",
   "execution_count": null,
   "metadata": {},
   "outputs": [],
   "source": [
    "data_dict_2016[\"Pt_1\"][\"Data_Measured\"]['refinedUnc_meanValue']['IdSF_Down']/data_dict_2016[\"Pt_1\"][\"Data_Measured\"]['refinedUnc_meanValue']['mean'] * 100"
   ]
  },
  {
   "cell_type": "code",
   "execution_count": null,
   "metadata": {},
   "outputs": [],
   "source": [
    "data_dict_2016[\"Pt_4\"][\"Data_Measured\"]['refinedUnc_meanValue'][\"fsr_Down\"]/data_dict_2016[\"Pt_4\"][\"Data_Measured\"]['refinedUnc_meanValue']['mean'] * 100"
   ]
  },
  {
   "cell_type": "code",
   "execution_count": null,
   "metadata": {},
   "outputs": [],
   "source": [
    "0.18282/25.068887*100"
   ]
  },
  {
   "cell_type": "code",
   "execution_count": null,
   "metadata": {},
   "outputs": [],
   "source": [
    "ee_data_dict_2016=isr_analysis[\"2016\"][\"electron\"][\"FSRUNFOLD_Acceptance\"].getDict(\"Data\")"
   ]
  },
  {
   "cell_type": "code",
   "execution_count": null,
   "metadata": {},
   "outputs": [],
   "source": [
    "ee_data_dict_2016[\"Pt_0\"][\"Data_Measured\"]['refinedUnc_meanValue']"
   ]
  },
  {
   "cell_type": "code",
   "execution_count": null,
   "metadata": {},
   "outputs": [],
   "source": [
    "0.23867/25.535478 * 100"
   ]
  },
  {
   "cell_type": "code",
   "execution_count": null,
   "metadata": {},
   "outputs": [],
   "source": [
    "0.047467/14.527543 * 100"
   ]
  },
  {
   "cell_type": "code",
   "execution_count": null,
   "metadata": {},
   "outputs": [],
   "source": []
  }
 ],
 "metadata": {
  "kernelspec": {
   "display_name": "Python 3",
   "language": "python",
   "name": "python3"
  },
  "language_info": {
   "codemirror_mode": {
    "name": "ipython",
    "version": 3
   },
   "file_extension": ".py",
   "mimetype": "text/x-python",
   "name": "python",
   "nbconvert_exporter": "python",
   "pygments_lexer": "ipython3",
   "version": "3.6.8"
  }
 },
 "nbformat": 4,
 "nbformat_minor": 4
}
