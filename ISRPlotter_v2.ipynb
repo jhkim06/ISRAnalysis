{
 "cells": [
  {
   "cell_type": "code",
   "execution_count": 1,
   "metadata": {},
   "outputs": [
    {
     "data": {
      "text/html": [
       "<style>.container { width:100% !important; }</style>"
      ],
      "text/plain": [
       "<IPython.core.display.HTML object>"
      ]
     },
     "metadata": {},
     "output_type": "display_data"
    },
    {
     "name": "stdout",
     "output_type": "stream",
     "text": [
      "Welcome to JupyROOT 6.14/04\n"
     ]
    }
   ],
   "source": [
    "from IPython.core.display import display, HTML\n",
    "display(HTML(\"<style>.container { width:100% !important; }</style>\"))\n",
    "import ISRPlotter as isrplot "
   ]
  },
  {
   "cell_type": "code",
   "execution_count": 2,
   "metadata": {
    "scrolled": true
   },
   "outputs": [
    {
     "name": "stdout",
     "output_type": "stream",
     "text": [
      "draw isr plot, do_linear_fit False\n",
      "draw isr plot, do_linear_fit False\n",
      "draw isr plot, do_linear_fit False\n",
      "draw isr plot, do_linear_fit False\n",
      "draw isr plot, do_linear_fit True\n",
      "do log-linear fit!\n",
      "Beta: [  3.94438385 -17.40130399]\n",
      "Beta Std Error: [0.13064383 1.16089952]\n",
      "Beta Covariance: [[ 0.00946625 -0.08401009]\n",
      " [-0.08401009  0.74746243]]\n",
      "Residual Variance: 1.8030173224385742\n",
      "Inverse Condition #: 0.0005611555197201568\n",
      "Reason(s) for Halting:\n",
      "  Sum of squares convergence\n",
      "draw isr plot, do_linear_fit False\n",
      "draw isr plot, do_linear_fit False\n",
      "draw isr plot, do_linear_fit False\n",
      "draw isr plot, do_linear_fit False\n",
      "draw isr plot, do_linear_fit True\n",
      "do log-linear fit!\n",
      "Beta: [  3.80728686 -16.13100429]\n",
      "Beta Std Error: [0.09516561 0.85958751]\n",
      "Beta Covariance: [[ 0.01951944 -0.17619218]\n",
      " [-0.17619218  1.59252945]]\n",
      "Residual Variance: 0.46397301529292995\n",
      "Inverse Condition #: 0.0004007211125774698\n",
      "Reason(s) for Halting:\n",
      "  Sum of squares convergence\n",
      "draw isr plot, do_linear_fit False\n",
      "draw isr plot, do_linear_fit False\n",
      "draw isr plot, do_linear_fit False\n",
      "draw isr plot, do_linear_fit False\n",
      "draw isr plot, do_linear_fit True\n",
      "do log-linear fit!\n",
      "Beta: [  3.81431888 -16.13806824]\n",
      "Beta Std Error: [0.08717936 0.77534958]\n",
      "Beta Covariance: [[ 0.00635815 -0.05648892]\n",
      " [-0.05648892  0.50291949]]\n",
      "Residual Variance: 1.1953542920718054\n",
      "Inverse Condition #: 0.0005069007373317109\n",
      "Reason(s) for Halting:\n",
      "  Sum of squares convergence\n",
      "draw isr plot, do_linear_fit False\n",
      "draw isr plot, do_linear_fit False\n",
      "draw isr plot, do_linear_fit False\n",
      "draw isr plot, do_linear_fit False\n",
      "draw isr plot, do_linear_fit True\n",
      "do log-linear fit!\n",
      "Beta: [  3.54650278 -13.54925808]\n",
      "Beta Std Error: [0.25279301 2.27868077]\n",
      "Beta Covariance: [[ 0.02088745 -0.188216  ]\n",
      " [-0.188216    1.69715774]]\n",
      "Residual Variance: 3.0594598999889904\n",
      "Inverse Condition #: 0.0002857500112914843\n",
      "Reason(s) for Halting:\n",
      "  Sum of squares convergence\n",
      "draw isr plot, do_linear_fit False\n",
      "draw isr plot, do_linear_fit False\n",
      "draw isr plot, do_linear_fit False\n",
      "draw isr plot, do_linear_fit False\n",
      "draw isr plot, do_linear_fit True\n",
      "do log-linear fit!\n",
      "Beta: [  3.80876805 -16.08250452]\n",
      "Beta Std Error: [0.11587096 1.03272813]\n",
      "Beta Covariance: [[ 0.00563842 -0.05020364]\n",
      " [-0.05020364  0.44789879]]\n",
      "Residual Variance: 2.381179465507276\n",
      "Inverse Condition #: 0.0004956050111644462\n",
      "Reason(s) for Halting:\n",
      "  Sum of squares convergence\n",
      "draw isr plot, do_linear_fit False\n",
      "draw isr plot, do_linear_fit False\n",
      "draw isr plot, do_linear_fit False\n",
      "draw isr plot, do_linear_fit False\n",
      "draw isr plot, do_linear_fit True\n",
      "do log-linear fit!\n",
      "Beta: [  3.99216973 -17.57871002]\n",
      "Beta Std Error: [0.18045572 1.63235404]\n",
      "Beta Covariance: [[ 0.01927061 -0.17419117]\n",
      " [-0.17419117  1.57682261]]\n",
      "Residual Variance: 1.689841143602175\n",
      "Inverse Condition #: 0.00041514351659667774\n",
      "Reason(s) for Halting:\n",
      "  Sum of squares convergence\n"
     ]
    }
   ],
   "source": [
    "#isr_analysis[\"year\"][\"channel\"][\"level\"]\n",
    "years=[\"2016\",\"2017\",\"2018\"]\n",
    "#years=[\"2016\"]\n",
    "channels=[\"muon\", \"electron\"]\n",
    "levels=[\"DetUNFOLD\", \"DetUNFOLD_Acceptance\", \"FSRUNFOLD\", \"FSRUNFOLD_Acceptance\"]\n",
    "\n",
    "isr_analysis={}\n",
    "for year in years :\n",
    "    isr_analysis[year]=dict()\n",
    "    for channel in channels :\n",
    "        isr_analysis[year][channel]=dict()\n",
    "        isr_analysis[year][channel][\"detector\"]= \\\n",
    "        isrplot.ISRPlotter(\"./inFiles/\"+year+\"/\"+channel+\"/unfold_input.root\",'./config/'+year+'/'+channel+'/config_'+year+'_'+channel+'.json', False)\n",
    "        \n",
    "        isr_analysis[year][channel][\"detector\"].drawHistPlot(\"Mass\", divde_by_bin_width = True, setLogy=True, showMeanValue=False)\n",
    "        isr_analysis[year][channel][\"detector\"].drawHistPlot(\"Pt_0\",\"Pt_1\",\"Pt_2\",\"Pt_3\",\"Pt_4\", divde_by_bin_width = True, setLogy=True, setLogx=True, showMeanValue=False)\n",
    "        \n",
    "        isr_analysis[year][channel][\"detector\"].drawISRPlot(\"DataBkgSub\",\"Signal\")\n",
    "        \n",
    "        doFit=False\n",
    "        for level in levels :\n",
    "            isr_analysis[year][channel][level]= \\\n",
    "            isrplot.ISRPlotter(\"./output/\"+year+\"/\"+channel+\"/\"+level+\"_\"+channel+\"_\"+year+\".root\",\"./config/\"+year+\"/\"+channel+\"/config_\"+level+\"_\"+channel+\"_\"+year+\".json\", False)\n",
    "            \n",
    "            isr_analysis[year][channel][level].drawHistPlot(\"Mass\", divde_by_bin_width = True, setLogy=True, showMeanValue=False)\n",
    "            isr_analysis[year][channel][level].drawHistPlot(\"Pt_0\",\"Pt_1\",\"Pt_2\",\"Pt_3\",\"Pt_4\", divde_by_bin_width = True, setLogy=True, setLogx=True, showMeanValue=False)\n",
    "            \n",
    "            if level == \"FSRUNFOLD_Acceptance\" :\n",
    "                doFit=True\n",
    "            else : \n",
    "                doFit=False\n",
    "                \n",
    "            isr_analysis[year][channel][level].drawISRPlot(\"Data\",\"Signal\",do_linear_fit=doFit)\n",
    "            \n"
   ]
  },
  {
   "cell_type": "code",
   "execution_count": null,
   "metadata": {},
   "outputs": [],
   "source": [
    "electron_eb_2016=isrplot.ISRPlotter(\"./inFiles/2016/electron/unfold_input_EB.root\",'./config/2016/electron/config_2016_electron.json', False)\n",
    "electron_eb_2017=isrplot.ISRPlotter(\"./inFiles/2017/electron/unfold_input_EB.root\",'./config/2017/electron/config_2017_electron_.json', False)\n",
    "electron_eb_2018=isrplot.ISRPlotter(\"./inFiles/2018/electron/unfold_input_EB.root\",'./config/2018/electron/config_2018_electron_.json', False)\n",
    "\n",
    "electron_ee_2016=isrplot.ISRPlotter(\"./inFiles/2016/electron/unfold_input_EE.root\",'./config/2016/electron/config_2016_electron.json', False)\n",
    "electron_ee_2017=isrplot.ISRPlotter(\"./inFiles/2017/electron/unfold_input_EE.root\",'./config/2017/electron/config_2017_electron_.json', False)\n",
    "electron_ee_2018=isrplot.ISRPlotter(\"./inFiles/2018/electron/unfold_input_EE.root\",'./config/2018/electron/config_2018_electron_.json', False)"
   ]
  },
  {
   "cell_type": "code",
   "execution_count": null,
   "metadata": {},
   "outputs": [],
   "source": [
    "electron_eb_2016.drawHistPlot(\"Pt_0\",\"Pt_1\",\"Pt_2\",\"Pt_3\",\"Pt_4\", divde_by_bin_width = True, setLogy=True, setLogx=True, showMeanValue=False)\n",
    "electron_eb_2017.drawHistPlot(\"Pt_0\",\"Pt_1\",\"Pt_2\",\"Pt_3\",\"Pt_4\", divde_by_bin_width = True, setLogy=True, setLogx=True, showMeanValue=False)\n",
    "electron_eb_2018.drawHistPlot(\"Pt_0\",\"Pt_1\",\"Pt_2\",\"Pt_3\",\"Pt_4\", divde_by_bin_width = True, setLogy=True, setLogx=True, showMeanValue=False)"
   ]
  },
  {
   "cell_type": "code",
   "execution_count": null,
   "metadata": {},
   "outputs": [],
   "source": [
    "electron_ee_2016.drawHistPlot(\"Pt_0\",\"Pt_1\",\"Pt_2\",\"Pt_3\",\"Pt_4\", divde_by_bin_width = True, setLogy=True, setLogx=True, showMeanValue=False)\n",
    "electron_ee_2017.drawHistPlot(\"Pt_0\",\"Pt_1\",\"Pt_2\",\"Pt_3\",\"Pt_4\", divde_by_bin_width = True, setLogy=True, setLogx=True, showMeanValue=False)\n",
    "electron_ee_2018.drawHistPlot(\"Pt_0\",\"Pt_1\",\"Pt_2\",\"Pt_3\",\"Pt_4\", divde_by_bin_width = True, setLogy=True, setLogx=True, showMeanValue=False)"
   ]
  },
  {
   "cell_type": "code",
   "execution_count": null,
   "metadata": {},
   "outputs": [],
   "source": [
    "electron_r9_2016=isrplot.ISRPlotter(\"./inFiles/2016/electron/unfold_input_r9.root\",'./config/2016/electron/config_2016_electron.json', False)\n",
    "electron_r9_2017=isrplot.ISRPlotter(\"./inFiles/2017/electron/unfold_input_r9.root\",'./config/2017/electron/config_2017_electron_.json', False)\n",
    "electron_r9_2018=isrplot.ISRPlotter(\"./inFiles/2018/electron/unfold_input_r9.root\",'./config/2018/electron/config_2018_electron_.json', False)"
   ]
  },
  {
   "cell_type": "code",
   "execution_count": null,
   "metadata": {},
   "outputs": [],
   "source": [
    "electron_r9_2016.drawHistPlotComparison(electron_r9_2017, electron_r9_2018, nominator_name=\"Data\", denominator_name=\"Data\", \n",
    "                                                                                variables=[\"Pt_0\",\"Pt_1\",\"Pt_2\",\"Pt_3\",\"Pt_4\"], names=[\"2016\", \"2017\", \"2018\"], markers=[\"<\", \">\"], colors=[\"blue\", \"red\"],  \n",
    "                                                                                divde_by_bin_width = True, setLogy=True, setLogx=True, showMeanValue=False, ratio_max=1.45, ratio_min=0.65)"
   ]
  },
  {
   "cell_type": "code",
   "execution_count": null,
   "metadata": {},
   "outputs": [],
   "source": [
    "electron_r9_2016.drawISRPlots(electron_r9_2017, electron_r9_2018, \n",
    "                                                          names_in_objects=[\"Data\",\"Data\",\"Data\" ], do_linear_fit=[False, False, False, False, False, False], \n",
    "                                                          labels=[\"2016 Br9E\", \"2017 Br9E\", \"2018 Br9E\"], \n",
    "                                                          markers=[\"o-\",\"<-\",\">-\",\"o\",\"<\",\">\"], colors=[\"black\",\"blue\",\"red\",\"black\",\"blue\",\"red\"], \n",
    "                                                          facecolor_list=['black','blue','red','None', 'None', 'None'], ymin=16, ymax=33)"
   ]
  },
  {
   "cell_type": "code",
   "execution_count": null,
   "metadata": {},
   "outputs": [],
   "source": [
    "#electron_eb.drawHistPlot(\"Pt_0\",\"Pt_1\",\"Pt_2\",\"Pt_3\",\"Pt_4\", divde_by_bin_width = True, setLogy=True, setLogx=True, showMeanValue=False)\n",
    "#electron_eb_2016.drawHistPlotComparison(electron_eb_2017, electron_eb_2018, nominator_name=\"MC\", denominator_name=\"MC\", \n",
    "#                                                                                variables=[\"Pt_0\",\"Pt_1\",\"Pt_2\",\"Pt_3\",\"Pt_4\"], names=[\"2016\", \"2017\", \"2018\"], markers=[\"<\", \">\"], colors=[\"blue\", \"red\"],  \n",
    "#                                                                                divde_by_bin_width = True, setLogy=True, setLogx=True, showMeanValue=False, ratio_max=1.45, ratio_min=0.65)\n",
    "\n",
    "electron_ee_2016.drawHistPlotComparison(electron_ee_2017, electron_ee_2018, nominator_name=\"MC\", denominator_name=\"MC\", \n",
    "                                                                                variables=[\"Pt_0\",\"Pt_1\",\"Pt_2\",\"Pt_3\",\"Pt_4\"], names=[\"2016\", \"2017\", \"2018\"], markers=[\"<\", \">\"], colors=[\"blue\", \"red\"],  \n",
    "                                                                                divde_by_bin_width = True, setLogy=True, setLogx=True, showMeanValue=False, ratio_max=1.45, ratio_min=0.65)\n",
    "\n",
    "\n",
    "electron_eb_2016.drawISRPlots(electron_eb_2017, electron_eb_2018, electron_ee_2016, electron_ee_2017, electron_ee_2018,\n",
    "                                                          names_in_objects=[\"Data\",\"Data\",\"Data\", \"Data\", \"Data\", \"Data\"], do_linear_fit=[False, False, False, False, False, False], \n",
    "                                                          labels=[\"2016 BEBE\", \"2017 BEBE\", \"2018 BEBE\", \"2016 EEEE\", \"2017 EEEE\", \"2018 EEEE\"], \n",
    "                                                          markers=[\"o-\",\"<-\",\">-\",\"o\",\"<\",\">\"], colors=[\"black\",\"blue\",\"red\",\"black\",\"blue\",\"red\"], \n",
    "                                                          facecolor_list=['black','blue','red','None', 'None', 'None'], ymin=16, ymax=33)"
   ]
  },
  {
   "cell_type": "code",
   "execution_count": null,
   "metadata": {},
   "outputs": [],
   "source": [
    "electron_2017 = isr_analysis[\"2017\"][\"electron\"][\"detector\"]\n",
    "electron_2018 = isr_analysis[\"2018\"][\"electron\"][\"detector\"]\n",
    "isr_analysis[\"2016\"][\"electron\"][\"detector\"].drawHistPlotComparison(electron_2017, electron_2018, nominator_name=\"Data_Measured\", denominator_name=\"Data_Measured\", \n",
    "                                                                                variables=[\"Pt_0\",\"Pt_1\",\"Pt_2\",\"Pt_3\",\"Pt_4\"], names=[\"2016\", \"2017\", \"2018\"], markers=[\"<\", \">\"], colors=[\"blue\", \"red\"],  \n",
    "                                                                                divde_by_bin_width = True, setLogy=True, setLogx=True, showMeanValue=False, ratio_max=1.15, ratio_min=0.85)\n",
    "\n",
    "electron_2017 = isr_analysis[\"2017\"][\"electron\"][\"DetUNFOLD\"]\n",
    "electron_2018 = isr_analysis[\"2018\"][\"electron\"][\"DetUNFOLD\"]\n",
    "isr_analysis[\"2016\"][\"electron\"][\"DetUNFOLD\"].drawHistPlotComparison(electron_2017, electron_2018, nominator_name=\"Data_Measured\", denominator_name=\"Data_Measured\", \n",
    "                                                                                variables=[\"Pt_0\",\"Pt_1\",\"Pt_2\",\"Pt_3\",\"Pt_4\"], names=[\"2016\", \"2017\", \"2018\"], markers=[\"<\", \">\"], colors=[\"blue\", \"red\"],  \n",
    "                                                                                divde_by_bin_width = True, setLogy=True, setLogx=True, showMeanValue=False, ratio_max=1.45, ratio_min=0.55)\n",
    "\n",
    "electron_2017 = isr_analysis[\"2017\"][\"electron\"][\"DetUNFOLD_Acceptance\"]\n",
    "electron_2018 = isr_analysis[\"2018\"][\"electron\"][\"DetUNFOLD_Acceptance\"]\n",
    "isr_analysis[\"2016\"][\"electron\"][\"DetUNFOLD_Acceptance\"].drawHistPlotComparison(electron_2017, electron_2018, nominator_name=\"Data_Measured\", denominator_name=\"Data_Measured\", \n",
    "                                                                                variables=[\"Pt_0\",\"Pt_1\",\"Pt_2\",\"Pt_3\",\"Pt_4\"], names=[\"2016\", \"2017\", \"2018\"], markers=[\"<\", \">\"], colors=[\"blue\", \"red\"],  \n",
    "                                                                                divde_by_bin_width = True, setLogy=True, setLogx=True, showMeanValue=False)\n",
    "\n",
    "electron_2017 = isr_analysis[\"2017\"][\"electron\"][\"FSRUNFOLD_Acceptance\"]\n",
    "electron_2018 = isr_analysis[\"2018\"][\"electron\"][\"FSRUNFOLD_Acceptance\"]\n",
    "isr_analysis[\"2016\"][\"electron\"][\"FSRUNFOLD_Acceptance\"].drawHistPlotComparison(electron_2017, electron_2018, nominator_name=\"Data_Measured\", denominator_name=\"Data_Measured\", \n",
    "                                                                                variables=[\"Pt_0\",\"Pt_1\",\"Pt_2\",\"Pt_3\",\"Pt_4\"], names=[\"2016\", \"2017\", \"2018\"], markers=[\"<\", \">\"], colors=[\"blue\", \"red\"],  \n",
    "                                                                                divde_by_bin_width = True, setLogy=True, setLogx=True, showMeanValue=False)"
   ]
  },
  {
   "cell_type": "code",
   "execution_count": null,
   "metadata": {},
   "outputs": [],
   "source": [
    "muon_2017 = isr_analysis[\"2017\"][\"muon\"][\"detector\"]\n",
    "muon_2018 = isr_analysis[\"2018\"][\"muon\"][\"detector\"]\n",
    "isr_analysis[\"2016\"][\"muon\"][\"detector\"].drawHistPlotComparison(muon_2017, muon_2018, nominator_name=\"Data_Measured\", denominator_name=\"Data_Measured\", \n",
    "                                                                                variables=[\"Pt_0\",\"Pt_1\",\"Pt_2\",\"Pt_3\",\"Pt_4\"], names=[\"2016\", \"2017\", \"2018\"], markers=[\"<\", \">\"], colors=[\"blue\", \"red\"],  \n",
    "                                                                                divde_by_bin_width = True, setLogy=True, setLogx=True, showMeanValue=False, ratio_max=1.25, ratio_min=0.75)\n",
    "\n",
    "muon_2017 = isr_analysis[\"2017\"][\"muon\"][\"DetUNFOLD\"]\n",
    "muon_2018 = isr_analysis[\"2018\"][\"muon\"][\"DetUNFOLD\"]\n",
    "isr_analysis[\"2016\"][\"muon\"][\"DetUNFOLD\"].drawHistPlotComparison(muon_2017, muon_2018, nominator_name=\"Data_Measured\", denominator_name=\"Data_Measured\", \n",
    "                                                                                variables=[\"Pt_0\",\"Pt_1\",\"Pt_2\",\"Pt_3\",\"Pt_4\"], names=[\"2016\", \"2017\", \"2018\"], markers=[\"<\", \">\"], colors=[\"blue\", \"red\"],  \n",
    "                                                                                divde_by_bin_width = True, setLogy=True, setLogx=True, showMeanValue=False, ratio_max=1.45, ratio_min=0.55)\n",
    "\n",
    "muon_2017 = isr_analysis[\"2017\"][\"muon\"][\"DetUNFOLD_Acceptance\"]\n",
    "muon_2018 = isr_analysis[\"2018\"][\"muon\"][\"DetUNFOLD_Acceptance\"]\n",
    "isr_analysis[\"2016\"][\"muon\"][\"DetUNFOLD_Acceptance\"].drawHistPlotComparison(muon_2017, muon_2018, nominator_name=\"Data_Measured\", denominator_name=\"Data_Measured\", \n",
    "                                                                                variables=[\"Pt_0\",\"Pt_1\",\"Pt_2\",\"Pt_3\",\"Pt_4\"], names=[\"2016\", \"2017\", \"2018\"], markers=[\"<\", \">\"], colors=[\"blue\", \"red\"],  \n",
    "                                                                                divde_by_bin_width = True, setLogy=True, setLogx=True, showMeanValue=False)\n",
    "\n",
    "muon_2017 = isr_analysis[\"2017\"][\"muon\"][\"FSRUNFOLD_Acceptance\"]\n",
    "muon_2018 = isr_analysis[\"2018\"][\"muon\"][\"FSRUNFOLD_Acceptance\"]\n",
    "isr_analysis[\"2016\"][\"muon\"][\"FSRUNFOLD_Acceptance\"].drawHistPlotComparison(muon_2017, muon_2018, nominator_name=\"Data_Measured\", denominator_name=\"Data_Measured\", \n",
    "                                                                                variables=[\"Pt_0\",\"Pt_1\",\"Pt_2\",\"Pt_3\",\"Pt_4\"], names=[\"2016\", \"2017\", \"2018\"], markers=[\"<\", \">\"], colors=[\"blue\", \"red\"],  \n",
    "                                                                                divde_by_bin_width = True, setLogy=True, setLogx=True, showMeanValue=False)"
   ]
  },
  {
   "cell_type": "code",
   "execution_count": null,
   "metadata": {},
   "outputs": [],
   "source": [
    "ee_data_dict_2016=isr_analysis[\"2016\"][\"muon\"][\"FSRUNFOLD_Acceptance\"].getDict(\"Data\")"
   ]
  },
  {
   "cell_type": "code",
   "execution_count": null,
   "metadata": {},
   "outputs": [],
   "source": [
    "test = ee_data_dict_2016[\"Mass\"][\"Data_Measured\"][\"refinedUnc\"].copy()"
   ]
  },
  {
   "cell_type": "code",
   "execution_count": null,
   "metadata": {},
   "outputs": [],
   "source": [
    "test.loc[:, \"content\":] = test.loc[:, \"content\":]/ee_data_dict_2016[\"Mass\"][\"Data_Measured\"][\"refinedUnc\"][\"content\"].sum()"
   ]
  },
  {
   "cell_type": "code",
   "execution_count": null,
   "metadata": {},
   "outputs": [],
   "source": [
    "test"
   ]
  },
  {
   "cell_type": "code",
   "execution_count": null,
   "metadata": {},
   "outputs": [],
   "source": [
    "isr_analysis[\"2016\"][\"muon\"][\"detector\"].drawISRPlots(isr_analysis[\"2017\"][\"muon\"][\"detector\"], isr_analysis[\"2018\"][\"muon\"][\"detector\"],\n",
    "                                                          names_in_objects=[\"Data\",\"Data\",\"Data\"], do_linear_fit=[False, False, False, False, False, False], \n",
    "                                                          labels=[\"2016 muon\", \"2017 muon\", \"2018 muon\"], marker=[\"o\",\"<\",\">\"], color_=[\"black\",\"blue\",\"red\"], ymin=16, ymax=35)"
   ]
  },
  {
   "cell_type": "code",
   "execution_count": null,
   "metadata": {},
   "outputs": [],
   "source": [
    "isr_analysis[\"2016\"][\"electron\"][\"detector\"].drawISRPlots(isr_analysis[\"2017\"][\"electron\"][\"detector\"], isr_analysis[\"2018\"][\"electron\"][\"detector\"],\n",
    "                                                          names_in_objects=[\"Data\",\"Data\",\"Data\"], do_linear_fit=[False, False, False, False, False, False], \n",
    "                                                          labels=[\"2016 electron\", \"2017 electron\", \"2018 electron\"], marker=[\"o\",\"<\",\">\"], color_=[\"black\",\"blue\",\"red\"], ymin=16, ymax=35)"
   ]
  },
  {
   "cell_type": "code",
   "execution_count": null,
   "metadata": {},
   "outputs": [],
   "source": [
    "isr_analysis[\"2016\"][\"muon\"][\"detector\"].drawISRPlots(isr_analysis[\"2017\"][\"muon\"][\"detector\"], isr_analysis[\"2018\"][\"muon\"][\"detector\"],\n",
    "                                                      names_in_objects=[\"DataBkgSub\",\"DataBkgSub\",\"DataBkgSub\"], do_linear_fit=[False, False, False], labels=[\"2016 muon\", \"2017 muon\", \"2018 muon\"])"
   ]
  },
  {
   "cell_type": "code",
   "execution_count": null,
   "metadata": {},
   "outputs": [],
   "source": [
    "isr_analysis[\"2016\"][\"electron\"][\"FSRUNFOLD_Acceptance\"].drawISRPlots(isr_analysis[\"2017\"][\"electron\"][\"FSRUNFOLD_Acceptance\"], isr_analysis[\"2018\"][\"electron\"][\"FSRUNFOLD_Acceptance\"],\n",
    "                                                      names_in_objects=[\"Data\",\"Data\",\"Data\"], do_linear_fit=[False, False, False], labels=[\"2016 electron\", \"2017 electron\", \"2018 electron\"])"
   ]
  },
  {
   "cell_type": "code",
   "execution_count": null,
   "metadata": {},
   "outputs": [],
   "source": [
    "isr_analysis[\"2016\"][\"muon\"][\"FSRUNFOLD_Acceptance\"].drawISRPlots(isr_analysis[\"2017\"][\"muon\"][\"FSRUNFOLD_Acceptance\"], isr_analysis[\"2018\"][\"muon\"][\"FSRUNFOLD_Acceptance\"],\n",
    "                                                      names_in_objects=[\"Data\",\"Data\",\"Data\"], do_linear_fit=[False, False, False], labels=[\"2016 muon\", \"2017 muon\", \"2018 muon\"])\n"
   ]
  },
  {
   "cell_type": "code",
   "execution_count": null,
   "metadata": {},
   "outputs": [],
   "source": [
    "isr_analysis[\"2016\"][\"electron\"][\"FSRUNFOLD_Acceptance\"].drawISRPlots(isr_analysis[\"2016\"][\"muon\"][\"FSRUNFOLD_Acceptance\"],\n",
    "                                                      names_in_objects=[\"Data\",\"Data\"], do_linear_fit=[True, True], labels=[\"2016 electron\", \"2016 muon\"])"
   ]
  },
  {
   "cell_type": "code",
   "execution_count": null,
   "metadata": {},
   "outputs": [],
   "source": [
    "isr_analysis[\"2017\"][\"electron\"][\"FSRUNFOLD_Acceptance\"].drawISRPlots(isr_analysis[\"2017\"][\"muon\"][\"FSRUNFOLD_Acceptance\"],\n",
    "                                                      names_in_objects=[\"Data\",\"Data\"], do_linear_fit=[True, True], labels=[\"2017 electron\", \"2017 muon\"])"
   ]
  },
  {
   "cell_type": "code",
   "execution_count": null,
   "metadata": {},
   "outputs": [],
   "source": [
    "isr_analysis[\"2018\"][\"electron\"][\"FSRUNFOLD_Acceptance\"].drawISRPlots(isr_analysis[\"2018\"][\"muon\"][\"FSRUNFOLD_Acceptance\"],\n",
    "                                                      names_in_objects=[\"Data\",\"Data\"], do_linear_fit=[True, True], labels=[\"2018 electron\", \"2018 muon\"])"
   ]
  },
  {
   "cell_type": "code",
   "execution_count": null,
   "metadata": {},
   "outputs": [],
   "source": [
    "isr_analysis[\"2016\"][\"electron\"][\"detector\"].drawISRPlots(isr_analysis[\"2016\"][\"electron\"][\"DetUNFOLD\"], isr_analysis[\"2016\"][\"electron\"][\"DetUNFOLD_Acceptance\"],\n",
    "                                                          isr_analysis[\"2016\"][\"electron\"][\"FSRUNFOLD\"], isr_analysis[\"2016\"][\"electron\"][\"FSRUNFOLD_Acceptance\"],\n",
    "                                                          names_in_objects=[\"DataBkgSub\",\"Data\",\"Data\",\"Data\",\"Data\"], do_linear_fit=[False, False, False, False, False], \n",
    "                                                          labels=[\"Detector\", \"Detector unfoled\", \"+ Efficiency\", \"FSR unfolded\", \"+ Acceptance\"],\n",
    "                                                          marker='o-')"
   ]
  },
  {
   "cell_type": "code",
   "execution_count": null,
   "metadata": {},
   "outputs": [],
   "source": [
    "isr_analysis[\"2016\"][\"muon\"][\"detector\"].drawISRPlots(isr_analysis[\"2016\"][\"muon\"][\"DetUNFOLD\"], isr_analysis[\"2016\"][\"muon\"][\"DetUNFOLD_Acceptance\"],\n",
    "                                                          isr_analysis[\"2016\"][\"muon\"][\"FSRUNFOLD\"], isr_analysis[\"2016\"][\"muon\"][\"FSRUNFOLD_Acceptance\"],\n",
    "                                                          names_in_objects=[\"DataBkgSub\",\"Data\",\"Data\",\"Data\",\"Data\"], do_linear_fit=[False, False, False, False, False], \n",
    "                                                          labels=[\"Detector\", \"Detector unfoled\", \"+ Efficiency\", \"FSR unfolded\", \"+ Acceptance\"],\n",
    "                                                          marker='o-')"
   ]
  },
  {
   "cell_type": "code",
   "execution_count": null,
   "metadata": {},
   "outputs": [],
   "source": [
    "data_dict=isr_analysis[\"2018\"][\"muon\"][\"FSRUNFOLD_Acceptance\"].getDict(\"Data\")\n",
    "mc_dict=isr_analysis[\"2018\"][\"muon\"][\"FSRUNFOLD_Acceptance\"].getDict(\"Signal\")\n",
    "\n",
    "data_dict_2016=isr_analysis[\"2016\"][\"muon\"][\"FSRUNFOLD_Acceptance\"].getDict(\"Data\")\n",
    "mc_dict_2016=isr_analysis[\"2016\"][\"muon\"][\"FSRUNFOLD_Acceptance\"].getDict(\"Signal\")\n",
    "\n",
    "data_dict_2017=isr_analysis[\"2017\"][\"muon\"][\"FSRUNFOLD_Acceptance\"].getDict(\"Data\")\n",
    "mc_dict_2017=isr_analysis[\"2017\"][\"muon\"][\"FSRUNFOLD_Acceptance\"].getDict(\"Signal\")"
   ]
  },
  {
   "cell_type": "code",
   "execution_count": null,
   "metadata": {},
   "outputs": [],
   "source": [
    "data_dict[\"Pt_4\"][\"Data_Measured\"]['refinedUnc']"
   ]
  },
  {
   "cell_type": "code",
   "execution_count": null,
   "metadata": {},
   "outputs": [],
   "source": [
    "data_dict_2016[\"Mass\"][\"Data_Measured\"]['refinedUnc_meanValue']['unfold_Down']/data_dict_2016[\"Mass\"][\"Data_Measured\"]['refinedUnc_meanValue']['mean'] * 100"
   ]
  },
  {
   "cell_type": "code",
   "execution_count": null,
   "metadata": {},
   "outputs": [],
   "source": [
    "data_dict_2016[\"Pt_1\"][\"Data_Measured\"]['refinedUnc_meanValue']['IdSF_Down']/data_dict_2016[\"Pt_1\"][\"Data_Measured\"]['refinedUnc_meanValue']['mean'] * 100"
   ]
  },
  {
   "cell_type": "code",
   "execution_count": null,
   "metadata": {},
   "outputs": [],
   "source": [
    "data_dict_2016[\"Pt_4\"][\"Data_Measured\"]['refinedUnc_meanValue'][\"fsr_Down\"]/data_dict_2016[\"Pt_4\"][\"Data_Measured\"]['refinedUnc_meanValue']['mean'] * 100"
   ]
  },
  {
   "cell_type": "code",
   "execution_count": null,
   "metadata": {},
   "outputs": [],
   "source": [
    "0.18282/25.068887*100"
   ]
  },
  {
   "cell_type": "code",
   "execution_count": null,
   "metadata": {},
   "outputs": [],
   "source": [
    "ee_data_dict_2016=isr_analysis[\"2016\"][\"electron\"][\"FSRUNFOLD_Acceptance\"].getDict(\"Data\")"
   ]
  },
  {
   "cell_type": "code",
   "execution_count": null,
   "metadata": {},
   "outputs": [],
   "source": [
    "ee_data_dict_2016[\"Pt_0\"][\"Data_Measured\"]['refinedUnc_meanValue']"
   ]
  },
  {
   "cell_type": "code",
   "execution_count": null,
   "metadata": {},
   "outputs": [],
   "source": [
    "0.23867/25.535478 * 100"
   ]
  },
  {
   "cell_type": "code",
   "execution_count": null,
   "metadata": {},
   "outputs": [],
   "source": [
    "0.047467/14.527543 * 100"
   ]
  },
  {
   "cell_type": "code",
   "execution_count": null,
   "metadata": {},
   "outputs": [],
   "source": []
  }
 ],
 "metadata": {
  "kernelspec": {
   "display_name": "Python 3",
   "language": "python",
   "name": "python3"
  },
  "language_info": {
   "codemirror_mode": {
    "name": "ipython",
    "version": 3
   },
   "file_extension": ".py",
   "mimetype": "text/x-python",
   "name": "python",
   "nbconvert_exporter": "python",
   "pygments_lexer": "ipython3",
   "version": "3.6.8"
  }
 },
 "nbformat": 4,
 "nbformat_minor": 4
}
