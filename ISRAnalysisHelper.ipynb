{
 "cells": [
  {
   "cell_type": "code",
   "execution_count": null,
   "metadata": {},
   "outputs": [],
   "source": [
    "import ROOT as rt\n",
    "from IPython.core.display import display, HTML\n",
    "display(HTML(\"<style>.container { width:100% !important; }</style>\"))"
   ]
  },
  {
   "cell_type": "code",
   "execution_count": null,
   "metadata": {},
   "outputs": [],
   "source": [
    "def getReweightSF(path, infile, outfile) :\n",
    "    \n",
    "    inputFilePath = path + \"/\" + infile\n",
    "    infile=rt.TFile.Open(inputFilePath, 'READ')\n",
    "    outfile = rt.TFile.Open(path + \"/\" + outfile, \"RECREATE\")\n",
    "    \n",
    "    unfoldInputHist_PT_MASS = infile.Get(\"folded/Pt/histo_UnfoldInput\")\n",
    "    projectedReco_PT_MASS = infile.Get(\"folded/Pt/histo_ProjectedReco\")\n",
    "    unfoldInputHist_PT_MASS.Divide(projectedReco_PT_MASS) \n",
    "    unfoldInputHist_PT_MASS.SetName(\"reweightSF_PT_MASS\")\n",
    "    \n",
    "    unfoldInputHist_MASS = infile.Get(\"folded/Mass/histo_UnfoldInput\")\n",
    "    projectedReco_MASS = infile.Get(\"folded/Mass/histo_ProjectedReco\")\n",
    "    unfoldInputHist_MASS.Divide(projectedReco_MASS) \n",
    "    unfoldInputHist_MASS.SetName(\"reweightSF_MASS\")\n",
    "    \n",
    "    outfile.cd()\n",
    "    unfoldInputHist_PT_MASS.Write()\n",
    "    unfoldInputHist_MASS.Write()\n",
    "    \n",
    "    outfile.Close()\n",
    "    infile.Close()\n",
    "    "
   ]
  },
  {
   "cell_type": "code",
   "execution_count": null,
   "metadata": {},
   "outputs": [],
   "source": [
    "year = \"2018\"\n",
    "channel = \"muon\"\n",
    "\n",
    "getReweightSF(\"/home/jhkim/ISR_Run2/unfolding/TUnfoldISR2016/output/\" + year + \"/\" + channel + \"_detector_dressedDRp1_extended\",\n",
    "              \"DetUNFOLD_\" + channel + \"_\" + year + \".root\", \"reweightSF.root\")"
   ]
  },
  {
   "cell_type": "code",
   "execution_count": null,
   "metadata": {},
   "outputs": [],
   "source": [
    "matrix_file = rt.TFile.Open(\"/home/jhkim/ISR_Run2/unfolding/TUnfoldISR2016/inFiles/2017/electron_detector_dressedDRp1/matrix/DY.root\", 'READ')\n",
    "matrix = matrix_file.Get(\"Detector_Dressed_DRp1_Fiducial/Pt_ResMatrix_FineCoarse/hmcPtGenRec\")"
   ]
  },
  {
   "cell_type": "code",
   "execution_count": null,
   "metadata": {},
   "outputs": [],
   "source": [
    "projectedReco = matrix.ProjectionY(\"histo_ProjectedReco\", 1, -1, \"e\")\n",
    "\n",
    "c = rt.TCanvas(\"canvas\",\"The Canvas Title\",800,600)\n",
    "projectedReco.Draw()\n",
    "c.Draw()\n"
   ]
  },
  {
   "cell_type": "code",
   "execution_count": null,
   "metadata": {},
   "outputs": [],
   "source": [
    "reweight_file = rt.TFile.Open(\"/home/jhkim/ISR_Run2/unfolding/TUnfoldISR2016/output/2017/electron_detector_dressedDRp1/reweightSF.root\")\n",
    "reweight = reweight_file.Get(\"reweightSF_PT_MASS\")\n",
    "\n"
   ]
  },
  {
   "cell_type": "code",
   "execution_count": null,
   "metadata": {},
   "outputs": [],
   "source": [
    "\n",
    "c = rt.TCanvas(\"reweight\",\"The Canvas Title\",800,600)\n",
    "reweight.Draw()\n",
    "c.Draw()\n",
    "\n"
   ]
  },
  {
   "cell_type": "code",
   "execution_count": null,
   "metadata": {},
   "outputs": [],
   "source": [
    "matrix_reweighted = matrix.Clone(\"matrix_reweighted\")\n",
    "\n",
    "for ybin in range(matrix.GetNbinsY()) : \n",
    "    \n",
    "    sf = reweight.GetBinContent(ybin)\n",
    "    for xbin in range(matrix.GetNbinsX()) :\n",
    "        temp_content = matrix.GetBinContent(xbin, ybin)\n",
    "        matrix_reweighted.SetBinContent(xbin, ybin, temp_content*sf)\n",
    "        "
   ]
  },
  {
   "cell_type": "code",
   "execution_count": null,
   "metadata": {},
   "outputs": [],
   "source": [
    "unfold_file = rt.TFile.Open(\"/home/jhkim/ISR_Run2/unfolding/TUnfoldISR2016/output/2017/electron_detector_dressedDRp1/DetUNFOLD_electron_2017.root\", \"READ\")\n",
    "unfold_input = unfold_file.Get(\"folded/Pt/histo_UnfoldInput\")"
   ]
  },
  {
   "cell_type": "code",
   "execution_count": null,
   "metadata": {},
   "outputs": [],
   "source": [
    "projectedReco_reweighted = matrix_reweighted.ProjectionY(\"histo_ProjectedReco\", 1, -1, \"e\")"
   ]
  },
  {
   "cell_type": "code",
   "execution_count": null,
   "metadata": {},
   "outputs": [],
   "source": [
    "c = rt.TCanvas(\"canvas_reweighted\",\"The Canvas Title\",800,600)\n",
    "c.SetLogy()\n",
    "projectedReco.Draw()\n",
    "projectedReco_reweighted.Draw(\"Same\")\n",
    "projectedReco_reweighted.SetLineColor(rt.kRed)\n",
    "print(projectedReco.Integral(), projectedReco_reweighted.Integral())\n",
    "unfold_input.SetMarkerStyle(11)\n",
    "unfold_input.Draw(\"SAME P\")\n",
    "c.Draw()\n"
   ]
  },
  {
   "cell_type": "code",
   "execution_count": null,
   "metadata": {},
   "outputs": [],
   "source": [
    "def readdir(file, outfile, inpath = \"\", outpath = \"\", new_hist_postfix = \"\", target_postfix = \"\", new_target_postfix = None, only_hist = True) :\n",
    "    print(\"readir called....\")\n",
    "    dirSave = file.GetDirectory(inpath)\n",
    "    keys = dirSave.GetListOfKeys() \n",
    "    \n",
    "    for key in keys :\n",
    "        if key.IsFolder() :\n",
    "            print(\"folder: \" , key.GetName())\n",
    "            if inpath == \"\" :\n",
    "                out_dir = key.GetName()\n",
    "                \n",
    "                if new_hist_postfix != \"\" and new_hist_postfix in out_dir :\n",
    "                    temp_list = out_dir.split(\"_\")\n",
    "                    temp_list.remove(new_hist_postfix)\n",
    "                    out_dir = \"_\".join(temp_list) \n",
    "                \n",
    "                print(\"creat a directory... \", out_dir)\n",
    "                outfile.mkdir(out_dir)\n",
    "                readdir(file, outfile, \n",
    "                        key.GetName() + \"/\", out_dir + \"/\", \n",
    "                        new_hist_postfix, target_postfix, new_target_postfix, only_hist)\n",
    "            else :\n",
    "                \n",
    "                out_dir = key.GetName()\n",
    "                \n",
    "                if new_hist_postfix != \"\" and new_hist_postfix in out_dir :\n",
    "                    out_dir = \"_\".join(out_dir.split(\"_\")[:-1]) #\n",
    "                    \n",
    "                print(\"creat a directory... \", outpath + out_dir + \"/\")\n",
    "                outfile.mkdir(outpath + out_dir + \"/\")\n",
    "                readdir(file, outfile, \n",
    "                        inpath + key.GetName() + \"/\", outpath + out_dir + \"/\", \n",
    "                        new_hist_postfix, target_postfix, new_target_postfix, only_hist)\n",
    "            continue\n",
    "            \n",
    "        temp_obj = file.Get(inpath + \"/\" + key.GetName()) \n",
    "        \n",
    "        if type(temp_obj) == rt.TH1D or type(temp_obj) == rt.TH2D:\n",
    "            if new_hist_postfix != \"\" :\n",
    "                print(\"Histogram \", key.GetName(), type(temp_obj))\n",
    "                temp_obj.SetName(key.GetName() + \"_\" + new_hist_postfix)\n",
    "                outfile.cd(outpath)\n",
    "                temp_obj.Write()\n",
    "            else :\n",
    "                if target_postfix in key.GetName() :\n",
    "                    outfile.cd(outpath)\n",
    "                    if new_target_postfix != None :\n",
    "                        temp_obj.SetName(\"_\".join(key.GetName().split(\"_\")[:-1]))\n",
    "                    temp_obj.Write()\n",
    "        else :\n",
    "            if only_hist == False :\n",
    "                outfile.cd(outpath)\n",
    "                temp_obj.Write()\n",
    "    "
   ]
  },
  {
   "cell_type": "code",
   "execution_count": null,
   "metadata": {},
   "outputs": [],
   "source": [
    "# For lepton momentum correction\n",
    "\n",
    "channel = \"electron\"\n",
    "\n",
    "\n",
    "inputHistFilePath = \"./inFiles/2016/\" + channel + \"_detector_dressedDRp1_extended_v2/input/unfold_input_raw_NoLepMomCorr\"\n",
    "file=rt.TFile.Open(inputHistFilePath + \".root\", 'READ')\n",
    "ofile = rt.TFile.Open(inputHistFilePath + \"_new.root\", \"RECREATE\")\n",
    "#readdir(file, ofile, \"\", \"\", dir1 + dir2)\n",
    "readdir(file, ofile, \"\", \"\", \"\", \"NoLepMomCorr\",\"\", False)\n",
    "ofile.Close()\n",
    "\n"
   ]
  },
  {
   "cell_type": "code",
   "execution_count": null,
   "metadata": {},
   "outputs": [],
   "source": [
    "# For lepton momentum correction\n",
    "prefix_list = [\"LepMomScale\", \"LepMomRes\"]\n",
    "postfix_list = [\"Up\", \"Down\"]\n",
    "channel = \"electron\"\n",
    "year = \"2016\"\n",
    "\n",
    "for dir1 in prefix_list :\n",
    "    for dir2 in postfix_list :\n",
    "        inputHistFilePath = \"./inFiles/\" + year + \"/\" + channel + \"_detector_preFSR/input/unfold_input\" + dir1 + dir2\n",
    "        file=rt.TFile.Open(inputHistFilePath + \".root\", 'READ')\n",
    "        ofile = rt.TFile.Open(inputHistFilePath + \"_new.root\", \"RECREATE\")\n",
    "        #readdir(file, ofile, \"\", \"\", dir1 + dir2)\n",
    "        readdir(file, ofile, \"\", \"\", \"\")\n",
    "        ofile.Close()"
   ]
  },
  {
   "cell_type": "code",
   "execution_count": null,
   "metadata": {},
   "outputs": [],
   "source": [
    "# For lepton momentum correction\n",
    "prefix_list = [\"LepMomScale\", \"LepMomRes\"]\n",
    "postfix_list = [\"Up\", \"Down\"]\n",
    "\n",
    "for dir1 in prefix_list :\n",
    "    for dir2 in postfix_list :\n",
    "        inputHistFilePath = \"./inFiles/\" + year + \"/\" + channel + \"_detector_preFSR/matrix/unfold_matrix_v2\" + dir1 + dir2\n",
    "        file=rt.TFile.Open(inputHistFilePath + \".root\", 'READ')\n",
    "        ofile = rt.TFile.Open(inputHistFilePath + \"_new.root\", \"RECREATE\")\n",
    "        readdir(file, ofile, \"\", \"\", \"\")\n",
    "        ofile.Close()"
   ]
  },
  {
   "cell_type": "code",
   "execution_count": null,
   "metadata": {},
   "outputs": [],
   "source": []
  },
  {
   "cell_type": "code",
   "execution_count": null,
   "metadata": {},
   "outputs": [],
   "source": [
    "channel = \"muon\"\n",
    "year = \"2018\"\n",
    "\n",
    "inputHistFilePath = \"./inFiles/\" + year + \"/\" + channel + \"_detector_preFSR/input/\"\n",
    "file = rt.TFile.Open(inputHistFilePath + \"unfold_input_pdf.root\", \"READ\")\n",
    "ofile = rt.TFile.Open(inputHistFilePath + \"unfold_input_pdf_new.root\", \"RECREATE\")\n",
    "\n",
    "readdir(file, ofile, \"\", \"\", \"\", \"PDF\")\n",
    "ofile.Close()"
   ]
  },
  {
   "cell_type": "code",
   "execution_count": null,
   "metadata": {},
   "outputs": [],
   "source": [
    "channel = \"muon\"\n",
    "year = \"2018\"\n",
    "\n",
    "inputHistFilePath = \"./inFiles/\" + year + \"/\" + channel + \"_detector_preFSR/matrix/\"\n",
    "file = rt.TFile.Open(inputHistFilePath + \"DY_pdf.root\", \"READ\")\n",
    "ofile = rt.TFile.Open(inputHistFilePath + \"DY_pdf_new.root\", \"RECREATE\")\n",
    "\n",
    "readdir(file, ofile, \"\", \"\", \"\", \"PDF\")\n",
    "ofile.Close()\n"
   ]
  },
  {
   "cell_type": "code",
   "execution_count": null,
   "metadata": {},
   "outputs": [],
   "source": [
    "\n",
    "inputHistFilePath = \"./inFiles/\" + year + \"/\" + channel + \"_detector_dressedDRp1_extended/matrix/\"\n",
    "file = rt.TFile.Open(inputHistFilePath + \"DY_FSR_pdf.root\", \"READ\")\n",
    "ofile = rt.TFile.Open(inputHistFilePath + \"DY_FSR_pdf_new.root\", \"RECREATE\")\n",
    "\n",
    "readdir(file, ofile, \"\", \"\", \"\", \"PDF\")\n",
    "ofile.Close()\n"
   ]
  },
  {
   "cell_type": "code",
   "execution_count": null,
   "metadata": {},
   "outputs": [],
   "source": [
    "\n",
    "inputHistFilePath = \"./inFiles/\"+ year + \"/\" + channel + \"_detector_preFSR/efficiency/\"\n",
    "file =  rt.TFile.Open(inputHistFilePath + \"acceptance_dRp1_pdf.root\", \"READ\")\n",
    "ofile = rt.TFile.Open(inputHistFilePath + \"acceptance_dRp1_pdf_new.root\", \"RECREATE\")\n",
    "\n",
    "readdir(file, ofile, \"\", \"\", \"\", \"PDF\")\n",
    "ofile.Close()"
   ]
  },
  {
   "cell_type": "code",
   "execution_count": null,
   "metadata": {},
   "outputs": [],
   "source": [
    "# For lepton momentum correction\n",
    "prefix_list = [\"LepMomScale\"]\n",
    "postfix_list = [\"Up\", \"Down\"]\n",
    "year = \"2017\"\n",
    "\n",
    "for dir1 in prefix_list :\n",
    "    for dir2 in postfix_list :\n",
    "        inputHistFilePath = \"./inFiles/\" + year + \"/muon_detector_preFSR/input/unfold_input\" + dir1 + dir2\n",
    "        file=rt.TFile.Open(inputHistFilePath + \".root\", 'READ')\n",
    "        ofile = rt.TFile.Open(inputHistFilePath + \"_new.root\", \"RECREATE\")\n",
    "        #readdir(file, ofile, \"\", \"\", dir1 + dir2)\n",
    "        readdir(file, ofile, \"\", \"\", \"\")\n",
    "        ofile.Close()"
   ]
  },
  {
   "cell_type": "code",
   "execution_count": null,
   "metadata": {},
   "outputs": [],
   "source": [
    "# For lepton momentum correction\n",
    "prefix_list = [\"LepMomScale\"]\n",
    "postfix_list = [\"Up\", \"Down\"]\n",
    "\n",
    "for dir1 in prefix_list :\n",
    "    for dir2 in postfix_list :\n",
    "        inputHistFilePath = \"./inFiles/\" + year + \"/muon_detector_preFSR/matrix/unfold_matrix_v2\" + dir1 + dir2\n",
    "        file=rt.TFile.Open(inputHistFilePath + \".root\", 'READ')\n",
    "        ofile = rt.TFile.Open(inputHistFilePath + \"_new.root\", \"RECREATE\")\n",
    "        readdir(file, ofile, \"\", \"\", \"\")\n",
    "        ofile.Close()"
   ]
  },
  {
   "cell_type": "code",
   "execution_count": null,
   "metadata": {},
   "outputs": [],
   "source": []
  }
 ],
 "metadata": {
  "kernelspec": {
   "display_name": "Python 3 (ipykernel)",
   "language": "python",
   "name": "python3"
  },
  "language_info": {
   "codemirror_mode": {
    "name": "ipython",
    "version": 3
   },
   "file_extension": ".py",
   "mimetype": "text/x-python",
   "name": "python",
   "nbconvert_exporter": "python",
   "pygments_lexer": "ipython3",
   "version": "3.8.8"
  }
 },
 "nbformat": 4,
 "nbformat_minor": 4
}
