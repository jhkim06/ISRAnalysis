{
 "cells": [
  {
   "cell_type": "code",
   "execution_count": 1,
   "metadata": {
    "scrolled": true
   },
   "outputs": [
    {
     "name": "stdout",
     "output_type": "stream",
     "text": [
      "Welcome to JupyROOT 6.14/04\n"
     ]
    }
   ],
   "source": [
    "import ISRAnalysis as an\n",
    "import sys"
   ]
  },
  {
   "cell_type": "markdown",
   "metadata": {},
   "source": [
    "# unfolding"
   ]
  },
  {
   "cell_type": "code",
   "execution_count": 2,
   "metadata": {},
   "outputs": [],
   "source": [
    "binDef = (\"FineCoarse\", \"FineCoarse\") # pt-mass, mass bin\n",
    "channel = \"electron\"\n",
    "channel_postfix = \"detector_preFSR\"\n",
    "#channel_postfix = \"detector_dressedDRp1_extended_v2\"\n",
    "year = \"2017\"\n",
    "doSys = False\n",
    "\n",
    "# FIXME Unfolding conditions\n",
    "regularisation_mode = 0\n",
    "doInputStat = False\n",
    "doRMStat = False\n",
    "doModelUnc = False\n",
    "\n",
    "ignoreBinZero = True\n",
    "\n",
    "# Redirect stdout nd stderr\n",
    "sys.stderr = open(\"./log/stderr_\"+channel+\"_\"+year+\".txt\", \"w\")\n",
    "sys.stdout = open(\"./log/stdout_\"+channel+\"_\"+year+\".txt\", \"w\")\n",
    "\n",
    "detUnfold = an.ISRAnalysis(\"DetUNFOLD\", year, channel, regularisation_mode, doInputStat, doRMStat, ignoreBinZero, \"matrix\", \n",
    "                           \"Detector_Dressed_DRp1_Fiducial\", binDef, channel_postfix, doModelUnc)\n",
    "\n",
    "# Closure tests\n",
    "detUnfold_closure = an.ISRAnalysis(\"DetUNFOLD_Closure\", year, channel, regularisation_mode, True, doRMStat, ignoreBinZero, \"matrix\", \n",
    "                           \"Detector_Dressed_DRp1_Fiducial\", binDef, channel_postfix, doModelUnc)"
   ]
  },
  {
   "cell_type": "code",
   "execution_count": 3,
   "metadata": {},
   "outputs": [],
   "source": [
    "#detUnfold.checkMatrixCond()"
   ]
  },
  {
   "cell_type": "code",
   "execution_count": 4,
   "metadata": {},
   "outputs": [],
   "source": [
    "# Nominal\n",
    "detUnfold.setInputHist(useMCInput=False, unfoldObj=None, dirName=\"Detector\")\n",
    "#detUnfold_closure.setInputHist(useMCInput=True, unfoldObj=None, dirName=\"Detector\")"
   ]
  },
  {
   "cell_type": "code",
   "execution_count": 5,
   "metadata": {},
   "outputs": [],
   "source": [
    "detUnfold.setUnfoldBkgs(dirName=\"Detector\")"
   ]
  },
  {
   "cell_type": "code",
   "execution_count": 6,
   "metadata": {},
   "outputs": [],
   "source": [
    "detUnfold.subFake() # Subract DY fake (out of fiducial volume at gen level), subUnfoldFake()"
   ]
  },
  {
   "cell_type": "code",
   "execution_count": 7,
   "metadata": {},
   "outputs": [],
   "source": [
    "if doSys == True:\n",
    "    \n",
    "    PDF_sys_list = [\"PDFerror{:0>3}\".format(str(i)) for i in range(1,101)]\n",
    "    \n",
    "    if channel == \"muon\" :\n",
    "            \n",
    "        systematics = {\n",
    "            \"Type_2\": [\"IdSFUp\", \"IdSFDown\", \"IsoSFUp\",\"IsoSFDown\", \"trgSFUp\", \"trgSFDown\", \"PUUp\", \"PUDown\", \n",
    "                       \"bvetoUp\", \"bvetoDown\", \n",
    "                       \"ScaleABUp\", \"ScaleABDown\", \"ScaleAUp\", \"ScaleADown\", \"ScaleBUp\", \"ScaleBDown\", \n",
    "                       \"AlphaSUp\", \"AlphaSDown\",\n",
    "                       \"LepMomScaleUp\",\"LepMomScaleDown\"\n",
    "                      ],\n",
    "        }\n",
    "        systematics[\"Type_2\"] += PDF_sys_list\n",
    "    \n",
    "    if channel == \"electron\" :\n",
    "        \n",
    "        \n",
    "            # 1. Input distribution 2. Background distribution 3. Response matrix\n",
    "            # \n",
    "            # Type 1: Change input(data) and background histogram and response matrix (ex. Lepton scale)\n",
    "            # Type 2: Change background histograms and response matrix (ex. Lepton ID SF)\n",
    "            # Type 3: Change only background histotrams (Background normalization)\n",
    "            # Type 4: Only response matrix changes (ex. Unfolding model systematic or statistics)\n",
    "            # Type 5: Only unfolding setting changes (for unfolding mode, etc)\n",
    "            #\n",
    "            # Lets make a dictionary for all the systematics, and then select for the specific data year\n",
    "            \n",
    "            systematics = {\n",
    "            \"Type_2\": [\"IdSFUp\", \"IdSFDown\", \"recoSFUp\",\"recoSFDown\", \"trgSFUp\", \"trgSFDown\", \"PUUp\", \"PUDown\", \n",
    "                       \"bvetoUp\", \"bvetoDown\", \n",
    "                       \"ScaleABUp\", \"ScaleABDown\", \"ScaleAUp\", \"ScaleADown\", \"ScaleBUp\", \"ScaleBDown\", \n",
    "                       \"AlphaSUp\", \"AlphaSDown\",\n",
    "                       #\"L1PrefireUp\", \"L1PrefireDown\",\n",
    "                       \"LepMomScaleUp\",\"LepMomScaleDown\",\"LepMomResUp\",\"LepMomResDown\"],\n",
    "                       \n",
    "            }\n",
    "            systematics[\"Type_2\"] += PDF_sys_list\n",
    "            \n",
    "    for sysType, sysNames in systematics.items():\n",
    "        for sysName in sysNames:\n",
    "            #print(sysName)\n",
    "            detUnfold.setSystematics(sysType, sysName) # Currently, response matrix set here\n",
    "            \n",
    "            detUnfold.setInputHist(False, None, \"Detector\", sysType, sysName)\n",
    "            detUnfold.setUnfoldBkgs(\"Detector\", sysType, sysName) \n",
    "            detUnfold.subFake(\"Detector_DY_Fake\", sysType, sysName)\n",
    "            "
   ]
  },
  {
   "cell_type": "code",
   "execution_count": 8,
   "metadata": {},
   "outputs": [],
   "source": [
    "#detUnfold.checkMatrixCond()"
   ]
  },
  {
   "cell_type": "code",
   "execution_count": 9,
   "metadata": {},
   "outputs": [],
   "source": [
    "detUnfold.doUnfold() # nominal unfold\n",
    "#detUnfold_closure.doUnfold()"
   ]
  },
  {
   "cell_type": "code",
   "execution_count": null,
   "metadata": {},
   "outputs": [],
   "source": [
    "detUnfold.closeOutFiles()"
   ]
  },
  {
   "cell_type": "code",
   "execution_count": null,
   "metadata": {},
   "outputs": [],
   "source": [
    "detUnfold.doAcceptance(isFSR=False, outName=\"DetEfficienyCorr\", useMassBinned=True)\n",
    "detUnfold.closeOutFiles()\n",
    "detUnfold.combineOutFiles()\n",
    "\n",
    "#detUnfold_closure.closeOutFiles()\n",
    "#detUnfold_closure.combineOutFiles()"
   ]
  }
 ],
 "metadata": {
  "kernelspec": {
   "display_name": "Python 3",
   "language": "python",
   "name": "python3"
  },
  "language_info": {
   "codemirror_mode": {
    "name": "ipython",
    "version": 3
   },
   "file_extension": ".py",
   "mimetype": "text/x-python",
   "name": "python",
   "nbconvert_exporter": "python",
   "pygments_lexer": "ipython3",
   "version": "3.8.8"
  }
 },
 "nbformat": 4,
 "nbformat_minor": 4
}
