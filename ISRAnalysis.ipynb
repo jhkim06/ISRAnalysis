{
 "cells": [
  {
   "cell_type": "code",
   "execution_count": 1,
   "metadata": {
    "scrolled": true
   },
   "outputs": [
    {
     "name": "stdout",
     "output_type": "stream",
     "text": [
      "Welcome to JupyROOT 6.14/04\n"
     ]
    }
   ],
   "source": [
    "import ISRAnalysis as an"
   ]
  },
  {
   "cell_type": "code",
   "execution_count": 2,
   "metadata": {},
   "outputs": [
    {
     "data": {
      "text/html": [
       "<style>.container { width:100% !important; }</style>"
      ],
      "text/plain": [
       "<IPython.core.display.HTML object>"
      ]
     },
     "metadata": {},
     "output_type": "display_data"
    }
   ],
   "source": [
    "from IPython.core.display import display, HTML\n",
    "display(HTML(\"<style>.container { width:100% !important; }</style>\"))\n",
    "import sys"
   ]
  },
  {
   "cell_type": "markdown",
   "metadata": {},
   "source": [
    "# Unfolding for detector (up to dressed lepton level) "
   ]
  },
  {
   "cell_type": "code",
   "execution_count": 3,
   "metadata": {},
   "outputs": [],
   "source": [
    "binDef = (\"FineCoarse\", \"FineCoarse\") # pt-mass, mass bin\n",
    "channel = \"electron\"\n",
    "#channel_postfix = \"detector_dressedDRp1\"\n",
    "channel_postfix = \"detector_dressedDRp1_extended\"\n",
    "year = \"2016\"\n",
    "doSys = True\n",
    "regularisation_mode = 0\n",
    "doInputStat = True\n",
    "doRMStat = True\n",
    "doModelUnc = True\n",
    "ignoreBinZero = True\n",
    "\n",
    "# Redirect stdout nd stderr\n",
    "sys.stderr = open(\"./log/stderr_\"+channel+\"_\"+year+\".txt\", \"w\")\n",
    "sys.stdout = open(\"./log/stdout_\"+channel+\"_\"+year+\".txt\", \"w\")\n",
    "\n",
    "detUnfold = an.ISRAnalysis(\"DetUNFOLD\", year, channel, regularisation_mode, doInputStat, doRMStat, ignoreBinZero, \"matrix\", \n",
    "                           \"Detector_Dressed_DRp1_Fiducial\", binDef, channel_postfix, doModelUnc)\n",
    "\n",
    "# Closure tests\n",
    "detUnfold_closure = an.ISRAnalysis(\"DetUNFOLD_Closure\", year, channel, regularisation_mode, doInputStat, doRMStat, ignoreBinZero, \"matrix\", \n",
    "                           \"Detector_Dressed_DRp1_Fiducial\", binDef, channel_postfix, doModelUnc)\n",
    "\n",
    "detUnfold_closure_2 = an.ISRAnalysis(\"DetUNFOLD_Closure_2\", year, channel, regularisation_mode, doInputStat, doRMStat, ignoreBinZero, \"matrix\", \n",
    "                           \"Detector_Dressed_DRp1_Fiducial\", binDef, channel_postfix, doModelUnc)"
   ]
  },
  {
   "cell_type": "code",
   "execution_count": 4,
   "metadata": {},
   "outputs": [],
   "source": [
    "# Nominal\n",
    "detUnfold.setInputHist(useMCInput=False, unfoldObj=None, dirName=\"Detector\")\n",
    "detUnfold_closure.setInputHist(useMCInput=True, unfoldObj=None, dirName=\"Detector\")\n",
    "detUnfold_closure_2.setInputHist(useMCInput=True, unfoldObj=None, dirName=\"Detector\")"
   ]
  },
  {
   "cell_type": "code",
   "execution_count": 5,
   "metadata": {},
   "outputs": [],
   "source": [
    "detUnfold.setUnfoldBkgs(dirName=\"Detector\")"
   ]
  },
  {
   "cell_type": "code",
   "execution_count": 6,
   "metadata": {},
   "outputs": [],
   "source": [
    "detUnfold.subFake() # Subract DY fake (out of fiducial volume at gen level), subUnfoldFake()\n",
    "detUnfold_closure.subFake()\n",
    "detUnfold_closure_2.subFake()"
   ]
  },
  {
   "cell_type": "code",
   "execution_count": 7,
   "metadata": {},
   "outputs": [],
   "source": [
    "if doSys == True:\n",
    "    \n",
    "    PDF_sys_list = [\"PDFerror{:0>3}\".format(str(i)) for i in range(1,101)]\n",
    "    \n",
    "    if channel == \"muon\" :\n",
    "            \n",
    "        systematics = {\n",
    "            \"Type_2\": [\"IdSFUp\", \"IdSFDown\", \"IsoSFUp\",\"IsoSFDown\", \"trgSFUp\", \"trgSFDown\", \"PUUp\", \"PUDown\", \"bvetoUp\", \"bvetoDown\", \n",
    "                       \"ScaleABUp\", \"ScaleABDown\", \"ScaleAUp\", \"ScaleADown\", \"ScaleBUp\", \"ScaleBDown\",\n",
    "                       \"LepMomScaleUp\",\"LepMomScaleDown\"],\n",
    "        }\n",
    "        systematics[\"Type_2\"] += PDF_sys_list\n",
    "    \n",
    "    if channel == \"electron\" :\n",
    "        \n",
    "            # 1. Input distribution 2. Background distribution 3. Response matrix\n",
    "            # \n",
    "            # Type 1: Change input(data) and background histogram and response matrix (ex. Lepton scale)\n",
    "            # Type 2: Change background histograms and response matrix (ex. Lepton ID SF)\n",
    "            # Type 3: Change only background histotrams (Background normalization)\n",
    "            # Type 4: Only response matrix changes (ex. Unfolding model systematic or statistics)\n",
    "            # Type 5: Only unfolding setting changes (for unfolding mode, etc)\n",
    "            #\n",
    "            # Lets make a dictionary for all the systematics, and then select for the specific data year\n",
    "            \n",
    "            \n",
    "            systematics = {\n",
    "            \"Type_2\": [\"IdSFUp\", \"IdSFDown\", \"recoSFUp\",\"recoSFDown\", \"trgSFUp\", \"trgSFDown\", \"PUUp\", \"PUDown\", \"bvetoUp\", \"bvetoDown\", \n",
    "                       \"ScaleABUp\", \"ScaleABDown\", \"ScaleAUp\", \"ScaleADown\", \"ScaleBUp\", \"ScaleBDown\", \n",
    "                       #\"L1PrefireUp\", \"L1PrefireDown\",\n",
    "                       \"LepMomScaleUp\",\"LepMomScaleDown\",\"LepMomResUp\",\"LepMomResDown\"],\n",
    "            }\n",
    "            systematics[\"Type_2\"] += PDF_sys_list\n",
    "            \n",
    "    for sysType, sysNames in systematics.items():\n",
    "        for sysName in sysNames:\n",
    "            print(sysName)\n",
    "            detUnfold.setSystematics(sysType, sysName) # Currently, response matrix set here\n",
    "            \n",
    "            detUnfold.setInputHist(False, None, \"Detector\", sysType, sysName)\n",
    "            detUnfold.setUnfoldBkgs(\"Detector\", sysType, sysName) \n",
    "            detUnfold.subFake(\"Detector_DY_Fake\", sysType, sysName)\n",
    "            \n",
    "            if sysName == \"unfoldIterEM\" or sysName == \"UnfoldingModel\" :\n",
    "                \n",
    "                detUnfold_closure.setSystematics(sysType, sysName) # Currently, response matrix set here\n",
    "                \n",
    "                detUnfold_closure.setInputHist(True, None, \"Detector\", sysType, sysName)\n",
    "                detUnfold_closure.subFake(\"Detector_DY_Fake\", sysType, sysName)\n",
    "                "
   ]
  },
  {
   "cell_type": "code",
   "execution_count": 8,
   "metadata": {},
   "outputs": [],
   "source": [
    "#detUnfold.checkMatrixCond()"
   ]
  },
  {
   "cell_type": "code",
   "execution_count": 9,
   "metadata": {},
   "outputs": [],
   "source": [
    "detUnfold.doUnfold() # nominal unfold\n",
    "detUnfold_closure.doUnfold()\n",
    "detUnfold_closure_2.doUnfold()"
   ]
  },
  {
   "cell_type": "code",
   "execution_count": 10,
   "metadata": {},
   "outputs": [],
   "source": [
    "detUnfold.doAcceptance(isFSR=False, outName=\"DetEfficienyCorr\")\n",
    "detUnfold.closeOutFiles()\n",
    "detUnfold.combineOutFiles()\n",
    "\n",
    "detUnfold_closure.closeOutFiles()\n",
    "detUnfold_closure.combineOutFiles()\n",
    "\n",
    "detUnfold_closure_2.closeOutFiles()\n",
    "detUnfold_closure_2.combineOutFiles()"
   ]
  },
  {
   "cell_type": "markdown",
   "metadata": {},
   "source": [
    "# Unfolding for QED FSR"
   ]
  },
  {
   "cell_type": "code",
   "execution_count": 11,
   "metadata": {},
   "outputs": [],
   "source": [
    "binDef = (\"CoarseCoarse\", \"CoarseCoarse\")\n",
    "phase_space = \"Fiducial\"\n",
    "#channel = \"electron\"\n",
    "#year = \"2016\"\n",
    "#doSys = True\n",
    "regularisation_mode = 0\n",
    "doInputStat = True\n",
    "doRMStat = True\n",
    "\n",
    "fsrUnfold = an.ISRAnalysis(\"FSRUNFOLD\", year, channel, regularisation_mode, doInputStat, doRMStat, False, \"matrix_fsr\", \n",
    "                                     \"Dressed_DRp1_Dressed_DR4PI_\"+phase_space, binDef, channel_postfix, doModelUnc)\n",
    "\n",
    "fsrUnfold_closure = an.ISRAnalysis(\"FSRUNFOLD_Closure\", year, channel, regularisation_mode, doInputStat, doRMStat, False, \"matrix_fsr\", \n",
    "                                     \"Dressed_DRp1_Dressed_DR4PI_\"+phase_space, binDef, channel_postfix, doModelUnc)"
   ]
  },
  {
   "cell_type": "code",
   "execution_count": 12,
   "metadata": {},
   "outputs": [],
   "source": [
    "fsrUnfold.setInputHist(useMCInput=False, unfoldObj = detUnfold, isFSR=True) # Set nominal input using previous unfolding result\n",
    "fsrUnfold_closure.setInputHist(useMCInput=True, unfoldObj=None, isFSR=True, dirName=\"Acceptance\", inputBinDef=(\"FineCoarse\", \"FineCoarse\"))"
   ]
  },
  {
   "cell_type": "code",
   "execution_count": 13,
   "metadata": {},
   "outputs": [],
   "source": [
    "fsrUnfold.subFake(dirName=\"Dressed_DRp1_DY_Fake\", isFSR=True, inputBinDef=(\"FineCoarse\", \"FineCoarse\"))\n",
    "fsrUnfold_closure.subFake(dirName=\"Dressed_DRp1_DY_Fake\", isFSR=True, inputBinDef=(\"FineCoarse\", \"FineCoarse\"))"
   ]
  },
  {
   "cell_type": "code",
   "execution_count": 14,
   "metadata": {},
   "outputs": [],
   "source": [
    "#fsrUnfold.drawResponseM(\"Pt\")\n",
    "#fsrUnfold.drawResponseM(\"Mass\")\n",
    "\n",
    "#fsrUnfold.checkMatrixCond()"
   ]
  },
  {
   "cell_type": "code",
   "execution_count": 15,
   "metadata": {},
   "outputs": [],
   "source": [
    "'''\n",
    "Use output from the previous unfold, and use systematic RM\n",
    "'''\n",
    "if doSys :\n",
    "    #fsr_systematics = {\n",
    "    #                   \"Scale\":[\"ScaleABUp\", \"ScaleABDown\", \"ScaleAUp\", \"ScaleADown\", \"ScaleBUp\", \"ScaleBDown\"], \n",
    "    #                   \"AlphaS\":[\"AlphaSUp\", \"AlphaSDown\"],\n",
    "    #                   #\"PDF\":[\"PDFerror{:0>3}\".format(str(i)) for i in range(1,101)],\n",
    "    #                   \"Unfolding\": [\"unfoldIterEM\"],\n",
    "    #                   #\"FSR\": [\"fsrPHOTOS\",\"fsrPYTHIA\"],\n",
    "    #}\n",
    "    fsr_systematics = {\n",
    "        \"Type_1\": [\"ScaleABUp\", \"ScaleABDown\", \"ScaleAUp\", \"ScaleADown\", \"ScaleBUp\", \"ScaleBDown\"],\n",
    "        \"Type_4\": [\"fsrPHOTOS\", \"fsrPYTHIA\"],    \n",
    "    }\n",
    "    fsr_systematics[\"Type_1\"] += PDF_sys_list\n",
    "    \n",
    "    for sysType, sysNames in fsr_systematics.items():\n",
    "        for sysName in sysNames:\n",
    "            print(sysName)\n",
    "            fsrUnfold.setSystematics(sysType, sysName, True) # Create TUnfoldDensity objects for systematics\n",
    "            #\n",
    "            fsrUnfold.setInputHist(False, detUnfold, \"\", sysType, sysName, isFSR=True)# \n",
    "            fsrUnfold.subFake(dirName=\"Dressed_DRp1_DY_Fake\", sys_type=sysType, sys_name=sysName, isFSR=True, inputBinDef=(\"FineCoarse\", \"FineCoarse\"))"
   ]
  },
  {
   "cell_type": "code",
   "execution_count": 16,
   "metadata": {},
   "outputs": [],
   "source": [
    "# Use output from the previous unfold, and use default RM\n",
    "fsrUnfold.setFromPreviousUnfold(detUnfold) # Set using previous unfolding result for systematics"
   ]
  },
  {
   "cell_type": "code",
   "execution_count": 17,
   "metadata": {},
   "outputs": [],
   "source": [
    "if doSys:\n",
    "    for _, sysNames in systematics.items():\n",
    "        for sysName in sysNames:\n",
    "            \n",
    "            skip_systematic = False\n",
    "            for sysType, _ in fsr_systematics.items():\n",
    "                if sysName in fsr_systematics[sysType] :\n",
    "                    skip_systematic = True\n",
    "                    break\n",
    "            if skip_systematic : continue\n",
    "                \n",
    "            fsrUnfold.subFake(dirName=\"Dressed_DRp1_DY_Fake\", sys_type=\"Type_5\", sys_name=sysName, isFSR=True, inputBinDef=(\"FineCoarse\", \"FineCoarse\"))"
   ]
  },
  {
   "cell_type": "code",
   "execution_count": 18,
   "metadata": {},
   "outputs": [],
   "source": [
    "fsrUnfold.doUnfold() # do nominal unfold\n",
    "fsrUnfold_closure.doUnfold() # do nominal unfold"
   ]
  },
  {
   "cell_type": "markdown",
   "metadata": {},
   "source": [
    "# Acceptance correction "
   ]
  },
  {
   "cell_type": "code",
   "execution_count": 19,
   "metadata": {},
   "outputs": [],
   "source": [
    "fsrUnfold.doAcceptance(isFSR=True)"
   ]
  },
  {
   "cell_type": "code",
   "execution_count": 20,
   "metadata": {},
   "outputs": [],
   "source": [
    "fsrUnfold.closeOutFiles()\n",
    "fsrUnfold.combineOutFiles()"
   ]
  },
  {
   "cell_type": "code",
   "execution_count": 21,
   "metadata": {},
   "outputs": [],
   "source": [
    "fsrUnfold_closure.closeOutFiles()\n",
    "fsrUnfold_closure.combineOutFiles()"
   ]
  }
 ],
 "metadata": {
  "kernelspec": {
   "display_name": "Python 3",
   "language": "python",
   "name": "python3"
  },
  "language_info": {
   "codemirror_mode": {
    "name": "ipython",
    "version": 3
   },
   "file_extension": ".py",
   "mimetype": "text/x-python",
   "name": "python",
   "nbconvert_exporter": "python",
   "pygments_lexer": "ipython3",
   "version": "3.8.8"
  }
 },
 "nbformat": 4,
 "nbformat_minor": 4
}
