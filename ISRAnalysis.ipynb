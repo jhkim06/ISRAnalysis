{
 "cells": [
  {
   "cell_type": "code",
   "execution_count": 1,
   "metadata": {
    "scrolled": true
   },
   "outputs": [
    {
     "name": "stdout",
     "output_type": "stream",
     "text": [
      "Welcome to JupyROOT 6.14/04\n"
     ]
    }
   ],
   "source": [
    "import ISRAnalysis as an"
   ]
  },
  {
   "cell_type": "code",
   "execution_count": 2,
   "metadata": {},
   "outputs": [
    {
     "data": {
      "text/html": [
       "<style>.container { width:100% !important; }</style>"
      ],
      "text/plain": [
       "<IPython.core.display.HTML object>"
      ]
     },
     "metadata": {},
     "output_type": "display_data"
    }
   ],
   "source": [
    "from IPython.core.display import display, HTML\n",
    "display(HTML(\"<style>.container { width:100% !important; }</style>\"))\n",
    "import sys"
   ]
  },
  {
   "cell_type": "markdown",
   "metadata": {},
   "source": [
    "# Unfolding for detector (up to dressed lepton level) "
   ]
  },
  {
   "cell_type": "code",
   "execution_count": 3,
   "metadata": {
    "scrolled": false
   },
   "outputs": [],
   "source": [
    "binDef = \"FineCoarse\"\n",
    "channel = \"electron\"\n",
    "year = \"2016\"\n",
    "doSys = True\n",
    "regularisation_mode = 0\n",
    "doInputStat = True\n",
    "doRMStat = True\n",
    "\n",
    "# Redirect STDOUT and STDERR\n",
    "sys.stderr = open(\"./log/stderr_\"+channel+\"_\"+year+\".txt\", \"w\")\n",
    "sys.stdout = open(\"./log/stdout_\"+channel+\"_\"+year+\".txt\", \"w\")\n",
    "\n",
    "detUnfold = an.ISRAnalysis(\"DetUNFOLD\", year, channel, regularisation_mode, doInputStat, doRMStat, \"matrix\", \n",
    "                           \"Detector_Dressed_DRp1_Fiducial\", binDef, \"\")"
   ]
  },
  {
   "cell_type": "code",
   "execution_count": 4,
   "metadata": {
    "scrolled": false
   },
   "outputs": [],
   "source": [
    "# Nominal\n",
    "detUnfold.setInputHist(useMCInput=False, unfoldObj=None, dirName=\"Detector\")"
   ]
  },
  {
   "cell_type": "code",
   "execution_count": 5,
   "metadata": {},
   "outputs": [],
   "source": [
    "detUnfold.setUnfoldBkgs(dirName=\"Detector\")"
   ]
  },
  {
   "cell_type": "code",
   "execution_count": 6,
   "metadata": {},
   "outputs": [],
   "source": [
    "detUnfold.subFake() # Subract DY fake (out of fiducial volume at gen level)"
   ]
  },
  {
   "cell_type": "code",
   "execution_count": 7,
   "metadata": {
    "scrolled": false
   },
   "outputs": [],
   "source": [
    "if doSys == True:\n",
    "    if channel == \"muon\" :\n",
    "        systematics = {\n",
    "                       \"ID\": [\"IdSFUp\", \"IdSFDown\"], \n",
    "                       \"ISO\":[\"IsoSFUp\", \"IsoSFDown\"], \n",
    "                       \"TRG\":[\"trgSFUp\", \"trgSFDown\"], \n",
    "                       \"L1Prefie\":[\"L1PrefireUp\",\"L1PrefireDown\"], \n",
    "                       \"PU\": [\"PUUp\", \"PUDown\"],\n",
    "                       \"Bveto\":     [\"bvetoUp\", \"bvetoDown\"],\n",
    "                       #\"#ZptCorr\": [\"ZpTCorrected\", \"Nominal\"], # use different matrix file\n",
    "                       #\"LepScale\": [\"LepScaleUp\", \"LepScaleDown\"],\n",
    "                       \"Unfolding\": [\"unfoldIterEM\", \"unfoldNominal\"],\n",
    "                       \"Scale\":[\"ScaleABUp\", \"ScaleABDown\", \"ScaleAUp\", \"ScaleADown\", \"ScaleBUp\", \"ScaleBDown\"], \n",
    "                       \"AlphaS\":[\"AlphaSUp\", \"AlphaSDown\"],\n",
    "                       \"PDF\":[\"PDFerror{:0>3}\".format(str(i)) for i in range(1,101)],\n",
    "                       #\"Background\": [\"NormUp\", \"NormDown\"],\n",
    "                       }\n",
    "    \n",
    "    if channel == \"electron\" :\n",
    "        \n",
    "            # 1. Input distribution 2. Background distribution 3. Response matrix\n",
    "            # \n",
    "            # Type 1: Change input(data) and background histogram and response matrix (ex. Lepton scale)\n",
    "            # Type 2: Change background histograms and response matrix (ex. Lepton ID SF)\n",
    "            # Type 3: Change only background histotrams (Background normalization)\n",
    "            # Type 4: Only response matrix changes (ex. Unfolding model systematic or statistics)\n",
    "            # Type 5: Only unfolding setting changes (for unfolding mode, etc)\n",
    "            #\n",
    "            # Lets make a dictionary for all the systematics, and then select for the specific data year\n",
    "            \n",
    "            \n",
    "            systematics = {\n",
    "            \"Type_2\": [\"IdSFUp\", \"IdSFDown\", \"recoSFUp\",\"recoSFDown\", \"trgSFUp\", \"trgSFDown\", \"PUUp\", \"PUDown\", \"bvetoUp\", \"bvetoDown\", \n",
    "                       \"ScaleABUp\", \"ScaleABDown\", \"ScaleAUp\", \"ScaleADown\", \"ScaleBUp\", \"ScaleBDown\"],\n",
    "            \"Type_4\": [\"UnfoldingModel\"]\n",
    "            }\n",
    "            ''' \n",
    "            systematics = {\n",
    "                       \"ID\":        [\"IdSFUp\", \"IdSFDown\"],\n",
    "                       \"Reco\":      [\"recoSFUp\",\"recoSFDown\"], \n",
    "                       \"TRG\":       [\"trgSFUp\", \"trgSFDown\"], \n",
    "                       #\"TRGDZ\":       [\"trgSFDZUp\", \"trgSFDZDown\"],\n",
    "                       \"L1Prefie\":  [\"L1PrefireUp\",\"L1PrefireDown\"], \n",
    "                       \"PU\":        [\"PUUp\", \"PUDown\"],\n",
    "                       \"Bveto\":     [\"bvetoUp\", \"bvetoDown\"],\n",
    "                       #\"Background\": [\"NormUp\", \"NormDown\"],\n",
    "                       #\"ZptCorr\": [\"ZpTCorrected\", \"Nominal\"],\n",
    "                       #\"LepScale\": [\"LepScaleUp\", \"LepScaleDown\"],\n",
    "                       #\"LepRes\": [\"LepResUp\", \"LepResDown\"],\n",
    "                       #\"Unfolding\":  [\"unfoldIterEM\"],\n",
    "                       \"Scale\":      [\"ScaleABUp\", \"ScaleABDown\", \"ScaleAUp\", \"ScaleADown\", \"ScaleBUp\", \"ScaleBDown\"], \n",
    "                       \"AlphaS\":     [\"AlphaSUp\", \"AlphaSDown\"],\n",
    "                       #\"PDF\":        [\"PDFerror{:0>3}\".format(str(i)) for i in range(1,101)],\n",
    "        }\n",
    "        '''\n",
    "    \n",
    "    for sysType, sysNames in systematics.items():\n",
    "        for sysName in sysNames:\n",
    "            \n",
    "            detUnfold.setSystematics(sysType, sysName) # Currently, response matrix set here\n",
    "            \n",
    "            detUnfold.setInputHist(False, None, \"Detector\", sysType, sysName)\n",
    "            detUnfold.setUnfoldBkgs(\"Detector\", sysType, sysName) \n",
    "            detUnfold.subFake(\"Detector_DY_Fake\", sysType, sysName)"
   ]
  },
  {
   "cell_type": "code",
   "execution_count": 8,
   "metadata": {},
   "outputs": [],
   "source": [
    "detUnfold.checkMatrixCond()"
   ]
  },
  {
   "cell_type": "code",
   "execution_count": 9,
   "metadata": {},
   "outputs": [],
   "source": [
    "detUnfold.doUnfold() # nominal unfold"
   ]
  },
  {
   "cell_type": "code",
   "execution_count": 10,
   "metadata": {
    "scrolled": false
   },
   "outputs": [],
   "source": [
    "detUnfold.doAcceptance(isFSR=False, outName=\"DetEfficienyCorr\")\n",
    "detUnfold.closeOutFiles()\n",
    "detUnfold.combineOutFiles()\n",
    "# Combine pt and mass output root files"
   ]
  },
  {
   "cell_type": "markdown",
   "metadata": {},
   "source": [
    "# Unfolding for QED FSR"
   ]
  },
  {
   "cell_type": "code",
   "execution_count": null,
   "metadata": {
    "scrolled": false
   },
   "outputs": [],
   "source": [
    "binDef = \"CoarseCoarse\"\n",
    "phase_space = \"Fiducial\"\n",
    "\n",
    "fsrUnfold = an.ISRAnalysis(\"FSRUNFOLD\", year, channel, 0, True, \"fsr_matrix\", \n",
    "                                     \"Dressed_DRp1_Dressed_DR4PI_\"+phase_space, \"Dressed_DRp1_Dressed_DR4PI\", binDef, \"\")"
   ]
  },
  {
   "cell_type": "code",
   "execution_count": null,
   "metadata": {},
   "outputs": [],
   "source": [
    "fsrUnfold.setInputHist(isSys=False, unfoldObj=detUnfold) # Set nominal input using previous unfolding result\n",
    "fsrUnfold.subFake(isSys=False, dirName=\"Dressed_DRp1_DY_Fake\", sysName=\"Nominal\", isFSR=True)"
   ]
  },
  {
   "cell_type": "code",
   "execution_count": null,
   "metadata": {},
   "outputs": [],
   "source": [
    "#fsrUnfold.drawResponseM(\"Pt\")\n",
    "#fsrUnfold.drawResponseM(\"Mass\")\n",
    "\n",
    "fsrUnfold.checkMatrixCond()"
   ]
  },
  {
   "cell_type": "code",
   "execution_count": null,
   "metadata": {},
   "outputs": [],
   "source": [
    "if doSys :\n",
    "    fsr_systematics = {\n",
    "                       \"Scale\":[\"ScaleABUp\", \"ScaleABDown\", \"ScaleAUp\", \"ScaleADown\", \"ScaleBUp\", \"ScaleBDown\"], \n",
    "                       \"AlphaS\":[\"AlphaSUp\", \"AlphaSDown\"],\n",
    "                       #\"PDF\":[\"PDFerror{:0>3}\".format(str(i)) for i in range(1,101)],\n",
    "                       \"Unfolding\": [\"unfoldIterEM\"],\n",
    "                       #\"FSR\": [\"fsrPHOTOS\",\"fsrPYTHIA\"],\n",
    "    }\n",
    "    \n",
    "    for sysName, postfixs in fsr_systematics.items():\n",
    "        for postfix in postfixs:\n",
    "            fsrUnfold.setSystematics(sysName, postfix, True) # Create TUnfoldDensity objects for systematics\n",
    "            \n",
    "            if \"FSR\" in sysName:\n",
    "                fsrUnfold.setInputHist(False, detUnfold, \"\", True, sysName, postfix)\n",
    "                fsrUnfold.subFake(True, \"Dressed_DRp1_DY_Fake\", sysName, postfix, postfix, True)"
   ]
  },
  {
   "cell_type": "code",
   "execution_count": null,
   "metadata": {
    "scrolled": false
   },
   "outputs": [],
   "source": [
    "fsrUnfold.setFromPreviousUnfold(detUnfold) # Set using previous unfolding result for systematics"
   ]
  },
  {
   "cell_type": "code",
   "execution_count": null,
   "metadata": {},
   "outputs": [],
   "source": [
    "if doSys:\n",
    "    for sysName, postfixs in systematics.items():\n",
    "        for postfix in postfixs:\n",
    "            fsrUnfold.subFake(True, \"Dressed_DRp1_DY_Fake\", sysName, postfix, \"\", True)"
   ]
  },
  {
   "cell_type": "code",
   "execution_count": null,
   "metadata": {},
   "outputs": [],
   "source": [
    "fsrUnfold.doUnfold() # do nominal unfold"
   ]
  },
  {
   "cell_type": "code",
   "execution_count": null,
   "metadata": {},
   "outputs": [],
   "source": [
    "#fsrUnfold.doStatUnfold() # NOTE: doStatUnfold() must be done after setMeanValues() and before any other processes"
   ]
  },
  {
   "cell_type": "markdown",
   "metadata": {},
   "source": [
    "# Acceptance correction "
   ]
  },
  {
   "cell_type": "code",
   "execution_count": null,
   "metadata": {
    "scrolled": false
   },
   "outputs": [],
   "source": [
    "fsrUnfold.doAcceptance(isFSR=True)"
   ]
  },
  {
   "cell_type": "code",
   "execution_count": null,
   "metadata": {},
   "outputs": [],
   "source": [
    "fsrUnfold.closeOutFiles()\n",
    "fsrUnfold.combineOutFiles()"
   ]
  }
 ],
 "metadata": {
  "kernelspec": {
   "display_name": "Python 3",
   "language": "python",
   "name": "python3"
  },
  "language_info": {
   "codemirror_mode": {
    "name": "ipython",
    "version": 3
   },
   "file_extension": ".py",
   "mimetype": "text/x-python",
   "name": "python",
   "nbconvert_exporter": "python",
   "pygments_lexer": "ipython3",
   "version": "3.6.8"
  }
 },
 "nbformat": 4,
 "nbformat_minor": 4
}
