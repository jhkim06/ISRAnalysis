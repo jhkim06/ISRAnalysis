{
 "cells": [
  {
   "cell_type": "code",
   "execution_count": 1,
   "metadata": {
    "scrolled": true
   },
   "outputs": [
    {
     "name": "stdout",
     "output_type": "stream",
     "text": [
      "Welcome to JupyROOT 6.14/04\n"
     ]
    }
   ],
   "source": [
    "import ISRAnalysis as an"
   ]
  },
  {
   "cell_type": "code",
   "execution_count": 2,
   "metadata": {},
   "outputs": [
    {
     "data": {
      "text/html": [
       "<style>.container { width:100% !important; }</style>"
      ],
      "text/plain": [
       "<IPython.core.display.HTML object>"
      ]
     },
     "metadata": {},
     "output_type": "display_data"
    }
   ],
   "source": [
    "from IPython.core.display import display, HTML\n",
    "display(HTML(\"<style>.container { width:100% !important; }</style>\"))\n",
    "\n",
    "import sys"
   ]
  },
  {
   "cell_type": "markdown",
   "metadata": {},
   "source": [
    "# Unfolding for detector (up to dressed lepton level) "
   ]
  },
  {
   "cell_type": "code",
   "execution_count": 3,
   "metadata": {
    "scrolled": false
   },
   "outputs": [],
   "source": [
    "binDef = \"_FineCoarse\"\n",
    "channel = \"electron\"\n",
    "year = \"2016\"\n",
    "doSys = True\n",
    "regularisation_mode = 0\n",
    "\n",
    "# Redirect STDOUT and STDERR\n",
    "sys.stderr = open(\"./log/stderr_\"+channel+\"_\"+year+\".txt\", \"w\")\n",
    "sys.stdout = open(\"./log/stdout_\"+channel+\"_\"+year+\".txt\", \"w\")\n",
    "\n",
    "detUnfold = an.ISRAnalysis(\"DetUNFOLD\", year, channel, regularisation_mode, False, \"matrix\", \n",
    "                                     \"Detector_Dressed_DRp1_Fiducial\", \"Detector_Dressed_DRp1\", binDef)\n"
   ]
  },
  {
   "cell_type": "code",
   "execution_count": 4,
   "metadata": {
    "scrolled": false
   },
   "outputs": [],
   "source": [
    "# Nominal\n",
    "detUnfold.setInputHist(False, False, None, \"Detector\")\n",
    "detUnfold.setUnfoldBkgs(False, \"Detector\")\n",
    "detUnfold.subFake() # Subract DY fake (out of fiducial volume at gen level)\n",
    "#detUnfold_muon_2016.subFake(False, \"detector_level_DY_Fake\") # Subract DY fake (out of fiducial volume at gen level)"
   ]
  },
  {
   "cell_type": "code",
   "execution_count": 5,
   "metadata": {
    "scrolled": false
   },
   "outputs": [],
   "source": [
    "if doSys == True:\n",
    "    if channel == \"muon\" :\n",
    "        systematics = {\n",
    "                       \"ID\":[\"IdSFUp\", \"IdSFDown\"], \n",
    "                       \"ISO\":[\"IsoSFUp\", \"IsoSFDown\"], \n",
    "                       \"TRG\":[\"trgSFUp\", \"trgSFDown\"], \n",
    "                       #\"L1Prefie\":[\"L1PrefireUp\",\"L1PrefireDown\"], \n",
    "                       \"PU\":[\"PUUp\", \"PUDown\"],\n",
    "                       #\"#ZptCorr\": [\"ZpTCorrected\", \"Nominal\"], # use different matrix file\n",
    "                       #\"LepScale\": [\"LepScaleUp\", \"LepScaleDown\"],\n",
    "                       \"Unfolding\": [\"unfoldIterEM\", \"unfoldNominal\"],\n",
    "                       \"Scale\":[\"ScaleABUp\", \"ScaleABDown\", \"ScaleAUp\", \"ScaleADown\", \"ScaleBUp\", \"ScaleBDown\"], \n",
    "                       \"AlphaS\":[\"AlphaSUp\", \"AlphaSDown\"],\n",
    "                       \"PDF\":[\"PDFerror{:0>3}\".format(str(i)) for i in range(1,101)],\n",
    "                       #\"Background\": [\"NormUp\", \"NormDown\"],\n",
    "                       }\n",
    "    \n",
    "    if channel == \"electron\" :\n",
    "        systematics = {\n",
    "                       \"ID\":[\"IdSFUp\", \"IdSFDown\"],\n",
    "                       \"Reco\":[\"recoSFUp\",\"recoSFDown\"], \n",
    "                       \"TRG\":[\"trgSFUp\", \"trgSFDown\"], \n",
    "                       \"L1Prefie\":[\"L1PrefireUp\",\"L1PrefireDown\"], \n",
    "                       \"PU\":[\"PUUp\", \"PUDown\"],\n",
    "                       #\"ZptCorr\": [\"ZpTCorrected\", \"Nominal\"],\n",
    "                       #\"LepScale\": [\"LepScaleUp\", \"LepScaleDown\"],\n",
    "                       #\"LepRes\": [\"LepResUp\", \"LepResDown\"],\n",
    "                       \"Unfolding\": [\"unfoldIterEM\", \"unfoldNominal\"],\n",
    "                       \"Scale\":[\"ScaleABUp\", \"ScaleABDown\", \"ScaleAUp\", \"ScaleADown\", \"ScaleBUp\", \"ScaleBDown\"], \n",
    "                       \"AlphaS\":[\"AlphaSUp\", \"AlphaSDown\"],\n",
    "                       \"PDF\":[\"PDFerror{:0>3}\".format(str(i)) for i in range(1,101)],\n",
    "                       \"Background\": [\"NormUp\", \"NormDown\"],\n",
    "                        }\n",
    "    \n",
    "    for sysName, postfixs in systematics.items():\n",
    "        for postfix in postfixs:\n",
    "            detUnfold.setSystematics(sysName, postfix)\n",
    "            #print(sysName + \" \" + postfix)\n",
    "            detUnfold.setInputHist(False, False, None, \"Detector\", True, sysName, postfix)\n",
    "            detUnfold.setUnfoldBkgs(True, \"Detector\", sysName, postfix) #Combine Bkgs and Fake?\n",
    "            histpostfix = postfix\n",
    "            if sysName == \"Unfolding\" or \"LepScale\" in sysName or \"LepRes\" in sysName:\n",
    "                histpostfix = \"\"\n",
    "            detUnfold.subFake(True, \"Detector_DY_Fake\", sysName, postfix, histpostfix)\n",
    "            #detUnfold_.subFake(True, \"detector_level_DY_Fake\", sysName, postfix, histpostfix)"
   ]
  },
  {
   "cell_type": "code",
   "execution_count": 6,
   "metadata": {},
   "outputs": [
    {
     "data": {
      "text/plain": [
       "<ROOT.TVectorT<double> object (\"TVectorT<double>\") at 0xb23b5f8>"
      ]
     },
     "execution_count": 6,
     "metadata": {},
     "output_type": "execute_result"
    }
   ],
   "source": [
    "#detUnfold.drawResponseM(\"Pt\")\n",
    "#detUnfold.drawResponseM(\"Mass\")\n",
    "\n",
    "detUnfold.checkMatrixCond()"
   ]
  },
  {
   "cell_type": "code",
   "execution_count": 7,
   "metadata": {},
   "outputs": [],
   "source": [
    "detUnfold.doUnfold() # nominal unfold\n",
    "if doSys:\n",
    "    detUnfold.doUnfold(doSys)"
   ]
  },
  {
   "cell_type": "code",
   "execution_count": 8,
   "metadata": {
    "scrolled": false
   },
   "outputs": [],
   "source": [
    "detUnfold.doAcceptance(doSys, False, \"DetEfficienyCorr\")"
   ]
  },
  {
   "cell_type": "markdown",
   "metadata": {},
   "source": [
    "# Unfolding for QED FSR"
   ]
  },
  {
   "cell_type": "code",
   "execution_count": 9,
   "metadata": {
    "scrolled": false
   },
   "outputs": [],
   "source": [
    "binDef = \"_CoarseCoarse\"\n",
    "phase_space = \"Fiducial\"\n",
    "\n",
    "fsrUnfold = an.ISRAnalysis(\"FSRUNFOLD\", year, channel, 0, True, \"fsr_matrix\", \n",
    "                                     \"Dressed_DRp1_Dressed_DR4PI_\"+phase_space, \"Dressed_DRp1_Dressed_DR4PI\", binDef)"
   ]
  },
  {
   "cell_type": "code",
   "execution_count": 10,
   "metadata": {},
   "outputs": [],
   "source": [
    "fsrUnfold.setInputHist(False, True, detUnfold) # Set nominal input using previous unfolding result\n",
    "fsrUnfold.subFake(False, \"Dressed_DRp1_DY_Fake\", \"Nominal\", \"\", \"\", True)"
   ]
  },
  {
   "cell_type": "code",
   "execution_count": 11,
   "metadata": {},
   "outputs": [
    {
     "data": {
      "text/plain": [
       "<ROOT.TVectorT<double> object (\"TVectorT<double>\") at 0x15507c68>"
      ]
     },
     "execution_count": 11,
     "metadata": {},
     "output_type": "execute_result"
    }
   ],
   "source": [
    "#fsrUnfold.drawResponseM(\"Pt\")\n",
    "#fsrUnfold.drawResponseM(\"Mass\")\n",
    "\n",
    "fsrUnfold.checkMatrixCond()"
   ]
  },
  {
   "cell_type": "code",
   "execution_count": 12,
   "metadata": {},
   "outputs": [],
   "source": [
    "if doSys :\n",
    "    fsr_systematics = {\n",
    "                       \"Scale\":[\"ScaleABUp\", \"ScaleABDown\", \"ScaleAUp\", \"ScaleADown\", \"ScaleBUp\", \"ScaleBDown\"], \"AlphaS\":[\"AlphaSUp\", \"AlphaSDown\"],\n",
    "                       \"PDF\":[\"PDFerror{:0>3}\".format(str(i)) for i in range(1,101)],\n",
    "                       \"Unfolding\": [\"unfoldIterEM\", \"unfoldNominal\"],\n",
    "                       \"FSR\": [\"fsrPHOTOS\",\"fsrPYTHIA\"],\n",
    "    }\n",
    "    \n",
    "    for sysName, postfixs in fsr_systematics.items():\n",
    "        for postfix in postfixs:\n",
    "            fsrUnfold.setSystematics(sysName, postfix, True) # Create TUnfoldDensity objects for systematics\n",
    "            \n",
    "            if \"FSR\" in sysName:\n",
    "                fsrUnfold.setInputHist(False, True, detUnfold, \"\", True, sysName, postfix)\n",
    "                fsrUnfold.subFake(True, \"Dressed_DRp1_DY_Fake\", sysName, postfix, postfix, True)"
   ]
  },
  {
   "cell_type": "code",
   "execution_count": 13,
   "metadata": {
    "scrolled": false
   },
   "outputs": [],
   "source": [
    "fsrUnfold.setFromPreviousUnfold(detUnfold) # Set using previous unfolding result for systematics"
   ]
  },
  {
   "cell_type": "code",
   "execution_count": 14,
   "metadata": {},
   "outputs": [],
   "source": [
    "if doSys:\n",
    "    for sysName, postfixs in systematics.items():\n",
    "        for postfix in postfixs:\n",
    "            fsrUnfold.subFake(True, \"Dressed_DRp1_DY_Fake\", sysName, postfix, \"\", True)"
   ]
  },
  {
   "cell_type": "code",
   "execution_count": 15,
   "metadata": {},
   "outputs": [],
   "source": [
    "fsrUnfold.doUnfold() # do nominal unfold\n",
    "if doSys : \n",
    "    fsrUnfold.doUnfold(doSys) # do unfold for systematic"
   ]
  },
  {
   "cell_type": "code",
   "execution_count": 16,
   "metadata": {},
   "outputs": [],
   "source": [
    "fsrUnfold.doStatUnfold() # NOTE: doStatUnfold() must be done after setMeanValues() and before any other processes\n",
    "                                   # Don't know why exactly..."
   ]
  },
  {
   "cell_type": "markdown",
   "metadata": {},
   "source": [
    "# Acceptance correction "
   ]
  },
  {
   "cell_type": "code",
   "execution_count": 17,
   "metadata": {
    "scrolled": false
   },
   "outputs": [],
   "source": [
    "fsrUnfold.doAcceptance(doSys, True)"
   ]
  },
  {
   "cell_type": "code",
   "execution_count": null,
   "metadata": {},
   "outputs": [],
   "source": []
  }
 ],
 "metadata": {
  "kernelspec": {
   "display_name": "Python 3",
   "language": "python",
   "name": "python3"
  },
  "language_info": {
   "codemirror_mode": {
    "name": "ipython",
    "version": 3
   },
   "file_extension": ".py",
   "mimetype": "text/x-python",
   "name": "python",
   "nbconvert_exporter": "python",
   "pygments_lexer": "ipython3",
   "version": "3.6.8"
  }
 },
 "nbformat": 4,
 "nbformat_minor": 4
}
